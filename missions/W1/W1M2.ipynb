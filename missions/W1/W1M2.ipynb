{
 "cells": [
  {
   "cell_type": "code",
   "execution_count": 1,
   "id": "f18d41e5-2891-4c04-9b4a-53594fafd7c5",
   "metadata": {},
   "outputs": [],
   "source": [
    "import sqlite3"
   ]
  },
  {
   "cell_type": "code",
   "execution_count": 2,
   "id": "49eb9e15-ca90-410b-8abd-f70cfb9fb7eb",
   "metadata": {},
   "outputs": [],
   "source": [
    "conn = sqlite3.connect(\"sqlite1.db\")"
   ]
  },
  {
   "cell_type": "code",
   "execution_count": 3,
   "id": "0d889a54-5551-4b76-bdd8-d8aa27827dc4",
   "metadata": {},
   "outputs": [],
   "source": [
    "cursor = conn.cursor()"
   ]
  },
  {
   "cell_type": "code",
   "execution_count": 4,
   "id": "b0bc3c73-9f49-49b7-b3ce-d582a3e91a86",
   "metadata": {},
   "outputs": [
    {
     "data": {
      "text/plain": [
       "<sqlite3.Cursor at 0x11a2bc1c0>"
      ]
     },
     "execution_count": 4,
     "metadata": {},
     "output_type": "execute_result"
    }
   ],
   "source": [
    "cursor.execute('''\n",
    "    CREATE TABLE IF NOT EXISTS users(\n",
    "        id INTEGER PRIMARY KEY AUTOINCREMENT,\n",
    "        name TEXT NOT NULL,\n",
    "        age INTEGER NOT NULL\n",
    "    )\n",
    "''')"
   ]
  },
  {
   "cell_type": "code",
   "execution_count": 5,
   "id": "4e66cdb3-bbad-4f5d-bda9-ead83c48c4ae",
   "metadata": {},
   "outputs": [],
   "source": [
    "conn.commit()"
   ]
  },
  {
   "cell_type": "code",
   "execution_count": 6,
   "id": "52b8f33c-e8d0-423b-8274-7fcc0591bdd6",
   "metadata": {},
   "outputs": [],
   "source": [
    "cursor.close()\n",
    "conn.close()"
   ]
  },
  {
   "cell_type": "code",
   "execution_count": 7,
   "id": "cabc3eb0-b1d1-4490-986e-6cf15b1d8cff",
   "metadata": {},
   "outputs": [],
   "source": [
    "conn = sqlite3.connect(\"sqlite1.db\")\n",
    "cursor = conn.cursor()"
   ]
  },
  {
   "cell_type": "code",
   "execution_count": 8,
   "id": "34f50f36-50b1-4536-8ae3-36f28e1dbf37",
   "metadata": {},
   "outputs": [],
   "source": [
    "try:\n",
    "    cursor.execute(\"INSERT INTO users (name, age) VALUES (?, ?)\", ('Alice', 20))\n",
    "    cursor.execute(\"INSERT INTO users (name, age) VALUES (?, ?)\", ('Bob', 25))\n",
    "    cursor.execute(\"INSERT INTO users (name, age) VALUES (?, ?)\", ('Charlie', 35))\n",
    "    conn.commit()\n",
    "except Exception as e:\n",
    "    conn.rollback()\n",
    "    print(e)\n",
    "finally:\n",
    "    cursor.close()\n",
    "    conn.close()"
   ]
  },
  {
   "cell_type": "code",
   "execution_count": 9,
   "id": "64f6a14a-8fa6-4561-8286-c3b145e4b157",
   "metadata": {},
   "outputs": [],
   "source": [
    "conn = sqlite3.connect(\"sqlite1.db\")\n",
    "cursor = conn.cursor()"
   ]
  },
  {
   "cell_type": "code",
   "execution_count": 10,
   "id": "d9187ccf-f216-41cd-90ae-b268d1cafd5d",
   "metadata": {},
   "outputs": [],
   "source": [
    "data = [('John', 30), ('Jane', 25), ('Mike', 40)]"
   ]
  },
  {
   "cell_type": "code",
   "execution_count": 11,
   "id": "081a5ccb-8a93-4ec0-9a84-f4f9f98877da",
   "metadata": {},
   "outputs": [
    {
     "data": {
      "text/plain": [
       "[('John', 30), ('Jane', 25), ('Mike', 40)]"
      ]
     },
     "execution_count": 11,
     "metadata": {},
     "output_type": "execute_result"
    }
   ],
   "source": [
    "data"
   ]
  },
  {
   "cell_type": "code",
   "execution_count": 12,
   "id": "64134113-63a2-422e-8bba-77a33b15c61a",
   "metadata": {},
   "outputs": [],
   "source": [
    "try:\n",
    "    cursor.executemany(\"INSERT INTO users (name, age) VALUES (?, ?)\", data)\n",
    "    conn.commit()\n",
    "except Exception as e:\n",
    "    print(e)\n",
    "finally:\n",
    "    cursor.close()\n",
    "    conn.close()"
   ]
  },
  {
   "cell_type": "code",
   "execution_count": 13,
   "id": "fc07ca5a-f201-4631-8c82-2c0adff12cd9",
   "metadata": {},
   "outputs": [],
   "source": [
    "conn = sqlite3.connect(\"sqlite1.db\")\n",
    "cursor = conn.cursor()"
   ]
  },
  {
   "cell_type": "code",
   "execution_count": 14,
   "id": "7939257b-24fe-4585-ab26-8eed00f7875d",
   "metadata": {},
   "outputs": [
    {
     "name": "stdout",
     "output_type": "stream",
     "text": [
      "(1, 'Alice', 20)\n"
     ]
    }
   ],
   "source": [
    "try:\n",
    "    cursor.execute(\"SELECT * FROM users\")\n",
    "    row = cursor.fetchone()\n",
    "\n",
    "    if row:\n",
    "        print(row)\n",
    "    else:\n",
    "        print(\"no data\")\n",
    "except Exception as e:\n",
    "    print(e)\n",
    "finally:\n",
    "    cursor.close()\n",
    "    conn.close()"
   ]
  },
  {
   "cell_type": "code",
   "execution_count": 15,
   "id": "ca94bc86-34de-46a1-8f81-7807a15bddb1",
   "metadata": {},
   "outputs": [],
   "source": [
    "conn = sqlite3.connect(\"sqlite1.db\")\n",
    "cursor = conn.cursor()"
   ]
  },
  {
   "cell_type": "code",
   "execution_count": 16,
   "id": "42034681-5028-486f-8bc5-bdfd654b4c89",
   "metadata": {},
   "outputs": [
    {
     "name": "stdout",
     "output_type": "stream",
     "text": [
      "(1, 'Alice', 20)\n",
      "(2, 'Bob', 25)\n",
      "(3, 'Charlie', 35)\n"
     ]
    }
   ],
   "source": [
    "try:\n",
    "    cursor.execute(\"SELECT * FROM users\")\n",
    "    row = cursor.fetchone()\n",
    "\n",
    "    if row:\n",
    "        print(row)\n",
    "    else:\n",
    "        print(\"no data\")\n",
    "\n",
    "    row = cursor.fetchone()\n",
    "\n",
    "    if row:\n",
    "        print(row)\n",
    "    else:\n",
    "        print(\"no data\")\n",
    "\n",
    "    row = cursor.fetchone()\n",
    "\n",
    "    if row:\n",
    "        print(row)\n",
    "    else:\n",
    "        print(\"no data\")\n",
    "except Exception as e:\n",
    "    print(e)\n",
    "finally:\n",
    "    cursor.close()\n",
    "    conn.close()"
   ]
  },
  {
   "cell_type": "code",
   "execution_count": 17,
   "id": "feeba3c5-aa26-4d67-81f8-276624ce141a",
   "metadata": {},
   "outputs": [],
   "source": [
    "conn = sqlite3.connect(\"sqlite1.db\")\n",
    "cursor = conn.cursor()"
   ]
  },
  {
   "cell_type": "code",
   "execution_count": 18,
   "id": "71ad59ff-f545-4ccb-bfb4-58b082956c29",
   "metadata": {},
   "outputs": [
    {
     "name": "stdout",
     "output_type": "stream",
     "text": [
      "(1, 'Alice', 20)\n",
      "(2, 'Bob', 25)\n",
      "(3, 'Charlie', 35)\n"
     ]
    }
   ],
   "source": [
    "try:\n",
    "    cursor.execute(\"SELECT * FROM users\")\n",
    "    rows = cursor.fetchmany(3)\n",
    "\n",
    "    for row in rows:\n",
    "        print(row)\n",
    "\n",
    "except Exception as e:\n",
    "    print(e)\n",
    "finally:\n",
    "    cursor.close()\n",
    "    conn.close()"
   ]
  },
  {
   "cell_type": "code",
   "execution_count": 19,
   "id": "6866b780-0d63-4106-bdd2-b1d9275a65ba",
   "metadata": {},
   "outputs": [],
   "source": [
    "conn = sqlite3.connect(\"sqlite1.db\")\n",
    "cursor = conn.cursor()"
   ]
  },
  {
   "cell_type": "code",
   "execution_count": 20,
   "id": "a811cf9f-2055-4438-bea8-1549756d0f27",
   "metadata": {},
   "outputs": [
    {
     "name": "stdout",
     "output_type": "stream",
     "text": [
      "(1, 'Alice', 20)\n",
      "(2, 'Bob', 25)\n",
      "(3, 'Charlie', 35)\n",
      "(4, 'John', 30)\n",
      "(5, 'Jane', 25)\n",
      "(6, 'Mike', 40)\n",
      "(7, 'Alice', 20)\n",
      "(8, 'Bob', 25)\n",
      "(9, 'Charlie', 35)\n",
      "(10, 'John', 30)\n",
      "(11, 'Jane', 25)\n",
      "(12, 'Mike', 40)\n"
     ]
    }
   ],
   "source": [
    "try:\n",
    "    cursor.execute(\"SELECT * FROM users\")\n",
    "    rows = cursor.fetchall()\n",
    "\n",
    "    for row in rows:\n",
    "        print(row)\n",
    "\n",
    "except Exception as e:\n",
    "    print(e)\n",
    "finally:\n",
    "    cursor.close()\n",
    "    conn.close()"
   ]
  },
  {
   "cell_type": "code",
   "execution_count": 21,
   "id": "5c02f2e9-0fd4-4032-b620-67a883f5eaf1",
   "metadata": {},
   "outputs": [],
   "source": [
    "conn = sqlite3.connect(\"test.db\")\n",
    "cursor = conn.cursor()"
   ]
  },
  {
   "cell_type": "code",
   "execution_count": 22,
   "id": "7a8d5e67-2137-4816-9581-8a9a03fbc161",
   "metadata": {},
   "outputs": [
    {
     "name": "stdout",
     "output_type": "stream",
     "text": [
      "(1, 'For Those About To Rock We Salute You', 1)\n",
      "(2, 'Balls to the Wall', 2)\n",
      "(3, 'Restless and Wild', 2)\n",
      "(4, 'Let There Be Rock', 1)\n",
      "(5, 'Big Ones', 3)\n",
      "(6, 'Jagged Little Pill', 4)\n",
      "(7, 'Facelift', 5)\n",
      "(8, 'Warner 25 Anos', 6)\n",
      "(9, 'Plays Metallica By Four Cellos', 7)\n",
      "(10, 'Audioslave', 8)\n",
      "(11, 'Out Of Exile', 8)\n",
      "(12, 'BackBeat Soundtrack', 9)\n",
      "(13, 'The Best Of Billy Cobham', 10)\n",
      "(14, 'Alcohol Fueled Brewtality Live! [Disc 1]', 11)\n",
      "(15, 'Alcohol Fueled Brewtality Live! [Disc 2]', 11)\n",
      "(16, 'Black Sabbath', 12)\n",
      "(17, 'Black Sabbath Vol. 4 (Remaster)', 12)\n",
      "(18, 'Body Count', 13)\n",
      "(19, 'Chemical Wedding', 14)\n",
      "(20, 'The Best Of Buddy Guy - The Millenium Collection', 15)\n",
      "(21, 'Prenda Minha', 16)\n",
      "(22, 'Sozinho Remix Ao Vivo', 16)\n",
      "(23, 'Minha Historia', 17)\n",
      "(24, 'Afrociberdelia', 18)\n",
      "(25, 'Da Lama Ao Caos', 18)\n",
      "(26, 'Acústico MTV [Live]', 19)\n",
      "(27, 'Cidade Negra - Hits', 19)\n",
      "(28, 'Na Pista', 20)\n",
      "(29, 'Axé Bahia 2001', 21)\n",
      "(30, 'BBC Sessions [Disc 1] [Live]', 22)\n",
      "(31, 'Bongo Fury', 23)\n",
      "(32, 'Carnaval 2001', 21)\n",
      "(33, 'Chill: Brazil (Disc 1)', 24)\n",
      "(34, 'Chill: Brazil (Disc 2)', 6)\n",
      "(35, 'Garage Inc. (Disc 1)', 50)\n",
      "(36, 'Greatest Hits II', 51)\n",
      "(37, 'Greatest Kiss', 52)\n",
      "(38, 'Heart of the Night', 53)\n",
      "(39, 'International Superhits', 54)\n",
      "(40, 'Into The Light', 55)\n",
      "(41, 'Meus Momentos', 56)\n",
      "(42, 'Minha História', 57)\n",
      "(43, 'MK III The Final Concerts [Disc 1]', 58)\n",
      "(44, 'Physical Graffiti [Disc 1]', 22)\n",
      "(45, 'Sambas De Enredo 2001', 21)\n",
      "(46, 'Supernatural', 59)\n",
      "(47, 'The Best of Ed Motta', 37)\n",
      "(48, 'The Essential Miles Davis [Disc 1]', 68)\n",
      "(49, 'The Essential Miles Davis [Disc 2]', 68)\n",
      "(50, 'The Final Concerts (Disc 2)', 58)\n",
      "(51, \"Up An' Atom\", 69)\n",
      "(52, 'Vinícius De Moraes - Sem Limite', 70)\n",
      "(53, 'Vozes do MPB', 21)\n",
      "(54, 'Chronicle, Vol. 1', 76)\n",
      "(55, 'Chronicle, Vol. 2', 76)\n",
      "(56, 'Cássia Eller - Coleção Sem Limite [Disc 2]', 77)\n",
      "(57, 'Cássia Eller - Sem Limite [Disc 1]', 77)\n",
      "(58, 'Come Taste The Band', 58)\n",
      "(59, 'Deep Purple In Rock', 58)\n",
      "(60, 'Fireball', 58)\n",
      "(61, \"Knocking at Your Back Door: The Best Of Deep Purple in the 80's\", 58)\n",
      "(62, 'Machine Head', 58)\n",
      "(63, 'Purpendicular', 58)\n",
      "(64, 'Slaves And Masters', 58)\n",
      "(65, 'Stormbringer', 58)\n",
      "(66, 'The Battle Rages On', 58)\n",
      "(67, \"Vault: Def Leppard's Greatest Hits\", 78)\n",
      "(68, 'Outbreak', 79)\n",
      "(69, 'Djavan Ao Vivo - Vol. 02', 80)\n",
      "(70, 'Djavan Ao Vivo - Vol. 1', 80)\n",
      "(71, 'Elis Regina-Minha História', 41)\n",
      "(72, 'The Cream Of Clapton', 81)\n",
      "(73, 'Unplugged', 81)\n",
      "(74, 'Album Of The Year', 82)\n",
      "(75, 'Angel Dust', 82)\n",
      "(76, 'King For A Day Fool For A Lifetime', 82)\n",
      "(77, 'The Real Thing', 82)\n",
      "(78, 'Deixa Entrar', 83)\n",
      "(79, 'In Your Honor [Disc 1]', 84)\n",
      "(80, 'In Your Honor [Disc 2]', 84)\n",
      "(81, 'One By One', 84)\n",
      "(82, 'The Colour And The Shape', 84)\n",
      "(83, 'My Way: The Best Of Frank Sinatra [Disc 1]', 85)\n",
      "(84, 'Roda De Funk', 86)\n",
      "(85, 'As Canções de Eu Tu Eles', 27)\n",
      "(86, 'Quanta Gente Veio Ver (Live)', 27)\n",
      "(87, 'Quanta Gente Veio ver--Bônus De Carnaval', 27)\n",
      "(88, 'Faceless', 87)\n",
      "(89, 'American Idiot', 54)\n",
      "(90, 'Appetite for Destruction', 88)\n",
      "(91, 'Use Your Illusion I', 88)\n",
      "(92, 'Use Your Illusion II', 88)\n",
      "(93, 'Blue Moods', 89)\n",
      "(94, 'A Matter of Life and Death', 90)\n",
      "(95, 'A Real Dead One', 90)\n",
      "(96, 'A Real Live One', 90)\n",
      "(97, 'Brave New World', 90)\n",
      "(98, 'Dance Of Death', 90)\n",
      "(99, 'Fear Of The Dark', 90)\n",
      "(100, 'Iron Maiden', 90)\n",
      "(101, 'Killers', 90)\n",
      "(102, 'Live After Death', 90)\n",
      "(103, 'Live At Donington 1992 (Disc 1)', 90)\n",
      "(104, 'Live At Donington 1992 (Disc 2)', 90)\n",
      "(105, 'No Prayer For The Dying', 90)\n",
      "(106, 'Piece Of Mind', 90)\n",
      "(107, 'Powerslave', 90)\n",
      "(108, 'Rock In Rio [CD1]', 90)\n",
      "(109, 'Rock In Rio [CD2]', 90)\n",
      "(110, 'Seventh Son of a Seventh Son', 90)\n",
      "(111, 'Somewhere in Time', 90)\n",
      "(112, 'The Number of The Beast', 90)\n",
      "(113, 'The X Factor', 90)\n",
      "(114, 'Virtual XI', 90)\n",
      "(115, 'Sex Machine', 91)\n",
      "(116, 'Emergency On Planet Earth', 92)\n",
      "(117, 'Synkronized', 92)\n",
      "(118, 'The Return Of The Space Cowboy', 92)\n",
      "(119, 'Get Born', 93)\n",
      "(120, 'Are You Experienced?', 94)\n",
      "(121, 'Surfing with the Alien (Remastered)', 95)\n",
      "(122, 'Jorge Ben Jor 25 Anos', 46)\n",
      "(123, 'Jota Quest-1995', 96)\n",
      "(124, 'Cafezinho', 97)\n",
      "(125, 'Living After Midnight', 98)\n",
      "(126, 'Unplugged [Live]', 52)\n",
      "(127, 'BBC Sessions [Disc 2] [Live]', 22)\n",
      "(128, 'Coda', 22)\n",
      "(129, 'Houses Of The Holy', 22)\n",
      "(130, 'In Through The Out Door', 22)\n",
      "(131, 'IV', 22)\n",
      "(132, 'Led Zeppelin I', 22)\n",
      "(133, 'Led Zeppelin II', 22)\n",
      "(134, 'Led Zeppelin III', 22)\n",
      "(135, 'Physical Graffiti [Disc 2]', 22)\n",
      "(136, 'Presence', 22)\n",
      "(137, 'The Song Remains The Same (Disc 1)', 22)\n",
      "(138, 'The Song Remains The Same (Disc 2)', 22)\n",
      "(139, 'A TempestadeTempestade Ou O Livro Dos Dias', 99)\n",
      "(140, 'Mais Do Mesmo', 99)\n",
      "(141, 'Greatest Hits', 100)\n",
      "(142, 'Lulu Santos - RCA 100 Anos De Música - Álbum 01', 101)\n",
      "(143, 'Lulu Santos - RCA 100 Anos De Música - Álbum 02', 101)\n",
      "(144, 'Misplaced Childhood', 102)\n",
      "(145, 'Barulhinho Bom', 103)\n",
      "(146, 'Seek And Shall Find: More Of The Best (1963-1981)', 104)\n",
      "(147, 'The Best Of Men At Work', 105)\n",
      "(148, 'Black Album', 50)\n",
      "(149, 'Garage Inc. (Disc 2)', 50)\n",
      "(150, \"Kill 'Em All\", 50)\n",
      "(151, 'Load', 50)\n",
      "(152, 'Master Of Puppets', 50)\n",
      "(153, 'ReLoad', 50)\n",
      "(154, 'Ride The Lightning', 50)\n",
      "(155, 'St. Anger', 50)\n",
      "(156, '...And Justice For All', 50)\n",
      "(157, 'Miles Ahead', 68)\n",
      "(158, 'Milton Nascimento Ao Vivo', 42)\n",
      "(159, 'Minas', 42)\n",
      "(160, 'Ace Of Spades', 106)\n",
      "(161, 'Demorou...', 108)\n",
      "(162, 'Motley Crue Greatest Hits', 109)\n",
      "(163, 'From The Muddy Banks Of The Wishkah [Live]', 110)\n",
      "(164, 'Nevermind', 110)\n",
      "(165, 'Compositores', 111)\n",
      "(166, 'Olodum', 112)\n",
      "(167, 'Acústico MTV', 113)\n",
      "(168, 'Arquivo II', 113)\n",
      "(169, 'Arquivo Os Paralamas Do Sucesso', 113)\n",
      "(170, 'Bark at the Moon (Remastered)', 114)\n",
      "(171, 'Blizzard of Ozz', 114)\n",
      "(172, 'Diary of a Madman (Remastered)', 114)\n",
      "(173, 'No More Tears (Remastered)', 114)\n",
      "(174, 'Tribute', 114)\n",
      "(175, 'Walking Into Clarksdale', 115)\n",
      "(176, 'Original Soundtracks 1', 116)\n",
      "(177, 'The Beast Live', 117)\n",
      "(178, 'Live On Two Legs [Live]', 118)\n",
      "(179, 'Pearl Jam', 118)\n",
      "(180, 'Riot Act', 118)\n",
      "(181, 'Ten', 118)\n",
      "(182, 'Vs.', 118)\n",
      "(183, 'Dark Side Of The Moon', 120)\n",
      "(184, 'Os Cães Ladram Mas A Caravana Não Pára', 121)\n",
      "(185, 'Greatest Hits I', 51)\n",
      "(186, 'News Of The World', 51)\n",
      "(187, 'Out Of Time', 122)\n",
      "(188, 'Green', 124)\n",
      "(189, 'New Adventures In Hi-Fi', 124)\n",
      "(190, 'The Best Of R.E.M.: The IRS Years', 124)\n",
      "(191, 'Cesta Básica', 125)\n",
      "(192, 'Raul Seixas', 126)\n",
      "(193, 'Blood Sugar Sex Magik', 127)\n",
      "(194, 'By The Way', 127)\n",
      "(195, 'Californication', 127)\n",
      "(196, 'Retrospective I (1974-1980)', 128)\n",
      "(197, 'Santana - As Years Go By', 59)\n",
      "(198, 'Santana Live', 59)\n",
      "(199, 'Maquinarama', 130)\n",
      "(200, 'O Samba Poconé', 130)\n",
      "(201, 'Judas 0: B-Sides and Rarities', 131)\n",
      "(202, 'Rotten Apples: Greatest Hits', 131)\n",
      "(203, 'A-Sides', 132)\n",
      "(204, 'Morning Dance', 53)\n",
      "(205, 'In Step', 133)\n",
      "(206, 'Core', 134)\n",
      "(207, 'Mezmerize', 135)\n",
      "(208, '[1997] Black Light Syndrome', 136)\n",
      "(209, 'Live [Disc 1]', 137)\n",
      "(210, 'Live [Disc 2]', 137)\n",
      "(211, 'The Singles', 138)\n",
      "(212, 'Beyond Good And Evil', 139)\n",
      "(213, 'Pure Cult: The Best Of The Cult (For Rockers, Ravers, Lovers & Sinners) [UK]', 139)\n",
      "(214, 'The Doors', 140)\n",
      "(215, 'The Police Greatest Hits', 141)\n",
      "(216, 'Hot Rocks, 1964-1971 (Disc 1)', 142)\n",
      "(217, 'No Security', 142)\n",
      "(218, 'Voodoo Lounge', 142)\n",
      "(219, 'Tangents', 143)\n",
      "(220, 'Transmission', 143)\n",
      "(221, 'My Generation - The Very Best Of The Who', 144)\n",
      "(222, 'Serie Sem Limite (Disc 1)', 145)\n",
      "(223, 'Serie Sem Limite (Disc 2)', 145)\n",
      "(224, 'Acústico', 146)\n",
      "(225, 'Volume Dois', 146)\n",
      "(226, 'Battlestar Galactica: The Story So Far', 147)\n",
      "(227, 'Battlestar Galactica, Season 3', 147)\n",
      "(228, 'Heroes, Season 1', 148)\n",
      "(229, 'Lost, Season 3', 149)\n",
      "(230, 'Lost, Season 1', 149)\n",
      "(231, 'Lost, Season 2', 149)\n",
      "(232, 'Achtung Baby', 150)\n",
      "(233, \"All That You Can't Leave Behind\", 150)\n",
      "(234, 'B-Sides 1980-1990', 150)\n",
      "(235, 'How To Dismantle An Atomic Bomb', 150)\n",
      "(236, 'Pop', 150)\n",
      "(237, 'Rattle And Hum', 150)\n",
      "(238, 'The Best Of 1980-1990', 150)\n",
      "(239, 'War', 150)\n",
      "(240, 'Zooropa', 150)\n",
      "(241, 'UB40 The Best Of - Volume Two [UK]', 151)\n",
      "(242, 'Diver Down', 152)\n",
      "(243, 'The Best Of Van Halen, Vol. I', 152)\n",
      "(244, 'Van Halen', 152)\n",
      "(245, 'Van Halen III', 152)\n",
      "(246, 'Contraband', 153)\n",
      "(247, 'Vinicius De Moraes', 72)\n",
      "(248, 'Ao Vivo [IMPORT]', 155)\n",
      "(249, 'The Office, Season 1', 156)\n",
      "(250, 'The Office, Season 2', 156)\n",
      "(251, 'The Office, Season 3', 156)\n",
      "(252, 'Un-Led-Ed', 157)\n",
      "(253, 'Battlestar Galactica (Classic), Season 1', 158)\n",
      "(254, 'Aquaman', 159)\n",
      "(255, 'Instant Karma: The Amnesty International Campaign to Save Darfur', 150)\n",
      "(256, 'Speak of the Devil', 114)\n",
      "(257, '20th Century Masters - The Millennium Collection: The Best of Scorpions', 179)\n",
      "(258, 'House of Pain', 180)\n",
      "(259, 'Radio Brasil (O Som da Jovem Vanguarda) - Seleccao de Henrique Amaro', 36)\n",
      "(260, 'Cake: B-Sides and Rarities', 196)\n",
      "(261, 'LOST, Season 4', 149)\n",
      "(262, 'Quiet Songs', 197)\n",
      "(263, 'Muso Ko', 198)\n",
      "(264, 'Realize', 199)\n",
      "(265, 'Every Kind of Light', 200)\n",
      "(266, 'Duos II', 201)\n",
      "(267, 'Worlds', 202)\n",
      "(268, 'The Best of Beethoven', 203)\n",
      "(269, 'Temple of the Dog', 204)\n",
      "(270, 'Carry On', 205)\n",
      "(271, 'Revelations', 8)\n",
      "(272, 'Adorate Deum: Gregorian Chant from the Proper of the Mass', 206)\n",
      "(273, 'Allegri: Miserere', 207)\n",
      "(274, 'Pachelbel: Canon & Gigue', 208)\n",
      "(275, 'Vivaldi: The Four Seasons', 209)\n",
      "(276, 'Bach: Violin Concertos', 210)\n",
      "(277, 'Bach: Goldberg Variations', 211)\n",
      "(278, 'Bach: The Cello Suites', 212)\n",
      "(279, 'Handel: The Messiah (Highlights)', 213)\n",
      "(280, 'The World of Classical Favourites', 214)\n",
      "(281, 'Sir Neville Marriner: A Celebration', 215)\n",
      "(282, 'Mozart: Wind Concertos', 216)\n",
      "(283, 'Haydn: Symphonies 99 - 104', 217)\n",
      "(284, 'Beethoven: Symhonies Nos. 5 & 6', 218)\n",
      "(285, 'A Soprano Inspired', 219)\n",
      "(286, 'Great Opera Choruses', 220)\n",
      "(287, 'Wagner: Favourite Overtures', 221)\n",
      "(288, 'Fauré: Requiem, Ravel: Pavane & Others', 222)\n",
      "(289, 'Tchaikovsky: The Nutcracker', 223)\n",
      "(290, 'The Last Night of the Proms', 224)\n",
      "(291, 'Puccini: Madama Butterfly - Highlights', 225)\n",
      "(292, 'Holst: The Planets, Op. 32 & Vaughan Williams: Fantasies', 226)\n",
      "(293, \"Pavarotti's Opera Made Easy\", 227)\n",
      "(294, \"Great Performances - Barber's Adagio and Other Romantic Favorites for Strings\", 228)\n",
      "(295, 'Carmina Burana', 229)\n",
      "(296, 'A Copland Celebration, Vol. I', 230)\n",
      "(297, 'Bach: Toccata & Fugue in D Minor', 231)\n",
      "(298, 'Prokofiev: Symphony No.1', 232)\n",
      "(299, 'Scheherazade', 233)\n",
      "(300, 'Bach: The Brandenburg Concertos', 234)\n",
      "(301, 'Chopin: Piano Concertos Nos. 1 & 2', 235)\n",
      "(302, 'Mascagni: Cavalleria Rusticana', 236)\n",
      "(303, 'Sibelius: Finlandia', 237)\n",
      "(304, 'Beethoven Piano Sonatas: Moonlight & Pastorale', 238)\n",
      "(305, 'Great Recordings of the Century - Mahler: Das Lied von der Erde', 240)\n",
      "(306, 'Elgar: Cello Concerto & Vaughan Williams: Fantasias', 241)\n",
      "(307, 'Adams, John: The Chairman Dances', 242)\n",
      "(308, \"Tchaikovsky: 1812 Festival Overture, Op.49, Capriccio Italien & Beethoven: Wellington's Victory\", 243)\n",
      "(309, 'Palestrina: Missa Papae Marcelli & Allegri: Miserere', 244)\n",
      "(310, 'Prokofiev: Romeo & Juliet', 245)\n",
      "(311, 'Strauss: Waltzes', 226)\n",
      "(312, 'Berlioz: Symphonie Fantastique', 245)\n",
      "(313, 'Bizet: Carmen Highlights', 246)\n",
      "(314, 'English Renaissance', 247)\n",
      "(315, 'Handel: Music for the Royal Fireworks (Original Version 1749)', 208)\n",
      "(316, 'Grieg: Peer Gynt Suites & Sibelius: Pelléas et Mélisande', 248)\n",
      "(317, 'Mozart Gala: Famous Arias', 249)\n",
      "(318, 'SCRIABIN: Vers la flamme', 250)\n",
      "(319, 'Armada: Music from the Courts of England and Spain', 251)\n",
      "(320, 'Mozart: Symphonies Nos. 40 & 41', 248)\n",
      "(321, 'Back to Black', 252)\n",
      "(322, 'Frank', 252)\n",
      "(323, 'Carried to Dust (Bonus Track Version)', 253)\n",
      "(324, \"Beethoven: Symphony No. 6 'Pastoral' Etc.\", 254)\n",
      "(325, 'Bartok: Violin & Viola Concertos', 255)\n",
      "(326, \"Mendelssohn: A Midsummer Night's Dream\", 256)\n",
      "(327, 'Bach: Orchestral Suites Nos. 1 - 4', 257)\n",
      "(328, 'Charpentier: Divertissements, Airs & Concerts', 258)\n",
      "(329, 'South American Getaway', 259)\n",
      "(330, 'Górecki: Symphony No. 3', 260)\n",
      "(331, 'Purcell: The Fairy Queen', 261)\n",
      "(332, 'The Ultimate Relexation Album', 262)\n",
      "(333, 'Purcell: Music for the Queen Mary', 263)\n",
      "(334, 'Weill: The Seven Deadly Sins', 264)\n",
      "(335, 'J.S. Bach: Chaconne, Suite in E Minor, Partita in E Major & Prelude, Fugue and Allegro', 265)\n",
      "(336, 'Prokofiev: Symphony No.5 & Stravinksy: Le Sacre Du Printemps', 248)\n",
      "(337, 'Szymanowski: Piano Works, Vol. 1', 266)\n",
      "(338, 'Nielsen: The Six Symphonies', 267)\n",
      "(339, \"Great Recordings of the Century: Paganini's 24 Caprices\", 268)\n",
      "(340, \"Liszt - 12 Études D'Execution Transcendante\", 269)\n",
      "(341, 'Great Recordings of the Century - Shubert: Schwanengesang, 4 Lieder', 270)\n",
      "(342, 'Locatelli: Concertos for Violin, Strings and Continuo, Vol. 3', 271)\n",
      "(343, 'Respighi:Pines of Rome', 226)\n",
      "(344, \"Schubert: The Late String Quartets & String Quintet (3 CD's)\", 272)\n",
      "(345, \"Monteverdi: L'Orfeo\", 273)\n",
      "(346, 'Mozart: Chamber Music', 274)\n",
      "(347, 'Koyaanisqatsi (Soundtrack from the Motion Picture)', 275)\n"
     ]
    }
   ],
   "source": [
    "try:\n",
    "    cursor.execute(\"SELECT * FROM albums\")\n",
    "    rows = cursor.fetchall()\n",
    "\n",
    "    for row in rows:\n",
    "        print(row)\n",
    "\n",
    "except Exception as e:\n",
    "    print(e)\n",
    "finally:\n",
    "    cursor.close()\n",
    "    conn.close()"
   ]
  },
  {
   "cell_type": "code",
   "execution_count": 23,
   "id": "4d61acc2-8982-465f-a3e5-b7ef4fd4391a",
   "metadata": {},
   "outputs": [],
   "source": [
    "import sqlite3"
   ]
  },
  {
   "cell_type": "code",
   "execution_count": 24,
   "id": "e55816de-7b8b-4a76-ba05-6a7817260d96",
   "metadata": {},
   "outputs": [],
   "source": [
    "conn = sqlite3.connect(\"members.db\")\n",
    "cursor = conn.cursor()"
   ]
  },
  {
   "cell_type": "code",
   "execution_count": 25,
   "id": "b0e80820-2f1f-47ac-8fb4-33416cd0650a",
   "metadata": {},
   "outputs": [],
   "source": [
    "conn.commit()"
   ]
  },
  {
   "cell_type": "code",
   "execution_count": 26,
   "id": "27652be2-dd20-4a5d-a917-a8e8ba896340",
   "metadata": {},
   "outputs": [
    {
     "data": {
      "text/plain": [
       "<sqlite3.Cursor at 0x11a26c140>"
      ]
     },
     "execution_count": 26,
     "metadata": {},
     "output_type": "execute_result"
    }
   ],
   "source": [
    "cursor.execute('''\n",
    "    CREATE TABLE IF NOT EXISTS singer(\n",
    "        id INTEGER PRIMARY KEY AUTOINCREMENT,\n",
    "        name TEXT NOT NULL,\n",
    "        age INTEGER NOT NULL,\n",
    "        type TEXT\n",
    "    )\n",
    "''')"
   ]
  },
  {
   "cell_type": "code",
   "execution_count": 27,
   "id": "7b855b2f-28a1-4300-b93f-7bce9ae316fb",
   "metadata": {},
   "outputs": [],
   "source": [
    "conn = sqlite3.connect(\"members.db\")\n",
    "cursor = conn.cursor()"
   ]
  },
  {
   "cell_type": "code",
   "execution_count": 28,
   "id": "70a5eb8a-7493-490b-91e0-0cb91e6cc402",
   "metadata": {},
   "outputs": [],
   "source": [
    "try:\n",
    "    cursor.execute(\"INSERT INTO singer (name, age, type) VALUES (?, ?, ?)\", ('아이유', 20, '발라드'))\n",
    "    cursor.execute(\"INSERT INTO singer (name, age, type) VALUES (?, ?, ?)\", ('방탄소년단', 35, 'kpop'))\n",
    "    cursor.execute(\"INSERT INTO singer (name, age, type) VALUES (?, ?, ?)\", ('저스틴 비버', 50, 'pop'))\n",
    "    conn.commit()\n",
    "except Exception as e:\n",
    "    conn.rollback()\n",
    "    print(e)\n",
    "finally:\n",
    "    cursor.close()\n",
    "    conn.close()"
   ]
  },
  {
   "cell_type": "code",
   "execution_count": 29,
   "id": "74f30360-4392-459c-a76f-abef07281f0d",
   "metadata": {},
   "outputs": [],
   "source": [
    "conn = sqlite3.connect(\"members.db\")\n",
    "cursor = conn.cursor()"
   ]
  },
  {
   "cell_type": "code",
   "execution_count": 30,
   "id": "f60cf093-5949-45df-97e5-555f3a005091",
   "metadata": {},
   "outputs": [],
   "source": [
    "cursor.close()\n",
    "conn.close()"
   ]
  },
  {
   "cell_type": "code",
   "execution_count": 42,
   "id": "19c4adea",
   "metadata": {},
   "outputs": [],
   "source": [
    "conn = sqlite3.connect(\"members.db\")\n",
    "cursor = conn.cursor()"
   ]
  },
  {
   "cell_type": "code",
   "execution_count": 33,
   "id": "7596fac2-346f-4847-8eab-c6691d7d1a9a",
   "metadata": {},
   "outputs": [
    {
     "data": {
      "text/plain": [
       "<sqlite3.Cursor at 0x11a59af40>"
      ]
     },
     "execution_count": 33,
     "metadata": {},
     "output_type": "execute_result"
    }
   ],
   "source": [
    "cursor.execute(\"DELETE FROM singer\")"
   ]
  },
  {
   "cell_type": "code",
   "execution_count": 39,
   "id": "741ef224-a192-400e-b6e8-fd92bbec351d",
   "metadata": {},
   "outputs": [],
   "source": [
    "conn.commit()"
   ]
  },
  {
   "cell_type": "code",
   "execution_count": 43,
   "id": "194fc48e-5e42-4657-a987-879b598bbcab",
   "metadata": {},
   "outputs": [],
   "source": [
    "try:\n",
    "    cursor.execute(\"INSERT INTO singer (name, age, type) VALUES (?, ?, ?)\", ('아이유', 20, '발라드'))\n",
    "    cursor.execute(\"INSERT INTO singer (name, age, type) VALUES (?, ?, ?)\", ('방탄소년단', 30, 'kpop'))\n",
    "    cursor.execute(\"INSERT INTO singer (name, age, type) VALUES (?, ?, ?)\", ('저스틴비버', 40, 'pop'))\n",
    "    conn.commit()\n",
    "    \n",
    "    rows = cursor.fetchall()\n",
    "    for row in rows:\n",
    "        print(row)\n",
    "except Exception as e:\n",
    "    conn.rollback()\n",
    "    print(e)\n",
    "finally:\n",
    "    cursor.close()\n",
    "    conn.close()    "
   ]
  },
  {
   "cell_type": "code",
   "execution_count": 45,
   "id": "30a402af",
   "metadata": {},
   "outputs": [],
   "source": [
    "conn = sqlite3.connect(\"members.db\")\n",
    "cursor = conn.cursor()"
   ]
  },
  {
   "cell_type": "code",
   "execution_count": 46,
   "id": "a130c31f-75e9-44c5-8c27-5c209e7a97d1",
   "metadata": {},
   "outputs": [],
   "source": [
    "try:\n",
    "    cursor.execute(\"UPDATE sqlite_sequence SET seq = ? WHERE name = ?\", (0, 'singer'))\n",
    "    conn.commit()\n",
    "except Exception as e:\n",
    "    conn.rollback()\n",
    "    print(e)\n",
    "finally:\n",
    "    cursor.close()\n",
    "    conn.close()"
   ]
  },
  {
   "cell_type": "code",
   "execution_count": 48,
   "id": "14ef155d-5439-4244-9586-f1664fdcb7f2",
   "metadata": {},
   "outputs": [
    {
     "name": "stdout",
     "output_type": "stream",
     "text": [
      "(7, '아이유', 20, '발라드')\n",
      "(8, '방탄소년단', 30, 'kpop')\n",
      "(9, '저스틴비버', 40, 'pop')\n",
      "(10, '아이유', 20, '발라드')\n",
      "(11, '방탄소년단', 30, 'kpop')\n",
      "(12, '저스틴비버', 40, 'pop')\n",
      "(13, '아이유', 20, '발라드')\n",
      "(14, '방탄소년단', 30, 'kpop')\n",
      "(15, '저스틴비버', 40, 'pop')\n"
     ]
    }
   ],
   "source": [
    "conn = sqlite3.connect(\"members.db\")\n",
    "cursor = conn.cursor()\n",
    "try:\n",
    "    cursor.execute(\"SELECT * FROM singer\")\n",
    "    rows = cursor.fetchall()\n",
    "\n",
    "    for row in rows:\n",
    "        print(row)\n",
    "\n",
    "except Exception as e:\n",
    "    print(e)\n",
    "finally:\n",
    "    cursor.close()\n",
    "    conn.close()"
   ]
  }
 ],
 "metadata": {
  "kernelspec": {
   "display_name": "Python 3 (ipykernel)",
   "language": "python",
   "name": "python3"
  },
  "language_info": {
   "codemirror_mode": {
    "name": "ipython",
    "version": 3
   },
   "file_extension": ".py",
   "mimetype": "text/x-python",
   "name": "python",
   "nbconvert_exporter": "python",
   "pygments_lexer": "ipython3",
   "version": "3.12.4"
  }
 },
 "nbformat": 4,
 "nbformat_minor": 5
}
