{
 "cells": [
  {
   "cell_type": "markdown",
   "metadata": {},
   "source": [
    "# Data Analysis using mtcars dataset"
   ]
  },
  {
   "cell_type": "markdown",
   "metadata": {},
   "source": [
    "## Feature Infos\n",
    "\n",
    "- mpg: Miles per Gallon (연비)\n",
    "- cyl: Number of cylinders (엔진 실린더 개수)\n",
    "- disp: Displacement (엔진 배기량)\n",
    "- hp: Gross horsepower (최대 출력 마력)\n",
    "- drat: Rear axle ratio (후륜 비율)\n",
    "- wt: Weight (자동차의 무게)\n",
    "- qsec: 1/4 mile time (가속 시간)\n",
    "- vs: V/S 엔진 유형\n",
    "- am: Transmission (Automatic / manual)\n",
    "- gear: Number of forward gears (전진 기어 수)\n",
    "- carb: Number of carburators (기화기 수)"
   ]
  },
  {
   "cell_type": "markdown",
   "metadata": {},
   "source": [
    "## Import Library "
   ]
  },
  {
   "cell_type": "code",
   "execution_count": null,
   "metadata": {},
   "outputs": [],
   "source": [
    "import pandas as pd\n",
    "import numpy as np\n",
    "import matplotlib.pyplot as plt\n",
    "import seaborn as sns"
   ]
  },
  {
   "cell_type": "code",
   "execution_count": null,
   "metadata": {},
   "outputs": [],
   "source": [
    "DATASET_PATH = \"w1m1_mtcars.csv\""
   ]
  },
  {
   "cell_type": "code",
   "execution_count": null,
   "metadata": {},
   "outputs": [],
   "source": [
    "df = pd.read_csv(DATASET_PATH)"
   ]
  },
  {
   "cell_type": "markdown",
   "metadata": {},
   "source": [
    "## head, tail, ..."
   ]
  },
  {
   "cell_type": "code",
   "execution_count": null,
   "metadata": {},
   "outputs": [],
   "source": [
    "df.head()"
   ]
  },
  {
   "cell_type": "code",
   "execution_count": null,
   "metadata": {},
   "outputs": [],
   "source": [
    "df.tail()"
   ]
  },
  {
   "cell_type": "code",
   "execution_count": null,
   "metadata": {},
   "outputs": [],
   "source": [
    "df.shape"
   ]
  },
  {
   "cell_type": "code",
   "execution_count": null,
   "metadata": {},
   "outputs": [],
   "source": [
    "df.columns"
   ]
  },
  {
   "cell_type": "code",
   "execution_count": null,
   "metadata": {},
   "outputs": [],
   "source": [
    "df.rename(columns={\"Unnamed: 0\": \"car_model\"}, inplace=True)"
   ]
  },
  {
   "cell_type": "code",
   "execution_count": null,
   "metadata": {},
   "outputs": [],
   "source": [
    "df.columns"
   ]
  },
  {
   "cell_type": "code",
   "execution_count": null,
   "metadata": {},
   "outputs": [],
   "source": [
    "# df.info()를 진행했을 떄, 컬럼 이름, 데이터 타입, 데이터 개수 등을 확인할 수 있다.\n",
    "df.info()"
   ]
  },
  {
   "cell_type": "code",
   "execution_count": null,
   "metadata": {},
   "outputs": [],
   "source": [
    "df.dtypes"
   ]
  },
  {
   "cell_type": "code",
   "execution_count": null,
   "metadata": {},
   "outputs": [],
   "source": [
    "# df.describe()를 통해 수치형 데이터에 대한 기술통계량을 확인할 수 있다.\n",
    "df.describe()"
   ]
  },
  {
   "cell_type": "markdown",
   "metadata": {},
   "source": [
    "## Gear, Transmission"
   ]
  },
  {
   "cell_type": "code",
   "execution_count": null,
   "metadata": {},
   "outputs": [],
   "source": [
    "print(\"Number of unique values in gear columns:\", len(df[\"gear\"].unique()))\n",
    "print(\"Number of unique values in transmission columns:\", len(df[\"am\"].unique()))"
   ]
  },
  {
   "cell_type": "code",
   "execution_count": null,
   "metadata": {},
   "outputs": [],
   "source": [
    "# visualize aggregation with pd.crosstab\n",
    "aggregation = pd.crosstab(df[\"gear\"], df[\"am\"])\n",
    "\n",
    "fig, ax = plt.subplots(figsize=(10, 6))\n",
    "aggregation.plot(kind=\"bar\", ax=ax)\n",
    "plt.title(\"# of Cars by Gear x Transmission\")\n",
    "plt.xlabel(\"Gear x Transmission\")\n",
    "plt.ylabel(\"# of Cars\")"
   ]
  },
  {
   "cell_type": "code",
   "execution_count": null,
   "metadata": {},
   "outputs": [],
   "source": [
    "# visualize aggregation without pd.crosstab\n",
    "aggregation = df.groupby([\"gear\", \"am\"]).size().reset_index(name=\"count\")\n",
    "aggregation['am'] = aggregation['am'].replace({0: \"Automatic\", 1: \"Manual\"})\n",
    "aggregation[\"aggr_name\"] = \"(\"+ aggregation[\"gear\"].astype(str) + \"-\" + aggregation[\"am\"] + \")\"\n",
    "\n",
    "plt.bar(\n",
    "    aggregation[\"aggr_name\"], \n",
    "    aggregation[\"count\"],\n",
    ")\n",
    "plt.title(\"# of Cars by Gear x Transmission\")\n",
    "plt.xlabel(\"Gear x Transmission\")\n",
    "plt.ylabel(\"# of Cars\")"
   ]
  },
  {
   "cell_type": "code",
   "execution_count": null,
   "metadata": {},
   "outputs": [],
   "source": [
    "# More Prettier\n",
    "colors = [\"skyblue\", \"salmon\", \"lightgreen\", \"violet\"]\n",
    "\n",
    "plt.bar(\n",
    "    aggregation[\"aggr_name\"], \n",
    "    aggregation[\"count\"],\n",
    "    color=colors,\n",
    "    alpha=0.4,\n",
    "    label=aggregation[\"aggr_name\"] # legend 표시\n",
    ")\n",
    "plt.title(\"# of Cars by Gear x Transmission\")\n",
    "plt.xlabel(\"Gear x Transmission\")\n",
    "plt.ylabel(\"# of Cars\")\n",
    "\n",
    "# 각 막대에 데이터 개수 표시\n",
    "for i, v in enumerate(aggregation[\"count\"]):\n",
    "    plt.text(i, v+0.1, v, ha=\"center\")\n",
    "\n",
    "plt.legend()\n",
    "plt.tight_layout()\n",
    "plt.show()"
   ]
  },
  {
   "cell_type": "markdown",
   "metadata": {},
   "source": [
    "## Histograms of Numeric Columns"
   ]
  },
  {
   "cell_type": "code",
   "execution_count": null,
   "metadata": {},
   "outputs": [],
   "source": [
    "fig, axes = plt.subplots(nrows=4, ncols=3, figsize=(8, 8))\n",
    "i = 0\n",
    "\n",
    "for col in df.columns:\n",
    "    if df[col].dtype in ['int64', 'float64']:\n",
    "        ax = axes[i//3, i%3]\n",
    "        ax.hist(df[col])\n",
    "        ax.set_title(col)\n",
    "        ax.grid()\n",
    "        i += 1\n",
    "    else:\n",
    "        continue\n",
    "    \n",
    "if i < 12:\n",
    "    for idx in range(i, 12):\n",
    "        fig.delaxes(axes.flatten()[idx])\n",
    "\n",
    "fig.suptitle(\"Histograms of Numeric Columns\")\n",
    "plt.tight_layout()\n",
    "plt.show()"
   ]
  },
  {
   "cell_type": "markdown",
   "metadata": {},
   "source": [
    "## Cylinder vs HorsePower"
   ]
  },
  {
   "cell_type": "code",
   "execution_count": null,
   "metadata": {},
   "outputs": [],
   "source": [
    "plt.scatter(df[\"cyl\"], df[\"hp\"])\n",
    "plt.title(\"Cylinder vs Horsepower\")\n",
    "plt.show()"
   ]
  },
  {
   "cell_type": "markdown",
   "metadata": {},
   "source": [
    "## MPG vs HorsePower"
   ]
  },
  {
   "cell_type": "code",
   "execution_count": null,
   "metadata": {},
   "outputs": [],
   "source": [
    "plt.scatter(df[\"mpg\"], df[\"hp\"])\n",
    "plt.title(\"MPG vs Horsepower\")\n",
    "plt.show()"
   ]
  },
  {
   "cell_type": "markdown",
   "metadata": {},
   "source": [
    "## Visualize correlation"
   ]
  },
  {
   "cell_type": "code",
   "execution_count": null,
   "metadata": {},
   "outputs": [],
   "source": [
    "sub_df = df.drop([\"car_model\"], axis=1)\n",
    "sns.heatmap(sub_df.corr(), annot=True, cmap=\"coolwarm\")"
   ]
  },
  {
   "cell_type": "markdown",
   "metadata": {},
   "source": [
    "## Advanced Study"
   ]
  },
  {
   "cell_type": "code",
   "execution_count": null,
   "metadata": {},
   "outputs": [],
   "source": [
    "def extract_corr_between_two_cols(df: pd.DataFrame, col1: str, col2: str) -> None:\n",
    "    fig, ax = plt.subplots(figsize=(6, 6))\n",
    "    sns.regplot(x=col1, y=col2, data=df, ax=ax)\n",
    "    corr = df[col1].corr(df[col2])\n",
    "    \n",
    "    plt.title(\"Corr:{}\".format(corr))\n",
    "    plt.tight_layout()\n",
    "    plt.show()"
   ]
  },
  {
   "cell_type": "code",
   "execution_count": null,
   "metadata": {},
   "outputs": [],
   "source": [
    "extract_corr_between_two_cols(df, \"mpg\", \"hp\")"
   ]
  }
 ],
 "metadata": {
  "kernelspec": {
   "display_name": ".venv",
   "language": "python",
   "name": "python3"
  },
  "language_info": {
   "codemirror_mode": {
    "name": "ipython",
    "version": 3
   },
   "file_extension": ".py",
   "mimetype": "text/x-python",
   "name": "python",
   "nbconvert_exporter": "python",
   "pygments_lexer": "ipython3",
   "version": "3.10.14"
  }
 },
 "nbformat": 4,
 "nbformat_minor": 2
}
