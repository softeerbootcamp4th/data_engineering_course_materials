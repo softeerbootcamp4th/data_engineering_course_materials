{
 "cells": [
  {
   "metadata": {
    "ExecuteTime": {
     "end_time": "2024-07-10T08:15:03.897714Z",
     "start_time": "2024-07-10T08:15:03.879207Z"
    }
   },
   "cell_type": "code",
   "source": [
    "import sqlite3\n",
    "\n",
    "import csv\n",
    "\n",
    "db_name = 'my.db'\n",
    "\n",
    "\n",
    "def create_sqlite_database(filename):\n",
    "    \"\"\" create a database connection to an SQLite database \"\"\"\n",
    "    conn = None\n",
    "    try:\n",
    "        conn = sqlite3.connect(filename)\n",
    "        print(sqlite3.sqlite_version)\n",
    "    except sqlite3.Error as e:\n",
    "        print(e)\n",
    "    finally:\n",
    "        if conn:\n",
    "            conn.close()\n",
    "\n",
    "\n",
    "def create_tables():\n",
    "    sql_statements = [\n",
    "        \"DROP TABLE IF EXISTS Customers\",\n",
    "        \"DROP TABLE IF EXISTS Products\",\n",
    "        \"DROP TABLE IF EXISTS OrderDetails\",\n",
    "        \"DROP TABLE IF EXISTS Orders\",\n",
    "        \"DROP TABLE IF EXISTS Categories\",\n",
    "        \"DROP TABLE IF EXISTS Employees\",\n",
    "        \"DROP TABLE IF EXISTS Shippers\",\n",
    "        \"DROP TABLE IF EXISTS Suppliers\",\n",
    "        \"\"\"\n",
    "        CREATE TABLE IF NOT EXISTS Customers (\n",
    "                CustomerID INTEGER PRIMARY KEY, \n",
    "                CustomerName TEXT , \n",
    "                ContactName TEXT, \n",
    "                Address TEXT,\n",
    "                City TEXT,\n",
    "                PostalCode TEXT,\n",
    "                Country TEXT\n",
    "        );\"\"\",\n",
    "        \"\"\"\n",
    "        CREATE TABLE IF NOT EXISTS Products (\n",
    "                ProductID INTEGER PRIMARY KEY, \n",
    "                ProductName TEXT , \n",
    "                SupplierID INTEGER, \n",
    "                CategoryID INTEGER,\n",
    "                Unit TEXT,\n",
    "                Price FLOAT\n",
    "        );\"\"\",\n",
    "        \"\"\"\n",
    "        CREATE TABLE IF NOT EXISTS OrderDetails (\n",
    "                OrderDetailID INTEGER PRIMARY KEY, \n",
    "                OrderID INTEGER, \n",
    "                ProductID INTEGER, \n",
    "                Quantity INTEGER\n",
    "        );\"\"\",\n",
    "        \"\"\"\n",
    "        CREATE TABLE IF NOT EXISTS Orders (\n",
    "                OrderID INTEGER PRIMARY KEY, \n",
    "                CustomerID INTEGER, \n",
    "                EmployeeID INTEGER , \n",
    "                OrderDate DATETIME, \n",
    "                ShipperID INTEGER\n",
    "        );\"\"\",\n",
    "        \"\"\"\n",
    "        CREATE TABLE IF NOT EXISTS Categories (\n",
    "                CategoryID INTEGER PRIMARY KEY, \n",
    "                CategoryName TEXT, \n",
    "                Description TEXT\n",
    "        );\"\"\",\n",
    "        \"\"\"\n",
    "        CREATE TABLE IF NOT EXISTS Employees (\n",
    "                EmployeeID INTEGER PRIMARY KEY, \n",
    "                LastName TEXT, \n",
    "                FirstName TEXT, \n",
    "                BirthDate TEXT, \n",
    "                Photo TEXT, \n",
    "                Notes TEXT\n",
    "        );\"\"\",\n",
    "        \"\"\"\n",
    "        CREATE TABLE IF NOT EXISTS Shippers (\n",
    "                ShipperID INTEGER PRIMARY KEY, \n",
    "                ShipperName TEXT, \n",
    "                Phone TEXT\n",
    "        );\"\"\",\n",
    "        \"\"\"\n",
    "        CREATE TABLE IF NOT EXISTS Suppliers (\n",
    "                SupplierID INTEGER PRIMARY KEY, \n",
    "                SupplierName TEXT, \n",
    "                ContactName TEXT, \n",
    "                Address TEXT, \n",
    "                City TEXT, \n",
    "                PostalCode TEXT,\n",
    "                Country TEXT,\n",
    "                Phone TEXT\n",
    "        );\"\"\"]\n",
    "\n",
    "    # create a database connection\n",
    "    try:\n",
    "        with sqlite3.connect(db_name) as conn:\n",
    "            cursor = conn.cursor()\n",
    "            for statement in sql_statements:\n",
    "                cursor.execute(statement)\n",
    "            conn.commit()\n",
    "    except sqlite3.Error as e:\n",
    "        print(e)\n",
    "\n",
    "\n",
    "def main():\n",
    "    try:\n",
    "        with sqlite3.connect(db_name) as con:\n",
    "            #csv 파일 읽기 및 데이터베이스에 삽입\n",
    "            with open('./csv/customers.csv', 'r') as file:\n",
    "                csv_data = csv.reader(file)\n",
    "                next(csv_data)  # 첫번째 행은 헤더이므로 건너뜀\n",
    "                for customer in csv_data:\n",
    "                    cur = con.cursor()\n",
    "                    cur.execute('''\n",
    "                    INSERT INTO Customers(CustomerName,ContactName,Address,City,PostalCode,Country) VALUES(?,?,?,?,?,?) ''',\n",
    "                                customer[1:])\n",
    "                #변경사항 저장 및 연결 종료\n",
    "                con.commit()\n",
    "        with sqlite3.connect(db_name) as con:\n",
    "            with open('./csv/products.csv', 'r') as file:\n",
    "                csv_data = csv.reader(file)\n",
    "                next(csv_data)  # 첫번째 행은 헤더이므로 건너뜀\n",
    "                for product in csv_data:\n",
    "                    cur = con.cursor()\n",
    "                    cur.execute('''\n",
    "                    INSERT INTO Products(ProductName,SupplierID,CategoryID,Unit,Price) VALUES(?,?,?,?,?) ''',\n",
    "                                product[1:])\n",
    "                #변경사항 저장 및 연결 종료\n",
    "                con.commit()\n",
    "        with sqlite3.connect(db_name) as con:\n",
    "            with open('./csv/orderDetails.csv', 'r') as file:\n",
    "                csv_data = csv.reader(file)\n",
    "                next(csv_data)  # 첫번째 행은 헤더이므로 건너뜀\n",
    "                for order_detail in csv_data:\n",
    "                    cur = con.cursor()\n",
    "                    cur.execute('''\n",
    "                    INSERT INTO OrderDetails(OrderID,ProductID,Quantity) VALUES(?,?,?) ''', order_detail[1:])\n",
    "                #변경사항 저장 및 연결 종료\n",
    "                con.commit()\n",
    "        with sqlite3.connect(db_name) as con:\n",
    "            with open('./csv/orders.csv', 'r') as file:\n",
    "                csv_data = csv.reader(file)\n",
    "                next(csv_data)  # 첫번째 행은 헤더이므로 건너뜀\n",
    "                for order in csv_data:\n",
    "                    cur = con.cursor()\n",
    "                    cur.execute('''\n",
    "                    INSERT INTO Orders(OrderID,CustomerID,EmployeeID,OrderDate,ShipperID) VALUES(?,?,?,?,?) ''', order)\n",
    "                #변경사항 저장 및 연결 종료\n",
    "                con.commit()\n",
    "        with sqlite3.connect(db_name) as con:\n",
    "            with open('./csv/categories.csv', 'r') as file:\n",
    "                csv_data = csv.reader(file)\n",
    "                next(csv_data)  # 첫번째 행은 헤더이므로 건너뜀\n",
    "                for category in csv_data:\n",
    "                    cur = con.cursor()\n",
    "                    cur.execute('''\n",
    "                    INSERT INTO Categories(CategoryName,Description) VALUES(?,?) ''',\n",
    "                                category[1:])\n",
    "                #변경사항 저장 및 연결 종료\n",
    "                con.commit()\n",
    "        with sqlite3.connect(db_name) as con:\n",
    "            with open('./csv/employees.csv', 'r') as file:\n",
    "                csv_data = csv.reader(file)\n",
    "                next(csv_data)  # 첫번째 행은 헤더이므로 건너뜀\n",
    "                for employee in csv_data:\n",
    "                    cur = con.cursor()\n",
    "                    cur.execute('''\n",
    "                    INSERT INTO Employees(LastName,FirstName,BirthDate,Photo,Notes) VALUES(?,?,?,?,?) ''',\n",
    "                                employee[1:])\n",
    "                #변경사항 저장 및 연결 종료\n",
    "                con.commit()\n",
    "        with sqlite3.connect(db_name) as con:\n",
    "            with open('./csv/shippers.csv', 'r') as file:\n",
    "                csv_data = csv.reader(file)\n",
    "                next(csv_data)  # 첫번째 행은 헤더이므로 건너뜀\n",
    "                for shipper in csv_data:\n",
    "                    cur = con.cursor()\n",
    "                    cur.execute('''\n",
    "                    INSERT INTO Shippers(ShipperName,Phone) VALUES(?,?) ''',\n",
    "                                shipper[1:])\n",
    "                #변경사항 저장 및 연결 종료\n",
    "                con.commit()\n",
    "        with sqlite3.connect(db_name) as con:\n",
    "            with open('./csv/suppliers.csv', 'r') as file:\n",
    "                csv_data = csv.reader(file)\n",
    "                next(csv_data)  # 첫번째 행은 헤더이므로 건너뜀\n",
    "                for supplier in csv_data:\n",
    "                    cur = con.cursor()\n",
    "                    cur.execute('''\n",
    "                    INSERT INTO Suppliers(SupplierName,ContactName,Address,City,PostalCode,Country,Phone) VALUES(?,?,?,?,?,?,?) ''',\n",
    "                                supplier[1:])\n",
    "                #변경사항 저장 및 연결 종료\n",
    "                con.commit()\n",
    "    except sqlite3.Error as e:\n",
    "        print(e)\n",
    "\n",
    "\n",
    "if __name__ == '__main__':\n",
    "    create_sqlite_database(db_name)\n",
    "    create_tables()\n",
    "    main()\n"
   ],
   "id": "467d763a87c309d2",
   "outputs": [
    {
     "name": "stdout",
     "output_type": "stream",
     "text": [
      "3.41.2\n"
     ]
    }
   ],
   "execution_count": 597
  },
  {
   "metadata": {
    "ExecuteTime": {
     "end_time": "2024-07-10T08:15:06.994131Z",
     "start_time": "2024-07-10T08:15:06.992306Z"
    }
   },
   "cell_type": "code",
   "source": [
    "def send_query(query):\n",
    "    try:\n",
    "        with sqlite3.connect(db_name) as conn:\n",
    "            cur = conn.cursor()\n",
    "            cur.execute(query)\n",
    "            row = cur.fetchall()\n",
    "            return row\n",
    "    except sqlite3.Error as e:\n",
    "        print(e)\n",
    "        return None"
   ],
   "id": "d600257d29667fb2",
   "outputs": [],
   "execution_count": 598
  },
  {
   "metadata": {
    "ExecuteTime": {
     "end_time": "2024-07-10T08:15:07.067481Z",
     "start_time": "2024-07-10T08:15:07.065139Z"
    }
   },
   "cell_type": "code",
   "source": "print(send_query('SELECT * FROM Customers;'))",
   "id": "e8ca22c4f9d44afd",
   "outputs": [
    {
     "name": "stdout",
     "output_type": "stream",
     "text": [
      "[(1, 'Alfreds Futterkiste', 'Maria Anders', 'Obere Str. 57', 'Berlin', '12209', 'Germany'), (2, 'Ana Trujillo Emparedados y helados', 'Ana Trujillo', 'Avda. de la Constitución 2222', 'México D.F.', '05021', 'Mexico'), (3, 'Antonio Moreno Taquería', 'Antonio Moreno', 'Mataderos 2312', 'México D.F.', '05023', 'Mexico'), (4, 'Around the Horn', 'Thomas Hardy', '120 Hanover Sq.', 'London', 'WA1 1DP', 'UK'), (5, 'Berglunds snabbköp', 'Christina Berglund', 'Berguvsvägen 8', 'Luleå', 'S-958 22', 'Sweden'), (6, 'Blauer See Delikatessen', 'Hanna Moos', 'Forsterstr. 57', 'Mannheim', '68306', 'Germany'), (7, 'Blondel père et fils', 'Frédérique Citeaux', '24, place Kléber', 'Strasbourg', '67000', 'France'), (8, 'Bólido Comidas preparadas', 'Martín Sommer', 'C/ Araquil, 67', 'Madrid', '28023', 'Spain'), (9, \"Bon app'\", 'Laurence Lebihans', '12, rue des Bouchers', 'Marseille', '13008', 'France'), (10, 'Bottom-Dollar Marketse', 'Elizabeth Lincoln', '23 Tsawassen Blvd.', 'Tsawassen', 'T2F 8M4', 'Canada'), (11, \"B's Beverages\", 'Victoria Ashworth', 'Fauntleroy Circus', 'London', 'EC2 5NT', 'UK'), (12, 'Cactus Comidas para llevar', 'Patricio Simpson', 'Cerrito 333', 'Buenos Aires', '1010', 'Argentina'), (13, 'Centro comercial Moctezuma', 'Francisco Chang', 'Sierras de Granada 9993', 'México D.F.', '05022', 'Mexico'), (14, 'Chop-suey Chinese', 'Yang Wang', 'Hauptstr. 29', 'Bern', '3012', 'Switzerland'), (15, 'Comércio Mineiro', 'Pedro Afonso', 'Av. dos Lusíadas, 23', 'São Paulo', '05432-043', 'Brazil'), (16, 'Consolidated Holdings', 'Elizabeth Brown', 'Berkeley Gardens 12 Brewery', 'London', 'WX1 6LT', 'UK'), (17, 'Drachenblut Delikatessend', 'Sven Ottlieb', 'Walserweg 21', 'Aachen', '52066', 'Germany'), (18, 'Du monde entier', 'Janine Labrune', '67, rue des Cinquante Otages', 'Nantes', '44000', 'France'), (19, 'Eastern Connection', 'Ann Devon', '35 King George', 'London', 'WX3 6FW', 'UK'), (20, 'Ernst Handel', 'Roland Mendel', 'Kirchgasse 6', 'Graz', '8010', 'Austria'), (21, 'Familia Arquibaldo', 'Aria Cruz', 'Rua Orós, 92', 'São Paulo', '05442-030', 'Brazil'), (22, 'FISSA Fabrica Inter. Salchichas S.A.', 'Diego Roel', 'C/ Moralzarzal, 86', 'Madrid', '28034', 'Spain'), (23, 'Folies gourmandes', 'Martine Rancé', '184, chaussée de Tournai', 'Lille', '59000', 'France'), (24, 'Folk och fä HB', 'Maria Larsson', 'Åkergatan 24', 'Bräcke', 'S-844 67', 'Sweden'), (25, 'Frankenversand', 'Peter Franken', 'Berliner Platz 43', 'München', '80805', 'Germany'), (26, 'France restauration', 'Carine Schmitt', '54, rue Royale', 'Nantes', '44000', 'France'), (27, 'Franchi S.p.A.', 'Paolo Accorti', 'Via Monte Bianco 34', 'Torino', '10100', 'Italy'), (28, 'Furia Bacalhau e Frutos do Mar', 'Lino Rodriguez', 'Jardim das rosas n. 32', 'Lisboa', '1675', 'Portugal'), (29, 'Galería del gastrónomo', 'Eduardo Saavedra', 'Rambla de Cataluña, 23', 'Barcelona', '08022', 'Spain'), (30, 'Godos Cocina Típica', 'José Pedro Freyre', 'C/ Romero, 33', 'Sevilla', '41101', 'Spain'), (31, 'Gourmet Lanchonetes', 'André Fonseca', 'Av. Brasil, 442', 'Campinas', '04876-786', 'Brazil'), (32, 'Great Lakes Food Market', 'Howard Snyder', '2732 Baker Blvd.', 'Eugene', '97403', 'USA'), (33, 'GROSELLA-Restaurante', 'Manuel Pereira', '5ª Ave. Los Palos Grandes', 'Caracas', '1081', 'Venezuela'), (34, 'Hanari Carnes', 'Mario Pontes', 'Rua do Paço, 67', 'Rio de Janeiro', '05454-876', 'Brazil'), (35, 'HILARIÓN-Abastos', 'Carlos Hernández', 'Carrera 22 con Ave. Carlos Soublette #8-35', 'San Cristóbal', '5022', 'Venezuela'), (36, 'Hungry Coyote Import Store', 'Yoshi Latimer', 'City Center Plaza 516 Main St.', 'Elgin', '97827', 'USA'), (37, 'Hungry Owl All-Night Grocers', 'Patricia McKenna', '8 Johnstown Road', 'Cork', '', 'Ireland'), (38, 'Island Trading', 'Helen Bennett', 'Garden House Crowther Way', 'Cowes', 'PO31 7PJ', 'UK'), (39, 'Königlich Essen', 'Philip Cramer', 'Maubelstr. 90', 'Brandenburg', '14776', 'Germany'), (40, \"La corne d'abondance\", 'Daniel Tonini', \"67, avenue de l'Europe\", 'Versailles', '78000', 'France'), (41, \"La maison d'Asie\", 'Annette Roulet', '1 rue Alsace-Lorraine', 'Toulouse', '31000', 'France'), (42, 'Laughing Bacchus Wine Cellars', 'Yoshi Tannamuri', '1900 Oak St.', 'Vancouver', 'V3F 2K1', 'Canada'), (43, 'Lazy K Kountry Store', 'John Steel', '12 Orchestra Terrace', 'Walla Walla', '99362', 'USA'), (44, 'Lehmanns Marktstand', 'Renate Messner', 'Magazinweg 7', 'Frankfurt a.M.', '60528', 'Germany'), (45, \"Let's Stop N Shop\", 'Jaime Yorres', '87 Polk St. Suite 5', 'San Francisco', '94117', 'USA'), (46, 'LILA-Supermercado', 'Carlos González', 'Carrera 52 con Ave. Bolívar #65-98 Llano Largo', 'Barquisimeto', '3508', 'Venezuela'), (47, 'LINO-Delicateses', 'Felipe Izquierdo', 'Ave. 5 de Mayo Porlamar', 'I. de Margarita', '4980', 'Venezuela'), (48, 'Lonesome Pine Restaurant', 'Fran Wilson', '89 Chiaroscuro Rd.', 'Portland', '97219', 'USA'), (49, 'Magazzini Alimentari Riuniti', 'Giovanni Rovelli', 'Via Ludovico il Moro 22', 'Bergamo', '24100', 'Italy'), (50, 'Maison Dewey', 'Catherine Dewey', 'Rue Joseph-Bens 532', 'Bruxelles', 'B-1180', 'Belgium'), (51, 'Mère Paillarde', 'Jean Fresnière', '43 rue St. Laurent', 'Montréal', 'H1J 1C3', 'Canada'), (52, 'Morgenstern Gesundkost', 'Alexander Feuer', 'Heerstr. 22', 'Leipzig', '04179', 'Germany'), (53, 'North/South', 'Simon Crowther', 'South House 300 Queensbridge', 'London', 'SW7 1RZ', 'UK'), (54, 'Océano Atlántico Ltda.', 'Yvonne Moncada', 'Ing. Gustavo Moncada 8585 Piso 20-A', 'Buenos Aires', '1010', 'Argentina'), (55, 'Old World Delicatessen', 'Rene Phillips', '2743 Bering St.', 'Anchorage', '99508', 'USA'), (56, 'Ottilies Käseladen', 'Henriette Pfalzheim', 'Mehrheimerstr. 369', 'Köln', '50739', 'Germany'), (57, 'Paris spécialités', 'Marie Bertrand', '265, boulevard Charonne', 'Paris', '75012', 'France'), (58, 'Pericles Comidas clásicas', 'Guillermo Fernández', 'Calle Dr. Jorge Cash 321', 'México D.F.', '05033', 'Mexico'), (59, 'Piccolo und mehr', 'Georg Pipps', 'Geislweg 14', 'Salzburg', '5020', 'Austria'), (60, 'Princesa Isabel Vinhoss', 'Isabel de Castro', 'Estrada da saúde n. 58', 'Lisboa', '1756', 'Portugal'), (61, 'Que Delícia', 'Bernardo Batista', 'Rua da Panificadora, 12', 'Rio de Janeiro', '02389-673', 'Brazil'), (62, 'Queen Cozinha', 'Lúcia Carvalho', 'Alameda dos Canàrios, 891', 'São Paulo', '05487-020', 'Brazil'), (63, 'QUICK-Stop', 'Horst Kloss', 'Taucherstraße 10', 'Cunewalde', '01307', 'Germany'), (64, 'Rancho grande', 'Sergio Gutiérrez', 'Av. del Libertador 900', 'Buenos Aires', '1010', 'Argentina'), (65, 'Rattlesnake Canyon Grocery', 'Paula Wilson', '2817 Milton Dr.', 'Albuquerque', '87110', 'USA'), (66, 'Reggiani Caseifici', 'Maurizio Moroni', 'Strada Provinciale 124', 'Reggio Emilia', '42100', 'Italy'), (67, 'Ricardo Adocicados', 'Janete Limeira', 'Av. Copacabana, 267', 'Rio de Janeiro', '02389-890', 'Brazil'), (68, 'Richter Supermarkt', 'Michael Holz', 'Grenzacherweg 237', 'Genève', '1203', 'Switzerland'), (69, 'Romero y tomillo', 'Alejandra Camino', 'Gran Vía, 1', 'Madrid', '28001', 'Spain'), (70, 'Santé Gourmet', 'Jonas Bergulfsen', 'Erling Skakkes gate 78', 'Stavern', '4110', 'Norway'), (71, 'Save-a-lot Markets', 'Jose Pavarotti', '187 Suffolk Ln.', 'Boise', '83720', 'USA'), (72, 'Seven Seas Imports', 'Hari Kumar', '90 Wadhurst Rd.', 'London', 'OX15 4NB', 'UK'), (73, 'Simons bistro', 'Jytte Petersen', 'Vinbæltet 34', 'København', '1734', 'Denmark'), (74, 'Spécialités du monde', 'Dominique Perrier', '25, rue Lauriston', 'Paris', '75016', 'France'), (75, 'Split Rail Beer & Ale', 'Art Braunschweiger', 'P.O. Box 555', 'Lander', '82520', 'USA'), (76, 'Suprêmes délices', 'Pascale Cartrain', 'Boulevard Tirou, 255', 'Charleroi', 'B-6000', 'Belgium'), (77, 'The Big Cheese', 'Liz Nixon', '89 Jefferson Way Suite 2', 'Portland', '97201', 'USA'), (78, 'The Cracker Box', 'Liu Wong', '55 Grizzly Peak Rd.', 'Butte', '59801', 'USA'), (79, 'Toms Spezialitäten', 'Karin Josephs', 'Luisenstr. 48', 'Münster', '44087', 'Germany'), (80, 'Tortuga Restaurante', 'Miguel Angel Paolino', 'Avda. Azteca 123', 'México D.F.', '05033', 'Mexico'), (81, 'Tradição Hipermercados', 'Anabela Domingues', 'Av. Inês de Castro, 414', 'São Paulo', '05634-030', 'Brazil'), (82, \"Trail's Head Gourmet Provisioners\", 'Helvetius Nagy', '722 DaVinci Blvd.', 'Kirkland', '98034', 'USA'), (83, 'Vaffeljernet', 'Palle Ibsen', 'Smagsløget 45', 'Århus', '8200', 'Denmark'), (84, 'Victuailles en stock', 'Mary Saveley', '2, rue du Commerce', 'Lyon', '69004', 'France'), (85, 'Vins et alcools Chevalier', 'Paul Henriot', \"59 rue de l'Abbaye\", 'Reims', '51100', 'France'), (86, 'Die Wandernde Kuh', 'Rita Müller', 'Adenauerallee 900', 'Stuttgart', '70563', 'Germany'), (87, 'Wartian Herkku', 'Pirkko Koskitalo', 'Torikatu 38', 'Oulu', '90110', 'Finland'), (88, 'Wellington Importadora', 'Paula Parente', 'Rua do Mercado, 12', 'Resende', '08737-363', 'Brazil'), (89, 'White Clover Markets', 'Karl Jablonski', '305 - 14th Ave. S. Suite 3B', 'Seattle', '98128', 'USA'), (90, 'Wilman Kala', 'Matti Karttunen', 'Keskuskatu 45', 'Helsinki', '21240', 'Finland'), (91, 'Wolski', 'Zbyszek', 'ul. Filtrowa 68', 'Walla', '01-012', 'Poland')]\n"
     ]
    }
   ],
   "execution_count": 599
  },
  {
   "metadata": {
    "ExecuteTime": {
     "end_time": "2024-07-10T08:15:07.191688Z",
     "start_time": "2024-07-10T08:15:07.189304Z"
    }
   },
   "cell_type": "code",
   "source": "print(send_query('SELECT CustomerName, City FROM Customers;'))",
   "id": "7b1b711cad344569",
   "outputs": [
    {
     "name": "stdout",
     "output_type": "stream",
     "text": [
      "[('Alfreds Futterkiste', 'Berlin'), ('Ana Trujillo Emparedados y helados', 'México D.F.'), ('Antonio Moreno Taquería', 'México D.F.'), ('Around the Horn', 'London'), ('Berglunds snabbköp', 'Luleå'), ('Blauer See Delikatessen', 'Mannheim'), ('Blondel père et fils', 'Strasbourg'), ('Bólido Comidas preparadas', 'Madrid'), (\"Bon app'\", 'Marseille'), ('Bottom-Dollar Marketse', 'Tsawassen'), (\"B's Beverages\", 'London'), ('Cactus Comidas para llevar', 'Buenos Aires'), ('Centro comercial Moctezuma', 'México D.F.'), ('Chop-suey Chinese', 'Bern'), ('Comércio Mineiro', 'São Paulo'), ('Consolidated Holdings', 'London'), ('Drachenblut Delikatessend', 'Aachen'), ('Du monde entier', 'Nantes'), ('Eastern Connection', 'London'), ('Ernst Handel', 'Graz'), ('Familia Arquibaldo', 'São Paulo'), ('FISSA Fabrica Inter. Salchichas S.A.', 'Madrid'), ('Folies gourmandes', 'Lille'), ('Folk och fä HB', 'Bräcke'), ('Frankenversand', 'München'), ('France restauration', 'Nantes'), ('Franchi S.p.A.', 'Torino'), ('Furia Bacalhau e Frutos do Mar', 'Lisboa'), ('Galería del gastrónomo', 'Barcelona'), ('Godos Cocina Típica', 'Sevilla'), ('Gourmet Lanchonetes', 'Campinas'), ('Great Lakes Food Market', 'Eugene'), ('GROSELLA-Restaurante', 'Caracas'), ('Hanari Carnes', 'Rio de Janeiro'), ('HILARIÓN-Abastos', 'San Cristóbal'), ('Hungry Coyote Import Store', 'Elgin'), ('Hungry Owl All-Night Grocers', 'Cork'), ('Island Trading', 'Cowes'), ('Königlich Essen', 'Brandenburg'), (\"La corne d'abondance\", 'Versailles'), (\"La maison d'Asie\", 'Toulouse'), ('Laughing Bacchus Wine Cellars', 'Vancouver'), ('Lazy K Kountry Store', 'Walla Walla'), ('Lehmanns Marktstand', 'Frankfurt a.M.'), (\"Let's Stop N Shop\", 'San Francisco'), ('LILA-Supermercado', 'Barquisimeto'), ('LINO-Delicateses', 'I. de Margarita'), ('Lonesome Pine Restaurant', 'Portland'), ('Magazzini Alimentari Riuniti', 'Bergamo'), ('Maison Dewey', 'Bruxelles'), ('Mère Paillarde', 'Montréal'), ('Morgenstern Gesundkost', 'Leipzig'), ('North/South', 'London'), ('Océano Atlántico Ltda.', 'Buenos Aires'), ('Old World Delicatessen', 'Anchorage'), ('Ottilies Käseladen', 'Köln'), ('Paris spécialités', 'Paris'), ('Pericles Comidas clásicas', 'México D.F.'), ('Piccolo und mehr', 'Salzburg'), ('Princesa Isabel Vinhoss', 'Lisboa'), ('Que Delícia', 'Rio de Janeiro'), ('Queen Cozinha', 'São Paulo'), ('QUICK-Stop', 'Cunewalde'), ('Rancho grande', 'Buenos Aires'), ('Rattlesnake Canyon Grocery', 'Albuquerque'), ('Reggiani Caseifici', 'Reggio Emilia'), ('Ricardo Adocicados', 'Rio de Janeiro'), ('Richter Supermarkt', 'Genève'), ('Romero y tomillo', 'Madrid'), ('Santé Gourmet', 'Stavern'), ('Save-a-lot Markets', 'Boise'), ('Seven Seas Imports', 'London'), ('Simons bistro', 'København'), ('Spécialités du monde', 'Paris'), ('Split Rail Beer & Ale', 'Lander'), ('Suprêmes délices', 'Charleroi'), ('The Big Cheese', 'Portland'), ('The Cracker Box', 'Butte'), ('Toms Spezialitäten', 'Münster'), ('Tortuga Restaurante', 'México D.F.'), ('Tradição Hipermercados', 'São Paulo'), (\"Trail's Head Gourmet Provisioners\", 'Kirkland'), ('Vaffeljernet', 'Århus'), ('Victuailles en stock', 'Lyon'), ('Vins et alcools Chevalier', 'Reims'), ('Die Wandernde Kuh', 'Stuttgart'), ('Wartian Herkku', 'Oulu'), ('Wellington Importadora', 'Resende'), ('White Clover Markets', 'Seattle'), ('Wilman Kala', 'Helsinki'), ('Wolski', 'Walla')]\n"
     ]
    }
   ],
   "execution_count": 600
  },
  {
   "metadata": {
    "ExecuteTime": {
     "end_time": "2024-07-10T08:15:07.269070Z",
     "start_time": "2024-07-10T08:15:07.266521Z"
    }
   },
   "cell_type": "code",
   "source": "print(send_query('SELECT * FROM Customers;'))",
   "id": "d9f449732560ac9d",
   "outputs": [
    {
     "name": "stdout",
     "output_type": "stream",
     "text": [
      "[(1, 'Alfreds Futterkiste', 'Maria Anders', 'Obere Str. 57', 'Berlin', '12209', 'Germany'), (2, 'Ana Trujillo Emparedados y helados', 'Ana Trujillo', 'Avda. de la Constitución 2222', 'México D.F.', '05021', 'Mexico'), (3, 'Antonio Moreno Taquería', 'Antonio Moreno', 'Mataderos 2312', 'México D.F.', '05023', 'Mexico'), (4, 'Around the Horn', 'Thomas Hardy', '120 Hanover Sq.', 'London', 'WA1 1DP', 'UK'), (5, 'Berglunds snabbköp', 'Christina Berglund', 'Berguvsvägen 8', 'Luleå', 'S-958 22', 'Sweden'), (6, 'Blauer See Delikatessen', 'Hanna Moos', 'Forsterstr. 57', 'Mannheim', '68306', 'Germany'), (7, 'Blondel père et fils', 'Frédérique Citeaux', '24, place Kléber', 'Strasbourg', '67000', 'France'), (8, 'Bólido Comidas preparadas', 'Martín Sommer', 'C/ Araquil, 67', 'Madrid', '28023', 'Spain'), (9, \"Bon app'\", 'Laurence Lebihans', '12, rue des Bouchers', 'Marseille', '13008', 'France'), (10, 'Bottom-Dollar Marketse', 'Elizabeth Lincoln', '23 Tsawassen Blvd.', 'Tsawassen', 'T2F 8M4', 'Canada'), (11, \"B's Beverages\", 'Victoria Ashworth', 'Fauntleroy Circus', 'London', 'EC2 5NT', 'UK'), (12, 'Cactus Comidas para llevar', 'Patricio Simpson', 'Cerrito 333', 'Buenos Aires', '1010', 'Argentina'), (13, 'Centro comercial Moctezuma', 'Francisco Chang', 'Sierras de Granada 9993', 'México D.F.', '05022', 'Mexico'), (14, 'Chop-suey Chinese', 'Yang Wang', 'Hauptstr. 29', 'Bern', '3012', 'Switzerland'), (15, 'Comércio Mineiro', 'Pedro Afonso', 'Av. dos Lusíadas, 23', 'São Paulo', '05432-043', 'Brazil'), (16, 'Consolidated Holdings', 'Elizabeth Brown', 'Berkeley Gardens 12 Brewery', 'London', 'WX1 6LT', 'UK'), (17, 'Drachenblut Delikatessend', 'Sven Ottlieb', 'Walserweg 21', 'Aachen', '52066', 'Germany'), (18, 'Du monde entier', 'Janine Labrune', '67, rue des Cinquante Otages', 'Nantes', '44000', 'France'), (19, 'Eastern Connection', 'Ann Devon', '35 King George', 'London', 'WX3 6FW', 'UK'), (20, 'Ernst Handel', 'Roland Mendel', 'Kirchgasse 6', 'Graz', '8010', 'Austria'), (21, 'Familia Arquibaldo', 'Aria Cruz', 'Rua Orós, 92', 'São Paulo', '05442-030', 'Brazil'), (22, 'FISSA Fabrica Inter. Salchichas S.A.', 'Diego Roel', 'C/ Moralzarzal, 86', 'Madrid', '28034', 'Spain'), (23, 'Folies gourmandes', 'Martine Rancé', '184, chaussée de Tournai', 'Lille', '59000', 'France'), (24, 'Folk och fä HB', 'Maria Larsson', 'Åkergatan 24', 'Bräcke', 'S-844 67', 'Sweden'), (25, 'Frankenversand', 'Peter Franken', 'Berliner Platz 43', 'München', '80805', 'Germany'), (26, 'France restauration', 'Carine Schmitt', '54, rue Royale', 'Nantes', '44000', 'France'), (27, 'Franchi S.p.A.', 'Paolo Accorti', 'Via Monte Bianco 34', 'Torino', '10100', 'Italy'), (28, 'Furia Bacalhau e Frutos do Mar', 'Lino Rodriguez', 'Jardim das rosas n. 32', 'Lisboa', '1675', 'Portugal'), (29, 'Galería del gastrónomo', 'Eduardo Saavedra', 'Rambla de Cataluña, 23', 'Barcelona', '08022', 'Spain'), (30, 'Godos Cocina Típica', 'José Pedro Freyre', 'C/ Romero, 33', 'Sevilla', '41101', 'Spain'), (31, 'Gourmet Lanchonetes', 'André Fonseca', 'Av. Brasil, 442', 'Campinas', '04876-786', 'Brazil'), (32, 'Great Lakes Food Market', 'Howard Snyder', '2732 Baker Blvd.', 'Eugene', '97403', 'USA'), (33, 'GROSELLA-Restaurante', 'Manuel Pereira', '5ª Ave. Los Palos Grandes', 'Caracas', '1081', 'Venezuela'), (34, 'Hanari Carnes', 'Mario Pontes', 'Rua do Paço, 67', 'Rio de Janeiro', '05454-876', 'Brazil'), (35, 'HILARIÓN-Abastos', 'Carlos Hernández', 'Carrera 22 con Ave. Carlos Soublette #8-35', 'San Cristóbal', '5022', 'Venezuela'), (36, 'Hungry Coyote Import Store', 'Yoshi Latimer', 'City Center Plaza 516 Main St.', 'Elgin', '97827', 'USA'), (37, 'Hungry Owl All-Night Grocers', 'Patricia McKenna', '8 Johnstown Road', 'Cork', '', 'Ireland'), (38, 'Island Trading', 'Helen Bennett', 'Garden House Crowther Way', 'Cowes', 'PO31 7PJ', 'UK'), (39, 'Königlich Essen', 'Philip Cramer', 'Maubelstr. 90', 'Brandenburg', '14776', 'Germany'), (40, \"La corne d'abondance\", 'Daniel Tonini', \"67, avenue de l'Europe\", 'Versailles', '78000', 'France'), (41, \"La maison d'Asie\", 'Annette Roulet', '1 rue Alsace-Lorraine', 'Toulouse', '31000', 'France'), (42, 'Laughing Bacchus Wine Cellars', 'Yoshi Tannamuri', '1900 Oak St.', 'Vancouver', 'V3F 2K1', 'Canada'), (43, 'Lazy K Kountry Store', 'John Steel', '12 Orchestra Terrace', 'Walla Walla', '99362', 'USA'), (44, 'Lehmanns Marktstand', 'Renate Messner', 'Magazinweg 7', 'Frankfurt a.M.', '60528', 'Germany'), (45, \"Let's Stop N Shop\", 'Jaime Yorres', '87 Polk St. Suite 5', 'San Francisco', '94117', 'USA'), (46, 'LILA-Supermercado', 'Carlos González', 'Carrera 52 con Ave. Bolívar #65-98 Llano Largo', 'Barquisimeto', '3508', 'Venezuela'), (47, 'LINO-Delicateses', 'Felipe Izquierdo', 'Ave. 5 de Mayo Porlamar', 'I. de Margarita', '4980', 'Venezuela'), (48, 'Lonesome Pine Restaurant', 'Fran Wilson', '89 Chiaroscuro Rd.', 'Portland', '97219', 'USA'), (49, 'Magazzini Alimentari Riuniti', 'Giovanni Rovelli', 'Via Ludovico il Moro 22', 'Bergamo', '24100', 'Italy'), (50, 'Maison Dewey', 'Catherine Dewey', 'Rue Joseph-Bens 532', 'Bruxelles', 'B-1180', 'Belgium'), (51, 'Mère Paillarde', 'Jean Fresnière', '43 rue St. Laurent', 'Montréal', 'H1J 1C3', 'Canada'), (52, 'Morgenstern Gesundkost', 'Alexander Feuer', 'Heerstr. 22', 'Leipzig', '04179', 'Germany'), (53, 'North/South', 'Simon Crowther', 'South House 300 Queensbridge', 'London', 'SW7 1RZ', 'UK'), (54, 'Océano Atlántico Ltda.', 'Yvonne Moncada', 'Ing. Gustavo Moncada 8585 Piso 20-A', 'Buenos Aires', '1010', 'Argentina'), (55, 'Old World Delicatessen', 'Rene Phillips', '2743 Bering St.', 'Anchorage', '99508', 'USA'), (56, 'Ottilies Käseladen', 'Henriette Pfalzheim', 'Mehrheimerstr. 369', 'Köln', '50739', 'Germany'), (57, 'Paris spécialités', 'Marie Bertrand', '265, boulevard Charonne', 'Paris', '75012', 'France'), (58, 'Pericles Comidas clásicas', 'Guillermo Fernández', 'Calle Dr. Jorge Cash 321', 'México D.F.', '05033', 'Mexico'), (59, 'Piccolo und mehr', 'Georg Pipps', 'Geislweg 14', 'Salzburg', '5020', 'Austria'), (60, 'Princesa Isabel Vinhoss', 'Isabel de Castro', 'Estrada da saúde n. 58', 'Lisboa', '1756', 'Portugal'), (61, 'Que Delícia', 'Bernardo Batista', 'Rua da Panificadora, 12', 'Rio de Janeiro', '02389-673', 'Brazil'), (62, 'Queen Cozinha', 'Lúcia Carvalho', 'Alameda dos Canàrios, 891', 'São Paulo', '05487-020', 'Brazil'), (63, 'QUICK-Stop', 'Horst Kloss', 'Taucherstraße 10', 'Cunewalde', '01307', 'Germany'), (64, 'Rancho grande', 'Sergio Gutiérrez', 'Av. del Libertador 900', 'Buenos Aires', '1010', 'Argentina'), (65, 'Rattlesnake Canyon Grocery', 'Paula Wilson', '2817 Milton Dr.', 'Albuquerque', '87110', 'USA'), (66, 'Reggiani Caseifici', 'Maurizio Moroni', 'Strada Provinciale 124', 'Reggio Emilia', '42100', 'Italy'), (67, 'Ricardo Adocicados', 'Janete Limeira', 'Av. Copacabana, 267', 'Rio de Janeiro', '02389-890', 'Brazil'), (68, 'Richter Supermarkt', 'Michael Holz', 'Grenzacherweg 237', 'Genève', '1203', 'Switzerland'), (69, 'Romero y tomillo', 'Alejandra Camino', 'Gran Vía, 1', 'Madrid', '28001', 'Spain'), (70, 'Santé Gourmet', 'Jonas Bergulfsen', 'Erling Skakkes gate 78', 'Stavern', '4110', 'Norway'), (71, 'Save-a-lot Markets', 'Jose Pavarotti', '187 Suffolk Ln.', 'Boise', '83720', 'USA'), (72, 'Seven Seas Imports', 'Hari Kumar', '90 Wadhurst Rd.', 'London', 'OX15 4NB', 'UK'), (73, 'Simons bistro', 'Jytte Petersen', 'Vinbæltet 34', 'København', '1734', 'Denmark'), (74, 'Spécialités du monde', 'Dominique Perrier', '25, rue Lauriston', 'Paris', '75016', 'France'), (75, 'Split Rail Beer & Ale', 'Art Braunschweiger', 'P.O. Box 555', 'Lander', '82520', 'USA'), (76, 'Suprêmes délices', 'Pascale Cartrain', 'Boulevard Tirou, 255', 'Charleroi', 'B-6000', 'Belgium'), (77, 'The Big Cheese', 'Liz Nixon', '89 Jefferson Way Suite 2', 'Portland', '97201', 'USA'), (78, 'The Cracker Box', 'Liu Wong', '55 Grizzly Peak Rd.', 'Butte', '59801', 'USA'), (79, 'Toms Spezialitäten', 'Karin Josephs', 'Luisenstr. 48', 'Münster', '44087', 'Germany'), (80, 'Tortuga Restaurante', 'Miguel Angel Paolino', 'Avda. Azteca 123', 'México D.F.', '05033', 'Mexico'), (81, 'Tradição Hipermercados', 'Anabela Domingues', 'Av. Inês de Castro, 414', 'São Paulo', '05634-030', 'Brazil'), (82, \"Trail's Head Gourmet Provisioners\", 'Helvetius Nagy', '722 DaVinci Blvd.', 'Kirkland', '98034', 'USA'), (83, 'Vaffeljernet', 'Palle Ibsen', 'Smagsløget 45', 'Århus', '8200', 'Denmark'), (84, 'Victuailles en stock', 'Mary Saveley', '2, rue du Commerce', 'Lyon', '69004', 'France'), (85, 'Vins et alcools Chevalier', 'Paul Henriot', \"59 rue de l'Abbaye\", 'Reims', '51100', 'France'), (86, 'Die Wandernde Kuh', 'Rita Müller', 'Adenauerallee 900', 'Stuttgart', '70563', 'Germany'), (87, 'Wartian Herkku', 'Pirkko Koskitalo', 'Torikatu 38', 'Oulu', '90110', 'Finland'), (88, 'Wellington Importadora', 'Paula Parente', 'Rua do Mercado, 12', 'Resende', '08737-363', 'Brazil'), (89, 'White Clover Markets', 'Karl Jablonski', '305 - 14th Ave. S. Suite 3B', 'Seattle', '98128', 'USA'), (90, 'Wilman Kala', 'Matti Karttunen', 'Keskuskatu 45', 'Helsinki', '21240', 'Finland'), (91, 'Wolski', 'Zbyszek', 'ul. Filtrowa 68', 'Walla', '01-012', 'Poland')]\n"
     ]
    }
   ],
   "execution_count": 601
  },
  {
   "metadata": {
    "ExecuteTime": {
     "end_time": "2024-07-10T08:15:07.380213Z",
     "start_time": "2024-07-10T08:15:07.378190Z"
    }
   },
   "cell_type": "code",
   "source": "print(send_query('SELECT DISTINCT Country FROM Customers;'))",
   "id": "e66e0f6b56998c41",
   "outputs": [
    {
     "name": "stdout",
     "output_type": "stream",
     "text": [
      "[('Germany',), ('Mexico',), ('UK',), ('Sweden',), ('France',), ('Spain',), ('Canada',), ('Argentina',), ('Switzerland',), ('Brazil',), ('Austria',), ('Italy',), ('Portugal',), ('USA',), ('Venezuela',), ('Ireland',), ('Belgium',), ('Norway',), ('Denmark',), ('Finland',), ('Poland',)]\n"
     ]
    }
   ],
   "execution_count": 602
  },
  {
   "metadata": {
    "ExecuteTime": {
     "end_time": "2024-07-10T08:15:07.477761Z",
     "start_time": "2024-07-10T08:15:07.475661Z"
    }
   },
   "cell_type": "code",
   "source": "print(send_query('SELECT Country FROM Customers;'))",
   "id": "c61cfd217d132234",
   "outputs": [
    {
     "name": "stdout",
     "output_type": "stream",
     "text": [
      "[('Germany',), ('Mexico',), ('Mexico',), ('UK',), ('Sweden',), ('Germany',), ('France',), ('Spain',), ('France',), ('Canada',), ('UK',), ('Argentina',), ('Mexico',), ('Switzerland',), ('Brazil',), ('UK',), ('Germany',), ('France',), ('UK',), ('Austria',), ('Brazil',), ('Spain',), ('France',), ('Sweden',), ('Germany',), ('France',), ('Italy',), ('Portugal',), ('Spain',), ('Spain',), ('Brazil',), ('USA',), ('Venezuela',), ('Brazil',), ('Venezuela',), ('USA',), ('Ireland',), ('UK',), ('Germany',), ('France',), ('France',), ('Canada',), ('USA',), ('Germany',), ('USA',), ('Venezuela',), ('Venezuela',), ('USA',), ('Italy',), ('Belgium',), ('Canada',), ('Germany',), ('UK',), ('Argentina',), ('USA',), ('Germany',), ('France',), ('Mexico',), ('Austria',), ('Portugal',), ('Brazil',), ('Brazil',), ('Germany',), ('Argentina',), ('USA',), ('Italy',), ('Brazil',), ('Switzerland',), ('Spain',), ('Norway',), ('USA',), ('UK',), ('Denmark',), ('France',), ('USA',), ('Belgium',), ('USA',), ('USA',), ('Germany',), ('Mexico',), ('Brazil',), ('USA',), ('Denmark',), ('France',), ('France',), ('Germany',), ('Finland',), ('Brazil',), ('USA',), ('Finland',), ('Poland',)]\n"
     ]
    }
   ],
   "execution_count": 603
  },
  {
   "metadata": {
    "ExecuteTime": {
     "end_time": "2024-07-10T08:15:07.598371Z",
     "start_time": "2024-07-10T08:15:07.596287Z"
    }
   },
   "cell_type": "code",
   "source": "print(send_query('SELECT COUNT(DISTINCT Country) FROM Customers;'))",
   "id": "8ab0a31b6ba5f78",
   "outputs": [
    {
     "name": "stdout",
     "output_type": "stream",
     "text": [
      "[(21,)]\n"
     ]
    }
   ],
   "execution_count": 604
  },
  {
   "metadata": {
    "ExecuteTime": {
     "end_time": "2024-07-10T08:15:07.697658Z",
     "start_time": "2024-07-10T08:15:07.695601Z"
    }
   },
   "cell_type": "code",
   "source": "print(send_query('SELECT Count(*) AS DistinctCountries FROM (SELECT DISTINCT Country FROM Customers);'))",
   "id": "1190d6242c2a5516",
   "outputs": [
    {
     "name": "stdout",
     "output_type": "stream",
     "text": [
      "[(21,)]\n"
     ]
    }
   ],
   "execution_count": 605
  },
  {
   "metadata": {
    "ExecuteTime": {
     "end_time": "2024-07-10T08:15:07.793174Z",
     "start_time": "2024-07-10T08:15:07.791123Z"
    }
   },
   "cell_type": "code",
   "source": [
    "print(send_query(\"\"\"\n",
    "SELECT * FROM Customers\n",
    "WHERE Country='Mexico';\n",
    "\"\"\"))"
   ],
   "id": "3606e26bb24cabe1",
   "outputs": [
    {
     "name": "stdout",
     "output_type": "stream",
     "text": [
      "[(2, 'Ana Trujillo Emparedados y helados', 'Ana Trujillo', 'Avda. de la Constitución 2222', 'México D.F.', '05021', 'Mexico'), (3, 'Antonio Moreno Taquería', 'Antonio Moreno', 'Mataderos 2312', 'México D.F.', '05023', 'Mexico'), (13, 'Centro comercial Moctezuma', 'Francisco Chang', 'Sierras de Granada 9993', 'México D.F.', '05022', 'Mexico'), (58, 'Pericles Comidas clásicas', 'Guillermo Fernández', 'Calle Dr. Jorge Cash 321', 'México D.F.', '05033', 'Mexico'), (80, 'Tortuga Restaurante', 'Miguel Angel Paolino', 'Avda. Azteca 123', 'México D.F.', '05033', 'Mexico')]\n"
     ]
    }
   ],
   "execution_count": 606
  },
  {
   "metadata": {
    "ExecuteTime": {
     "end_time": "2024-07-10T08:15:07.876142Z",
     "start_time": "2024-07-10T08:15:07.874Z"
    }
   },
   "cell_type": "code",
   "source": [
    "print(send_query(\"\"\"\n",
    "SELECT * FROM Customers\n",
    "WHERE CustomerID=1;\n",
    "\"\"\"))"
   ],
   "id": "5351ab2fca5219c5",
   "outputs": [
    {
     "name": "stdout",
     "output_type": "stream",
     "text": [
      "[(1, 'Alfreds Futterkiste', 'Maria Anders', 'Obere Str. 57', 'Berlin', '12209', 'Germany')]\n"
     ]
    }
   ],
   "execution_count": 607
  },
  {
   "metadata": {
    "ExecuteTime": {
     "end_time": "2024-07-10T08:15:08.010690Z",
     "start_time": "2024-07-10T08:15:08.008753Z"
    }
   },
   "cell_type": "code",
   "source": [
    "print(send_query(\"\"\"\n",
    "SELECT * FROM Customers\n",
    "WHERE CustomerID > 80;\n",
    "\"\"\"))"
   ],
   "id": "de0dd0f93d766fe5",
   "outputs": [
    {
     "name": "stdout",
     "output_type": "stream",
     "text": [
      "[(81, 'Tradição Hipermercados', 'Anabela Domingues', 'Av. Inês de Castro, 414', 'São Paulo', '05634-030', 'Brazil'), (82, \"Trail's Head Gourmet Provisioners\", 'Helvetius Nagy', '722 DaVinci Blvd.', 'Kirkland', '98034', 'USA'), (83, 'Vaffeljernet', 'Palle Ibsen', 'Smagsløget 45', 'Århus', '8200', 'Denmark'), (84, 'Victuailles en stock', 'Mary Saveley', '2, rue du Commerce', 'Lyon', '69004', 'France'), (85, 'Vins et alcools Chevalier', 'Paul Henriot', \"59 rue de l'Abbaye\", 'Reims', '51100', 'France'), (86, 'Die Wandernde Kuh', 'Rita Müller', 'Adenauerallee 900', 'Stuttgart', '70563', 'Germany'), (87, 'Wartian Herkku', 'Pirkko Koskitalo', 'Torikatu 38', 'Oulu', '90110', 'Finland'), (88, 'Wellington Importadora', 'Paula Parente', 'Rua do Mercado, 12', 'Resende', '08737-363', 'Brazil'), (89, 'White Clover Markets', 'Karl Jablonski', '305 - 14th Ave. S. Suite 3B', 'Seattle', '98128', 'USA'), (90, 'Wilman Kala', 'Matti Karttunen', 'Keskuskatu 45', 'Helsinki', '21240', 'Finland'), (91, 'Wolski', 'Zbyszek', 'ul. Filtrowa 68', 'Walla', '01-012', 'Poland')]\n"
     ]
    }
   ],
   "execution_count": 608
  },
  {
   "metadata": {
    "ExecuteTime": {
     "end_time": "2024-07-10T08:15:08.119688Z",
     "start_time": "2024-07-10T08:15:08.117521Z"
    }
   },
   "cell_type": "code",
   "source": [
    "print(send_query(\"\"\"\n",
    "SELECT * FROM Products\n",
    "ORDER BY Price;\n",
    "\"\"\"))"
   ],
   "id": "d3c0ee640df7347f",
   "outputs": [
    {
     "name": "stdout",
     "output_type": "stream",
     "text": [
      "[(33, 'Geitost', 15, 4, '500 g', 2.5), (24, 'Guaraná Fantástica', 10, 1, '12 - 355 ml cans', 4.5), (13, 'Konbu', 6, 8, '2 kg box', 6.0), (52, 'Filo Mix', 24, 5, '16 - 2 kg boxes', 7.0), (54, 'Tourtière', 25, 6, '16 pies', 7.45), (75, 'Rhönbräu Klosterbier', 12, 1, '24 - 0.5 l bottles', 7.75), (23, 'Tunnbröd', 9, 5, '12 - 250 g pkgs.', 9.0), (19, 'Teatime Chocolate Biscuits', 8, 3, '10 boxes x 12 pieces', 9.2), (45, 'Røgede sild', 21, 8, '1k pkg.', 9.5), (47, 'Zaanse koeken', 22, 3, '10 - 4 oz boxes', 9.5), (41, \"Jack's New England Clam Chowder\", 19, 8, '12 - 12 oz cans', 9.65), (3, 'Aniseed Syrup', 1, 2, '12 - 550 ml bottles', 10.0), (21, \"Sir Rodney's Scones\", 8, 3, '24 pkgs. x 4 pieces', 10.0), (74, 'Longlife Tofu', 4, 7, '5 kg pkg.', 10.0), (46, 'Spegesild', 21, 8, '4 - 450 g glasses', 12.0), (31, 'Gorgonzola Telino', 14, 4, '12 - 100 g pkgs', 12.5), (68, 'Scottish Longbreads', 8, 3, '10 boxes x 8 pieces', 12.5), (48, 'Chocolade', 22, 3, '10 pkgs.', 12.75), (77, 'Original Frankfurter grüne Soße', 12, 2, '12 boxes', 13.0), (58, 'Escargots de Bourgogne', 27, 8, '24 pieces', 13.25), (25, 'NuNuCa Nuß-Nougat-Creme', 11, 3, '20 - 450 g glasses', 14.0), (34, 'Sasquatch Ale', 16, 1, '24 - 12 oz bottles', 14.0), (42, 'Singaporean Hokkien Fried Mee', 20, 5, '32 - 1 kg pkgs.', 14.0), (67, 'Laughing Lumberjack Lager', 16, 1, '24 - 12 oz bottles', 14.0), (70, 'Outback Lager', 7, 1, '24 - 355 ml bottles', 15.0), (73, 'Röd Kaviar', 17, 8, '24 - 150 g jars', 15.0), (15, 'Genen Shouyu', 6, 2, '24 - 250 ml bottles', 15.5), (50, 'Valkoinen suklaa', 23, 3, '12 - 100 g bars', 16.25), (66, 'Louisiana Hot Spiced Okra', 2, 2, '24 - 8 oz jars', 17.0), (16, 'Pavlova', 7, 3, '32 - 500 g boxes', 17.45), (1, 'Chais', 1, 1, '10 boxes x 20 bags', 18.0), (35, 'Steeleye Stout', 16, 1, '24 - 12 oz bottles', 18.0), (39, 'Chartreuse verte', 18, 1, '750 cc per bottle', 18.0), (76, 'Lakkalikööri', 23, 1, '500 ml', 18.0), (40, 'Boston Crab Meat', 19, 8, '24 - 4 oz tins', 18.4), (2, 'Chang', 1, 1, '24 - 12 oz bottles', 19.0), (36, 'Inlagd Sill', 17, 8, '24 - 250 g jars', 19.0), (44, 'Gula Malacca', 20, 2, '20 - 2 kg bags', 19.45), (57, 'Ravioli Angelo', 26, 5, '24 - 250 g pkgs.', 19.5), (49, 'Maxilaku', 23, 3, '24 - 50 g pkgs.', 20.0), (11, 'Queso Cabrales', 5, 4, '1 kg pkg.', 21.0), (22, \"Gustaf's Knäckebröd\", 9, 5, '24 - 500 g pkgs.', 21.0), (65, 'Louisiana Fiery Hot Pepper Sauce', 2, 2, '32 - 8 oz bottles', 21.05), (5, \"Chef Anton's Gumbo Mix\", 2, 2, '36 boxes', 21.35), (71, 'Fløtemysost', 15, 4, '10 - 500 g pkgs.', 21.5), (4, \"Chef Anton's Cajun Seasoning\", 2, 2, '48 - 6 oz jars', 22.0), (14, 'Tofu', 6, 7, '40 - 100 g pkgs.', 23.25), (55, 'Pâté chinois', 25, 6, '24 boxes x 2 pies', 24.0), (6, \"Grandma's Boysenberry Spread\", 3, 2, '12 - 8 oz jars', 25.0), (30, 'Nord-Ost Matjeshering', 13, 8, '10 - 200 g glasses', 25.89), (37, 'Gravad lax', 17, 8, '12 - 500 g pkgs.', 26.0), (61, \"Sirop d'érable\", 29, 2, '24 - 500 ml bottles', 28.5), (7, \"Uncle Bob's Organic Dried Pears\", 3, 7, '12 - 1 lb pkgs.', 30.0), (10, 'Ikura', 4, 8, '12 - 200 ml jars', 31.0), (26, 'Gumbär Gummibärchen', 11, 3, '100 - 250 g bags', 31.23), (32, 'Mascarpone Fabioli', 14, 4, '24 - 200 g pkgs.', 32.0), (53, 'Perth Pasties', 24, 6, '48 pieces', 32.8), (64, 'Wimmers gute Semmelknödel', 12, 5, '20 bags x 4 pieces', 33.25), (60, 'Camembert Pierrot', 28, 4, '15 - 300 g rounds', 34.0), (72, 'Mozzarella di Giovanni', 14, 4, '24 - 200 g pkgs.', 34.8), (69, 'Gudbrandsdalsost', 15, 4, '10 kg pkg.', 36.0), (12, 'Queso Manchego La Pastora', 5, 4, '10 - 500 g pkgs.', 38.0), (56, 'Gnocchi di nonna Alice', 26, 5, '24 - 250 g pkgs.', 38.0), (17, 'Alice Mutton', 7, 6, '20 - 1 kg tins', 39.0), (8, 'Northwoods Cranberry Sauce', 3, 2, '12 - 12 oz jars', 40.0), (27, 'Schoggi Schokolade', 11, 3, '100 - 100 g pieces', 43.9), (63, 'Vegie-spread', 7, 2, '15 - 625 g jars', 43.9), (28, 'Rössle Sauerkraut', 12, 7, '25 - 825 g cans', 45.6), (43, 'Ipoh Coffee', 20, 1, '16 - 500 g tins', 46.0), (62, 'Tarte au sucre', 29, 3, '48 pies', 49.3), (51, 'Manjimup Dried Apples', 24, 7, '50 - 300 g pkgs.', 53.0), (59, 'Raclette Courdavault', 28, 4, '5 kg pkg.', 55.0), (18, 'Carnarvon Tigers', 7, 8, '16 kg pkg.', 62.5), (20, \"Sir Rodney's Marmalade\", 8, 3, '30 gift boxes', 81.0), (9, 'Mishi Kobe Niku', 4, 6, '18 - 500 g pkgs.', 97.0), (29, 'Thüringer Rostbratwurst', 12, 6, '50 bags x 30 sausgs.', 123.79), (38, 'Côte de Blaye', 18, 1, '12 - 75 cl bottles', 263.5)]\n"
     ]
    }
   ],
   "execution_count": 609
  },
  {
   "metadata": {
    "ExecuteTime": {
     "end_time": "2024-07-10T08:15:08.223355Z",
     "start_time": "2024-07-10T08:15:08.221043Z"
    }
   },
   "cell_type": "code",
   "source": [
    "print(send_query(\"\"\"\n",
    "SELECT * FROM Products\n",
    "ORDER BY Price DESC;\n",
    "\"\"\"))"
   ],
   "id": "b9ed8bb001bdd205",
   "outputs": [
    {
     "name": "stdout",
     "output_type": "stream",
     "text": [
      "[(38, 'Côte de Blaye', 18, 1, '12 - 75 cl bottles', 263.5), (29, 'Thüringer Rostbratwurst', 12, 6, '50 bags x 30 sausgs.', 123.79), (9, 'Mishi Kobe Niku', 4, 6, '18 - 500 g pkgs.', 97.0), (20, \"Sir Rodney's Marmalade\", 8, 3, '30 gift boxes', 81.0), (18, 'Carnarvon Tigers', 7, 8, '16 kg pkg.', 62.5), (59, 'Raclette Courdavault', 28, 4, '5 kg pkg.', 55.0), (51, 'Manjimup Dried Apples', 24, 7, '50 - 300 g pkgs.', 53.0), (62, 'Tarte au sucre', 29, 3, '48 pies', 49.3), (43, 'Ipoh Coffee', 20, 1, '16 - 500 g tins', 46.0), (28, 'Rössle Sauerkraut', 12, 7, '25 - 825 g cans', 45.6), (27, 'Schoggi Schokolade', 11, 3, '100 - 100 g pieces', 43.9), (63, 'Vegie-spread', 7, 2, '15 - 625 g jars', 43.9), (8, 'Northwoods Cranberry Sauce', 3, 2, '12 - 12 oz jars', 40.0), (17, 'Alice Mutton', 7, 6, '20 - 1 kg tins', 39.0), (12, 'Queso Manchego La Pastora', 5, 4, '10 - 500 g pkgs.', 38.0), (56, 'Gnocchi di nonna Alice', 26, 5, '24 - 250 g pkgs.', 38.0), (69, 'Gudbrandsdalsost', 15, 4, '10 kg pkg.', 36.0), (72, 'Mozzarella di Giovanni', 14, 4, '24 - 200 g pkgs.', 34.8), (60, 'Camembert Pierrot', 28, 4, '15 - 300 g rounds', 34.0), (64, 'Wimmers gute Semmelknödel', 12, 5, '20 bags x 4 pieces', 33.25), (53, 'Perth Pasties', 24, 6, '48 pieces', 32.8), (32, 'Mascarpone Fabioli', 14, 4, '24 - 200 g pkgs.', 32.0), (26, 'Gumbär Gummibärchen', 11, 3, '100 - 250 g bags', 31.23), (10, 'Ikura', 4, 8, '12 - 200 ml jars', 31.0), (7, \"Uncle Bob's Organic Dried Pears\", 3, 7, '12 - 1 lb pkgs.', 30.0), (61, \"Sirop d'érable\", 29, 2, '24 - 500 ml bottles', 28.5), (37, 'Gravad lax', 17, 8, '12 - 500 g pkgs.', 26.0), (30, 'Nord-Ost Matjeshering', 13, 8, '10 - 200 g glasses', 25.89), (6, \"Grandma's Boysenberry Spread\", 3, 2, '12 - 8 oz jars', 25.0), (55, 'Pâté chinois', 25, 6, '24 boxes x 2 pies', 24.0), (14, 'Tofu', 6, 7, '40 - 100 g pkgs.', 23.25), (4, \"Chef Anton's Cajun Seasoning\", 2, 2, '48 - 6 oz jars', 22.0), (71, 'Fløtemysost', 15, 4, '10 - 500 g pkgs.', 21.5), (5, \"Chef Anton's Gumbo Mix\", 2, 2, '36 boxes', 21.35), (65, 'Louisiana Fiery Hot Pepper Sauce', 2, 2, '32 - 8 oz bottles', 21.05), (11, 'Queso Cabrales', 5, 4, '1 kg pkg.', 21.0), (22, \"Gustaf's Knäckebröd\", 9, 5, '24 - 500 g pkgs.', 21.0), (49, 'Maxilaku', 23, 3, '24 - 50 g pkgs.', 20.0), (57, 'Ravioli Angelo', 26, 5, '24 - 250 g pkgs.', 19.5), (44, 'Gula Malacca', 20, 2, '20 - 2 kg bags', 19.45), (2, 'Chang', 1, 1, '24 - 12 oz bottles', 19.0), (36, 'Inlagd Sill', 17, 8, '24 - 250 g jars', 19.0), (40, 'Boston Crab Meat', 19, 8, '24 - 4 oz tins', 18.4), (1, 'Chais', 1, 1, '10 boxes x 20 bags', 18.0), (35, 'Steeleye Stout', 16, 1, '24 - 12 oz bottles', 18.0), (39, 'Chartreuse verte', 18, 1, '750 cc per bottle', 18.0), (76, 'Lakkalikööri', 23, 1, '500 ml', 18.0), (16, 'Pavlova', 7, 3, '32 - 500 g boxes', 17.45), (66, 'Louisiana Hot Spiced Okra', 2, 2, '24 - 8 oz jars', 17.0), (50, 'Valkoinen suklaa', 23, 3, '12 - 100 g bars', 16.25), (15, 'Genen Shouyu', 6, 2, '24 - 250 ml bottles', 15.5), (70, 'Outback Lager', 7, 1, '24 - 355 ml bottles', 15.0), (73, 'Röd Kaviar', 17, 8, '24 - 150 g jars', 15.0), (25, 'NuNuCa Nuß-Nougat-Creme', 11, 3, '20 - 450 g glasses', 14.0), (34, 'Sasquatch Ale', 16, 1, '24 - 12 oz bottles', 14.0), (42, 'Singaporean Hokkien Fried Mee', 20, 5, '32 - 1 kg pkgs.', 14.0), (67, 'Laughing Lumberjack Lager', 16, 1, '24 - 12 oz bottles', 14.0), (58, 'Escargots de Bourgogne', 27, 8, '24 pieces', 13.25), (77, 'Original Frankfurter grüne Soße', 12, 2, '12 boxes', 13.0), (48, 'Chocolade', 22, 3, '10 pkgs.', 12.75), (31, 'Gorgonzola Telino', 14, 4, '12 - 100 g pkgs', 12.5), (68, 'Scottish Longbreads', 8, 3, '10 boxes x 8 pieces', 12.5), (46, 'Spegesild', 21, 8, '4 - 450 g glasses', 12.0), (3, 'Aniseed Syrup', 1, 2, '12 - 550 ml bottles', 10.0), (21, \"Sir Rodney's Scones\", 8, 3, '24 pkgs. x 4 pieces', 10.0), (74, 'Longlife Tofu', 4, 7, '5 kg pkg.', 10.0), (41, \"Jack's New England Clam Chowder\", 19, 8, '12 - 12 oz cans', 9.65), (45, 'Røgede sild', 21, 8, '1k pkg.', 9.5), (47, 'Zaanse koeken', 22, 3, '10 - 4 oz boxes', 9.5), (19, 'Teatime Chocolate Biscuits', 8, 3, '10 boxes x 12 pieces', 9.2), (23, 'Tunnbröd', 9, 5, '12 - 250 g pkgs.', 9.0), (75, 'Rhönbräu Klosterbier', 12, 1, '24 - 0.5 l bottles', 7.75), (54, 'Tourtière', 25, 6, '16 pies', 7.45), (52, 'Filo Mix', 24, 5, '16 - 2 kg boxes', 7.0), (13, 'Konbu', 6, 8, '2 kg box', 6.0), (24, 'Guaraná Fantástica', 10, 1, '12 - 355 ml cans', 4.5), (33, 'Geitost', 15, 4, '500 g', 2.5)]\n"
     ]
    }
   ],
   "execution_count": 610
  },
  {
   "metadata": {
    "ExecuteTime": {
     "end_time": "2024-07-10T08:15:08.320402Z",
     "start_time": "2024-07-10T08:15:08.318425Z"
    }
   },
   "cell_type": "code",
   "source": [
    "print(send_query(\"\"\"\n",
    "SELECT * FROM Products\n",
    "ORDER BY ProductName;\n",
    "\"\"\"))"
   ],
   "id": "47992a8cb7be9df4",
   "outputs": [
    {
     "name": "stdout",
     "output_type": "stream",
     "text": [
      "[(17, 'Alice Mutton', 7, 6, '20 - 1 kg tins', 39.0), (3, 'Aniseed Syrup', 1, 2, '12 - 550 ml bottles', 10.0), (40, 'Boston Crab Meat', 19, 8, '24 - 4 oz tins', 18.4), (60, 'Camembert Pierrot', 28, 4, '15 - 300 g rounds', 34.0), (18, 'Carnarvon Tigers', 7, 8, '16 kg pkg.', 62.5), (1, 'Chais', 1, 1, '10 boxes x 20 bags', 18.0), (2, 'Chang', 1, 1, '24 - 12 oz bottles', 19.0), (39, 'Chartreuse verte', 18, 1, '750 cc per bottle', 18.0), (4, \"Chef Anton's Cajun Seasoning\", 2, 2, '48 - 6 oz jars', 22.0), (5, \"Chef Anton's Gumbo Mix\", 2, 2, '36 boxes', 21.35), (48, 'Chocolade', 22, 3, '10 pkgs.', 12.75), (38, 'Côte de Blaye', 18, 1, '12 - 75 cl bottles', 263.5), (58, 'Escargots de Bourgogne', 27, 8, '24 pieces', 13.25), (52, 'Filo Mix', 24, 5, '16 - 2 kg boxes', 7.0), (71, 'Fløtemysost', 15, 4, '10 - 500 g pkgs.', 21.5), (33, 'Geitost', 15, 4, '500 g', 2.5), (15, 'Genen Shouyu', 6, 2, '24 - 250 ml bottles', 15.5), (56, 'Gnocchi di nonna Alice', 26, 5, '24 - 250 g pkgs.', 38.0), (31, 'Gorgonzola Telino', 14, 4, '12 - 100 g pkgs', 12.5), (6, \"Grandma's Boysenberry Spread\", 3, 2, '12 - 8 oz jars', 25.0), (37, 'Gravad lax', 17, 8, '12 - 500 g pkgs.', 26.0), (24, 'Guaraná Fantástica', 10, 1, '12 - 355 ml cans', 4.5), (69, 'Gudbrandsdalsost', 15, 4, '10 kg pkg.', 36.0), (44, 'Gula Malacca', 20, 2, '20 - 2 kg bags', 19.45), (26, 'Gumbär Gummibärchen', 11, 3, '100 - 250 g bags', 31.23), (22, \"Gustaf's Knäckebröd\", 9, 5, '24 - 500 g pkgs.', 21.0), (10, 'Ikura', 4, 8, '12 - 200 ml jars', 31.0), (36, 'Inlagd Sill', 17, 8, '24 - 250 g jars', 19.0), (43, 'Ipoh Coffee', 20, 1, '16 - 500 g tins', 46.0), (41, \"Jack's New England Clam Chowder\", 19, 8, '12 - 12 oz cans', 9.65), (13, 'Konbu', 6, 8, '2 kg box', 6.0), (76, 'Lakkalikööri', 23, 1, '500 ml', 18.0), (67, 'Laughing Lumberjack Lager', 16, 1, '24 - 12 oz bottles', 14.0), (74, 'Longlife Tofu', 4, 7, '5 kg pkg.', 10.0), (65, 'Louisiana Fiery Hot Pepper Sauce', 2, 2, '32 - 8 oz bottles', 21.05), (66, 'Louisiana Hot Spiced Okra', 2, 2, '24 - 8 oz jars', 17.0), (51, 'Manjimup Dried Apples', 24, 7, '50 - 300 g pkgs.', 53.0), (32, 'Mascarpone Fabioli', 14, 4, '24 - 200 g pkgs.', 32.0), (49, 'Maxilaku', 23, 3, '24 - 50 g pkgs.', 20.0), (9, 'Mishi Kobe Niku', 4, 6, '18 - 500 g pkgs.', 97.0), (72, 'Mozzarella di Giovanni', 14, 4, '24 - 200 g pkgs.', 34.8), (30, 'Nord-Ost Matjeshering', 13, 8, '10 - 200 g glasses', 25.89), (8, 'Northwoods Cranberry Sauce', 3, 2, '12 - 12 oz jars', 40.0), (25, 'NuNuCa Nuß-Nougat-Creme', 11, 3, '20 - 450 g glasses', 14.0), (77, 'Original Frankfurter grüne Soße', 12, 2, '12 boxes', 13.0), (70, 'Outback Lager', 7, 1, '24 - 355 ml bottles', 15.0), (16, 'Pavlova', 7, 3, '32 - 500 g boxes', 17.45), (53, 'Perth Pasties', 24, 6, '48 pieces', 32.8), (55, 'Pâté chinois', 25, 6, '24 boxes x 2 pies', 24.0), (11, 'Queso Cabrales', 5, 4, '1 kg pkg.', 21.0), (12, 'Queso Manchego La Pastora', 5, 4, '10 - 500 g pkgs.', 38.0), (59, 'Raclette Courdavault', 28, 4, '5 kg pkg.', 55.0), (57, 'Ravioli Angelo', 26, 5, '24 - 250 g pkgs.', 19.5), (75, 'Rhönbräu Klosterbier', 12, 1, '24 - 0.5 l bottles', 7.75), (73, 'Röd Kaviar', 17, 8, '24 - 150 g jars', 15.0), (28, 'Rössle Sauerkraut', 12, 7, '25 - 825 g cans', 45.6), (45, 'Røgede sild', 21, 8, '1k pkg.', 9.5), (34, 'Sasquatch Ale', 16, 1, '24 - 12 oz bottles', 14.0), (27, 'Schoggi Schokolade', 11, 3, '100 - 100 g pieces', 43.9), (68, 'Scottish Longbreads', 8, 3, '10 boxes x 8 pieces', 12.5), (42, 'Singaporean Hokkien Fried Mee', 20, 5, '32 - 1 kg pkgs.', 14.0), (20, \"Sir Rodney's Marmalade\", 8, 3, '30 gift boxes', 81.0), (21, \"Sir Rodney's Scones\", 8, 3, '24 pkgs. x 4 pieces', 10.0), (61, \"Sirop d'érable\", 29, 2, '24 - 500 ml bottles', 28.5), (46, 'Spegesild', 21, 8, '4 - 450 g glasses', 12.0), (35, 'Steeleye Stout', 16, 1, '24 - 12 oz bottles', 18.0), (62, 'Tarte au sucre', 29, 3, '48 pies', 49.3), (19, 'Teatime Chocolate Biscuits', 8, 3, '10 boxes x 12 pieces', 9.2), (29, 'Thüringer Rostbratwurst', 12, 6, '50 bags x 30 sausgs.', 123.79), (14, 'Tofu', 6, 7, '40 - 100 g pkgs.', 23.25), (54, 'Tourtière', 25, 6, '16 pies', 7.45), (23, 'Tunnbröd', 9, 5, '12 - 250 g pkgs.', 9.0), (7, \"Uncle Bob's Organic Dried Pears\", 3, 7, '12 - 1 lb pkgs.', 30.0), (50, 'Valkoinen suklaa', 23, 3, '12 - 100 g bars', 16.25), (63, 'Vegie-spread', 7, 2, '15 - 625 g jars', 43.9), (64, 'Wimmers gute Semmelknödel', 12, 5, '20 bags x 4 pieces', 33.25), (47, 'Zaanse koeken', 22, 3, '10 - 4 oz boxes', 9.5)]\n"
     ]
    }
   ],
   "execution_count": 611
  },
  {
   "metadata": {
    "ExecuteTime": {
     "end_time": "2024-07-10T08:15:08.452234Z",
     "start_time": "2024-07-10T08:15:08.450022Z"
    }
   },
   "cell_type": "code",
   "source": [
    "print(send_query(\"\"\"\n",
    "SELECT * FROM Products\n",
    "ORDER BY ProductName DESC;\n",
    "\"\"\"))"
   ],
   "id": "95a3b3b1b938f2ae",
   "outputs": [
    {
     "name": "stdout",
     "output_type": "stream",
     "text": [
      "[(47, 'Zaanse koeken', 22, 3, '10 - 4 oz boxes', 9.5), (64, 'Wimmers gute Semmelknödel', 12, 5, '20 bags x 4 pieces', 33.25), (63, 'Vegie-spread', 7, 2, '15 - 625 g jars', 43.9), (50, 'Valkoinen suklaa', 23, 3, '12 - 100 g bars', 16.25), (7, \"Uncle Bob's Organic Dried Pears\", 3, 7, '12 - 1 lb pkgs.', 30.0), (23, 'Tunnbröd', 9, 5, '12 - 250 g pkgs.', 9.0), (54, 'Tourtière', 25, 6, '16 pies', 7.45), (14, 'Tofu', 6, 7, '40 - 100 g pkgs.', 23.25), (29, 'Thüringer Rostbratwurst', 12, 6, '50 bags x 30 sausgs.', 123.79), (19, 'Teatime Chocolate Biscuits', 8, 3, '10 boxes x 12 pieces', 9.2), (62, 'Tarte au sucre', 29, 3, '48 pies', 49.3), (35, 'Steeleye Stout', 16, 1, '24 - 12 oz bottles', 18.0), (46, 'Spegesild', 21, 8, '4 - 450 g glasses', 12.0), (61, \"Sirop d'érable\", 29, 2, '24 - 500 ml bottles', 28.5), (21, \"Sir Rodney's Scones\", 8, 3, '24 pkgs. x 4 pieces', 10.0), (20, \"Sir Rodney's Marmalade\", 8, 3, '30 gift boxes', 81.0), (42, 'Singaporean Hokkien Fried Mee', 20, 5, '32 - 1 kg pkgs.', 14.0), (68, 'Scottish Longbreads', 8, 3, '10 boxes x 8 pieces', 12.5), (27, 'Schoggi Schokolade', 11, 3, '100 - 100 g pieces', 43.9), (34, 'Sasquatch Ale', 16, 1, '24 - 12 oz bottles', 14.0), (45, 'Røgede sild', 21, 8, '1k pkg.', 9.5), (28, 'Rössle Sauerkraut', 12, 7, '25 - 825 g cans', 45.6), (73, 'Röd Kaviar', 17, 8, '24 - 150 g jars', 15.0), (75, 'Rhönbräu Klosterbier', 12, 1, '24 - 0.5 l bottles', 7.75), (57, 'Ravioli Angelo', 26, 5, '24 - 250 g pkgs.', 19.5), (59, 'Raclette Courdavault', 28, 4, '5 kg pkg.', 55.0), (12, 'Queso Manchego La Pastora', 5, 4, '10 - 500 g pkgs.', 38.0), (11, 'Queso Cabrales', 5, 4, '1 kg pkg.', 21.0), (55, 'Pâté chinois', 25, 6, '24 boxes x 2 pies', 24.0), (53, 'Perth Pasties', 24, 6, '48 pieces', 32.8), (16, 'Pavlova', 7, 3, '32 - 500 g boxes', 17.45), (70, 'Outback Lager', 7, 1, '24 - 355 ml bottles', 15.0), (77, 'Original Frankfurter grüne Soße', 12, 2, '12 boxes', 13.0), (25, 'NuNuCa Nuß-Nougat-Creme', 11, 3, '20 - 450 g glasses', 14.0), (8, 'Northwoods Cranberry Sauce', 3, 2, '12 - 12 oz jars', 40.0), (30, 'Nord-Ost Matjeshering', 13, 8, '10 - 200 g glasses', 25.89), (72, 'Mozzarella di Giovanni', 14, 4, '24 - 200 g pkgs.', 34.8), (9, 'Mishi Kobe Niku', 4, 6, '18 - 500 g pkgs.', 97.0), (49, 'Maxilaku', 23, 3, '24 - 50 g pkgs.', 20.0), (32, 'Mascarpone Fabioli', 14, 4, '24 - 200 g pkgs.', 32.0), (51, 'Manjimup Dried Apples', 24, 7, '50 - 300 g pkgs.', 53.0), (66, 'Louisiana Hot Spiced Okra', 2, 2, '24 - 8 oz jars', 17.0), (65, 'Louisiana Fiery Hot Pepper Sauce', 2, 2, '32 - 8 oz bottles', 21.05), (74, 'Longlife Tofu', 4, 7, '5 kg pkg.', 10.0), (67, 'Laughing Lumberjack Lager', 16, 1, '24 - 12 oz bottles', 14.0), (76, 'Lakkalikööri', 23, 1, '500 ml', 18.0), (13, 'Konbu', 6, 8, '2 kg box', 6.0), (41, \"Jack's New England Clam Chowder\", 19, 8, '12 - 12 oz cans', 9.65), (43, 'Ipoh Coffee', 20, 1, '16 - 500 g tins', 46.0), (36, 'Inlagd Sill', 17, 8, '24 - 250 g jars', 19.0), (10, 'Ikura', 4, 8, '12 - 200 ml jars', 31.0), (22, \"Gustaf's Knäckebröd\", 9, 5, '24 - 500 g pkgs.', 21.0), (26, 'Gumbär Gummibärchen', 11, 3, '100 - 250 g bags', 31.23), (44, 'Gula Malacca', 20, 2, '20 - 2 kg bags', 19.45), (69, 'Gudbrandsdalsost', 15, 4, '10 kg pkg.', 36.0), (24, 'Guaraná Fantástica', 10, 1, '12 - 355 ml cans', 4.5), (37, 'Gravad lax', 17, 8, '12 - 500 g pkgs.', 26.0), (6, \"Grandma's Boysenberry Spread\", 3, 2, '12 - 8 oz jars', 25.0), (31, 'Gorgonzola Telino', 14, 4, '12 - 100 g pkgs', 12.5), (56, 'Gnocchi di nonna Alice', 26, 5, '24 - 250 g pkgs.', 38.0), (15, 'Genen Shouyu', 6, 2, '24 - 250 ml bottles', 15.5), (33, 'Geitost', 15, 4, '500 g', 2.5), (71, 'Fløtemysost', 15, 4, '10 - 500 g pkgs.', 21.5), (52, 'Filo Mix', 24, 5, '16 - 2 kg boxes', 7.0), (58, 'Escargots de Bourgogne', 27, 8, '24 pieces', 13.25), (38, 'Côte de Blaye', 18, 1, '12 - 75 cl bottles', 263.5), (48, 'Chocolade', 22, 3, '10 pkgs.', 12.75), (5, \"Chef Anton's Gumbo Mix\", 2, 2, '36 boxes', 21.35), (4, \"Chef Anton's Cajun Seasoning\", 2, 2, '48 - 6 oz jars', 22.0), (39, 'Chartreuse verte', 18, 1, '750 cc per bottle', 18.0), (2, 'Chang', 1, 1, '24 - 12 oz bottles', 19.0), (1, 'Chais', 1, 1, '10 boxes x 20 bags', 18.0), (18, 'Carnarvon Tigers', 7, 8, '16 kg pkg.', 62.5), (60, 'Camembert Pierrot', 28, 4, '15 - 300 g rounds', 34.0), (40, 'Boston Crab Meat', 19, 8, '24 - 4 oz tins', 18.4), (3, 'Aniseed Syrup', 1, 2, '12 - 550 ml bottles', 10.0), (17, 'Alice Mutton', 7, 6, '20 - 1 kg tins', 39.0)]\n"
     ]
    }
   ],
   "execution_count": 612
  },
  {
   "metadata": {
    "ExecuteTime": {
     "end_time": "2024-07-10T08:15:08.640094Z",
     "start_time": "2024-07-10T08:15:08.637898Z"
    }
   },
   "cell_type": "code",
   "source": [
    "print(send_query(\"\"\"\n",
    "SELECT * FROM Customers\n",
    "ORDER BY Country, CustomerName;\n",
    "\"\"\"))"
   ],
   "id": "28581c82c4a2f4f8",
   "outputs": [
    {
     "name": "stdout",
     "output_type": "stream",
     "text": [
      "[(12, 'Cactus Comidas para llevar', 'Patricio Simpson', 'Cerrito 333', 'Buenos Aires', '1010', 'Argentina'), (54, 'Océano Atlántico Ltda.', 'Yvonne Moncada', 'Ing. Gustavo Moncada 8585 Piso 20-A', 'Buenos Aires', '1010', 'Argentina'), (64, 'Rancho grande', 'Sergio Gutiérrez', 'Av. del Libertador 900', 'Buenos Aires', '1010', 'Argentina'), (20, 'Ernst Handel', 'Roland Mendel', 'Kirchgasse 6', 'Graz', '8010', 'Austria'), (59, 'Piccolo und mehr', 'Georg Pipps', 'Geislweg 14', 'Salzburg', '5020', 'Austria'), (50, 'Maison Dewey', 'Catherine Dewey', 'Rue Joseph-Bens 532', 'Bruxelles', 'B-1180', 'Belgium'), (76, 'Suprêmes délices', 'Pascale Cartrain', 'Boulevard Tirou, 255', 'Charleroi', 'B-6000', 'Belgium'), (15, 'Comércio Mineiro', 'Pedro Afonso', 'Av. dos Lusíadas, 23', 'São Paulo', '05432-043', 'Brazil'), (21, 'Familia Arquibaldo', 'Aria Cruz', 'Rua Orós, 92', 'São Paulo', '05442-030', 'Brazil'), (31, 'Gourmet Lanchonetes', 'André Fonseca', 'Av. Brasil, 442', 'Campinas', '04876-786', 'Brazil'), (34, 'Hanari Carnes', 'Mario Pontes', 'Rua do Paço, 67', 'Rio de Janeiro', '05454-876', 'Brazil'), (61, 'Que Delícia', 'Bernardo Batista', 'Rua da Panificadora, 12', 'Rio de Janeiro', '02389-673', 'Brazil'), (62, 'Queen Cozinha', 'Lúcia Carvalho', 'Alameda dos Canàrios, 891', 'São Paulo', '05487-020', 'Brazil'), (67, 'Ricardo Adocicados', 'Janete Limeira', 'Av. Copacabana, 267', 'Rio de Janeiro', '02389-890', 'Brazil'), (81, 'Tradição Hipermercados', 'Anabela Domingues', 'Av. Inês de Castro, 414', 'São Paulo', '05634-030', 'Brazil'), (88, 'Wellington Importadora', 'Paula Parente', 'Rua do Mercado, 12', 'Resende', '08737-363', 'Brazil'), (10, 'Bottom-Dollar Marketse', 'Elizabeth Lincoln', '23 Tsawassen Blvd.', 'Tsawassen', 'T2F 8M4', 'Canada'), (42, 'Laughing Bacchus Wine Cellars', 'Yoshi Tannamuri', '1900 Oak St.', 'Vancouver', 'V3F 2K1', 'Canada'), (51, 'Mère Paillarde', 'Jean Fresnière', '43 rue St. Laurent', 'Montréal', 'H1J 1C3', 'Canada'), (73, 'Simons bistro', 'Jytte Petersen', 'Vinbæltet 34', 'København', '1734', 'Denmark'), (83, 'Vaffeljernet', 'Palle Ibsen', 'Smagsløget 45', 'Århus', '8200', 'Denmark'), (87, 'Wartian Herkku', 'Pirkko Koskitalo', 'Torikatu 38', 'Oulu', '90110', 'Finland'), (90, 'Wilman Kala', 'Matti Karttunen', 'Keskuskatu 45', 'Helsinki', '21240', 'Finland'), (7, 'Blondel père et fils', 'Frédérique Citeaux', '24, place Kléber', 'Strasbourg', '67000', 'France'), (9, \"Bon app'\", 'Laurence Lebihans', '12, rue des Bouchers', 'Marseille', '13008', 'France'), (18, 'Du monde entier', 'Janine Labrune', '67, rue des Cinquante Otages', 'Nantes', '44000', 'France'), (23, 'Folies gourmandes', 'Martine Rancé', '184, chaussée de Tournai', 'Lille', '59000', 'France'), (26, 'France restauration', 'Carine Schmitt', '54, rue Royale', 'Nantes', '44000', 'France'), (40, \"La corne d'abondance\", 'Daniel Tonini', \"67, avenue de l'Europe\", 'Versailles', '78000', 'France'), (41, \"La maison d'Asie\", 'Annette Roulet', '1 rue Alsace-Lorraine', 'Toulouse', '31000', 'France'), (57, 'Paris spécialités', 'Marie Bertrand', '265, boulevard Charonne', 'Paris', '75012', 'France'), (74, 'Spécialités du monde', 'Dominique Perrier', '25, rue Lauriston', 'Paris', '75016', 'France'), (84, 'Victuailles en stock', 'Mary Saveley', '2, rue du Commerce', 'Lyon', '69004', 'France'), (85, 'Vins et alcools Chevalier', 'Paul Henriot', \"59 rue de l'Abbaye\", 'Reims', '51100', 'France'), (1, 'Alfreds Futterkiste', 'Maria Anders', 'Obere Str. 57', 'Berlin', '12209', 'Germany'), (6, 'Blauer See Delikatessen', 'Hanna Moos', 'Forsterstr. 57', 'Mannheim', '68306', 'Germany'), (86, 'Die Wandernde Kuh', 'Rita Müller', 'Adenauerallee 900', 'Stuttgart', '70563', 'Germany'), (17, 'Drachenblut Delikatessend', 'Sven Ottlieb', 'Walserweg 21', 'Aachen', '52066', 'Germany'), (25, 'Frankenversand', 'Peter Franken', 'Berliner Platz 43', 'München', '80805', 'Germany'), (39, 'Königlich Essen', 'Philip Cramer', 'Maubelstr. 90', 'Brandenburg', '14776', 'Germany'), (44, 'Lehmanns Marktstand', 'Renate Messner', 'Magazinweg 7', 'Frankfurt a.M.', '60528', 'Germany'), (52, 'Morgenstern Gesundkost', 'Alexander Feuer', 'Heerstr. 22', 'Leipzig', '04179', 'Germany'), (56, 'Ottilies Käseladen', 'Henriette Pfalzheim', 'Mehrheimerstr. 369', 'Köln', '50739', 'Germany'), (63, 'QUICK-Stop', 'Horst Kloss', 'Taucherstraße 10', 'Cunewalde', '01307', 'Germany'), (79, 'Toms Spezialitäten', 'Karin Josephs', 'Luisenstr. 48', 'Münster', '44087', 'Germany'), (37, 'Hungry Owl All-Night Grocers', 'Patricia McKenna', '8 Johnstown Road', 'Cork', '', 'Ireland'), (27, 'Franchi S.p.A.', 'Paolo Accorti', 'Via Monte Bianco 34', 'Torino', '10100', 'Italy'), (49, 'Magazzini Alimentari Riuniti', 'Giovanni Rovelli', 'Via Ludovico il Moro 22', 'Bergamo', '24100', 'Italy'), (66, 'Reggiani Caseifici', 'Maurizio Moroni', 'Strada Provinciale 124', 'Reggio Emilia', '42100', 'Italy'), (2, 'Ana Trujillo Emparedados y helados', 'Ana Trujillo', 'Avda. de la Constitución 2222', 'México D.F.', '05021', 'Mexico'), (3, 'Antonio Moreno Taquería', 'Antonio Moreno', 'Mataderos 2312', 'México D.F.', '05023', 'Mexico'), (13, 'Centro comercial Moctezuma', 'Francisco Chang', 'Sierras de Granada 9993', 'México D.F.', '05022', 'Mexico'), (58, 'Pericles Comidas clásicas', 'Guillermo Fernández', 'Calle Dr. Jorge Cash 321', 'México D.F.', '05033', 'Mexico'), (80, 'Tortuga Restaurante', 'Miguel Angel Paolino', 'Avda. Azteca 123', 'México D.F.', '05033', 'Mexico'), (70, 'Santé Gourmet', 'Jonas Bergulfsen', 'Erling Skakkes gate 78', 'Stavern', '4110', 'Norway'), (91, 'Wolski', 'Zbyszek', 'ul. Filtrowa 68', 'Walla', '01-012', 'Poland'), (28, 'Furia Bacalhau e Frutos do Mar', 'Lino Rodriguez', 'Jardim das rosas n. 32', 'Lisboa', '1675', 'Portugal'), (60, 'Princesa Isabel Vinhoss', 'Isabel de Castro', 'Estrada da saúde n. 58', 'Lisboa', '1756', 'Portugal'), (8, 'Bólido Comidas preparadas', 'Martín Sommer', 'C/ Araquil, 67', 'Madrid', '28023', 'Spain'), (22, 'FISSA Fabrica Inter. Salchichas S.A.', 'Diego Roel', 'C/ Moralzarzal, 86', 'Madrid', '28034', 'Spain'), (29, 'Galería del gastrónomo', 'Eduardo Saavedra', 'Rambla de Cataluña, 23', 'Barcelona', '08022', 'Spain'), (30, 'Godos Cocina Típica', 'José Pedro Freyre', 'C/ Romero, 33', 'Sevilla', '41101', 'Spain'), (69, 'Romero y tomillo', 'Alejandra Camino', 'Gran Vía, 1', 'Madrid', '28001', 'Spain'), (5, 'Berglunds snabbköp', 'Christina Berglund', 'Berguvsvägen 8', 'Luleå', 'S-958 22', 'Sweden'), (24, 'Folk och fä HB', 'Maria Larsson', 'Åkergatan 24', 'Bräcke', 'S-844 67', 'Sweden'), (14, 'Chop-suey Chinese', 'Yang Wang', 'Hauptstr. 29', 'Bern', '3012', 'Switzerland'), (68, 'Richter Supermarkt', 'Michael Holz', 'Grenzacherweg 237', 'Genève', '1203', 'Switzerland'), (4, 'Around the Horn', 'Thomas Hardy', '120 Hanover Sq.', 'London', 'WA1 1DP', 'UK'), (11, \"B's Beverages\", 'Victoria Ashworth', 'Fauntleroy Circus', 'London', 'EC2 5NT', 'UK'), (16, 'Consolidated Holdings', 'Elizabeth Brown', 'Berkeley Gardens 12 Brewery', 'London', 'WX1 6LT', 'UK'), (19, 'Eastern Connection', 'Ann Devon', '35 King George', 'London', 'WX3 6FW', 'UK'), (38, 'Island Trading', 'Helen Bennett', 'Garden House Crowther Way', 'Cowes', 'PO31 7PJ', 'UK'), (53, 'North/South', 'Simon Crowther', 'South House 300 Queensbridge', 'London', 'SW7 1RZ', 'UK'), (72, 'Seven Seas Imports', 'Hari Kumar', '90 Wadhurst Rd.', 'London', 'OX15 4NB', 'UK'), (32, 'Great Lakes Food Market', 'Howard Snyder', '2732 Baker Blvd.', 'Eugene', '97403', 'USA'), (36, 'Hungry Coyote Import Store', 'Yoshi Latimer', 'City Center Plaza 516 Main St.', 'Elgin', '97827', 'USA'), (43, 'Lazy K Kountry Store', 'John Steel', '12 Orchestra Terrace', 'Walla Walla', '99362', 'USA'), (45, \"Let's Stop N Shop\", 'Jaime Yorres', '87 Polk St. Suite 5', 'San Francisco', '94117', 'USA'), (48, 'Lonesome Pine Restaurant', 'Fran Wilson', '89 Chiaroscuro Rd.', 'Portland', '97219', 'USA'), (55, 'Old World Delicatessen', 'Rene Phillips', '2743 Bering St.', 'Anchorage', '99508', 'USA'), (65, 'Rattlesnake Canyon Grocery', 'Paula Wilson', '2817 Milton Dr.', 'Albuquerque', '87110', 'USA'), (71, 'Save-a-lot Markets', 'Jose Pavarotti', '187 Suffolk Ln.', 'Boise', '83720', 'USA'), (75, 'Split Rail Beer & Ale', 'Art Braunschweiger', 'P.O. Box 555', 'Lander', '82520', 'USA'), (77, 'The Big Cheese', 'Liz Nixon', '89 Jefferson Way Suite 2', 'Portland', '97201', 'USA'), (78, 'The Cracker Box', 'Liu Wong', '55 Grizzly Peak Rd.', 'Butte', '59801', 'USA'), (82, \"Trail's Head Gourmet Provisioners\", 'Helvetius Nagy', '722 DaVinci Blvd.', 'Kirkland', '98034', 'USA'), (89, 'White Clover Markets', 'Karl Jablonski', '305 - 14th Ave. S. Suite 3B', 'Seattle', '98128', 'USA'), (33, 'GROSELLA-Restaurante', 'Manuel Pereira', '5ª Ave. Los Palos Grandes', 'Caracas', '1081', 'Venezuela'), (35, 'HILARIÓN-Abastos', 'Carlos Hernández', 'Carrera 22 con Ave. Carlos Soublette #8-35', 'San Cristóbal', '5022', 'Venezuela'), (46, 'LILA-Supermercado', 'Carlos González', 'Carrera 52 con Ave. Bolívar #65-98 Llano Largo', 'Barquisimeto', '3508', 'Venezuela'), (47, 'LINO-Delicateses', 'Felipe Izquierdo', 'Ave. 5 de Mayo Porlamar', 'I. de Margarita', '4980', 'Venezuela')]\n"
     ]
    }
   ],
   "execution_count": 613
  },
  {
   "metadata": {
    "ExecuteTime": {
     "end_time": "2024-07-10T08:15:08.754728Z",
     "start_time": "2024-07-10T08:15:08.752168Z"
    }
   },
   "cell_type": "code",
   "source": [
    "print(send_query(\"\"\"\n",
    "SELECT * FROM Customers\n",
    "ORDER BY Country ASC, CustomerName DESC;\n",
    "\"\"\"))"
   ],
   "id": "98ccb92c71a59375",
   "outputs": [
    {
     "name": "stdout",
     "output_type": "stream",
     "text": [
      "[(64, 'Rancho grande', 'Sergio Gutiérrez', 'Av. del Libertador 900', 'Buenos Aires', '1010', 'Argentina'), (54, 'Océano Atlántico Ltda.', 'Yvonne Moncada', 'Ing. Gustavo Moncada 8585 Piso 20-A', 'Buenos Aires', '1010', 'Argentina'), (12, 'Cactus Comidas para llevar', 'Patricio Simpson', 'Cerrito 333', 'Buenos Aires', '1010', 'Argentina'), (59, 'Piccolo und mehr', 'Georg Pipps', 'Geislweg 14', 'Salzburg', '5020', 'Austria'), (20, 'Ernst Handel', 'Roland Mendel', 'Kirchgasse 6', 'Graz', '8010', 'Austria'), (76, 'Suprêmes délices', 'Pascale Cartrain', 'Boulevard Tirou, 255', 'Charleroi', 'B-6000', 'Belgium'), (50, 'Maison Dewey', 'Catherine Dewey', 'Rue Joseph-Bens 532', 'Bruxelles', 'B-1180', 'Belgium'), (88, 'Wellington Importadora', 'Paula Parente', 'Rua do Mercado, 12', 'Resende', '08737-363', 'Brazil'), (81, 'Tradição Hipermercados', 'Anabela Domingues', 'Av. Inês de Castro, 414', 'São Paulo', '05634-030', 'Brazil'), (67, 'Ricardo Adocicados', 'Janete Limeira', 'Av. Copacabana, 267', 'Rio de Janeiro', '02389-890', 'Brazil'), (62, 'Queen Cozinha', 'Lúcia Carvalho', 'Alameda dos Canàrios, 891', 'São Paulo', '05487-020', 'Brazil'), (61, 'Que Delícia', 'Bernardo Batista', 'Rua da Panificadora, 12', 'Rio de Janeiro', '02389-673', 'Brazil'), (34, 'Hanari Carnes', 'Mario Pontes', 'Rua do Paço, 67', 'Rio de Janeiro', '05454-876', 'Brazil'), (31, 'Gourmet Lanchonetes', 'André Fonseca', 'Av. Brasil, 442', 'Campinas', '04876-786', 'Brazil'), (21, 'Familia Arquibaldo', 'Aria Cruz', 'Rua Orós, 92', 'São Paulo', '05442-030', 'Brazil'), (15, 'Comércio Mineiro', 'Pedro Afonso', 'Av. dos Lusíadas, 23', 'São Paulo', '05432-043', 'Brazil'), (51, 'Mère Paillarde', 'Jean Fresnière', '43 rue St. Laurent', 'Montréal', 'H1J 1C3', 'Canada'), (42, 'Laughing Bacchus Wine Cellars', 'Yoshi Tannamuri', '1900 Oak St.', 'Vancouver', 'V3F 2K1', 'Canada'), (10, 'Bottom-Dollar Marketse', 'Elizabeth Lincoln', '23 Tsawassen Blvd.', 'Tsawassen', 'T2F 8M4', 'Canada'), (83, 'Vaffeljernet', 'Palle Ibsen', 'Smagsløget 45', 'Århus', '8200', 'Denmark'), (73, 'Simons bistro', 'Jytte Petersen', 'Vinbæltet 34', 'København', '1734', 'Denmark'), (90, 'Wilman Kala', 'Matti Karttunen', 'Keskuskatu 45', 'Helsinki', '21240', 'Finland'), (87, 'Wartian Herkku', 'Pirkko Koskitalo', 'Torikatu 38', 'Oulu', '90110', 'Finland'), (85, 'Vins et alcools Chevalier', 'Paul Henriot', \"59 rue de l'Abbaye\", 'Reims', '51100', 'France'), (84, 'Victuailles en stock', 'Mary Saveley', '2, rue du Commerce', 'Lyon', '69004', 'France'), (74, 'Spécialités du monde', 'Dominique Perrier', '25, rue Lauriston', 'Paris', '75016', 'France'), (57, 'Paris spécialités', 'Marie Bertrand', '265, boulevard Charonne', 'Paris', '75012', 'France'), (41, \"La maison d'Asie\", 'Annette Roulet', '1 rue Alsace-Lorraine', 'Toulouse', '31000', 'France'), (40, \"La corne d'abondance\", 'Daniel Tonini', \"67, avenue de l'Europe\", 'Versailles', '78000', 'France'), (26, 'France restauration', 'Carine Schmitt', '54, rue Royale', 'Nantes', '44000', 'France'), (23, 'Folies gourmandes', 'Martine Rancé', '184, chaussée de Tournai', 'Lille', '59000', 'France'), (18, 'Du monde entier', 'Janine Labrune', '67, rue des Cinquante Otages', 'Nantes', '44000', 'France'), (9, \"Bon app'\", 'Laurence Lebihans', '12, rue des Bouchers', 'Marseille', '13008', 'France'), (7, 'Blondel père et fils', 'Frédérique Citeaux', '24, place Kléber', 'Strasbourg', '67000', 'France'), (79, 'Toms Spezialitäten', 'Karin Josephs', 'Luisenstr. 48', 'Münster', '44087', 'Germany'), (63, 'QUICK-Stop', 'Horst Kloss', 'Taucherstraße 10', 'Cunewalde', '01307', 'Germany'), (56, 'Ottilies Käseladen', 'Henriette Pfalzheim', 'Mehrheimerstr. 369', 'Köln', '50739', 'Germany'), (52, 'Morgenstern Gesundkost', 'Alexander Feuer', 'Heerstr. 22', 'Leipzig', '04179', 'Germany'), (44, 'Lehmanns Marktstand', 'Renate Messner', 'Magazinweg 7', 'Frankfurt a.M.', '60528', 'Germany'), (39, 'Königlich Essen', 'Philip Cramer', 'Maubelstr. 90', 'Brandenburg', '14776', 'Germany'), (25, 'Frankenversand', 'Peter Franken', 'Berliner Platz 43', 'München', '80805', 'Germany'), (17, 'Drachenblut Delikatessend', 'Sven Ottlieb', 'Walserweg 21', 'Aachen', '52066', 'Germany'), (86, 'Die Wandernde Kuh', 'Rita Müller', 'Adenauerallee 900', 'Stuttgart', '70563', 'Germany'), (6, 'Blauer See Delikatessen', 'Hanna Moos', 'Forsterstr. 57', 'Mannheim', '68306', 'Germany'), (1, 'Alfreds Futterkiste', 'Maria Anders', 'Obere Str. 57', 'Berlin', '12209', 'Germany'), (37, 'Hungry Owl All-Night Grocers', 'Patricia McKenna', '8 Johnstown Road', 'Cork', '', 'Ireland'), (66, 'Reggiani Caseifici', 'Maurizio Moroni', 'Strada Provinciale 124', 'Reggio Emilia', '42100', 'Italy'), (49, 'Magazzini Alimentari Riuniti', 'Giovanni Rovelli', 'Via Ludovico il Moro 22', 'Bergamo', '24100', 'Italy'), (27, 'Franchi S.p.A.', 'Paolo Accorti', 'Via Monte Bianco 34', 'Torino', '10100', 'Italy'), (80, 'Tortuga Restaurante', 'Miguel Angel Paolino', 'Avda. Azteca 123', 'México D.F.', '05033', 'Mexico'), (58, 'Pericles Comidas clásicas', 'Guillermo Fernández', 'Calle Dr. Jorge Cash 321', 'México D.F.', '05033', 'Mexico'), (13, 'Centro comercial Moctezuma', 'Francisco Chang', 'Sierras de Granada 9993', 'México D.F.', '05022', 'Mexico'), (3, 'Antonio Moreno Taquería', 'Antonio Moreno', 'Mataderos 2312', 'México D.F.', '05023', 'Mexico'), (2, 'Ana Trujillo Emparedados y helados', 'Ana Trujillo', 'Avda. de la Constitución 2222', 'México D.F.', '05021', 'Mexico'), (70, 'Santé Gourmet', 'Jonas Bergulfsen', 'Erling Skakkes gate 78', 'Stavern', '4110', 'Norway'), (91, 'Wolski', 'Zbyszek', 'ul. Filtrowa 68', 'Walla', '01-012', 'Poland'), (60, 'Princesa Isabel Vinhoss', 'Isabel de Castro', 'Estrada da saúde n. 58', 'Lisboa', '1756', 'Portugal'), (28, 'Furia Bacalhau e Frutos do Mar', 'Lino Rodriguez', 'Jardim das rosas n. 32', 'Lisboa', '1675', 'Portugal'), (69, 'Romero y tomillo', 'Alejandra Camino', 'Gran Vía, 1', 'Madrid', '28001', 'Spain'), (30, 'Godos Cocina Típica', 'José Pedro Freyre', 'C/ Romero, 33', 'Sevilla', '41101', 'Spain'), (29, 'Galería del gastrónomo', 'Eduardo Saavedra', 'Rambla de Cataluña, 23', 'Barcelona', '08022', 'Spain'), (22, 'FISSA Fabrica Inter. Salchichas S.A.', 'Diego Roel', 'C/ Moralzarzal, 86', 'Madrid', '28034', 'Spain'), (8, 'Bólido Comidas preparadas', 'Martín Sommer', 'C/ Araquil, 67', 'Madrid', '28023', 'Spain'), (24, 'Folk och fä HB', 'Maria Larsson', 'Åkergatan 24', 'Bräcke', 'S-844 67', 'Sweden'), (5, 'Berglunds snabbköp', 'Christina Berglund', 'Berguvsvägen 8', 'Luleå', 'S-958 22', 'Sweden'), (68, 'Richter Supermarkt', 'Michael Holz', 'Grenzacherweg 237', 'Genève', '1203', 'Switzerland'), (14, 'Chop-suey Chinese', 'Yang Wang', 'Hauptstr. 29', 'Bern', '3012', 'Switzerland'), (72, 'Seven Seas Imports', 'Hari Kumar', '90 Wadhurst Rd.', 'London', 'OX15 4NB', 'UK'), (53, 'North/South', 'Simon Crowther', 'South House 300 Queensbridge', 'London', 'SW7 1RZ', 'UK'), (38, 'Island Trading', 'Helen Bennett', 'Garden House Crowther Way', 'Cowes', 'PO31 7PJ', 'UK'), (19, 'Eastern Connection', 'Ann Devon', '35 King George', 'London', 'WX3 6FW', 'UK'), (16, 'Consolidated Holdings', 'Elizabeth Brown', 'Berkeley Gardens 12 Brewery', 'London', 'WX1 6LT', 'UK'), (11, \"B's Beverages\", 'Victoria Ashworth', 'Fauntleroy Circus', 'London', 'EC2 5NT', 'UK'), (4, 'Around the Horn', 'Thomas Hardy', '120 Hanover Sq.', 'London', 'WA1 1DP', 'UK'), (89, 'White Clover Markets', 'Karl Jablonski', '305 - 14th Ave. S. Suite 3B', 'Seattle', '98128', 'USA'), (82, \"Trail's Head Gourmet Provisioners\", 'Helvetius Nagy', '722 DaVinci Blvd.', 'Kirkland', '98034', 'USA'), (78, 'The Cracker Box', 'Liu Wong', '55 Grizzly Peak Rd.', 'Butte', '59801', 'USA'), (77, 'The Big Cheese', 'Liz Nixon', '89 Jefferson Way Suite 2', 'Portland', '97201', 'USA'), (75, 'Split Rail Beer & Ale', 'Art Braunschweiger', 'P.O. Box 555', 'Lander', '82520', 'USA'), (71, 'Save-a-lot Markets', 'Jose Pavarotti', '187 Suffolk Ln.', 'Boise', '83720', 'USA'), (65, 'Rattlesnake Canyon Grocery', 'Paula Wilson', '2817 Milton Dr.', 'Albuquerque', '87110', 'USA'), (55, 'Old World Delicatessen', 'Rene Phillips', '2743 Bering St.', 'Anchorage', '99508', 'USA'), (48, 'Lonesome Pine Restaurant', 'Fran Wilson', '89 Chiaroscuro Rd.', 'Portland', '97219', 'USA'), (45, \"Let's Stop N Shop\", 'Jaime Yorres', '87 Polk St. Suite 5', 'San Francisco', '94117', 'USA'), (43, 'Lazy K Kountry Store', 'John Steel', '12 Orchestra Terrace', 'Walla Walla', '99362', 'USA'), (36, 'Hungry Coyote Import Store', 'Yoshi Latimer', 'City Center Plaza 516 Main St.', 'Elgin', '97827', 'USA'), (32, 'Great Lakes Food Market', 'Howard Snyder', '2732 Baker Blvd.', 'Eugene', '97403', 'USA'), (47, 'LINO-Delicateses', 'Felipe Izquierdo', 'Ave. 5 de Mayo Porlamar', 'I. de Margarita', '4980', 'Venezuela'), (46, 'LILA-Supermercado', 'Carlos González', 'Carrera 52 con Ave. Bolívar #65-98 Llano Largo', 'Barquisimeto', '3508', 'Venezuela'), (35, 'HILARIÓN-Abastos', 'Carlos Hernández', 'Carrera 22 con Ave. Carlos Soublette #8-35', 'San Cristóbal', '5022', 'Venezuela'), (33, 'GROSELLA-Restaurante', 'Manuel Pereira', '5ª Ave. Los Palos Grandes', 'Caracas', '1081', 'Venezuela')]\n"
     ]
    }
   ],
   "execution_count": 614
  },
  {
   "metadata": {
    "ExecuteTime": {
     "end_time": "2024-07-10T08:15:08.850805Z",
     "start_time": "2024-07-10T08:15:08.848739Z"
    }
   },
   "cell_type": "code",
   "source": [
    "print(send_query(\"\"\"\n",
    "SELECT *\n",
    "FROM Customers\n",
    "WHERE Country = 'Spain' AND CustomerName LIKE 'G%';\n",
    "\"\"\"))"
   ],
   "id": "87d39eb45c50b0a",
   "outputs": [
    {
     "name": "stdout",
     "output_type": "stream",
     "text": [
      "[(29, 'Galería del gastrónomo', 'Eduardo Saavedra', 'Rambla de Cataluña, 23', 'Barcelona', '08022', 'Spain'), (30, 'Godos Cocina Típica', 'José Pedro Freyre', 'C/ Romero, 33', 'Sevilla', '41101', 'Spain')]\n"
     ]
    }
   ],
   "execution_count": 615
  },
  {
   "metadata": {
    "ExecuteTime": {
     "end_time": "2024-07-10T08:15:08.989339Z",
     "start_time": "2024-07-10T08:15:08.987480Z"
    }
   },
   "cell_type": "code",
   "source": [
    "print(send_query(\"\"\"\n",
    "SELECT * FROM Customers\n",
    "WHERE Country = 'Germany'\n",
    "AND City = 'Berlin'\n",
    "AND PostalCode > 12000;\n",
    "\"\"\"))"
   ],
   "id": "cb0fee9d73678557",
   "outputs": [
    {
     "name": "stdout",
     "output_type": "stream",
     "text": [
      "[(1, 'Alfreds Futterkiste', 'Maria Anders', 'Obere Str. 57', 'Berlin', '12209', 'Germany')]\n"
     ]
    }
   ],
   "execution_count": 616
  },
  {
   "metadata": {
    "ExecuteTime": {
     "end_time": "2024-07-10T08:15:09.129413Z",
     "start_time": "2024-07-10T08:15:09.127477Z"
    }
   },
   "cell_type": "code",
   "source": [
    "print(send_query(\"\"\"\n",
    "SELECT * FROM Customers\n",
    "WHERE Country = 'Spain' AND (CustomerName LIKE 'G%' OR CustomerName LIKE 'R%');\n",
    "\"\"\"))"
   ],
   "id": "160a946117fa582e",
   "outputs": [
    {
     "name": "stdout",
     "output_type": "stream",
     "text": [
      "[(29, 'Galería del gastrónomo', 'Eduardo Saavedra', 'Rambla de Cataluña, 23', 'Barcelona', '08022', 'Spain'), (30, 'Godos Cocina Típica', 'José Pedro Freyre', 'C/ Romero, 33', 'Sevilla', '41101', 'Spain'), (69, 'Romero y tomillo', 'Alejandra Camino', 'Gran Vía, 1', 'Madrid', '28001', 'Spain')]\n"
     ]
    }
   ],
   "execution_count": 617
  },
  {
   "metadata": {
    "ExecuteTime": {
     "end_time": "2024-07-10T08:15:09.230656Z",
     "start_time": "2024-07-10T08:15:09.228627Z"
    }
   },
   "cell_type": "code",
   "source": [
    "print(send_query(\"\"\"\n",
    "SELECT * FROM Customers\n",
    "WHERE Country = 'Spain' AND CustomerName LIKE 'G%' OR CustomerName LIKE 'R%';\n",
    "\"\"\"))"
   ],
   "id": "554db3e0802afbff",
   "outputs": [
    {
     "name": "stdout",
     "output_type": "stream",
     "text": [
      "[(29, 'Galería del gastrónomo', 'Eduardo Saavedra', 'Rambla de Cataluña, 23', 'Barcelona', '08022', 'Spain'), (30, 'Godos Cocina Típica', 'José Pedro Freyre', 'C/ Romero, 33', 'Sevilla', '41101', 'Spain'), (64, 'Rancho grande', 'Sergio Gutiérrez', 'Av. del Libertador 900', 'Buenos Aires', '1010', 'Argentina'), (65, 'Rattlesnake Canyon Grocery', 'Paula Wilson', '2817 Milton Dr.', 'Albuquerque', '87110', 'USA'), (66, 'Reggiani Caseifici', 'Maurizio Moroni', 'Strada Provinciale 124', 'Reggio Emilia', '42100', 'Italy'), (67, 'Ricardo Adocicados', 'Janete Limeira', 'Av. Copacabana, 267', 'Rio de Janeiro', '02389-890', 'Brazil'), (68, 'Richter Supermarkt', 'Michael Holz', 'Grenzacherweg 237', 'Genève', '1203', 'Switzerland'), (69, 'Romero y tomillo', 'Alejandra Camino', 'Gran Vía, 1', 'Madrid', '28001', 'Spain')]\n"
     ]
    }
   ],
   "execution_count": 618
  },
  {
   "metadata": {
    "ExecuteTime": {
     "end_time": "2024-07-10T08:15:09.324270Z",
     "start_time": "2024-07-10T08:15:09.322038Z"
    }
   },
   "cell_type": "code",
   "source": [
    "print(send_query(\"\"\"\n",
    "SELECT *\n",
    "FROM Customers\n",
    "WHERE Country = 'Germany' OR Country = 'Spain';\n",
    "\"\"\"))"
   ],
   "id": "c94b01081846940e",
   "outputs": [
    {
     "name": "stdout",
     "output_type": "stream",
     "text": [
      "[(1, 'Alfreds Futterkiste', 'Maria Anders', 'Obere Str. 57', 'Berlin', '12209', 'Germany'), (6, 'Blauer See Delikatessen', 'Hanna Moos', 'Forsterstr. 57', 'Mannheim', '68306', 'Germany'), (8, 'Bólido Comidas preparadas', 'Martín Sommer', 'C/ Araquil, 67', 'Madrid', '28023', 'Spain'), (17, 'Drachenblut Delikatessend', 'Sven Ottlieb', 'Walserweg 21', 'Aachen', '52066', 'Germany'), (22, 'FISSA Fabrica Inter. Salchichas S.A.', 'Diego Roel', 'C/ Moralzarzal, 86', 'Madrid', '28034', 'Spain'), (25, 'Frankenversand', 'Peter Franken', 'Berliner Platz 43', 'München', '80805', 'Germany'), (29, 'Galería del gastrónomo', 'Eduardo Saavedra', 'Rambla de Cataluña, 23', 'Barcelona', '08022', 'Spain'), (30, 'Godos Cocina Típica', 'José Pedro Freyre', 'C/ Romero, 33', 'Sevilla', '41101', 'Spain'), (39, 'Königlich Essen', 'Philip Cramer', 'Maubelstr. 90', 'Brandenburg', '14776', 'Germany'), (44, 'Lehmanns Marktstand', 'Renate Messner', 'Magazinweg 7', 'Frankfurt a.M.', '60528', 'Germany'), (52, 'Morgenstern Gesundkost', 'Alexander Feuer', 'Heerstr. 22', 'Leipzig', '04179', 'Germany'), (56, 'Ottilies Käseladen', 'Henriette Pfalzheim', 'Mehrheimerstr. 369', 'Köln', '50739', 'Germany'), (63, 'QUICK-Stop', 'Horst Kloss', 'Taucherstraße 10', 'Cunewalde', '01307', 'Germany'), (69, 'Romero y tomillo', 'Alejandra Camino', 'Gran Vía, 1', 'Madrid', '28001', 'Spain'), (79, 'Toms Spezialitäten', 'Karin Josephs', 'Luisenstr. 48', 'Münster', '44087', 'Germany'), (86, 'Die Wandernde Kuh', 'Rita Müller', 'Adenauerallee 900', 'Stuttgart', '70563', 'Germany')]\n"
     ]
    }
   ],
   "execution_count": 619
  },
  {
   "metadata": {
    "ExecuteTime": {
     "end_time": "2024-07-10T08:15:09.421336Z",
     "start_time": "2024-07-10T08:15:09.419085Z"
    }
   },
   "cell_type": "code",
   "source": [
    "print(send_query(\"\"\"\n",
    "SELECT * FROM Customers\n",
    "WHERE City = 'Berlin' OR CustomerName LIKE 'G%' OR Country = 'Norway';\n",
    "\"\"\"))"
   ],
   "id": "16f35deca2943fb5",
   "outputs": [
    {
     "name": "stdout",
     "output_type": "stream",
     "text": [
      "[(1, 'Alfreds Futterkiste', 'Maria Anders', 'Obere Str. 57', 'Berlin', '12209', 'Germany'), (29, 'Galería del gastrónomo', 'Eduardo Saavedra', 'Rambla de Cataluña, 23', 'Barcelona', '08022', 'Spain'), (30, 'Godos Cocina Típica', 'José Pedro Freyre', 'C/ Romero, 33', 'Sevilla', '41101', 'Spain'), (31, 'Gourmet Lanchonetes', 'André Fonseca', 'Av. Brasil, 442', 'Campinas', '04876-786', 'Brazil'), (32, 'Great Lakes Food Market', 'Howard Snyder', '2732 Baker Blvd.', 'Eugene', '97403', 'USA'), (33, 'GROSELLA-Restaurante', 'Manuel Pereira', '5ª Ave. Los Palos Grandes', 'Caracas', '1081', 'Venezuela'), (70, 'Santé Gourmet', 'Jonas Bergulfsen', 'Erling Skakkes gate 78', 'Stavern', '4110', 'Norway')]\n"
     ]
    }
   ],
   "execution_count": 620
  },
  {
   "metadata": {
    "ExecuteTime": {
     "end_time": "2024-07-10T08:15:09.505027Z",
     "start_time": "2024-07-10T08:15:09.503066Z"
    }
   },
   "cell_type": "code",
   "source": [
    "print(send_query(\"\"\"\n",
    "SELECT * FROM Customers\n",
    "WHERE Country = 'Spain' AND (CustomerName LIKE 'G%' OR CustomerName LIKE 'R%');\n",
    "\"\"\"))"
   ],
   "id": "ea7ee760ac9a1d97",
   "outputs": [
    {
     "name": "stdout",
     "output_type": "stream",
     "text": [
      "[(29, 'Galería del gastrónomo', 'Eduardo Saavedra', 'Rambla de Cataluña, 23', 'Barcelona', '08022', 'Spain'), (30, 'Godos Cocina Típica', 'José Pedro Freyre', 'C/ Romero, 33', 'Sevilla', '41101', 'Spain'), (69, 'Romero y tomillo', 'Alejandra Camino', 'Gran Vía, 1', 'Madrid', '28001', 'Spain')]\n"
     ]
    }
   ],
   "execution_count": 621
  },
  {
   "metadata": {
    "ExecuteTime": {
     "end_time": "2024-07-10T08:15:09.631596Z",
     "start_time": "2024-07-10T08:15:09.629543Z"
    }
   },
   "cell_type": "code",
   "source": [
    "print(send_query(\"\"\"\n",
    "SELECT * FROM Customers\n",
    "WHERE Country = 'Spain' AND CustomerName LIKE 'G%' OR CustomerName LIKE 'R%';\n",
    "\"\"\"))"
   ],
   "id": "4225a851a727d438",
   "outputs": [
    {
     "name": "stdout",
     "output_type": "stream",
     "text": [
      "[(29, 'Galería del gastrónomo', 'Eduardo Saavedra', 'Rambla de Cataluña, 23', 'Barcelona', '08022', 'Spain'), (30, 'Godos Cocina Típica', 'José Pedro Freyre', 'C/ Romero, 33', 'Sevilla', '41101', 'Spain'), (64, 'Rancho grande', 'Sergio Gutiérrez', 'Av. del Libertador 900', 'Buenos Aires', '1010', 'Argentina'), (65, 'Rattlesnake Canyon Grocery', 'Paula Wilson', '2817 Milton Dr.', 'Albuquerque', '87110', 'USA'), (66, 'Reggiani Caseifici', 'Maurizio Moroni', 'Strada Provinciale 124', 'Reggio Emilia', '42100', 'Italy'), (67, 'Ricardo Adocicados', 'Janete Limeira', 'Av. Copacabana, 267', 'Rio de Janeiro', '02389-890', 'Brazil'), (68, 'Richter Supermarkt', 'Michael Holz', 'Grenzacherweg 237', 'Genève', '1203', 'Switzerland'), (69, 'Romero y tomillo', 'Alejandra Camino', 'Gran Vía, 1', 'Madrid', '28001', 'Spain')]\n"
     ]
    }
   ],
   "execution_count": 622
  },
  {
   "metadata": {
    "ExecuteTime": {
     "end_time": "2024-07-10T08:15:09.724700Z",
     "start_time": "2024-07-10T08:15:09.722376Z"
    }
   },
   "cell_type": "code",
   "source": [
    "print(send_query(\"\"\"\n",
    "SELECT * FROM Customers\n",
    "WHERE NOT Country = 'Spain';\n",
    "\"\"\"))"
   ],
   "id": "3464cc578f7665e3",
   "outputs": [
    {
     "name": "stdout",
     "output_type": "stream",
     "text": [
      "[(1, 'Alfreds Futterkiste', 'Maria Anders', 'Obere Str. 57', 'Berlin', '12209', 'Germany'), (2, 'Ana Trujillo Emparedados y helados', 'Ana Trujillo', 'Avda. de la Constitución 2222', 'México D.F.', '05021', 'Mexico'), (3, 'Antonio Moreno Taquería', 'Antonio Moreno', 'Mataderos 2312', 'México D.F.', '05023', 'Mexico'), (4, 'Around the Horn', 'Thomas Hardy', '120 Hanover Sq.', 'London', 'WA1 1DP', 'UK'), (5, 'Berglunds snabbköp', 'Christina Berglund', 'Berguvsvägen 8', 'Luleå', 'S-958 22', 'Sweden'), (6, 'Blauer See Delikatessen', 'Hanna Moos', 'Forsterstr. 57', 'Mannheim', '68306', 'Germany'), (7, 'Blondel père et fils', 'Frédérique Citeaux', '24, place Kléber', 'Strasbourg', '67000', 'France'), (9, \"Bon app'\", 'Laurence Lebihans', '12, rue des Bouchers', 'Marseille', '13008', 'France'), (10, 'Bottom-Dollar Marketse', 'Elizabeth Lincoln', '23 Tsawassen Blvd.', 'Tsawassen', 'T2F 8M4', 'Canada'), (11, \"B's Beverages\", 'Victoria Ashworth', 'Fauntleroy Circus', 'London', 'EC2 5NT', 'UK'), (12, 'Cactus Comidas para llevar', 'Patricio Simpson', 'Cerrito 333', 'Buenos Aires', '1010', 'Argentina'), (13, 'Centro comercial Moctezuma', 'Francisco Chang', 'Sierras de Granada 9993', 'México D.F.', '05022', 'Mexico'), (14, 'Chop-suey Chinese', 'Yang Wang', 'Hauptstr. 29', 'Bern', '3012', 'Switzerland'), (15, 'Comércio Mineiro', 'Pedro Afonso', 'Av. dos Lusíadas, 23', 'São Paulo', '05432-043', 'Brazil'), (16, 'Consolidated Holdings', 'Elizabeth Brown', 'Berkeley Gardens 12 Brewery', 'London', 'WX1 6LT', 'UK'), (17, 'Drachenblut Delikatessend', 'Sven Ottlieb', 'Walserweg 21', 'Aachen', '52066', 'Germany'), (18, 'Du monde entier', 'Janine Labrune', '67, rue des Cinquante Otages', 'Nantes', '44000', 'France'), (19, 'Eastern Connection', 'Ann Devon', '35 King George', 'London', 'WX3 6FW', 'UK'), (20, 'Ernst Handel', 'Roland Mendel', 'Kirchgasse 6', 'Graz', '8010', 'Austria'), (21, 'Familia Arquibaldo', 'Aria Cruz', 'Rua Orós, 92', 'São Paulo', '05442-030', 'Brazil'), (23, 'Folies gourmandes', 'Martine Rancé', '184, chaussée de Tournai', 'Lille', '59000', 'France'), (24, 'Folk och fä HB', 'Maria Larsson', 'Åkergatan 24', 'Bräcke', 'S-844 67', 'Sweden'), (25, 'Frankenversand', 'Peter Franken', 'Berliner Platz 43', 'München', '80805', 'Germany'), (26, 'France restauration', 'Carine Schmitt', '54, rue Royale', 'Nantes', '44000', 'France'), (27, 'Franchi S.p.A.', 'Paolo Accorti', 'Via Monte Bianco 34', 'Torino', '10100', 'Italy'), (28, 'Furia Bacalhau e Frutos do Mar', 'Lino Rodriguez', 'Jardim das rosas n. 32', 'Lisboa', '1675', 'Portugal'), (31, 'Gourmet Lanchonetes', 'André Fonseca', 'Av. Brasil, 442', 'Campinas', '04876-786', 'Brazil'), (32, 'Great Lakes Food Market', 'Howard Snyder', '2732 Baker Blvd.', 'Eugene', '97403', 'USA'), (33, 'GROSELLA-Restaurante', 'Manuel Pereira', '5ª Ave. Los Palos Grandes', 'Caracas', '1081', 'Venezuela'), (34, 'Hanari Carnes', 'Mario Pontes', 'Rua do Paço, 67', 'Rio de Janeiro', '05454-876', 'Brazil'), (35, 'HILARIÓN-Abastos', 'Carlos Hernández', 'Carrera 22 con Ave. Carlos Soublette #8-35', 'San Cristóbal', '5022', 'Venezuela'), (36, 'Hungry Coyote Import Store', 'Yoshi Latimer', 'City Center Plaza 516 Main St.', 'Elgin', '97827', 'USA'), (37, 'Hungry Owl All-Night Grocers', 'Patricia McKenna', '8 Johnstown Road', 'Cork', '', 'Ireland'), (38, 'Island Trading', 'Helen Bennett', 'Garden House Crowther Way', 'Cowes', 'PO31 7PJ', 'UK'), (39, 'Königlich Essen', 'Philip Cramer', 'Maubelstr. 90', 'Brandenburg', '14776', 'Germany'), (40, \"La corne d'abondance\", 'Daniel Tonini', \"67, avenue de l'Europe\", 'Versailles', '78000', 'France'), (41, \"La maison d'Asie\", 'Annette Roulet', '1 rue Alsace-Lorraine', 'Toulouse', '31000', 'France'), (42, 'Laughing Bacchus Wine Cellars', 'Yoshi Tannamuri', '1900 Oak St.', 'Vancouver', 'V3F 2K1', 'Canada'), (43, 'Lazy K Kountry Store', 'John Steel', '12 Orchestra Terrace', 'Walla Walla', '99362', 'USA'), (44, 'Lehmanns Marktstand', 'Renate Messner', 'Magazinweg 7', 'Frankfurt a.M.', '60528', 'Germany'), (45, \"Let's Stop N Shop\", 'Jaime Yorres', '87 Polk St. Suite 5', 'San Francisco', '94117', 'USA'), (46, 'LILA-Supermercado', 'Carlos González', 'Carrera 52 con Ave. Bolívar #65-98 Llano Largo', 'Barquisimeto', '3508', 'Venezuela'), (47, 'LINO-Delicateses', 'Felipe Izquierdo', 'Ave. 5 de Mayo Porlamar', 'I. de Margarita', '4980', 'Venezuela'), (48, 'Lonesome Pine Restaurant', 'Fran Wilson', '89 Chiaroscuro Rd.', 'Portland', '97219', 'USA'), (49, 'Magazzini Alimentari Riuniti', 'Giovanni Rovelli', 'Via Ludovico il Moro 22', 'Bergamo', '24100', 'Italy'), (50, 'Maison Dewey', 'Catherine Dewey', 'Rue Joseph-Bens 532', 'Bruxelles', 'B-1180', 'Belgium'), (51, 'Mère Paillarde', 'Jean Fresnière', '43 rue St. Laurent', 'Montréal', 'H1J 1C3', 'Canada'), (52, 'Morgenstern Gesundkost', 'Alexander Feuer', 'Heerstr. 22', 'Leipzig', '04179', 'Germany'), (53, 'North/South', 'Simon Crowther', 'South House 300 Queensbridge', 'London', 'SW7 1RZ', 'UK'), (54, 'Océano Atlántico Ltda.', 'Yvonne Moncada', 'Ing. Gustavo Moncada 8585 Piso 20-A', 'Buenos Aires', '1010', 'Argentina'), (55, 'Old World Delicatessen', 'Rene Phillips', '2743 Bering St.', 'Anchorage', '99508', 'USA'), (56, 'Ottilies Käseladen', 'Henriette Pfalzheim', 'Mehrheimerstr. 369', 'Köln', '50739', 'Germany'), (57, 'Paris spécialités', 'Marie Bertrand', '265, boulevard Charonne', 'Paris', '75012', 'France'), (58, 'Pericles Comidas clásicas', 'Guillermo Fernández', 'Calle Dr. Jorge Cash 321', 'México D.F.', '05033', 'Mexico'), (59, 'Piccolo und mehr', 'Georg Pipps', 'Geislweg 14', 'Salzburg', '5020', 'Austria'), (60, 'Princesa Isabel Vinhoss', 'Isabel de Castro', 'Estrada da saúde n. 58', 'Lisboa', '1756', 'Portugal'), (61, 'Que Delícia', 'Bernardo Batista', 'Rua da Panificadora, 12', 'Rio de Janeiro', '02389-673', 'Brazil'), (62, 'Queen Cozinha', 'Lúcia Carvalho', 'Alameda dos Canàrios, 891', 'São Paulo', '05487-020', 'Brazil'), (63, 'QUICK-Stop', 'Horst Kloss', 'Taucherstraße 10', 'Cunewalde', '01307', 'Germany'), (64, 'Rancho grande', 'Sergio Gutiérrez', 'Av. del Libertador 900', 'Buenos Aires', '1010', 'Argentina'), (65, 'Rattlesnake Canyon Grocery', 'Paula Wilson', '2817 Milton Dr.', 'Albuquerque', '87110', 'USA'), (66, 'Reggiani Caseifici', 'Maurizio Moroni', 'Strada Provinciale 124', 'Reggio Emilia', '42100', 'Italy'), (67, 'Ricardo Adocicados', 'Janete Limeira', 'Av. Copacabana, 267', 'Rio de Janeiro', '02389-890', 'Brazil'), (68, 'Richter Supermarkt', 'Michael Holz', 'Grenzacherweg 237', 'Genève', '1203', 'Switzerland'), (70, 'Santé Gourmet', 'Jonas Bergulfsen', 'Erling Skakkes gate 78', 'Stavern', '4110', 'Norway'), (71, 'Save-a-lot Markets', 'Jose Pavarotti', '187 Suffolk Ln.', 'Boise', '83720', 'USA'), (72, 'Seven Seas Imports', 'Hari Kumar', '90 Wadhurst Rd.', 'London', 'OX15 4NB', 'UK'), (73, 'Simons bistro', 'Jytte Petersen', 'Vinbæltet 34', 'København', '1734', 'Denmark'), (74, 'Spécialités du monde', 'Dominique Perrier', '25, rue Lauriston', 'Paris', '75016', 'France'), (75, 'Split Rail Beer & Ale', 'Art Braunschweiger', 'P.O. Box 555', 'Lander', '82520', 'USA'), (76, 'Suprêmes délices', 'Pascale Cartrain', 'Boulevard Tirou, 255', 'Charleroi', 'B-6000', 'Belgium'), (77, 'The Big Cheese', 'Liz Nixon', '89 Jefferson Way Suite 2', 'Portland', '97201', 'USA'), (78, 'The Cracker Box', 'Liu Wong', '55 Grizzly Peak Rd.', 'Butte', '59801', 'USA'), (79, 'Toms Spezialitäten', 'Karin Josephs', 'Luisenstr. 48', 'Münster', '44087', 'Germany'), (80, 'Tortuga Restaurante', 'Miguel Angel Paolino', 'Avda. Azteca 123', 'México D.F.', '05033', 'Mexico'), (81, 'Tradição Hipermercados', 'Anabela Domingues', 'Av. Inês de Castro, 414', 'São Paulo', '05634-030', 'Brazil'), (82, \"Trail's Head Gourmet Provisioners\", 'Helvetius Nagy', '722 DaVinci Blvd.', 'Kirkland', '98034', 'USA'), (83, 'Vaffeljernet', 'Palle Ibsen', 'Smagsløget 45', 'Århus', '8200', 'Denmark'), (84, 'Victuailles en stock', 'Mary Saveley', '2, rue du Commerce', 'Lyon', '69004', 'France'), (85, 'Vins et alcools Chevalier', 'Paul Henriot', \"59 rue de l'Abbaye\", 'Reims', '51100', 'France'), (86, 'Die Wandernde Kuh', 'Rita Müller', 'Adenauerallee 900', 'Stuttgart', '70563', 'Germany'), (87, 'Wartian Herkku', 'Pirkko Koskitalo', 'Torikatu 38', 'Oulu', '90110', 'Finland'), (88, 'Wellington Importadora', 'Paula Parente', 'Rua do Mercado, 12', 'Resende', '08737-363', 'Brazil'), (89, 'White Clover Markets', 'Karl Jablonski', '305 - 14th Ave. S. Suite 3B', 'Seattle', '98128', 'USA'), (90, 'Wilman Kala', 'Matti Karttunen', 'Keskuskatu 45', 'Helsinki', '21240', 'Finland'), (91, 'Wolski', 'Zbyszek', 'ul. Filtrowa 68', 'Walla', '01-012', 'Poland')]\n"
     ]
    }
   ],
   "execution_count": 623
  },
  {
   "metadata": {
    "ExecuteTime": {
     "end_time": "2024-07-10T08:15:09.835326Z",
     "start_time": "2024-07-10T08:15:09.833400Z"
    }
   },
   "cell_type": "code",
   "source": [
    "print(send_query(\"\"\"\n",
    "SELECT * FROM Customers\n",
    "WHERE CustomerName NOT LIKE 'A%';\n",
    "\"\"\"))"
   ],
   "id": "d0e3d579539b0969",
   "outputs": [
    {
     "name": "stdout",
     "output_type": "stream",
     "text": [
      "[(5, 'Berglunds snabbköp', 'Christina Berglund', 'Berguvsvägen 8', 'Luleå', 'S-958 22', 'Sweden'), (6, 'Blauer See Delikatessen', 'Hanna Moos', 'Forsterstr. 57', 'Mannheim', '68306', 'Germany'), (7, 'Blondel père et fils', 'Frédérique Citeaux', '24, place Kléber', 'Strasbourg', '67000', 'France'), (8, 'Bólido Comidas preparadas', 'Martín Sommer', 'C/ Araquil, 67', 'Madrid', '28023', 'Spain'), (9, \"Bon app'\", 'Laurence Lebihans', '12, rue des Bouchers', 'Marseille', '13008', 'France'), (10, 'Bottom-Dollar Marketse', 'Elizabeth Lincoln', '23 Tsawassen Blvd.', 'Tsawassen', 'T2F 8M4', 'Canada'), (11, \"B's Beverages\", 'Victoria Ashworth', 'Fauntleroy Circus', 'London', 'EC2 5NT', 'UK'), (12, 'Cactus Comidas para llevar', 'Patricio Simpson', 'Cerrito 333', 'Buenos Aires', '1010', 'Argentina'), (13, 'Centro comercial Moctezuma', 'Francisco Chang', 'Sierras de Granada 9993', 'México D.F.', '05022', 'Mexico'), (14, 'Chop-suey Chinese', 'Yang Wang', 'Hauptstr. 29', 'Bern', '3012', 'Switzerland'), (15, 'Comércio Mineiro', 'Pedro Afonso', 'Av. dos Lusíadas, 23', 'São Paulo', '05432-043', 'Brazil'), (16, 'Consolidated Holdings', 'Elizabeth Brown', 'Berkeley Gardens 12 Brewery', 'London', 'WX1 6LT', 'UK'), (17, 'Drachenblut Delikatessend', 'Sven Ottlieb', 'Walserweg 21', 'Aachen', '52066', 'Germany'), (18, 'Du monde entier', 'Janine Labrune', '67, rue des Cinquante Otages', 'Nantes', '44000', 'France'), (19, 'Eastern Connection', 'Ann Devon', '35 King George', 'London', 'WX3 6FW', 'UK'), (20, 'Ernst Handel', 'Roland Mendel', 'Kirchgasse 6', 'Graz', '8010', 'Austria'), (21, 'Familia Arquibaldo', 'Aria Cruz', 'Rua Orós, 92', 'São Paulo', '05442-030', 'Brazil'), (22, 'FISSA Fabrica Inter. Salchichas S.A.', 'Diego Roel', 'C/ Moralzarzal, 86', 'Madrid', '28034', 'Spain'), (23, 'Folies gourmandes', 'Martine Rancé', '184, chaussée de Tournai', 'Lille', '59000', 'France'), (24, 'Folk och fä HB', 'Maria Larsson', 'Åkergatan 24', 'Bräcke', 'S-844 67', 'Sweden'), (25, 'Frankenversand', 'Peter Franken', 'Berliner Platz 43', 'München', '80805', 'Germany'), (26, 'France restauration', 'Carine Schmitt', '54, rue Royale', 'Nantes', '44000', 'France'), (27, 'Franchi S.p.A.', 'Paolo Accorti', 'Via Monte Bianco 34', 'Torino', '10100', 'Italy'), (28, 'Furia Bacalhau e Frutos do Mar', 'Lino Rodriguez', 'Jardim das rosas n. 32', 'Lisboa', '1675', 'Portugal'), (29, 'Galería del gastrónomo', 'Eduardo Saavedra', 'Rambla de Cataluña, 23', 'Barcelona', '08022', 'Spain'), (30, 'Godos Cocina Típica', 'José Pedro Freyre', 'C/ Romero, 33', 'Sevilla', '41101', 'Spain'), (31, 'Gourmet Lanchonetes', 'André Fonseca', 'Av. Brasil, 442', 'Campinas', '04876-786', 'Brazil'), (32, 'Great Lakes Food Market', 'Howard Snyder', '2732 Baker Blvd.', 'Eugene', '97403', 'USA'), (33, 'GROSELLA-Restaurante', 'Manuel Pereira', '5ª Ave. Los Palos Grandes', 'Caracas', '1081', 'Venezuela'), (34, 'Hanari Carnes', 'Mario Pontes', 'Rua do Paço, 67', 'Rio de Janeiro', '05454-876', 'Brazil'), (35, 'HILARIÓN-Abastos', 'Carlos Hernández', 'Carrera 22 con Ave. Carlos Soublette #8-35', 'San Cristóbal', '5022', 'Venezuela'), (36, 'Hungry Coyote Import Store', 'Yoshi Latimer', 'City Center Plaza 516 Main St.', 'Elgin', '97827', 'USA'), (37, 'Hungry Owl All-Night Grocers', 'Patricia McKenna', '8 Johnstown Road', 'Cork', '', 'Ireland'), (38, 'Island Trading', 'Helen Bennett', 'Garden House Crowther Way', 'Cowes', 'PO31 7PJ', 'UK'), (39, 'Königlich Essen', 'Philip Cramer', 'Maubelstr. 90', 'Brandenburg', '14776', 'Germany'), (40, \"La corne d'abondance\", 'Daniel Tonini', \"67, avenue de l'Europe\", 'Versailles', '78000', 'France'), (41, \"La maison d'Asie\", 'Annette Roulet', '1 rue Alsace-Lorraine', 'Toulouse', '31000', 'France'), (42, 'Laughing Bacchus Wine Cellars', 'Yoshi Tannamuri', '1900 Oak St.', 'Vancouver', 'V3F 2K1', 'Canada'), (43, 'Lazy K Kountry Store', 'John Steel', '12 Orchestra Terrace', 'Walla Walla', '99362', 'USA'), (44, 'Lehmanns Marktstand', 'Renate Messner', 'Magazinweg 7', 'Frankfurt a.M.', '60528', 'Germany'), (45, \"Let's Stop N Shop\", 'Jaime Yorres', '87 Polk St. Suite 5', 'San Francisco', '94117', 'USA'), (46, 'LILA-Supermercado', 'Carlos González', 'Carrera 52 con Ave. Bolívar #65-98 Llano Largo', 'Barquisimeto', '3508', 'Venezuela'), (47, 'LINO-Delicateses', 'Felipe Izquierdo', 'Ave. 5 de Mayo Porlamar', 'I. de Margarita', '4980', 'Venezuela'), (48, 'Lonesome Pine Restaurant', 'Fran Wilson', '89 Chiaroscuro Rd.', 'Portland', '97219', 'USA'), (49, 'Magazzini Alimentari Riuniti', 'Giovanni Rovelli', 'Via Ludovico il Moro 22', 'Bergamo', '24100', 'Italy'), (50, 'Maison Dewey', 'Catherine Dewey', 'Rue Joseph-Bens 532', 'Bruxelles', 'B-1180', 'Belgium'), (51, 'Mère Paillarde', 'Jean Fresnière', '43 rue St. Laurent', 'Montréal', 'H1J 1C3', 'Canada'), (52, 'Morgenstern Gesundkost', 'Alexander Feuer', 'Heerstr. 22', 'Leipzig', '04179', 'Germany'), (53, 'North/South', 'Simon Crowther', 'South House 300 Queensbridge', 'London', 'SW7 1RZ', 'UK'), (54, 'Océano Atlántico Ltda.', 'Yvonne Moncada', 'Ing. Gustavo Moncada 8585 Piso 20-A', 'Buenos Aires', '1010', 'Argentina'), (55, 'Old World Delicatessen', 'Rene Phillips', '2743 Bering St.', 'Anchorage', '99508', 'USA'), (56, 'Ottilies Käseladen', 'Henriette Pfalzheim', 'Mehrheimerstr. 369', 'Köln', '50739', 'Germany'), (57, 'Paris spécialités', 'Marie Bertrand', '265, boulevard Charonne', 'Paris', '75012', 'France'), (58, 'Pericles Comidas clásicas', 'Guillermo Fernández', 'Calle Dr. Jorge Cash 321', 'México D.F.', '05033', 'Mexico'), (59, 'Piccolo und mehr', 'Georg Pipps', 'Geislweg 14', 'Salzburg', '5020', 'Austria'), (60, 'Princesa Isabel Vinhoss', 'Isabel de Castro', 'Estrada da saúde n. 58', 'Lisboa', '1756', 'Portugal'), (61, 'Que Delícia', 'Bernardo Batista', 'Rua da Panificadora, 12', 'Rio de Janeiro', '02389-673', 'Brazil'), (62, 'Queen Cozinha', 'Lúcia Carvalho', 'Alameda dos Canàrios, 891', 'São Paulo', '05487-020', 'Brazil'), (63, 'QUICK-Stop', 'Horst Kloss', 'Taucherstraße 10', 'Cunewalde', '01307', 'Germany'), (64, 'Rancho grande', 'Sergio Gutiérrez', 'Av. del Libertador 900', 'Buenos Aires', '1010', 'Argentina'), (65, 'Rattlesnake Canyon Grocery', 'Paula Wilson', '2817 Milton Dr.', 'Albuquerque', '87110', 'USA'), (66, 'Reggiani Caseifici', 'Maurizio Moroni', 'Strada Provinciale 124', 'Reggio Emilia', '42100', 'Italy'), (67, 'Ricardo Adocicados', 'Janete Limeira', 'Av. Copacabana, 267', 'Rio de Janeiro', '02389-890', 'Brazil'), (68, 'Richter Supermarkt', 'Michael Holz', 'Grenzacherweg 237', 'Genève', '1203', 'Switzerland'), (69, 'Romero y tomillo', 'Alejandra Camino', 'Gran Vía, 1', 'Madrid', '28001', 'Spain'), (70, 'Santé Gourmet', 'Jonas Bergulfsen', 'Erling Skakkes gate 78', 'Stavern', '4110', 'Norway'), (71, 'Save-a-lot Markets', 'Jose Pavarotti', '187 Suffolk Ln.', 'Boise', '83720', 'USA'), (72, 'Seven Seas Imports', 'Hari Kumar', '90 Wadhurst Rd.', 'London', 'OX15 4NB', 'UK'), (73, 'Simons bistro', 'Jytte Petersen', 'Vinbæltet 34', 'København', '1734', 'Denmark'), (74, 'Spécialités du monde', 'Dominique Perrier', '25, rue Lauriston', 'Paris', '75016', 'France'), (75, 'Split Rail Beer & Ale', 'Art Braunschweiger', 'P.O. Box 555', 'Lander', '82520', 'USA'), (76, 'Suprêmes délices', 'Pascale Cartrain', 'Boulevard Tirou, 255', 'Charleroi', 'B-6000', 'Belgium'), (77, 'The Big Cheese', 'Liz Nixon', '89 Jefferson Way Suite 2', 'Portland', '97201', 'USA'), (78, 'The Cracker Box', 'Liu Wong', '55 Grizzly Peak Rd.', 'Butte', '59801', 'USA'), (79, 'Toms Spezialitäten', 'Karin Josephs', 'Luisenstr. 48', 'Münster', '44087', 'Germany'), (80, 'Tortuga Restaurante', 'Miguel Angel Paolino', 'Avda. Azteca 123', 'México D.F.', '05033', 'Mexico'), (81, 'Tradição Hipermercados', 'Anabela Domingues', 'Av. Inês de Castro, 414', 'São Paulo', '05634-030', 'Brazil'), (82, \"Trail's Head Gourmet Provisioners\", 'Helvetius Nagy', '722 DaVinci Blvd.', 'Kirkland', '98034', 'USA'), (83, 'Vaffeljernet', 'Palle Ibsen', 'Smagsløget 45', 'Århus', '8200', 'Denmark'), (84, 'Victuailles en stock', 'Mary Saveley', '2, rue du Commerce', 'Lyon', '69004', 'France'), (85, 'Vins et alcools Chevalier', 'Paul Henriot', \"59 rue de l'Abbaye\", 'Reims', '51100', 'France'), (86, 'Die Wandernde Kuh', 'Rita Müller', 'Adenauerallee 900', 'Stuttgart', '70563', 'Germany'), (87, 'Wartian Herkku', 'Pirkko Koskitalo', 'Torikatu 38', 'Oulu', '90110', 'Finland'), (88, 'Wellington Importadora', 'Paula Parente', 'Rua do Mercado, 12', 'Resende', '08737-363', 'Brazil'), (89, 'White Clover Markets', 'Karl Jablonski', '305 - 14th Ave. S. Suite 3B', 'Seattle', '98128', 'USA'), (90, 'Wilman Kala', 'Matti Karttunen', 'Keskuskatu 45', 'Helsinki', '21240', 'Finland'), (91, 'Wolski', 'Zbyszek', 'ul. Filtrowa 68', 'Walla', '01-012', 'Poland')]\n"
     ]
    }
   ],
   "execution_count": 624
  },
  {
   "metadata": {
    "ExecuteTime": {
     "end_time": "2024-07-10T08:15:09.932675Z",
     "start_time": "2024-07-10T08:15:09.930410Z"
    }
   },
   "cell_type": "code",
   "source": [
    "print(send_query(\"\"\"\n",
    "SELECT * FROM Customers\n",
    "WHERE CustomerID NOT BETWEEN 10 AND 60;\n",
    "\"\"\"))"
   ],
   "id": "9dbc10e428a1a475",
   "outputs": [
    {
     "name": "stdout",
     "output_type": "stream",
     "text": [
      "[(1, 'Alfreds Futterkiste', 'Maria Anders', 'Obere Str. 57', 'Berlin', '12209', 'Germany'), (2, 'Ana Trujillo Emparedados y helados', 'Ana Trujillo', 'Avda. de la Constitución 2222', 'México D.F.', '05021', 'Mexico'), (3, 'Antonio Moreno Taquería', 'Antonio Moreno', 'Mataderos 2312', 'México D.F.', '05023', 'Mexico'), (4, 'Around the Horn', 'Thomas Hardy', '120 Hanover Sq.', 'London', 'WA1 1DP', 'UK'), (5, 'Berglunds snabbköp', 'Christina Berglund', 'Berguvsvägen 8', 'Luleå', 'S-958 22', 'Sweden'), (6, 'Blauer See Delikatessen', 'Hanna Moos', 'Forsterstr. 57', 'Mannheim', '68306', 'Germany'), (7, 'Blondel père et fils', 'Frédérique Citeaux', '24, place Kléber', 'Strasbourg', '67000', 'France'), (8, 'Bólido Comidas preparadas', 'Martín Sommer', 'C/ Araquil, 67', 'Madrid', '28023', 'Spain'), (9, \"Bon app'\", 'Laurence Lebihans', '12, rue des Bouchers', 'Marseille', '13008', 'France'), (61, 'Que Delícia', 'Bernardo Batista', 'Rua da Panificadora, 12', 'Rio de Janeiro', '02389-673', 'Brazil'), (62, 'Queen Cozinha', 'Lúcia Carvalho', 'Alameda dos Canàrios, 891', 'São Paulo', '05487-020', 'Brazil'), (63, 'QUICK-Stop', 'Horst Kloss', 'Taucherstraße 10', 'Cunewalde', '01307', 'Germany'), (64, 'Rancho grande', 'Sergio Gutiérrez', 'Av. del Libertador 900', 'Buenos Aires', '1010', 'Argentina'), (65, 'Rattlesnake Canyon Grocery', 'Paula Wilson', '2817 Milton Dr.', 'Albuquerque', '87110', 'USA'), (66, 'Reggiani Caseifici', 'Maurizio Moroni', 'Strada Provinciale 124', 'Reggio Emilia', '42100', 'Italy'), (67, 'Ricardo Adocicados', 'Janete Limeira', 'Av. Copacabana, 267', 'Rio de Janeiro', '02389-890', 'Brazil'), (68, 'Richter Supermarkt', 'Michael Holz', 'Grenzacherweg 237', 'Genève', '1203', 'Switzerland'), (69, 'Romero y tomillo', 'Alejandra Camino', 'Gran Vía, 1', 'Madrid', '28001', 'Spain'), (70, 'Santé Gourmet', 'Jonas Bergulfsen', 'Erling Skakkes gate 78', 'Stavern', '4110', 'Norway'), (71, 'Save-a-lot Markets', 'Jose Pavarotti', '187 Suffolk Ln.', 'Boise', '83720', 'USA'), (72, 'Seven Seas Imports', 'Hari Kumar', '90 Wadhurst Rd.', 'London', 'OX15 4NB', 'UK'), (73, 'Simons bistro', 'Jytte Petersen', 'Vinbæltet 34', 'København', '1734', 'Denmark'), (74, 'Spécialités du monde', 'Dominique Perrier', '25, rue Lauriston', 'Paris', '75016', 'France'), (75, 'Split Rail Beer & Ale', 'Art Braunschweiger', 'P.O. Box 555', 'Lander', '82520', 'USA'), (76, 'Suprêmes délices', 'Pascale Cartrain', 'Boulevard Tirou, 255', 'Charleroi', 'B-6000', 'Belgium'), (77, 'The Big Cheese', 'Liz Nixon', '89 Jefferson Way Suite 2', 'Portland', '97201', 'USA'), (78, 'The Cracker Box', 'Liu Wong', '55 Grizzly Peak Rd.', 'Butte', '59801', 'USA'), (79, 'Toms Spezialitäten', 'Karin Josephs', 'Luisenstr. 48', 'Münster', '44087', 'Germany'), (80, 'Tortuga Restaurante', 'Miguel Angel Paolino', 'Avda. Azteca 123', 'México D.F.', '05033', 'Mexico'), (81, 'Tradição Hipermercados', 'Anabela Domingues', 'Av. Inês de Castro, 414', 'São Paulo', '05634-030', 'Brazil'), (82, \"Trail's Head Gourmet Provisioners\", 'Helvetius Nagy', '722 DaVinci Blvd.', 'Kirkland', '98034', 'USA'), (83, 'Vaffeljernet', 'Palle Ibsen', 'Smagsløget 45', 'Århus', '8200', 'Denmark'), (84, 'Victuailles en stock', 'Mary Saveley', '2, rue du Commerce', 'Lyon', '69004', 'France'), (85, 'Vins et alcools Chevalier', 'Paul Henriot', \"59 rue de l'Abbaye\", 'Reims', '51100', 'France'), (86, 'Die Wandernde Kuh', 'Rita Müller', 'Adenauerallee 900', 'Stuttgart', '70563', 'Germany'), (87, 'Wartian Herkku', 'Pirkko Koskitalo', 'Torikatu 38', 'Oulu', '90110', 'Finland'), (88, 'Wellington Importadora', 'Paula Parente', 'Rua do Mercado, 12', 'Resende', '08737-363', 'Brazil'), (89, 'White Clover Markets', 'Karl Jablonski', '305 - 14th Ave. S. Suite 3B', 'Seattle', '98128', 'USA'), (90, 'Wilman Kala', 'Matti Karttunen', 'Keskuskatu 45', 'Helsinki', '21240', 'Finland'), (91, 'Wolski', 'Zbyszek', 'ul. Filtrowa 68', 'Walla', '01-012', 'Poland')]\n"
     ]
    }
   ],
   "execution_count": 625
  },
  {
   "metadata": {
    "ExecuteTime": {
     "end_time": "2024-07-10T08:15:10.022793Z",
     "start_time": "2024-07-10T08:15:10.020553Z"
    }
   },
   "cell_type": "code",
   "source": [
    "print(send_query(\"\"\"\n",
    "SELECT * FROM Customers\n",
    "WHERE City NOT IN ('Paris', 'London');\n",
    "\"\"\"))"
   ],
   "id": "5463dcb2fada9004",
   "outputs": [
    {
     "name": "stdout",
     "output_type": "stream",
     "text": [
      "[(1, 'Alfreds Futterkiste', 'Maria Anders', 'Obere Str. 57', 'Berlin', '12209', 'Germany'), (2, 'Ana Trujillo Emparedados y helados', 'Ana Trujillo', 'Avda. de la Constitución 2222', 'México D.F.', '05021', 'Mexico'), (3, 'Antonio Moreno Taquería', 'Antonio Moreno', 'Mataderos 2312', 'México D.F.', '05023', 'Mexico'), (5, 'Berglunds snabbköp', 'Christina Berglund', 'Berguvsvägen 8', 'Luleå', 'S-958 22', 'Sweden'), (6, 'Blauer See Delikatessen', 'Hanna Moos', 'Forsterstr. 57', 'Mannheim', '68306', 'Germany'), (7, 'Blondel père et fils', 'Frédérique Citeaux', '24, place Kléber', 'Strasbourg', '67000', 'France'), (8, 'Bólido Comidas preparadas', 'Martín Sommer', 'C/ Araquil, 67', 'Madrid', '28023', 'Spain'), (9, \"Bon app'\", 'Laurence Lebihans', '12, rue des Bouchers', 'Marseille', '13008', 'France'), (10, 'Bottom-Dollar Marketse', 'Elizabeth Lincoln', '23 Tsawassen Blvd.', 'Tsawassen', 'T2F 8M4', 'Canada'), (12, 'Cactus Comidas para llevar', 'Patricio Simpson', 'Cerrito 333', 'Buenos Aires', '1010', 'Argentina'), (13, 'Centro comercial Moctezuma', 'Francisco Chang', 'Sierras de Granada 9993', 'México D.F.', '05022', 'Mexico'), (14, 'Chop-suey Chinese', 'Yang Wang', 'Hauptstr. 29', 'Bern', '3012', 'Switzerland'), (15, 'Comércio Mineiro', 'Pedro Afonso', 'Av. dos Lusíadas, 23', 'São Paulo', '05432-043', 'Brazil'), (17, 'Drachenblut Delikatessend', 'Sven Ottlieb', 'Walserweg 21', 'Aachen', '52066', 'Germany'), (18, 'Du monde entier', 'Janine Labrune', '67, rue des Cinquante Otages', 'Nantes', '44000', 'France'), (20, 'Ernst Handel', 'Roland Mendel', 'Kirchgasse 6', 'Graz', '8010', 'Austria'), (21, 'Familia Arquibaldo', 'Aria Cruz', 'Rua Orós, 92', 'São Paulo', '05442-030', 'Brazil'), (22, 'FISSA Fabrica Inter. Salchichas S.A.', 'Diego Roel', 'C/ Moralzarzal, 86', 'Madrid', '28034', 'Spain'), (23, 'Folies gourmandes', 'Martine Rancé', '184, chaussée de Tournai', 'Lille', '59000', 'France'), (24, 'Folk och fä HB', 'Maria Larsson', 'Åkergatan 24', 'Bräcke', 'S-844 67', 'Sweden'), (25, 'Frankenversand', 'Peter Franken', 'Berliner Platz 43', 'München', '80805', 'Germany'), (26, 'France restauration', 'Carine Schmitt', '54, rue Royale', 'Nantes', '44000', 'France'), (27, 'Franchi S.p.A.', 'Paolo Accorti', 'Via Monte Bianco 34', 'Torino', '10100', 'Italy'), (28, 'Furia Bacalhau e Frutos do Mar', 'Lino Rodriguez', 'Jardim das rosas n. 32', 'Lisboa', '1675', 'Portugal'), (29, 'Galería del gastrónomo', 'Eduardo Saavedra', 'Rambla de Cataluña, 23', 'Barcelona', '08022', 'Spain'), (30, 'Godos Cocina Típica', 'José Pedro Freyre', 'C/ Romero, 33', 'Sevilla', '41101', 'Spain'), (31, 'Gourmet Lanchonetes', 'André Fonseca', 'Av. Brasil, 442', 'Campinas', '04876-786', 'Brazil'), (32, 'Great Lakes Food Market', 'Howard Snyder', '2732 Baker Blvd.', 'Eugene', '97403', 'USA'), (33, 'GROSELLA-Restaurante', 'Manuel Pereira', '5ª Ave. Los Palos Grandes', 'Caracas', '1081', 'Venezuela'), (34, 'Hanari Carnes', 'Mario Pontes', 'Rua do Paço, 67', 'Rio de Janeiro', '05454-876', 'Brazil'), (35, 'HILARIÓN-Abastos', 'Carlos Hernández', 'Carrera 22 con Ave. Carlos Soublette #8-35', 'San Cristóbal', '5022', 'Venezuela'), (36, 'Hungry Coyote Import Store', 'Yoshi Latimer', 'City Center Plaza 516 Main St.', 'Elgin', '97827', 'USA'), (37, 'Hungry Owl All-Night Grocers', 'Patricia McKenna', '8 Johnstown Road', 'Cork', '', 'Ireland'), (38, 'Island Trading', 'Helen Bennett', 'Garden House Crowther Way', 'Cowes', 'PO31 7PJ', 'UK'), (39, 'Königlich Essen', 'Philip Cramer', 'Maubelstr. 90', 'Brandenburg', '14776', 'Germany'), (40, \"La corne d'abondance\", 'Daniel Tonini', \"67, avenue de l'Europe\", 'Versailles', '78000', 'France'), (41, \"La maison d'Asie\", 'Annette Roulet', '1 rue Alsace-Lorraine', 'Toulouse', '31000', 'France'), (42, 'Laughing Bacchus Wine Cellars', 'Yoshi Tannamuri', '1900 Oak St.', 'Vancouver', 'V3F 2K1', 'Canada'), (43, 'Lazy K Kountry Store', 'John Steel', '12 Orchestra Terrace', 'Walla Walla', '99362', 'USA'), (44, 'Lehmanns Marktstand', 'Renate Messner', 'Magazinweg 7', 'Frankfurt a.M.', '60528', 'Germany'), (45, \"Let's Stop N Shop\", 'Jaime Yorres', '87 Polk St. Suite 5', 'San Francisco', '94117', 'USA'), (46, 'LILA-Supermercado', 'Carlos González', 'Carrera 52 con Ave. Bolívar #65-98 Llano Largo', 'Barquisimeto', '3508', 'Venezuela'), (47, 'LINO-Delicateses', 'Felipe Izquierdo', 'Ave. 5 de Mayo Porlamar', 'I. de Margarita', '4980', 'Venezuela'), (48, 'Lonesome Pine Restaurant', 'Fran Wilson', '89 Chiaroscuro Rd.', 'Portland', '97219', 'USA'), (49, 'Magazzini Alimentari Riuniti', 'Giovanni Rovelli', 'Via Ludovico il Moro 22', 'Bergamo', '24100', 'Italy'), (50, 'Maison Dewey', 'Catherine Dewey', 'Rue Joseph-Bens 532', 'Bruxelles', 'B-1180', 'Belgium'), (51, 'Mère Paillarde', 'Jean Fresnière', '43 rue St. Laurent', 'Montréal', 'H1J 1C3', 'Canada'), (52, 'Morgenstern Gesundkost', 'Alexander Feuer', 'Heerstr. 22', 'Leipzig', '04179', 'Germany'), (54, 'Océano Atlántico Ltda.', 'Yvonne Moncada', 'Ing. Gustavo Moncada 8585 Piso 20-A', 'Buenos Aires', '1010', 'Argentina'), (55, 'Old World Delicatessen', 'Rene Phillips', '2743 Bering St.', 'Anchorage', '99508', 'USA'), (56, 'Ottilies Käseladen', 'Henriette Pfalzheim', 'Mehrheimerstr. 369', 'Köln', '50739', 'Germany'), (58, 'Pericles Comidas clásicas', 'Guillermo Fernández', 'Calle Dr. Jorge Cash 321', 'México D.F.', '05033', 'Mexico'), (59, 'Piccolo und mehr', 'Georg Pipps', 'Geislweg 14', 'Salzburg', '5020', 'Austria'), (60, 'Princesa Isabel Vinhoss', 'Isabel de Castro', 'Estrada da saúde n. 58', 'Lisboa', '1756', 'Portugal'), (61, 'Que Delícia', 'Bernardo Batista', 'Rua da Panificadora, 12', 'Rio de Janeiro', '02389-673', 'Brazil'), (62, 'Queen Cozinha', 'Lúcia Carvalho', 'Alameda dos Canàrios, 891', 'São Paulo', '05487-020', 'Brazil'), (63, 'QUICK-Stop', 'Horst Kloss', 'Taucherstraße 10', 'Cunewalde', '01307', 'Germany'), (64, 'Rancho grande', 'Sergio Gutiérrez', 'Av. del Libertador 900', 'Buenos Aires', '1010', 'Argentina'), (65, 'Rattlesnake Canyon Grocery', 'Paula Wilson', '2817 Milton Dr.', 'Albuquerque', '87110', 'USA'), (66, 'Reggiani Caseifici', 'Maurizio Moroni', 'Strada Provinciale 124', 'Reggio Emilia', '42100', 'Italy'), (67, 'Ricardo Adocicados', 'Janete Limeira', 'Av. Copacabana, 267', 'Rio de Janeiro', '02389-890', 'Brazil'), (68, 'Richter Supermarkt', 'Michael Holz', 'Grenzacherweg 237', 'Genève', '1203', 'Switzerland'), (69, 'Romero y tomillo', 'Alejandra Camino', 'Gran Vía, 1', 'Madrid', '28001', 'Spain'), (70, 'Santé Gourmet', 'Jonas Bergulfsen', 'Erling Skakkes gate 78', 'Stavern', '4110', 'Norway'), (71, 'Save-a-lot Markets', 'Jose Pavarotti', '187 Suffolk Ln.', 'Boise', '83720', 'USA'), (73, 'Simons bistro', 'Jytte Petersen', 'Vinbæltet 34', 'København', '1734', 'Denmark'), (75, 'Split Rail Beer & Ale', 'Art Braunschweiger', 'P.O. Box 555', 'Lander', '82520', 'USA'), (76, 'Suprêmes délices', 'Pascale Cartrain', 'Boulevard Tirou, 255', 'Charleroi', 'B-6000', 'Belgium'), (77, 'The Big Cheese', 'Liz Nixon', '89 Jefferson Way Suite 2', 'Portland', '97201', 'USA'), (78, 'The Cracker Box', 'Liu Wong', '55 Grizzly Peak Rd.', 'Butte', '59801', 'USA'), (79, 'Toms Spezialitäten', 'Karin Josephs', 'Luisenstr. 48', 'Münster', '44087', 'Germany'), (80, 'Tortuga Restaurante', 'Miguel Angel Paolino', 'Avda. Azteca 123', 'México D.F.', '05033', 'Mexico'), (81, 'Tradição Hipermercados', 'Anabela Domingues', 'Av. Inês de Castro, 414', 'São Paulo', '05634-030', 'Brazil'), (82, \"Trail's Head Gourmet Provisioners\", 'Helvetius Nagy', '722 DaVinci Blvd.', 'Kirkland', '98034', 'USA'), (83, 'Vaffeljernet', 'Palle Ibsen', 'Smagsløget 45', 'Århus', '8200', 'Denmark'), (84, 'Victuailles en stock', 'Mary Saveley', '2, rue du Commerce', 'Lyon', '69004', 'France'), (85, 'Vins et alcools Chevalier', 'Paul Henriot', \"59 rue de l'Abbaye\", 'Reims', '51100', 'France'), (86, 'Die Wandernde Kuh', 'Rita Müller', 'Adenauerallee 900', 'Stuttgart', '70563', 'Germany'), (87, 'Wartian Herkku', 'Pirkko Koskitalo', 'Torikatu 38', 'Oulu', '90110', 'Finland'), (88, 'Wellington Importadora', 'Paula Parente', 'Rua do Mercado, 12', 'Resende', '08737-363', 'Brazil'), (89, 'White Clover Markets', 'Karl Jablonski', '305 - 14th Ave. S. Suite 3B', 'Seattle', '98128', 'USA'), (90, 'Wilman Kala', 'Matti Karttunen', 'Keskuskatu 45', 'Helsinki', '21240', 'Finland'), (91, 'Wolski', 'Zbyszek', 'ul. Filtrowa 68', 'Walla', '01-012', 'Poland')]\n"
     ]
    }
   ],
   "execution_count": 626
  },
  {
   "metadata": {
    "ExecuteTime": {
     "end_time": "2024-07-10T08:15:10.112747Z",
     "start_time": "2024-07-10T08:15:10.110401Z"
    }
   },
   "cell_type": "code",
   "source": [
    "print(send_query(\"\"\"\n",
    "SELECT * FROM Customers\n",
    "WHERE NOT CustomerID > 50;\n",
    "\"\"\"))"
   ],
   "id": "2f1f60cc1eefce93",
   "outputs": [
    {
     "name": "stdout",
     "output_type": "stream",
     "text": [
      "[(1, 'Alfreds Futterkiste', 'Maria Anders', 'Obere Str. 57', 'Berlin', '12209', 'Germany'), (2, 'Ana Trujillo Emparedados y helados', 'Ana Trujillo', 'Avda. de la Constitución 2222', 'México D.F.', '05021', 'Mexico'), (3, 'Antonio Moreno Taquería', 'Antonio Moreno', 'Mataderos 2312', 'México D.F.', '05023', 'Mexico'), (4, 'Around the Horn', 'Thomas Hardy', '120 Hanover Sq.', 'London', 'WA1 1DP', 'UK'), (5, 'Berglunds snabbköp', 'Christina Berglund', 'Berguvsvägen 8', 'Luleå', 'S-958 22', 'Sweden'), (6, 'Blauer See Delikatessen', 'Hanna Moos', 'Forsterstr. 57', 'Mannheim', '68306', 'Germany'), (7, 'Blondel père et fils', 'Frédérique Citeaux', '24, place Kléber', 'Strasbourg', '67000', 'France'), (8, 'Bólido Comidas preparadas', 'Martín Sommer', 'C/ Araquil, 67', 'Madrid', '28023', 'Spain'), (9, \"Bon app'\", 'Laurence Lebihans', '12, rue des Bouchers', 'Marseille', '13008', 'France'), (10, 'Bottom-Dollar Marketse', 'Elizabeth Lincoln', '23 Tsawassen Blvd.', 'Tsawassen', 'T2F 8M4', 'Canada'), (11, \"B's Beverages\", 'Victoria Ashworth', 'Fauntleroy Circus', 'London', 'EC2 5NT', 'UK'), (12, 'Cactus Comidas para llevar', 'Patricio Simpson', 'Cerrito 333', 'Buenos Aires', '1010', 'Argentina'), (13, 'Centro comercial Moctezuma', 'Francisco Chang', 'Sierras de Granada 9993', 'México D.F.', '05022', 'Mexico'), (14, 'Chop-suey Chinese', 'Yang Wang', 'Hauptstr. 29', 'Bern', '3012', 'Switzerland'), (15, 'Comércio Mineiro', 'Pedro Afonso', 'Av. dos Lusíadas, 23', 'São Paulo', '05432-043', 'Brazil'), (16, 'Consolidated Holdings', 'Elizabeth Brown', 'Berkeley Gardens 12 Brewery', 'London', 'WX1 6LT', 'UK'), (17, 'Drachenblut Delikatessend', 'Sven Ottlieb', 'Walserweg 21', 'Aachen', '52066', 'Germany'), (18, 'Du monde entier', 'Janine Labrune', '67, rue des Cinquante Otages', 'Nantes', '44000', 'France'), (19, 'Eastern Connection', 'Ann Devon', '35 King George', 'London', 'WX3 6FW', 'UK'), (20, 'Ernst Handel', 'Roland Mendel', 'Kirchgasse 6', 'Graz', '8010', 'Austria'), (21, 'Familia Arquibaldo', 'Aria Cruz', 'Rua Orós, 92', 'São Paulo', '05442-030', 'Brazil'), (22, 'FISSA Fabrica Inter. Salchichas S.A.', 'Diego Roel', 'C/ Moralzarzal, 86', 'Madrid', '28034', 'Spain'), (23, 'Folies gourmandes', 'Martine Rancé', '184, chaussée de Tournai', 'Lille', '59000', 'France'), (24, 'Folk och fä HB', 'Maria Larsson', 'Åkergatan 24', 'Bräcke', 'S-844 67', 'Sweden'), (25, 'Frankenversand', 'Peter Franken', 'Berliner Platz 43', 'München', '80805', 'Germany'), (26, 'France restauration', 'Carine Schmitt', '54, rue Royale', 'Nantes', '44000', 'France'), (27, 'Franchi S.p.A.', 'Paolo Accorti', 'Via Monte Bianco 34', 'Torino', '10100', 'Italy'), (28, 'Furia Bacalhau e Frutos do Mar', 'Lino Rodriguez', 'Jardim das rosas n. 32', 'Lisboa', '1675', 'Portugal'), (29, 'Galería del gastrónomo', 'Eduardo Saavedra', 'Rambla de Cataluña, 23', 'Barcelona', '08022', 'Spain'), (30, 'Godos Cocina Típica', 'José Pedro Freyre', 'C/ Romero, 33', 'Sevilla', '41101', 'Spain'), (31, 'Gourmet Lanchonetes', 'André Fonseca', 'Av. Brasil, 442', 'Campinas', '04876-786', 'Brazil'), (32, 'Great Lakes Food Market', 'Howard Snyder', '2732 Baker Blvd.', 'Eugene', '97403', 'USA'), (33, 'GROSELLA-Restaurante', 'Manuel Pereira', '5ª Ave. Los Palos Grandes', 'Caracas', '1081', 'Venezuela'), (34, 'Hanari Carnes', 'Mario Pontes', 'Rua do Paço, 67', 'Rio de Janeiro', '05454-876', 'Brazil'), (35, 'HILARIÓN-Abastos', 'Carlos Hernández', 'Carrera 22 con Ave. Carlos Soublette #8-35', 'San Cristóbal', '5022', 'Venezuela'), (36, 'Hungry Coyote Import Store', 'Yoshi Latimer', 'City Center Plaza 516 Main St.', 'Elgin', '97827', 'USA'), (37, 'Hungry Owl All-Night Grocers', 'Patricia McKenna', '8 Johnstown Road', 'Cork', '', 'Ireland'), (38, 'Island Trading', 'Helen Bennett', 'Garden House Crowther Way', 'Cowes', 'PO31 7PJ', 'UK'), (39, 'Königlich Essen', 'Philip Cramer', 'Maubelstr. 90', 'Brandenburg', '14776', 'Germany'), (40, \"La corne d'abondance\", 'Daniel Tonini', \"67, avenue de l'Europe\", 'Versailles', '78000', 'France'), (41, \"La maison d'Asie\", 'Annette Roulet', '1 rue Alsace-Lorraine', 'Toulouse', '31000', 'France'), (42, 'Laughing Bacchus Wine Cellars', 'Yoshi Tannamuri', '1900 Oak St.', 'Vancouver', 'V3F 2K1', 'Canada'), (43, 'Lazy K Kountry Store', 'John Steel', '12 Orchestra Terrace', 'Walla Walla', '99362', 'USA'), (44, 'Lehmanns Marktstand', 'Renate Messner', 'Magazinweg 7', 'Frankfurt a.M.', '60528', 'Germany'), (45, \"Let's Stop N Shop\", 'Jaime Yorres', '87 Polk St. Suite 5', 'San Francisco', '94117', 'USA'), (46, 'LILA-Supermercado', 'Carlos González', 'Carrera 52 con Ave. Bolívar #65-98 Llano Largo', 'Barquisimeto', '3508', 'Venezuela'), (47, 'LINO-Delicateses', 'Felipe Izquierdo', 'Ave. 5 de Mayo Porlamar', 'I. de Margarita', '4980', 'Venezuela'), (48, 'Lonesome Pine Restaurant', 'Fran Wilson', '89 Chiaroscuro Rd.', 'Portland', '97219', 'USA'), (49, 'Magazzini Alimentari Riuniti', 'Giovanni Rovelli', 'Via Ludovico il Moro 22', 'Bergamo', '24100', 'Italy'), (50, 'Maison Dewey', 'Catherine Dewey', 'Rue Joseph-Bens 532', 'Bruxelles', 'B-1180', 'Belgium')]\n"
     ]
    }
   ],
   "execution_count": 627
  },
  {
   "metadata": {
    "ExecuteTime": {
     "end_time": "2024-07-10T08:15:10.235585Z",
     "start_time": "2024-07-10T08:15:10.233282Z"
    }
   },
   "cell_type": "code",
   "source": [
    "print(send_query(\"\"\"\n",
    "SELECT * FROM Customers\n",
    "WHERE NOT CustomerId < 50;\n",
    "\"\"\"))"
   ],
   "id": "73b226621a936cbe",
   "outputs": [
    {
     "name": "stdout",
     "output_type": "stream",
     "text": [
      "[(50, 'Maison Dewey', 'Catherine Dewey', 'Rue Joseph-Bens 532', 'Bruxelles', 'B-1180', 'Belgium'), (51, 'Mère Paillarde', 'Jean Fresnière', '43 rue St. Laurent', 'Montréal', 'H1J 1C3', 'Canada'), (52, 'Morgenstern Gesundkost', 'Alexander Feuer', 'Heerstr. 22', 'Leipzig', '04179', 'Germany'), (53, 'North/South', 'Simon Crowther', 'South House 300 Queensbridge', 'London', 'SW7 1RZ', 'UK'), (54, 'Océano Atlántico Ltda.', 'Yvonne Moncada', 'Ing. Gustavo Moncada 8585 Piso 20-A', 'Buenos Aires', '1010', 'Argentina'), (55, 'Old World Delicatessen', 'Rene Phillips', '2743 Bering St.', 'Anchorage', '99508', 'USA'), (56, 'Ottilies Käseladen', 'Henriette Pfalzheim', 'Mehrheimerstr. 369', 'Köln', '50739', 'Germany'), (57, 'Paris spécialités', 'Marie Bertrand', '265, boulevard Charonne', 'Paris', '75012', 'France'), (58, 'Pericles Comidas clásicas', 'Guillermo Fernández', 'Calle Dr. Jorge Cash 321', 'México D.F.', '05033', 'Mexico'), (59, 'Piccolo und mehr', 'Georg Pipps', 'Geislweg 14', 'Salzburg', '5020', 'Austria'), (60, 'Princesa Isabel Vinhoss', 'Isabel de Castro', 'Estrada da saúde n. 58', 'Lisboa', '1756', 'Portugal'), (61, 'Que Delícia', 'Bernardo Batista', 'Rua da Panificadora, 12', 'Rio de Janeiro', '02389-673', 'Brazil'), (62, 'Queen Cozinha', 'Lúcia Carvalho', 'Alameda dos Canàrios, 891', 'São Paulo', '05487-020', 'Brazil'), (63, 'QUICK-Stop', 'Horst Kloss', 'Taucherstraße 10', 'Cunewalde', '01307', 'Germany'), (64, 'Rancho grande', 'Sergio Gutiérrez', 'Av. del Libertador 900', 'Buenos Aires', '1010', 'Argentina'), (65, 'Rattlesnake Canyon Grocery', 'Paula Wilson', '2817 Milton Dr.', 'Albuquerque', '87110', 'USA'), (66, 'Reggiani Caseifici', 'Maurizio Moroni', 'Strada Provinciale 124', 'Reggio Emilia', '42100', 'Italy'), (67, 'Ricardo Adocicados', 'Janete Limeira', 'Av. Copacabana, 267', 'Rio de Janeiro', '02389-890', 'Brazil'), (68, 'Richter Supermarkt', 'Michael Holz', 'Grenzacherweg 237', 'Genève', '1203', 'Switzerland'), (69, 'Romero y tomillo', 'Alejandra Camino', 'Gran Vía, 1', 'Madrid', '28001', 'Spain'), (70, 'Santé Gourmet', 'Jonas Bergulfsen', 'Erling Skakkes gate 78', 'Stavern', '4110', 'Norway'), (71, 'Save-a-lot Markets', 'Jose Pavarotti', '187 Suffolk Ln.', 'Boise', '83720', 'USA'), (72, 'Seven Seas Imports', 'Hari Kumar', '90 Wadhurst Rd.', 'London', 'OX15 4NB', 'UK'), (73, 'Simons bistro', 'Jytte Petersen', 'Vinbæltet 34', 'København', '1734', 'Denmark'), (74, 'Spécialités du monde', 'Dominique Perrier', '25, rue Lauriston', 'Paris', '75016', 'France'), (75, 'Split Rail Beer & Ale', 'Art Braunschweiger', 'P.O. Box 555', 'Lander', '82520', 'USA'), (76, 'Suprêmes délices', 'Pascale Cartrain', 'Boulevard Tirou, 255', 'Charleroi', 'B-6000', 'Belgium'), (77, 'The Big Cheese', 'Liz Nixon', '89 Jefferson Way Suite 2', 'Portland', '97201', 'USA'), (78, 'The Cracker Box', 'Liu Wong', '55 Grizzly Peak Rd.', 'Butte', '59801', 'USA'), (79, 'Toms Spezialitäten', 'Karin Josephs', 'Luisenstr. 48', 'Münster', '44087', 'Germany'), (80, 'Tortuga Restaurante', 'Miguel Angel Paolino', 'Avda. Azteca 123', 'México D.F.', '05033', 'Mexico'), (81, 'Tradição Hipermercados', 'Anabela Domingues', 'Av. Inês de Castro, 414', 'São Paulo', '05634-030', 'Brazil'), (82, \"Trail's Head Gourmet Provisioners\", 'Helvetius Nagy', '722 DaVinci Blvd.', 'Kirkland', '98034', 'USA'), (83, 'Vaffeljernet', 'Palle Ibsen', 'Smagsløget 45', 'Århus', '8200', 'Denmark'), (84, 'Victuailles en stock', 'Mary Saveley', '2, rue du Commerce', 'Lyon', '69004', 'France'), (85, 'Vins et alcools Chevalier', 'Paul Henriot', \"59 rue de l'Abbaye\", 'Reims', '51100', 'France'), (86, 'Die Wandernde Kuh', 'Rita Müller', 'Adenauerallee 900', 'Stuttgart', '70563', 'Germany'), (87, 'Wartian Herkku', 'Pirkko Koskitalo', 'Torikatu 38', 'Oulu', '90110', 'Finland'), (88, 'Wellington Importadora', 'Paula Parente', 'Rua do Mercado, 12', 'Resende', '08737-363', 'Brazil'), (89, 'White Clover Markets', 'Karl Jablonski', '305 - 14th Ave. S. Suite 3B', 'Seattle', '98128', 'USA'), (90, 'Wilman Kala', 'Matti Karttunen', 'Keskuskatu 45', 'Helsinki', '21240', 'Finland'), (91, 'Wolski', 'Zbyszek', 'ul. Filtrowa 68', 'Walla', '01-012', 'Poland')]\n"
     ]
    }
   ],
   "execution_count": 628
  },
  {
   "metadata": {},
   "cell_type": "markdown",
   "source": "",
   "id": "fe0672e7b8c13d7"
  },
  {
   "metadata": {
    "ExecuteTime": {
     "end_time": "2024-07-10T08:15:10.326756Z",
     "start_time": "2024-07-10T08:15:10.323935Z"
    }
   },
   "cell_type": "code",
   "source": [
    "with sqlite3.connect(db_name) as conn:\n",
    "    cur = conn.cursor()\n",
    "    cur.execute(\"\"\"\n",
    "INSERT INTO Customers (CustomerName, ContactName, Address, City, PostalCode, Country)\n",
    "VALUES ('Cardinal', 'Tom B. Erichsen', 'Skagen 21', 'Stavanger', '4006', 'Norway');\n",
    "    \"\"\")\n",
    "    cur.execute(\"\"\"\n",
    "SELECT * FROM Customers ORDER BY CustomerID DESC\n",
    "LIMIT 1;\n",
    "\"\"\")\n",
    "    print(cur.fetchall())\n",
    "    conn.rollback()\n",
    "    "
   ],
   "id": "1df90ba77abef088",
   "outputs": [
    {
     "name": "stdout",
     "output_type": "stream",
     "text": [
      "[(92, 'Cardinal', 'Tom B. Erichsen', 'Skagen 21', 'Stavanger', '4006', 'Norway')]\n"
     ]
    }
   ],
   "execution_count": 629
  },
  {
   "metadata": {
    "ExecuteTime": {
     "end_time": "2024-07-10T08:15:10.444490Z",
     "start_time": "2024-07-10T08:15:10.441810Z"
    }
   },
   "cell_type": "code",
   "source": [
    "with sqlite3.connect(db_name) as conn:\n",
    "    cur = conn.cursor()\n",
    "    cur.execute(\"\"\"\n",
    "INSERT INTO Customers (CustomerName, City, Country)\n",
    "VALUES ('Cardinal', 'Stavanger', 'Norway');\n",
    "    \"\"\")\n",
    "    cur.execute(\"\"\"\n",
    "SELECT * FROM Customers ORDER BY CustomerID DESC\n",
    "LIMIT 1;\n",
    "\"\"\")\n",
    "    print(cur.fetchall())\n",
    "    conn.rollback()\n"
   ],
   "id": "899625376a7bf06f",
   "outputs": [
    {
     "name": "stdout",
     "output_type": "stream",
     "text": [
      "[(92, 'Cardinal', None, None, 'Stavanger', None, 'Norway')]\n"
     ]
    }
   ],
   "execution_count": 630
  },
  {
   "metadata": {
    "ExecuteTime": {
     "end_time": "2024-07-10T08:15:10.545975Z",
     "start_time": "2024-07-10T08:15:10.543180Z"
    }
   },
   "cell_type": "code",
   "source": [
    "\n",
    "with sqlite3.connect(db_name) as conn:\n",
    "    cur = conn.cursor()\n",
    "    cur.execute(\"\"\"\n",
    "INSERT INTO Customers (CustomerName, ContactName, Address, City, PostalCode, Country)\n",
    "VALUES\n",
    "('Cardinal', 'Tom B. Erichsen', 'Skagen 21', 'Stavanger', '4006', 'Norway'),\n",
    "('Greasy Burger', 'Per Olsen', 'Gateveien 15', 'Sandnes', '4306', 'Norway'),\n",
    "('Tasty Tee', 'Finn Egan', 'Streetroad 19B', 'Liverpool', 'L1 0AA', 'UK');\n",
    "    \"\"\")\n",
    "    cur.execute(\"\"\"\n",
    "SELECT * FROM Customers ORDER BY CustomerID DESC\n",
    "LIMIT 5;\n",
    "\"\"\")\n",
    "    print(cur.fetchall())\n",
    "    conn.rollback()\n",
    "\n"
   ],
   "id": "a357a4df63b1a589",
   "outputs": [
    {
     "name": "stdout",
     "output_type": "stream",
     "text": [
      "[(94, 'Tasty Tee', 'Finn Egan', 'Streetroad 19B', 'Liverpool', 'L1 0AA', 'UK'), (93, 'Greasy Burger', 'Per Olsen', 'Gateveien 15', 'Sandnes', '4306', 'Norway'), (92, 'Cardinal', 'Tom B. Erichsen', 'Skagen 21', 'Stavanger', '4006', 'Norway'), (91, 'Wolski', 'Zbyszek', 'ul. Filtrowa 68', 'Walla', '01-012', 'Poland'), (90, 'Wilman Kala', 'Matti Karttunen', 'Keskuskatu 45', 'Helsinki', '21240', 'Finland')]\n"
     ]
    }
   ],
   "execution_count": 631
  },
  {
   "metadata": {
    "ExecuteTime": {
     "end_time": "2024-07-10T08:15:10.649737Z",
     "start_time": "2024-07-10T08:15:10.647788Z"
    }
   },
   "cell_type": "code",
   "source": [
    "print(send_query(\"\"\"\n",
    "SELECT CustomerName, ContactName, Address\n",
    "FROM Customers\n",
    "WHERE Address IS NULL;\n",
    "\"\"\"))"
   ],
   "id": "a6a2d58af91e3f02",
   "outputs": [
    {
     "name": "stdout",
     "output_type": "stream",
     "text": [
      "[]\n"
     ]
    }
   ],
   "execution_count": 632
  },
  {
   "metadata": {
    "ExecuteTime": {
     "end_time": "2024-07-10T08:15:10.751474Z",
     "start_time": "2024-07-10T08:15:10.748997Z"
    }
   },
   "cell_type": "code",
   "source": [
    "print(send_query(\"\"\"\n",
    "SELECT CustomerName, ContactName, Address\n",
    "FROM Customers\n",
    "WHERE Address IS NOT NULL;\n",
    "\"\"\"))"
   ],
   "id": "c1cf042a2fca7362",
   "outputs": [
    {
     "name": "stdout",
     "output_type": "stream",
     "text": [
      "[('Alfreds Futterkiste', 'Maria Anders', 'Obere Str. 57'), ('Ana Trujillo Emparedados y helados', 'Ana Trujillo', 'Avda. de la Constitución 2222'), ('Antonio Moreno Taquería', 'Antonio Moreno', 'Mataderos 2312'), ('Around the Horn', 'Thomas Hardy', '120 Hanover Sq.'), ('Berglunds snabbköp', 'Christina Berglund', 'Berguvsvägen 8'), ('Blauer See Delikatessen', 'Hanna Moos', 'Forsterstr. 57'), ('Blondel père et fils', 'Frédérique Citeaux', '24, place Kléber'), ('Bólido Comidas preparadas', 'Martín Sommer', 'C/ Araquil, 67'), (\"Bon app'\", 'Laurence Lebihans', '12, rue des Bouchers'), ('Bottom-Dollar Marketse', 'Elizabeth Lincoln', '23 Tsawassen Blvd.'), (\"B's Beverages\", 'Victoria Ashworth', 'Fauntleroy Circus'), ('Cactus Comidas para llevar', 'Patricio Simpson', 'Cerrito 333'), ('Centro comercial Moctezuma', 'Francisco Chang', 'Sierras de Granada 9993'), ('Chop-suey Chinese', 'Yang Wang', 'Hauptstr. 29'), ('Comércio Mineiro', 'Pedro Afonso', 'Av. dos Lusíadas, 23'), ('Consolidated Holdings', 'Elizabeth Brown', 'Berkeley Gardens 12 Brewery'), ('Drachenblut Delikatessend', 'Sven Ottlieb', 'Walserweg 21'), ('Du monde entier', 'Janine Labrune', '67, rue des Cinquante Otages'), ('Eastern Connection', 'Ann Devon', '35 King George'), ('Ernst Handel', 'Roland Mendel', 'Kirchgasse 6'), ('Familia Arquibaldo', 'Aria Cruz', 'Rua Orós, 92'), ('FISSA Fabrica Inter. Salchichas S.A.', 'Diego Roel', 'C/ Moralzarzal, 86'), ('Folies gourmandes', 'Martine Rancé', '184, chaussée de Tournai'), ('Folk och fä HB', 'Maria Larsson', 'Åkergatan 24'), ('Frankenversand', 'Peter Franken', 'Berliner Platz 43'), ('France restauration', 'Carine Schmitt', '54, rue Royale'), ('Franchi S.p.A.', 'Paolo Accorti', 'Via Monte Bianco 34'), ('Furia Bacalhau e Frutos do Mar', 'Lino Rodriguez', 'Jardim das rosas n. 32'), ('Galería del gastrónomo', 'Eduardo Saavedra', 'Rambla de Cataluña, 23'), ('Godos Cocina Típica', 'José Pedro Freyre', 'C/ Romero, 33'), ('Gourmet Lanchonetes', 'André Fonseca', 'Av. Brasil, 442'), ('Great Lakes Food Market', 'Howard Snyder', '2732 Baker Blvd.'), ('GROSELLA-Restaurante', 'Manuel Pereira', '5ª Ave. Los Palos Grandes'), ('Hanari Carnes', 'Mario Pontes', 'Rua do Paço, 67'), ('HILARIÓN-Abastos', 'Carlos Hernández', 'Carrera 22 con Ave. Carlos Soublette #8-35'), ('Hungry Coyote Import Store', 'Yoshi Latimer', 'City Center Plaza 516 Main St.'), ('Hungry Owl All-Night Grocers', 'Patricia McKenna', '8 Johnstown Road'), ('Island Trading', 'Helen Bennett', 'Garden House Crowther Way'), ('Königlich Essen', 'Philip Cramer', 'Maubelstr. 90'), (\"La corne d'abondance\", 'Daniel Tonini', \"67, avenue de l'Europe\"), (\"La maison d'Asie\", 'Annette Roulet', '1 rue Alsace-Lorraine'), ('Laughing Bacchus Wine Cellars', 'Yoshi Tannamuri', '1900 Oak St.'), ('Lazy K Kountry Store', 'John Steel', '12 Orchestra Terrace'), ('Lehmanns Marktstand', 'Renate Messner', 'Magazinweg 7'), (\"Let's Stop N Shop\", 'Jaime Yorres', '87 Polk St. Suite 5'), ('LILA-Supermercado', 'Carlos González', 'Carrera 52 con Ave. Bolívar #65-98 Llano Largo'), ('LINO-Delicateses', 'Felipe Izquierdo', 'Ave. 5 de Mayo Porlamar'), ('Lonesome Pine Restaurant', 'Fran Wilson', '89 Chiaroscuro Rd.'), ('Magazzini Alimentari Riuniti', 'Giovanni Rovelli', 'Via Ludovico il Moro 22'), ('Maison Dewey', 'Catherine Dewey', 'Rue Joseph-Bens 532'), ('Mère Paillarde', 'Jean Fresnière', '43 rue St. Laurent'), ('Morgenstern Gesundkost', 'Alexander Feuer', 'Heerstr. 22'), ('North/South', 'Simon Crowther', 'South House 300 Queensbridge'), ('Océano Atlántico Ltda.', 'Yvonne Moncada', 'Ing. Gustavo Moncada 8585 Piso 20-A'), ('Old World Delicatessen', 'Rene Phillips', '2743 Bering St.'), ('Ottilies Käseladen', 'Henriette Pfalzheim', 'Mehrheimerstr. 369'), ('Paris spécialités', 'Marie Bertrand', '265, boulevard Charonne'), ('Pericles Comidas clásicas', 'Guillermo Fernández', 'Calle Dr. Jorge Cash 321'), ('Piccolo und mehr', 'Georg Pipps', 'Geislweg 14'), ('Princesa Isabel Vinhoss', 'Isabel de Castro', 'Estrada da saúde n. 58'), ('Que Delícia', 'Bernardo Batista', 'Rua da Panificadora, 12'), ('Queen Cozinha', 'Lúcia Carvalho', 'Alameda dos Canàrios, 891'), ('QUICK-Stop', 'Horst Kloss', 'Taucherstraße 10'), ('Rancho grande', 'Sergio Gutiérrez', 'Av. del Libertador 900'), ('Rattlesnake Canyon Grocery', 'Paula Wilson', '2817 Milton Dr.'), ('Reggiani Caseifici', 'Maurizio Moroni', 'Strada Provinciale 124'), ('Ricardo Adocicados', 'Janete Limeira', 'Av. Copacabana, 267'), ('Richter Supermarkt', 'Michael Holz', 'Grenzacherweg 237'), ('Romero y tomillo', 'Alejandra Camino', 'Gran Vía, 1'), ('Santé Gourmet', 'Jonas Bergulfsen', 'Erling Skakkes gate 78'), ('Save-a-lot Markets', 'Jose Pavarotti', '187 Suffolk Ln.'), ('Seven Seas Imports', 'Hari Kumar', '90 Wadhurst Rd.'), ('Simons bistro', 'Jytte Petersen', 'Vinbæltet 34'), ('Spécialités du monde', 'Dominique Perrier', '25, rue Lauriston'), ('Split Rail Beer & Ale', 'Art Braunschweiger', 'P.O. Box 555'), ('Suprêmes délices', 'Pascale Cartrain', 'Boulevard Tirou, 255'), ('The Big Cheese', 'Liz Nixon', '89 Jefferson Way Suite 2'), ('The Cracker Box', 'Liu Wong', '55 Grizzly Peak Rd.'), ('Toms Spezialitäten', 'Karin Josephs', 'Luisenstr. 48'), ('Tortuga Restaurante', 'Miguel Angel Paolino', 'Avda. Azteca 123'), ('Tradição Hipermercados', 'Anabela Domingues', 'Av. Inês de Castro, 414'), (\"Trail's Head Gourmet Provisioners\", 'Helvetius Nagy', '722 DaVinci Blvd.'), ('Vaffeljernet', 'Palle Ibsen', 'Smagsløget 45'), ('Victuailles en stock', 'Mary Saveley', '2, rue du Commerce'), ('Vins et alcools Chevalier', 'Paul Henriot', \"59 rue de l'Abbaye\"), ('Die Wandernde Kuh', 'Rita Müller', 'Adenauerallee 900'), ('Wartian Herkku', 'Pirkko Koskitalo', 'Torikatu 38'), ('Wellington Importadora', 'Paula Parente', 'Rua do Mercado, 12'), ('White Clover Markets', 'Karl Jablonski', '305 - 14th Ave. S. Suite 3B'), ('Wilman Kala', 'Matti Karttunen', 'Keskuskatu 45'), ('Wolski', 'Zbyszek', 'ul. Filtrowa 68')]\n"
     ]
    }
   ],
   "execution_count": 633
  },
  {
   "metadata": {
    "ExecuteTime": {
     "end_time": "2024-07-10T08:15:10.872168Z",
     "start_time": "2024-07-10T08:15:10.869449Z"
    }
   },
   "cell_type": "code",
   "source": [
    "with sqlite3.connect(db_name) as conn:\n",
    "    cur = conn.cursor()\n",
    "    cur.execute(\"\"\"\n",
    "UPDATE Customers\n",
    "SET ContactName = 'Alfred Schmidt', City= 'Frankfurt'\n",
    "WHERE CustomerID = 1;\n",
    "\"\"\")\n",
    "    cur.execute(\"\"\"\n",
    "SELECT * FROM Customers WHERE CustomerID =1;\n",
    "\"\"\")\n",
    "    print(cur.fetchall())\n",
    "    conn.rollback()"
   ],
   "id": "13594c6510c46cae",
   "outputs": [
    {
     "name": "stdout",
     "output_type": "stream",
     "text": [
      "[(1, 'Alfreds Futterkiste', 'Alfred Schmidt', 'Obere Str. 57', 'Frankfurt', '12209', 'Germany')]\n"
     ]
    }
   ],
   "execution_count": 634
  },
  {
   "metadata": {
    "ExecuteTime": {
     "end_time": "2024-07-10T08:15:10.999636Z",
     "start_time": "2024-07-10T08:15:10.996670Z"
    }
   },
   "cell_type": "code",
   "source": [
    "with sqlite3.connect(db_name) as conn:\n",
    "    cur = conn.cursor()\n",
    "    cur.execute(\"\"\"\n",
    "UPDATE Customers\n",
    "SET ContactName='Juan'\n",
    "WHERE Country='Mexico';\n",
    "\"\"\")\n",
    "    cur.execute(\"\"\"\n",
    "SELECT * FROM Customers WHERE Country='Mexico';\n",
    "\"\"\")\n",
    "    print(cur.fetchall())\n",
    "    conn.rollback()"
   ],
   "id": "9df37a2c95251e03",
   "outputs": [
    {
     "name": "stdout",
     "output_type": "stream",
     "text": [
      "[(2, 'Ana Trujillo Emparedados y helados', 'Juan', 'Avda. de la Constitución 2222', 'México D.F.', '05021', 'Mexico'), (3, 'Antonio Moreno Taquería', 'Juan', 'Mataderos 2312', 'México D.F.', '05023', 'Mexico'), (13, 'Centro comercial Moctezuma', 'Juan', 'Sierras de Granada 9993', 'México D.F.', '05022', 'Mexico'), (58, 'Pericles Comidas clásicas', 'Juan', 'Calle Dr. Jorge Cash 321', 'México D.F.', '05033', 'Mexico'), (80, 'Tortuga Restaurante', 'Juan', 'Avda. Azteca 123', 'México D.F.', '05033', 'Mexico')]\n"
     ]
    }
   ],
   "execution_count": 635
  },
  {
   "metadata": {
    "ExecuteTime": {
     "end_time": "2024-07-10T08:15:11.150802Z",
     "start_time": "2024-07-10T08:15:11.147700Z"
    }
   },
   "cell_type": "code",
   "source": [
    "with sqlite3.connect(db_name) as conn:\n",
    "    cur = conn.cursor()\n",
    "    cur.execute(\"\"\"\n",
    "UPDATE Customers\n",
    "SET ContactName='Juan'\n",
    "\"\"\")\n",
    "    cur.execute(\"\"\"\n",
    "SELECT * FROM Customers WHERE ContactName!='Juan';\n",
    "\"\"\")\n",
    "    print(cur.fetchall())\n",
    "    conn.rollback()"
   ],
   "id": "f5923c6c9804469a",
   "outputs": [
    {
     "name": "stdout",
     "output_type": "stream",
     "text": [
      "[]\n"
     ]
    }
   ],
   "execution_count": 636
  },
  {
   "metadata": {
    "ExecuteTime": {
     "end_time": "2024-07-10T08:15:11.228199Z",
     "start_time": "2024-07-10T08:15:11.225031Z"
    }
   },
   "cell_type": "code",
   "source": [
    "with sqlite3.connect(db_name) as conn:\n",
    "    cur = conn.cursor()\n",
    "    cur.execute(\"\"\"\n",
    "SELECT * FROM Customers WHERE CustomerName='Alfreds Futterkiste';\n",
    "\"\"\")\n",
    "    print(cur.fetchall())\n",
    "    cur.execute(\"\"\"\n",
    "DELETE FROM Customers WHERE CustomerName='Alfreds Futterkiste';\n",
    "\"\"\")\n",
    "    cur.execute(\"\"\"\n",
    "SELECT * FROM Customers WHERE CustomerName='Alfreds Futterkiste';\n",
    "\"\"\")\n",
    "    print(cur.fetchall())\n",
    "    conn.rollback()"
   ],
   "id": "ca594f479d7818d0",
   "outputs": [
    {
     "name": "stdout",
     "output_type": "stream",
     "text": [
      "[(1, 'Alfreds Futterkiste', 'Maria Anders', 'Obere Str. 57', 'Berlin', '12209', 'Germany')]\n",
      "[]\n"
     ]
    }
   ],
   "execution_count": 637
  },
  {
   "metadata": {
    "ExecuteTime": {
     "end_time": "2024-07-10T08:15:11.354725Z",
     "start_time": "2024-07-10T08:15:11.351653Z"
    }
   },
   "cell_type": "code",
   "source": [
    "with sqlite3.connect(db_name) as conn:\n",
    "    cur = conn.cursor()\n",
    "    cur.execute(\"\"\"\n",
    "SELECT * FROM Customers;\n",
    "\"\"\")\n",
    "    print(cur.fetchall())\n",
    "    cur.execute(\"\"\"\n",
    "DELETE FROM Customers;\n",
    "\"\"\")\n",
    "    cur.execute(\"\"\"\n",
    "SELECT * FROM Customers;\n",
    "\"\"\")\n",
    "    print(cur.fetchall())\n",
    "    conn.rollback()"
   ],
   "id": "f6815267a86ec21b",
   "outputs": [
    {
     "name": "stdout",
     "output_type": "stream",
     "text": [
      "[(1, 'Alfreds Futterkiste', 'Maria Anders', 'Obere Str. 57', 'Berlin', '12209', 'Germany'), (2, 'Ana Trujillo Emparedados y helados', 'Ana Trujillo', 'Avda. de la Constitución 2222', 'México D.F.', '05021', 'Mexico'), (3, 'Antonio Moreno Taquería', 'Antonio Moreno', 'Mataderos 2312', 'México D.F.', '05023', 'Mexico'), (4, 'Around the Horn', 'Thomas Hardy', '120 Hanover Sq.', 'London', 'WA1 1DP', 'UK'), (5, 'Berglunds snabbköp', 'Christina Berglund', 'Berguvsvägen 8', 'Luleå', 'S-958 22', 'Sweden'), (6, 'Blauer See Delikatessen', 'Hanna Moos', 'Forsterstr. 57', 'Mannheim', '68306', 'Germany'), (7, 'Blondel père et fils', 'Frédérique Citeaux', '24, place Kléber', 'Strasbourg', '67000', 'France'), (8, 'Bólido Comidas preparadas', 'Martín Sommer', 'C/ Araquil, 67', 'Madrid', '28023', 'Spain'), (9, \"Bon app'\", 'Laurence Lebihans', '12, rue des Bouchers', 'Marseille', '13008', 'France'), (10, 'Bottom-Dollar Marketse', 'Elizabeth Lincoln', '23 Tsawassen Blvd.', 'Tsawassen', 'T2F 8M4', 'Canada'), (11, \"B's Beverages\", 'Victoria Ashworth', 'Fauntleroy Circus', 'London', 'EC2 5NT', 'UK'), (12, 'Cactus Comidas para llevar', 'Patricio Simpson', 'Cerrito 333', 'Buenos Aires', '1010', 'Argentina'), (13, 'Centro comercial Moctezuma', 'Francisco Chang', 'Sierras de Granada 9993', 'México D.F.', '05022', 'Mexico'), (14, 'Chop-suey Chinese', 'Yang Wang', 'Hauptstr. 29', 'Bern', '3012', 'Switzerland'), (15, 'Comércio Mineiro', 'Pedro Afonso', 'Av. dos Lusíadas, 23', 'São Paulo', '05432-043', 'Brazil'), (16, 'Consolidated Holdings', 'Elizabeth Brown', 'Berkeley Gardens 12 Brewery', 'London', 'WX1 6LT', 'UK'), (17, 'Drachenblut Delikatessend', 'Sven Ottlieb', 'Walserweg 21', 'Aachen', '52066', 'Germany'), (18, 'Du monde entier', 'Janine Labrune', '67, rue des Cinquante Otages', 'Nantes', '44000', 'France'), (19, 'Eastern Connection', 'Ann Devon', '35 King George', 'London', 'WX3 6FW', 'UK'), (20, 'Ernst Handel', 'Roland Mendel', 'Kirchgasse 6', 'Graz', '8010', 'Austria'), (21, 'Familia Arquibaldo', 'Aria Cruz', 'Rua Orós, 92', 'São Paulo', '05442-030', 'Brazil'), (22, 'FISSA Fabrica Inter. Salchichas S.A.', 'Diego Roel', 'C/ Moralzarzal, 86', 'Madrid', '28034', 'Spain'), (23, 'Folies gourmandes', 'Martine Rancé', '184, chaussée de Tournai', 'Lille', '59000', 'France'), (24, 'Folk och fä HB', 'Maria Larsson', 'Åkergatan 24', 'Bräcke', 'S-844 67', 'Sweden'), (25, 'Frankenversand', 'Peter Franken', 'Berliner Platz 43', 'München', '80805', 'Germany'), (26, 'France restauration', 'Carine Schmitt', '54, rue Royale', 'Nantes', '44000', 'France'), (27, 'Franchi S.p.A.', 'Paolo Accorti', 'Via Monte Bianco 34', 'Torino', '10100', 'Italy'), (28, 'Furia Bacalhau e Frutos do Mar', 'Lino Rodriguez', 'Jardim das rosas n. 32', 'Lisboa', '1675', 'Portugal'), (29, 'Galería del gastrónomo', 'Eduardo Saavedra', 'Rambla de Cataluña, 23', 'Barcelona', '08022', 'Spain'), (30, 'Godos Cocina Típica', 'José Pedro Freyre', 'C/ Romero, 33', 'Sevilla', '41101', 'Spain'), (31, 'Gourmet Lanchonetes', 'André Fonseca', 'Av. Brasil, 442', 'Campinas', '04876-786', 'Brazil'), (32, 'Great Lakes Food Market', 'Howard Snyder', '2732 Baker Blvd.', 'Eugene', '97403', 'USA'), (33, 'GROSELLA-Restaurante', 'Manuel Pereira', '5ª Ave. Los Palos Grandes', 'Caracas', '1081', 'Venezuela'), (34, 'Hanari Carnes', 'Mario Pontes', 'Rua do Paço, 67', 'Rio de Janeiro', '05454-876', 'Brazil'), (35, 'HILARIÓN-Abastos', 'Carlos Hernández', 'Carrera 22 con Ave. Carlos Soublette #8-35', 'San Cristóbal', '5022', 'Venezuela'), (36, 'Hungry Coyote Import Store', 'Yoshi Latimer', 'City Center Plaza 516 Main St.', 'Elgin', '97827', 'USA'), (37, 'Hungry Owl All-Night Grocers', 'Patricia McKenna', '8 Johnstown Road', 'Cork', '', 'Ireland'), (38, 'Island Trading', 'Helen Bennett', 'Garden House Crowther Way', 'Cowes', 'PO31 7PJ', 'UK'), (39, 'Königlich Essen', 'Philip Cramer', 'Maubelstr. 90', 'Brandenburg', '14776', 'Germany'), (40, \"La corne d'abondance\", 'Daniel Tonini', \"67, avenue de l'Europe\", 'Versailles', '78000', 'France'), (41, \"La maison d'Asie\", 'Annette Roulet', '1 rue Alsace-Lorraine', 'Toulouse', '31000', 'France'), (42, 'Laughing Bacchus Wine Cellars', 'Yoshi Tannamuri', '1900 Oak St.', 'Vancouver', 'V3F 2K1', 'Canada'), (43, 'Lazy K Kountry Store', 'John Steel', '12 Orchestra Terrace', 'Walla Walla', '99362', 'USA'), (44, 'Lehmanns Marktstand', 'Renate Messner', 'Magazinweg 7', 'Frankfurt a.M.', '60528', 'Germany'), (45, \"Let's Stop N Shop\", 'Jaime Yorres', '87 Polk St. Suite 5', 'San Francisco', '94117', 'USA'), (46, 'LILA-Supermercado', 'Carlos González', 'Carrera 52 con Ave. Bolívar #65-98 Llano Largo', 'Barquisimeto', '3508', 'Venezuela'), (47, 'LINO-Delicateses', 'Felipe Izquierdo', 'Ave. 5 de Mayo Porlamar', 'I. de Margarita', '4980', 'Venezuela'), (48, 'Lonesome Pine Restaurant', 'Fran Wilson', '89 Chiaroscuro Rd.', 'Portland', '97219', 'USA'), (49, 'Magazzini Alimentari Riuniti', 'Giovanni Rovelli', 'Via Ludovico il Moro 22', 'Bergamo', '24100', 'Italy'), (50, 'Maison Dewey', 'Catherine Dewey', 'Rue Joseph-Bens 532', 'Bruxelles', 'B-1180', 'Belgium'), (51, 'Mère Paillarde', 'Jean Fresnière', '43 rue St. Laurent', 'Montréal', 'H1J 1C3', 'Canada'), (52, 'Morgenstern Gesundkost', 'Alexander Feuer', 'Heerstr. 22', 'Leipzig', '04179', 'Germany'), (53, 'North/South', 'Simon Crowther', 'South House 300 Queensbridge', 'London', 'SW7 1RZ', 'UK'), (54, 'Océano Atlántico Ltda.', 'Yvonne Moncada', 'Ing. Gustavo Moncada 8585 Piso 20-A', 'Buenos Aires', '1010', 'Argentina'), (55, 'Old World Delicatessen', 'Rene Phillips', '2743 Bering St.', 'Anchorage', '99508', 'USA'), (56, 'Ottilies Käseladen', 'Henriette Pfalzheim', 'Mehrheimerstr. 369', 'Köln', '50739', 'Germany'), (57, 'Paris spécialités', 'Marie Bertrand', '265, boulevard Charonne', 'Paris', '75012', 'France'), (58, 'Pericles Comidas clásicas', 'Guillermo Fernández', 'Calle Dr. Jorge Cash 321', 'México D.F.', '05033', 'Mexico'), (59, 'Piccolo und mehr', 'Georg Pipps', 'Geislweg 14', 'Salzburg', '5020', 'Austria'), (60, 'Princesa Isabel Vinhoss', 'Isabel de Castro', 'Estrada da saúde n. 58', 'Lisboa', '1756', 'Portugal'), (61, 'Que Delícia', 'Bernardo Batista', 'Rua da Panificadora, 12', 'Rio de Janeiro', '02389-673', 'Brazil'), (62, 'Queen Cozinha', 'Lúcia Carvalho', 'Alameda dos Canàrios, 891', 'São Paulo', '05487-020', 'Brazil'), (63, 'QUICK-Stop', 'Horst Kloss', 'Taucherstraße 10', 'Cunewalde', '01307', 'Germany'), (64, 'Rancho grande', 'Sergio Gutiérrez', 'Av. del Libertador 900', 'Buenos Aires', '1010', 'Argentina'), (65, 'Rattlesnake Canyon Grocery', 'Paula Wilson', '2817 Milton Dr.', 'Albuquerque', '87110', 'USA'), (66, 'Reggiani Caseifici', 'Maurizio Moroni', 'Strada Provinciale 124', 'Reggio Emilia', '42100', 'Italy'), (67, 'Ricardo Adocicados', 'Janete Limeira', 'Av. Copacabana, 267', 'Rio de Janeiro', '02389-890', 'Brazil'), (68, 'Richter Supermarkt', 'Michael Holz', 'Grenzacherweg 237', 'Genève', '1203', 'Switzerland'), (69, 'Romero y tomillo', 'Alejandra Camino', 'Gran Vía, 1', 'Madrid', '28001', 'Spain'), (70, 'Santé Gourmet', 'Jonas Bergulfsen', 'Erling Skakkes gate 78', 'Stavern', '4110', 'Norway'), (71, 'Save-a-lot Markets', 'Jose Pavarotti', '187 Suffolk Ln.', 'Boise', '83720', 'USA'), (72, 'Seven Seas Imports', 'Hari Kumar', '90 Wadhurst Rd.', 'London', 'OX15 4NB', 'UK'), (73, 'Simons bistro', 'Jytte Petersen', 'Vinbæltet 34', 'København', '1734', 'Denmark'), (74, 'Spécialités du monde', 'Dominique Perrier', '25, rue Lauriston', 'Paris', '75016', 'France'), (75, 'Split Rail Beer & Ale', 'Art Braunschweiger', 'P.O. Box 555', 'Lander', '82520', 'USA'), (76, 'Suprêmes délices', 'Pascale Cartrain', 'Boulevard Tirou, 255', 'Charleroi', 'B-6000', 'Belgium'), (77, 'The Big Cheese', 'Liz Nixon', '89 Jefferson Way Suite 2', 'Portland', '97201', 'USA'), (78, 'The Cracker Box', 'Liu Wong', '55 Grizzly Peak Rd.', 'Butte', '59801', 'USA'), (79, 'Toms Spezialitäten', 'Karin Josephs', 'Luisenstr. 48', 'Münster', '44087', 'Germany'), (80, 'Tortuga Restaurante', 'Miguel Angel Paolino', 'Avda. Azteca 123', 'México D.F.', '05033', 'Mexico'), (81, 'Tradição Hipermercados', 'Anabela Domingues', 'Av. Inês de Castro, 414', 'São Paulo', '05634-030', 'Brazil'), (82, \"Trail's Head Gourmet Provisioners\", 'Helvetius Nagy', '722 DaVinci Blvd.', 'Kirkland', '98034', 'USA'), (83, 'Vaffeljernet', 'Palle Ibsen', 'Smagsløget 45', 'Århus', '8200', 'Denmark'), (84, 'Victuailles en stock', 'Mary Saveley', '2, rue du Commerce', 'Lyon', '69004', 'France'), (85, 'Vins et alcools Chevalier', 'Paul Henriot', \"59 rue de l'Abbaye\", 'Reims', '51100', 'France'), (86, 'Die Wandernde Kuh', 'Rita Müller', 'Adenauerallee 900', 'Stuttgart', '70563', 'Germany'), (87, 'Wartian Herkku', 'Pirkko Koskitalo', 'Torikatu 38', 'Oulu', '90110', 'Finland'), (88, 'Wellington Importadora', 'Paula Parente', 'Rua do Mercado, 12', 'Resende', '08737-363', 'Brazil'), (89, 'White Clover Markets', 'Karl Jablonski', '305 - 14th Ave. S. Suite 3B', 'Seattle', '98128', 'USA'), (90, 'Wilman Kala', 'Matti Karttunen', 'Keskuskatu 45', 'Helsinki', '21240', 'Finland'), (91, 'Wolski', 'Zbyszek', 'ul. Filtrowa 68', 'Walla', '01-012', 'Poland')]\n",
      "[]\n"
     ]
    }
   ],
   "execution_count": 638
  },
  {
   "metadata": {
    "ExecuteTime": {
     "end_time": "2024-07-10T08:15:11.454533Z",
     "start_time": "2024-07-10T08:15:11.452911Z"
    }
   },
   "cell_type": "code",
   "source": [
    "# with sqlite3.connect(db_name) as conn:\n",
    "#     cur = conn.cursor()\n",
    "#     cur.execute(\"\"\"\n",
    "# DROP TABLE Customers;\n",
    "# \"\"\")\n",
    "#     cur.execute(\"\"\"\n",
    "# SELECT * FROM Customers;\n",
    "# \"\"\")\n",
    "#     print(cur.fetchall())\n",
    "#     conn.rollback()"
   ],
   "id": "2d9d9b9a210a8572",
   "outputs": [],
   "execution_count": 639
  },
  {
   "metadata": {
    "ExecuteTime": {
     "end_time": "2024-07-10T08:15:11.547498Z",
     "start_time": "2024-07-10T08:15:11.545648Z"
    }
   },
   "cell_type": "code",
   "source": [
    "print(send_query(\"\"\"\n",
    "SELECT TOP 3 * FROM Customers;\n",
    "\"\"\"))\n",
    "# TOP command does not work in sqlite"
   ],
   "id": "5eecb882e49da884",
   "outputs": [
    {
     "name": "stdout",
     "output_type": "stream",
     "text": [
      "near \"3\": syntax error\n",
      "None\n"
     ]
    }
   ],
   "execution_count": 640
  },
  {
   "metadata": {
    "ExecuteTime": {
     "end_time": "2024-07-10T08:15:11.636234Z",
     "start_time": "2024-07-10T08:15:11.634069Z"
    }
   },
   "cell_type": "code",
   "source": [
    "print(send_query(\"\"\"\n",
    "SELECT * FROM Customers\n",
    "FETCH FIRST 3 ROWS ONLY;\n",
    "\"\"\"))\n",
    "# FETCH  FIRST command does not work in sqlite"
   ],
   "id": "18198df6aaf01d63",
   "outputs": [
    {
     "name": "stdout",
     "output_type": "stream",
     "text": [
      "near \"FIRST\": syntax error\n",
      "None\n"
     ]
    }
   ],
   "execution_count": 641
  },
  {
   "metadata": {
    "ExecuteTime": {
     "end_time": "2024-07-10T08:15:11.817501Z",
     "start_time": "2024-07-10T08:15:11.815429Z"
    }
   },
   "cell_type": "code",
   "source": [
    "print(send_query(\"\"\"\n",
    "SELECT TOP 50 PERCENT * FROM Customers;\n",
    "\"\"\"))\n",
    "# TOP command does not work in sqlite"
   ],
   "id": "2f9bbc580c62669f",
   "outputs": [
    {
     "name": "stdout",
     "output_type": "stream",
     "text": [
      "near \"50\": syntax error\n",
      "None\n"
     ]
    }
   ],
   "execution_count": 642
  },
  {
   "metadata": {
    "ExecuteTime": {
     "end_time": "2024-07-10T08:15:11.896303Z",
     "start_time": "2024-07-10T08:15:11.894102Z"
    }
   },
   "cell_type": "code",
   "source": [
    "print(send_query(\"\"\"\n",
    "SELECT * FROM Customers\n",
    "FETCH FIRST 50 PERCENT ROWS ONLY;\n",
    "\"\"\"))"
   ],
   "id": "bbe7ec4d5fd8e281",
   "outputs": [
    {
     "name": "stdout",
     "output_type": "stream",
     "text": [
      "near \"FIRST\": syntax error\n",
      "None\n"
     ]
    }
   ],
   "execution_count": 643
  },
  {
   "metadata": {
    "ExecuteTime": {
     "end_time": "2024-07-10T08:15:12.081698Z",
     "start_time": "2024-07-10T08:15:12.079917Z"
    }
   },
   "cell_type": "code",
   "source": [
    "print(send_query(\"\"\"\n",
    "SELECT TOP 3 * FROM Customers\n",
    "WHERE Country='Germany';\n",
    "\"\"\"))"
   ],
   "id": "a6b412bbb13eedea",
   "outputs": [
    {
     "name": "stdout",
     "output_type": "stream",
     "text": [
      "near \"3\": syntax error\n",
      "None\n"
     ]
    }
   ],
   "execution_count": 644
  },
  {
   "metadata": {
    "ExecuteTime": {
     "end_time": "2024-07-10T08:15:12.167597Z",
     "start_time": "2024-07-10T08:15:12.165528Z"
    }
   },
   "cell_type": "code",
   "source": [
    "print(send_query(\"\"\"\n",
    "SELECT * FROM Customers\n",
    "WHERE Country='Germany'\n",
    "LIMIT 3;\n",
    "\"\"\"))"
   ],
   "id": "787b3e320fe655f1",
   "outputs": [
    {
     "name": "stdout",
     "output_type": "stream",
     "text": [
      "[(1, 'Alfreds Futterkiste', 'Maria Anders', 'Obere Str. 57', 'Berlin', '12209', 'Germany'), (6, 'Blauer See Delikatessen', 'Hanna Moos', 'Forsterstr. 57', 'Mannheim', '68306', 'Germany'), (17, 'Drachenblut Delikatessend', 'Sven Ottlieb', 'Walserweg 21', 'Aachen', '52066', 'Germany')]\n"
     ]
    }
   ],
   "execution_count": 645
  },
  {
   "metadata": {
    "ExecuteTime": {
     "end_time": "2024-07-10T08:15:12.451411Z",
     "start_time": "2024-07-10T08:15:12.449598Z"
    }
   },
   "cell_type": "code",
   "source": [
    "print(send_query(\"\"\"\n",
    "SELECT * FROM Customers\n",
    "WHERE Country='Germany'\n",
    "FETCH FIRST 3 ROWS ONLY;\n",
    "\"\"\"))"
   ],
   "id": "5feaf06ca2617d3f",
   "outputs": [
    {
     "name": "stdout",
     "output_type": "stream",
     "text": [
      "near \"FETCH\": syntax error\n",
      "None\n"
     ]
    }
   ],
   "execution_count": 646
  },
  {
   "metadata": {
    "ExecuteTime": {
     "end_time": "2024-07-10T08:15:12.522698Z",
     "start_time": "2024-07-10T08:15:12.520764Z"
    }
   },
   "cell_type": "code",
   "source": [
    "print(send_query(\"\"\"\n",
    "SELECT TOP 3 * FROM Customers\n",
    "ORDER BY CustomerName DESC;\n",
    "\"\"\"))"
   ],
   "id": "cbc3fc02f76879ed",
   "outputs": [
    {
     "name": "stdout",
     "output_type": "stream",
     "text": [
      "near \"3\": syntax error\n",
      "None\n"
     ]
    }
   ],
   "execution_count": 647
  },
  {
   "metadata": {
    "ExecuteTime": {
     "end_time": "2024-07-10T08:15:12.679616Z",
     "start_time": "2024-07-10T08:15:12.677454Z"
    }
   },
   "cell_type": "code",
   "source": [
    "print(send_query(\"\"\"\n",
    "SELECT * FROM Customers\n",
    "ORDER BY CustomerName DESC\n",
    "LIMIT 3;\n",
    "\"\"\"))"
   ],
   "id": "342b096aa30dfc71",
   "outputs": [
    {
     "name": "stdout",
     "output_type": "stream",
     "text": [
      "[(91, 'Wolski', 'Zbyszek', 'ul. Filtrowa 68', 'Walla', '01-012', 'Poland'), (90, 'Wilman Kala', 'Matti Karttunen', 'Keskuskatu 45', 'Helsinki', '21240', 'Finland'), (89, 'White Clover Markets', 'Karl Jablonski', '305 - 14th Ave. S. Suite 3B', 'Seattle', '98128', 'USA')]\n"
     ]
    }
   ],
   "execution_count": 648
  },
  {
   "metadata": {
    "ExecuteTime": {
     "end_time": "2024-07-10T08:15:12.731150Z",
     "start_time": "2024-07-10T08:15:12.729327Z"
    }
   },
   "cell_type": "code",
   "source": [
    "print(send_query(\"\"\"\n",
    "SELECT * FROM Customers\n",
    "ORDER BY CustomerName DESC\n",
    "FETCH FIRST 3 ROWS ONLY;\n",
    "\"\"\"))"
   ],
   "id": "3a7328fb6cce688e",
   "outputs": [
    {
     "name": "stdout",
     "output_type": "stream",
     "text": [
      "near \"FETCH\": syntax error\n",
      "None\n"
     ]
    }
   ],
   "execution_count": 649
  },
  {
   "metadata": {
    "ExecuteTime": {
     "end_time": "2024-07-10T08:15:12.923034Z",
     "start_time": "2024-07-10T08:15:12.921131Z"
    }
   },
   "cell_type": "code",
   "source": [
    "print(send_query(\"\"\"\n",
    "SELECT MIN(Price)\n",
    "FROM Products;\n",
    "\"\"\"))"
   ],
   "id": "db9ab9863427f46f",
   "outputs": [
    {
     "name": "stdout",
     "output_type": "stream",
     "text": [
      "[(2.5,)]\n"
     ]
    }
   ],
   "execution_count": 650
  },
  {
   "metadata": {
    "ExecuteTime": {
     "end_time": "2024-07-10T08:15:12.976528Z",
     "start_time": "2024-07-10T08:15:12.974518Z"
    }
   },
   "cell_type": "code",
   "source": [
    "print(send_query(\"\"\"\n",
    "SELECT MAX(Price)\n",
    "FROM Products;\n",
    "\"\"\"))"
   ],
   "id": "73cc751ae002af6a",
   "outputs": [
    {
     "name": "stdout",
     "output_type": "stream",
     "text": [
      "[(263.5,)]\n"
     ]
    }
   ],
   "execution_count": 651
  },
  {
   "metadata": {
    "ExecuteTime": {
     "end_time": "2024-07-10T08:15:13.139231Z",
     "start_time": "2024-07-10T08:15:13.137209Z"
    }
   },
   "cell_type": "code",
   "source": [
    "print(send_query(\"\"\"\n",
    "SELECT MIN(Price) AS SmallestPrice\n",
    "FROM Products;\n",
    "\"\"\"))"
   ],
   "id": "f3abfa4efa56c5a5",
   "outputs": [
    {
     "name": "stdout",
     "output_type": "stream",
     "text": [
      "[(2.5,)]\n"
     ]
    }
   ],
   "execution_count": 652
  },
  {
   "metadata": {
    "ExecuteTime": {
     "end_time": "2024-07-10T08:15:13.200895Z",
     "start_time": "2024-07-10T08:15:13.198868Z"
    }
   },
   "cell_type": "code",
   "source": [
    "print(send_query(\"\"\"\n",
    "SELECT MIN(Price) AS SmallestPrice, CategoryID\n",
    "FROM Products\n",
    "GROUP BY CategoryID;\n",
    "\"\"\"))"
   ],
   "id": "64496e306d7f0773",
   "outputs": [
    {
     "name": "stdout",
     "output_type": "stream",
     "text": [
      "[(4.5, 1), (10.0, 2), (9.2, 3), (2.5, 4), (7.0, 5), (7.45, 6), (10.0, 7), (6.0, 8)]\n"
     ]
    }
   ],
   "execution_count": 653
  },
  {
   "metadata": {
    "ExecuteTime": {
     "end_time": "2024-07-10T08:15:13.354163Z",
     "start_time": "2024-07-10T08:15:13.352189Z"
    }
   },
   "cell_type": "code",
   "source": [
    "print(send_query(\"\"\"\n",
    "SELECT COUNT(*)\n",
    "FROM Products;\n",
    "\"\"\"))"
   ],
   "id": "b3c6b1a4f6457c82",
   "outputs": [
    {
     "name": "stdout",
     "output_type": "stream",
     "text": [
      "[(77,)]\n"
     ]
    }
   ],
   "execution_count": 654
  },
  {
   "metadata": {
    "ExecuteTime": {
     "end_time": "2024-07-10T08:15:13.402975Z",
     "start_time": "2024-07-10T08:15:13.400804Z"
    }
   },
   "cell_type": "code",
   "source": [
    "print(send_query(\"\"\"\n",
    "SELECT COUNT(ProductName)\n",
    "FROM Products;\n",
    "\"\"\"))"
   ],
   "id": "3b49b7425914d888",
   "outputs": [
    {
     "name": "stdout",
     "output_type": "stream",
     "text": [
      "[(77,)]\n"
     ]
    }
   ],
   "execution_count": 655
  },
  {
   "metadata": {
    "ExecuteTime": {
     "end_time": "2024-07-10T08:15:13.555120Z",
     "start_time": "2024-07-10T08:15:13.553338Z"
    }
   },
   "cell_type": "code",
   "source": [
    "print(send_query(\"\"\"\n",
    "SELECT COUNT(ProductID)\n",
    "FROM Products\n",
    "WHERE Price > 20;\n",
    "\"\"\"))"
   ],
   "id": "1007e13f96807ec8",
   "outputs": [
    {
     "name": "stdout",
     "output_type": "stream",
     "text": [
      "[(37,)]\n"
     ]
    }
   ],
   "execution_count": 656
  },
  {
   "metadata": {
    "ExecuteTime": {
     "end_time": "2024-07-10T08:15:13.617514Z",
     "start_time": "2024-07-10T08:15:13.615529Z"
    }
   },
   "cell_type": "code",
   "source": [
    "print(send_query(\"\"\"\n",
    "SELECT COUNT(DISTINCT Price)\n",
    "FROM Products;\n",
    "\"\"\"))"
   ],
   "id": "5319aa253b4a2cbc",
   "outputs": [
    {
     "name": "stdout",
     "output_type": "stream",
     "text": [
      "[(62,)]\n"
     ]
    }
   ],
   "execution_count": 657
  },
  {
   "metadata": {
    "ExecuteTime": {
     "end_time": "2024-07-10T08:15:13.773656Z",
     "start_time": "2024-07-10T08:15:13.771737Z"
    }
   },
   "cell_type": "code",
   "source": [
    "print(send_query(\"\"\"\n",
    "SELECT COUNT(*) AS [Number of records]\n",
    "FROM Products;\n",
    "\"\"\"))"
   ],
   "id": "622be187db67f329",
   "outputs": [
    {
     "name": "stdout",
     "output_type": "stream",
     "text": [
      "[(77,)]\n"
     ]
    }
   ],
   "execution_count": 658
  },
  {
   "metadata": {
    "ExecuteTime": {
     "end_time": "2024-07-10T08:15:13.817955Z",
     "start_time": "2024-07-10T08:15:13.816003Z"
    }
   },
   "cell_type": "code",
   "source": [
    "print(send_query(\"\"\"\n",
    "SELECT COUNT(*) AS [Number of records], CategoryID\n",
    "FROM Products\n",
    "GROUP BY CategoryID;\n",
    "\"\"\"))"
   ],
   "id": "9062082a0c4082e",
   "outputs": [
    {
     "name": "stdout",
     "output_type": "stream",
     "text": [
      "[(12, 1), (12, 2), (13, 3), (10, 4), (7, 5), (6, 6), (5, 7), (12, 8)]\n"
     ]
    }
   ],
   "execution_count": 659
  },
  {
   "metadata": {
    "ExecuteTime": {
     "end_time": "2024-07-10T08:15:13.961295Z",
     "start_time": "2024-07-10T08:15:13.959298Z"
    }
   },
   "cell_type": "code",
   "source": [
    "print(send_query(\"\"\"\n",
    "SELECT SUM(Quantity)\n",
    "FROM OrderDetails;\n",
    "\"\"\"))"
   ],
   "id": "3d0392074d21ef24",
   "outputs": [
    {
     "name": "stdout",
     "output_type": "stream",
     "text": [
      "[(12743,)]\n"
     ]
    }
   ],
   "execution_count": 660
  },
  {
   "metadata": {
    "ExecuteTime": {
     "end_time": "2024-07-10T08:15:14.034706Z",
     "start_time": "2024-07-10T08:15:14.032807Z"
    }
   },
   "cell_type": "code",
   "source": [
    "print(send_query(\"\"\"\n",
    "SELECT SUM(Quantity)\n",
    "FROM OrderDetails\n",
    "WHERE ProductId = 11;\n",
    "\"\"\"))"
   ],
   "id": "5f96bbd0f5fec6e9",
   "outputs": [
    {
     "name": "stdout",
     "output_type": "stream",
     "text": [
      "[(182,)]\n"
     ]
    }
   ],
   "execution_count": 661
  },
  {
   "metadata": {
    "ExecuteTime": {
     "end_time": "2024-07-10T08:15:14.158719Z",
     "start_time": "2024-07-10T08:15:14.156731Z"
    }
   },
   "cell_type": "code",
   "source": [
    "print(send_query(\"\"\"\n",
    "SELECT SUM(Quantity) AS total\n",
    "FROM OrderDetails;\n",
    "\"\"\"))"
   ],
   "id": "347399780d46aba2",
   "outputs": [
    {
     "name": "stdout",
     "output_type": "stream",
     "text": [
      "[(12743,)]\n"
     ]
    }
   ],
   "execution_count": 662
  },
  {
   "metadata": {
    "ExecuteTime": {
     "end_time": "2024-07-10T08:15:14.228157Z",
     "start_time": "2024-07-10T08:15:14.225784Z"
    }
   },
   "cell_type": "code",
   "source": [
    "print(send_query(\"\"\"\n",
    "SELECT OrderID, SUM(Quantity) AS [Total Quantity]\n",
    "FROM OrderDetails\n",
    "GROUP BY OrderID;\n",
    "\"\"\"))"
   ],
   "id": "a7db7d9992820ee",
   "outputs": [
    {
     "name": "stdout",
     "output_type": "stream",
     "text": [
      "[(10248, 27), (10249, 49), (10250, 60), (10251, 41), (10252, 105), (10253, 102), (10254, 57), (10255, 110), (10256, 27), (10257, 46), (10258, 121), (10259, 11), (10260, 102), (10261, 40), (10262, 29), (10263, 184), (10264, 60), (10265, 50), (10266, 12), (10267, 135), (10268, 14), (10269, 80), (10270, 55), (10271, 24), (10272, 70), (10273, 152), (10274, 27), (10275, 18), (10276, 25), (10277, 32), (10278, 64), (10279, 15), (10280, 62), (10281, 11), (10282, 8), (10283, 76), (10284, 61), (10285, 121), (10286, 140), (10287, 75), (10288, 13), (10289, 39), (10290, 60), (10291, 46), (10292, 20), (10293, 33), (10294, 75), (10295, 4), (10296, 57), (10297, 80), (10298, 125), (10299, 35), (10300, 50), (10301, 30), (10302, 80), (10303, 85), (10304, 42), (10305, 80), (10306, 25), (10307, 13), (10308, 6), (10309, 75), (10310, 15), (10311, 13), (10312, 58), (10313, 12), (10314, 95), (10315, 44), (10316, 80), (10317, 20), (10318, 26), (10319, 52), (10320, 30), (10321, 10), (10322, 20), (10323, 13), (10324, 241), (10325, 71), (10326, 90), (10327, 140), (10328, 59), (10329, 50), (10330, 75), (10331, 15), (10332, 66), (10333, 60), (10334, 18), (10335, 86), (10336, 18), (10337, 137), (10338, 35), (10339, 108), (10340, 72), (10341, 17), (10342, 160), (10343, 69), (10344, 105), (10345, 159), (10346, 56), (10347, 70), (10348, 40), (10349, 24), (10350, 33), (10351, 120), (10352, 30), (10353, 62), (10354, 16), (10355, 50), (10356, 62), (10357, 54), (10358, 40), (10359, 206), (10360, 138), (10361, 109), (10362, 94), (10363, 44), (10364, 35), (10365, 24), (10366, 10), (10367, 76), (10368, 78), (10369, 38), (10370, 65), (10371, 6), (10372, 164), (10373, 130), (10374, 45), (10375, 25), (10376, 42), (10377, 40), (10378, 6), (10379, 44), (10380, 74), (10381, 14), (10382, 165), (10383, 55), (10384, 43), (10385, 38), (10386, 25), (10387, 48), (10388, 75), (10389, 81), (10390, 169), (10391, 18), (10392, 50), (10393, 176), (10394, 20), (10395, 106), (10396, 121), (10397, 28), (10398, 150), (10399, 139), (10400, 86), (10401, 168), (10402, 125), (10403, 91), (10404, 100), (10405, 50), (10406, 89), (10407, 60), (10408, 51), (10409, 24), (10410, 65), (10411, 74), (10412, 20), (10413, 78), (10414, 68), (10415, 22), (10416, 50), (10417, 123), (10418, 146), (10419, 80), (10420, 50), (10421, 59), (10422, 2), (10423, 34), (10424, 139), (10425, 30), (10426, 12), (10427, 35), (10428, 20), (10429, 75), (10430, 195), (10431, 130), (10432, 50), (10433, 28), (10434, 24), (10435, 32), (10436, 99), (10437, 15), (10438, 50), (10439, 67), (10440, 208), (10441, 50), (10442, 170), (10443, 18)]\n"
     ]
    }
   ],
   "execution_count": 663
  },
  {
   "metadata": {
    "ExecuteTime": {
     "end_time": "2024-07-10T08:15:14.380552Z",
     "start_time": "2024-07-10T08:15:14.378761Z"
    }
   },
   "cell_type": "code",
   "source": [
    "print(send_query(\"\"\"\n",
    "SELECT SUM(Quantity * 10)\n",
    "FROM OrderDetails;\n",
    "\"\"\"))"
   ],
   "id": "dbee0950007a5e5d",
   "outputs": [
    {
     "name": "stdout",
     "output_type": "stream",
     "text": [
      "[(127430,)]\n"
     ]
    }
   ],
   "execution_count": 664
  },
  {
   "metadata": {
    "ExecuteTime": {
     "end_time": "2024-07-10T08:15:14.429306Z",
     "start_time": "2024-07-10T08:15:14.427041Z"
    }
   },
   "cell_type": "code",
   "source": [
    "print(send_query(\"\"\"\n",
    "SELECT SUM(Price * Quantity)\n",
    "FROM OrderDetails\n",
    "LEFT JOIN Products ON OrderDetails.ProductID = Products.ProductID;\n",
    "\"\"\"))"
   ],
   "id": "7adf7f82dd1f2c25",
   "outputs": [
    {
     "name": "stdout",
     "output_type": "stream",
     "text": [
      "[(386424.23,)]\n"
     ]
    }
   ],
   "execution_count": 665
  },
  {
   "metadata": {
    "ExecuteTime": {
     "end_time": "2024-07-10T08:15:14.580886Z",
     "start_time": "2024-07-10T08:15:14.578817Z"
    }
   },
   "cell_type": "code",
   "source": [
    "print(send_query(\"\"\"\n",
    "SELECT AVG(Price)\n",
    "FROM Products;\n",
    "\"\"\"))"
   ],
   "id": "655b354b2c82acf8",
   "outputs": [
    {
     "name": "stdout",
     "output_type": "stream",
     "text": [
      "[(28.866363636363637,)]\n"
     ]
    }
   ],
   "execution_count": 666
  },
  {
   "metadata": {
    "ExecuteTime": {
     "end_time": "2024-07-10T08:15:14.643872Z",
     "start_time": "2024-07-10T08:15:14.641554Z"
    }
   },
   "cell_type": "code",
   "source": [
    "print(send_query(\"\"\"\n",
    "SELECT AVG(Price)\n",
    "FROM Products\n",
    "WHERE CategoryID = 1;\n",
    "\"\"\"))"
   ],
   "id": "644dabe7606ca74f",
   "outputs": [
    {
     "name": "stdout",
     "output_type": "stream",
     "text": [
      "[(37.979166666666664,)]\n"
     ]
    }
   ],
   "execution_count": 667
  },
  {
   "metadata": {
    "ExecuteTime": {
     "end_time": "2024-07-10T08:15:14.829105Z",
     "start_time": "2024-07-10T08:15:14.827066Z"
    }
   },
   "cell_type": "code",
   "source": [
    "print(send_query(\"\"\"\n",
    "SELECT AVG(Price) AS [average price]\n",
    "FROM Products;\n",
    "\"\"\"))"
   ],
   "id": "b3237552617a0fb9",
   "outputs": [
    {
     "name": "stdout",
     "output_type": "stream",
     "text": [
      "[(28.866363636363637,)]\n"
     ]
    }
   ],
   "execution_count": 668
  },
  {
   "metadata": {
    "ExecuteTime": {
     "end_time": "2024-07-10T08:15:14.880209Z",
     "start_time": "2024-07-10T08:15:14.878182Z"
    }
   },
   "cell_type": "code",
   "source": [
    "print(send_query(\"\"\"\n",
    "SELECT * FROM Products\n",
    "WHERE price > (SELECT AVG(price) FROM Products);\n",
    "\"\"\"))"
   ],
   "id": "e5a8f0ecba4a5b23",
   "outputs": [
    {
     "name": "stdout",
     "output_type": "stream",
     "text": [
      "[(7, \"Uncle Bob's Organic Dried Pears\", 3, 7, '12 - 1 lb pkgs.', 30.0), (8, 'Northwoods Cranberry Sauce', 3, 2, '12 - 12 oz jars', 40.0), (9, 'Mishi Kobe Niku', 4, 6, '18 - 500 g pkgs.', 97.0), (10, 'Ikura', 4, 8, '12 - 200 ml jars', 31.0), (12, 'Queso Manchego La Pastora', 5, 4, '10 - 500 g pkgs.', 38.0), (17, 'Alice Mutton', 7, 6, '20 - 1 kg tins', 39.0), (18, 'Carnarvon Tigers', 7, 8, '16 kg pkg.', 62.5), (20, \"Sir Rodney's Marmalade\", 8, 3, '30 gift boxes', 81.0), (26, 'Gumbär Gummibärchen', 11, 3, '100 - 250 g bags', 31.23), (27, 'Schoggi Schokolade', 11, 3, '100 - 100 g pieces', 43.9), (28, 'Rössle Sauerkraut', 12, 7, '25 - 825 g cans', 45.6), (29, 'Thüringer Rostbratwurst', 12, 6, '50 bags x 30 sausgs.', 123.79), (32, 'Mascarpone Fabioli', 14, 4, '24 - 200 g pkgs.', 32.0), (38, 'Côte de Blaye', 18, 1, '12 - 75 cl bottles', 263.5), (43, 'Ipoh Coffee', 20, 1, '16 - 500 g tins', 46.0), (51, 'Manjimup Dried Apples', 24, 7, '50 - 300 g pkgs.', 53.0), (53, 'Perth Pasties', 24, 6, '48 pieces', 32.8), (56, 'Gnocchi di nonna Alice', 26, 5, '24 - 250 g pkgs.', 38.0), (59, 'Raclette Courdavault', 28, 4, '5 kg pkg.', 55.0), (60, 'Camembert Pierrot', 28, 4, '15 - 300 g rounds', 34.0), (62, 'Tarte au sucre', 29, 3, '48 pies', 49.3), (63, 'Vegie-spread', 7, 2, '15 - 625 g jars', 43.9), (64, 'Wimmers gute Semmelknödel', 12, 5, '20 bags x 4 pieces', 33.25), (69, 'Gudbrandsdalsost', 15, 4, '10 kg pkg.', 36.0), (72, 'Mozzarella di Giovanni', 14, 4, '24 - 200 g pkgs.', 34.8)]\n"
     ]
    }
   ],
   "execution_count": 669
  },
  {
   "metadata": {
    "ExecuteTime": {
     "end_time": "2024-07-10T08:15:15.037691Z",
     "start_time": "2024-07-10T08:15:15.035667Z"
    }
   },
   "cell_type": "code",
   "source": [
    "print(send_query(\"\"\"\n",
    "SELECT AVG(Price) AS AveragePrice, CategoryID\n",
    "FROM Products\n",
    "GROUP BY CategoryID;\n",
    "\"\"\"))"
   ],
   "id": "ebb7d553d9afefb8",
   "outputs": [
    {
     "name": "stdout",
     "output_type": "stream",
     "text": [
      "[(37.979166666666664, 1), (23.0625, 2), (25.16, 3), (28.73, 4), (20.25, 5), (54.00666666666667, 6), (32.37, 7), (20.6825, 8)]\n"
     ]
    }
   ],
   "execution_count": 670
  },
  {
   "metadata": {
    "ExecuteTime": {
     "end_time": "2024-07-10T08:15:15.087606Z",
     "start_time": "2024-07-10T08:15:15.085671Z"
    }
   },
   "cell_type": "code",
   "source": [
    "print(send_query(\"\"\"\n",
    "SELECT * FROM Customers\n",
    "WHERE CustomerName LIKE 'a%';\n",
    "\"\"\"))"
   ],
   "id": "79fcf747d3c7be5a",
   "outputs": [
    {
     "name": "stdout",
     "output_type": "stream",
     "text": [
      "[(1, 'Alfreds Futterkiste', 'Maria Anders', 'Obere Str. 57', 'Berlin', '12209', 'Germany'), (2, 'Ana Trujillo Emparedados y helados', 'Ana Trujillo', 'Avda. de la Constitución 2222', 'México D.F.', '05021', 'Mexico'), (3, 'Antonio Moreno Taquería', 'Antonio Moreno', 'Mataderos 2312', 'México D.F.', '05023', 'Mexico'), (4, 'Around the Horn', 'Thomas Hardy', '120 Hanover Sq.', 'London', 'WA1 1DP', 'UK')]\n"
     ]
    }
   ],
   "execution_count": 671
  },
  {
   "metadata": {
    "ExecuteTime": {
     "end_time": "2024-07-10T08:15:15.272520Z",
     "start_time": "2024-07-10T08:15:15.270492Z"
    }
   },
   "cell_type": "code",
   "source": [
    "print(send_query(\"\"\"\n",
    "SELECT * FROM Customers\n",
    "WHERE city LIKE 'L_nd__';\n",
    "\"\"\"))"
   ],
   "id": "924e4ff1d1dab19f",
   "outputs": [
    {
     "name": "stdout",
     "output_type": "stream",
     "text": [
      "[(4, 'Around the Horn', 'Thomas Hardy', '120 Hanover Sq.', 'London', 'WA1 1DP', 'UK'), (11, \"B's Beverages\", 'Victoria Ashworth', 'Fauntleroy Circus', 'London', 'EC2 5NT', 'UK'), (16, 'Consolidated Holdings', 'Elizabeth Brown', 'Berkeley Gardens 12 Brewery', 'London', 'WX1 6LT', 'UK'), (19, 'Eastern Connection', 'Ann Devon', '35 King George', 'London', 'WX3 6FW', 'UK'), (53, 'North/South', 'Simon Crowther', 'South House 300 Queensbridge', 'London', 'SW7 1RZ', 'UK'), (72, 'Seven Seas Imports', 'Hari Kumar', '90 Wadhurst Rd.', 'London', 'OX15 4NB', 'UK'), (75, 'Split Rail Beer & Ale', 'Art Braunschweiger', 'P.O. Box 555', 'Lander', '82520', 'USA')]\n"
     ]
    }
   ],
   "execution_count": 672
  },
  {
   "metadata": {
    "ExecuteTime": {
     "end_time": "2024-07-10T08:15:15.330567Z",
     "start_time": "2024-07-10T08:15:15.328395Z"
    }
   },
   "cell_type": "code",
   "source": [
    "print(send_query(\"\"\"\n",
    "SELECT * FROM Customers\n",
    "WHERE city LIKE '%L%';\n",
    "\"\"\"))"
   ],
   "id": "24b846ac21fea82",
   "outputs": [
    {
     "name": "stdout",
     "output_type": "stream",
     "text": [
      "[(1, 'Alfreds Futterkiste', 'Maria Anders', 'Obere Str. 57', 'Berlin', '12209', 'Germany'), (4, 'Around the Horn', 'Thomas Hardy', '120 Hanover Sq.', 'London', 'WA1 1DP', 'UK'), (5, 'Berglunds snabbköp', 'Christina Berglund', 'Berguvsvägen 8', 'Luleå', 'S-958 22', 'Sweden'), (9, \"Bon app'\", 'Laurence Lebihans', '12, rue des Bouchers', 'Marseille', '13008', 'France'), (11, \"B's Beverages\", 'Victoria Ashworth', 'Fauntleroy Circus', 'London', 'EC2 5NT', 'UK'), (15, 'Comércio Mineiro', 'Pedro Afonso', 'Av. dos Lusíadas, 23', 'São Paulo', '05432-043', 'Brazil'), (16, 'Consolidated Holdings', 'Elizabeth Brown', 'Berkeley Gardens 12 Brewery', 'London', 'WX1 6LT', 'UK'), (19, 'Eastern Connection', 'Ann Devon', '35 King George', 'London', 'WX3 6FW', 'UK'), (21, 'Familia Arquibaldo', 'Aria Cruz', 'Rua Orós, 92', 'São Paulo', '05442-030', 'Brazil'), (23, 'Folies gourmandes', 'Martine Rancé', '184, chaussée de Tournai', 'Lille', '59000', 'France'), (28, 'Furia Bacalhau e Frutos do Mar', 'Lino Rodriguez', 'Jardim das rosas n. 32', 'Lisboa', '1675', 'Portugal'), (29, 'Galería del gastrónomo', 'Eduardo Saavedra', 'Rambla de Cataluña, 23', 'Barcelona', '08022', 'Spain'), (30, 'Godos Cocina Típica', 'José Pedro Freyre', 'C/ Romero, 33', 'Sevilla', '41101', 'Spain'), (35, 'HILARIÓN-Abastos', 'Carlos Hernández', 'Carrera 22 con Ave. Carlos Soublette #8-35', 'San Cristóbal', '5022', 'Venezuela'), (36, 'Hungry Coyote Import Store', 'Yoshi Latimer', 'City Center Plaza 516 Main St.', 'Elgin', '97827', 'USA'), (40, \"La corne d'abondance\", 'Daniel Tonini', \"67, avenue de l'Europe\", 'Versailles', '78000', 'France'), (41, \"La maison d'Asie\", 'Annette Roulet', '1 rue Alsace-Lorraine', 'Toulouse', '31000', 'France'), (43, 'Lazy K Kountry Store', 'John Steel', '12 Orchestra Terrace', 'Walla Walla', '99362', 'USA'), (48, 'Lonesome Pine Restaurant', 'Fran Wilson', '89 Chiaroscuro Rd.', 'Portland', '97219', 'USA'), (50, 'Maison Dewey', 'Catherine Dewey', 'Rue Joseph-Bens 532', 'Bruxelles', 'B-1180', 'Belgium'), (51, 'Mère Paillarde', 'Jean Fresnière', '43 rue St. Laurent', 'Montréal', 'H1J 1C3', 'Canada'), (52, 'Morgenstern Gesundkost', 'Alexander Feuer', 'Heerstr. 22', 'Leipzig', '04179', 'Germany'), (53, 'North/South', 'Simon Crowther', 'South House 300 Queensbridge', 'London', 'SW7 1RZ', 'UK'), (56, 'Ottilies Käseladen', 'Henriette Pfalzheim', 'Mehrheimerstr. 369', 'Köln', '50739', 'Germany'), (59, 'Piccolo und mehr', 'Georg Pipps', 'Geislweg 14', 'Salzburg', '5020', 'Austria'), (60, 'Princesa Isabel Vinhoss', 'Isabel de Castro', 'Estrada da saúde n. 58', 'Lisboa', '1756', 'Portugal'), (62, 'Queen Cozinha', 'Lúcia Carvalho', 'Alameda dos Canàrios, 891', 'São Paulo', '05487-020', 'Brazil'), (63, 'QUICK-Stop', 'Horst Kloss', 'Taucherstraße 10', 'Cunewalde', '01307', 'Germany'), (65, 'Rattlesnake Canyon Grocery', 'Paula Wilson', '2817 Milton Dr.', 'Albuquerque', '87110', 'USA'), (66, 'Reggiani Caseifici', 'Maurizio Moroni', 'Strada Provinciale 124', 'Reggio Emilia', '42100', 'Italy'), (72, 'Seven Seas Imports', 'Hari Kumar', '90 Wadhurst Rd.', 'London', 'OX15 4NB', 'UK'), (75, 'Split Rail Beer & Ale', 'Art Braunschweiger', 'P.O. Box 555', 'Lander', '82520', 'USA'), (76, 'Suprêmes délices', 'Pascale Cartrain', 'Boulevard Tirou, 255', 'Charleroi', 'B-6000', 'Belgium'), (77, 'The Big Cheese', 'Liz Nixon', '89 Jefferson Way Suite 2', 'Portland', '97201', 'USA'), (81, 'Tradição Hipermercados', 'Anabela Domingues', 'Av. Inês de Castro, 414', 'São Paulo', '05634-030', 'Brazil'), (82, \"Trail's Head Gourmet Provisioners\", 'Helvetius Nagy', '722 DaVinci Blvd.', 'Kirkland', '98034', 'USA'), (84, 'Victuailles en stock', 'Mary Saveley', '2, rue du Commerce', 'Lyon', '69004', 'France'), (87, 'Wartian Herkku', 'Pirkko Koskitalo', 'Torikatu 38', 'Oulu', '90110', 'Finland'), (89, 'White Clover Markets', 'Karl Jablonski', '305 - 14th Ave. S. Suite 3B', 'Seattle', '98128', 'USA'), (90, 'Wilman Kala', 'Matti Karttunen', 'Keskuskatu 45', 'Helsinki', '21240', 'Finland'), (91, 'Wolski', 'Zbyszek', 'ul. Filtrowa 68', 'Walla', '01-012', 'Poland')]\n"
     ]
    }
   ],
   "execution_count": 673
  },
  {
   "metadata": {
    "ExecuteTime": {
     "end_time": "2024-07-10T08:15:15.497559Z",
     "start_time": "2024-07-10T08:15:15.495540Z"
    }
   },
   "cell_type": "code",
   "source": [
    "print(send_query(\"\"\"\n",
    "SELECT * FROM Customers\n",
    "WHERE CustomerName LIKE 'La%';\n",
    "\"\"\"))"
   ],
   "id": "2fdd710a3a36393e",
   "outputs": [
    {
     "name": "stdout",
     "output_type": "stream",
     "text": [
      "[(40, \"La corne d'abondance\", 'Daniel Tonini', \"67, avenue de l'Europe\", 'Versailles', '78000', 'France'), (41, \"La maison d'Asie\", 'Annette Roulet', '1 rue Alsace-Lorraine', 'Toulouse', '31000', 'France'), (42, 'Laughing Bacchus Wine Cellars', 'Yoshi Tannamuri', '1900 Oak St.', 'Vancouver', 'V3F 2K1', 'Canada'), (43, 'Lazy K Kountry Store', 'John Steel', '12 Orchestra Terrace', 'Walla Walla', '99362', 'USA')]\n"
     ]
    }
   ],
   "execution_count": 674
  },
  {
   "metadata": {
    "ExecuteTime": {
     "end_time": "2024-07-10T08:15:15.558527Z",
     "start_time": "2024-07-10T08:15:15.556587Z"
    }
   },
   "cell_type": "code",
   "source": [
    "print(send_query(\"\"\"\n",
    "SELECT * FROM Customers\n",
    "WHERE CustomerName LIKE 'a%' OR CustomerName LIKE 'b%';\n",
    "\"\"\"))"
   ],
   "id": "daa32f880d426571",
   "outputs": [
    {
     "name": "stdout",
     "output_type": "stream",
     "text": [
      "[(1, 'Alfreds Futterkiste', 'Maria Anders', 'Obere Str. 57', 'Berlin', '12209', 'Germany'), (2, 'Ana Trujillo Emparedados y helados', 'Ana Trujillo', 'Avda. de la Constitución 2222', 'México D.F.', '05021', 'Mexico'), (3, 'Antonio Moreno Taquería', 'Antonio Moreno', 'Mataderos 2312', 'México D.F.', '05023', 'Mexico'), (4, 'Around the Horn', 'Thomas Hardy', '120 Hanover Sq.', 'London', 'WA1 1DP', 'UK'), (5, 'Berglunds snabbköp', 'Christina Berglund', 'Berguvsvägen 8', 'Luleå', 'S-958 22', 'Sweden'), (6, 'Blauer See Delikatessen', 'Hanna Moos', 'Forsterstr. 57', 'Mannheim', '68306', 'Germany'), (7, 'Blondel père et fils', 'Frédérique Citeaux', '24, place Kléber', 'Strasbourg', '67000', 'France'), (8, 'Bólido Comidas preparadas', 'Martín Sommer', 'C/ Araquil, 67', 'Madrid', '28023', 'Spain'), (9, \"Bon app'\", 'Laurence Lebihans', '12, rue des Bouchers', 'Marseille', '13008', 'France'), (10, 'Bottom-Dollar Marketse', 'Elizabeth Lincoln', '23 Tsawassen Blvd.', 'Tsawassen', 'T2F 8M4', 'Canada'), (11, \"B's Beverages\", 'Victoria Ashworth', 'Fauntleroy Circus', 'London', 'EC2 5NT', 'UK')]\n"
     ]
    }
   ],
   "execution_count": 675
  },
  {
   "metadata": {
    "ExecuteTime": {
     "end_time": "2024-07-10T08:15:15.712492Z",
     "start_time": "2024-07-10T08:15:15.710300Z"
    }
   },
   "cell_type": "code",
   "source": [
    "print(send_query(\"\"\"\n",
    "SELECT * FROM Customers\n",
    "WHERE CustomerName LIKE '%a';\n",
    "\"\"\"))"
   ],
   "id": "f268df56d8fa52e8",
   "outputs": [
    {
     "name": "stdout",
     "output_type": "stream",
     "text": [
      "[(3, 'Antonio Moreno Taquería', 'Antonio Moreno', 'Mataderos 2312', 'México D.F.', '05023', 'Mexico'), (13, 'Centro comercial Moctezuma', 'Francisco Chang', 'Sierras de Granada 9993', 'México D.F.', '05022', 'Mexico'), (30, 'Godos Cocina Típica', 'José Pedro Freyre', 'C/ Romero, 33', 'Sevilla', '41101', 'Spain'), (61, 'Que Delícia', 'Bernardo Batista', 'Rua da Panificadora, 12', 'Rio de Janeiro', '02389-673', 'Brazil'), (62, 'Queen Cozinha', 'Lúcia Carvalho', 'Alameda dos Canàrios, 891', 'São Paulo', '05487-020', 'Brazil'), (88, 'Wellington Importadora', 'Paula Parente', 'Rua do Mercado, 12', 'Resende', '08737-363', 'Brazil'), (90, 'Wilman Kala', 'Matti Karttunen', 'Keskuskatu 45', 'Helsinki', '21240', 'Finland')]\n"
     ]
    }
   ],
   "execution_count": 676
  },
  {
   "metadata": {
    "ExecuteTime": {
     "end_time": "2024-07-10T08:15:15.776310Z",
     "start_time": "2024-07-10T08:15:15.774222Z"
    }
   },
   "cell_type": "code",
   "source": [
    "print(send_query(\"\"\"\n",
    "SELECT * FROM Customers\n",
    "WHERE CustomerName LIKE 'b%s';\n",
    "\"\"\"))"
   ],
   "id": "ee66292ccf48dc59",
   "outputs": [
    {
     "name": "stdout",
     "output_type": "stream",
     "text": [
      "[(7, 'Blondel père et fils', 'Frédérique Citeaux', '24, place Kléber', 'Strasbourg', '67000', 'France'), (8, 'Bólido Comidas preparadas', 'Martín Sommer', 'C/ Araquil, 67', 'Madrid', '28023', 'Spain'), (11, \"B's Beverages\", 'Victoria Ashworth', 'Fauntleroy Circus', 'London', 'EC2 5NT', 'UK')]\n"
     ]
    }
   ],
   "execution_count": 677
  },
  {
   "metadata": {
    "ExecuteTime": {
     "end_time": "2024-07-10T08:15:15.925996Z",
     "start_time": "2024-07-10T08:15:15.923714Z"
    }
   },
   "cell_type": "code",
   "source": [
    "print(send_query(\"\"\"\n",
    "SELECT * FROM Customers\n",
    "WHERE CustomerName LIKE '%or%';\n",
    "\"\"\"))"
   ],
   "id": "244df28218bf8008",
   "outputs": [
    {
     "name": "stdout",
     "output_type": "stream",
     "text": [
      "[(3, 'Antonio Moreno Taquería', 'Antonio Moreno', 'Mataderos 2312', 'México D.F.', '05023', 'Mexico'), (4, 'Around the Horn', 'Thomas Hardy', '120 Hanover Sq.', 'London', 'WA1 1DP', 'UK'), (36, 'Hungry Coyote Import Store', 'Yoshi Latimer', 'City Center Plaza 516 Main St.', 'Elgin', '97827', 'USA'), (40, \"La corne d'abondance\", 'Daniel Tonini', \"67, avenue de l'Europe\", 'Versailles', '78000', 'France'), (43, 'Lazy K Kountry Store', 'John Steel', '12 Orchestra Terrace', 'Walla Walla', '99362', 'USA'), (52, 'Morgenstern Gesundkost', 'Alexander Feuer', 'Heerstr. 22', 'Leipzig', '04179', 'Germany'), (53, 'North/South', 'Simon Crowther', 'South House 300 Queensbridge', 'London', 'SW7 1RZ', 'UK'), (55, 'Old World Delicatessen', 'Rene Phillips', '2743 Bering St.', 'Anchorage', '99508', 'USA'), (72, 'Seven Seas Imports', 'Hari Kumar', '90 Wadhurst Rd.', 'London', 'OX15 4NB', 'UK'), (80, 'Tortuga Restaurante', 'Miguel Angel Paolino', 'Avda. Azteca 123', 'México D.F.', '05033', 'Mexico'), (88, 'Wellington Importadora', 'Paula Parente', 'Rua do Mercado, 12', 'Resende', '08737-363', 'Brazil')]\n"
     ]
    }
   ],
   "execution_count": 678
  },
  {
   "metadata": {
    "ExecuteTime": {
     "end_time": "2024-07-10T08:15:15.991174Z",
     "start_time": "2024-07-10T08:15:15.989166Z"
    }
   },
   "cell_type": "code",
   "source": [
    "print(send_query(\"\"\"\n",
    "SELECT * FROM Customers\n",
    "WHERE CustomerName LIKE 'a__%';\n",
    "\"\"\"))"
   ],
   "id": "b93857e5d5484c27",
   "outputs": [
    {
     "name": "stdout",
     "output_type": "stream",
     "text": [
      "[(1, 'Alfreds Futterkiste', 'Maria Anders', 'Obere Str. 57', 'Berlin', '12209', 'Germany'), (2, 'Ana Trujillo Emparedados y helados', 'Ana Trujillo', 'Avda. de la Constitución 2222', 'México D.F.', '05021', 'Mexico'), (3, 'Antonio Moreno Taquería', 'Antonio Moreno', 'Mataderos 2312', 'México D.F.', '05023', 'Mexico'), (4, 'Around the Horn', 'Thomas Hardy', '120 Hanover Sq.', 'London', 'WA1 1DP', 'UK')]\n"
     ]
    }
   ],
   "execution_count": 679
  },
  {
   "metadata": {
    "ExecuteTime": {
     "end_time": "2024-07-10T08:15:16.157987Z",
     "start_time": "2024-07-10T08:15:16.155991Z"
    }
   },
   "cell_type": "code",
   "source": [
    "print(send_query(\"\"\"\n",
    "SELECT * FROM Customers\n",
    "WHERE CustomerName LIKE '_r%';\n",
    "\"\"\"))"
   ],
   "id": "c8b04fea52ee0b98",
   "outputs": [
    {
     "name": "stdout",
     "output_type": "stream",
     "text": [
      "[(4, 'Around the Horn', 'Thomas Hardy', '120 Hanover Sq.', 'London', 'WA1 1DP', 'UK'), (17, 'Drachenblut Delikatessend', 'Sven Ottlieb', 'Walserweg 21', 'Aachen', '52066', 'Germany'), (20, 'Ernst Handel', 'Roland Mendel', 'Kirchgasse 6', 'Graz', '8010', 'Austria'), (25, 'Frankenversand', 'Peter Franken', 'Berliner Platz 43', 'München', '80805', 'Germany'), (26, 'France restauration', 'Carine Schmitt', '54, rue Royale', 'Nantes', '44000', 'France'), (27, 'Franchi S.p.A.', 'Paolo Accorti', 'Via Monte Bianco 34', 'Torino', '10100', 'Italy'), (32, 'Great Lakes Food Market', 'Howard Snyder', '2732 Baker Blvd.', 'Eugene', '97403', 'USA'), (33, 'GROSELLA-Restaurante', 'Manuel Pereira', '5ª Ave. Los Palos Grandes', 'Caracas', '1081', 'Venezuela'), (60, 'Princesa Isabel Vinhoss', 'Isabel de Castro', 'Estrada da saúde n. 58', 'Lisboa', '1756', 'Portugal'), (81, 'Tradição Hipermercados', 'Anabela Domingues', 'Av. Inês de Castro, 414', 'São Paulo', '05634-030', 'Brazil'), (82, \"Trail's Head Gourmet Provisioners\", 'Helvetius Nagy', '722 DaVinci Blvd.', 'Kirkland', '98034', 'USA')]\n"
     ]
    }
   ],
   "execution_count": 680
  },
  {
   "metadata": {
    "ExecuteTime": {
     "end_time": "2024-07-10T08:15:16.234210Z",
     "start_time": "2024-07-10T08:15:16.231824Z"
    }
   },
   "cell_type": "code",
   "source": [
    "print(send_query(\"\"\"\n",
    "SELECT * FROM Customers\n",
    "WHERE Country LIKE 'Spain';\n",
    "\"\"\"))"
   ],
   "id": "a80d5ce9782d6cc0",
   "outputs": [
    {
     "name": "stdout",
     "output_type": "stream",
     "text": [
      "[(8, 'Bólido Comidas preparadas', 'Martín Sommer', 'C/ Araquil, 67', 'Madrid', '28023', 'Spain'), (22, 'FISSA Fabrica Inter. Salchichas S.A.', 'Diego Roel', 'C/ Moralzarzal, 86', 'Madrid', '28034', 'Spain'), (29, 'Galería del gastrónomo', 'Eduardo Saavedra', 'Rambla de Cataluña, 23', 'Barcelona', '08022', 'Spain'), (30, 'Godos Cocina Típica', 'José Pedro Freyre', 'C/ Romero, 33', 'Sevilla', '41101', 'Spain'), (69, 'Romero y tomillo', 'Alejandra Camino', 'Gran Vía, 1', 'Madrid', '28001', 'Spain')]\n"
     ]
    }
   ],
   "execution_count": 681
  },
  {
   "metadata": {
    "ExecuteTime": {
     "end_time": "2024-07-10T08:15:16.402743Z",
     "start_time": "2024-07-10T08:15:16.400724Z"
    }
   },
   "cell_type": "code",
   "source": [
    "print(send_query(\"\"\"\n",
    "SELECT * FROM Customers\n",
    "WHERE CustomerName LIKE 'a%';\n",
    "\"\"\"))"
   ],
   "id": "69bc6a3abf833027",
   "outputs": [
    {
     "name": "stdout",
     "output_type": "stream",
     "text": [
      "[(1, 'Alfreds Futterkiste', 'Maria Anders', 'Obere Str. 57', 'Berlin', '12209', 'Germany'), (2, 'Ana Trujillo Emparedados y helados', 'Ana Trujillo', 'Avda. de la Constitución 2222', 'México D.F.', '05021', 'Mexico'), (3, 'Antonio Moreno Taquería', 'Antonio Moreno', 'Mataderos 2312', 'México D.F.', '05023', 'Mexico'), (4, 'Around the Horn', 'Thomas Hardy', '120 Hanover Sq.', 'London', 'WA1 1DP', 'UK')]\n"
     ]
    }
   ],
   "execution_count": 682
  },
  {
   "metadata": {
    "ExecuteTime": {
     "end_time": "2024-07-10T08:15:16.456949Z",
     "start_time": "2024-07-10T08:15:16.454962Z"
    }
   },
   "cell_type": "code",
   "source": [
    "print(send_query(\"\"\"\n",
    "SELECT * FROM Customers\n",
    "WHERE CustomerName LIKE '%es';\n",
    "\"\"\"))"
   ],
   "id": "8b2f00612912771",
   "outputs": [
    {
     "name": "stdout",
     "output_type": "stream",
     "text": [
      "[(11, \"B's Beverages\", 'Victoria Ashworth', 'Fauntleroy Circus', 'London', 'EC2 5NT', 'UK'), (23, 'Folies gourmandes', 'Martine Rancé', '184, chaussée de Tournai', 'Lille', '59000', 'France'), (31, 'Gourmet Lanchonetes', 'André Fonseca', 'Av. Brasil, 442', 'Campinas', '04876-786', 'Brazil'), (34, 'Hanari Carnes', 'Mario Pontes', 'Rua do Paço, 67', 'Rio de Janeiro', '05454-876', 'Brazil'), (47, 'LINO-Delicateses', 'Felipe Izquierdo', 'Ave. 5 de Mayo Porlamar', 'I. de Margarita', '4980', 'Venezuela'), (76, 'Suprêmes délices', 'Pascale Cartrain', 'Boulevard Tirou, 255', 'Charleroi', 'B-6000', 'Belgium')]\n"
     ]
    }
   ],
   "execution_count": 683
  },
  {
   "metadata": {
    "ExecuteTime": {
     "end_time": "2024-07-10T08:15:16.596776Z",
     "start_time": "2024-07-10T08:15:16.594690Z"
    }
   },
   "cell_type": "code",
   "source": [
    "print(send_query(\"\"\"\n",
    "SELECT * FROM Customers\n",
    "WHERE CustomerName LIKE '%mer%';\n",
    "\"\"\"))"
   ],
   "id": "8ac7a49db607664d",
   "outputs": [
    {
     "name": "stdout",
     "output_type": "stream",
     "text": [
      "[(13, 'Centro comercial Moctezuma', 'Francisco Chang', 'Sierras de Granada 9993', 'México D.F.', '05022', 'Mexico'), (46, 'LILA-Supermercado', 'Carlos González', 'Carrera 52 con Ave. Bolívar #65-98 Llano Largo', 'Barquisimeto', '3508', 'Venezuela'), (69, 'Romero y tomillo', 'Alejandra Camino', 'Gran Vía, 1', 'Madrid', '28001', 'Spain'), (81, 'Tradição Hipermercados', 'Anabela Domingues', 'Av. Inês de Castro, 414', 'São Paulo', '05634-030', 'Brazil')]\n"
     ]
    }
   ],
   "execution_count": 684
  },
  {
   "metadata": {
    "ExecuteTime": {
     "end_time": "2024-07-10T08:15:16.689875Z",
     "start_time": "2024-07-10T08:15:16.688043Z"
    }
   },
   "cell_type": "code",
   "source": [
    "print(send_query(\"\"\"\n",
    "SELECT * FROM Customers\n",
    "WHERE City LIKE '_ondon';\n",
    "\"\"\"))"
   ],
   "id": "82b6d22582f44c3",
   "outputs": [
    {
     "name": "stdout",
     "output_type": "stream",
     "text": [
      "[(4, 'Around the Horn', 'Thomas Hardy', '120 Hanover Sq.', 'London', 'WA1 1DP', 'UK'), (11, \"B's Beverages\", 'Victoria Ashworth', 'Fauntleroy Circus', 'London', 'EC2 5NT', 'UK'), (16, 'Consolidated Holdings', 'Elizabeth Brown', 'Berkeley Gardens 12 Brewery', 'London', 'WX1 6LT', 'UK'), (19, 'Eastern Connection', 'Ann Devon', '35 King George', 'London', 'WX3 6FW', 'UK'), (53, 'North/South', 'Simon Crowther', 'South House 300 Queensbridge', 'London', 'SW7 1RZ', 'UK'), (72, 'Seven Seas Imports', 'Hari Kumar', '90 Wadhurst Rd.', 'London', 'OX15 4NB', 'UK')]\n"
     ]
    }
   ],
   "execution_count": 685
  },
  {
   "metadata": {
    "ExecuteTime": {
     "end_time": "2024-07-10T08:15:16.856984Z",
     "start_time": "2024-07-10T08:15:16.854786Z"
    }
   },
   "cell_type": "code",
   "source": [
    "print(send_query(\"\"\"\n",
    "SELECT * FROM Customers\n",
    "WHERE City LIKE 'L___on';\n",
    "\"\"\"))"
   ],
   "id": "18442387ad1233a7",
   "outputs": [
    {
     "name": "stdout",
     "output_type": "stream",
     "text": [
      "[(4, 'Around the Horn', 'Thomas Hardy', '120 Hanover Sq.', 'London', 'WA1 1DP', 'UK'), (11, \"B's Beverages\", 'Victoria Ashworth', 'Fauntleroy Circus', 'London', 'EC2 5NT', 'UK'), (16, 'Consolidated Holdings', 'Elizabeth Brown', 'Berkeley Gardens 12 Brewery', 'London', 'WX1 6LT', 'UK'), (19, 'Eastern Connection', 'Ann Devon', '35 King George', 'London', 'WX3 6FW', 'UK'), (53, 'North/South', 'Simon Crowther', 'South House 300 Queensbridge', 'London', 'SW7 1RZ', 'UK'), (72, 'Seven Seas Imports', 'Hari Kumar', '90 Wadhurst Rd.', 'London', 'OX15 4NB', 'UK')]\n"
     ]
    }
   ],
   "execution_count": 686
  },
  {
   "metadata": {
    "ExecuteTime": {
     "end_time": "2024-07-10T08:15:16.930529Z",
     "start_time": "2024-07-10T08:15:16.928563Z"
    }
   },
   "cell_type": "code",
   "source": [
    "print(send_query(\"\"\"\n",
    "SELECT * FROM Customers\n",
    "WHERE CustomerName LIKE '[bsp]%';\n",
    "\"\"\"))\n",
    "#Does not work in sqlite"
   ],
   "id": "b90a312f67a30ab6",
   "outputs": [
    {
     "name": "stdout",
     "output_type": "stream",
     "text": [
      "[]\n"
     ]
    }
   ],
   "execution_count": 687
  },
  {
   "metadata": {
    "ExecuteTime": {
     "end_time": "2024-07-10T08:15:17.069068Z",
     "start_time": "2024-07-10T08:15:17.067147Z"
    }
   },
   "cell_type": "code",
   "source": [
    "print(send_query(\"\"\"\n",
    "SELECT * FROM Customers\n",
    "WHERE CustomerName LIKE '[a-f]%';\n",
    "\"\"\"))"
   ],
   "id": "7d91264fa0cf9fef",
   "outputs": [
    {
     "name": "stdout",
     "output_type": "stream",
     "text": [
      "[]\n"
     ]
    }
   ],
   "execution_count": 688
  },
  {
   "metadata": {
    "ExecuteTime": {
     "end_time": "2024-07-10T08:15:17.136419Z",
     "start_time": "2024-07-10T08:15:17.134375Z"
    }
   },
   "cell_type": "code",
   "source": [
    "print(send_query(\"\"\"\n",
    "SELECT * FROM Customers\n",
    "WHERE CustomerName LIKE 'a__%';\n",
    "\"\"\"))"
   ],
   "id": "50f268c4dc40dedb",
   "outputs": [
    {
     "name": "stdout",
     "output_type": "stream",
     "text": [
      "[(1, 'Alfreds Futterkiste', 'Maria Anders', 'Obere Str. 57', 'Berlin', '12209', 'Germany'), (2, 'Ana Trujillo Emparedados y helados', 'Ana Trujillo', 'Avda. de la Constitución 2222', 'México D.F.', '05021', 'Mexico'), (3, 'Antonio Moreno Taquería', 'Antonio Moreno', 'Mataderos 2312', 'México D.F.', '05023', 'Mexico'), (4, 'Around the Horn', 'Thomas Hardy', '120 Hanover Sq.', 'London', 'WA1 1DP', 'UK')]\n"
     ]
    }
   ],
   "execution_count": 689
  },
  {
   "metadata": {
    "ExecuteTime": {
     "end_time": "2024-07-10T08:15:17.290012Z",
     "start_time": "2024-07-10T08:15:17.287985Z"
    }
   },
   "cell_type": "code",
   "source": [
    "print(send_query(\"\"\"\n",
    "SELECT * FROM Customers\n",
    "WHERE CustomerName LIKE '_r%';\n",
    "\"\"\"))"
   ],
   "id": "656c526b8442a157",
   "outputs": [
    {
     "name": "stdout",
     "output_type": "stream",
     "text": [
      "[(4, 'Around the Horn', 'Thomas Hardy', '120 Hanover Sq.', 'London', 'WA1 1DP', 'UK'), (17, 'Drachenblut Delikatessend', 'Sven Ottlieb', 'Walserweg 21', 'Aachen', '52066', 'Germany'), (20, 'Ernst Handel', 'Roland Mendel', 'Kirchgasse 6', 'Graz', '8010', 'Austria'), (25, 'Frankenversand', 'Peter Franken', 'Berliner Platz 43', 'München', '80805', 'Germany'), (26, 'France restauration', 'Carine Schmitt', '54, rue Royale', 'Nantes', '44000', 'France'), (27, 'Franchi S.p.A.', 'Paolo Accorti', 'Via Monte Bianco 34', 'Torino', '10100', 'Italy'), (32, 'Great Lakes Food Market', 'Howard Snyder', '2732 Baker Blvd.', 'Eugene', '97403', 'USA'), (33, 'GROSELLA-Restaurante', 'Manuel Pereira', '5ª Ave. Los Palos Grandes', 'Caracas', '1081', 'Venezuela'), (60, 'Princesa Isabel Vinhoss', 'Isabel de Castro', 'Estrada da saúde n. 58', 'Lisboa', '1756', 'Portugal'), (81, 'Tradição Hipermercados', 'Anabela Domingues', 'Av. Inês de Castro, 414', 'São Paulo', '05634-030', 'Brazil'), (82, \"Trail's Head Gourmet Provisioners\", 'Helvetius Nagy', '722 DaVinci Blvd.', 'Kirkland', '98034', 'USA')]\n"
     ]
    }
   ],
   "execution_count": 690
  },
  {
   "metadata": {
    "ExecuteTime": {
     "end_time": "2024-07-10T08:15:17.340692Z",
     "start_time": "2024-07-10T08:15:17.338596Z"
    }
   },
   "cell_type": "code",
   "source": [
    "print(send_query(\"\"\"\n",
    "SELECT * FROM Customers\n",
    "WHERE Country LIKE 'Spain';\n",
    "\"\"\"))"
   ],
   "id": "cbfea20f2f34af3",
   "outputs": [
    {
     "name": "stdout",
     "output_type": "stream",
     "text": [
      "[(8, 'Bólido Comidas preparadas', 'Martín Sommer', 'C/ Araquil, 67', 'Madrid', '28023', 'Spain'), (22, 'FISSA Fabrica Inter. Salchichas S.A.', 'Diego Roel', 'C/ Moralzarzal, 86', 'Madrid', '28034', 'Spain'), (29, 'Galería del gastrónomo', 'Eduardo Saavedra', 'Rambla de Cataluña, 23', 'Barcelona', '08022', 'Spain'), (30, 'Godos Cocina Típica', 'José Pedro Freyre', 'C/ Romero, 33', 'Sevilla', '41101', 'Spain'), (69, 'Romero y tomillo', 'Alejandra Camino', 'Gran Vía, 1', 'Madrid', '28001', 'Spain')]\n"
     ]
    }
   ],
   "execution_count": 691
  },
  {
   "metadata": {
    "ExecuteTime": {
     "end_time": "2024-07-10T08:15:17.590318Z",
     "start_time": "2024-07-10T08:15:17.588092Z"
    }
   },
   "cell_type": "code",
   "source": [
    "print(send_query(\"\"\"\n",
    "SELECT * FROM Customers\n",
    "WHERE Country IN ('Germany', 'France', 'UK');\n",
    "\"\"\"))"
   ],
   "id": "a8588cc41807c286",
   "outputs": [
    {
     "name": "stdout",
     "output_type": "stream",
     "text": [
      "[(1, 'Alfreds Futterkiste', 'Maria Anders', 'Obere Str. 57', 'Berlin', '12209', 'Germany'), (4, 'Around the Horn', 'Thomas Hardy', '120 Hanover Sq.', 'London', 'WA1 1DP', 'UK'), (6, 'Blauer See Delikatessen', 'Hanna Moos', 'Forsterstr. 57', 'Mannheim', '68306', 'Germany'), (7, 'Blondel père et fils', 'Frédérique Citeaux', '24, place Kléber', 'Strasbourg', '67000', 'France'), (9, \"Bon app'\", 'Laurence Lebihans', '12, rue des Bouchers', 'Marseille', '13008', 'France'), (11, \"B's Beverages\", 'Victoria Ashworth', 'Fauntleroy Circus', 'London', 'EC2 5NT', 'UK'), (16, 'Consolidated Holdings', 'Elizabeth Brown', 'Berkeley Gardens 12 Brewery', 'London', 'WX1 6LT', 'UK'), (17, 'Drachenblut Delikatessend', 'Sven Ottlieb', 'Walserweg 21', 'Aachen', '52066', 'Germany'), (18, 'Du monde entier', 'Janine Labrune', '67, rue des Cinquante Otages', 'Nantes', '44000', 'France'), (19, 'Eastern Connection', 'Ann Devon', '35 King George', 'London', 'WX3 6FW', 'UK'), (23, 'Folies gourmandes', 'Martine Rancé', '184, chaussée de Tournai', 'Lille', '59000', 'France'), (25, 'Frankenversand', 'Peter Franken', 'Berliner Platz 43', 'München', '80805', 'Germany'), (26, 'France restauration', 'Carine Schmitt', '54, rue Royale', 'Nantes', '44000', 'France'), (38, 'Island Trading', 'Helen Bennett', 'Garden House Crowther Way', 'Cowes', 'PO31 7PJ', 'UK'), (39, 'Königlich Essen', 'Philip Cramer', 'Maubelstr. 90', 'Brandenburg', '14776', 'Germany'), (40, \"La corne d'abondance\", 'Daniel Tonini', \"67, avenue de l'Europe\", 'Versailles', '78000', 'France'), (41, \"La maison d'Asie\", 'Annette Roulet', '1 rue Alsace-Lorraine', 'Toulouse', '31000', 'France'), (44, 'Lehmanns Marktstand', 'Renate Messner', 'Magazinweg 7', 'Frankfurt a.M.', '60528', 'Germany'), (52, 'Morgenstern Gesundkost', 'Alexander Feuer', 'Heerstr. 22', 'Leipzig', '04179', 'Germany'), (53, 'North/South', 'Simon Crowther', 'South House 300 Queensbridge', 'London', 'SW7 1RZ', 'UK'), (56, 'Ottilies Käseladen', 'Henriette Pfalzheim', 'Mehrheimerstr. 369', 'Köln', '50739', 'Germany'), (57, 'Paris spécialités', 'Marie Bertrand', '265, boulevard Charonne', 'Paris', '75012', 'France'), (63, 'QUICK-Stop', 'Horst Kloss', 'Taucherstraße 10', 'Cunewalde', '01307', 'Germany'), (72, 'Seven Seas Imports', 'Hari Kumar', '90 Wadhurst Rd.', 'London', 'OX15 4NB', 'UK'), (74, 'Spécialités du monde', 'Dominique Perrier', '25, rue Lauriston', 'Paris', '75016', 'France'), (79, 'Toms Spezialitäten', 'Karin Josephs', 'Luisenstr. 48', 'Münster', '44087', 'Germany'), (84, 'Victuailles en stock', 'Mary Saveley', '2, rue du Commerce', 'Lyon', '69004', 'France'), (85, 'Vins et alcools Chevalier', 'Paul Henriot', \"59 rue de l'Abbaye\", 'Reims', '51100', 'France'), (86, 'Die Wandernde Kuh', 'Rita Müller', 'Adenauerallee 900', 'Stuttgart', '70563', 'Germany')]\n"
     ]
    }
   ],
   "execution_count": 692
  },
  {
   "metadata": {
    "ExecuteTime": {
     "end_time": "2024-07-10T08:15:17.660515Z",
     "start_time": "2024-07-10T08:15:17.658159Z"
    }
   },
   "cell_type": "code",
   "source": [
    "print(send_query(\"\"\"\n",
    "SELECT * FROM Customers\n",
    "WHERE Country NOT IN ('Germany', 'France', 'UK');\n",
    "\"\"\"))"
   ],
   "id": "bf6f2aa2fc89005c",
   "outputs": [
    {
     "name": "stdout",
     "output_type": "stream",
     "text": [
      "[(2, 'Ana Trujillo Emparedados y helados', 'Ana Trujillo', 'Avda. de la Constitución 2222', 'México D.F.', '05021', 'Mexico'), (3, 'Antonio Moreno Taquería', 'Antonio Moreno', 'Mataderos 2312', 'México D.F.', '05023', 'Mexico'), (5, 'Berglunds snabbköp', 'Christina Berglund', 'Berguvsvägen 8', 'Luleå', 'S-958 22', 'Sweden'), (8, 'Bólido Comidas preparadas', 'Martín Sommer', 'C/ Araquil, 67', 'Madrid', '28023', 'Spain'), (10, 'Bottom-Dollar Marketse', 'Elizabeth Lincoln', '23 Tsawassen Blvd.', 'Tsawassen', 'T2F 8M4', 'Canada'), (12, 'Cactus Comidas para llevar', 'Patricio Simpson', 'Cerrito 333', 'Buenos Aires', '1010', 'Argentina'), (13, 'Centro comercial Moctezuma', 'Francisco Chang', 'Sierras de Granada 9993', 'México D.F.', '05022', 'Mexico'), (14, 'Chop-suey Chinese', 'Yang Wang', 'Hauptstr. 29', 'Bern', '3012', 'Switzerland'), (15, 'Comércio Mineiro', 'Pedro Afonso', 'Av. dos Lusíadas, 23', 'São Paulo', '05432-043', 'Brazil'), (20, 'Ernst Handel', 'Roland Mendel', 'Kirchgasse 6', 'Graz', '8010', 'Austria'), (21, 'Familia Arquibaldo', 'Aria Cruz', 'Rua Orós, 92', 'São Paulo', '05442-030', 'Brazil'), (22, 'FISSA Fabrica Inter. Salchichas S.A.', 'Diego Roel', 'C/ Moralzarzal, 86', 'Madrid', '28034', 'Spain'), (24, 'Folk och fä HB', 'Maria Larsson', 'Åkergatan 24', 'Bräcke', 'S-844 67', 'Sweden'), (27, 'Franchi S.p.A.', 'Paolo Accorti', 'Via Monte Bianco 34', 'Torino', '10100', 'Italy'), (28, 'Furia Bacalhau e Frutos do Mar', 'Lino Rodriguez', 'Jardim das rosas n. 32', 'Lisboa', '1675', 'Portugal'), (29, 'Galería del gastrónomo', 'Eduardo Saavedra', 'Rambla de Cataluña, 23', 'Barcelona', '08022', 'Spain'), (30, 'Godos Cocina Típica', 'José Pedro Freyre', 'C/ Romero, 33', 'Sevilla', '41101', 'Spain'), (31, 'Gourmet Lanchonetes', 'André Fonseca', 'Av. Brasil, 442', 'Campinas', '04876-786', 'Brazil'), (32, 'Great Lakes Food Market', 'Howard Snyder', '2732 Baker Blvd.', 'Eugene', '97403', 'USA'), (33, 'GROSELLA-Restaurante', 'Manuel Pereira', '5ª Ave. Los Palos Grandes', 'Caracas', '1081', 'Venezuela'), (34, 'Hanari Carnes', 'Mario Pontes', 'Rua do Paço, 67', 'Rio de Janeiro', '05454-876', 'Brazil'), (35, 'HILARIÓN-Abastos', 'Carlos Hernández', 'Carrera 22 con Ave. Carlos Soublette #8-35', 'San Cristóbal', '5022', 'Venezuela'), (36, 'Hungry Coyote Import Store', 'Yoshi Latimer', 'City Center Plaza 516 Main St.', 'Elgin', '97827', 'USA'), (37, 'Hungry Owl All-Night Grocers', 'Patricia McKenna', '8 Johnstown Road', 'Cork', '', 'Ireland'), (42, 'Laughing Bacchus Wine Cellars', 'Yoshi Tannamuri', '1900 Oak St.', 'Vancouver', 'V3F 2K1', 'Canada'), (43, 'Lazy K Kountry Store', 'John Steel', '12 Orchestra Terrace', 'Walla Walla', '99362', 'USA'), (45, \"Let's Stop N Shop\", 'Jaime Yorres', '87 Polk St. Suite 5', 'San Francisco', '94117', 'USA'), (46, 'LILA-Supermercado', 'Carlos González', 'Carrera 52 con Ave. Bolívar #65-98 Llano Largo', 'Barquisimeto', '3508', 'Venezuela'), (47, 'LINO-Delicateses', 'Felipe Izquierdo', 'Ave. 5 de Mayo Porlamar', 'I. de Margarita', '4980', 'Venezuela'), (48, 'Lonesome Pine Restaurant', 'Fran Wilson', '89 Chiaroscuro Rd.', 'Portland', '97219', 'USA'), (49, 'Magazzini Alimentari Riuniti', 'Giovanni Rovelli', 'Via Ludovico il Moro 22', 'Bergamo', '24100', 'Italy'), (50, 'Maison Dewey', 'Catherine Dewey', 'Rue Joseph-Bens 532', 'Bruxelles', 'B-1180', 'Belgium'), (51, 'Mère Paillarde', 'Jean Fresnière', '43 rue St. Laurent', 'Montréal', 'H1J 1C3', 'Canada'), (54, 'Océano Atlántico Ltda.', 'Yvonne Moncada', 'Ing. Gustavo Moncada 8585 Piso 20-A', 'Buenos Aires', '1010', 'Argentina'), (55, 'Old World Delicatessen', 'Rene Phillips', '2743 Bering St.', 'Anchorage', '99508', 'USA'), (58, 'Pericles Comidas clásicas', 'Guillermo Fernández', 'Calle Dr. Jorge Cash 321', 'México D.F.', '05033', 'Mexico'), (59, 'Piccolo und mehr', 'Georg Pipps', 'Geislweg 14', 'Salzburg', '5020', 'Austria'), (60, 'Princesa Isabel Vinhoss', 'Isabel de Castro', 'Estrada da saúde n. 58', 'Lisboa', '1756', 'Portugal'), (61, 'Que Delícia', 'Bernardo Batista', 'Rua da Panificadora, 12', 'Rio de Janeiro', '02389-673', 'Brazil'), (62, 'Queen Cozinha', 'Lúcia Carvalho', 'Alameda dos Canàrios, 891', 'São Paulo', '05487-020', 'Brazil'), (64, 'Rancho grande', 'Sergio Gutiérrez', 'Av. del Libertador 900', 'Buenos Aires', '1010', 'Argentina'), (65, 'Rattlesnake Canyon Grocery', 'Paula Wilson', '2817 Milton Dr.', 'Albuquerque', '87110', 'USA'), (66, 'Reggiani Caseifici', 'Maurizio Moroni', 'Strada Provinciale 124', 'Reggio Emilia', '42100', 'Italy'), (67, 'Ricardo Adocicados', 'Janete Limeira', 'Av. Copacabana, 267', 'Rio de Janeiro', '02389-890', 'Brazil'), (68, 'Richter Supermarkt', 'Michael Holz', 'Grenzacherweg 237', 'Genève', '1203', 'Switzerland'), (69, 'Romero y tomillo', 'Alejandra Camino', 'Gran Vía, 1', 'Madrid', '28001', 'Spain'), (70, 'Santé Gourmet', 'Jonas Bergulfsen', 'Erling Skakkes gate 78', 'Stavern', '4110', 'Norway'), (71, 'Save-a-lot Markets', 'Jose Pavarotti', '187 Suffolk Ln.', 'Boise', '83720', 'USA'), (73, 'Simons bistro', 'Jytte Petersen', 'Vinbæltet 34', 'København', '1734', 'Denmark'), (75, 'Split Rail Beer & Ale', 'Art Braunschweiger', 'P.O. Box 555', 'Lander', '82520', 'USA'), (76, 'Suprêmes délices', 'Pascale Cartrain', 'Boulevard Tirou, 255', 'Charleroi', 'B-6000', 'Belgium'), (77, 'The Big Cheese', 'Liz Nixon', '89 Jefferson Way Suite 2', 'Portland', '97201', 'USA'), (78, 'The Cracker Box', 'Liu Wong', '55 Grizzly Peak Rd.', 'Butte', '59801', 'USA'), (80, 'Tortuga Restaurante', 'Miguel Angel Paolino', 'Avda. Azteca 123', 'México D.F.', '05033', 'Mexico'), (81, 'Tradição Hipermercados', 'Anabela Domingues', 'Av. Inês de Castro, 414', 'São Paulo', '05634-030', 'Brazil'), (82, \"Trail's Head Gourmet Provisioners\", 'Helvetius Nagy', '722 DaVinci Blvd.', 'Kirkland', '98034', 'USA'), (83, 'Vaffeljernet', 'Palle Ibsen', 'Smagsløget 45', 'Århus', '8200', 'Denmark'), (87, 'Wartian Herkku', 'Pirkko Koskitalo', 'Torikatu 38', 'Oulu', '90110', 'Finland'), (88, 'Wellington Importadora', 'Paula Parente', 'Rua do Mercado, 12', 'Resende', '08737-363', 'Brazil'), (89, 'White Clover Markets', 'Karl Jablonski', '305 - 14th Ave. S. Suite 3B', 'Seattle', '98128', 'USA'), (90, 'Wilman Kala', 'Matti Karttunen', 'Keskuskatu 45', 'Helsinki', '21240', 'Finland'), (91, 'Wolski', 'Zbyszek', 'ul. Filtrowa 68', 'Walla', '01-012', 'Poland')]\n"
     ]
    }
   ],
   "execution_count": 693
  },
  {
   "metadata": {
    "ExecuteTime": {
     "end_time": "2024-07-10T08:15:17.840275Z",
     "start_time": "2024-07-10T08:15:17.837880Z"
    }
   },
   "cell_type": "code",
   "source": [
    "print(send_query(\"\"\"\n",
    "SELECT * FROM Customers\n",
    "WHERE CustomerID IN (SELECT CustomerID FROM Orders);\n",
    "\"\"\"))"
   ],
   "id": "a454cce92609e589",
   "outputs": [
    {
     "name": "stdout",
     "output_type": "stream",
     "text": [
      "[(2, 'Ana Trujillo Emparedados y helados', 'Ana Trujillo', 'Avda. de la Constitución 2222', 'México D.F.', '05021', 'Mexico'), (3, 'Antonio Moreno Taquería', 'Antonio Moreno', 'Mataderos 2312', 'México D.F.', '05023', 'Mexico'), (4, 'Around the Horn', 'Thomas Hardy', '120 Hanover Sq.', 'London', 'WA1 1DP', 'UK'), (5, 'Berglunds snabbköp', 'Christina Berglund', 'Berguvsvägen 8', 'Luleå', 'S-958 22', 'Sweden'), (7, 'Blondel père et fils', 'Frédérique Citeaux', '24, place Kléber', 'Strasbourg', '67000', 'France'), (8, 'Bólido Comidas preparadas', 'Martín Sommer', 'C/ Araquil, 67', 'Madrid', '28023', 'Spain'), (9, \"Bon app'\", 'Laurence Lebihans', '12, rue des Bouchers', 'Marseille', '13008', 'France'), (10, 'Bottom-Dollar Marketse', 'Elizabeth Lincoln', '23 Tsawassen Blvd.', 'Tsawassen', 'T2F 8M4', 'Canada'), (11, \"B's Beverages\", 'Victoria Ashworth', 'Fauntleroy Circus', 'London', 'EC2 5NT', 'UK'), (13, 'Centro comercial Moctezuma', 'Francisco Chang', 'Sierras de Granada 9993', 'México D.F.', '05022', 'Mexico'), (14, 'Chop-suey Chinese', 'Yang Wang', 'Hauptstr. 29', 'Bern', '3012', 'Switzerland'), (15, 'Comércio Mineiro', 'Pedro Afonso', 'Av. dos Lusíadas, 23', 'São Paulo', '05432-043', 'Brazil'), (16, 'Consolidated Holdings', 'Elizabeth Brown', 'Berkeley Gardens 12 Brewery', 'London', 'WX1 6LT', 'UK'), (17, 'Drachenblut Delikatessend', 'Sven Ottlieb', 'Walserweg 21', 'Aachen', '52066', 'Germany'), (18, 'Du monde entier', 'Janine Labrune', '67, rue des Cinquante Otages', 'Nantes', '44000', 'France'), (19, 'Eastern Connection', 'Ann Devon', '35 King George', 'London', 'WX3 6FW', 'UK'), (20, 'Ernst Handel', 'Roland Mendel', 'Kirchgasse 6', 'Graz', '8010', 'Austria'), (21, 'Familia Arquibaldo', 'Aria Cruz', 'Rua Orós, 92', 'São Paulo', '05442-030', 'Brazil'), (23, 'Folies gourmandes', 'Martine Rancé', '184, chaussée de Tournai', 'Lille', '59000', 'France'), (24, 'Folk och fä HB', 'Maria Larsson', 'Åkergatan 24', 'Bräcke', 'S-844 67', 'Sweden'), (25, 'Frankenversand', 'Peter Franken', 'Berliner Platz 43', 'München', '80805', 'Germany'), (27, 'Franchi S.p.A.', 'Paolo Accorti', 'Via Monte Bianco 34', 'Torino', '10100', 'Italy'), (28, 'Furia Bacalhau e Frutos do Mar', 'Lino Rodriguez', 'Jardim das rosas n. 32', 'Lisboa', '1675', 'Portugal'), (29, 'Galería del gastrónomo', 'Eduardo Saavedra', 'Rambla de Cataluña, 23', 'Barcelona', '08022', 'Spain'), (30, 'Godos Cocina Típica', 'José Pedro Freyre', 'C/ Romero, 33', 'Sevilla', '41101', 'Spain'), (31, 'Gourmet Lanchonetes', 'André Fonseca', 'Av. Brasil, 442', 'Campinas', '04876-786', 'Brazil'), (33, 'GROSELLA-Restaurante', 'Manuel Pereira', '5ª Ave. Los Palos Grandes', 'Caracas', '1081', 'Venezuela'), (34, 'Hanari Carnes', 'Mario Pontes', 'Rua do Paço, 67', 'Rio de Janeiro', '05454-876', 'Brazil'), (35, 'HILARIÓN-Abastos', 'Carlos Hernández', 'Carrera 22 con Ave. Carlos Soublette #8-35', 'San Cristóbal', '5022', 'Venezuela'), (36, 'Hungry Coyote Import Store', 'Yoshi Latimer', 'City Center Plaza 516 Main St.', 'Elgin', '97827', 'USA'), (37, 'Hungry Owl All-Night Grocers', 'Patricia McKenna', '8 Johnstown Road', 'Cork', '', 'Ireland'), (38, 'Island Trading', 'Helen Bennett', 'Garden House Crowther Way', 'Cowes', 'PO31 7PJ', 'UK'), (39, 'Königlich Essen', 'Philip Cramer', 'Maubelstr. 90', 'Brandenburg', '14776', 'Germany'), (41, \"La maison d'Asie\", 'Annette Roulet', '1 rue Alsace-Lorraine', 'Toulouse', '31000', 'France'), (44, 'Lehmanns Marktstand', 'Renate Messner', 'Magazinweg 7', 'Frankfurt a.M.', '60528', 'Germany'), (46, 'LILA-Supermercado', 'Carlos González', 'Carrera 52 con Ave. Bolívar #65-98 Llano Largo', 'Barquisimeto', '3508', 'Venezuela'), (47, 'LINO-Delicateses', 'Felipe Izquierdo', 'Ave. 5 de Mayo Porlamar', 'I. de Margarita', '4980', 'Venezuela'), (48, 'Lonesome Pine Restaurant', 'Fran Wilson', '89 Chiaroscuro Rd.', 'Portland', '97219', 'USA'), (49, 'Magazzini Alimentari Riuniti', 'Giovanni Rovelli', 'Via Ludovico il Moro 22', 'Bergamo', '24100', 'Italy'), (51, 'Mère Paillarde', 'Jean Fresnière', '43 rue St. Laurent', 'Montréal', 'H1J 1C3', 'Canada'), (52, 'Morgenstern Gesundkost', 'Alexander Feuer', 'Heerstr. 22', 'Leipzig', '04179', 'Germany'), (54, 'Océano Atlántico Ltda.', 'Yvonne Moncada', 'Ing. Gustavo Moncada 8585 Piso 20-A', 'Buenos Aires', '1010', 'Argentina'), (55, 'Old World Delicatessen', 'Rene Phillips', '2743 Bering St.', 'Anchorage', '99508', 'USA'), (56, 'Ottilies Käseladen', 'Henriette Pfalzheim', 'Mehrheimerstr. 369', 'Köln', '50739', 'Germany'), (58, 'Pericles Comidas clásicas', 'Guillermo Fernández', 'Calle Dr. Jorge Cash 321', 'México D.F.', '05033', 'Mexico'), (59, 'Piccolo und mehr', 'Georg Pipps', 'Geislweg 14', 'Salzburg', '5020', 'Austria'), (60, 'Princesa Isabel Vinhoss', 'Isabel de Castro', 'Estrada da saúde n. 58', 'Lisboa', '1756', 'Portugal'), (61, 'Que Delícia', 'Bernardo Batista', 'Rua da Panificadora, 12', 'Rio de Janeiro', '02389-673', 'Brazil'), (62, 'Queen Cozinha', 'Lúcia Carvalho', 'Alameda dos Canàrios, 891', 'São Paulo', '05487-020', 'Brazil'), (63, 'QUICK-Stop', 'Horst Kloss', 'Taucherstraße 10', 'Cunewalde', '01307', 'Germany'), (65, 'Rattlesnake Canyon Grocery', 'Paula Wilson', '2817 Milton Dr.', 'Albuquerque', '87110', 'USA'), (66, 'Reggiani Caseifici', 'Maurizio Moroni', 'Strada Provinciale 124', 'Reggio Emilia', '42100', 'Italy'), (67, 'Ricardo Adocicados', 'Janete Limeira', 'Av. Copacabana, 267', 'Rio de Janeiro', '02389-890', 'Brazil'), (68, 'Richter Supermarkt', 'Michael Holz', 'Grenzacherweg 237', 'Genève', '1203', 'Switzerland'), (69, 'Romero y tomillo', 'Alejandra Camino', 'Gran Vía, 1', 'Madrid', '28001', 'Spain'), (70, 'Santé Gourmet', 'Jonas Bergulfsen', 'Erling Skakkes gate 78', 'Stavern', '4110', 'Norway'), (71, 'Save-a-lot Markets', 'Jose Pavarotti', '187 Suffolk Ln.', 'Boise', '83720', 'USA'), (72, 'Seven Seas Imports', 'Hari Kumar', '90 Wadhurst Rd.', 'London', 'OX15 4NB', 'UK'), (73, 'Simons bistro', 'Jytte Petersen', 'Vinbæltet 34', 'København', '1734', 'Denmark'), (75, 'Split Rail Beer & Ale', 'Art Braunschweiger', 'P.O. Box 555', 'Lander', '82520', 'USA'), (76, 'Suprêmes délices', 'Pascale Cartrain', 'Boulevard Tirou, 255', 'Charleroi', 'B-6000', 'Belgium'), (77, 'The Big Cheese', 'Liz Nixon', '89 Jefferson Way Suite 2', 'Portland', '97201', 'USA'), (79, 'Toms Spezialitäten', 'Karin Josephs', 'Luisenstr. 48', 'Münster', '44087', 'Germany'), (80, 'Tortuga Restaurante', 'Miguel Angel Paolino', 'Avda. Azteca 123', 'México D.F.', '05033', 'Mexico'), (81, 'Tradição Hipermercados', 'Anabela Domingues', 'Av. Inês de Castro, 414', 'São Paulo', '05634-030', 'Brazil'), (83, 'Vaffeljernet', 'Palle Ibsen', 'Smagsløget 45', 'Århus', '8200', 'Denmark'), (84, 'Victuailles en stock', 'Mary Saveley', '2, rue du Commerce', 'Lyon', '69004', 'France'), (85, 'Vins et alcools Chevalier', 'Paul Henriot', \"59 rue de l'Abbaye\", 'Reims', '51100', 'France'), (86, 'Die Wandernde Kuh', 'Rita Müller', 'Adenauerallee 900', 'Stuttgart', '70563', 'Germany'), (87, 'Wartian Herkku', 'Pirkko Koskitalo', 'Torikatu 38', 'Oulu', '90110', 'Finland'), (88, 'Wellington Importadora', 'Paula Parente', 'Rua do Mercado, 12', 'Resende', '08737-363', 'Brazil'), (89, 'White Clover Markets', 'Karl Jablonski', '305 - 14th Ave. S. Suite 3B', 'Seattle', '98128', 'USA'), (90, 'Wilman Kala', 'Matti Karttunen', 'Keskuskatu 45', 'Helsinki', '21240', 'Finland'), (91, 'Wolski', 'Zbyszek', 'ul. Filtrowa 68', 'Walla', '01-012', 'Poland')]\n"
     ]
    }
   ],
   "execution_count": 694
  },
  {
   "metadata": {
    "ExecuteTime": {
     "end_time": "2024-07-10T08:15:17.914406Z",
     "start_time": "2024-07-10T08:15:17.912130Z"
    }
   },
   "cell_type": "code",
   "source": [
    "print(send_query(\"\"\"\n",
    "SELECT * FROM Customers\n",
    "WHERE CustomerID NOT IN (SELECT CustomerID FROM Orders);\n",
    "\"\"\"))"
   ],
   "id": "e94fcdf0cd5c69df",
   "outputs": [
    {
     "name": "stdout",
     "output_type": "stream",
     "text": [
      "[(1, 'Alfreds Futterkiste', 'Maria Anders', 'Obere Str. 57', 'Berlin', '12209', 'Germany'), (6, 'Blauer See Delikatessen', 'Hanna Moos', 'Forsterstr. 57', 'Mannheim', '68306', 'Germany'), (12, 'Cactus Comidas para llevar', 'Patricio Simpson', 'Cerrito 333', 'Buenos Aires', '1010', 'Argentina'), (22, 'FISSA Fabrica Inter. Salchichas S.A.', 'Diego Roel', 'C/ Moralzarzal, 86', 'Madrid', '28034', 'Spain'), (26, 'France restauration', 'Carine Schmitt', '54, rue Royale', 'Nantes', '44000', 'France'), (32, 'Great Lakes Food Market', 'Howard Snyder', '2732 Baker Blvd.', 'Eugene', '97403', 'USA'), (40, \"La corne d'abondance\", 'Daniel Tonini', \"67, avenue de l'Europe\", 'Versailles', '78000', 'France'), (42, 'Laughing Bacchus Wine Cellars', 'Yoshi Tannamuri', '1900 Oak St.', 'Vancouver', 'V3F 2K1', 'Canada'), (43, 'Lazy K Kountry Store', 'John Steel', '12 Orchestra Terrace', 'Walla Walla', '99362', 'USA'), (45, \"Let's Stop N Shop\", 'Jaime Yorres', '87 Polk St. Suite 5', 'San Francisco', '94117', 'USA'), (50, 'Maison Dewey', 'Catherine Dewey', 'Rue Joseph-Bens 532', 'Bruxelles', 'B-1180', 'Belgium'), (53, 'North/South', 'Simon Crowther', 'South House 300 Queensbridge', 'London', 'SW7 1RZ', 'UK'), (57, 'Paris spécialités', 'Marie Bertrand', '265, boulevard Charonne', 'Paris', '75012', 'France'), (64, 'Rancho grande', 'Sergio Gutiérrez', 'Av. del Libertador 900', 'Buenos Aires', '1010', 'Argentina'), (74, 'Spécialités du monde', 'Dominique Perrier', '25, rue Lauriston', 'Paris', '75016', 'France'), (78, 'The Cracker Box', 'Liu Wong', '55 Grizzly Peak Rd.', 'Butte', '59801', 'USA'), (82, \"Trail's Head Gourmet Provisioners\", 'Helvetius Nagy', '722 DaVinci Blvd.', 'Kirkland', '98034', 'USA')]\n"
     ]
    }
   ],
   "execution_count": 695
  },
  {
   "metadata": {
    "ExecuteTime": {
     "end_time": "2024-07-10T08:15:18.070953Z",
     "start_time": "2024-07-10T08:15:18.068852Z"
    }
   },
   "cell_type": "code",
   "source": [
    "print(send_query(\"\"\"\n",
    "SELECT * FROM Products\n",
    "WHERE Price BETWEEN 10 AND 20;\n",
    "\"\"\"))"
   ],
   "id": "518f3252bc2a009c",
   "outputs": [
    {
     "name": "stdout",
     "output_type": "stream",
     "text": [
      "[(1, 'Chais', 1, 1, '10 boxes x 20 bags', 18.0), (2, 'Chang', 1, 1, '24 - 12 oz bottles', 19.0), (3, 'Aniseed Syrup', 1, 2, '12 - 550 ml bottles', 10.0), (15, 'Genen Shouyu', 6, 2, '24 - 250 ml bottles', 15.5), (16, 'Pavlova', 7, 3, '32 - 500 g boxes', 17.45), (21, \"Sir Rodney's Scones\", 8, 3, '24 pkgs. x 4 pieces', 10.0), (25, 'NuNuCa Nuß-Nougat-Creme', 11, 3, '20 - 450 g glasses', 14.0), (31, 'Gorgonzola Telino', 14, 4, '12 - 100 g pkgs', 12.5), (34, 'Sasquatch Ale', 16, 1, '24 - 12 oz bottles', 14.0), (35, 'Steeleye Stout', 16, 1, '24 - 12 oz bottles', 18.0), (36, 'Inlagd Sill', 17, 8, '24 - 250 g jars', 19.0), (39, 'Chartreuse verte', 18, 1, '750 cc per bottle', 18.0), (40, 'Boston Crab Meat', 19, 8, '24 - 4 oz tins', 18.4), (42, 'Singaporean Hokkien Fried Mee', 20, 5, '32 - 1 kg pkgs.', 14.0), (44, 'Gula Malacca', 20, 2, '20 - 2 kg bags', 19.45), (46, 'Spegesild', 21, 8, '4 - 450 g glasses', 12.0), (48, 'Chocolade', 22, 3, '10 pkgs.', 12.75), (49, 'Maxilaku', 23, 3, '24 - 50 g pkgs.', 20.0), (50, 'Valkoinen suklaa', 23, 3, '12 - 100 g bars', 16.25), (57, 'Ravioli Angelo', 26, 5, '24 - 250 g pkgs.', 19.5), (58, 'Escargots de Bourgogne', 27, 8, '24 pieces', 13.25), (66, 'Louisiana Hot Spiced Okra', 2, 2, '24 - 8 oz jars', 17.0), (67, 'Laughing Lumberjack Lager', 16, 1, '24 - 12 oz bottles', 14.0), (68, 'Scottish Longbreads', 8, 3, '10 boxes x 8 pieces', 12.5), (70, 'Outback Lager', 7, 1, '24 - 355 ml bottles', 15.0), (73, 'Röd Kaviar', 17, 8, '24 - 150 g jars', 15.0), (74, 'Longlife Tofu', 4, 7, '5 kg pkg.', 10.0), (76, 'Lakkalikööri', 23, 1, '500 ml', 18.0), (77, 'Original Frankfurter grüne Soße', 12, 2, '12 boxes', 13.0)]\n"
     ]
    }
   ],
   "execution_count": 696
  },
  {
   "metadata": {
    "ExecuteTime": {
     "end_time": "2024-07-10T08:15:18.120932Z",
     "start_time": "2024-07-10T08:15:18.118576Z"
    }
   },
   "cell_type": "code",
   "source": [
    "print(send_query(\"\"\"\n",
    "SELECT * FROM Products\n",
    "WHERE Price NOT BETWEEN 10 AND 20;\n",
    "\"\"\"))"
   ],
   "id": "e6a5d1b7e45515a1",
   "outputs": [
    {
     "name": "stdout",
     "output_type": "stream",
     "text": [
      "[(4, \"Chef Anton's Cajun Seasoning\", 2, 2, '48 - 6 oz jars', 22.0), (5, \"Chef Anton's Gumbo Mix\", 2, 2, '36 boxes', 21.35), (6, \"Grandma's Boysenberry Spread\", 3, 2, '12 - 8 oz jars', 25.0), (7, \"Uncle Bob's Organic Dried Pears\", 3, 7, '12 - 1 lb pkgs.', 30.0), (8, 'Northwoods Cranberry Sauce', 3, 2, '12 - 12 oz jars', 40.0), (9, 'Mishi Kobe Niku', 4, 6, '18 - 500 g pkgs.', 97.0), (10, 'Ikura', 4, 8, '12 - 200 ml jars', 31.0), (11, 'Queso Cabrales', 5, 4, '1 kg pkg.', 21.0), (12, 'Queso Manchego La Pastora', 5, 4, '10 - 500 g pkgs.', 38.0), (13, 'Konbu', 6, 8, '2 kg box', 6.0), (14, 'Tofu', 6, 7, '40 - 100 g pkgs.', 23.25), (17, 'Alice Mutton', 7, 6, '20 - 1 kg tins', 39.0), (18, 'Carnarvon Tigers', 7, 8, '16 kg pkg.', 62.5), (19, 'Teatime Chocolate Biscuits', 8, 3, '10 boxes x 12 pieces', 9.2), (20, \"Sir Rodney's Marmalade\", 8, 3, '30 gift boxes', 81.0), (22, \"Gustaf's Knäckebröd\", 9, 5, '24 - 500 g pkgs.', 21.0), (23, 'Tunnbröd', 9, 5, '12 - 250 g pkgs.', 9.0), (24, 'Guaraná Fantástica', 10, 1, '12 - 355 ml cans', 4.5), (26, 'Gumbär Gummibärchen', 11, 3, '100 - 250 g bags', 31.23), (27, 'Schoggi Schokolade', 11, 3, '100 - 100 g pieces', 43.9), (28, 'Rössle Sauerkraut', 12, 7, '25 - 825 g cans', 45.6), (29, 'Thüringer Rostbratwurst', 12, 6, '50 bags x 30 sausgs.', 123.79), (30, 'Nord-Ost Matjeshering', 13, 8, '10 - 200 g glasses', 25.89), (32, 'Mascarpone Fabioli', 14, 4, '24 - 200 g pkgs.', 32.0), (33, 'Geitost', 15, 4, '500 g', 2.5), (37, 'Gravad lax', 17, 8, '12 - 500 g pkgs.', 26.0), (38, 'Côte de Blaye', 18, 1, '12 - 75 cl bottles', 263.5), (41, \"Jack's New England Clam Chowder\", 19, 8, '12 - 12 oz cans', 9.65), (43, 'Ipoh Coffee', 20, 1, '16 - 500 g tins', 46.0), (45, 'Røgede sild', 21, 8, '1k pkg.', 9.5), (47, 'Zaanse koeken', 22, 3, '10 - 4 oz boxes', 9.5), (51, 'Manjimup Dried Apples', 24, 7, '50 - 300 g pkgs.', 53.0), (52, 'Filo Mix', 24, 5, '16 - 2 kg boxes', 7.0), (53, 'Perth Pasties', 24, 6, '48 pieces', 32.8), (54, 'Tourtière', 25, 6, '16 pies', 7.45), (55, 'Pâté chinois', 25, 6, '24 boxes x 2 pies', 24.0), (56, 'Gnocchi di nonna Alice', 26, 5, '24 - 250 g pkgs.', 38.0), (59, 'Raclette Courdavault', 28, 4, '5 kg pkg.', 55.0), (60, 'Camembert Pierrot', 28, 4, '15 - 300 g rounds', 34.0), (61, \"Sirop d'érable\", 29, 2, '24 - 500 ml bottles', 28.5), (62, 'Tarte au sucre', 29, 3, '48 pies', 49.3), (63, 'Vegie-spread', 7, 2, '15 - 625 g jars', 43.9), (64, 'Wimmers gute Semmelknödel', 12, 5, '20 bags x 4 pieces', 33.25), (65, 'Louisiana Fiery Hot Pepper Sauce', 2, 2, '32 - 8 oz bottles', 21.05), (69, 'Gudbrandsdalsost', 15, 4, '10 kg pkg.', 36.0), (71, 'Fløtemysost', 15, 4, '10 - 500 g pkgs.', 21.5), (72, 'Mozzarella di Giovanni', 14, 4, '24 - 200 g pkgs.', 34.8), (75, 'Rhönbräu Klosterbier', 12, 1, '24 - 0.5 l bottles', 7.75)]\n"
     ]
    }
   ],
   "execution_count": 697
  },
  {
   "metadata": {
    "ExecuteTime": {
     "end_time": "2024-07-10T08:15:18.267610Z",
     "start_time": "2024-07-10T08:15:18.265656Z"
    }
   },
   "cell_type": "code",
   "source": [
    "print(send_query(\"\"\"\n",
    "SELECT * FROM Products\n",
    "WHERE Price BETWEEN 10 AND 20\n",
    "AND CategoryID IN (1,2,3);\n",
    "\"\"\"))"
   ],
   "id": "4d9de5a23e9b71c",
   "outputs": [
    {
     "name": "stdout",
     "output_type": "stream",
     "text": [
      "[(1, 'Chais', 1, 1, '10 boxes x 20 bags', 18.0), (2, 'Chang', 1, 1, '24 - 12 oz bottles', 19.0), (3, 'Aniseed Syrup', 1, 2, '12 - 550 ml bottles', 10.0), (15, 'Genen Shouyu', 6, 2, '24 - 250 ml bottles', 15.5), (16, 'Pavlova', 7, 3, '32 - 500 g boxes', 17.45), (21, \"Sir Rodney's Scones\", 8, 3, '24 pkgs. x 4 pieces', 10.0), (25, 'NuNuCa Nuß-Nougat-Creme', 11, 3, '20 - 450 g glasses', 14.0), (34, 'Sasquatch Ale', 16, 1, '24 - 12 oz bottles', 14.0), (35, 'Steeleye Stout', 16, 1, '24 - 12 oz bottles', 18.0), (39, 'Chartreuse verte', 18, 1, '750 cc per bottle', 18.0), (44, 'Gula Malacca', 20, 2, '20 - 2 kg bags', 19.45), (48, 'Chocolade', 22, 3, '10 pkgs.', 12.75), (49, 'Maxilaku', 23, 3, '24 - 50 g pkgs.', 20.0), (50, 'Valkoinen suklaa', 23, 3, '12 - 100 g bars', 16.25), (66, 'Louisiana Hot Spiced Okra', 2, 2, '24 - 8 oz jars', 17.0), (67, 'Laughing Lumberjack Lager', 16, 1, '24 - 12 oz bottles', 14.0), (68, 'Scottish Longbreads', 8, 3, '10 boxes x 8 pieces', 12.5), (70, 'Outback Lager', 7, 1, '24 - 355 ml bottles', 15.0), (76, 'Lakkalikööri', 23, 1, '500 ml', 18.0), (77, 'Original Frankfurter grüne Soße', 12, 2, '12 boxes', 13.0)]\n"
     ]
    }
   ],
   "execution_count": 698
  },
  {
   "metadata": {
    "ExecuteTime": {
     "end_time": "2024-07-10T08:15:18.321288Z",
     "start_time": "2024-07-10T08:15:18.319302Z"
    }
   },
   "cell_type": "code",
   "source": [
    "print(send_query(\"\"\"\n",
    "SELECT * FROM Products\n",
    "WHERE ProductName BETWEEN 'Carnarvon Tigers' AND 'Mozzarella di Giovanni'\n",
    "ORDER BY ProductName;\n",
    "\"\"\"))"
   ],
   "id": "b4c12f70266b4fc9",
   "outputs": [
    {
     "name": "stdout",
     "output_type": "stream",
     "text": [
      "[(18, 'Carnarvon Tigers', 7, 8, '16 kg pkg.', 62.5), (1, 'Chais', 1, 1, '10 boxes x 20 bags', 18.0), (2, 'Chang', 1, 1, '24 - 12 oz bottles', 19.0), (39, 'Chartreuse verte', 18, 1, '750 cc per bottle', 18.0), (4, \"Chef Anton's Cajun Seasoning\", 2, 2, '48 - 6 oz jars', 22.0), (5, \"Chef Anton's Gumbo Mix\", 2, 2, '36 boxes', 21.35), (48, 'Chocolade', 22, 3, '10 pkgs.', 12.75), (38, 'Côte de Blaye', 18, 1, '12 - 75 cl bottles', 263.5), (58, 'Escargots de Bourgogne', 27, 8, '24 pieces', 13.25), (52, 'Filo Mix', 24, 5, '16 - 2 kg boxes', 7.0), (71, 'Fløtemysost', 15, 4, '10 - 500 g pkgs.', 21.5), (33, 'Geitost', 15, 4, '500 g', 2.5), (15, 'Genen Shouyu', 6, 2, '24 - 250 ml bottles', 15.5), (56, 'Gnocchi di nonna Alice', 26, 5, '24 - 250 g pkgs.', 38.0), (31, 'Gorgonzola Telino', 14, 4, '12 - 100 g pkgs', 12.5), (6, \"Grandma's Boysenberry Spread\", 3, 2, '12 - 8 oz jars', 25.0), (37, 'Gravad lax', 17, 8, '12 - 500 g pkgs.', 26.0), (24, 'Guaraná Fantástica', 10, 1, '12 - 355 ml cans', 4.5), (69, 'Gudbrandsdalsost', 15, 4, '10 kg pkg.', 36.0), (44, 'Gula Malacca', 20, 2, '20 - 2 kg bags', 19.45), (26, 'Gumbär Gummibärchen', 11, 3, '100 - 250 g bags', 31.23), (22, \"Gustaf's Knäckebröd\", 9, 5, '24 - 500 g pkgs.', 21.0), (10, 'Ikura', 4, 8, '12 - 200 ml jars', 31.0), (36, 'Inlagd Sill', 17, 8, '24 - 250 g jars', 19.0), (43, 'Ipoh Coffee', 20, 1, '16 - 500 g tins', 46.0), (41, \"Jack's New England Clam Chowder\", 19, 8, '12 - 12 oz cans', 9.65), (13, 'Konbu', 6, 8, '2 kg box', 6.0), (76, 'Lakkalikööri', 23, 1, '500 ml', 18.0), (67, 'Laughing Lumberjack Lager', 16, 1, '24 - 12 oz bottles', 14.0), (74, 'Longlife Tofu', 4, 7, '5 kg pkg.', 10.0), (65, 'Louisiana Fiery Hot Pepper Sauce', 2, 2, '32 - 8 oz bottles', 21.05), (66, 'Louisiana Hot Spiced Okra', 2, 2, '24 - 8 oz jars', 17.0), (51, 'Manjimup Dried Apples', 24, 7, '50 - 300 g pkgs.', 53.0), (32, 'Mascarpone Fabioli', 14, 4, '24 - 200 g pkgs.', 32.0), (49, 'Maxilaku', 23, 3, '24 - 50 g pkgs.', 20.0), (9, 'Mishi Kobe Niku', 4, 6, '18 - 500 g pkgs.', 97.0), (72, 'Mozzarella di Giovanni', 14, 4, '24 - 200 g pkgs.', 34.8)]\n"
     ]
    }
   ],
   "execution_count": 699
  },
  {
   "metadata": {
    "ExecuteTime": {
     "end_time": "2024-07-10T08:15:18.453449Z",
     "start_time": "2024-07-10T08:15:18.451469Z"
    }
   },
   "cell_type": "code",
   "source": [
    "print(send_query(\"\"\"\n",
    "SELECT * FROM Products\n",
    "WHERE ProductName BETWEEN \"Carnarvon Tigers\" AND \"Chef Anton's Cajun Seasoning\"\n",
    "ORDER BY ProductName;\n",
    "\"\"\"))"
   ],
   "id": "ce7f7dfa3196eb90",
   "outputs": [
    {
     "name": "stdout",
     "output_type": "stream",
     "text": [
      "[(18, 'Carnarvon Tigers', 7, 8, '16 kg pkg.', 62.5), (1, 'Chais', 1, 1, '10 boxes x 20 bags', 18.0), (2, 'Chang', 1, 1, '24 - 12 oz bottles', 19.0), (39, 'Chartreuse verte', 18, 1, '750 cc per bottle', 18.0), (4, \"Chef Anton's Cajun Seasoning\", 2, 2, '48 - 6 oz jars', 22.0)]\n"
     ]
    }
   ],
   "execution_count": 700
  },
  {
   "metadata": {
    "ExecuteTime": {
     "end_time": "2024-07-10T08:15:18.511722Z",
     "start_time": "2024-07-10T08:15:18.509468Z"
    }
   },
   "cell_type": "code",
   "source": [
    "print(send_query(\"\"\"\n",
    "SELECT * FROM Products\n",
    "WHERE ProductName NOT BETWEEN 'Carnarvon Tigers' AND 'Mozzarella di Giovanni'\n",
    "ORDER BY ProductName;\n",
    "\"\"\"))"
   ],
   "id": "83059208bcad97e9",
   "outputs": [
    {
     "name": "stdout",
     "output_type": "stream",
     "text": [
      "[(17, 'Alice Mutton', 7, 6, '20 - 1 kg tins', 39.0), (3, 'Aniseed Syrup', 1, 2, '12 - 550 ml bottles', 10.0), (40, 'Boston Crab Meat', 19, 8, '24 - 4 oz tins', 18.4), (60, 'Camembert Pierrot', 28, 4, '15 - 300 g rounds', 34.0), (30, 'Nord-Ost Matjeshering', 13, 8, '10 - 200 g glasses', 25.89), (8, 'Northwoods Cranberry Sauce', 3, 2, '12 - 12 oz jars', 40.0), (25, 'NuNuCa Nuß-Nougat-Creme', 11, 3, '20 - 450 g glasses', 14.0), (77, 'Original Frankfurter grüne Soße', 12, 2, '12 boxes', 13.0), (70, 'Outback Lager', 7, 1, '24 - 355 ml bottles', 15.0), (16, 'Pavlova', 7, 3, '32 - 500 g boxes', 17.45), (53, 'Perth Pasties', 24, 6, '48 pieces', 32.8), (55, 'Pâté chinois', 25, 6, '24 boxes x 2 pies', 24.0), (11, 'Queso Cabrales', 5, 4, '1 kg pkg.', 21.0), (12, 'Queso Manchego La Pastora', 5, 4, '10 - 500 g pkgs.', 38.0), (59, 'Raclette Courdavault', 28, 4, '5 kg pkg.', 55.0), (57, 'Ravioli Angelo', 26, 5, '24 - 250 g pkgs.', 19.5), (75, 'Rhönbräu Klosterbier', 12, 1, '24 - 0.5 l bottles', 7.75), (73, 'Röd Kaviar', 17, 8, '24 - 150 g jars', 15.0), (28, 'Rössle Sauerkraut', 12, 7, '25 - 825 g cans', 45.6), (45, 'Røgede sild', 21, 8, '1k pkg.', 9.5), (34, 'Sasquatch Ale', 16, 1, '24 - 12 oz bottles', 14.0), (27, 'Schoggi Schokolade', 11, 3, '100 - 100 g pieces', 43.9), (68, 'Scottish Longbreads', 8, 3, '10 boxes x 8 pieces', 12.5), (42, 'Singaporean Hokkien Fried Mee', 20, 5, '32 - 1 kg pkgs.', 14.0), (20, \"Sir Rodney's Marmalade\", 8, 3, '30 gift boxes', 81.0), (21, \"Sir Rodney's Scones\", 8, 3, '24 pkgs. x 4 pieces', 10.0), (61, \"Sirop d'érable\", 29, 2, '24 - 500 ml bottles', 28.5), (46, 'Spegesild', 21, 8, '4 - 450 g glasses', 12.0), (35, 'Steeleye Stout', 16, 1, '24 - 12 oz bottles', 18.0), (62, 'Tarte au sucre', 29, 3, '48 pies', 49.3), (19, 'Teatime Chocolate Biscuits', 8, 3, '10 boxes x 12 pieces', 9.2), (29, 'Thüringer Rostbratwurst', 12, 6, '50 bags x 30 sausgs.', 123.79), (14, 'Tofu', 6, 7, '40 - 100 g pkgs.', 23.25), (54, 'Tourtière', 25, 6, '16 pies', 7.45), (23, 'Tunnbröd', 9, 5, '12 - 250 g pkgs.', 9.0), (7, \"Uncle Bob's Organic Dried Pears\", 3, 7, '12 - 1 lb pkgs.', 30.0), (50, 'Valkoinen suklaa', 23, 3, '12 - 100 g bars', 16.25), (63, 'Vegie-spread', 7, 2, '15 - 625 g jars', 43.9), (64, 'Wimmers gute Semmelknödel', 12, 5, '20 bags x 4 pieces', 33.25), (47, 'Zaanse koeken', 22, 3, '10 - 4 oz boxes', 9.5)]\n"
     ]
    }
   ],
   "execution_count": 701
  },
  {
   "metadata": {
    "ExecuteTime": {
     "end_time": "2024-07-10T08:15:18.676165Z",
     "start_time": "2024-07-10T08:15:18.674327Z"
    }
   },
   "cell_type": "code",
   "source": [
    "print(send_query(\"\"\"\n",
    "SELECT * FROM Orders\n",
    "WHERE OrderDate BETWEEN #07/01/1996# AND #07/31/1996#;\n",
    "\"\"\"))"
   ],
   "id": "5913f438b3d3711e",
   "outputs": [
    {
     "name": "stdout",
     "output_type": "stream",
     "text": [
      "near \"#07\": syntax error\n",
      "None\n"
     ]
    }
   ],
   "execution_count": 702
  },
  {
   "metadata": {
    "ExecuteTime": {
     "end_time": "2024-07-10T08:15:18.767674Z",
     "start_time": "2024-07-10T08:15:18.765384Z"
    }
   },
   "cell_type": "code",
   "source": [
    "print(send_query(\"\"\"\n",
    "SELECT * FROM Orders\n",
    "WHERE OrderDate BETWEEN '1996-07-01' AND '1996-07-31';\n",
    "\"\"\"))"
   ],
   "id": "afd474a095b69769",
   "outputs": [
    {
     "name": "stdout",
     "output_type": "stream",
     "text": [
      "[(10248, 90, 5, '1996-07-04', 3), (10249, 81, 6, '1996-07-05', 1), (10250, 34, 4, '1996-07-08', 2), (10251, 84, 3, '1996-07-08', 1), (10252, 76, 4, '1996-07-09', 2), (10253, 34, 3, '1996-07-10', 2), (10254, 14, 5, '1996-07-11', 2), (10255, 68, 9, '1996-07-12', 3), (10256, 88, 3, '1996-07-15', 2), (10257, 35, 4, '1996-07-16', 3), (10258, 20, 1, '1996-07-17', 1), (10259, 13, 4, '1996-07-18', 3), (10260, 55, 4, '1996-07-19', 1), (10261, 61, 4, '1996-07-19', 2), (10262, 65, 8, '1996-07-22', 3), (10263, 20, 9, '1996-07-23', 3), (10264, 24, 6, '1996-07-24', 3), (10265, 7, 2, '1996-07-25', 1), (10266, 87, 3, '1996-07-26', 3), (10267, 25, 4, '1996-07-29', 1), (10268, 33, 8, '1996-07-30', 3), (10269, 89, 5, '1996-07-31', 1)]\n"
     ]
    }
   ],
   "execution_count": 703
  },
  {
   "metadata": {
    "ExecuteTime": {
     "end_time": "2024-07-10T08:15:18.920700Z",
     "start_time": "2024-07-10T08:15:18.918510Z"
    }
   },
   "cell_type": "code",
   "source": [
    "print(send_query(\"\"\"\n",
    "SELECT CustomerID AS ID\n",
    "FROM Customers;\n",
    "\"\"\"))"
   ],
   "id": "63f1b2c72617220c",
   "outputs": [
    {
     "name": "stdout",
     "output_type": "stream",
     "text": [
      "[(1,), (2,), (3,), (4,), (5,), (6,), (7,), (8,), (9,), (10,), (11,), (12,), (13,), (14,), (15,), (16,), (17,), (18,), (19,), (20,), (21,), (22,), (23,), (24,), (25,), (26,), (27,), (28,), (29,), (30,), (31,), (32,), (33,), (34,), (35,), (36,), (37,), (38,), (39,), (40,), (41,), (42,), (43,), (44,), (45,), (46,), (47,), (48,), (49,), (50,), (51,), (52,), (53,), (54,), (55,), (56,), (57,), (58,), (59,), (60,), (61,), (62,), (63,), (64,), (65,), (66,), (67,), (68,), (69,), (70,), (71,), (72,), (73,), (74,), (75,), (76,), (77,), (78,), (79,), (80,), (81,), (82,), (83,), (84,), (85,), (86,), (87,), (88,), (89,), (90,), (91,)]\n"
     ]
    }
   ],
   "execution_count": 704
  },
  {
   "metadata": {
    "ExecuteTime": {
     "end_time": "2024-07-10T08:15:18.973153Z",
     "start_time": "2024-07-10T08:15:18.971078Z"
    }
   },
   "cell_type": "code",
   "source": [
    "print(send_query(\"\"\"\n",
    "SELECT CustomerID ID\n",
    "FROM Customers;\n",
    "\"\"\"))"
   ],
   "id": "11060fa09a8fe8a4",
   "outputs": [
    {
     "name": "stdout",
     "output_type": "stream",
     "text": [
      "[(1,), (2,), (3,), (4,), (5,), (6,), (7,), (8,), (9,), (10,), (11,), (12,), (13,), (14,), (15,), (16,), (17,), (18,), (19,), (20,), (21,), (22,), (23,), (24,), (25,), (26,), (27,), (28,), (29,), (30,), (31,), (32,), (33,), (34,), (35,), (36,), (37,), (38,), (39,), (40,), (41,), (42,), (43,), (44,), (45,), (46,), (47,), (48,), (49,), (50,), (51,), (52,), (53,), (54,), (55,), (56,), (57,), (58,), (59,), (60,), (61,), (62,), (63,), (64,), (65,), (66,), (67,), (68,), (69,), (70,), (71,), (72,), (73,), (74,), (75,), (76,), (77,), (78,), (79,), (80,), (81,), (82,), (83,), (84,), (85,), (86,), (87,), (88,), (89,), (90,), (91,)]\n"
     ]
    }
   ],
   "execution_count": 705
  },
  {
   "metadata": {
    "ExecuteTime": {
     "end_time": "2024-07-10T08:15:19.152333Z",
     "start_time": "2024-07-10T08:15:19.150287Z"
    }
   },
   "cell_type": "code",
   "source": [
    "print(send_query(\"\"\"\n",
    "SELECT CustomerID AS ID, CustomerName AS Customer\n",
    "FROM Customers;\n",
    "\"\"\"))"
   ],
   "id": "4d18f1b3e425106e",
   "outputs": [
    {
     "name": "stdout",
     "output_type": "stream",
     "text": [
      "[(1, 'Alfreds Futterkiste'), (2, 'Ana Trujillo Emparedados y helados'), (3, 'Antonio Moreno Taquería'), (4, 'Around the Horn'), (5, 'Berglunds snabbköp'), (6, 'Blauer See Delikatessen'), (7, 'Blondel père et fils'), (8, 'Bólido Comidas preparadas'), (9, \"Bon app'\"), (10, 'Bottom-Dollar Marketse'), (11, \"B's Beverages\"), (12, 'Cactus Comidas para llevar'), (13, 'Centro comercial Moctezuma'), (14, 'Chop-suey Chinese'), (15, 'Comércio Mineiro'), (16, 'Consolidated Holdings'), (17, 'Drachenblut Delikatessend'), (18, 'Du monde entier'), (19, 'Eastern Connection'), (20, 'Ernst Handel'), (21, 'Familia Arquibaldo'), (22, 'FISSA Fabrica Inter. Salchichas S.A.'), (23, 'Folies gourmandes'), (24, 'Folk och fä HB'), (25, 'Frankenversand'), (26, 'France restauration'), (27, 'Franchi S.p.A.'), (28, 'Furia Bacalhau e Frutos do Mar'), (29, 'Galería del gastrónomo'), (30, 'Godos Cocina Típica'), (31, 'Gourmet Lanchonetes'), (32, 'Great Lakes Food Market'), (33, 'GROSELLA-Restaurante'), (34, 'Hanari Carnes'), (35, 'HILARIÓN-Abastos'), (36, 'Hungry Coyote Import Store'), (37, 'Hungry Owl All-Night Grocers'), (38, 'Island Trading'), (39, 'Königlich Essen'), (40, \"La corne d'abondance\"), (41, \"La maison d'Asie\"), (42, 'Laughing Bacchus Wine Cellars'), (43, 'Lazy K Kountry Store'), (44, 'Lehmanns Marktstand'), (45, \"Let's Stop N Shop\"), (46, 'LILA-Supermercado'), (47, 'LINO-Delicateses'), (48, 'Lonesome Pine Restaurant'), (49, 'Magazzini Alimentari Riuniti'), (50, 'Maison Dewey'), (51, 'Mère Paillarde'), (52, 'Morgenstern Gesundkost'), (53, 'North/South'), (54, 'Océano Atlántico Ltda.'), (55, 'Old World Delicatessen'), (56, 'Ottilies Käseladen'), (57, 'Paris spécialités'), (58, 'Pericles Comidas clásicas'), (59, 'Piccolo und mehr'), (60, 'Princesa Isabel Vinhoss'), (61, 'Que Delícia'), (62, 'Queen Cozinha'), (63, 'QUICK-Stop'), (64, 'Rancho grande'), (65, 'Rattlesnake Canyon Grocery'), (66, 'Reggiani Caseifici'), (67, 'Ricardo Adocicados'), (68, 'Richter Supermarkt'), (69, 'Romero y tomillo'), (70, 'Santé Gourmet'), (71, 'Save-a-lot Markets'), (72, 'Seven Seas Imports'), (73, 'Simons bistro'), (74, 'Spécialités du monde'), (75, 'Split Rail Beer & Ale'), (76, 'Suprêmes délices'), (77, 'The Big Cheese'), (78, 'The Cracker Box'), (79, 'Toms Spezialitäten'), (80, 'Tortuga Restaurante'), (81, 'Tradição Hipermercados'), (82, \"Trail's Head Gourmet Provisioners\"), (83, 'Vaffeljernet'), (84, 'Victuailles en stock'), (85, 'Vins et alcools Chevalier'), (86, 'Die Wandernde Kuh'), (87, 'Wartian Herkku'), (88, 'Wellington Importadora'), (89, 'White Clover Markets'), (90, 'Wilman Kala'), (91, 'Wolski')]\n"
     ]
    }
   ],
   "execution_count": 706
  },
  {
   "metadata": {
    "ExecuteTime": {
     "end_time": "2024-07-10T08:15:19.215088Z",
     "start_time": "2024-07-10T08:15:19.213210Z"
    }
   },
   "cell_type": "code",
   "source": [
    "print(send_query(\"\"\"\n",
    "SELECT ProductName AS [My Great Products]\n",
    "FROM Products;\n",
    "\"\"\"))"
   ],
   "id": "cddd6f28b1d0ff00",
   "outputs": [
    {
     "name": "stdout",
     "output_type": "stream",
     "text": [
      "[('Chais',), ('Chang',), ('Aniseed Syrup',), (\"Chef Anton's Cajun Seasoning\",), (\"Chef Anton's Gumbo Mix\",), (\"Grandma's Boysenberry Spread\",), (\"Uncle Bob's Organic Dried Pears\",), ('Northwoods Cranberry Sauce',), ('Mishi Kobe Niku',), ('Ikura',), ('Queso Cabrales',), ('Queso Manchego La Pastora',), ('Konbu',), ('Tofu',), ('Genen Shouyu',), ('Pavlova',), ('Alice Mutton',), ('Carnarvon Tigers',), ('Teatime Chocolate Biscuits',), (\"Sir Rodney's Marmalade\",), (\"Sir Rodney's Scones\",), (\"Gustaf's Knäckebröd\",), ('Tunnbröd',), ('Guaraná Fantástica',), ('NuNuCa Nuß-Nougat-Creme',), ('Gumbär Gummibärchen',), ('Schoggi Schokolade',), ('Rössle Sauerkraut',), ('Thüringer Rostbratwurst',), ('Nord-Ost Matjeshering',), ('Gorgonzola Telino',), ('Mascarpone Fabioli',), ('Geitost',), ('Sasquatch Ale',), ('Steeleye Stout',), ('Inlagd Sill',), ('Gravad lax',), ('Côte de Blaye',), ('Chartreuse verte',), ('Boston Crab Meat',), (\"Jack's New England Clam Chowder\",), ('Singaporean Hokkien Fried Mee',), ('Ipoh Coffee',), ('Gula Malacca',), ('Røgede sild',), ('Spegesild',), ('Zaanse koeken',), ('Chocolade',), ('Maxilaku',), ('Valkoinen suklaa',), ('Manjimup Dried Apples',), ('Filo Mix',), ('Perth Pasties',), ('Tourtière',), ('Pâté chinois',), ('Gnocchi di nonna Alice',), ('Ravioli Angelo',), ('Escargots de Bourgogne',), ('Raclette Courdavault',), ('Camembert Pierrot',), (\"Sirop d'érable\",), ('Tarte au sucre',), ('Vegie-spread',), ('Wimmers gute Semmelknödel',), ('Louisiana Fiery Hot Pepper Sauce',), ('Louisiana Hot Spiced Okra',), ('Laughing Lumberjack Lager',), ('Scottish Longbreads',), ('Gudbrandsdalsost',), ('Outback Lager',), ('Fløtemysost',), ('Mozzarella di Giovanni',), ('Röd Kaviar',), ('Longlife Tofu',), ('Rhönbräu Klosterbier',), ('Lakkalikööri',), ('Original Frankfurter grüne Soße',)]\n"
     ]
    }
   ],
   "execution_count": 707
  },
  {
   "metadata": {
    "ExecuteTime": {
     "end_time": "2024-07-10T08:15:19.364169Z",
     "start_time": "2024-07-10T08:15:19.362028Z"
    }
   },
   "cell_type": "code",
   "source": [
    "print(send_query(\"\"\"\n",
    "SELECT ProductName AS \"My Great Products\"\n",
    "FROM Products;\n",
    "\"\"\"))"
   ],
   "id": "af4c0336cdb81c3c",
   "outputs": [
    {
     "name": "stdout",
     "output_type": "stream",
     "text": [
      "[('Chais',), ('Chang',), ('Aniseed Syrup',), (\"Chef Anton's Cajun Seasoning\",), (\"Chef Anton's Gumbo Mix\",), (\"Grandma's Boysenberry Spread\",), (\"Uncle Bob's Organic Dried Pears\",), ('Northwoods Cranberry Sauce',), ('Mishi Kobe Niku',), ('Ikura',), ('Queso Cabrales',), ('Queso Manchego La Pastora',), ('Konbu',), ('Tofu',), ('Genen Shouyu',), ('Pavlova',), ('Alice Mutton',), ('Carnarvon Tigers',), ('Teatime Chocolate Biscuits',), (\"Sir Rodney's Marmalade\",), (\"Sir Rodney's Scones\",), (\"Gustaf's Knäckebröd\",), ('Tunnbröd',), ('Guaraná Fantástica',), ('NuNuCa Nuß-Nougat-Creme',), ('Gumbär Gummibärchen',), ('Schoggi Schokolade',), ('Rössle Sauerkraut',), ('Thüringer Rostbratwurst',), ('Nord-Ost Matjeshering',), ('Gorgonzola Telino',), ('Mascarpone Fabioli',), ('Geitost',), ('Sasquatch Ale',), ('Steeleye Stout',), ('Inlagd Sill',), ('Gravad lax',), ('Côte de Blaye',), ('Chartreuse verte',), ('Boston Crab Meat',), (\"Jack's New England Clam Chowder\",), ('Singaporean Hokkien Fried Mee',), ('Ipoh Coffee',), ('Gula Malacca',), ('Røgede sild',), ('Spegesild',), ('Zaanse koeken',), ('Chocolade',), ('Maxilaku',), ('Valkoinen suklaa',), ('Manjimup Dried Apples',), ('Filo Mix',), ('Perth Pasties',), ('Tourtière',), ('Pâté chinois',), ('Gnocchi di nonna Alice',), ('Ravioli Angelo',), ('Escargots de Bourgogne',), ('Raclette Courdavault',), ('Camembert Pierrot',), (\"Sirop d'érable\",), ('Tarte au sucre',), ('Vegie-spread',), ('Wimmers gute Semmelknödel',), ('Louisiana Fiery Hot Pepper Sauce',), ('Louisiana Hot Spiced Okra',), ('Laughing Lumberjack Lager',), ('Scottish Longbreads',), ('Gudbrandsdalsost',), ('Outback Lager',), ('Fløtemysost',), ('Mozzarella di Giovanni',), ('Röd Kaviar',), ('Longlife Tofu',), ('Rhönbräu Klosterbier',), ('Lakkalikööri',), ('Original Frankfurter grüne Soße',)]\n"
     ]
    }
   ],
   "execution_count": 708
  },
  {
   "metadata": {
    "ExecuteTime": {
     "end_time": "2024-07-10T08:15:19.409804Z",
     "start_time": "2024-07-10T08:15:19.406401Z"
    }
   },
   "cell_type": "code",
   "source": [
    "print(send_query(\"\"\"\n",
    "SELECT CustomerName, Address + ', ' + PostalCode + ' ' + City + ', ' + Country AS Address\n",
    "FROM Customers;\n",
    "\"\"\"))\n",
    "#Does not work"
   ],
   "id": "6b425ade2723484a",
   "outputs": [
    {
     "name": "stdout",
     "output_type": "stream",
     "text": [
      "[('Alfreds Futterkiste', 12209), ('Ana Trujillo Emparedados y helados', 5021), ('Antonio Moreno Taquería', 5023), ('Around the Horn', 120), ('Berglunds snabbköp', 0), ('Blauer See Delikatessen', 68306), ('Blondel père et fils', 67024), ('Bólido Comidas preparadas', 28023), (\"Bon app'\", 13020), ('Bottom-Dollar Marketse', 23), (\"B's Beverages\", 0), ('Cactus Comidas para llevar', 1010), ('Centro comercial Moctezuma', 5022), ('Chop-suey Chinese', 3012), ('Comércio Mineiro', 5432), ('Consolidated Holdings', 0), ('Drachenblut Delikatessend', 52066), ('Du monde entier', 44067), ('Eastern Connection', 35), ('Ernst Handel', 8010), ('Familia Arquibaldo', 5442), ('FISSA Fabrica Inter. Salchichas S.A.', 28034), ('Folies gourmandes', 59184), ('Folk och fä HB', 0), ('Frankenversand', 80805), ('France restauration', 44054), ('Franchi S.p.A.', 10100), ('Furia Bacalhau e Frutos do Mar', 1675), ('Galería del gastrónomo', 8022), ('Godos Cocina Típica', 41101), ('Gourmet Lanchonetes', 4876), ('Great Lakes Food Market', 100135), ('GROSELLA-Restaurante', 1086), ('Hanari Carnes', 5454), ('HILARIÓN-Abastos', 5022), ('Hungry Coyote Import Store', 97827), ('Hungry Owl All-Night Grocers', 8), ('Island Trading', 0), ('Königlich Essen', 14776), (\"La corne d'abondance\", 78067), (\"La maison d'Asie\", 31001), ('Laughing Bacchus Wine Cellars', 1900), ('Lazy K Kountry Store', 99374), ('Lehmanns Marktstand', 60528), (\"Let's Stop N Shop\", 94204), ('LILA-Supermercado', 3508), ('LINO-Delicateses', 4980), ('Lonesome Pine Restaurant', 97308), ('Magazzini Alimentari Riuniti', 24100), ('Maison Dewey', 0), ('Mère Paillarde', 43), ('Morgenstern Gesundkost', 4179), ('North/South', 0), ('Océano Atlántico Ltda.', 1010), ('Old World Delicatessen', 102251), ('Ottilies Käseladen', 50739), ('Paris spécialités', 75277), ('Pericles Comidas clásicas', 5033), ('Piccolo und mehr', 5020), ('Princesa Isabel Vinhoss', 1756), ('Que Delícia', 2389), ('Queen Cozinha', 5487), ('QUICK-Stop', 1307), ('Rancho grande', 1010), ('Rattlesnake Canyon Grocery', 89927), ('Reggiani Caseifici', 42100), ('Ricardo Adocicados', 2389), ('Richter Supermarkt', 1203), ('Romero y tomillo', 28001), ('Santé Gourmet', 4110), ('Save-a-lot Markets', 83907), ('Seven Seas Imports', 90), ('Simons bistro', 1734), ('Spécialités du monde', 75041), ('Split Rail Beer & Ale', 82520), ('Suprêmes délices', 0), ('The Big Cheese', 97290), ('The Cracker Box', 59856), ('Toms Spezialitäten', 44087), ('Tortuga Restaurante', 5033), ('Tradição Hipermercados', 5634), (\"Trail's Head Gourmet Provisioners\", 98756), ('Vaffeljernet', 8200), ('Victuailles en stock', 69006), ('Vins et alcools Chevalier', 51159), ('Die Wandernde Kuh', 70563), ('Wartian Herkku', 90110), ('Wellington Importadora', 8737), ('White Clover Markets', 98433), ('Wilman Kala', 21240), ('Wolski', 1)]\n"
     ]
    }
   ],
   "execution_count": 709
  },
  {
   "metadata": {
    "ExecuteTime": {
     "end_time": "2024-07-10T08:15:19.591412Z",
     "start_time": "2024-07-10T08:15:19.589363Z"
    }
   },
   "cell_type": "code",
   "source": [
    "print(send_query(\"\"\"\n",
    "SELECT CustomerName, CONCAT(Address,', ',PostalCode,', ',City,', ',Country) AS Address\n",
    "FROM Customers;\n",
    "\"\"\"))\n",
    "#Does not work"
   ],
   "id": "f991c01a7614fd0e",
   "outputs": [
    {
     "name": "stdout",
     "output_type": "stream",
     "text": [
      "no such function: CONCAT\n",
      "None\n"
     ]
    }
   ],
   "execution_count": 710
  },
  {
   "metadata": {
    "ExecuteTime": {
     "end_time": "2024-07-10T08:15:19.676709Z",
     "start_time": "2024-07-10T08:15:19.674314Z"
    }
   },
   "cell_type": "code",
   "source": [
    "print(send_query(\"\"\"\n",
    "SELECT CustomerName, (Address || ', ' || PostalCode || ' ' || City || ', ' || Country) AS Address\n",
    "FROM Customers;\n",
    "\"\"\"))\n",
    "#Does not work"
   ],
   "id": "d316cd882522ab5b",
   "outputs": [
    {
     "name": "stdout",
     "output_type": "stream",
     "text": [
      "[('Alfreds Futterkiste', 'Obere Str. 57, 12209 Berlin, Germany'), ('Ana Trujillo Emparedados y helados', 'Avda. de la Constitución 2222, 05021 México D.F., Mexico'), ('Antonio Moreno Taquería', 'Mataderos 2312, 05023 México D.F., Mexico'), ('Around the Horn', '120 Hanover Sq., WA1 1DP London, UK'), ('Berglunds snabbköp', 'Berguvsvägen 8, S-958 22 Luleå, Sweden'), ('Blauer See Delikatessen', 'Forsterstr. 57, 68306 Mannheim, Germany'), ('Blondel père et fils', '24, place Kléber, 67000 Strasbourg, France'), ('Bólido Comidas preparadas', 'C/ Araquil, 67, 28023 Madrid, Spain'), (\"Bon app'\", '12, rue des Bouchers, 13008 Marseille, France'), ('Bottom-Dollar Marketse', '23 Tsawassen Blvd., T2F 8M4 Tsawassen, Canada'), (\"B's Beverages\", 'Fauntleroy Circus, EC2 5NT London, UK'), ('Cactus Comidas para llevar', 'Cerrito 333, 1010 Buenos Aires, Argentina'), ('Centro comercial Moctezuma', 'Sierras de Granada 9993, 05022 México D.F., Mexico'), ('Chop-suey Chinese', 'Hauptstr. 29, 3012 Bern, Switzerland'), ('Comércio Mineiro', 'Av. dos Lusíadas, 23, 05432-043 São Paulo, Brazil'), ('Consolidated Holdings', 'Berkeley Gardens 12 Brewery, WX1 6LT London, UK'), ('Drachenblut Delikatessend', 'Walserweg 21, 52066 Aachen, Germany'), ('Du monde entier', '67, rue des Cinquante Otages, 44000 Nantes, France'), ('Eastern Connection', '35 King George, WX3 6FW London, UK'), ('Ernst Handel', 'Kirchgasse 6, 8010 Graz, Austria'), ('Familia Arquibaldo', 'Rua Orós, 92, 05442-030 São Paulo, Brazil'), ('FISSA Fabrica Inter. Salchichas S.A.', 'C/ Moralzarzal, 86, 28034 Madrid, Spain'), ('Folies gourmandes', '184, chaussée de Tournai, 59000 Lille, France'), ('Folk och fä HB', 'Åkergatan 24, S-844 67 Bräcke, Sweden'), ('Frankenversand', 'Berliner Platz 43, 80805 München, Germany'), ('France restauration', '54, rue Royale, 44000 Nantes, France'), ('Franchi S.p.A.', 'Via Monte Bianco 34, 10100 Torino, Italy'), ('Furia Bacalhau e Frutos do Mar', 'Jardim das rosas n. 32, 1675 Lisboa, Portugal'), ('Galería del gastrónomo', 'Rambla de Cataluña, 23, 08022 Barcelona, Spain'), ('Godos Cocina Típica', 'C/ Romero, 33, 41101 Sevilla, Spain'), ('Gourmet Lanchonetes', 'Av. Brasil, 442, 04876-786 Campinas, Brazil'), ('Great Lakes Food Market', '2732 Baker Blvd., 97403 Eugene, USA'), ('GROSELLA-Restaurante', '5ª Ave. Los Palos Grandes, 1081 Caracas, Venezuela'), ('Hanari Carnes', 'Rua do Paço, 67, 05454-876 Rio de Janeiro, Brazil'), ('HILARIÓN-Abastos', 'Carrera 22 con Ave. Carlos Soublette #8-35, 5022 San Cristóbal, Venezuela'), ('Hungry Coyote Import Store', 'City Center Plaza 516 Main St., 97827 Elgin, USA'), ('Hungry Owl All-Night Grocers', '8 Johnstown Road,  Cork, Ireland'), ('Island Trading', 'Garden House Crowther Way, PO31 7PJ Cowes, UK'), ('Königlich Essen', 'Maubelstr. 90, 14776 Brandenburg, Germany'), (\"La corne d'abondance\", \"67, avenue de l'Europe, 78000 Versailles, France\"), (\"La maison d'Asie\", '1 rue Alsace-Lorraine, 31000 Toulouse, France'), ('Laughing Bacchus Wine Cellars', '1900 Oak St., V3F 2K1 Vancouver, Canada'), ('Lazy K Kountry Store', '12 Orchestra Terrace, 99362 Walla Walla, USA'), ('Lehmanns Marktstand', 'Magazinweg 7, 60528 Frankfurt a.M., Germany'), (\"Let's Stop N Shop\", '87 Polk St. Suite 5, 94117 San Francisco, USA'), ('LILA-Supermercado', 'Carrera 52 con Ave. Bolívar #65-98 Llano Largo, 3508 Barquisimeto, Venezuela'), ('LINO-Delicateses', 'Ave. 5 de Mayo Porlamar, 4980 I. de Margarita, Venezuela'), ('Lonesome Pine Restaurant', '89 Chiaroscuro Rd., 97219 Portland, USA'), ('Magazzini Alimentari Riuniti', 'Via Ludovico il Moro 22, 24100 Bergamo, Italy'), ('Maison Dewey', 'Rue Joseph-Bens 532, B-1180 Bruxelles, Belgium'), ('Mère Paillarde', '43 rue St. Laurent, H1J 1C3 Montréal, Canada'), ('Morgenstern Gesundkost', 'Heerstr. 22, 04179 Leipzig, Germany'), ('North/South', 'South House 300 Queensbridge, SW7 1RZ London, UK'), ('Océano Atlántico Ltda.', 'Ing. Gustavo Moncada 8585 Piso 20-A, 1010 Buenos Aires, Argentina'), ('Old World Delicatessen', '2743 Bering St., 99508 Anchorage, USA'), ('Ottilies Käseladen', 'Mehrheimerstr. 369, 50739 Köln, Germany'), ('Paris spécialités', '265, boulevard Charonne, 75012 Paris, France'), ('Pericles Comidas clásicas', 'Calle Dr. Jorge Cash 321, 05033 México D.F., Mexico'), ('Piccolo und mehr', 'Geislweg 14, 5020 Salzburg, Austria'), ('Princesa Isabel Vinhoss', 'Estrada da saúde n. 58, 1756 Lisboa, Portugal'), ('Que Delícia', 'Rua da Panificadora, 12, 02389-673 Rio de Janeiro, Brazil'), ('Queen Cozinha', 'Alameda dos Canàrios, 891, 05487-020 São Paulo, Brazil'), ('QUICK-Stop', 'Taucherstraße 10, 01307 Cunewalde, Germany'), ('Rancho grande', 'Av. del Libertador 900, 1010 Buenos Aires, Argentina'), ('Rattlesnake Canyon Grocery', '2817 Milton Dr., 87110 Albuquerque, USA'), ('Reggiani Caseifici', 'Strada Provinciale 124, 42100 Reggio Emilia, Italy'), ('Ricardo Adocicados', 'Av. Copacabana, 267, 02389-890 Rio de Janeiro, Brazil'), ('Richter Supermarkt', 'Grenzacherweg 237, 1203 Genève, Switzerland'), ('Romero y tomillo', 'Gran Vía, 1, 28001 Madrid, Spain'), ('Santé Gourmet', 'Erling Skakkes gate 78, 4110 Stavern, Norway'), ('Save-a-lot Markets', '187 Suffolk Ln., 83720 Boise, USA'), ('Seven Seas Imports', '90 Wadhurst Rd., OX15 4NB London, UK'), ('Simons bistro', 'Vinbæltet 34, 1734 København, Denmark'), ('Spécialités du monde', '25, rue Lauriston, 75016 Paris, France'), ('Split Rail Beer & Ale', 'P.O. Box 555, 82520 Lander, USA'), ('Suprêmes délices', 'Boulevard Tirou, 255, B-6000 Charleroi, Belgium'), ('The Big Cheese', '89 Jefferson Way Suite 2, 97201 Portland, USA'), ('The Cracker Box', '55 Grizzly Peak Rd., 59801 Butte, USA'), ('Toms Spezialitäten', 'Luisenstr. 48, 44087 Münster, Germany'), ('Tortuga Restaurante', 'Avda. Azteca 123, 05033 México D.F., Mexico'), ('Tradição Hipermercados', 'Av. Inês de Castro, 414, 05634-030 São Paulo, Brazil'), (\"Trail's Head Gourmet Provisioners\", '722 DaVinci Blvd., 98034 Kirkland, USA'), ('Vaffeljernet', 'Smagsløget 45, 8200 Århus, Denmark'), ('Victuailles en stock', '2, rue du Commerce, 69004 Lyon, France'), ('Vins et alcools Chevalier', \"59 rue de l'Abbaye, 51100 Reims, France\"), ('Die Wandernde Kuh', 'Adenauerallee 900, 70563 Stuttgart, Germany'), ('Wartian Herkku', 'Torikatu 38, 90110 Oulu, Finland'), ('Wellington Importadora', 'Rua do Mercado, 12, 08737-363 Resende, Brazil'), ('White Clover Markets', '305 - 14th Ave. S. Suite 3B, 98128 Seattle, USA'), ('Wilman Kala', 'Keskuskatu 45, 21240 Helsinki, Finland'), ('Wolski', 'ul. Filtrowa 68, 01-012 Walla, Poland')]\n"
     ]
    }
   ],
   "execution_count": 711
  },
  {
   "metadata": {
    "ExecuteTime": {
     "end_time": "2024-07-10T08:15:19.843323Z",
     "start_time": "2024-07-10T08:15:19.840843Z"
    }
   },
   "cell_type": "code",
   "source": [
    "print(send_query(\"\"\"\n",
    "SELECT * FROM Customers AS Persons;\n",
    "\"\"\"))"
   ],
   "id": "766cbd29721f5ab8",
   "outputs": [
    {
     "name": "stdout",
     "output_type": "stream",
     "text": [
      "[(1, 'Alfreds Futterkiste', 'Maria Anders', 'Obere Str. 57', 'Berlin', '12209', 'Germany'), (2, 'Ana Trujillo Emparedados y helados', 'Ana Trujillo', 'Avda. de la Constitución 2222', 'México D.F.', '05021', 'Mexico'), (3, 'Antonio Moreno Taquería', 'Antonio Moreno', 'Mataderos 2312', 'México D.F.', '05023', 'Mexico'), (4, 'Around the Horn', 'Thomas Hardy', '120 Hanover Sq.', 'London', 'WA1 1DP', 'UK'), (5, 'Berglunds snabbköp', 'Christina Berglund', 'Berguvsvägen 8', 'Luleå', 'S-958 22', 'Sweden'), (6, 'Blauer See Delikatessen', 'Hanna Moos', 'Forsterstr. 57', 'Mannheim', '68306', 'Germany'), (7, 'Blondel père et fils', 'Frédérique Citeaux', '24, place Kléber', 'Strasbourg', '67000', 'France'), (8, 'Bólido Comidas preparadas', 'Martín Sommer', 'C/ Araquil, 67', 'Madrid', '28023', 'Spain'), (9, \"Bon app'\", 'Laurence Lebihans', '12, rue des Bouchers', 'Marseille', '13008', 'France'), (10, 'Bottom-Dollar Marketse', 'Elizabeth Lincoln', '23 Tsawassen Blvd.', 'Tsawassen', 'T2F 8M4', 'Canada'), (11, \"B's Beverages\", 'Victoria Ashworth', 'Fauntleroy Circus', 'London', 'EC2 5NT', 'UK'), (12, 'Cactus Comidas para llevar', 'Patricio Simpson', 'Cerrito 333', 'Buenos Aires', '1010', 'Argentina'), (13, 'Centro comercial Moctezuma', 'Francisco Chang', 'Sierras de Granada 9993', 'México D.F.', '05022', 'Mexico'), (14, 'Chop-suey Chinese', 'Yang Wang', 'Hauptstr. 29', 'Bern', '3012', 'Switzerland'), (15, 'Comércio Mineiro', 'Pedro Afonso', 'Av. dos Lusíadas, 23', 'São Paulo', '05432-043', 'Brazil'), (16, 'Consolidated Holdings', 'Elizabeth Brown', 'Berkeley Gardens 12 Brewery', 'London', 'WX1 6LT', 'UK'), (17, 'Drachenblut Delikatessend', 'Sven Ottlieb', 'Walserweg 21', 'Aachen', '52066', 'Germany'), (18, 'Du monde entier', 'Janine Labrune', '67, rue des Cinquante Otages', 'Nantes', '44000', 'France'), (19, 'Eastern Connection', 'Ann Devon', '35 King George', 'London', 'WX3 6FW', 'UK'), (20, 'Ernst Handel', 'Roland Mendel', 'Kirchgasse 6', 'Graz', '8010', 'Austria'), (21, 'Familia Arquibaldo', 'Aria Cruz', 'Rua Orós, 92', 'São Paulo', '05442-030', 'Brazil'), (22, 'FISSA Fabrica Inter. Salchichas S.A.', 'Diego Roel', 'C/ Moralzarzal, 86', 'Madrid', '28034', 'Spain'), (23, 'Folies gourmandes', 'Martine Rancé', '184, chaussée de Tournai', 'Lille', '59000', 'France'), (24, 'Folk och fä HB', 'Maria Larsson', 'Åkergatan 24', 'Bräcke', 'S-844 67', 'Sweden'), (25, 'Frankenversand', 'Peter Franken', 'Berliner Platz 43', 'München', '80805', 'Germany'), (26, 'France restauration', 'Carine Schmitt', '54, rue Royale', 'Nantes', '44000', 'France'), (27, 'Franchi S.p.A.', 'Paolo Accorti', 'Via Monte Bianco 34', 'Torino', '10100', 'Italy'), (28, 'Furia Bacalhau e Frutos do Mar', 'Lino Rodriguez', 'Jardim das rosas n. 32', 'Lisboa', '1675', 'Portugal'), (29, 'Galería del gastrónomo', 'Eduardo Saavedra', 'Rambla de Cataluña, 23', 'Barcelona', '08022', 'Spain'), (30, 'Godos Cocina Típica', 'José Pedro Freyre', 'C/ Romero, 33', 'Sevilla', '41101', 'Spain'), (31, 'Gourmet Lanchonetes', 'André Fonseca', 'Av. Brasil, 442', 'Campinas', '04876-786', 'Brazil'), (32, 'Great Lakes Food Market', 'Howard Snyder', '2732 Baker Blvd.', 'Eugene', '97403', 'USA'), (33, 'GROSELLA-Restaurante', 'Manuel Pereira', '5ª Ave. Los Palos Grandes', 'Caracas', '1081', 'Venezuela'), (34, 'Hanari Carnes', 'Mario Pontes', 'Rua do Paço, 67', 'Rio de Janeiro', '05454-876', 'Brazil'), (35, 'HILARIÓN-Abastos', 'Carlos Hernández', 'Carrera 22 con Ave. Carlos Soublette #8-35', 'San Cristóbal', '5022', 'Venezuela'), (36, 'Hungry Coyote Import Store', 'Yoshi Latimer', 'City Center Plaza 516 Main St.', 'Elgin', '97827', 'USA'), (37, 'Hungry Owl All-Night Grocers', 'Patricia McKenna', '8 Johnstown Road', 'Cork', '', 'Ireland'), (38, 'Island Trading', 'Helen Bennett', 'Garden House Crowther Way', 'Cowes', 'PO31 7PJ', 'UK'), (39, 'Königlich Essen', 'Philip Cramer', 'Maubelstr. 90', 'Brandenburg', '14776', 'Germany'), (40, \"La corne d'abondance\", 'Daniel Tonini', \"67, avenue de l'Europe\", 'Versailles', '78000', 'France'), (41, \"La maison d'Asie\", 'Annette Roulet', '1 rue Alsace-Lorraine', 'Toulouse', '31000', 'France'), (42, 'Laughing Bacchus Wine Cellars', 'Yoshi Tannamuri', '1900 Oak St.', 'Vancouver', 'V3F 2K1', 'Canada'), (43, 'Lazy K Kountry Store', 'John Steel', '12 Orchestra Terrace', 'Walla Walla', '99362', 'USA'), (44, 'Lehmanns Marktstand', 'Renate Messner', 'Magazinweg 7', 'Frankfurt a.M.', '60528', 'Germany'), (45, \"Let's Stop N Shop\", 'Jaime Yorres', '87 Polk St. Suite 5', 'San Francisco', '94117', 'USA'), (46, 'LILA-Supermercado', 'Carlos González', 'Carrera 52 con Ave. Bolívar #65-98 Llano Largo', 'Barquisimeto', '3508', 'Venezuela'), (47, 'LINO-Delicateses', 'Felipe Izquierdo', 'Ave. 5 de Mayo Porlamar', 'I. de Margarita', '4980', 'Venezuela'), (48, 'Lonesome Pine Restaurant', 'Fran Wilson', '89 Chiaroscuro Rd.', 'Portland', '97219', 'USA'), (49, 'Magazzini Alimentari Riuniti', 'Giovanni Rovelli', 'Via Ludovico il Moro 22', 'Bergamo', '24100', 'Italy'), (50, 'Maison Dewey', 'Catherine Dewey', 'Rue Joseph-Bens 532', 'Bruxelles', 'B-1180', 'Belgium'), (51, 'Mère Paillarde', 'Jean Fresnière', '43 rue St. Laurent', 'Montréal', 'H1J 1C3', 'Canada'), (52, 'Morgenstern Gesundkost', 'Alexander Feuer', 'Heerstr. 22', 'Leipzig', '04179', 'Germany'), (53, 'North/South', 'Simon Crowther', 'South House 300 Queensbridge', 'London', 'SW7 1RZ', 'UK'), (54, 'Océano Atlántico Ltda.', 'Yvonne Moncada', 'Ing. Gustavo Moncada 8585 Piso 20-A', 'Buenos Aires', '1010', 'Argentina'), (55, 'Old World Delicatessen', 'Rene Phillips', '2743 Bering St.', 'Anchorage', '99508', 'USA'), (56, 'Ottilies Käseladen', 'Henriette Pfalzheim', 'Mehrheimerstr. 369', 'Köln', '50739', 'Germany'), (57, 'Paris spécialités', 'Marie Bertrand', '265, boulevard Charonne', 'Paris', '75012', 'France'), (58, 'Pericles Comidas clásicas', 'Guillermo Fernández', 'Calle Dr. Jorge Cash 321', 'México D.F.', '05033', 'Mexico'), (59, 'Piccolo und mehr', 'Georg Pipps', 'Geislweg 14', 'Salzburg', '5020', 'Austria'), (60, 'Princesa Isabel Vinhoss', 'Isabel de Castro', 'Estrada da saúde n. 58', 'Lisboa', '1756', 'Portugal'), (61, 'Que Delícia', 'Bernardo Batista', 'Rua da Panificadora, 12', 'Rio de Janeiro', '02389-673', 'Brazil'), (62, 'Queen Cozinha', 'Lúcia Carvalho', 'Alameda dos Canàrios, 891', 'São Paulo', '05487-020', 'Brazil'), (63, 'QUICK-Stop', 'Horst Kloss', 'Taucherstraße 10', 'Cunewalde', '01307', 'Germany'), (64, 'Rancho grande', 'Sergio Gutiérrez', 'Av. del Libertador 900', 'Buenos Aires', '1010', 'Argentina'), (65, 'Rattlesnake Canyon Grocery', 'Paula Wilson', '2817 Milton Dr.', 'Albuquerque', '87110', 'USA'), (66, 'Reggiani Caseifici', 'Maurizio Moroni', 'Strada Provinciale 124', 'Reggio Emilia', '42100', 'Italy'), (67, 'Ricardo Adocicados', 'Janete Limeira', 'Av. Copacabana, 267', 'Rio de Janeiro', '02389-890', 'Brazil'), (68, 'Richter Supermarkt', 'Michael Holz', 'Grenzacherweg 237', 'Genève', '1203', 'Switzerland'), (69, 'Romero y tomillo', 'Alejandra Camino', 'Gran Vía, 1', 'Madrid', '28001', 'Spain'), (70, 'Santé Gourmet', 'Jonas Bergulfsen', 'Erling Skakkes gate 78', 'Stavern', '4110', 'Norway'), (71, 'Save-a-lot Markets', 'Jose Pavarotti', '187 Suffolk Ln.', 'Boise', '83720', 'USA'), (72, 'Seven Seas Imports', 'Hari Kumar', '90 Wadhurst Rd.', 'London', 'OX15 4NB', 'UK'), (73, 'Simons bistro', 'Jytte Petersen', 'Vinbæltet 34', 'København', '1734', 'Denmark'), (74, 'Spécialités du monde', 'Dominique Perrier', '25, rue Lauriston', 'Paris', '75016', 'France'), (75, 'Split Rail Beer & Ale', 'Art Braunschweiger', 'P.O. Box 555', 'Lander', '82520', 'USA'), (76, 'Suprêmes délices', 'Pascale Cartrain', 'Boulevard Tirou, 255', 'Charleroi', 'B-6000', 'Belgium'), (77, 'The Big Cheese', 'Liz Nixon', '89 Jefferson Way Suite 2', 'Portland', '97201', 'USA'), (78, 'The Cracker Box', 'Liu Wong', '55 Grizzly Peak Rd.', 'Butte', '59801', 'USA'), (79, 'Toms Spezialitäten', 'Karin Josephs', 'Luisenstr. 48', 'Münster', '44087', 'Germany'), (80, 'Tortuga Restaurante', 'Miguel Angel Paolino', 'Avda. Azteca 123', 'México D.F.', '05033', 'Mexico'), (81, 'Tradição Hipermercados', 'Anabela Domingues', 'Av. Inês de Castro, 414', 'São Paulo', '05634-030', 'Brazil'), (82, \"Trail's Head Gourmet Provisioners\", 'Helvetius Nagy', '722 DaVinci Blvd.', 'Kirkland', '98034', 'USA'), (83, 'Vaffeljernet', 'Palle Ibsen', 'Smagsløget 45', 'Århus', '8200', 'Denmark'), (84, 'Victuailles en stock', 'Mary Saveley', '2, rue du Commerce', 'Lyon', '69004', 'France'), (85, 'Vins et alcools Chevalier', 'Paul Henriot', \"59 rue de l'Abbaye\", 'Reims', '51100', 'France'), (86, 'Die Wandernde Kuh', 'Rita Müller', 'Adenauerallee 900', 'Stuttgart', '70563', 'Germany'), (87, 'Wartian Herkku', 'Pirkko Koskitalo', 'Torikatu 38', 'Oulu', '90110', 'Finland'), (88, 'Wellington Importadora', 'Paula Parente', 'Rua do Mercado, 12', 'Resende', '08737-363', 'Brazil'), (89, 'White Clover Markets', 'Karl Jablonski', '305 - 14th Ave. S. Suite 3B', 'Seattle', '98128', 'USA'), (90, 'Wilman Kala', 'Matti Karttunen', 'Keskuskatu 45', 'Helsinki', '21240', 'Finland'), (91, 'Wolski', 'Zbyszek', 'ul. Filtrowa 68', 'Walla', '01-012', 'Poland')]\n"
     ]
    }
   ],
   "execution_count": 712
  },
  {
   "metadata": {
    "ExecuteTime": {
     "end_time": "2024-07-10T08:15:19.898505Z",
     "start_time": "2024-07-10T08:15:19.896506Z"
    }
   },
   "cell_type": "code",
   "source": [
    "print(send_query(\"\"\"\n",
    "SELECT o.OrderID, o.OrderDate, c.CustomerName\n",
    "FROM Customers AS c, Orders AS o\n",
    "WHERE c.CustomerName='Around the Horn' AND c.CustomerID=o.CustomerID;\n",
    "\"\"\"))"
   ],
   "id": "8497a768abc66dc5",
   "outputs": [
    {
     "name": "stdout",
     "output_type": "stream",
     "text": [
      "[(10355, '1996-11-15', 'Around the Horn'), (10383, '1996-12-16', 'Around the Horn')]\n"
     ]
    }
   ],
   "execution_count": 713
  },
  {
   "metadata": {
    "ExecuteTime": {
     "end_time": "2024-07-10T08:15:20.039293Z",
     "start_time": "2024-07-10T08:15:20.037259Z"
    }
   },
   "cell_type": "code",
   "source": [
    "print(send_query(\"\"\"\n",
    "SELECT ProductID, ProductName, CategoryName\n",
    "FROM Products\n",
    "INNER JOIN Categories ON Products.CategoryID = Categories.CategoryID;\n",
    "\"\"\"))"
   ],
   "id": "ae71ee45729a3e8b",
   "outputs": [
    {
     "name": "stdout",
     "output_type": "stream",
     "text": [
      "[(1, 'Chais', 'Beverages'), (2, 'Chang', 'Beverages'), (3, 'Aniseed Syrup', 'Condiments'), (4, \"Chef Anton's Cajun Seasoning\", 'Condiments'), (5, \"Chef Anton's Gumbo Mix\", 'Condiments'), (6, \"Grandma's Boysenberry Spread\", 'Condiments'), (7, \"Uncle Bob's Organic Dried Pears\", 'Produce'), (8, 'Northwoods Cranberry Sauce', 'Condiments'), (9, 'Mishi Kobe Niku', 'Meat/Poultry'), (10, 'Ikura', 'Seafood'), (11, 'Queso Cabrales', 'Dairy Products'), (12, 'Queso Manchego La Pastora', 'Dairy Products'), (13, 'Konbu', 'Seafood'), (14, 'Tofu', 'Produce'), (15, 'Genen Shouyu', 'Condiments'), (16, 'Pavlova', 'Confections'), (17, 'Alice Mutton', 'Meat/Poultry'), (18, 'Carnarvon Tigers', 'Seafood'), (19, 'Teatime Chocolate Biscuits', 'Confections'), (20, \"Sir Rodney's Marmalade\", 'Confections'), (21, \"Sir Rodney's Scones\", 'Confections'), (22, \"Gustaf's Knäckebröd\", 'Grains/Cereals'), (23, 'Tunnbröd', 'Grains/Cereals'), (24, 'Guaraná Fantástica', 'Beverages'), (25, 'NuNuCa Nuß-Nougat-Creme', 'Confections'), (26, 'Gumbär Gummibärchen', 'Confections'), (27, 'Schoggi Schokolade', 'Confections'), (28, 'Rössle Sauerkraut', 'Produce'), (29, 'Thüringer Rostbratwurst', 'Meat/Poultry'), (30, 'Nord-Ost Matjeshering', 'Seafood'), (31, 'Gorgonzola Telino', 'Dairy Products'), (32, 'Mascarpone Fabioli', 'Dairy Products'), (33, 'Geitost', 'Dairy Products'), (34, 'Sasquatch Ale', 'Beverages'), (35, 'Steeleye Stout', 'Beverages'), (36, 'Inlagd Sill', 'Seafood'), (37, 'Gravad lax', 'Seafood'), (38, 'Côte de Blaye', 'Beverages'), (39, 'Chartreuse verte', 'Beverages'), (40, 'Boston Crab Meat', 'Seafood'), (41, \"Jack's New England Clam Chowder\", 'Seafood'), (42, 'Singaporean Hokkien Fried Mee', 'Grains/Cereals'), (43, 'Ipoh Coffee', 'Beverages'), (44, 'Gula Malacca', 'Condiments'), (45, 'Røgede sild', 'Seafood'), (46, 'Spegesild', 'Seafood'), (47, 'Zaanse koeken', 'Confections'), (48, 'Chocolade', 'Confections'), (49, 'Maxilaku', 'Confections'), (50, 'Valkoinen suklaa', 'Confections'), (51, 'Manjimup Dried Apples', 'Produce'), (52, 'Filo Mix', 'Grains/Cereals'), (53, 'Perth Pasties', 'Meat/Poultry'), (54, 'Tourtière', 'Meat/Poultry'), (55, 'Pâté chinois', 'Meat/Poultry'), (56, 'Gnocchi di nonna Alice', 'Grains/Cereals'), (57, 'Ravioli Angelo', 'Grains/Cereals'), (58, 'Escargots de Bourgogne', 'Seafood'), (59, 'Raclette Courdavault', 'Dairy Products'), (60, 'Camembert Pierrot', 'Dairy Products'), (61, \"Sirop d'érable\", 'Condiments'), (62, 'Tarte au sucre', 'Confections'), (63, 'Vegie-spread', 'Condiments'), (64, 'Wimmers gute Semmelknödel', 'Grains/Cereals'), (65, 'Louisiana Fiery Hot Pepper Sauce', 'Condiments'), (66, 'Louisiana Hot Spiced Okra', 'Condiments'), (67, 'Laughing Lumberjack Lager', 'Beverages'), (68, 'Scottish Longbreads', 'Confections'), (69, 'Gudbrandsdalsost', 'Dairy Products'), (70, 'Outback Lager', 'Beverages'), (71, 'Fløtemysost', 'Dairy Products'), (72, 'Mozzarella di Giovanni', 'Dairy Products'), (73, 'Röd Kaviar', 'Seafood'), (74, 'Longlife Tofu', 'Produce'), (75, 'Rhönbräu Klosterbier', 'Beverages'), (76, 'Lakkalikööri', 'Beverages'), (77, 'Original Frankfurter grüne Soße', 'Condiments')]\n"
     ]
    }
   ],
   "execution_count": 714
  },
  {
   "metadata": {
    "ExecuteTime": {
     "end_time": "2024-07-10T08:15:20.095040Z",
     "start_time": "2024-07-10T08:15:20.092816Z"
    }
   },
   "cell_type": "code",
   "source": [
    "print(send_query(\"\"\"\n",
    "SELECT Products.ProductID, Products.ProductName, Categories.CategoryName\n",
    "FROM Products\n",
    "INNER JOIN Categories ON Products.CategoryID = Categories.CategoryID;\n",
    "\"\"\"))"
   ],
   "id": "6d04a2361257a135",
   "outputs": [
    {
     "name": "stdout",
     "output_type": "stream",
     "text": [
      "[(1, 'Chais', 'Beverages'), (2, 'Chang', 'Beverages'), (3, 'Aniseed Syrup', 'Condiments'), (4, \"Chef Anton's Cajun Seasoning\", 'Condiments'), (5, \"Chef Anton's Gumbo Mix\", 'Condiments'), (6, \"Grandma's Boysenberry Spread\", 'Condiments'), (7, \"Uncle Bob's Organic Dried Pears\", 'Produce'), (8, 'Northwoods Cranberry Sauce', 'Condiments'), (9, 'Mishi Kobe Niku', 'Meat/Poultry'), (10, 'Ikura', 'Seafood'), (11, 'Queso Cabrales', 'Dairy Products'), (12, 'Queso Manchego La Pastora', 'Dairy Products'), (13, 'Konbu', 'Seafood'), (14, 'Tofu', 'Produce'), (15, 'Genen Shouyu', 'Condiments'), (16, 'Pavlova', 'Confections'), (17, 'Alice Mutton', 'Meat/Poultry'), (18, 'Carnarvon Tigers', 'Seafood'), (19, 'Teatime Chocolate Biscuits', 'Confections'), (20, \"Sir Rodney's Marmalade\", 'Confections'), (21, \"Sir Rodney's Scones\", 'Confections'), (22, \"Gustaf's Knäckebröd\", 'Grains/Cereals'), (23, 'Tunnbröd', 'Grains/Cereals'), (24, 'Guaraná Fantástica', 'Beverages'), (25, 'NuNuCa Nuß-Nougat-Creme', 'Confections'), (26, 'Gumbär Gummibärchen', 'Confections'), (27, 'Schoggi Schokolade', 'Confections'), (28, 'Rössle Sauerkraut', 'Produce'), (29, 'Thüringer Rostbratwurst', 'Meat/Poultry'), (30, 'Nord-Ost Matjeshering', 'Seafood'), (31, 'Gorgonzola Telino', 'Dairy Products'), (32, 'Mascarpone Fabioli', 'Dairy Products'), (33, 'Geitost', 'Dairy Products'), (34, 'Sasquatch Ale', 'Beverages'), (35, 'Steeleye Stout', 'Beverages'), (36, 'Inlagd Sill', 'Seafood'), (37, 'Gravad lax', 'Seafood'), (38, 'Côte de Blaye', 'Beverages'), (39, 'Chartreuse verte', 'Beverages'), (40, 'Boston Crab Meat', 'Seafood'), (41, \"Jack's New England Clam Chowder\", 'Seafood'), (42, 'Singaporean Hokkien Fried Mee', 'Grains/Cereals'), (43, 'Ipoh Coffee', 'Beverages'), (44, 'Gula Malacca', 'Condiments'), (45, 'Røgede sild', 'Seafood'), (46, 'Spegesild', 'Seafood'), (47, 'Zaanse koeken', 'Confections'), (48, 'Chocolade', 'Confections'), (49, 'Maxilaku', 'Confections'), (50, 'Valkoinen suklaa', 'Confections'), (51, 'Manjimup Dried Apples', 'Produce'), (52, 'Filo Mix', 'Grains/Cereals'), (53, 'Perth Pasties', 'Meat/Poultry'), (54, 'Tourtière', 'Meat/Poultry'), (55, 'Pâté chinois', 'Meat/Poultry'), (56, 'Gnocchi di nonna Alice', 'Grains/Cereals'), (57, 'Ravioli Angelo', 'Grains/Cereals'), (58, 'Escargots de Bourgogne', 'Seafood'), (59, 'Raclette Courdavault', 'Dairy Products'), (60, 'Camembert Pierrot', 'Dairy Products'), (61, \"Sirop d'érable\", 'Condiments'), (62, 'Tarte au sucre', 'Confections'), (63, 'Vegie-spread', 'Condiments'), (64, 'Wimmers gute Semmelknödel', 'Grains/Cereals'), (65, 'Louisiana Fiery Hot Pepper Sauce', 'Condiments'), (66, 'Louisiana Hot Spiced Okra', 'Condiments'), (67, 'Laughing Lumberjack Lager', 'Beverages'), (68, 'Scottish Longbreads', 'Confections'), (69, 'Gudbrandsdalsost', 'Dairy Products'), (70, 'Outback Lager', 'Beverages'), (71, 'Fløtemysost', 'Dairy Products'), (72, 'Mozzarella di Giovanni', 'Dairy Products'), (73, 'Röd Kaviar', 'Seafood'), (74, 'Longlife Tofu', 'Produce'), (75, 'Rhönbräu Klosterbier', 'Beverages'), (76, 'Lakkalikööri', 'Beverages'), (77, 'Original Frankfurter grüne Soße', 'Condiments')]\n"
     ]
    }
   ],
   "execution_count": 715
  },
  {
   "metadata": {
    "ExecuteTime": {
     "end_time": "2024-07-10T08:15:20.248055Z",
     "start_time": "2024-07-10T08:15:20.245881Z"
    }
   },
   "cell_type": "code",
   "source": [
    "print(send_query(\"\"\"\n",
    "SELECT Products.ProductID, Products.ProductName, Categories.CategoryName\n",
    "FROM Products\n",
    "JOIN Categories ON Products.CategoryID = Categories.CategoryID;\n",
    "\"\"\"))"
   ],
   "id": "a79df84647c4eb9c",
   "outputs": [
    {
     "name": "stdout",
     "output_type": "stream",
     "text": [
      "[(1, 'Chais', 'Beverages'), (2, 'Chang', 'Beverages'), (3, 'Aniseed Syrup', 'Condiments'), (4, \"Chef Anton's Cajun Seasoning\", 'Condiments'), (5, \"Chef Anton's Gumbo Mix\", 'Condiments'), (6, \"Grandma's Boysenberry Spread\", 'Condiments'), (7, \"Uncle Bob's Organic Dried Pears\", 'Produce'), (8, 'Northwoods Cranberry Sauce', 'Condiments'), (9, 'Mishi Kobe Niku', 'Meat/Poultry'), (10, 'Ikura', 'Seafood'), (11, 'Queso Cabrales', 'Dairy Products'), (12, 'Queso Manchego La Pastora', 'Dairy Products'), (13, 'Konbu', 'Seafood'), (14, 'Tofu', 'Produce'), (15, 'Genen Shouyu', 'Condiments'), (16, 'Pavlova', 'Confections'), (17, 'Alice Mutton', 'Meat/Poultry'), (18, 'Carnarvon Tigers', 'Seafood'), (19, 'Teatime Chocolate Biscuits', 'Confections'), (20, \"Sir Rodney's Marmalade\", 'Confections'), (21, \"Sir Rodney's Scones\", 'Confections'), (22, \"Gustaf's Knäckebröd\", 'Grains/Cereals'), (23, 'Tunnbröd', 'Grains/Cereals'), (24, 'Guaraná Fantástica', 'Beverages'), (25, 'NuNuCa Nuß-Nougat-Creme', 'Confections'), (26, 'Gumbär Gummibärchen', 'Confections'), (27, 'Schoggi Schokolade', 'Confections'), (28, 'Rössle Sauerkraut', 'Produce'), (29, 'Thüringer Rostbratwurst', 'Meat/Poultry'), (30, 'Nord-Ost Matjeshering', 'Seafood'), (31, 'Gorgonzola Telino', 'Dairy Products'), (32, 'Mascarpone Fabioli', 'Dairy Products'), (33, 'Geitost', 'Dairy Products'), (34, 'Sasquatch Ale', 'Beverages'), (35, 'Steeleye Stout', 'Beverages'), (36, 'Inlagd Sill', 'Seafood'), (37, 'Gravad lax', 'Seafood'), (38, 'Côte de Blaye', 'Beverages'), (39, 'Chartreuse verte', 'Beverages'), (40, 'Boston Crab Meat', 'Seafood'), (41, \"Jack's New England Clam Chowder\", 'Seafood'), (42, 'Singaporean Hokkien Fried Mee', 'Grains/Cereals'), (43, 'Ipoh Coffee', 'Beverages'), (44, 'Gula Malacca', 'Condiments'), (45, 'Røgede sild', 'Seafood'), (46, 'Spegesild', 'Seafood'), (47, 'Zaanse koeken', 'Confections'), (48, 'Chocolade', 'Confections'), (49, 'Maxilaku', 'Confections'), (50, 'Valkoinen suklaa', 'Confections'), (51, 'Manjimup Dried Apples', 'Produce'), (52, 'Filo Mix', 'Grains/Cereals'), (53, 'Perth Pasties', 'Meat/Poultry'), (54, 'Tourtière', 'Meat/Poultry'), (55, 'Pâté chinois', 'Meat/Poultry'), (56, 'Gnocchi di nonna Alice', 'Grains/Cereals'), (57, 'Ravioli Angelo', 'Grains/Cereals'), (58, 'Escargots de Bourgogne', 'Seafood'), (59, 'Raclette Courdavault', 'Dairy Products'), (60, 'Camembert Pierrot', 'Dairy Products'), (61, \"Sirop d'érable\", 'Condiments'), (62, 'Tarte au sucre', 'Confections'), (63, 'Vegie-spread', 'Condiments'), (64, 'Wimmers gute Semmelknödel', 'Grains/Cereals'), (65, 'Louisiana Fiery Hot Pepper Sauce', 'Condiments'), (66, 'Louisiana Hot Spiced Okra', 'Condiments'), (67, 'Laughing Lumberjack Lager', 'Beverages'), (68, 'Scottish Longbreads', 'Confections'), (69, 'Gudbrandsdalsost', 'Dairy Products'), (70, 'Outback Lager', 'Beverages'), (71, 'Fløtemysost', 'Dairy Products'), (72, 'Mozzarella di Giovanni', 'Dairy Products'), (73, 'Röd Kaviar', 'Seafood'), (74, 'Longlife Tofu', 'Produce'), (75, 'Rhönbräu Klosterbier', 'Beverages'), (76, 'Lakkalikööri', 'Beverages'), (77, 'Original Frankfurter grüne Soße', 'Condiments')]\n"
     ]
    }
   ],
   "execution_count": 716
  },
  {
   "metadata": {
    "ExecuteTime": {
     "end_time": "2024-07-10T08:15:20.314906Z",
     "start_time": "2024-07-10T08:15:20.312485Z"
    }
   },
   "cell_type": "code",
   "source": [
    "print(send_query(\"\"\"\n",
    "SELECT Orders.OrderID, Customers.CustomerName, Shippers.ShipperName\n",
    "FROM ((Orders\n",
    "INNER JOIN Customers ON Orders.CustomerID = Customers.CustomerID)\n",
    "INNER JOIN Shippers ON Orders.ShipperID = Shippers.ShipperID);\n",
    "\"\"\"))"
   ],
   "id": "76dce421eae02a1f",
   "outputs": [
    {
     "name": "stdout",
     "output_type": "stream",
     "text": [
      "[(10248, 'Wilman Kala', 'Federal Shipping'), (10249, 'Tradição Hipermercados', 'Speedy Express'), (10250, 'Hanari Carnes', 'United Package'), (10251, 'Victuailles en stock', 'Speedy Express'), (10252, 'Suprêmes délices', 'United Package'), (10253, 'Hanari Carnes', 'United Package'), (10254, 'Chop-suey Chinese', 'United Package'), (10255, 'Richter Supermarkt', 'Federal Shipping'), (10256, 'Wellington Importadora', 'United Package'), (10257, 'HILARIÓN-Abastos', 'Federal Shipping'), (10258, 'Ernst Handel', 'Speedy Express'), (10259, 'Centro comercial Moctezuma', 'Federal Shipping'), (10260, 'Old World Delicatessen', 'Speedy Express'), (10261, 'Que Delícia', 'United Package'), (10262, 'Rattlesnake Canyon Grocery', 'Federal Shipping'), (10263, 'Ernst Handel', 'Federal Shipping'), (10264, 'Folk och fä HB', 'Federal Shipping'), (10265, 'Blondel père et fils', 'Speedy Express'), (10266, 'Wartian Herkku', 'Federal Shipping'), (10267, 'Frankenversand', 'Speedy Express'), (10268, 'GROSELLA-Restaurante', 'Federal Shipping'), (10269, 'White Clover Markets', 'Speedy Express'), (10270, 'Wartian Herkku', 'Speedy Express'), (10271, 'Split Rail Beer & Ale', 'United Package'), (10272, 'Rattlesnake Canyon Grocery', 'United Package'), (10273, 'QUICK-Stop', 'Federal Shipping'), (10274, 'Vins et alcools Chevalier', 'Speedy Express'), (10275, 'Magazzini Alimentari Riuniti', 'Speedy Express'), (10276, 'Tortuga Restaurante', 'Federal Shipping'), (10277, 'Morgenstern Gesundkost', 'Federal Shipping'), (10278, 'Berglunds snabbköp', 'United Package'), (10279, 'Lehmanns Marktstand', 'United Package'), (10280, 'Berglunds snabbköp', 'Speedy Express'), (10281, 'Romero y tomillo', 'Speedy Express'), (10282, 'Romero y tomillo', 'Speedy Express'), (10283, 'LILA-Supermercado', 'Federal Shipping'), (10284, 'Lehmanns Marktstand', 'Speedy Express'), (10285, 'QUICK-Stop', 'United Package'), (10286, 'QUICK-Stop', 'Federal Shipping'), (10287, 'Ricardo Adocicados', 'Federal Shipping'), (10288, 'Reggiani Caseifici', 'Speedy Express'), (10289, \"B's Beverages\", 'Federal Shipping'), (10290, 'Comércio Mineiro', 'Speedy Express'), (10291, 'Que Delícia', 'United Package'), (10292, 'Tradição Hipermercados', 'United Package'), (10293, 'Tortuga Restaurante', 'Federal Shipping'), (10294, 'Rattlesnake Canyon Grocery', 'United Package'), (10295, 'Vins et alcools Chevalier', 'United Package'), (10296, 'LILA-Supermercado', 'Speedy Express'), (10297, 'Blondel père et fils', 'United Package'), (10298, 'Hungry Owl All-Night Grocers', 'United Package'), (10299, 'Ricardo Adocicados', 'United Package'), (10300, 'Magazzini Alimentari Riuniti', 'United Package'), (10301, 'Die Wandernde Kuh', 'United Package'), (10302, 'Suprêmes délices', 'United Package'), (10303, 'Godos Cocina Típica', 'United Package'), (10304, 'Tortuga Restaurante', 'United Package'), (10305, 'Old World Delicatessen', 'Federal Shipping'), (10306, 'Romero y tomillo', 'Federal Shipping'), (10307, 'Lonesome Pine Restaurant', 'United Package'), (10308, 'Ana Trujillo Emparedados y helados', 'Federal Shipping'), (10309, 'Hungry Owl All-Night Grocers', 'Speedy Express'), (10310, 'The Big Cheese', 'United Package'), (10311, 'Du monde entier', 'Federal Shipping'), (10312, 'Die Wandernde Kuh', 'United Package'), (10313, 'QUICK-Stop', 'United Package'), (10314, 'Rattlesnake Canyon Grocery', 'United Package'), (10315, 'Island Trading', 'United Package'), (10316, 'Rattlesnake Canyon Grocery', 'Federal Shipping'), (10317, 'Lonesome Pine Restaurant', 'Speedy Express'), (10318, 'Island Trading', 'United Package'), (10319, 'Tortuga Restaurante', 'Federal Shipping'), (10320, 'Wartian Herkku', 'Federal Shipping'), (10321, 'Island Trading', 'United Package'), (10322, 'Pericles Comidas clásicas', 'Federal Shipping'), (10323, 'Königlich Essen', 'Speedy Express'), (10324, 'Save-a-lot Markets', 'Speedy Express'), (10325, 'Königlich Essen', 'Federal Shipping'), (10326, 'Bólido Comidas preparadas', 'United Package'), (10327, 'Folk och fä HB', 'Speedy Express'), (10328, 'Furia Bacalhau e Frutos do Mar', 'Federal Shipping'), (10329, 'Split Rail Beer & Ale', 'United Package'), (10330, 'LILA-Supermercado', 'Speedy Express'), (10331, \"Bon app'\", 'Speedy Express'), (10332, 'Mère Paillarde', 'United Package'), (10333, 'Wartian Herkku', 'Federal Shipping'), (10334, 'Victuailles en stock', 'United Package'), (10335, 'Hungry Owl All-Night Grocers', 'United Package'), (10336, 'Princesa Isabel Vinhoss', 'United Package'), (10337, 'Frankenversand', 'Federal Shipping'), (10338, 'Old World Delicatessen', 'Federal Shipping'), (10339, 'Mère Paillarde', 'United Package'), (10340, \"Bon app'\", 'Federal Shipping'), (10341, 'Simons bistro', 'Federal Shipping'), (10342, 'Frankenversand', 'United Package'), (10343, 'Lehmanns Marktstand', 'Speedy Express'), (10344, 'White Clover Markets', 'United Package'), (10345, 'QUICK-Stop', 'United Package'), (10346, 'Rattlesnake Canyon Grocery', 'Federal Shipping'), (10347, 'Familia Arquibaldo', 'Federal Shipping'), (10348, 'Die Wandernde Kuh', 'United Package'), (10349, 'Split Rail Beer & Ale', 'Speedy Express'), (10350, \"La maison d'Asie\", 'United Package'), (10351, 'Ernst Handel', 'Speedy Express'), (10352, 'Furia Bacalhau e Frutos do Mar', 'Federal Shipping'), (10353, 'Piccolo und mehr', 'Federal Shipping'), (10354, 'Pericles Comidas clásicas', 'Federal Shipping'), (10355, 'Around the Horn', 'Speedy Express'), (10356, 'Die Wandernde Kuh', 'United Package'), (10357, 'LILA-Supermercado', 'Federal Shipping'), (10358, \"La maison d'Asie\", 'Speedy Express'), (10359, 'Seven Seas Imports', 'Federal Shipping'), (10360, 'Blondel père et fils', 'Federal Shipping'), (10361, 'QUICK-Stop', 'United Package'), (10362, \"Bon app'\", 'Speedy Express'), (10363, 'Drachenblut Delikatessend', 'Federal Shipping'), (10364, 'Eastern Connection', 'Speedy Express'), (10365, 'Antonio Moreno Taquería', 'United Package'), (10366, 'Galería del gastrónomo', 'United Package'), (10367, 'Vaffeljernet', 'Federal Shipping'), (10368, 'Ernst Handel', 'United Package'), (10369, 'Split Rail Beer & Ale', 'United Package'), (10370, 'Chop-suey Chinese', 'United Package'), (10371, \"La maison d'Asie\", 'Speedy Express'), (10372, 'Queen Cozinha', 'United Package'), (10373, 'Hungry Owl All-Night Grocers', 'Federal Shipping'), (10374, 'Wolski', 'Federal Shipping'), (10375, 'Hungry Coyote Import Store', 'United Package'), (10376, 'Mère Paillarde', 'United Package'), (10377, 'Seven Seas Imports', 'Federal Shipping'), (10378, 'Folk och fä HB', 'Federal Shipping'), (10379, 'Que Delícia', 'Speedy Express'), (10380, 'Hungry Owl All-Night Grocers', 'Federal Shipping'), (10381, 'LILA-Supermercado', 'Federal Shipping'), (10382, 'Ernst Handel', 'Speedy Express'), (10383, 'Around the Horn', 'Federal Shipping'), (10384, 'Berglunds snabbköp', 'Federal Shipping'), (10385, 'Split Rail Beer & Ale', 'United Package'), (10386, 'Familia Arquibaldo', 'Federal Shipping'), (10387, 'Santé Gourmet', 'United Package'), (10388, 'Seven Seas Imports', 'Speedy Express'), (10389, 'Bottom-Dollar Marketse', 'United Package'), (10390, 'Ernst Handel', 'Speedy Express'), (10391, 'Drachenblut Delikatessend', 'Federal Shipping'), (10392, 'Piccolo und mehr', 'Federal Shipping'), (10393, 'Save-a-lot Markets', 'Federal Shipping'), (10394, 'Hungry Coyote Import Store', 'Federal Shipping'), (10395, 'HILARIÓN-Abastos', 'Speedy Express'), (10396, 'Frankenversand', 'Federal Shipping'), (10397, 'Princesa Isabel Vinhoss', 'Speedy Express'), (10398, 'Save-a-lot Markets', 'Federal Shipping'), (10399, 'Vaffeljernet', 'Federal Shipping'), (10400, 'Eastern Connection', 'Federal Shipping'), (10401, 'Rattlesnake Canyon Grocery', 'Speedy Express'), (10402, 'Ernst Handel', 'United Package'), (10403, 'Ernst Handel', 'Federal Shipping'), (10404, 'Magazzini Alimentari Riuniti', 'Speedy Express'), (10405, 'LINO-Delicateses', 'Speedy Express'), (10406, 'Queen Cozinha', 'Speedy Express'), (10407, 'Ottilies Käseladen', 'United Package'), (10408, 'Folies gourmandes', 'Speedy Express'), (10409, 'Océano Atlántico Ltda.', 'Speedy Express'), (10410, 'Bottom-Dollar Marketse', 'Federal Shipping'), (10411, 'Bottom-Dollar Marketse', 'Federal Shipping'), (10412, 'Wartian Herkku', 'United Package'), (10413, \"La maison d'Asie\", 'United Package'), (10414, 'Familia Arquibaldo', 'Federal Shipping'), (10415, 'Hungry Coyote Import Store', 'Speedy Express'), (10416, 'Wartian Herkku', 'Federal Shipping'), (10417, 'Simons bistro', 'Federal Shipping'), (10418, 'QUICK-Stop', 'Speedy Express'), (10419, 'Richter Supermarkt', 'United Package'), (10420, 'Wellington Importadora', 'Speedy Express'), (10421, 'Que Delícia', 'Speedy Express'), (10422, 'Franchi S.p.A.', 'Speedy Express'), (10423, 'Gourmet Lanchonetes', 'Federal Shipping'), (10424, 'Mère Paillarde', 'United Package'), (10425, \"La maison d'Asie\", 'United Package'), (10426, 'Galería del gastrónomo', 'Speedy Express'), (10427, 'Piccolo und mehr', 'United Package'), (10428, 'Reggiani Caseifici', 'Speedy Express'), (10429, 'Hungry Owl All-Night Grocers', 'United Package'), (10430, 'Ernst Handel', 'Speedy Express'), (10431, 'Bottom-Dollar Marketse', 'United Package'), (10432, 'Split Rail Beer & Ale', 'United Package'), (10433, 'Princesa Isabel Vinhoss', 'Federal Shipping'), (10434, 'Folk och fä HB', 'United Package'), (10435, 'Consolidated Holdings', 'United Package'), (10436, 'Blondel père et fils', 'United Package'), (10437, 'Wartian Herkku', 'Speedy Express'), (10438, 'Toms Spezialitäten', 'United Package'), (10439, 'Mère Paillarde', 'Federal Shipping'), (10440, 'Save-a-lot Markets', 'United Package'), (10441, 'Old World Delicatessen', 'United Package'), (10442, 'Ernst Handel', 'United Package'), (10443, 'Reggiani Caseifici', 'Speedy Express')]\n"
     ]
    }
   ],
   "execution_count": 717
  },
  {
   "metadata": {
    "ExecuteTime": {
     "end_time": "2024-07-10T08:15:20.474614Z",
     "start_time": "2024-07-10T08:15:20.472518Z"
    }
   },
   "cell_type": "code",
   "source": [
    "print(send_query(\"\"\"\n",
    "SELECT Orders.OrderID, Orders.OrderDate, Customers.CustomerName\n",
    "FROM Customers, Orders\n",
    "WHERE Customers.CustomerName='Around the Horn' AND Customers.CustomerID=Orders.CustomerID;\n",
    "\"\"\"))"
   ],
   "id": "7499e24ffb822f37",
   "outputs": [
    {
     "name": "stdout",
     "output_type": "stream",
     "text": [
      "[(10355, '1996-11-15', 'Around the Horn'), (10383, '1996-12-16', 'Around the Horn')]\n"
     ]
    }
   ],
   "execution_count": 718
  },
  {
   "metadata": {
    "ExecuteTime": {
     "end_time": "2024-07-10T08:15:20.520152Z",
     "start_time": "2024-07-10T08:15:20.517924Z"
    }
   },
   "cell_type": "code",
   "source": [
    "print(send_query(\"\"\"\n",
    "SELECT Orders.OrderID, Customers.CustomerName, Orders.OrderDate\n",
    "FROM Orders\n",
    "INNER JOIN Customers ON Orders.CustomerID=Customers.CustomerID;\n",
    "\"\"\"))"
   ],
   "id": "f7db46efed17d8c2",
   "outputs": [
    {
     "name": "stdout",
     "output_type": "stream",
     "text": [
      "[(10248, 'Wilman Kala', '1996-07-04'), (10249, 'Tradição Hipermercados', '1996-07-05'), (10250, 'Hanari Carnes', '1996-07-08'), (10251, 'Victuailles en stock', '1996-07-08'), (10252, 'Suprêmes délices', '1996-07-09'), (10253, 'Hanari Carnes', '1996-07-10'), (10254, 'Chop-suey Chinese', '1996-07-11'), (10255, 'Richter Supermarkt', '1996-07-12'), (10256, 'Wellington Importadora', '1996-07-15'), (10257, 'HILARIÓN-Abastos', '1996-07-16'), (10258, 'Ernst Handel', '1996-07-17'), (10259, 'Centro comercial Moctezuma', '1996-07-18'), (10260, 'Old World Delicatessen', '1996-07-19'), (10261, 'Que Delícia', '1996-07-19'), (10262, 'Rattlesnake Canyon Grocery', '1996-07-22'), (10263, 'Ernst Handel', '1996-07-23'), (10264, 'Folk och fä HB', '1996-07-24'), (10265, 'Blondel père et fils', '1996-07-25'), (10266, 'Wartian Herkku', '1996-07-26'), (10267, 'Frankenversand', '1996-07-29'), (10268, 'GROSELLA-Restaurante', '1996-07-30'), (10269, 'White Clover Markets', '1996-07-31'), (10270, 'Wartian Herkku', '1996-08-01'), (10271, 'Split Rail Beer & Ale', '1996-08-01'), (10272, 'Rattlesnake Canyon Grocery', '1996-08-02'), (10273, 'QUICK-Stop', '1996-08-05'), (10274, 'Vins et alcools Chevalier', '1996-08-06'), (10275, 'Magazzini Alimentari Riuniti', '1996-08-07'), (10276, 'Tortuga Restaurante', '1996-08-08'), (10277, 'Morgenstern Gesundkost', '1996-08-09'), (10278, 'Berglunds snabbköp', '1996-08-12'), (10279, 'Lehmanns Marktstand', '1996-08-13'), (10280, 'Berglunds snabbköp', '1996-08-14'), (10281, 'Romero y tomillo', '1996-08-14'), (10282, 'Romero y tomillo', '1996-08-15'), (10283, 'LILA-Supermercado', '1996-08-16'), (10284, 'Lehmanns Marktstand', '1996-08-19'), (10285, 'QUICK-Stop', '1996-08-20'), (10286, 'QUICK-Stop', '1996-08-21'), (10287, 'Ricardo Adocicados', '1996-08-22'), (10288, 'Reggiani Caseifici', '1996-08-23'), (10289, \"B's Beverages\", '1996-08-26'), (10290, 'Comércio Mineiro', '1996-08-27'), (10291, 'Que Delícia', '1996-08-27'), (10292, 'Tradição Hipermercados', '1996-08-28'), (10293, 'Tortuga Restaurante', '1996-08-29'), (10294, 'Rattlesnake Canyon Grocery', '1996-08-30'), (10295, 'Vins et alcools Chevalier', '1996-09-02'), (10296, 'LILA-Supermercado', '1996-09-03'), (10297, 'Blondel père et fils', '1996-09-04'), (10298, 'Hungry Owl All-Night Grocers', '1996-09-05'), (10299, 'Ricardo Adocicados', '1996-09-06'), (10300, 'Magazzini Alimentari Riuniti', '1996-09-09'), (10301, 'Die Wandernde Kuh', '1996-09-09'), (10302, 'Suprêmes délices', '1996-09-10'), (10303, 'Godos Cocina Típica', '1996-09-11'), (10304, 'Tortuga Restaurante', '1996-09-12'), (10305, 'Old World Delicatessen', '1996-09-13'), (10306, 'Romero y tomillo', '1996-09-16'), (10307, 'Lonesome Pine Restaurant', '1996-09-17'), (10308, 'Ana Trujillo Emparedados y helados', '1996-09-18'), (10309, 'Hungry Owl All-Night Grocers', '1996-09-19'), (10310, 'The Big Cheese', '1996-09-20'), (10311, 'Du monde entier', '1996-09-20'), (10312, 'Die Wandernde Kuh', '1996-09-23'), (10313, 'QUICK-Stop', '1996-09-24'), (10314, 'Rattlesnake Canyon Grocery', '1996-09-25'), (10315, 'Island Trading', '1996-09-26'), (10316, 'Rattlesnake Canyon Grocery', '1996-09-27'), (10317, 'Lonesome Pine Restaurant', '1996-09-30'), (10318, 'Island Trading', '1996-10-01'), (10319, 'Tortuga Restaurante', '1996-10-02'), (10320, 'Wartian Herkku', '1996-10-03'), (10321, 'Island Trading', '1996-10-03'), (10322, 'Pericles Comidas clásicas', '1996-10-04'), (10323, 'Königlich Essen', '1996-10-07'), (10324, 'Save-a-lot Markets', '1996-10-08'), (10325, 'Königlich Essen', '1996-10-09'), (10326, 'Bólido Comidas preparadas', '1996-10-10'), (10327, 'Folk och fä HB', '1996-10-11'), (10328, 'Furia Bacalhau e Frutos do Mar', '1996-10-14'), (10329, 'Split Rail Beer & Ale', '1996-10-15'), (10330, 'LILA-Supermercado', '1996-10-16'), (10331, \"Bon app'\", '1996-10-16'), (10332, 'Mère Paillarde', '1996-10-17'), (10333, 'Wartian Herkku', '1996-10-18'), (10334, 'Victuailles en stock', '1996-10-21'), (10335, 'Hungry Owl All-Night Grocers', '1996-10-22'), (10336, 'Princesa Isabel Vinhoss', '1996-10-23'), (10337, 'Frankenversand', '1996-10-24'), (10338, 'Old World Delicatessen', '1996-10-25'), (10339, 'Mère Paillarde', '1996-10-28'), (10340, \"Bon app'\", '1996-10-29'), (10341, 'Simons bistro', '1996-10-29'), (10342, 'Frankenversand', '1996-10-30'), (10343, 'Lehmanns Marktstand', '1996-10-31'), (10344, 'White Clover Markets', '1996-11-01'), (10345, 'QUICK-Stop', '1996-11-04'), (10346, 'Rattlesnake Canyon Grocery', '1996-11-05'), (10347, 'Familia Arquibaldo', '1996-11-06'), (10348, 'Die Wandernde Kuh', '1996-11-07'), (10349, 'Split Rail Beer & Ale', '1996-11-08'), (10350, \"La maison d'Asie\", '1996-11-11'), (10351, 'Ernst Handel', '1996-11-11'), (10352, 'Furia Bacalhau e Frutos do Mar', '1996-11-12'), (10353, 'Piccolo und mehr', '1996-11-13'), (10354, 'Pericles Comidas clásicas', '1996-11-14'), (10355, 'Around the Horn', '1996-11-15'), (10356, 'Die Wandernde Kuh', '1996-11-18'), (10357, 'LILA-Supermercado', '1996-11-19'), (10358, \"La maison d'Asie\", '1996-11-20'), (10359, 'Seven Seas Imports', '1996-11-21'), (10360, 'Blondel père et fils', '1996-11-22'), (10361, 'QUICK-Stop', '1996-11-22'), (10362, \"Bon app'\", '1996-11-25'), (10363, 'Drachenblut Delikatessend', '1996-11-26'), (10364, 'Eastern Connection', '1996-11-26'), (10365, 'Antonio Moreno Taquería', '1996-11-27'), (10366, 'Galería del gastrónomo', '1996-11-28'), (10367, 'Vaffeljernet', '1996-11-28'), (10368, 'Ernst Handel', '1996-11-29'), (10369, 'Split Rail Beer & Ale', '1996-12-02'), (10370, 'Chop-suey Chinese', '1996-12-03'), (10371, \"La maison d'Asie\", '1996-12-03'), (10372, 'Queen Cozinha', '1996-12-04'), (10373, 'Hungry Owl All-Night Grocers', '1996-12-05'), (10374, 'Wolski', '1996-12-05'), (10375, 'Hungry Coyote Import Store', '1996-12-06'), (10376, 'Mère Paillarde', '1996-12-09'), (10377, 'Seven Seas Imports', '1996-12-09'), (10378, 'Folk och fä HB', '1996-12-10'), (10379, 'Que Delícia', '1996-12-11'), (10380, 'Hungry Owl All-Night Grocers', '1996-12-12'), (10381, 'LILA-Supermercado', '1996-12-12'), (10382, 'Ernst Handel', '1996-12-13'), (10383, 'Around the Horn', '1996-12-16'), (10384, 'Berglunds snabbköp', '1996-12-16'), (10385, 'Split Rail Beer & Ale', '1996-12-17'), (10386, 'Familia Arquibaldo', '1996-12-18'), (10387, 'Santé Gourmet', '1996-12-18'), (10388, 'Seven Seas Imports', '1996-12-19'), (10389, 'Bottom-Dollar Marketse', '1996-12-20'), (10390, 'Ernst Handel', '1996-12-23'), (10391, 'Drachenblut Delikatessend', '1996-12-23'), (10392, 'Piccolo und mehr', '1996-12-24'), (10393, 'Save-a-lot Markets', '1996-12-25'), (10394, 'Hungry Coyote Import Store', '1996-12-25'), (10395, 'HILARIÓN-Abastos', '1996-12-26'), (10396, 'Frankenversand', '1996-12-27'), (10397, 'Princesa Isabel Vinhoss', '1996-12-27'), (10398, 'Save-a-lot Markets', '1996-12-30'), (10399, 'Vaffeljernet', '1996-12-31'), (10400, 'Eastern Connection', '1997-01-01'), (10401, 'Rattlesnake Canyon Grocery', '1997-01-01'), (10402, 'Ernst Handel', '1997-01-02'), (10403, 'Ernst Handel', '1997-01-03'), (10404, 'Magazzini Alimentari Riuniti', '1997-01-03'), (10405, 'LINO-Delicateses', '1997-01-06'), (10406, 'Queen Cozinha', '1997-01-07'), (10407, 'Ottilies Käseladen', '1997-01-07'), (10408, 'Folies gourmandes', '1997-01-08'), (10409, 'Océano Atlántico Ltda.', '1997-01-09'), (10410, 'Bottom-Dollar Marketse', '1997-01-10'), (10411, 'Bottom-Dollar Marketse', '1997-01-10'), (10412, 'Wartian Herkku', '1997-01-13'), (10413, \"La maison d'Asie\", '1997-01-14'), (10414, 'Familia Arquibaldo', '1997-01-14'), (10415, 'Hungry Coyote Import Store', '1997-01-15'), (10416, 'Wartian Herkku', '1997-01-16'), (10417, 'Simons bistro', '1997-01-16'), (10418, 'QUICK-Stop', '1997-01-17'), (10419, 'Richter Supermarkt', '1997-01-20'), (10420, 'Wellington Importadora', '1997-01-21'), (10421, 'Que Delícia', '1997-01-21'), (10422, 'Franchi S.p.A.', '1997-01-22'), (10423, 'Gourmet Lanchonetes', '1997-01-23'), (10424, 'Mère Paillarde', '1997-01-23'), (10425, \"La maison d'Asie\", '1997-01-24'), (10426, 'Galería del gastrónomo', '1997-01-27'), (10427, 'Piccolo und mehr', '1997-01-27'), (10428, 'Reggiani Caseifici', '1997-01-28'), (10429, 'Hungry Owl All-Night Grocers', '1997-01-29'), (10430, 'Ernst Handel', '1997-01-30'), (10431, 'Bottom-Dollar Marketse', '1997-01-30'), (10432, 'Split Rail Beer & Ale', '1997-01-31'), (10433, 'Princesa Isabel Vinhoss', '1997-02-03'), (10434, 'Folk och fä HB', '1997-02-03'), (10435, 'Consolidated Holdings', '1997-02-04'), (10436, 'Blondel père et fils', '1997-02-05'), (10437, 'Wartian Herkku', '1997-02-05'), (10438, 'Toms Spezialitäten', '1997-02-06'), (10439, 'Mère Paillarde', '1997-02-07'), (10440, 'Save-a-lot Markets', '1997-02-10'), (10441, 'Old World Delicatessen', '1997-02-10'), (10442, 'Ernst Handel', '1997-02-11'), (10443, 'Reggiani Caseifici', '1997-02-12')]\n"
     ]
    }
   ],
   "execution_count": 719
  },
  {
   "metadata": {
    "ExecuteTime": {
     "end_time": "2024-07-10T08:15:20.679588Z",
     "start_time": "2024-07-10T08:15:20.677464Z"
    }
   },
   "cell_type": "code",
   "source": [
    "print(send_query(\"\"\"\n",
    "SELECT ProductID, ProductName, CategoryName\n",
    "FROM Products\n",
    "INNER JOIN Categories ON Products.CategoryID = Categories.CategoryID;\n",
    "\"\"\"))"
   ],
   "id": "32f473e1795ba44a",
   "outputs": [
    {
     "name": "stdout",
     "output_type": "stream",
     "text": [
      "[(1, 'Chais', 'Beverages'), (2, 'Chang', 'Beverages'), (3, 'Aniseed Syrup', 'Condiments'), (4, \"Chef Anton's Cajun Seasoning\", 'Condiments'), (5, \"Chef Anton's Gumbo Mix\", 'Condiments'), (6, \"Grandma's Boysenberry Spread\", 'Condiments'), (7, \"Uncle Bob's Organic Dried Pears\", 'Produce'), (8, 'Northwoods Cranberry Sauce', 'Condiments'), (9, 'Mishi Kobe Niku', 'Meat/Poultry'), (10, 'Ikura', 'Seafood'), (11, 'Queso Cabrales', 'Dairy Products'), (12, 'Queso Manchego La Pastora', 'Dairy Products'), (13, 'Konbu', 'Seafood'), (14, 'Tofu', 'Produce'), (15, 'Genen Shouyu', 'Condiments'), (16, 'Pavlova', 'Confections'), (17, 'Alice Mutton', 'Meat/Poultry'), (18, 'Carnarvon Tigers', 'Seafood'), (19, 'Teatime Chocolate Biscuits', 'Confections'), (20, \"Sir Rodney's Marmalade\", 'Confections'), (21, \"Sir Rodney's Scones\", 'Confections'), (22, \"Gustaf's Knäckebröd\", 'Grains/Cereals'), (23, 'Tunnbröd', 'Grains/Cereals'), (24, 'Guaraná Fantástica', 'Beverages'), (25, 'NuNuCa Nuß-Nougat-Creme', 'Confections'), (26, 'Gumbär Gummibärchen', 'Confections'), (27, 'Schoggi Schokolade', 'Confections'), (28, 'Rössle Sauerkraut', 'Produce'), (29, 'Thüringer Rostbratwurst', 'Meat/Poultry'), (30, 'Nord-Ost Matjeshering', 'Seafood'), (31, 'Gorgonzola Telino', 'Dairy Products'), (32, 'Mascarpone Fabioli', 'Dairy Products'), (33, 'Geitost', 'Dairy Products'), (34, 'Sasquatch Ale', 'Beverages'), (35, 'Steeleye Stout', 'Beverages'), (36, 'Inlagd Sill', 'Seafood'), (37, 'Gravad lax', 'Seafood'), (38, 'Côte de Blaye', 'Beverages'), (39, 'Chartreuse verte', 'Beverages'), (40, 'Boston Crab Meat', 'Seafood'), (41, \"Jack's New England Clam Chowder\", 'Seafood'), (42, 'Singaporean Hokkien Fried Mee', 'Grains/Cereals'), (43, 'Ipoh Coffee', 'Beverages'), (44, 'Gula Malacca', 'Condiments'), (45, 'Røgede sild', 'Seafood'), (46, 'Spegesild', 'Seafood'), (47, 'Zaanse koeken', 'Confections'), (48, 'Chocolade', 'Confections'), (49, 'Maxilaku', 'Confections'), (50, 'Valkoinen suklaa', 'Confections'), (51, 'Manjimup Dried Apples', 'Produce'), (52, 'Filo Mix', 'Grains/Cereals'), (53, 'Perth Pasties', 'Meat/Poultry'), (54, 'Tourtière', 'Meat/Poultry'), (55, 'Pâté chinois', 'Meat/Poultry'), (56, 'Gnocchi di nonna Alice', 'Grains/Cereals'), (57, 'Ravioli Angelo', 'Grains/Cereals'), (58, 'Escargots de Bourgogne', 'Seafood'), (59, 'Raclette Courdavault', 'Dairy Products'), (60, 'Camembert Pierrot', 'Dairy Products'), (61, \"Sirop d'érable\", 'Condiments'), (62, 'Tarte au sucre', 'Confections'), (63, 'Vegie-spread', 'Condiments'), (64, 'Wimmers gute Semmelknödel', 'Grains/Cereals'), (65, 'Louisiana Fiery Hot Pepper Sauce', 'Condiments'), (66, 'Louisiana Hot Spiced Okra', 'Condiments'), (67, 'Laughing Lumberjack Lager', 'Beverages'), (68, 'Scottish Longbreads', 'Confections'), (69, 'Gudbrandsdalsost', 'Dairy Products'), (70, 'Outback Lager', 'Beverages'), (71, 'Fløtemysost', 'Dairy Products'), (72, 'Mozzarella di Giovanni', 'Dairy Products'), (73, 'Röd Kaviar', 'Seafood'), (74, 'Longlife Tofu', 'Produce'), (75, 'Rhönbräu Klosterbier', 'Beverages'), (76, 'Lakkalikööri', 'Beverages'), (77, 'Original Frankfurter grüne Soße', 'Condiments')]\n"
     ]
    }
   ],
   "execution_count": 720
  },
  {
   "metadata": {
    "ExecuteTime": {
     "end_time": "2024-07-10T08:15:20.730941Z",
     "start_time": "2024-07-10T08:15:20.728708Z"
    }
   },
   "cell_type": "code",
   "source": [
    "print(send_query(\"\"\"\n",
    "SELECT Orders.OrderID, Customers.CustomerName, Shippers.ShipperName\n",
    "FROM ((Orders\n",
    "INNER JOIN Customers ON Orders.CustomerID = Customers.CustomerID)\n",
    "INNER JOIN Shippers ON Orders.ShipperID = Shippers.ShipperID);\n",
    "\"\"\"))"
   ],
   "id": "fa6073929a9967e9",
   "outputs": [
    {
     "name": "stdout",
     "output_type": "stream",
     "text": [
      "[(10248, 'Wilman Kala', 'Federal Shipping'), (10249, 'Tradição Hipermercados', 'Speedy Express'), (10250, 'Hanari Carnes', 'United Package'), (10251, 'Victuailles en stock', 'Speedy Express'), (10252, 'Suprêmes délices', 'United Package'), (10253, 'Hanari Carnes', 'United Package'), (10254, 'Chop-suey Chinese', 'United Package'), (10255, 'Richter Supermarkt', 'Federal Shipping'), (10256, 'Wellington Importadora', 'United Package'), (10257, 'HILARIÓN-Abastos', 'Federal Shipping'), (10258, 'Ernst Handel', 'Speedy Express'), (10259, 'Centro comercial Moctezuma', 'Federal Shipping'), (10260, 'Old World Delicatessen', 'Speedy Express'), (10261, 'Que Delícia', 'United Package'), (10262, 'Rattlesnake Canyon Grocery', 'Federal Shipping'), (10263, 'Ernst Handel', 'Federal Shipping'), (10264, 'Folk och fä HB', 'Federal Shipping'), (10265, 'Blondel père et fils', 'Speedy Express'), (10266, 'Wartian Herkku', 'Federal Shipping'), (10267, 'Frankenversand', 'Speedy Express'), (10268, 'GROSELLA-Restaurante', 'Federal Shipping'), (10269, 'White Clover Markets', 'Speedy Express'), (10270, 'Wartian Herkku', 'Speedy Express'), (10271, 'Split Rail Beer & Ale', 'United Package'), (10272, 'Rattlesnake Canyon Grocery', 'United Package'), (10273, 'QUICK-Stop', 'Federal Shipping'), (10274, 'Vins et alcools Chevalier', 'Speedy Express'), (10275, 'Magazzini Alimentari Riuniti', 'Speedy Express'), (10276, 'Tortuga Restaurante', 'Federal Shipping'), (10277, 'Morgenstern Gesundkost', 'Federal Shipping'), (10278, 'Berglunds snabbköp', 'United Package'), (10279, 'Lehmanns Marktstand', 'United Package'), (10280, 'Berglunds snabbköp', 'Speedy Express'), (10281, 'Romero y tomillo', 'Speedy Express'), (10282, 'Romero y tomillo', 'Speedy Express'), (10283, 'LILA-Supermercado', 'Federal Shipping'), (10284, 'Lehmanns Marktstand', 'Speedy Express'), (10285, 'QUICK-Stop', 'United Package'), (10286, 'QUICK-Stop', 'Federal Shipping'), (10287, 'Ricardo Adocicados', 'Federal Shipping'), (10288, 'Reggiani Caseifici', 'Speedy Express'), (10289, \"B's Beverages\", 'Federal Shipping'), (10290, 'Comércio Mineiro', 'Speedy Express'), (10291, 'Que Delícia', 'United Package'), (10292, 'Tradição Hipermercados', 'United Package'), (10293, 'Tortuga Restaurante', 'Federal Shipping'), (10294, 'Rattlesnake Canyon Grocery', 'United Package'), (10295, 'Vins et alcools Chevalier', 'United Package'), (10296, 'LILA-Supermercado', 'Speedy Express'), (10297, 'Blondel père et fils', 'United Package'), (10298, 'Hungry Owl All-Night Grocers', 'United Package'), (10299, 'Ricardo Adocicados', 'United Package'), (10300, 'Magazzini Alimentari Riuniti', 'United Package'), (10301, 'Die Wandernde Kuh', 'United Package'), (10302, 'Suprêmes délices', 'United Package'), (10303, 'Godos Cocina Típica', 'United Package'), (10304, 'Tortuga Restaurante', 'United Package'), (10305, 'Old World Delicatessen', 'Federal Shipping'), (10306, 'Romero y tomillo', 'Federal Shipping'), (10307, 'Lonesome Pine Restaurant', 'United Package'), (10308, 'Ana Trujillo Emparedados y helados', 'Federal Shipping'), (10309, 'Hungry Owl All-Night Grocers', 'Speedy Express'), (10310, 'The Big Cheese', 'United Package'), (10311, 'Du monde entier', 'Federal Shipping'), (10312, 'Die Wandernde Kuh', 'United Package'), (10313, 'QUICK-Stop', 'United Package'), (10314, 'Rattlesnake Canyon Grocery', 'United Package'), (10315, 'Island Trading', 'United Package'), (10316, 'Rattlesnake Canyon Grocery', 'Federal Shipping'), (10317, 'Lonesome Pine Restaurant', 'Speedy Express'), (10318, 'Island Trading', 'United Package'), (10319, 'Tortuga Restaurante', 'Federal Shipping'), (10320, 'Wartian Herkku', 'Federal Shipping'), (10321, 'Island Trading', 'United Package'), (10322, 'Pericles Comidas clásicas', 'Federal Shipping'), (10323, 'Königlich Essen', 'Speedy Express'), (10324, 'Save-a-lot Markets', 'Speedy Express'), (10325, 'Königlich Essen', 'Federal Shipping'), (10326, 'Bólido Comidas preparadas', 'United Package'), (10327, 'Folk och fä HB', 'Speedy Express'), (10328, 'Furia Bacalhau e Frutos do Mar', 'Federal Shipping'), (10329, 'Split Rail Beer & Ale', 'United Package'), (10330, 'LILA-Supermercado', 'Speedy Express'), (10331, \"Bon app'\", 'Speedy Express'), (10332, 'Mère Paillarde', 'United Package'), (10333, 'Wartian Herkku', 'Federal Shipping'), (10334, 'Victuailles en stock', 'United Package'), (10335, 'Hungry Owl All-Night Grocers', 'United Package'), (10336, 'Princesa Isabel Vinhoss', 'United Package'), (10337, 'Frankenversand', 'Federal Shipping'), (10338, 'Old World Delicatessen', 'Federal Shipping'), (10339, 'Mère Paillarde', 'United Package'), (10340, \"Bon app'\", 'Federal Shipping'), (10341, 'Simons bistro', 'Federal Shipping'), (10342, 'Frankenversand', 'United Package'), (10343, 'Lehmanns Marktstand', 'Speedy Express'), (10344, 'White Clover Markets', 'United Package'), (10345, 'QUICK-Stop', 'United Package'), (10346, 'Rattlesnake Canyon Grocery', 'Federal Shipping'), (10347, 'Familia Arquibaldo', 'Federal Shipping'), (10348, 'Die Wandernde Kuh', 'United Package'), (10349, 'Split Rail Beer & Ale', 'Speedy Express'), (10350, \"La maison d'Asie\", 'United Package'), (10351, 'Ernst Handel', 'Speedy Express'), (10352, 'Furia Bacalhau e Frutos do Mar', 'Federal Shipping'), (10353, 'Piccolo und mehr', 'Federal Shipping'), (10354, 'Pericles Comidas clásicas', 'Federal Shipping'), (10355, 'Around the Horn', 'Speedy Express'), (10356, 'Die Wandernde Kuh', 'United Package'), (10357, 'LILA-Supermercado', 'Federal Shipping'), (10358, \"La maison d'Asie\", 'Speedy Express'), (10359, 'Seven Seas Imports', 'Federal Shipping'), (10360, 'Blondel père et fils', 'Federal Shipping'), (10361, 'QUICK-Stop', 'United Package'), (10362, \"Bon app'\", 'Speedy Express'), (10363, 'Drachenblut Delikatessend', 'Federal Shipping'), (10364, 'Eastern Connection', 'Speedy Express'), (10365, 'Antonio Moreno Taquería', 'United Package'), (10366, 'Galería del gastrónomo', 'United Package'), (10367, 'Vaffeljernet', 'Federal Shipping'), (10368, 'Ernst Handel', 'United Package'), (10369, 'Split Rail Beer & Ale', 'United Package'), (10370, 'Chop-suey Chinese', 'United Package'), (10371, \"La maison d'Asie\", 'Speedy Express'), (10372, 'Queen Cozinha', 'United Package'), (10373, 'Hungry Owl All-Night Grocers', 'Federal Shipping'), (10374, 'Wolski', 'Federal Shipping'), (10375, 'Hungry Coyote Import Store', 'United Package'), (10376, 'Mère Paillarde', 'United Package'), (10377, 'Seven Seas Imports', 'Federal Shipping'), (10378, 'Folk och fä HB', 'Federal Shipping'), (10379, 'Que Delícia', 'Speedy Express'), (10380, 'Hungry Owl All-Night Grocers', 'Federal Shipping'), (10381, 'LILA-Supermercado', 'Federal Shipping'), (10382, 'Ernst Handel', 'Speedy Express'), (10383, 'Around the Horn', 'Federal Shipping'), (10384, 'Berglunds snabbköp', 'Federal Shipping'), (10385, 'Split Rail Beer & Ale', 'United Package'), (10386, 'Familia Arquibaldo', 'Federal Shipping'), (10387, 'Santé Gourmet', 'United Package'), (10388, 'Seven Seas Imports', 'Speedy Express'), (10389, 'Bottom-Dollar Marketse', 'United Package'), (10390, 'Ernst Handel', 'Speedy Express'), (10391, 'Drachenblut Delikatessend', 'Federal Shipping'), (10392, 'Piccolo und mehr', 'Federal Shipping'), (10393, 'Save-a-lot Markets', 'Federal Shipping'), (10394, 'Hungry Coyote Import Store', 'Federal Shipping'), (10395, 'HILARIÓN-Abastos', 'Speedy Express'), (10396, 'Frankenversand', 'Federal Shipping'), (10397, 'Princesa Isabel Vinhoss', 'Speedy Express'), (10398, 'Save-a-lot Markets', 'Federal Shipping'), (10399, 'Vaffeljernet', 'Federal Shipping'), (10400, 'Eastern Connection', 'Federal Shipping'), (10401, 'Rattlesnake Canyon Grocery', 'Speedy Express'), (10402, 'Ernst Handel', 'United Package'), (10403, 'Ernst Handel', 'Federal Shipping'), (10404, 'Magazzini Alimentari Riuniti', 'Speedy Express'), (10405, 'LINO-Delicateses', 'Speedy Express'), (10406, 'Queen Cozinha', 'Speedy Express'), (10407, 'Ottilies Käseladen', 'United Package'), (10408, 'Folies gourmandes', 'Speedy Express'), (10409, 'Océano Atlántico Ltda.', 'Speedy Express'), (10410, 'Bottom-Dollar Marketse', 'Federal Shipping'), (10411, 'Bottom-Dollar Marketse', 'Federal Shipping'), (10412, 'Wartian Herkku', 'United Package'), (10413, \"La maison d'Asie\", 'United Package'), (10414, 'Familia Arquibaldo', 'Federal Shipping'), (10415, 'Hungry Coyote Import Store', 'Speedy Express'), (10416, 'Wartian Herkku', 'Federal Shipping'), (10417, 'Simons bistro', 'Federal Shipping'), (10418, 'QUICK-Stop', 'Speedy Express'), (10419, 'Richter Supermarkt', 'United Package'), (10420, 'Wellington Importadora', 'Speedy Express'), (10421, 'Que Delícia', 'Speedy Express'), (10422, 'Franchi S.p.A.', 'Speedy Express'), (10423, 'Gourmet Lanchonetes', 'Federal Shipping'), (10424, 'Mère Paillarde', 'United Package'), (10425, \"La maison d'Asie\", 'United Package'), (10426, 'Galería del gastrónomo', 'Speedy Express'), (10427, 'Piccolo und mehr', 'United Package'), (10428, 'Reggiani Caseifici', 'Speedy Express'), (10429, 'Hungry Owl All-Night Grocers', 'United Package'), (10430, 'Ernst Handel', 'Speedy Express'), (10431, 'Bottom-Dollar Marketse', 'United Package'), (10432, 'Split Rail Beer & Ale', 'United Package'), (10433, 'Princesa Isabel Vinhoss', 'Federal Shipping'), (10434, 'Folk och fä HB', 'United Package'), (10435, 'Consolidated Holdings', 'United Package'), (10436, 'Blondel père et fils', 'United Package'), (10437, 'Wartian Herkku', 'Speedy Express'), (10438, 'Toms Spezialitäten', 'United Package'), (10439, 'Mère Paillarde', 'Federal Shipping'), (10440, 'Save-a-lot Markets', 'United Package'), (10441, 'Old World Delicatessen', 'United Package'), (10442, 'Ernst Handel', 'United Package'), (10443, 'Reggiani Caseifici', 'Speedy Express')]\n"
     ]
    }
   ],
   "execution_count": 721
  },
  {
   "metadata": {
    "ExecuteTime": {
     "end_time": "2024-07-10T08:15:20.908928Z",
     "start_time": "2024-07-10T08:15:20.906363Z"
    }
   },
   "cell_type": "code",
   "source": [
    "print(send_query(\"\"\"\n",
    "SELECT Customers.CustomerName, Orders.OrderID\n",
    "FROM Customers\n",
    "LEFT JOIN Orders ON Customers.CustomerID = Orders.CustomerID\n",
    "ORDER BY Customers.CustomerName;\n",
    "\"\"\"))"
   ],
   "id": "53c6d0f4c345c6a3",
   "outputs": [
    {
     "name": "stdout",
     "output_type": "stream",
     "text": [
      "[('Alfreds Futterkiste', None), ('Ana Trujillo Emparedados y helados', 10308), ('Antonio Moreno Taquería', 10365), ('Around the Horn', 10355), ('Around the Horn', 10383), (\"B's Beverages\", 10289), ('Berglunds snabbköp', 10278), ('Berglunds snabbköp', 10280), ('Berglunds snabbköp', 10384), ('Blauer See Delikatessen', None), ('Blondel père et fils', 10265), ('Blondel père et fils', 10297), ('Blondel père et fils', 10360), ('Blondel père et fils', 10436), (\"Bon app'\", 10331), (\"Bon app'\", 10340), (\"Bon app'\", 10362), ('Bottom-Dollar Marketse', 10389), ('Bottom-Dollar Marketse', 10410), ('Bottom-Dollar Marketse', 10411), ('Bottom-Dollar Marketse', 10431), ('Bólido Comidas preparadas', 10326), ('Cactus Comidas para llevar', None), ('Centro comercial Moctezuma', 10259), ('Chop-suey Chinese', 10254), ('Chop-suey Chinese', 10370), ('Comércio Mineiro', 10290), ('Consolidated Holdings', 10435), ('Die Wandernde Kuh', 10301), ('Die Wandernde Kuh', 10312), ('Die Wandernde Kuh', 10348), ('Die Wandernde Kuh', 10356), ('Drachenblut Delikatessend', 10363), ('Drachenblut Delikatessend', 10391), ('Du monde entier', 10311), ('Eastern Connection', 10364), ('Eastern Connection', 10400), ('Ernst Handel', 10258), ('Ernst Handel', 10263), ('Ernst Handel', 10351), ('Ernst Handel', 10368), ('Ernst Handel', 10382), ('Ernst Handel', 10390), ('Ernst Handel', 10402), ('Ernst Handel', 10403), ('Ernst Handel', 10430), ('Ernst Handel', 10442), ('FISSA Fabrica Inter. Salchichas S.A.', None), ('Familia Arquibaldo', 10347), ('Familia Arquibaldo', 10386), ('Familia Arquibaldo', 10414), ('Folies gourmandes', 10408), ('Folk och fä HB', 10264), ('Folk och fä HB', 10327), ('Folk och fä HB', 10378), ('Folk och fä HB', 10434), ('France restauration', None), ('Franchi S.p.A.', 10422), ('Frankenversand', 10267), ('Frankenversand', 10337), ('Frankenversand', 10342), ('Frankenversand', 10396), ('Furia Bacalhau e Frutos do Mar', 10328), ('Furia Bacalhau e Frutos do Mar', 10352), ('GROSELLA-Restaurante', 10268), ('Galería del gastrónomo', 10366), ('Galería del gastrónomo', 10426), ('Godos Cocina Típica', 10303), ('Gourmet Lanchonetes', 10423), ('Great Lakes Food Market', None), ('HILARIÓN-Abastos', 10257), ('HILARIÓN-Abastos', 10395), ('Hanari Carnes', 10250), ('Hanari Carnes', 10253), ('Hungry Coyote Import Store', 10375), ('Hungry Coyote Import Store', 10394), ('Hungry Coyote Import Store', 10415), ('Hungry Owl All-Night Grocers', 10298), ('Hungry Owl All-Night Grocers', 10309), ('Hungry Owl All-Night Grocers', 10335), ('Hungry Owl All-Night Grocers', 10373), ('Hungry Owl All-Night Grocers', 10380), ('Hungry Owl All-Night Grocers', 10429), ('Island Trading', 10315), ('Island Trading', 10318), ('Island Trading', 10321), ('Königlich Essen', 10323), ('Königlich Essen', 10325), ('LILA-Supermercado', 10283), ('LILA-Supermercado', 10296), ('LILA-Supermercado', 10330), ('LILA-Supermercado', 10357), ('LILA-Supermercado', 10381), ('LINO-Delicateses', 10405), (\"La corne d'abondance\", None), (\"La maison d'Asie\", 10350), (\"La maison d'Asie\", 10358), (\"La maison d'Asie\", 10371), (\"La maison d'Asie\", 10413), (\"La maison d'Asie\", 10425), ('Laughing Bacchus Wine Cellars', None), ('Lazy K Kountry Store', None), ('Lehmanns Marktstand', 10279), ('Lehmanns Marktstand', 10284), ('Lehmanns Marktstand', 10343), (\"Let's Stop N Shop\", None), ('Lonesome Pine Restaurant', 10307), ('Lonesome Pine Restaurant', 10317), ('Magazzini Alimentari Riuniti', 10275), ('Magazzini Alimentari Riuniti', 10300), ('Magazzini Alimentari Riuniti', 10404), ('Maison Dewey', None), ('Morgenstern Gesundkost', 10277), ('Mère Paillarde', 10332), ('Mère Paillarde', 10339), ('Mère Paillarde', 10376), ('Mère Paillarde', 10424), ('Mère Paillarde', 10439), ('North/South', None), ('Océano Atlántico Ltda.', 10409), ('Old World Delicatessen', 10260), ('Old World Delicatessen', 10305), ('Old World Delicatessen', 10338), ('Old World Delicatessen', 10441), ('Ottilies Käseladen', 10407), ('Paris spécialités', None), ('Pericles Comidas clásicas', 10322), ('Pericles Comidas clásicas', 10354), ('Piccolo und mehr', 10353), ('Piccolo und mehr', 10392), ('Piccolo und mehr', 10427), ('Princesa Isabel Vinhoss', 10336), ('Princesa Isabel Vinhoss', 10397), ('Princesa Isabel Vinhoss', 10433), ('QUICK-Stop', 10273), ('QUICK-Stop', 10285), ('QUICK-Stop', 10286), ('QUICK-Stop', 10313), ('QUICK-Stop', 10345), ('QUICK-Stop', 10361), ('QUICK-Stop', 10418), ('Que Delícia', 10261), ('Que Delícia', 10291), ('Que Delícia', 10379), ('Que Delícia', 10421), ('Queen Cozinha', 10372), ('Queen Cozinha', 10406), ('Rancho grande', None), ('Rattlesnake Canyon Grocery', 10262), ('Rattlesnake Canyon Grocery', 10272), ('Rattlesnake Canyon Grocery', 10294), ('Rattlesnake Canyon Grocery', 10314), ('Rattlesnake Canyon Grocery', 10316), ('Rattlesnake Canyon Grocery', 10346), ('Rattlesnake Canyon Grocery', 10401), ('Reggiani Caseifici', 10288), ('Reggiani Caseifici', 10428), ('Reggiani Caseifici', 10443), ('Ricardo Adocicados', 10287), ('Ricardo Adocicados', 10299), ('Richter Supermarkt', 10255), ('Richter Supermarkt', 10419), ('Romero y tomillo', 10281), ('Romero y tomillo', 10282), ('Romero y tomillo', 10306), ('Santé Gourmet', 10387), ('Save-a-lot Markets', 10324), ('Save-a-lot Markets', 10393), ('Save-a-lot Markets', 10398), ('Save-a-lot Markets', 10440), ('Seven Seas Imports', 10359), ('Seven Seas Imports', 10377), ('Seven Seas Imports', 10388), ('Simons bistro', 10341), ('Simons bistro', 10417), ('Split Rail Beer & Ale', 10271), ('Split Rail Beer & Ale', 10329), ('Split Rail Beer & Ale', 10349), ('Split Rail Beer & Ale', 10369), ('Split Rail Beer & Ale', 10385), ('Split Rail Beer & Ale', 10432), ('Spécialités du monde', None), ('Suprêmes délices', 10252), ('Suprêmes délices', 10302), ('The Big Cheese', 10310), ('The Cracker Box', None), ('Toms Spezialitäten', 10438), ('Tortuga Restaurante', 10276), ('Tortuga Restaurante', 10293), ('Tortuga Restaurante', 10304), ('Tortuga Restaurante', 10319), ('Tradição Hipermercados', 10249), ('Tradição Hipermercados', 10292), (\"Trail's Head Gourmet Provisioners\", None), ('Vaffeljernet', 10367), ('Vaffeljernet', 10399), ('Victuailles en stock', 10251), ('Victuailles en stock', 10334), ('Vins et alcools Chevalier', 10274), ('Vins et alcools Chevalier', 10295), ('Wartian Herkku', 10266), ('Wartian Herkku', 10270), ('Wartian Herkku', 10320), ('Wartian Herkku', 10333), ('Wartian Herkku', 10412), ('Wartian Herkku', 10416), ('Wartian Herkku', 10437), ('Wellington Importadora', 10256), ('Wellington Importadora', 10420), ('White Clover Markets', 10269), ('White Clover Markets', 10344), ('Wilman Kala', 10248), ('Wolski', 10374)]\n"
     ]
    }
   ],
   "execution_count": 722
  },
  {
   "metadata": {
    "ExecuteTime": {
     "end_time": "2024-07-10T08:15:20.981972Z",
     "start_time": "2024-07-10T08:15:20.979253Z"
    }
   },
   "cell_type": "code",
   "source": [
    "print(send_query(\"\"\"\n",
    "SELECT Orders.OrderID, Employees.LastName, Employees.FirstName\n",
    "FROM Orders\n",
    "RIGHT JOIN Employees ON Orders.EmployeeID = Employees.EmployeeID\n",
    "ORDER BY Orders.OrderID;\n",
    "\"\"\"))"
   ],
   "id": "ed73b07ad40840e6",
   "outputs": [
    {
     "name": "stdout",
     "output_type": "stream",
     "text": [
      "[(None, 'West', 'Adam'), (10248, 'Buchanan', 'Steven'), (10249, 'Suyama', 'Michael'), (10250, 'Peacock', 'Margaret'), (10251, 'Leverling', 'Janet'), (10252, 'Peacock', 'Margaret'), (10253, 'Leverling', 'Janet'), (10254, 'Buchanan', 'Steven'), (10255, 'Dodsworth', 'Anne'), (10256, 'Leverling', 'Janet'), (10257, 'Peacock', 'Margaret'), (10258, 'Davolio', 'Nancy'), (10259, 'Peacock', 'Margaret'), (10260, 'Peacock', 'Margaret'), (10261, 'Peacock', 'Margaret'), (10262, 'Callahan', 'Laura'), (10263, 'Dodsworth', 'Anne'), (10264, 'Suyama', 'Michael'), (10265, 'Fuller', 'Andrew'), (10266, 'Leverling', 'Janet'), (10267, 'Peacock', 'Margaret'), (10268, 'Callahan', 'Laura'), (10269, 'Buchanan', 'Steven'), (10270, 'Davolio', 'Nancy'), (10271, 'Suyama', 'Michael'), (10272, 'Suyama', 'Michael'), (10273, 'Leverling', 'Janet'), (10274, 'Suyama', 'Michael'), (10275, 'Davolio', 'Nancy'), (10276, 'Callahan', 'Laura'), (10277, 'Fuller', 'Andrew'), (10278, 'Callahan', 'Laura'), (10279, 'Callahan', 'Laura'), (10280, 'Fuller', 'Andrew'), (10281, 'Peacock', 'Margaret'), (10282, 'Peacock', 'Margaret'), (10283, 'Leverling', 'Janet'), (10284, 'Peacock', 'Margaret'), (10285, 'Davolio', 'Nancy'), (10286, 'Callahan', 'Laura'), (10287, 'Callahan', 'Laura'), (10288, 'Peacock', 'Margaret'), (10289, 'King', 'Robert'), (10290, 'Callahan', 'Laura'), (10291, 'Suyama', 'Michael'), (10292, 'Davolio', 'Nancy'), (10293, 'Davolio', 'Nancy'), (10294, 'Peacock', 'Margaret'), (10295, 'Fuller', 'Andrew'), (10296, 'Suyama', 'Michael'), (10297, 'Buchanan', 'Steven'), (10298, 'Suyama', 'Michael'), (10299, 'Peacock', 'Margaret'), (10300, 'Fuller', 'Andrew'), (10301, 'Callahan', 'Laura'), (10302, 'Peacock', 'Margaret'), (10303, 'King', 'Robert'), (10304, 'Davolio', 'Nancy'), (10305, 'Callahan', 'Laura'), (10306, 'Davolio', 'Nancy'), (10307, 'Fuller', 'Andrew'), (10308, 'King', 'Robert'), (10309, 'Leverling', 'Janet'), (10310, 'Callahan', 'Laura'), (10311, 'Davolio', 'Nancy'), (10312, 'Fuller', 'Andrew'), (10313, 'Fuller', 'Andrew'), (10314, 'Davolio', 'Nancy'), (10315, 'Peacock', 'Margaret'), (10316, 'Davolio', 'Nancy'), (10317, 'Suyama', 'Michael'), (10318, 'Callahan', 'Laura'), (10319, 'King', 'Robert'), (10320, 'Buchanan', 'Steven'), (10321, 'Leverling', 'Janet'), (10322, 'King', 'Robert'), (10323, 'Peacock', 'Margaret'), (10324, 'Dodsworth', 'Anne'), (10325, 'Davolio', 'Nancy'), (10326, 'Peacock', 'Margaret'), (10327, 'Fuller', 'Andrew'), (10328, 'Peacock', 'Margaret'), (10329, 'Peacock', 'Margaret'), (10330, 'Leverling', 'Janet'), (10331, 'Dodsworth', 'Anne'), (10332, 'Leverling', 'Janet'), (10333, 'Buchanan', 'Steven'), (10334, 'Callahan', 'Laura'), (10335, 'King', 'Robert'), (10336, 'King', 'Robert'), (10337, 'Peacock', 'Margaret'), (10338, 'Peacock', 'Margaret'), (10339, 'Fuller', 'Andrew'), (10340, 'Davolio', 'Nancy'), (10341, 'King', 'Robert'), (10342, 'Peacock', 'Margaret'), (10343, 'Peacock', 'Margaret'), (10344, 'Peacock', 'Margaret'), (10345, 'Fuller', 'Andrew'), (10346, 'Leverling', 'Janet'), (10347, 'Peacock', 'Margaret'), (10348, 'Peacock', 'Margaret'), (10349, 'King', 'Robert'), (10350, 'Suyama', 'Michael'), (10351, 'Davolio', 'Nancy'), (10352, 'Leverling', 'Janet'), (10353, 'King', 'Robert'), (10354, 'Callahan', 'Laura'), (10355, 'Suyama', 'Michael'), (10356, 'Suyama', 'Michael'), (10357, 'Davolio', 'Nancy'), (10358, 'Buchanan', 'Steven'), (10359, 'Buchanan', 'Steven'), (10360, 'Peacock', 'Margaret'), (10361, 'Davolio', 'Nancy'), (10362, 'Leverling', 'Janet'), (10363, 'Peacock', 'Margaret'), (10364, 'Davolio', 'Nancy'), (10365, 'Leverling', 'Janet'), (10366, 'Callahan', 'Laura'), (10367, 'King', 'Robert'), (10368, 'Fuller', 'Andrew'), (10369, 'Callahan', 'Laura'), (10370, 'Suyama', 'Michael'), (10371, 'Davolio', 'Nancy'), (10372, 'Buchanan', 'Steven'), (10373, 'Peacock', 'Margaret'), (10374, 'Davolio', 'Nancy'), (10375, 'Leverling', 'Janet'), (10376, 'Davolio', 'Nancy'), (10377, 'Davolio', 'Nancy'), (10378, 'Buchanan', 'Steven'), (10379, 'Fuller', 'Andrew'), (10380, 'Callahan', 'Laura'), (10381, 'Leverling', 'Janet'), (10382, 'Peacock', 'Margaret'), (10383, 'Callahan', 'Laura'), (10384, 'Leverling', 'Janet'), (10385, 'Davolio', 'Nancy'), (10386, 'Dodsworth', 'Anne'), (10387, 'Davolio', 'Nancy'), (10388, 'Fuller', 'Andrew'), (10389, 'Peacock', 'Margaret'), (10390, 'Suyama', 'Michael'), (10391, 'Leverling', 'Janet'), (10392, 'Fuller', 'Andrew'), (10393, 'Davolio', 'Nancy'), (10394, 'Davolio', 'Nancy'), (10395, 'Suyama', 'Michael'), (10396, 'Davolio', 'Nancy'), (10397, 'Buchanan', 'Steven'), (10398, 'Fuller', 'Andrew'), (10399, 'Callahan', 'Laura'), (10400, 'Davolio', 'Nancy'), (10401, 'Davolio', 'Nancy'), (10402, 'Callahan', 'Laura'), (10403, 'Peacock', 'Margaret'), (10404, 'Fuller', 'Andrew'), (10405, 'Davolio', 'Nancy'), (10406, 'King', 'Robert'), (10407, 'Fuller', 'Andrew'), (10408, 'Callahan', 'Laura'), (10409, 'Leverling', 'Janet'), (10410, 'Leverling', 'Janet'), (10411, 'Dodsworth', 'Anne'), (10412, 'Callahan', 'Laura'), (10413, 'Leverling', 'Janet'), (10414, 'Fuller', 'Andrew'), (10415, 'Leverling', 'Janet'), (10416, 'Callahan', 'Laura'), (10417, 'Peacock', 'Margaret'), (10418, 'Peacock', 'Margaret'), (10419, 'Peacock', 'Margaret'), (10420, 'Leverling', 'Janet'), (10421, 'Callahan', 'Laura'), (10422, 'Fuller', 'Andrew'), (10423, 'Suyama', 'Michael'), (10424, 'King', 'Robert'), (10425, 'Suyama', 'Michael'), (10426, 'Peacock', 'Margaret'), (10427, 'Peacock', 'Margaret'), (10428, 'King', 'Robert'), (10429, 'Leverling', 'Janet'), (10430, 'Peacock', 'Margaret'), (10431, 'Peacock', 'Margaret'), (10432, 'Leverling', 'Janet'), (10433, 'Leverling', 'Janet'), (10434, 'Leverling', 'Janet'), (10435, 'Callahan', 'Laura'), (10436, 'Leverling', 'Janet'), (10437, 'Callahan', 'Laura'), (10438, 'Leverling', 'Janet'), (10439, 'Suyama', 'Michael'), (10440, 'Peacock', 'Margaret'), (10441, 'Leverling', 'Janet'), (10442, 'Leverling', 'Janet'), (10443, 'Callahan', 'Laura')]\n"
     ]
    }
   ],
   "execution_count": 723
  },
  {
   "metadata": {
    "ExecuteTime": {
     "end_time": "2024-07-10T08:15:21.118246Z",
     "start_time": "2024-07-10T08:15:21.115178Z"
    }
   },
   "cell_type": "code",
   "source": [
    "print(send_query(\"\"\"\n",
    "SELECT Customers.CustomerName, Orders.OrderID\n",
    "FROM Customers\n",
    "FULL OUTER JOIN Orders ON Customers.CustomerID=Orders.CustomerID\n",
    "ORDER BY Customers.CustomerName;\n",
    "\"\"\"))"
   ],
   "id": "43909f8e60d886ef",
   "outputs": [
    {
     "name": "stdout",
     "output_type": "stream",
     "text": [
      "[('Alfreds Futterkiste', None), ('Ana Trujillo Emparedados y helados', 10308), ('Antonio Moreno Taquería', 10365), ('Around the Horn', 10355), ('Around the Horn', 10383), (\"B's Beverages\", 10289), ('Berglunds snabbköp', 10278), ('Berglunds snabbköp', 10280), ('Berglunds snabbköp', 10384), ('Blauer See Delikatessen', None), ('Blondel père et fils', 10265), ('Blondel père et fils', 10297), ('Blondel père et fils', 10360), ('Blondel père et fils', 10436), (\"Bon app'\", 10331), (\"Bon app'\", 10340), (\"Bon app'\", 10362), ('Bottom-Dollar Marketse', 10389), ('Bottom-Dollar Marketse', 10410), ('Bottom-Dollar Marketse', 10411), ('Bottom-Dollar Marketse', 10431), ('Bólido Comidas preparadas', 10326), ('Cactus Comidas para llevar', None), ('Centro comercial Moctezuma', 10259), ('Chop-suey Chinese', 10254), ('Chop-suey Chinese', 10370), ('Comércio Mineiro', 10290), ('Consolidated Holdings', 10435), ('Die Wandernde Kuh', 10301), ('Die Wandernde Kuh', 10312), ('Die Wandernde Kuh', 10348), ('Die Wandernde Kuh', 10356), ('Drachenblut Delikatessend', 10363), ('Drachenblut Delikatessend', 10391), ('Du monde entier', 10311), ('Eastern Connection', 10364), ('Eastern Connection', 10400), ('Ernst Handel', 10258), ('Ernst Handel', 10263), ('Ernst Handel', 10351), ('Ernst Handel', 10368), ('Ernst Handel', 10382), ('Ernst Handel', 10390), ('Ernst Handel', 10402), ('Ernst Handel', 10403), ('Ernst Handel', 10430), ('Ernst Handel', 10442), ('FISSA Fabrica Inter. Salchichas S.A.', None), ('Familia Arquibaldo', 10347), ('Familia Arquibaldo', 10386), ('Familia Arquibaldo', 10414), ('Folies gourmandes', 10408), ('Folk och fä HB', 10264), ('Folk och fä HB', 10327), ('Folk och fä HB', 10378), ('Folk och fä HB', 10434), ('France restauration', None), ('Franchi S.p.A.', 10422), ('Frankenversand', 10267), ('Frankenversand', 10337), ('Frankenversand', 10342), ('Frankenversand', 10396), ('Furia Bacalhau e Frutos do Mar', 10328), ('Furia Bacalhau e Frutos do Mar', 10352), ('GROSELLA-Restaurante', 10268), ('Galería del gastrónomo', 10366), ('Galería del gastrónomo', 10426), ('Godos Cocina Típica', 10303), ('Gourmet Lanchonetes', 10423), ('Great Lakes Food Market', None), ('HILARIÓN-Abastos', 10257), ('HILARIÓN-Abastos', 10395), ('Hanari Carnes', 10250), ('Hanari Carnes', 10253), ('Hungry Coyote Import Store', 10375), ('Hungry Coyote Import Store', 10394), ('Hungry Coyote Import Store', 10415), ('Hungry Owl All-Night Grocers', 10298), ('Hungry Owl All-Night Grocers', 10309), ('Hungry Owl All-Night Grocers', 10335), ('Hungry Owl All-Night Grocers', 10373), ('Hungry Owl All-Night Grocers', 10380), ('Hungry Owl All-Night Grocers', 10429), ('Island Trading', 10315), ('Island Trading', 10318), ('Island Trading', 10321), ('Königlich Essen', 10323), ('Königlich Essen', 10325), ('LILA-Supermercado', 10283), ('LILA-Supermercado', 10296), ('LILA-Supermercado', 10330), ('LILA-Supermercado', 10357), ('LILA-Supermercado', 10381), ('LINO-Delicateses', 10405), (\"La corne d'abondance\", None), (\"La maison d'Asie\", 10350), (\"La maison d'Asie\", 10358), (\"La maison d'Asie\", 10371), (\"La maison d'Asie\", 10413), (\"La maison d'Asie\", 10425), ('Laughing Bacchus Wine Cellars', None), ('Lazy K Kountry Store', None), ('Lehmanns Marktstand', 10279), ('Lehmanns Marktstand', 10284), ('Lehmanns Marktstand', 10343), (\"Let's Stop N Shop\", None), ('Lonesome Pine Restaurant', 10307), ('Lonesome Pine Restaurant', 10317), ('Magazzini Alimentari Riuniti', 10275), ('Magazzini Alimentari Riuniti', 10300), ('Magazzini Alimentari Riuniti', 10404), ('Maison Dewey', None), ('Morgenstern Gesundkost', 10277), ('Mère Paillarde', 10332), ('Mère Paillarde', 10339), ('Mère Paillarde', 10376), ('Mère Paillarde', 10424), ('Mère Paillarde', 10439), ('North/South', None), ('Océano Atlántico Ltda.', 10409), ('Old World Delicatessen', 10260), ('Old World Delicatessen', 10305), ('Old World Delicatessen', 10338), ('Old World Delicatessen', 10441), ('Ottilies Käseladen', 10407), ('Paris spécialités', None), ('Pericles Comidas clásicas', 10322), ('Pericles Comidas clásicas', 10354), ('Piccolo und mehr', 10353), ('Piccolo und mehr', 10392), ('Piccolo und mehr', 10427), ('Princesa Isabel Vinhoss', 10336), ('Princesa Isabel Vinhoss', 10397), ('Princesa Isabel Vinhoss', 10433), ('QUICK-Stop', 10273), ('QUICK-Stop', 10285), ('QUICK-Stop', 10286), ('QUICK-Stop', 10313), ('QUICK-Stop', 10345), ('QUICK-Stop', 10361), ('QUICK-Stop', 10418), ('Que Delícia', 10261), ('Que Delícia', 10291), ('Que Delícia', 10379), ('Que Delícia', 10421), ('Queen Cozinha', 10372), ('Queen Cozinha', 10406), ('Rancho grande', None), ('Rattlesnake Canyon Grocery', 10262), ('Rattlesnake Canyon Grocery', 10272), ('Rattlesnake Canyon Grocery', 10294), ('Rattlesnake Canyon Grocery', 10314), ('Rattlesnake Canyon Grocery', 10316), ('Rattlesnake Canyon Grocery', 10346), ('Rattlesnake Canyon Grocery', 10401), ('Reggiani Caseifici', 10288), ('Reggiani Caseifici', 10428), ('Reggiani Caseifici', 10443), ('Ricardo Adocicados', 10287), ('Ricardo Adocicados', 10299), ('Richter Supermarkt', 10255), ('Richter Supermarkt', 10419), ('Romero y tomillo', 10281), ('Romero y tomillo', 10282), ('Romero y tomillo', 10306), ('Santé Gourmet', 10387), ('Save-a-lot Markets', 10324), ('Save-a-lot Markets', 10393), ('Save-a-lot Markets', 10398), ('Save-a-lot Markets', 10440), ('Seven Seas Imports', 10359), ('Seven Seas Imports', 10377), ('Seven Seas Imports', 10388), ('Simons bistro', 10341), ('Simons bistro', 10417), ('Split Rail Beer & Ale', 10271), ('Split Rail Beer & Ale', 10329), ('Split Rail Beer & Ale', 10349), ('Split Rail Beer & Ale', 10369), ('Split Rail Beer & Ale', 10385), ('Split Rail Beer & Ale', 10432), ('Spécialités du monde', None), ('Suprêmes délices', 10252), ('Suprêmes délices', 10302), ('The Big Cheese', 10310), ('The Cracker Box', None), ('Toms Spezialitäten', 10438), ('Tortuga Restaurante', 10276), ('Tortuga Restaurante', 10293), ('Tortuga Restaurante', 10304), ('Tortuga Restaurante', 10319), ('Tradição Hipermercados', 10249), ('Tradição Hipermercados', 10292), (\"Trail's Head Gourmet Provisioners\", None), ('Vaffeljernet', 10367), ('Vaffeljernet', 10399), ('Victuailles en stock', 10251), ('Victuailles en stock', 10334), ('Vins et alcools Chevalier', 10274), ('Vins et alcools Chevalier', 10295), ('Wartian Herkku', 10266), ('Wartian Herkku', 10270), ('Wartian Herkku', 10320), ('Wartian Herkku', 10333), ('Wartian Herkku', 10412), ('Wartian Herkku', 10416), ('Wartian Herkku', 10437), ('Wellington Importadora', 10256), ('Wellington Importadora', 10420), ('White Clover Markets', 10269), ('White Clover Markets', 10344), ('Wilman Kala', 10248), ('Wolski', 10374)]\n"
     ]
    }
   ],
   "execution_count": 724
  },
  {
   "metadata": {
    "ExecuteTime": {
     "end_time": "2024-07-10T08:15:21.181268Z",
     "start_time": "2024-07-10T08:15:21.178843Z"
    }
   },
   "cell_type": "code",
   "source": [
    "print(send_query(\"\"\"\n",
    "SELECT A.CustomerName AS CustomerName1, B.CustomerName AS CustomerName2, A.City\n",
    "FROM Customers A, Customers B\n",
    "WHERE A.CustomerID <> B.CustomerID\n",
    "AND A.City = B.City\n",
    "ORDER BY A.City;\n",
    "\"\"\"))"
   ],
   "id": "e62d0a4c6e0e7f08",
   "outputs": [
    {
     "name": "stdout",
     "output_type": "stream",
     "text": [
      "[('Cactus Comidas para llevar', 'Océano Atlántico Ltda.', 'Buenos Aires'), ('Cactus Comidas para llevar', 'Rancho grande', 'Buenos Aires'), ('Océano Atlántico Ltda.', 'Cactus Comidas para llevar', 'Buenos Aires'), ('Océano Atlántico Ltda.', 'Rancho grande', 'Buenos Aires'), ('Rancho grande', 'Cactus Comidas para llevar', 'Buenos Aires'), ('Rancho grande', 'Océano Atlántico Ltda.', 'Buenos Aires'), ('Furia Bacalhau e Frutos do Mar', 'Princesa Isabel Vinhoss', 'Lisboa'), ('Princesa Isabel Vinhoss', 'Furia Bacalhau e Frutos do Mar', 'Lisboa'), ('Around the Horn', \"B's Beverages\", 'London'), ('Around the Horn', 'Consolidated Holdings', 'London'), ('Around the Horn', 'Eastern Connection', 'London'), ('Around the Horn', 'North/South', 'London'), ('Around the Horn', 'Seven Seas Imports', 'London'), (\"B's Beverages\", 'Around the Horn', 'London'), (\"B's Beverages\", 'Consolidated Holdings', 'London'), (\"B's Beverages\", 'Eastern Connection', 'London'), (\"B's Beverages\", 'North/South', 'London'), (\"B's Beverages\", 'Seven Seas Imports', 'London'), ('Consolidated Holdings', 'Around the Horn', 'London'), ('Consolidated Holdings', \"B's Beverages\", 'London'), ('Consolidated Holdings', 'Eastern Connection', 'London'), ('Consolidated Holdings', 'North/South', 'London'), ('Consolidated Holdings', 'Seven Seas Imports', 'London'), ('Eastern Connection', 'Around the Horn', 'London'), ('Eastern Connection', \"B's Beverages\", 'London'), ('Eastern Connection', 'Consolidated Holdings', 'London'), ('Eastern Connection', 'North/South', 'London'), ('Eastern Connection', 'Seven Seas Imports', 'London'), ('North/South', 'Around the Horn', 'London'), ('North/South', \"B's Beverages\", 'London'), ('North/South', 'Consolidated Holdings', 'London'), ('North/South', 'Eastern Connection', 'London'), ('North/South', 'Seven Seas Imports', 'London'), ('Seven Seas Imports', 'Around the Horn', 'London'), ('Seven Seas Imports', \"B's Beverages\", 'London'), ('Seven Seas Imports', 'Consolidated Holdings', 'London'), ('Seven Seas Imports', 'Eastern Connection', 'London'), ('Seven Seas Imports', 'North/South', 'London'), ('Bólido Comidas preparadas', 'FISSA Fabrica Inter. Salchichas S.A.', 'Madrid'), ('Bólido Comidas preparadas', 'Romero y tomillo', 'Madrid'), ('FISSA Fabrica Inter. Salchichas S.A.', 'Bólido Comidas preparadas', 'Madrid'), ('FISSA Fabrica Inter. Salchichas S.A.', 'Romero y tomillo', 'Madrid'), ('Romero y tomillo', 'Bólido Comidas preparadas', 'Madrid'), ('Romero y tomillo', 'FISSA Fabrica Inter. Salchichas S.A.', 'Madrid'), ('Ana Trujillo Emparedados y helados', 'Antonio Moreno Taquería', 'México D.F.'), ('Ana Trujillo Emparedados y helados', 'Centro comercial Moctezuma', 'México D.F.'), ('Ana Trujillo Emparedados y helados', 'Pericles Comidas clásicas', 'México D.F.'), ('Ana Trujillo Emparedados y helados', 'Tortuga Restaurante', 'México D.F.'), ('Antonio Moreno Taquería', 'Ana Trujillo Emparedados y helados', 'México D.F.'), ('Antonio Moreno Taquería', 'Centro comercial Moctezuma', 'México D.F.'), ('Antonio Moreno Taquería', 'Pericles Comidas clásicas', 'México D.F.'), ('Antonio Moreno Taquería', 'Tortuga Restaurante', 'México D.F.'), ('Centro comercial Moctezuma', 'Ana Trujillo Emparedados y helados', 'México D.F.'), ('Centro comercial Moctezuma', 'Antonio Moreno Taquería', 'México D.F.'), ('Centro comercial Moctezuma', 'Pericles Comidas clásicas', 'México D.F.'), ('Centro comercial Moctezuma', 'Tortuga Restaurante', 'México D.F.'), ('Pericles Comidas clásicas', 'Ana Trujillo Emparedados y helados', 'México D.F.'), ('Pericles Comidas clásicas', 'Antonio Moreno Taquería', 'México D.F.'), ('Pericles Comidas clásicas', 'Centro comercial Moctezuma', 'México D.F.'), ('Pericles Comidas clásicas', 'Tortuga Restaurante', 'México D.F.'), ('Tortuga Restaurante', 'Ana Trujillo Emparedados y helados', 'México D.F.'), ('Tortuga Restaurante', 'Antonio Moreno Taquería', 'México D.F.'), ('Tortuga Restaurante', 'Centro comercial Moctezuma', 'México D.F.'), ('Tortuga Restaurante', 'Pericles Comidas clásicas', 'México D.F.'), ('Du monde entier', 'France restauration', 'Nantes'), ('France restauration', 'Du monde entier', 'Nantes'), ('Paris spécialités', 'Spécialités du monde', 'Paris'), ('Spécialités du monde', 'Paris spécialités', 'Paris'), ('Lonesome Pine Restaurant', 'The Big Cheese', 'Portland'), ('The Big Cheese', 'Lonesome Pine Restaurant', 'Portland'), ('Hanari Carnes', 'Que Delícia', 'Rio de Janeiro'), ('Hanari Carnes', 'Ricardo Adocicados', 'Rio de Janeiro'), ('Que Delícia', 'Hanari Carnes', 'Rio de Janeiro'), ('Que Delícia', 'Ricardo Adocicados', 'Rio de Janeiro'), ('Ricardo Adocicados', 'Hanari Carnes', 'Rio de Janeiro'), ('Ricardo Adocicados', 'Que Delícia', 'Rio de Janeiro'), ('Comércio Mineiro', 'Familia Arquibaldo', 'São Paulo'), ('Comércio Mineiro', 'Queen Cozinha', 'São Paulo'), ('Comércio Mineiro', 'Tradição Hipermercados', 'São Paulo'), ('Familia Arquibaldo', 'Comércio Mineiro', 'São Paulo'), ('Familia Arquibaldo', 'Queen Cozinha', 'São Paulo'), ('Familia Arquibaldo', 'Tradição Hipermercados', 'São Paulo'), ('Queen Cozinha', 'Comércio Mineiro', 'São Paulo'), ('Queen Cozinha', 'Familia Arquibaldo', 'São Paulo'), ('Queen Cozinha', 'Tradição Hipermercados', 'São Paulo'), ('Tradição Hipermercados', 'Comércio Mineiro', 'São Paulo'), ('Tradição Hipermercados', 'Familia Arquibaldo', 'São Paulo'), ('Tradição Hipermercados', 'Queen Cozinha', 'São Paulo')]\n"
     ]
    }
   ],
   "execution_count": 725
  },
  {
   "metadata": {
    "ExecuteTime": {
     "end_time": "2024-07-10T08:15:21.329022Z",
     "start_time": "2024-07-10T08:15:21.326851Z"
    }
   },
   "cell_type": "code",
   "source": [
    "print(send_query(\"\"\"\n",
    "SELECT City FROM Customers\n",
    "UNION\n",
    "SELECT City FROM Suppliers\n",
    "ORDER BY City;\n",
    "\"\"\"))"
   ],
   "id": "f29d0f8b8420703a",
   "outputs": [
    {
     "name": "stdout",
     "output_type": "stream",
     "text": [
      "[('Aachen',), ('Albuquerque',), ('Anchorage',), ('Ann Arbor',), ('Annecy',), ('Barcelona',), ('Barquisimeto',), ('Bend',), ('Bergamo',), ('Berlin',), ('Bern',), ('Boise',), ('Boston',), ('Brandenburg',), ('Bruxelles',), ('Bräcke',), ('Buenos Aires',), ('Butte',), ('Campinas',), ('Caracas',), ('Charleroi',), ('Cork',), ('Cowes',), ('Cunewalde',), ('Cuxhaven',), ('Elgin',), ('Eugene',), ('Frankfurt',), ('Frankfurt a.M.',), ('Genève',), ('Graz',), ('Göteborg',), ('Helsinki',), ('I. de Margarita',), ('Kirkland',), ('Köln',), ('København',), ('Lander',), ('Lappeenranta',), ('Leipzig',), ('Lille',), ('Lisboa',), ('London',), ('Londona',), ('Luleå',), ('Lyngby',), ('Lyon',), ('Madrid',), ('Manchester',), ('Mannheim',), ('Marseille',), ('Melbourne',), ('Montceau',), ('Montréal',), ('México D.F.',), ('München',), ('Münster',), ('Nantes',), ('New Orleans',), ('Osaka',), ('Oulu',), ('Oviedo',), ('Paris',), ('Portland',), ('Ravenna',), ('Reggio Emilia',), ('Reims',), ('Resende',), ('Rio de Janeiro',), ('Salerno',), ('Salzburg',), ('San Cristóbal',), ('San Francisco',), ('Sandvika',), ('Seattle',), ('Sevilla',), ('Singapore',), ('Stavern',), ('Ste-Hyacinthe',), ('Stockholm',), ('Strasbourg',), ('Stuttgart',), ('Sydney',), ('São Paulo',), ('Tokyo',), ('Torino',), ('Toulouse',), ('Tsawassen',), ('Vancouver',), ('Versailles',), ('Walla',), ('Walla Walla',), ('Zaandam',), ('Århus',)]\n"
     ]
    }
   ],
   "execution_count": 726
  },
  {
   "metadata": {
    "ExecuteTime": {
     "end_time": "2024-07-10T08:15:21.384974Z",
     "start_time": "2024-07-10T08:15:21.383Z"
    }
   },
   "cell_type": "code",
   "source": [
    "print(send_query(\"\"\"\n",
    "SELECT City FROM Customers\n",
    "UNION ALL\n",
    "SELECT City FROM Suppliers\n",
    "ORDER BY City;\n",
    "\"\"\"))"
   ],
   "id": "22420bded4657b39",
   "outputs": [
    {
     "name": "stdout",
     "output_type": "stream",
     "text": [
      "[('Aachen',), ('Albuquerque',), ('Anchorage',), ('Ann Arbor',), ('Annecy',), ('Barcelona',), ('Barquisimeto',), ('Bend',), ('Bergamo',), ('Berlin',), ('Berlin',), ('Bern',), ('Boise',), ('Boston',), ('Brandenburg',), ('Bruxelles',), ('Bräcke',), ('Buenos Aires',), ('Buenos Aires',), ('Buenos Aires',), ('Butte',), ('Campinas',), ('Caracas',), ('Charleroi',), ('Cork',), ('Cowes',), ('Cunewalde',), ('Cuxhaven',), ('Elgin',), ('Eugene',), ('Frankfurt',), ('Frankfurt a.M.',), ('Genève',), ('Graz',), ('Göteborg',), ('Helsinki',), ('I. de Margarita',), ('Kirkland',), ('Köln',), ('København',), ('Lander',), ('Lappeenranta',), ('Leipzig',), ('Lille',), ('Lisboa',), ('Lisboa',), ('London',), ('London',), ('London',), ('London',), ('London',), ('London',), ('Londona',), ('Luleå',), ('Lyngby',), ('Lyon',), ('Madrid',), ('Madrid',), ('Madrid',), ('Manchester',), ('Mannheim',), ('Marseille',), ('Melbourne',), ('Montceau',), ('Montréal',), ('Montréal',), ('México D.F.',), ('México D.F.',), ('México D.F.',), ('México D.F.',), ('México D.F.',), ('München',), ('Münster',), ('Nantes',), ('Nantes',), ('New Orleans',), ('Osaka',), ('Oulu',), ('Oviedo',), ('Paris',), ('Paris',), ('Paris',), ('Portland',), ('Portland',), ('Ravenna',), ('Reggio Emilia',), ('Reims',), ('Resende',), ('Rio de Janeiro',), ('Rio de Janeiro',), ('Rio de Janeiro',), ('Salerno',), ('Salzburg',), ('San Cristóbal',), ('San Francisco',), ('Sandvika',), ('Seattle',), ('Sevilla',), ('Singapore',), ('Stavern',), ('Ste-Hyacinthe',), ('Stockholm',), ('Strasbourg',), ('Stuttgart',), ('Sydney',), ('São Paulo',), ('São Paulo',), ('São Paulo',), ('São Paulo',), ('São Paulo',), ('Tokyo',), ('Torino',), ('Toulouse',), ('Tsawassen',), ('Vancouver',), ('Versailles',), ('Walla',), ('Walla Walla',), ('Zaandam',), ('Århus',)]\n"
     ]
    }
   ],
   "execution_count": 727
  },
  {
   "metadata": {
    "ExecuteTime": {
     "end_time": "2024-07-10T08:15:21.521941Z",
     "start_time": "2024-07-10T08:15:21.519969Z"
    }
   },
   "cell_type": "code",
   "source": [
    "print(send_query(\"\"\"\n",
    "SELECT City, Country FROM Customers\n",
    "WHERE Country='Germany'\n",
    "UNION\n",
    "SELECT City, Country FROM Suppliers\n",
    "WHERE Country='Germany'\n",
    "ORDER BY City;\n",
    "\"\"\"))"
   ],
   "id": "34e036df3e603923",
   "outputs": [
    {
     "name": "stdout",
     "output_type": "stream",
     "text": [
      "[('Aachen', 'Germany'), ('Berlin', 'Germany'), ('Brandenburg', 'Germany'), ('Cunewalde', 'Germany'), ('Cuxhaven', 'Germany'), ('Frankfurt', 'Germany'), ('Frankfurt a.M.', 'Germany'), ('Köln', 'Germany'), ('Leipzig', 'Germany'), ('Mannheim', 'Germany'), ('München', 'Germany'), ('Münster', 'Germany'), ('Stuttgart', 'Germany')]\n"
     ]
    }
   ],
   "execution_count": 728
  },
  {
   "metadata": {
    "ExecuteTime": {
     "end_time": "2024-07-10T08:15:21.581659Z",
     "start_time": "2024-07-10T08:15:21.579491Z"
    }
   },
   "cell_type": "code",
   "source": [
    "print(send_query(\"\"\"\n",
    "SELECT City, Country FROM Customers\n",
    "WHERE Country='Germany'\n",
    "UNION ALL\n",
    "SELECT City, Country FROM Suppliers\n",
    "WHERE Country='Germany'\n",
    "ORDER BY City;\n",
    "\"\"\"))"
   ],
   "id": "97ccf483d9dd3579",
   "outputs": [
    {
     "name": "stdout",
     "output_type": "stream",
     "text": [
      "[('Aachen', 'Germany'), ('Berlin', 'Germany'), ('Berlin', 'Germany'), ('Brandenburg', 'Germany'), ('Cunewalde', 'Germany'), ('Cuxhaven', 'Germany'), ('Frankfurt', 'Germany'), ('Frankfurt a.M.', 'Germany'), ('Köln', 'Germany'), ('Leipzig', 'Germany'), ('Mannheim', 'Germany'), ('München', 'Germany'), ('Münster', 'Germany'), ('Stuttgart', 'Germany')]\n"
     ]
    }
   ],
   "execution_count": 729
  },
  {
   "metadata": {
    "ExecuteTime": {
     "end_time": "2024-07-10T08:15:21.736678Z",
     "start_time": "2024-07-10T08:15:21.734353Z"
    }
   },
   "cell_type": "code",
   "source": [
    "print(send_query(\"\"\"\n",
    "SELECT 'Customer' AS Type, ContactName, City, Country\n",
    "FROM Customers\n",
    "UNION\n",
    "SELECT 'Supplier', ContactName, City, Country\n",
    "FROM Suppliers;\n",
    "\"\"\"))"
   ],
   "id": "16480bc292b778af",
   "outputs": [
    {
     "name": "stdout",
     "output_type": "stream",
     "text": [
      "[('Customer', 'Alejandra Camino', 'Madrid', 'Spain'), ('Customer', 'Alexander Feuer', 'Leipzig', 'Germany'), ('Customer', 'Ana Trujillo', 'México D.F.', 'Mexico'), ('Customer', 'Anabela Domingues', 'São Paulo', 'Brazil'), ('Customer', 'André Fonseca', 'Campinas', 'Brazil'), ('Customer', 'Ann Devon', 'London', 'UK'), ('Customer', 'Annette Roulet', 'Toulouse', 'France'), ('Customer', 'Antonio Moreno', 'México D.F.', 'Mexico'), ('Customer', 'Aria Cruz', 'São Paulo', 'Brazil'), ('Customer', 'Art Braunschweiger', 'Lander', 'USA'), ('Customer', 'Bernardo Batista', 'Rio de Janeiro', 'Brazil'), ('Customer', 'Carine Schmitt', 'Nantes', 'France'), ('Customer', 'Carlos González', 'Barquisimeto', 'Venezuela'), ('Customer', 'Carlos Hernández', 'San Cristóbal', 'Venezuela'), ('Customer', 'Catherine Dewey', 'Bruxelles', 'Belgium'), ('Customer', 'Christina Berglund', 'Luleå', 'Sweden'), ('Customer', 'Daniel Tonini', 'Versailles', 'France'), ('Customer', 'Diego Roel', 'Madrid', 'Spain'), ('Customer', 'Dominique Perrier', 'Paris', 'France'), ('Customer', 'Eduardo Saavedra', 'Barcelona', 'Spain'), ('Customer', 'Elizabeth Brown', 'London', 'UK'), ('Customer', 'Elizabeth Lincoln', 'Tsawassen', 'Canada'), ('Customer', 'Felipe Izquierdo', 'I. de Margarita', 'Venezuela'), ('Customer', 'Fran Wilson', 'Portland', 'USA'), ('Customer', 'Francisco Chang', 'México D.F.', 'Mexico'), ('Customer', 'Frédérique Citeaux', 'Strasbourg', 'France'), ('Customer', 'Georg Pipps', 'Salzburg', 'Austria'), ('Customer', 'Giovanni Rovelli', 'Bergamo', 'Italy'), ('Customer', 'Guillermo Fernández', 'México D.F.', 'Mexico'), ('Customer', 'Hanna Moos', 'Mannheim', 'Germany'), ('Customer', 'Hari Kumar', 'London', 'UK'), ('Customer', 'Helen Bennett', 'Cowes', 'UK'), ('Customer', 'Helvetius Nagy', 'Kirkland', 'USA'), ('Customer', 'Henriette Pfalzheim', 'Köln', 'Germany'), ('Customer', 'Horst Kloss', 'Cunewalde', 'Germany'), ('Customer', 'Howard Snyder', 'Eugene', 'USA'), ('Customer', 'Isabel de Castro', 'Lisboa', 'Portugal'), ('Customer', 'Jaime Yorres', 'San Francisco', 'USA'), ('Customer', 'Janete Limeira', 'Rio de Janeiro', 'Brazil'), ('Customer', 'Janine Labrune', 'Nantes', 'France'), ('Customer', 'Jean Fresnière', 'Montréal', 'Canada'), ('Customer', 'John Steel', 'Walla Walla', 'USA'), ('Customer', 'Jonas Bergulfsen', 'Stavern', 'Norway'), ('Customer', 'Jose Pavarotti', 'Boise', 'USA'), ('Customer', 'José Pedro Freyre', 'Sevilla', 'Spain'), ('Customer', 'Jytte Petersen', 'København', 'Denmark'), ('Customer', 'Karin Josephs', 'Münster', 'Germany'), ('Customer', 'Karl Jablonski', 'Seattle', 'USA'), ('Customer', 'Laurence Lebihans', 'Marseille', 'France'), ('Customer', 'Lino Rodriguez', 'Lisboa', 'Portugal'), ('Customer', 'Liu Wong', 'Butte', 'USA'), ('Customer', 'Liz Nixon', 'Portland', 'USA'), ('Customer', 'Lúcia Carvalho', 'São Paulo', 'Brazil'), ('Customer', 'Manuel Pereira', 'Caracas', 'Venezuela'), ('Customer', 'Maria Anders', 'Berlin', 'Germany'), ('Customer', 'Maria Larsson', 'Bräcke', 'Sweden'), ('Customer', 'Marie Bertrand', 'Paris', 'France'), ('Customer', 'Mario Pontes', 'Rio de Janeiro', 'Brazil'), ('Customer', 'Martine Rancé', 'Lille', 'France'), ('Customer', 'Martín Sommer', 'Madrid', 'Spain'), ('Customer', 'Mary Saveley', 'Lyon', 'France'), ('Customer', 'Matti Karttunen', 'Helsinki', 'Finland'), ('Customer', 'Maurizio Moroni', 'Reggio Emilia', 'Italy'), ('Customer', 'Michael Holz', 'Genève', 'Switzerland'), ('Customer', 'Miguel Angel Paolino', 'México D.F.', 'Mexico'), ('Customer', 'Palle Ibsen', 'Århus', 'Denmark'), ('Customer', 'Paolo Accorti', 'Torino', 'Italy'), ('Customer', 'Pascale Cartrain', 'Charleroi', 'Belgium'), ('Customer', 'Patricia McKenna', 'Cork', 'Ireland'), ('Customer', 'Patricio Simpson', 'Buenos Aires', 'Argentina'), ('Customer', 'Paul Henriot', 'Reims', 'France'), ('Customer', 'Paula Parente', 'Resende', 'Brazil'), ('Customer', 'Paula Wilson', 'Albuquerque', 'USA'), ('Customer', 'Pedro Afonso', 'São Paulo', 'Brazil'), ('Customer', 'Peter Franken', 'München', 'Germany'), ('Customer', 'Philip Cramer', 'Brandenburg', 'Germany'), ('Customer', 'Pirkko Koskitalo', 'Oulu', 'Finland'), ('Customer', 'Renate Messner', 'Frankfurt a.M.', 'Germany'), ('Customer', 'Rene Phillips', 'Anchorage', 'USA'), ('Customer', 'Rita Müller', 'Stuttgart', 'Germany'), ('Customer', 'Roland Mendel', 'Graz', 'Austria'), ('Customer', 'Sergio Gutiérrez', 'Buenos Aires', 'Argentina'), ('Customer', 'Simon Crowther', 'London', 'UK'), ('Customer', 'Sven Ottlieb', 'Aachen', 'Germany'), ('Customer', 'Thomas Hardy', 'London', 'UK'), ('Customer', 'Victoria Ashworth', 'London', 'UK'), ('Customer', 'Yang Wang', 'Bern', 'Switzerland'), ('Customer', 'Yoshi Latimer', 'Elgin', 'USA'), ('Customer', 'Yoshi Tannamuri', 'Vancouver', 'Canada'), ('Customer', 'Yvonne Moncada', 'Buenos Aires', 'Argentina'), ('Customer', 'Zbyszek', 'Walla', 'Poland'), ('Supplier', 'Anne Heikkonen', 'Lappeenranta', 'Finland'), ('Supplier', 'Antonio del Valle Saavedra', 'Oviedo', 'Spain'), ('Supplier', 'Beate Vileid', 'Sandvika', 'Norway'), ('Supplier', 'Carlos Diaz', 'São Paulo', 'Brazil'), ('Supplier', 'Chandra Leka', 'Singapore', 'Singapore'), ('Supplier', 'Chantal Goulet', 'Ste-Hyacinthe', 'Canada'), ('Supplier', 'Charlotte Cooper', 'Londona', 'UK'), ('Supplier', 'Cheryl Saylor', 'Bend', 'USA'), ('Supplier', 'Dirk Luchte', 'Zaandam', 'Netherlands'), ('Supplier', 'Eliane Noz', 'Annecy', 'France'), ('Supplier', 'Elio Rossi', 'Ravenna', 'Italy'), ('Supplier', 'Giovanni Giudici', 'Salerno', 'Italy'), ('Supplier', 'Guylène Nodier', 'Paris', 'France'), ('Supplier', 'Ian Devling', 'Melbourne', 'Australia'), ('Supplier', 'Jean-Guy Lauzon', 'Montréal', 'Canada'), ('Supplier', 'Lars Peterson', 'Göteborg', 'Sweden'), ('Supplier', 'Marie Delamare', 'Montceau', 'France'), ('Supplier', 'Martin Bein', 'Frankfurt', 'Germany'), ('Supplier', 'Mayumi Ohno', 'Osaka', 'Japan'), ('Supplier', 'Michael Björn', 'Stockholm', 'Sweden'), ('Supplier', 'Niels Petersen', 'Lyngby', 'Denmark'), ('Supplier', 'Peter Wilson', 'Manchester', 'UK'), ('Supplier', 'Petra Winkler', 'Berlin', 'Germany'), ('Supplier', 'Regina Murphy', 'Ann Arbor', 'USA'), ('Supplier', 'Robb Merchant', 'Boston', 'USA'), ('Supplier', 'Shelley Burke', 'New Orleans', 'USA'), ('Supplier', 'Sven Petersen', 'Cuxhaven', 'Germany'), ('Supplier', 'Wendy Mackenzie', 'Sydney', 'Australia'), ('Supplier', 'Yoshi Nagase', 'Tokyo', 'Japan')]\n"
     ]
    }
   ],
   "execution_count": 730
  },
  {
   "metadata": {
    "ExecuteTime": {
     "end_time": "2024-07-10T08:15:21.785121Z",
     "start_time": "2024-07-10T08:15:21.783172Z"
    }
   },
   "cell_type": "code",
   "source": [
    "print(send_query(\"\"\"\n",
    "SELECT COUNT(CustomerID), Country\n",
    "FROM Customers\n",
    "GROUP BY Country;\n",
    "\"\"\"))"
   ],
   "id": "e8ee3255413ba132",
   "outputs": [
    {
     "name": "stdout",
     "output_type": "stream",
     "text": [
      "[(3, 'Argentina'), (2, 'Austria'), (2, 'Belgium'), (9, 'Brazil'), (3, 'Canada'), (2, 'Denmark'), (2, 'Finland'), (11, 'France'), (11, 'Germany'), (1, 'Ireland'), (3, 'Italy'), (5, 'Mexico'), (1, 'Norway'), (1, 'Poland'), (2, 'Portugal'), (5, 'Spain'), (2, 'Sweden'), (2, 'Switzerland'), (7, 'UK'), (13, 'USA'), (4, 'Venezuela')]\n"
     ]
    }
   ],
   "execution_count": 731
  },
  {
   "metadata": {
    "ExecuteTime": {
     "end_time": "2024-07-10T08:15:21.951900Z",
     "start_time": "2024-07-10T08:15:21.949699Z"
    }
   },
   "cell_type": "code",
   "source": [
    "print(send_query(\"\"\"\n",
    "SELECT COUNT(CustomerID), Country\n",
    "FROM Customers\n",
    "GROUP BY Country\n",
    "ORDER BY COUNT(CustomerID) DESC;\n",
    "\"\"\"))"
   ],
   "id": "69475f3a3986a8a",
   "outputs": [
    {
     "name": "stdout",
     "output_type": "stream",
     "text": [
      "[(13, 'USA'), (11, 'Germany'), (11, 'France'), (9, 'Brazil'), (7, 'UK'), (5, 'Spain'), (5, 'Mexico'), (4, 'Venezuela'), (3, 'Italy'), (3, 'Canada'), (3, 'Argentina'), (2, 'Switzerland'), (2, 'Sweden'), (2, 'Portugal'), (2, 'Finland'), (2, 'Denmark'), (2, 'Belgium'), (2, 'Austria'), (1, 'Poland'), (1, 'Norway'), (1, 'Ireland')]\n"
     ]
    }
   ],
   "execution_count": 732
  },
  {
   "metadata": {
    "ExecuteTime": {
     "end_time": "2024-07-10T08:15:22.014266Z",
     "start_time": "2024-07-10T08:15:22.012344Z"
    }
   },
   "cell_type": "code",
   "source": [
    "print(send_query(\"\"\"\n",
    "SELECT Shippers.ShipperName, COUNT(Orders.OrderID) AS NumberOfOrders FROM Orders\n",
    "LEFT JOIN Shippers ON Orders.ShipperID = Shippers.ShipperID\n",
    "GROUP BY ShipperName;\n",
    "\"\"\"))"
   ],
   "id": "a7b162b0c2903609",
   "outputs": [
    {
     "name": "stdout",
     "output_type": "stream",
     "text": [
      "[('Federal Shipping', 68), ('Speedy Express', 54), ('United Package', 74)]\n"
     ]
    }
   ],
   "execution_count": 733
  },
  {
   "metadata": {
    "ExecuteTime": {
     "end_time": "2024-07-10T08:15:22.148899Z",
     "start_time": "2024-07-10T08:15:22.146680Z"
    }
   },
   "cell_type": "code",
   "source": [
    "print(send_query(\"\"\"\n",
    "SELECT COUNT(CustomerID), Country\n",
    "FROM Customers\n",
    "GROUP BY Country\n",
    "HAVING COUNT(CustomerID) > 5;\n",
    "\"\"\"))"
   ],
   "id": "384b5be54ca641b8",
   "outputs": [
    {
     "name": "stdout",
     "output_type": "stream",
     "text": [
      "[(9, 'Brazil'), (11, 'France'), (11, 'Germany'), (7, 'UK'), (13, 'USA')]\n"
     ]
    }
   ],
   "execution_count": 734
  },
  {
   "metadata": {
    "ExecuteTime": {
     "end_time": "2024-07-10T08:15:22.201668Z",
     "start_time": "2024-07-10T08:15:22.199658Z"
    }
   },
   "cell_type": "code",
   "source": [
    "print(send_query(\"\"\"\n",
    "SELECT COUNT(CustomerID), Country\n",
    "FROM Customers\n",
    "GROUP BY Country\n",
    "HAVING COUNT(CustomerID) > 5\n",
    "ORDER BY COUNT(CustomerID) DESC;\n",
    "\"\"\"))"
   ],
   "id": "fc88f6c545e3b313",
   "outputs": [
    {
     "name": "stdout",
     "output_type": "stream",
     "text": [
      "[(13, 'USA'), (11, 'Germany'), (11, 'France'), (9, 'Brazil'), (7, 'UK')]\n"
     ]
    }
   ],
   "execution_count": 735
  },
  {
   "metadata": {
    "ExecuteTime": {
     "end_time": "2024-07-10T08:15:22.334755Z",
     "start_time": "2024-07-10T08:15:22.332785Z"
    }
   },
   "cell_type": "code",
   "source": [
    "print(send_query(\"\"\"\n",
    "SELECT Employees.LastName, COUNT(Orders.OrderID) AS NumberOfOrders\n",
    "FROM (Orders\n",
    "INNER JOIN Employees ON Orders.EmployeeID = Employees.EmployeeID)\n",
    "GROUP BY LastName\n",
    "HAVING COUNT(Orders.OrderID) > 10;\n",
    "\"\"\"))"
   ],
   "id": "ff17a7670e5c0bda",
   "outputs": [
    {
     "name": "stdout",
     "output_type": "stream",
     "text": [
      "[('Buchanan', 11), ('Callahan', 27), ('Davolio', 29), ('Fuller', 20), ('King', 14), ('Leverling', 31), ('Peacock', 40), ('Suyama', 18)]\n"
     ]
    }
   ],
   "execution_count": 736
  },
  {
   "metadata": {
    "ExecuteTime": {
     "end_time": "2024-07-10T08:15:22.392850Z",
     "start_time": "2024-07-10T08:15:22.390737Z"
    }
   },
   "cell_type": "code",
   "source": [
    "print(send_query(\"\"\"\n",
    "SELECT Employees.LastName, COUNT(Orders.OrderID) AS NumberOfOrders\n",
    "FROM Orders\n",
    "INNER JOIN Employees ON Orders.EmployeeID = Employees.EmployeeID\n",
    "WHERE LastName = 'Davolio' OR LastName = 'Fuller'\n",
    "GROUP BY LastName\n",
    "HAVING COUNT(Orders.OrderID) > 25;\n",
    "\"\"\"))"
   ],
   "id": "f0e9839b723a0a0",
   "outputs": [
    {
     "name": "stdout",
     "output_type": "stream",
     "text": [
      "[('Davolio', 29)]\n"
     ]
    }
   ],
   "execution_count": 737
  },
  {
   "metadata": {
    "ExecuteTime": {
     "end_time": "2024-07-10T08:15:22.534755Z",
     "start_time": "2024-07-10T08:15:22.532597Z"
    }
   },
   "cell_type": "code",
   "source": [
    "print(send_query(\"\"\"\n",
    "SELECT SupplierName\n",
    "FROM Suppliers\n",
    "WHERE EXISTS (SELECT ProductName FROM Products WHERE Products.SupplierID = Suppliers.supplierID AND Price < 20);\n",
    "\"\"\"))"
   ],
   "id": "ff23ef875caed6b1",
   "outputs": [
    {
     "name": "stdout",
     "output_type": "stream",
     "text": [
      "[('Exotic Liquid',), ('New Orleans Cajun Delights',), ('Tokyo Traders',), (\"Mayumi's\",), ('Pavlova, Ltd.',), ('Specialty Biscuits, Ltd.',), ('PB Knäckebröd AB',), ('Refrescos Americanas LTDA',), ('Heli Süßwaren GmbH & Co. KG',), ('Plutzer Lebensmittelgroßmärkte AG',), ('Formaggi Fortini s.r.l.',), ('Norske Meierier',), ('Bigfoot Breweries',), ('Svensk Sjöföda AB',), ('Aux joyeux ecclésiastiques',), ('New England Seafood Cannery',), ('Leka Trading',), ('Lyngbysild',), ('Zaanse Snoepfabriek',), ('Karkki Oy',), (\"G'day, Mate\",), ('Ma Maison',), ('Pasta Buttini s.r.l.',), ('Escargots Nouveaux',)]\n"
     ]
    }
   ],
   "execution_count": 738
  },
  {
   "metadata": {
    "ExecuteTime": {
     "end_time": "2024-07-10T08:15:22.638794Z",
     "start_time": "2024-07-10T08:15:22.636805Z"
    }
   },
   "cell_type": "code",
   "source": [
    "print(send_query(\"\"\"\n",
    "SELECT SupplierName\n",
    "FROM Suppliers\n",
    "WHERE EXISTS (SELECT ProductName FROM Products WHERE Products.SupplierID = Suppliers.supplierID AND Price = 22);\n",
    "\"\"\"))"
   ],
   "id": "743859d9b7cc59d7",
   "outputs": [
    {
     "name": "stdout",
     "output_type": "stream",
     "text": [
      "[('New Orleans Cajun Delights',)]\n"
     ]
    }
   ],
   "execution_count": 739
  },
  {
   "metadata": {
    "ExecuteTime": {
     "end_time": "2024-07-10T08:15:22.724076Z",
     "start_time": "2024-07-10T08:15:22.722188Z"
    }
   },
   "cell_type": "code",
   "source": [
    "print(send_query(\"\"\"\n",
    "SELECT ProductName\n",
    "FROM Products\n",
    "WHERE ProductID = ANY\n",
    "  (SELECT ProductID\n",
    "  FROM OrderDetails\n",
    "  WHERE Quantity = 10);\n",
    "\"\"\"))"
   ],
   "id": "50300da4b4b905c",
   "outputs": [
    {
     "name": "stdout",
     "output_type": "stream",
     "text": [
      "near \"SELECT\": syntax error\n",
      "None\n"
     ]
    }
   ],
   "execution_count": 740
  },
  {
   "metadata": {
    "ExecuteTime": {
     "end_time": "2024-07-10T08:15:22.827114Z",
     "start_time": "2024-07-10T08:15:22.825168Z"
    }
   },
   "cell_type": "code",
   "source": [
    "print(send_query(\"\"\"\n",
    "SELECT ProductName\n",
    "FROM Products\n",
    "WHERE ProductID = ANY\n",
    "  (SELECT ProductID\n",
    "  FROM OrderDetails\n",
    "  WHERE Quantity > 99);\n",
    "\"\"\"))"
   ],
   "id": "ac5c237ac41c5607",
   "outputs": [
    {
     "name": "stdout",
     "output_type": "stream",
     "text": [
      "near \"SELECT\": syntax error\n",
      "None\n"
     ]
    }
   ],
   "execution_count": 741
  },
  {
   "metadata": {
    "ExecuteTime": {
     "end_time": "2024-07-10T08:15:22.915250Z",
     "start_time": "2024-07-10T08:15:22.913481Z"
    }
   },
   "cell_type": "code",
   "source": [
    "print(send_query(\"\"\"\n",
    "SELECT ProductName\n",
    "FROM Products\n",
    "WHERE ProductID = ANY\n",
    "  (SELECT ProductID\n",
    "  FROM OrderDetails\n",
    "  WHERE Quantity > 1000);\n",
    "\"\"\"))"
   ],
   "id": "404282d45eb354b3",
   "outputs": [
    {
     "name": "stdout",
     "output_type": "stream",
     "text": [
      "near \"SELECT\": syntax error\n",
      "None\n"
     ]
    }
   ],
   "execution_count": 742
  },
  {
   "metadata": {
    "ExecuteTime": {
     "end_time": "2024-07-10T08:15:23.023354Z",
     "start_time": "2024-07-10T08:15:23.021511Z"
    }
   },
   "cell_type": "code",
   "source": [
    "print(send_query(\"\"\"\n",
    "SELECT ALL ProductName\n",
    "FROM Products\n",
    "WHERE TRUE;\n",
    "\"\"\"))"
   ],
   "id": "987e0dde8a9413e7",
   "outputs": [
    {
     "name": "stdout",
     "output_type": "stream",
     "text": [
      "[('Chais',), ('Chang',), ('Aniseed Syrup',), (\"Chef Anton's Cajun Seasoning\",), (\"Chef Anton's Gumbo Mix\",), (\"Grandma's Boysenberry Spread\",), (\"Uncle Bob's Organic Dried Pears\",), ('Northwoods Cranberry Sauce',), ('Mishi Kobe Niku',), ('Ikura',), ('Queso Cabrales',), ('Queso Manchego La Pastora',), ('Konbu',), ('Tofu',), ('Genen Shouyu',), ('Pavlova',), ('Alice Mutton',), ('Carnarvon Tigers',), ('Teatime Chocolate Biscuits',), (\"Sir Rodney's Marmalade\",), (\"Sir Rodney's Scones\",), (\"Gustaf's Knäckebröd\",), ('Tunnbröd',), ('Guaraná Fantástica',), ('NuNuCa Nuß-Nougat-Creme',), ('Gumbär Gummibärchen',), ('Schoggi Schokolade',), ('Rössle Sauerkraut',), ('Thüringer Rostbratwurst',), ('Nord-Ost Matjeshering',), ('Gorgonzola Telino',), ('Mascarpone Fabioli',), ('Geitost',), ('Sasquatch Ale',), ('Steeleye Stout',), ('Inlagd Sill',), ('Gravad lax',), ('Côte de Blaye',), ('Chartreuse verte',), ('Boston Crab Meat',), (\"Jack's New England Clam Chowder\",), ('Singaporean Hokkien Fried Mee',), ('Ipoh Coffee',), ('Gula Malacca',), ('Røgede sild',), ('Spegesild',), ('Zaanse koeken',), ('Chocolade',), ('Maxilaku',), ('Valkoinen suklaa',), ('Manjimup Dried Apples',), ('Filo Mix',), ('Perth Pasties',), ('Tourtière',), ('Pâté chinois',), ('Gnocchi di nonna Alice',), ('Ravioli Angelo',), ('Escargots de Bourgogne',), ('Raclette Courdavault',), ('Camembert Pierrot',), (\"Sirop d'érable\",), ('Tarte au sucre',), ('Vegie-spread',), ('Wimmers gute Semmelknödel',), ('Louisiana Fiery Hot Pepper Sauce',), ('Louisiana Hot Spiced Okra',), ('Laughing Lumberjack Lager',), ('Scottish Longbreads',), ('Gudbrandsdalsost',), ('Outback Lager',), ('Fløtemysost',), ('Mozzarella di Giovanni',), ('Röd Kaviar',), ('Longlife Tofu',), ('Rhönbräu Klosterbier',), ('Lakkalikööri',), ('Original Frankfurter grüne Soße',)]\n"
     ]
    }
   ],
   "execution_count": 743
  },
  {
   "metadata": {
    "ExecuteTime": {
     "end_time": "2024-07-10T08:15:23.109681Z",
     "start_time": "2024-07-10T08:15:23.108065Z"
    }
   },
   "cell_type": "code",
   "source": [
    "print(send_query(\"\"\"\n",
    "SELECT ProductName\n",
    "FROM Products\n",
    "WHERE ProductID = ALL\n",
    "  (SELECT ProductID\n",
    "  FROM OrderDetails\n",
    "  WHERE Quantity = 10);\n",
    "\"\"\"))"
   ],
   "id": "620ca5790774f80f",
   "outputs": [
    {
     "name": "stdout",
     "output_type": "stream",
     "text": [
      "near \"ALL\": syntax error\n",
      "None\n"
     ]
    }
   ],
   "execution_count": 744
  },
  {
   "metadata": {
    "ExecuteTime": {
     "end_time": "2024-07-10T08:15:23.208953Z",
     "start_time": "2024-07-10T08:15:23.207168Z"
    }
   },
   "cell_type": "code",
   "source": [
    "print(send_query(\"\"\"\n",
    "SELECT * INTO CustomersBackup2017\n",
    "FROM Customers;\n",
    "\"\"\"))"
   ],
   "id": "aa1d6357a780ebc8",
   "outputs": [
    {
     "name": "stdout",
     "output_type": "stream",
     "text": [
      "near \"INTO\": syntax error\n",
      "None\n"
     ]
    }
   ],
   "execution_count": 745
  },
  {
   "metadata": {
    "ExecuteTime": {
     "end_time": "2024-07-10T08:15:23.299740Z",
     "start_time": "2024-07-10T08:15:23.297778Z"
    }
   },
   "cell_type": "code",
   "source": [
    "print(send_query(\"\"\"\n",
    "SELECT * INTO CustomersBackup2017 IN 'Backup.mdb'\n",
    "FROM Customers;\n",
    "\"\"\"))"
   ],
   "id": "33fd4952d94f638d",
   "outputs": [
    {
     "name": "stdout",
     "output_type": "stream",
     "text": [
      "near \"INTO\": syntax error\n",
      "None\n"
     ]
    }
   ],
   "execution_count": 746
  },
  {
   "metadata": {
    "ExecuteTime": {
     "end_time": "2024-07-10T08:15:23.392039Z",
     "start_time": "2024-07-10T08:15:23.389910Z"
    }
   },
   "cell_type": "code",
   "source": [
    "print(send_query(\"\"\"\n",
    "SELECT CustomerName, ContactName INTO CustomersBackup2017\n",
    "FROM Customers;\n",
    "\"\"\"))"
   ],
   "id": "d938ae67442fdd41",
   "outputs": [
    {
     "name": "stdout",
     "output_type": "stream",
     "text": [
      "near \"INTO\": syntax error\n",
      "None\n"
     ]
    }
   ],
   "execution_count": 747
  },
  {
   "metadata": {
    "ExecuteTime": {
     "end_time": "2024-07-10T08:15:23.504334Z",
     "start_time": "2024-07-10T08:15:23.502322Z"
    }
   },
   "cell_type": "code",
   "source": [
    "print(send_query(\"\"\"\n",
    "SELECT * INTO CustomersGermany\n",
    "FROM Customers\n",
    "WHERE Country = 'Germany';\n",
    "\"\"\"))"
   ],
   "id": "c11a20d4e3700617",
   "outputs": [
    {
     "name": "stdout",
     "output_type": "stream",
     "text": [
      "near \"INTO\": syntax error\n",
      "None\n"
     ]
    }
   ],
   "execution_count": 748
  },
  {
   "metadata": {
    "ExecuteTime": {
     "end_time": "2024-07-10T08:15:23.626256Z",
     "start_time": "2024-07-10T08:15:23.624220Z"
    }
   },
   "cell_type": "code",
   "source": [
    "print(send_query(\"\"\"\n",
    "SELECT Customers.CustomerName, Orders.OrderID\n",
    "INTO CustomersOrderBackup2017\n",
    "FROM Customers\n",
    "LEFT JOIN Orders ON Customers.CustomerID = Orders.CustomerID;\n",
    "\"\"\"))"
   ],
   "id": "1e20c0a4cb66b153",
   "outputs": [
    {
     "name": "stdout",
     "output_type": "stream",
     "text": [
      "near \"INTO\": syntax error\n",
      "None\n"
     ]
    }
   ],
   "execution_count": 749
  },
  {
   "metadata": {
    "ExecuteTime": {
     "end_time": "2024-07-10T08:15:23.743950Z",
     "start_time": "2024-07-10T08:15:23.742041Z"
    }
   },
   "cell_type": "code",
   "source": [
    "print(send_query(\"\"\"\n",
    "SELECT * INTO newtable\n",
    "FROM oldtable\n",
    "WHERE 1 = 0;\n",
    "\"\"\"))"
   ],
   "id": "d8f36f264499762b",
   "outputs": [
    {
     "name": "stdout",
     "output_type": "stream",
     "text": [
      "near \"INTO\": syntax error\n",
      "None\n"
     ]
    }
   ],
   "execution_count": 750
  },
  {
   "metadata": {
    "ExecuteTime": {
     "end_time": "2024-07-10T08:15:23.844786Z",
     "start_time": "2024-07-10T08:15:23.841040Z"
    }
   },
   "cell_type": "code",
   "source": [
    "with sqlite3.connect(db_name) as conn:\n",
    "    cur = conn.cursor()\n",
    "    cur.execute(\"\"\"\n",
    "INSERT INTO Customers (CustomerName, City, Country)\n",
    "SELECT SupplierName, City, Country FROM Suppliers;\n",
    "    \"\"\")\n",
    "    cur.execute(\"\"\"\n",
    "SELECT * FROM Customers ORDER BY CustomerID DESC\n",
    "LIMIT 1;\n",
    "\"\"\")\n",
    "    print(cur.fetchall())\n",
    "    conn.rollback()"
   ],
   "id": "ddd1b08719e80c1c",
   "outputs": [
    {
     "name": "stdout",
     "output_type": "stream",
     "text": [
      "[(120, \"Forêts d'érables\", None, None, 'Ste-Hyacinthe', None, 'Canada')]\n"
     ]
    }
   ],
   "execution_count": 751
  },
  {
   "metadata": {
    "ExecuteTime": {
     "end_time": "2024-07-10T08:15:23.932664Z",
     "start_time": "2024-07-10T08:15:23.930008Z"
    }
   },
   "cell_type": "code",
   "source": [
    "with sqlite3.connect(db_name) as conn:\n",
    "    cur = conn.cursor()\n",
    "    cur.execute(\"\"\"\n",
    "INSERT INTO Customers (CustomerName, ContactName, Address, City, PostalCode, Country)\n",
    "SELECT SupplierName, ContactName, Address, City, PostalCode, Country FROM Suppliers;\n",
    "    \"\"\")\n",
    "    cur.execute(\"\"\"\n",
    "SELECT * FROM Customers ORDER BY CustomerID DESC\n",
    "LIMIT 1;\n",
    "\"\"\")\n",
    "    print(cur.fetchall())\n",
    "    conn.rollback()"
   ],
   "id": "4d34dfc1bdee1dc7",
   "outputs": [
    {
     "name": "stdout",
     "output_type": "stream",
     "text": [
      "[(120, \"Forêts d'érables\", 'Chantal Goulet', '148 rue Chasseur', 'Ste-Hyacinthe', 'J2S 7S8', 'Canada')]\n"
     ]
    }
   ],
   "execution_count": 752
  },
  {
   "metadata": {
    "ExecuteTime": {
     "end_time": "2024-07-10T08:15:24.016457Z",
     "start_time": "2024-07-10T08:15:24.014008Z"
    }
   },
   "cell_type": "code",
   "source": [
    "with sqlite3.connect(db_name) as conn:\n",
    "    cur = conn.cursor()\n",
    "    cur.execute(\"\"\"\n",
    "INSERT INTO Customers (CustomerName, City, Country)\n",
    "SELECT SupplierName, City, Country FROM Suppliers\n",
    "WHERE Country='Germany';\n",
    "    \"\"\")\n",
    "    cur.execute(\"\"\"\n",
    "SELECT * FROM Customers ORDER BY CustomerID DESC\n",
    "LIMIT 1;\n",
    "\"\"\")\n",
    "    print(cur.fetchall())\n",
    "    conn.rollback()"
   ],
   "id": "d6be6a708aea6f64",
   "outputs": [
    {
     "name": "stdout",
     "output_type": "stream",
     "text": [
      "[(94, 'Nord-Ost-Fisch Handelsgesellschaft mbH', None, None, 'Cuxhaven', None, 'Germany')]\n"
     ]
    }
   ],
   "execution_count": 753
  },
  {
   "metadata": {
    "ExecuteTime": {
     "end_time": "2024-07-10T08:15:24.144564Z",
     "start_time": "2024-07-10T08:15:24.141985Z"
    }
   },
   "cell_type": "code",
   "source": [
    "print(send_query(\"\"\"\n",
    "SELECT OrderID, Quantity,\n",
    "CASE\n",
    "    WHEN Quantity > 30 THEN 'The quantity is greater than 30'\n",
    "    WHEN Quantity = 30 THEN 'The quantity is 30'\n",
    "    ELSE 'The quantity is under 30'\n",
    "END AS QuantityText\n",
    "FROM OrderDetails;\n",
    "\"\"\"))"
   ],
   "id": "a0a3f6c53bd80b40",
   "outputs": [
    {
     "name": "stdout",
     "output_type": "stream",
     "text": [
      "[(10248, 12, 'The quantity is under 30'), (10248, 10, 'The quantity is under 30'), (10248, 5, 'The quantity is under 30'), (10249, 9, 'The quantity is under 30'), (10249, 40, 'The quantity is greater than 30'), (10250, 10, 'The quantity is under 30'), (10250, 35, 'The quantity is greater than 30'), (10250, 15, 'The quantity is under 30'), (10251, 6, 'The quantity is under 30'), (10251, 15, 'The quantity is under 30'), (10251, 20, 'The quantity is under 30'), (10252, 40, 'The quantity is greater than 30'), (10252, 25, 'The quantity is under 30'), (10252, 40, 'The quantity is greater than 30'), (10253, 20, 'The quantity is under 30'), (10253, 42, 'The quantity is greater than 30'), (10253, 40, 'The quantity is greater than 30'), (10254, 15, 'The quantity is under 30'), (10254, 21, 'The quantity is under 30'), (10254, 21, 'The quantity is under 30'), (10255, 20, 'The quantity is under 30'), (10255, 35, 'The quantity is greater than 30'), (10255, 25, 'The quantity is under 30'), (10255, 30, 'The quantity is 30'), (10256, 15, 'The quantity is under 30'), (10256, 12, 'The quantity is under 30'), (10257, 25, 'The quantity is under 30'), (10257, 6, 'The quantity is under 30'), (10257, 15, 'The quantity is under 30'), (10258, 50, 'The quantity is greater than 30'), (10258, 65, 'The quantity is greater than 30'), (10258, 6, 'The quantity is under 30'), (10259, 10, 'The quantity is under 30'), (10259, 1, 'The quantity is under 30'), (10260, 16, 'The quantity is under 30'), (10260, 50, 'The quantity is greater than 30'), (10260, 15, 'The quantity is under 30'), (10260, 21, 'The quantity is under 30'), (10261, 20, 'The quantity is under 30'), (10261, 20, 'The quantity is under 30'), (10262, 12, 'The quantity is under 30'), (10262, 15, 'The quantity is under 30'), (10262, 2, 'The quantity is under 30'), (10263, 60, 'The quantity is greater than 30'), (10263, 28, 'The quantity is under 30'), (10263, 60, 'The quantity is greater than 30'), (10263, 36, 'The quantity is greater than 30'), (10264, 35, 'The quantity is greater than 30'), (10264, 25, 'The quantity is under 30'), (10265, 30, 'The quantity is 30'), (10265, 20, 'The quantity is under 30'), (10266, 12, 'The quantity is under 30'), (10267, 50, 'The quantity is greater than 30'), (10267, 70, 'The quantity is greater than 30'), (10267, 15, 'The quantity is under 30'), (10268, 10, 'The quantity is under 30'), (10268, 4, 'The quantity is under 30'), (10269, 60, 'The quantity is greater than 30'), (10269, 20, 'The quantity is under 30'), (10270, 30, 'The quantity is 30'), (10270, 25, 'The quantity is under 30'), (10271, 24, 'The quantity is under 30'), (10272, 6, 'The quantity is under 30'), (10272, 40, 'The quantity is greater than 30'), (10272, 24, 'The quantity is under 30'), (10273, 24, 'The quantity is under 30'), (10273, 15, 'The quantity is under 30'), (10273, 20, 'The quantity is under 30'), (10273, 60, 'The quantity is greater than 30'), (10273, 33, 'The quantity is greater than 30'), (10274, 20, 'The quantity is under 30'), (10274, 7, 'The quantity is under 30'), (10275, 12, 'The quantity is under 30'), (10275, 6, 'The quantity is under 30'), (10276, 15, 'The quantity is under 30'), (10276, 10, 'The quantity is under 30'), (10277, 20, 'The quantity is under 30'), (10277, 12, 'The quantity is under 30'), (10278, 16, 'The quantity is under 30'), (10278, 15, 'The quantity is under 30'), (10278, 8, 'The quantity is under 30'), (10278, 25, 'The quantity is under 30'), (10279, 15, 'The quantity is under 30'), (10280, 12, 'The quantity is under 30'), (10280, 20, 'The quantity is under 30'), (10280, 30, 'The quantity is 30'), (10281, 1, 'The quantity is under 30'), (10281, 6, 'The quantity is under 30'), (10281, 4, 'The quantity is under 30'), (10282, 6, 'The quantity is under 30'), (10282, 2, 'The quantity is under 30'), (10283, 20, 'The quantity is under 30'), (10283, 18, 'The quantity is under 30'), (10283, 35, 'The quantity is greater than 30'), (10283, 3, 'The quantity is under 30'), (10284, 15, 'The quantity is under 30'), (10284, 21, 'The quantity is under 30'), (10284, 20, 'The quantity is under 30'), (10284, 5, 'The quantity is under 30'), (10285, 45, 'The quantity is greater than 30'), (10285, 40, 'The quantity is greater than 30'), (10285, 36, 'The quantity is greater than 30'), (10286, 100, 'The quantity is greater than 30'), (10286, 40, 'The quantity is greater than 30'), (10287, 40, 'The quantity is greater than 30'), (10287, 20, 'The quantity is under 30'), (10287, 15, 'The quantity is under 30'), (10288, 10, 'The quantity is under 30'), (10288, 3, 'The quantity is under 30'), (10289, 30, 'The quantity is 30'), (10289, 9, 'The quantity is under 30'), (10290, 20, 'The quantity is under 30'), (10290, 15, 'The quantity is under 30'), (10290, 15, 'The quantity is under 30'), (10290, 10, 'The quantity is under 30'), (10291, 20, 'The quantity is under 30'), (10291, 24, 'The quantity is under 30'), (10291, 2, 'The quantity is under 30'), (10292, 20, 'The quantity is under 30'), (10293, 12, 'The quantity is under 30'), (10293, 10, 'The quantity is under 30'), (10293, 5, 'The quantity is under 30'), (10293, 6, 'The quantity is under 30'), (10294, 18, 'The quantity is under 30'), (10294, 15, 'The quantity is under 30'), (10294, 15, 'The quantity is under 30'), (10294, 21, 'The quantity is under 30'), (10294, 6, 'The quantity is under 30'), (10295, 4, 'The quantity is under 30'), (10296, 12, 'The quantity is under 30'), (10296, 30, 'The quantity is 30'), (10296, 15, 'The quantity is under 30'), (10297, 60, 'The quantity is greater than 30'), (10297, 20, 'The quantity is under 30'), (10298, 40, 'The quantity is greater than 30'), (10298, 40, 'The quantity is greater than 30'), (10298, 30, 'The quantity is 30'), (10298, 15, 'The quantity is under 30'), (10299, 15, 'The quantity is under 30'), (10299, 20, 'The quantity is under 30'), (10300, 30, 'The quantity is 30'), (10300, 20, 'The quantity is under 30'), (10301, 10, 'The quantity is under 30'), (10301, 20, 'The quantity is under 30'), (10302, 40, 'The quantity is greater than 30'), (10302, 28, 'The quantity is under 30'), (10302, 12, 'The quantity is under 30'), (10303, 40, 'The quantity is greater than 30'), (10303, 30, 'The quantity is 30'), (10303, 15, 'The quantity is under 30'), (10304, 30, 'The quantity is 30'), (10304, 10, 'The quantity is under 30'), (10304, 2, 'The quantity is under 30'), (10305, 25, 'The quantity is under 30'), (10305, 25, 'The quantity is under 30'), (10305, 30, 'The quantity is 30'), (10306, 10, 'The quantity is under 30'), (10306, 10, 'The quantity is under 30'), (10306, 5, 'The quantity is under 30'), (10307, 10, 'The quantity is under 30'), (10307, 3, 'The quantity is under 30'), (10308, 1, 'The quantity is under 30'), (10308, 5, 'The quantity is under 30'), (10309, 20, 'The quantity is under 30'), (10309, 30, 'The quantity is 30'), (10309, 2, 'The quantity is under 30'), (10309, 20, 'The quantity is under 30'), (10309, 3, 'The quantity is under 30'), (10310, 10, 'The quantity is under 30'), (10310, 5, 'The quantity is under 30'), (10311, 6, 'The quantity is under 30'), (10311, 7, 'The quantity is under 30'), (10312, 4, 'The quantity is under 30'), (10312, 24, 'The quantity is under 30'), (10312, 20, 'The quantity is under 30'), (10312, 10, 'The quantity is under 30'), (10313, 12, 'The quantity is under 30'), (10314, 40, 'The quantity is greater than 30'), (10314, 30, 'The quantity is 30'), (10314, 25, 'The quantity is under 30'), (10315, 14, 'The quantity is under 30'), (10315, 30, 'The quantity is 30'), (10316, 10, 'The quantity is under 30'), (10316, 70, 'The quantity is greater than 30'), (10317, 20, 'The quantity is under 30'), (10318, 20, 'The quantity is under 30'), (10318, 6, 'The quantity is under 30'), (10319, 8, 'The quantity is under 30'), (10319, 14, 'The quantity is under 30'), (10319, 30, 'The quantity is 30'), (10320, 30, 'The quantity is 30'), (10321, 10, 'The quantity is under 30'), (10322, 20, 'The quantity is under 30'), (10323, 5, 'The quantity is under 30'), (10323, 4, 'The quantity is under 30'), (10323, 4, 'The quantity is under 30'), (10324, 21, 'The quantity is under 30'), (10324, 70, 'The quantity is greater than 30'), (10324, 30, 'The quantity is 30'), (10324, 40, 'The quantity is greater than 30'), (10324, 80, 'The quantity is greater than 30'), (10325, 6, 'The quantity is under 30'), (10325, 12, 'The quantity is under 30'), (10325, 9, 'The quantity is under 30'), (10325, 4, 'The quantity is under 30'), (10325, 40, 'The quantity is greater than 30'), (10326, 24, 'The quantity is under 30'), (10326, 16, 'The quantity is under 30'), (10326, 50, 'The quantity is greater than 30'), (10327, 25, 'The quantity is under 30'), (10327, 50, 'The quantity is greater than 30'), (10327, 35, 'The quantity is greater than 30'), (10327, 30, 'The quantity is 30'), (10328, 9, 'The quantity is under 30'), (10328, 40, 'The quantity is greater than 30'), (10328, 10, 'The quantity is under 30'), (10329, 10, 'The quantity is under 30'), (10329, 8, 'The quantity is under 30'), (10329, 20, 'The quantity is under 30'), (10329, 12, 'The quantity is under 30'), (10330, 50, 'The quantity is greater than 30'), (10330, 25, 'The quantity is under 30'), (10331, 15, 'The quantity is under 30'), (10332, 40, 'The quantity is greater than 30'), (10332, 10, 'The quantity is under 30'), (10332, 16, 'The quantity is under 30'), (10333, 10, 'The quantity is under 30'), (10333, 10, 'The quantity is under 30'), (10333, 40, 'The quantity is greater than 30'), (10334, 8, 'The quantity is under 30'), (10334, 10, 'The quantity is under 30'), (10335, 7, 'The quantity is under 30'), (10335, 25, 'The quantity is under 30'), (10335, 6, 'The quantity is under 30'), (10335, 48, 'The quantity is greater than 30'), (10336, 18, 'The quantity is under 30'), (10337, 40, 'The quantity is greater than 30'), (10337, 24, 'The quantity is under 30'), (10337, 20, 'The quantity is under 30'), (10337, 28, 'The quantity is under 30'), (10337, 25, 'The quantity is under 30'), (10338, 20, 'The quantity is under 30'), (10338, 15, 'The quantity is under 30'), (10339, 10, 'The quantity is under 30'), (10339, 70, 'The quantity is greater than 30'), (10339, 28, 'The quantity is under 30'), (10340, 20, 'The quantity is under 30'), (10340, 12, 'The quantity is under 30'), (10340, 40, 'The quantity is greater than 30'), (10341, 8, 'The quantity is under 30'), (10341, 9, 'The quantity is under 30'), (10342, 24, 'The quantity is under 30'), (10342, 56, 'The quantity is greater than 30'), (10342, 40, 'The quantity is greater than 30'), (10342, 40, 'The quantity is greater than 30'), (10343, 50, 'The quantity is greater than 30'), (10343, 4, 'The quantity is under 30'), (10343, 15, 'The quantity is under 30'), (10344, 35, 'The quantity is greater than 30'), (10344, 70, 'The quantity is greater than 30'), (10345, 70, 'The quantity is greater than 30'), (10345, 80, 'The quantity is greater than 30'), (10345, 9, 'The quantity is under 30'), (10346, 36, 'The quantity is greater than 30'), (10346, 20, 'The quantity is under 30'), (10347, 10, 'The quantity is under 30'), (10347, 50, 'The quantity is greater than 30'), (10347, 4, 'The quantity is under 30'), (10347, 6, 'The quantity is under 30'), (10348, 15, 'The quantity is under 30'), (10348, 25, 'The quantity is under 30'), (10349, 24, 'The quantity is under 30'), (10350, 15, 'The quantity is under 30'), (10350, 18, 'The quantity is under 30'), (10351, 20, 'The quantity is under 30'), (10351, 13, 'The quantity is under 30'), (10351, 77, 'The quantity is greater than 30'), (10351, 10, 'The quantity is under 30'), (10352, 10, 'The quantity is under 30'), (10352, 20, 'The quantity is under 30'), (10353, 12, 'The quantity is under 30'), (10353, 50, 'The quantity is greater than 30'), (10354, 12, 'The quantity is under 30'), (10354, 4, 'The quantity is under 30'), (10355, 25, 'The quantity is under 30'), (10355, 25, 'The quantity is under 30'), (10356, 30, 'The quantity is 30'), (10356, 12, 'The quantity is under 30'), (10356, 20, 'The quantity is under 30'), (10357, 30, 'The quantity is 30'), (10357, 16, 'The quantity is under 30'), (10357, 8, 'The quantity is under 30'), (10358, 10, 'The quantity is under 30'), (10358, 10, 'The quantity is under 30'), (10358, 20, 'The quantity is under 30'), (10359, 56, 'The quantity is greater than 30'), (10359, 70, 'The quantity is greater than 30'), (10359, 80, 'The quantity is greater than 30'), (10360, 30, 'The quantity is 30'), (10360, 35, 'The quantity is greater than 30'), (10360, 10, 'The quantity is under 30'), (10360, 35, 'The quantity is greater than 30'), (10360, 28, 'The quantity is under 30'), (10361, 54, 'The quantity is greater than 30'), (10361, 55, 'The quantity is greater than 30'), (10362, 50, 'The quantity is greater than 30'), (10362, 20, 'The quantity is under 30'), (10362, 24, 'The quantity is under 30'), (10363, 20, 'The quantity is under 30'), (10363, 12, 'The quantity is under 30'), (10363, 12, 'The quantity is under 30'), (10364, 30, 'The quantity is 30'), (10364, 5, 'The quantity is under 30'), (10365, 24, 'The quantity is under 30'), (10366, 5, 'The quantity is under 30'), (10366, 5, 'The quantity is under 30'), (10367, 36, 'The quantity is greater than 30'), (10367, 18, 'The quantity is under 30'), (10367, 15, 'The quantity is under 30'), (10367, 7, 'The quantity is under 30'), (10368, 5, 'The quantity is under 30'), (10368, 13, 'The quantity is under 30'), (10368, 25, 'The quantity is under 30'), (10368, 35, 'The quantity is greater than 30'), (10369, 20, 'The quantity is under 30'), (10369, 18, 'The quantity is under 30'), (10370, 15, 'The quantity is under 30'), (10370, 30, 'The quantity is 30'), (10370, 20, 'The quantity is under 30'), (10371, 6, 'The quantity is under 30'), (10372, 12, 'The quantity is under 30'), (10372, 40, 'The quantity is greater than 30'), (10372, 70, 'The quantity is greater than 30'), (10372, 42, 'The quantity is greater than 30'), (10373, 80, 'The quantity is greater than 30'), (10373, 50, 'The quantity is greater than 30'), (10374, 30, 'The quantity is 30'), (10374, 15, 'The quantity is under 30'), (10375, 15, 'The quantity is under 30'), (10375, 10, 'The quantity is under 30'), (10376, 42, 'The quantity is greater than 30'), (10377, 20, 'The quantity is under 30'), (10377, 20, 'The quantity is under 30'), (10378, 6, 'The quantity is under 30'), (10379, 8, 'The quantity is under 30'), (10379, 16, 'The quantity is under 30'), (10379, 20, 'The quantity is under 30'), (10380, 18, 'The quantity is under 30'), (10380, 20, 'The quantity is under 30'), (10380, 6, 'The quantity is under 30'), (10380, 30, 'The quantity is 30'), (10381, 14, 'The quantity is under 30'), (10382, 32, 'The quantity is greater than 30'), (10382, 9, 'The quantity is under 30'), (10382, 14, 'The quantity is under 30'), (10382, 60, 'The quantity is greater than 30'), (10382, 50, 'The quantity is greater than 30'), (10383, 20, 'The quantity is under 30'), (10383, 15, 'The quantity is under 30'), (10383, 20, 'The quantity is under 30'), (10384, 28, 'The quantity is under 30'), (10384, 15, 'The quantity is under 30'), (10385, 10, 'The quantity is under 30'), (10385, 20, 'The quantity is under 30'), (10385, 8, 'The quantity is under 30'), (10386, 15, 'The quantity is under 30'), (10386, 10, 'The quantity is under 30'), (10387, 15, 'The quantity is under 30'), (10387, 6, 'The quantity is under 30'), (10387, 12, 'The quantity is under 30'), (10387, 15, 'The quantity is under 30'), (10388, 15, 'The quantity is under 30'), (10388, 20, 'The quantity is under 30'), (10388, 40, 'The quantity is greater than 30'), (10389, 16, 'The quantity is under 30'), (10389, 15, 'The quantity is under 30'), (10389, 20, 'The quantity is under 30'), (10389, 30, 'The quantity is 30'), (10390, 60, 'The quantity is greater than 30'), (10390, 40, 'The quantity is greater than 30'), (10390, 45, 'The quantity is greater than 30'), (10390, 24, 'The quantity is under 30'), (10391, 18, 'The quantity is under 30'), (10392, 50, 'The quantity is greater than 30'), (10393, 25, 'The quantity is under 30'), (10393, 42, 'The quantity is greater than 30'), (10393, 7, 'The quantity is under 30'), (10393, 70, 'The quantity is greater than 30'), (10393, 32, 'The quantity is greater than 30'), (10394, 10, 'The quantity is under 30'), (10394, 10, 'The quantity is under 30'), (10395, 28, 'The quantity is under 30'), (10395, 70, 'The quantity is greater than 30'), (10395, 8, 'The quantity is under 30'), (10396, 40, 'The quantity is greater than 30'), (10396, 60, 'The quantity is greater than 30'), (10396, 21, 'The quantity is under 30'), (10397, 10, 'The quantity is under 30'), (10397, 18, 'The quantity is under 30'), (10398, 30, 'The quantity is 30'), (10398, 120, 'The quantity is greater than 30'), (10399, 60, 'The quantity is greater than 30'), (10399, 30, 'The quantity is 30'), (10399, 35, 'The quantity is greater than 30'), (10399, 14, 'The quantity is under 30'), (10400, 21, 'The quantity is under 30'), (10400, 35, 'The quantity is greater than 30'), (10400, 30, 'The quantity is 30'), (10401, 18, 'The quantity is under 30'), (10401, 70, 'The quantity is greater than 30'), (10401, 20, 'The quantity is under 30'), (10401, 60, 'The quantity is greater than 30'), (10402, 60, 'The quantity is greater than 30'), (10402, 65, 'The quantity is greater than 30'), (10403, 21, 'The quantity is under 30'), (10403, 70, 'The quantity is greater than 30'), (10404, 30, 'The quantity is 30'), (10404, 40, 'The quantity is greater than 30'), (10404, 30, 'The quantity is 30'), (10405, 50, 'The quantity is greater than 30'), (10406, 10, 'The quantity is under 30'), (10406, 30, 'The quantity is 30'), (10406, 42, 'The quantity is greater than 30'), (10406, 5, 'The quantity is under 30'), (10406, 2, 'The quantity is under 30'), (10407, 30, 'The quantity is 30'), (10407, 15, 'The quantity is under 30'), (10407, 15, 'The quantity is under 30'), (10408, 10, 'The quantity is under 30'), (10408, 6, 'The quantity is under 30'), (10408, 35, 'The quantity is greater than 30'), (10409, 12, 'The quantity is under 30'), (10409, 12, 'The quantity is under 30'), (10410, 49, 'The quantity is greater than 30'), (10410, 16, 'The quantity is under 30'), (10411, 25, 'The quantity is under 30'), (10411, 40, 'The quantity is greater than 30'), (10411, 9, 'The quantity is under 30'), (10412, 20, 'The quantity is under 30'), (10413, 24, 'The quantity is under 30'), (10413, 40, 'The quantity is greater than 30'), (10413, 14, 'The quantity is under 30'), (10414, 18, 'The quantity is under 30'), (10414, 50, 'The quantity is greater than 30'), (10415, 2, 'The quantity is under 30'), (10415, 20, 'The quantity is under 30'), (10416, 20, 'The quantity is under 30'), (10416, 10, 'The quantity is under 30'), (10416, 20, 'The quantity is under 30'), (10417, 50, 'The quantity is greater than 30'), (10417, 2, 'The quantity is under 30'), (10417, 36, 'The quantity is greater than 30'), (10417, 35, 'The quantity is greater than 30'), (10418, 60, 'The quantity is greater than 30'), (10418, 55, 'The quantity is greater than 30'), (10418, 16, 'The quantity is under 30'), (10418, 15, 'The quantity is under 30'), (10419, 60, 'The quantity is greater than 30'), (10419, 20, 'The quantity is under 30'), (10420, 20, 'The quantity is under 30'), (10420, 2, 'The quantity is under 30'), (10420, 8, 'The quantity is under 30'), (10420, 20, 'The quantity is under 30'), (10421, 4, 'The quantity is under 30'), (10421, 30, 'The quantity is 30'), (10421, 15, 'The quantity is under 30'), (10421, 10, 'The quantity is under 30'), (10422, 2, 'The quantity is under 30'), (10423, 14, 'The quantity is under 30'), (10423, 20, 'The quantity is under 30'), (10424, 60, 'The quantity is greater than 30'), (10424, 49, 'The quantity is greater than 30'), (10424, 30, 'The quantity is 30'), (10425, 10, 'The quantity is under 30'), (10425, 20, 'The quantity is under 30'), (10426, 5, 'The quantity is under 30'), (10426, 7, 'The quantity is under 30'), (10427, 35, 'The quantity is greater than 30'), (10428, 20, 'The quantity is under 30'), (10429, 40, 'The quantity is greater than 30'), (10429, 35, 'The quantity is greater than 30'), (10430, 45, 'The quantity is greater than 30'), (10430, 50, 'The quantity is greater than 30'), (10430, 30, 'The quantity is 30'), (10430, 70, 'The quantity is greater than 30'), (10431, 50, 'The quantity is greater than 30'), (10431, 50, 'The quantity is greater than 30'), (10431, 30, 'The quantity is 30'), (10432, 10, 'The quantity is under 30'), (10432, 40, 'The quantity is greater than 30'), (10433, 28, 'The quantity is under 30'), (10434, 6, 'The quantity is under 30'), (10434, 18, 'The quantity is under 30'), (10435, 10, 'The quantity is under 30'), (10435, 12, 'The quantity is under 30'), (10435, 10, 'The quantity is under 30'), (10436, 5, 'The quantity is under 30'), (10436, 40, 'The quantity is greater than 30'), (10436, 30, 'The quantity is 30'), (10436, 24, 'The quantity is under 30'), (10437, 15, 'The quantity is under 30'), (10438, 15, 'The quantity is under 30'), (10438, 20, 'The quantity is under 30'), (10438, 15, 'The quantity is under 30'), (10439, 15, 'The quantity is under 30'), (10439, 16, 'The quantity is under 30'), (10439, 6, 'The quantity is under 30'), (10439, 30, 'The quantity is 30'), (10440, 45, 'The quantity is greater than 30'), (10440, 49, 'The quantity is greater than 30'), (10440, 24, 'The quantity is under 30'), (10440, 90, 'The quantity is greater than 30'), (10441, 50, 'The quantity is greater than 30'), (10442, 30, 'The quantity is 30'), (10442, 80, 'The quantity is greater than 30'), (10442, 60, 'The quantity is greater than 30'), (10443, 6, 'The quantity is under 30'), (10443, 12, 'The quantity is under 30')]\n"
     ]
    }
   ],
   "execution_count": 754
  },
  {
   "metadata": {
    "ExecuteTime": {
     "end_time": "2024-07-10T08:15:24.226456Z",
     "start_time": "2024-07-10T08:15:24.224083Z"
    }
   },
   "cell_type": "code",
   "source": [
    "print(send_query(\"\"\"\n",
    "SELECT CustomerName, City, Country\n",
    "FROM Customers\n",
    "ORDER BY\n",
    "(CASE\n",
    "    WHEN City IS NULL THEN Country\n",
    "    ELSE City\n",
    "END);\n",
    "\"\"\"))"
   ],
   "id": "7a353827434cea0a",
   "outputs": [
    {
     "name": "stdout",
     "output_type": "stream",
     "text": [
      "[('Drachenblut Delikatessend', 'Aachen', 'Germany'), ('Rattlesnake Canyon Grocery', 'Albuquerque', 'USA'), ('Old World Delicatessen', 'Anchorage', 'USA'), ('Galería del gastrónomo', 'Barcelona', 'Spain'), ('LILA-Supermercado', 'Barquisimeto', 'Venezuela'), ('Magazzini Alimentari Riuniti', 'Bergamo', 'Italy'), ('Alfreds Futterkiste', 'Berlin', 'Germany'), ('Chop-suey Chinese', 'Bern', 'Switzerland'), ('Save-a-lot Markets', 'Boise', 'USA'), ('Königlich Essen', 'Brandenburg', 'Germany'), ('Maison Dewey', 'Bruxelles', 'Belgium'), ('Folk och fä HB', 'Bräcke', 'Sweden'), ('Cactus Comidas para llevar', 'Buenos Aires', 'Argentina'), ('Océano Atlántico Ltda.', 'Buenos Aires', 'Argentina'), ('Rancho grande', 'Buenos Aires', 'Argentina'), ('The Cracker Box', 'Butte', 'USA'), ('Gourmet Lanchonetes', 'Campinas', 'Brazil'), ('GROSELLA-Restaurante', 'Caracas', 'Venezuela'), ('Suprêmes délices', 'Charleroi', 'Belgium'), ('Hungry Owl All-Night Grocers', 'Cork', 'Ireland'), ('Island Trading', 'Cowes', 'UK'), ('QUICK-Stop', 'Cunewalde', 'Germany'), ('Hungry Coyote Import Store', 'Elgin', 'USA'), ('Great Lakes Food Market', 'Eugene', 'USA'), ('Lehmanns Marktstand', 'Frankfurt a.M.', 'Germany'), ('Richter Supermarkt', 'Genève', 'Switzerland'), ('Ernst Handel', 'Graz', 'Austria'), ('Wilman Kala', 'Helsinki', 'Finland'), ('LINO-Delicateses', 'I. de Margarita', 'Venezuela'), (\"Trail's Head Gourmet Provisioners\", 'Kirkland', 'USA'), ('Ottilies Käseladen', 'Köln', 'Germany'), ('Simons bistro', 'København', 'Denmark'), ('Split Rail Beer & Ale', 'Lander', 'USA'), ('Morgenstern Gesundkost', 'Leipzig', 'Germany'), ('Folies gourmandes', 'Lille', 'France'), ('Furia Bacalhau e Frutos do Mar', 'Lisboa', 'Portugal'), ('Princesa Isabel Vinhoss', 'Lisboa', 'Portugal'), ('Around the Horn', 'London', 'UK'), (\"B's Beverages\", 'London', 'UK'), ('Consolidated Holdings', 'London', 'UK'), ('Eastern Connection', 'London', 'UK'), ('North/South', 'London', 'UK'), ('Seven Seas Imports', 'London', 'UK'), ('Berglunds snabbköp', 'Luleå', 'Sweden'), ('Victuailles en stock', 'Lyon', 'France'), ('Bólido Comidas preparadas', 'Madrid', 'Spain'), ('FISSA Fabrica Inter. Salchichas S.A.', 'Madrid', 'Spain'), ('Romero y tomillo', 'Madrid', 'Spain'), ('Blauer See Delikatessen', 'Mannheim', 'Germany'), (\"Bon app'\", 'Marseille', 'France'), ('Mère Paillarde', 'Montréal', 'Canada'), ('Ana Trujillo Emparedados y helados', 'México D.F.', 'Mexico'), ('Antonio Moreno Taquería', 'México D.F.', 'Mexico'), ('Centro comercial Moctezuma', 'México D.F.', 'Mexico'), ('Pericles Comidas clásicas', 'México D.F.', 'Mexico'), ('Tortuga Restaurante', 'México D.F.', 'Mexico'), ('Frankenversand', 'München', 'Germany'), ('Toms Spezialitäten', 'Münster', 'Germany'), ('Du monde entier', 'Nantes', 'France'), ('France restauration', 'Nantes', 'France'), ('Wartian Herkku', 'Oulu', 'Finland'), ('Paris spécialités', 'Paris', 'France'), ('Spécialités du monde', 'Paris', 'France'), ('Lonesome Pine Restaurant', 'Portland', 'USA'), ('The Big Cheese', 'Portland', 'USA'), ('Reggiani Caseifici', 'Reggio Emilia', 'Italy'), ('Vins et alcools Chevalier', 'Reims', 'France'), ('Wellington Importadora', 'Resende', 'Brazil'), ('Hanari Carnes', 'Rio de Janeiro', 'Brazil'), ('Que Delícia', 'Rio de Janeiro', 'Brazil'), ('Ricardo Adocicados', 'Rio de Janeiro', 'Brazil'), ('Piccolo und mehr', 'Salzburg', 'Austria'), ('HILARIÓN-Abastos', 'San Cristóbal', 'Venezuela'), (\"Let's Stop N Shop\", 'San Francisco', 'USA'), ('White Clover Markets', 'Seattle', 'USA'), ('Godos Cocina Típica', 'Sevilla', 'Spain'), ('Santé Gourmet', 'Stavern', 'Norway'), ('Blondel père et fils', 'Strasbourg', 'France'), ('Die Wandernde Kuh', 'Stuttgart', 'Germany'), ('Comércio Mineiro', 'São Paulo', 'Brazil'), ('Familia Arquibaldo', 'São Paulo', 'Brazil'), ('Queen Cozinha', 'São Paulo', 'Brazil'), ('Tradição Hipermercados', 'São Paulo', 'Brazil'), ('Franchi S.p.A.', 'Torino', 'Italy'), (\"La maison d'Asie\", 'Toulouse', 'France'), ('Bottom-Dollar Marketse', 'Tsawassen', 'Canada'), ('Laughing Bacchus Wine Cellars', 'Vancouver', 'Canada'), (\"La corne d'abondance\", 'Versailles', 'France'), ('Wolski', 'Walla', 'Poland'), ('Lazy K Kountry Store', 'Walla Walla', 'USA'), ('Vaffeljernet', 'Århus', 'Denmark')]\n"
     ]
    }
   ],
   "execution_count": 755
  },
  {
   "metadata": {
    "ExecuteTime": {
     "end_time": "2024-07-10T08:15:24.330074Z",
     "start_time": "2024-07-10T08:15:24.328124Z"
    }
   },
   "cell_type": "code",
   "source": [
    "print(send_query(\"\"\"\n",
    "SELECT ProductName, UnitPrice * (UnitsInStock + UnitsOnOrder)\n",
    "FROM Products;\n",
    "\"\"\"))"
   ],
   "id": "8b28fe065005f40e",
   "outputs": [
    {
     "name": "stdout",
     "output_type": "stream",
     "text": [
      "no such column: UnitPrice\n",
      "None\n"
     ]
    }
   ],
   "execution_count": 756
  },
  {
   "metadata": {
    "ExecuteTime": {
     "end_time": "2024-07-10T08:15:24.441331Z",
     "start_time": "2024-07-10T08:15:24.439465Z"
    }
   },
   "cell_type": "code",
   "source": [
    "print(send_query(\"\"\"\n",
    "SELECT ProductName, UnitPrice * (UnitsInStock + IFNULL(UnitsOnOrder, 0))\n",
    "FROM Products;\n",
    "\"\"\"))"
   ],
   "id": "a3dc51ac94c563fd",
   "outputs": [
    {
     "name": "stdout",
     "output_type": "stream",
     "text": [
      "no such column: UnitPrice\n",
      "None\n"
     ]
    }
   ],
   "execution_count": 757
  },
  {
   "metadata": {
    "ExecuteTime": {
     "end_time": "2024-07-10T08:15:24.528093Z",
     "start_time": "2024-07-10T08:15:24.526119Z"
    }
   },
   "cell_type": "code",
   "source": [
    "print(send_query(\"\"\"\n",
    "SELECT ProductName, UnitPrice * (UnitsInStock + COALESCE(UnitsOnOrder, 0))\n",
    "FROM Products;\n",
    "\"\"\"))"
   ],
   "id": "e614a6a6c92e880e",
   "outputs": [
    {
     "name": "stdout",
     "output_type": "stream",
     "text": [
      "no such column: UnitPrice\n",
      "None\n"
     ]
    }
   ],
   "execution_count": 758
  },
  {
   "metadata": {
    "ExecuteTime": {
     "end_time": "2024-07-10T08:15:24.646906Z",
     "start_time": "2024-07-10T08:15:24.644606Z"
    }
   },
   "cell_type": "code",
   "source": [
    "print(send_query(\"\"\"\n",
    "SELECT ProductName, UnitPrice * (UnitsInStock + ISNULL(UnitsOnOrder, 0))\n",
    "FROM Products;\n",
    "\"\"\"))"
   ],
   "id": "af88d72cbb22723e",
   "outputs": [
    {
     "name": "stdout",
     "output_type": "stream",
     "text": [
      "near \"ISNULL\": syntax error\n",
      "None\n"
     ]
    }
   ],
   "execution_count": 759
  },
  {
   "metadata": {
    "ExecuteTime": {
     "end_time": "2024-07-10T08:15:24.764566Z",
     "start_time": "2024-07-10T08:15:24.762655Z"
    }
   },
   "cell_type": "code",
   "source": [
    "print(send_query(\"\"\"\n",
    "SELECT ProductName, UnitPrice * (UnitsInStock + COALESCE(UnitsOnOrder, 0))\n",
    "FROM Products;\n",
    "\"\"\"))"
   ],
   "id": "192805d52c8d6f1b",
   "outputs": [
    {
     "name": "stdout",
     "output_type": "stream",
     "text": [
      "no such column: UnitPrice\n",
      "None\n"
     ]
    }
   ],
   "execution_count": 760
  },
  {
   "metadata": {
    "ExecuteTime": {
     "end_time": "2024-07-10T08:15:24.889893Z",
     "start_time": "2024-07-10T08:15:24.887935Z"
    }
   },
   "cell_type": "code",
   "source": [
    "print(send_query(\"\"\"\n",
    "SELECT ProductName, UnitPrice * (UnitsInStock + IIF(IsNull(UnitsOnOrder), 0, UnitsOnOrder))\n",
    "FROM Products;\n",
    "\"\"\"))"
   ],
   "id": "85e5f93d15b57905",
   "outputs": [
    {
     "name": "stdout",
     "output_type": "stream",
     "text": [
      "near \"IsNull\": syntax error\n",
      "None\n"
     ]
    }
   ],
   "execution_count": 761
  },
  {
   "metadata": {
    "ExecuteTime": {
     "end_time": "2024-07-10T08:15:24.980579Z",
     "start_time": "2024-07-10T08:15:24.978821Z"
    }
   },
   "cell_type": "code",
   "source": [
    "print(send_query(\"\"\"\n",
    "SELECT ProductName, UnitPrice * (UnitsInStock + NVL(UnitsOnOrder, 0))\n",
    "FROM Products;\n",
    "\"\"\"))"
   ],
   "id": "ada0179ba3b467a5",
   "outputs": [
    {
     "name": "stdout",
     "output_type": "stream",
     "text": [
      "no such column: UnitPrice\n",
      "None\n"
     ]
    }
   ],
   "execution_count": 762
  },
  {
   "metadata": {
    "ExecuteTime": {
     "end_time": "2024-07-10T08:15:25.084288Z",
     "start_time": "2024-07-10T08:15:25.082250Z"
    }
   },
   "cell_type": "code",
   "source": [
    "print(send_query(\"\"\"\n",
    "SELECT ProductName, UnitPrice * (UnitsInStock + COALESCE(UnitsOnOrder, 0))\n",
    "FROM Products;\n",
    "\"\"\"))"
   ],
   "id": "fd91240f8d44c0ed",
   "outputs": [
    {
     "name": "stdout",
     "output_type": "stream",
     "text": [
      "no such column: UnitPrice\n",
      "None\n"
     ]
    }
   ],
   "execution_count": 763
  },
  {
   "metadata": {
    "ExecuteTime": {
     "end_time": "2024-07-10T08:15:25.187189Z",
     "start_time": "2024-07-10T08:15:25.185144Z"
    }
   },
   "cell_type": "code",
   "source": [
    "print(send_query(\"\"\"\n",
    "CREATE PROCEDURE SelectAllCustomers\n",
    "AS\n",
    "SELECT * FROM Customers\n",
    "GO;\n",
    "\"\"\"))\n",
    "print(send_query(\"\"\"\n",
    "EXEC SelectAllCustomers;\n",
    "\"\"\"))"
   ],
   "id": "42c228b92cf25bdf",
   "outputs": [
    {
     "name": "stdout",
     "output_type": "stream",
     "text": [
      "near \"PROCEDURE\": syntax error\n",
      "None\n",
      "near \"EXEC\": syntax error\n",
      "None\n"
     ]
    }
   ],
   "execution_count": 764
  },
  {
   "metadata": {
    "ExecuteTime": {
     "end_time": "2024-07-10T08:15:25.289627Z",
     "start_time": "2024-07-10T08:15:25.287447Z"
    }
   },
   "cell_type": "code",
   "source": [
    "print(send_query(\"\"\"\n",
    "CREATE PROCEDURE SelectAllCustomers @City nvarchar(30)\n",
    "AS\n",
    "SELECT * FROM Customers WHERE City = @City\n",
    "GO;\n",
    "\"\"\"))\n",
    "print(send_query(\"\"\"\n",
    "EXEC SelectAllCustomers @City = 'London';\n",
    "\"\"\"))"
   ],
   "id": "6cca0b9d374acb9e",
   "outputs": [
    {
     "name": "stdout",
     "output_type": "stream",
     "text": [
      "near \"PROCEDURE\": syntax error\n",
      "None\n",
      "near \"EXEC\": syntax error\n",
      "None\n"
     ]
    }
   ],
   "execution_count": 765
  },
  {
   "metadata": {
    "ExecuteTime": {
     "end_time": "2024-07-10T08:15:29.588078Z",
     "start_time": "2024-07-10T08:15:29.585997Z"
    }
   },
   "cell_type": "code",
   "source": [
    "print(send_query(\"\"\"\n",
    "CREATE PROCEDURE SelectAllCustomers @City nvarchar(30), @PostalCode nvarchar(10)\n",
    "AS\n",
    "SELECT * FROM Customers WHERE City = @City AND PostalCode = @PostalCode\n",
    "GO;\n",
    "\"\"\"))\n",
    "print(send_query(\"\"\"\n",
    "EXEC SelectAllCustomers @City = 'London', @PostalCode = 'WA1 1DP';\n",
    "\"\"\"))"
   ],
   "id": "c7145c0d1d5dcf26",
   "outputs": [
    {
     "name": "stdout",
     "output_type": "stream",
     "text": [
      "near \"PROCEDURE\": syntax error\n",
      "None\n",
      "near \"EXEC\": syntax error\n",
      "None\n"
     ]
    }
   ],
   "execution_count": 766
  },
  {
   "metadata": {
    "ExecuteTime": {
     "end_time": "2024-07-10T08:15:40.018145Z",
     "start_time": "2024-07-10T08:15:40.015877Z"
    }
   },
   "cell_type": "code",
   "source": [
    "print(send_query(\"\"\"\n",
    "-- Select all:\n",
    "SELECT * FROM Customers;\n",
    "\"\"\"))"
   ],
   "id": "b527aa2285c5ae24",
   "outputs": [
    {
     "name": "stdout",
     "output_type": "stream",
     "text": [
      "[(1, 'Alfreds Futterkiste', 'Maria Anders', 'Obere Str. 57', 'Berlin', '12209', 'Germany'), (2, 'Ana Trujillo Emparedados y helados', 'Ana Trujillo', 'Avda. de la Constitución 2222', 'México D.F.', '05021', 'Mexico'), (3, 'Antonio Moreno Taquería', 'Antonio Moreno', 'Mataderos 2312', 'México D.F.', '05023', 'Mexico'), (4, 'Around the Horn', 'Thomas Hardy', '120 Hanover Sq.', 'London', 'WA1 1DP', 'UK'), (5, 'Berglunds snabbköp', 'Christina Berglund', 'Berguvsvägen 8', 'Luleå', 'S-958 22', 'Sweden'), (6, 'Blauer See Delikatessen', 'Hanna Moos', 'Forsterstr. 57', 'Mannheim', '68306', 'Germany'), (7, 'Blondel père et fils', 'Frédérique Citeaux', '24, place Kléber', 'Strasbourg', '67000', 'France'), (8, 'Bólido Comidas preparadas', 'Martín Sommer', 'C/ Araquil, 67', 'Madrid', '28023', 'Spain'), (9, \"Bon app'\", 'Laurence Lebihans', '12, rue des Bouchers', 'Marseille', '13008', 'France'), (10, 'Bottom-Dollar Marketse', 'Elizabeth Lincoln', '23 Tsawassen Blvd.', 'Tsawassen', 'T2F 8M4', 'Canada'), (11, \"B's Beverages\", 'Victoria Ashworth', 'Fauntleroy Circus', 'London', 'EC2 5NT', 'UK'), (12, 'Cactus Comidas para llevar', 'Patricio Simpson', 'Cerrito 333', 'Buenos Aires', '1010', 'Argentina'), (13, 'Centro comercial Moctezuma', 'Francisco Chang', 'Sierras de Granada 9993', 'México D.F.', '05022', 'Mexico'), (14, 'Chop-suey Chinese', 'Yang Wang', 'Hauptstr. 29', 'Bern', '3012', 'Switzerland'), (15, 'Comércio Mineiro', 'Pedro Afonso', 'Av. dos Lusíadas, 23', 'São Paulo', '05432-043', 'Brazil'), (16, 'Consolidated Holdings', 'Elizabeth Brown', 'Berkeley Gardens 12 Brewery', 'London', 'WX1 6LT', 'UK'), (17, 'Drachenblut Delikatessend', 'Sven Ottlieb', 'Walserweg 21', 'Aachen', '52066', 'Germany'), (18, 'Du monde entier', 'Janine Labrune', '67, rue des Cinquante Otages', 'Nantes', '44000', 'France'), (19, 'Eastern Connection', 'Ann Devon', '35 King George', 'London', 'WX3 6FW', 'UK'), (20, 'Ernst Handel', 'Roland Mendel', 'Kirchgasse 6', 'Graz', '8010', 'Austria'), (21, 'Familia Arquibaldo', 'Aria Cruz', 'Rua Orós, 92', 'São Paulo', '05442-030', 'Brazil'), (22, 'FISSA Fabrica Inter. Salchichas S.A.', 'Diego Roel', 'C/ Moralzarzal, 86', 'Madrid', '28034', 'Spain'), (23, 'Folies gourmandes', 'Martine Rancé', '184, chaussée de Tournai', 'Lille', '59000', 'France'), (24, 'Folk och fä HB', 'Maria Larsson', 'Åkergatan 24', 'Bräcke', 'S-844 67', 'Sweden'), (25, 'Frankenversand', 'Peter Franken', 'Berliner Platz 43', 'München', '80805', 'Germany'), (26, 'France restauration', 'Carine Schmitt', '54, rue Royale', 'Nantes', '44000', 'France'), (27, 'Franchi S.p.A.', 'Paolo Accorti', 'Via Monte Bianco 34', 'Torino', '10100', 'Italy'), (28, 'Furia Bacalhau e Frutos do Mar', 'Lino Rodriguez', 'Jardim das rosas n. 32', 'Lisboa', '1675', 'Portugal'), (29, 'Galería del gastrónomo', 'Eduardo Saavedra', 'Rambla de Cataluña, 23', 'Barcelona', '08022', 'Spain'), (30, 'Godos Cocina Típica', 'José Pedro Freyre', 'C/ Romero, 33', 'Sevilla', '41101', 'Spain'), (31, 'Gourmet Lanchonetes', 'André Fonseca', 'Av. Brasil, 442', 'Campinas', '04876-786', 'Brazil'), (32, 'Great Lakes Food Market', 'Howard Snyder', '2732 Baker Blvd.', 'Eugene', '97403', 'USA'), (33, 'GROSELLA-Restaurante', 'Manuel Pereira', '5ª Ave. Los Palos Grandes', 'Caracas', '1081', 'Venezuela'), (34, 'Hanari Carnes', 'Mario Pontes', 'Rua do Paço, 67', 'Rio de Janeiro', '05454-876', 'Brazil'), (35, 'HILARIÓN-Abastos', 'Carlos Hernández', 'Carrera 22 con Ave. Carlos Soublette #8-35', 'San Cristóbal', '5022', 'Venezuela'), (36, 'Hungry Coyote Import Store', 'Yoshi Latimer', 'City Center Plaza 516 Main St.', 'Elgin', '97827', 'USA'), (37, 'Hungry Owl All-Night Grocers', 'Patricia McKenna', '8 Johnstown Road', 'Cork', '', 'Ireland'), (38, 'Island Trading', 'Helen Bennett', 'Garden House Crowther Way', 'Cowes', 'PO31 7PJ', 'UK'), (39, 'Königlich Essen', 'Philip Cramer', 'Maubelstr. 90', 'Brandenburg', '14776', 'Germany'), (40, \"La corne d'abondance\", 'Daniel Tonini', \"67, avenue de l'Europe\", 'Versailles', '78000', 'France'), (41, \"La maison d'Asie\", 'Annette Roulet', '1 rue Alsace-Lorraine', 'Toulouse', '31000', 'France'), (42, 'Laughing Bacchus Wine Cellars', 'Yoshi Tannamuri', '1900 Oak St.', 'Vancouver', 'V3F 2K1', 'Canada'), (43, 'Lazy K Kountry Store', 'John Steel', '12 Orchestra Terrace', 'Walla Walla', '99362', 'USA'), (44, 'Lehmanns Marktstand', 'Renate Messner', 'Magazinweg 7', 'Frankfurt a.M.', '60528', 'Germany'), (45, \"Let's Stop N Shop\", 'Jaime Yorres', '87 Polk St. Suite 5', 'San Francisco', '94117', 'USA'), (46, 'LILA-Supermercado', 'Carlos González', 'Carrera 52 con Ave. Bolívar #65-98 Llano Largo', 'Barquisimeto', '3508', 'Venezuela'), (47, 'LINO-Delicateses', 'Felipe Izquierdo', 'Ave. 5 de Mayo Porlamar', 'I. de Margarita', '4980', 'Venezuela'), (48, 'Lonesome Pine Restaurant', 'Fran Wilson', '89 Chiaroscuro Rd.', 'Portland', '97219', 'USA'), (49, 'Magazzini Alimentari Riuniti', 'Giovanni Rovelli', 'Via Ludovico il Moro 22', 'Bergamo', '24100', 'Italy'), (50, 'Maison Dewey', 'Catherine Dewey', 'Rue Joseph-Bens 532', 'Bruxelles', 'B-1180', 'Belgium'), (51, 'Mère Paillarde', 'Jean Fresnière', '43 rue St. Laurent', 'Montréal', 'H1J 1C3', 'Canada'), (52, 'Morgenstern Gesundkost', 'Alexander Feuer', 'Heerstr. 22', 'Leipzig', '04179', 'Germany'), (53, 'North/South', 'Simon Crowther', 'South House 300 Queensbridge', 'London', 'SW7 1RZ', 'UK'), (54, 'Océano Atlántico Ltda.', 'Yvonne Moncada', 'Ing. Gustavo Moncada 8585 Piso 20-A', 'Buenos Aires', '1010', 'Argentina'), (55, 'Old World Delicatessen', 'Rene Phillips', '2743 Bering St.', 'Anchorage', '99508', 'USA'), (56, 'Ottilies Käseladen', 'Henriette Pfalzheim', 'Mehrheimerstr. 369', 'Köln', '50739', 'Germany'), (57, 'Paris spécialités', 'Marie Bertrand', '265, boulevard Charonne', 'Paris', '75012', 'France'), (58, 'Pericles Comidas clásicas', 'Guillermo Fernández', 'Calle Dr. Jorge Cash 321', 'México D.F.', '05033', 'Mexico'), (59, 'Piccolo und mehr', 'Georg Pipps', 'Geislweg 14', 'Salzburg', '5020', 'Austria'), (60, 'Princesa Isabel Vinhoss', 'Isabel de Castro', 'Estrada da saúde n. 58', 'Lisboa', '1756', 'Portugal'), (61, 'Que Delícia', 'Bernardo Batista', 'Rua da Panificadora, 12', 'Rio de Janeiro', '02389-673', 'Brazil'), (62, 'Queen Cozinha', 'Lúcia Carvalho', 'Alameda dos Canàrios, 891', 'São Paulo', '05487-020', 'Brazil'), (63, 'QUICK-Stop', 'Horst Kloss', 'Taucherstraße 10', 'Cunewalde', '01307', 'Germany'), (64, 'Rancho grande', 'Sergio Gutiérrez', 'Av. del Libertador 900', 'Buenos Aires', '1010', 'Argentina'), (65, 'Rattlesnake Canyon Grocery', 'Paula Wilson', '2817 Milton Dr.', 'Albuquerque', '87110', 'USA'), (66, 'Reggiani Caseifici', 'Maurizio Moroni', 'Strada Provinciale 124', 'Reggio Emilia', '42100', 'Italy'), (67, 'Ricardo Adocicados', 'Janete Limeira', 'Av. Copacabana, 267', 'Rio de Janeiro', '02389-890', 'Brazil'), (68, 'Richter Supermarkt', 'Michael Holz', 'Grenzacherweg 237', 'Genève', '1203', 'Switzerland'), (69, 'Romero y tomillo', 'Alejandra Camino', 'Gran Vía, 1', 'Madrid', '28001', 'Spain'), (70, 'Santé Gourmet', 'Jonas Bergulfsen', 'Erling Skakkes gate 78', 'Stavern', '4110', 'Norway'), (71, 'Save-a-lot Markets', 'Jose Pavarotti', '187 Suffolk Ln.', 'Boise', '83720', 'USA'), (72, 'Seven Seas Imports', 'Hari Kumar', '90 Wadhurst Rd.', 'London', 'OX15 4NB', 'UK'), (73, 'Simons bistro', 'Jytte Petersen', 'Vinbæltet 34', 'København', '1734', 'Denmark'), (74, 'Spécialités du monde', 'Dominique Perrier', '25, rue Lauriston', 'Paris', '75016', 'France'), (75, 'Split Rail Beer & Ale', 'Art Braunschweiger', 'P.O. Box 555', 'Lander', '82520', 'USA'), (76, 'Suprêmes délices', 'Pascale Cartrain', 'Boulevard Tirou, 255', 'Charleroi', 'B-6000', 'Belgium'), (77, 'The Big Cheese', 'Liz Nixon', '89 Jefferson Way Suite 2', 'Portland', '97201', 'USA'), (78, 'The Cracker Box', 'Liu Wong', '55 Grizzly Peak Rd.', 'Butte', '59801', 'USA'), (79, 'Toms Spezialitäten', 'Karin Josephs', 'Luisenstr. 48', 'Münster', '44087', 'Germany'), (80, 'Tortuga Restaurante', 'Miguel Angel Paolino', 'Avda. Azteca 123', 'México D.F.', '05033', 'Mexico'), (81, 'Tradição Hipermercados', 'Anabela Domingues', 'Av. Inês de Castro, 414', 'São Paulo', '05634-030', 'Brazil'), (82, \"Trail's Head Gourmet Provisioners\", 'Helvetius Nagy', '722 DaVinci Blvd.', 'Kirkland', '98034', 'USA'), (83, 'Vaffeljernet', 'Palle Ibsen', 'Smagsløget 45', 'Århus', '8200', 'Denmark'), (84, 'Victuailles en stock', 'Mary Saveley', '2, rue du Commerce', 'Lyon', '69004', 'France'), (85, 'Vins et alcools Chevalier', 'Paul Henriot', \"59 rue de l'Abbaye\", 'Reims', '51100', 'France'), (86, 'Die Wandernde Kuh', 'Rita Müller', 'Adenauerallee 900', 'Stuttgart', '70563', 'Germany'), (87, 'Wartian Herkku', 'Pirkko Koskitalo', 'Torikatu 38', 'Oulu', '90110', 'Finland'), (88, 'Wellington Importadora', 'Paula Parente', 'Rua do Mercado, 12', 'Resende', '08737-363', 'Brazil'), (89, 'White Clover Markets', 'Karl Jablonski', '305 - 14th Ave. S. Suite 3B', 'Seattle', '98128', 'USA'), (90, 'Wilman Kala', 'Matti Karttunen', 'Keskuskatu 45', 'Helsinki', '21240', 'Finland'), (91, 'Wolski', 'Zbyszek', 'ul. Filtrowa 68', 'Walla', '01-012', 'Poland')]\n"
     ]
    }
   ],
   "execution_count": 767
  },
  {
   "metadata": {
    "ExecuteTime": {
     "end_time": "2024-07-10T08:16:30.730841Z",
     "start_time": "2024-07-10T08:16:30.724484Z"
    }
   },
   "cell_type": "code",
   "source": [
    "\n",
    "print(send_query(\"\"\"\n",
    "SELECT * FROM Customers -- WHERE City='Berlin';\n",
    "\"\"\"))\n",
    "print(send_query(\"\"\"\n",
    "-- SELECT * FROM Customers;\n",
    "SELECT * FROM Products;\"\"\"))\n",
    "print(send_query(\"\"\"\n",
    "/*Select all the columns\n",
    "of all the records\n",
    "in the Customers table:*/\n",
    "SELECT * FROM Customers;\"\"\"))\n",
    "print(send_query(\"\"\"\n",
    "/*SELECT * FROM Customers;\n",
    "SELECT * FROM Products;\n",
    "SELECT * FROM Orders;\n",
    "SELECT * FROM Categories;*/\n",
    "SELECT * FROM Suppliers;\"\"\"))\n",
    "print(send_query(\"\"\"\n",
    "SELECT CustomerName, /*City,*/ Country FROM Customers;\n",
    "\"\"\"))\n",
    "print(send_query(\"\"\"\n",
    "SELECT * FROM Customers WHERE (CustomerName LIKE 'L%'\n",
    "OR CustomerName LIKE 'R%' /*OR CustomerName LIKE 'S%'\n",
    "OR CustomerName LIKE 'T%'*/ OR CustomerName LIKE 'W%')\n",
    "AND Country='USA'\n",
    "ORDER BY CustomerName;\"\"\"))"
   ],
   "id": "cfa7ae60565a2858",
   "outputs": [
    {
     "name": "stdout",
     "output_type": "stream",
     "text": [
      "[(1, 'Alfreds Futterkiste', 'Maria Anders', 'Obere Str. 57', 'Berlin', '12209', 'Germany'), (2, 'Ana Trujillo Emparedados y helados', 'Ana Trujillo', 'Avda. de la Constitución 2222', 'México D.F.', '05021', 'Mexico'), (3, 'Antonio Moreno Taquería', 'Antonio Moreno', 'Mataderos 2312', 'México D.F.', '05023', 'Mexico'), (4, 'Around the Horn', 'Thomas Hardy', '120 Hanover Sq.', 'London', 'WA1 1DP', 'UK'), (5, 'Berglunds snabbköp', 'Christina Berglund', 'Berguvsvägen 8', 'Luleå', 'S-958 22', 'Sweden'), (6, 'Blauer See Delikatessen', 'Hanna Moos', 'Forsterstr. 57', 'Mannheim', '68306', 'Germany'), (7, 'Blondel père et fils', 'Frédérique Citeaux', '24, place Kléber', 'Strasbourg', '67000', 'France'), (8, 'Bólido Comidas preparadas', 'Martín Sommer', 'C/ Araquil, 67', 'Madrid', '28023', 'Spain'), (9, \"Bon app'\", 'Laurence Lebihans', '12, rue des Bouchers', 'Marseille', '13008', 'France'), (10, 'Bottom-Dollar Marketse', 'Elizabeth Lincoln', '23 Tsawassen Blvd.', 'Tsawassen', 'T2F 8M4', 'Canada'), (11, \"B's Beverages\", 'Victoria Ashworth', 'Fauntleroy Circus', 'London', 'EC2 5NT', 'UK'), (12, 'Cactus Comidas para llevar', 'Patricio Simpson', 'Cerrito 333', 'Buenos Aires', '1010', 'Argentina'), (13, 'Centro comercial Moctezuma', 'Francisco Chang', 'Sierras de Granada 9993', 'México D.F.', '05022', 'Mexico'), (14, 'Chop-suey Chinese', 'Yang Wang', 'Hauptstr. 29', 'Bern', '3012', 'Switzerland'), (15, 'Comércio Mineiro', 'Pedro Afonso', 'Av. dos Lusíadas, 23', 'São Paulo', '05432-043', 'Brazil'), (16, 'Consolidated Holdings', 'Elizabeth Brown', 'Berkeley Gardens 12 Brewery', 'London', 'WX1 6LT', 'UK'), (17, 'Drachenblut Delikatessend', 'Sven Ottlieb', 'Walserweg 21', 'Aachen', '52066', 'Germany'), (18, 'Du monde entier', 'Janine Labrune', '67, rue des Cinquante Otages', 'Nantes', '44000', 'France'), (19, 'Eastern Connection', 'Ann Devon', '35 King George', 'London', 'WX3 6FW', 'UK'), (20, 'Ernst Handel', 'Roland Mendel', 'Kirchgasse 6', 'Graz', '8010', 'Austria'), (21, 'Familia Arquibaldo', 'Aria Cruz', 'Rua Orós, 92', 'São Paulo', '05442-030', 'Brazil'), (22, 'FISSA Fabrica Inter. Salchichas S.A.', 'Diego Roel', 'C/ Moralzarzal, 86', 'Madrid', '28034', 'Spain'), (23, 'Folies gourmandes', 'Martine Rancé', '184, chaussée de Tournai', 'Lille', '59000', 'France'), (24, 'Folk och fä HB', 'Maria Larsson', 'Åkergatan 24', 'Bräcke', 'S-844 67', 'Sweden'), (25, 'Frankenversand', 'Peter Franken', 'Berliner Platz 43', 'München', '80805', 'Germany'), (26, 'France restauration', 'Carine Schmitt', '54, rue Royale', 'Nantes', '44000', 'France'), (27, 'Franchi S.p.A.', 'Paolo Accorti', 'Via Monte Bianco 34', 'Torino', '10100', 'Italy'), (28, 'Furia Bacalhau e Frutos do Mar', 'Lino Rodriguez', 'Jardim das rosas n. 32', 'Lisboa', '1675', 'Portugal'), (29, 'Galería del gastrónomo', 'Eduardo Saavedra', 'Rambla de Cataluña, 23', 'Barcelona', '08022', 'Spain'), (30, 'Godos Cocina Típica', 'José Pedro Freyre', 'C/ Romero, 33', 'Sevilla', '41101', 'Spain'), (31, 'Gourmet Lanchonetes', 'André Fonseca', 'Av. Brasil, 442', 'Campinas', '04876-786', 'Brazil'), (32, 'Great Lakes Food Market', 'Howard Snyder', '2732 Baker Blvd.', 'Eugene', '97403', 'USA'), (33, 'GROSELLA-Restaurante', 'Manuel Pereira', '5ª Ave. Los Palos Grandes', 'Caracas', '1081', 'Venezuela'), (34, 'Hanari Carnes', 'Mario Pontes', 'Rua do Paço, 67', 'Rio de Janeiro', '05454-876', 'Brazil'), (35, 'HILARIÓN-Abastos', 'Carlos Hernández', 'Carrera 22 con Ave. Carlos Soublette #8-35', 'San Cristóbal', '5022', 'Venezuela'), (36, 'Hungry Coyote Import Store', 'Yoshi Latimer', 'City Center Plaza 516 Main St.', 'Elgin', '97827', 'USA'), (37, 'Hungry Owl All-Night Grocers', 'Patricia McKenna', '8 Johnstown Road', 'Cork', '', 'Ireland'), (38, 'Island Trading', 'Helen Bennett', 'Garden House Crowther Way', 'Cowes', 'PO31 7PJ', 'UK'), (39, 'Königlich Essen', 'Philip Cramer', 'Maubelstr. 90', 'Brandenburg', '14776', 'Germany'), (40, \"La corne d'abondance\", 'Daniel Tonini', \"67, avenue de l'Europe\", 'Versailles', '78000', 'France'), (41, \"La maison d'Asie\", 'Annette Roulet', '1 rue Alsace-Lorraine', 'Toulouse', '31000', 'France'), (42, 'Laughing Bacchus Wine Cellars', 'Yoshi Tannamuri', '1900 Oak St.', 'Vancouver', 'V3F 2K1', 'Canada'), (43, 'Lazy K Kountry Store', 'John Steel', '12 Orchestra Terrace', 'Walla Walla', '99362', 'USA'), (44, 'Lehmanns Marktstand', 'Renate Messner', 'Magazinweg 7', 'Frankfurt a.M.', '60528', 'Germany'), (45, \"Let's Stop N Shop\", 'Jaime Yorres', '87 Polk St. Suite 5', 'San Francisco', '94117', 'USA'), (46, 'LILA-Supermercado', 'Carlos González', 'Carrera 52 con Ave. Bolívar #65-98 Llano Largo', 'Barquisimeto', '3508', 'Venezuela'), (47, 'LINO-Delicateses', 'Felipe Izquierdo', 'Ave. 5 de Mayo Porlamar', 'I. de Margarita', '4980', 'Venezuela'), (48, 'Lonesome Pine Restaurant', 'Fran Wilson', '89 Chiaroscuro Rd.', 'Portland', '97219', 'USA'), (49, 'Magazzini Alimentari Riuniti', 'Giovanni Rovelli', 'Via Ludovico il Moro 22', 'Bergamo', '24100', 'Italy'), (50, 'Maison Dewey', 'Catherine Dewey', 'Rue Joseph-Bens 532', 'Bruxelles', 'B-1180', 'Belgium'), (51, 'Mère Paillarde', 'Jean Fresnière', '43 rue St. Laurent', 'Montréal', 'H1J 1C3', 'Canada'), (52, 'Morgenstern Gesundkost', 'Alexander Feuer', 'Heerstr. 22', 'Leipzig', '04179', 'Germany'), (53, 'North/South', 'Simon Crowther', 'South House 300 Queensbridge', 'London', 'SW7 1RZ', 'UK'), (54, 'Océano Atlántico Ltda.', 'Yvonne Moncada', 'Ing. Gustavo Moncada 8585 Piso 20-A', 'Buenos Aires', '1010', 'Argentina'), (55, 'Old World Delicatessen', 'Rene Phillips', '2743 Bering St.', 'Anchorage', '99508', 'USA'), (56, 'Ottilies Käseladen', 'Henriette Pfalzheim', 'Mehrheimerstr. 369', 'Köln', '50739', 'Germany'), (57, 'Paris spécialités', 'Marie Bertrand', '265, boulevard Charonne', 'Paris', '75012', 'France'), (58, 'Pericles Comidas clásicas', 'Guillermo Fernández', 'Calle Dr. Jorge Cash 321', 'México D.F.', '05033', 'Mexico'), (59, 'Piccolo und mehr', 'Georg Pipps', 'Geislweg 14', 'Salzburg', '5020', 'Austria'), (60, 'Princesa Isabel Vinhoss', 'Isabel de Castro', 'Estrada da saúde n. 58', 'Lisboa', '1756', 'Portugal'), (61, 'Que Delícia', 'Bernardo Batista', 'Rua da Panificadora, 12', 'Rio de Janeiro', '02389-673', 'Brazil'), (62, 'Queen Cozinha', 'Lúcia Carvalho', 'Alameda dos Canàrios, 891', 'São Paulo', '05487-020', 'Brazil'), (63, 'QUICK-Stop', 'Horst Kloss', 'Taucherstraße 10', 'Cunewalde', '01307', 'Germany'), (64, 'Rancho grande', 'Sergio Gutiérrez', 'Av. del Libertador 900', 'Buenos Aires', '1010', 'Argentina'), (65, 'Rattlesnake Canyon Grocery', 'Paula Wilson', '2817 Milton Dr.', 'Albuquerque', '87110', 'USA'), (66, 'Reggiani Caseifici', 'Maurizio Moroni', 'Strada Provinciale 124', 'Reggio Emilia', '42100', 'Italy'), (67, 'Ricardo Adocicados', 'Janete Limeira', 'Av. Copacabana, 267', 'Rio de Janeiro', '02389-890', 'Brazil'), (68, 'Richter Supermarkt', 'Michael Holz', 'Grenzacherweg 237', 'Genève', '1203', 'Switzerland'), (69, 'Romero y tomillo', 'Alejandra Camino', 'Gran Vía, 1', 'Madrid', '28001', 'Spain'), (70, 'Santé Gourmet', 'Jonas Bergulfsen', 'Erling Skakkes gate 78', 'Stavern', '4110', 'Norway'), (71, 'Save-a-lot Markets', 'Jose Pavarotti', '187 Suffolk Ln.', 'Boise', '83720', 'USA'), (72, 'Seven Seas Imports', 'Hari Kumar', '90 Wadhurst Rd.', 'London', 'OX15 4NB', 'UK'), (73, 'Simons bistro', 'Jytte Petersen', 'Vinbæltet 34', 'København', '1734', 'Denmark'), (74, 'Spécialités du monde', 'Dominique Perrier', '25, rue Lauriston', 'Paris', '75016', 'France'), (75, 'Split Rail Beer & Ale', 'Art Braunschweiger', 'P.O. Box 555', 'Lander', '82520', 'USA'), (76, 'Suprêmes délices', 'Pascale Cartrain', 'Boulevard Tirou, 255', 'Charleroi', 'B-6000', 'Belgium'), (77, 'The Big Cheese', 'Liz Nixon', '89 Jefferson Way Suite 2', 'Portland', '97201', 'USA'), (78, 'The Cracker Box', 'Liu Wong', '55 Grizzly Peak Rd.', 'Butte', '59801', 'USA'), (79, 'Toms Spezialitäten', 'Karin Josephs', 'Luisenstr. 48', 'Münster', '44087', 'Germany'), (80, 'Tortuga Restaurante', 'Miguel Angel Paolino', 'Avda. Azteca 123', 'México D.F.', '05033', 'Mexico'), (81, 'Tradição Hipermercados', 'Anabela Domingues', 'Av. Inês de Castro, 414', 'São Paulo', '05634-030', 'Brazil'), (82, \"Trail's Head Gourmet Provisioners\", 'Helvetius Nagy', '722 DaVinci Blvd.', 'Kirkland', '98034', 'USA'), (83, 'Vaffeljernet', 'Palle Ibsen', 'Smagsløget 45', 'Århus', '8200', 'Denmark'), (84, 'Victuailles en stock', 'Mary Saveley', '2, rue du Commerce', 'Lyon', '69004', 'France'), (85, 'Vins et alcools Chevalier', 'Paul Henriot', \"59 rue de l'Abbaye\", 'Reims', '51100', 'France'), (86, 'Die Wandernde Kuh', 'Rita Müller', 'Adenauerallee 900', 'Stuttgart', '70563', 'Germany'), (87, 'Wartian Herkku', 'Pirkko Koskitalo', 'Torikatu 38', 'Oulu', '90110', 'Finland'), (88, 'Wellington Importadora', 'Paula Parente', 'Rua do Mercado, 12', 'Resende', '08737-363', 'Brazil'), (89, 'White Clover Markets', 'Karl Jablonski', '305 - 14th Ave. S. Suite 3B', 'Seattle', '98128', 'USA'), (90, 'Wilman Kala', 'Matti Karttunen', 'Keskuskatu 45', 'Helsinki', '21240', 'Finland'), (91, 'Wolski', 'Zbyszek', 'ul. Filtrowa 68', 'Walla', '01-012', 'Poland')]\n",
      "[(1, 'Chais', 1, 1, '10 boxes x 20 bags', 18.0), (2, 'Chang', 1, 1, '24 - 12 oz bottles', 19.0), (3, 'Aniseed Syrup', 1, 2, '12 - 550 ml bottles', 10.0), (4, \"Chef Anton's Cajun Seasoning\", 2, 2, '48 - 6 oz jars', 22.0), (5, \"Chef Anton's Gumbo Mix\", 2, 2, '36 boxes', 21.35), (6, \"Grandma's Boysenberry Spread\", 3, 2, '12 - 8 oz jars', 25.0), (7, \"Uncle Bob's Organic Dried Pears\", 3, 7, '12 - 1 lb pkgs.', 30.0), (8, 'Northwoods Cranberry Sauce', 3, 2, '12 - 12 oz jars', 40.0), (9, 'Mishi Kobe Niku', 4, 6, '18 - 500 g pkgs.', 97.0), (10, 'Ikura', 4, 8, '12 - 200 ml jars', 31.0), (11, 'Queso Cabrales', 5, 4, '1 kg pkg.', 21.0), (12, 'Queso Manchego La Pastora', 5, 4, '10 - 500 g pkgs.', 38.0), (13, 'Konbu', 6, 8, '2 kg box', 6.0), (14, 'Tofu', 6, 7, '40 - 100 g pkgs.', 23.25), (15, 'Genen Shouyu', 6, 2, '24 - 250 ml bottles', 15.5), (16, 'Pavlova', 7, 3, '32 - 500 g boxes', 17.45), (17, 'Alice Mutton', 7, 6, '20 - 1 kg tins', 39.0), (18, 'Carnarvon Tigers', 7, 8, '16 kg pkg.', 62.5), (19, 'Teatime Chocolate Biscuits', 8, 3, '10 boxes x 12 pieces', 9.2), (20, \"Sir Rodney's Marmalade\", 8, 3, '30 gift boxes', 81.0), (21, \"Sir Rodney's Scones\", 8, 3, '24 pkgs. x 4 pieces', 10.0), (22, \"Gustaf's Knäckebröd\", 9, 5, '24 - 500 g pkgs.', 21.0), (23, 'Tunnbröd', 9, 5, '12 - 250 g pkgs.', 9.0), (24, 'Guaraná Fantástica', 10, 1, '12 - 355 ml cans', 4.5), (25, 'NuNuCa Nuß-Nougat-Creme', 11, 3, '20 - 450 g glasses', 14.0), (26, 'Gumbär Gummibärchen', 11, 3, '100 - 250 g bags', 31.23), (27, 'Schoggi Schokolade', 11, 3, '100 - 100 g pieces', 43.9), (28, 'Rössle Sauerkraut', 12, 7, '25 - 825 g cans', 45.6), (29, 'Thüringer Rostbratwurst', 12, 6, '50 bags x 30 sausgs.', 123.79), (30, 'Nord-Ost Matjeshering', 13, 8, '10 - 200 g glasses', 25.89), (31, 'Gorgonzola Telino', 14, 4, '12 - 100 g pkgs', 12.5), (32, 'Mascarpone Fabioli', 14, 4, '24 - 200 g pkgs.', 32.0), (33, 'Geitost', 15, 4, '500 g', 2.5), (34, 'Sasquatch Ale', 16, 1, '24 - 12 oz bottles', 14.0), (35, 'Steeleye Stout', 16, 1, '24 - 12 oz bottles', 18.0), (36, 'Inlagd Sill', 17, 8, '24 - 250 g jars', 19.0), (37, 'Gravad lax', 17, 8, '12 - 500 g pkgs.', 26.0), (38, 'Côte de Blaye', 18, 1, '12 - 75 cl bottles', 263.5), (39, 'Chartreuse verte', 18, 1, '750 cc per bottle', 18.0), (40, 'Boston Crab Meat', 19, 8, '24 - 4 oz tins', 18.4), (41, \"Jack's New England Clam Chowder\", 19, 8, '12 - 12 oz cans', 9.65), (42, 'Singaporean Hokkien Fried Mee', 20, 5, '32 - 1 kg pkgs.', 14.0), (43, 'Ipoh Coffee', 20, 1, '16 - 500 g tins', 46.0), (44, 'Gula Malacca', 20, 2, '20 - 2 kg bags', 19.45), (45, 'Røgede sild', 21, 8, '1k pkg.', 9.5), (46, 'Spegesild', 21, 8, '4 - 450 g glasses', 12.0), (47, 'Zaanse koeken', 22, 3, '10 - 4 oz boxes', 9.5), (48, 'Chocolade', 22, 3, '10 pkgs.', 12.75), (49, 'Maxilaku', 23, 3, '24 - 50 g pkgs.', 20.0), (50, 'Valkoinen suklaa', 23, 3, '12 - 100 g bars', 16.25), (51, 'Manjimup Dried Apples', 24, 7, '50 - 300 g pkgs.', 53.0), (52, 'Filo Mix', 24, 5, '16 - 2 kg boxes', 7.0), (53, 'Perth Pasties', 24, 6, '48 pieces', 32.8), (54, 'Tourtière', 25, 6, '16 pies', 7.45), (55, 'Pâté chinois', 25, 6, '24 boxes x 2 pies', 24.0), (56, 'Gnocchi di nonna Alice', 26, 5, '24 - 250 g pkgs.', 38.0), (57, 'Ravioli Angelo', 26, 5, '24 - 250 g pkgs.', 19.5), (58, 'Escargots de Bourgogne', 27, 8, '24 pieces', 13.25), (59, 'Raclette Courdavault', 28, 4, '5 kg pkg.', 55.0), (60, 'Camembert Pierrot', 28, 4, '15 - 300 g rounds', 34.0), (61, \"Sirop d'érable\", 29, 2, '24 - 500 ml bottles', 28.5), (62, 'Tarte au sucre', 29, 3, '48 pies', 49.3), (63, 'Vegie-spread', 7, 2, '15 - 625 g jars', 43.9), (64, 'Wimmers gute Semmelknödel', 12, 5, '20 bags x 4 pieces', 33.25), (65, 'Louisiana Fiery Hot Pepper Sauce', 2, 2, '32 - 8 oz bottles', 21.05), (66, 'Louisiana Hot Spiced Okra', 2, 2, '24 - 8 oz jars', 17.0), (67, 'Laughing Lumberjack Lager', 16, 1, '24 - 12 oz bottles', 14.0), (68, 'Scottish Longbreads', 8, 3, '10 boxes x 8 pieces', 12.5), (69, 'Gudbrandsdalsost', 15, 4, '10 kg pkg.', 36.0), (70, 'Outback Lager', 7, 1, '24 - 355 ml bottles', 15.0), (71, 'Fløtemysost', 15, 4, '10 - 500 g pkgs.', 21.5), (72, 'Mozzarella di Giovanni', 14, 4, '24 - 200 g pkgs.', 34.8), (73, 'Röd Kaviar', 17, 8, '24 - 150 g jars', 15.0), (74, 'Longlife Tofu', 4, 7, '5 kg pkg.', 10.0), (75, 'Rhönbräu Klosterbier', 12, 1, '24 - 0.5 l bottles', 7.75), (76, 'Lakkalikööri', 23, 1, '500 ml', 18.0), (77, 'Original Frankfurter grüne Soße', 12, 2, '12 boxes', 13.0)]\n",
      "[(1, 'Alfreds Futterkiste', 'Maria Anders', 'Obere Str. 57', 'Berlin', '12209', 'Germany'), (2, 'Ana Trujillo Emparedados y helados', 'Ana Trujillo', 'Avda. de la Constitución 2222', 'México D.F.', '05021', 'Mexico'), (3, 'Antonio Moreno Taquería', 'Antonio Moreno', 'Mataderos 2312', 'México D.F.', '05023', 'Mexico'), (4, 'Around the Horn', 'Thomas Hardy', '120 Hanover Sq.', 'London', 'WA1 1DP', 'UK'), (5, 'Berglunds snabbköp', 'Christina Berglund', 'Berguvsvägen 8', 'Luleå', 'S-958 22', 'Sweden'), (6, 'Blauer See Delikatessen', 'Hanna Moos', 'Forsterstr. 57', 'Mannheim', '68306', 'Germany'), (7, 'Blondel père et fils', 'Frédérique Citeaux', '24, place Kléber', 'Strasbourg', '67000', 'France'), (8, 'Bólido Comidas preparadas', 'Martín Sommer', 'C/ Araquil, 67', 'Madrid', '28023', 'Spain'), (9, \"Bon app'\", 'Laurence Lebihans', '12, rue des Bouchers', 'Marseille', '13008', 'France'), (10, 'Bottom-Dollar Marketse', 'Elizabeth Lincoln', '23 Tsawassen Blvd.', 'Tsawassen', 'T2F 8M4', 'Canada'), (11, \"B's Beverages\", 'Victoria Ashworth', 'Fauntleroy Circus', 'London', 'EC2 5NT', 'UK'), (12, 'Cactus Comidas para llevar', 'Patricio Simpson', 'Cerrito 333', 'Buenos Aires', '1010', 'Argentina'), (13, 'Centro comercial Moctezuma', 'Francisco Chang', 'Sierras de Granada 9993', 'México D.F.', '05022', 'Mexico'), (14, 'Chop-suey Chinese', 'Yang Wang', 'Hauptstr. 29', 'Bern', '3012', 'Switzerland'), (15, 'Comércio Mineiro', 'Pedro Afonso', 'Av. dos Lusíadas, 23', 'São Paulo', '05432-043', 'Brazil'), (16, 'Consolidated Holdings', 'Elizabeth Brown', 'Berkeley Gardens 12 Brewery', 'London', 'WX1 6LT', 'UK'), (17, 'Drachenblut Delikatessend', 'Sven Ottlieb', 'Walserweg 21', 'Aachen', '52066', 'Germany'), (18, 'Du monde entier', 'Janine Labrune', '67, rue des Cinquante Otages', 'Nantes', '44000', 'France'), (19, 'Eastern Connection', 'Ann Devon', '35 King George', 'London', 'WX3 6FW', 'UK'), (20, 'Ernst Handel', 'Roland Mendel', 'Kirchgasse 6', 'Graz', '8010', 'Austria'), (21, 'Familia Arquibaldo', 'Aria Cruz', 'Rua Orós, 92', 'São Paulo', '05442-030', 'Brazil'), (22, 'FISSA Fabrica Inter. Salchichas S.A.', 'Diego Roel', 'C/ Moralzarzal, 86', 'Madrid', '28034', 'Spain'), (23, 'Folies gourmandes', 'Martine Rancé', '184, chaussée de Tournai', 'Lille', '59000', 'France'), (24, 'Folk och fä HB', 'Maria Larsson', 'Åkergatan 24', 'Bräcke', 'S-844 67', 'Sweden'), (25, 'Frankenversand', 'Peter Franken', 'Berliner Platz 43', 'München', '80805', 'Germany'), (26, 'France restauration', 'Carine Schmitt', '54, rue Royale', 'Nantes', '44000', 'France'), (27, 'Franchi S.p.A.', 'Paolo Accorti', 'Via Monte Bianco 34', 'Torino', '10100', 'Italy'), (28, 'Furia Bacalhau e Frutos do Mar', 'Lino Rodriguez', 'Jardim das rosas n. 32', 'Lisboa', '1675', 'Portugal'), (29, 'Galería del gastrónomo', 'Eduardo Saavedra', 'Rambla de Cataluña, 23', 'Barcelona', '08022', 'Spain'), (30, 'Godos Cocina Típica', 'José Pedro Freyre', 'C/ Romero, 33', 'Sevilla', '41101', 'Spain'), (31, 'Gourmet Lanchonetes', 'André Fonseca', 'Av. Brasil, 442', 'Campinas', '04876-786', 'Brazil'), (32, 'Great Lakes Food Market', 'Howard Snyder', '2732 Baker Blvd.', 'Eugene', '97403', 'USA'), (33, 'GROSELLA-Restaurante', 'Manuel Pereira', '5ª Ave. Los Palos Grandes', 'Caracas', '1081', 'Venezuela'), (34, 'Hanari Carnes', 'Mario Pontes', 'Rua do Paço, 67', 'Rio de Janeiro', '05454-876', 'Brazil'), (35, 'HILARIÓN-Abastos', 'Carlos Hernández', 'Carrera 22 con Ave. Carlos Soublette #8-35', 'San Cristóbal', '5022', 'Venezuela'), (36, 'Hungry Coyote Import Store', 'Yoshi Latimer', 'City Center Plaza 516 Main St.', 'Elgin', '97827', 'USA'), (37, 'Hungry Owl All-Night Grocers', 'Patricia McKenna', '8 Johnstown Road', 'Cork', '', 'Ireland'), (38, 'Island Trading', 'Helen Bennett', 'Garden House Crowther Way', 'Cowes', 'PO31 7PJ', 'UK'), (39, 'Königlich Essen', 'Philip Cramer', 'Maubelstr. 90', 'Brandenburg', '14776', 'Germany'), (40, \"La corne d'abondance\", 'Daniel Tonini', \"67, avenue de l'Europe\", 'Versailles', '78000', 'France'), (41, \"La maison d'Asie\", 'Annette Roulet', '1 rue Alsace-Lorraine', 'Toulouse', '31000', 'France'), (42, 'Laughing Bacchus Wine Cellars', 'Yoshi Tannamuri', '1900 Oak St.', 'Vancouver', 'V3F 2K1', 'Canada'), (43, 'Lazy K Kountry Store', 'John Steel', '12 Orchestra Terrace', 'Walla Walla', '99362', 'USA'), (44, 'Lehmanns Marktstand', 'Renate Messner', 'Magazinweg 7', 'Frankfurt a.M.', '60528', 'Germany'), (45, \"Let's Stop N Shop\", 'Jaime Yorres', '87 Polk St. Suite 5', 'San Francisco', '94117', 'USA'), (46, 'LILA-Supermercado', 'Carlos González', 'Carrera 52 con Ave. Bolívar #65-98 Llano Largo', 'Barquisimeto', '3508', 'Venezuela'), (47, 'LINO-Delicateses', 'Felipe Izquierdo', 'Ave. 5 de Mayo Porlamar', 'I. de Margarita', '4980', 'Venezuela'), (48, 'Lonesome Pine Restaurant', 'Fran Wilson', '89 Chiaroscuro Rd.', 'Portland', '97219', 'USA'), (49, 'Magazzini Alimentari Riuniti', 'Giovanni Rovelli', 'Via Ludovico il Moro 22', 'Bergamo', '24100', 'Italy'), (50, 'Maison Dewey', 'Catherine Dewey', 'Rue Joseph-Bens 532', 'Bruxelles', 'B-1180', 'Belgium'), (51, 'Mère Paillarde', 'Jean Fresnière', '43 rue St. Laurent', 'Montréal', 'H1J 1C3', 'Canada'), (52, 'Morgenstern Gesundkost', 'Alexander Feuer', 'Heerstr. 22', 'Leipzig', '04179', 'Germany'), (53, 'North/South', 'Simon Crowther', 'South House 300 Queensbridge', 'London', 'SW7 1RZ', 'UK'), (54, 'Océano Atlántico Ltda.', 'Yvonne Moncada', 'Ing. Gustavo Moncada 8585 Piso 20-A', 'Buenos Aires', '1010', 'Argentina'), (55, 'Old World Delicatessen', 'Rene Phillips', '2743 Bering St.', 'Anchorage', '99508', 'USA'), (56, 'Ottilies Käseladen', 'Henriette Pfalzheim', 'Mehrheimerstr. 369', 'Köln', '50739', 'Germany'), (57, 'Paris spécialités', 'Marie Bertrand', '265, boulevard Charonne', 'Paris', '75012', 'France'), (58, 'Pericles Comidas clásicas', 'Guillermo Fernández', 'Calle Dr. Jorge Cash 321', 'México D.F.', '05033', 'Mexico'), (59, 'Piccolo und mehr', 'Georg Pipps', 'Geislweg 14', 'Salzburg', '5020', 'Austria'), (60, 'Princesa Isabel Vinhoss', 'Isabel de Castro', 'Estrada da saúde n. 58', 'Lisboa', '1756', 'Portugal'), (61, 'Que Delícia', 'Bernardo Batista', 'Rua da Panificadora, 12', 'Rio de Janeiro', '02389-673', 'Brazil'), (62, 'Queen Cozinha', 'Lúcia Carvalho', 'Alameda dos Canàrios, 891', 'São Paulo', '05487-020', 'Brazil'), (63, 'QUICK-Stop', 'Horst Kloss', 'Taucherstraße 10', 'Cunewalde', '01307', 'Germany'), (64, 'Rancho grande', 'Sergio Gutiérrez', 'Av. del Libertador 900', 'Buenos Aires', '1010', 'Argentina'), (65, 'Rattlesnake Canyon Grocery', 'Paula Wilson', '2817 Milton Dr.', 'Albuquerque', '87110', 'USA'), (66, 'Reggiani Caseifici', 'Maurizio Moroni', 'Strada Provinciale 124', 'Reggio Emilia', '42100', 'Italy'), (67, 'Ricardo Adocicados', 'Janete Limeira', 'Av. Copacabana, 267', 'Rio de Janeiro', '02389-890', 'Brazil'), (68, 'Richter Supermarkt', 'Michael Holz', 'Grenzacherweg 237', 'Genève', '1203', 'Switzerland'), (69, 'Romero y tomillo', 'Alejandra Camino', 'Gran Vía, 1', 'Madrid', '28001', 'Spain'), (70, 'Santé Gourmet', 'Jonas Bergulfsen', 'Erling Skakkes gate 78', 'Stavern', '4110', 'Norway'), (71, 'Save-a-lot Markets', 'Jose Pavarotti', '187 Suffolk Ln.', 'Boise', '83720', 'USA'), (72, 'Seven Seas Imports', 'Hari Kumar', '90 Wadhurst Rd.', 'London', 'OX15 4NB', 'UK'), (73, 'Simons bistro', 'Jytte Petersen', 'Vinbæltet 34', 'København', '1734', 'Denmark'), (74, 'Spécialités du monde', 'Dominique Perrier', '25, rue Lauriston', 'Paris', '75016', 'France'), (75, 'Split Rail Beer & Ale', 'Art Braunschweiger', 'P.O. Box 555', 'Lander', '82520', 'USA'), (76, 'Suprêmes délices', 'Pascale Cartrain', 'Boulevard Tirou, 255', 'Charleroi', 'B-6000', 'Belgium'), (77, 'The Big Cheese', 'Liz Nixon', '89 Jefferson Way Suite 2', 'Portland', '97201', 'USA'), (78, 'The Cracker Box', 'Liu Wong', '55 Grizzly Peak Rd.', 'Butte', '59801', 'USA'), (79, 'Toms Spezialitäten', 'Karin Josephs', 'Luisenstr. 48', 'Münster', '44087', 'Germany'), (80, 'Tortuga Restaurante', 'Miguel Angel Paolino', 'Avda. Azteca 123', 'México D.F.', '05033', 'Mexico'), (81, 'Tradição Hipermercados', 'Anabela Domingues', 'Av. Inês de Castro, 414', 'São Paulo', '05634-030', 'Brazil'), (82, \"Trail's Head Gourmet Provisioners\", 'Helvetius Nagy', '722 DaVinci Blvd.', 'Kirkland', '98034', 'USA'), (83, 'Vaffeljernet', 'Palle Ibsen', 'Smagsløget 45', 'Århus', '8200', 'Denmark'), (84, 'Victuailles en stock', 'Mary Saveley', '2, rue du Commerce', 'Lyon', '69004', 'France'), (85, 'Vins et alcools Chevalier', 'Paul Henriot', \"59 rue de l'Abbaye\", 'Reims', '51100', 'France'), (86, 'Die Wandernde Kuh', 'Rita Müller', 'Adenauerallee 900', 'Stuttgart', '70563', 'Germany'), (87, 'Wartian Herkku', 'Pirkko Koskitalo', 'Torikatu 38', 'Oulu', '90110', 'Finland'), (88, 'Wellington Importadora', 'Paula Parente', 'Rua do Mercado, 12', 'Resende', '08737-363', 'Brazil'), (89, 'White Clover Markets', 'Karl Jablonski', '305 - 14th Ave. S. Suite 3B', 'Seattle', '98128', 'USA'), (90, 'Wilman Kala', 'Matti Karttunen', 'Keskuskatu 45', 'Helsinki', '21240', 'Finland'), (91, 'Wolski', 'Zbyszek', 'ul. Filtrowa 68', 'Walla', '01-012', 'Poland')]\n",
      "[(1, 'Exotic Liquid', 'Charlotte Cooper', '49 Gilbert St.', 'Londona', 'EC1 4SD', 'UK', '(171) 555-2222'), (2, 'New Orleans Cajun Delights', 'Shelley Burke', 'P.O. Box 78934', 'New Orleans', '70117', 'USA', '(100) 555-4822'), (3, \"Grandma Kelly's Homestead\", 'Regina Murphy', '707 Oxford Rd.', 'Ann Arbor', '48104', 'USA', '(313) 555-5735'), (4, 'Tokyo Traders', 'Yoshi Nagase', '9-8 Sekimai Musashino-shi', 'Tokyo', '100', 'Japan', '(03) 3555-5011'), (5, \"Cooperativa de Quesos 'Las Cabras'\", 'Antonio del Valle Saavedra', 'Calle del Rosal 4', 'Oviedo', '33007', 'Spain', '(98) 598 76 54'), (6, \"Mayumi's\", 'Mayumi Ohno', '92 Setsuko Chuo-ku', 'Osaka', '545', 'Japan', '(06) 431-7877'), (7, 'Pavlova, Ltd.', 'Ian Devling', '74 Rose St. Moonie Ponds', 'Melbourne', '3058', 'Australia', '(03) 444-2343'), (8, 'Specialty Biscuits, Ltd.', 'Peter Wilson', \"29 King's Way\", 'Manchester', 'M14 GSD', 'UK', '(161) 555-4448'), (9, 'PB Knäckebröd AB', 'Lars Peterson', 'Kaloadagatan 13', 'Göteborg', 'S-345 67', 'Sweden', '031-987 65 43'), (10, 'Refrescos Americanas LTDA', 'Carlos Diaz', 'Av. das Americanas 12.890', 'São Paulo', '5442', 'Brazil', '(11) 555 4640'), (11, 'Heli Süßwaren GmbH & Co. KG', 'Petra Winkler', 'Tiergartenstraße 5', 'Berlin', '10785', 'Germany', '(010) 9984510'), (12, 'Plutzer Lebensmittelgroßmärkte AG', 'Martin Bein', 'Bogenallee 51', 'Frankfurt', '60439', 'Germany', '(069) 992755'), (13, 'Nord-Ost-Fisch Handelsgesellschaft mbH', 'Sven Petersen', 'Frahmredder 112a', 'Cuxhaven', '27478', 'Germany', '(04721) 8713'), (14, 'Formaggi Fortini s.r.l.', 'Elio Rossi', 'Viale Dante, 75', 'Ravenna', '48100', 'Italy', '(0544) 60323'), (15, 'Norske Meierier', 'Beate Vileid', 'Hatlevegen 5', 'Sandvika', '1320', 'Norway', '(0)2-953010'), (16, 'Bigfoot Breweries', 'Cheryl Saylor', '3400 - 8th Avenue Suite 210', 'Bend', '97101', 'USA', '(503) 555-9931'), (17, 'Svensk Sjöföda AB', 'Michael Björn', 'Brovallavägen 231', 'Stockholm', 'S-123 45', 'Sweden', '08-123 45 67'), (18, 'Aux joyeux ecclésiastiques', 'Guylène Nodier', '203, Rue des Francs-Bourgeois', 'Paris', '75004', 'France', '(1) 03.83.00.68'), (19, 'New England Seafood Cannery', 'Robb Merchant', 'Order Processing Dept. 2100 Paul Revere Blvd.', 'Boston', '02134', 'USA', '(617) 555-3267'), (20, 'Leka Trading', 'Chandra Leka', '471 Serangoon Loop, Suite #402', 'Singapore', '0512', 'Singapore', '555-8787'), (21, 'Lyngbysild', 'Niels Petersen', 'Lyngbysild Fiskebakken 10', 'Lyngby', '2800', 'Denmark', '43844108'), (22, 'Zaanse Snoepfabriek', 'Dirk Luchte', 'Verkoop Rijnweg 22', 'Zaandam', '9999 ZZ', 'Netherlands', '(12345) 1212'), (23, 'Karkki Oy', 'Anne Heikkonen', 'Valtakatu 12', 'Lappeenranta', '53120', 'Finland', '(953) 10956'), (24, \"G'day, Mate\", 'Wendy Mackenzie', \"170 Prince Edward Parade Hunter's Hill\", 'Sydney', '2042', 'Australia', '(02) 555-5914'), (25, 'Ma Maison', 'Jean-Guy Lauzon', '2960 Rue St. Laurent', 'Montréal', 'H1J 1C3', 'Canada', '(514) 555-9022'), (26, 'Pasta Buttini s.r.l.', 'Giovanni Giudici', 'Via dei Gelsomini, 153', 'Salerno', '84100', 'Italy', '(089) 6547665'), (27, 'Escargots Nouveaux', 'Marie Delamare', '22, rue H. Voiron', 'Montceau', '71300', 'France', '85.57.00.07'), (28, 'Gai pâturage', 'Eliane Noz', 'Bat. B 3, rue des Alpes', 'Annecy', '74000', 'France', '38.76.98.06'), (29, \"Forêts d'érables\", 'Chantal Goulet', '148 rue Chasseur', 'Ste-Hyacinthe', 'J2S 7S8', 'Canada', '(514) 555-2955')]\n",
      "[('Alfreds Futterkiste', 'Germany'), ('Ana Trujillo Emparedados y helados', 'Mexico'), ('Antonio Moreno Taquería', 'Mexico'), ('Around the Horn', 'UK'), ('Berglunds snabbköp', 'Sweden'), ('Blauer See Delikatessen', 'Germany'), ('Blondel père et fils', 'France'), ('Bólido Comidas preparadas', 'Spain'), (\"Bon app'\", 'France'), ('Bottom-Dollar Marketse', 'Canada'), (\"B's Beverages\", 'UK'), ('Cactus Comidas para llevar', 'Argentina'), ('Centro comercial Moctezuma', 'Mexico'), ('Chop-suey Chinese', 'Switzerland'), ('Comércio Mineiro', 'Brazil'), ('Consolidated Holdings', 'UK'), ('Drachenblut Delikatessend', 'Germany'), ('Du monde entier', 'France'), ('Eastern Connection', 'UK'), ('Ernst Handel', 'Austria'), ('Familia Arquibaldo', 'Brazil'), ('FISSA Fabrica Inter. Salchichas S.A.', 'Spain'), ('Folies gourmandes', 'France'), ('Folk och fä HB', 'Sweden'), ('Frankenversand', 'Germany'), ('France restauration', 'France'), ('Franchi S.p.A.', 'Italy'), ('Furia Bacalhau e Frutos do Mar', 'Portugal'), ('Galería del gastrónomo', 'Spain'), ('Godos Cocina Típica', 'Spain'), ('Gourmet Lanchonetes', 'Brazil'), ('Great Lakes Food Market', 'USA'), ('GROSELLA-Restaurante', 'Venezuela'), ('Hanari Carnes', 'Brazil'), ('HILARIÓN-Abastos', 'Venezuela'), ('Hungry Coyote Import Store', 'USA'), ('Hungry Owl All-Night Grocers', 'Ireland'), ('Island Trading', 'UK'), ('Königlich Essen', 'Germany'), (\"La corne d'abondance\", 'France'), (\"La maison d'Asie\", 'France'), ('Laughing Bacchus Wine Cellars', 'Canada'), ('Lazy K Kountry Store', 'USA'), ('Lehmanns Marktstand', 'Germany'), (\"Let's Stop N Shop\", 'USA'), ('LILA-Supermercado', 'Venezuela'), ('LINO-Delicateses', 'Venezuela'), ('Lonesome Pine Restaurant', 'USA'), ('Magazzini Alimentari Riuniti', 'Italy'), ('Maison Dewey', 'Belgium'), ('Mère Paillarde', 'Canada'), ('Morgenstern Gesundkost', 'Germany'), ('North/South', 'UK'), ('Océano Atlántico Ltda.', 'Argentina'), ('Old World Delicatessen', 'USA'), ('Ottilies Käseladen', 'Germany'), ('Paris spécialités', 'France'), ('Pericles Comidas clásicas', 'Mexico'), ('Piccolo und mehr', 'Austria'), ('Princesa Isabel Vinhoss', 'Portugal'), ('Que Delícia', 'Brazil'), ('Queen Cozinha', 'Brazil'), ('QUICK-Stop', 'Germany'), ('Rancho grande', 'Argentina'), ('Rattlesnake Canyon Grocery', 'USA'), ('Reggiani Caseifici', 'Italy'), ('Ricardo Adocicados', 'Brazil'), ('Richter Supermarkt', 'Switzerland'), ('Romero y tomillo', 'Spain'), ('Santé Gourmet', 'Norway'), ('Save-a-lot Markets', 'USA'), ('Seven Seas Imports', 'UK'), ('Simons bistro', 'Denmark'), ('Spécialités du monde', 'France'), ('Split Rail Beer & Ale', 'USA'), ('Suprêmes délices', 'Belgium'), ('The Big Cheese', 'USA'), ('The Cracker Box', 'USA'), ('Toms Spezialitäten', 'Germany'), ('Tortuga Restaurante', 'Mexico'), ('Tradição Hipermercados', 'Brazil'), (\"Trail's Head Gourmet Provisioners\", 'USA'), ('Vaffeljernet', 'Denmark'), ('Victuailles en stock', 'France'), ('Vins et alcools Chevalier', 'France'), ('Die Wandernde Kuh', 'Germany'), ('Wartian Herkku', 'Finland'), ('Wellington Importadora', 'Brazil'), ('White Clover Markets', 'USA'), ('Wilman Kala', 'Finland'), ('Wolski', 'Poland')]\n",
      "[(43, 'Lazy K Kountry Store', 'John Steel', '12 Orchestra Terrace', 'Walla Walla', '99362', 'USA'), (45, \"Let's Stop N Shop\", 'Jaime Yorres', '87 Polk St. Suite 5', 'San Francisco', '94117', 'USA'), (48, 'Lonesome Pine Restaurant', 'Fran Wilson', '89 Chiaroscuro Rd.', 'Portland', '97219', 'USA'), (65, 'Rattlesnake Canyon Grocery', 'Paula Wilson', '2817 Milton Dr.', 'Albuquerque', '87110', 'USA'), (89, 'White Clover Markets', 'Karl Jablonski', '305 - 14th Ave. S. Suite 3B', 'Seattle', '98128', 'USA')]\n"
     ]
    }
   ],
   "execution_count": 768
  }
 ],
 "metadata": {
  "kernelspec": {
   "display_name": "Python 3",
   "language": "python",
   "name": "python3"
  },
  "language_info": {
   "codemirror_mode": {
    "name": "ipython",
    "version": 2
   },
   "file_extension": ".py",
   "mimetype": "text/x-python",
   "name": "python",
   "nbconvert_exporter": "python",
   "pygments_lexer": "ipython2",
   "version": "2.7.6"
  }
 },
 "nbformat": 4,
 "nbformat_minor": 5
}
