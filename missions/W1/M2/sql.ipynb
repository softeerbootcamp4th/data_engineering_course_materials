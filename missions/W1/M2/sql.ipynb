{
 "cells": [
  {
   "metadata": {
    "ExecuteTime": {
     "end_time": "2024-07-04T04:27:01.824371Z",
     "start_time": "2024-07-04T04:27:01.802420Z"
    }
   },
   "cell_type": "code",
   "source": [
    "import sqlite3\n",
    "\n",
    "import csv\n",
    "\n",
    "db_name = 'my.db'\n",
    "\n",
    "\n",
    "def create_sqlite_database(filename):\n",
    "    \"\"\" create a database connection to an SQLite database \"\"\"\n",
    "    conn = None\n",
    "    try:\n",
    "        conn = sqlite3.connect(filename)\n",
    "        print(sqlite3.sqlite_version)\n",
    "    except sqlite3.Error as e:\n",
    "        print(e)\n",
    "    finally:\n",
    "        if conn:\n",
    "            conn.close()\n",
    "\n",
    "\n",
    "def create_tables():\n",
    "    sql_statements = [\n",
    "        \"DROP TABLE IF EXISTS Customers\",\n",
    "        \"DROP TABLE IF EXISTS Products\",\n",
    "        \"DROP TABLE IF EXISTS OrderDetails\",\n",
    "        \"DROP TABLE IF EXISTS Orders\",\n",
    "        \"DROP TABLE IF EXISTS Categories\",\n",
    "        \"DROP TABLE IF EXISTS Employees\",\n",
    "        \"DROP TABLE IF EXISTS Shippers\",\n",
    "        \"DROP TABLE IF EXISTS Suppliers\",\n",
    "        \"\"\"\n",
    "        CREATE TABLE IF NOT EXISTS Customers (\n",
    "                CustomerID INTEGER PRIMARY KEY, \n",
    "                CustomerName TEXT , \n",
    "                ContactName TEXT, \n",
    "                Address TEXT,\n",
    "                City TEXT,\n",
    "                PostalCode TEXT,\n",
    "                Country TEXT\n",
    "        );\"\"\",\n",
    "        \"\"\"\n",
    "        CREATE TABLE IF NOT EXISTS Products (\n",
    "                ProductID INTEGER PRIMARY KEY, \n",
    "                ProductName TEXT , \n",
    "                SupplierID INTEGER, \n",
    "                CategoryID INTEGER,\n",
    "                Unit TEXT,\n",
    "                Price FLOAT\n",
    "        );\"\"\",\n",
    "        \"\"\"\n",
    "        CREATE TABLE IF NOT EXISTS OrderDetails (\n",
    "                OrderDetailID INTEGER PRIMARY KEY, \n",
    "                OrderID INTEGER, \n",
    "                ProductID INTEGER, \n",
    "                Quantity INTEGER\n",
    "        );\"\"\",\n",
    "        \"\"\"\n",
    "        CREATE TABLE IF NOT EXISTS Orders (\n",
    "                OrderID INTEGER PRIMARY KEY, \n",
    "                CustomerID INTEGER, \n",
    "                EmployeeID INTEGER , \n",
    "                OrderDate DATETIME, \n",
    "                ShipperID INTEGER\n",
    "        );\"\"\",\n",
    "        \"\"\"\n",
    "        CREATE TABLE IF NOT EXISTS Categories (\n",
    "                CategoryID INTEGER PRIMARY KEY, \n",
    "                CategoryName TEXT, \n",
    "                Description TEXT\n",
    "        );\"\"\",\n",
    "        \"\"\"\n",
    "        CREATE TABLE IF NOT EXISTS Employees (\n",
    "                EmployeeID INTEGER PRIMARY KEY, \n",
    "                LastName TEXT, \n",
    "                FirstName TEXT, \n",
    "                BirthDate TEXT, \n",
    "                Photo TEXT, \n",
    "                Notes TEXT\n",
    "        );\"\"\",\n",
    "        \"\"\"\n",
    "        CREATE TABLE IF NOT EXISTS Shippers (\n",
    "                ShipperID INTEGER PRIMARY KEY, \n",
    "                ShipperName TEXT, \n",
    "                Phone TEXT\n",
    "        );\"\"\",\n",
    "        \"\"\"\n",
    "        CREATE TABLE IF NOT EXISTS Suppliers (\n",
    "                SupplierID INTEGER PRIMARY KEY, \n",
    "                SupplierName TEXT, \n",
    "                ContactName TEXT, \n",
    "                Address TEXT, \n",
    "                City TEXT, \n",
    "                PostalCode TEXT,\n",
    "                Country TEXT,\n",
    "                Phone TEXT\n",
    "        );\"\"\"]\n",
    "\n",
    "    # create a database connection\n",
    "    try:\n",
    "        with sqlite3.connect(db_name) as conn:\n",
    "            cursor = conn.cursor()\n",
    "            for statement in sql_statements:\n",
    "                cursor.execute(statement)\n",
    "            conn.commit()\n",
    "    except sqlite3.Error as e:\n",
    "        print(e)\n",
    "\n",
    "\n",
    "def main():\n",
    "    try:\n",
    "        with sqlite3.connect(db_name) as con:\n",
    "            #csv 파일 읽기 및 데이터베이스에 삽입\n",
    "            with open('./csv/customers.csv', 'r') as file:\n",
    "                csv_data = csv.reader(file)\n",
    "                next(csv_data)  # 첫번째 행은 헤더이므로 건너뜀\n",
    "                for customer in csv_data:\n",
    "                    cur = con.cursor()\n",
    "                    cur.execute('''\n",
    "                    INSERT INTO Customers(CustomerName,ContactName,Address,City,PostalCode,Country) VALUES(?,?,?,?,?,?) ''',\n",
    "                                customer[1:])\n",
    "                #변경사항 저장 및 연결 종료\n",
    "                con.commit()\n",
    "        with sqlite3.connect(db_name) as con:\n",
    "            with open('./csv/products.csv', 'r') as file:\n",
    "                csv_data = csv.reader(file)\n",
    "                next(csv_data)  # 첫번째 행은 헤더이므로 건너뜀\n",
    "                for product in csv_data:\n",
    "                    cur = con.cursor()\n",
    "                    cur.execute('''\n",
    "                    INSERT INTO Products(ProductName,SupplierID,CategoryID,Unit,Price) VALUES(?,?,?,?,?) ''',\n",
    "                                product[1:])\n",
    "                #변경사항 저장 및 연결 종료\n",
    "                con.commit()\n",
    "        with sqlite3.connect(db_name) as con:\n",
    "            with open('./csv/orderDetails.csv', 'r') as file:\n",
    "                csv_data = csv.reader(file)\n",
    "                next(csv_data)  # 첫번째 행은 헤더이므로 건너뜀\n",
    "                for order_detail in csv_data:\n",
    "                    cur = con.cursor()\n",
    "                    cur.execute('''\n",
    "                    INSERT INTO OrderDetails(OrderID,ProductID,Quantity) VALUES(?,?,?) ''', order_detail[1:])\n",
    "                #변경사항 저장 및 연결 종료\n",
    "                con.commit()\n",
    "        with sqlite3.connect(db_name) as con:\n",
    "            with open('./csv/orders.csv', 'r') as file:\n",
    "                csv_data = csv.reader(file)\n",
    "                next(csv_data)  # 첫번째 행은 헤더이므로 건너뜀\n",
    "                for order in csv_data:\n",
    "                    cur = con.cursor()\n",
    "                    cur.execute('''\n",
    "                    INSERT INTO Orders(OrderID,CustomerID,EmployeeID,OrderDate,ShipperID) VALUES(?,?,?,?,?) ''', order)\n",
    "                #변경사항 저장 및 연결 종료\n",
    "                con.commit()\n",
    "        with sqlite3.connect(db_name) as con:\n",
    "            with open('./csv/categories.csv', 'r') as file:\n",
    "                csv_data = csv.reader(file)\n",
    "                next(csv_data)  # 첫번째 행은 헤더이므로 건너뜀\n",
    "                for category in csv_data:\n",
    "                    cur = con.cursor()\n",
    "                    cur.execute('''\n",
    "                    INSERT INTO Categories(CategoryName,Description) VALUES(?,?) ''',\n",
    "                                category[1:])\n",
    "                #변경사항 저장 및 연결 종료\n",
    "                con.commit()\n",
    "        with sqlite3.connect(db_name) as con:\n",
    "            with open('./csv/employees.csv', 'r') as file:\n",
    "                csv_data = csv.reader(file)\n",
    "                next(csv_data)  # 첫번째 행은 헤더이므로 건너뜀\n",
    "                for employee in csv_data:\n",
    "                    cur = con.cursor()\n",
    "                    cur.execute('''\n",
    "                    INSERT INTO Employees(LastName,FirstName,BirthDate,Photo,Notes) VALUES(?,?,?,?,?) ''',\n",
    "                                employee[1:])\n",
    "                #변경사항 저장 및 연결 종료\n",
    "                con.commit()\n",
    "        with sqlite3.connect(db_name) as con:\n",
    "            with open('./csv/shippers.csv', 'r') as file:\n",
    "                csv_data = csv.reader(file)\n",
    "                next(csv_data)  # 첫번째 행은 헤더이므로 건너뜀\n",
    "                for shipper in csv_data:\n",
    "                    cur = con.cursor()\n",
    "                    cur.execute('''\n",
    "                    INSERT INTO Shippers(ShipperName,Phone) VALUES(?,?) ''',\n",
    "                                shipper[1:])\n",
    "                #변경사항 저장 및 연결 종료\n",
    "                con.commit()\n",
    "        with sqlite3.connect(db_name) as con:\n",
    "            with open('./csv/suppliers.csv', 'r') as file:\n",
    "                csv_data = csv.reader(file)\n",
    "                next(csv_data)  # 첫번째 행은 헤더이므로 건너뜀\n",
    "                for supplier in csv_data:\n",
    "                    cur = con.cursor()\n",
    "                    cur.execute('''\n",
    "                    INSERT INTO Suppliers(SupplierName,ContactName,Address,City,PostalCode,Country,Phone) VALUES(?,?,?,?,?,?,?) ''',\n",
    "                                supplier[1:])\n",
    "                #변경사항 저장 및 연결 종료\n",
    "                con.commit()\n",
    "    except sqlite3.Error as e:\n",
    "        print(e)\n",
    "\n",
    "\n",
    "if __name__ == '__main__':\n",
    "    create_sqlite_database(db_name)\n",
    "    create_tables()\n",
    "    main()\n"
   ],
   "id": "467d763a87c309d2",
   "outputs": [
    {
     "name": "stdout",
     "output_type": "stream",
     "text": [
      "3.41.2\n"
     ]
    }
   ],
   "execution_count": 1
  },
  {
   "metadata": {
    "ExecuteTime": {
     "end_time": "2024-07-04T04:27:01.827446Z",
     "start_time": "2024-07-04T04:27:01.825360Z"
    }
   },
   "cell_type": "code",
   "source": [
    "def select_query(query):\n",
    "    try:\n",
    "        with sqlite3.connect(db_name) as conn:\n",
    "            cur = conn.cursor()\n",
    "            cur.execute(query)\n",
    "            row = cur.fetchall()\n",
    "            return row\n",
    "    except sqlite3.Error as e:\n",
    "        print(e)\n",
    "        return None\n"
   ],
   "id": "e8ca22c4f9d44afd",
   "outputs": [],
   "execution_count": 2
  },
  {
   "metadata": {
    "ExecuteTime": {
     "end_time": "2024-07-04T04:27:01.837788Z",
     "start_time": "2024-07-04T04:27:01.835536Z"
    }
   },
   "cell_type": "code",
   "source": "print(select_query('SELECT CustomerName, City FROM Customers;'))",
   "id": "7b1b711cad344569",
   "outputs": [
    {
     "name": "stdout",
     "output_type": "stream",
     "text": [
      "[('Alfreds Futterkiste', 'Berlin'), ('Ana Trujillo Emparedados y helados', 'México D.F.'), ('Antonio Moreno Taquería', 'México D.F.'), ('Around the Horn', 'London'), ('Berglunds snabbköp', 'Luleå'), ('Blauer See Delikatessen', 'Mannheim'), ('Blondel père et fils', 'Strasbourg'), ('Bólido Comidas preparadas', 'Madrid'), (\"Bon app'\", 'Marseille'), ('Bottom-Dollar Marketse', 'Tsawassen'), (\"B's Beverages\", 'London'), ('Cactus Comidas para llevar', 'Buenos Aires'), ('Centro comercial Moctezuma', 'México D.F.'), ('Chop-suey Chinese', 'Bern'), ('Comércio Mineiro', 'São Paulo'), ('Consolidated Holdings', 'London'), ('Drachenblut Delikatessend', 'Aachen'), ('Du monde entier', 'Nantes'), ('Eastern Connection', 'London'), ('Ernst Handel', 'Graz'), ('Familia Arquibaldo', 'São Paulo'), ('FISSA Fabrica Inter. Salchichas S.A.', 'Madrid'), ('Folies gourmandes', 'Lille'), ('Folk och fä HB', 'Bräcke'), ('Frankenversand', 'München'), ('France restauration', 'Nantes'), ('Franchi S.p.A.', 'Torino'), ('Furia Bacalhau e Frutos do Mar', 'Lisboa'), ('Galería del gastrónomo', 'Barcelona'), ('Godos Cocina Típica', 'Sevilla'), ('Gourmet Lanchonetes', 'Campinas'), ('Great Lakes Food Market', 'Eugene'), ('GROSELLA-Restaurante', 'Caracas'), ('Hanari Carnes', 'Rio de Janeiro'), ('HILARIÓN-Abastos', 'San Cristóbal'), ('Hungry Coyote Import Store', 'Elgin'), ('Hungry Owl All-Night Grocers', 'Cork'), ('Island Trading', 'Cowes'), ('Königlich Essen', 'Brandenburg'), (\"La corne d'abondance\", 'Versailles'), (\"La maison d'Asie\", 'Toulouse'), ('Laughing Bacchus Wine Cellars', 'Vancouver'), ('Lazy K Kountry Store', 'Walla Walla'), ('Lehmanns Marktstand', 'Frankfurt a.M.'), (\"Let's Stop N Shop\", 'San Francisco'), ('LILA-Supermercado', 'Barquisimeto'), ('LINO-Delicateses', 'I. de Margarita'), ('Lonesome Pine Restaurant', 'Portland'), ('Magazzini Alimentari Riuniti', 'Bergamo'), ('Maison Dewey', 'Bruxelles'), ('Mère Paillarde', 'Montréal'), ('Morgenstern Gesundkost', 'Leipzig'), ('North/South', 'London'), ('Océano Atlántico Ltda.', 'Buenos Aires'), ('Old World Delicatessen', 'Anchorage'), ('Ottilies Käseladen', 'Köln'), ('Paris spécialités', 'Paris'), ('Pericles Comidas clásicas', 'México D.F.'), ('Piccolo und mehr', 'Salzburg'), ('Princesa Isabel Vinhoss', 'Lisboa'), ('Que Delícia', 'Rio de Janeiro'), ('Queen Cozinha', 'São Paulo'), ('QUICK-Stop', 'Cunewalde'), ('Rancho grande', 'Buenos Aires'), ('Rattlesnake Canyon Grocery', 'Albuquerque'), ('Reggiani Caseifici', 'Reggio Emilia'), ('Ricardo Adocicados', 'Rio de Janeiro'), ('Richter Supermarkt', 'Genève'), ('Romero y tomillo', 'Madrid'), ('Santé Gourmet', 'Stavern'), ('Save-a-lot Markets', 'Boise'), ('Seven Seas Imports', 'London'), ('Simons bistro', 'København'), ('Spécialités du monde', 'Paris'), ('Split Rail Beer & Ale', 'Lander'), ('Suprêmes délices', 'Charleroi'), ('The Big Cheese', 'Portland'), ('The Cracker Box', 'Butte'), ('Toms Spezialitäten', 'Münster'), ('Tortuga Restaurante', 'México D.F.'), ('Tradição Hipermercados', 'São Paulo'), (\"Trail's Head Gourmet Provisioners\", 'Kirkland'), ('Vaffeljernet', 'Århus'), ('Victuailles en stock', 'Lyon'), ('Vins et alcools Chevalier', 'Reims'), ('Die Wandernde Kuh', 'Stuttgart'), ('Wartian Herkku', 'Oulu'), ('Wellington Importadora', 'Resende'), ('White Clover Markets', 'Seattle'), ('Wilman Kala', 'Helsinki'), ('Wolski', 'Walla')]\n"
     ]
    }
   ],
   "execution_count": 3
  },
  {
   "metadata": {
    "ExecuteTime": {
     "end_time": "2024-07-04T04:27:01.940214Z",
     "start_time": "2024-07-04T04:27:01.937924Z"
    }
   },
   "cell_type": "code",
   "source": "print(select_query('SELECT * FROM Customers;'))",
   "id": "d9f449732560ac9d",
   "outputs": [
    {
     "name": "stdout",
     "output_type": "stream",
     "text": [
      "[(1, 'Alfreds Futterkiste', 'Maria Anders', 'Obere Str. 57', 'Berlin', '12209', 'Germany'), (2, 'Ana Trujillo Emparedados y helados', 'Ana Trujillo', 'Avda. de la Constitución 2222', 'México D.F.', '05021', 'Mexico'), (3, 'Antonio Moreno Taquería', 'Antonio Moreno', 'Mataderos 2312', 'México D.F.', '05023', 'Mexico'), (4, 'Around the Horn', 'Thomas Hardy', '120 Hanover Sq.', 'London', 'WA1 1DP', 'UK'), (5, 'Berglunds snabbköp', 'Christina Berglund', 'Berguvsvägen 8', 'Luleå', 'S-958 22', 'Sweden'), (6, 'Blauer See Delikatessen', 'Hanna Moos', 'Forsterstr. 57', 'Mannheim', '68306', 'Germany'), (7, 'Blondel père et fils', 'Frédérique Citeaux', '24, place Kléber', 'Strasbourg', '67000', 'France'), (8, 'Bólido Comidas preparadas', 'Martín Sommer', 'C/ Araquil, 67', 'Madrid', '28023', 'Spain'), (9, \"Bon app'\", 'Laurence Lebihans', '12, rue des Bouchers', 'Marseille', '13008', 'France'), (10, 'Bottom-Dollar Marketse', 'Elizabeth Lincoln', '23 Tsawassen Blvd.', 'Tsawassen', 'T2F 8M4', 'Canada'), (11, \"B's Beverages\", 'Victoria Ashworth', 'Fauntleroy Circus', 'London', 'EC2 5NT', 'UK'), (12, 'Cactus Comidas para llevar', 'Patricio Simpson', 'Cerrito 333', 'Buenos Aires', '1010', 'Argentina'), (13, 'Centro comercial Moctezuma', 'Francisco Chang', 'Sierras de Granada 9993', 'México D.F.', '05022', 'Mexico'), (14, 'Chop-suey Chinese', 'Yang Wang', 'Hauptstr. 29', 'Bern', '3012', 'Switzerland'), (15, 'Comércio Mineiro', 'Pedro Afonso', 'Av. dos Lusíadas, 23', 'São Paulo', '05432-043', 'Brazil'), (16, 'Consolidated Holdings', 'Elizabeth Brown', 'Berkeley Gardens 12 Brewery', 'London', 'WX1 6LT', 'UK'), (17, 'Drachenblut Delikatessend', 'Sven Ottlieb', 'Walserweg 21', 'Aachen', '52066', 'Germany'), (18, 'Du monde entier', 'Janine Labrune', '67, rue des Cinquante Otages', 'Nantes', '44000', 'France'), (19, 'Eastern Connection', 'Ann Devon', '35 King George', 'London', 'WX3 6FW', 'UK'), (20, 'Ernst Handel', 'Roland Mendel', 'Kirchgasse 6', 'Graz', '8010', 'Austria'), (21, 'Familia Arquibaldo', 'Aria Cruz', 'Rua Orós, 92', 'São Paulo', '05442-030', 'Brazil'), (22, 'FISSA Fabrica Inter. Salchichas S.A.', 'Diego Roel', 'C/ Moralzarzal, 86', 'Madrid', '28034', 'Spain'), (23, 'Folies gourmandes', 'Martine Rancé', '184, chaussée de Tournai', 'Lille', '59000', 'France'), (24, 'Folk och fä HB', 'Maria Larsson', 'Åkergatan 24', 'Bräcke', 'S-844 67', 'Sweden'), (25, 'Frankenversand', 'Peter Franken', 'Berliner Platz 43', 'München', '80805', 'Germany'), (26, 'France restauration', 'Carine Schmitt', '54, rue Royale', 'Nantes', '44000', 'France'), (27, 'Franchi S.p.A.', 'Paolo Accorti', 'Via Monte Bianco 34', 'Torino', '10100', 'Italy'), (28, 'Furia Bacalhau e Frutos do Mar', 'Lino Rodriguez', 'Jardim das rosas n. 32', 'Lisboa', '1675', 'Portugal'), (29, 'Galería del gastrónomo', 'Eduardo Saavedra', 'Rambla de Cataluña, 23', 'Barcelona', '08022', 'Spain'), (30, 'Godos Cocina Típica', 'José Pedro Freyre', 'C/ Romero, 33', 'Sevilla', '41101', 'Spain'), (31, 'Gourmet Lanchonetes', 'André Fonseca', 'Av. Brasil, 442', 'Campinas', '04876-786', 'Brazil'), (32, 'Great Lakes Food Market', 'Howard Snyder', '2732 Baker Blvd.', 'Eugene', '97403', 'USA'), (33, 'GROSELLA-Restaurante', 'Manuel Pereira', '5ª Ave. Los Palos Grandes', 'Caracas', '1081', 'Venezuela'), (34, 'Hanari Carnes', 'Mario Pontes', 'Rua do Paço, 67', 'Rio de Janeiro', '05454-876', 'Brazil'), (35, 'HILARIÓN-Abastos', 'Carlos Hernández', 'Carrera 22 con Ave. Carlos Soublette #8-35', 'San Cristóbal', '5022', 'Venezuela'), (36, 'Hungry Coyote Import Store', 'Yoshi Latimer', 'City Center Plaza 516 Main St.', 'Elgin', '97827', 'USA'), (37, 'Hungry Owl All-Night Grocers', 'Patricia McKenna', '8 Johnstown Road', 'Cork', '', 'Ireland'), (38, 'Island Trading', 'Helen Bennett', 'Garden House Crowther Way', 'Cowes', 'PO31 7PJ', 'UK'), (39, 'Königlich Essen', 'Philip Cramer', 'Maubelstr. 90', 'Brandenburg', '14776', 'Germany'), (40, \"La corne d'abondance\", 'Daniel Tonini', \"67, avenue de l'Europe\", 'Versailles', '78000', 'France'), (41, \"La maison d'Asie\", 'Annette Roulet', '1 rue Alsace-Lorraine', 'Toulouse', '31000', 'France'), (42, 'Laughing Bacchus Wine Cellars', 'Yoshi Tannamuri', '1900 Oak St.', 'Vancouver', 'V3F 2K1', 'Canada'), (43, 'Lazy K Kountry Store', 'John Steel', '12 Orchestra Terrace', 'Walla Walla', '99362', 'USA'), (44, 'Lehmanns Marktstand', 'Renate Messner', 'Magazinweg 7', 'Frankfurt a.M.', '60528', 'Germany'), (45, \"Let's Stop N Shop\", 'Jaime Yorres', '87 Polk St. Suite 5', 'San Francisco', '94117', 'USA'), (46, 'LILA-Supermercado', 'Carlos González', 'Carrera 52 con Ave. Bolívar #65-98 Llano Largo', 'Barquisimeto', '3508', 'Venezuela'), (47, 'LINO-Delicateses', 'Felipe Izquierdo', 'Ave. 5 de Mayo Porlamar', 'I. de Margarita', '4980', 'Venezuela'), (48, 'Lonesome Pine Restaurant', 'Fran Wilson', '89 Chiaroscuro Rd.', 'Portland', '97219', 'USA'), (49, 'Magazzini Alimentari Riuniti', 'Giovanni Rovelli', 'Via Ludovico il Moro 22', 'Bergamo', '24100', 'Italy'), (50, 'Maison Dewey', 'Catherine Dewey', 'Rue Joseph-Bens 532', 'Bruxelles', 'B-1180', 'Belgium'), (51, 'Mère Paillarde', 'Jean Fresnière', '43 rue St. Laurent', 'Montréal', 'H1J 1C3', 'Canada'), (52, 'Morgenstern Gesundkost', 'Alexander Feuer', 'Heerstr. 22', 'Leipzig', '04179', 'Germany'), (53, 'North/South', 'Simon Crowther', 'South House 300 Queensbridge', 'London', 'SW7 1RZ', 'UK'), (54, 'Océano Atlántico Ltda.', 'Yvonne Moncada', 'Ing. Gustavo Moncada 8585 Piso 20-A', 'Buenos Aires', '1010', 'Argentina'), (55, 'Old World Delicatessen', 'Rene Phillips', '2743 Bering St.', 'Anchorage', '99508', 'USA'), (56, 'Ottilies Käseladen', 'Henriette Pfalzheim', 'Mehrheimerstr. 369', 'Köln', '50739', 'Germany'), (57, 'Paris spécialités', 'Marie Bertrand', '265, boulevard Charonne', 'Paris', '75012', 'France'), (58, 'Pericles Comidas clásicas', 'Guillermo Fernández', 'Calle Dr. Jorge Cash 321', 'México D.F.', '05033', 'Mexico'), (59, 'Piccolo und mehr', 'Georg Pipps', 'Geislweg 14', 'Salzburg', '5020', 'Austria'), (60, 'Princesa Isabel Vinhoss', 'Isabel de Castro', 'Estrada da saúde n. 58', 'Lisboa', '1756', 'Portugal'), (61, 'Que Delícia', 'Bernardo Batista', 'Rua da Panificadora, 12', 'Rio de Janeiro', '02389-673', 'Brazil'), (62, 'Queen Cozinha', 'Lúcia Carvalho', 'Alameda dos Canàrios, 891', 'São Paulo', '05487-020', 'Brazil'), (63, 'QUICK-Stop', 'Horst Kloss', 'Taucherstraße 10', 'Cunewalde', '01307', 'Germany'), (64, 'Rancho grande', 'Sergio Gutiérrez', 'Av. del Libertador 900', 'Buenos Aires', '1010', 'Argentina'), (65, 'Rattlesnake Canyon Grocery', 'Paula Wilson', '2817 Milton Dr.', 'Albuquerque', '87110', 'USA'), (66, 'Reggiani Caseifici', 'Maurizio Moroni', 'Strada Provinciale 124', 'Reggio Emilia', '42100', 'Italy'), (67, 'Ricardo Adocicados', 'Janete Limeira', 'Av. Copacabana, 267', 'Rio de Janeiro', '02389-890', 'Brazil'), (68, 'Richter Supermarkt', 'Michael Holz', 'Grenzacherweg 237', 'Genève', '1203', 'Switzerland'), (69, 'Romero y tomillo', 'Alejandra Camino', 'Gran Vía, 1', 'Madrid', '28001', 'Spain'), (70, 'Santé Gourmet', 'Jonas Bergulfsen', 'Erling Skakkes gate 78', 'Stavern', '4110', 'Norway'), (71, 'Save-a-lot Markets', 'Jose Pavarotti', '187 Suffolk Ln.', 'Boise', '83720', 'USA'), (72, 'Seven Seas Imports', 'Hari Kumar', '90 Wadhurst Rd.', 'London', 'OX15 4NB', 'UK'), (73, 'Simons bistro', 'Jytte Petersen', 'Vinbæltet 34', 'København', '1734', 'Denmark'), (74, 'Spécialités du monde', 'Dominique Perrier', '25, rue Lauriston', 'Paris', '75016', 'France'), (75, 'Split Rail Beer & Ale', 'Art Braunschweiger', 'P.O. Box 555', 'Lander', '82520', 'USA'), (76, 'Suprêmes délices', 'Pascale Cartrain', 'Boulevard Tirou, 255', 'Charleroi', 'B-6000', 'Belgium'), (77, 'The Big Cheese', 'Liz Nixon', '89 Jefferson Way Suite 2', 'Portland', '97201', 'USA'), (78, 'The Cracker Box', 'Liu Wong', '55 Grizzly Peak Rd.', 'Butte', '59801', 'USA'), (79, 'Toms Spezialitäten', 'Karin Josephs', 'Luisenstr. 48', 'Münster', '44087', 'Germany'), (80, 'Tortuga Restaurante', 'Miguel Angel Paolino', 'Avda. Azteca 123', 'México D.F.', '05033', 'Mexico'), (81, 'Tradição Hipermercados', 'Anabela Domingues', 'Av. Inês de Castro, 414', 'São Paulo', '05634-030', 'Brazil'), (82, \"Trail's Head Gourmet Provisioners\", 'Helvetius Nagy', '722 DaVinci Blvd.', 'Kirkland', '98034', 'USA'), (83, 'Vaffeljernet', 'Palle Ibsen', 'Smagsløget 45', 'Århus', '8200', 'Denmark'), (84, 'Victuailles en stock', 'Mary Saveley', '2, rue du Commerce', 'Lyon', '69004', 'France'), (85, 'Vins et alcools Chevalier', 'Paul Henriot', \"59 rue de l'Abbaye\", 'Reims', '51100', 'France'), (86, 'Die Wandernde Kuh', 'Rita Müller', 'Adenauerallee 900', 'Stuttgart', '70563', 'Germany'), (87, 'Wartian Herkku', 'Pirkko Koskitalo', 'Torikatu 38', 'Oulu', '90110', 'Finland'), (88, 'Wellington Importadora', 'Paula Parente', 'Rua do Mercado, 12', 'Resende', '08737-363', 'Brazil'), (89, 'White Clover Markets', 'Karl Jablonski', '305 - 14th Ave. S. Suite 3B', 'Seattle', '98128', 'USA'), (90, 'Wilman Kala', 'Matti Karttunen', 'Keskuskatu 45', 'Helsinki', '21240', 'Finland'), (91, 'Wolski', 'Zbyszek', 'ul. Filtrowa 68', 'Walla', '01-012', 'Poland')]\n"
     ]
    }
   ],
   "execution_count": 4
  },
  {
   "metadata": {
    "ExecuteTime": {
     "end_time": "2024-07-04T04:27:02.003237Z",
     "start_time": "2024-07-04T04:27:02.001028Z"
    }
   },
   "cell_type": "code",
   "source": "print(select_query('SELECT DISTINCT Country FROM Customers;'))",
   "id": "e66e0f6b56998c41",
   "outputs": [
    {
     "name": "stdout",
     "output_type": "stream",
     "text": [
      "[('Germany',), ('Mexico',), ('UK',), ('Sweden',), ('France',), ('Spain',), ('Canada',), ('Argentina',), ('Switzerland',), ('Brazil',), ('Austria',), ('Italy',), ('Portugal',), ('USA',), ('Venezuela',), ('Ireland',), ('Belgium',), ('Norway',), ('Denmark',), ('Finland',), ('Poland',)]\n"
     ]
    }
   ],
   "execution_count": 5
  },
  {
   "metadata": {
    "ExecuteTime": {
     "end_time": "2024-07-04T04:27:02.088166Z",
     "start_time": "2024-07-04T04:27:02.084811Z"
    }
   },
   "cell_type": "code",
   "source": "print(select_query('SELECT COUNT(DISTINCT Country) FROM Customers;'))",
   "id": "1190d6242c2a5516",
   "outputs": [
    {
     "name": "stdout",
     "output_type": "stream",
     "text": [
      "[(21,)]\n"
     ]
    }
   ],
   "execution_count": 6
  },
  {
   "metadata": {
    "ExecuteTime": {
     "end_time": "2024-07-04T04:27:02.141092Z",
     "start_time": "2024-07-04T04:27:02.139048Z"
    }
   },
   "cell_type": "code",
   "source": [
    "print(select_query(\"\"\"\n",
    "SELECT * FROM Customers\n",
    "WHERE Country='Mexico';\n",
    "\"\"\"))"
   ],
   "id": "3606e26bb24cabe1",
   "outputs": [
    {
     "name": "stdout",
     "output_type": "stream",
     "text": [
      "[(2, 'Ana Trujillo Emparedados y helados', 'Ana Trujillo', 'Avda. de la Constitución 2222', 'México D.F.', '05021', 'Mexico'), (3, 'Antonio Moreno Taquería', 'Antonio Moreno', 'Mataderos 2312', 'México D.F.', '05023', 'Mexico'), (13, 'Centro comercial Moctezuma', 'Francisco Chang', 'Sierras de Granada 9993', 'México D.F.', '05022', 'Mexico'), (58, 'Pericles Comidas clásicas', 'Guillermo Fernández', 'Calle Dr. Jorge Cash 321', 'México D.F.', '05033', 'Mexico'), (80, 'Tortuga Restaurante', 'Miguel Angel Paolino', 'Avda. Azteca 123', 'México D.F.', '05033', 'Mexico')]\n"
     ]
    }
   ],
   "execution_count": 7
  },
  {
   "metadata": {
    "ExecuteTime": {
     "end_time": "2024-07-04T04:27:02.218125Z",
     "start_time": "2024-07-04T04:27:02.215379Z"
    }
   },
   "cell_type": "code",
   "source": [
    "print(select_query(\"\"\"\n",
    "SELECT * FROM Customers\n",
    "WHERE CustomerID=1;\n",
    "\"\"\"))"
   ],
   "id": "5351ab2fca5219c5",
   "outputs": [
    {
     "name": "stdout",
     "output_type": "stream",
     "text": [
      "[(1, 'Alfreds Futterkiste', 'Maria Anders', 'Obere Str. 57', 'Berlin', '12209', 'Germany')]\n"
     ]
    }
   ],
   "execution_count": 8
  },
  {
   "metadata": {
    "ExecuteTime": {
     "end_time": "2024-07-04T04:27:02.294588Z",
     "start_time": "2024-07-04T04:27:02.292507Z"
    }
   },
   "cell_type": "code",
   "source": [
    "print(select_query(\"\"\"\n",
    "SELECT * FROM Customers\n",
    "WHERE CustomerID > 80;\n",
    "\"\"\"))"
   ],
   "id": "de0dd0f93d766fe5",
   "outputs": [
    {
     "name": "stdout",
     "output_type": "stream",
     "text": [
      "[(81, 'Tradição Hipermercados', 'Anabela Domingues', 'Av. Inês de Castro, 414', 'São Paulo', '05634-030', 'Brazil'), (82, \"Trail's Head Gourmet Provisioners\", 'Helvetius Nagy', '722 DaVinci Blvd.', 'Kirkland', '98034', 'USA'), (83, 'Vaffeljernet', 'Palle Ibsen', 'Smagsløget 45', 'Århus', '8200', 'Denmark'), (84, 'Victuailles en stock', 'Mary Saveley', '2, rue du Commerce', 'Lyon', '69004', 'France'), (85, 'Vins et alcools Chevalier', 'Paul Henriot', \"59 rue de l'Abbaye\", 'Reims', '51100', 'France'), (86, 'Die Wandernde Kuh', 'Rita Müller', 'Adenauerallee 900', 'Stuttgart', '70563', 'Germany'), (87, 'Wartian Herkku', 'Pirkko Koskitalo', 'Torikatu 38', 'Oulu', '90110', 'Finland'), (88, 'Wellington Importadora', 'Paula Parente', 'Rua do Mercado, 12', 'Resende', '08737-363', 'Brazil'), (89, 'White Clover Markets', 'Karl Jablonski', '305 - 14th Ave. S. Suite 3B', 'Seattle', '98128', 'USA'), (90, 'Wilman Kala', 'Matti Karttunen', 'Keskuskatu 45', 'Helsinki', '21240', 'Finland'), (91, 'Wolski', 'Zbyszek', 'ul. Filtrowa 68', 'Walla', '01-012', 'Poland')]\n"
     ]
    }
   ],
   "execution_count": 9
  },
  {
   "metadata": {
    "ExecuteTime": {
     "end_time": "2024-07-04T04:27:02.352465Z",
     "start_time": "2024-07-04T04:27:02.350102Z"
    }
   },
   "cell_type": "code",
   "source": [
    "print(select_query(\"\"\"\n",
    "SELECT * FROM Products\n",
    "ORDER BY Price;\n",
    "\"\"\"))"
   ],
   "id": "d3c0ee640df7347f",
   "outputs": [
    {
     "name": "stdout",
     "output_type": "stream",
     "text": [
      "[(33, 'Geitost', 15, 4, '500 g', 2.5), (24, 'Guaraná Fantástica', 10, 1, '12 - 355 ml cans', 4.5), (13, 'Konbu', 6, 8, '2 kg box', 6.0), (52, 'Filo Mix', 24, 5, '16 - 2 kg boxes', 7.0), (54, 'Tourtière', 25, 6, '16 pies', 7.45), (75, 'Rhönbräu Klosterbier', 12, 1, '24 - 0.5 l bottles', 7.75), (23, 'Tunnbröd', 9, 5, '12 - 250 g pkgs.', 9.0), (19, 'Teatime Chocolate Biscuits', 8, 3, '10 boxes x 12 pieces', 9.2), (45, 'Røgede sild', 21, 8, '1k pkg.', 9.5), (47, 'Zaanse koeken', 22, 3, '10 - 4 oz boxes', 9.5), (41, \"Jack's New England Clam Chowder\", 19, 8, '12 - 12 oz cans', 9.65), (3, 'Aniseed Syrup', 1, 2, '12 - 550 ml bottles', 10.0), (21, \"Sir Rodney's Scones\", 8, 3, '24 pkgs. x 4 pieces', 10.0), (74, 'Longlife Tofu', 4, 7, '5 kg pkg.', 10.0), (46, 'Spegesild', 21, 8, '4 - 450 g glasses', 12.0), (31, 'Gorgonzola Telino', 14, 4, '12 - 100 g pkgs', 12.5), (68, 'Scottish Longbreads', 8, 3, '10 boxes x 8 pieces', 12.5), (48, 'Chocolade', 22, 3, '10 pkgs.', 12.75), (77, 'Original Frankfurter grüne Soße', 12, 2, '12 boxes', 13.0), (58, 'Escargots de Bourgogne', 27, 8, '24 pieces', 13.25), (25, 'NuNuCa Nuß-Nougat-Creme', 11, 3, '20 - 450 g glasses', 14.0), (34, 'Sasquatch Ale', 16, 1, '24 - 12 oz bottles', 14.0), (42, 'Singaporean Hokkien Fried Mee', 20, 5, '32 - 1 kg pkgs.', 14.0), (67, 'Laughing Lumberjack Lager', 16, 1, '24 - 12 oz bottles', 14.0), (70, 'Outback Lager', 7, 1, '24 - 355 ml bottles', 15.0), (73, 'Röd Kaviar', 17, 8, '24 - 150 g jars', 15.0), (15, 'Genen Shouyu', 6, 2, '24 - 250 ml bottles', 15.5), (50, 'Valkoinen suklaa', 23, 3, '12 - 100 g bars', 16.25), (66, 'Louisiana Hot Spiced Okra', 2, 2, '24 - 8 oz jars', 17.0), (16, 'Pavlova', 7, 3, '32 - 500 g boxes', 17.45), (1, 'Chais', 1, 1, '10 boxes x 20 bags', 18.0), (35, 'Steeleye Stout', 16, 1, '24 - 12 oz bottles', 18.0), (39, 'Chartreuse verte', 18, 1, '750 cc per bottle', 18.0), (76, 'Lakkalikööri', 23, 1, '500 ml', 18.0), (40, 'Boston Crab Meat', 19, 8, '24 - 4 oz tins', 18.4), (2, 'Chang', 1, 1, '24 - 12 oz bottles', 19.0), (36, 'Inlagd Sill', 17, 8, '24 - 250 g jars', 19.0), (44, 'Gula Malacca', 20, 2, '20 - 2 kg bags', 19.45), (57, 'Ravioli Angelo', 26, 5, '24 - 250 g pkgs.', 19.5), (49, 'Maxilaku', 23, 3, '24 - 50 g pkgs.', 20.0), (11, 'Queso Cabrales', 5, 4, '1 kg pkg.', 21.0), (22, \"Gustaf's Knäckebröd\", 9, 5, '24 - 500 g pkgs.', 21.0), (65, 'Louisiana Fiery Hot Pepper Sauce', 2, 2, '32 - 8 oz bottles', 21.05), (5, \"Chef Anton's Gumbo Mix\", 2, 2, '36 boxes', 21.35), (71, 'Fløtemysost', 15, 4, '10 - 500 g pkgs.', 21.5), (4, \"Chef Anton's Cajun Seasoning\", 2, 2, '48 - 6 oz jars', 22.0), (14, 'Tofu', 6, 7, '40 - 100 g pkgs.', 23.25), (55, 'Pâté chinois', 25, 6, '24 boxes x 2 pies', 24.0), (6, \"Grandma's Boysenberry Spread\", 3, 2, '12 - 8 oz jars', 25.0), (30, 'Nord-Ost Matjeshering', 13, 8, '10 - 200 g glasses', 25.89), (37, 'Gravad lax', 17, 8, '12 - 500 g pkgs.', 26.0), (61, \"Sirop d'érable\", 29, 2, '24 - 500 ml bottles', 28.5), (7, \"Uncle Bob's Organic Dried Pears\", 3, 7, '12 - 1 lb pkgs.', 30.0), (10, 'Ikura', 4, 8, '12 - 200 ml jars', 31.0), (26, 'Gumbär Gummibärchen', 11, 3, '100 - 250 g bags', 31.23), (32, 'Mascarpone Fabioli', 14, 4, '24 - 200 g pkgs.', 32.0), (53, 'Perth Pasties', 24, 6, '48 pieces', 32.8), (64, 'Wimmers gute Semmelknödel', 12, 5, '20 bags x 4 pieces', 33.25), (60, 'Camembert Pierrot', 28, 4, '15 - 300 g rounds', 34.0), (72, 'Mozzarella di Giovanni', 14, 4, '24 - 200 g pkgs.', 34.8), (69, 'Gudbrandsdalsost', 15, 4, '10 kg pkg.', 36.0), (12, 'Queso Manchego La Pastora', 5, 4, '10 - 500 g pkgs.', 38.0), (56, 'Gnocchi di nonna Alice', 26, 5, '24 - 250 g pkgs.', 38.0), (17, 'Alice Mutton', 7, 6, '20 - 1 kg tins', 39.0), (8, 'Northwoods Cranberry Sauce', 3, 2, '12 - 12 oz jars', 40.0), (27, 'Schoggi Schokolade', 11, 3, '100 - 100 g pieces', 43.9), (63, 'Vegie-spread', 7, 2, '15 - 625 g jars', 43.9), (28, 'Rössle Sauerkraut', 12, 7, '25 - 825 g cans', 45.6), (43, 'Ipoh Coffee', 20, 1, '16 - 500 g tins', 46.0), (62, 'Tarte au sucre', 29, 3, '48 pies', 49.3), (51, 'Manjimup Dried Apples', 24, 7, '50 - 300 g pkgs.', 53.0), (59, 'Raclette Courdavault', 28, 4, '5 kg pkg.', 55.0), (18, 'Carnarvon Tigers', 7, 8, '16 kg pkg.', 62.5), (20, \"Sir Rodney's Marmalade\", 8, 3, '30 gift boxes', 81.0), (9, 'Mishi Kobe Niku', 4, 6, '18 - 500 g pkgs.', 97.0), (29, 'Thüringer Rostbratwurst', 12, 6, '50 bags x 30 sausgs.', 123.79), (38, 'Côte de Blaye', 18, 1, '12 - 75 cl bottles', 263.5)]\n"
     ]
    }
   ],
   "execution_count": 10
  },
  {
   "metadata": {
    "ExecuteTime": {
     "end_time": "2024-07-04T04:27:02.398423Z",
     "start_time": "2024-07-04T04:27:02.396321Z"
    }
   },
   "cell_type": "code",
   "source": [
    "print(select_query(\"\"\"\n",
    "SELECT * FROM Products\n",
    "ORDER BY Price DESC;\n",
    "\"\"\"))"
   ],
   "id": "b9ed8bb001bdd205",
   "outputs": [
    {
     "name": "stdout",
     "output_type": "stream",
     "text": [
      "[(38, 'Côte de Blaye', 18, 1, '12 - 75 cl bottles', 263.5), (29, 'Thüringer Rostbratwurst', 12, 6, '50 bags x 30 sausgs.', 123.79), (9, 'Mishi Kobe Niku', 4, 6, '18 - 500 g pkgs.', 97.0), (20, \"Sir Rodney's Marmalade\", 8, 3, '30 gift boxes', 81.0), (18, 'Carnarvon Tigers', 7, 8, '16 kg pkg.', 62.5), (59, 'Raclette Courdavault', 28, 4, '5 kg pkg.', 55.0), (51, 'Manjimup Dried Apples', 24, 7, '50 - 300 g pkgs.', 53.0), (62, 'Tarte au sucre', 29, 3, '48 pies', 49.3), (43, 'Ipoh Coffee', 20, 1, '16 - 500 g tins', 46.0), (28, 'Rössle Sauerkraut', 12, 7, '25 - 825 g cans', 45.6), (27, 'Schoggi Schokolade', 11, 3, '100 - 100 g pieces', 43.9), (63, 'Vegie-spread', 7, 2, '15 - 625 g jars', 43.9), (8, 'Northwoods Cranberry Sauce', 3, 2, '12 - 12 oz jars', 40.0), (17, 'Alice Mutton', 7, 6, '20 - 1 kg tins', 39.0), (12, 'Queso Manchego La Pastora', 5, 4, '10 - 500 g pkgs.', 38.0), (56, 'Gnocchi di nonna Alice', 26, 5, '24 - 250 g pkgs.', 38.0), (69, 'Gudbrandsdalsost', 15, 4, '10 kg pkg.', 36.0), (72, 'Mozzarella di Giovanni', 14, 4, '24 - 200 g pkgs.', 34.8), (60, 'Camembert Pierrot', 28, 4, '15 - 300 g rounds', 34.0), (64, 'Wimmers gute Semmelknödel', 12, 5, '20 bags x 4 pieces', 33.25), (53, 'Perth Pasties', 24, 6, '48 pieces', 32.8), (32, 'Mascarpone Fabioli', 14, 4, '24 - 200 g pkgs.', 32.0), (26, 'Gumbär Gummibärchen', 11, 3, '100 - 250 g bags', 31.23), (10, 'Ikura', 4, 8, '12 - 200 ml jars', 31.0), (7, \"Uncle Bob's Organic Dried Pears\", 3, 7, '12 - 1 lb pkgs.', 30.0), (61, \"Sirop d'érable\", 29, 2, '24 - 500 ml bottles', 28.5), (37, 'Gravad lax', 17, 8, '12 - 500 g pkgs.', 26.0), (30, 'Nord-Ost Matjeshering', 13, 8, '10 - 200 g glasses', 25.89), (6, \"Grandma's Boysenberry Spread\", 3, 2, '12 - 8 oz jars', 25.0), (55, 'Pâté chinois', 25, 6, '24 boxes x 2 pies', 24.0), (14, 'Tofu', 6, 7, '40 - 100 g pkgs.', 23.25), (4, \"Chef Anton's Cajun Seasoning\", 2, 2, '48 - 6 oz jars', 22.0), (71, 'Fløtemysost', 15, 4, '10 - 500 g pkgs.', 21.5), (5, \"Chef Anton's Gumbo Mix\", 2, 2, '36 boxes', 21.35), (65, 'Louisiana Fiery Hot Pepper Sauce', 2, 2, '32 - 8 oz bottles', 21.05), (11, 'Queso Cabrales', 5, 4, '1 kg pkg.', 21.0), (22, \"Gustaf's Knäckebröd\", 9, 5, '24 - 500 g pkgs.', 21.0), (49, 'Maxilaku', 23, 3, '24 - 50 g pkgs.', 20.0), (57, 'Ravioli Angelo', 26, 5, '24 - 250 g pkgs.', 19.5), (44, 'Gula Malacca', 20, 2, '20 - 2 kg bags', 19.45), (2, 'Chang', 1, 1, '24 - 12 oz bottles', 19.0), (36, 'Inlagd Sill', 17, 8, '24 - 250 g jars', 19.0), (40, 'Boston Crab Meat', 19, 8, '24 - 4 oz tins', 18.4), (1, 'Chais', 1, 1, '10 boxes x 20 bags', 18.0), (35, 'Steeleye Stout', 16, 1, '24 - 12 oz bottles', 18.0), (39, 'Chartreuse verte', 18, 1, '750 cc per bottle', 18.0), (76, 'Lakkalikööri', 23, 1, '500 ml', 18.0), (16, 'Pavlova', 7, 3, '32 - 500 g boxes', 17.45), (66, 'Louisiana Hot Spiced Okra', 2, 2, '24 - 8 oz jars', 17.0), (50, 'Valkoinen suklaa', 23, 3, '12 - 100 g bars', 16.25), (15, 'Genen Shouyu', 6, 2, '24 - 250 ml bottles', 15.5), (70, 'Outback Lager', 7, 1, '24 - 355 ml bottles', 15.0), (73, 'Röd Kaviar', 17, 8, '24 - 150 g jars', 15.0), (25, 'NuNuCa Nuß-Nougat-Creme', 11, 3, '20 - 450 g glasses', 14.0), (34, 'Sasquatch Ale', 16, 1, '24 - 12 oz bottles', 14.0), (42, 'Singaporean Hokkien Fried Mee', 20, 5, '32 - 1 kg pkgs.', 14.0), (67, 'Laughing Lumberjack Lager', 16, 1, '24 - 12 oz bottles', 14.0), (58, 'Escargots de Bourgogne', 27, 8, '24 pieces', 13.25), (77, 'Original Frankfurter grüne Soße', 12, 2, '12 boxes', 13.0), (48, 'Chocolade', 22, 3, '10 pkgs.', 12.75), (31, 'Gorgonzola Telino', 14, 4, '12 - 100 g pkgs', 12.5), (68, 'Scottish Longbreads', 8, 3, '10 boxes x 8 pieces', 12.5), (46, 'Spegesild', 21, 8, '4 - 450 g glasses', 12.0), (3, 'Aniseed Syrup', 1, 2, '12 - 550 ml bottles', 10.0), (21, \"Sir Rodney's Scones\", 8, 3, '24 pkgs. x 4 pieces', 10.0), (74, 'Longlife Tofu', 4, 7, '5 kg pkg.', 10.0), (41, \"Jack's New England Clam Chowder\", 19, 8, '12 - 12 oz cans', 9.65), (45, 'Røgede sild', 21, 8, '1k pkg.', 9.5), (47, 'Zaanse koeken', 22, 3, '10 - 4 oz boxes', 9.5), (19, 'Teatime Chocolate Biscuits', 8, 3, '10 boxes x 12 pieces', 9.2), (23, 'Tunnbröd', 9, 5, '12 - 250 g pkgs.', 9.0), (75, 'Rhönbräu Klosterbier', 12, 1, '24 - 0.5 l bottles', 7.75), (54, 'Tourtière', 25, 6, '16 pies', 7.45), (52, 'Filo Mix', 24, 5, '16 - 2 kg boxes', 7.0), (13, 'Konbu', 6, 8, '2 kg box', 6.0), (24, 'Guaraná Fantástica', 10, 1, '12 - 355 ml cans', 4.5), (33, 'Geitost', 15, 4, '500 g', 2.5)]\n"
     ]
    }
   ],
   "execution_count": 11
  },
  {
   "metadata": {
    "ExecuteTime": {
     "end_time": "2024-07-04T04:27:02.459848Z",
     "start_time": "2024-07-04T04:27:02.457524Z"
    }
   },
   "cell_type": "code",
   "source": [
    "print(select_query(\"\"\"\n",
    "SELECT * FROM Products\n",
    "ORDER BY ProductName;\n",
    "\"\"\"))"
   ],
   "id": "47992a8cb7be9df4",
   "outputs": [
    {
     "name": "stdout",
     "output_type": "stream",
     "text": [
      "[(17, 'Alice Mutton', 7, 6, '20 - 1 kg tins', 39.0), (3, 'Aniseed Syrup', 1, 2, '12 - 550 ml bottles', 10.0), (40, 'Boston Crab Meat', 19, 8, '24 - 4 oz tins', 18.4), (60, 'Camembert Pierrot', 28, 4, '15 - 300 g rounds', 34.0), (18, 'Carnarvon Tigers', 7, 8, '16 kg pkg.', 62.5), (1, 'Chais', 1, 1, '10 boxes x 20 bags', 18.0), (2, 'Chang', 1, 1, '24 - 12 oz bottles', 19.0), (39, 'Chartreuse verte', 18, 1, '750 cc per bottle', 18.0), (4, \"Chef Anton's Cajun Seasoning\", 2, 2, '48 - 6 oz jars', 22.0), (5, \"Chef Anton's Gumbo Mix\", 2, 2, '36 boxes', 21.35), (48, 'Chocolade', 22, 3, '10 pkgs.', 12.75), (38, 'Côte de Blaye', 18, 1, '12 - 75 cl bottles', 263.5), (58, 'Escargots de Bourgogne', 27, 8, '24 pieces', 13.25), (52, 'Filo Mix', 24, 5, '16 - 2 kg boxes', 7.0), (71, 'Fløtemysost', 15, 4, '10 - 500 g pkgs.', 21.5), (33, 'Geitost', 15, 4, '500 g', 2.5), (15, 'Genen Shouyu', 6, 2, '24 - 250 ml bottles', 15.5), (56, 'Gnocchi di nonna Alice', 26, 5, '24 - 250 g pkgs.', 38.0), (31, 'Gorgonzola Telino', 14, 4, '12 - 100 g pkgs', 12.5), (6, \"Grandma's Boysenberry Spread\", 3, 2, '12 - 8 oz jars', 25.0), (37, 'Gravad lax', 17, 8, '12 - 500 g pkgs.', 26.0), (24, 'Guaraná Fantástica', 10, 1, '12 - 355 ml cans', 4.5), (69, 'Gudbrandsdalsost', 15, 4, '10 kg pkg.', 36.0), (44, 'Gula Malacca', 20, 2, '20 - 2 kg bags', 19.45), (26, 'Gumbär Gummibärchen', 11, 3, '100 - 250 g bags', 31.23), (22, \"Gustaf's Knäckebröd\", 9, 5, '24 - 500 g pkgs.', 21.0), (10, 'Ikura', 4, 8, '12 - 200 ml jars', 31.0), (36, 'Inlagd Sill', 17, 8, '24 - 250 g jars', 19.0), (43, 'Ipoh Coffee', 20, 1, '16 - 500 g tins', 46.0), (41, \"Jack's New England Clam Chowder\", 19, 8, '12 - 12 oz cans', 9.65), (13, 'Konbu', 6, 8, '2 kg box', 6.0), (76, 'Lakkalikööri', 23, 1, '500 ml', 18.0), (67, 'Laughing Lumberjack Lager', 16, 1, '24 - 12 oz bottles', 14.0), (74, 'Longlife Tofu', 4, 7, '5 kg pkg.', 10.0), (65, 'Louisiana Fiery Hot Pepper Sauce', 2, 2, '32 - 8 oz bottles', 21.05), (66, 'Louisiana Hot Spiced Okra', 2, 2, '24 - 8 oz jars', 17.0), (51, 'Manjimup Dried Apples', 24, 7, '50 - 300 g pkgs.', 53.0), (32, 'Mascarpone Fabioli', 14, 4, '24 - 200 g pkgs.', 32.0), (49, 'Maxilaku', 23, 3, '24 - 50 g pkgs.', 20.0), (9, 'Mishi Kobe Niku', 4, 6, '18 - 500 g pkgs.', 97.0), (72, 'Mozzarella di Giovanni', 14, 4, '24 - 200 g pkgs.', 34.8), (30, 'Nord-Ost Matjeshering', 13, 8, '10 - 200 g glasses', 25.89), (8, 'Northwoods Cranberry Sauce', 3, 2, '12 - 12 oz jars', 40.0), (25, 'NuNuCa Nuß-Nougat-Creme', 11, 3, '20 - 450 g glasses', 14.0), (77, 'Original Frankfurter grüne Soße', 12, 2, '12 boxes', 13.0), (70, 'Outback Lager', 7, 1, '24 - 355 ml bottles', 15.0), (16, 'Pavlova', 7, 3, '32 - 500 g boxes', 17.45), (53, 'Perth Pasties', 24, 6, '48 pieces', 32.8), (55, 'Pâté chinois', 25, 6, '24 boxes x 2 pies', 24.0), (11, 'Queso Cabrales', 5, 4, '1 kg pkg.', 21.0), (12, 'Queso Manchego La Pastora', 5, 4, '10 - 500 g pkgs.', 38.0), (59, 'Raclette Courdavault', 28, 4, '5 kg pkg.', 55.0), (57, 'Ravioli Angelo', 26, 5, '24 - 250 g pkgs.', 19.5), (75, 'Rhönbräu Klosterbier', 12, 1, '24 - 0.5 l bottles', 7.75), (73, 'Röd Kaviar', 17, 8, '24 - 150 g jars', 15.0), (28, 'Rössle Sauerkraut', 12, 7, '25 - 825 g cans', 45.6), (45, 'Røgede sild', 21, 8, '1k pkg.', 9.5), (34, 'Sasquatch Ale', 16, 1, '24 - 12 oz bottles', 14.0), (27, 'Schoggi Schokolade', 11, 3, '100 - 100 g pieces', 43.9), (68, 'Scottish Longbreads', 8, 3, '10 boxes x 8 pieces', 12.5), (42, 'Singaporean Hokkien Fried Mee', 20, 5, '32 - 1 kg pkgs.', 14.0), (20, \"Sir Rodney's Marmalade\", 8, 3, '30 gift boxes', 81.0), (21, \"Sir Rodney's Scones\", 8, 3, '24 pkgs. x 4 pieces', 10.0), (61, \"Sirop d'érable\", 29, 2, '24 - 500 ml bottles', 28.5), (46, 'Spegesild', 21, 8, '4 - 450 g glasses', 12.0), (35, 'Steeleye Stout', 16, 1, '24 - 12 oz bottles', 18.0), (62, 'Tarte au sucre', 29, 3, '48 pies', 49.3), (19, 'Teatime Chocolate Biscuits', 8, 3, '10 boxes x 12 pieces', 9.2), (29, 'Thüringer Rostbratwurst', 12, 6, '50 bags x 30 sausgs.', 123.79), (14, 'Tofu', 6, 7, '40 - 100 g pkgs.', 23.25), (54, 'Tourtière', 25, 6, '16 pies', 7.45), (23, 'Tunnbröd', 9, 5, '12 - 250 g pkgs.', 9.0), (7, \"Uncle Bob's Organic Dried Pears\", 3, 7, '12 - 1 lb pkgs.', 30.0), (50, 'Valkoinen suklaa', 23, 3, '12 - 100 g bars', 16.25), (63, 'Vegie-spread', 7, 2, '15 - 625 g jars', 43.9), (64, 'Wimmers gute Semmelknödel', 12, 5, '20 bags x 4 pieces', 33.25), (47, 'Zaanse koeken', 22, 3, '10 - 4 oz boxes', 9.5)]\n"
     ]
    }
   ],
   "execution_count": 12
  },
  {
   "metadata": {
    "ExecuteTime": {
     "end_time": "2024-07-04T04:27:02.518747Z",
     "start_time": "2024-07-04T04:27:02.516446Z"
    }
   },
   "cell_type": "code",
   "source": [
    "print(select_query(\"\"\"\n",
    "SELECT * FROM Products\n",
    "ORDER BY ProductName DESC;\n",
    "\"\"\"))"
   ],
   "id": "95a3b3b1b938f2ae",
   "outputs": [
    {
     "name": "stdout",
     "output_type": "stream",
     "text": [
      "[(47, 'Zaanse koeken', 22, 3, '10 - 4 oz boxes', 9.5), (64, 'Wimmers gute Semmelknödel', 12, 5, '20 bags x 4 pieces', 33.25), (63, 'Vegie-spread', 7, 2, '15 - 625 g jars', 43.9), (50, 'Valkoinen suklaa', 23, 3, '12 - 100 g bars', 16.25), (7, \"Uncle Bob's Organic Dried Pears\", 3, 7, '12 - 1 lb pkgs.', 30.0), (23, 'Tunnbröd', 9, 5, '12 - 250 g pkgs.', 9.0), (54, 'Tourtière', 25, 6, '16 pies', 7.45), (14, 'Tofu', 6, 7, '40 - 100 g pkgs.', 23.25), (29, 'Thüringer Rostbratwurst', 12, 6, '50 bags x 30 sausgs.', 123.79), (19, 'Teatime Chocolate Biscuits', 8, 3, '10 boxes x 12 pieces', 9.2), (62, 'Tarte au sucre', 29, 3, '48 pies', 49.3), (35, 'Steeleye Stout', 16, 1, '24 - 12 oz bottles', 18.0), (46, 'Spegesild', 21, 8, '4 - 450 g glasses', 12.0), (61, \"Sirop d'érable\", 29, 2, '24 - 500 ml bottles', 28.5), (21, \"Sir Rodney's Scones\", 8, 3, '24 pkgs. x 4 pieces', 10.0), (20, \"Sir Rodney's Marmalade\", 8, 3, '30 gift boxes', 81.0), (42, 'Singaporean Hokkien Fried Mee', 20, 5, '32 - 1 kg pkgs.', 14.0), (68, 'Scottish Longbreads', 8, 3, '10 boxes x 8 pieces', 12.5), (27, 'Schoggi Schokolade', 11, 3, '100 - 100 g pieces', 43.9), (34, 'Sasquatch Ale', 16, 1, '24 - 12 oz bottles', 14.0), (45, 'Røgede sild', 21, 8, '1k pkg.', 9.5), (28, 'Rössle Sauerkraut', 12, 7, '25 - 825 g cans', 45.6), (73, 'Röd Kaviar', 17, 8, '24 - 150 g jars', 15.0), (75, 'Rhönbräu Klosterbier', 12, 1, '24 - 0.5 l bottles', 7.75), (57, 'Ravioli Angelo', 26, 5, '24 - 250 g pkgs.', 19.5), (59, 'Raclette Courdavault', 28, 4, '5 kg pkg.', 55.0), (12, 'Queso Manchego La Pastora', 5, 4, '10 - 500 g pkgs.', 38.0), (11, 'Queso Cabrales', 5, 4, '1 kg pkg.', 21.0), (55, 'Pâté chinois', 25, 6, '24 boxes x 2 pies', 24.0), (53, 'Perth Pasties', 24, 6, '48 pieces', 32.8), (16, 'Pavlova', 7, 3, '32 - 500 g boxes', 17.45), (70, 'Outback Lager', 7, 1, '24 - 355 ml bottles', 15.0), (77, 'Original Frankfurter grüne Soße', 12, 2, '12 boxes', 13.0), (25, 'NuNuCa Nuß-Nougat-Creme', 11, 3, '20 - 450 g glasses', 14.0), (8, 'Northwoods Cranberry Sauce', 3, 2, '12 - 12 oz jars', 40.0), (30, 'Nord-Ost Matjeshering', 13, 8, '10 - 200 g glasses', 25.89), (72, 'Mozzarella di Giovanni', 14, 4, '24 - 200 g pkgs.', 34.8), (9, 'Mishi Kobe Niku', 4, 6, '18 - 500 g pkgs.', 97.0), (49, 'Maxilaku', 23, 3, '24 - 50 g pkgs.', 20.0), (32, 'Mascarpone Fabioli', 14, 4, '24 - 200 g pkgs.', 32.0), (51, 'Manjimup Dried Apples', 24, 7, '50 - 300 g pkgs.', 53.0), (66, 'Louisiana Hot Spiced Okra', 2, 2, '24 - 8 oz jars', 17.0), (65, 'Louisiana Fiery Hot Pepper Sauce', 2, 2, '32 - 8 oz bottles', 21.05), (74, 'Longlife Tofu', 4, 7, '5 kg pkg.', 10.0), (67, 'Laughing Lumberjack Lager', 16, 1, '24 - 12 oz bottles', 14.0), (76, 'Lakkalikööri', 23, 1, '500 ml', 18.0), (13, 'Konbu', 6, 8, '2 kg box', 6.0), (41, \"Jack's New England Clam Chowder\", 19, 8, '12 - 12 oz cans', 9.65), (43, 'Ipoh Coffee', 20, 1, '16 - 500 g tins', 46.0), (36, 'Inlagd Sill', 17, 8, '24 - 250 g jars', 19.0), (10, 'Ikura', 4, 8, '12 - 200 ml jars', 31.0), (22, \"Gustaf's Knäckebröd\", 9, 5, '24 - 500 g pkgs.', 21.0), (26, 'Gumbär Gummibärchen', 11, 3, '100 - 250 g bags', 31.23), (44, 'Gula Malacca', 20, 2, '20 - 2 kg bags', 19.45), (69, 'Gudbrandsdalsost', 15, 4, '10 kg pkg.', 36.0), (24, 'Guaraná Fantástica', 10, 1, '12 - 355 ml cans', 4.5), (37, 'Gravad lax', 17, 8, '12 - 500 g pkgs.', 26.0), (6, \"Grandma's Boysenberry Spread\", 3, 2, '12 - 8 oz jars', 25.0), (31, 'Gorgonzola Telino', 14, 4, '12 - 100 g pkgs', 12.5), (56, 'Gnocchi di nonna Alice', 26, 5, '24 - 250 g pkgs.', 38.0), (15, 'Genen Shouyu', 6, 2, '24 - 250 ml bottles', 15.5), (33, 'Geitost', 15, 4, '500 g', 2.5), (71, 'Fløtemysost', 15, 4, '10 - 500 g pkgs.', 21.5), (52, 'Filo Mix', 24, 5, '16 - 2 kg boxes', 7.0), (58, 'Escargots de Bourgogne', 27, 8, '24 pieces', 13.25), (38, 'Côte de Blaye', 18, 1, '12 - 75 cl bottles', 263.5), (48, 'Chocolade', 22, 3, '10 pkgs.', 12.75), (5, \"Chef Anton's Gumbo Mix\", 2, 2, '36 boxes', 21.35), (4, \"Chef Anton's Cajun Seasoning\", 2, 2, '48 - 6 oz jars', 22.0), (39, 'Chartreuse verte', 18, 1, '750 cc per bottle', 18.0), (2, 'Chang', 1, 1, '24 - 12 oz bottles', 19.0), (1, 'Chais', 1, 1, '10 boxes x 20 bags', 18.0), (18, 'Carnarvon Tigers', 7, 8, '16 kg pkg.', 62.5), (60, 'Camembert Pierrot', 28, 4, '15 - 300 g rounds', 34.0), (40, 'Boston Crab Meat', 19, 8, '24 - 4 oz tins', 18.4), (3, 'Aniseed Syrup', 1, 2, '12 - 550 ml bottles', 10.0), (17, 'Alice Mutton', 7, 6, '20 - 1 kg tins', 39.0)]\n"
     ]
    }
   ],
   "execution_count": 13
  },
  {
   "metadata": {
    "ExecuteTime": {
     "end_time": "2024-07-04T04:27:02.600264Z",
     "start_time": "2024-07-04T04:27:02.597995Z"
    }
   },
   "cell_type": "code",
   "source": [
    "print(select_query(\"\"\"\n",
    "SELECT * FROM Customers\n",
    "ORDER BY Country, CustomerName;\n",
    "\"\"\"))"
   ],
   "id": "28581c82c4a2f4f8",
   "outputs": [
    {
     "name": "stdout",
     "output_type": "stream",
     "text": [
      "[(12, 'Cactus Comidas para llevar', 'Patricio Simpson', 'Cerrito 333', 'Buenos Aires', '1010', 'Argentina'), (54, 'Océano Atlántico Ltda.', 'Yvonne Moncada', 'Ing. Gustavo Moncada 8585 Piso 20-A', 'Buenos Aires', '1010', 'Argentina'), (64, 'Rancho grande', 'Sergio Gutiérrez', 'Av. del Libertador 900', 'Buenos Aires', '1010', 'Argentina'), (20, 'Ernst Handel', 'Roland Mendel', 'Kirchgasse 6', 'Graz', '8010', 'Austria'), (59, 'Piccolo und mehr', 'Georg Pipps', 'Geislweg 14', 'Salzburg', '5020', 'Austria'), (50, 'Maison Dewey', 'Catherine Dewey', 'Rue Joseph-Bens 532', 'Bruxelles', 'B-1180', 'Belgium'), (76, 'Suprêmes délices', 'Pascale Cartrain', 'Boulevard Tirou, 255', 'Charleroi', 'B-6000', 'Belgium'), (15, 'Comércio Mineiro', 'Pedro Afonso', 'Av. dos Lusíadas, 23', 'São Paulo', '05432-043', 'Brazil'), (21, 'Familia Arquibaldo', 'Aria Cruz', 'Rua Orós, 92', 'São Paulo', '05442-030', 'Brazil'), (31, 'Gourmet Lanchonetes', 'André Fonseca', 'Av. Brasil, 442', 'Campinas', '04876-786', 'Brazil'), (34, 'Hanari Carnes', 'Mario Pontes', 'Rua do Paço, 67', 'Rio de Janeiro', '05454-876', 'Brazil'), (61, 'Que Delícia', 'Bernardo Batista', 'Rua da Panificadora, 12', 'Rio de Janeiro', '02389-673', 'Brazil'), (62, 'Queen Cozinha', 'Lúcia Carvalho', 'Alameda dos Canàrios, 891', 'São Paulo', '05487-020', 'Brazil'), (67, 'Ricardo Adocicados', 'Janete Limeira', 'Av. Copacabana, 267', 'Rio de Janeiro', '02389-890', 'Brazil'), (81, 'Tradição Hipermercados', 'Anabela Domingues', 'Av. Inês de Castro, 414', 'São Paulo', '05634-030', 'Brazil'), (88, 'Wellington Importadora', 'Paula Parente', 'Rua do Mercado, 12', 'Resende', '08737-363', 'Brazil'), (10, 'Bottom-Dollar Marketse', 'Elizabeth Lincoln', '23 Tsawassen Blvd.', 'Tsawassen', 'T2F 8M4', 'Canada'), (42, 'Laughing Bacchus Wine Cellars', 'Yoshi Tannamuri', '1900 Oak St.', 'Vancouver', 'V3F 2K1', 'Canada'), (51, 'Mère Paillarde', 'Jean Fresnière', '43 rue St. Laurent', 'Montréal', 'H1J 1C3', 'Canada'), (73, 'Simons bistro', 'Jytte Petersen', 'Vinbæltet 34', 'København', '1734', 'Denmark'), (83, 'Vaffeljernet', 'Palle Ibsen', 'Smagsløget 45', 'Århus', '8200', 'Denmark'), (87, 'Wartian Herkku', 'Pirkko Koskitalo', 'Torikatu 38', 'Oulu', '90110', 'Finland'), (90, 'Wilman Kala', 'Matti Karttunen', 'Keskuskatu 45', 'Helsinki', '21240', 'Finland'), (7, 'Blondel père et fils', 'Frédérique Citeaux', '24, place Kléber', 'Strasbourg', '67000', 'France'), (9, \"Bon app'\", 'Laurence Lebihans', '12, rue des Bouchers', 'Marseille', '13008', 'France'), (18, 'Du monde entier', 'Janine Labrune', '67, rue des Cinquante Otages', 'Nantes', '44000', 'France'), (23, 'Folies gourmandes', 'Martine Rancé', '184, chaussée de Tournai', 'Lille', '59000', 'France'), (26, 'France restauration', 'Carine Schmitt', '54, rue Royale', 'Nantes', '44000', 'France'), (40, \"La corne d'abondance\", 'Daniel Tonini', \"67, avenue de l'Europe\", 'Versailles', '78000', 'France'), (41, \"La maison d'Asie\", 'Annette Roulet', '1 rue Alsace-Lorraine', 'Toulouse', '31000', 'France'), (57, 'Paris spécialités', 'Marie Bertrand', '265, boulevard Charonne', 'Paris', '75012', 'France'), (74, 'Spécialités du monde', 'Dominique Perrier', '25, rue Lauriston', 'Paris', '75016', 'France'), (84, 'Victuailles en stock', 'Mary Saveley', '2, rue du Commerce', 'Lyon', '69004', 'France'), (85, 'Vins et alcools Chevalier', 'Paul Henriot', \"59 rue de l'Abbaye\", 'Reims', '51100', 'France'), (1, 'Alfreds Futterkiste', 'Maria Anders', 'Obere Str. 57', 'Berlin', '12209', 'Germany'), (6, 'Blauer See Delikatessen', 'Hanna Moos', 'Forsterstr. 57', 'Mannheim', '68306', 'Germany'), (86, 'Die Wandernde Kuh', 'Rita Müller', 'Adenauerallee 900', 'Stuttgart', '70563', 'Germany'), (17, 'Drachenblut Delikatessend', 'Sven Ottlieb', 'Walserweg 21', 'Aachen', '52066', 'Germany'), (25, 'Frankenversand', 'Peter Franken', 'Berliner Platz 43', 'München', '80805', 'Germany'), (39, 'Königlich Essen', 'Philip Cramer', 'Maubelstr. 90', 'Brandenburg', '14776', 'Germany'), (44, 'Lehmanns Marktstand', 'Renate Messner', 'Magazinweg 7', 'Frankfurt a.M.', '60528', 'Germany'), (52, 'Morgenstern Gesundkost', 'Alexander Feuer', 'Heerstr. 22', 'Leipzig', '04179', 'Germany'), (56, 'Ottilies Käseladen', 'Henriette Pfalzheim', 'Mehrheimerstr. 369', 'Köln', '50739', 'Germany'), (63, 'QUICK-Stop', 'Horst Kloss', 'Taucherstraße 10', 'Cunewalde', '01307', 'Germany'), (79, 'Toms Spezialitäten', 'Karin Josephs', 'Luisenstr. 48', 'Münster', '44087', 'Germany'), (37, 'Hungry Owl All-Night Grocers', 'Patricia McKenna', '8 Johnstown Road', 'Cork', '', 'Ireland'), (27, 'Franchi S.p.A.', 'Paolo Accorti', 'Via Monte Bianco 34', 'Torino', '10100', 'Italy'), (49, 'Magazzini Alimentari Riuniti', 'Giovanni Rovelli', 'Via Ludovico il Moro 22', 'Bergamo', '24100', 'Italy'), (66, 'Reggiani Caseifici', 'Maurizio Moroni', 'Strada Provinciale 124', 'Reggio Emilia', '42100', 'Italy'), (2, 'Ana Trujillo Emparedados y helados', 'Ana Trujillo', 'Avda. de la Constitución 2222', 'México D.F.', '05021', 'Mexico'), (3, 'Antonio Moreno Taquería', 'Antonio Moreno', 'Mataderos 2312', 'México D.F.', '05023', 'Mexico'), (13, 'Centro comercial Moctezuma', 'Francisco Chang', 'Sierras de Granada 9993', 'México D.F.', '05022', 'Mexico'), (58, 'Pericles Comidas clásicas', 'Guillermo Fernández', 'Calle Dr. Jorge Cash 321', 'México D.F.', '05033', 'Mexico'), (80, 'Tortuga Restaurante', 'Miguel Angel Paolino', 'Avda. Azteca 123', 'México D.F.', '05033', 'Mexico'), (70, 'Santé Gourmet', 'Jonas Bergulfsen', 'Erling Skakkes gate 78', 'Stavern', '4110', 'Norway'), (91, 'Wolski', 'Zbyszek', 'ul. Filtrowa 68', 'Walla', '01-012', 'Poland'), (28, 'Furia Bacalhau e Frutos do Mar', 'Lino Rodriguez', 'Jardim das rosas n. 32', 'Lisboa', '1675', 'Portugal'), (60, 'Princesa Isabel Vinhoss', 'Isabel de Castro', 'Estrada da saúde n. 58', 'Lisboa', '1756', 'Portugal'), (8, 'Bólido Comidas preparadas', 'Martín Sommer', 'C/ Araquil, 67', 'Madrid', '28023', 'Spain'), (22, 'FISSA Fabrica Inter. Salchichas S.A.', 'Diego Roel', 'C/ Moralzarzal, 86', 'Madrid', '28034', 'Spain'), (29, 'Galería del gastrónomo', 'Eduardo Saavedra', 'Rambla de Cataluña, 23', 'Barcelona', '08022', 'Spain'), (30, 'Godos Cocina Típica', 'José Pedro Freyre', 'C/ Romero, 33', 'Sevilla', '41101', 'Spain'), (69, 'Romero y tomillo', 'Alejandra Camino', 'Gran Vía, 1', 'Madrid', '28001', 'Spain'), (5, 'Berglunds snabbköp', 'Christina Berglund', 'Berguvsvägen 8', 'Luleå', 'S-958 22', 'Sweden'), (24, 'Folk och fä HB', 'Maria Larsson', 'Åkergatan 24', 'Bräcke', 'S-844 67', 'Sweden'), (14, 'Chop-suey Chinese', 'Yang Wang', 'Hauptstr. 29', 'Bern', '3012', 'Switzerland'), (68, 'Richter Supermarkt', 'Michael Holz', 'Grenzacherweg 237', 'Genève', '1203', 'Switzerland'), (4, 'Around the Horn', 'Thomas Hardy', '120 Hanover Sq.', 'London', 'WA1 1DP', 'UK'), (11, \"B's Beverages\", 'Victoria Ashworth', 'Fauntleroy Circus', 'London', 'EC2 5NT', 'UK'), (16, 'Consolidated Holdings', 'Elizabeth Brown', 'Berkeley Gardens 12 Brewery', 'London', 'WX1 6LT', 'UK'), (19, 'Eastern Connection', 'Ann Devon', '35 King George', 'London', 'WX3 6FW', 'UK'), (38, 'Island Trading', 'Helen Bennett', 'Garden House Crowther Way', 'Cowes', 'PO31 7PJ', 'UK'), (53, 'North/South', 'Simon Crowther', 'South House 300 Queensbridge', 'London', 'SW7 1RZ', 'UK'), (72, 'Seven Seas Imports', 'Hari Kumar', '90 Wadhurst Rd.', 'London', 'OX15 4NB', 'UK'), (32, 'Great Lakes Food Market', 'Howard Snyder', '2732 Baker Blvd.', 'Eugene', '97403', 'USA'), (36, 'Hungry Coyote Import Store', 'Yoshi Latimer', 'City Center Plaza 516 Main St.', 'Elgin', '97827', 'USA'), (43, 'Lazy K Kountry Store', 'John Steel', '12 Orchestra Terrace', 'Walla Walla', '99362', 'USA'), (45, \"Let's Stop N Shop\", 'Jaime Yorres', '87 Polk St. Suite 5', 'San Francisco', '94117', 'USA'), (48, 'Lonesome Pine Restaurant', 'Fran Wilson', '89 Chiaroscuro Rd.', 'Portland', '97219', 'USA'), (55, 'Old World Delicatessen', 'Rene Phillips', '2743 Bering St.', 'Anchorage', '99508', 'USA'), (65, 'Rattlesnake Canyon Grocery', 'Paula Wilson', '2817 Milton Dr.', 'Albuquerque', '87110', 'USA'), (71, 'Save-a-lot Markets', 'Jose Pavarotti', '187 Suffolk Ln.', 'Boise', '83720', 'USA'), (75, 'Split Rail Beer & Ale', 'Art Braunschweiger', 'P.O. Box 555', 'Lander', '82520', 'USA'), (77, 'The Big Cheese', 'Liz Nixon', '89 Jefferson Way Suite 2', 'Portland', '97201', 'USA'), (78, 'The Cracker Box', 'Liu Wong', '55 Grizzly Peak Rd.', 'Butte', '59801', 'USA'), (82, \"Trail's Head Gourmet Provisioners\", 'Helvetius Nagy', '722 DaVinci Blvd.', 'Kirkland', '98034', 'USA'), (89, 'White Clover Markets', 'Karl Jablonski', '305 - 14th Ave. S. Suite 3B', 'Seattle', '98128', 'USA'), (33, 'GROSELLA-Restaurante', 'Manuel Pereira', '5ª Ave. Los Palos Grandes', 'Caracas', '1081', 'Venezuela'), (35, 'HILARIÓN-Abastos', 'Carlos Hernández', 'Carrera 22 con Ave. Carlos Soublette #8-35', 'San Cristóbal', '5022', 'Venezuela'), (46, 'LILA-Supermercado', 'Carlos González', 'Carrera 52 con Ave. Bolívar #65-98 Llano Largo', 'Barquisimeto', '3508', 'Venezuela'), (47, 'LINO-Delicateses', 'Felipe Izquierdo', 'Ave. 5 de Mayo Porlamar', 'I. de Margarita', '4980', 'Venezuela')]\n"
     ]
    }
   ],
   "execution_count": 14
  },
  {
   "metadata": {
    "ExecuteTime": {
     "end_time": "2024-07-04T04:27:02.670790Z",
     "start_time": "2024-07-04T04:27:02.668398Z"
    }
   },
   "cell_type": "code",
   "source": [
    "print(select_query(\"\"\"\n",
    "SELECT * FROM Customers\n",
    "ORDER BY Country ASC, CustomerName DESC;\n",
    "\"\"\"))"
   ],
   "id": "98ccb92c71a59375",
   "outputs": [
    {
     "name": "stdout",
     "output_type": "stream",
     "text": [
      "[(64, 'Rancho grande', 'Sergio Gutiérrez', 'Av. del Libertador 900', 'Buenos Aires', '1010', 'Argentina'), (54, 'Océano Atlántico Ltda.', 'Yvonne Moncada', 'Ing. Gustavo Moncada 8585 Piso 20-A', 'Buenos Aires', '1010', 'Argentina'), (12, 'Cactus Comidas para llevar', 'Patricio Simpson', 'Cerrito 333', 'Buenos Aires', '1010', 'Argentina'), (59, 'Piccolo und mehr', 'Georg Pipps', 'Geislweg 14', 'Salzburg', '5020', 'Austria'), (20, 'Ernst Handel', 'Roland Mendel', 'Kirchgasse 6', 'Graz', '8010', 'Austria'), (76, 'Suprêmes délices', 'Pascale Cartrain', 'Boulevard Tirou, 255', 'Charleroi', 'B-6000', 'Belgium'), (50, 'Maison Dewey', 'Catherine Dewey', 'Rue Joseph-Bens 532', 'Bruxelles', 'B-1180', 'Belgium'), (88, 'Wellington Importadora', 'Paula Parente', 'Rua do Mercado, 12', 'Resende', '08737-363', 'Brazil'), (81, 'Tradição Hipermercados', 'Anabela Domingues', 'Av. Inês de Castro, 414', 'São Paulo', '05634-030', 'Brazil'), (67, 'Ricardo Adocicados', 'Janete Limeira', 'Av. Copacabana, 267', 'Rio de Janeiro', '02389-890', 'Brazil'), (62, 'Queen Cozinha', 'Lúcia Carvalho', 'Alameda dos Canàrios, 891', 'São Paulo', '05487-020', 'Brazil'), (61, 'Que Delícia', 'Bernardo Batista', 'Rua da Panificadora, 12', 'Rio de Janeiro', '02389-673', 'Brazil'), (34, 'Hanari Carnes', 'Mario Pontes', 'Rua do Paço, 67', 'Rio de Janeiro', '05454-876', 'Brazil'), (31, 'Gourmet Lanchonetes', 'André Fonseca', 'Av. Brasil, 442', 'Campinas', '04876-786', 'Brazil'), (21, 'Familia Arquibaldo', 'Aria Cruz', 'Rua Orós, 92', 'São Paulo', '05442-030', 'Brazil'), (15, 'Comércio Mineiro', 'Pedro Afonso', 'Av. dos Lusíadas, 23', 'São Paulo', '05432-043', 'Brazil'), (51, 'Mère Paillarde', 'Jean Fresnière', '43 rue St. Laurent', 'Montréal', 'H1J 1C3', 'Canada'), (42, 'Laughing Bacchus Wine Cellars', 'Yoshi Tannamuri', '1900 Oak St.', 'Vancouver', 'V3F 2K1', 'Canada'), (10, 'Bottom-Dollar Marketse', 'Elizabeth Lincoln', '23 Tsawassen Blvd.', 'Tsawassen', 'T2F 8M4', 'Canada'), (83, 'Vaffeljernet', 'Palle Ibsen', 'Smagsløget 45', 'Århus', '8200', 'Denmark'), (73, 'Simons bistro', 'Jytte Petersen', 'Vinbæltet 34', 'København', '1734', 'Denmark'), (90, 'Wilman Kala', 'Matti Karttunen', 'Keskuskatu 45', 'Helsinki', '21240', 'Finland'), (87, 'Wartian Herkku', 'Pirkko Koskitalo', 'Torikatu 38', 'Oulu', '90110', 'Finland'), (85, 'Vins et alcools Chevalier', 'Paul Henriot', \"59 rue de l'Abbaye\", 'Reims', '51100', 'France'), (84, 'Victuailles en stock', 'Mary Saveley', '2, rue du Commerce', 'Lyon', '69004', 'France'), (74, 'Spécialités du monde', 'Dominique Perrier', '25, rue Lauriston', 'Paris', '75016', 'France'), (57, 'Paris spécialités', 'Marie Bertrand', '265, boulevard Charonne', 'Paris', '75012', 'France'), (41, \"La maison d'Asie\", 'Annette Roulet', '1 rue Alsace-Lorraine', 'Toulouse', '31000', 'France'), (40, \"La corne d'abondance\", 'Daniel Tonini', \"67, avenue de l'Europe\", 'Versailles', '78000', 'France'), (26, 'France restauration', 'Carine Schmitt', '54, rue Royale', 'Nantes', '44000', 'France'), (23, 'Folies gourmandes', 'Martine Rancé', '184, chaussée de Tournai', 'Lille', '59000', 'France'), (18, 'Du monde entier', 'Janine Labrune', '67, rue des Cinquante Otages', 'Nantes', '44000', 'France'), (9, \"Bon app'\", 'Laurence Lebihans', '12, rue des Bouchers', 'Marseille', '13008', 'France'), (7, 'Blondel père et fils', 'Frédérique Citeaux', '24, place Kléber', 'Strasbourg', '67000', 'France'), (79, 'Toms Spezialitäten', 'Karin Josephs', 'Luisenstr. 48', 'Münster', '44087', 'Germany'), (63, 'QUICK-Stop', 'Horst Kloss', 'Taucherstraße 10', 'Cunewalde', '01307', 'Germany'), (56, 'Ottilies Käseladen', 'Henriette Pfalzheim', 'Mehrheimerstr. 369', 'Köln', '50739', 'Germany'), (52, 'Morgenstern Gesundkost', 'Alexander Feuer', 'Heerstr. 22', 'Leipzig', '04179', 'Germany'), (44, 'Lehmanns Marktstand', 'Renate Messner', 'Magazinweg 7', 'Frankfurt a.M.', '60528', 'Germany'), (39, 'Königlich Essen', 'Philip Cramer', 'Maubelstr. 90', 'Brandenburg', '14776', 'Germany'), (25, 'Frankenversand', 'Peter Franken', 'Berliner Platz 43', 'München', '80805', 'Germany'), (17, 'Drachenblut Delikatessend', 'Sven Ottlieb', 'Walserweg 21', 'Aachen', '52066', 'Germany'), (86, 'Die Wandernde Kuh', 'Rita Müller', 'Adenauerallee 900', 'Stuttgart', '70563', 'Germany'), (6, 'Blauer See Delikatessen', 'Hanna Moos', 'Forsterstr. 57', 'Mannheim', '68306', 'Germany'), (1, 'Alfreds Futterkiste', 'Maria Anders', 'Obere Str. 57', 'Berlin', '12209', 'Germany'), (37, 'Hungry Owl All-Night Grocers', 'Patricia McKenna', '8 Johnstown Road', 'Cork', '', 'Ireland'), (66, 'Reggiani Caseifici', 'Maurizio Moroni', 'Strada Provinciale 124', 'Reggio Emilia', '42100', 'Italy'), (49, 'Magazzini Alimentari Riuniti', 'Giovanni Rovelli', 'Via Ludovico il Moro 22', 'Bergamo', '24100', 'Italy'), (27, 'Franchi S.p.A.', 'Paolo Accorti', 'Via Monte Bianco 34', 'Torino', '10100', 'Italy'), (80, 'Tortuga Restaurante', 'Miguel Angel Paolino', 'Avda. Azteca 123', 'México D.F.', '05033', 'Mexico'), (58, 'Pericles Comidas clásicas', 'Guillermo Fernández', 'Calle Dr. Jorge Cash 321', 'México D.F.', '05033', 'Mexico'), (13, 'Centro comercial Moctezuma', 'Francisco Chang', 'Sierras de Granada 9993', 'México D.F.', '05022', 'Mexico'), (3, 'Antonio Moreno Taquería', 'Antonio Moreno', 'Mataderos 2312', 'México D.F.', '05023', 'Mexico'), (2, 'Ana Trujillo Emparedados y helados', 'Ana Trujillo', 'Avda. de la Constitución 2222', 'México D.F.', '05021', 'Mexico'), (70, 'Santé Gourmet', 'Jonas Bergulfsen', 'Erling Skakkes gate 78', 'Stavern', '4110', 'Norway'), (91, 'Wolski', 'Zbyszek', 'ul. Filtrowa 68', 'Walla', '01-012', 'Poland'), (60, 'Princesa Isabel Vinhoss', 'Isabel de Castro', 'Estrada da saúde n. 58', 'Lisboa', '1756', 'Portugal'), (28, 'Furia Bacalhau e Frutos do Mar', 'Lino Rodriguez', 'Jardim das rosas n. 32', 'Lisboa', '1675', 'Portugal'), (69, 'Romero y tomillo', 'Alejandra Camino', 'Gran Vía, 1', 'Madrid', '28001', 'Spain'), (30, 'Godos Cocina Típica', 'José Pedro Freyre', 'C/ Romero, 33', 'Sevilla', '41101', 'Spain'), (29, 'Galería del gastrónomo', 'Eduardo Saavedra', 'Rambla de Cataluña, 23', 'Barcelona', '08022', 'Spain'), (22, 'FISSA Fabrica Inter. Salchichas S.A.', 'Diego Roel', 'C/ Moralzarzal, 86', 'Madrid', '28034', 'Spain'), (8, 'Bólido Comidas preparadas', 'Martín Sommer', 'C/ Araquil, 67', 'Madrid', '28023', 'Spain'), (24, 'Folk och fä HB', 'Maria Larsson', 'Åkergatan 24', 'Bräcke', 'S-844 67', 'Sweden'), (5, 'Berglunds snabbköp', 'Christina Berglund', 'Berguvsvägen 8', 'Luleå', 'S-958 22', 'Sweden'), (68, 'Richter Supermarkt', 'Michael Holz', 'Grenzacherweg 237', 'Genève', '1203', 'Switzerland'), (14, 'Chop-suey Chinese', 'Yang Wang', 'Hauptstr. 29', 'Bern', '3012', 'Switzerland'), (72, 'Seven Seas Imports', 'Hari Kumar', '90 Wadhurst Rd.', 'London', 'OX15 4NB', 'UK'), (53, 'North/South', 'Simon Crowther', 'South House 300 Queensbridge', 'London', 'SW7 1RZ', 'UK'), (38, 'Island Trading', 'Helen Bennett', 'Garden House Crowther Way', 'Cowes', 'PO31 7PJ', 'UK'), (19, 'Eastern Connection', 'Ann Devon', '35 King George', 'London', 'WX3 6FW', 'UK'), (16, 'Consolidated Holdings', 'Elizabeth Brown', 'Berkeley Gardens 12 Brewery', 'London', 'WX1 6LT', 'UK'), (11, \"B's Beverages\", 'Victoria Ashworth', 'Fauntleroy Circus', 'London', 'EC2 5NT', 'UK'), (4, 'Around the Horn', 'Thomas Hardy', '120 Hanover Sq.', 'London', 'WA1 1DP', 'UK'), (89, 'White Clover Markets', 'Karl Jablonski', '305 - 14th Ave. S. Suite 3B', 'Seattle', '98128', 'USA'), (82, \"Trail's Head Gourmet Provisioners\", 'Helvetius Nagy', '722 DaVinci Blvd.', 'Kirkland', '98034', 'USA'), (78, 'The Cracker Box', 'Liu Wong', '55 Grizzly Peak Rd.', 'Butte', '59801', 'USA'), (77, 'The Big Cheese', 'Liz Nixon', '89 Jefferson Way Suite 2', 'Portland', '97201', 'USA'), (75, 'Split Rail Beer & Ale', 'Art Braunschweiger', 'P.O. Box 555', 'Lander', '82520', 'USA'), (71, 'Save-a-lot Markets', 'Jose Pavarotti', '187 Suffolk Ln.', 'Boise', '83720', 'USA'), (65, 'Rattlesnake Canyon Grocery', 'Paula Wilson', '2817 Milton Dr.', 'Albuquerque', '87110', 'USA'), (55, 'Old World Delicatessen', 'Rene Phillips', '2743 Bering St.', 'Anchorage', '99508', 'USA'), (48, 'Lonesome Pine Restaurant', 'Fran Wilson', '89 Chiaroscuro Rd.', 'Portland', '97219', 'USA'), (45, \"Let's Stop N Shop\", 'Jaime Yorres', '87 Polk St. Suite 5', 'San Francisco', '94117', 'USA'), (43, 'Lazy K Kountry Store', 'John Steel', '12 Orchestra Terrace', 'Walla Walla', '99362', 'USA'), (36, 'Hungry Coyote Import Store', 'Yoshi Latimer', 'City Center Plaza 516 Main St.', 'Elgin', '97827', 'USA'), (32, 'Great Lakes Food Market', 'Howard Snyder', '2732 Baker Blvd.', 'Eugene', '97403', 'USA'), (47, 'LINO-Delicateses', 'Felipe Izquierdo', 'Ave. 5 de Mayo Porlamar', 'I. de Margarita', '4980', 'Venezuela'), (46, 'LILA-Supermercado', 'Carlos González', 'Carrera 52 con Ave. Bolívar #65-98 Llano Largo', 'Barquisimeto', '3508', 'Venezuela'), (35, 'HILARIÓN-Abastos', 'Carlos Hernández', 'Carrera 22 con Ave. Carlos Soublette #8-35', 'San Cristóbal', '5022', 'Venezuela'), (33, 'GROSELLA-Restaurante', 'Manuel Pereira', '5ª Ave. Los Palos Grandes', 'Caracas', '1081', 'Venezuela')]\n"
     ]
    }
   ],
   "execution_count": 15
  },
  {
   "metadata": {
    "ExecuteTime": {
     "end_time": "2024-07-04T04:27:02.737126Z",
     "start_time": "2024-07-04T04:27:02.735084Z"
    }
   },
   "cell_type": "code",
   "source": [
    "print(select_query(\"\"\"\n",
    "SELECT *\n",
    "FROM Customers\n",
    "WHERE Country = 'Spain' AND CustomerName LIKE 'G%';\n",
    "\"\"\"))"
   ],
   "id": "87d39eb45c50b0a",
   "outputs": [
    {
     "name": "stdout",
     "output_type": "stream",
     "text": [
      "[(29, 'Galería del gastrónomo', 'Eduardo Saavedra', 'Rambla de Cataluña, 23', 'Barcelona', '08022', 'Spain'), (30, 'Godos Cocina Típica', 'José Pedro Freyre', 'C/ Romero, 33', 'Sevilla', '41101', 'Spain')]\n"
     ]
    }
   ],
   "execution_count": 16
  },
  {
   "metadata": {
    "ExecuteTime": {
     "end_time": "2024-07-04T04:27:02.794804Z",
     "start_time": "2024-07-04T04:27:02.792661Z"
    }
   },
   "cell_type": "code",
   "source": [
    "print(select_query(\"\"\"\n",
    "SELECT * FROM Customers\n",
    "WHERE Country = 'Germany'\n",
    "AND City = 'Berlin'\n",
    "AND PostalCode > 12000;\n",
    "\"\"\"))"
   ],
   "id": "cb0fee9d73678557",
   "outputs": [
    {
     "name": "stdout",
     "output_type": "stream",
     "text": [
      "[(1, 'Alfreds Futterkiste', 'Maria Anders', 'Obere Str. 57', 'Berlin', '12209', 'Germany')]\n"
     ]
    }
   ],
   "execution_count": 17
  },
  {
   "metadata": {
    "ExecuteTime": {
     "end_time": "2024-07-04T04:27:02.888345Z",
     "start_time": "2024-07-04T04:27:02.886331Z"
    }
   },
   "cell_type": "code",
   "source": [
    "print(select_query(\"\"\"\n",
    "SELECT * FROM Customers\n",
    "WHERE Country = 'Spain' AND (CustomerName LIKE 'G%' OR CustomerName LIKE 'R%');\n",
    "\"\"\"))"
   ],
   "id": "160a946117fa582e",
   "outputs": [
    {
     "name": "stdout",
     "output_type": "stream",
     "text": [
      "[(29, 'Galería del gastrónomo', 'Eduardo Saavedra', 'Rambla de Cataluña, 23', 'Barcelona', '08022', 'Spain'), (30, 'Godos Cocina Típica', 'José Pedro Freyre', 'C/ Romero, 33', 'Sevilla', '41101', 'Spain'), (69, 'Romero y tomillo', 'Alejandra Camino', 'Gran Vía, 1', 'Madrid', '28001', 'Spain')]\n"
     ]
    }
   ],
   "execution_count": 18
  },
  {
   "metadata": {
    "ExecuteTime": {
     "end_time": "2024-07-04T04:27:02.912874Z",
     "start_time": "2024-07-04T04:27:02.910774Z"
    }
   },
   "cell_type": "code",
   "source": [
    "print(select_query(\"\"\"\n",
    "SELECT * FROM Customers\n",
    "WHERE Country = 'Spain' AND CustomerName LIKE 'G%' OR CustomerName LIKE 'R%';\n",
    "\"\"\"))"
   ],
   "id": "554db3e0802afbff",
   "outputs": [
    {
     "name": "stdout",
     "output_type": "stream",
     "text": [
      "[(29, 'Galería del gastrónomo', 'Eduardo Saavedra', 'Rambla de Cataluña, 23', 'Barcelona', '08022', 'Spain'), (30, 'Godos Cocina Típica', 'José Pedro Freyre', 'C/ Romero, 33', 'Sevilla', '41101', 'Spain'), (64, 'Rancho grande', 'Sergio Gutiérrez', 'Av. del Libertador 900', 'Buenos Aires', '1010', 'Argentina'), (65, 'Rattlesnake Canyon Grocery', 'Paula Wilson', '2817 Milton Dr.', 'Albuquerque', '87110', 'USA'), (66, 'Reggiani Caseifici', 'Maurizio Moroni', 'Strada Provinciale 124', 'Reggio Emilia', '42100', 'Italy'), (67, 'Ricardo Adocicados', 'Janete Limeira', 'Av. Copacabana, 267', 'Rio de Janeiro', '02389-890', 'Brazil'), (68, 'Richter Supermarkt', 'Michael Holz', 'Grenzacherweg 237', 'Genève', '1203', 'Switzerland'), (69, 'Romero y tomillo', 'Alejandra Camino', 'Gran Vía, 1', 'Madrid', '28001', 'Spain')]\n"
     ]
    }
   ],
   "execution_count": 19
  },
  {
   "metadata": {
    "ExecuteTime": {
     "end_time": "2024-07-04T04:27:03.006311Z",
     "start_time": "2024-07-04T04:27:03.004163Z"
    }
   },
   "cell_type": "code",
   "source": [
    "print(select_query(\"\"\"\n",
    "SELECT *\n",
    "FROM Customers\n",
    "WHERE Country = 'Germany' OR Country = 'Spain';\n",
    "\"\"\"))"
   ],
   "id": "c94b01081846940e",
   "outputs": [
    {
     "name": "stdout",
     "output_type": "stream",
     "text": [
      "[(1, 'Alfreds Futterkiste', 'Maria Anders', 'Obere Str. 57', 'Berlin', '12209', 'Germany'), (6, 'Blauer See Delikatessen', 'Hanna Moos', 'Forsterstr. 57', 'Mannheim', '68306', 'Germany'), (8, 'Bólido Comidas preparadas', 'Martín Sommer', 'C/ Araquil, 67', 'Madrid', '28023', 'Spain'), (17, 'Drachenblut Delikatessend', 'Sven Ottlieb', 'Walserweg 21', 'Aachen', '52066', 'Germany'), (22, 'FISSA Fabrica Inter. Salchichas S.A.', 'Diego Roel', 'C/ Moralzarzal, 86', 'Madrid', '28034', 'Spain'), (25, 'Frankenversand', 'Peter Franken', 'Berliner Platz 43', 'München', '80805', 'Germany'), (29, 'Galería del gastrónomo', 'Eduardo Saavedra', 'Rambla de Cataluña, 23', 'Barcelona', '08022', 'Spain'), (30, 'Godos Cocina Típica', 'José Pedro Freyre', 'C/ Romero, 33', 'Sevilla', '41101', 'Spain'), (39, 'Königlich Essen', 'Philip Cramer', 'Maubelstr. 90', 'Brandenburg', '14776', 'Germany'), (44, 'Lehmanns Marktstand', 'Renate Messner', 'Magazinweg 7', 'Frankfurt a.M.', '60528', 'Germany'), (52, 'Morgenstern Gesundkost', 'Alexander Feuer', 'Heerstr. 22', 'Leipzig', '04179', 'Germany'), (56, 'Ottilies Käseladen', 'Henriette Pfalzheim', 'Mehrheimerstr. 369', 'Köln', '50739', 'Germany'), (63, 'QUICK-Stop', 'Horst Kloss', 'Taucherstraße 10', 'Cunewalde', '01307', 'Germany'), (69, 'Romero y tomillo', 'Alejandra Camino', 'Gran Vía, 1', 'Madrid', '28001', 'Spain'), (79, 'Toms Spezialitäten', 'Karin Josephs', 'Luisenstr. 48', 'Münster', '44087', 'Germany'), (86, 'Die Wandernde Kuh', 'Rita Müller', 'Adenauerallee 900', 'Stuttgart', '70563', 'Germany')]\n"
     ]
    }
   ],
   "execution_count": 20
  },
  {
   "metadata": {
    "ExecuteTime": {
     "end_time": "2024-07-04T04:27:03.042933Z",
     "start_time": "2024-07-04T04:27:03.040815Z"
    }
   },
   "cell_type": "code",
   "source": [
    "print(select_query(\"\"\"\n",
    "SELECT * FROM Customers\n",
    "WHERE City = 'Berlin' OR CustomerName LIKE 'G%' OR Country = 'Norway';\n",
    "\"\"\"))"
   ],
   "id": "16f35deca2943fb5",
   "outputs": [
    {
     "name": "stdout",
     "output_type": "stream",
     "text": [
      "[(1, 'Alfreds Futterkiste', 'Maria Anders', 'Obere Str. 57', 'Berlin', '12209', 'Germany'), (29, 'Galería del gastrónomo', 'Eduardo Saavedra', 'Rambla de Cataluña, 23', 'Barcelona', '08022', 'Spain'), (30, 'Godos Cocina Típica', 'José Pedro Freyre', 'C/ Romero, 33', 'Sevilla', '41101', 'Spain'), (31, 'Gourmet Lanchonetes', 'André Fonseca', 'Av. Brasil, 442', 'Campinas', '04876-786', 'Brazil'), (32, 'Great Lakes Food Market', 'Howard Snyder', '2732 Baker Blvd.', 'Eugene', '97403', 'USA'), (33, 'GROSELLA-Restaurante', 'Manuel Pereira', '5ª Ave. Los Palos Grandes', 'Caracas', '1081', 'Venezuela'), (70, 'Santé Gourmet', 'Jonas Bergulfsen', 'Erling Skakkes gate 78', 'Stavern', '4110', 'Norway')]\n"
     ]
    }
   ],
   "execution_count": 21
  },
  {
   "metadata": {
    "ExecuteTime": {
     "end_time": "2024-07-04T04:27:03.130642Z",
     "start_time": "2024-07-04T04:27:03.128532Z"
    }
   },
   "cell_type": "code",
   "source": [
    "print(select_query(\"\"\"\n",
    "SELECT * FROM Customers\n",
    "WHERE Country = 'Spain' AND (CustomerName LIKE 'G%' OR CustomerName LIKE 'R%');\n",
    "\"\"\"))"
   ],
   "id": "ea7ee760ac9a1d97",
   "outputs": [
    {
     "name": "stdout",
     "output_type": "stream",
     "text": [
      "[(29, 'Galería del gastrónomo', 'Eduardo Saavedra', 'Rambla de Cataluña, 23', 'Barcelona', '08022', 'Spain'), (30, 'Godos Cocina Típica', 'José Pedro Freyre', 'C/ Romero, 33', 'Sevilla', '41101', 'Spain'), (69, 'Romero y tomillo', 'Alejandra Camino', 'Gran Vía, 1', 'Madrid', '28001', 'Spain')]\n"
     ]
    }
   ],
   "execution_count": 22
  },
  {
   "metadata": {
    "ExecuteTime": {
     "end_time": "2024-07-04T04:27:03.199069Z",
     "start_time": "2024-07-04T04:27:03.196704Z"
    }
   },
   "cell_type": "code",
   "source": [
    "print(select_query(\"\"\"\n",
    "SELECT * FROM Customers\n",
    "WHERE Country = 'Spain' AND CustomerName LIKE 'G%' OR CustomerName LIKE 'R%';\n",
    "\"\"\"))"
   ],
   "id": "4225a851a727d438",
   "outputs": [
    {
     "name": "stdout",
     "output_type": "stream",
     "text": [
      "[(29, 'Galería del gastrónomo', 'Eduardo Saavedra', 'Rambla de Cataluña, 23', 'Barcelona', '08022', 'Spain'), (30, 'Godos Cocina Típica', 'José Pedro Freyre', 'C/ Romero, 33', 'Sevilla', '41101', 'Spain'), (64, 'Rancho grande', 'Sergio Gutiérrez', 'Av. del Libertador 900', 'Buenos Aires', '1010', 'Argentina'), (65, 'Rattlesnake Canyon Grocery', 'Paula Wilson', '2817 Milton Dr.', 'Albuquerque', '87110', 'USA'), (66, 'Reggiani Caseifici', 'Maurizio Moroni', 'Strada Provinciale 124', 'Reggio Emilia', '42100', 'Italy'), (67, 'Ricardo Adocicados', 'Janete Limeira', 'Av. Copacabana, 267', 'Rio de Janeiro', '02389-890', 'Brazil'), (68, 'Richter Supermarkt', 'Michael Holz', 'Grenzacherweg 237', 'Genève', '1203', 'Switzerland'), (69, 'Romero y tomillo', 'Alejandra Camino', 'Gran Vía, 1', 'Madrid', '28001', 'Spain')]\n"
     ]
    }
   ],
   "execution_count": 23
  },
  {
   "metadata": {
    "ExecuteTime": {
     "end_time": "2024-07-04T04:27:03.324290Z",
     "start_time": "2024-07-04T04:27:03.321852Z"
    }
   },
   "cell_type": "code",
   "source": [
    "print(select_query(\"\"\"\n",
    "SELECT * FROM Customers\n",
    "WHERE NOT Country = 'Spain';\n",
    "\"\"\"))"
   ],
   "id": "3464cc578f7665e3",
   "outputs": [
    {
     "name": "stdout",
     "output_type": "stream",
     "text": [
      "[(1, 'Alfreds Futterkiste', 'Maria Anders', 'Obere Str. 57', 'Berlin', '12209', 'Germany'), (2, 'Ana Trujillo Emparedados y helados', 'Ana Trujillo', 'Avda. de la Constitución 2222', 'México D.F.', '05021', 'Mexico'), (3, 'Antonio Moreno Taquería', 'Antonio Moreno', 'Mataderos 2312', 'México D.F.', '05023', 'Mexico'), (4, 'Around the Horn', 'Thomas Hardy', '120 Hanover Sq.', 'London', 'WA1 1DP', 'UK'), (5, 'Berglunds snabbköp', 'Christina Berglund', 'Berguvsvägen 8', 'Luleå', 'S-958 22', 'Sweden'), (6, 'Blauer See Delikatessen', 'Hanna Moos', 'Forsterstr. 57', 'Mannheim', '68306', 'Germany'), (7, 'Blondel père et fils', 'Frédérique Citeaux', '24, place Kléber', 'Strasbourg', '67000', 'France'), (9, \"Bon app'\", 'Laurence Lebihans', '12, rue des Bouchers', 'Marseille', '13008', 'France'), (10, 'Bottom-Dollar Marketse', 'Elizabeth Lincoln', '23 Tsawassen Blvd.', 'Tsawassen', 'T2F 8M4', 'Canada'), (11, \"B's Beverages\", 'Victoria Ashworth', 'Fauntleroy Circus', 'London', 'EC2 5NT', 'UK'), (12, 'Cactus Comidas para llevar', 'Patricio Simpson', 'Cerrito 333', 'Buenos Aires', '1010', 'Argentina'), (13, 'Centro comercial Moctezuma', 'Francisco Chang', 'Sierras de Granada 9993', 'México D.F.', '05022', 'Mexico'), (14, 'Chop-suey Chinese', 'Yang Wang', 'Hauptstr. 29', 'Bern', '3012', 'Switzerland'), (15, 'Comércio Mineiro', 'Pedro Afonso', 'Av. dos Lusíadas, 23', 'São Paulo', '05432-043', 'Brazil'), (16, 'Consolidated Holdings', 'Elizabeth Brown', 'Berkeley Gardens 12 Brewery', 'London', 'WX1 6LT', 'UK'), (17, 'Drachenblut Delikatessend', 'Sven Ottlieb', 'Walserweg 21', 'Aachen', '52066', 'Germany'), (18, 'Du monde entier', 'Janine Labrune', '67, rue des Cinquante Otages', 'Nantes', '44000', 'France'), (19, 'Eastern Connection', 'Ann Devon', '35 King George', 'London', 'WX3 6FW', 'UK'), (20, 'Ernst Handel', 'Roland Mendel', 'Kirchgasse 6', 'Graz', '8010', 'Austria'), (21, 'Familia Arquibaldo', 'Aria Cruz', 'Rua Orós, 92', 'São Paulo', '05442-030', 'Brazil'), (23, 'Folies gourmandes', 'Martine Rancé', '184, chaussée de Tournai', 'Lille', '59000', 'France'), (24, 'Folk och fä HB', 'Maria Larsson', 'Åkergatan 24', 'Bräcke', 'S-844 67', 'Sweden'), (25, 'Frankenversand', 'Peter Franken', 'Berliner Platz 43', 'München', '80805', 'Germany'), (26, 'France restauration', 'Carine Schmitt', '54, rue Royale', 'Nantes', '44000', 'France'), (27, 'Franchi S.p.A.', 'Paolo Accorti', 'Via Monte Bianco 34', 'Torino', '10100', 'Italy'), (28, 'Furia Bacalhau e Frutos do Mar', 'Lino Rodriguez', 'Jardim das rosas n. 32', 'Lisboa', '1675', 'Portugal'), (31, 'Gourmet Lanchonetes', 'André Fonseca', 'Av. Brasil, 442', 'Campinas', '04876-786', 'Brazil'), (32, 'Great Lakes Food Market', 'Howard Snyder', '2732 Baker Blvd.', 'Eugene', '97403', 'USA'), (33, 'GROSELLA-Restaurante', 'Manuel Pereira', '5ª Ave. Los Palos Grandes', 'Caracas', '1081', 'Venezuela'), (34, 'Hanari Carnes', 'Mario Pontes', 'Rua do Paço, 67', 'Rio de Janeiro', '05454-876', 'Brazil'), (35, 'HILARIÓN-Abastos', 'Carlos Hernández', 'Carrera 22 con Ave. Carlos Soublette #8-35', 'San Cristóbal', '5022', 'Venezuela'), (36, 'Hungry Coyote Import Store', 'Yoshi Latimer', 'City Center Plaza 516 Main St.', 'Elgin', '97827', 'USA'), (37, 'Hungry Owl All-Night Grocers', 'Patricia McKenna', '8 Johnstown Road', 'Cork', '', 'Ireland'), (38, 'Island Trading', 'Helen Bennett', 'Garden House Crowther Way', 'Cowes', 'PO31 7PJ', 'UK'), (39, 'Königlich Essen', 'Philip Cramer', 'Maubelstr. 90', 'Brandenburg', '14776', 'Germany'), (40, \"La corne d'abondance\", 'Daniel Tonini', \"67, avenue de l'Europe\", 'Versailles', '78000', 'France'), (41, \"La maison d'Asie\", 'Annette Roulet', '1 rue Alsace-Lorraine', 'Toulouse', '31000', 'France'), (42, 'Laughing Bacchus Wine Cellars', 'Yoshi Tannamuri', '1900 Oak St.', 'Vancouver', 'V3F 2K1', 'Canada'), (43, 'Lazy K Kountry Store', 'John Steel', '12 Orchestra Terrace', 'Walla Walla', '99362', 'USA'), (44, 'Lehmanns Marktstand', 'Renate Messner', 'Magazinweg 7', 'Frankfurt a.M.', '60528', 'Germany'), (45, \"Let's Stop N Shop\", 'Jaime Yorres', '87 Polk St. Suite 5', 'San Francisco', '94117', 'USA'), (46, 'LILA-Supermercado', 'Carlos González', 'Carrera 52 con Ave. Bolívar #65-98 Llano Largo', 'Barquisimeto', '3508', 'Venezuela'), (47, 'LINO-Delicateses', 'Felipe Izquierdo', 'Ave. 5 de Mayo Porlamar', 'I. de Margarita', '4980', 'Venezuela'), (48, 'Lonesome Pine Restaurant', 'Fran Wilson', '89 Chiaroscuro Rd.', 'Portland', '97219', 'USA'), (49, 'Magazzini Alimentari Riuniti', 'Giovanni Rovelli', 'Via Ludovico il Moro 22', 'Bergamo', '24100', 'Italy'), (50, 'Maison Dewey', 'Catherine Dewey', 'Rue Joseph-Bens 532', 'Bruxelles', 'B-1180', 'Belgium'), (51, 'Mère Paillarde', 'Jean Fresnière', '43 rue St. Laurent', 'Montréal', 'H1J 1C3', 'Canada'), (52, 'Morgenstern Gesundkost', 'Alexander Feuer', 'Heerstr. 22', 'Leipzig', '04179', 'Germany'), (53, 'North/South', 'Simon Crowther', 'South House 300 Queensbridge', 'London', 'SW7 1RZ', 'UK'), (54, 'Océano Atlántico Ltda.', 'Yvonne Moncada', 'Ing. Gustavo Moncada 8585 Piso 20-A', 'Buenos Aires', '1010', 'Argentina'), (55, 'Old World Delicatessen', 'Rene Phillips', '2743 Bering St.', 'Anchorage', '99508', 'USA'), (56, 'Ottilies Käseladen', 'Henriette Pfalzheim', 'Mehrheimerstr. 369', 'Köln', '50739', 'Germany'), (57, 'Paris spécialités', 'Marie Bertrand', '265, boulevard Charonne', 'Paris', '75012', 'France'), (58, 'Pericles Comidas clásicas', 'Guillermo Fernández', 'Calle Dr. Jorge Cash 321', 'México D.F.', '05033', 'Mexico'), (59, 'Piccolo und mehr', 'Georg Pipps', 'Geislweg 14', 'Salzburg', '5020', 'Austria'), (60, 'Princesa Isabel Vinhoss', 'Isabel de Castro', 'Estrada da saúde n. 58', 'Lisboa', '1756', 'Portugal'), (61, 'Que Delícia', 'Bernardo Batista', 'Rua da Panificadora, 12', 'Rio de Janeiro', '02389-673', 'Brazil'), (62, 'Queen Cozinha', 'Lúcia Carvalho', 'Alameda dos Canàrios, 891', 'São Paulo', '05487-020', 'Brazil'), (63, 'QUICK-Stop', 'Horst Kloss', 'Taucherstraße 10', 'Cunewalde', '01307', 'Germany'), (64, 'Rancho grande', 'Sergio Gutiérrez', 'Av. del Libertador 900', 'Buenos Aires', '1010', 'Argentina'), (65, 'Rattlesnake Canyon Grocery', 'Paula Wilson', '2817 Milton Dr.', 'Albuquerque', '87110', 'USA'), (66, 'Reggiani Caseifici', 'Maurizio Moroni', 'Strada Provinciale 124', 'Reggio Emilia', '42100', 'Italy'), (67, 'Ricardo Adocicados', 'Janete Limeira', 'Av. Copacabana, 267', 'Rio de Janeiro', '02389-890', 'Brazil'), (68, 'Richter Supermarkt', 'Michael Holz', 'Grenzacherweg 237', 'Genève', '1203', 'Switzerland'), (70, 'Santé Gourmet', 'Jonas Bergulfsen', 'Erling Skakkes gate 78', 'Stavern', '4110', 'Norway'), (71, 'Save-a-lot Markets', 'Jose Pavarotti', '187 Suffolk Ln.', 'Boise', '83720', 'USA'), (72, 'Seven Seas Imports', 'Hari Kumar', '90 Wadhurst Rd.', 'London', 'OX15 4NB', 'UK'), (73, 'Simons bistro', 'Jytte Petersen', 'Vinbæltet 34', 'København', '1734', 'Denmark'), (74, 'Spécialités du monde', 'Dominique Perrier', '25, rue Lauriston', 'Paris', '75016', 'France'), (75, 'Split Rail Beer & Ale', 'Art Braunschweiger', 'P.O. Box 555', 'Lander', '82520', 'USA'), (76, 'Suprêmes délices', 'Pascale Cartrain', 'Boulevard Tirou, 255', 'Charleroi', 'B-6000', 'Belgium'), (77, 'The Big Cheese', 'Liz Nixon', '89 Jefferson Way Suite 2', 'Portland', '97201', 'USA'), (78, 'The Cracker Box', 'Liu Wong', '55 Grizzly Peak Rd.', 'Butte', '59801', 'USA'), (79, 'Toms Spezialitäten', 'Karin Josephs', 'Luisenstr. 48', 'Münster', '44087', 'Germany'), (80, 'Tortuga Restaurante', 'Miguel Angel Paolino', 'Avda. Azteca 123', 'México D.F.', '05033', 'Mexico'), (81, 'Tradição Hipermercados', 'Anabela Domingues', 'Av. Inês de Castro, 414', 'São Paulo', '05634-030', 'Brazil'), (82, \"Trail's Head Gourmet Provisioners\", 'Helvetius Nagy', '722 DaVinci Blvd.', 'Kirkland', '98034', 'USA'), (83, 'Vaffeljernet', 'Palle Ibsen', 'Smagsløget 45', 'Århus', '8200', 'Denmark'), (84, 'Victuailles en stock', 'Mary Saveley', '2, rue du Commerce', 'Lyon', '69004', 'France'), (85, 'Vins et alcools Chevalier', 'Paul Henriot', \"59 rue de l'Abbaye\", 'Reims', '51100', 'France'), (86, 'Die Wandernde Kuh', 'Rita Müller', 'Adenauerallee 900', 'Stuttgart', '70563', 'Germany'), (87, 'Wartian Herkku', 'Pirkko Koskitalo', 'Torikatu 38', 'Oulu', '90110', 'Finland'), (88, 'Wellington Importadora', 'Paula Parente', 'Rua do Mercado, 12', 'Resende', '08737-363', 'Brazil'), (89, 'White Clover Markets', 'Karl Jablonski', '305 - 14th Ave. S. Suite 3B', 'Seattle', '98128', 'USA'), (90, 'Wilman Kala', 'Matti Karttunen', 'Keskuskatu 45', 'Helsinki', '21240', 'Finland'), (91, 'Wolski', 'Zbyszek', 'ul. Filtrowa 68', 'Walla', '01-012', 'Poland')]\n"
     ]
    }
   ],
   "execution_count": 24
  },
  {
   "metadata": {
    "ExecuteTime": {
     "end_time": "2024-07-04T04:27:03.351486Z",
     "start_time": "2024-07-04T04:27:03.349134Z"
    }
   },
   "cell_type": "code",
   "source": [
    "print(select_query(\"\"\"\n",
    "SELECT * FROM Customers\n",
    "WHERE CustomerName NOT LIKE 'A%';\n",
    "\"\"\"))"
   ],
   "id": "d0e3d579539b0969",
   "outputs": [
    {
     "name": "stdout",
     "output_type": "stream",
     "text": [
      "[(5, 'Berglunds snabbköp', 'Christina Berglund', 'Berguvsvägen 8', 'Luleå', 'S-958 22', 'Sweden'), (6, 'Blauer See Delikatessen', 'Hanna Moos', 'Forsterstr. 57', 'Mannheim', '68306', 'Germany'), (7, 'Blondel père et fils', 'Frédérique Citeaux', '24, place Kléber', 'Strasbourg', '67000', 'France'), (8, 'Bólido Comidas preparadas', 'Martín Sommer', 'C/ Araquil, 67', 'Madrid', '28023', 'Spain'), (9, \"Bon app'\", 'Laurence Lebihans', '12, rue des Bouchers', 'Marseille', '13008', 'France'), (10, 'Bottom-Dollar Marketse', 'Elizabeth Lincoln', '23 Tsawassen Blvd.', 'Tsawassen', 'T2F 8M4', 'Canada'), (11, \"B's Beverages\", 'Victoria Ashworth', 'Fauntleroy Circus', 'London', 'EC2 5NT', 'UK'), (12, 'Cactus Comidas para llevar', 'Patricio Simpson', 'Cerrito 333', 'Buenos Aires', '1010', 'Argentina'), (13, 'Centro comercial Moctezuma', 'Francisco Chang', 'Sierras de Granada 9993', 'México D.F.', '05022', 'Mexico'), (14, 'Chop-suey Chinese', 'Yang Wang', 'Hauptstr. 29', 'Bern', '3012', 'Switzerland'), (15, 'Comércio Mineiro', 'Pedro Afonso', 'Av. dos Lusíadas, 23', 'São Paulo', '05432-043', 'Brazil'), (16, 'Consolidated Holdings', 'Elizabeth Brown', 'Berkeley Gardens 12 Brewery', 'London', 'WX1 6LT', 'UK'), (17, 'Drachenblut Delikatessend', 'Sven Ottlieb', 'Walserweg 21', 'Aachen', '52066', 'Germany'), (18, 'Du monde entier', 'Janine Labrune', '67, rue des Cinquante Otages', 'Nantes', '44000', 'France'), (19, 'Eastern Connection', 'Ann Devon', '35 King George', 'London', 'WX3 6FW', 'UK'), (20, 'Ernst Handel', 'Roland Mendel', 'Kirchgasse 6', 'Graz', '8010', 'Austria'), (21, 'Familia Arquibaldo', 'Aria Cruz', 'Rua Orós, 92', 'São Paulo', '05442-030', 'Brazil'), (22, 'FISSA Fabrica Inter. Salchichas S.A.', 'Diego Roel', 'C/ Moralzarzal, 86', 'Madrid', '28034', 'Spain'), (23, 'Folies gourmandes', 'Martine Rancé', '184, chaussée de Tournai', 'Lille', '59000', 'France'), (24, 'Folk och fä HB', 'Maria Larsson', 'Åkergatan 24', 'Bräcke', 'S-844 67', 'Sweden'), (25, 'Frankenversand', 'Peter Franken', 'Berliner Platz 43', 'München', '80805', 'Germany'), (26, 'France restauration', 'Carine Schmitt', '54, rue Royale', 'Nantes', '44000', 'France'), (27, 'Franchi S.p.A.', 'Paolo Accorti', 'Via Monte Bianco 34', 'Torino', '10100', 'Italy'), (28, 'Furia Bacalhau e Frutos do Mar', 'Lino Rodriguez', 'Jardim das rosas n. 32', 'Lisboa', '1675', 'Portugal'), (29, 'Galería del gastrónomo', 'Eduardo Saavedra', 'Rambla de Cataluña, 23', 'Barcelona', '08022', 'Spain'), (30, 'Godos Cocina Típica', 'José Pedro Freyre', 'C/ Romero, 33', 'Sevilla', '41101', 'Spain'), (31, 'Gourmet Lanchonetes', 'André Fonseca', 'Av. Brasil, 442', 'Campinas', '04876-786', 'Brazil'), (32, 'Great Lakes Food Market', 'Howard Snyder', '2732 Baker Blvd.', 'Eugene', '97403', 'USA'), (33, 'GROSELLA-Restaurante', 'Manuel Pereira', '5ª Ave. Los Palos Grandes', 'Caracas', '1081', 'Venezuela'), (34, 'Hanari Carnes', 'Mario Pontes', 'Rua do Paço, 67', 'Rio de Janeiro', '05454-876', 'Brazil'), (35, 'HILARIÓN-Abastos', 'Carlos Hernández', 'Carrera 22 con Ave. Carlos Soublette #8-35', 'San Cristóbal', '5022', 'Venezuela'), (36, 'Hungry Coyote Import Store', 'Yoshi Latimer', 'City Center Plaza 516 Main St.', 'Elgin', '97827', 'USA'), (37, 'Hungry Owl All-Night Grocers', 'Patricia McKenna', '8 Johnstown Road', 'Cork', '', 'Ireland'), (38, 'Island Trading', 'Helen Bennett', 'Garden House Crowther Way', 'Cowes', 'PO31 7PJ', 'UK'), (39, 'Königlich Essen', 'Philip Cramer', 'Maubelstr. 90', 'Brandenburg', '14776', 'Germany'), (40, \"La corne d'abondance\", 'Daniel Tonini', \"67, avenue de l'Europe\", 'Versailles', '78000', 'France'), (41, \"La maison d'Asie\", 'Annette Roulet', '1 rue Alsace-Lorraine', 'Toulouse', '31000', 'France'), (42, 'Laughing Bacchus Wine Cellars', 'Yoshi Tannamuri', '1900 Oak St.', 'Vancouver', 'V3F 2K1', 'Canada'), (43, 'Lazy K Kountry Store', 'John Steel', '12 Orchestra Terrace', 'Walla Walla', '99362', 'USA'), (44, 'Lehmanns Marktstand', 'Renate Messner', 'Magazinweg 7', 'Frankfurt a.M.', '60528', 'Germany'), (45, \"Let's Stop N Shop\", 'Jaime Yorres', '87 Polk St. Suite 5', 'San Francisco', '94117', 'USA'), (46, 'LILA-Supermercado', 'Carlos González', 'Carrera 52 con Ave. Bolívar #65-98 Llano Largo', 'Barquisimeto', '3508', 'Venezuela'), (47, 'LINO-Delicateses', 'Felipe Izquierdo', 'Ave. 5 de Mayo Porlamar', 'I. de Margarita', '4980', 'Venezuela'), (48, 'Lonesome Pine Restaurant', 'Fran Wilson', '89 Chiaroscuro Rd.', 'Portland', '97219', 'USA'), (49, 'Magazzini Alimentari Riuniti', 'Giovanni Rovelli', 'Via Ludovico il Moro 22', 'Bergamo', '24100', 'Italy'), (50, 'Maison Dewey', 'Catherine Dewey', 'Rue Joseph-Bens 532', 'Bruxelles', 'B-1180', 'Belgium'), (51, 'Mère Paillarde', 'Jean Fresnière', '43 rue St. Laurent', 'Montréal', 'H1J 1C3', 'Canada'), (52, 'Morgenstern Gesundkost', 'Alexander Feuer', 'Heerstr. 22', 'Leipzig', '04179', 'Germany'), (53, 'North/South', 'Simon Crowther', 'South House 300 Queensbridge', 'London', 'SW7 1RZ', 'UK'), (54, 'Océano Atlántico Ltda.', 'Yvonne Moncada', 'Ing. Gustavo Moncada 8585 Piso 20-A', 'Buenos Aires', '1010', 'Argentina'), (55, 'Old World Delicatessen', 'Rene Phillips', '2743 Bering St.', 'Anchorage', '99508', 'USA'), (56, 'Ottilies Käseladen', 'Henriette Pfalzheim', 'Mehrheimerstr. 369', 'Köln', '50739', 'Germany'), (57, 'Paris spécialités', 'Marie Bertrand', '265, boulevard Charonne', 'Paris', '75012', 'France'), (58, 'Pericles Comidas clásicas', 'Guillermo Fernández', 'Calle Dr. Jorge Cash 321', 'México D.F.', '05033', 'Mexico'), (59, 'Piccolo und mehr', 'Georg Pipps', 'Geislweg 14', 'Salzburg', '5020', 'Austria'), (60, 'Princesa Isabel Vinhoss', 'Isabel de Castro', 'Estrada da saúde n. 58', 'Lisboa', '1756', 'Portugal'), (61, 'Que Delícia', 'Bernardo Batista', 'Rua da Panificadora, 12', 'Rio de Janeiro', '02389-673', 'Brazil'), (62, 'Queen Cozinha', 'Lúcia Carvalho', 'Alameda dos Canàrios, 891', 'São Paulo', '05487-020', 'Brazil'), (63, 'QUICK-Stop', 'Horst Kloss', 'Taucherstraße 10', 'Cunewalde', '01307', 'Germany'), (64, 'Rancho grande', 'Sergio Gutiérrez', 'Av. del Libertador 900', 'Buenos Aires', '1010', 'Argentina'), (65, 'Rattlesnake Canyon Grocery', 'Paula Wilson', '2817 Milton Dr.', 'Albuquerque', '87110', 'USA'), (66, 'Reggiani Caseifici', 'Maurizio Moroni', 'Strada Provinciale 124', 'Reggio Emilia', '42100', 'Italy'), (67, 'Ricardo Adocicados', 'Janete Limeira', 'Av. Copacabana, 267', 'Rio de Janeiro', '02389-890', 'Brazil'), (68, 'Richter Supermarkt', 'Michael Holz', 'Grenzacherweg 237', 'Genève', '1203', 'Switzerland'), (69, 'Romero y tomillo', 'Alejandra Camino', 'Gran Vía, 1', 'Madrid', '28001', 'Spain'), (70, 'Santé Gourmet', 'Jonas Bergulfsen', 'Erling Skakkes gate 78', 'Stavern', '4110', 'Norway'), (71, 'Save-a-lot Markets', 'Jose Pavarotti', '187 Suffolk Ln.', 'Boise', '83720', 'USA'), (72, 'Seven Seas Imports', 'Hari Kumar', '90 Wadhurst Rd.', 'London', 'OX15 4NB', 'UK'), (73, 'Simons bistro', 'Jytte Petersen', 'Vinbæltet 34', 'København', '1734', 'Denmark'), (74, 'Spécialités du monde', 'Dominique Perrier', '25, rue Lauriston', 'Paris', '75016', 'France'), (75, 'Split Rail Beer & Ale', 'Art Braunschweiger', 'P.O. Box 555', 'Lander', '82520', 'USA'), (76, 'Suprêmes délices', 'Pascale Cartrain', 'Boulevard Tirou, 255', 'Charleroi', 'B-6000', 'Belgium'), (77, 'The Big Cheese', 'Liz Nixon', '89 Jefferson Way Suite 2', 'Portland', '97201', 'USA'), (78, 'The Cracker Box', 'Liu Wong', '55 Grizzly Peak Rd.', 'Butte', '59801', 'USA'), (79, 'Toms Spezialitäten', 'Karin Josephs', 'Luisenstr. 48', 'Münster', '44087', 'Germany'), (80, 'Tortuga Restaurante', 'Miguel Angel Paolino', 'Avda. Azteca 123', 'México D.F.', '05033', 'Mexico'), (81, 'Tradição Hipermercados', 'Anabela Domingues', 'Av. Inês de Castro, 414', 'São Paulo', '05634-030', 'Brazil'), (82, \"Trail's Head Gourmet Provisioners\", 'Helvetius Nagy', '722 DaVinci Blvd.', 'Kirkland', '98034', 'USA'), (83, 'Vaffeljernet', 'Palle Ibsen', 'Smagsløget 45', 'Århus', '8200', 'Denmark'), (84, 'Victuailles en stock', 'Mary Saveley', '2, rue du Commerce', 'Lyon', '69004', 'France'), (85, 'Vins et alcools Chevalier', 'Paul Henriot', \"59 rue de l'Abbaye\", 'Reims', '51100', 'France'), (86, 'Die Wandernde Kuh', 'Rita Müller', 'Adenauerallee 900', 'Stuttgart', '70563', 'Germany'), (87, 'Wartian Herkku', 'Pirkko Koskitalo', 'Torikatu 38', 'Oulu', '90110', 'Finland'), (88, 'Wellington Importadora', 'Paula Parente', 'Rua do Mercado, 12', 'Resende', '08737-363', 'Brazil'), (89, 'White Clover Markets', 'Karl Jablonski', '305 - 14th Ave. S. Suite 3B', 'Seattle', '98128', 'USA'), (90, 'Wilman Kala', 'Matti Karttunen', 'Keskuskatu 45', 'Helsinki', '21240', 'Finland'), (91, 'Wolski', 'Zbyszek', 'ul. Filtrowa 68', 'Walla', '01-012', 'Poland')]\n"
     ]
    }
   ],
   "execution_count": 25
  },
  {
   "metadata": {
    "ExecuteTime": {
     "end_time": "2024-07-04T04:27:03.433041Z",
     "start_time": "2024-07-04T04:27:03.430876Z"
    }
   },
   "cell_type": "code",
   "source": [
    "print(select_query(\"\"\"\n",
    "SELECT * FROM Customers\n",
    "WHERE CustomerID NOT BETWEEN 10 AND 60;\n",
    "\"\"\"))"
   ],
   "id": "9dbc10e428a1a475",
   "outputs": [
    {
     "name": "stdout",
     "output_type": "stream",
     "text": [
      "[(1, 'Alfreds Futterkiste', 'Maria Anders', 'Obere Str. 57', 'Berlin', '12209', 'Germany'), (2, 'Ana Trujillo Emparedados y helados', 'Ana Trujillo', 'Avda. de la Constitución 2222', 'México D.F.', '05021', 'Mexico'), (3, 'Antonio Moreno Taquería', 'Antonio Moreno', 'Mataderos 2312', 'México D.F.', '05023', 'Mexico'), (4, 'Around the Horn', 'Thomas Hardy', '120 Hanover Sq.', 'London', 'WA1 1DP', 'UK'), (5, 'Berglunds snabbköp', 'Christina Berglund', 'Berguvsvägen 8', 'Luleå', 'S-958 22', 'Sweden'), (6, 'Blauer See Delikatessen', 'Hanna Moos', 'Forsterstr. 57', 'Mannheim', '68306', 'Germany'), (7, 'Blondel père et fils', 'Frédérique Citeaux', '24, place Kléber', 'Strasbourg', '67000', 'France'), (8, 'Bólido Comidas preparadas', 'Martín Sommer', 'C/ Araquil, 67', 'Madrid', '28023', 'Spain'), (9, \"Bon app'\", 'Laurence Lebihans', '12, rue des Bouchers', 'Marseille', '13008', 'France'), (61, 'Que Delícia', 'Bernardo Batista', 'Rua da Panificadora, 12', 'Rio de Janeiro', '02389-673', 'Brazil'), (62, 'Queen Cozinha', 'Lúcia Carvalho', 'Alameda dos Canàrios, 891', 'São Paulo', '05487-020', 'Brazil'), (63, 'QUICK-Stop', 'Horst Kloss', 'Taucherstraße 10', 'Cunewalde', '01307', 'Germany'), (64, 'Rancho grande', 'Sergio Gutiérrez', 'Av. del Libertador 900', 'Buenos Aires', '1010', 'Argentina'), (65, 'Rattlesnake Canyon Grocery', 'Paula Wilson', '2817 Milton Dr.', 'Albuquerque', '87110', 'USA'), (66, 'Reggiani Caseifici', 'Maurizio Moroni', 'Strada Provinciale 124', 'Reggio Emilia', '42100', 'Italy'), (67, 'Ricardo Adocicados', 'Janete Limeira', 'Av. Copacabana, 267', 'Rio de Janeiro', '02389-890', 'Brazil'), (68, 'Richter Supermarkt', 'Michael Holz', 'Grenzacherweg 237', 'Genève', '1203', 'Switzerland'), (69, 'Romero y tomillo', 'Alejandra Camino', 'Gran Vía, 1', 'Madrid', '28001', 'Spain'), (70, 'Santé Gourmet', 'Jonas Bergulfsen', 'Erling Skakkes gate 78', 'Stavern', '4110', 'Norway'), (71, 'Save-a-lot Markets', 'Jose Pavarotti', '187 Suffolk Ln.', 'Boise', '83720', 'USA'), (72, 'Seven Seas Imports', 'Hari Kumar', '90 Wadhurst Rd.', 'London', 'OX15 4NB', 'UK'), (73, 'Simons bistro', 'Jytte Petersen', 'Vinbæltet 34', 'København', '1734', 'Denmark'), (74, 'Spécialités du monde', 'Dominique Perrier', '25, rue Lauriston', 'Paris', '75016', 'France'), (75, 'Split Rail Beer & Ale', 'Art Braunschweiger', 'P.O. Box 555', 'Lander', '82520', 'USA'), (76, 'Suprêmes délices', 'Pascale Cartrain', 'Boulevard Tirou, 255', 'Charleroi', 'B-6000', 'Belgium'), (77, 'The Big Cheese', 'Liz Nixon', '89 Jefferson Way Suite 2', 'Portland', '97201', 'USA'), (78, 'The Cracker Box', 'Liu Wong', '55 Grizzly Peak Rd.', 'Butte', '59801', 'USA'), (79, 'Toms Spezialitäten', 'Karin Josephs', 'Luisenstr. 48', 'Münster', '44087', 'Germany'), (80, 'Tortuga Restaurante', 'Miguel Angel Paolino', 'Avda. Azteca 123', 'México D.F.', '05033', 'Mexico'), (81, 'Tradição Hipermercados', 'Anabela Domingues', 'Av. Inês de Castro, 414', 'São Paulo', '05634-030', 'Brazil'), (82, \"Trail's Head Gourmet Provisioners\", 'Helvetius Nagy', '722 DaVinci Blvd.', 'Kirkland', '98034', 'USA'), (83, 'Vaffeljernet', 'Palle Ibsen', 'Smagsløget 45', 'Århus', '8200', 'Denmark'), (84, 'Victuailles en stock', 'Mary Saveley', '2, rue du Commerce', 'Lyon', '69004', 'France'), (85, 'Vins et alcools Chevalier', 'Paul Henriot', \"59 rue de l'Abbaye\", 'Reims', '51100', 'France'), (86, 'Die Wandernde Kuh', 'Rita Müller', 'Adenauerallee 900', 'Stuttgart', '70563', 'Germany'), (87, 'Wartian Herkku', 'Pirkko Koskitalo', 'Torikatu 38', 'Oulu', '90110', 'Finland'), (88, 'Wellington Importadora', 'Paula Parente', 'Rua do Mercado, 12', 'Resende', '08737-363', 'Brazil'), (89, 'White Clover Markets', 'Karl Jablonski', '305 - 14th Ave. S. Suite 3B', 'Seattle', '98128', 'USA'), (90, 'Wilman Kala', 'Matti Karttunen', 'Keskuskatu 45', 'Helsinki', '21240', 'Finland'), (91, 'Wolski', 'Zbyszek', 'ul. Filtrowa 68', 'Walla', '01-012', 'Poland')]\n"
     ]
    }
   ],
   "execution_count": 26
  },
  {
   "metadata": {
    "ExecuteTime": {
     "end_time": "2024-07-04T04:27:03.475891Z",
     "start_time": "2024-07-04T04:27:03.473427Z"
    }
   },
   "cell_type": "code",
   "source": [
    "print(select_query(\"\"\"\n",
    "SELECT * FROM Customers\n",
    "WHERE City NOT IN ('Paris', 'London');\n",
    "\"\"\"))"
   ],
   "id": "5463dcb2fada9004",
   "outputs": [
    {
     "name": "stdout",
     "output_type": "stream",
     "text": [
      "[(1, 'Alfreds Futterkiste', 'Maria Anders', 'Obere Str. 57', 'Berlin', '12209', 'Germany'), (2, 'Ana Trujillo Emparedados y helados', 'Ana Trujillo', 'Avda. de la Constitución 2222', 'México D.F.', '05021', 'Mexico'), (3, 'Antonio Moreno Taquería', 'Antonio Moreno', 'Mataderos 2312', 'México D.F.', '05023', 'Mexico'), (5, 'Berglunds snabbköp', 'Christina Berglund', 'Berguvsvägen 8', 'Luleå', 'S-958 22', 'Sweden'), (6, 'Blauer See Delikatessen', 'Hanna Moos', 'Forsterstr. 57', 'Mannheim', '68306', 'Germany'), (7, 'Blondel père et fils', 'Frédérique Citeaux', '24, place Kléber', 'Strasbourg', '67000', 'France'), (8, 'Bólido Comidas preparadas', 'Martín Sommer', 'C/ Araquil, 67', 'Madrid', '28023', 'Spain'), (9, \"Bon app'\", 'Laurence Lebihans', '12, rue des Bouchers', 'Marseille', '13008', 'France'), (10, 'Bottom-Dollar Marketse', 'Elizabeth Lincoln', '23 Tsawassen Blvd.', 'Tsawassen', 'T2F 8M4', 'Canada'), (12, 'Cactus Comidas para llevar', 'Patricio Simpson', 'Cerrito 333', 'Buenos Aires', '1010', 'Argentina'), (13, 'Centro comercial Moctezuma', 'Francisco Chang', 'Sierras de Granada 9993', 'México D.F.', '05022', 'Mexico'), (14, 'Chop-suey Chinese', 'Yang Wang', 'Hauptstr. 29', 'Bern', '3012', 'Switzerland'), (15, 'Comércio Mineiro', 'Pedro Afonso', 'Av. dos Lusíadas, 23', 'São Paulo', '05432-043', 'Brazil'), (17, 'Drachenblut Delikatessend', 'Sven Ottlieb', 'Walserweg 21', 'Aachen', '52066', 'Germany'), (18, 'Du monde entier', 'Janine Labrune', '67, rue des Cinquante Otages', 'Nantes', '44000', 'France'), (20, 'Ernst Handel', 'Roland Mendel', 'Kirchgasse 6', 'Graz', '8010', 'Austria'), (21, 'Familia Arquibaldo', 'Aria Cruz', 'Rua Orós, 92', 'São Paulo', '05442-030', 'Brazil'), (22, 'FISSA Fabrica Inter. Salchichas S.A.', 'Diego Roel', 'C/ Moralzarzal, 86', 'Madrid', '28034', 'Spain'), (23, 'Folies gourmandes', 'Martine Rancé', '184, chaussée de Tournai', 'Lille', '59000', 'France'), (24, 'Folk och fä HB', 'Maria Larsson', 'Åkergatan 24', 'Bräcke', 'S-844 67', 'Sweden'), (25, 'Frankenversand', 'Peter Franken', 'Berliner Platz 43', 'München', '80805', 'Germany'), (26, 'France restauration', 'Carine Schmitt', '54, rue Royale', 'Nantes', '44000', 'France'), (27, 'Franchi S.p.A.', 'Paolo Accorti', 'Via Monte Bianco 34', 'Torino', '10100', 'Italy'), (28, 'Furia Bacalhau e Frutos do Mar', 'Lino Rodriguez', 'Jardim das rosas n. 32', 'Lisboa', '1675', 'Portugal'), (29, 'Galería del gastrónomo', 'Eduardo Saavedra', 'Rambla de Cataluña, 23', 'Barcelona', '08022', 'Spain'), (30, 'Godos Cocina Típica', 'José Pedro Freyre', 'C/ Romero, 33', 'Sevilla', '41101', 'Spain'), (31, 'Gourmet Lanchonetes', 'André Fonseca', 'Av. Brasil, 442', 'Campinas', '04876-786', 'Brazil'), (32, 'Great Lakes Food Market', 'Howard Snyder', '2732 Baker Blvd.', 'Eugene', '97403', 'USA'), (33, 'GROSELLA-Restaurante', 'Manuel Pereira', '5ª Ave. Los Palos Grandes', 'Caracas', '1081', 'Venezuela'), (34, 'Hanari Carnes', 'Mario Pontes', 'Rua do Paço, 67', 'Rio de Janeiro', '05454-876', 'Brazil'), (35, 'HILARIÓN-Abastos', 'Carlos Hernández', 'Carrera 22 con Ave. Carlos Soublette #8-35', 'San Cristóbal', '5022', 'Venezuela'), (36, 'Hungry Coyote Import Store', 'Yoshi Latimer', 'City Center Plaza 516 Main St.', 'Elgin', '97827', 'USA'), (37, 'Hungry Owl All-Night Grocers', 'Patricia McKenna', '8 Johnstown Road', 'Cork', '', 'Ireland'), (38, 'Island Trading', 'Helen Bennett', 'Garden House Crowther Way', 'Cowes', 'PO31 7PJ', 'UK'), (39, 'Königlich Essen', 'Philip Cramer', 'Maubelstr. 90', 'Brandenburg', '14776', 'Germany'), (40, \"La corne d'abondance\", 'Daniel Tonini', \"67, avenue de l'Europe\", 'Versailles', '78000', 'France'), (41, \"La maison d'Asie\", 'Annette Roulet', '1 rue Alsace-Lorraine', 'Toulouse', '31000', 'France'), (42, 'Laughing Bacchus Wine Cellars', 'Yoshi Tannamuri', '1900 Oak St.', 'Vancouver', 'V3F 2K1', 'Canada'), (43, 'Lazy K Kountry Store', 'John Steel', '12 Orchestra Terrace', 'Walla Walla', '99362', 'USA'), (44, 'Lehmanns Marktstand', 'Renate Messner', 'Magazinweg 7', 'Frankfurt a.M.', '60528', 'Germany'), (45, \"Let's Stop N Shop\", 'Jaime Yorres', '87 Polk St. Suite 5', 'San Francisco', '94117', 'USA'), (46, 'LILA-Supermercado', 'Carlos González', 'Carrera 52 con Ave. Bolívar #65-98 Llano Largo', 'Barquisimeto', '3508', 'Venezuela'), (47, 'LINO-Delicateses', 'Felipe Izquierdo', 'Ave. 5 de Mayo Porlamar', 'I. de Margarita', '4980', 'Venezuela'), (48, 'Lonesome Pine Restaurant', 'Fran Wilson', '89 Chiaroscuro Rd.', 'Portland', '97219', 'USA'), (49, 'Magazzini Alimentari Riuniti', 'Giovanni Rovelli', 'Via Ludovico il Moro 22', 'Bergamo', '24100', 'Italy'), (50, 'Maison Dewey', 'Catherine Dewey', 'Rue Joseph-Bens 532', 'Bruxelles', 'B-1180', 'Belgium'), (51, 'Mère Paillarde', 'Jean Fresnière', '43 rue St. Laurent', 'Montréal', 'H1J 1C3', 'Canada'), (52, 'Morgenstern Gesundkost', 'Alexander Feuer', 'Heerstr. 22', 'Leipzig', '04179', 'Germany'), (54, 'Océano Atlántico Ltda.', 'Yvonne Moncada', 'Ing. Gustavo Moncada 8585 Piso 20-A', 'Buenos Aires', '1010', 'Argentina'), (55, 'Old World Delicatessen', 'Rene Phillips', '2743 Bering St.', 'Anchorage', '99508', 'USA'), (56, 'Ottilies Käseladen', 'Henriette Pfalzheim', 'Mehrheimerstr. 369', 'Köln', '50739', 'Germany'), (58, 'Pericles Comidas clásicas', 'Guillermo Fernández', 'Calle Dr. Jorge Cash 321', 'México D.F.', '05033', 'Mexico'), (59, 'Piccolo und mehr', 'Georg Pipps', 'Geislweg 14', 'Salzburg', '5020', 'Austria'), (60, 'Princesa Isabel Vinhoss', 'Isabel de Castro', 'Estrada da saúde n. 58', 'Lisboa', '1756', 'Portugal'), (61, 'Que Delícia', 'Bernardo Batista', 'Rua da Panificadora, 12', 'Rio de Janeiro', '02389-673', 'Brazil'), (62, 'Queen Cozinha', 'Lúcia Carvalho', 'Alameda dos Canàrios, 891', 'São Paulo', '05487-020', 'Brazil'), (63, 'QUICK-Stop', 'Horst Kloss', 'Taucherstraße 10', 'Cunewalde', '01307', 'Germany'), (64, 'Rancho grande', 'Sergio Gutiérrez', 'Av. del Libertador 900', 'Buenos Aires', '1010', 'Argentina'), (65, 'Rattlesnake Canyon Grocery', 'Paula Wilson', '2817 Milton Dr.', 'Albuquerque', '87110', 'USA'), (66, 'Reggiani Caseifici', 'Maurizio Moroni', 'Strada Provinciale 124', 'Reggio Emilia', '42100', 'Italy'), (67, 'Ricardo Adocicados', 'Janete Limeira', 'Av. Copacabana, 267', 'Rio de Janeiro', '02389-890', 'Brazil'), (68, 'Richter Supermarkt', 'Michael Holz', 'Grenzacherweg 237', 'Genève', '1203', 'Switzerland'), (69, 'Romero y tomillo', 'Alejandra Camino', 'Gran Vía, 1', 'Madrid', '28001', 'Spain'), (70, 'Santé Gourmet', 'Jonas Bergulfsen', 'Erling Skakkes gate 78', 'Stavern', '4110', 'Norway'), (71, 'Save-a-lot Markets', 'Jose Pavarotti', '187 Suffolk Ln.', 'Boise', '83720', 'USA'), (73, 'Simons bistro', 'Jytte Petersen', 'Vinbæltet 34', 'København', '1734', 'Denmark'), (75, 'Split Rail Beer & Ale', 'Art Braunschweiger', 'P.O. Box 555', 'Lander', '82520', 'USA'), (76, 'Suprêmes délices', 'Pascale Cartrain', 'Boulevard Tirou, 255', 'Charleroi', 'B-6000', 'Belgium'), (77, 'The Big Cheese', 'Liz Nixon', '89 Jefferson Way Suite 2', 'Portland', '97201', 'USA'), (78, 'The Cracker Box', 'Liu Wong', '55 Grizzly Peak Rd.', 'Butte', '59801', 'USA'), (79, 'Toms Spezialitäten', 'Karin Josephs', 'Luisenstr. 48', 'Münster', '44087', 'Germany'), (80, 'Tortuga Restaurante', 'Miguel Angel Paolino', 'Avda. Azteca 123', 'México D.F.', '05033', 'Mexico'), (81, 'Tradição Hipermercados', 'Anabela Domingues', 'Av. Inês de Castro, 414', 'São Paulo', '05634-030', 'Brazil'), (82, \"Trail's Head Gourmet Provisioners\", 'Helvetius Nagy', '722 DaVinci Blvd.', 'Kirkland', '98034', 'USA'), (83, 'Vaffeljernet', 'Palle Ibsen', 'Smagsløget 45', 'Århus', '8200', 'Denmark'), (84, 'Victuailles en stock', 'Mary Saveley', '2, rue du Commerce', 'Lyon', '69004', 'France'), (85, 'Vins et alcools Chevalier', 'Paul Henriot', \"59 rue de l'Abbaye\", 'Reims', '51100', 'France'), (86, 'Die Wandernde Kuh', 'Rita Müller', 'Adenauerallee 900', 'Stuttgart', '70563', 'Germany'), (87, 'Wartian Herkku', 'Pirkko Koskitalo', 'Torikatu 38', 'Oulu', '90110', 'Finland'), (88, 'Wellington Importadora', 'Paula Parente', 'Rua do Mercado, 12', 'Resende', '08737-363', 'Brazil'), (89, 'White Clover Markets', 'Karl Jablonski', '305 - 14th Ave. S. Suite 3B', 'Seattle', '98128', 'USA'), (90, 'Wilman Kala', 'Matti Karttunen', 'Keskuskatu 45', 'Helsinki', '21240', 'Finland'), (91, 'Wolski', 'Zbyszek', 'ul. Filtrowa 68', 'Walla', '01-012', 'Poland')]\n"
     ]
    }
   ],
   "execution_count": 27
  },
  {
   "metadata": {
    "ExecuteTime": {
     "end_time": "2024-07-04T04:27:03.556788Z",
     "start_time": "2024-07-04T04:27:03.554530Z"
    }
   },
   "cell_type": "code",
   "source": [
    "print(select_query(\"\"\"\n",
    "SELECT * FROM Customers\n",
    "WHERE NOT CustomerID > 50;\n",
    "\"\"\"))"
   ],
   "id": "2f1f60cc1eefce93",
   "outputs": [
    {
     "name": "stdout",
     "output_type": "stream",
     "text": [
      "[(1, 'Alfreds Futterkiste', 'Maria Anders', 'Obere Str. 57', 'Berlin', '12209', 'Germany'), (2, 'Ana Trujillo Emparedados y helados', 'Ana Trujillo', 'Avda. de la Constitución 2222', 'México D.F.', '05021', 'Mexico'), (3, 'Antonio Moreno Taquería', 'Antonio Moreno', 'Mataderos 2312', 'México D.F.', '05023', 'Mexico'), (4, 'Around the Horn', 'Thomas Hardy', '120 Hanover Sq.', 'London', 'WA1 1DP', 'UK'), (5, 'Berglunds snabbköp', 'Christina Berglund', 'Berguvsvägen 8', 'Luleå', 'S-958 22', 'Sweden'), (6, 'Blauer See Delikatessen', 'Hanna Moos', 'Forsterstr. 57', 'Mannheim', '68306', 'Germany'), (7, 'Blondel père et fils', 'Frédérique Citeaux', '24, place Kléber', 'Strasbourg', '67000', 'France'), (8, 'Bólido Comidas preparadas', 'Martín Sommer', 'C/ Araquil, 67', 'Madrid', '28023', 'Spain'), (9, \"Bon app'\", 'Laurence Lebihans', '12, rue des Bouchers', 'Marseille', '13008', 'France'), (10, 'Bottom-Dollar Marketse', 'Elizabeth Lincoln', '23 Tsawassen Blvd.', 'Tsawassen', 'T2F 8M4', 'Canada'), (11, \"B's Beverages\", 'Victoria Ashworth', 'Fauntleroy Circus', 'London', 'EC2 5NT', 'UK'), (12, 'Cactus Comidas para llevar', 'Patricio Simpson', 'Cerrito 333', 'Buenos Aires', '1010', 'Argentina'), (13, 'Centro comercial Moctezuma', 'Francisco Chang', 'Sierras de Granada 9993', 'México D.F.', '05022', 'Mexico'), (14, 'Chop-suey Chinese', 'Yang Wang', 'Hauptstr. 29', 'Bern', '3012', 'Switzerland'), (15, 'Comércio Mineiro', 'Pedro Afonso', 'Av. dos Lusíadas, 23', 'São Paulo', '05432-043', 'Brazil'), (16, 'Consolidated Holdings', 'Elizabeth Brown', 'Berkeley Gardens 12 Brewery', 'London', 'WX1 6LT', 'UK'), (17, 'Drachenblut Delikatessend', 'Sven Ottlieb', 'Walserweg 21', 'Aachen', '52066', 'Germany'), (18, 'Du monde entier', 'Janine Labrune', '67, rue des Cinquante Otages', 'Nantes', '44000', 'France'), (19, 'Eastern Connection', 'Ann Devon', '35 King George', 'London', 'WX3 6FW', 'UK'), (20, 'Ernst Handel', 'Roland Mendel', 'Kirchgasse 6', 'Graz', '8010', 'Austria'), (21, 'Familia Arquibaldo', 'Aria Cruz', 'Rua Orós, 92', 'São Paulo', '05442-030', 'Brazil'), (22, 'FISSA Fabrica Inter. Salchichas S.A.', 'Diego Roel', 'C/ Moralzarzal, 86', 'Madrid', '28034', 'Spain'), (23, 'Folies gourmandes', 'Martine Rancé', '184, chaussée de Tournai', 'Lille', '59000', 'France'), (24, 'Folk och fä HB', 'Maria Larsson', 'Åkergatan 24', 'Bräcke', 'S-844 67', 'Sweden'), (25, 'Frankenversand', 'Peter Franken', 'Berliner Platz 43', 'München', '80805', 'Germany'), (26, 'France restauration', 'Carine Schmitt', '54, rue Royale', 'Nantes', '44000', 'France'), (27, 'Franchi S.p.A.', 'Paolo Accorti', 'Via Monte Bianco 34', 'Torino', '10100', 'Italy'), (28, 'Furia Bacalhau e Frutos do Mar', 'Lino Rodriguez', 'Jardim das rosas n. 32', 'Lisboa', '1675', 'Portugal'), (29, 'Galería del gastrónomo', 'Eduardo Saavedra', 'Rambla de Cataluña, 23', 'Barcelona', '08022', 'Spain'), (30, 'Godos Cocina Típica', 'José Pedro Freyre', 'C/ Romero, 33', 'Sevilla', '41101', 'Spain'), (31, 'Gourmet Lanchonetes', 'André Fonseca', 'Av. Brasil, 442', 'Campinas', '04876-786', 'Brazil'), (32, 'Great Lakes Food Market', 'Howard Snyder', '2732 Baker Blvd.', 'Eugene', '97403', 'USA'), (33, 'GROSELLA-Restaurante', 'Manuel Pereira', '5ª Ave. Los Palos Grandes', 'Caracas', '1081', 'Venezuela'), (34, 'Hanari Carnes', 'Mario Pontes', 'Rua do Paço, 67', 'Rio de Janeiro', '05454-876', 'Brazil'), (35, 'HILARIÓN-Abastos', 'Carlos Hernández', 'Carrera 22 con Ave. Carlos Soublette #8-35', 'San Cristóbal', '5022', 'Venezuela'), (36, 'Hungry Coyote Import Store', 'Yoshi Latimer', 'City Center Plaza 516 Main St.', 'Elgin', '97827', 'USA'), (37, 'Hungry Owl All-Night Grocers', 'Patricia McKenna', '8 Johnstown Road', 'Cork', '', 'Ireland'), (38, 'Island Trading', 'Helen Bennett', 'Garden House Crowther Way', 'Cowes', 'PO31 7PJ', 'UK'), (39, 'Königlich Essen', 'Philip Cramer', 'Maubelstr. 90', 'Brandenburg', '14776', 'Germany'), (40, \"La corne d'abondance\", 'Daniel Tonini', \"67, avenue de l'Europe\", 'Versailles', '78000', 'France'), (41, \"La maison d'Asie\", 'Annette Roulet', '1 rue Alsace-Lorraine', 'Toulouse', '31000', 'France'), (42, 'Laughing Bacchus Wine Cellars', 'Yoshi Tannamuri', '1900 Oak St.', 'Vancouver', 'V3F 2K1', 'Canada'), (43, 'Lazy K Kountry Store', 'John Steel', '12 Orchestra Terrace', 'Walla Walla', '99362', 'USA'), (44, 'Lehmanns Marktstand', 'Renate Messner', 'Magazinweg 7', 'Frankfurt a.M.', '60528', 'Germany'), (45, \"Let's Stop N Shop\", 'Jaime Yorres', '87 Polk St. Suite 5', 'San Francisco', '94117', 'USA'), (46, 'LILA-Supermercado', 'Carlos González', 'Carrera 52 con Ave. Bolívar #65-98 Llano Largo', 'Barquisimeto', '3508', 'Venezuela'), (47, 'LINO-Delicateses', 'Felipe Izquierdo', 'Ave. 5 de Mayo Porlamar', 'I. de Margarita', '4980', 'Venezuela'), (48, 'Lonesome Pine Restaurant', 'Fran Wilson', '89 Chiaroscuro Rd.', 'Portland', '97219', 'USA'), (49, 'Magazzini Alimentari Riuniti', 'Giovanni Rovelli', 'Via Ludovico il Moro 22', 'Bergamo', '24100', 'Italy'), (50, 'Maison Dewey', 'Catherine Dewey', 'Rue Joseph-Bens 532', 'Bruxelles', 'B-1180', 'Belgium')]\n"
     ]
    }
   ],
   "execution_count": 28
  },
  {
   "metadata": {
    "ExecuteTime": {
     "end_time": "2024-07-04T04:27:03.631862Z",
     "start_time": "2024-07-04T04:27:03.629559Z"
    }
   },
   "cell_type": "code",
   "source": [
    "print(select_query(\"\"\"\n",
    "SELECT * FROM Customers\n",
    "WHERE NOT CustomerId < 50;\n",
    "\"\"\"))"
   ],
   "id": "73b226621a936cbe",
   "outputs": [
    {
     "name": "stdout",
     "output_type": "stream",
     "text": [
      "[(50, 'Maison Dewey', 'Catherine Dewey', 'Rue Joseph-Bens 532', 'Bruxelles', 'B-1180', 'Belgium'), (51, 'Mère Paillarde', 'Jean Fresnière', '43 rue St. Laurent', 'Montréal', 'H1J 1C3', 'Canada'), (52, 'Morgenstern Gesundkost', 'Alexander Feuer', 'Heerstr. 22', 'Leipzig', '04179', 'Germany'), (53, 'North/South', 'Simon Crowther', 'South House 300 Queensbridge', 'London', 'SW7 1RZ', 'UK'), (54, 'Océano Atlántico Ltda.', 'Yvonne Moncada', 'Ing. Gustavo Moncada 8585 Piso 20-A', 'Buenos Aires', '1010', 'Argentina'), (55, 'Old World Delicatessen', 'Rene Phillips', '2743 Bering St.', 'Anchorage', '99508', 'USA'), (56, 'Ottilies Käseladen', 'Henriette Pfalzheim', 'Mehrheimerstr. 369', 'Köln', '50739', 'Germany'), (57, 'Paris spécialités', 'Marie Bertrand', '265, boulevard Charonne', 'Paris', '75012', 'France'), (58, 'Pericles Comidas clásicas', 'Guillermo Fernández', 'Calle Dr. Jorge Cash 321', 'México D.F.', '05033', 'Mexico'), (59, 'Piccolo und mehr', 'Georg Pipps', 'Geislweg 14', 'Salzburg', '5020', 'Austria'), (60, 'Princesa Isabel Vinhoss', 'Isabel de Castro', 'Estrada da saúde n. 58', 'Lisboa', '1756', 'Portugal'), (61, 'Que Delícia', 'Bernardo Batista', 'Rua da Panificadora, 12', 'Rio de Janeiro', '02389-673', 'Brazil'), (62, 'Queen Cozinha', 'Lúcia Carvalho', 'Alameda dos Canàrios, 891', 'São Paulo', '05487-020', 'Brazil'), (63, 'QUICK-Stop', 'Horst Kloss', 'Taucherstraße 10', 'Cunewalde', '01307', 'Germany'), (64, 'Rancho grande', 'Sergio Gutiérrez', 'Av. del Libertador 900', 'Buenos Aires', '1010', 'Argentina'), (65, 'Rattlesnake Canyon Grocery', 'Paula Wilson', '2817 Milton Dr.', 'Albuquerque', '87110', 'USA'), (66, 'Reggiani Caseifici', 'Maurizio Moroni', 'Strada Provinciale 124', 'Reggio Emilia', '42100', 'Italy'), (67, 'Ricardo Adocicados', 'Janete Limeira', 'Av. Copacabana, 267', 'Rio de Janeiro', '02389-890', 'Brazil'), (68, 'Richter Supermarkt', 'Michael Holz', 'Grenzacherweg 237', 'Genève', '1203', 'Switzerland'), (69, 'Romero y tomillo', 'Alejandra Camino', 'Gran Vía, 1', 'Madrid', '28001', 'Spain'), (70, 'Santé Gourmet', 'Jonas Bergulfsen', 'Erling Skakkes gate 78', 'Stavern', '4110', 'Norway'), (71, 'Save-a-lot Markets', 'Jose Pavarotti', '187 Suffolk Ln.', 'Boise', '83720', 'USA'), (72, 'Seven Seas Imports', 'Hari Kumar', '90 Wadhurst Rd.', 'London', 'OX15 4NB', 'UK'), (73, 'Simons bistro', 'Jytte Petersen', 'Vinbæltet 34', 'København', '1734', 'Denmark'), (74, 'Spécialités du monde', 'Dominique Perrier', '25, rue Lauriston', 'Paris', '75016', 'France'), (75, 'Split Rail Beer & Ale', 'Art Braunschweiger', 'P.O. Box 555', 'Lander', '82520', 'USA'), (76, 'Suprêmes délices', 'Pascale Cartrain', 'Boulevard Tirou, 255', 'Charleroi', 'B-6000', 'Belgium'), (77, 'The Big Cheese', 'Liz Nixon', '89 Jefferson Way Suite 2', 'Portland', '97201', 'USA'), (78, 'The Cracker Box', 'Liu Wong', '55 Grizzly Peak Rd.', 'Butte', '59801', 'USA'), (79, 'Toms Spezialitäten', 'Karin Josephs', 'Luisenstr. 48', 'Münster', '44087', 'Germany'), (80, 'Tortuga Restaurante', 'Miguel Angel Paolino', 'Avda. Azteca 123', 'México D.F.', '05033', 'Mexico'), (81, 'Tradição Hipermercados', 'Anabela Domingues', 'Av. Inês de Castro, 414', 'São Paulo', '05634-030', 'Brazil'), (82, \"Trail's Head Gourmet Provisioners\", 'Helvetius Nagy', '722 DaVinci Blvd.', 'Kirkland', '98034', 'USA'), (83, 'Vaffeljernet', 'Palle Ibsen', 'Smagsløget 45', 'Århus', '8200', 'Denmark'), (84, 'Victuailles en stock', 'Mary Saveley', '2, rue du Commerce', 'Lyon', '69004', 'France'), (85, 'Vins et alcools Chevalier', 'Paul Henriot', \"59 rue de l'Abbaye\", 'Reims', '51100', 'France'), (86, 'Die Wandernde Kuh', 'Rita Müller', 'Adenauerallee 900', 'Stuttgart', '70563', 'Germany'), (87, 'Wartian Herkku', 'Pirkko Koskitalo', 'Torikatu 38', 'Oulu', '90110', 'Finland'), (88, 'Wellington Importadora', 'Paula Parente', 'Rua do Mercado, 12', 'Resende', '08737-363', 'Brazil'), (89, 'White Clover Markets', 'Karl Jablonski', '305 - 14th Ave. S. Suite 3B', 'Seattle', '98128', 'USA'), (90, 'Wilman Kala', 'Matti Karttunen', 'Keskuskatu 45', 'Helsinki', '21240', 'Finland'), (91, 'Wolski', 'Zbyszek', 'ul. Filtrowa 68', 'Walla', '01-012', 'Poland')]\n"
     ]
    }
   ],
   "execution_count": 29
  },
  {
   "metadata": {},
   "cell_type": "markdown",
   "source": "",
   "id": "fe0672e7b8c13d7"
  },
  {
   "metadata": {
    "ExecuteTime": {
     "end_time": "2024-07-04T04:27:03.743414Z",
     "start_time": "2024-07-04T04:27:03.740543Z"
    }
   },
   "cell_type": "code",
   "source": [
    "with sqlite3.connect(db_name) as conn:\n",
    "    cur = conn.cursor()\n",
    "    cur.execute(\"\"\"\n",
    "    INSERT INTO Customers (CustomerName, City, Country)\n",
    "            VALUES ('Cardinal', 'Stavanger', 'Norway');\n",
    "    \"\"\")\n",
    "    cur.execute(\"\"\"\n",
    "SELECT * FROM Customers ORDER BY CustomerID DESC\n",
    "LIMIT 1;\n",
    "\"\"\")\n",
    "    print(cur.fetchall())\n",
    "    conn.rollback()\n"
   ],
   "id": "899625376a7bf06f",
   "outputs": [
    {
     "name": "stdout",
     "output_type": "stream",
     "text": [
      "[(92, 'Cardinal', None, None, 'Stavanger', None, 'Norway')]\n"
     ]
    }
   ],
   "execution_count": 30
  },
  {
   "metadata": {
    "ExecuteTime": {
     "end_time": "2024-07-04T04:27:03.827428Z",
     "start_time": "2024-07-04T04:27:03.824436Z"
    }
   },
   "cell_type": "code",
   "source": [
    "\n",
    "with sqlite3.connect(db_name) as conn:\n",
    "    cur = conn.cursor()\n",
    "    cur.execute(\"\"\"\n",
    "INSERT INTO Customers (CustomerName, ContactName, Address, City, PostalCode, Country)\n",
    "VALUES\n",
    "('Cardinal', 'Tom B. Erichsen', 'Skagen 21', 'Stavanger', '4006', 'Norway'),\n",
    "('Greasy Burger', 'Per Olsen', 'Gateveien 15', 'Sandnes', '4306', 'Norway'),\n",
    "('Tasty Tee', 'Finn Egan', 'Streetroad 19B', 'Liverpool', 'L1 0AA', 'UK');\n",
    "    \"\"\")\n",
    "    cur.execute(\"\"\"\n",
    "SELECT * FROM Customers ORDER BY CustomerID DESC\n",
    "LIMIT 5;\n",
    "\"\"\")\n",
    "    print(cur.fetchall())\n",
    "    conn.rollback()\n",
    "\n"
   ],
   "id": "a357a4df63b1a589",
   "outputs": [
    {
     "name": "stdout",
     "output_type": "stream",
     "text": [
      "[(94, 'Tasty Tee', 'Finn Egan', 'Streetroad 19B', 'Liverpool', 'L1 0AA', 'UK'), (93, 'Greasy Burger', 'Per Olsen', 'Gateveien 15', 'Sandnes', '4306', 'Norway'), (92, 'Cardinal', 'Tom B. Erichsen', 'Skagen 21', 'Stavanger', '4006', 'Norway'), (91, 'Wolski', 'Zbyszek', 'ul. Filtrowa 68', 'Walla', '01-012', 'Poland'), (90, 'Wilman Kala', 'Matti Karttunen', 'Keskuskatu 45', 'Helsinki', '21240', 'Finland')]\n"
     ]
    }
   ],
   "execution_count": 31
  },
  {
   "metadata": {
    "ExecuteTime": {
     "end_time": "2024-07-04T04:27:04.005959Z",
     "start_time": "2024-07-04T04:27:04.003866Z"
    }
   },
   "cell_type": "code",
   "source": [
    "print(select_query(\"\"\"\n",
    "SELECT CustomerName, ContactName, Address\n",
    "FROM Customers\n",
    "WHERE Address IS NULL;\n",
    "\"\"\"))"
   ],
   "id": "a6a2d58af91e3f02",
   "outputs": [
    {
     "name": "stdout",
     "output_type": "stream",
     "text": [
      "[]\n"
     ]
    }
   ],
   "execution_count": 32
  },
  {
   "metadata": {
    "ExecuteTime": {
     "end_time": "2024-07-04T04:27:04.036136Z",
     "start_time": "2024-07-04T04:27:04.034031Z"
    }
   },
   "cell_type": "code",
   "source": [
    "print(select_query(\"\"\"\n",
    "SELECT CustomerName, ContactName, Address\n",
    "FROM Customers\n",
    "WHERE Address IS NOT NULL;\n",
    "\"\"\"))"
   ],
   "id": "c1cf042a2fca7362",
   "outputs": [
    {
     "name": "stdout",
     "output_type": "stream",
     "text": [
      "[('Alfreds Futterkiste', 'Maria Anders', 'Obere Str. 57'), ('Ana Trujillo Emparedados y helados', 'Ana Trujillo', 'Avda. de la Constitución 2222'), ('Antonio Moreno Taquería', 'Antonio Moreno', 'Mataderos 2312'), ('Around the Horn', 'Thomas Hardy', '120 Hanover Sq.'), ('Berglunds snabbköp', 'Christina Berglund', 'Berguvsvägen 8'), ('Blauer See Delikatessen', 'Hanna Moos', 'Forsterstr. 57'), ('Blondel père et fils', 'Frédérique Citeaux', '24, place Kléber'), ('Bólido Comidas preparadas', 'Martín Sommer', 'C/ Araquil, 67'), (\"Bon app'\", 'Laurence Lebihans', '12, rue des Bouchers'), ('Bottom-Dollar Marketse', 'Elizabeth Lincoln', '23 Tsawassen Blvd.'), (\"B's Beverages\", 'Victoria Ashworth', 'Fauntleroy Circus'), ('Cactus Comidas para llevar', 'Patricio Simpson', 'Cerrito 333'), ('Centro comercial Moctezuma', 'Francisco Chang', 'Sierras de Granada 9993'), ('Chop-suey Chinese', 'Yang Wang', 'Hauptstr. 29'), ('Comércio Mineiro', 'Pedro Afonso', 'Av. dos Lusíadas, 23'), ('Consolidated Holdings', 'Elizabeth Brown', 'Berkeley Gardens 12 Brewery'), ('Drachenblut Delikatessend', 'Sven Ottlieb', 'Walserweg 21'), ('Du monde entier', 'Janine Labrune', '67, rue des Cinquante Otages'), ('Eastern Connection', 'Ann Devon', '35 King George'), ('Ernst Handel', 'Roland Mendel', 'Kirchgasse 6'), ('Familia Arquibaldo', 'Aria Cruz', 'Rua Orós, 92'), ('FISSA Fabrica Inter. Salchichas S.A.', 'Diego Roel', 'C/ Moralzarzal, 86'), ('Folies gourmandes', 'Martine Rancé', '184, chaussée de Tournai'), ('Folk och fä HB', 'Maria Larsson', 'Åkergatan 24'), ('Frankenversand', 'Peter Franken', 'Berliner Platz 43'), ('France restauration', 'Carine Schmitt', '54, rue Royale'), ('Franchi S.p.A.', 'Paolo Accorti', 'Via Monte Bianco 34'), ('Furia Bacalhau e Frutos do Mar', 'Lino Rodriguez', 'Jardim das rosas n. 32'), ('Galería del gastrónomo', 'Eduardo Saavedra', 'Rambla de Cataluña, 23'), ('Godos Cocina Típica', 'José Pedro Freyre', 'C/ Romero, 33'), ('Gourmet Lanchonetes', 'André Fonseca', 'Av. Brasil, 442'), ('Great Lakes Food Market', 'Howard Snyder', '2732 Baker Blvd.'), ('GROSELLA-Restaurante', 'Manuel Pereira', '5ª Ave. Los Palos Grandes'), ('Hanari Carnes', 'Mario Pontes', 'Rua do Paço, 67'), ('HILARIÓN-Abastos', 'Carlos Hernández', 'Carrera 22 con Ave. Carlos Soublette #8-35'), ('Hungry Coyote Import Store', 'Yoshi Latimer', 'City Center Plaza 516 Main St.'), ('Hungry Owl All-Night Grocers', 'Patricia McKenna', '8 Johnstown Road'), ('Island Trading', 'Helen Bennett', 'Garden House Crowther Way'), ('Königlich Essen', 'Philip Cramer', 'Maubelstr. 90'), (\"La corne d'abondance\", 'Daniel Tonini', \"67, avenue de l'Europe\"), (\"La maison d'Asie\", 'Annette Roulet', '1 rue Alsace-Lorraine'), ('Laughing Bacchus Wine Cellars', 'Yoshi Tannamuri', '1900 Oak St.'), ('Lazy K Kountry Store', 'John Steel', '12 Orchestra Terrace'), ('Lehmanns Marktstand', 'Renate Messner', 'Magazinweg 7'), (\"Let's Stop N Shop\", 'Jaime Yorres', '87 Polk St. Suite 5'), ('LILA-Supermercado', 'Carlos González', 'Carrera 52 con Ave. Bolívar #65-98 Llano Largo'), ('LINO-Delicateses', 'Felipe Izquierdo', 'Ave. 5 de Mayo Porlamar'), ('Lonesome Pine Restaurant', 'Fran Wilson', '89 Chiaroscuro Rd.'), ('Magazzini Alimentari Riuniti', 'Giovanni Rovelli', 'Via Ludovico il Moro 22'), ('Maison Dewey', 'Catherine Dewey', 'Rue Joseph-Bens 532'), ('Mère Paillarde', 'Jean Fresnière', '43 rue St. Laurent'), ('Morgenstern Gesundkost', 'Alexander Feuer', 'Heerstr. 22'), ('North/South', 'Simon Crowther', 'South House 300 Queensbridge'), ('Océano Atlántico Ltda.', 'Yvonne Moncada', 'Ing. Gustavo Moncada 8585 Piso 20-A'), ('Old World Delicatessen', 'Rene Phillips', '2743 Bering St.'), ('Ottilies Käseladen', 'Henriette Pfalzheim', 'Mehrheimerstr. 369'), ('Paris spécialités', 'Marie Bertrand', '265, boulevard Charonne'), ('Pericles Comidas clásicas', 'Guillermo Fernández', 'Calle Dr. Jorge Cash 321'), ('Piccolo und mehr', 'Georg Pipps', 'Geislweg 14'), ('Princesa Isabel Vinhoss', 'Isabel de Castro', 'Estrada da saúde n. 58'), ('Que Delícia', 'Bernardo Batista', 'Rua da Panificadora, 12'), ('Queen Cozinha', 'Lúcia Carvalho', 'Alameda dos Canàrios, 891'), ('QUICK-Stop', 'Horst Kloss', 'Taucherstraße 10'), ('Rancho grande', 'Sergio Gutiérrez', 'Av. del Libertador 900'), ('Rattlesnake Canyon Grocery', 'Paula Wilson', '2817 Milton Dr.'), ('Reggiani Caseifici', 'Maurizio Moroni', 'Strada Provinciale 124'), ('Ricardo Adocicados', 'Janete Limeira', 'Av. Copacabana, 267'), ('Richter Supermarkt', 'Michael Holz', 'Grenzacherweg 237'), ('Romero y tomillo', 'Alejandra Camino', 'Gran Vía, 1'), ('Santé Gourmet', 'Jonas Bergulfsen', 'Erling Skakkes gate 78'), ('Save-a-lot Markets', 'Jose Pavarotti', '187 Suffolk Ln.'), ('Seven Seas Imports', 'Hari Kumar', '90 Wadhurst Rd.'), ('Simons bistro', 'Jytte Petersen', 'Vinbæltet 34'), ('Spécialités du monde', 'Dominique Perrier', '25, rue Lauriston'), ('Split Rail Beer & Ale', 'Art Braunschweiger', 'P.O. Box 555'), ('Suprêmes délices', 'Pascale Cartrain', 'Boulevard Tirou, 255'), ('The Big Cheese', 'Liz Nixon', '89 Jefferson Way Suite 2'), ('The Cracker Box', 'Liu Wong', '55 Grizzly Peak Rd.'), ('Toms Spezialitäten', 'Karin Josephs', 'Luisenstr. 48'), ('Tortuga Restaurante', 'Miguel Angel Paolino', 'Avda. Azteca 123'), ('Tradição Hipermercados', 'Anabela Domingues', 'Av. Inês de Castro, 414'), (\"Trail's Head Gourmet Provisioners\", 'Helvetius Nagy', '722 DaVinci Blvd.'), ('Vaffeljernet', 'Palle Ibsen', 'Smagsløget 45'), ('Victuailles en stock', 'Mary Saveley', '2, rue du Commerce'), ('Vins et alcools Chevalier', 'Paul Henriot', \"59 rue de l'Abbaye\"), ('Die Wandernde Kuh', 'Rita Müller', 'Adenauerallee 900'), ('Wartian Herkku', 'Pirkko Koskitalo', 'Torikatu 38'), ('Wellington Importadora', 'Paula Parente', 'Rua do Mercado, 12'), ('White Clover Markets', 'Karl Jablonski', '305 - 14th Ave. S. Suite 3B'), ('Wilman Kala', 'Matti Karttunen', 'Keskuskatu 45'), ('Wolski', 'Zbyszek', 'ul. Filtrowa 68')]\n"
     ]
    }
   ],
   "execution_count": 33
  },
  {
   "metadata": {
    "ExecuteTime": {
     "end_time": "2024-07-04T04:27:04.110099Z",
     "start_time": "2024-07-04T04:27:04.106576Z"
    }
   },
   "cell_type": "code",
   "source": [
    "with sqlite3.connect(db_name) as conn:\n",
    "    cur = conn.cursor()\n",
    "    cur.execute(\"\"\"\n",
    "UPDATE Customers\n",
    "SET ContactName = 'Alfred Schmidt', City= 'Frankfurt'\n",
    "WHERE CustomerID = 1;\n",
    "\"\"\")\n",
    "    cur.execute(\"\"\"\n",
    "SELECT * FROM Customers WHERE CustomerID =1;\n",
    "\"\"\")\n",
    "    print(cur.fetchall())\n",
    "    conn.rollback()"
   ],
   "id": "13594c6510c46cae",
   "outputs": [
    {
     "name": "stdout",
     "output_type": "stream",
     "text": [
      "[(1, 'Alfreds Futterkiste', 'Alfred Schmidt', 'Obere Str. 57', 'Frankfurt', '12209', 'Germany')]\n"
     ]
    }
   ],
   "execution_count": 34
  },
  {
   "metadata": {
    "ExecuteTime": {
     "end_time": "2024-07-04T04:27:04.151605Z",
     "start_time": "2024-07-04T04:27:04.148991Z"
    }
   },
   "cell_type": "code",
   "source": [
    "with sqlite3.connect(db_name) as conn:\n",
    "    cur = conn.cursor()\n",
    "    cur.execute(\"\"\"\n",
    "UPDATE Customers\n",
    "SET ContactName='Juan'\n",
    "WHERE Country='Mexico';\n",
    "\"\"\")\n",
    "    cur.execute(\"\"\"\n",
    "SELECT * FROM Customers WHERE Country='Mexico';\n",
    "\"\"\")\n",
    "    print(cur.fetchall())\n",
    "    conn.rollback()"
   ],
   "id": "9df37a2c95251e03",
   "outputs": [
    {
     "name": "stdout",
     "output_type": "stream",
     "text": [
      "[(2, 'Ana Trujillo Emparedados y helados', 'Juan', 'Avda. de la Constitución 2222', 'México D.F.', '05021', 'Mexico'), (3, 'Antonio Moreno Taquería', 'Juan', 'Mataderos 2312', 'México D.F.', '05023', 'Mexico'), (13, 'Centro comercial Moctezuma', 'Juan', 'Sierras de Granada 9993', 'México D.F.', '05022', 'Mexico'), (58, 'Pericles Comidas clásicas', 'Juan', 'Calle Dr. Jorge Cash 321', 'México D.F.', '05033', 'Mexico'), (80, 'Tortuga Restaurante', 'Juan', 'Avda. Azteca 123', 'México D.F.', '05033', 'Mexico')]\n"
     ]
    }
   ],
   "execution_count": 35
  },
  {
   "metadata": {
    "ExecuteTime": {
     "end_time": "2024-07-04T04:27:04.242877Z",
     "start_time": "2024-07-04T04:27:04.240225Z"
    }
   },
   "cell_type": "code",
   "source": [
    "with sqlite3.connect(db_name) as conn:\n",
    "    cur = conn.cursor()\n",
    "    cur.execute(\"\"\"\n",
    "UPDATE Customers\n",
    "SET ContactName='Juan'\n",
    "\"\"\")\n",
    "    cur.execute(\"\"\"\n",
    "SELECT * FROM Customers WHERE ContactName!='Juan';\n",
    "\"\"\")\n",
    "    print(cur.fetchall())\n",
    "    conn.rollback()"
   ],
   "id": "f5923c6c9804469a",
   "outputs": [
    {
     "name": "stdout",
     "output_type": "stream",
     "text": [
      "[]\n"
     ]
    }
   ],
   "execution_count": 36
  },
  {
   "metadata": {
    "ExecuteTime": {
     "end_time": "2024-07-04T04:27:04.274756Z",
     "start_time": "2024-07-04T04:27:04.272017Z"
    }
   },
   "cell_type": "code",
   "source": [
    "with sqlite3.connect(db_name) as conn:\n",
    "    cur = conn.cursor()\n",
    "    cur.execute(\"\"\"\n",
    "SELECT * FROM Customers WHERE CustomerName='Alfreds Futterkiste';\n",
    "\"\"\")\n",
    "    print(cur.fetchall())\n",
    "    cur.execute(\"\"\"\n",
    "DELETE FROM Customers WHERE CustomerName='Alfreds Futterkiste';\n",
    "\"\"\")\n",
    "    cur.execute(\"\"\"\n",
    "SELECT * FROM Customers WHERE CustomerName='Alfreds Futterkiste';\n",
    "\"\"\")\n",
    "    print(cur.fetchall())\n",
    "    conn.rollback()"
   ],
   "id": "ca594f479d7818d0",
   "outputs": [
    {
     "name": "stdout",
     "output_type": "stream",
     "text": [
      "[(1, 'Alfreds Futterkiste', 'Maria Anders', 'Obere Str. 57', 'Berlin', '12209', 'Germany')]\n",
      "[]\n"
     ]
    }
   ],
   "execution_count": 37
  },
  {
   "metadata": {
    "ExecuteTime": {
     "end_time": "2024-07-04T04:27:04.358771Z",
     "start_time": "2024-07-04T04:27:04.355536Z"
    }
   },
   "cell_type": "code",
   "source": [
    "with sqlite3.connect(db_name) as conn:\n",
    "    cur = conn.cursor()\n",
    "    cur.execute(\"\"\"\n",
    "SELECT * FROM Customers;\n",
    "\"\"\")\n",
    "    print(cur.fetchall())\n",
    "    cur.execute(\"\"\"\n",
    "DELETE FROM Customers;\n",
    "\"\"\")\n",
    "    cur.execute(\"\"\"\n",
    "SELECT * FROM Customers;\n",
    "\"\"\")\n",
    "    print(cur.fetchall())\n",
    "    conn.rollback()"
   ],
   "id": "f6815267a86ec21b",
   "outputs": [
    {
     "name": "stdout",
     "output_type": "stream",
     "text": [
      "[(1, 'Alfreds Futterkiste', 'Maria Anders', 'Obere Str. 57', 'Berlin', '12209', 'Germany'), (2, 'Ana Trujillo Emparedados y helados', 'Ana Trujillo', 'Avda. de la Constitución 2222', 'México D.F.', '05021', 'Mexico'), (3, 'Antonio Moreno Taquería', 'Antonio Moreno', 'Mataderos 2312', 'México D.F.', '05023', 'Mexico'), (4, 'Around the Horn', 'Thomas Hardy', '120 Hanover Sq.', 'London', 'WA1 1DP', 'UK'), (5, 'Berglunds snabbköp', 'Christina Berglund', 'Berguvsvägen 8', 'Luleå', 'S-958 22', 'Sweden'), (6, 'Blauer See Delikatessen', 'Hanna Moos', 'Forsterstr. 57', 'Mannheim', '68306', 'Germany'), (7, 'Blondel père et fils', 'Frédérique Citeaux', '24, place Kléber', 'Strasbourg', '67000', 'France'), (8, 'Bólido Comidas preparadas', 'Martín Sommer', 'C/ Araquil, 67', 'Madrid', '28023', 'Spain'), (9, \"Bon app'\", 'Laurence Lebihans', '12, rue des Bouchers', 'Marseille', '13008', 'France'), (10, 'Bottom-Dollar Marketse', 'Elizabeth Lincoln', '23 Tsawassen Blvd.', 'Tsawassen', 'T2F 8M4', 'Canada'), (11, \"B's Beverages\", 'Victoria Ashworth', 'Fauntleroy Circus', 'London', 'EC2 5NT', 'UK'), (12, 'Cactus Comidas para llevar', 'Patricio Simpson', 'Cerrito 333', 'Buenos Aires', '1010', 'Argentina'), (13, 'Centro comercial Moctezuma', 'Francisco Chang', 'Sierras de Granada 9993', 'México D.F.', '05022', 'Mexico'), (14, 'Chop-suey Chinese', 'Yang Wang', 'Hauptstr. 29', 'Bern', '3012', 'Switzerland'), (15, 'Comércio Mineiro', 'Pedro Afonso', 'Av. dos Lusíadas, 23', 'São Paulo', '05432-043', 'Brazil'), (16, 'Consolidated Holdings', 'Elizabeth Brown', 'Berkeley Gardens 12 Brewery', 'London', 'WX1 6LT', 'UK'), (17, 'Drachenblut Delikatessend', 'Sven Ottlieb', 'Walserweg 21', 'Aachen', '52066', 'Germany'), (18, 'Du monde entier', 'Janine Labrune', '67, rue des Cinquante Otages', 'Nantes', '44000', 'France'), (19, 'Eastern Connection', 'Ann Devon', '35 King George', 'London', 'WX3 6FW', 'UK'), (20, 'Ernst Handel', 'Roland Mendel', 'Kirchgasse 6', 'Graz', '8010', 'Austria'), (21, 'Familia Arquibaldo', 'Aria Cruz', 'Rua Orós, 92', 'São Paulo', '05442-030', 'Brazil'), (22, 'FISSA Fabrica Inter. Salchichas S.A.', 'Diego Roel', 'C/ Moralzarzal, 86', 'Madrid', '28034', 'Spain'), (23, 'Folies gourmandes', 'Martine Rancé', '184, chaussée de Tournai', 'Lille', '59000', 'France'), (24, 'Folk och fä HB', 'Maria Larsson', 'Åkergatan 24', 'Bräcke', 'S-844 67', 'Sweden'), (25, 'Frankenversand', 'Peter Franken', 'Berliner Platz 43', 'München', '80805', 'Germany'), (26, 'France restauration', 'Carine Schmitt', '54, rue Royale', 'Nantes', '44000', 'France'), (27, 'Franchi S.p.A.', 'Paolo Accorti', 'Via Monte Bianco 34', 'Torino', '10100', 'Italy'), (28, 'Furia Bacalhau e Frutos do Mar', 'Lino Rodriguez', 'Jardim das rosas n. 32', 'Lisboa', '1675', 'Portugal'), (29, 'Galería del gastrónomo', 'Eduardo Saavedra', 'Rambla de Cataluña, 23', 'Barcelona', '08022', 'Spain'), (30, 'Godos Cocina Típica', 'José Pedro Freyre', 'C/ Romero, 33', 'Sevilla', '41101', 'Spain'), (31, 'Gourmet Lanchonetes', 'André Fonseca', 'Av. Brasil, 442', 'Campinas', '04876-786', 'Brazil'), (32, 'Great Lakes Food Market', 'Howard Snyder', '2732 Baker Blvd.', 'Eugene', '97403', 'USA'), (33, 'GROSELLA-Restaurante', 'Manuel Pereira', '5ª Ave. Los Palos Grandes', 'Caracas', '1081', 'Venezuela'), (34, 'Hanari Carnes', 'Mario Pontes', 'Rua do Paço, 67', 'Rio de Janeiro', '05454-876', 'Brazil'), (35, 'HILARIÓN-Abastos', 'Carlos Hernández', 'Carrera 22 con Ave. Carlos Soublette #8-35', 'San Cristóbal', '5022', 'Venezuela'), (36, 'Hungry Coyote Import Store', 'Yoshi Latimer', 'City Center Plaza 516 Main St.', 'Elgin', '97827', 'USA'), (37, 'Hungry Owl All-Night Grocers', 'Patricia McKenna', '8 Johnstown Road', 'Cork', '', 'Ireland'), (38, 'Island Trading', 'Helen Bennett', 'Garden House Crowther Way', 'Cowes', 'PO31 7PJ', 'UK'), (39, 'Königlich Essen', 'Philip Cramer', 'Maubelstr. 90', 'Brandenburg', '14776', 'Germany'), (40, \"La corne d'abondance\", 'Daniel Tonini', \"67, avenue de l'Europe\", 'Versailles', '78000', 'France'), (41, \"La maison d'Asie\", 'Annette Roulet', '1 rue Alsace-Lorraine', 'Toulouse', '31000', 'France'), (42, 'Laughing Bacchus Wine Cellars', 'Yoshi Tannamuri', '1900 Oak St.', 'Vancouver', 'V3F 2K1', 'Canada'), (43, 'Lazy K Kountry Store', 'John Steel', '12 Orchestra Terrace', 'Walla Walla', '99362', 'USA'), (44, 'Lehmanns Marktstand', 'Renate Messner', 'Magazinweg 7', 'Frankfurt a.M.', '60528', 'Germany'), (45, \"Let's Stop N Shop\", 'Jaime Yorres', '87 Polk St. Suite 5', 'San Francisco', '94117', 'USA'), (46, 'LILA-Supermercado', 'Carlos González', 'Carrera 52 con Ave. Bolívar #65-98 Llano Largo', 'Barquisimeto', '3508', 'Venezuela'), (47, 'LINO-Delicateses', 'Felipe Izquierdo', 'Ave. 5 de Mayo Porlamar', 'I. de Margarita', '4980', 'Venezuela'), (48, 'Lonesome Pine Restaurant', 'Fran Wilson', '89 Chiaroscuro Rd.', 'Portland', '97219', 'USA'), (49, 'Magazzini Alimentari Riuniti', 'Giovanni Rovelli', 'Via Ludovico il Moro 22', 'Bergamo', '24100', 'Italy'), (50, 'Maison Dewey', 'Catherine Dewey', 'Rue Joseph-Bens 532', 'Bruxelles', 'B-1180', 'Belgium'), (51, 'Mère Paillarde', 'Jean Fresnière', '43 rue St. Laurent', 'Montréal', 'H1J 1C3', 'Canada'), (52, 'Morgenstern Gesundkost', 'Alexander Feuer', 'Heerstr. 22', 'Leipzig', '04179', 'Germany'), (53, 'North/South', 'Simon Crowther', 'South House 300 Queensbridge', 'London', 'SW7 1RZ', 'UK'), (54, 'Océano Atlántico Ltda.', 'Yvonne Moncada', 'Ing. Gustavo Moncada 8585 Piso 20-A', 'Buenos Aires', '1010', 'Argentina'), (55, 'Old World Delicatessen', 'Rene Phillips', '2743 Bering St.', 'Anchorage', '99508', 'USA'), (56, 'Ottilies Käseladen', 'Henriette Pfalzheim', 'Mehrheimerstr. 369', 'Köln', '50739', 'Germany'), (57, 'Paris spécialités', 'Marie Bertrand', '265, boulevard Charonne', 'Paris', '75012', 'France'), (58, 'Pericles Comidas clásicas', 'Guillermo Fernández', 'Calle Dr. Jorge Cash 321', 'México D.F.', '05033', 'Mexico'), (59, 'Piccolo und mehr', 'Georg Pipps', 'Geislweg 14', 'Salzburg', '5020', 'Austria'), (60, 'Princesa Isabel Vinhoss', 'Isabel de Castro', 'Estrada da saúde n. 58', 'Lisboa', '1756', 'Portugal'), (61, 'Que Delícia', 'Bernardo Batista', 'Rua da Panificadora, 12', 'Rio de Janeiro', '02389-673', 'Brazil'), (62, 'Queen Cozinha', 'Lúcia Carvalho', 'Alameda dos Canàrios, 891', 'São Paulo', '05487-020', 'Brazil'), (63, 'QUICK-Stop', 'Horst Kloss', 'Taucherstraße 10', 'Cunewalde', '01307', 'Germany'), (64, 'Rancho grande', 'Sergio Gutiérrez', 'Av. del Libertador 900', 'Buenos Aires', '1010', 'Argentina'), (65, 'Rattlesnake Canyon Grocery', 'Paula Wilson', '2817 Milton Dr.', 'Albuquerque', '87110', 'USA'), (66, 'Reggiani Caseifici', 'Maurizio Moroni', 'Strada Provinciale 124', 'Reggio Emilia', '42100', 'Italy'), (67, 'Ricardo Adocicados', 'Janete Limeira', 'Av. Copacabana, 267', 'Rio de Janeiro', '02389-890', 'Brazil'), (68, 'Richter Supermarkt', 'Michael Holz', 'Grenzacherweg 237', 'Genève', '1203', 'Switzerland'), (69, 'Romero y tomillo', 'Alejandra Camino', 'Gran Vía, 1', 'Madrid', '28001', 'Spain'), (70, 'Santé Gourmet', 'Jonas Bergulfsen', 'Erling Skakkes gate 78', 'Stavern', '4110', 'Norway'), (71, 'Save-a-lot Markets', 'Jose Pavarotti', '187 Suffolk Ln.', 'Boise', '83720', 'USA'), (72, 'Seven Seas Imports', 'Hari Kumar', '90 Wadhurst Rd.', 'London', 'OX15 4NB', 'UK'), (73, 'Simons bistro', 'Jytte Petersen', 'Vinbæltet 34', 'København', '1734', 'Denmark'), (74, 'Spécialités du monde', 'Dominique Perrier', '25, rue Lauriston', 'Paris', '75016', 'France'), (75, 'Split Rail Beer & Ale', 'Art Braunschweiger', 'P.O. Box 555', 'Lander', '82520', 'USA'), (76, 'Suprêmes délices', 'Pascale Cartrain', 'Boulevard Tirou, 255', 'Charleroi', 'B-6000', 'Belgium'), (77, 'The Big Cheese', 'Liz Nixon', '89 Jefferson Way Suite 2', 'Portland', '97201', 'USA'), (78, 'The Cracker Box', 'Liu Wong', '55 Grizzly Peak Rd.', 'Butte', '59801', 'USA'), (79, 'Toms Spezialitäten', 'Karin Josephs', 'Luisenstr. 48', 'Münster', '44087', 'Germany'), (80, 'Tortuga Restaurante', 'Miguel Angel Paolino', 'Avda. Azteca 123', 'México D.F.', '05033', 'Mexico'), (81, 'Tradição Hipermercados', 'Anabela Domingues', 'Av. Inês de Castro, 414', 'São Paulo', '05634-030', 'Brazil'), (82, \"Trail's Head Gourmet Provisioners\", 'Helvetius Nagy', '722 DaVinci Blvd.', 'Kirkland', '98034', 'USA'), (83, 'Vaffeljernet', 'Palle Ibsen', 'Smagsløget 45', 'Århus', '8200', 'Denmark'), (84, 'Victuailles en stock', 'Mary Saveley', '2, rue du Commerce', 'Lyon', '69004', 'France'), (85, 'Vins et alcools Chevalier', 'Paul Henriot', \"59 rue de l'Abbaye\", 'Reims', '51100', 'France'), (86, 'Die Wandernde Kuh', 'Rita Müller', 'Adenauerallee 900', 'Stuttgart', '70563', 'Germany'), (87, 'Wartian Herkku', 'Pirkko Koskitalo', 'Torikatu 38', 'Oulu', '90110', 'Finland'), (88, 'Wellington Importadora', 'Paula Parente', 'Rua do Mercado, 12', 'Resende', '08737-363', 'Brazil'), (89, 'White Clover Markets', 'Karl Jablonski', '305 - 14th Ave. S. Suite 3B', 'Seattle', '98128', 'USA'), (90, 'Wilman Kala', 'Matti Karttunen', 'Keskuskatu 45', 'Helsinki', '21240', 'Finland'), (91, 'Wolski', 'Zbyszek', 'ul. Filtrowa 68', 'Walla', '01-012', 'Poland')]\n",
      "[]\n"
     ]
    }
   ],
   "execution_count": 38
  },
  {
   "metadata": {
    "ExecuteTime": {
     "end_time": "2024-07-04T04:27:04.396725Z",
     "start_time": "2024-07-04T04:27:04.395166Z"
    }
   },
   "cell_type": "code",
   "source": [
    "# with sqlite3.connect(db_name) as conn:\n",
    "#     cur = conn.cursor()\n",
    "#     cur.execute(\"\"\"\n",
    "# DROP TABLE Customers;\n",
    "# \"\"\")\n",
    "#     cur.execute(\"\"\"\n",
    "# SELECT * FROM Customers;\n",
    "# \"\"\")\n",
    "#     print(cur.fetchall())\n",
    "#     conn.rollback()"
   ],
   "id": "2d9d9b9a210a8572",
   "outputs": [],
   "execution_count": 39
  },
  {
   "metadata": {
    "ExecuteTime": {
     "end_time": "2024-07-04T04:27:04.445870Z",
     "start_time": "2024-07-04T04:27:04.444100Z"
    }
   },
   "cell_type": "code",
   "source": [
    "# print(select_query(\"\"\"\n",
    "# SELECT TOP 3 * FROM Customers;\n",
    "# \"\"\"))\n",
    "# TOP command does not work in sqlite"
   ],
   "id": "5eecb882e49da884",
   "outputs": [],
   "execution_count": 40
  },
  {
   "metadata": {
    "ExecuteTime": {
     "end_time": "2024-07-04T04:27:04.486621Z",
     "start_time": "2024-07-04T04:27:04.484465Z"
    }
   },
   "cell_type": "code",
   "source": [
    "print(select_query(\"\"\"\n",
    "SELECT * FROM Customers\n",
    "LIMIT 3;\n",
    "\"\"\"))"
   ],
   "id": "cbc3fc02f76879ed",
   "outputs": [
    {
     "name": "stdout",
     "output_type": "stream",
     "text": [
      "[(1, 'Alfreds Futterkiste', 'Maria Anders', 'Obere Str. 57', 'Berlin', '12209', 'Germany'), (2, 'Ana Trujillo Emparedados y helados', 'Ana Trujillo', 'Avda. de la Constitución 2222', 'México D.F.', '05021', 'Mexico'), (3, 'Antonio Moreno Taquería', 'Antonio Moreno', 'Mataderos 2312', 'México D.F.', '05023', 'Mexico')]\n"
     ]
    }
   ],
   "execution_count": 41
  },
  {
   "metadata": {
    "ExecuteTime": {
     "end_time": "2024-07-04T04:27:04.540298Z",
     "start_time": "2024-07-04T04:27:04.538883Z"
    }
   },
   "cell_type": "code",
   "source": [
    "# print(select_query(\"\"\"\n",
    "# SELECT * FROM Customers\n",
    "# FETCH FIRST 3 ROWS ONLY;\n",
    "# \"\"\"))"
   ],
   "id": "342b096aa30dfc71",
   "outputs": [],
   "execution_count": 42
  },
  {
   "metadata": {
    "ExecuteTime": {
     "end_time": "2024-07-04T04:27:04.572098Z",
     "start_time": "2024-07-04T04:27:04.570132Z"
    }
   },
   "cell_type": "code",
   "source": [
    "print(select_query(\"\"\"\n",
    "SELECT MIN(Price)\n",
    "FROM Products;\n",
    "\"\"\"))"
   ],
   "id": "db9ab9863427f46f",
   "outputs": [
    {
     "name": "stdout",
     "output_type": "stream",
     "text": [
      "[(2.5,)]\n"
     ]
    }
   ],
   "execution_count": 43
  },
  {
   "metadata": {
    "ExecuteTime": {
     "end_time": "2024-07-04T04:27:04.622543Z",
     "start_time": "2024-07-04T04:27:04.620668Z"
    }
   },
   "cell_type": "code",
   "source": [
    "print(select_query(\"\"\"\n",
    "SELECT MAX(Price)\n",
    "FROM Products;\n",
    "\"\"\"))"
   ],
   "id": "73cc751ae002af6a",
   "outputs": [
    {
     "name": "stdout",
     "output_type": "stream",
     "text": [
      "[(263.5,)]\n"
     ]
    }
   ],
   "execution_count": 44
  },
  {
   "metadata": {
    "ExecuteTime": {
     "end_time": "2024-07-04T04:27:04.647150Z",
     "start_time": "2024-07-04T04:27:04.645215Z"
    }
   },
   "cell_type": "code",
   "source": [
    "print(select_query(\"\"\"\n",
    "SELECT MIN(Price) AS SmallestPrice\n",
    "FROM Products;\n",
    "\"\"\"))"
   ],
   "id": "f3abfa4efa56c5a5",
   "outputs": [
    {
     "name": "stdout",
     "output_type": "stream",
     "text": [
      "[(2.5,)]\n"
     ]
    }
   ],
   "execution_count": 45
  },
  {
   "metadata": {
    "ExecuteTime": {
     "end_time": "2024-07-04T04:27:04.725501Z",
     "start_time": "2024-07-04T04:27:04.723519Z"
    }
   },
   "cell_type": "code",
   "source": [
    "print(select_query(\"\"\"\n",
    "SELECT MIN(Price) AS SmallestPrice, CategoryID\n",
    "FROM Products\n",
    "GROUP BY CategoryID;\n",
    "\"\"\"))"
   ],
   "id": "64496e306d7f0773",
   "outputs": [
    {
     "name": "stdout",
     "output_type": "stream",
     "text": [
      "[(4.5, 1), (10.0, 2), (9.2, 3), (2.5, 4), (7.0, 5), (7.45, 6), (10.0, 7), (6.0, 8)]\n"
     ]
    }
   ],
   "execution_count": 46
  },
  {
   "metadata": {
    "ExecuteTime": {
     "end_time": "2024-07-04T04:27:04.747826Z",
     "start_time": "2024-07-04T04:27:04.745942Z"
    }
   },
   "cell_type": "code",
   "source": [
    "print(select_query(\"\"\"\n",
    "SELECT COUNT(*)\n",
    "FROM Products;\n",
    "\"\"\"))"
   ],
   "id": "b3c6b1a4f6457c82",
   "outputs": [
    {
     "name": "stdout",
     "output_type": "stream",
     "text": [
      "[(77,)]\n"
     ]
    }
   ],
   "execution_count": 47
  },
  {
   "metadata": {
    "ExecuteTime": {
     "end_time": "2024-07-04T04:27:04.797185Z",
     "start_time": "2024-07-04T04:27:04.795206Z"
    }
   },
   "cell_type": "code",
   "source": [
    "print(select_query(\"\"\"\n",
    "SELECT COUNT(ProductID)\n",
    "FROM Products\n",
    "WHERE Price > 20;\n",
    "\"\"\"))"
   ],
   "id": "1007e13f96807ec8",
   "outputs": [
    {
     "name": "stdout",
     "output_type": "stream",
     "text": [
      "[(37,)]\n"
     ]
    }
   ],
   "execution_count": 48
  },
  {
   "metadata": {
    "ExecuteTime": {
     "end_time": "2024-07-04T04:27:04.863755Z",
     "start_time": "2024-07-04T04:27:04.861755Z"
    }
   },
   "cell_type": "code",
   "source": [
    "print(select_query(\"\"\"\n",
    "SELECT COUNT(DISTINCT Price)\n",
    "FROM Products;\n",
    "\"\"\"))"
   ],
   "id": "5319aa253b4a2cbc",
   "outputs": [
    {
     "name": "stdout",
     "output_type": "stream",
     "text": [
      "[(62,)]\n"
     ]
    }
   ],
   "execution_count": 49
  },
  {
   "metadata": {
    "ExecuteTime": {
     "end_time": "2024-07-04T04:27:04.945317Z",
     "start_time": "2024-07-04T04:27:04.943325Z"
    }
   },
   "cell_type": "code",
   "source": [
    "print(select_query(\"\"\"\n",
    "SELECT COUNT(*) AS [Number of records], CategoryID\n",
    "FROM Products\n",
    "GROUP BY CategoryID;\n",
    "\"\"\"))"
   ],
   "id": "9062082a0c4082e",
   "outputs": [
    {
     "name": "stdout",
     "output_type": "stream",
     "text": [
      "[(12, 1), (12, 2), (13, 3), (10, 4), (7, 5), (6, 6), (5, 7), (12, 8)]\n"
     ]
    }
   ],
   "execution_count": 50
  },
  {
   "metadata": {
    "ExecuteTime": {
     "end_time": "2024-07-04T04:27:04.974928Z",
     "start_time": "2024-07-04T04:27:04.972993Z"
    }
   },
   "cell_type": "code",
   "source": [
    "print(select_query(\"\"\"\n",
    "SELECT SUM(Quantity)\n",
    "FROM OrderDetails;\n",
    "\"\"\"))"
   ],
   "id": "3d0392074d21ef24",
   "outputs": [
    {
     "name": "stdout",
     "output_type": "stream",
     "text": [
      "[(12743,)]\n"
     ]
    }
   ],
   "execution_count": 51
  },
  {
   "metadata": {
    "ExecuteTime": {
     "end_time": "2024-07-04T04:27:05.030253Z",
     "start_time": "2024-07-04T04:27:05.028319Z"
    }
   },
   "cell_type": "code",
   "source": [
    "print(select_query(\"\"\"\n",
    "SELECT SUM(Quantity)\n",
    "FROM OrderDetails\n",
    "WHERE ProductId = 11;\n",
    "\"\"\"))"
   ],
   "id": "5f96bbd0f5fec6e9",
   "outputs": [
    {
     "name": "stdout",
     "output_type": "stream",
     "text": [
      "[(182,)]\n"
     ]
    }
   ],
   "execution_count": 52
  },
  {
   "metadata": {
    "ExecuteTime": {
     "end_time": "2024-07-04T04:27:05.064488Z",
     "start_time": "2024-07-04T04:27:05.062487Z"
    }
   },
   "cell_type": "code",
   "source": [
    "print(select_query(\"\"\"\n",
    "SELECT SUM(Quantity) AS total\n",
    "FROM OrderDetails;\n",
    "\"\"\"))"
   ],
   "id": "347399780d46aba2",
   "outputs": [
    {
     "name": "stdout",
     "output_type": "stream",
     "text": [
      "[(12743,)]\n"
     ]
    }
   ],
   "execution_count": 53
  },
  {
   "metadata": {
    "ExecuteTime": {
     "end_time": "2024-07-04T04:27:05.133349Z",
     "start_time": "2024-07-04T04:27:05.131011Z"
    }
   },
   "cell_type": "code",
   "source": [
    "print(select_query(\"\"\"\n",
    "SELECT OrderID, SUM(Quantity) AS [Total Quantity]\n",
    "FROM OrderDetails\n",
    "GROUP BY OrderID;\n",
    "\"\"\"))"
   ],
   "id": "a7db7d9992820ee",
   "outputs": [
    {
     "name": "stdout",
     "output_type": "stream",
     "text": [
      "[(10248, 27), (10249, 49), (10250, 60), (10251, 41), (10252, 105), (10253, 102), (10254, 57), (10255, 110), (10256, 27), (10257, 46), (10258, 121), (10259, 11), (10260, 102), (10261, 40), (10262, 29), (10263, 184), (10264, 60), (10265, 50), (10266, 12), (10267, 135), (10268, 14), (10269, 80), (10270, 55), (10271, 24), (10272, 70), (10273, 152), (10274, 27), (10275, 18), (10276, 25), (10277, 32), (10278, 64), (10279, 15), (10280, 62), (10281, 11), (10282, 8), (10283, 76), (10284, 61), (10285, 121), (10286, 140), (10287, 75), (10288, 13), (10289, 39), (10290, 60), (10291, 46), (10292, 20), (10293, 33), (10294, 75), (10295, 4), (10296, 57), (10297, 80), (10298, 125), (10299, 35), (10300, 50), (10301, 30), (10302, 80), (10303, 85), (10304, 42), (10305, 80), (10306, 25), (10307, 13), (10308, 6), (10309, 75), (10310, 15), (10311, 13), (10312, 58), (10313, 12), (10314, 95), (10315, 44), (10316, 80), (10317, 20), (10318, 26), (10319, 52), (10320, 30), (10321, 10), (10322, 20), (10323, 13), (10324, 241), (10325, 71), (10326, 90), (10327, 140), (10328, 59), (10329, 50), (10330, 75), (10331, 15), (10332, 66), (10333, 60), (10334, 18), (10335, 86), (10336, 18), (10337, 137), (10338, 35), (10339, 108), (10340, 72), (10341, 17), (10342, 160), (10343, 69), (10344, 105), (10345, 159), (10346, 56), (10347, 70), (10348, 40), (10349, 24), (10350, 33), (10351, 120), (10352, 30), (10353, 62), (10354, 16), (10355, 50), (10356, 62), (10357, 54), (10358, 40), (10359, 206), (10360, 138), (10361, 109), (10362, 94), (10363, 44), (10364, 35), (10365, 24), (10366, 10), (10367, 76), (10368, 78), (10369, 38), (10370, 65), (10371, 6), (10372, 164), (10373, 130), (10374, 45), (10375, 25), (10376, 42), (10377, 40), (10378, 6), (10379, 44), (10380, 74), (10381, 14), (10382, 165), (10383, 55), (10384, 43), (10385, 38), (10386, 25), (10387, 48), (10388, 75), (10389, 81), (10390, 169), (10391, 18), (10392, 50), (10393, 176), (10394, 20), (10395, 106), (10396, 121), (10397, 28), (10398, 150), (10399, 139), (10400, 86), (10401, 168), (10402, 125), (10403, 91), (10404, 100), (10405, 50), (10406, 89), (10407, 60), (10408, 51), (10409, 24), (10410, 65), (10411, 74), (10412, 20), (10413, 78), (10414, 68), (10415, 22), (10416, 50), (10417, 123), (10418, 146), (10419, 80), (10420, 50), (10421, 59), (10422, 2), (10423, 34), (10424, 139), (10425, 30), (10426, 12), (10427, 35), (10428, 20), (10429, 75), (10430, 195), (10431, 130), (10432, 50), (10433, 28), (10434, 24), (10435, 32), (10436, 99), (10437, 15), (10438, 50), (10439, 67), (10440, 208), (10441, 50), (10442, 170), (10443, 18)]\n"
     ]
    }
   ],
   "execution_count": 54
  },
  {
   "metadata": {
    "ExecuteTime": {
     "end_time": "2024-07-04T04:27:05.165038Z",
     "start_time": "2024-07-04T04:27:05.163008Z"
    }
   },
   "cell_type": "code",
   "source": [
    "print(select_query(\"\"\"\n",
    "SELECT SUM(Quantity * 10)\n",
    "FROM OrderDetails;\n",
    "\"\"\"))"
   ],
   "id": "dbee0950007a5e5d",
   "outputs": [
    {
     "name": "stdout",
     "output_type": "stream",
     "text": [
      "[(127430,)]\n"
     ]
    }
   ],
   "execution_count": 55
  },
  {
   "metadata": {
    "ExecuteTime": {
     "end_time": "2024-07-04T04:27:05.237881Z",
     "start_time": "2024-07-04T04:27:05.235576Z"
    }
   },
   "cell_type": "code",
   "source": [
    "print(select_query(\"\"\"\n",
    "SELECT SUM(Price * Quantity)\n",
    "FROM OrderDetails\n",
    "LEFT JOIN Products ON OrderDetails.ProductID = Products.ProductID;\n",
    "\"\"\"))"
   ],
   "id": "7adf7f82dd1f2c25",
   "outputs": [
    {
     "name": "stdout",
     "output_type": "stream",
     "text": [
      "[(386424.23,)]\n"
     ]
    }
   ],
   "execution_count": 56
  },
  {
   "metadata": {
    "ExecuteTime": {
     "end_time": "2024-07-04T04:27:05.278476Z",
     "start_time": "2024-07-04T04:27:05.273981Z"
    }
   },
   "cell_type": "code",
   "source": [
    "print(select_query(\"\"\"\n",
    "SELECT AVG(Price)\n",
    "FROM Products;\n",
    "\"\"\"))"
   ],
   "id": "655b354b2c82acf8",
   "outputs": [
    {
     "name": "stdout",
     "output_type": "stream",
     "text": [
      "[(28.866363636363637,)]\n"
     ]
    }
   ],
   "execution_count": 57
  },
  {
   "metadata": {
    "ExecuteTime": {
     "end_time": "2024-07-04T04:27:05.341896Z",
     "start_time": "2024-07-04T04:27:05.339622Z"
    }
   },
   "cell_type": "code",
   "source": [
    "print(select_query(\"\"\"\n",
    "SELECT AVG(Price)\n",
    "FROM Products\n",
    "WHERE CategoryID = 1;\n",
    "\"\"\"))"
   ],
   "id": "644dabe7606ca74f",
   "outputs": [
    {
     "name": "stdout",
     "output_type": "stream",
     "text": [
      "[(37.979166666666664,)]\n"
     ]
    }
   ],
   "execution_count": 58
  },
  {
   "metadata": {
    "ExecuteTime": {
     "end_time": "2024-07-04T04:27:05.424789Z",
     "start_time": "2024-07-04T04:27:05.422886Z"
    }
   },
   "cell_type": "code",
   "source": [
    "print(select_query(\"\"\"\n",
    "SELECT AVG(Price) AS [average price]\n",
    "FROM Products;\n",
    "\"\"\"))"
   ],
   "id": "b3237552617a0fb9",
   "outputs": [
    {
     "name": "stdout",
     "output_type": "stream",
     "text": [
      "[(28.866363636363637,)]\n"
     ]
    }
   ],
   "execution_count": 59
  },
  {
   "metadata": {
    "ExecuteTime": {
     "end_time": "2024-07-04T04:27:05.489256Z",
     "start_time": "2024-07-04T04:27:05.487107Z"
    }
   },
   "cell_type": "code",
   "source": [
    "print(select_query(\"\"\"\n",
    "SELECT * FROM Products\n",
    "WHERE price > (SELECT AVG(price) FROM Products);\n",
    "\"\"\"))"
   ],
   "id": "e5a8f0ecba4a5b23",
   "outputs": [
    {
     "name": "stdout",
     "output_type": "stream",
     "text": [
      "[(7, \"Uncle Bob's Organic Dried Pears\", 3, 7, '12 - 1 lb pkgs.', 30.0), (8, 'Northwoods Cranberry Sauce', 3, 2, '12 - 12 oz jars', 40.0), (9, 'Mishi Kobe Niku', 4, 6, '18 - 500 g pkgs.', 97.0), (10, 'Ikura', 4, 8, '12 - 200 ml jars', 31.0), (12, 'Queso Manchego La Pastora', 5, 4, '10 - 500 g pkgs.', 38.0), (17, 'Alice Mutton', 7, 6, '20 - 1 kg tins', 39.0), (18, 'Carnarvon Tigers', 7, 8, '16 kg pkg.', 62.5), (20, \"Sir Rodney's Marmalade\", 8, 3, '30 gift boxes', 81.0), (26, 'Gumbär Gummibärchen', 11, 3, '100 - 250 g bags', 31.23), (27, 'Schoggi Schokolade', 11, 3, '100 - 100 g pieces', 43.9), (28, 'Rössle Sauerkraut', 12, 7, '25 - 825 g cans', 45.6), (29, 'Thüringer Rostbratwurst', 12, 6, '50 bags x 30 sausgs.', 123.79), (32, 'Mascarpone Fabioli', 14, 4, '24 - 200 g pkgs.', 32.0), (38, 'Côte de Blaye', 18, 1, '12 - 75 cl bottles', 263.5), (43, 'Ipoh Coffee', 20, 1, '16 - 500 g tins', 46.0), (51, 'Manjimup Dried Apples', 24, 7, '50 - 300 g pkgs.', 53.0), (53, 'Perth Pasties', 24, 6, '48 pieces', 32.8), (56, 'Gnocchi di nonna Alice', 26, 5, '24 - 250 g pkgs.', 38.0), (59, 'Raclette Courdavault', 28, 4, '5 kg pkg.', 55.0), (60, 'Camembert Pierrot', 28, 4, '15 - 300 g rounds', 34.0), (62, 'Tarte au sucre', 29, 3, '48 pies', 49.3), (63, 'Vegie-spread', 7, 2, '15 - 625 g jars', 43.9), (64, 'Wimmers gute Semmelknödel', 12, 5, '20 bags x 4 pieces', 33.25), (69, 'Gudbrandsdalsost', 15, 4, '10 kg pkg.', 36.0), (72, 'Mozzarella di Giovanni', 14, 4, '24 - 200 g pkgs.', 34.8)]\n"
     ]
    }
   ],
   "execution_count": 60
  },
  {
   "metadata": {
    "ExecuteTime": {
     "end_time": "2024-07-04T04:27:05.509572Z",
     "start_time": "2024-07-04T04:27:05.507636Z"
    }
   },
   "cell_type": "code",
   "source": [
    "print(select_query(\"\"\"\n",
    "SELECT AVG(Price) AS AveragePrice, CategoryID\n",
    "FROM Products\n",
    "GROUP BY CategoryID;\n",
    "\"\"\"))"
   ],
   "id": "ebb7d553d9afefb8",
   "outputs": [
    {
     "name": "stdout",
     "output_type": "stream",
     "text": [
      "[(37.979166666666664, 1), (23.0625, 2), (25.16, 3), (28.73, 4), (20.25, 5), (54.00666666666667, 6), (32.37, 7), (20.6825, 8)]\n"
     ]
    }
   ],
   "execution_count": 61
  },
  {
   "metadata": {
    "ExecuteTime": {
     "end_time": "2024-07-04T04:27:05.544235Z",
     "start_time": "2024-07-04T04:27:05.542113Z"
    }
   },
   "cell_type": "code",
   "source": [
    "print(select_query(\"\"\"\n",
    "SELECT * FROM Customers\n",
    "WHERE CustomerName LIKE 'a%';\n",
    "\"\"\"))"
   ],
   "id": "79fcf747d3c7be5a",
   "outputs": [
    {
     "name": "stdout",
     "output_type": "stream",
     "text": [
      "[(1, 'Alfreds Futterkiste', 'Maria Anders', 'Obere Str. 57', 'Berlin', '12209', 'Germany'), (2, 'Ana Trujillo Emparedados y helados', 'Ana Trujillo', 'Avda. de la Constitución 2222', 'México D.F.', '05021', 'Mexico'), (3, 'Antonio Moreno Taquería', 'Antonio Moreno', 'Mataderos 2312', 'México D.F.', '05023', 'Mexico'), (4, 'Around the Horn', 'Thomas Hardy', '120 Hanover Sq.', 'London', 'WA1 1DP', 'UK')]\n"
     ]
    }
   ],
   "execution_count": 62
  },
  {
   "metadata": {
    "ExecuteTime": {
     "end_time": "2024-07-04T04:27:05.609383Z",
     "start_time": "2024-07-04T04:27:05.607557Z"
    }
   },
   "cell_type": "code",
   "source": [
    "print(select_query(\"\"\"\n",
    "SELECT * FROM Customers\n",
    "WHERE city LIKE 'L_nd__';\n",
    "\"\"\"))"
   ],
   "id": "924e4ff1d1dab19f",
   "outputs": [
    {
     "name": "stdout",
     "output_type": "stream",
     "text": [
      "[(4, 'Around the Horn', 'Thomas Hardy', '120 Hanover Sq.', 'London', 'WA1 1DP', 'UK'), (11, \"B's Beverages\", 'Victoria Ashworth', 'Fauntleroy Circus', 'London', 'EC2 5NT', 'UK'), (16, 'Consolidated Holdings', 'Elizabeth Brown', 'Berkeley Gardens 12 Brewery', 'London', 'WX1 6LT', 'UK'), (19, 'Eastern Connection', 'Ann Devon', '35 King George', 'London', 'WX3 6FW', 'UK'), (53, 'North/South', 'Simon Crowther', 'South House 300 Queensbridge', 'London', 'SW7 1RZ', 'UK'), (72, 'Seven Seas Imports', 'Hari Kumar', '90 Wadhurst Rd.', 'London', 'OX15 4NB', 'UK'), (75, 'Split Rail Beer & Ale', 'Art Braunschweiger', 'P.O. Box 555', 'Lander', '82520', 'USA')]\n"
     ]
    }
   ],
   "execution_count": 63
  },
  {
   "metadata": {
    "ExecuteTime": {
     "end_time": "2024-07-04T04:27:05.655125Z",
     "start_time": "2024-07-04T04:27:05.652921Z"
    }
   },
   "cell_type": "code",
   "source": [
    "print(select_query(\"\"\"\n",
    "SELECT * FROM Customers\n",
    "WHERE city LIKE '%L%';\n",
    "\"\"\"))"
   ],
   "id": "24b846ac21fea82",
   "outputs": [
    {
     "name": "stdout",
     "output_type": "stream",
     "text": [
      "[(1, 'Alfreds Futterkiste', 'Maria Anders', 'Obere Str. 57', 'Berlin', '12209', 'Germany'), (4, 'Around the Horn', 'Thomas Hardy', '120 Hanover Sq.', 'London', 'WA1 1DP', 'UK'), (5, 'Berglunds snabbköp', 'Christina Berglund', 'Berguvsvägen 8', 'Luleå', 'S-958 22', 'Sweden'), (9, \"Bon app'\", 'Laurence Lebihans', '12, rue des Bouchers', 'Marseille', '13008', 'France'), (11, \"B's Beverages\", 'Victoria Ashworth', 'Fauntleroy Circus', 'London', 'EC2 5NT', 'UK'), (15, 'Comércio Mineiro', 'Pedro Afonso', 'Av. dos Lusíadas, 23', 'São Paulo', '05432-043', 'Brazil'), (16, 'Consolidated Holdings', 'Elizabeth Brown', 'Berkeley Gardens 12 Brewery', 'London', 'WX1 6LT', 'UK'), (19, 'Eastern Connection', 'Ann Devon', '35 King George', 'London', 'WX3 6FW', 'UK'), (21, 'Familia Arquibaldo', 'Aria Cruz', 'Rua Orós, 92', 'São Paulo', '05442-030', 'Brazil'), (23, 'Folies gourmandes', 'Martine Rancé', '184, chaussée de Tournai', 'Lille', '59000', 'France'), (28, 'Furia Bacalhau e Frutos do Mar', 'Lino Rodriguez', 'Jardim das rosas n. 32', 'Lisboa', '1675', 'Portugal'), (29, 'Galería del gastrónomo', 'Eduardo Saavedra', 'Rambla de Cataluña, 23', 'Barcelona', '08022', 'Spain'), (30, 'Godos Cocina Típica', 'José Pedro Freyre', 'C/ Romero, 33', 'Sevilla', '41101', 'Spain'), (35, 'HILARIÓN-Abastos', 'Carlos Hernández', 'Carrera 22 con Ave. Carlos Soublette #8-35', 'San Cristóbal', '5022', 'Venezuela'), (36, 'Hungry Coyote Import Store', 'Yoshi Latimer', 'City Center Plaza 516 Main St.', 'Elgin', '97827', 'USA'), (40, \"La corne d'abondance\", 'Daniel Tonini', \"67, avenue de l'Europe\", 'Versailles', '78000', 'France'), (41, \"La maison d'Asie\", 'Annette Roulet', '1 rue Alsace-Lorraine', 'Toulouse', '31000', 'France'), (43, 'Lazy K Kountry Store', 'John Steel', '12 Orchestra Terrace', 'Walla Walla', '99362', 'USA'), (48, 'Lonesome Pine Restaurant', 'Fran Wilson', '89 Chiaroscuro Rd.', 'Portland', '97219', 'USA'), (50, 'Maison Dewey', 'Catherine Dewey', 'Rue Joseph-Bens 532', 'Bruxelles', 'B-1180', 'Belgium'), (51, 'Mère Paillarde', 'Jean Fresnière', '43 rue St. Laurent', 'Montréal', 'H1J 1C3', 'Canada'), (52, 'Morgenstern Gesundkost', 'Alexander Feuer', 'Heerstr. 22', 'Leipzig', '04179', 'Germany'), (53, 'North/South', 'Simon Crowther', 'South House 300 Queensbridge', 'London', 'SW7 1RZ', 'UK'), (56, 'Ottilies Käseladen', 'Henriette Pfalzheim', 'Mehrheimerstr. 369', 'Köln', '50739', 'Germany'), (59, 'Piccolo und mehr', 'Georg Pipps', 'Geislweg 14', 'Salzburg', '5020', 'Austria'), (60, 'Princesa Isabel Vinhoss', 'Isabel de Castro', 'Estrada da saúde n. 58', 'Lisboa', '1756', 'Portugal'), (62, 'Queen Cozinha', 'Lúcia Carvalho', 'Alameda dos Canàrios, 891', 'São Paulo', '05487-020', 'Brazil'), (63, 'QUICK-Stop', 'Horst Kloss', 'Taucherstraße 10', 'Cunewalde', '01307', 'Germany'), (65, 'Rattlesnake Canyon Grocery', 'Paula Wilson', '2817 Milton Dr.', 'Albuquerque', '87110', 'USA'), (66, 'Reggiani Caseifici', 'Maurizio Moroni', 'Strada Provinciale 124', 'Reggio Emilia', '42100', 'Italy'), (72, 'Seven Seas Imports', 'Hari Kumar', '90 Wadhurst Rd.', 'London', 'OX15 4NB', 'UK'), (75, 'Split Rail Beer & Ale', 'Art Braunschweiger', 'P.O. Box 555', 'Lander', '82520', 'USA'), (76, 'Suprêmes délices', 'Pascale Cartrain', 'Boulevard Tirou, 255', 'Charleroi', 'B-6000', 'Belgium'), (77, 'The Big Cheese', 'Liz Nixon', '89 Jefferson Way Suite 2', 'Portland', '97201', 'USA'), (81, 'Tradição Hipermercados', 'Anabela Domingues', 'Av. Inês de Castro, 414', 'São Paulo', '05634-030', 'Brazil'), (82, \"Trail's Head Gourmet Provisioners\", 'Helvetius Nagy', '722 DaVinci Blvd.', 'Kirkland', '98034', 'USA'), (84, 'Victuailles en stock', 'Mary Saveley', '2, rue du Commerce', 'Lyon', '69004', 'France'), (87, 'Wartian Herkku', 'Pirkko Koskitalo', 'Torikatu 38', 'Oulu', '90110', 'Finland'), (89, 'White Clover Markets', 'Karl Jablonski', '305 - 14th Ave. S. Suite 3B', 'Seattle', '98128', 'USA'), (90, 'Wilman Kala', 'Matti Karttunen', 'Keskuskatu 45', 'Helsinki', '21240', 'Finland'), (91, 'Wolski', 'Zbyszek', 'ul. Filtrowa 68', 'Walla', '01-012', 'Poland')]\n"
     ]
    }
   ],
   "execution_count": 64
  },
  {
   "metadata": {
    "ExecuteTime": {
     "end_time": "2024-07-04T04:27:05.702868Z",
     "start_time": "2024-07-04T04:27:05.700955Z"
    }
   },
   "cell_type": "code",
   "source": [
    "print(select_query(\"\"\"\n",
    "SELECT * FROM Customers\n",
    "WHERE CustomerName LIKE 'La%';\n",
    "\"\"\"))"
   ],
   "id": "2fdd710a3a36393e",
   "outputs": [
    {
     "name": "stdout",
     "output_type": "stream",
     "text": [
      "[(40, \"La corne d'abondance\", 'Daniel Tonini', \"67, avenue de l'Europe\", 'Versailles', '78000', 'France'), (41, \"La maison d'Asie\", 'Annette Roulet', '1 rue Alsace-Lorraine', 'Toulouse', '31000', 'France'), (42, 'Laughing Bacchus Wine Cellars', 'Yoshi Tannamuri', '1900 Oak St.', 'Vancouver', 'V3F 2K1', 'Canada'), (43, 'Lazy K Kountry Store', 'John Steel', '12 Orchestra Terrace', 'Walla Walla', '99362', 'USA')]\n"
     ]
    }
   ],
   "execution_count": 65
  },
  {
   "metadata": {
    "ExecuteTime": {
     "end_time": "2024-07-04T04:27:05.756091Z",
     "start_time": "2024-07-04T04:27:05.754008Z"
    }
   },
   "cell_type": "code",
   "source": [
    "print(select_query(\"\"\"\n",
    "SELECT * FROM Customers\n",
    "WHERE CustomerName LIKE 'a%' OR CustomerName LIKE 'b%';\n",
    "\"\"\"))"
   ],
   "id": "daa32f880d426571",
   "outputs": [
    {
     "name": "stdout",
     "output_type": "stream",
     "text": [
      "[(1, 'Alfreds Futterkiste', 'Maria Anders', 'Obere Str. 57', 'Berlin', '12209', 'Germany'), (2, 'Ana Trujillo Emparedados y helados', 'Ana Trujillo', 'Avda. de la Constitución 2222', 'México D.F.', '05021', 'Mexico'), (3, 'Antonio Moreno Taquería', 'Antonio Moreno', 'Mataderos 2312', 'México D.F.', '05023', 'Mexico'), (4, 'Around the Horn', 'Thomas Hardy', '120 Hanover Sq.', 'London', 'WA1 1DP', 'UK'), (5, 'Berglunds snabbköp', 'Christina Berglund', 'Berguvsvägen 8', 'Luleå', 'S-958 22', 'Sweden'), (6, 'Blauer See Delikatessen', 'Hanna Moos', 'Forsterstr. 57', 'Mannheim', '68306', 'Germany'), (7, 'Blondel père et fils', 'Frédérique Citeaux', '24, place Kléber', 'Strasbourg', '67000', 'France'), (8, 'Bólido Comidas preparadas', 'Martín Sommer', 'C/ Araquil, 67', 'Madrid', '28023', 'Spain'), (9, \"Bon app'\", 'Laurence Lebihans', '12, rue des Bouchers', 'Marseille', '13008', 'France'), (10, 'Bottom-Dollar Marketse', 'Elizabeth Lincoln', '23 Tsawassen Blvd.', 'Tsawassen', 'T2F 8M4', 'Canada'), (11, \"B's Beverages\", 'Victoria Ashworth', 'Fauntleroy Circus', 'London', 'EC2 5NT', 'UK')]\n"
     ]
    }
   ],
   "execution_count": 66
  },
  {
   "metadata": {
    "ExecuteTime": {
     "end_time": "2024-07-04T04:27:05.814449Z",
     "start_time": "2024-07-04T04:27:05.812426Z"
    }
   },
   "cell_type": "code",
   "source": [
    "print(select_query(\"\"\"\n",
    "SELECT * FROM Customers\n",
    "WHERE CustomerName LIKE '%a';\n",
    "\"\"\"))"
   ],
   "id": "f268df56d8fa52e8",
   "outputs": [
    {
     "name": "stdout",
     "output_type": "stream",
     "text": [
      "[(3, 'Antonio Moreno Taquería', 'Antonio Moreno', 'Mataderos 2312', 'México D.F.', '05023', 'Mexico'), (13, 'Centro comercial Moctezuma', 'Francisco Chang', 'Sierras de Granada 9993', 'México D.F.', '05022', 'Mexico'), (30, 'Godos Cocina Típica', 'José Pedro Freyre', 'C/ Romero, 33', 'Sevilla', '41101', 'Spain'), (61, 'Que Delícia', 'Bernardo Batista', 'Rua da Panificadora, 12', 'Rio de Janeiro', '02389-673', 'Brazil'), (62, 'Queen Cozinha', 'Lúcia Carvalho', 'Alameda dos Canàrios, 891', 'São Paulo', '05487-020', 'Brazil'), (88, 'Wellington Importadora', 'Paula Parente', 'Rua do Mercado, 12', 'Resende', '08737-363', 'Brazil'), (90, 'Wilman Kala', 'Matti Karttunen', 'Keskuskatu 45', 'Helsinki', '21240', 'Finland')]\n"
     ]
    }
   ],
   "execution_count": 67
  },
  {
   "metadata": {
    "ExecuteTime": {
     "end_time": "2024-07-04T04:27:05.898774Z",
     "start_time": "2024-07-04T04:27:05.896785Z"
    }
   },
   "cell_type": "code",
   "source": [
    "print(select_query(\"\"\"\n",
    "SELECT * FROM Customers\n",
    "WHERE CustomerName LIKE 'b%s';\n",
    "\"\"\"))"
   ],
   "id": "ee66292ccf48dc59",
   "outputs": [
    {
     "name": "stdout",
     "output_type": "stream",
     "text": [
      "[(7, 'Blondel père et fils', 'Frédérique Citeaux', '24, place Kléber', 'Strasbourg', '67000', 'France'), (8, 'Bólido Comidas preparadas', 'Martín Sommer', 'C/ Araquil, 67', 'Madrid', '28023', 'Spain'), (11, \"B's Beverages\", 'Victoria Ashworth', 'Fauntleroy Circus', 'London', 'EC2 5NT', 'UK')]\n"
     ]
    }
   ],
   "execution_count": 68
  },
  {
   "metadata": {
    "ExecuteTime": {
     "end_time": "2024-07-04T04:27:05.927138Z",
     "start_time": "2024-07-04T04:27:05.924894Z"
    }
   },
   "cell_type": "code",
   "source": [
    "print(select_query(\"\"\"\n",
    "SELECT * FROM Customers\n",
    "WHERE CustomerName LIKE 'a%';\n",
    "\"\"\"))"
   ],
   "id": "69bc6a3abf833027",
   "outputs": [
    {
     "name": "stdout",
     "output_type": "stream",
     "text": [
      "[(1, 'Alfreds Futterkiste', 'Maria Anders', 'Obere Str. 57', 'Berlin', '12209', 'Germany'), (2, 'Ana Trujillo Emparedados y helados', 'Ana Trujillo', 'Avda. de la Constitución 2222', 'México D.F.', '05021', 'Mexico'), (3, 'Antonio Moreno Taquería', 'Antonio Moreno', 'Mataderos 2312', 'México D.F.', '05023', 'Mexico'), (4, 'Around the Horn', 'Thomas Hardy', '120 Hanover Sq.', 'London', 'WA1 1DP', 'UK')]\n"
     ]
    }
   ],
   "execution_count": 69
  },
  {
   "metadata": {
    "ExecuteTime": {
     "end_time": "2024-07-04T04:27:06.014242Z",
     "start_time": "2024-07-04T04:27:06.012235Z"
    }
   },
   "cell_type": "code",
   "source": [
    "print(select_query(\"\"\"\n",
    "SELECT * FROM Customers\n",
    "WHERE CustomerName LIKE '%es';\n",
    "\"\"\"))"
   ],
   "id": "8b2f00612912771",
   "outputs": [
    {
     "name": "stdout",
     "output_type": "stream",
     "text": [
      "[(11, \"B's Beverages\", 'Victoria Ashworth', 'Fauntleroy Circus', 'London', 'EC2 5NT', 'UK'), (23, 'Folies gourmandes', 'Martine Rancé', '184, chaussée de Tournai', 'Lille', '59000', 'France'), (31, 'Gourmet Lanchonetes', 'André Fonseca', 'Av. Brasil, 442', 'Campinas', '04876-786', 'Brazil'), (34, 'Hanari Carnes', 'Mario Pontes', 'Rua do Paço, 67', 'Rio de Janeiro', '05454-876', 'Brazil'), (47, 'LINO-Delicateses', 'Felipe Izquierdo', 'Ave. 5 de Mayo Porlamar', 'I. de Margarita', '4980', 'Venezuela'), (76, 'Suprêmes délices', 'Pascale Cartrain', 'Boulevard Tirou, 255', 'Charleroi', 'B-6000', 'Belgium')]\n"
     ]
    }
   ],
   "execution_count": 70
  },
  {
   "metadata": {
    "ExecuteTime": {
     "end_time": "2024-07-04T04:27:06.040942Z",
     "start_time": "2024-07-04T04:27:06.038898Z"
    }
   },
   "cell_type": "code",
   "source": [
    "print(select_query(\"\"\"\n",
    "SELECT * FROM Customers\n",
    "WHERE CustomerName LIKE '%mer%';\n",
    "\"\"\"))"
   ],
   "id": "8ac7a49db607664d",
   "outputs": [
    {
     "name": "stdout",
     "output_type": "stream",
     "text": [
      "[(13, 'Centro comercial Moctezuma', 'Francisco Chang', 'Sierras de Granada 9993', 'México D.F.', '05022', 'Mexico'), (46, 'LILA-Supermercado', 'Carlos González', 'Carrera 52 con Ave. Bolívar #65-98 Llano Largo', 'Barquisimeto', '3508', 'Venezuela'), (69, 'Romero y tomillo', 'Alejandra Camino', 'Gran Vía, 1', 'Madrid', '28001', 'Spain'), (81, 'Tradição Hipermercados', 'Anabela Domingues', 'Av. Inês de Castro, 414', 'São Paulo', '05634-030', 'Brazil')]\n"
     ]
    }
   ],
   "execution_count": 71
  },
  {
   "metadata": {
    "ExecuteTime": {
     "end_time": "2024-07-04T04:27:06.142378Z",
     "start_time": "2024-07-04T04:27:06.140274Z"
    }
   },
   "cell_type": "code",
   "source": [
    "print(select_query(\"\"\"\n",
    "SELECT * FROM Customers\n",
    "WHERE City LIKE '_ondon';\n",
    "\"\"\"))"
   ],
   "id": "82b6d22582f44c3",
   "outputs": [
    {
     "name": "stdout",
     "output_type": "stream",
     "text": [
      "[(4, 'Around the Horn', 'Thomas Hardy', '120 Hanover Sq.', 'London', 'WA1 1DP', 'UK'), (11, \"B's Beverages\", 'Victoria Ashworth', 'Fauntleroy Circus', 'London', 'EC2 5NT', 'UK'), (16, 'Consolidated Holdings', 'Elizabeth Brown', 'Berkeley Gardens 12 Brewery', 'London', 'WX1 6LT', 'UK'), (19, 'Eastern Connection', 'Ann Devon', '35 King George', 'London', 'WX3 6FW', 'UK'), (53, 'North/South', 'Simon Crowther', 'South House 300 Queensbridge', 'London', 'SW7 1RZ', 'UK'), (72, 'Seven Seas Imports', 'Hari Kumar', '90 Wadhurst Rd.', 'London', 'OX15 4NB', 'UK')]\n"
     ]
    }
   ],
   "execution_count": 72
  },
  {
   "metadata": {
    "ExecuteTime": {
     "end_time": "2024-07-04T04:27:06.172882Z",
     "start_time": "2024-07-04T04:27:06.171041Z"
    }
   },
   "cell_type": "code",
   "source": [
    "print(select_query(\"\"\"\n",
    "SELECT * FROM Customers\n",
    "WHERE City LIKE 'L___on';\n",
    "\"\"\"))"
   ],
   "id": "18442387ad1233a7",
   "outputs": [
    {
     "name": "stdout",
     "output_type": "stream",
     "text": [
      "[(4, 'Around the Horn', 'Thomas Hardy', '120 Hanover Sq.', 'London', 'WA1 1DP', 'UK'), (11, \"B's Beverages\", 'Victoria Ashworth', 'Fauntleroy Circus', 'London', 'EC2 5NT', 'UK'), (16, 'Consolidated Holdings', 'Elizabeth Brown', 'Berkeley Gardens 12 Brewery', 'London', 'WX1 6LT', 'UK'), (19, 'Eastern Connection', 'Ann Devon', '35 King George', 'London', 'WX3 6FW', 'UK'), (53, 'North/South', 'Simon Crowther', 'South House 300 Queensbridge', 'London', 'SW7 1RZ', 'UK'), (72, 'Seven Seas Imports', 'Hari Kumar', '90 Wadhurst Rd.', 'London', 'OX15 4NB', 'UK')]\n"
     ]
    }
   ],
   "execution_count": 73
  },
  {
   "metadata": {
    "ExecuteTime": {
     "end_time": "2024-07-04T04:27:06.260302Z",
     "start_time": "2024-07-04T04:27:06.258195Z"
    }
   },
   "cell_type": "code",
   "source": [
    "print(select_query(\"\"\"\n",
    "SELECT * FROM Customers\n",
    "WHERE CustomerName LIKE '[bsp]%';\n",
    "\"\"\"))\n",
    "#Does not work in sqlite"
   ],
   "id": "b90a312f67a30ab6",
   "outputs": [
    {
     "name": "stdout",
     "output_type": "stream",
     "text": [
      "[]\n"
     ]
    }
   ],
   "execution_count": 74
  },
  {
   "metadata": {
    "ExecuteTime": {
     "end_time": "2024-07-04T04:27:06.286368Z",
     "start_time": "2024-07-04T04:27:06.284120Z"
    }
   },
   "cell_type": "code",
   "source": [
    "print(select_query(\"\"\"\n",
    "SELECT * FROM Customers\n",
    "WHERE Country IN ('Germany', 'France', 'UK');\n",
    "\"\"\"))"
   ],
   "id": "a8588cc41807c286",
   "outputs": [
    {
     "name": "stdout",
     "output_type": "stream",
     "text": [
      "[(1, 'Alfreds Futterkiste', 'Maria Anders', 'Obere Str. 57', 'Berlin', '12209', 'Germany'), (4, 'Around the Horn', 'Thomas Hardy', '120 Hanover Sq.', 'London', 'WA1 1DP', 'UK'), (6, 'Blauer See Delikatessen', 'Hanna Moos', 'Forsterstr. 57', 'Mannheim', '68306', 'Germany'), (7, 'Blondel père et fils', 'Frédérique Citeaux', '24, place Kléber', 'Strasbourg', '67000', 'France'), (9, \"Bon app'\", 'Laurence Lebihans', '12, rue des Bouchers', 'Marseille', '13008', 'France'), (11, \"B's Beverages\", 'Victoria Ashworth', 'Fauntleroy Circus', 'London', 'EC2 5NT', 'UK'), (16, 'Consolidated Holdings', 'Elizabeth Brown', 'Berkeley Gardens 12 Brewery', 'London', 'WX1 6LT', 'UK'), (17, 'Drachenblut Delikatessend', 'Sven Ottlieb', 'Walserweg 21', 'Aachen', '52066', 'Germany'), (18, 'Du monde entier', 'Janine Labrune', '67, rue des Cinquante Otages', 'Nantes', '44000', 'France'), (19, 'Eastern Connection', 'Ann Devon', '35 King George', 'London', 'WX3 6FW', 'UK'), (23, 'Folies gourmandes', 'Martine Rancé', '184, chaussée de Tournai', 'Lille', '59000', 'France'), (25, 'Frankenversand', 'Peter Franken', 'Berliner Platz 43', 'München', '80805', 'Germany'), (26, 'France restauration', 'Carine Schmitt', '54, rue Royale', 'Nantes', '44000', 'France'), (38, 'Island Trading', 'Helen Bennett', 'Garden House Crowther Way', 'Cowes', 'PO31 7PJ', 'UK'), (39, 'Königlich Essen', 'Philip Cramer', 'Maubelstr. 90', 'Brandenburg', '14776', 'Germany'), (40, \"La corne d'abondance\", 'Daniel Tonini', \"67, avenue de l'Europe\", 'Versailles', '78000', 'France'), (41, \"La maison d'Asie\", 'Annette Roulet', '1 rue Alsace-Lorraine', 'Toulouse', '31000', 'France'), (44, 'Lehmanns Marktstand', 'Renate Messner', 'Magazinweg 7', 'Frankfurt a.M.', '60528', 'Germany'), (52, 'Morgenstern Gesundkost', 'Alexander Feuer', 'Heerstr. 22', 'Leipzig', '04179', 'Germany'), (53, 'North/South', 'Simon Crowther', 'South House 300 Queensbridge', 'London', 'SW7 1RZ', 'UK'), (56, 'Ottilies Käseladen', 'Henriette Pfalzheim', 'Mehrheimerstr. 369', 'Köln', '50739', 'Germany'), (57, 'Paris spécialités', 'Marie Bertrand', '265, boulevard Charonne', 'Paris', '75012', 'France'), (63, 'QUICK-Stop', 'Horst Kloss', 'Taucherstraße 10', 'Cunewalde', '01307', 'Germany'), (72, 'Seven Seas Imports', 'Hari Kumar', '90 Wadhurst Rd.', 'London', 'OX15 4NB', 'UK'), (74, 'Spécialités du monde', 'Dominique Perrier', '25, rue Lauriston', 'Paris', '75016', 'France'), (79, 'Toms Spezialitäten', 'Karin Josephs', 'Luisenstr. 48', 'Münster', '44087', 'Germany'), (84, 'Victuailles en stock', 'Mary Saveley', '2, rue du Commerce', 'Lyon', '69004', 'France'), (85, 'Vins et alcools Chevalier', 'Paul Henriot', \"59 rue de l'Abbaye\", 'Reims', '51100', 'France'), (86, 'Die Wandernde Kuh', 'Rita Müller', 'Adenauerallee 900', 'Stuttgart', '70563', 'Germany')]\n"
     ]
    }
   ],
   "execution_count": 75
  },
  {
   "metadata": {
    "ExecuteTime": {
     "end_time": "2024-07-04T04:27:06.391177Z",
     "start_time": "2024-07-04T04:27:06.388786Z"
    }
   },
   "cell_type": "code",
   "source": [
    "print(select_query(\"\"\"\n",
    "SELECT * FROM Customers\n",
    "WHERE Country NOT IN ('Germany', 'France', 'UK');\n",
    "\"\"\"))"
   ],
   "id": "bf6f2aa2fc89005c",
   "outputs": [
    {
     "name": "stdout",
     "output_type": "stream",
     "text": [
      "[(2, 'Ana Trujillo Emparedados y helados', 'Ana Trujillo', 'Avda. de la Constitución 2222', 'México D.F.', '05021', 'Mexico'), (3, 'Antonio Moreno Taquería', 'Antonio Moreno', 'Mataderos 2312', 'México D.F.', '05023', 'Mexico'), (5, 'Berglunds snabbköp', 'Christina Berglund', 'Berguvsvägen 8', 'Luleå', 'S-958 22', 'Sweden'), (8, 'Bólido Comidas preparadas', 'Martín Sommer', 'C/ Araquil, 67', 'Madrid', '28023', 'Spain'), (10, 'Bottom-Dollar Marketse', 'Elizabeth Lincoln', '23 Tsawassen Blvd.', 'Tsawassen', 'T2F 8M4', 'Canada'), (12, 'Cactus Comidas para llevar', 'Patricio Simpson', 'Cerrito 333', 'Buenos Aires', '1010', 'Argentina'), (13, 'Centro comercial Moctezuma', 'Francisco Chang', 'Sierras de Granada 9993', 'México D.F.', '05022', 'Mexico'), (14, 'Chop-suey Chinese', 'Yang Wang', 'Hauptstr. 29', 'Bern', '3012', 'Switzerland'), (15, 'Comércio Mineiro', 'Pedro Afonso', 'Av. dos Lusíadas, 23', 'São Paulo', '05432-043', 'Brazil'), (20, 'Ernst Handel', 'Roland Mendel', 'Kirchgasse 6', 'Graz', '8010', 'Austria'), (21, 'Familia Arquibaldo', 'Aria Cruz', 'Rua Orós, 92', 'São Paulo', '05442-030', 'Brazil'), (22, 'FISSA Fabrica Inter. Salchichas S.A.', 'Diego Roel', 'C/ Moralzarzal, 86', 'Madrid', '28034', 'Spain'), (24, 'Folk och fä HB', 'Maria Larsson', 'Åkergatan 24', 'Bräcke', 'S-844 67', 'Sweden'), (27, 'Franchi S.p.A.', 'Paolo Accorti', 'Via Monte Bianco 34', 'Torino', '10100', 'Italy'), (28, 'Furia Bacalhau e Frutos do Mar', 'Lino Rodriguez', 'Jardim das rosas n. 32', 'Lisboa', '1675', 'Portugal'), (29, 'Galería del gastrónomo', 'Eduardo Saavedra', 'Rambla de Cataluña, 23', 'Barcelona', '08022', 'Spain'), (30, 'Godos Cocina Típica', 'José Pedro Freyre', 'C/ Romero, 33', 'Sevilla', '41101', 'Spain'), (31, 'Gourmet Lanchonetes', 'André Fonseca', 'Av. Brasil, 442', 'Campinas', '04876-786', 'Brazil'), (32, 'Great Lakes Food Market', 'Howard Snyder', '2732 Baker Blvd.', 'Eugene', '97403', 'USA'), (33, 'GROSELLA-Restaurante', 'Manuel Pereira', '5ª Ave. Los Palos Grandes', 'Caracas', '1081', 'Venezuela'), (34, 'Hanari Carnes', 'Mario Pontes', 'Rua do Paço, 67', 'Rio de Janeiro', '05454-876', 'Brazil'), (35, 'HILARIÓN-Abastos', 'Carlos Hernández', 'Carrera 22 con Ave. Carlos Soublette #8-35', 'San Cristóbal', '5022', 'Venezuela'), (36, 'Hungry Coyote Import Store', 'Yoshi Latimer', 'City Center Plaza 516 Main St.', 'Elgin', '97827', 'USA'), (37, 'Hungry Owl All-Night Grocers', 'Patricia McKenna', '8 Johnstown Road', 'Cork', '', 'Ireland'), (42, 'Laughing Bacchus Wine Cellars', 'Yoshi Tannamuri', '1900 Oak St.', 'Vancouver', 'V3F 2K1', 'Canada'), (43, 'Lazy K Kountry Store', 'John Steel', '12 Orchestra Terrace', 'Walla Walla', '99362', 'USA'), (45, \"Let's Stop N Shop\", 'Jaime Yorres', '87 Polk St. Suite 5', 'San Francisco', '94117', 'USA'), (46, 'LILA-Supermercado', 'Carlos González', 'Carrera 52 con Ave. Bolívar #65-98 Llano Largo', 'Barquisimeto', '3508', 'Venezuela'), (47, 'LINO-Delicateses', 'Felipe Izquierdo', 'Ave. 5 de Mayo Porlamar', 'I. de Margarita', '4980', 'Venezuela'), (48, 'Lonesome Pine Restaurant', 'Fran Wilson', '89 Chiaroscuro Rd.', 'Portland', '97219', 'USA'), (49, 'Magazzini Alimentari Riuniti', 'Giovanni Rovelli', 'Via Ludovico il Moro 22', 'Bergamo', '24100', 'Italy'), (50, 'Maison Dewey', 'Catherine Dewey', 'Rue Joseph-Bens 532', 'Bruxelles', 'B-1180', 'Belgium'), (51, 'Mère Paillarde', 'Jean Fresnière', '43 rue St. Laurent', 'Montréal', 'H1J 1C3', 'Canada'), (54, 'Océano Atlántico Ltda.', 'Yvonne Moncada', 'Ing. Gustavo Moncada 8585 Piso 20-A', 'Buenos Aires', '1010', 'Argentina'), (55, 'Old World Delicatessen', 'Rene Phillips', '2743 Bering St.', 'Anchorage', '99508', 'USA'), (58, 'Pericles Comidas clásicas', 'Guillermo Fernández', 'Calle Dr. Jorge Cash 321', 'México D.F.', '05033', 'Mexico'), (59, 'Piccolo und mehr', 'Georg Pipps', 'Geislweg 14', 'Salzburg', '5020', 'Austria'), (60, 'Princesa Isabel Vinhoss', 'Isabel de Castro', 'Estrada da saúde n. 58', 'Lisboa', '1756', 'Portugal'), (61, 'Que Delícia', 'Bernardo Batista', 'Rua da Panificadora, 12', 'Rio de Janeiro', '02389-673', 'Brazil'), (62, 'Queen Cozinha', 'Lúcia Carvalho', 'Alameda dos Canàrios, 891', 'São Paulo', '05487-020', 'Brazil'), (64, 'Rancho grande', 'Sergio Gutiérrez', 'Av. del Libertador 900', 'Buenos Aires', '1010', 'Argentina'), (65, 'Rattlesnake Canyon Grocery', 'Paula Wilson', '2817 Milton Dr.', 'Albuquerque', '87110', 'USA'), (66, 'Reggiani Caseifici', 'Maurizio Moroni', 'Strada Provinciale 124', 'Reggio Emilia', '42100', 'Italy'), (67, 'Ricardo Adocicados', 'Janete Limeira', 'Av. Copacabana, 267', 'Rio de Janeiro', '02389-890', 'Brazil'), (68, 'Richter Supermarkt', 'Michael Holz', 'Grenzacherweg 237', 'Genève', '1203', 'Switzerland'), (69, 'Romero y tomillo', 'Alejandra Camino', 'Gran Vía, 1', 'Madrid', '28001', 'Spain'), (70, 'Santé Gourmet', 'Jonas Bergulfsen', 'Erling Skakkes gate 78', 'Stavern', '4110', 'Norway'), (71, 'Save-a-lot Markets', 'Jose Pavarotti', '187 Suffolk Ln.', 'Boise', '83720', 'USA'), (73, 'Simons bistro', 'Jytte Petersen', 'Vinbæltet 34', 'København', '1734', 'Denmark'), (75, 'Split Rail Beer & Ale', 'Art Braunschweiger', 'P.O. Box 555', 'Lander', '82520', 'USA'), (76, 'Suprêmes délices', 'Pascale Cartrain', 'Boulevard Tirou, 255', 'Charleroi', 'B-6000', 'Belgium'), (77, 'The Big Cheese', 'Liz Nixon', '89 Jefferson Way Suite 2', 'Portland', '97201', 'USA'), (78, 'The Cracker Box', 'Liu Wong', '55 Grizzly Peak Rd.', 'Butte', '59801', 'USA'), (80, 'Tortuga Restaurante', 'Miguel Angel Paolino', 'Avda. Azteca 123', 'México D.F.', '05033', 'Mexico'), (81, 'Tradição Hipermercados', 'Anabela Domingues', 'Av. Inês de Castro, 414', 'São Paulo', '05634-030', 'Brazil'), (82, \"Trail's Head Gourmet Provisioners\", 'Helvetius Nagy', '722 DaVinci Blvd.', 'Kirkland', '98034', 'USA'), (83, 'Vaffeljernet', 'Palle Ibsen', 'Smagsløget 45', 'Århus', '8200', 'Denmark'), (87, 'Wartian Herkku', 'Pirkko Koskitalo', 'Torikatu 38', 'Oulu', '90110', 'Finland'), (88, 'Wellington Importadora', 'Paula Parente', 'Rua do Mercado, 12', 'Resende', '08737-363', 'Brazil'), (89, 'White Clover Markets', 'Karl Jablonski', '305 - 14th Ave. S. Suite 3B', 'Seattle', '98128', 'USA'), (90, 'Wilman Kala', 'Matti Karttunen', 'Keskuskatu 45', 'Helsinki', '21240', 'Finland'), (91, 'Wolski', 'Zbyszek', 'ul. Filtrowa 68', 'Walla', '01-012', 'Poland')]\n"
     ]
    }
   ],
   "execution_count": 76
  },
  {
   "metadata": {
    "ExecuteTime": {
     "end_time": "2024-07-04T04:27:06.419197Z",
     "start_time": "2024-07-04T04:27:06.416964Z"
    }
   },
   "cell_type": "code",
   "source": [
    "print(select_query(\"\"\"\n",
    "SELECT * FROM Customers\n",
    "WHERE CustomerID IN (SELECT CustomerID FROM Orders);\n",
    "\"\"\"))"
   ],
   "id": "a454cce92609e589",
   "outputs": [
    {
     "name": "stdout",
     "output_type": "stream",
     "text": [
      "[(2, 'Ana Trujillo Emparedados y helados', 'Ana Trujillo', 'Avda. de la Constitución 2222', 'México D.F.', '05021', 'Mexico'), (3, 'Antonio Moreno Taquería', 'Antonio Moreno', 'Mataderos 2312', 'México D.F.', '05023', 'Mexico'), (4, 'Around the Horn', 'Thomas Hardy', '120 Hanover Sq.', 'London', 'WA1 1DP', 'UK'), (5, 'Berglunds snabbköp', 'Christina Berglund', 'Berguvsvägen 8', 'Luleå', 'S-958 22', 'Sweden'), (7, 'Blondel père et fils', 'Frédérique Citeaux', '24, place Kléber', 'Strasbourg', '67000', 'France'), (8, 'Bólido Comidas preparadas', 'Martín Sommer', 'C/ Araquil, 67', 'Madrid', '28023', 'Spain'), (9, \"Bon app'\", 'Laurence Lebihans', '12, rue des Bouchers', 'Marseille', '13008', 'France'), (10, 'Bottom-Dollar Marketse', 'Elizabeth Lincoln', '23 Tsawassen Blvd.', 'Tsawassen', 'T2F 8M4', 'Canada'), (11, \"B's Beverages\", 'Victoria Ashworth', 'Fauntleroy Circus', 'London', 'EC2 5NT', 'UK'), (13, 'Centro comercial Moctezuma', 'Francisco Chang', 'Sierras de Granada 9993', 'México D.F.', '05022', 'Mexico'), (14, 'Chop-suey Chinese', 'Yang Wang', 'Hauptstr. 29', 'Bern', '3012', 'Switzerland'), (15, 'Comércio Mineiro', 'Pedro Afonso', 'Av. dos Lusíadas, 23', 'São Paulo', '05432-043', 'Brazil'), (16, 'Consolidated Holdings', 'Elizabeth Brown', 'Berkeley Gardens 12 Brewery', 'London', 'WX1 6LT', 'UK'), (17, 'Drachenblut Delikatessend', 'Sven Ottlieb', 'Walserweg 21', 'Aachen', '52066', 'Germany'), (18, 'Du monde entier', 'Janine Labrune', '67, rue des Cinquante Otages', 'Nantes', '44000', 'France'), (19, 'Eastern Connection', 'Ann Devon', '35 King George', 'London', 'WX3 6FW', 'UK'), (20, 'Ernst Handel', 'Roland Mendel', 'Kirchgasse 6', 'Graz', '8010', 'Austria'), (21, 'Familia Arquibaldo', 'Aria Cruz', 'Rua Orós, 92', 'São Paulo', '05442-030', 'Brazil'), (23, 'Folies gourmandes', 'Martine Rancé', '184, chaussée de Tournai', 'Lille', '59000', 'France'), (24, 'Folk och fä HB', 'Maria Larsson', 'Åkergatan 24', 'Bräcke', 'S-844 67', 'Sweden'), (25, 'Frankenversand', 'Peter Franken', 'Berliner Platz 43', 'München', '80805', 'Germany'), (27, 'Franchi S.p.A.', 'Paolo Accorti', 'Via Monte Bianco 34', 'Torino', '10100', 'Italy'), (28, 'Furia Bacalhau e Frutos do Mar', 'Lino Rodriguez', 'Jardim das rosas n. 32', 'Lisboa', '1675', 'Portugal'), (29, 'Galería del gastrónomo', 'Eduardo Saavedra', 'Rambla de Cataluña, 23', 'Barcelona', '08022', 'Spain'), (30, 'Godos Cocina Típica', 'José Pedro Freyre', 'C/ Romero, 33', 'Sevilla', '41101', 'Spain'), (31, 'Gourmet Lanchonetes', 'André Fonseca', 'Av. Brasil, 442', 'Campinas', '04876-786', 'Brazil'), (33, 'GROSELLA-Restaurante', 'Manuel Pereira', '5ª Ave. Los Palos Grandes', 'Caracas', '1081', 'Venezuela'), (34, 'Hanari Carnes', 'Mario Pontes', 'Rua do Paço, 67', 'Rio de Janeiro', '05454-876', 'Brazil'), (35, 'HILARIÓN-Abastos', 'Carlos Hernández', 'Carrera 22 con Ave. Carlos Soublette #8-35', 'San Cristóbal', '5022', 'Venezuela'), (36, 'Hungry Coyote Import Store', 'Yoshi Latimer', 'City Center Plaza 516 Main St.', 'Elgin', '97827', 'USA'), (37, 'Hungry Owl All-Night Grocers', 'Patricia McKenna', '8 Johnstown Road', 'Cork', '', 'Ireland'), (38, 'Island Trading', 'Helen Bennett', 'Garden House Crowther Way', 'Cowes', 'PO31 7PJ', 'UK'), (39, 'Königlich Essen', 'Philip Cramer', 'Maubelstr. 90', 'Brandenburg', '14776', 'Germany'), (41, \"La maison d'Asie\", 'Annette Roulet', '1 rue Alsace-Lorraine', 'Toulouse', '31000', 'France'), (44, 'Lehmanns Marktstand', 'Renate Messner', 'Magazinweg 7', 'Frankfurt a.M.', '60528', 'Germany'), (46, 'LILA-Supermercado', 'Carlos González', 'Carrera 52 con Ave. Bolívar #65-98 Llano Largo', 'Barquisimeto', '3508', 'Venezuela'), (47, 'LINO-Delicateses', 'Felipe Izquierdo', 'Ave. 5 de Mayo Porlamar', 'I. de Margarita', '4980', 'Venezuela'), (48, 'Lonesome Pine Restaurant', 'Fran Wilson', '89 Chiaroscuro Rd.', 'Portland', '97219', 'USA'), (49, 'Magazzini Alimentari Riuniti', 'Giovanni Rovelli', 'Via Ludovico il Moro 22', 'Bergamo', '24100', 'Italy'), (51, 'Mère Paillarde', 'Jean Fresnière', '43 rue St. Laurent', 'Montréal', 'H1J 1C3', 'Canada'), (52, 'Morgenstern Gesundkost', 'Alexander Feuer', 'Heerstr. 22', 'Leipzig', '04179', 'Germany'), (54, 'Océano Atlántico Ltda.', 'Yvonne Moncada', 'Ing. Gustavo Moncada 8585 Piso 20-A', 'Buenos Aires', '1010', 'Argentina'), (55, 'Old World Delicatessen', 'Rene Phillips', '2743 Bering St.', 'Anchorage', '99508', 'USA'), (56, 'Ottilies Käseladen', 'Henriette Pfalzheim', 'Mehrheimerstr. 369', 'Köln', '50739', 'Germany'), (58, 'Pericles Comidas clásicas', 'Guillermo Fernández', 'Calle Dr. Jorge Cash 321', 'México D.F.', '05033', 'Mexico'), (59, 'Piccolo und mehr', 'Georg Pipps', 'Geislweg 14', 'Salzburg', '5020', 'Austria'), (60, 'Princesa Isabel Vinhoss', 'Isabel de Castro', 'Estrada da saúde n. 58', 'Lisboa', '1756', 'Portugal'), (61, 'Que Delícia', 'Bernardo Batista', 'Rua da Panificadora, 12', 'Rio de Janeiro', '02389-673', 'Brazil'), (62, 'Queen Cozinha', 'Lúcia Carvalho', 'Alameda dos Canàrios, 891', 'São Paulo', '05487-020', 'Brazil'), (63, 'QUICK-Stop', 'Horst Kloss', 'Taucherstraße 10', 'Cunewalde', '01307', 'Germany'), (65, 'Rattlesnake Canyon Grocery', 'Paula Wilson', '2817 Milton Dr.', 'Albuquerque', '87110', 'USA'), (66, 'Reggiani Caseifici', 'Maurizio Moroni', 'Strada Provinciale 124', 'Reggio Emilia', '42100', 'Italy'), (67, 'Ricardo Adocicados', 'Janete Limeira', 'Av. Copacabana, 267', 'Rio de Janeiro', '02389-890', 'Brazil'), (68, 'Richter Supermarkt', 'Michael Holz', 'Grenzacherweg 237', 'Genève', '1203', 'Switzerland'), (69, 'Romero y tomillo', 'Alejandra Camino', 'Gran Vía, 1', 'Madrid', '28001', 'Spain'), (70, 'Santé Gourmet', 'Jonas Bergulfsen', 'Erling Skakkes gate 78', 'Stavern', '4110', 'Norway'), (71, 'Save-a-lot Markets', 'Jose Pavarotti', '187 Suffolk Ln.', 'Boise', '83720', 'USA'), (72, 'Seven Seas Imports', 'Hari Kumar', '90 Wadhurst Rd.', 'London', 'OX15 4NB', 'UK'), (73, 'Simons bistro', 'Jytte Petersen', 'Vinbæltet 34', 'København', '1734', 'Denmark'), (75, 'Split Rail Beer & Ale', 'Art Braunschweiger', 'P.O. Box 555', 'Lander', '82520', 'USA'), (76, 'Suprêmes délices', 'Pascale Cartrain', 'Boulevard Tirou, 255', 'Charleroi', 'B-6000', 'Belgium'), (77, 'The Big Cheese', 'Liz Nixon', '89 Jefferson Way Suite 2', 'Portland', '97201', 'USA'), (79, 'Toms Spezialitäten', 'Karin Josephs', 'Luisenstr. 48', 'Münster', '44087', 'Germany'), (80, 'Tortuga Restaurante', 'Miguel Angel Paolino', 'Avda. Azteca 123', 'México D.F.', '05033', 'Mexico'), (81, 'Tradição Hipermercados', 'Anabela Domingues', 'Av. Inês de Castro, 414', 'São Paulo', '05634-030', 'Brazil'), (83, 'Vaffeljernet', 'Palle Ibsen', 'Smagsløget 45', 'Århus', '8200', 'Denmark'), (84, 'Victuailles en stock', 'Mary Saveley', '2, rue du Commerce', 'Lyon', '69004', 'France'), (85, 'Vins et alcools Chevalier', 'Paul Henriot', \"59 rue de l'Abbaye\", 'Reims', '51100', 'France'), (86, 'Die Wandernde Kuh', 'Rita Müller', 'Adenauerallee 900', 'Stuttgart', '70563', 'Germany'), (87, 'Wartian Herkku', 'Pirkko Koskitalo', 'Torikatu 38', 'Oulu', '90110', 'Finland'), (88, 'Wellington Importadora', 'Paula Parente', 'Rua do Mercado, 12', 'Resende', '08737-363', 'Brazil'), (89, 'White Clover Markets', 'Karl Jablonski', '305 - 14th Ave. S. Suite 3B', 'Seattle', '98128', 'USA'), (90, 'Wilman Kala', 'Matti Karttunen', 'Keskuskatu 45', 'Helsinki', '21240', 'Finland'), (91, 'Wolski', 'Zbyszek', 'ul. Filtrowa 68', 'Walla', '01-012', 'Poland')]\n"
     ]
    }
   ],
   "execution_count": 77
  },
  {
   "metadata": {
    "ExecuteTime": {
     "end_time": "2024-07-04T04:27:06.526695Z",
     "start_time": "2024-07-04T04:27:06.524493Z"
    }
   },
   "cell_type": "code",
   "source": [
    "print(select_query(\"\"\"\n",
    "SELECT * FROM Customers\n",
    "WHERE CustomerID NOT IN (SELECT CustomerID FROM Orders);\n",
    "\"\"\"))"
   ],
   "id": "e94fcdf0cd5c69df",
   "outputs": [
    {
     "name": "stdout",
     "output_type": "stream",
     "text": [
      "[(1, 'Alfreds Futterkiste', 'Maria Anders', 'Obere Str. 57', 'Berlin', '12209', 'Germany'), (6, 'Blauer See Delikatessen', 'Hanna Moos', 'Forsterstr. 57', 'Mannheim', '68306', 'Germany'), (12, 'Cactus Comidas para llevar', 'Patricio Simpson', 'Cerrito 333', 'Buenos Aires', '1010', 'Argentina'), (22, 'FISSA Fabrica Inter. Salchichas S.A.', 'Diego Roel', 'C/ Moralzarzal, 86', 'Madrid', '28034', 'Spain'), (26, 'France restauration', 'Carine Schmitt', '54, rue Royale', 'Nantes', '44000', 'France'), (32, 'Great Lakes Food Market', 'Howard Snyder', '2732 Baker Blvd.', 'Eugene', '97403', 'USA'), (40, \"La corne d'abondance\", 'Daniel Tonini', \"67, avenue de l'Europe\", 'Versailles', '78000', 'France'), (42, 'Laughing Bacchus Wine Cellars', 'Yoshi Tannamuri', '1900 Oak St.', 'Vancouver', 'V3F 2K1', 'Canada'), (43, 'Lazy K Kountry Store', 'John Steel', '12 Orchestra Terrace', 'Walla Walla', '99362', 'USA'), (45, \"Let's Stop N Shop\", 'Jaime Yorres', '87 Polk St. Suite 5', 'San Francisco', '94117', 'USA'), (50, 'Maison Dewey', 'Catherine Dewey', 'Rue Joseph-Bens 532', 'Bruxelles', 'B-1180', 'Belgium'), (53, 'North/South', 'Simon Crowther', 'South House 300 Queensbridge', 'London', 'SW7 1RZ', 'UK'), (57, 'Paris spécialités', 'Marie Bertrand', '265, boulevard Charonne', 'Paris', '75012', 'France'), (64, 'Rancho grande', 'Sergio Gutiérrez', 'Av. del Libertador 900', 'Buenos Aires', '1010', 'Argentina'), (74, 'Spécialités du monde', 'Dominique Perrier', '25, rue Lauriston', 'Paris', '75016', 'France'), (78, 'The Cracker Box', 'Liu Wong', '55 Grizzly Peak Rd.', 'Butte', '59801', 'USA'), (82, \"Trail's Head Gourmet Provisioners\", 'Helvetius Nagy', '722 DaVinci Blvd.', 'Kirkland', '98034', 'USA')]\n"
     ]
    }
   ],
   "execution_count": 78
  },
  {
   "metadata": {
    "ExecuteTime": {
     "end_time": "2024-07-04T04:27:06.554553Z",
     "start_time": "2024-07-04T04:27:06.552296Z"
    }
   },
   "cell_type": "code",
   "source": [
    "print(select_query(\"\"\"\n",
    "SELECT * FROM Products\n",
    "WHERE Price BETWEEN 10 AND 20;\n",
    "\"\"\"))"
   ],
   "id": "518f3252bc2a009c",
   "outputs": [
    {
     "name": "stdout",
     "output_type": "stream",
     "text": [
      "[(1, 'Chais', 1, 1, '10 boxes x 20 bags', 18.0), (2, 'Chang', 1, 1, '24 - 12 oz bottles', 19.0), (3, 'Aniseed Syrup', 1, 2, '12 - 550 ml bottles', 10.0), (15, 'Genen Shouyu', 6, 2, '24 - 250 ml bottles', 15.5), (16, 'Pavlova', 7, 3, '32 - 500 g boxes', 17.45), (21, \"Sir Rodney's Scones\", 8, 3, '24 pkgs. x 4 pieces', 10.0), (25, 'NuNuCa Nuß-Nougat-Creme', 11, 3, '20 - 450 g glasses', 14.0), (31, 'Gorgonzola Telino', 14, 4, '12 - 100 g pkgs', 12.5), (34, 'Sasquatch Ale', 16, 1, '24 - 12 oz bottles', 14.0), (35, 'Steeleye Stout', 16, 1, '24 - 12 oz bottles', 18.0), (36, 'Inlagd Sill', 17, 8, '24 - 250 g jars', 19.0), (39, 'Chartreuse verte', 18, 1, '750 cc per bottle', 18.0), (40, 'Boston Crab Meat', 19, 8, '24 - 4 oz tins', 18.4), (42, 'Singaporean Hokkien Fried Mee', 20, 5, '32 - 1 kg pkgs.', 14.0), (44, 'Gula Malacca', 20, 2, '20 - 2 kg bags', 19.45), (46, 'Spegesild', 21, 8, '4 - 450 g glasses', 12.0), (48, 'Chocolade', 22, 3, '10 pkgs.', 12.75), (49, 'Maxilaku', 23, 3, '24 - 50 g pkgs.', 20.0), (50, 'Valkoinen suklaa', 23, 3, '12 - 100 g bars', 16.25), (57, 'Ravioli Angelo', 26, 5, '24 - 250 g pkgs.', 19.5), (58, 'Escargots de Bourgogne', 27, 8, '24 pieces', 13.25), (66, 'Louisiana Hot Spiced Okra', 2, 2, '24 - 8 oz jars', 17.0), (67, 'Laughing Lumberjack Lager', 16, 1, '24 - 12 oz bottles', 14.0), (68, 'Scottish Longbreads', 8, 3, '10 boxes x 8 pieces', 12.5), (70, 'Outback Lager', 7, 1, '24 - 355 ml bottles', 15.0), (73, 'Röd Kaviar', 17, 8, '24 - 150 g jars', 15.0), (74, 'Longlife Tofu', 4, 7, '5 kg pkg.', 10.0), (76, 'Lakkalikööri', 23, 1, '500 ml', 18.0), (77, 'Original Frankfurter grüne Soße', 12, 2, '12 boxes', 13.0)]\n"
     ]
    }
   ],
   "execution_count": 79
  },
  {
   "metadata": {
    "ExecuteTime": {
     "end_time": "2024-07-04T04:27:06.611163Z",
     "start_time": "2024-07-04T04:27:06.608951Z"
    }
   },
   "cell_type": "code",
   "source": [
    "print(select_query(\"\"\"\n",
    "SELECT * FROM Products\n",
    "WHERE Price BETWEEN 10 AND 20\n",
    "AND CategoryID IN (1,2,3);\n",
    "\"\"\"))"
   ],
   "id": "4d9de5a23e9b71c",
   "outputs": [
    {
     "name": "stdout",
     "output_type": "stream",
     "text": [
      "[(1, 'Chais', 1, 1, '10 boxes x 20 bags', 18.0), (2, 'Chang', 1, 1, '24 - 12 oz bottles', 19.0), (3, 'Aniseed Syrup', 1, 2, '12 - 550 ml bottles', 10.0), (15, 'Genen Shouyu', 6, 2, '24 - 250 ml bottles', 15.5), (16, 'Pavlova', 7, 3, '32 - 500 g boxes', 17.45), (21, \"Sir Rodney's Scones\", 8, 3, '24 pkgs. x 4 pieces', 10.0), (25, 'NuNuCa Nuß-Nougat-Creme', 11, 3, '20 - 450 g glasses', 14.0), (34, 'Sasquatch Ale', 16, 1, '24 - 12 oz bottles', 14.0), (35, 'Steeleye Stout', 16, 1, '24 - 12 oz bottles', 18.0), (39, 'Chartreuse verte', 18, 1, '750 cc per bottle', 18.0), (44, 'Gula Malacca', 20, 2, '20 - 2 kg bags', 19.45), (48, 'Chocolade', 22, 3, '10 pkgs.', 12.75), (49, 'Maxilaku', 23, 3, '24 - 50 g pkgs.', 20.0), (50, 'Valkoinen suklaa', 23, 3, '12 - 100 g bars', 16.25), (66, 'Louisiana Hot Spiced Okra', 2, 2, '24 - 8 oz jars', 17.0), (67, 'Laughing Lumberjack Lager', 16, 1, '24 - 12 oz bottles', 14.0), (68, 'Scottish Longbreads', 8, 3, '10 boxes x 8 pieces', 12.5), (70, 'Outback Lager', 7, 1, '24 - 355 ml bottles', 15.0), (76, 'Lakkalikööri', 23, 1, '500 ml', 18.0), (77, 'Original Frankfurter grüne Soße', 12, 2, '12 boxes', 13.0)]\n"
     ]
    }
   ],
   "execution_count": 80
  },
  {
   "metadata": {
    "ExecuteTime": {
     "end_time": "2024-07-04T04:27:06.675655Z",
     "start_time": "2024-07-04T04:27:06.673682Z"
    }
   },
   "cell_type": "code",
   "source": [
    "print(select_query(\"\"\"\n",
    "SELECT * FROM Products\n",
    "WHERE ProductName BETWEEN 'Carnarvon Tigers' AND 'Mozzarella di Giovanni'\n",
    "ORDER BY ProductName;\n",
    "\"\"\"))"
   ],
   "id": "b4c12f70266b4fc9",
   "outputs": [
    {
     "name": "stdout",
     "output_type": "stream",
     "text": [
      "[(18, 'Carnarvon Tigers', 7, 8, '16 kg pkg.', 62.5), (1, 'Chais', 1, 1, '10 boxes x 20 bags', 18.0), (2, 'Chang', 1, 1, '24 - 12 oz bottles', 19.0), (39, 'Chartreuse verte', 18, 1, '750 cc per bottle', 18.0), (4, \"Chef Anton's Cajun Seasoning\", 2, 2, '48 - 6 oz jars', 22.0), (5, \"Chef Anton's Gumbo Mix\", 2, 2, '36 boxes', 21.35), (48, 'Chocolade', 22, 3, '10 pkgs.', 12.75), (38, 'Côte de Blaye', 18, 1, '12 - 75 cl bottles', 263.5), (58, 'Escargots de Bourgogne', 27, 8, '24 pieces', 13.25), (52, 'Filo Mix', 24, 5, '16 - 2 kg boxes', 7.0), (71, 'Fløtemysost', 15, 4, '10 - 500 g pkgs.', 21.5), (33, 'Geitost', 15, 4, '500 g', 2.5), (15, 'Genen Shouyu', 6, 2, '24 - 250 ml bottles', 15.5), (56, 'Gnocchi di nonna Alice', 26, 5, '24 - 250 g pkgs.', 38.0), (31, 'Gorgonzola Telino', 14, 4, '12 - 100 g pkgs', 12.5), (6, \"Grandma's Boysenberry Spread\", 3, 2, '12 - 8 oz jars', 25.0), (37, 'Gravad lax', 17, 8, '12 - 500 g pkgs.', 26.0), (24, 'Guaraná Fantástica', 10, 1, '12 - 355 ml cans', 4.5), (69, 'Gudbrandsdalsost', 15, 4, '10 kg pkg.', 36.0), (44, 'Gula Malacca', 20, 2, '20 - 2 kg bags', 19.45), (26, 'Gumbär Gummibärchen', 11, 3, '100 - 250 g bags', 31.23), (22, \"Gustaf's Knäckebröd\", 9, 5, '24 - 500 g pkgs.', 21.0), (10, 'Ikura', 4, 8, '12 - 200 ml jars', 31.0), (36, 'Inlagd Sill', 17, 8, '24 - 250 g jars', 19.0), (43, 'Ipoh Coffee', 20, 1, '16 - 500 g tins', 46.0), (41, \"Jack's New England Clam Chowder\", 19, 8, '12 - 12 oz cans', 9.65), (13, 'Konbu', 6, 8, '2 kg box', 6.0), (76, 'Lakkalikööri', 23, 1, '500 ml', 18.0), (67, 'Laughing Lumberjack Lager', 16, 1, '24 - 12 oz bottles', 14.0), (74, 'Longlife Tofu', 4, 7, '5 kg pkg.', 10.0), (65, 'Louisiana Fiery Hot Pepper Sauce', 2, 2, '32 - 8 oz bottles', 21.05), (66, 'Louisiana Hot Spiced Okra', 2, 2, '24 - 8 oz jars', 17.0), (51, 'Manjimup Dried Apples', 24, 7, '50 - 300 g pkgs.', 53.0), (32, 'Mascarpone Fabioli', 14, 4, '24 - 200 g pkgs.', 32.0), (49, 'Maxilaku', 23, 3, '24 - 50 g pkgs.', 20.0), (9, 'Mishi Kobe Niku', 4, 6, '18 - 500 g pkgs.', 97.0), (72, 'Mozzarella di Giovanni', 14, 4, '24 - 200 g pkgs.', 34.8)]\n"
     ]
    }
   ],
   "execution_count": 81
  },
  {
   "metadata": {
    "ExecuteTime": {
     "end_time": "2024-07-04T04:27:06.730873Z",
     "start_time": "2024-07-04T04:27:06.728889Z"
    }
   },
   "cell_type": "code",
   "source": [
    "print(select_query(\"\"\"\n",
    "SELECT * FROM Products\n",
    "WHERE ProductName BETWEEN \"Carnarvon Tigers\" AND \"Chef Anton's Cajun Seasoning\"\n",
    "ORDER BY ProductName;\n",
    "\"\"\"))"
   ],
   "id": "ce7f7dfa3196eb90",
   "outputs": [
    {
     "name": "stdout",
     "output_type": "stream",
     "text": [
      "[(18, 'Carnarvon Tigers', 7, 8, '16 kg pkg.', 62.5), (1, 'Chais', 1, 1, '10 boxes x 20 bags', 18.0), (2, 'Chang', 1, 1, '24 - 12 oz bottles', 19.0), (39, 'Chartreuse verte', 18, 1, '750 cc per bottle', 18.0), (4, \"Chef Anton's Cajun Seasoning\", 2, 2, '48 - 6 oz jars', 22.0)]\n"
     ]
    }
   ],
   "execution_count": 82
  },
  {
   "metadata": {
    "ExecuteTime": {
     "end_time": "2024-07-04T04:27:06.783616Z",
     "start_time": "2024-07-04T04:27:06.781645Z"
    }
   },
   "cell_type": "code",
   "source": [
    "print(select_query(\"\"\"\n",
    "SELECT * FROM Orders\n",
    "WHERE OrderDate BETWEEN '1996-07-01' AND '1996-07-31';\n",
    "\"\"\"))"
   ],
   "id": "5913f438b3d3711e",
   "outputs": [
    {
     "name": "stdout",
     "output_type": "stream",
     "text": [
      "[(10248, 90, 5, '1996-07-04', 3), (10249, 81, 6, '1996-07-05', 1), (10250, 34, 4, '1996-07-08', 2), (10251, 84, 3, '1996-07-08', 1), (10252, 76, 4, '1996-07-09', 2), (10253, 34, 3, '1996-07-10', 2), (10254, 14, 5, '1996-07-11', 2), (10255, 68, 9, '1996-07-12', 3), (10256, 88, 3, '1996-07-15', 2), (10257, 35, 4, '1996-07-16', 3), (10258, 20, 1, '1996-07-17', 1), (10259, 13, 4, '1996-07-18', 3), (10260, 55, 4, '1996-07-19', 1), (10261, 61, 4, '1996-07-19', 2), (10262, 65, 8, '1996-07-22', 3), (10263, 20, 9, '1996-07-23', 3), (10264, 24, 6, '1996-07-24', 3), (10265, 7, 2, '1996-07-25', 1), (10266, 87, 3, '1996-07-26', 3), (10267, 25, 4, '1996-07-29', 1), (10268, 33, 8, '1996-07-30', 3), (10269, 89, 5, '1996-07-31', 1)]\n"
     ]
    }
   ],
   "execution_count": 83
  },
  {
   "metadata": {
    "ExecuteTime": {
     "end_time": "2024-07-04T04:27:06.906879Z",
     "start_time": "2024-07-04T04:27:06.904201Z"
    }
   },
   "cell_type": "code",
   "source": [
    "print(select_query(\"\"\"\n",
    "SELECT CustomerName, Address + ', ' + PostalCode + ' ' + City + ', ' + Country AS Address\n",
    "FROM Customers;\n",
    "\"\"\"))\n",
    "#Does not work"
   ],
   "id": "6b425ade2723484a",
   "outputs": [
    {
     "name": "stdout",
     "output_type": "stream",
     "text": [
      "[('Alfreds Futterkiste', 12209), ('Ana Trujillo Emparedados y helados', 5021), ('Antonio Moreno Taquería', 5023), ('Around the Horn', 120), ('Berglunds snabbköp', 0), ('Blauer See Delikatessen', 68306), ('Blondel père et fils', 67024), ('Bólido Comidas preparadas', 28023), (\"Bon app'\", 13020), ('Bottom-Dollar Marketse', 23), (\"B's Beverages\", 0), ('Cactus Comidas para llevar', 1010), ('Centro comercial Moctezuma', 5022), ('Chop-suey Chinese', 3012), ('Comércio Mineiro', 5432), ('Consolidated Holdings', 0), ('Drachenblut Delikatessend', 52066), ('Du monde entier', 44067), ('Eastern Connection', 35), ('Ernst Handel', 8010), ('Familia Arquibaldo', 5442), ('FISSA Fabrica Inter. Salchichas S.A.', 28034), ('Folies gourmandes', 59184), ('Folk och fä HB', 0), ('Frankenversand', 80805), ('France restauration', 44054), ('Franchi S.p.A.', 10100), ('Furia Bacalhau e Frutos do Mar', 1675), ('Galería del gastrónomo', 8022), ('Godos Cocina Típica', 41101), ('Gourmet Lanchonetes', 4876), ('Great Lakes Food Market', 100135), ('GROSELLA-Restaurante', 1086), ('Hanari Carnes', 5454), ('HILARIÓN-Abastos', 5022), ('Hungry Coyote Import Store', 97827), ('Hungry Owl All-Night Grocers', 8), ('Island Trading', 0), ('Königlich Essen', 14776), (\"La corne d'abondance\", 78067), (\"La maison d'Asie\", 31001), ('Laughing Bacchus Wine Cellars', 1900), ('Lazy K Kountry Store', 99374), ('Lehmanns Marktstand', 60528), (\"Let's Stop N Shop\", 94204), ('LILA-Supermercado', 3508), ('LINO-Delicateses', 4980), ('Lonesome Pine Restaurant', 97308), ('Magazzini Alimentari Riuniti', 24100), ('Maison Dewey', 0), ('Mère Paillarde', 43), ('Morgenstern Gesundkost', 4179), ('North/South', 0), ('Océano Atlántico Ltda.', 1010), ('Old World Delicatessen', 102251), ('Ottilies Käseladen', 50739), ('Paris spécialités', 75277), ('Pericles Comidas clásicas', 5033), ('Piccolo und mehr', 5020), ('Princesa Isabel Vinhoss', 1756), ('Que Delícia', 2389), ('Queen Cozinha', 5487), ('QUICK-Stop', 1307), ('Rancho grande', 1010), ('Rattlesnake Canyon Grocery', 89927), ('Reggiani Caseifici', 42100), ('Ricardo Adocicados', 2389), ('Richter Supermarkt', 1203), ('Romero y tomillo', 28001), ('Santé Gourmet', 4110), ('Save-a-lot Markets', 83907), ('Seven Seas Imports', 90), ('Simons bistro', 1734), ('Spécialités du monde', 75041), ('Split Rail Beer & Ale', 82520), ('Suprêmes délices', 0), ('The Big Cheese', 97290), ('The Cracker Box', 59856), ('Toms Spezialitäten', 44087), ('Tortuga Restaurante', 5033), ('Tradição Hipermercados', 5634), (\"Trail's Head Gourmet Provisioners\", 98756), ('Vaffeljernet', 8200), ('Victuailles en stock', 69006), ('Vins et alcools Chevalier', 51159), ('Die Wandernde Kuh', 70563), ('Wartian Herkku', 90110), ('Wellington Importadora', 8737), ('White Clover Markets', 98433), ('Wilman Kala', 21240), ('Wolski', 1)]\n"
     ]
    }
   ],
   "execution_count": 84
  },
  {
   "metadata": {
    "ExecuteTime": {
     "end_time": "2024-07-04T04:27:06.996059Z",
     "start_time": "2024-07-04T04:27:06.993578Z"
    }
   },
   "cell_type": "code",
   "source": [
    "print(select_query(\"\"\"\n",
    "SELECT Orders.OrderID, Customers.CustomerName, Orders.OrderDate\n",
    "FROM Orders\n",
    "INNER JOIN Customers ON Orders.CustomerID=Customers.CustomerID;\n",
    "\"\"\"))"
   ],
   "id": "f7db46efed17d8c2",
   "outputs": [
    {
     "name": "stdout",
     "output_type": "stream",
     "text": [
      "[(10248, 'Wilman Kala', '1996-07-04'), (10249, 'Tradição Hipermercados', '1996-07-05'), (10250, 'Hanari Carnes', '1996-07-08'), (10251, 'Victuailles en stock', '1996-07-08'), (10252, 'Suprêmes délices', '1996-07-09'), (10253, 'Hanari Carnes', '1996-07-10'), (10254, 'Chop-suey Chinese', '1996-07-11'), (10255, 'Richter Supermarkt', '1996-07-12'), (10256, 'Wellington Importadora', '1996-07-15'), (10257, 'HILARIÓN-Abastos', '1996-07-16'), (10258, 'Ernst Handel', '1996-07-17'), (10259, 'Centro comercial Moctezuma', '1996-07-18'), (10260, 'Old World Delicatessen', '1996-07-19'), (10261, 'Que Delícia', '1996-07-19'), (10262, 'Rattlesnake Canyon Grocery', '1996-07-22'), (10263, 'Ernst Handel', '1996-07-23'), (10264, 'Folk och fä HB', '1996-07-24'), (10265, 'Blondel père et fils', '1996-07-25'), (10266, 'Wartian Herkku', '1996-07-26'), (10267, 'Frankenversand', '1996-07-29'), (10268, 'GROSELLA-Restaurante', '1996-07-30'), (10269, 'White Clover Markets', '1996-07-31'), (10270, 'Wartian Herkku', '1996-08-01'), (10271, 'Split Rail Beer & Ale', '1996-08-01'), (10272, 'Rattlesnake Canyon Grocery', '1996-08-02'), (10273, 'QUICK-Stop', '1996-08-05'), (10274, 'Vins et alcools Chevalier', '1996-08-06'), (10275, 'Magazzini Alimentari Riuniti', '1996-08-07'), (10276, 'Tortuga Restaurante', '1996-08-08'), (10277, 'Morgenstern Gesundkost', '1996-08-09'), (10278, 'Berglunds snabbköp', '1996-08-12'), (10279, 'Lehmanns Marktstand', '1996-08-13'), (10280, 'Berglunds snabbköp', '1996-08-14'), (10281, 'Romero y tomillo', '1996-08-14'), (10282, 'Romero y tomillo', '1996-08-15'), (10283, 'LILA-Supermercado', '1996-08-16'), (10284, 'Lehmanns Marktstand', '1996-08-19'), (10285, 'QUICK-Stop', '1996-08-20'), (10286, 'QUICK-Stop', '1996-08-21'), (10287, 'Ricardo Adocicados', '1996-08-22'), (10288, 'Reggiani Caseifici', '1996-08-23'), (10289, \"B's Beverages\", '1996-08-26'), (10290, 'Comércio Mineiro', '1996-08-27'), (10291, 'Que Delícia', '1996-08-27'), (10292, 'Tradição Hipermercados', '1996-08-28'), (10293, 'Tortuga Restaurante', '1996-08-29'), (10294, 'Rattlesnake Canyon Grocery', '1996-08-30'), (10295, 'Vins et alcools Chevalier', '1996-09-02'), (10296, 'LILA-Supermercado', '1996-09-03'), (10297, 'Blondel père et fils', '1996-09-04'), (10298, 'Hungry Owl All-Night Grocers', '1996-09-05'), (10299, 'Ricardo Adocicados', '1996-09-06'), (10300, 'Magazzini Alimentari Riuniti', '1996-09-09'), (10301, 'Die Wandernde Kuh', '1996-09-09'), (10302, 'Suprêmes délices', '1996-09-10'), (10303, 'Godos Cocina Típica', '1996-09-11'), (10304, 'Tortuga Restaurante', '1996-09-12'), (10305, 'Old World Delicatessen', '1996-09-13'), (10306, 'Romero y tomillo', '1996-09-16'), (10307, 'Lonesome Pine Restaurant', '1996-09-17'), (10308, 'Ana Trujillo Emparedados y helados', '1996-09-18'), (10309, 'Hungry Owl All-Night Grocers', '1996-09-19'), (10310, 'The Big Cheese', '1996-09-20'), (10311, 'Du monde entier', '1996-09-20'), (10312, 'Die Wandernde Kuh', '1996-09-23'), (10313, 'QUICK-Stop', '1996-09-24'), (10314, 'Rattlesnake Canyon Grocery', '1996-09-25'), (10315, 'Island Trading', '1996-09-26'), (10316, 'Rattlesnake Canyon Grocery', '1996-09-27'), (10317, 'Lonesome Pine Restaurant', '1996-09-30'), (10318, 'Island Trading', '1996-10-01'), (10319, 'Tortuga Restaurante', '1996-10-02'), (10320, 'Wartian Herkku', '1996-10-03'), (10321, 'Island Trading', '1996-10-03'), (10322, 'Pericles Comidas clásicas', '1996-10-04'), (10323, 'Königlich Essen', '1996-10-07'), (10324, 'Save-a-lot Markets', '1996-10-08'), (10325, 'Königlich Essen', '1996-10-09'), (10326, 'Bólido Comidas preparadas', '1996-10-10'), (10327, 'Folk och fä HB', '1996-10-11'), (10328, 'Furia Bacalhau e Frutos do Mar', '1996-10-14'), (10329, 'Split Rail Beer & Ale', '1996-10-15'), (10330, 'LILA-Supermercado', '1996-10-16'), (10331, \"Bon app'\", '1996-10-16'), (10332, 'Mère Paillarde', '1996-10-17'), (10333, 'Wartian Herkku', '1996-10-18'), (10334, 'Victuailles en stock', '1996-10-21'), (10335, 'Hungry Owl All-Night Grocers', '1996-10-22'), (10336, 'Princesa Isabel Vinhoss', '1996-10-23'), (10337, 'Frankenversand', '1996-10-24'), (10338, 'Old World Delicatessen', '1996-10-25'), (10339, 'Mère Paillarde', '1996-10-28'), (10340, \"Bon app'\", '1996-10-29'), (10341, 'Simons bistro', '1996-10-29'), (10342, 'Frankenversand', '1996-10-30'), (10343, 'Lehmanns Marktstand', '1996-10-31'), (10344, 'White Clover Markets', '1996-11-01'), (10345, 'QUICK-Stop', '1996-11-04'), (10346, 'Rattlesnake Canyon Grocery', '1996-11-05'), (10347, 'Familia Arquibaldo', '1996-11-06'), (10348, 'Die Wandernde Kuh', '1996-11-07'), (10349, 'Split Rail Beer & Ale', '1996-11-08'), (10350, \"La maison d'Asie\", '1996-11-11'), (10351, 'Ernst Handel', '1996-11-11'), (10352, 'Furia Bacalhau e Frutos do Mar', '1996-11-12'), (10353, 'Piccolo und mehr', '1996-11-13'), (10354, 'Pericles Comidas clásicas', '1996-11-14'), (10355, 'Around the Horn', '1996-11-15'), (10356, 'Die Wandernde Kuh', '1996-11-18'), (10357, 'LILA-Supermercado', '1996-11-19'), (10358, \"La maison d'Asie\", '1996-11-20'), (10359, 'Seven Seas Imports', '1996-11-21'), (10360, 'Blondel père et fils', '1996-11-22'), (10361, 'QUICK-Stop', '1996-11-22'), (10362, \"Bon app'\", '1996-11-25'), (10363, 'Drachenblut Delikatessend', '1996-11-26'), (10364, 'Eastern Connection', '1996-11-26'), (10365, 'Antonio Moreno Taquería', '1996-11-27'), (10366, 'Galería del gastrónomo', '1996-11-28'), (10367, 'Vaffeljernet', '1996-11-28'), (10368, 'Ernst Handel', '1996-11-29'), (10369, 'Split Rail Beer & Ale', '1996-12-02'), (10370, 'Chop-suey Chinese', '1996-12-03'), (10371, \"La maison d'Asie\", '1996-12-03'), (10372, 'Queen Cozinha', '1996-12-04'), (10373, 'Hungry Owl All-Night Grocers', '1996-12-05'), (10374, 'Wolski', '1996-12-05'), (10375, 'Hungry Coyote Import Store', '1996-12-06'), (10376, 'Mère Paillarde', '1996-12-09'), (10377, 'Seven Seas Imports', '1996-12-09'), (10378, 'Folk och fä HB', '1996-12-10'), (10379, 'Que Delícia', '1996-12-11'), (10380, 'Hungry Owl All-Night Grocers', '1996-12-12'), (10381, 'LILA-Supermercado', '1996-12-12'), (10382, 'Ernst Handel', '1996-12-13'), (10383, 'Around the Horn', '1996-12-16'), (10384, 'Berglunds snabbköp', '1996-12-16'), (10385, 'Split Rail Beer & Ale', '1996-12-17'), (10386, 'Familia Arquibaldo', '1996-12-18'), (10387, 'Santé Gourmet', '1996-12-18'), (10388, 'Seven Seas Imports', '1996-12-19'), (10389, 'Bottom-Dollar Marketse', '1996-12-20'), (10390, 'Ernst Handel', '1996-12-23'), (10391, 'Drachenblut Delikatessend', '1996-12-23'), (10392, 'Piccolo und mehr', '1996-12-24'), (10393, 'Save-a-lot Markets', '1996-12-25'), (10394, 'Hungry Coyote Import Store', '1996-12-25'), (10395, 'HILARIÓN-Abastos', '1996-12-26'), (10396, 'Frankenversand', '1996-12-27'), (10397, 'Princesa Isabel Vinhoss', '1996-12-27'), (10398, 'Save-a-lot Markets', '1996-12-30'), (10399, 'Vaffeljernet', '1996-12-31'), (10400, 'Eastern Connection', '1997-01-01'), (10401, 'Rattlesnake Canyon Grocery', '1997-01-01'), (10402, 'Ernst Handel', '1997-01-02'), (10403, 'Ernst Handel', '1997-01-03'), (10404, 'Magazzini Alimentari Riuniti', '1997-01-03'), (10405, 'LINO-Delicateses', '1997-01-06'), (10406, 'Queen Cozinha', '1997-01-07'), (10407, 'Ottilies Käseladen', '1997-01-07'), (10408, 'Folies gourmandes', '1997-01-08'), (10409, 'Océano Atlántico Ltda.', '1997-01-09'), (10410, 'Bottom-Dollar Marketse', '1997-01-10'), (10411, 'Bottom-Dollar Marketse', '1997-01-10'), (10412, 'Wartian Herkku', '1997-01-13'), (10413, \"La maison d'Asie\", '1997-01-14'), (10414, 'Familia Arquibaldo', '1997-01-14'), (10415, 'Hungry Coyote Import Store', '1997-01-15'), (10416, 'Wartian Herkku', '1997-01-16'), (10417, 'Simons bistro', '1997-01-16'), (10418, 'QUICK-Stop', '1997-01-17'), (10419, 'Richter Supermarkt', '1997-01-20'), (10420, 'Wellington Importadora', '1997-01-21'), (10421, 'Que Delícia', '1997-01-21'), (10422, 'Franchi S.p.A.', '1997-01-22'), (10423, 'Gourmet Lanchonetes', '1997-01-23'), (10424, 'Mère Paillarde', '1997-01-23'), (10425, \"La maison d'Asie\", '1997-01-24'), (10426, 'Galería del gastrónomo', '1997-01-27'), (10427, 'Piccolo und mehr', '1997-01-27'), (10428, 'Reggiani Caseifici', '1997-01-28'), (10429, 'Hungry Owl All-Night Grocers', '1997-01-29'), (10430, 'Ernst Handel', '1997-01-30'), (10431, 'Bottom-Dollar Marketse', '1997-01-30'), (10432, 'Split Rail Beer & Ale', '1997-01-31'), (10433, 'Princesa Isabel Vinhoss', '1997-02-03'), (10434, 'Folk och fä HB', '1997-02-03'), (10435, 'Consolidated Holdings', '1997-02-04'), (10436, 'Blondel père et fils', '1997-02-05'), (10437, 'Wartian Herkku', '1997-02-05'), (10438, 'Toms Spezialitäten', '1997-02-06'), (10439, 'Mère Paillarde', '1997-02-07'), (10440, 'Save-a-lot Markets', '1997-02-10'), (10441, 'Old World Delicatessen', '1997-02-10'), (10442, 'Ernst Handel', '1997-02-11'), (10443, 'Reggiani Caseifici', '1997-02-12')]\n"
     ]
    }
   ],
   "execution_count": 85
  },
  {
   "metadata": {
    "ExecuteTime": {
     "end_time": "2024-07-04T04:27:07.104619Z",
     "start_time": "2024-07-04T04:27:07.102482Z"
    }
   },
   "cell_type": "code",
   "source": [
    "print(select_query(\"\"\"\n",
    "SELECT ProductID, ProductName, CategoryName\n",
    "FROM Products\n",
    "INNER JOIN Categories ON Products.CategoryID = Categories.CategoryID;\n",
    "\"\"\"))"
   ],
   "id": "32f473e1795ba44a",
   "outputs": [
    {
     "name": "stdout",
     "output_type": "stream",
     "text": [
      "[(1, 'Chais', 'Beverages'), (2, 'Chang', 'Beverages'), (3, 'Aniseed Syrup', 'Condiments'), (4, \"Chef Anton's Cajun Seasoning\", 'Condiments'), (5, \"Chef Anton's Gumbo Mix\", 'Condiments'), (6, \"Grandma's Boysenberry Spread\", 'Condiments'), (7, \"Uncle Bob's Organic Dried Pears\", 'Produce'), (8, 'Northwoods Cranberry Sauce', 'Condiments'), (9, 'Mishi Kobe Niku', 'Meat/Poultry'), (10, 'Ikura', 'Seafood'), (11, 'Queso Cabrales', 'Dairy Products'), (12, 'Queso Manchego La Pastora', 'Dairy Products'), (13, 'Konbu', 'Seafood'), (14, 'Tofu', 'Produce'), (15, 'Genen Shouyu', 'Condiments'), (16, 'Pavlova', 'Confections'), (17, 'Alice Mutton', 'Meat/Poultry'), (18, 'Carnarvon Tigers', 'Seafood'), (19, 'Teatime Chocolate Biscuits', 'Confections'), (20, \"Sir Rodney's Marmalade\", 'Confections'), (21, \"Sir Rodney's Scones\", 'Confections'), (22, \"Gustaf's Knäckebröd\", 'Grains/Cereals'), (23, 'Tunnbröd', 'Grains/Cereals'), (24, 'Guaraná Fantástica', 'Beverages'), (25, 'NuNuCa Nuß-Nougat-Creme', 'Confections'), (26, 'Gumbär Gummibärchen', 'Confections'), (27, 'Schoggi Schokolade', 'Confections'), (28, 'Rössle Sauerkraut', 'Produce'), (29, 'Thüringer Rostbratwurst', 'Meat/Poultry'), (30, 'Nord-Ost Matjeshering', 'Seafood'), (31, 'Gorgonzola Telino', 'Dairy Products'), (32, 'Mascarpone Fabioli', 'Dairy Products'), (33, 'Geitost', 'Dairy Products'), (34, 'Sasquatch Ale', 'Beverages'), (35, 'Steeleye Stout', 'Beverages'), (36, 'Inlagd Sill', 'Seafood'), (37, 'Gravad lax', 'Seafood'), (38, 'Côte de Blaye', 'Beverages'), (39, 'Chartreuse verte', 'Beverages'), (40, 'Boston Crab Meat', 'Seafood'), (41, \"Jack's New England Clam Chowder\", 'Seafood'), (42, 'Singaporean Hokkien Fried Mee', 'Grains/Cereals'), (43, 'Ipoh Coffee', 'Beverages'), (44, 'Gula Malacca', 'Condiments'), (45, 'Røgede sild', 'Seafood'), (46, 'Spegesild', 'Seafood'), (47, 'Zaanse koeken', 'Confections'), (48, 'Chocolade', 'Confections'), (49, 'Maxilaku', 'Confections'), (50, 'Valkoinen suklaa', 'Confections'), (51, 'Manjimup Dried Apples', 'Produce'), (52, 'Filo Mix', 'Grains/Cereals'), (53, 'Perth Pasties', 'Meat/Poultry'), (54, 'Tourtière', 'Meat/Poultry'), (55, 'Pâté chinois', 'Meat/Poultry'), (56, 'Gnocchi di nonna Alice', 'Grains/Cereals'), (57, 'Ravioli Angelo', 'Grains/Cereals'), (58, 'Escargots de Bourgogne', 'Seafood'), (59, 'Raclette Courdavault', 'Dairy Products'), (60, 'Camembert Pierrot', 'Dairy Products'), (61, \"Sirop d'érable\", 'Condiments'), (62, 'Tarte au sucre', 'Confections'), (63, 'Vegie-spread', 'Condiments'), (64, 'Wimmers gute Semmelknödel', 'Grains/Cereals'), (65, 'Louisiana Fiery Hot Pepper Sauce', 'Condiments'), (66, 'Louisiana Hot Spiced Okra', 'Condiments'), (67, 'Laughing Lumberjack Lager', 'Beverages'), (68, 'Scottish Longbreads', 'Confections'), (69, 'Gudbrandsdalsost', 'Dairy Products'), (70, 'Outback Lager', 'Beverages'), (71, 'Fløtemysost', 'Dairy Products'), (72, 'Mozzarella di Giovanni', 'Dairy Products'), (73, 'Röd Kaviar', 'Seafood'), (74, 'Longlife Tofu', 'Produce'), (75, 'Rhönbräu Klosterbier', 'Beverages'), (76, 'Lakkalikööri', 'Beverages'), (77, 'Original Frankfurter grüne Soße', 'Condiments')]\n"
     ]
    }
   ],
   "execution_count": 86
  },
  {
   "metadata": {
    "ExecuteTime": {
     "end_time": "2024-07-04T04:27:07.131754Z",
     "start_time": "2024-07-04T04:27:07.129517Z"
    }
   },
   "cell_type": "code",
   "source": [
    "print(select_query(\"\"\"\n",
    "SELECT Orders.OrderID, Customers.CustomerName, Shippers.ShipperName\n",
    "FROM ((Orders\n",
    "INNER JOIN Customers ON Orders.CustomerID = Customers.CustomerID)\n",
    "INNER JOIN Shippers ON Orders.ShipperID = Shippers.ShipperID);\n",
    "\"\"\"))"
   ],
   "id": "fa6073929a9967e9",
   "outputs": [
    {
     "name": "stdout",
     "output_type": "stream",
     "text": [
      "[(10248, 'Wilman Kala', 'Federal Shipping'), (10249, 'Tradição Hipermercados', 'Speedy Express'), (10250, 'Hanari Carnes', 'United Package'), (10251, 'Victuailles en stock', 'Speedy Express'), (10252, 'Suprêmes délices', 'United Package'), (10253, 'Hanari Carnes', 'United Package'), (10254, 'Chop-suey Chinese', 'United Package'), (10255, 'Richter Supermarkt', 'Federal Shipping'), (10256, 'Wellington Importadora', 'United Package'), (10257, 'HILARIÓN-Abastos', 'Federal Shipping'), (10258, 'Ernst Handel', 'Speedy Express'), (10259, 'Centro comercial Moctezuma', 'Federal Shipping'), (10260, 'Old World Delicatessen', 'Speedy Express'), (10261, 'Que Delícia', 'United Package'), (10262, 'Rattlesnake Canyon Grocery', 'Federal Shipping'), (10263, 'Ernst Handel', 'Federal Shipping'), (10264, 'Folk och fä HB', 'Federal Shipping'), (10265, 'Blondel père et fils', 'Speedy Express'), (10266, 'Wartian Herkku', 'Federal Shipping'), (10267, 'Frankenversand', 'Speedy Express'), (10268, 'GROSELLA-Restaurante', 'Federal Shipping'), (10269, 'White Clover Markets', 'Speedy Express'), (10270, 'Wartian Herkku', 'Speedy Express'), (10271, 'Split Rail Beer & Ale', 'United Package'), (10272, 'Rattlesnake Canyon Grocery', 'United Package'), (10273, 'QUICK-Stop', 'Federal Shipping'), (10274, 'Vins et alcools Chevalier', 'Speedy Express'), (10275, 'Magazzini Alimentari Riuniti', 'Speedy Express'), (10276, 'Tortuga Restaurante', 'Federal Shipping'), (10277, 'Morgenstern Gesundkost', 'Federal Shipping'), (10278, 'Berglunds snabbköp', 'United Package'), (10279, 'Lehmanns Marktstand', 'United Package'), (10280, 'Berglunds snabbköp', 'Speedy Express'), (10281, 'Romero y tomillo', 'Speedy Express'), (10282, 'Romero y tomillo', 'Speedy Express'), (10283, 'LILA-Supermercado', 'Federal Shipping'), (10284, 'Lehmanns Marktstand', 'Speedy Express'), (10285, 'QUICK-Stop', 'United Package'), (10286, 'QUICK-Stop', 'Federal Shipping'), (10287, 'Ricardo Adocicados', 'Federal Shipping'), (10288, 'Reggiani Caseifici', 'Speedy Express'), (10289, \"B's Beverages\", 'Federal Shipping'), (10290, 'Comércio Mineiro', 'Speedy Express'), (10291, 'Que Delícia', 'United Package'), (10292, 'Tradição Hipermercados', 'United Package'), (10293, 'Tortuga Restaurante', 'Federal Shipping'), (10294, 'Rattlesnake Canyon Grocery', 'United Package'), (10295, 'Vins et alcools Chevalier', 'United Package'), (10296, 'LILA-Supermercado', 'Speedy Express'), (10297, 'Blondel père et fils', 'United Package'), (10298, 'Hungry Owl All-Night Grocers', 'United Package'), (10299, 'Ricardo Adocicados', 'United Package'), (10300, 'Magazzini Alimentari Riuniti', 'United Package'), (10301, 'Die Wandernde Kuh', 'United Package'), (10302, 'Suprêmes délices', 'United Package'), (10303, 'Godos Cocina Típica', 'United Package'), (10304, 'Tortuga Restaurante', 'United Package'), (10305, 'Old World Delicatessen', 'Federal Shipping'), (10306, 'Romero y tomillo', 'Federal Shipping'), (10307, 'Lonesome Pine Restaurant', 'United Package'), (10308, 'Ana Trujillo Emparedados y helados', 'Federal Shipping'), (10309, 'Hungry Owl All-Night Grocers', 'Speedy Express'), (10310, 'The Big Cheese', 'United Package'), (10311, 'Du monde entier', 'Federal Shipping'), (10312, 'Die Wandernde Kuh', 'United Package'), (10313, 'QUICK-Stop', 'United Package'), (10314, 'Rattlesnake Canyon Grocery', 'United Package'), (10315, 'Island Trading', 'United Package'), (10316, 'Rattlesnake Canyon Grocery', 'Federal Shipping'), (10317, 'Lonesome Pine Restaurant', 'Speedy Express'), (10318, 'Island Trading', 'United Package'), (10319, 'Tortuga Restaurante', 'Federal Shipping'), (10320, 'Wartian Herkku', 'Federal Shipping'), (10321, 'Island Trading', 'United Package'), (10322, 'Pericles Comidas clásicas', 'Federal Shipping'), (10323, 'Königlich Essen', 'Speedy Express'), (10324, 'Save-a-lot Markets', 'Speedy Express'), (10325, 'Königlich Essen', 'Federal Shipping'), (10326, 'Bólido Comidas preparadas', 'United Package'), (10327, 'Folk och fä HB', 'Speedy Express'), (10328, 'Furia Bacalhau e Frutos do Mar', 'Federal Shipping'), (10329, 'Split Rail Beer & Ale', 'United Package'), (10330, 'LILA-Supermercado', 'Speedy Express'), (10331, \"Bon app'\", 'Speedy Express'), (10332, 'Mère Paillarde', 'United Package'), (10333, 'Wartian Herkku', 'Federal Shipping'), (10334, 'Victuailles en stock', 'United Package'), (10335, 'Hungry Owl All-Night Grocers', 'United Package'), (10336, 'Princesa Isabel Vinhoss', 'United Package'), (10337, 'Frankenversand', 'Federal Shipping'), (10338, 'Old World Delicatessen', 'Federal Shipping'), (10339, 'Mère Paillarde', 'United Package'), (10340, \"Bon app'\", 'Federal Shipping'), (10341, 'Simons bistro', 'Federal Shipping'), (10342, 'Frankenversand', 'United Package'), (10343, 'Lehmanns Marktstand', 'Speedy Express'), (10344, 'White Clover Markets', 'United Package'), (10345, 'QUICK-Stop', 'United Package'), (10346, 'Rattlesnake Canyon Grocery', 'Federal Shipping'), (10347, 'Familia Arquibaldo', 'Federal Shipping'), (10348, 'Die Wandernde Kuh', 'United Package'), (10349, 'Split Rail Beer & Ale', 'Speedy Express'), (10350, \"La maison d'Asie\", 'United Package'), (10351, 'Ernst Handel', 'Speedy Express'), (10352, 'Furia Bacalhau e Frutos do Mar', 'Federal Shipping'), (10353, 'Piccolo und mehr', 'Federal Shipping'), (10354, 'Pericles Comidas clásicas', 'Federal Shipping'), (10355, 'Around the Horn', 'Speedy Express'), (10356, 'Die Wandernde Kuh', 'United Package'), (10357, 'LILA-Supermercado', 'Federal Shipping'), (10358, \"La maison d'Asie\", 'Speedy Express'), (10359, 'Seven Seas Imports', 'Federal Shipping'), (10360, 'Blondel père et fils', 'Federal Shipping'), (10361, 'QUICK-Stop', 'United Package'), (10362, \"Bon app'\", 'Speedy Express'), (10363, 'Drachenblut Delikatessend', 'Federal Shipping'), (10364, 'Eastern Connection', 'Speedy Express'), (10365, 'Antonio Moreno Taquería', 'United Package'), (10366, 'Galería del gastrónomo', 'United Package'), (10367, 'Vaffeljernet', 'Federal Shipping'), (10368, 'Ernst Handel', 'United Package'), (10369, 'Split Rail Beer & Ale', 'United Package'), (10370, 'Chop-suey Chinese', 'United Package'), (10371, \"La maison d'Asie\", 'Speedy Express'), (10372, 'Queen Cozinha', 'United Package'), (10373, 'Hungry Owl All-Night Grocers', 'Federal Shipping'), (10374, 'Wolski', 'Federal Shipping'), (10375, 'Hungry Coyote Import Store', 'United Package'), (10376, 'Mère Paillarde', 'United Package'), (10377, 'Seven Seas Imports', 'Federal Shipping'), (10378, 'Folk och fä HB', 'Federal Shipping'), (10379, 'Que Delícia', 'Speedy Express'), (10380, 'Hungry Owl All-Night Grocers', 'Federal Shipping'), (10381, 'LILA-Supermercado', 'Federal Shipping'), (10382, 'Ernst Handel', 'Speedy Express'), (10383, 'Around the Horn', 'Federal Shipping'), (10384, 'Berglunds snabbköp', 'Federal Shipping'), (10385, 'Split Rail Beer & Ale', 'United Package'), (10386, 'Familia Arquibaldo', 'Federal Shipping'), (10387, 'Santé Gourmet', 'United Package'), (10388, 'Seven Seas Imports', 'Speedy Express'), (10389, 'Bottom-Dollar Marketse', 'United Package'), (10390, 'Ernst Handel', 'Speedy Express'), (10391, 'Drachenblut Delikatessend', 'Federal Shipping'), (10392, 'Piccolo und mehr', 'Federal Shipping'), (10393, 'Save-a-lot Markets', 'Federal Shipping'), (10394, 'Hungry Coyote Import Store', 'Federal Shipping'), (10395, 'HILARIÓN-Abastos', 'Speedy Express'), (10396, 'Frankenversand', 'Federal Shipping'), (10397, 'Princesa Isabel Vinhoss', 'Speedy Express'), (10398, 'Save-a-lot Markets', 'Federal Shipping'), (10399, 'Vaffeljernet', 'Federal Shipping'), (10400, 'Eastern Connection', 'Federal Shipping'), (10401, 'Rattlesnake Canyon Grocery', 'Speedy Express'), (10402, 'Ernst Handel', 'United Package'), (10403, 'Ernst Handel', 'Federal Shipping'), (10404, 'Magazzini Alimentari Riuniti', 'Speedy Express'), (10405, 'LINO-Delicateses', 'Speedy Express'), (10406, 'Queen Cozinha', 'Speedy Express'), (10407, 'Ottilies Käseladen', 'United Package'), (10408, 'Folies gourmandes', 'Speedy Express'), (10409, 'Océano Atlántico Ltda.', 'Speedy Express'), (10410, 'Bottom-Dollar Marketse', 'Federal Shipping'), (10411, 'Bottom-Dollar Marketse', 'Federal Shipping'), (10412, 'Wartian Herkku', 'United Package'), (10413, \"La maison d'Asie\", 'United Package'), (10414, 'Familia Arquibaldo', 'Federal Shipping'), (10415, 'Hungry Coyote Import Store', 'Speedy Express'), (10416, 'Wartian Herkku', 'Federal Shipping'), (10417, 'Simons bistro', 'Federal Shipping'), (10418, 'QUICK-Stop', 'Speedy Express'), (10419, 'Richter Supermarkt', 'United Package'), (10420, 'Wellington Importadora', 'Speedy Express'), (10421, 'Que Delícia', 'Speedy Express'), (10422, 'Franchi S.p.A.', 'Speedy Express'), (10423, 'Gourmet Lanchonetes', 'Federal Shipping'), (10424, 'Mère Paillarde', 'United Package'), (10425, \"La maison d'Asie\", 'United Package'), (10426, 'Galería del gastrónomo', 'Speedy Express'), (10427, 'Piccolo und mehr', 'United Package'), (10428, 'Reggiani Caseifici', 'Speedy Express'), (10429, 'Hungry Owl All-Night Grocers', 'United Package'), (10430, 'Ernst Handel', 'Speedy Express'), (10431, 'Bottom-Dollar Marketse', 'United Package'), (10432, 'Split Rail Beer & Ale', 'United Package'), (10433, 'Princesa Isabel Vinhoss', 'Federal Shipping'), (10434, 'Folk och fä HB', 'United Package'), (10435, 'Consolidated Holdings', 'United Package'), (10436, 'Blondel père et fils', 'United Package'), (10437, 'Wartian Herkku', 'Speedy Express'), (10438, 'Toms Spezialitäten', 'United Package'), (10439, 'Mère Paillarde', 'Federal Shipping'), (10440, 'Save-a-lot Markets', 'United Package'), (10441, 'Old World Delicatessen', 'United Package'), (10442, 'Ernst Handel', 'United Package'), (10443, 'Reggiani Caseifici', 'Speedy Express')]\n"
     ]
    }
   ],
   "execution_count": 87
  },
  {
   "metadata": {
    "ExecuteTime": {
     "end_time": "2024-07-04T04:27:07.212687Z",
     "start_time": "2024-07-04T04:27:07.210271Z"
    }
   },
   "cell_type": "code",
   "source": [
    "print(select_query(\"\"\"\n",
    "SELECT Customers.CustomerName, Orders.OrderID\n",
    "FROM Customers\n",
    "LEFT JOIN Orders ON Customers.CustomerID = Orders.CustomerID\n",
    "ORDER BY Customers.CustomerName;\n",
    "\"\"\"))"
   ],
   "id": "53c6d0f4c345c6a3",
   "outputs": [
    {
     "name": "stdout",
     "output_type": "stream",
     "text": [
      "[('Alfreds Futterkiste', None), ('Ana Trujillo Emparedados y helados', 10308), ('Antonio Moreno Taquería', 10365), ('Around the Horn', 10355), ('Around the Horn', 10383), (\"B's Beverages\", 10289), ('Berglunds snabbköp', 10278), ('Berglunds snabbköp', 10280), ('Berglunds snabbköp', 10384), ('Blauer See Delikatessen', None), ('Blondel père et fils', 10265), ('Blondel père et fils', 10297), ('Blondel père et fils', 10360), ('Blondel père et fils', 10436), (\"Bon app'\", 10331), (\"Bon app'\", 10340), (\"Bon app'\", 10362), ('Bottom-Dollar Marketse', 10389), ('Bottom-Dollar Marketse', 10410), ('Bottom-Dollar Marketse', 10411), ('Bottom-Dollar Marketse', 10431), ('Bólido Comidas preparadas', 10326), ('Cactus Comidas para llevar', None), ('Centro comercial Moctezuma', 10259), ('Chop-suey Chinese', 10254), ('Chop-suey Chinese', 10370), ('Comércio Mineiro', 10290), ('Consolidated Holdings', 10435), ('Die Wandernde Kuh', 10301), ('Die Wandernde Kuh', 10312), ('Die Wandernde Kuh', 10348), ('Die Wandernde Kuh', 10356), ('Drachenblut Delikatessend', 10363), ('Drachenblut Delikatessend', 10391), ('Du monde entier', 10311), ('Eastern Connection', 10364), ('Eastern Connection', 10400), ('Ernst Handel', 10258), ('Ernst Handel', 10263), ('Ernst Handel', 10351), ('Ernst Handel', 10368), ('Ernst Handel', 10382), ('Ernst Handel', 10390), ('Ernst Handel', 10402), ('Ernst Handel', 10403), ('Ernst Handel', 10430), ('Ernst Handel', 10442), ('FISSA Fabrica Inter. Salchichas S.A.', None), ('Familia Arquibaldo', 10347), ('Familia Arquibaldo', 10386), ('Familia Arquibaldo', 10414), ('Folies gourmandes', 10408), ('Folk och fä HB', 10264), ('Folk och fä HB', 10327), ('Folk och fä HB', 10378), ('Folk och fä HB', 10434), ('France restauration', None), ('Franchi S.p.A.', 10422), ('Frankenversand', 10267), ('Frankenversand', 10337), ('Frankenversand', 10342), ('Frankenversand', 10396), ('Furia Bacalhau e Frutos do Mar', 10328), ('Furia Bacalhau e Frutos do Mar', 10352), ('GROSELLA-Restaurante', 10268), ('Galería del gastrónomo', 10366), ('Galería del gastrónomo', 10426), ('Godos Cocina Típica', 10303), ('Gourmet Lanchonetes', 10423), ('Great Lakes Food Market', None), ('HILARIÓN-Abastos', 10257), ('HILARIÓN-Abastos', 10395), ('Hanari Carnes', 10250), ('Hanari Carnes', 10253), ('Hungry Coyote Import Store', 10375), ('Hungry Coyote Import Store', 10394), ('Hungry Coyote Import Store', 10415), ('Hungry Owl All-Night Grocers', 10298), ('Hungry Owl All-Night Grocers', 10309), ('Hungry Owl All-Night Grocers', 10335), ('Hungry Owl All-Night Grocers', 10373), ('Hungry Owl All-Night Grocers', 10380), ('Hungry Owl All-Night Grocers', 10429), ('Island Trading', 10315), ('Island Trading', 10318), ('Island Trading', 10321), ('Königlich Essen', 10323), ('Königlich Essen', 10325), ('LILA-Supermercado', 10283), ('LILA-Supermercado', 10296), ('LILA-Supermercado', 10330), ('LILA-Supermercado', 10357), ('LILA-Supermercado', 10381), ('LINO-Delicateses', 10405), (\"La corne d'abondance\", None), (\"La maison d'Asie\", 10350), (\"La maison d'Asie\", 10358), (\"La maison d'Asie\", 10371), (\"La maison d'Asie\", 10413), (\"La maison d'Asie\", 10425), ('Laughing Bacchus Wine Cellars', None), ('Lazy K Kountry Store', None), ('Lehmanns Marktstand', 10279), ('Lehmanns Marktstand', 10284), ('Lehmanns Marktstand', 10343), (\"Let's Stop N Shop\", None), ('Lonesome Pine Restaurant', 10307), ('Lonesome Pine Restaurant', 10317), ('Magazzini Alimentari Riuniti', 10275), ('Magazzini Alimentari Riuniti', 10300), ('Magazzini Alimentari Riuniti', 10404), ('Maison Dewey', None), ('Morgenstern Gesundkost', 10277), ('Mère Paillarde', 10332), ('Mère Paillarde', 10339), ('Mère Paillarde', 10376), ('Mère Paillarde', 10424), ('Mère Paillarde', 10439), ('North/South', None), ('Océano Atlántico Ltda.', 10409), ('Old World Delicatessen', 10260), ('Old World Delicatessen', 10305), ('Old World Delicatessen', 10338), ('Old World Delicatessen', 10441), ('Ottilies Käseladen', 10407), ('Paris spécialités', None), ('Pericles Comidas clásicas', 10322), ('Pericles Comidas clásicas', 10354), ('Piccolo und mehr', 10353), ('Piccolo und mehr', 10392), ('Piccolo und mehr', 10427), ('Princesa Isabel Vinhoss', 10336), ('Princesa Isabel Vinhoss', 10397), ('Princesa Isabel Vinhoss', 10433), ('QUICK-Stop', 10273), ('QUICK-Stop', 10285), ('QUICK-Stop', 10286), ('QUICK-Stop', 10313), ('QUICK-Stop', 10345), ('QUICK-Stop', 10361), ('QUICK-Stop', 10418), ('Que Delícia', 10261), ('Que Delícia', 10291), ('Que Delícia', 10379), ('Que Delícia', 10421), ('Queen Cozinha', 10372), ('Queen Cozinha', 10406), ('Rancho grande', None), ('Rattlesnake Canyon Grocery', 10262), ('Rattlesnake Canyon Grocery', 10272), ('Rattlesnake Canyon Grocery', 10294), ('Rattlesnake Canyon Grocery', 10314), ('Rattlesnake Canyon Grocery', 10316), ('Rattlesnake Canyon Grocery', 10346), ('Rattlesnake Canyon Grocery', 10401), ('Reggiani Caseifici', 10288), ('Reggiani Caseifici', 10428), ('Reggiani Caseifici', 10443), ('Ricardo Adocicados', 10287), ('Ricardo Adocicados', 10299), ('Richter Supermarkt', 10255), ('Richter Supermarkt', 10419), ('Romero y tomillo', 10281), ('Romero y tomillo', 10282), ('Romero y tomillo', 10306), ('Santé Gourmet', 10387), ('Save-a-lot Markets', 10324), ('Save-a-lot Markets', 10393), ('Save-a-lot Markets', 10398), ('Save-a-lot Markets', 10440), ('Seven Seas Imports', 10359), ('Seven Seas Imports', 10377), ('Seven Seas Imports', 10388), ('Simons bistro', 10341), ('Simons bistro', 10417), ('Split Rail Beer & Ale', 10271), ('Split Rail Beer & Ale', 10329), ('Split Rail Beer & Ale', 10349), ('Split Rail Beer & Ale', 10369), ('Split Rail Beer & Ale', 10385), ('Split Rail Beer & Ale', 10432), ('Spécialités du monde', None), ('Suprêmes délices', 10252), ('Suprêmes délices', 10302), ('The Big Cheese', 10310), ('The Cracker Box', None), ('Toms Spezialitäten', 10438), ('Tortuga Restaurante', 10276), ('Tortuga Restaurante', 10293), ('Tortuga Restaurante', 10304), ('Tortuga Restaurante', 10319), ('Tradição Hipermercados', 10249), ('Tradição Hipermercados', 10292), (\"Trail's Head Gourmet Provisioners\", None), ('Vaffeljernet', 10367), ('Vaffeljernet', 10399), ('Victuailles en stock', 10251), ('Victuailles en stock', 10334), ('Vins et alcools Chevalier', 10274), ('Vins et alcools Chevalier', 10295), ('Wartian Herkku', 10266), ('Wartian Herkku', 10270), ('Wartian Herkku', 10320), ('Wartian Herkku', 10333), ('Wartian Herkku', 10412), ('Wartian Herkku', 10416), ('Wartian Herkku', 10437), ('Wellington Importadora', 10256), ('Wellington Importadora', 10420), ('White Clover Markets', 10269), ('White Clover Markets', 10344), ('Wilman Kala', 10248), ('Wolski', 10374)]\n"
     ]
    }
   ],
   "execution_count": 88
  },
  {
   "metadata": {
    "ExecuteTime": {
     "end_time": "2024-07-04T04:27:07.255900Z",
     "start_time": "2024-07-04T04:27:07.253645Z"
    }
   },
   "cell_type": "code",
   "source": [
    "print(select_query(\"\"\"\n",
    "SELECT Orders.OrderID, Employees.LastName, Employees.FirstName\n",
    "FROM Orders\n",
    "RIGHT JOIN Employees ON Orders.EmployeeID = Employees.EmployeeID\n",
    "ORDER BY Orders.OrderID;\n",
    "\"\"\"))"
   ],
   "id": "ed73b07ad40840e6",
   "outputs": [
    {
     "name": "stdout",
     "output_type": "stream",
     "text": [
      "[(None, 'West', 'Adam'), (10248, 'Buchanan', 'Steven'), (10249, 'Suyama', 'Michael'), (10250, 'Peacock', 'Margaret'), (10251, 'Leverling', 'Janet'), (10252, 'Peacock', 'Margaret'), (10253, 'Leverling', 'Janet'), (10254, 'Buchanan', 'Steven'), (10255, 'Dodsworth', 'Anne'), (10256, 'Leverling', 'Janet'), (10257, 'Peacock', 'Margaret'), (10258, 'Davolio', 'Nancy'), (10259, 'Peacock', 'Margaret'), (10260, 'Peacock', 'Margaret'), (10261, 'Peacock', 'Margaret'), (10262, 'Callahan', 'Laura'), (10263, 'Dodsworth', 'Anne'), (10264, 'Suyama', 'Michael'), (10265, 'Fuller', 'Andrew'), (10266, 'Leverling', 'Janet'), (10267, 'Peacock', 'Margaret'), (10268, 'Callahan', 'Laura'), (10269, 'Buchanan', 'Steven'), (10270, 'Davolio', 'Nancy'), (10271, 'Suyama', 'Michael'), (10272, 'Suyama', 'Michael'), (10273, 'Leverling', 'Janet'), (10274, 'Suyama', 'Michael'), (10275, 'Davolio', 'Nancy'), (10276, 'Callahan', 'Laura'), (10277, 'Fuller', 'Andrew'), (10278, 'Callahan', 'Laura'), (10279, 'Callahan', 'Laura'), (10280, 'Fuller', 'Andrew'), (10281, 'Peacock', 'Margaret'), (10282, 'Peacock', 'Margaret'), (10283, 'Leverling', 'Janet'), (10284, 'Peacock', 'Margaret'), (10285, 'Davolio', 'Nancy'), (10286, 'Callahan', 'Laura'), (10287, 'Callahan', 'Laura'), (10288, 'Peacock', 'Margaret'), (10289, 'King', 'Robert'), (10290, 'Callahan', 'Laura'), (10291, 'Suyama', 'Michael'), (10292, 'Davolio', 'Nancy'), (10293, 'Davolio', 'Nancy'), (10294, 'Peacock', 'Margaret'), (10295, 'Fuller', 'Andrew'), (10296, 'Suyama', 'Michael'), (10297, 'Buchanan', 'Steven'), (10298, 'Suyama', 'Michael'), (10299, 'Peacock', 'Margaret'), (10300, 'Fuller', 'Andrew'), (10301, 'Callahan', 'Laura'), (10302, 'Peacock', 'Margaret'), (10303, 'King', 'Robert'), (10304, 'Davolio', 'Nancy'), (10305, 'Callahan', 'Laura'), (10306, 'Davolio', 'Nancy'), (10307, 'Fuller', 'Andrew'), (10308, 'King', 'Robert'), (10309, 'Leverling', 'Janet'), (10310, 'Callahan', 'Laura'), (10311, 'Davolio', 'Nancy'), (10312, 'Fuller', 'Andrew'), (10313, 'Fuller', 'Andrew'), (10314, 'Davolio', 'Nancy'), (10315, 'Peacock', 'Margaret'), (10316, 'Davolio', 'Nancy'), (10317, 'Suyama', 'Michael'), (10318, 'Callahan', 'Laura'), (10319, 'King', 'Robert'), (10320, 'Buchanan', 'Steven'), (10321, 'Leverling', 'Janet'), (10322, 'King', 'Robert'), (10323, 'Peacock', 'Margaret'), (10324, 'Dodsworth', 'Anne'), (10325, 'Davolio', 'Nancy'), (10326, 'Peacock', 'Margaret'), (10327, 'Fuller', 'Andrew'), (10328, 'Peacock', 'Margaret'), (10329, 'Peacock', 'Margaret'), (10330, 'Leverling', 'Janet'), (10331, 'Dodsworth', 'Anne'), (10332, 'Leverling', 'Janet'), (10333, 'Buchanan', 'Steven'), (10334, 'Callahan', 'Laura'), (10335, 'King', 'Robert'), (10336, 'King', 'Robert'), (10337, 'Peacock', 'Margaret'), (10338, 'Peacock', 'Margaret'), (10339, 'Fuller', 'Andrew'), (10340, 'Davolio', 'Nancy'), (10341, 'King', 'Robert'), (10342, 'Peacock', 'Margaret'), (10343, 'Peacock', 'Margaret'), (10344, 'Peacock', 'Margaret'), (10345, 'Fuller', 'Andrew'), (10346, 'Leverling', 'Janet'), (10347, 'Peacock', 'Margaret'), (10348, 'Peacock', 'Margaret'), (10349, 'King', 'Robert'), (10350, 'Suyama', 'Michael'), (10351, 'Davolio', 'Nancy'), (10352, 'Leverling', 'Janet'), (10353, 'King', 'Robert'), (10354, 'Callahan', 'Laura'), (10355, 'Suyama', 'Michael'), (10356, 'Suyama', 'Michael'), (10357, 'Davolio', 'Nancy'), (10358, 'Buchanan', 'Steven'), (10359, 'Buchanan', 'Steven'), (10360, 'Peacock', 'Margaret'), (10361, 'Davolio', 'Nancy'), (10362, 'Leverling', 'Janet'), (10363, 'Peacock', 'Margaret'), (10364, 'Davolio', 'Nancy'), (10365, 'Leverling', 'Janet'), (10366, 'Callahan', 'Laura'), (10367, 'King', 'Robert'), (10368, 'Fuller', 'Andrew'), (10369, 'Callahan', 'Laura'), (10370, 'Suyama', 'Michael'), (10371, 'Davolio', 'Nancy'), (10372, 'Buchanan', 'Steven'), (10373, 'Peacock', 'Margaret'), (10374, 'Davolio', 'Nancy'), (10375, 'Leverling', 'Janet'), (10376, 'Davolio', 'Nancy'), (10377, 'Davolio', 'Nancy'), (10378, 'Buchanan', 'Steven'), (10379, 'Fuller', 'Andrew'), (10380, 'Callahan', 'Laura'), (10381, 'Leverling', 'Janet'), (10382, 'Peacock', 'Margaret'), (10383, 'Callahan', 'Laura'), (10384, 'Leverling', 'Janet'), (10385, 'Davolio', 'Nancy'), (10386, 'Dodsworth', 'Anne'), (10387, 'Davolio', 'Nancy'), (10388, 'Fuller', 'Andrew'), (10389, 'Peacock', 'Margaret'), (10390, 'Suyama', 'Michael'), (10391, 'Leverling', 'Janet'), (10392, 'Fuller', 'Andrew'), (10393, 'Davolio', 'Nancy'), (10394, 'Davolio', 'Nancy'), (10395, 'Suyama', 'Michael'), (10396, 'Davolio', 'Nancy'), (10397, 'Buchanan', 'Steven'), (10398, 'Fuller', 'Andrew'), (10399, 'Callahan', 'Laura'), (10400, 'Davolio', 'Nancy'), (10401, 'Davolio', 'Nancy'), (10402, 'Callahan', 'Laura'), (10403, 'Peacock', 'Margaret'), (10404, 'Fuller', 'Andrew'), (10405, 'Davolio', 'Nancy'), (10406, 'King', 'Robert'), (10407, 'Fuller', 'Andrew'), (10408, 'Callahan', 'Laura'), (10409, 'Leverling', 'Janet'), (10410, 'Leverling', 'Janet'), (10411, 'Dodsworth', 'Anne'), (10412, 'Callahan', 'Laura'), (10413, 'Leverling', 'Janet'), (10414, 'Fuller', 'Andrew'), (10415, 'Leverling', 'Janet'), (10416, 'Callahan', 'Laura'), (10417, 'Peacock', 'Margaret'), (10418, 'Peacock', 'Margaret'), (10419, 'Peacock', 'Margaret'), (10420, 'Leverling', 'Janet'), (10421, 'Callahan', 'Laura'), (10422, 'Fuller', 'Andrew'), (10423, 'Suyama', 'Michael'), (10424, 'King', 'Robert'), (10425, 'Suyama', 'Michael'), (10426, 'Peacock', 'Margaret'), (10427, 'Peacock', 'Margaret'), (10428, 'King', 'Robert'), (10429, 'Leverling', 'Janet'), (10430, 'Peacock', 'Margaret'), (10431, 'Peacock', 'Margaret'), (10432, 'Leverling', 'Janet'), (10433, 'Leverling', 'Janet'), (10434, 'Leverling', 'Janet'), (10435, 'Callahan', 'Laura'), (10436, 'Leverling', 'Janet'), (10437, 'Callahan', 'Laura'), (10438, 'Leverling', 'Janet'), (10439, 'Suyama', 'Michael'), (10440, 'Peacock', 'Margaret'), (10441, 'Leverling', 'Janet'), (10442, 'Leverling', 'Janet'), (10443, 'Callahan', 'Laura')]\n"
     ]
    }
   ],
   "execution_count": 89
  },
  {
   "metadata": {
    "ExecuteTime": {
     "end_time": "2024-07-04T04:27:07.303729Z",
     "start_time": "2024-07-04T04:27:07.300823Z"
    }
   },
   "cell_type": "code",
   "source": [
    "print(select_query(\"\"\"\n",
    "SELECT Customers.CustomerName, Orders.OrderID\n",
    "FROM Customers\n",
    "FULL OUTER JOIN Orders ON Customers.CustomerID=Orders.CustomerID\n",
    "ORDER BY Customers.CustomerName;\n",
    "\"\"\"))"
   ],
   "id": "43909f8e60d886ef",
   "outputs": [
    {
     "name": "stdout",
     "output_type": "stream",
     "text": [
      "[('Alfreds Futterkiste', None), ('Ana Trujillo Emparedados y helados', 10308), ('Antonio Moreno Taquería', 10365), ('Around the Horn', 10355), ('Around the Horn', 10383), (\"B's Beverages\", 10289), ('Berglunds snabbköp', 10278), ('Berglunds snabbköp', 10280), ('Berglunds snabbköp', 10384), ('Blauer See Delikatessen', None), ('Blondel père et fils', 10265), ('Blondel père et fils', 10297), ('Blondel père et fils', 10360), ('Blondel père et fils', 10436), (\"Bon app'\", 10331), (\"Bon app'\", 10340), (\"Bon app'\", 10362), ('Bottom-Dollar Marketse', 10389), ('Bottom-Dollar Marketse', 10410), ('Bottom-Dollar Marketse', 10411), ('Bottom-Dollar Marketse', 10431), ('Bólido Comidas preparadas', 10326), ('Cactus Comidas para llevar', None), ('Centro comercial Moctezuma', 10259), ('Chop-suey Chinese', 10254), ('Chop-suey Chinese', 10370), ('Comércio Mineiro', 10290), ('Consolidated Holdings', 10435), ('Die Wandernde Kuh', 10301), ('Die Wandernde Kuh', 10312), ('Die Wandernde Kuh', 10348), ('Die Wandernde Kuh', 10356), ('Drachenblut Delikatessend', 10363), ('Drachenblut Delikatessend', 10391), ('Du monde entier', 10311), ('Eastern Connection', 10364), ('Eastern Connection', 10400), ('Ernst Handel', 10258), ('Ernst Handel', 10263), ('Ernst Handel', 10351), ('Ernst Handel', 10368), ('Ernst Handel', 10382), ('Ernst Handel', 10390), ('Ernst Handel', 10402), ('Ernst Handel', 10403), ('Ernst Handel', 10430), ('Ernst Handel', 10442), ('FISSA Fabrica Inter. Salchichas S.A.', None), ('Familia Arquibaldo', 10347), ('Familia Arquibaldo', 10386), ('Familia Arquibaldo', 10414), ('Folies gourmandes', 10408), ('Folk och fä HB', 10264), ('Folk och fä HB', 10327), ('Folk och fä HB', 10378), ('Folk och fä HB', 10434), ('France restauration', None), ('Franchi S.p.A.', 10422), ('Frankenversand', 10267), ('Frankenversand', 10337), ('Frankenversand', 10342), ('Frankenversand', 10396), ('Furia Bacalhau e Frutos do Mar', 10328), ('Furia Bacalhau e Frutos do Mar', 10352), ('GROSELLA-Restaurante', 10268), ('Galería del gastrónomo', 10366), ('Galería del gastrónomo', 10426), ('Godos Cocina Típica', 10303), ('Gourmet Lanchonetes', 10423), ('Great Lakes Food Market', None), ('HILARIÓN-Abastos', 10257), ('HILARIÓN-Abastos', 10395), ('Hanari Carnes', 10250), ('Hanari Carnes', 10253), ('Hungry Coyote Import Store', 10375), ('Hungry Coyote Import Store', 10394), ('Hungry Coyote Import Store', 10415), ('Hungry Owl All-Night Grocers', 10298), ('Hungry Owl All-Night Grocers', 10309), ('Hungry Owl All-Night Grocers', 10335), ('Hungry Owl All-Night Grocers', 10373), ('Hungry Owl All-Night Grocers', 10380), ('Hungry Owl All-Night Grocers', 10429), ('Island Trading', 10315), ('Island Trading', 10318), ('Island Trading', 10321), ('Königlich Essen', 10323), ('Königlich Essen', 10325), ('LILA-Supermercado', 10283), ('LILA-Supermercado', 10296), ('LILA-Supermercado', 10330), ('LILA-Supermercado', 10357), ('LILA-Supermercado', 10381), ('LINO-Delicateses', 10405), (\"La corne d'abondance\", None), (\"La maison d'Asie\", 10350), (\"La maison d'Asie\", 10358), (\"La maison d'Asie\", 10371), (\"La maison d'Asie\", 10413), (\"La maison d'Asie\", 10425), ('Laughing Bacchus Wine Cellars', None), ('Lazy K Kountry Store', None), ('Lehmanns Marktstand', 10279), ('Lehmanns Marktstand', 10284), ('Lehmanns Marktstand', 10343), (\"Let's Stop N Shop\", None), ('Lonesome Pine Restaurant', 10307), ('Lonesome Pine Restaurant', 10317), ('Magazzini Alimentari Riuniti', 10275), ('Magazzini Alimentari Riuniti', 10300), ('Magazzini Alimentari Riuniti', 10404), ('Maison Dewey', None), ('Morgenstern Gesundkost', 10277), ('Mère Paillarde', 10332), ('Mère Paillarde', 10339), ('Mère Paillarde', 10376), ('Mère Paillarde', 10424), ('Mère Paillarde', 10439), ('North/South', None), ('Océano Atlántico Ltda.', 10409), ('Old World Delicatessen', 10260), ('Old World Delicatessen', 10305), ('Old World Delicatessen', 10338), ('Old World Delicatessen', 10441), ('Ottilies Käseladen', 10407), ('Paris spécialités', None), ('Pericles Comidas clásicas', 10322), ('Pericles Comidas clásicas', 10354), ('Piccolo und mehr', 10353), ('Piccolo und mehr', 10392), ('Piccolo und mehr', 10427), ('Princesa Isabel Vinhoss', 10336), ('Princesa Isabel Vinhoss', 10397), ('Princesa Isabel Vinhoss', 10433), ('QUICK-Stop', 10273), ('QUICK-Stop', 10285), ('QUICK-Stop', 10286), ('QUICK-Stop', 10313), ('QUICK-Stop', 10345), ('QUICK-Stop', 10361), ('QUICK-Stop', 10418), ('Que Delícia', 10261), ('Que Delícia', 10291), ('Que Delícia', 10379), ('Que Delícia', 10421), ('Queen Cozinha', 10372), ('Queen Cozinha', 10406), ('Rancho grande', None), ('Rattlesnake Canyon Grocery', 10262), ('Rattlesnake Canyon Grocery', 10272), ('Rattlesnake Canyon Grocery', 10294), ('Rattlesnake Canyon Grocery', 10314), ('Rattlesnake Canyon Grocery', 10316), ('Rattlesnake Canyon Grocery', 10346), ('Rattlesnake Canyon Grocery', 10401), ('Reggiani Caseifici', 10288), ('Reggiani Caseifici', 10428), ('Reggiani Caseifici', 10443), ('Ricardo Adocicados', 10287), ('Ricardo Adocicados', 10299), ('Richter Supermarkt', 10255), ('Richter Supermarkt', 10419), ('Romero y tomillo', 10281), ('Romero y tomillo', 10282), ('Romero y tomillo', 10306), ('Santé Gourmet', 10387), ('Save-a-lot Markets', 10324), ('Save-a-lot Markets', 10393), ('Save-a-lot Markets', 10398), ('Save-a-lot Markets', 10440), ('Seven Seas Imports', 10359), ('Seven Seas Imports', 10377), ('Seven Seas Imports', 10388), ('Simons bistro', 10341), ('Simons bistro', 10417), ('Split Rail Beer & Ale', 10271), ('Split Rail Beer & Ale', 10329), ('Split Rail Beer & Ale', 10349), ('Split Rail Beer & Ale', 10369), ('Split Rail Beer & Ale', 10385), ('Split Rail Beer & Ale', 10432), ('Spécialités du monde', None), ('Suprêmes délices', 10252), ('Suprêmes délices', 10302), ('The Big Cheese', 10310), ('The Cracker Box', None), ('Toms Spezialitäten', 10438), ('Tortuga Restaurante', 10276), ('Tortuga Restaurante', 10293), ('Tortuga Restaurante', 10304), ('Tortuga Restaurante', 10319), ('Tradição Hipermercados', 10249), ('Tradição Hipermercados', 10292), (\"Trail's Head Gourmet Provisioners\", None), ('Vaffeljernet', 10367), ('Vaffeljernet', 10399), ('Victuailles en stock', 10251), ('Victuailles en stock', 10334), ('Vins et alcools Chevalier', 10274), ('Vins et alcools Chevalier', 10295), ('Wartian Herkku', 10266), ('Wartian Herkku', 10270), ('Wartian Herkku', 10320), ('Wartian Herkku', 10333), ('Wartian Herkku', 10412), ('Wartian Herkku', 10416), ('Wartian Herkku', 10437), ('Wellington Importadora', 10256), ('Wellington Importadora', 10420), ('White Clover Markets', 10269), ('White Clover Markets', 10344), ('Wilman Kala', 10248), ('Wolski', 10374)]\n"
     ]
    }
   ],
   "execution_count": 90
  },
  {
   "metadata": {
    "ExecuteTime": {
     "end_time": "2024-07-04T04:27:07.367923Z",
     "start_time": "2024-07-04T04:27:07.365880Z"
    }
   },
   "cell_type": "code",
   "source": [
    "print(select_query(\"\"\"\n",
    "SELECT A.CustomerName AS CustomerName1, B.CustomerName AS CustomerName2, A.City\n",
    "FROM Customers A, Customers B\n",
    "WHERE A.CustomerID <> B.CustomerID\n",
    "AND A.City = B.City\n",
    "ORDER BY A.City;\n",
    "\"\"\"))"
   ],
   "id": "e62d0a4c6e0e7f08",
   "outputs": [
    {
     "name": "stdout",
     "output_type": "stream",
     "text": [
      "[('Cactus Comidas para llevar', 'Océano Atlántico Ltda.', 'Buenos Aires'), ('Cactus Comidas para llevar', 'Rancho grande', 'Buenos Aires'), ('Océano Atlántico Ltda.', 'Cactus Comidas para llevar', 'Buenos Aires'), ('Océano Atlántico Ltda.', 'Rancho grande', 'Buenos Aires'), ('Rancho grande', 'Cactus Comidas para llevar', 'Buenos Aires'), ('Rancho grande', 'Océano Atlántico Ltda.', 'Buenos Aires'), ('Furia Bacalhau e Frutos do Mar', 'Princesa Isabel Vinhoss', 'Lisboa'), ('Princesa Isabel Vinhoss', 'Furia Bacalhau e Frutos do Mar', 'Lisboa'), ('Around the Horn', \"B's Beverages\", 'London'), ('Around the Horn', 'Consolidated Holdings', 'London'), ('Around the Horn', 'Eastern Connection', 'London'), ('Around the Horn', 'North/South', 'London'), ('Around the Horn', 'Seven Seas Imports', 'London'), (\"B's Beverages\", 'Around the Horn', 'London'), (\"B's Beverages\", 'Consolidated Holdings', 'London'), (\"B's Beverages\", 'Eastern Connection', 'London'), (\"B's Beverages\", 'North/South', 'London'), (\"B's Beverages\", 'Seven Seas Imports', 'London'), ('Consolidated Holdings', 'Around the Horn', 'London'), ('Consolidated Holdings', \"B's Beverages\", 'London'), ('Consolidated Holdings', 'Eastern Connection', 'London'), ('Consolidated Holdings', 'North/South', 'London'), ('Consolidated Holdings', 'Seven Seas Imports', 'London'), ('Eastern Connection', 'Around the Horn', 'London'), ('Eastern Connection', \"B's Beverages\", 'London'), ('Eastern Connection', 'Consolidated Holdings', 'London'), ('Eastern Connection', 'North/South', 'London'), ('Eastern Connection', 'Seven Seas Imports', 'London'), ('North/South', 'Around the Horn', 'London'), ('North/South', \"B's Beverages\", 'London'), ('North/South', 'Consolidated Holdings', 'London'), ('North/South', 'Eastern Connection', 'London'), ('North/South', 'Seven Seas Imports', 'London'), ('Seven Seas Imports', 'Around the Horn', 'London'), ('Seven Seas Imports', \"B's Beverages\", 'London'), ('Seven Seas Imports', 'Consolidated Holdings', 'London'), ('Seven Seas Imports', 'Eastern Connection', 'London'), ('Seven Seas Imports', 'North/South', 'London'), ('Bólido Comidas preparadas', 'FISSA Fabrica Inter. Salchichas S.A.', 'Madrid'), ('Bólido Comidas preparadas', 'Romero y tomillo', 'Madrid'), ('FISSA Fabrica Inter. Salchichas S.A.', 'Bólido Comidas preparadas', 'Madrid'), ('FISSA Fabrica Inter. Salchichas S.A.', 'Romero y tomillo', 'Madrid'), ('Romero y tomillo', 'Bólido Comidas preparadas', 'Madrid'), ('Romero y tomillo', 'FISSA Fabrica Inter. Salchichas S.A.', 'Madrid'), ('Ana Trujillo Emparedados y helados', 'Antonio Moreno Taquería', 'México D.F.'), ('Ana Trujillo Emparedados y helados', 'Centro comercial Moctezuma', 'México D.F.'), ('Ana Trujillo Emparedados y helados', 'Pericles Comidas clásicas', 'México D.F.'), ('Ana Trujillo Emparedados y helados', 'Tortuga Restaurante', 'México D.F.'), ('Antonio Moreno Taquería', 'Ana Trujillo Emparedados y helados', 'México D.F.'), ('Antonio Moreno Taquería', 'Centro comercial Moctezuma', 'México D.F.'), ('Antonio Moreno Taquería', 'Pericles Comidas clásicas', 'México D.F.'), ('Antonio Moreno Taquería', 'Tortuga Restaurante', 'México D.F.'), ('Centro comercial Moctezuma', 'Ana Trujillo Emparedados y helados', 'México D.F.'), ('Centro comercial Moctezuma', 'Antonio Moreno Taquería', 'México D.F.'), ('Centro comercial Moctezuma', 'Pericles Comidas clásicas', 'México D.F.'), ('Centro comercial Moctezuma', 'Tortuga Restaurante', 'México D.F.'), ('Pericles Comidas clásicas', 'Ana Trujillo Emparedados y helados', 'México D.F.'), ('Pericles Comidas clásicas', 'Antonio Moreno Taquería', 'México D.F.'), ('Pericles Comidas clásicas', 'Centro comercial Moctezuma', 'México D.F.'), ('Pericles Comidas clásicas', 'Tortuga Restaurante', 'México D.F.'), ('Tortuga Restaurante', 'Ana Trujillo Emparedados y helados', 'México D.F.'), ('Tortuga Restaurante', 'Antonio Moreno Taquería', 'México D.F.'), ('Tortuga Restaurante', 'Centro comercial Moctezuma', 'México D.F.'), ('Tortuga Restaurante', 'Pericles Comidas clásicas', 'México D.F.'), ('Du monde entier', 'France restauration', 'Nantes'), ('France restauration', 'Du monde entier', 'Nantes'), ('Paris spécialités', 'Spécialités du monde', 'Paris'), ('Spécialités du monde', 'Paris spécialités', 'Paris'), ('Lonesome Pine Restaurant', 'The Big Cheese', 'Portland'), ('The Big Cheese', 'Lonesome Pine Restaurant', 'Portland'), ('Hanari Carnes', 'Que Delícia', 'Rio de Janeiro'), ('Hanari Carnes', 'Ricardo Adocicados', 'Rio de Janeiro'), ('Que Delícia', 'Hanari Carnes', 'Rio de Janeiro'), ('Que Delícia', 'Ricardo Adocicados', 'Rio de Janeiro'), ('Ricardo Adocicados', 'Hanari Carnes', 'Rio de Janeiro'), ('Ricardo Adocicados', 'Que Delícia', 'Rio de Janeiro'), ('Comércio Mineiro', 'Familia Arquibaldo', 'São Paulo'), ('Comércio Mineiro', 'Queen Cozinha', 'São Paulo'), ('Comércio Mineiro', 'Tradição Hipermercados', 'São Paulo'), ('Familia Arquibaldo', 'Comércio Mineiro', 'São Paulo'), ('Familia Arquibaldo', 'Queen Cozinha', 'São Paulo'), ('Familia Arquibaldo', 'Tradição Hipermercados', 'São Paulo'), ('Queen Cozinha', 'Comércio Mineiro', 'São Paulo'), ('Queen Cozinha', 'Familia Arquibaldo', 'São Paulo'), ('Queen Cozinha', 'Tradição Hipermercados', 'São Paulo'), ('Tradição Hipermercados', 'Comércio Mineiro', 'São Paulo'), ('Tradição Hipermercados', 'Familia Arquibaldo', 'São Paulo'), ('Tradição Hipermercados', 'Queen Cozinha', 'São Paulo')]\n"
     ]
    }
   ],
   "execution_count": 91
  },
  {
   "metadata": {
    "ExecuteTime": {
     "end_time": "2024-07-04T04:27:07.415619Z",
     "start_time": "2024-07-04T04:27:07.413448Z"
    }
   },
   "cell_type": "code",
   "source": [
    "print(select_query(\"\"\"\n",
    "SELECT City FROM Customers\n",
    "UNION\n",
    "SELECT City FROM Suppliers\n",
    "ORDER BY City;\n",
    "\"\"\"))"
   ],
   "id": "f29d0f8b8420703a",
   "outputs": [
    {
     "name": "stdout",
     "output_type": "stream",
     "text": [
      "[('Aachen',), ('Albuquerque',), ('Anchorage',), ('Ann Arbor',), ('Annecy',), ('Barcelona',), ('Barquisimeto',), ('Bend',), ('Bergamo',), ('Berlin',), ('Bern',), ('Boise',), ('Boston',), ('Brandenburg',), ('Bruxelles',), ('Bräcke',), ('Buenos Aires',), ('Butte',), ('Campinas',), ('Caracas',), ('Charleroi',), ('Cork',), ('Cowes',), ('Cunewalde',), ('Cuxhaven',), ('Elgin',), ('Eugene',), ('Frankfurt',), ('Frankfurt a.M.',), ('Genève',), ('Graz',), ('Göteborg',), ('Helsinki',), ('I. de Margarita',), ('Kirkland',), ('Köln',), ('København',), ('Lander',), ('Lappeenranta',), ('Leipzig',), ('Lille',), ('Lisboa',), ('London',), ('Londona',), ('Luleå',), ('Lyngby',), ('Lyon',), ('Madrid',), ('Manchester',), ('Mannheim',), ('Marseille',), ('Melbourne',), ('Montceau',), ('Montréal',), ('México D.F.',), ('München',), ('Münster',), ('Nantes',), ('New Orleans',), ('Osaka',), ('Oulu',), ('Oviedo',), ('Paris',), ('Portland',), ('Ravenna',), ('Reggio Emilia',), ('Reims',), ('Resende',), ('Rio de Janeiro',), ('Salerno',), ('Salzburg',), ('San Cristóbal',), ('San Francisco',), ('Sandvika',), ('Seattle',), ('Sevilla',), ('Singapore',), ('Stavern',), ('Ste-Hyacinthe',), ('Stockholm',), ('Strasbourg',), ('Stuttgart',), ('Sydney',), ('São Paulo',), ('Tokyo',), ('Torino',), ('Toulouse',), ('Tsawassen',), ('Vancouver',), ('Versailles',), ('Walla',), ('Walla Walla',), ('Zaandam',), ('Århus',)]\n"
     ]
    }
   ],
   "execution_count": 92
  },
  {
   "metadata": {
    "ExecuteTime": {
     "end_time": "2024-07-04T04:27:07.484194Z",
     "start_time": "2024-07-04T04:27:07.482316Z"
    }
   },
   "cell_type": "code",
   "source": [
    "print(select_query(\"\"\"\n",
    "SELECT City, Country FROM Customers\n",
    "WHERE Country='Germany'\n",
    "UNION ALL\n",
    "SELECT City, Country FROM Suppliers\n",
    "WHERE Country='Germany'\n",
    "ORDER BY City;\n",
    "\"\"\"))"
   ],
   "id": "97ccf483d9dd3579",
   "outputs": [
    {
     "name": "stdout",
     "output_type": "stream",
     "text": [
      "[('Aachen', 'Germany'), ('Berlin', 'Germany'), ('Berlin', 'Germany'), ('Brandenburg', 'Germany'), ('Cunewalde', 'Germany'), ('Cuxhaven', 'Germany'), ('Frankfurt', 'Germany'), ('Frankfurt a.M.', 'Germany'), ('Köln', 'Germany'), ('Leipzig', 'Germany'), ('Mannheim', 'Germany'), ('München', 'Germany'), ('Münster', 'Germany'), ('Stuttgart', 'Germany')]\n"
     ]
    }
   ],
   "execution_count": 93
  },
  {
   "metadata": {
    "ExecuteTime": {
     "end_time": "2024-07-04T04:27:07.548366Z",
     "start_time": "2024-07-04T04:27:07.546368Z"
    }
   },
   "cell_type": "code",
   "source": [
    "print(select_query(\"\"\"\n",
    "SELECT COUNT(CustomerID), Country\n",
    "FROM Customers\n",
    "GROUP BY Country;\n",
    "\"\"\"))"
   ],
   "id": "e8ee3255413ba132",
   "outputs": [
    {
     "name": "stdout",
     "output_type": "stream",
     "text": [
      "[(3, 'Argentina'), (2, 'Austria'), (2, 'Belgium'), (9, 'Brazil'), (3, 'Canada'), (2, 'Denmark'), (2, 'Finland'), (11, 'France'), (11, 'Germany'), (1, 'Ireland'), (3, 'Italy'), (5, 'Mexico'), (1, 'Norway'), (1, 'Poland'), (2, 'Portugal'), (5, 'Spain'), (2, 'Sweden'), (2, 'Switzerland'), (7, 'UK'), (13, 'USA'), (4, 'Venezuela')]\n"
     ]
    }
   ],
   "execution_count": 94
  },
  {
   "metadata": {
    "ExecuteTime": {
     "end_time": "2024-07-04T04:27:07.591959Z",
     "start_time": "2024-07-04T04:27:07.589811Z"
    }
   },
   "cell_type": "code",
   "source": [
    "print(select_query(\"\"\"\n",
    "SELECT COUNT(CustomerID), Country\n",
    "FROM Customers\n",
    "GROUP BY Country\n",
    "ORDER BY COUNT(CustomerID) DESC;\n",
    "\"\"\"))"
   ],
   "id": "69475f3a3986a8a",
   "outputs": [
    {
     "name": "stdout",
     "output_type": "stream",
     "text": [
      "[(13, 'USA'), (11, 'Germany'), (11, 'France'), (9, 'Brazil'), (7, 'UK'), (5, 'Spain'), (5, 'Mexico'), (4, 'Venezuela'), (3, 'Italy'), (3, 'Canada'), (3, 'Argentina'), (2, 'Switzerland'), (2, 'Sweden'), (2, 'Portugal'), (2, 'Finland'), (2, 'Denmark'), (2, 'Belgium'), (2, 'Austria'), (1, 'Poland'), (1, 'Norway'), (1, 'Ireland')]\n"
     ]
    }
   ],
   "execution_count": 95
  },
  {
   "metadata": {
    "ExecuteTime": {
     "end_time": "2024-07-04T04:27:07.657552Z",
     "start_time": "2024-07-04T04:27:07.655406Z"
    }
   },
   "cell_type": "code",
   "source": [
    "print(select_query(\"\"\"\n",
    "SELECT Shippers.ShipperName, COUNT(Orders.OrderID) AS NumberOfOrders FROM Orders\n",
    "LEFT JOIN Shippers ON Orders.ShipperID = Shippers.ShipperID\n",
    "GROUP BY ShipperName;\n",
    "\"\"\"))"
   ],
   "id": "a7b162b0c2903609",
   "outputs": [
    {
     "name": "stdout",
     "output_type": "stream",
     "text": [
      "[('Federal Shipping', 68), ('Speedy Express', 54), ('United Package', 74)]\n"
     ]
    }
   ],
   "execution_count": 96
  },
  {
   "metadata": {
    "ExecuteTime": {
     "end_time": "2024-07-04T04:27:07.679072Z",
     "start_time": "2024-07-04T04:27:07.677205Z"
    }
   },
   "cell_type": "code",
   "source": [
    "print(select_query(\"\"\"\n",
    "SELECT COUNT(CustomerID), Country\n",
    "FROM Customers\n",
    "GROUP BY Country\n",
    "HAVING COUNT(CustomerID) > 5;\n",
    "\"\"\"))"
   ],
   "id": "384b5be54ca641b8",
   "outputs": [
    {
     "name": "stdout",
     "output_type": "stream",
     "text": [
      "[(9, 'Brazil'), (11, 'France'), (11, 'Germany'), (7, 'UK'), (13, 'USA')]\n"
     ]
    }
   ],
   "execution_count": 97
  },
  {
   "metadata": {
    "ExecuteTime": {
     "end_time": "2024-07-04T04:27:07.717676Z",
     "start_time": "2024-07-04T04:27:07.715769Z"
    }
   },
   "cell_type": "code",
   "source": [
    "print(select_query(\"\"\"\n",
    "SELECT Employees.LastName, COUNT(Orders.OrderID) AS NumberOfOrders\n",
    "FROM Orders\n",
    "INNER JOIN Employees ON Orders.EmployeeID = Employees.EmployeeID\n",
    "WHERE LastName = 'Davolio' OR LastName = 'Fuller'\n",
    "GROUP BY LastName\n",
    "HAVING COUNT(Orders.OrderID) > 25;\n",
    "\"\"\"))"
   ],
   "id": "f0e9839b723a0a0",
   "outputs": [
    {
     "name": "stdout",
     "output_type": "stream",
     "text": [
      "[('Davolio', 29)]\n"
     ]
    }
   ],
   "execution_count": 98
  },
  {
   "metadata": {
    "ExecuteTime": {
     "end_time": "2024-07-04T04:27:07.764222Z",
     "start_time": "2024-07-04T04:27:07.761886Z"
    }
   },
   "cell_type": "code",
   "source": [
    "print(select_query(\"\"\"\n",
    "SELECT SupplierName\n",
    "FROM Suppliers\n",
    "WHERE EXISTS (SELECT ProductName FROM Products WHERE Products.SupplierID = Suppliers.supplierID AND Price < 20);\n",
    "\"\"\"))"
   ],
   "id": "ff23ef875caed6b1",
   "outputs": [
    {
     "name": "stdout",
     "output_type": "stream",
     "text": [
      "[('Exotic Liquid',), ('New Orleans Cajun Delights',), ('Tokyo Traders',), (\"Mayumi's\",), ('Pavlova, Ltd.',), ('Specialty Biscuits, Ltd.',), ('PB Knäckebröd AB',), ('Refrescos Americanas LTDA',), ('Heli Süßwaren GmbH & Co. KG',), ('Plutzer Lebensmittelgroßmärkte AG',), ('Formaggi Fortini s.r.l.',), ('Norske Meierier',), ('Bigfoot Breweries',), ('Svensk Sjöföda AB',), ('Aux joyeux ecclésiastiques',), ('New England Seafood Cannery',), ('Leka Trading',), ('Lyngbysild',), ('Zaanse Snoepfabriek',), ('Karkki Oy',), (\"G'day, Mate\",), ('Ma Maison',), ('Pasta Buttini s.r.l.',), ('Escargots Nouveaux',)]\n"
     ]
    }
   ],
   "execution_count": 99
  },
  {
   "metadata": {
    "ExecuteTime": {
     "end_time": "2024-07-04T04:27:07.806468Z",
     "start_time": "2024-07-04T04:27:07.804511Z"
    }
   },
   "cell_type": "code",
   "source": [
    "print(select_query(\"\"\"\n",
    "SELECT SupplierName\n",
    "FROM Suppliers\n",
    "WHERE EXISTS (SELECT ProductName FROM Products WHERE Products.SupplierID = Suppliers.supplierID AND Price = 22);\n",
    "\"\"\"))"
   ],
   "id": "743859d9b7cc59d7",
   "outputs": [
    {
     "name": "stdout",
     "output_type": "stream",
     "text": [
      "[('New Orleans Cajun Delights',)]\n"
     ]
    }
   ],
   "execution_count": 100
  },
  {
   "metadata": {
    "ExecuteTime": {
     "end_time": "2024-07-04T04:27:07.853330Z",
     "start_time": "2024-07-04T04:27:07.851516Z"
    }
   },
   "cell_type": "code",
   "source": [
    "print(select_query(\"\"\"\n",
    "SELECT ProductName\n",
    "FROM Products\n",
    "WHERE ProductID = ANY\n",
    "  (SELECT ProductID\n",
    "  FROM OrderDetails\n",
    "  WHERE Quantity = 10);\n",
    "\"\"\"))"
   ],
   "id": "50300da4b4b905c",
   "outputs": [
    {
     "name": "stdout",
     "output_type": "stream",
     "text": [
      "near \"SELECT\": syntax error\n",
      "None\n"
     ]
    }
   ],
   "execution_count": 101
  },
  {
   "metadata": {
    "ExecuteTime": {
     "end_time": "2024-07-04T04:27:07.925831Z",
     "start_time": "2024-07-04T04:27:07.923861Z"
    }
   },
   "cell_type": "code",
   "source": [
    "print(select_query(\"\"\"\n",
    "SELECT ALL ProductName\n",
    "FROM Products\n",
    "WHERE TRUE;\n",
    "\"\"\"))"
   ],
   "id": "ac5c237ac41c5607",
   "outputs": [
    {
     "name": "stdout",
     "output_type": "stream",
     "text": [
      "[('Chais',), ('Chang',), ('Aniseed Syrup',), (\"Chef Anton's Cajun Seasoning\",), (\"Chef Anton's Gumbo Mix\",), (\"Grandma's Boysenberry Spread\",), (\"Uncle Bob's Organic Dried Pears\",), ('Northwoods Cranberry Sauce',), ('Mishi Kobe Niku',), ('Ikura',), ('Queso Cabrales',), ('Queso Manchego La Pastora',), ('Konbu',), ('Tofu',), ('Genen Shouyu',), ('Pavlova',), ('Alice Mutton',), ('Carnarvon Tigers',), ('Teatime Chocolate Biscuits',), (\"Sir Rodney's Marmalade\",), (\"Sir Rodney's Scones\",), (\"Gustaf's Knäckebröd\",), ('Tunnbröd',), ('Guaraná Fantástica',), ('NuNuCa Nuß-Nougat-Creme',), ('Gumbär Gummibärchen',), ('Schoggi Schokolade',), ('Rössle Sauerkraut',), ('Thüringer Rostbratwurst',), ('Nord-Ost Matjeshering',), ('Gorgonzola Telino',), ('Mascarpone Fabioli',), ('Geitost',), ('Sasquatch Ale',), ('Steeleye Stout',), ('Inlagd Sill',), ('Gravad lax',), ('Côte de Blaye',), ('Chartreuse verte',), ('Boston Crab Meat',), (\"Jack's New England Clam Chowder\",), ('Singaporean Hokkien Fried Mee',), ('Ipoh Coffee',), ('Gula Malacca',), ('Røgede sild',), ('Spegesild',), ('Zaanse koeken',), ('Chocolade',), ('Maxilaku',), ('Valkoinen suklaa',), ('Manjimup Dried Apples',), ('Filo Mix',), ('Perth Pasties',), ('Tourtière',), ('Pâté chinois',), ('Gnocchi di nonna Alice',), ('Ravioli Angelo',), ('Escargots de Bourgogne',), ('Raclette Courdavault',), ('Camembert Pierrot',), (\"Sirop d'érable\",), ('Tarte au sucre',), ('Vegie-spread',), ('Wimmers gute Semmelknödel',), ('Louisiana Fiery Hot Pepper Sauce',), ('Louisiana Hot Spiced Okra',), ('Laughing Lumberjack Lager',), ('Scottish Longbreads',), ('Gudbrandsdalsost',), ('Outback Lager',), ('Fløtemysost',), ('Mozzarella di Giovanni',), ('Röd Kaviar',), ('Longlife Tofu',), ('Rhönbräu Klosterbier',), ('Lakkalikööri',), ('Original Frankfurter grüne Soße',)]\n"
     ]
    }
   ],
   "execution_count": 102
  },
  {
   "metadata": {
    "ExecuteTime": {
     "end_time": "2024-07-04T04:27:07.970155Z",
     "start_time": "2024-07-04T04:27:07.968275Z"
    }
   },
   "cell_type": "code",
   "source": [
    "print(select_query(\"\"\"\n",
    "SELECT * INTO CustomersBackup2017\n",
    "FROM Customers;\n",
    "\"\"\"))\n",
    "#Does not work"
   ],
   "id": "404282d45eb354b3",
   "outputs": [
    {
     "name": "stdout",
     "output_type": "stream",
     "text": [
      "near \"INTO\": syntax error\n",
      "None\n"
     ]
    }
   ],
   "execution_count": 103
  }
 ],
 "metadata": {
  "kernelspec": {
   "display_name": "Python 3",
   "language": "python",
   "name": "python3"
  },
  "language_info": {
   "codemirror_mode": {
    "name": "ipython",
    "version": 2
   },
   "file_extension": ".py",
   "mimetype": "text/x-python",
   "name": "python",
   "nbconvert_exporter": "python",
   "pygments_lexer": "ipython2",
   "version": "2.7.6"
  }
 },
 "nbformat": 4,
 "nbformat_minor": 5
}
