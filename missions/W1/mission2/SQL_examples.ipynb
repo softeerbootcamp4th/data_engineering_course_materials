{
 "cells": [
  {
   "cell_type": "markdown",
   "id": "8e25f3ec-86da-4fc2-9c68-2b35c027811b",
   "metadata": {},
   "source": [
    "# SQL EXAMPLES"
   ]
  },
  {
   "cell_type": "code",
   "execution_count": null,
   "id": "4a8b66f3",
   "metadata": {},
   "outputs": [],
   "source": []
  },
  {
   "cell_type": "code",
   "execution_count": 151,
   "id": "5ed0df64-d3ea-4f22-88a2-266882ff7124",
   "metadata": {},
   "outputs": [],
   "source": [
    "import pandas as pd\n",
    "import sqlite3\n",
    "import os\n",
    "\n",
    "\n",
    "\n",
    "# CSV 파일을 데이터베이스에 테이블로 저장\n",
    "for file in [file for file in os.listdir() if file.endswith('.csv')]:\n",
    "    # 테이블 이름은 파일 이름 (확장자 제외)\n",
    "    table_name = os.path.splitext(file)[0]\n",
    "    df = pd.read_csv(file)\n",
    "\n",
    "    conn = sqlite3.connect('database.db')\n",
    "\n",
    "    df.to_sql(table_name, conn, if_exists='replace', index=False)\n",
    "\n",
    "    conn.close()\n",
    "\n",
    "\n",
    "def print_query_result(query):\n",
    "    # SQLite 데이터베이스 연결 (없다면 새로운 데이터베이스 생성)\n",
    "    conn = sqlite3.connect('database.db')\n",
    "    cur = conn.cursor()\n",
    "    cur.execute(query)\n",
    "    rows = cur.fetchall()\n",
    "    print(pd.DataFrame(rows))\n",
    "    conn.close()"
   ]
  },
  {
   "cell_type": "markdown",
   "id": "3c69f594",
   "metadata": {},
   "source": [
    "## Test !"
   ]
  },
  {
   "cell_type": "code",
   "execution_count": 152,
   "id": "cf66848d-f199-4ab8-8b1d-00db2c3e1a33",
   "metadata": {
    "jp-MarkdownHeadingCollapsed": true
   },
   "outputs": [
    {
     "name": "stdout",
     "output_type": "stream",
     "text": [
      "     0                                   1                   2  \\\n",
      "0    1                 Alfreds Futterkiste        Maria Anders   \n",
      "1    2  Ana Trujillo Emparedados y helados        Ana Trujillo   \n",
      "2    3             Antonio Moreno Taquería      Antonio Moreno   \n",
      "3    4                     Around the Horn        Thomas Hardy   \n",
      "4    5                  Berglunds snabbköp  Christina Berglund   \n",
      "..  ..                                 ...                 ...   \n",
      "86  87                      Wartian Herkku    Pirkko Koskitalo   \n",
      "87  88              Wellington Importadora       Paula Parente   \n",
      "88  89                White Clover Markets      Karl Jablonski   \n",
      "89  90                         Wilman Kala     Matti Karttunen   \n",
      "90  91                              Wolski             Zbyszek   \n",
      "\n",
      "                                3            4          5        6  \n",
      "0                   Obere Str. 57       Berlin      12209  Germany  \n",
      "1   Avda. de la Constitución 2222  México D.F.      05021   Mexico  \n",
      "2                  Mataderos 2312  México D.F.      05023   Mexico  \n",
      "3                 120 Hanover Sq.       London    WA1 1DP       UK  \n",
      "4                  Berguvsvägen 8        Luleå   S-958 22   Sweden  \n",
      "..                            ...          ...        ...      ...  \n",
      "86                    Torikatu 38         Oulu      90110  Finland  \n",
      "87             Rua do Mercado, 12      Resende  08737-363   Brazil  \n",
      "88    305 - 14th Ave. S. Suite 3B      Seattle      98128      USA  \n",
      "89                  Keskuskatu 45     Helsinki      21240  Finland  \n",
      "90                ul. Filtrowa 68        Walla     01-012     None  \n",
      "\n",
      "[91 rows x 7 columns]\n"
     ]
    }
   ],
   "source": [
    "print_query_result(\"SELECT * FROM Customers;\")"
   ]
  },
  {
   "cell_type": "markdown",
   "id": "5fd4ea06",
   "metadata": {},
   "source": [
    "## SELECT"
   ]
  },
  {
   "cell_type": "code",
   "execution_count": 153,
   "id": "245a5995-c082-46fa-be72-e903bcbc1d13",
   "metadata": {},
   "outputs": [
    {
     "name": "stdout",
     "output_type": "stream",
     "text": [
      "                                     0            1\n",
      "0                  Alfreds Futterkiste       Berlin\n",
      "1   Ana Trujillo Emparedados y helados  México D.F.\n",
      "2              Antonio Moreno Taquería  México D.F.\n",
      "3                      Around the Horn       London\n",
      "4                   Berglunds snabbköp        Luleå\n",
      "..                                 ...          ...\n",
      "86                      Wartian Herkku         Oulu\n",
      "87              Wellington Importadora      Resende\n",
      "88                White Clover Markets      Seattle\n",
      "89                         Wilman Kala     Helsinki\n",
      "90                              Wolski        Walla\n",
      "\n",
      "[91 rows x 2 columns]\n"
     ]
    }
   ],
   "source": [
    "print_query_result(\"SELECT CustomerName, City FROM Customers;\")"
   ]
  },
  {
   "cell_type": "markdown",
   "id": "6420d2ea",
   "metadata": {},
   "source": [
    "## The SQL SELECT DISTINCT Statement"
   ]
  },
  {
   "cell_type": "code",
   "execution_count": 154,
   "id": "3b9d1ef2",
   "metadata": {},
   "outputs": [
    {
     "name": "stdout",
     "output_type": "stream",
     "text": [
      "              0\n",
      "0       Germany\n",
      "1        Mexico\n",
      "2            UK\n",
      "3        Sweden\n",
      "4        France\n",
      "5         Spain\n",
      "6        Canada\n",
      "7     Argentina\n",
      "8   Switzerland\n",
      "9        Brazil\n",
      "10      Austria\n",
      "11        Italy\n",
      "12     Portugal\n",
      "13          USA\n",
      "14    Venezuela\n",
      "15      Ireland\n",
      "16      Belgium\n",
      "17       Norway\n",
      "18      Denmark\n",
      "19      Finland\n",
      "20         None\n"
     ]
    }
   ],
   "source": [
    "print_query_result(\"SELECT DISTINCT Country FROM Customers;\")"
   ]
  },
  {
   "cell_type": "markdown",
   "id": "d40783fd",
   "metadata": {},
   "source": [
    "## SELECT Example Without DISTINCT"
   ]
  },
  {
   "cell_type": "code",
   "execution_count": 155,
   "id": "80a0e0f3",
   "metadata": {},
   "outputs": [
    {
     "name": "stdout",
     "output_type": "stream",
     "text": [
      "          0\n",
      "0   Germany\n",
      "1    Mexico\n",
      "2    Mexico\n",
      "3        UK\n",
      "4    Sweden\n",
      "..      ...\n",
      "86  Finland\n",
      "87   Brazil\n",
      "88      USA\n",
      "89  Finland\n",
      "90     None\n",
      "\n",
      "[91 rows x 1 columns]\n"
     ]
    }
   ],
   "source": [
    "print_query_result(\"SELECT Country FROM Customers;\")"
   ]
  },
  {
   "cell_type": "markdown",
   "id": "995173cf",
   "metadata": {},
   "source": [
    "## WHERE"
   ]
  },
  {
   "cell_type": "code",
   "execution_count": 156,
   "id": "9cf22431",
   "metadata": {},
   "outputs": [
    {
     "name": "stdout",
     "output_type": "stream",
     "text": [
      "    0                                   1                     2  \\\n",
      "0   2  Ana Trujillo Emparedados y helados          Ana Trujillo   \n",
      "1   3             Antonio Moreno Taquería        Antonio Moreno   \n",
      "2  13          Centro comercial Moctezuma       Francisco Chang   \n",
      "3  58           Pericles Comidas clásicas   Guillermo Fernández   \n",
      "4  80                 Tortuga Restaurante  Miguel Angel Paolino   \n",
      "\n",
      "                               3            4      5       6  \n",
      "0  Avda. de la Constitución 2222  México D.F.  05021  Mexico  \n",
      "1                 Mataderos 2312  México D.F.  05023  Mexico  \n",
      "2        Sierras de Granada 9993  México D.F.  05022  Mexico  \n",
      "3       Calle Dr. Jorge Cash 321  México D.F.  05033  Mexico  \n",
      "4               Avda. Azteca 123  México D.F.  05033  Mexico  \n"
     ]
    }
   ],
   "source": [
    "print_query_result(\"SELECT * FROM Customers WHERE Country='Mexico';\")"
   ]
  },
  {
   "cell_type": "markdown",
   "id": "5a44b201",
   "metadata": {},
   "source": [
    "## Text Fields vs. Numeric Fields"
   ]
  },
  {
   "cell_type": "code",
   "execution_count": 157,
   "id": "6438f2a6",
   "metadata": {},
   "outputs": [
    {
     "name": "stdout",
     "output_type": "stream",
     "text": [
      "   0                    1             2              3       4      5        6\n",
      "0  1  Alfreds Futterkiste  Maria Anders  Obere Str. 57  Berlin  12209  Germany\n"
     ]
    }
   ],
   "source": [
    "query = \"\"\"\n",
    "SELECT * FROM Customers\n",
    "WHERE CustomerID=1;\n",
    "\"\"\"\n",
    "print_query_result(query)"
   ]
  },
  {
   "cell_type": "markdown",
   "id": "3fa248af",
   "metadata": {},
   "source": [
    "## Operators in The WHERE Clause"
   ]
  },
  {
   "cell_type": "code",
   "execution_count": 158,
   "id": "c3b904e8",
   "metadata": {},
   "outputs": [
    {
     "name": "stdout",
     "output_type": "stream",
     "text": [
      "     0                                  1                  2  \\\n",
      "0   81             Tradição Hipermercados  Anabela Domingues   \n",
      "1   82  Trail's Head Gourmet Provisioners     Helvetius Nagy   \n",
      "2   83                       Vaffeljernet        Palle Ibsen   \n",
      "3   84               Victuailles en stock       Mary Saveley   \n",
      "4   85          Vins et alcools Chevalier       Paul Henriot   \n",
      "5   86                  Die Wandernde Kuh        Rita Müller   \n",
      "6   87                     Wartian Herkku   Pirkko Koskitalo   \n",
      "7   88             Wellington Importadora      Paula Parente   \n",
      "8   89               White Clover Markets     Karl Jablonski   \n",
      "9   90                        Wilman Kala    Matti Karttunen   \n",
      "10  91                             Wolski            Zbyszek   \n",
      "\n",
      "                              3          4          5        6  \n",
      "0       Av. Inês de Castro, 414  São Paulo  05634-030   Brazil  \n",
      "1             722 DaVinci Blvd.   Kirkland      98034      USA  \n",
      "2                 Smagsløget 45      Århus       8200  Denmark  \n",
      "3            2, rue du Commerce       Lyon      69004   France  \n",
      "4            59 rue de l'Abbaye      Reims      51100   France  \n",
      "5             Adenauerallee 900  Stuttgart      70563  Germany  \n",
      "6                   Torikatu 38       Oulu      90110  Finland  \n",
      "7            Rua do Mercado, 12    Resende  08737-363   Brazil  \n",
      "8   305 - 14th Ave. S. Suite 3B    Seattle      98128      USA  \n",
      "9                 Keskuskatu 45   Helsinki      21240  Finland  \n",
      "10              ul. Filtrowa 68      Walla     01-012     None  \n"
     ]
    }
   ],
   "source": [
    "query = \"\"\"\n",
    "SELECT * FROM Customers\n",
    "WHERE CustomerID > 80;\n",
    "\"\"\"\n",
    "print_query_result(query)"
   ]
  },
  {
   "cell_type": "markdown",
   "id": "351bc69b",
   "metadata": {},
   "source": [
    "## ORDER BY"
   ]
  },
  {
   "cell_type": "code",
   "execution_count": 159,
   "id": "cf151d98",
   "metadata": {},
   "outputs": [
    {
     "name": "stdout",
     "output_type": "stream",
     "text": [
      "     0                        1   2  3                     4       5\n",
      "0   33                  Geitost  15  4                 500 g    2.50\n",
      "1   24       Guaraná Fantástica  10  1      12 - 355 ml cans    4.50\n",
      "2   13                    Konbu   6  8              2 kg box    6.00\n",
      "3   52                 Filo Mix  24  5       16 - 2 kg boxes    7.00\n",
      "4   54                Tourtière  25  6               16 pies    7.45\n",
      "..  ..                      ...  .. ..                   ...     ...\n",
      "72  18         Carnarvon Tigers   7  8            16 kg pkg.   62.50\n",
      "73  20   Sir Rodney's Marmalade   8  3         30 gift boxes   81.00\n",
      "74   9          Mishi Kobe Niku   4  6      18 - 500 g pkgs.   97.00\n",
      "75  29  Thüringer Rostbratwurst  12  6  50 bags x 30 sausgs.  123.79\n",
      "76  38            Côte de Blaye  18  1    12 - 75 cl bottles  263.50\n",
      "\n",
      "[77 rows x 6 columns]\n"
     ]
    }
   ],
   "source": [
    "query = \"\"\"\n",
    "SELECT * FROM Products\n",
    "ORDER BY Price;\n",
    "\"\"\"\n",
    "print_query_result(query)"
   ]
  },
  {
   "cell_type": "markdown",
   "id": "ad68b263",
   "metadata": {},
   "source": [
    "## DESC"
   ]
  },
  {
   "cell_type": "code",
   "execution_count": 160,
   "id": "12babf2b",
   "metadata": {},
   "outputs": [
    {
     "name": "stdout",
     "output_type": "stream",
     "text": [
      "     0                        1   2  3                     4       5\n",
      "0   38            Côte de Blaye  18  1    12 - 75 cl bottles  263.50\n",
      "1   29  Thüringer Rostbratwurst  12  6  50 bags x 30 sausgs.  123.79\n",
      "2    9          Mishi Kobe Niku   4  6      18 - 500 g pkgs.   97.00\n",
      "3   20   Sir Rodney's Marmalade   8  3         30 gift boxes   81.00\n",
      "4   18         Carnarvon Tigers   7  8            16 kg pkg.   62.50\n",
      "..  ..                      ...  .. ..                   ...     ...\n",
      "72  54                Tourtière  25  6               16 pies    7.45\n",
      "73  52                 Filo Mix  24  5       16 - 2 kg boxes    7.00\n",
      "74  13                    Konbu   6  8              2 kg box    6.00\n",
      "75  24       Guaraná Fantástica  10  1      12 - 355 ml cans    4.50\n",
      "76  33                  Geitost  15  4                 500 g    2.50\n",
      "\n",
      "[77 rows x 6 columns]\n"
     ]
    }
   ],
   "source": [
    "query = \"\"\"\n",
    "SELECT * FROM Products\n",
    "ORDER BY Price DESC;\n",
    "\"\"\"\n",
    "print_query_result(query)"
   ]
  },
  {
   "cell_type": "markdown",
   "id": "1a9d0ff8",
   "metadata": {},
   "source": [
    "## Order Alphabetically"
   ]
  },
  {
   "cell_type": "code",
   "execution_count": 161,
   "id": "88387eee",
   "metadata": {},
   "outputs": [
    {
     "name": "stdout",
     "output_type": "stream",
     "text": [
      "     0                                1   2  3                    4      5\n",
      "0   17                     Alice Mutton   7  6       20 - 1 kg tins  39.00\n",
      "1    3                    Aniseed Syrup   1  2  12 - 550 ml bottles  10.00\n",
      "2   40                 Boston Crab Meat  19  8       24 - 4 oz tins  18.40\n",
      "3   60                Camembert Pierrot  28  4    15 - 300 g rounds  34.00\n",
      "4   18                 Carnarvon Tigers   7  8           16 kg pkg.  62.50\n",
      "..  ..                              ...  .. ..                  ...    ...\n",
      "72   7  Uncle Bob's Organic Dried Pears   3  7      12 - 1 lb pkgs.  30.00\n",
      "73  50                 Valkoinen suklaa  23  3      12 - 100 g bars  16.25\n",
      "74  63                     Vegie-spread   7  2      15 - 625 g jars  43.90\n",
      "75  64        Wimmers gute Semmelknödel  12  5   20 bags x 4 pieces  33.25\n",
      "76  47                    Zaanse koeken  22  3      10 - 4 oz boxes   9.50\n",
      "\n",
      "[77 rows x 6 columns]\n"
     ]
    }
   ],
   "source": [
    "query = \"\"\"\n",
    "SELECT * FROM Products\n",
    "ORDER BY ProductName;\n",
    "\"\"\"\n",
    "print_query_result(query)"
   ]
  },
  {
   "cell_type": "markdown",
   "id": "c5b23867",
   "metadata": {},
   "source": [
    "## Alphabetically DESC"
   ]
  },
  {
   "cell_type": "code",
   "execution_count": 162,
   "id": "a705c74b",
   "metadata": {},
   "outputs": [
    {
     "name": "stdout",
     "output_type": "stream",
     "text": [
      "     0                                1   2  3                    4      5\n",
      "0   47                    Zaanse koeken  22  3      10 - 4 oz boxes   9.50\n",
      "1   64        Wimmers gute Semmelknödel  12  5   20 bags x 4 pieces  33.25\n",
      "2   63                     Vegie-spread   7  2      15 - 625 g jars  43.90\n",
      "3   50                 Valkoinen suklaa  23  3      12 - 100 g bars  16.25\n",
      "4    7  Uncle Bob's Organic Dried Pears   3  7      12 - 1 lb pkgs.  30.00\n",
      "..  ..                              ...  .. ..                  ...    ...\n",
      "72  18                 Carnarvon Tigers   7  8           16 kg pkg.  62.50\n",
      "73  60                Camembert Pierrot  28  4    15 - 300 g rounds  34.00\n",
      "74  40                 Boston Crab Meat  19  8       24 - 4 oz tins  18.40\n",
      "75   3                    Aniseed Syrup   1  2  12 - 550 ml bottles  10.00\n",
      "76  17                     Alice Mutton   7  6       20 - 1 kg tins  39.00\n",
      "\n",
      "[77 rows x 6 columns]\n"
     ]
    }
   ],
   "source": [
    "query = \"\"\"\n",
    "SELECT * FROM Products\n",
    "ORDER BY ProductName DESC;\n",
    "\"\"\"\n",
    "print_query_result(query)"
   ]
  },
  {
   "cell_type": "markdown",
   "id": "2d4f152e",
   "metadata": {},
   "source": [
    "## ORDER BY Several Columns"
   ]
  },
  {
   "cell_type": "code",
   "execution_count": 163,
   "id": "f1096276",
   "metadata": {},
   "outputs": [
    {
     "name": "stdout",
     "output_type": "stream",
     "text": [
      "     0                           1                 2  \\\n",
      "0   91                      Wolski           Zbyszek   \n",
      "1   12  Cactus Comidas para llevar  Patricio Simpson   \n",
      "2   54      Océano Atlántico Ltda.    Yvonne Moncada   \n",
      "3   64               Rancho grande  Sergio Gutiérrez   \n",
      "4   20                Ernst Handel     Roland Mendel   \n",
      "..  ..                         ...               ...   \n",
      "86  89        White Clover Markets    Karl Jablonski   \n",
      "87  33        GROSELLA-Restaurante    Manuel Pereira   \n",
      "88  35            HILARIÓN-Abastos  Carlos Hernández   \n",
      "89  46           LILA-Supermercado   Carlos González   \n",
      "90  47            LINO-Delicateses  Felipe Izquierdo   \n",
      "\n",
      "                                                 3                4       5  \\\n",
      "0                                  ul. Filtrowa 68            Walla  01-012   \n",
      "1                                      Cerrito 333     Buenos Aires    1010   \n",
      "2              Ing. Gustavo Moncada 8585 Piso 20-A     Buenos Aires    1010   \n",
      "3                           Av. del Libertador 900     Buenos Aires    1010   \n",
      "4                                     Kirchgasse 6             Graz    8010   \n",
      "..                                             ...              ...     ...   \n",
      "86                     305 - 14th Ave. S. Suite 3B          Seattle   98128   \n",
      "87                       5ª Ave. Los Palos Grandes          Caracas    1081   \n",
      "88      Carrera 22 con Ave. Carlos Soublette #8-35    San Cristóbal    5022   \n",
      "89  Carrera 52 con Ave. Bolívar #65-98 Llano Largo     Barquisimeto    3508   \n",
      "90                         Ave. 5 de Mayo Porlamar  I. de Margarita    4980   \n",
      "\n",
      "            6  \n",
      "0        None  \n",
      "1   Argentina  \n",
      "2   Argentina  \n",
      "3   Argentina  \n",
      "4     Austria  \n",
      "..        ...  \n",
      "86        USA  \n",
      "87  Venezuela  \n",
      "88  Venezuela  \n",
      "89  Venezuela  \n",
      "90  Venezuela  \n",
      "\n",
      "[91 rows x 7 columns]\n"
     ]
    }
   ],
   "source": [
    "query = \"\"\"\n",
    "SELECT * FROM Customers\n",
    "ORDER BY Country, CustomerName;\n",
    "\n",
    "\"\"\"\n",
    "print_query_result(query)"
   ]
  },
  {
   "cell_type": "markdown",
   "id": "dbb67e0a",
   "metadata": {},
   "source": [
    "## Using Both ASC and DESC"
   ]
  },
  {
   "cell_type": "code",
   "execution_count": 164,
   "id": "8a120f77",
   "metadata": {},
   "outputs": [
    {
     "name": "stdout",
     "output_type": "stream",
     "text": [
      "     0                           1                 2  \\\n",
      "0   91                      Wolski           Zbyszek   \n",
      "1   64               Rancho grande  Sergio Gutiérrez   \n",
      "2   54      Océano Atlántico Ltda.    Yvonne Moncada   \n",
      "3   12  Cactus Comidas para llevar  Patricio Simpson   \n",
      "4   59            Piccolo und mehr       Georg Pipps   \n",
      "..  ..                         ...               ...   \n",
      "86  32     Great Lakes Food Market     Howard Snyder   \n",
      "87  47            LINO-Delicateses  Felipe Izquierdo   \n",
      "88  46           LILA-Supermercado   Carlos González   \n",
      "89  35            HILARIÓN-Abastos  Carlos Hernández   \n",
      "90  33        GROSELLA-Restaurante    Manuel Pereira   \n",
      "\n",
      "                                                 3                4       5  \\\n",
      "0                                  ul. Filtrowa 68            Walla  01-012   \n",
      "1                           Av. del Libertador 900     Buenos Aires    1010   \n",
      "2              Ing. Gustavo Moncada 8585 Piso 20-A     Buenos Aires    1010   \n",
      "3                                      Cerrito 333     Buenos Aires    1010   \n",
      "4                                      Geislweg 14         Salzburg    5020   \n",
      "..                                             ...              ...     ...   \n",
      "86                                2732 Baker Blvd.           Eugene   97403   \n",
      "87                         Ave. 5 de Mayo Porlamar  I. de Margarita    4980   \n",
      "88  Carrera 52 con Ave. Bolívar #65-98 Llano Largo     Barquisimeto    3508   \n",
      "89      Carrera 22 con Ave. Carlos Soublette #8-35    San Cristóbal    5022   \n",
      "90                       5ª Ave. Los Palos Grandes          Caracas    1081   \n",
      "\n",
      "            6  \n",
      "0        None  \n",
      "1   Argentina  \n",
      "2   Argentina  \n",
      "3   Argentina  \n",
      "4     Austria  \n",
      "..        ...  \n",
      "86        USA  \n",
      "87  Venezuela  \n",
      "88  Venezuela  \n",
      "89  Venezuela  \n",
      "90  Venezuela  \n",
      "\n",
      "[91 rows x 7 columns]\n"
     ]
    }
   ],
   "source": [
    "query = \"\"\"\n",
    "SELECT * FROM Customers\n",
    "ORDER BY Country ASC, CustomerName DESC;\n",
    "\n",
    "\"\"\"\n",
    "print_query_result(query)"
   ]
  },
  {
   "cell_type": "markdown",
   "id": "910aac01",
   "metadata": {},
   "source": [
    "## SQL AND Operator"
   ]
  },
  {
   "cell_type": "code",
   "execution_count": 165,
   "id": "58965206",
   "metadata": {},
   "outputs": [
    {
     "name": "stdout",
     "output_type": "stream",
     "text": [
      "    0                       1                  2                       3  \\\n",
      "0  29  Galería del gastrónomo   Eduardo Saavedra  Rambla de Cataluña, 23   \n",
      "1  30     Godos Cocina Típica  José Pedro Freyre           C/ Romero, 33   \n",
      "\n",
      "           4      5      6  \n",
      "0  Barcelona  08022  Spain  \n",
      "1    Sevilla  41101  Spain  \n"
     ]
    }
   ],
   "source": [
    "query = \"\"\"\n",
    "SELECT *\n",
    "FROM Customers\n",
    "WHERE Country = 'Spain' AND CustomerName LIKE 'G%';\n",
    "\"\"\"\n",
    "print_query_result(query)"
   ]
  },
  {
   "cell_type": "markdown",
   "id": "a6636ab9",
   "metadata": {},
   "source": [
    "## AND -> All Conditions Must Be True"
   ]
  },
  {
   "cell_type": "code",
   "execution_count": 166,
   "id": "576da2a4",
   "metadata": {},
   "outputs": [
    {
     "name": "stdout",
     "output_type": "stream",
     "text": [
      "   0                    1             2              3       4      5        6\n",
      "0  1  Alfreds Futterkiste  Maria Anders  Obere Str. 57  Berlin  12209  Germany\n"
     ]
    }
   ],
   "source": [
    "query = \"\"\"\n",
    "SELECT * FROM Customers\n",
    "WHERE Country = 'Germany'\n",
    "AND City = 'Berlin'\n",
    "AND PostalCode > 12000;\n",
    "\"\"\"\n",
    "print_query_result(query)"
   ]
  },
  {
   "cell_type": "markdown",
   "id": "729483d4",
   "metadata": {},
   "source": [
    "## Combining AND and OR"
   ]
  },
  {
   "cell_type": "code",
   "execution_count": 167,
   "id": "7e44c8d2",
   "metadata": {},
   "outputs": [
    {
     "name": "stdout",
     "output_type": "stream",
     "text": [
      "    0                       1                  2                       3  \\\n",
      "0  29  Galería del gastrónomo   Eduardo Saavedra  Rambla de Cataluña, 23   \n",
      "1  30     Godos Cocina Típica  José Pedro Freyre           C/ Romero, 33   \n",
      "2  69        Romero y tomillo   Alejandra Camino             Gran Vía, 1   \n",
      "\n",
      "           4      5      6  \n",
      "0  Barcelona  08022  Spain  \n",
      "1    Sevilla  41101  Spain  \n",
      "2     Madrid  28001  Spain  \n"
     ]
    }
   ],
   "source": [
    "query = \"\"\"\n",
    "SELECT * FROM Customers\n",
    "WHERE Country = 'Spain' AND (CustomerName LIKE 'G%' OR CustomerName LIKE 'R%');\n",
    "\"\"\"\n",
    "print_query_result(query)"
   ]
  },
  {
   "cell_type": "code",
   "execution_count": 168,
   "id": "fb97e8c9",
   "metadata": {},
   "outputs": [
    {
     "name": "stdout",
     "output_type": "stream",
     "text": [
      "    0                           1                  2                       3  \\\n",
      "0  29      Galería del gastrónomo   Eduardo Saavedra  Rambla de Cataluña, 23   \n",
      "1  30         Godos Cocina Típica  José Pedro Freyre           C/ Romero, 33   \n",
      "2  64               Rancho grande   Sergio Gutiérrez  Av. del Libertador 900   \n",
      "3  65  Rattlesnake Canyon Grocery       Paula Wilson         2817 Milton Dr.   \n",
      "4  66          Reggiani Caseifici    Maurizio Moroni  Strada Provinciale 124   \n",
      "5  67          Ricardo Adocicados     Janete Limeira     Av. Copacabana, 267   \n",
      "6  68          Richter Supermarkt       Michael Holz       Grenzacherweg 237   \n",
      "7  69            Romero y tomillo   Alejandra Camino             Gran Vía, 1   \n",
      "\n",
      "                4          5            6  \n",
      "0       Barcelona      08022        Spain  \n",
      "1         Sevilla      41101        Spain  \n",
      "2    Buenos Aires       1010    Argentina  \n",
      "3     Albuquerque      87110          USA  \n",
      "4   Reggio Emilia      42100        Italy  \n",
      "5  Rio de Janeiro  02389-890       Brazil  \n",
      "6          Genève       1203  Switzerland  \n",
      "7          Madrid      28001        Spain  \n"
     ]
    }
   ],
   "source": [
    "query = \"\"\"\n",
    "SELECT * FROM Customers\n",
    "WHERE Country = 'Spain' AND CustomerName LIKE 'G%' OR CustomerName LIKE 'R%';\n",
    "\"\"\"\n",
    "print_query_result(query)"
   ]
  },
  {
   "cell_type": "markdown",
   "id": "393b65ec",
   "metadata": {},
   "source": [
    "## SQL OR Operator"
   ]
  },
  {
   "cell_type": "code",
   "execution_count": 169,
   "id": "ae238005",
   "metadata": {},
   "outputs": [
    {
     "name": "stdout",
     "output_type": "stream",
     "text": [
      "     0                                     1                    2  \\\n",
      "0    1                   Alfreds Futterkiste         Maria Anders   \n",
      "1    6               Blauer See Delikatessen           Hanna Moos   \n",
      "2    8             Bólido Comidas preparadas        Martín Sommer   \n",
      "3   17             Drachenblut Delikatessend         Sven Ottlieb   \n",
      "4   22  FISSA Fabrica Inter. Salchichas S.A.           Diego Roel   \n",
      "5   25                        Frankenversand        Peter Franken   \n",
      "6   29                Galería del gastrónomo     Eduardo Saavedra   \n",
      "7   30                   Godos Cocina Típica    José Pedro Freyre   \n",
      "8   39                       Königlich Essen        Philip Cramer   \n",
      "9   44                   Lehmanns Marktstand       Renate Messner   \n",
      "10  52                Morgenstern Gesundkost      Alexander Feuer   \n",
      "11  56                    Ottilies Käseladen  Henriette Pfalzheim   \n",
      "12  63                            QUICK-Stop          Horst Kloss   \n",
      "13  69                      Romero y tomillo     Alejandra Camino   \n",
      "14  79                    Toms Spezialitäten        Karin Josephs   \n",
      "15  86                     Die Wandernde Kuh          Rita Müller   \n",
      "\n",
      "                         3                4      5        6  \n",
      "0            Obere Str. 57           Berlin  12209  Germany  \n",
      "1           Forsterstr. 57         Mannheim  68306  Germany  \n",
      "2           C/ Araquil, 67           Madrid  28023    Spain  \n",
      "3             Walserweg 21           Aachen  52066  Germany  \n",
      "4       C/ Moralzarzal, 86           Madrid  28034    Spain  \n",
      "5        Berliner Platz 43          München  80805  Germany  \n",
      "6   Rambla de Cataluña, 23        Barcelona  08022    Spain  \n",
      "7            C/ Romero, 33          Sevilla  41101    Spain  \n",
      "8            Maubelstr. 90      Brandenburg  14776  Germany  \n",
      "9             Magazinweg 7  Frankfurt a.M.   60528  Germany  \n",
      "10             Heerstr. 22          Leipzig  04179  Germany  \n",
      "11      Mehrheimerstr. 369             Köln  50739  Germany  \n",
      "12        Taucherstraße 10        Cunewalde  01307  Germany  \n",
      "13             Gran Vía, 1           Madrid  28001    Spain  \n",
      "14           Luisenstr. 48          Münster  44087  Germany  \n",
      "15       Adenauerallee 900        Stuttgart  70563  Germany  \n"
     ]
    }
   ],
   "source": [
    "query = \"\"\"\n",
    "SELECT *\n",
    "FROM Customers\n",
    "WHERE Country = 'Germany' OR Country = 'Spain';\n",
    "\"\"\"\n",
    "print_query_result(query)"
   ]
  },
  {
   "cell_type": "markdown",
   "id": "9f543345",
   "metadata": {},
   "source": [
    "## At Least One Condition Must Be True\n"
   ]
  },
  {
   "cell_type": "code",
   "execution_count": 170,
   "id": "f62a1ea5",
   "metadata": {},
   "outputs": [
    {
     "name": "stdout",
     "output_type": "stream",
     "text": [
      "    0                        1                  2                          3  \\\n",
      "0   1      Alfreds Futterkiste       Maria Anders              Obere Str. 57   \n",
      "1  29   Galería del gastrónomo   Eduardo Saavedra     Rambla de Cataluña, 23   \n",
      "2  30      Godos Cocina Típica  José Pedro Freyre              C/ Romero, 33   \n",
      "3  31      Gourmet Lanchonetes      André Fonseca            Av. Brasil, 442   \n",
      "4  32  Great Lakes Food Market      Howard Snyder           2732 Baker Blvd.   \n",
      "5  33     GROSELLA-Restaurante     Manuel Pereira  5ª Ave. Los Palos Grandes   \n",
      "6  70            Santé Gourmet   Jonas Bergulfsen     Erling Skakkes gate 78   \n",
      "\n",
      "           4          5          6  \n",
      "0     Berlin      12209    Germany  \n",
      "1  Barcelona      08022      Spain  \n",
      "2    Sevilla      41101      Spain  \n",
      "3   Campinas  04876-786     Brazil  \n",
      "4     Eugene      97403        USA  \n",
      "5    Caracas       1081  Venezuela  \n",
      "6    Stavern       4110     Norway  \n"
     ]
    }
   ],
   "source": [
    "query = \"\"\"\n",
    "SELECT * FROM Customers\n",
    "WHERE City = 'Berlin' OR CustomerName LIKE 'G%' OR Country = 'Norway';\n",
    "\"\"\"\n",
    "print_query_result(query)"
   ]
  },
  {
   "cell_type": "markdown",
   "id": "6a585ada",
   "metadata": {},
   "source": [
    "## Combining AND and OR"
   ]
  },
  {
   "cell_type": "code",
   "execution_count": 171,
   "id": "22289879",
   "metadata": {},
   "outputs": [
    {
     "name": "stdout",
     "output_type": "stream",
     "text": [
      "    0                       1                  2                       3  \\\n",
      "0  29  Galería del gastrónomo   Eduardo Saavedra  Rambla de Cataluña, 23   \n",
      "1  30     Godos Cocina Típica  José Pedro Freyre           C/ Romero, 33   \n",
      "2  69        Romero y tomillo   Alejandra Camino             Gran Vía, 1   \n",
      "\n",
      "           4      5      6  \n",
      "0  Barcelona  08022  Spain  \n",
      "1    Sevilla  41101  Spain  \n",
      "2     Madrid  28001  Spain  \n"
     ]
    }
   ],
   "source": [
    "query = \"\"\"\n",
    "SELECT * FROM Customers\n",
    "WHERE Country = 'Spain' AND (CustomerName LIKE 'G%' OR CustomerName LIKE 'R%');\n",
    "\"\"\"\n",
    "print_query_result(query)"
   ]
  },
  {
   "cell_type": "markdown",
   "id": "04b22c16",
   "metadata": {},
   "source": [
    "## NOT Operator"
   ]
  },
  {
   "cell_type": "code",
   "execution_count": 172,
   "id": "c838fc5d",
   "metadata": {},
   "outputs": [
    {
     "name": "stdout",
     "output_type": "stream",
     "text": [
      "     0                                   1                   2  \\\n",
      "0    1                 Alfreds Futterkiste        Maria Anders   \n",
      "1    2  Ana Trujillo Emparedados y helados        Ana Trujillo   \n",
      "2    3             Antonio Moreno Taquería      Antonio Moreno   \n",
      "3    4                     Around the Horn        Thomas Hardy   \n",
      "4    5                  Berglunds snabbköp  Christina Berglund   \n",
      "..  ..                                 ...                 ...   \n",
      "80  86                   Die Wandernde Kuh         Rita Müller   \n",
      "81  87                      Wartian Herkku    Pirkko Koskitalo   \n",
      "82  88              Wellington Importadora       Paula Parente   \n",
      "83  89                White Clover Markets      Karl Jablonski   \n",
      "84  90                         Wilman Kala     Matti Karttunen   \n",
      "\n",
      "                                3            4          5        6  \n",
      "0                   Obere Str. 57       Berlin      12209  Germany  \n",
      "1   Avda. de la Constitución 2222  México D.F.      05021   Mexico  \n",
      "2                  Mataderos 2312  México D.F.      05023   Mexico  \n",
      "3                 120 Hanover Sq.       London    WA1 1DP       UK  \n",
      "4                  Berguvsvägen 8        Luleå   S-958 22   Sweden  \n",
      "..                            ...          ...        ...      ...  \n",
      "80              Adenauerallee 900    Stuttgart      70563  Germany  \n",
      "81                    Torikatu 38         Oulu      90110  Finland  \n",
      "82             Rua do Mercado, 12      Resende  08737-363   Brazil  \n",
      "83    305 - 14th Ave. S. Suite 3B      Seattle      98128      USA  \n",
      "84                  Keskuskatu 45     Helsinki      21240  Finland  \n",
      "\n",
      "[85 rows x 7 columns]\n"
     ]
    }
   ],
   "source": [
    "query = \"\"\"\n",
    "SELECT * FROM Customers\n",
    "WHERE NOT Country = 'Spain';\n",
    "\"\"\"\n",
    "print_query_result(query)"
   ]
  },
  {
   "cell_type": "markdown",
   "id": "81e87b3a",
   "metadata": {},
   "source": [
    "## NOT LIKE"
   ]
  },
  {
   "cell_type": "code",
   "execution_count": 173,
   "id": "da4bd2ff",
   "metadata": {},
   "outputs": [
    {
     "name": "stdout",
     "output_type": "stream",
     "text": [
      "     0                          1                   2  \\\n",
      "0    5         Berglunds snabbköp  Christina Berglund   \n",
      "1    6    Blauer See Delikatessen          Hanna Moos   \n",
      "2    7       Blondel père et fils  Frédérique Citeaux   \n",
      "3    8  Bólido Comidas preparadas       Martín Sommer   \n",
      "4    9                   Bon app'   Laurence Lebihans   \n",
      "..  ..                        ...                 ...   \n",
      "82  87             Wartian Herkku    Pirkko Koskitalo   \n",
      "83  88     Wellington Importadora       Paula Parente   \n",
      "84  89       White Clover Markets      Karl Jablonski   \n",
      "85  90                Wilman Kala     Matti Karttunen   \n",
      "86  91                     Wolski             Zbyszek   \n",
      "\n",
      "                              3           4          5        6  \n",
      "0                Berguvsvägen 8       Luleå   S-958 22   Sweden  \n",
      "1                Forsterstr. 57    Mannheim      68306  Germany  \n",
      "2              24, place Kléber  Strasbourg      67000   France  \n",
      "3                C/ Araquil, 67      Madrid      28023    Spain  \n",
      "4          12, rue des Bouchers   Marseille      13008   France  \n",
      "..                          ...         ...        ...      ...  \n",
      "82                  Torikatu 38        Oulu      90110  Finland  \n",
      "83           Rua do Mercado, 12     Resende  08737-363   Brazil  \n",
      "84  305 - 14th Ave. S. Suite 3B     Seattle      98128      USA  \n",
      "85                Keskuskatu 45    Helsinki      21240  Finland  \n",
      "86              ul. Filtrowa 68       Walla     01-012     None  \n",
      "\n",
      "[87 rows x 7 columns]\n"
     ]
    }
   ],
   "source": [
    "query = \"\"\"\n",
    "SELECT * FROM Customers\n",
    "WHERE CustomerName NOT LIKE 'A%';\n",
    "\"\"\"\n",
    "print_query_result(query)"
   ]
  },
  {
   "cell_type": "markdown",
   "id": "97eca8f6",
   "metadata": {},
   "source": [
    "## NOT BETWEEN"
   ]
  },
  {
   "cell_type": "code",
   "execution_count": 174,
   "id": "9830463f",
   "metadata": {},
   "outputs": [
    {
     "name": "stdout",
     "output_type": "stream",
     "text": [
      "     0                                   1                     2  \\\n",
      "0    1                 Alfreds Futterkiste          Maria Anders   \n",
      "1    2  Ana Trujillo Emparedados y helados          Ana Trujillo   \n",
      "2    3             Antonio Moreno Taquería        Antonio Moreno   \n",
      "3    4                     Around the Horn          Thomas Hardy   \n",
      "4    5                  Berglunds snabbköp    Christina Berglund   \n",
      "5    6             Blauer See Delikatessen            Hanna Moos   \n",
      "6    7                Blondel père et fils    Frédérique Citeaux   \n",
      "7    8           Bólido Comidas preparadas         Martín Sommer   \n",
      "8    9                            Bon app'     Laurence Lebihans   \n",
      "9   61                         Que Delícia      Bernardo Batista   \n",
      "10  62                       Queen Cozinha        Lúcia Carvalho   \n",
      "11  63                          QUICK-Stop           Horst Kloss   \n",
      "12  64                       Rancho grande      Sergio Gutiérrez   \n",
      "13  65          Rattlesnake Canyon Grocery          Paula Wilson   \n",
      "14  66                  Reggiani Caseifici       Maurizio Moroni   \n",
      "15  67                  Ricardo Adocicados        Janete Limeira   \n",
      "16  68                  Richter Supermarkt          Michael Holz   \n",
      "17  69                    Romero y tomillo      Alejandra Camino   \n",
      "18  70                       Santé Gourmet      Jonas Bergulfsen   \n",
      "19  71                  Save-a-lot Markets        Jose Pavarotti   \n",
      "20  72                  Seven Seas Imports            Hari Kumar   \n",
      "21  73                       Simons bistro        Jytte Petersen   \n",
      "22  74                Spécialités du monde     Dominique Perrier   \n",
      "23  75               Split Rail Beer & Ale    Art Braunschweiger   \n",
      "24  76                    Suprêmes délices      Pascale Cartrain   \n",
      "25  77                      The Big Cheese             Liz Nixon   \n",
      "26  78                     The Cracker Box              Liu Wong   \n",
      "27  79                  Toms Spezialitäten         Karin Josephs   \n",
      "28  80                 Tortuga Restaurante  Miguel Angel Paolino   \n",
      "29  81              Tradição Hipermercados     Anabela Domingues   \n",
      "30  82   Trail's Head Gourmet Provisioners        Helvetius Nagy   \n",
      "31  83                        Vaffeljernet           Palle Ibsen   \n",
      "32  84                Victuailles en stock          Mary Saveley   \n",
      "33  85           Vins et alcools Chevalier          Paul Henriot   \n",
      "34  86                   Die Wandernde Kuh           Rita Müller   \n",
      "35  87                      Wartian Herkku      Pirkko Koskitalo   \n",
      "36  88              Wellington Importadora         Paula Parente   \n",
      "37  89                White Clover Markets        Karl Jablonski   \n",
      "38  90                         Wilman Kala       Matti Karttunen   \n",
      "39  91                              Wolski               Zbyszek   \n",
      "\n",
      "                                3               4          5            6  \n",
      "0                   Obere Str. 57          Berlin      12209      Germany  \n",
      "1   Avda. de la Constitución 2222     México D.F.      05021       Mexico  \n",
      "2                  Mataderos 2312     México D.F.      05023       Mexico  \n",
      "3                 120 Hanover Sq.          London    WA1 1DP           UK  \n",
      "4                  Berguvsvägen 8           Luleå   S-958 22       Sweden  \n",
      "5                  Forsterstr. 57        Mannheim      68306      Germany  \n",
      "6                24, place Kléber      Strasbourg      67000       France  \n",
      "7                  C/ Araquil, 67          Madrid      28023        Spain  \n",
      "8            12, rue des Bouchers       Marseille      13008       France  \n",
      "9         Rua da Panificadora, 12  Rio de Janeiro  02389-673       Brazil  \n",
      "10      Alameda dos Canàrios, 891       São Paulo  05487-020       Brazil  \n",
      "11               Taucherstraße 10       Cunewalde      01307      Germany  \n",
      "12         Av. del Libertador 900    Buenos Aires       1010    Argentina  \n",
      "13                2817 Milton Dr.     Albuquerque      87110          USA  \n",
      "14         Strada Provinciale 124   Reggio Emilia      42100        Italy  \n",
      "15            Av. Copacabana, 267  Rio de Janeiro  02389-890       Brazil  \n",
      "16              Grenzacherweg 237          Genève       1203  Switzerland  \n",
      "17                    Gran Vía, 1          Madrid      28001        Spain  \n",
      "18         Erling Skakkes gate 78         Stavern       4110       Norway  \n",
      "19                187 Suffolk Ln.           Boise      83720          USA  \n",
      "20                90 Wadhurst Rd.          London   OX15 4NB           UK  \n",
      "21                   Vinbæltet 34       København       1734      Denmark  \n",
      "22              25, rue Lauriston           Paris      75016       France  \n",
      "23                   P.O. Box 555          Lander      82520          USA  \n",
      "24           Boulevard Tirou, 255       Charleroi     B-6000      Belgium  \n",
      "25       89 Jefferson Way Suite 2        Portland      97201          USA  \n",
      "26            55 Grizzly Peak Rd.           Butte      59801          USA  \n",
      "27                  Luisenstr. 48         Münster      44087      Germany  \n",
      "28               Avda. Azteca 123     México D.F.      05033       Mexico  \n",
      "29        Av. Inês de Castro, 414       São Paulo  05634-030       Brazil  \n",
      "30              722 DaVinci Blvd.        Kirkland      98034          USA  \n",
      "31                  Smagsløget 45           Århus       8200      Denmark  \n",
      "32             2, rue du Commerce            Lyon      69004       France  \n",
      "33             59 rue de l'Abbaye           Reims      51100       France  \n",
      "34              Adenauerallee 900       Stuttgart      70563      Germany  \n",
      "35                    Torikatu 38            Oulu      90110      Finland  \n",
      "36             Rua do Mercado, 12         Resende  08737-363       Brazil  \n",
      "37    305 - 14th Ave. S. Suite 3B         Seattle      98128          USA  \n",
      "38                  Keskuskatu 45        Helsinki      21240      Finland  \n",
      "39                ul. Filtrowa 68           Walla     01-012         None  \n"
     ]
    }
   ],
   "source": [
    "query = \"\"\"\n",
    "SELECT * FROM Customers\n",
    "WHERE CustomerID NOT BETWEEN 10 AND 60;\n",
    "\"\"\"\n",
    "print_query_result(query)"
   ]
  },
  {
   "cell_type": "markdown",
   "id": "19a51983",
   "metadata": {},
   "source": [
    "## NOT IN"
   ]
  },
  {
   "cell_type": "code",
   "execution_count": 175,
   "id": "558ce9da",
   "metadata": {},
   "outputs": [
    {
     "name": "stdout",
     "output_type": "stream",
     "text": [
      "     0                                   1                   2  \\\n",
      "0    1                 Alfreds Futterkiste        Maria Anders   \n",
      "1    2  Ana Trujillo Emparedados y helados        Ana Trujillo   \n",
      "2    3             Antonio Moreno Taquería      Antonio Moreno   \n",
      "3    5                  Berglunds snabbköp  Christina Berglund   \n",
      "4    6             Blauer See Delikatessen          Hanna Moos   \n",
      "..  ..                                 ...                 ...   \n",
      "78  87                      Wartian Herkku    Pirkko Koskitalo   \n",
      "79  88              Wellington Importadora       Paula Parente   \n",
      "80  89                White Clover Markets      Karl Jablonski   \n",
      "81  90                         Wilman Kala     Matti Karttunen   \n",
      "82  91                              Wolski             Zbyszek   \n",
      "\n",
      "                                3            4          5        6  \n",
      "0                   Obere Str. 57       Berlin      12209  Germany  \n",
      "1   Avda. de la Constitución 2222  México D.F.      05021   Mexico  \n",
      "2                  Mataderos 2312  México D.F.      05023   Mexico  \n",
      "3                  Berguvsvägen 8        Luleå   S-958 22   Sweden  \n",
      "4                  Forsterstr. 57     Mannheim      68306  Germany  \n",
      "..                            ...          ...        ...      ...  \n",
      "78                    Torikatu 38         Oulu      90110  Finland  \n",
      "79             Rua do Mercado, 12      Resende  08737-363   Brazil  \n",
      "80    305 - 14th Ave. S. Suite 3B      Seattle      98128      USA  \n",
      "81                  Keskuskatu 45     Helsinki      21240  Finland  \n",
      "82                ul. Filtrowa 68        Walla     01-012     None  \n",
      "\n",
      "[83 rows x 7 columns]\n"
     ]
    }
   ],
   "source": [
    "query = \"\"\"\n",
    "SELECT * FROM Customers\n",
    "WHERE City NOT IN ('Paris', 'London');\n",
    "\"\"\"\n",
    "print_query_result(query)"
   ]
  },
  {
   "cell_type": "markdown",
   "id": "6cf9a404",
   "metadata": {},
   "source": [
    "## NOT Greater Than"
   ]
  },
  {
   "cell_type": "code",
   "execution_count": 176,
   "id": "de843d62",
   "metadata": {},
   "outputs": [
    {
     "name": "stdout",
     "output_type": "stream",
     "text": [
      "     0                                     1                   2  \\\n",
      "0    1                   Alfreds Futterkiste        Maria Anders   \n",
      "1    2    Ana Trujillo Emparedados y helados        Ana Trujillo   \n",
      "2    3               Antonio Moreno Taquería      Antonio Moreno   \n",
      "3    4                       Around the Horn        Thomas Hardy   \n",
      "4    5                    Berglunds snabbköp  Christina Berglund   \n",
      "5    6               Blauer See Delikatessen          Hanna Moos   \n",
      "6    7                  Blondel père et fils  Frédérique Citeaux   \n",
      "7    8             Bólido Comidas preparadas       Martín Sommer   \n",
      "8    9                              Bon app'   Laurence Lebihans   \n",
      "9   10                Bottom-Dollar Marketse   Elizabeth Lincoln   \n",
      "10  11                         B's Beverages   Victoria Ashworth   \n",
      "11  12            Cactus Comidas para llevar    Patricio Simpson   \n",
      "12  13            Centro comercial Moctezuma     Francisco Chang   \n",
      "13  14                     Chop-suey Chinese           Yang Wang   \n",
      "14  15                      Comércio Mineiro        Pedro Afonso   \n",
      "15  16                 Consolidated Holdings     Elizabeth Brown   \n",
      "16  17             Drachenblut Delikatessend        Sven Ottlieb   \n",
      "17  18                       Du monde entier      Janine Labrune   \n",
      "18  19                    Eastern Connection           Ann Devon   \n",
      "19  20                          Ernst Handel       Roland Mendel   \n",
      "20  21                    Familia Arquibaldo           Aria Cruz   \n",
      "21  22  FISSA Fabrica Inter. Salchichas S.A.          Diego Roel   \n",
      "22  23                     Folies gourmandes       Martine Rancé   \n",
      "23  24                        Folk och fä HB       Maria Larsson   \n",
      "24  25                        Frankenversand       Peter Franken   \n",
      "25  26                   France restauration      Carine Schmitt   \n",
      "26  27                        Franchi S.p.A.       Paolo Accorti   \n",
      "27  28        Furia Bacalhau e Frutos do Mar     Lino Rodriguez    \n",
      "28  29                Galería del gastrónomo    Eduardo Saavedra   \n",
      "29  30                   Godos Cocina Típica   José Pedro Freyre   \n",
      "30  31                   Gourmet Lanchonetes       André Fonseca   \n",
      "31  32               Great Lakes Food Market       Howard Snyder   \n",
      "32  33                  GROSELLA-Restaurante      Manuel Pereira   \n",
      "33  34                         Hanari Carnes        Mario Pontes   \n",
      "34  35                      HILARIÓN-Abastos    Carlos Hernández   \n",
      "35  36            Hungry Coyote Import Store       Yoshi Latimer   \n",
      "36  37          Hungry Owl All-Night Grocers    Patricia McKenna   \n",
      "37  38                        Island Trading       Helen Bennett   \n",
      "38  39                       Königlich Essen       Philip Cramer   \n",
      "39  40                  La corne d'abondance       Daniel Tonini   \n",
      "40  41                      La maison d'Asie      Annette Roulet   \n",
      "41  42         Laughing Bacchus Wine Cellars     Yoshi Tannamuri   \n",
      "42  43                  Lazy K Kountry Store          John Steel   \n",
      "43  44                   Lehmanns Marktstand      Renate Messner   \n",
      "44  45                     Let's Stop N Shop        Jaime Yorres   \n",
      "45  46                     LILA-Supermercado     Carlos González   \n",
      "46  47                      LINO-Delicateses    Felipe Izquierdo   \n",
      "47  48              Lonesome Pine Restaurant         Fran Wilson   \n",
      "48  49          Magazzini Alimentari Riuniti    Giovanni Rovelli   \n",
      "49  50                          Maison Dewey     Catherine Dewey   \n",
      "\n",
      "                                                 3                4  \\\n",
      "0                                    Obere Str. 57           Berlin   \n",
      "1                    Avda. de la Constitución 2222      México D.F.   \n",
      "2                                   Mataderos 2312      México D.F.   \n",
      "3                                  120 Hanover Sq.           London   \n",
      "4                                   Berguvsvägen 8            Luleå   \n",
      "5                                   Forsterstr. 57         Mannheim   \n",
      "6                                 24, place Kléber       Strasbourg   \n",
      "7                                   C/ Araquil, 67           Madrid   \n",
      "8                             12, rue des Bouchers        Marseille   \n",
      "9                               23 Tsawassen Blvd.        Tsawassen   \n",
      "10                               Fauntleroy Circus           London   \n",
      "11                                     Cerrito 333     Buenos Aires   \n",
      "12                         Sierras de Granada 9993      México D.F.   \n",
      "13                                    Hauptstr. 29             Bern   \n",
      "14                            Av. dos Lusíadas, 23        São Paulo   \n",
      "15                    Berkeley Gardens 12 Brewery            London   \n",
      "16                                    Walserweg 21           Aachen   \n",
      "17                    67, rue des Cinquante Otages           Nantes   \n",
      "18                                  35 King George           London   \n",
      "19                                    Kirchgasse 6             Graz   \n",
      "20                                    Rua Orós, 92        São Paulo   \n",
      "21                              C/ Moralzarzal, 86           Madrid   \n",
      "22                        184, chaussée de Tournai            Lille   \n",
      "23                                    Åkergatan 24           Bräcke   \n",
      "24                               Berliner Platz 43          München   \n",
      "25                                  54, rue Royale           Nantes   \n",
      "26                             Via Monte Bianco 34           Torino   \n",
      "27                          Jardim das rosas n. 32           Lisboa   \n",
      "28                          Rambla de Cataluña, 23        Barcelona   \n",
      "29                                   C/ Romero, 33          Sevilla   \n",
      "30                                 Av. Brasil, 442         Campinas   \n",
      "31                                2732 Baker Blvd.           Eugene   \n",
      "32                       5ª Ave. Los Palos Grandes          Caracas   \n",
      "33                                 Rua do Paço, 67   Rio de Janeiro   \n",
      "34      Carrera 22 con Ave. Carlos Soublette #8-35    San Cristóbal   \n",
      "35                  City Center Plaza 516 Main St.            Elgin   \n",
      "36                                8 Johnstown Road             Cork   \n",
      "37                       Garden House Crowther Way            Cowes   \n",
      "38                                   Maubelstr. 90      Brandenburg   \n",
      "39                          67, avenue de l'Europe       Versailles   \n",
      "40                           1 rue Alsace-Lorraine         Toulouse   \n",
      "41                                    1900 Oak St.        Vancouver   \n",
      "42                            12 Orchestra Terrace      Walla Walla   \n",
      "43                                    Magazinweg 7  Frankfurt a.M.    \n",
      "44                             87 Polk St. Suite 5    San Francisco   \n",
      "45  Carrera 52 con Ave. Bolívar #65-98 Llano Largo     Barquisimeto   \n",
      "46                         Ave. 5 de Mayo Porlamar  I. de Margarita   \n",
      "47                              89 Chiaroscuro Rd.         Portland   \n",
      "48                         Via Ludovico il Moro 22          Bergamo   \n",
      "49                             Rue Joseph-Bens 532        Bruxelles   \n",
      "\n",
      "            5            6  \n",
      "0       12209      Germany  \n",
      "1       05021       Mexico  \n",
      "2       05023       Mexico  \n",
      "3     WA1 1DP           UK  \n",
      "4    S-958 22       Sweden  \n",
      "5       68306      Germany  \n",
      "6       67000       France  \n",
      "7       28023        Spain  \n",
      "8       13008       France  \n",
      "9     T2F 8M4       Canada  \n",
      "10    EC2 5NT           UK  \n",
      "11       1010    Argentina  \n",
      "12      05022       Mexico  \n",
      "13       3012  Switzerland  \n",
      "14  05432-043       Brazil  \n",
      "15    WX1 6LT           UK  \n",
      "16      52066      Germany  \n",
      "17      44000       France  \n",
      "18    WX3 6FW           UK  \n",
      "19       8010      Austria  \n",
      "20  05442-030       Brazil  \n",
      "21      28034        Spain  \n",
      "22      59000       France  \n",
      "23   S-844 67       Sweden  \n",
      "24      80805      Germany  \n",
      "25      44000       France  \n",
      "26      10100        Italy  \n",
      "27       1675     Portugal  \n",
      "28      08022        Spain  \n",
      "29      41101        Spain  \n",
      "30  04876-786       Brazil  \n",
      "31      97403          USA  \n",
      "32       1081    Venezuela  \n",
      "33  05454-876       Brazil  \n",
      "34       5022    Venezuela  \n",
      "35      97827          USA  \n",
      "36       None      Ireland  \n",
      "37   PO31 7PJ           UK  \n",
      "38      14776      Germany  \n",
      "39      78000       France  \n",
      "40      31000       France  \n",
      "41    V3F 2K1       Canada  \n",
      "42      99362          USA  \n",
      "43      60528      Germany  \n",
      "44      94117          USA  \n",
      "45       3508    Venezuela  \n",
      "46       4980    Venezuela  \n",
      "47      97219          USA  \n",
      "48      24100        Italy  \n",
      "49     B-1180      Belgium  \n"
     ]
    }
   ],
   "source": [
    "query = \"\"\"\n",
    "SELECT * FROM Customers\n",
    "WHERE NOT CustomerID > 50;\n",
    "\"\"\"\n",
    "print_query_result(query)"
   ]
  },
  {
   "cell_type": "markdown",
   "id": "f89e4b28",
   "metadata": {},
   "source": [
    "## NOT Less Than"
   ]
  },
  {
   "cell_type": "code",
   "execution_count": 177,
   "id": "527ae803",
   "metadata": {},
   "outputs": [
    {
     "name": "stdout",
     "output_type": "stream",
     "text": [
      "     0                                  1                     2  \\\n",
      "0   50                       Maison Dewey       Catherine Dewey   \n",
      "1   51                     Mère Paillarde        Jean Fresnière   \n",
      "2   52             Morgenstern Gesundkost       Alexander Feuer   \n",
      "3   53                        North/South        Simon Crowther   \n",
      "4   54             Océano Atlántico Ltda.        Yvonne Moncada   \n",
      "5   55             Old World Delicatessen         Rene Phillips   \n",
      "6   56                 Ottilies Käseladen   Henriette Pfalzheim   \n",
      "7   57                  Paris spécialités        Marie Bertrand   \n",
      "8   58          Pericles Comidas clásicas   Guillermo Fernández   \n",
      "9   59                   Piccolo und mehr           Georg Pipps   \n",
      "10  60            Princesa Isabel Vinhoss      Isabel de Castro   \n",
      "11  61                        Que Delícia      Bernardo Batista   \n",
      "12  62                      Queen Cozinha        Lúcia Carvalho   \n",
      "13  63                         QUICK-Stop           Horst Kloss   \n",
      "14  64                      Rancho grande      Sergio Gutiérrez   \n",
      "15  65         Rattlesnake Canyon Grocery          Paula Wilson   \n",
      "16  66                 Reggiani Caseifici       Maurizio Moroni   \n",
      "17  67                 Ricardo Adocicados        Janete Limeira   \n",
      "18  68                 Richter Supermarkt          Michael Holz   \n",
      "19  69                   Romero y tomillo      Alejandra Camino   \n",
      "20  70                      Santé Gourmet      Jonas Bergulfsen   \n",
      "21  71                 Save-a-lot Markets        Jose Pavarotti   \n",
      "22  72                 Seven Seas Imports            Hari Kumar   \n",
      "23  73                      Simons bistro        Jytte Petersen   \n",
      "24  74               Spécialités du monde     Dominique Perrier   \n",
      "25  75              Split Rail Beer & Ale    Art Braunschweiger   \n",
      "26  76                   Suprêmes délices      Pascale Cartrain   \n",
      "27  77                     The Big Cheese             Liz Nixon   \n",
      "28  78                    The Cracker Box              Liu Wong   \n",
      "29  79                 Toms Spezialitäten         Karin Josephs   \n",
      "30  80                Tortuga Restaurante  Miguel Angel Paolino   \n",
      "31  81             Tradição Hipermercados     Anabela Domingues   \n",
      "32  82  Trail's Head Gourmet Provisioners        Helvetius Nagy   \n",
      "33  83                       Vaffeljernet           Palle Ibsen   \n",
      "34  84               Victuailles en stock          Mary Saveley   \n",
      "35  85          Vins et alcools Chevalier          Paul Henriot   \n",
      "36  86                  Die Wandernde Kuh           Rita Müller   \n",
      "37  87                     Wartian Herkku      Pirkko Koskitalo   \n",
      "38  88             Wellington Importadora         Paula Parente   \n",
      "39  89               White Clover Markets        Karl Jablonski   \n",
      "40  90                        Wilman Kala       Matti Karttunen   \n",
      "41  91                             Wolski               Zbyszek   \n",
      "\n",
      "                                      3               4          5  \\\n",
      "0                   Rue Joseph-Bens 532       Bruxelles     B-1180   \n",
      "1                    43 rue St. Laurent        Montréal    H1J 1C3   \n",
      "2                           Heerstr. 22         Leipzig      04179   \n",
      "3          South House 300 Queensbridge          London    SW7 1RZ   \n",
      "4   Ing. Gustavo Moncada 8585 Piso 20-A    Buenos Aires       1010   \n",
      "5                       2743 Bering St.       Anchorage      99508   \n",
      "6                    Mehrheimerstr. 369            Köln      50739   \n",
      "7               265, boulevard Charonne           Paris      75012   \n",
      "8              Calle Dr. Jorge Cash 321     México D.F.      05033   \n",
      "9                           Geislweg 14        Salzburg       5020   \n",
      "10               Estrada da saúde n. 58          Lisboa       1756   \n",
      "11              Rua da Panificadora, 12  Rio de Janeiro  02389-673   \n",
      "12            Alameda dos Canàrios, 891       São Paulo  05487-020   \n",
      "13                     Taucherstraße 10       Cunewalde      01307   \n",
      "14               Av. del Libertador 900    Buenos Aires       1010   \n",
      "15                      2817 Milton Dr.     Albuquerque      87110   \n",
      "16               Strada Provinciale 124   Reggio Emilia      42100   \n",
      "17                  Av. Copacabana, 267  Rio de Janeiro  02389-890   \n",
      "18                    Grenzacherweg 237          Genève       1203   \n",
      "19                          Gran Vía, 1          Madrid      28001   \n",
      "20               Erling Skakkes gate 78         Stavern       4110   \n",
      "21                      187 Suffolk Ln.           Boise      83720   \n",
      "22                      90 Wadhurst Rd.          London   OX15 4NB   \n",
      "23                         Vinbæltet 34       København       1734   \n",
      "24                    25, rue Lauriston           Paris      75016   \n",
      "25                         P.O. Box 555          Lander      82520   \n",
      "26                 Boulevard Tirou, 255       Charleroi     B-6000   \n",
      "27             89 Jefferson Way Suite 2        Portland      97201   \n",
      "28                  55 Grizzly Peak Rd.           Butte      59801   \n",
      "29                        Luisenstr. 48         Münster      44087   \n",
      "30                     Avda. Azteca 123     México D.F.      05033   \n",
      "31              Av. Inês de Castro, 414       São Paulo  05634-030   \n",
      "32                    722 DaVinci Blvd.        Kirkland      98034   \n",
      "33                        Smagsløget 45           Århus       8200   \n",
      "34                   2, rue du Commerce            Lyon      69004   \n",
      "35                   59 rue de l'Abbaye           Reims      51100   \n",
      "36                    Adenauerallee 900       Stuttgart      70563   \n",
      "37                          Torikatu 38            Oulu      90110   \n",
      "38                   Rua do Mercado, 12         Resende  08737-363   \n",
      "39          305 - 14th Ave. S. Suite 3B         Seattle      98128   \n",
      "40                        Keskuskatu 45        Helsinki      21240   \n",
      "41                      ul. Filtrowa 68           Walla     01-012   \n",
      "\n",
      "              6  \n",
      "0       Belgium  \n",
      "1        Canada  \n",
      "2       Germany  \n",
      "3            UK  \n",
      "4     Argentina  \n",
      "5           USA  \n",
      "6       Germany  \n",
      "7        France  \n",
      "8        Mexico  \n",
      "9       Austria  \n",
      "10     Portugal  \n",
      "11       Brazil  \n",
      "12       Brazil  \n",
      "13      Germany  \n",
      "14    Argentina  \n",
      "15          USA  \n",
      "16        Italy  \n",
      "17       Brazil  \n",
      "18  Switzerland  \n",
      "19        Spain  \n",
      "20       Norway  \n",
      "21          USA  \n",
      "22           UK  \n",
      "23      Denmark  \n",
      "24       France  \n",
      "25          USA  \n",
      "26      Belgium  \n",
      "27          USA  \n",
      "28          USA  \n",
      "29      Germany  \n",
      "30       Mexico  \n",
      "31       Brazil  \n",
      "32          USA  \n",
      "33      Denmark  \n",
      "34       France  \n",
      "35       France  \n",
      "36      Germany  \n",
      "37      Finland  \n",
      "38       Brazil  \n",
      "39          USA  \n",
      "40      Finland  \n",
      "41         None  \n"
     ]
    }
   ],
   "source": [
    "query = \"\"\"\n",
    "SELECT * FROM Customers\n",
    "WHERE NOT CustomerId < 50;\n",
    "\"\"\"\n",
    "print_query_result(query)"
   ]
  },
  {
   "cell_type": "markdown",
   "id": "7c1e3d9f",
   "metadata": {},
   "source": [
    "## SQL INSERT INTO Statement"
   ]
  },
  {
   "cell_type": "code",
   "execution_count": 178,
   "id": "28eb307d",
   "metadata": {},
   "outputs": [
    {
     "name": "stdout",
     "output_type": "stream",
     "text": [
      "Empty DataFrame\n",
      "Columns: []\n",
      "Index: []\n"
     ]
    }
   ],
   "source": [
    "query = \"\"\"\n",
    "INSERT INTO Customers (CustomerName, ContactName, Address, City, PostalCode, Country)\n",
    "VALUES ('Cardinal', 'Tom B. Erichsen', 'Skagen 21', 'Stavanger', '4006', 'Norway');\n",
    "\"\"\"\n",
    "print_query_result(query)"
   ]
  },
  {
   "cell_type": "markdown",
   "id": "b17a3c81",
   "metadata": {},
   "source": [
    "## Insert Data Only in Specified Columns"
   ]
  },
  {
   "cell_type": "code",
   "execution_count": 179,
   "id": "36746df4",
   "metadata": {},
   "outputs": [
    {
     "name": "stdout",
     "output_type": "stream",
     "text": [
      "Empty DataFrame\n",
      "Columns: []\n",
      "Index: []\n"
     ]
    }
   ],
   "source": [
    "query = \"\"\"\n",
    "INSERT INTO Customers (CustomerName, City, Country)\n",
    "VALUES ('Cardinal', 'Stavanger', 'Norway');\n",
    "\"\"\"\n",
    "print_query_result(query)"
   ]
  },
  {
   "cell_type": "markdown",
   "id": "5e7e8f06",
   "metadata": {},
   "source": [
    "## Insert Multiple Rows"
   ]
  },
  {
   "cell_type": "code",
   "execution_count": 180,
   "id": "eea48ec6",
   "metadata": {},
   "outputs": [
    {
     "name": "stdout",
     "output_type": "stream",
     "text": [
      "Empty DataFrame\n",
      "Columns: []\n",
      "Index: []\n"
     ]
    }
   ],
   "source": [
    "query = \"\"\"\n",
    "INSERT INTO Customers (CustomerName, ContactName, Address, City, PostalCode, Country)\n",
    "VALUES\n",
    "('Cardinal', 'Tom B. Erichsen', 'Skagen 21', 'Stavanger', '4006', 'Norway'),\n",
    "('Greasy Burger', 'Per Olsen', 'Gateveien 15', 'Sandnes', '4306', 'Norway'),\n",
    "('Tasty Tee', 'Finn Egan', 'Streetroad 19B', 'Liverpool', 'L1 0AA', 'UK');\n",
    "\"\"\"\n",
    "print_query_result(query)"
   ]
  },
  {
   "cell_type": "markdown",
   "id": "36b38a20",
   "metadata": {},
   "source": [
    "## SQL NULL Values\n",
    "## IS NULL"
   ]
  },
  {
   "cell_type": "code",
   "execution_count": 181,
   "id": "4f249efb",
   "metadata": {},
   "outputs": [
    {
     "name": "stdout",
     "output_type": "stream",
     "text": [
      "Empty DataFrame\n",
      "Columns: []\n",
      "Index: []\n"
     ]
    }
   ],
   "source": [
    "query = \"\"\"\n",
    "SELECT CustomerName, ContactName, Address\n",
    "FROM Customers\n",
    "WHERE Address IS NULL;\n",
    "\"\"\"\n",
    "print_query_result(query)"
   ]
  },
  {
   "cell_type": "markdown",
   "id": "fac96516",
   "metadata": {},
   "source": [
    "## IS NOT NULL Operator"
   ]
  },
  {
   "cell_type": "code",
   "execution_count": 182,
   "id": "9191d35c",
   "metadata": {},
   "outputs": [
    {
     "name": "stdout",
     "output_type": "stream",
     "text": [
      "                                     0                   1  \\\n",
      "0                  Alfreds Futterkiste        Maria Anders   \n",
      "1   Ana Trujillo Emparedados y helados        Ana Trujillo   \n",
      "2              Antonio Moreno Taquería      Antonio Moreno   \n",
      "3                      Around the Horn        Thomas Hardy   \n",
      "4                   Berglunds snabbköp  Christina Berglund   \n",
      "..                                 ...                 ...   \n",
      "86                      Wartian Herkku    Pirkko Koskitalo   \n",
      "87              Wellington Importadora       Paula Parente   \n",
      "88                White Clover Markets      Karl Jablonski   \n",
      "89                         Wilman Kala     Matti Karttunen   \n",
      "90                              Wolski             Zbyszek   \n",
      "\n",
      "                                2  \n",
      "0                   Obere Str. 57  \n",
      "1   Avda. de la Constitución 2222  \n",
      "2                  Mataderos 2312  \n",
      "3                 120 Hanover Sq.  \n",
      "4                  Berguvsvägen 8  \n",
      "..                            ...  \n",
      "86                    Torikatu 38  \n",
      "87             Rua do Mercado, 12  \n",
      "88    305 - 14th Ave. S. Suite 3B  \n",
      "89                  Keskuskatu 45  \n",
      "90                ul. Filtrowa 68  \n",
      "\n",
      "[91 rows x 3 columns]\n"
     ]
    }
   ],
   "source": [
    "query = \"\"\"\n",
    "SELECT CustomerName, ContactName, Address\n",
    "FROM Customers\n",
    "WHERE Address IS NOT NULL;\n",
    "\"\"\"\n",
    "print_query_result(query)"
   ]
  },
  {
   "cell_type": "markdown",
   "id": "7c5bd21b",
   "metadata": {},
   "source": [
    "## SQL UPDATE Statement"
   ]
  },
  {
   "cell_type": "code",
   "execution_count": 183,
   "id": "2a5d9277",
   "metadata": {},
   "outputs": [
    {
     "name": "stdout",
     "output_type": "stream",
     "text": [
      "Empty DataFrame\n",
      "Columns: []\n",
      "Index: []\n"
     ]
    }
   ],
   "source": [
    "query = \"\"\"\n",
    "UPDATE Customers\n",
    "SET ContactName = 'Alfred Schmidt', City= 'Frankfurt'\n",
    "WHERE CustomerID = 1;\n",
    "\"\"\"\n",
    "print_query_result(query)"
   ]
  },
  {
   "cell_type": "markdown",
   "id": "ba688e8c",
   "metadata": {},
   "source": [
    "## UPDATE Multiple Records"
   ]
  },
  {
   "cell_type": "code",
   "execution_count": 184,
   "id": "1438bf9a",
   "metadata": {},
   "outputs": [
    {
     "name": "stdout",
     "output_type": "stream",
     "text": [
      "Empty DataFrame\n",
      "Columns: []\n",
      "Index: []\n"
     ]
    }
   ],
   "source": [
    "query = \"\"\"\n",
    "UPDATE Customers\n",
    "SET ContactName='Juan'\n",
    "WHERE Country='Mexico';\n",
    "\"\"\"\n",
    "print_query_result(query)"
   ]
  },
  {
   "cell_type": "markdown",
   "id": "73af0ffe",
   "metadata": {},
   "source": [
    "## Update Warning!"
   ]
  },
  {
   "cell_type": "code",
   "execution_count": 185,
   "id": "50c16898",
   "metadata": {},
   "outputs": [
    {
     "name": "stdout",
     "output_type": "stream",
     "text": [
      "Empty DataFrame\n",
      "Columns: []\n",
      "Index: []\n"
     ]
    }
   ],
   "source": [
    "query = \"\"\"\n",
    "UPDATE Customers\n",
    "SET ContactName='Juan';\n",
    "\"\"\"\n",
    "print_query_result(query)"
   ]
  },
  {
   "cell_type": "markdown",
   "id": "4e31edb7",
   "metadata": {},
   "source": [
    "## SQL DELETE Statement"
   ]
  },
  {
   "cell_type": "code",
   "execution_count": 186,
   "id": "24ed8790",
   "metadata": {},
   "outputs": [
    {
     "name": "stdout",
     "output_type": "stream",
     "text": [
      "Empty DataFrame\n",
      "Columns: []\n",
      "Index: []\n"
     ]
    }
   ],
   "source": [
    "query = \"\"\"\n",
    "DELETE FROM Customers WHERE CustomerName='Alfreds Futterkiste';\n",
    "\"\"\"\n",
    "print_query_result(query)"
   ]
  },
  {
   "cell_type": "markdown",
   "id": "fede9552",
   "metadata": {},
   "source": [
    "## Delete All Records"
   ]
  },
  {
   "cell_type": "code",
   "execution_count": 187,
   "id": "588515c5",
   "metadata": {},
   "outputs": [
    {
     "name": "stdout",
     "output_type": "stream",
     "text": [
      "Empty DataFrame\n",
      "Columns: []\n",
      "Index: []\n"
     ]
    }
   ],
   "source": [
    "query = \"\"\"\n",
    "DELETE FROM Customers;\n",
    "\"\"\"\n",
    "print_query_result(query)"
   ]
  },
  {
   "cell_type": "markdown",
   "id": "be93f8b2",
   "metadata": {},
   "source": [
    "## Delete a Table -> DROP !"
   ]
  },
  {
   "cell_type": "code",
   "execution_count": 188,
   "id": "75487b67",
   "metadata": {},
   "outputs": [
    {
     "name": "stdout",
     "output_type": "stream",
     "text": [
      "Empty DataFrame\n",
      "Columns: []\n",
      "Index: []\n"
     ]
    }
   ],
   "source": [
    "query = \"\"\"\n",
    "DROP TABLE Customers;\n",
    "\"\"\"\n",
    "print_query_result(query)"
   ]
  },
  {
   "cell_type": "markdown",
   "id": "83e3b2fa",
   "metadata": {},
   "source": [
    "## SQL SELECT TOP Clause"
   ]
  },
  {
   "cell_type": "code",
   "execution_count": 189,
   "id": "62b2c372",
   "metadata": {},
   "outputs": [],
   "source": [
    "# Customers table 다시 넣어주자 ...\n",
    "df = pd.read_csv('Customers.csv')\n",
    "conn = sqlite3.connect('database.db')\n",
    "df.to_sql(\"Customers\", conn, if_exists='replace', index=False)\n",
    "conn.close()"
   ]
  },
  {
   "cell_type": "code",
   "execution_count": 190,
   "id": "399750c3",
   "metadata": {},
   "outputs": [
    {
     "name": "stdout",
     "output_type": "stream",
     "text": [
      "   0                                   1               2  \\\n",
      "0  1                 Alfreds Futterkiste    Maria Anders   \n",
      "1  2  Ana Trujillo Emparedados y helados    Ana Trujillo   \n",
      "2  3             Antonio Moreno Taquería  Antonio Moreno   \n",
      "\n",
      "                               3            4      5        6  \n",
      "0                  Obere Str. 57       Berlin  12209  Germany  \n",
      "1  Avda. de la Constitución 2222  México D.F.  05021   Mexico  \n",
      "2                 Mataderos 2312  México D.F.  05023   Mexico  \n"
     ]
    }
   ],
   "source": [
    "# SELECT TOP 3 * FROM Customers;\n",
    "# sqlite에서는 TOP 3가 없다 !\n",
    "# LIMIT도 따로 왜 있지 ?\n",
    "query = \"\"\"\n",
    "SELECT * FROM Customers LIMIT 3;\n",
    "\"\"\"\n",
    "print_query_result(query)"
   ]
  },
  {
   "cell_type": "markdown",
   "id": "f2c9f678",
   "metadata": {},
   "source": [
    "## LIMIT"
   ]
  },
  {
   "cell_type": "code",
   "execution_count": 191,
   "id": "50be0107",
   "metadata": {},
   "outputs": [
    {
     "name": "stdout",
     "output_type": "stream",
     "text": [
      "   0                                   1               2  \\\n",
      "0  1                 Alfreds Futterkiste    Maria Anders   \n",
      "1  2  Ana Trujillo Emparedados y helados    Ana Trujillo   \n",
      "2  3             Antonio Moreno Taquería  Antonio Moreno   \n",
      "\n",
      "                               3            4      5        6  \n",
      "0                  Obere Str. 57       Berlin  12209  Germany  \n",
      "1  Avda. de la Constitución 2222  México D.F.  05021   Mexico  \n",
      "2                 Mataderos 2312  México D.F.  05023   Mexico  \n"
     ]
    }
   ],
   "source": [
    "query = \"\"\"\n",
    "SELECT * FROM Customers\n",
    "LIMIT 3;\n",
    "\"\"\"\n",
    "print_query_result(query)"
   ]
  },
  {
   "cell_type": "markdown",
   "id": "f922756a",
   "metadata": {},
   "source": [
    "## FETCH FIRST"
   ]
  },
  {
   "cell_type": "code",
   "execution_count": 192,
   "id": "64308f5c",
   "metadata": {},
   "outputs": [
    {
     "name": "stdout",
     "output_type": "stream",
     "text": [
      "   0                                   1               2  \\\n",
      "0  1                 Alfreds Futterkiste    Maria Anders   \n",
      "1  2  Ana Trujillo Emparedados y helados    Ana Trujillo   \n",
      "2  3             Antonio Moreno Taquería  Antonio Moreno   \n",
      "\n",
      "                               3            4      5        6  \n",
      "0                  Obere Str. 57       Berlin  12209  Germany  \n",
      "1  Avda. de la Constitución 2222  México D.F.  05021   Mexico  \n",
      "2                 Mataderos 2312  México D.F.  05023   Mexico  \n"
     ]
    }
   ],
   "source": [
    "\"\"\"\n",
    "# 이것도 안된다 !\n",
    "SELECT * FROM Customers\n",
    "FETCH FIRST 3 ROWS ONLY;\n",
    "\"\"\"\n",
    "\n",
    "query = \"\"\"\n",
    "SELECT * FROM Customers LIMIT 3;\n",
    "\"\"\"\n",
    "print_query_result(query)"
   ]
  },
  {
   "cell_type": "markdown",
   "id": "3fe5cdc9",
   "metadata": {},
   "source": [
    "## SQL TOP PERCENT Example"
   ]
  },
  {
   "cell_type": "code",
   "execution_count": 193,
   "id": "becea379",
   "metadata": {},
   "outputs": [
    {
     "name": "stdout",
     "output_type": "stream",
     "text": [
      "total_row_num: 91\n",
      "     0                                     1                   2  \\\n",
      "0    1                   Alfreds Futterkiste        Maria Anders   \n",
      "1    2    Ana Trujillo Emparedados y helados        Ana Trujillo   \n",
      "2    3               Antonio Moreno Taquería      Antonio Moreno   \n",
      "3    4                       Around the Horn        Thomas Hardy   \n",
      "4    5                    Berglunds snabbköp  Christina Berglund   \n",
      "5    6               Blauer See Delikatessen          Hanna Moos   \n",
      "6    7                  Blondel père et fils  Frédérique Citeaux   \n",
      "7    8             Bólido Comidas preparadas       Martín Sommer   \n",
      "8    9                              Bon app'   Laurence Lebihans   \n",
      "9   10                Bottom-Dollar Marketse   Elizabeth Lincoln   \n",
      "10  11                         B's Beverages   Victoria Ashworth   \n",
      "11  12            Cactus Comidas para llevar    Patricio Simpson   \n",
      "12  13            Centro comercial Moctezuma     Francisco Chang   \n",
      "13  14                     Chop-suey Chinese           Yang Wang   \n",
      "14  15                      Comércio Mineiro        Pedro Afonso   \n",
      "15  16                 Consolidated Holdings     Elizabeth Brown   \n",
      "16  17             Drachenblut Delikatessend        Sven Ottlieb   \n",
      "17  18                       Du monde entier      Janine Labrune   \n",
      "18  19                    Eastern Connection           Ann Devon   \n",
      "19  20                          Ernst Handel       Roland Mendel   \n",
      "20  21                    Familia Arquibaldo           Aria Cruz   \n",
      "21  22  FISSA Fabrica Inter. Salchichas S.A.          Diego Roel   \n",
      "22  23                     Folies gourmandes       Martine Rancé   \n",
      "23  24                        Folk och fä HB       Maria Larsson   \n",
      "24  25                        Frankenversand       Peter Franken   \n",
      "25  26                   France restauration      Carine Schmitt   \n",
      "26  27                        Franchi S.p.A.       Paolo Accorti   \n",
      "27  28        Furia Bacalhau e Frutos do Mar     Lino Rodriguez    \n",
      "28  29                Galería del gastrónomo    Eduardo Saavedra   \n",
      "29  30                   Godos Cocina Típica   José Pedro Freyre   \n",
      "30  31                   Gourmet Lanchonetes       André Fonseca   \n",
      "31  32               Great Lakes Food Market       Howard Snyder   \n",
      "32  33                  GROSELLA-Restaurante      Manuel Pereira   \n",
      "33  34                         Hanari Carnes        Mario Pontes   \n",
      "34  35                      HILARIÓN-Abastos    Carlos Hernández   \n",
      "35  36            Hungry Coyote Import Store       Yoshi Latimer   \n",
      "36  37          Hungry Owl All-Night Grocers    Patricia McKenna   \n",
      "37  38                        Island Trading       Helen Bennett   \n",
      "38  39                       Königlich Essen       Philip Cramer   \n",
      "39  40                  La corne d'abondance       Daniel Tonini   \n",
      "40  41                      La maison d'Asie      Annette Roulet   \n",
      "41  42         Laughing Bacchus Wine Cellars     Yoshi Tannamuri   \n",
      "42  43                  Lazy K Kountry Store          John Steel   \n",
      "43  44                   Lehmanns Marktstand      Renate Messner   \n",
      "44  45                     Let's Stop N Shop        Jaime Yorres   \n",
      "\n",
      "                                             3                4          5  \\\n",
      "0                                Obere Str. 57           Berlin      12209   \n",
      "1                Avda. de la Constitución 2222      México D.F.      05021   \n",
      "2                               Mataderos 2312      México D.F.      05023   \n",
      "3                              120 Hanover Sq.           London    WA1 1DP   \n",
      "4                               Berguvsvägen 8            Luleå   S-958 22   \n",
      "5                               Forsterstr. 57         Mannheim      68306   \n",
      "6                             24, place Kléber       Strasbourg      67000   \n",
      "7                               C/ Araquil, 67           Madrid      28023   \n",
      "8                         12, rue des Bouchers        Marseille      13008   \n",
      "9                           23 Tsawassen Blvd.        Tsawassen    T2F 8M4   \n",
      "10                           Fauntleroy Circus           London    EC2 5NT   \n",
      "11                                 Cerrito 333     Buenos Aires       1010   \n",
      "12                     Sierras de Granada 9993      México D.F.      05022   \n",
      "13                                Hauptstr. 29             Bern       3012   \n",
      "14                        Av. dos Lusíadas, 23        São Paulo  05432-043   \n",
      "15                Berkeley Gardens 12 Brewery            London    WX1 6LT   \n",
      "16                                Walserweg 21           Aachen      52066   \n",
      "17                67, rue des Cinquante Otages           Nantes      44000   \n",
      "18                              35 King George           London    WX3 6FW   \n",
      "19                                Kirchgasse 6             Graz       8010   \n",
      "20                                Rua Orós, 92        São Paulo  05442-030   \n",
      "21                          C/ Moralzarzal, 86           Madrid      28034   \n",
      "22                    184, chaussée de Tournai            Lille      59000   \n",
      "23                                Åkergatan 24           Bräcke   S-844 67   \n",
      "24                           Berliner Platz 43          München      80805   \n",
      "25                              54, rue Royale           Nantes      44000   \n",
      "26                         Via Monte Bianco 34           Torino      10100   \n",
      "27                      Jardim das rosas n. 32           Lisboa       1675   \n",
      "28                      Rambla de Cataluña, 23        Barcelona      08022   \n",
      "29                               C/ Romero, 33          Sevilla      41101   \n",
      "30                             Av. Brasil, 442         Campinas  04876-786   \n",
      "31                            2732 Baker Blvd.           Eugene      97403   \n",
      "32                   5ª Ave. Los Palos Grandes          Caracas       1081   \n",
      "33                             Rua do Paço, 67   Rio de Janeiro  05454-876   \n",
      "34  Carrera 22 con Ave. Carlos Soublette #8-35    San Cristóbal       5022   \n",
      "35              City Center Plaza 516 Main St.            Elgin      97827   \n",
      "36                            8 Johnstown Road             Cork       None   \n",
      "37                   Garden House Crowther Way            Cowes   PO31 7PJ   \n",
      "38                               Maubelstr. 90      Brandenburg      14776   \n",
      "39                      67, avenue de l'Europe       Versailles      78000   \n",
      "40                       1 rue Alsace-Lorraine         Toulouse      31000   \n",
      "41                                1900 Oak St.        Vancouver    V3F 2K1   \n",
      "42                        12 Orchestra Terrace      Walla Walla      99362   \n",
      "43                                Magazinweg 7  Frankfurt a.M.       60528   \n",
      "44                         87 Polk St. Suite 5    San Francisco      94117   \n",
      "\n",
      "              6  \n",
      "0       Germany  \n",
      "1        Mexico  \n",
      "2        Mexico  \n",
      "3            UK  \n",
      "4        Sweden  \n",
      "5       Germany  \n",
      "6        France  \n",
      "7         Spain  \n",
      "8        France  \n",
      "9        Canada  \n",
      "10           UK  \n",
      "11    Argentina  \n",
      "12       Mexico  \n",
      "13  Switzerland  \n",
      "14       Brazil  \n",
      "15           UK  \n",
      "16      Germany  \n",
      "17       France  \n",
      "18           UK  \n",
      "19      Austria  \n",
      "20       Brazil  \n",
      "21        Spain  \n",
      "22       France  \n",
      "23       Sweden  \n",
      "24      Germany  \n",
      "25       France  \n",
      "26        Italy  \n",
      "27     Portugal  \n",
      "28        Spain  \n",
      "29        Spain  \n",
      "30       Brazil  \n",
      "31          USA  \n",
      "32    Venezuela  \n",
      "33       Brazil  \n",
      "34    Venezuela  \n",
      "35          USA  \n",
      "36      Ireland  \n",
      "37           UK  \n",
      "38      Germany  \n",
      "39       France  \n",
      "40       France  \n",
      "41       Canada  \n",
      "42          USA  \n",
      "43      Germany  \n",
      "44          USA  \n"
     ]
    }
   ],
   "source": [
    "\n",
    "# 이것도 안된다 !!\n",
    "\"\"\"\n",
    "SELECT TOP 50 PERCENT * FROM Customers;\n",
    "\"\"\"\n",
    "conn = sqlite3.connect('database.db')\n",
    "cur = conn.cursor()\n",
    "cur.execute(\"SELECT COUNT(*) FROM Customers;\")\n",
    "total_row_num = cur.fetchone()[0]\n",
    "print(f'total_row_num: {total_row_num}')\n",
    "half = total_row_num//2\n",
    "query = f\"\"\"\n",
    "SELECT * FROM Customers\n",
    "LIMIT {half};\n",
    "\"\"\"\n",
    "print_query_result(query)\n",
    "conn.close()"
   ]
  },
  {
   "cell_type": "markdown",
   "id": "77a8eed6",
   "metadata": {},
   "source": [
    "## ADD a WHERE CLAUSE"
   ]
  },
  {
   "cell_type": "code",
   "execution_count": 194,
   "id": "b4ca5ff9",
   "metadata": {},
   "outputs": [
    {
     "name": "stdout",
     "output_type": "stream",
     "text": [
      "    0                          1             2               3         4  \\\n",
      "0   1        Alfreds Futterkiste  Maria Anders   Obere Str. 57    Berlin   \n",
      "1   6    Blauer See Delikatessen    Hanna Moos  Forsterstr. 57  Mannheim   \n",
      "2  17  Drachenblut Delikatessend  Sven Ottlieb    Walserweg 21    Aachen   \n",
      "\n",
      "       5        6  \n",
      "0  12209  Germany  \n",
      "1  68306  Germany  \n",
      "2  52066  Germany  \n"
     ]
    }
   ],
   "source": [
    "\"\"\"\n",
    "SELECT TOP 3 * FROM Customers\n",
    "WHERE Country='Germany';\n",
    "\"\"\"\n",
    "\n",
    "query = \"\"\"\n",
    "SELECT * FROM Customers\n",
    "WHERE Country = 'Germany'\n",
    "LIMIT 3;\n",
    "\"\"\"\n",
    "print_query_result(query)"
   ]
  },
  {
   "cell_type": "code",
   "execution_count": 195,
   "id": "f49e739c",
   "metadata": {},
   "outputs": [
    {
     "name": "stdout",
     "output_type": "stream",
     "text": [
      "    0                          1             2               3         4  \\\n",
      "0   1        Alfreds Futterkiste  Maria Anders   Obere Str. 57    Berlin   \n",
      "1   6    Blauer See Delikatessen    Hanna Moos  Forsterstr. 57  Mannheim   \n",
      "2  17  Drachenblut Delikatessend  Sven Ottlieb    Walserweg 21    Aachen   \n",
      "\n",
      "       5        6  \n",
      "0  12209  Germany  \n",
      "1  68306  Germany  \n",
      "2  52066  Germany  \n"
     ]
    }
   ],
   "source": [
    "\"\"\"\n",
    "SELECT * FROM Customers\n",
    "WHERE Country='Germany'\n",
    "LIMIT 3;\n",
    "\"\"\"\n",
    "query = \"\"\"\n",
    "SELECT * FROM Customers\n",
    "WHERE Country='Germany'\n",
    "LIMIT 3;\n",
    "\"\"\"\n",
    "print_query_result(query)"
   ]
  },
  {
   "cell_type": "code",
   "execution_count": 196,
   "id": "ac9f7e4d",
   "metadata": {},
   "outputs": [
    {
     "name": "stdout",
     "output_type": "stream",
     "text": [
      "    0                          1             2               3         4  \\\n",
      "0   1        Alfreds Futterkiste  Maria Anders   Obere Str. 57    Berlin   \n",
      "1   6    Blauer See Delikatessen    Hanna Moos  Forsterstr. 57  Mannheim   \n",
      "2  17  Drachenblut Delikatessend  Sven Ottlieb    Walserweg 21    Aachen   \n",
      "\n",
      "       5        6  \n",
      "0  12209  Germany  \n",
      "1  68306  Germany  \n",
      "2  52066  Germany  \n"
     ]
    }
   ],
   "source": [
    "\"\"\"\n",
    "SELECT * FROM Customers\n",
    "WHERE Country='Germany'\n",
    "FETCH FIRST 3 ROWS ONLY;\n",
    "\"\"\"\n",
    "query = \"\"\"\n",
    "SELECT * FROM Customers\n",
    "WHERE Country = \"Germany\"\n",
    "LIMIT 3;\n",
    "\"\"\"\n",
    "print_query_result(query)"
   ]
  },
  {
   "cell_type": "markdown",
   "id": "86aed359",
   "metadata": {},
   "source": [
    "## ADD the ORDER BY Keyword\n"
   ]
  },
  {
   "cell_type": "code",
   "execution_count": 197,
   "id": "8f848dc3",
   "metadata": {},
   "outputs": [
    {
     "name": "stdout",
     "output_type": "stream",
     "text": [
      "    0                     1                2                            3  \\\n",
      "0  91                Wolski          Zbyszek              ul. Filtrowa 68   \n",
      "1  90           Wilman Kala  Matti Karttunen                Keskuskatu 45   \n",
      "2  89  White Clover Markets   Karl Jablonski  305 - 14th Ave. S. Suite 3B   \n",
      "\n",
      "          4       5        6  \n",
      "0     Walla  01-012     None  \n",
      "1  Helsinki   21240  Finland  \n",
      "2   Seattle   98128      USA  \n"
     ]
    }
   ],
   "source": [
    "\"\"\"\n",
    "SELECT TOP 3 * FROM Customers\n",
    "ORDER BY CustomerName DESC;\n",
    "\"\"\"\n",
    "query = \"\"\"\n",
    "SELECT * FROM Customers\n",
    "ORDER BY CustomerName DESC\n",
    "LIMIT 3;\n",
    "\"\"\"\n",
    "print_query_result(query)"
   ]
  },
  {
   "cell_type": "code",
   "execution_count": 198,
   "id": "5d446d03",
   "metadata": {},
   "outputs": [
    {
     "name": "stdout",
     "output_type": "stream",
     "text": [
      "Empty DataFrame\n",
      "Columns: []\n",
      "Index: []\n"
     ]
    }
   ],
   "source": [
    "query = \"\"\"\n",
    "\n",
    "\"\"\"\n",
    "print_query_result(query)"
   ]
  },
  {
   "cell_type": "code",
   "execution_count": 199,
   "id": "394da415",
   "metadata": {},
   "outputs": [
    {
     "name": "stdout",
     "output_type": "stream",
     "text": [
      "    0                     1                2                            3  \\\n",
      "0  91                Wolski          Zbyszek              ul. Filtrowa 68   \n",
      "1  90           Wilman Kala  Matti Karttunen                Keskuskatu 45   \n",
      "2  89  White Clover Markets   Karl Jablonski  305 - 14th Ave. S. Suite 3B   \n",
      "\n",
      "          4       5        6  \n",
      "0     Walla  01-012     None  \n",
      "1  Helsinki   21240  Finland  \n",
      "2   Seattle   98128      USA  \n"
     ]
    }
   ],
   "source": [
    "query = \"\"\"\n",
    "SELECT * FROM Customers\n",
    "ORDER BY CustomerName DESC\n",
    "LIMIT 3;\n",
    "\"\"\"\n",
    "print_query_result(query)"
   ]
  },
  {
   "cell_type": "code",
   "execution_count": 200,
   "id": "eba14433",
   "metadata": {},
   "outputs": [
    {
     "name": "stdout",
     "output_type": "stream",
     "text": [
      "    0                     1                2                            3  \\\n",
      "0  91                Wolski          Zbyszek              ul. Filtrowa 68   \n",
      "1  90           Wilman Kala  Matti Karttunen                Keskuskatu 45   \n",
      "2  89  White Clover Markets   Karl Jablonski  305 - 14th Ave. S. Suite 3B   \n",
      "\n",
      "          4       5        6  \n",
      "0     Walla  01-012     None  \n",
      "1  Helsinki   21240  Finland  \n",
      "2   Seattle   98128      USA  \n"
     ]
    }
   ],
   "source": [
    "\"\"\"\n",
    "SELECT * FROM Customers\n",
    "ORDER BY CustomerName DESC\n",
    "FETCH FIRST 3 ROWS ONLY;\n",
    "\"\"\"\n",
    "query = \"\"\"\n",
    "\n",
    "SELECT * FROM Customers\n",
    "ORDER BY CustomerName DESC\n",
    "LIMIT 3;\n",
    "\"\"\"\n",
    "print_query_result(query)"
   ]
  },
  {
   "cell_type": "markdown",
   "id": "1f1b266d",
   "metadata": {},
   "source": [
    "## SQL Aggregate Functions\n"
   ]
  },
  {
   "cell_type": "markdown",
   "id": "2f571868",
   "metadata": {},
   "source": [
    "## SQL MIN() and MAX() Functions"
   ]
  },
  {
   "cell_type": "code",
   "execution_count": 201,
   "id": "0ecf4b65",
   "metadata": {},
   "outputs": [
    {
     "name": "stdout",
     "output_type": "stream",
     "text": [
      "     0\n",
      "0  2.5\n"
     ]
    }
   ],
   "source": [
    "query = \"\"\"\n",
    "SELECT MIN(Price)\n",
    "FROM Products;\n",
    "\"\"\"\n",
    "print_query_result(query)"
   ]
  },
  {
   "cell_type": "code",
   "execution_count": 202,
   "id": "8d058aab",
   "metadata": {},
   "outputs": [
    {
     "name": "stdout",
     "output_type": "stream",
     "text": [
      "       0\n",
      "0  263.5\n"
     ]
    }
   ],
   "source": [
    "query = \"\"\"\n",
    "SELECT MAX(Price)\n",
    "FROM Products;\n",
    "\"\"\"\n",
    "print_query_result(query)"
   ]
  },
  {
   "cell_type": "markdown",
   "id": "f51df08e",
   "metadata": {},
   "source": [
    "## Set Column Name (Alias)"
   ]
  },
  {
   "cell_type": "code",
   "execution_count": 203,
   "id": "c9bf45b2",
   "metadata": {},
   "outputs": [
    {
     "name": "stdout",
     "output_type": "stream",
     "text": [
      "     0\n",
      "0  2.5\n"
     ]
    }
   ],
   "source": [
    "query = \"\"\"\n",
    "SELECT MIN(Price) AS SmallestPrice\n",
    "FROM Products;\n",
    "\"\"\"\n",
    "print_query_result(query)"
   ]
  },
  {
   "cell_type": "markdown",
   "id": "a475799d",
   "metadata": {},
   "source": [
    "## Use MIN() with GROUP BY"
   ]
  },
  {
   "cell_type": "code",
   "execution_count": 204,
   "id": "bebdff01",
   "metadata": {},
   "outputs": [
    {
     "name": "stdout",
     "output_type": "stream",
     "text": [
      "       0  1\n",
      "0   4.50  1\n",
      "1  10.00  2\n",
      "2   9.20  3\n",
      "3   2.50  4\n",
      "4   7.00  5\n",
      "5   7.45  6\n",
      "6  10.00  7\n",
      "7   6.00  8\n"
     ]
    }
   ],
   "source": [
    "query = \"\"\"\n",
    "SELECT MIN(Price) AS SmallestPrice, CategoryID\n",
    "FROM Products\n",
    "GROUP BY CategoryID;\n",
    "\"\"\"\n",
    "print_query_result(query)"
   ]
  },
  {
   "cell_type": "markdown",
   "id": "13b46b8d",
   "metadata": {},
   "source": [
    "## SQL COUNT() Function"
   ]
  },
  {
   "cell_type": "code",
   "execution_count": 205,
   "id": "2d55e97e",
   "metadata": {},
   "outputs": [
    {
     "name": "stdout",
     "output_type": "stream",
     "text": [
      "    0\n",
      "0  77\n"
     ]
    }
   ],
   "source": [
    "query = \"\"\"\n",
    "SELECT COUNT(*)\n",
    "FROM Products;\n",
    "\"\"\"\n",
    "print_query_result(query)"
   ]
  },
  {
   "cell_type": "markdown",
   "id": "b62dd56a",
   "metadata": {},
   "source": [
    "## Specify Column"
   ]
  },
  {
   "cell_type": "code",
   "execution_count": 206,
   "id": "9d138537",
   "metadata": {},
   "outputs": [
    {
     "name": "stdout",
     "output_type": "stream",
     "text": [
      "    0\n",
      "0  77\n"
     ]
    }
   ],
   "source": [
    "query = \"\"\"\n",
    "SELECT COUNT(ProductName)\n",
    "FROM Products;\n",
    "\"\"\"\n",
    "print_query_result(query)"
   ]
  },
  {
   "cell_type": "markdown",
   "id": "07499088",
   "metadata": {},
   "source": [
    "## Add a WHERE Clause"
   ]
  },
  {
   "cell_type": "code",
   "execution_count": 207,
   "id": "5003edfd",
   "metadata": {},
   "outputs": [
    {
     "name": "stdout",
     "output_type": "stream",
     "text": [
      "    0\n",
      "0  37\n"
     ]
    }
   ],
   "source": [
    "query = \"\"\"\n",
    "SELECT COUNT(ProductID)\n",
    "FROM Products\n",
    "WHERE Price > 20;\n",
    "\"\"\"\n",
    "print_query_result(query)"
   ]
  },
  {
   "cell_type": "markdown",
   "id": "da72bc1f",
   "metadata": {},
   "source": [
    "## Ignore Duplicates"
   ]
  },
  {
   "cell_type": "code",
   "execution_count": 208,
   "id": "b27b15e7",
   "metadata": {},
   "outputs": [
    {
     "name": "stdout",
     "output_type": "stream",
     "text": [
      "    0\n",
      "0  62\n"
     ]
    }
   ],
   "source": [
    "query = \"\"\"\n",
    "SELECT COUNT(DISTINCT Price)\n",
    "FROM Products;\n",
    "\"\"\"\n",
    "print_query_result(query)"
   ]
  },
  {
   "cell_type": "markdown",
   "id": "fe38de49",
   "metadata": {},
   "source": [
    "## Use an Alias"
   ]
  },
  {
   "cell_type": "code",
   "execution_count": 209,
   "id": "a22c9d7c",
   "metadata": {},
   "outputs": [
    {
     "name": "stdout",
     "output_type": "stream",
     "text": [
      "    0\n",
      "0  77\n"
     ]
    }
   ],
   "source": [
    "query = \"\"\"\n",
    "SELECT COUNT(*) AS [Number of records]\n",
    "FROM Products;\n",
    "\"\"\"\n",
    "print_query_result(query)"
   ]
  },
  {
   "cell_type": "markdown",
   "id": "60809c50",
   "metadata": {},
   "source": [
    "## Use COUNT() with GROUP BY"
   ]
  },
  {
   "cell_type": "code",
   "execution_count": 210,
   "id": "8cbe07cb",
   "metadata": {},
   "outputs": [
    {
     "name": "stdout",
     "output_type": "stream",
     "text": [
      "    0  1\n",
      "0  12  1\n",
      "1  12  2\n",
      "2  13  3\n",
      "3  10  4\n",
      "4   7  5\n",
      "5   6  6\n",
      "6   5  7\n",
      "7  12  8\n"
     ]
    }
   ],
   "source": [
    "query = \"\"\"\n",
    "SELECT COUNT(*) AS [Number of records], CategoryID\n",
    "FROM Products\n",
    "GROUP BY CategoryID;\n",
    "\"\"\"\n",
    "print_query_result(query)"
   ]
  },
  {
   "cell_type": "markdown",
   "id": "c3bf578d",
   "metadata": {},
   "source": [
    "## SQL SUM() Function"
   ]
  },
  {
   "cell_type": "code",
   "execution_count": 211,
   "id": "5eedce80",
   "metadata": {},
   "outputs": [
    {
     "name": "stdout",
     "output_type": "stream",
     "text": [
      "       0\n",
      "0  12743\n"
     ]
    }
   ],
   "source": [
    "query = \"\"\"\n",
    "SELECT SUM(Quantity)\n",
    "FROM OrderDetails;\n",
    "\"\"\"\n",
    "print_query_result(query)"
   ]
  },
  {
   "cell_type": "markdown",
   "id": "14c1e408",
   "metadata": {},
   "source": [
    "## Add a WHERE Clause"
   ]
  },
  {
   "cell_type": "code",
   "execution_count": 212,
   "id": "0a620ed9",
   "metadata": {},
   "outputs": [
    {
     "name": "stdout",
     "output_type": "stream",
     "text": [
      "     0\n",
      "0  182\n"
     ]
    }
   ],
   "source": [
    "query = \"\"\"\n",
    "SELECT SUM(Quantity)\n",
    "FROM OrderDetails\n",
    "WHERE ProductId = 11;\n",
    "\"\"\"\n",
    "print_query_result(query)"
   ]
  },
  {
   "cell_type": "markdown",
   "id": "83f9f17e",
   "metadata": {},
   "source": [
    "## Use an Alias"
   ]
  },
  {
   "cell_type": "code",
   "execution_count": 213,
   "id": "f65fc8b5",
   "metadata": {},
   "outputs": [
    {
     "name": "stdout",
     "output_type": "stream",
     "text": [
      "       0\n",
      "0  12743\n"
     ]
    }
   ],
   "source": [
    "query = \"\"\"\n",
    "SELECT SUM(Quantity) AS total\n",
    "FROM OrderDetails;\n",
    "\"\"\"\n",
    "print_query_result(query)"
   ]
  },
  {
   "cell_type": "markdown",
   "id": "5f5ec7cd",
   "metadata": {},
   "source": [
    "# Use SUM() with GROUP BY"
   ]
  },
  {
   "cell_type": "code",
   "execution_count": 214,
   "id": "c92f41a8",
   "metadata": {},
   "outputs": [
    {
     "name": "stdout",
     "output_type": "stream",
     "text": [
      "         0    1\n",
      "0    10248   27\n",
      "1    10249   49\n",
      "2    10250   60\n",
      "3    10251   41\n",
      "4    10252  105\n",
      "..     ...  ...\n",
      "191  10439   67\n",
      "192  10440  208\n",
      "193  10441   50\n",
      "194  10442  170\n",
      "195  10443   18\n",
      "\n",
      "[196 rows x 2 columns]\n"
     ]
    }
   ],
   "source": [
    "query = \"\"\"\n",
    "SELECT OrderID, SUM(Quantity) AS [Total Quantity]\n",
    "FROM OrderDetails\n",
    "GROUP BY OrderID;\n",
    "\"\"\"\n",
    "print_query_result(query)"
   ]
  },
  {
   "cell_type": "markdown",
   "id": "0f744569",
   "metadata": {},
   "source": [
    "## SUM() With an Expression\n"
   ]
  },
  {
   "cell_type": "code",
   "execution_count": 215,
   "id": "8b216fd0",
   "metadata": {},
   "outputs": [
    {
     "name": "stdout",
     "output_type": "stream",
     "text": [
      "        0\n",
      "0  127430\n"
     ]
    }
   ],
   "source": [
    "query = \"\"\"\n",
    "SELECT SUM(Quantity * 10)\n",
    "FROM OrderDetails;\n",
    "\"\"\"\n",
    "print_query_result(query)"
   ]
  },
  {
   "cell_type": "code",
   "execution_count": 216,
   "id": "212a8736",
   "metadata": {},
   "outputs": [
    {
     "name": "stdout",
     "output_type": "stream",
     "text": [
      "           0\n",
      "0  386424.23\n"
     ]
    }
   ],
   "source": [
    "query = \"\"\"\n",
    "SELECT SUM(Price * Quantity)\n",
    "FROM OrderDetails\n",
    "LEFT JOIN Products ON OrderDetails.ProductID = Products.ProductID;\n",
    "\"\"\"\n",
    "print_query_result(query)"
   ]
  },
  {
   "cell_type": "markdown",
   "id": "5c0dc214",
   "metadata": {},
   "source": [
    "## SQL AVG() Function"
   ]
  },
  {
   "cell_type": "code",
   "execution_count": 217,
   "id": "6fc4beab",
   "metadata": {},
   "outputs": [
    {
     "name": "stdout",
     "output_type": "stream",
     "text": [
      "           0\n",
      "0  28.866364\n"
     ]
    }
   ],
   "source": [
    "query = \"\"\"\n",
    "SELECT AVG(Price)\n",
    "FROM Products;\n",
    "\"\"\"\n",
    "print_query_result(query)"
   ]
  },
  {
   "cell_type": "markdown",
   "id": "2d8eed74",
   "metadata": {},
   "source": [
    "## Add a WHERE Clause"
   ]
  },
  {
   "cell_type": "code",
   "execution_count": 218,
   "id": "5bd47a87",
   "metadata": {},
   "outputs": [
    {
     "name": "stdout",
     "output_type": "stream",
     "text": [
      "           0\n",
      "0  37.979167\n"
     ]
    }
   ],
   "source": [
    "query = \"\"\"\n",
    "SELECT AVG(Price)\n",
    "FROM Products\n",
    "WHERE CategoryID = 1;\n",
    "\"\"\"\n",
    "print_query_result(query)"
   ]
  },
  {
   "cell_type": "markdown",
   "id": "fac24cfb",
   "metadata": {},
   "source": [
    "## Use an Alias"
   ]
  },
  {
   "cell_type": "code",
   "execution_count": 219,
   "id": "3aa5240a",
   "metadata": {},
   "outputs": [
    {
     "name": "stdout",
     "output_type": "stream",
     "text": [
      "           0\n",
      "0  28.866364\n"
     ]
    }
   ],
   "source": [
    "query = \"\"\"\n",
    "SELECT AVG(Price) AS [average price]\n",
    "FROM Products;\n",
    "\"\"\"\n",
    "print_query_result(query)"
   ]
  },
  {
   "cell_type": "markdown",
   "id": "859050fd",
   "metadata": {},
   "source": [
    "## Higher Than Average"
   ]
  },
  {
   "cell_type": "code",
   "execution_count": 220,
   "id": "2edef4a3",
   "metadata": {},
   "outputs": [
    {
     "name": "stdout",
     "output_type": "stream",
     "text": [
      "     0                                1   2  3                     4       5\n",
      "0    7  Uncle Bob's Organic Dried Pears   3  7       12 - 1 lb pkgs.   30.00\n",
      "1    8       Northwoods Cranberry Sauce   3  2       12 - 12 oz jars   40.00\n",
      "2    9                  Mishi Kobe Niku   4  6      18 - 500 g pkgs.   97.00\n",
      "3   10                            Ikura   4  8      12 - 200 ml jars   31.00\n",
      "4   12        Queso Manchego La Pastora   5  4      10 - 500 g pkgs.   38.00\n",
      "5   17                     Alice Mutton   7  6        20 - 1 kg tins   39.00\n",
      "6   18                 Carnarvon Tigers   7  8            16 kg pkg.   62.50\n",
      "7   20           Sir Rodney's Marmalade   8  3         30 gift boxes   81.00\n",
      "8   26              Gumbär Gummibärchen  11  3      100 - 250 g bags   31.23\n",
      "9   27               Schoggi Schokolade  11  3    100 - 100 g pieces   43.90\n",
      "10  28                Rössle Sauerkraut  12  7       25 - 825 g cans   45.60\n",
      "11  29          Thüringer Rostbratwurst  12  6  50 bags x 30 sausgs.  123.79\n",
      "12  32               Mascarpone Fabioli  14  4      24 - 200 g pkgs.   32.00\n",
      "13  38                    Côte de Blaye  18  1    12 - 75 cl bottles  263.50\n",
      "14  43                      Ipoh Coffee  20  1       16 - 500 g tins   46.00\n",
      "15  51            Manjimup Dried Apples  24  7      50 - 300 g pkgs.   53.00\n",
      "16  53                    Perth Pasties  24  6             48 pieces   32.80\n",
      "17  56           Gnocchi di nonna Alice  26  5      24 - 250 g pkgs.   38.00\n",
      "18  59             Raclette Courdavault  28  4             5 kg pkg.   55.00\n",
      "19  60                Camembert Pierrot  28  4     15 - 300 g rounds   34.00\n",
      "20  62                   Tarte au sucre  29  3               48 pies   49.30\n",
      "21  63                     Vegie-spread   7  2       15 - 625 g jars   43.90\n",
      "22  64        Wimmers gute Semmelknödel  12  5    20 bags x 4 pieces   33.25\n",
      "23  69                 Gudbrandsdalsost  15  4            10 kg pkg.   36.00\n",
      "24  72           Mozzarella di Giovanni  14  4      24 - 200 g pkgs.   34.80\n"
     ]
    }
   ],
   "source": [
    "query = \"\"\"\n",
    "SELECT * FROM Products\n",
    "WHERE price > (SELECT AVG(price) FROM Products);\n",
    "\"\"\"\n",
    "print_query_result(query)"
   ]
  },
  {
   "cell_type": "markdown",
   "id": "512f5c40",
   "metadata": {},
   "source": [
    "# Use AVG() with GROUP BY"
   ]
  },
  {
   "cell_type": "code",
   "execution_count": 221,
   "id": "80a59ddc",
   "metadata": {},
   "outputs": [
    {
     "name": "stdout",
     "output_type": "stream",
     "text": [
      "           0  1\n",
      "0  37.979167  1\n",
      "1  23.062500  2\n",
      "2  25.160000  3\n",
      "3  28.730000  4\n",
      "4  20.250000  5\n",
      "5  54.006667  6\n",
      "6  32.370000  7\n",
      "7  20.682500  8\n"
     ]
    }
   ],
   "source": [
    "query = \"\"\"\n",
    "SELECT AVG(Price) AS AveragePrice, CategoryID\n",
    "FROM Products\n",
    "GROUP BY CategoryID;\n",
    "\"\"\"\n",
    "print_query_result(query)"
   ]
  },
  {
   "cell_type": "markdown",
   "id": "ed51388a",
   "metadata": {},
   "source": [
    "# SQL LIKE Operator"
   ]
  },
  {
   "cell_type": "code",
   "execution_count": 222,
   "id": "91b6f840",
   "metadata": {},
   "outputs": [
    {
     "name": "stdout",
     "output_type": "stream",
     "text": [
      "   0                                   1               2  \\\n",
      "0  1                 Alfreds Futterkiste    Maria Anders   \n",
      "1  2  Ana Trujillo Emparedados y helados    Ana Trujillo   \n",
      "2  3             Antonio Moreno Taquería  Antonio Moreno   \n",
      "3  4                     Around the Horn    Thomas Hardy   \n",
      "\n",
      "                               3            4        5        6  \n",
      "0                  Obere Str. 57       Berlin    12209  Germany  \n",
      "1  Avda. de la Constitución 2222  México D.F.    05021   Mexico  \n",
      "2                 Mataderos 2312  México D.F.    05023   Mexico  \n",
      "3                120 Hanover Sq.       London  WA1 1DP       UK  \n"
     ]
    }
   ],
   "source": [
    "query = \"\"\"\n",
    "SELECT * FROM Customers\n",
    "WHERE CustomerName LIKE 'a%';\n",
    "\"\"\"\n",
    "print_query_result(query)"
   ]
  },
  {
   "cell_type": "markdown",
   "id": "b1d7c6bd",
   "metadata": {},
   "source": [
    "## The _ Wildcard"
   ]
  },
  {
   "cell_type": "code",
   "execution_count": 223,
   "id": "e5554d5e",
   "metadata": {},
   "outputs": [
    {
     "name": "stdout",
     "output_type": "stream",
     "text": [
      "    0                      1                   2  \\\n",
      "0   4        Around the Horn        Thomas Hardy   \n",
      "1  11          B's Beverages   Victoria Ashworth   \n",
      "2  16  Consolidated Holdings     Elizabeth Brown   \n",
      "3  19     Eastern Connection           Ann Devon   \n",
      "4  53            North/South      Simon Crowther   \n",
      "5  72     Seven Seas Imports          Hari Kumar   \n",
      "6  75  Split Rail Beer & Ale  Art Braunschweiger   \n",
      "\n",
      "                              3       4         5    6  \n",
      "0               120 Hanover Sq.  London   WA1 1DP   UK  \n",
      "1             Fauntleroy Circus  London   EC2 5NT   UK  \n",
      "2  Berkeley Gardens 12 Brewery   London   WX1 6LT   UK  \n",
      "3                35 King George  London   WX3 6FW   UK  \n",
      "4  South House 300 Queensbridge  London   SW7 1RZ   UK  \n",
      "5               90 Wadhurst Rd.  London  OX15 4NB   UK  \n",
      "6                  P.O. Box 555  Lander     82520  USA  \n"
     ]
    }
   ],
   "source": [
    "query = \"\"\"\n",
    "SELECT * FROM Customers\n",
    "WHERE city LIKE 'L_nd__';\n",
    "\"\"\"\n",
    "print_query_result(query)"
   ]
  },
  {
   "cell_type": "markdown",
   "id": "5ea62d45",
   "metadata": {},
   "source": [
    "# The % Wildcard"
   ]
  },
  {
   "cell_type": "code",
   "execution_count": 224,
   "id": "487c9a58",
   "metadata": {},
   "outputs": [
    {
     "name": "stdout",
     "output_type": "stream",
     "text": [
      "     0                                  1                    2  \\\n",
      "0    1                Alfreds Futterkiste         Maria Anders   \n",
      "1    4                    Around the Horn         Thomas Hardy   \n",
      "2    5                 Berglunds snabbköp   Christina Berglund   \n",
      "3    9                           Bon app'    Laurence Lebihans   \n",
      "4   11                      B's Beverages    Victoria Ashworth   \n",
      "5   15                   Comércio Mineiro         Pedro Afonso   \n",
      "6   16              Consolidated Holdings      Elizabeth Brown   \n",
      "7   19                 Eastern Connection            Ann Devon   \n",
      "8   21                 Familia Arquibaldo            Aria Cruz   \n",
      "9   23                  Folies gourmandes        Martine Rancé   \n",
      "10  28     Furia Bacalhau e Frutos do Mar      Lino Rodriguez    \n",
      "11  29             Galería del gastrónomo     Eduardo Saavedra   \n",
      "12  30                Godos Cocina Típica    José Pedro Freyre   \n",
      "13  35                   HILARIÓN-Abastos     Carlos Hernández   \n",
      "14  36         Hungry Coyote Import Store        Yoshi Latimer   \n",
      "15  40               La corne d'abondance        Daniel Tonini   \n",
      "16  41                   La maison d'Asie       Annette Roulet   \n",
      "17  43               Lazy K Kountry Store           John Steel   \n",
      "18  48           Lonesome Pine Restaurant          Fran Wilson   \n",
      "19  50                       Maison Dewey      Catherine Dewey   \n",
      "20  51                     Mère Paillarde       Jean Fresnière   \n",
      "21  52             Morgenstern Gesundkost      Alexander Feuer   \n",
      "22  53                        North/South       Simon Crowther   \n",
      "23  56                 Ottilies Käseladen  Henriette Pfalzheim   \n",
      "24  59                   Piccolo und mehr          Georg Pipps   \n",
      "25  60            Princesa Isabel Vinhoss     Isabel de Castro   \n",
      "26  62                      Queen Cozinha       Lúcia Carvalho   \n",
      "27  63                         QUICK-Stop          Horst Kloss   \n",
      "28  65         Rattlesnake Canyon Grocery         Paula Wilson   \n",
      "29  66                 Reggiani Caseifici      Maurizio Moroni   \n",
      "30  72                 Seven Seas Imports           Hari Kumar   \n",
      "31  75              Split Rail Beer & Ale   Art Braunschweiger   \n",
      "32  76                   Suprêmes délices     Pascale Cartrain   \n",
      "33  77                     The Big Cheese            Liz Nixon   \n",
      "34  81             Tradição Hipermercados    Anabela Domingues   \n",
      "35  82  Trail's Head Gourmet Provisioners       Helvetius Nagy   \n",
      "36  84               Victuailles en stock         Mary Saveley   \n",
      "37  87                     Wartian Herkku     Pirkko Koskitalo   \n",
      "38  89               White Clover Markets       Karl Jablonski   \n",
      "39  90                        Wilman Kala      Matti Karttunen   \n",
      "40  91                             Wolski              Zbyszek   \n",
      "\n",
      "                                             3              4          5  \\\n",
      "0                                Obere Str. 57         Berlin      12209   \n",
      "1                              120 Hanover Sq.         London    WA1 1DP   \n",
      "2                               Berguvsvägen 8          Luleå   S-958 22   \n",
      "3                         12, rue des Bouchers      Marseille      13008   \n",
      "4                            Fauntleroy Circus         London    EC2 5NT   \n",
      "5                         Av. dos Lusíadas, 23      São Paulo  05432-043   \n",
      "6                 Berkeley Gardens 12 Brewery          London    WX1 6LT   \n",
      "7                               35 King George         London    WX3 6FW   \n",
      "8                                 Rua Orós, 92      São Paulo  05442-030   \n",
      "9                     184, chaussée de Tournai          Lille      59000   \n",
      "10                      Jardim das rosas n. 32         Lisboa       1675   \n",
      "11                      Rambla de Cataluña, 23      Barcelona      08022   \n",
      "12                               C/ Romero, 33        Sevilla      41101   \n",
      "13  Carrera 22 con Ave. Carlos Soublette #8-35  San Cristóbal       5022   \n",
      "14              City Center Plaza 516 Main St.          Elgin      97827   \n",
      "15                      67, avenue de l'Europe     Versailles      78000   \n",
      "16                       1 rue Alsace-Lorraine       Toulouse      31000   \n",
      "17                        12 Orchestra Terrace    Walla Walla      99362   \n",
      "18                          89 Chiaroscuro Rd.       Portland      97219   \n",
      "19                         Rue Joseph-Bens 532      Bruxelles     B-1180   \n",
      "20                          43 rue St. Laurent       Montréal    H1J 1C3   \n",
      "21                                 Heerstr. 22        Leipzig      04179   \n",
      "22                South House 300 Queensbridge         London    SW7 1RZ   \n",
      "23                          Mehrheimerstr. 369           Köln      50739   \n",
      "24                                 Geislweg 14       Salzburg       5020   \n",
      "25                      Estrada da saúde n. 58         Lisboa       1756   \n",
      "26                   Alameda dos Canàrios, 891      São Paulo  05487-020   \n",
      "27                            Taucherstraße 10      Cunewalde      01307   \n",
      "28                             2817 Milton Dr.    Albuquerque      87110   \n",
      "29                      Strada Provinciale 124  Reggio Emilia      42100   \n",
      "30                             90 Wadhurst Rd.         London   OX15 4NB   \n",
      "31                                P.O. Box 555         Lander      82520   \n",
      "32                        Boulevard Tirou, 255      Charleroi     B-6000   \n",
      "33                    89 Jefferson Way Suite 2       Portland      97201   \n",
      "34                     Av. Inês de Castro, 414      São Paulo  05634-030   \n",
      "35                           722 DaVinci Blvd.       Kirkland      98034   \n",
      "36                          2, rue du Commerce           Lyon      69004   \n",
      "37                                 Torikatu 38           Oulu      90110   \n",
      "38                 305 - 14th Ave. S. Suite 3B        Seattle      98128   \n",
      "39                               Keskuskatu 45       Helsinki      21240   \n",
      "40                             ul. Filtrowa 68          Walla     01-012   \n",
      "\n",
      "            6  \n",
      "0     Germany  \n",
      "1          UK  \n",
      "2      Sweden  \n",
      "3      France  \n",
      "4          UK  \n",
      "5      Brazil  \n",
      "6          UK  \n",
      "7          UK  \n",
      "8      Brazil  \n",
      "9      France  \n",
      "10   Portugal  \n",
      "11      Spain  \n",
      "12      Spain  \n",
      "13  Venezuela  \n",
      "14        USA  \n",
      "15     France  \n",
      "16     France  \n",
      "17        USA  \n",
      "18        USA  \n",
      "19    Belgium  \n",
      "20     Canada  \n",
      "21    Germany  \n",
      "22         UK  \n",
      "23    Germany  \n",
      "24    Austria  \n",
      "25   Portugal  \n",
      "26     Brazil  \n",
      "27    Germany  \n",
      "28        USA  \n",
      "29      Italy  \n",
      "30         UK  \n",
      "31        USA  \n",
      "32    Belgium  \n",
      "33        USA  \n",
      "34     Brazil  \n",
      "35        USA  \n",
      "36     France  \n",
      "37    Finland  \n",
      "38        USA  \n",
      "39    Finland  \n",
      "40       None  \n"
     ]
    }
   ],
   "source": [
    "query = \"\"\"\n",
    "SELECT * FROM Customers\n",
    "WHERE city LIKE '%L%';\n",
    "\"\"\"\n",
    "print_query_result(query)"
   ]
  },
  {
   "cell_type": "markdown",
   "id": "98094369",
   "metadata": {},
   "source": [
    "# Starts With"
   ]
  },
  {
   "cell_type": "code",
   "execution_count": 225,
   "id": "0a538dea",
   "metadata": {},
   "outputs": [
    {
     "name": "stdout",
     "output_type": "stream",
     "text": [
      "    0                              1                2                       3  \\\n",
      "0  40           La corne d'abondance    Daniel Tonini  67, avenue de l'Europe   \n",
      "1  41               La maison d'Asie   Annette Roulet   1 rue Alsace-Lorraine   \n",
      "2  42  Laughing Bacchus Wine Cellars  Yoshi Tannamuri            1900 Oak St.   \n",
      "3  43           Lazy K Kountry Store       John Steel    12 Orchestra Terrace   \n",
      "\n",
      "             4        5       6  \n",
      "0   Versailles    78000  France  \n",
      "1     Toulouse    31000  France  \n",
      "2    Vancouver  V3F 2K1  Canada  \n",
      "3  Walla Walla    99362     USA  \n"
     ]
    }
   ],
   "source": [
    "query = \"\"\"\n",
    "SELECT * FROM Customers\n",
    "WHERE CustomerName LIKE 'La%';\n",
    "\"\"\"\n",
    "print_query_result(query)"
   ]
  },
  {
   "cell_type": "code",
   "execution_count": 226,
   "id": "b1ee11d3",
   "metadata": {},
   "outputs": [
    {
     "name": "stdout",
     "output_type": "stream",
     "text": [
      "     0                                   1                   2  \\\n",
      "0    1                 Alfreds Futterkiste        Maria Anders   \n",
      "1    2  Ana Trujillo Emparedados y helados        Ana Trujillo   \n",
      "2    3             Antonio Moreno Taquería      Antonio Moreno   \n",
      "3    4                     Around the Horn        Thomas Hardy   \n",
      "4    5                  Berglunds snabbköp  Christina Berglund   \n",
      "5    6             Blauer See Delikatessen          Hanna Moos   \n",
      "6    7                Blondel père et fils  Frédérique Citeaux   \n",
      "7    8           Bólido Comidas preparadas       Martín Sommer   \n",
      "8    9                            Bon app'   Laurence Lebihans   \n",
      "9   10              Bottom-Dollar Marketse   Elizabeth Lincoln   \n",
      "10  11                       B's Beverages   Victoria Ashworth   \n",
      "\n",
      "                                3            4         5        6  \n",
      "0                   Obere Str. 57       Berlin     12209  Germany  \n",
      "1   Avda. de la Constitución 2222  México D.F.     05021   Mexico  \n",
      "2                  Mataderos 2312  México D.F.     05023   Mexico  \n",
      "3                 120 Hanover Sq.       London   WA1 1DP       UK  \n",
      "4                  Berguvsvägen 8        Luleå  S-958 22   Sweden  \n",
      "5                  Forsterstr. 57     Mannheim     68306  Germany  \n",
      "6                24, place Kléber   Strasbourg     67000   France  \n",
      "7                  C/ Araquil, 67       Madrid     28023    Spain  \n",
      "8            12, rue des Bouchers    Marseille     13008   France  \n",
      "9              23 Tsawassen Blvd.    Tsawassen   T2F 8M4   Canada  \n",
      "10              Fauntleroy Circus       London   EC2 5NT       UK  \n"
     ]
    }
   ],
   "source": [
    "query = \"\"\"\n",
    "SELECT * FROM Customers\n",
    "WHERE CustomerName LIKE 'a%' OR CustomerName LIKE 'b%';\n",
    "\"\"\"\n",
    "print_query_result(query)"
   ]
  },
  {
   "cell_type": "markdown",
   "id": "f98becce",
   "metadata": {},
   "source": [
    "# Ends With"
   ]
  },
  {
   "cell_type": "code",
   "execution_count": 227,
   "id": "cee29d0a",
   "metadata": {},
   "outputs": [
    {
     "name": "stdout",
     "output_type": "stream",
     "text": [
      "    0                           1                  2  \\\n",
      "0   3     Antonio Moreno Taquería     Antonio Moreno   \n",
      "1  13  Centro comercial Moctezuma    Francisco Chang   \n",
      "2  30         Godos Cocina Típica  José Pedro Freyre   \n",
      "3  61                 Que Delícia   Bernardo Batista   \n",
      "4  62               Queen Cozinha     Lúcia Carvalho   \n",
      "5  88      Wellington Importadora      Paula Parente   \n",
      "6  90                 Wilman Kala    Matti Karttunen   \n",
      "\n",
      "                           3               4          5        6  \n",
      "0             Mataderos 2312     México D.F.      05023   Mexico  \n",
      "1    Sierras de Granada 9993     México D.F.      05022   Mexico  \n",
      "2              C/ Romero, 33         Sevilla      41101    Spain  \n",
      "3    Rua da Panificadora, 12  Rio de Janeiro  02389-673   Brazil  \n",
      "4  Alameda dos Canàrios, 891       São Paulo  05487-020   Brazil  \n",
      "5         Rua do Mercado, 12         Resende  08737-363   Brazil  \n",
      "6              Keskuskatu 45        Helsinki      21240  Finland  \n"
     ]
    }
   ],
   "source": [
    "query = \"\"\"\n",
    "SELECT * FROM Customers\n",
    "WHERE CustomerName LIKE '%a';\n",
    "\"\"\"\n",
    "print_query_result(query)"
   ]
  },
  {
   "cell_type": "code",
   "execution_count": 228,
   "id": "cb970871",
   "metadata": {},
   "outputs": [
    {
     "name": "stdout",
     "output_type": "stream",
     "text": [
      "    0                          1                   2                  3  \\\n",
      "0   7       Blondel père et fils  Frédérique Citeaux   24, place Kléber   \n",
      "1   8  Bólido Comidas preparadas       Martín Sommer     C/ Araquil, 67   \n",
      "2  11              B's Beverages   Victoria Ashworth  Fauntleroy Circus   \n",
      "\n",
      "            4        5       6  \n",
      "0  Strasbourg    67000  France  \n",
      "1      Madrid    28023   Spain  \n",
      "2      London  EC2 5NT      UK  \n"
     ]
    }
   ],
   "source": [
    "query = \"\"\"\n",
    "SELECT * FROM Customers\n",
    "WHERE CustomerName LIKE 'b%s';\n",
    "\"\"\"\n",
    "print_query_result(query)"
   ]
  },
  {
   "cell_type": "markdown",
   "id": "aa732f58",
   "metadata": {},
   "source": [
    "## Contains"
   ]
  },
  {
   "cell_type": "code",
   "execution_count": 229,
   "id": "13611f84",
   "metadata": {},
   "outputs": [
    {
     "name": "stdout",
     "output_type": "stream",
     "text": [
      "     0                           1                     2  \\\n",
      "0    3     Antonio Moreno Taquería        Antonio Moreno   \n",
      "1    4             Around the Horn          Thomas Hardy   \n",
      "2   36  Hungry Coyote Import Store         Yoshi Latimer   \n",
      "3   40        La corne d'abondance         Daniel Tonini   \n",
      "4   43        Lazy K Kountry Store            John Steel   \n",
      "5   52      Morgenstern Gesundkost       Alexander Feuer   \n",
      "6   53                 North/South        Simon Crowther   \n",
      "7   55      Old World Delicatessen         Rene Phillips   \n",
      "8   72          Seven Seas Imports            Hari Kumar   \n",
      "9   80         Tortuga Restaurante  Miguel Angel Paolino   \n",
      "10  88      Wellington Importadora         Paula Parente   \n",
      "\n",
      "                                 3            4          5        6  \n",
      "0                   Mataderos 2312  México D.F.      05023   Mexico  \n",
      "1                  120 Hanover Sq.       London    WA1 1DP       UK  \n",
      "2   City Center Plaza 516 Main St.        Elgin      97827      USA  \n",
      "3           67, avenue de l'Europe   Versailles      78000   France  \n",
      "4             12 Orchestra Terrace  Walla Walla      99362      USA  \n",
      "5                      Heerstr. 22      Leipzig      04179  Germany  \n",
      "6     South House 300 Queensbridge       London    SW7 1RZ       UK  \n",
      "7                  2743 Bering St.    Anchorage      99508      USA  \n",
      "8                  90 Wadhurst Rd.       London   OX15 4NB       UK  \n",
      "9                 Avda. Azteca 123  México D.F.      05033   Mexico  \n",
      "10              Rua do Mercado, 12      Resende  08737-363   Brazil  \n"
     ]
    }
   ],
   "source": [
    "query = \"\"\"\n",
    "SELECT * FROM Customers\n",
    "WHERE CustomerName LIKE '%or%';\n",
    "\"\"\"\n",
    "print_query_result(query)"
   ]
  },
  {
   "cell_type": "markdown",
   "id": "2589d210",
   "metadata": {},
   "source": [
    "## Combine Wildcards"
   ]
  },
  {
   "cell_type": "code",
   "execution_count": 230,
   "id": "e5b21178",
   "metadata": {},
   "outputs": [
    {
     "name": "stdout",
     "output_type": "stream",
     "text": [
      "   0                                   1               2  \\\n",
      "0  1                 Alfreds Futterkiste    Maria Anders   \n",
      "1  2  Ana Trujillo Emparedados y helados    Ana Trujillo   \n",
      "2  3             Antonio Moreno Taquería  Antonio Moreno   \n",
      "3  4                     Around the Horn    Thomas Hardy   \n",
      "\n",
      "                               3            4        5        6  \n",
      "0                  Obere Str. 57       Berlin    12209  Germany  \n",
      "1  Avda. de la Constitución 2222  México D.F.    05021   Mexico  \n",
      "2                 Mataderos 2312  México D.F.    05023   Mexico  \n",
      "3                120 Hanover Sq.       London  WA1 1DP       UK  \n"
     ]
    }
   ],
   "source": [
    "query = \"\"\"\n",
    "SELECT * FROM Customers\n",
    "WHERE CustomerName LIKE 'a__%';\n",
    "\"\"\"\n",
    "print_query_result(query)"
   ]
  },
  {
   "cell_type": "code",
   "execution_count": 231,
   "id": "0ddf75bf",
   "metadata": {},
   "outputs": [
    {
     "name": "stdout",
     "output_type": "stream",
     "text": [
      "     0                                  1                  2  \\\n",
      "0    4                    Around the Horn       Thomas Hardy   \n",
      "1   17          Drachenblut Delikatessend       Sven Ottlieb   \n",
      "2   20                       Ernst Handel      Roland Mendel   \n",
      "3   25                     Frankenversand      Peter Franken   \n",
      "4   26                France restauration     Carine Schmitt   \n",
      "5   27                     Franchi S.p.A.      Paolo Accorti   \n",
      "6   32            Great Lakes Food Market      Howard Snyder   \n",
      "7   33               GROSELLA-Restaurante     Manuel Pereira   \n",
      "8   60            Princesa Isabel Vinhoss   Isabel de Castro   \n",
      "9   81             Tradição Hipermercados  Anabela Domingues   \n",
      "10  82  Trail's Head Gourmet Provisioners     Helvetius Nagy   \n",
      "\n",
      "                            3          4          5          6  \n",
      "0             120 Hanover Sq.     London    WA1 1DP         UK  \n",
      "1                Walserweg 21     Aachen      52066    Germany  \n",
      "2                Kirchgasse 6       Graz       8010    Austria  \n",
      "3           Berliner Platz 43    München      80805    Germany  \n",
      "4              54, rue Royale     Nantes      44000     France  \n",
      "5         Via Monte Bianco 34     Torino      10100      Italy  \n",
      "6            2732 Baker Blvd.     Eugene      97403        USA  \n",
      "7   5ª Ave. Los Palos Grandes    Caracas       1081  Venezuela  \n",
      "8      Estrada da saúde n. 58     Lisboa       1756   Portugal  \n",
      "9     Av. Inês de Castro, 414  São Paulo  05634-030     Brazil  \n",
      "10          722 DaVinci Blvd.   Kirkland      98034        USA  \n"
     ]
    }
   ],
   "source": [
    "query = \"\"\"\n",
    "SELECT * FROM Customers\n",
    "WHERE CustomerName LIKE '_r%';\n",
    "\"\"\"\n",
    "print_query_result(query)"
   ]
  },
  {
   "cell_type": "markdown",
   "id": "8d8407d2",
   "metadata": {},
   "source": [
    "## Without Wildcard"
   ]
  },
  {
   "cell_type": "code",
   "execution_count": 232,
   "id": "cdfaa2d1",
   "metadata": {},
   "outputs": [
    {
     "name": "stdout",
     "output_type": "stream",
     "text": [
      "    0                                     1                  2  \\\n",
      "0   8             Bólido Comidas preparadas      Martín Sommer   \n",
      "1  22  FISSA Fabrica Inter. Salchichas S.A.         Diego Roel   \n",
      "2  29                Galería del gastrónomo   Eduardo Saavedra   \n",
      "3  30                   Godos Cocina Típica  José Pedro Freyre   \n",
      "4  69                      Romero y tomillo   Alejandra Camino   \n",
      "\n",
      "                        3          4      5      6  \n",
      "0          C/ Araquil, 67     Madrid  28023  Spain  \n",
      "1      C/ Moralzarzal, 86     Madrid  28034  Spain  \n",
      "2  Rambla de Cataluña, 23  Barcelona  08022  Spain  \n",
      "3           C/ Romero, 33    Sevilla  41101  Spain  \n",
      "4             Gran Vía, 1     Madrid  28001  Spain  \n"
     ]
    }
   ],
   "source": [
    "query = \"\"\"\n",
    "SELECT * FROM Customers\n",
    "WHERE Country LIKE 'Spain';\n",
    "\"\"\"\n",
    "print_query_result(query)"
   ]
  },
  {
   "cell_type": "markdown",
   "id": "280eee2c",
   "metadata": {},
   "source": [
    "## SQL Wildcard Characters\n"
   ]
  },
  {
   "cell_type": "code",
   "execution_count": 233,
   "id": "040ae586",
   "metadata": {},
   "outputs": [
    {
     "name": "stdout",
     "output_type": "stream",
     "text": [
      "   0                                   1               2  \\\n",
      "0  1                 Alfreds Futterkiste    Maria Anders   \n",
      "1  2  Ana Trujillo Emparedados y helados    Ana Trujillo   \n",
      "2  3             Antonio Moreno Taquería  Antonio Moreno   \n",
      "3  4                     Around the Horn    Thomas Hardy   \n",
      "\n",
      "                               3            4        5        6  \n",
      "0                  Obere Str. 57       Berlin    12209  Germany  \n",
      "1  Avda. de la Constitución 2222  México D.F.    05021   Mexico  \n",
      "2                 Mataderos 2312  México D.F.    05023   Mexico  \n",
      "3                120 Hanover Sq.       London  WA1 1DP       UK  \n"
     ]
    }
   ],
   "source": [
    "query = \"\"\"\n",
    "SELECT * FROM Customers\n",
    "WHERE CustomerName LIKE 'a%';\n",
    "\"\"\"\n",
    "print_query_result(query)"
   ]
  },
  {
   "cell_type": "markdown",
   "id": "ec5af6e3",
   "metadata": {},
   "source": [
    "# Using the % Wildcard"
   ]
  },
  {
   "cell_type": "code",
   "execution_count": 234,
   "id": "a7f69007",
   "metadata": {},
   "outputs": [
    {
     "name": "stdout",
     "output_type": "stream",
     "text": [
      "    0                    1                  2                         3  \\\n",
      "0  11        B's Beverages  Victoria Ashworth         Fauntleroy Circus   \n",
      "1  23    Folies gourmandes      Martine Rancé  184, chaussée de Tournai   \n",
      "2  31  Gourmet Lanchonetes      André Fonseca           Av. Brasil, 442   \n",
      "3  34        Hanari Carnes       Mario Pontes           Rua do Paço, 67   \n",
      "4  47     LINO-Delicateses   Felipe Izquierdo   Ave. 5 de Mayo Porlamar   \n",
      "5  76     Suprêmes délices   Pascale Cartrain      Boulevard Tirou, 255   \n",
      "\n",
      "                 4          5          6  \n",
      "0           London    EC2 5NT         UK  \n",
      "1            Lille      59000     France  \n",
      "2         Campinas  04876-786     Brazil  \n",
      "3   Rio de Janeiro  05454-876     Brazil  \n",
      "4  I. de Margarita       4980  Venezuela  \n",
      "5        Charleroi     B-6000    Belgium  \n"
     ]
    }
   ],
   "source": [
    "query = \"\"\"\n",
    "SELECT * FROM Customers\n",
    "WHERE CustomerName LIKE '%es';\n",
    "\"\"\"\n",
    "print_query_result(query)"
   ]
  },
  {
   "cell_type": "code",
   "execution_count": 235,
   "id": "5c00c432",
   "metadata": {},
   "outputs": [
    {
     "name": "stdout",
     "output_type": "stream",
     "text": [
      "    0                           1                  2  \\\n",
      "0  13  Centro comercial Moctezuma    Francisco Chang   \n",
      "1  46           LILA-Supermercado    Carlos González   \n",
      "2  69            Romero y tomillo   Alejandra Camino   \n",
      "3  81      Tradição Hipermercados  Anabela Domingues   \n",
      "\n",
      "                                                3             4          5  \\\n",
      "0                         Sierras de Granada 9993   México D.F.      05022   \n",
      "1  Carrera 52 con Ave. Bolívar #65-98 Llano Largo  Barquisimeto       3508   \n",
      "2                                     Gran Vía, 1        Madrid      28001   \n",
      "3                         Av. Inês de Castro, 414     São Paulo  05634-030   \n",
      "\n",
      "           6  \n",
      "0     Mexico  \n",
      "1  Venezuela  \n",
      "2      Spain  \n",
      "3     Brazil  \n"
     ]
    }
   ],
   "source": [
    "query = \"\"\"\n",
    "SELECT * FROM Customers\n",
    "WHERE CustomerName LIKE '%mer%';\n",
    "\"\"\"\n",
    "print_query_result(query)"
   ]
  },
  {
   "cell_type": "markdown",
   "id": "d9179b04",
   "metadata": {},
   "source": [
    "# Using the _ Wildcard"
   ]
  },
  {
   "cell_type": "code",
   "execution_count": 236,
   "id": "c78900b2",
   "metadata": {},
   "outputs": [
    {
     "name": "stdout",
     "output_type": "stream",
     "text": [
      "    0                      1                  2                             3  \\\n",
      "0   4        Around the Horn       Thomas Hardy               120 Hanover Sq.   \n",
      "1  11          B's Beverages  Victoria Ashworth             Fauntleroy Circus   \n",
      "2  16  Consolidated Holdings    Elizabeth Brown  Berkeley Gardens 12 Brewery    \n",
      "3  19     Eastern Connection          Ann Devon                35 King George   \n",
      "4  53            North/South     Simon Crowther  South House 300 Queensbridge   \n",
      "5  72     Seven Seas Imports         Hari Kumar               90 Wadhurst Rd.   \n",
      "\n",
      "        4         5   6  \n",
      "0  London   WA1 1DP  UK  \n",
      "1  London   EC2 5NT  UK  \n",
      "2  London   WX1 6LT  UK  \n",
      "3  London   WX3 6FW  UK  \n",
      "4  London   SW7 1RZ  UK  \n",
      "5  London  OX15 4NB  UK  \n"
     ]
    }
   ],
   "source": [
    "query = \"\"\"\n",
    "SELECT * FROM Customers\n",
    "WHERE City LIKE '_ondon';\n",
    "\"\"\"\n",
    "print_query_result(query)"
   ]
  },
  {
   "cell_type": "code",
   "execution_count": 237,
   "id": "bc9d5edb",
   "metadata": {},
   "outputs": [
    {
     "name": "stdout",
     "output_type": "stream",
     "text": [
      "    0                      1                  2                             3  \\\n",
      "0   4        Around the Horn       Thomas Hardy               120 Hanover Sq.   \n",
      "1  11          B's Beverages  Victoria Ashworth             Fauntleroy Circus   \n",
      "2  16  Consolidated Holdings    Elizabeth Brown  Berkeley Gardens 12 Brewery    \n",
      "3  19     Eastern Connection          Ann Devon                35 King George   \n",
      "4  53            North/South     Simon Crowther  South House 300 Queensbridge   \n",
      "5  72     Seven Seas Imports         Hari Kumar               90 Wadhurst Rd.   \n",
      "\n",
      "        4         5   6  \n",
      "0  London   WA1 1DP  UK  \n",
      "1  London   EC2 5NT  UK  \n",
      "2  London   WX1 6LT  UK  \n",
      "3  London   WX3 6FW  UK  \n",
      "4  London   SW7 1RZ  UK  \n",
      "5  London  OX15 4NB  UK  \n"
     ]
    }
   ],
   "source": [
    "query = \"\"\"\n",
    "SELECT * FROM Customers\n",
    "WHERE City LIKE 'L___on';\n",
    "\"\"\"\n",
    "print_query_result(query)"
   ]
  },
  {
   "cell_type": "markdown",
   "id": "62cc9a11",
   "metadata": {},
   "source": [
    "## Using the [] Wildcard"
   ]
  },
  {
   "cell_type": "code",
   "execution_count": 238,
   "id": "d34ba0cb",
   "metadata": {},
   "outputs": [
    {
     "name": "stdout",
     "output_type": "stream",
     "text": [
      "     0                          1                    2  \\\n",
      "0    5         Berglunds snabbköp   Christina Berglund   \n",
      "1    6    Blauer See Delikatessen           Hanna Moos   \n",
      "2    7       Blondel père et fils   Frédérique Citeaux   \n",
      "3    8  Bólido Comidas preparadas        Martín Sommer   \n",
      "4    9                   Bon app'    Laurence Lebihans   \n",
      "5   10     Bottom-Dollar Marketse    Elizabeth Lincoln   \n",
      "6   11              B's Beverages    Victoria Ashworth   \n",
      "7   57          Paris spécialités       Marie Bertrand   \n",
      "8   58  Pericles Comidas clásicas  Guillermo Fernández   \n",
      "9   59           Piccolo und mehr          Georg Pipps   \n",
      "10  60    Princesa Isabel Vinhoss     Isabel de Castro   \n",
      "11  70              Santé Gourmet     Jonas Bergulfsen   \n",
      "12  71         Save-a-lot Markets       Jose Pavarotti   \n",
      "13  72         Seven Seas Imports           Hari Kumar   \n",
      "14  73              Simons bistro       Jytte Petersen   \n",
      "15  74       Spécialités du monde    Dominique Perrier   \n",
      "16  75      Split Rail Beer & Ale   Art Braunschweiger   \n",
      "17  76           Suprêmes délices     Pascale Cartrain   \n",
      "\n",
      "                           3            4         5         6  \n",
      "0             Berguvsvägen 8        Luleå  S-958 22    Sweden  \n",
      "1             Forsterstr. 57     Mannheim     68306   Germany  \n",
      "2           24, place Kléber   Strasbourg     67000    France  \n",
      "3             C/ Araquil, 67       Madrid     28023     Spain  \n",
      "4       12, rue des Bouchers    Marseille     13008    France  \n",
      "5         23 Tsawassen Blvd.    Tsawassen   T2F 8M4    Canada  \n",
      "6          Fauntleroy Circus       London   EC2 5NT        UK  \n",
      "7    265, boulevard Charonne        Paris     75012    France  \n",
      "8   Calle Dr. Jorge Cash 321  México D.F.     05033    Mexico  \n",
      "9                Geislweg 14     Salzburg      5020   Austria  \n",
      "10    Estrada da saúde n. 58       Lisboa      1756  Portugal  \n",
      "11    Erling Skakkes gate 78      Stavern      4110    Norway  \n",
      "12           187 Suffolk Ln.        Boise     83720       USA  \n",
      "13           90 Wadhurst Rd.       London  OX15 4NB        UK  \n",
      "14              Vinbæltet 34    København      1734   Denmark  \n",
      "15         25, rue Lauriston        Paris     75016    France  \n",
      "16              P.O. Box 555       Lander     82520       USA  \n",
      "17      Boulevard Tirou, 255    Charleroi    B-6000   Belgium  \n"
     ]
    }
   ],
   "source": [
    "query = \"\"\"\n",
    "SELECT * FROM Customers\n",
    "WHERE CustomerName LIKE '[bsp]%';\n",
    "\"\"\"\n",
    "# sqlite는 [] 지원 안함 !\n",
    "# 아래와 같이 변경\n",
    "query = \"\"\"\n",
    "SELECT * FROM Customers\n",
    "WHERE CustomerName LIKE 'b%'\n",
    "OR CustomerName LIKE 's%'\n",
    "OR CustomerName LIKE 'p%';\n",
    "\"\"\"\n",
    "print_query_result(query)"
   ]
  },
  {
   "cell_type": "markdown",
   "id": "5b93f780",
   "metadata": {},
   "source": [
    "## Using the - Wildcard"
   ]
  },
  {
   "cell_type": "code",
   "execution_count": 239,
   "id": "a5edffdb",
   "metadata": {},
   "outputs": [
    {
     "name": "stdout",
     "output_type": "stream",
     "text": [
      "     0                                     1                   2  \\\n",
      "0    1                   Alfreds Futterkiste        Maria Anders   \n",
      "1    2    Ana Trujillo Emparedados y helados        Ana Trujillo   \n",
      "2    3               Antonio Moreno Taquería      Antonio Moreno   \n",
      "3    4                       Around the Horn        Thomas Hardy   \n",
      "4    5                    Berglunds snabbköp  Christina Berglund   \n",
      "5    6               Blauer See Delikatessen          Hanna Moos   \n",
      "6    7                  Blondel père et fils  Frédérique Citeaux   \n",
      "7    8             Bólido Comidas preparadas       Martín Sommer   \n",
      "8    9                              Bon app'   Laurence Lebihans   \n",
      "9   10                Bottom-Dollar Marketse   Elizabeth Lincoln   \n",
      "10  11                         B's Beverages   Victoria Ashworth   \n",
      "11  12            Cactus Comidas para llevar    Patricio Simpson   \n",
      "12  13            Centro comercial Moctezuma     Francisco Chang   \n",
      "13  14                     Chop-suey Chinese           Yang Wang   \n",
      "14  15                      Comércio Mineiro        Pedro Afonso   \n",
      "15  16                 Consolidated Holdings     Elizabeth Brown   \n",
      "16  17             Drachenblut Delikatessend        Sven Ottlieb   \n",
      "17  18                       Du monde entier      Janine Labrune   \n",
      "18  19                    Eastern Connection           Ann Devon   \n",
      "19  20                          Ernst Handel       Roland Mendel   \n",
      "20  21                    Familia Arquibaldo           Aria Cruz   \n",
      "21  22  FISSA Fabrica Inter. Salchichas S.A.          Diego Roel   \n",
      "22  23                     Folies gourmandes       Martine Rancé   \n",
      "23  24                        Folk och fä HB       Maria Larsson   \n",
      "24  25                        Frankenversand       Peter Franken   \n",
      "25  26                   France restauration      Carine Schmitt   \n",
      "26  27                        Franchi S.p.A.       Paolo Accorti   \n",
      "27  28        Furia Bacalhau e Frutos do Mar     Lino Rodriguez    \n",
      "28  86                     Die Wandernde Kuh         Rita Müller   \n",
      "\n",
      "                                3             4          5            6  \n",
      "0                   Obere Str. 57        Berlin      12209      Germany  \n",
      "1   Avda. de la Constitución 2222   México D.F.      05021       Mexico  \n",
      "2                  Mataderos 2312   México D.F.      05023       Mexico  \n",
      "3                 120 Hanover Sq.        London    WA1 1DP           UK  \n",
      "4                  Berguvsvägen 8         Luleå   S-958 22       Sweden  \n",
      "5                  Forsterstr. 57      Mannheim      68306      Germany  \n",
      "6                24, place Kléber    Strasbourg      67000       France  \n",
      "7                  C/ Araquil, 67        Madrid      28023        Spain  \n",
      "8            12, rue des Bouchers     Marseille      13008       France  \n",
      "9              23 Tsawassen Blvd.     Tsawassen    T2F 8M4       Canada  \n",
      "10              Fauntleroy Circus        London    EC2 5NT           UK  \n",
      "11                    Cerrito 333  Buenos Aires       1010    Argentina  \n",
      "12        Sierras de Granada 9993   México D.F.      05022       Mexico  \n",
      "13                   Hauptstr. 29          Bern       3012  Switzerland  \n",
      "14           Av. dos Lusíadas, 23     São Paulo  05432-043       Brazil  \n",
      "15   Berkeley Gardens 12 Brewery         London    WX1 6LT           UK  \n",
      "16                   Walserweg 21        Aachen      52066      Germany  \n",
      "17   67, rue des Cinquante Otages        Nantes      44000       France  \n",
      "18                 35 King George        London    WX3 6FW           UK  \n",
      "19                   Kirchgasse 6          Graz       8010      Austria  \n",
      "20                   Rua Orós, 92     São Paulo  05442-030       Brazil  \n",
      "21             C/ Moralzarzal, 86        Madrid      28034        Spain  \n",
      "22       184, chaussée de Tournai         Lille      59000       France  \n",
      "23                   Åkergatan 24        Bräcke   S-844 67       Sweden  \n",
      "24              Berliner Platz 43       München      80805      Germany  \n",
      "25                 54, rue Royale        Nantes      44000       France  \n",
      "26            Via Monte Bianco 34        Torino      10100        Italy  \n",
      "27         Jardim das rosas n. 32        Lisboa       1675     Portugal  \n",
      "28              Adenauerallee 900     Stuttgart      70563      Germany  \n"
     ]
    }
   ],
   "source": [
    "query = \"\"\"\n",
    "SELECT * FROM Customers\n",
    "WHERE CustomerName LIKE '[a-f]%';\n",
    "\"\"\"\n",
    "# 얘도 아래와 같이 변경\n",
    "query = \"\"\"\n",
    "SELECT * FROM Customers\n",
    "WHERE CustomerName LIKE 'a%' \n",
    "OR CustomerName LIKE 'b%' \n",
    "OR CustomerName LIKE 'c%' \n",
    "OR CustomerName LIKE 'd%' \n",
    "OR CustomerName LIKE 'e%' \n",
    "OR CustomerName LIKE 'f%';\n",
    "\"\"\"\n",
    "print_query_result(query)"
   ]
  },
  {
   "cell_type": "markdown",
   "id": "07bee041",
   "metadata": {},
   "source": [
    "## Combine Wildcards"
   ]
  },
  {
   "cell_type": "code",
   "execution_count": 240,
   "id": "2c4ae73b",
   "metadata": {},
   "outputs": [
    {
     "name": "stdout",
     "output_type": "stream",
     "text": [
      "   0                                   1               2  \\\n",
      "0  1                 Alfreds Futterkiste    Maria Anders   \n",
      "1  2  Ana Trujillo Emparedados y helados    Ana Trujillo   \n",
      "2  3             Antonio Moreno Taquería  Antonio Moreno   \n",
      "3  4                     Around the Horn    Thomas Hardy   \n",
      "\n",
      "                               3            4        5        6  \n",
      "0                  Obere Str. 57       Berlin    12209  Germany  \n",
      "1  Avda. de la Constitución 2222  México D.F.    05021   Mexico  \n",
      "2                 Mataderos 2312  México D.F.    05023   Mexico  \n",
      "3                120 Hanover Sq.       London  WA1 1DP       UK  \n"
     ]
    }
   ],
   "source": [
    "query = \"\"\"\n",
    "SELECT * FROM Customers\n",
    "WHERE CustomerName LIKE 'a__%';\n",
    "\"\"\"\n",
    "print_query_result(query)"
   ]
  },
  {
   "cell_type": "code",
   "execution_count": 241,
   "id": "c6114b5e",
   "metadata": {},
   "outputs": [
    {
     "name": "stdout",
     "output_type": "stream",
     "text": [
      "     0                                  1                  2  \\\n",
      "0    4                    Around the Horn       Thomas Hardy   \n",
      "1   17          Drachenblut Delikatessend       Sven Ottlieb   \n",
      "2   20                       Ernst Handel      Roland Mendel   \n",
      "3   25                     Frankenversand      Peter Franken   \n",
      "4   26                France restauration     Carine Schmitt   \n",
      "5   27                     Franchi S.p.A.      Paolo Accorti   \n",
      "6   32            Great Lakes Food Market      Howard Snyder   \n",
      "7   33               GROSELLA-Restaurante     Manuel Pereira   \n",
      "8   60            Princesa Isabel Vinhoss   Isabel de Castro   \n",
      "9   81             Tradição Hipermercados  Anabela Domingues   \n",
      "10  82  Trail's Head Gourmet Provisioners     Helvetius Nagy   \n",
      "\n",
      "                            3          4          5          6  \n",
      "0             120 Hanover Sq.     London    WA1 1DP         UK  \n",
      "1                Walserweg 21     Aachen      52066    Germany  \n",
      "2                Kirchgasse 6       Graz       8010    Austria  \n",
      "3           Berliner Platz 43    München      80805    Germany  \n",
      "4              54, rue Royale     Nantes      44000     France  \n",
      "5         Via Monte Bianco 34     Torino      10100      Italy  \n",
      "6            2732 Baker Blvd.     Eugene      97403        USA  \n",
      "7   5ª Ave. Los Palos Grandes    Caracas       1081  Venezuela  \n",
      "8      Estrada da saúde n. 58     Lisboa       1756   Portugal  \n",
      "9     Av. Inês de Castro, 414  São Paulo  05634-030     Brazil  \n",
      "10          722 DaVinci Blvd.   Kirkland      98034        USA  \n"
     ]
    }
   ],
   "source": [
    "query = \"\"\"\n",
    "SELECT * FROM Customers\n",
    "WHERE CustomerName LIKE '_r%';\n",
    "\"\"\"\n",
    "print_query_result(query)"
   ]
  },
  {
   "cell_type": "markdown",
   "id": "ae69e733",
   "metadata": {},
   "source": [
    "## Without Wildcard"
   ]
  },
  {
   "cell_type": "code",
   "execution_count": 242,
   "id": "5ef3e881",
   "metadata": {},
   "outputs": [
    {
     "name": "stdout",
     "output_type": "stream",
     "text": [
      "    0                                     1                  2  \\\n",
      "0   8             Bólido Comidas preparadas      Martín Sommer   \n",
      "1  22  FISSA Fabrica Inter. Salchichas S.A.         Diego Roel   \n",
      "2  29                Galería del gastrónomo   Eduardo Saavedra   \n",
      "3  30                   Godos Cocina Típica  José Pedro Freyre   \n",
      "4  69                      Romero y tomillo   Alejandra Camino   \n",
      "\n",
      "                        3          4      5      6  \n",
      "0          C/ Araquil, 67     Madrid  28023  Spain  \n",
      "1      C/ Moralzarzal, 86     Madrid  28034  Spain  \n",
      "2  Rambla de Cataluña, 23  Barcelona  08022  Spain  \n",
      "3           C/ Romero, 33    Sevilla  41101  Spain  \n",
      "4             Gran Vía, 1     Madrid  28001  Spain  \n"
     ]
    }
   ],
   "source": [
    "query = \"\"\"\n",
    "SELECT * FROM Customers\n",
    "WHERE Country LIKE 'Spain';\n",
    "\"\"\"\n",
    "print_query_result(query)"
   ]
  },
  {
   "cell_type": "markdown",
   "id": "ee7e51e0",
   "metadata": {},
   "source": [
    "## SQL IN Operator"
   ]
  },
  {
   "cell_type": "code",
   "execution_count": 243,
   "id": "45efcefa",
   "metadata": {},
   "outputs": [
    {
     "name": "stdout",
     "output_type": "stream",
     "text": [
      "     0                          1                    2  \\\n",
      "0    1        Alfreds Futterkiste         Maria Anders   \n",
      "1    4            Around the Horn         Thomas Hardy   \n",
      "2    6    Blauer See Delikatessen           Hanna Moos   \n",
      "3    7       Blondel père et fils   Frédérique Citeaux   \n",
      "4    9                   Bon app'    Laurence Lebihans   \n",
      "5   11              B's Beverages    Victoria Ashworth   \n",
      "6   16      Consolidated Holdings      Elizabeth Brown   \n",
      "7   17  Drachenblut Delikatessend         Sven Ottlieb   \n",
      "8   18            Du monde entier       Janine Labrune   \n",
      "9   19         Eastern Connection            Ann Devon   \n",
      "10  23          Folies gourmandes        Martine Rancé   \n",
      "11  25             Frankenversand        Peter Franken   \n",
      "12  26        France restauration       Carine Schmitt   \n",
      "13  38             Island Trading        Helen Bennett   \n",
      "14  39            Königlich Essen        Philip Cramer   \n",
      "15  40       La corne d'abondance        Daniel Tonini   \n",
      "16  41           La maison d'Asie       Annette Roulet   \n",
      "17  44        Lehmanns Marktstand       Renate Messner   \n",
      "18  52     Morgenstern Gesundkost      Alexander Feuer   \n",
      "19  53                North/South       Simon Crowther   \n",
      "20  56         Ottilies Käseladen  Henriette Pfalzheim   \n",
      "21  57          Paris spécialités       Marie Bertrand   \n",
      "22  63                 QUICK-Stop          Horst Kloss   \n",
      "23  72         Seven Seas Imports           Hari Kumar   \n",
      "24  74       Spécialités du monde    Dominique Perrier   \n",
      "25  79         Toms Spezialitäten        Karin Josephs   \n",
      "26  84       Victuailles en stock         Mary Saveley   \n",
      "27  85  Vins et alcools Chevalier         Paul Henriot   \n",
      "28  86          Die Wandernde Kuh          Rita Müller   \n",
      "\n",
      "                               3                4         5        6  \n",
      "0                  Obere Str. 57           Berlin     12209  Germany  \n",
      "1                120 Hanover Sq.           London   WA1 1DP       UK  \n",
      "2                 Forsterstr. 57         Mannheim     68306  Germany  \n",
      "3               24, place Kléber       Strasbourg     67000   France  \n",
      "4           12, rue des Bouchers        Marseille     13008   France  \n",
      "5              Fauntleroy Circus           London   EC2 5NT       UK  \n",
      "6   Berkeley Gardens 12 Brewery            London   WX1 6LT       UK  \n",
      "7                   Walserweg 21           Aachen     52066  Germany  \n",
      "8   67, rue des Cinquante Otages           Nantes     44000   France  \n",
      "9                 35 King George           London   WX3 6FW       UK  \n",
      "10      184, chaussée de Tournai            Lille     59000   France  \n",
      "11             Berliner Platz 43          München     80805  Germany  \n",
      "12                54, rue Royale           Nantes     44000   France  \n",
      "13     Garden House Crowther Way            Cowes  PO31 7PJ       UK  \n",
      "14                 Maubelstr. 90      Brandenburg     14776  Germany  \n",
      "15        67, avenue de l'Europe       Versailles     78000   France  \n",
      "16         1 rue Alsace-Lorraine         Toulouse     31000   France  \n",
      "17                  Magazinweg 7  Frankfurt a.M.      60528  Germany  \n",
      "18                   Heerstr. 22          Leipzig     04179  Germany  \n",
      "19  South House 300 Queensbridge           London   SW7 1RZ       UK  \n",
      "20            Mehrheimerstr. 369             Köln     50739  Germany  \n",
      "21       265, boulevard Charonne            Paris     75012   France  \n",
      "22              Taucherstraße 10        Cunewalde     01307  Germany  \n",
      "23               90 Wadhurst Rd.           London  OX15 4NB       UK  \n",
      "24             25, rue Lauriston            Paris     75016   France  \n",
      "25                 Luisenstr. 48          Münster     44087  Germany  \n",
      "26            2, rue du Commerce             Lyon     69004   France  \n",
      "27            59 rue de l'Abbaye            Reims     51100   France  \n",
      "28             Adenauerallee 900        Stuttgart     70563  Germany  \n"
     ]
    }
   ],
   "source": [
    "query = \"\"\"\n",
    "SELECT * FROM Customers\n",
    "WHERE Country IN ('Germany', 'France', 'UK');\n",
    "\"\"\"\n",
    "print_query_result(query)"
   ]
  },
  {
   "cell_type": "markdown",
   "id": "862c9037",
   "metadata": {},
   "source": [
    "## NOT IN"
   ]
  },
  {
   "cell_type": "code",
   "execution_count": 244,
   "id": "1d06e65f",
   "metadata": {},
   "outputs": [
    {
     "name": "stdout",
     "output_type": "stream",
     "text": [
      "     0                                   1                   2  \\\n",
      "0    2  Ana Trujillo Emparedados y helados        Ana Trujillo   \n",
      "1    3             Antonio Moreno Taquería      Antonio Moreno   \n",
      "2    5                  Berglunds snabbköp  Christina Berglund   \n",
      "3    8           Bólido Comidas preparadas       Martín Sommer   \n",
      "4   10              Bottom-Dollar Marketse   Elizabeth Lincoln   \n",
      "..  ..                                 ...                 ...   \n",
      "56  83                        Vaffeljernet         Palle Ibsen   \n",
      "57  87                      Wartian Herkku    Pirkko Koskitalo   \n",
      "58  88              Wellington Importadora       Paula Parente   \n",
      "59  89                White Clover Markets      Karl Jablonski   \n",
      "60  90                         Wilman Kala     Matti Karttunen   \n",
      "\n",
      "                                3            4          5        6  \n",
      "0   Avda. de la Constitución 2222  México D.F.      05021   Mexico  \n",
      "1                  Mataderos 2312  México D.F.      05023   Mexico  \n",
      "2                  Berguvsvägen 8        Luleå   S-958 22   Sweden  \n",
      "3                  C/ Araquil, 67       Madrid      28023    Spain  \n",
      "4              23 Tsawassen Blvd.    Tsawassen    T2F 8M4   Canada  \n",
      "..                            ...          ...        ...      ...  \n",
      "56                  Smagsløget 45        Århus       8200  Denmark  \n",
      "57                    Torikatu 38         Oulu      90110  Finland  \n",
      "58             Rua do Mercado, 12      Resende  08737-363   Brazil  \n",
      "59    305 - 14th Ave. S. Suite 3B      Seattle      98128      USA  \n",
      "60                  Keskuskatu 45     Helsinki      21240  Finland  \n",
      "\n",
      "[61 rows x 7 columns]\n"
     ]
    }
   ],
   "source": [
    "query = \"\"\"\n",
    "SELECT * FROM Customers\n",
    "WHERE Country NOT IN ('Germany', 'France', 'UK');\n",
    "\"\"\"\n",
    "print_query_result(query)"
   ]
  },
  {
   "cell_type": "markdown",
   "id": "930cf847",
   "metadata": {},
   "source": [
    "## IN (SELECT)"
   ]
  },
  {
   "cell_type": "code",
   "execution_count": 245,
   "id": "ae55d4bf",
   "metadata": {},
   "outputs": [
    {
     "name": "stdout",
     "output_type": "stream",
     "text": [
      "     0                                   1                   2  \\\n",
      "0    2  Ana Trujillo Emparedados y helados        Ana Trujillo   \n",
      "1    3             Antonio Moreno Taquería      Antonio Moreno   \n",
      "2    4                     Around the Horn        Thomas Hardy   \n",
      "3    5                  Berglunds snabbköp  Christina Berglund   \n",
      "4    7                Blondel père et fils  Frédérique Citeaux   \n",
      "..  ..                                 ...                 ...   \n",
      "69  87                      Wartian Herkku    Pirkko Koskitalo   \n",
      "70  88              Wellington Importadora       Paula Parente   \n",
      "71  89                White Clover Markets      Karl Jablonski   \n",
      "72  90                         Wilman Kala     Matti Karttunen   \n",
      "73  91                              Wolski             Zbyszek   \n",
      "\n",
      "                                3            4          5        6  \n",
      "0   Avda. de la Constitución 2222  México D.F.      05021   Mexico  \n",
      "1                  Mataderos 2312  México D.F.      05023   Mexico  \n",
      "2                 120 Hanover Sq.       London    WA1 1DP       UK  \n",
      "3                  Berguvsvägen 8        Luleå   S-958 22   Sweden  \n",
      "4                24, place Kléber   Strasbourg      67000   France  \n",
      "..                            ...          ...        ...      ...  \n",
      "69                    Torikatu 38         Oulu      90110  Finland  \n",
      "70             Rua do Mercado, 12      Resende  08737-363   Brazil  \n",
      "71    305 - 14th Ave. S. Suite 3B      Seattle      98128      USA  \n",
      "72                  Keskuskatu 45     Helsinki      21240  Finland  \n",
      "73                ul. Filtrowa 68        Walla     01-012     None  \n",
      "\n",
      "[74 rows x 7 columns]\n"
     ]
    }
   ],
   "source": [
    "query = \"\"\"\n",
    "SELECT * FROM Customers\n",
    "WHERE CustomerID IN (SELECT CustomerID FROM Orders);\n",
    "\"\"\"\n",
    "print_query_result(query)"
   ]
  },
  {
   "cell_type": "markdown",
   "id": "255ff9fd",
   "metadata": {},
   "source": [
    "## NOT IN (SELECT)\n"
   ]
  },
  {
   "cell_type": "code",
   "execution_count": 246,
   "id": "12d967fe",
   "metadata": {},
   "outputs": [
    {
     "name": "stdout",
     "output_type": "stream",
     "text": [
      "     0                                     1                  2  \\\n",
      "0    1                   Alfreds Futterkiste       Maria Anders   \n",
      "1    6               Blauer See Delikatessen         Hanna Moos   \n",
      "2   12            Cactus Comidas para llevar   Patricio Simpson   \n",
      "3   22  FISSA Fabrica Inter. Salchichas S.A.         Diego Roel   \n",
      "4   26                   France restauration     Carine Schmitt   \n",
      "5   32               Great Lakes Food Market      Howard Snyder   \n",
      "6   40                  La corne d'abondance      Daniel Tonini   \n",
      "7   42         Laughing Bacchus Wine Cellars    Yoshi Tannamuri   \n",
      "8   43                  Lazy K Kountry Store         John Steel   \n",
      "9   45                     Let's Stop N Shop       Jaime Yorres   \n",
      "10  50                          Maison Dewey    Catherine Dewey   \n",
      "11  53                           North/South     Simon Crowther   \n",
      "12  57                     Paris spécialités     Marie Bertrand   \n",
      "13  64                         Rancho grande   Sergio Gutiérrez   \n",
      "14  74                  Spécialités du monde  Dominique Perrier   \n",
      "15  78                       The Cracker Box           Liu Wong   \n",
      "16  82     Trail's Head Gourmet Provisioners     Helvetius Nagy   \n",
      "\n",
      "                               3              4        5          6  \n",
      "0                  Obere Str. 57         Berlin    12209    Germany  \n",
      "1                 Forsterstr. 57       Mannheim    68306    Germany  \n",
      "2                    Cerrito 333   Buenos Aires     1010  Argentina  \n",
      "3             C/ Moralzarzal, 86         Madrid    28034      Spain  \n",
      "4                 54, rue Royale         Nantes    44000     France  \n",
      "5               2732 Baker Blvd.         Eugene    97403        USA  \n",
      "6         67, avenue de l'Europe     Versailles    78000     France  \n",
      "7                   1900 Oak St.      Vancouver  V3F 2K1     Canada  \n",
      "8           12 Orchestra Terrace    Walla Walla    99362        USA  \n",
      "9            87 Polk St. Suite 5  San Francisco    94117        USA  \n",
      "10           Rue Joseph-Bens 532      Bruxelles   B-1180    Belgium  \n",
      "11  South House 300 Queensbridge         London  SW7 1RZ         UK  \n",
      "12       265, boulevard Charonne          Paris    75012     France  \n",
      "13        Av. del Libertador 900   Buenos Aires     1010  Argentina  \n",
      "14             25, rue Lauriston          Paris    75016     France  \n",
      "15           55 Grizzly Peak Rd.          Butte    59801        USA  \n",
      "16             722 DaVinci Blvd.       Kirkland    98034        USA  \n"
     ]
    }
   ],
   "source": [
    "query = \"\"\"\n",
    "SELECT * FROM Customers\n",
    "WHERE CustomerID NOT IN (SELECT CustomerID FROM Orders);\n",
    "\"\"\"\n",
    "print_query_result(query)"
   ]
  },
  {
   "cell_type": "markdown",
   "id": "6308f89b",
   "metadata": {},
   "source": [
    "## SQL BETWEEN Operator"
   ]
  },
  {
   "cell_type": "code",
   "execution_count": 247,
   "id": "e86defaf",
   "metadata": {},
   "outputs": [
    {
     "name": "stdout",
     "output_type": "stream",
     "text": [
      "     0                                1   2  3                    4      5\n",
      "0    1                            Chais   1  1   10 boxes x 20 bags  18.00\n",
      "1    2                            Chang   1  1   24 - 12 oz bottles  19.00\n",
      "2    3                    Aniseed Syrup   1  2  12 - 550 ml bottles  10.00\n",
      "3   15                     Genen Shouyu   6  2  24 - 250 ml bottles  15.50\n",
      "4   16                          Pavlova   7  3     32 - 500 g boxes  17.45\n",
      "5   21              Sir Rodney's Scones   8  3  24 pkgs. x 4 pieces  10.00\n",
      "6   25          NuNuCa Nuß-Nougat-Creme  11  3   20 - 450 g glasses  14.00\n",
      "7   31                Gorgonzola Telino  14  4      12 - 100 g pkgs  12.50\n",
      "8   34                    Sasquatch Ale  16  1   24 - 12 oz bottles  14.00\n",
      "9   35                   Steeleye Stout  16  1   24 - 12 oz bottles  18.00\n",
      "10  36                      Inlagd Sill  17  8      24 - 250 g jars  19.00\n",
      "11  39                 Chartreuse verte  18  1    750 cc per bottle  18.00\n",
      "12  40                 Boston Crab Meat  19  8       24 - 4 oz tins  18.40\n",
      "13  42    Singaporean Hokkien Fried Mee  20  5      32 - 1 kg pkgs.  14.00\n",
      "14  44                     Gula Malacca  20  2       20 - 2 kg bags  19.45\n",
      "15  46                        Spegesild  21  8    4 - 450 g glasses  12.00\n",
      "16  48                        Chocolade  22  3             10 pkgs.  12.75\n",
      "17  49                         Maxilaku  23  3      24 - 50 g pkgs.  20.00\n",
      "18  50                 Valkoinen suklaa  23  3      12 - 100 g bars  16.25\n",
      "19  57                   Ravioli Angelo  26  5     24 - 250 g pkgs.  19.50\n",
      "20  58           Escargots de Bourgogne  27  8            24 pieces  13.25\n",
      "21  66        Louisiana Hot Spiced Okra   2  2       24 - 8 oz jars  17.00\n",
      "22  67        Laughing Lumberjack Lager  16  1   24 - 12 oz bottles  14.00\n",
      "23  68              Scottish Longbreads   8  3  10 boxes x 8 pieces  12.50\n",
      "24  70                    Outback Lager   7  1  24 - 355 ml bottles  15.00\n",
      "25  73                       Röd Kaviar  17  8      24 - 150 g jars  15.00\n",
      "26  74                    Longlife Tofu   4  7            5 kg pkg.  10.00\n",
      "27  76                     Lakkalikööri  23  1              500 ml   18.00\n",
      "28  77  Original Frankfurter grüne Soße  12  2             12 boxes  13.00\n"
     ]
    }
   ],
   "source": [
    "query = \"\"\"\n",
    "SELECT * FROM Products\n",
    "WHERE Price BETWEEN 10 AND 20;\n",
    "\"\"\"\n",
    "print_query_result(query)"
   ]
  },
  {
   "cell_type": "markdown",
   "id": "b35b413b",
   "metadata": {},
   "source": [
    "## NOT BETWEEN"
   ]
  },
  {
   "cell_type": "code",
   "execution_count": 248,
   "id": "b2c7cde0",
   "metadata": {},
   "outputs": [
    {
     "name": "stdout",
     "output_type": "stream",
     "text": [
      "     0                                 1   2  3                     4       5\n",
      "0    4      Chef Anton's Cajun Seasoning   2  2        48 - 6 oz jars   22.00\n",
      "1    5            Chef Anton's Gumbo Mix   2  2              36 boxes   21.35\n",
      "2    6      Grandma's Boysenberry Spread   3  2        12 - 8 oz jars   25.00\n",
      "3    7   Uncle Bob's Organic Dried Pears   3  7       12 - 1 lb pkgs.   30.00\n",
      "4    8        Northwoods Cranberry Sauce   3  2       12 - 12 oz jars   40.00\n",
      "5    9                   Mishi Kobe Niku   4  6      18 - 500 g pkgs.   97.00\n",
      "6   10                             Ikura   4  8      12 - 200 ml jars   31.00\n",
      "7   11                    Queso Cabrales   5  4             1 kg pkg.   21.00\n",
      "8   12         Queso Manchego La Pastora   5  4      10 - 500 g pkgs.   38.00\n",
      "9   13                             Konbu   6  8              2 kg box    6.00\n",
      "10  14                              Tofu   6  7      40 - 100 g pkgs.   23.25\n",
      "11  17                      Alice Mutton   7  6        20 - 1 kg tins   39.00\n",
      "12  18                  Carnarvon Tigers   7  8            16 kg pkg.   62.50\n",
      "13  19        Teatime Chocolate Biscuits   8  3  10 boxes x 12 pieces    9.20\n",
      "14  20            Sir Rodney's Marmalade   8  3         30 gift boxes   81.00\n",
      "15  22               Gustaf's Knäckebröd   9  5      24 - 500 g pkgs.   21.00\n",
      "16  23                          Tunnbröd   9  5      12 - 250 g pkgs.    9.00\n",
      "17  24                Guaraná Fantástica  10  1      12 - 355 ml cans    4.50\n",
      "18  26               Gumbär Gummibärchen  11  3      100 - 250 g bags   31.23\n",
      "19  27                Schoggi Schokolade  11  3    100 - 100 g pieces   43.90\n",
      "20  28                 Rössle Sauerkraut  12  7       25 - 825 g cans   45.60\n",
      "21  29           Thüringer Rostbratwurst  12  6  50 bags x 30 sausgs.  123.79\n",
      "22  30             Nord-Ost Matjeshering  13  8    10 - 200 g glasses   25.89\n",
      "23  32                Mascarpone Fabioli  14  4      24 - 200 g pkgs.   32.00\n",
      "24  33                           Geitost  15  4                 500 g    2.50\n",
      "25  37                        Gravad lax  17  8      12 - 500 g pkgs.   26.00\n",
      "26  38                     Côte de Blaye  18  1    12 - 75 cl bottles  263.50\n",
      "27  41   Jack's New England Clam Chowder  19  8       12 - 12 oz cans    9.65\n",
      "28  43                       Ipoh Coffee  20  1       16 - 500 g tins   46.00\n",
      "29  45                       Røgede sild  21  8               1k pkg.    9.50\n",
      "30  47                     Zaanse koeken  22  3       10 - 4 oz boxes    9.50\n",
      "31  51             Manjimup Dried Apples  24  7      50 - 300 g pkgs.   53.00\n",
      "32  52                          Filo Mix  24  5       16 - 2 kg boxes    7.00\n",
      "33  53                     Perth Pasties  24  6             48 pieces   32.80\n",
      "34  54                         Tourtière  25  6               16 pies    7.45\n",
      "35  55                      Pâté chinois  25  6     24 boxes x 2 pies   24.00\n",
      "36  56            Gnocchi di nonna Alice  26  5      24 - 250 g pkgs.   38.00\n",
      "37  59              Raclette Courdavault  28  4             5 kg pkg.   55.00\n",
      "38  60                 Camembert Pierrot  28  4     15 - 300 g rounds   34.00\n",
      "39  61                    Sirop d'érable  29  2   24 - 500 ml bottles   28.50\n",
      "40  62                    Tarte au sucre  29  3               48 pies   49.30\n",
      "41  63                      Vegie-spread   7  2       15 - 625 g jars   43.90\n",
      "42  64         Wimmers gute Semmelknödel  12  5    20 bags x 4 pieces   33.25\n",
      "43  65  Louisiana Fiery Hot Pepper Sauce   2  2     32 - 8 oz bottles   21.05\n",
      "44  69                  Gudbrandsdalsost  15  4            10 kg pkg.   36.00\n",
      "45  71                       Fløtemysost  15  4      10 - 500 g pkgs.   21.50\n",
      "46  72            Mozzarella di Giovanni  14  4      24 - 200 g pkgs.   34.80\n",
      "47  75              Rhönbräu Klosterbier  12  1    24 - 0.5 l bottles    7.75\n"
     ]
    }
   ],
   "source": [
    "query = \"\"\"\n",
    "SELECT * FROM Products\n",
    "WHERE Price NOT BETWEEN 10 AND 20;\n",
    "\"\"\"\n",
    "print_query_result(query)"
   ]
  },
  {
   "cell_type": "markdown",
   "id": "64fc4cd8",
   "metadata": {},
   "source": [
    "## BETWEEN with IN"
   ]
  },
  {
   "cell_type": "code",
   "execution_count": 249,
   "id": "fb9f0e5a",
   "metadata": {},
   "outputs": [
    {
     "name": "stdout",
     "output_type": "stream",
     "text": [
      "     0                                1   2  3                    4      5\n",
      "0    1                            Chais   1  1   10 boxes x 20 bags  18.00\n",
      "1    2                            Chang   1  1   24 - 12 oz bottles  19.00\n",
      "2    3                    Aniseed Syrup   1  2  12 - 550 ml bottles  10.00\n",
      "3   15                     Genen Shouyu   6  2  24 - 250 ml bottles  15.50\n",
      "4   16                          Pavlova   7  3     32 - 500 g boxes  17.45\n",
      "5   21              Sir Rodney's Scones   8  3  24 pkgs. x 4 pieces  10.00\n",
      "6   25          NuNuCa Nuß-Nougat-Creme  11  3   20 - 450 g glasses  14.00\n",
      "7   34                    Sasquatch Ale  16  1   24 - 12 oz bottles  14.00\n",
      "8   35                   Steeleye Stout  16  1   24 - 12 oz bottles  18.00\n",
      "9   39                 Chartreuse verte  18  1    750 cc per bottle  18.00\n",
      "10  44                     Gula Malacca  20  2       20 - 2 kg bags  19.45\n",
      "11  48                        Chocolade  22  3             10 pkgs.  12.75\n",
      "12  49                         Maxilaku  23  3      24 - 50 g pkgs.  20.00\n",
      "13  50                 Valkoinen suklaa  23  3      12 - 100 g bars  16.25\n",
      "14  66        Louisiana Hot Spiced Okra   2  2       24 - 8 oz jars  17.00\n",
      "15  67        Laughing Lumberjack Lager  16  1   24 - 12 oz bottles  14.00\n",
      "16  68              Scottish Longbreads   8  3  10 boxes x 8 pieces  12.50\n",
      "17  70                    Outback Lager   7  1  24 - 355 ml bottles  15.00\n",
      "18  76                     Lakkalikööri  23  1              500 ml   18.00\n",
      "19  77  Original Frankfurter grüne Soße  12  2             12 boxes  13.00\n"
     ]
    }
   ],
   "source": [
    "query = \"\"\"\n",
    "SELECT * FROM Products\n",
    "WHERE Price BETWEEN 10 AND 20\n",
    "AND CategoryID IN (1,2,3);\n",
    "\"\"\"\n",
    "print_query_result(query)"
   ]
  },
  {
   "cell_type": "markdown",
   "id": "34f1bf31",
   "metadata": {},
   "source": [
    "## BETWEEN Text Values"
   ]
  },
  {
   "cell_type": "code",
   "execution_count": 250,
   "id": "49be559d",
   "metadata": {},
   "outputs": [
    {
     "name": "stdout",
     "output_type": "stream",
     "text": [
      "     0                                 1   2  3                    4       5\n",
      "0   18                  Carnarvon Tigers   7  8           16 kg pkg.   62.50\n",
      "1    1                             Chais   1  1   10 boxes x 20 bags   18.00\n",
      "2    2                             Chang   1  1   24 - 12 oz bottles   19.00\n",
      "3   39                  Chartreuse verte  18  1    750 cc per bottle   18.00\n",
      "4    4      Chef Anton's Cajun Seasoning   2  2       48 - 6 oz jars   22.00\n",
      "5    5            Chef Anton's Gumbo Mix   2  2             36 boxes   21.35\n",
      "6   48                         Chocolade  22  3             10 pkgs.   12.75\n",
      "7   38                     Côte de Blaye  18  1   12 - 75 cl bottles  263.50\n",
      "8   58            Escargots de Bourgogne  27  8            24 pieces   13.25\n",
      "9   52                          Filo Mix  24  5      16 - 2 kg boxes    7.00\n",
      "10  71                       Fløtemysost  15  4     10 - 500 g pkgs.   21.50\n",
      "11  33                           Geitost  15  4                500 g    2.50\n",
      "12  15                      Genen Shouyu   6  2  24 - 250 ml bottles   15.50\n",
      "13  56            Gnocchi di nonna Alice  26  5     24 - 250 g pkgs.   38.00\n",
      "14  31                 Gorgonzola Telino  14  4      12 - 100 g pkgs   12.50\n",
      "15   6      Grandma's Boysenberry Spread   3  2       12 - 8 oz jars   25.00\n",
      "16  37                        Gravad lax  17  8     12 - 500 g pkgs.   26.00\n",
      "17  24                Guaraná Fantástica  10  1     12 - 355 ml cans    4.50\n",
      "18  69                  Gudbrandsdalsost  15  4           10 kg pkg.   36.00\n",
      "19  44                      Gula Malacca  20  2       20 - 2 kg bags   19.45\n",
      "20  26               Gumbär Gummibärchen  11  3     100 - 250 g bags   31.23\n",
      "21  22               Gustaf's Knäckebröd   9  5     24 - 500 g pkgs.   21.00\n",
      "22  10                             Ikura   4  8     12 - 200 ml jars   31.00\n",
      "23  36                       Inlagd Sill  17  8      24 - 250 g jars   19.00\n",
      "24  43                       Ipoh Coffee  20  1      16 - 500 g tins   46.00\n",
      "25  41   Jack's New England Clam Chowder  19  8      12 - 12 oz cans    9.65\n",
      "26  13                             Konbu   6  8             2 kg box    6.00\n",
      "27  76                      Lakkalikööri  23  1              500 ml    18.00\n",
      "28  67         Laughing Lumberjack Lager  16  1   24 - 12 oz bottles   14.00\n",
      "29  74                     Longlife Tofu   4  7            5 kg pkg.   10.00\n",
      "30  65  Louisiana Fiery Hot Pepper Sauce   2  2    32 - 8 oz bottles   21.05\n",
      "31  66         Louisiana Hot Spiced Okra   2  2       24 - 8 oz jars   17.00\n",
      "32  51             Manjimup Dried Apples  24  7     50 - 300 g pkgs.   53.00\n",
      "33  32                Mascarpone Fabioli  14  4     24 - 200 g pkgs.   32.00\n",
      "34  49                          Maxilaku  23  3      24 - 50 g pkgs.   20.00\n",
      "35   9                   Mishi Kobe Niku   4  6     18 - 500 g pkgs.   97.00\n",
      "36  72            Mozzarella di Giovanni  14  4     24 - 200 g pkgs.   34.80\n"
     ]
    }
   ],
   "source": [
    "query = \"\"\"\n",
    "SELECT * FROM Products\n",
    "WHERE ProductName BETWEEN 'Carnarvon Tigers' AND 'Mozzarella di Giovanni'\n",
    "ORDER BY ProductName;\n",
    "\"\"\"\n",
    "print_query_result(query)"
   ]
  },
  {
   "cell_type": "code",
   "execution_count": 251,
   "id": "e8c53bdc",
   "metadata": {},
   "outputs": [
    {
     "name": "stdout",
     "output_type": "stream",
     "text": [
      "    0                             1   2  3                   4     5\n",
      "0  18              Carnarvon Tigers   7  8          16 kg pkg.  62.5\n",
      "1   1                         Chais   1  1  10 boxes x 20 bags  18.0\n",
      "2   2                         Chang   1  1  24 - 12 oz bottles  19.0\n",
      "3  39              Chartreuse verte  18  1   750 cc per bottle  18.0\n",
      "4   4  Chef Anton's Cajun Seasoning   2  2      48 - 6 oz jars  22.0\n"
     ]
    }
   ],
   "source": [
    "query = \"\"\"\n",
    "SELECT * FROM Products\n",
    "WHERE ProductName BETWEEN \"Carnarvon Tigers\" AND \"Chef Anton's Cajun Seasoning\"\n",
    "ORDER BY ProductName;\n",
    "\"\"\"\n",
    "print_query_result(query)"
   ]
  },
  {
   "cell_type": "markdown",
   "id": "f518aa67",
   "metadata": {},
   "source": [
    "## NOT BETWEEN Text Values"
   ]
  },
  {
   "cell_type": "code",
   "execution_count": 252,
   "id": "fac5b0d5",
   "metadata": {},
   "outputs": [
    {
     "name": "stdout",
     "output_type": "stream",
     "text": [
      "     0                                1   2  3                     4       5\n",
      "0   17                     Alice Mutton   7  6        20 - 1 kg tins   39.00\n",
      "1    3                    Aniseed Syrup   1  2   12 - 550 ml bottles   10.00\n",
      "2   40                 Boston Crab Meat  19  8        24 - 4 oz tins   18.40\n",
      "3   60                Camembert Pierrot  28  4     15 - 300 g rounds   34.00\n",
      "4   30            Nord-Ost Matjeshering  13  8    10 - 200 g glasses   25.89\n",
      "5    8       Northwoods Cranberry Sauce   3  2       12 - 12 oz jars   40.00\n",
      "6   25          NuNuCa Nuß-Nougat-Creme  11  3    20 - 450 g glasses   14.00\n",
      "7   77  Original Frankfurter grüne Soße  12  2              12 boxes   13.00\n",
      "8   70                    Outback Lager   7  1   24 - 355 ml bottles   15.00\n",
      "9   16                          Pavlova   7  3      32 - 500 g boxes   17.45\n",
      "10  53                    Perth Pasties  24  6             48 pieces   32.80\n",
      "11  55                     Pâté chinois  25  6     24 boxes x 2 pies   24.00\n",
      "12  11                   Queso Cabrales   5  4             1 kg pkg.   21.00\n",
      "13  12        Queso Manchego La Pastora   5  4      10 - 500 g pkgs.   38.00\n",
      "14  59             Raclette Courdavault  28  4             5 kg pkg.   55.00\n",
      "15  57                   Ravioli Angelo  26  5      24 - 250 g pkgs.   19.50\n",
      "16  75             Rhönbräu Klosterbier  12  1    24 - 0.5 l bottles    7.75\n",
      "17  73                       Röd Kaviar  17  8       24 - 150 g jars   15.00\n",
      "18  28                Rössle Sauerkraut  12  7       25 - 825 g cans   45.60\n",
      "19  45                      Røgede sild  21  8               1k pkg.    9.50\n",
      "20  34                    Sasquatch Ale  16  1    24 - 12 oz bottles   14.00\n",
      "21  27               Schoggi Schokolade  11  3    100 - 100 g pieces   43.90\n",
      "22  68              Scottish Longbreads   8  3   10 boxes x 8 pieces   12.50\n",
      "23  42    Singaporean Hokkien Fried Mee  20  5       32 - 1 kg pkgs.   14.00\n",
      "24  20           Sir Rodney's Marmalade   8  3         30 gift boxes   81.00\n",
      "25  21              Sir Rodney's Scones   8  3   24 pkgs. x 4 pieces   10.00\n",
      "26  61                   Sirop d'érable  29  2   24 - 500 ml bottles   28.50\n",
      "27  46                        Spegesild  21  8     4 - 450 g glasses   12.00\n",
      "28  35                   Steeleye Stout  16  1    24 - 12 oz bottles   18.00\n",
      "29  62                   Tarte au sucre  29  3               48 pies   49.30\n",
      "30  19       Teatime Chocolate Biscuits   8  3  10 boxes x 12 pieces    9.20\n",
      "31  29          Thüringer Rostbratwurst  12  6  50 bags x 30 sausgs.  123.79\n",
      "32  14                             Tofu   6  7      40 - 100 g pkgs.   23.25\n",
      "33  54                        Tourtière  25  6               16 pies    7.45\n",
      "34  23                         Tunnbröd   9  5      12 - 250 g pkgs.    9.00\n",
      "35   7  Uncle Bob's Organic Dried Pears   3  7       12 - 1 lb pkgs.   30.00\n",
      "36  50                 Valkoinen suklaa  23  3       12 - 100 g bars   16.25\n",
      "37  63                     Vegie-spread   7  2       15 - 625 g jars   43.90\n",
      "38  64        Wimmers gute Semmelknödel  12  5    20 bags x 4 pieces   33.25\n",
      "39  47                    Zaanse koeken  22  3       10 - 4 oz boxes    9.50\n"
     ]
    }
   ],
   "source": [
    "query = \"\"\"\n",
    "SELECT * FROM Products\n",
    "WHERE ProductName NOT BETWEEN 'Carnarvon Tigers' AND 'Mozzarella di Giovanni'\n",
    "ORDER BY ProductName;\n",
    "\"\"\"\n",
    "print_query_result(query)"
   ]
  },
  {
   "cell_type": "markdown",
   "id": "40dd1c38",
   "metadata": {},
   "source": [
    "## BETWEEN Dates"
   ]
  },
  {
   "cell_type": "code",
   "execution_count": 253,
   "id": "ca0c9f9b",
   "metadata": {},
   "outputs": [
    {
     "name": "stdout",
     "output_type": "stream",
     "text": [
      "(0, 'OrderID', 'INTEGER', 0, None, 0)\n",
      "(1, 'CustomerID', 'INTEGER', 0, None, 0)\n",
      "(2, 'EmployeeID', 'INTEGER', 0, None, 0)\n",
      "(3, 'OrderDate', 'TEXT', 0, None, 0)\n",
      "(4, 'ShipperID', 'INTEGER', 0, None, 0)\n",
      "[(10248, 90, 5, '7/4/1996', 3)]\n",
      "Empty DataFrame\n",
      "Columns: []\n",
      "Index: []\n"
     ]
    },
    {
     "data": {
      "text/plain": [
       "<sqlite3.Connection at 0x1201c6020>"
      ]
     },
     "execution_count": 253,
     "metadata": {},
     "output_type": "execute_result"
    }
   ],
   "source": [
    "query = \"\"\"\n",
    "SELECT * FROM Orders\n",
    "WHERE OrderDate BETWEEN #07/01/1996# AND #07/31/1996#;\n",
    "\"\"\"\n",
    "conn = sqlite3.connect('database.db')\n",
    "cursor = conn.cursor()\n",
    "cursor.execute(\"PRAGMA table_info(Orders)\")\n",
    "for row in cursor.fetchall():\n",
    "    print(row)\n",
    "# 데이터 확인\n",
    "cursor.execute(\"SELECT * FROM Orders LIMIT 1\")\n",
    "print(cursor.fetchall())\n",
    "# 쿼리를 아래와 같이 수정\n",
    "query = \"\"\"\n",
    "SELECT * FROM Orders\n",
    "WHERE OrderDate BETWEEN '07/01/1996' AND '07/31/1996';\n",
    "\"\"\"\n",
    "# sqlite에서는 Date를 TEXT로 저장 !\n",
    "print_query_result(query)\n",
    "conn\n",
    "# 그런데 안나옴 !?"
   ]
  },
  {
   "cell_type": "markdown",
   "id": "cacdb457",
   "metadata": {},
   "source": [
    "## SQL Aliases"
   ]
  },
  {
   "cell_type": "code",
   "execution_count": 254,
   "id": "cdc4ac08",
   "metadata": {},
   "outputs": [
    {
     "name": "stdout",
     "output_type": "stream",
     "text": [
      "     0\n",
      "0    1\n",
      "1    2\n",
      "2    3\n",
      "3    4\n",
      "4    5\n",
      "..  ..\n",
      "86  87\n",
      "87  88\n",
      "88  89\n",
      "89  90\n",
      "90  91\n",
      "\n",
      "[91 rows x 1 columns]\n"
     ]
    }
   ],
   "source": [
    "query = \"\"\"\n",
    "SELECT CustomerID AS ID\n",
    "FROM Customers;\n",
    "\"\"\"\n",
    "print_query_result(query)"
   ]
  },
  {
   "cell_type": "markdown",
   "id": "d9c5f79b",
   "metadata": {},
   "source": [
    "## AS is Optional"
   ]
  },
  {
   "cell_type": "code",
   "execution_count": 255,
   "id": "747e6e61",
   "metadata": {},
   "outputs": [
    {
     "name": "stdout",
     "output_type": "stream",
     "text": [
      "     0\n",
      "0    1\n",
      "1    2\n",
      "2    3\n",
      "3    4\n",
      "4    5\n",
      "..  ..\n",
      "86  87\n",
      "87  88\n",
      "88  89\n",
      "89  90\n",
      "90  91\n",
      "\n",
      "[91 rows x 1 columns]\n"
     ]
    }
   ],
   "source": [
    "query = \"\"\"\n",
    "SELECT CustomerID ID\n",
    "FROM Customers;\n",
    "\"\"\"\n",
    "print_query_result(query)"
   ]
  },
  {
   "cell_type": "markdown",
   "id": "10ebd60d",
   "metadata": {},
   "source": [
    "## Alias for Columns"
   ]
  },
  {
   "cell_type": "code",
   "execution_count": 256,
   "id": "d444156e",
   "metadata": {},
   "outputs": [
    {
     "name": "stdout",
     "output_type": "stream",
     "text": [
      "     0                                   1\n",
      "0    1                 Alfreds Futterkiste\n",
      "1    2  Ana Trujillo Emparedados y helados\n",
      "2    3             Antonio Moreno Taquería\n",
      "3    4                     Around the Horn\n",
      "4    5                  Berglunds snabbköp\n",
      "..  ..                                 ...\n",
      "86  87                      Wartian Herkku\n",
      "87  88              Wellington Importadora\n",
      "88  89                White Clover Markets\n",
      "89  90                         Wilman Kala\n",
      "90  91                              Wolski\n",
      "\n",
      "[91 rows x 2 columns]\n"
     ]
    }
   ],
   "source": [
    "query = \"\"\"\n",
    "SELECT CustomerID AS ID, CustomerName AS Customer\n",
    "FROM Customers;\n",
    "\"\"\"\n",
    "print_query_result(query)"
   ]
  },
  {
   "cell_type": "markdown",
   "id": "7b2aa537",
   "metadata": {},
   "source": [
    "## Using Aliases With a Space Character"
   ]
  },
  {
   "cell_type": "code",
   "execution_count": 257,
   "id": "4b237b20",
   "metadata": {},
   "outputs": [
    {
     "name": "stdout",
     "output_type": "stream",
     "text": [
      "                                  0\n",
      "0                             Chais\n",
      "1                             Chang\n",
      "2                     Aniseed Syrup\n",
      "3      Chef Anton's Cajun Seasoning\n",
      "4            Chef Anton's Gumbo Mix\n",
      "..                              ...\n",
      "72                       Röd Kaviar\n",
      "73                    Longlife Tofu\n",
      "74             Rhönbräu Klosterbier\n",
      "75                     Lakkalikööri\n",
      "76  Original Frankfurter grüne Soße\n",
      "\n",
      "[77 rows x 1 columns]\n"
     ]
    }
   ],
   "source": [
    "query = \"\"\"\n",
    "SELECT ProductName AS [My Great Products]\n",
    "FROM Products;\n",
    "\"\"\"\n",
    "print_query_result(query)"
   ]
  },
  {
   "cell_type": "code",
   "execution_count": 258,
   "id": "1f8a78a7",
   "metadata": {},
   "outputs": [
    {
     "name": "stdout",
     "output_type": "stream",
     "text": [
      "                                  0\n",
      "0                             Chais\n",
      "1                             Chang\n",
      "2                     Aniseed Syrup\n",
      "3      Chef Anton's Cajun Seasoning\n",
      "4            Chef Anton's Gumbo Mix\n",
      "..                              ...\n",
      "72                       Röd Kaviar\n",
      "73                    Longlife Tofu\n",
      "74             Rhönbräu Klosterbier\n",
      "75                     Lakkalikööri\n",
      "76  Original Frankfurter grüne Soße\n",
      "\n",
      "[77 rows x 1 columns]\n"
     ]
    }
   ],
   "source": [
    "query = \"\"\"\n",
    "SELECT ProductName AS \"My Great Products\"\n",
    "FROM Products;\n",
    "\"\"\"\n",
    "print_query_result(query)"
   ]
  },
  {
   "cell_type": "markdown",
   "id": "362de874",
   "metadata": {},
   "source": [
    "## Concatenate Columns"
   ]
  },
  {
   "cell_type": "code",
   "execution_count": 259,
   "id": "91385252",
   "metadata": {},
   "outputs": [
    {
     "name": "stdout",
     "output_type": "stream",
     "text": [
      "                                     0        1\n",
      "0                  Alfreds Futterkiste  12209.0\n",
      "1   Ana Trujillo Emparedados y helados   5021.0\n",
      "2              Antonio Moreno Taquería   5023.0\n",
      "3                      Around the Horn    120.0\n",
      "4                   Berglunds snabbköp      0.0\n",
      "..                                 ...      ...\n",
      "86                      Wartian Herkku  90110.0\n",
      "87              Wellington Importadora   8737.0\n",
      "88                White Clover Markets  98433.0\n",
      "89                         Wilman Kala  21240.0\n",
      "90                              Wolski      NaN\n",
      "\n",
      "[91 rows x 2 columns]\n"
     ]
    }
   ],
   "source": [
    "query = \"\"\"\n",
    "SELECT CustomerName, Address + ', ' + PostalCode + ' ' + City + ', ' + Country AS Address\n",
    "FROM Customers;\n",
    "\"\"\"\n",
    "print_query_result(query)"
   ]
  },
  {
   "cell_type": "markdown",
   "id": "82f65797",
   "metadata": {},
   "source": [
    "## Alias for Tables"
   ]
  },
  {
   "cell_type": "code",
   "execution_count": 260,
   "id": "16566ca2",
   "metadata": {},
   "outputs": [
    {
     "name": "stdout",
     "output_type": "stream",
     "text": [
      "     0                                   1                   2  \\\n",
      "0    1                 Alfreds Futterkiste        Maria Anders   \n",
      "1    2  Ana Trujillo Emparedados y helados        Ana Trujillo   \n",
      "2    3             Antonio Moreno Taquería      Antonio Moreno   \n",
      "3    4                     Around the Horn        Thomas Hardy   \n",
      "4    5                  Berglunds snabbköp  Christina Berglund   \n",
      "..  ..                                 ...                 ...   \n",
      "86  87                      Wartian Herkku    Pirkko Koskitalo   \n",
      "87  88              Wellington Importadora       Paula Parente   \n",
      "88  89                White Clover Markets      Karl Jablonski   \n",
      "89  90                         Wilman Kala     Matti Karttunen   \n",
      "90  91                              Wolski             Zbyszek   \n",
      "\n",
      "                                3            4          5        6  \n",
      "0                   Obere Str. 57       Berlin      12209  Germany  \n",
      "1   Avda. de la Constitución 2222  México D.F.      05021   Mexico  \n",
      "2                  Mataderos 2312  México D.F.      05023   Mexico  \n",
      "3                 120 Hanover Sq.       London    WA1 1DP       UK  \n",
      "4                  Berguvsvägen 8        Luleå   S-958 22   Sweden  \n",
      "..                            ...          ...        ...      ...  \n",
      "86                    Torikatu 38         Oulu      90110  Finland  \n",
      "87             Rua do Mercado, 12      Resende  08737-363   Brazil  \n",
      "88    305 - 14th Ave. S. Suite 3B      Seattle      98128      USA  \n",
      "89                  Keskuskatu 45     Helsinki      21240  Finland  \n",
      "90                ul. Filtrowa 68        Walla     01-012     None  \n",
      "\n",
      "[91 rows x 7 columns]\n"
     ]
    }
   ],
   "source": [
    "query = \"\"\"\n",
    "SELECT * FROM Customers AS Persons;\n",
    "\"\"\"\n",
    "print_query_result(query)"
   ]
  },
  {
   "cell_type": "code",
   "execution_count": 261,
   "id": "f109004d",
   "metadata": {},
   "outputs": [
    {
     "name": "stdout",
     "output_type": "stream",
     "text": [
      "       0           1                2\n",
      "0  10355  11/15/1996  Around the Horn\n",
      "1  10383  12/16/1996  Around the Horn\n"
     ]
    }
   ],
   "source": [
    "query = \"\"\"\n",
    "SELECT o.OrderID, o.OrderDate, c.CustomerName\n",
    "FROM Customers AS c, Orders AS o\n",
    "WHERE c.CustomerName='Around the Horn' AND c.CustomerID=o.CustomerID;\n",
    "\"\"\"\n",
    "print_query_result(query)"
   ]
  },
  {
   "cell_type": "code",
   "execution_count": 262,
   "id": "3eec670b",
   "metadata": {},
   "outputs": [
    {
     "name": "stdout",
     "output_type": "stream",
     "text": [
      "       0           1                2\n",
      "0  10355  11/15/1996  Around the Horn\n",
      "1  10383  12/16/1996  Around the Horn\n"
     ]
    }
   ],
   "source": [
    "query = \"\"\"\n",
    "SELECT Orders.OrderID, Orders.OrderDate, Customers.CustomerName\n",
    "FROM Customers, Orders\n",
    "WHERE Customers.CustomerName='Around the Horn' AND Customers.CustomerID=Orders.CustomerID;\n",
    "\"\"\"\n",
    "print_query_result(query)"
   ]
  },
  {
   "cell_type": "markdown",
   "id": "c3a47906",
   "metadata": {},
   "source": [
    "## SQL JOIN"
   ]
  },
  {
   "cell_type": "code",
   "execution_count": 263,
   "id": "f99f71ff",
   "metadata": {},
   "outputs": [
    {
     "name": "stdout",
     "output_type": "stream",
     "text": [
      "         0                       1          2\n",
      "0    10248             Wilman Kala   7/4/1996\n",
      "1    10249  Tradição Hipermercados   7/5/1996\n",
      "2    10250           Hanari Carnes   7/8/1996\n",
      "3    10251    Victuailles en stock   7/8/1996\n",
      "4    10252        Suprêmes délices   7/9/1996\n",
      "..     ...                     ...        ...\n",
      "191  10439          Mère Paillarde   2/7/1997\n",
      "192  10440      Save-a-lot Markets  2/10/1997\n",
      "193  10441  Old World Delicatessen  2/10/1997\n",
      "194  10442            Ernst Handel  2/11/1997\n",
      "195  10443      Reggiani Caseifici  2/12/1997\n",
      "\n",
      "[196 rows x 3 columns]\n"
     ]
    }
   ],
   "source": [
    "query = \"\"\"\n",
    "SELECT Orders.OrderID, Customers.CustomerName, Orders.OrderDate\n",
    "FROM Orders\n",
    "INNER JOIN Customers ON Orders.CustomerID=Customers.CustomerID;\n",
    "\"\"\"\n",
    "print_query_result(query)"
   ]
  },
  {
   "cell_type": "markdown",
   "id": "3bedc502",
   "metadata": {},
   "source": [
    "## INNER JOIN"
   ]
  },
  {
   "cell_type": "code",
   "execution_count": 264,
   "id": "62ace010",
   "metadata": {},
   "outputs": [
    {
     "name": "stdout",
     "output_type": "stream",
     "text": [
      "     0                                1           2\n",
      "0    1                            Chais   Beverages\n",
      "1    2                            Chang   Beverages\n",
      "2    3                    Aniseed Syrup  Condiments\n",
      "3    4     Chef Anton's Cajun Seasoning  Condiments\n",
      "4    5           Chef Anton's Gumbo Mix  Condiments\n",
      "..  ..                              ...         ...\n",
      "72  73                       Röd Kaviar     Seafood\n",
      "73  74                    Longlife Tofu     Produce\n",
      "74  75             Rhönbräu Klosterbier   Beverages\n",
      "75  76                     Lakkalikööri   Beverages\n",
      "76  77  Original Frankfurter grüne Soße  Condiments\n",
      "\n",
      "[77 rows x 3 columns]\n"
     ]
    }
   ],
   "source": [
    "query = \"\"\"\n",
    "SELECT ProductID, ProductName, CategoryName\n",
    "FROM Products\n",
    "INNER JOIN Categories ON Products.CategoryID = Categories.CategoryID;\n",
    "\"\"\"\n",
    "print_query_result(query)"
   ]
  },
  {
   "cell_type": "markdown",
   "id": "b45e6803",
   "metadata": {},
   "source": [
    "## Naming the Columns"
   ]
  },
  {
   "cell_type": "code",
   "execution_count": 265,
   "id": "e056b66b",
   "metadata": {},
   "outputs": [
    {
     "name": "stdout",
     "output_type": "stream",
     "text": [
      "     0                                1           2\n",
      "0    1                            Chais   Beverages\n",
      "1    2                            Chang   Beverages\n",
      "2    3                    Aniseed Syrup  Condiments\n",
      "3    4     Chef Anton's Cajun Seasoning  Condiments\n",
      "4    5           Chef Anton's Gumbo Mix  Condiments\n",
      "..  ..                              ...         ...\n",
      "72  73                       Röd Kaviar     Seafood\n",
      "73  74                    Longlife Tofu     Produce\n",
      "74  75             Rhönbräu Klosterbier   Beverages\n",
      "75  76                     Lakkalikööri   Beverages\n",
      "76  77  Original Frankfurter grüne Soße  Condiments\n",
      "\n",
      "[77 rows x 3 columns]\n"
     ]
    }
   ],
   "source": [
    "query = \"\"\"\n",
    "SELECT Products.ProductID, Products.ProductName, Categories.CategoryName\n",
    "FROM Products\n",
    "INNER JOIN Categories ON Products.CategoryID = Categories.CategoryID;\n",
    "\"\"\"\n",
    "print_query_result(query)"
   ]
  },
  {
   "cell_type": "markdown",
   "id": "659567ad",
   "metadata": {},
   "source": [
    "## JOIN or INNER JOIN"
   ]
  },
  {
   "cell_type": "code",
   "execution_count": 266,
   "id": "43378d4f",
   "metadata": {},
   "outputs": [
    {
     "name": "stdout",
     "output_type": "stream",
     "text": [
      "     0                                1           2\n",
      "0    1                            Chais   Beverages\n",
      "1    2                            Chang   Beverages\n",
      "2    3                    Aniseed Syrup  Condiments\n",
      "3    4     Chef Anton's Cajun Seasoning  Condiments\n",
      "4    5           Chef Anton's Gumbo Mix  Condiments\n",
      "..  ..                              ...         ...\n",
      "72  73                       Röd Kaviar     Seafood\n",
      "73  74                    Longlife Tofu     Produce\n",
      "74  75             Rhönbräu Klosterbier   Beverages\n",
      "75  76                     Lakkalikööri   Beverages\n",
      "76  77  Original Frankfurter grüne Soße  Condiments\n",
      "\n",
      "[77 rows x 3 columns]\n"
     ]
    }
   ],
   "source": [
    "query = \"\"\"\n",
    "SELECT Products.ProductID, Products.ProductName, Categories.CategoryName\n",
    "FROM Products\n",
    "JOIN Categories ON Products.CategoryID = Categories.CategoryID;\n",
    "\"\"\"\n",
    "print_query_result(query)"
   ]
  },
  {
   "cell_type": "markdown",
   "id": "a2d9f1fd",
   "metadata": {},
   "source": [
    "## JOIN Three Tables"
   ]
  },
  {
   "cell_type": "code",
   "execution_count": 267,
   "id": "341fe5ee",
   "metadata": {},
   "outputs": [
    {
     "name": "stdout",
     "output_type": "stream",
     "text": [
      "         0                       1                 2\n",
      "0    10248             Wilman Kala  Federal Shipping\n",
      "1    10249  Tradição Hipermercados    Speedy Express\n",
      "2    10250           Hanari Carnes    United Package\n",
      "3    10251    Victuailles en stock    Speedy Express\n",
      "4    10252        Suprêmes délices    United Package\n",
      "..     ...                     ...               ...\n",
      "191  10439          Mère Paillarde  Federal Shipping\n",
      "192  10440      Save-a-lot Markets    United Package\n",
      "193  10441  Old World Delicatessen    United Package\n",
      "194  10442            Ernst Handel    United Package\n",
      "195  10443      Reggiani Caseifici    Speedy Express\n",
      "\n",
      "[196 rows x 3 columns]\n"
     ]
    }
   ],
   "source": [
    "query = \"\"\"\n",
    "SELECT Orders.OrderID, Customers.CustomerName, Shippers.ShipperName\n",
    "FROM ((Orders\n",
    "INNER JOIN Customers ON Orders.CustomerID = Customers.CustomerID)\n",
    "INNER JOIN Shippers ON Orders.ShipperID = Shippers.ShipperID);\n",
    "\"\"\"\n",
    "print_query_result(query)"
   ]
  },
  {
   "cell_type": "markdown",
   "id": "c7be1c01",
   "metadata": {},
   "source": [
    "## SQL LEFT JOIN "
   ]
  },
  {
   "cell_type": "code",
   "execution_count": 268,
   "id": "d596a97b",
   "metadata": {},
   "outputs": [
    {
     "name": "stdout",
     "output_type": "stream",
     "text": [
      "                                      0        1\n",
      "0                   Alfreds Futterkiste      NaN\n",
      "1    Ana Trujillo Emparedados y helados  10308.0\n",
      "2               Antonio Moreno Taquería  10365.0\n",
      "3                       Around the Horn  10355.0\n",
      "4                       Around the Horn  10383.0\n",
      "..                                  ...      ...\n",
      "208              Wellington Importadora  10420.0\n",
      "209                White Clover Markets  10269.0\n",
      "210                White Clover Markets  10344.0\n",
      "211                         Wilman Kala  10248.0\n",
      "212                              Wolski  10374.0\n",
      "\n",
      "[213 rows x 2 columns]\n"
     ]
    }
   ],
   "source": [
    "query = \"\"\"\n",
    "SELECT Customers.CustomerName, Orders.OrderID\n",
    "FROM Customers\n",
    "LEFT JOIN Orders ON Customers.CustomerID = Orders.CustomerID\n",
    "ORDER BY Customers.CustomerName;\n",
    "\"\"\"\n",
    "print_query_result(query)"
   ]
  },
  {
   "cell_type": "markdown",
   "id": "ee0ceebe",
   "metadata": {},
   "source": [
    "## RIGHT JOIN "
   ]
  },
  {
   "cell_type": "code",
   "execution_count": 269,
   "id": "743500f8",
   "metadata": {},
   "outputs": [
    {
     "name": "stdout",
     "output_type": "stream",
     "text": [
      "           0          1         2\n",
      "0        NaN       West      Adam\n",
      "1    10248.0   Buchanan    Steven\n",
      "2    10249.0     Suyama   Michael\n",
      "3    10250.0    Peacock  Margaret\n",
      "4    10251.0  Leverling     Janet\n",
      "..       ...        ...       ...\n",
      "192  10439.0     Suyama   Michael\n",
      "193  10440.0    Peacock  Margaret\n",
      "194  10441.0  Leverling     Janet\n",
      "195  10442.0  Leverling     Janet\n",
      "196  10443.0   Callahan     Laura\n",
      "\n",
      "[197 rows x 3 columns]\n"
     ]
    }
   ],
   "source": [
    "query = \"\"\"\n",
    "SELECT Orders.OrderID, Employees.LastName, Employees.FirstName\n",
    "FROM Orders\n",
    "RIGHT JOIN Employees ON Orders.EmployeeID = Employees.EmployeeID\n",
    "ORDER BY Orders.OrderID;\n",
    "\"\"\"\n",
    "print_query_result(query)"
   ]
  },
  {
   "cell_type": "markdown",
   "id": "0576b1b8",
   "metadata": {},
   "source": [
    "## FULL OUTER JOIN"
   ]
  },
  {
   "cell_type": "code",
   "execution_count": 270,
   "id": "a2376092",
   "metadata": {},
   "outputs": [
    {
     "name": "stdout",
     "output_type": "stream",
     "text": [
      "                                      0        1\n",
      "0                   Alfreds Futterkiste      NaN\n",
      "1    Ana Trujillo Emparedados y helados  10308.0\n",
      "2               Antonio Moreno Taquería  10365.0\n",
      "3                       Around the Horn  10355.0\n",
      "4                       Around the Horn  10383.0\n",
      "..                                  ...      ...\n",
      "208              Wellington Importadora  10420.0\n",
      "209                White Clover Markets  10269.0\n",
      "210                White Clover Markets  10344.0\n",
      "211                         Wilman Kala  10248.0\n",
      "212                              Wolski  10374.0\n",
      "\n",
      "[213 rows x 2 columns]\n"
     ]
    }
   ],
   "source": [
    "query = \"\"\"\n",
    "SELECT Customers.CustomerName, Orders.OrderID\n",
    "FROM Customers\n",
    "FULL OUTER JOIN Orders ON Customers.CustomerID=Orders.CustomerID\n",
    "ORDER BY Customers.CustomerName;\n",
    "\"\"\"\n",
    "print_query_result(query)"
   ]
  },
  {
   "cell_type": "markdown",
   "id": "14e0d400",
   "metadata": {},
   "source": [
    "## Self Join"
   ]
  },
  {
   "cell_type": "code",
   "execution_count": 271,
   "id": "1fd7935d",
   "metadata": {},
   "outputs": [
    {
     "name": "stdout",
     "output_type": "stream",
     "text": [
      "                             0                           1             2\n",
      "0   Cactus Comidas para llevar      Océano Atlántico Ltda.  Buenos Aires\n",
      "1   Cactus Comidas para llevar               Rancho grande  Buenos Aires\n",
      "2       Océano Atlántico Ltda.  Cactus Comidas para llevar  Buenos Aires\n",
      "3       Océano Atlántico Ltda.               Rancho grande  Buenos Aires\n",
      "4                Rancho grande  Cactus Comidas para llevar  Buenos Aires\n",
      "..                         ...                         ...           ...\n",
      "83               Queen Cozinha          Familia Arquibaldo     São Paulo\n",
      "84               Queen Cozinha      Tradição Hipermercados     São Paulo\n",
      "85      Tradição Hipermercados            Comércio Mineiro     São Paulo\n",
      "86      Tradição Hipermercados          Familia Arquibaldo     São Paulo\n",
      "87      Tradição Hipermercados               Queen Cozinha     São Paulo\n",
      "\n",
      "[88 rows x 3 columns]\n"
     ]
    }
   ],
   "source": [
    "query = \"\"\"\n",
    "SELECT A.CustomerName AS CustomerName1, B.CustomerName AS CustomerName2, A.City\n",
    "FROM Customers A, Customers B\n",
    "WHERE A.CustomerID <> B.CustomerID\n",
    "AND A.City = B.City\n",
    "ORDER BY A.City;\n",
    "\"\"\"\n",
    "print_query_result(query)"
   ]
  },
  {
   "cell_type": "markdown",
   "id": "78da607c",
   "metadata": {},
   "source": [
    "## UNION Operator"
   ]
  },
  {
   "cell_type": "code",
   "execution_count": 272,
   "id": "402deeb8",
   "metadata": {},
   "outputs": [
    {
     "name": "stdout",
     "output_type": "stream",
     "text": [
      "              0\n",
      "0        Aachen\n",
      "1   Albuquerque\n",
      "2     Anchorage\n",
      "3     Ann Arbor\n",
      "4        Annecy\n",
      "..          ...\n",
      "89   Versailles\n",
      "90        Walla\n",
      "91  Walla Walla\n",
      "92      Zaandam\n",
      "93        Århus\n",
      "\n",
      "[94 rows x 1 columns]\n"
     ]
    }
   ],
   "source": [
    "query = \"\"\"\n",
    "SELECT City FROM Customers\n",
    "UNION\n",
    "SELECT City FROM Suppliers\n",
    "ORDER BY City;\n",
    "\"\"\"\n",
    "print_query_result(query)"
   ]
  },
  {
   "cell_type": "markdown",
   "id": "205b1884",
   "metadata": {},
   "source": [
    "## UNION ALL"
   ]
  },
  {
   "cell_type": "code",
   "execution_count": 273,
   "id": "2352dad1",
   "metadata": {},
   "outputs": [
    {
     "name": "stdout",
     "output_type": "stream",
     "text": [
      "               0\n",
      "0         Aachen\n",
      "1    Albuquerque\n",
      "2      Anchorage\n",
      "3      Ann Arbor\n",
      "4         Annecy\n",
      "..           ...\n",
      "115   Versailles\n",
      "116        Walla\n",
      "117  Walla Walla\n",
      "118      Zaandam\n",
      "119        Århus\n",
      "\n",
      "[120 rows x 1 columns]\n"
     ]
    }
   ],
   "source": [
    "query = \"\"\"\n",
    "SELECT City FROM Customers\n",
    "UNION ALL\n",
    "SELECT City FROM Suppliers\n",
    "ORDER BY City;\n",
    "\"\"\"\n",
    "print_query_result(query)"
   ]
  },
  {
   "cell_type": "markdown",
   "id": "aa49f295",
   "metadata": {},
   "source": [
    "## UNION With WHERE"
   ]
  },
  {
   "cell_type": "code",
   "execution_count": 274,
   "id": "d3961328",
   "metadata": {},
   "outputs": [
    {
     "name": "stdout",
     "output_type": "stream",
     "text": [
      "                  0        1\n",
      "0            Aachen  Germany\n",
      "1            Berlin  Germany\n",
      "2       Brandenburg  Germany\n",
      "3         Cunewalde  Germany\n",
      "4          Cuxhaven  Germany\n",
      "5         Frankfurt  Germany\n",
      "6   Frankfurt a.M.   Germany\n",
      "7              Köln  Germany\n",
      "8           Leipzig  Germany\n",
      "9          Mannheim  Germany\n",
      "10          München  Germany\n",
      "11          Münster  Germany\n",
      "12        Stuttgart  Germany\n"
     ]
    }
   ],
   "source": [
    "query = \"\"\"\n",
    "SELECT City, Country FROM Customers\n",
    "WHERE Country='Germany'\n",
    "UNION\n",
    "SELECT City, Country FROM Suppliers\n",
    "WHERE Country='Germany'\n",
    "ORDER BY City;\n",
    "\"\"\"\n",
    "print_query_result(query)"
   ]
  },
  {
   "cell_type": "markdown",
   "id": "777360ba",
   "metadata": {},
   "source": [
    "## UNION ALL With WHERE"
   ]
  },
  {
   "cell_type": "code",
   "execution_count": 275,
   "id": "157fd687",
   "metadata": {},
   "outputs": [
    {
     "name": "stdout",
     "output_type": "stream",
     "text": [
      "                  0        1\n",
      "0            Aachen  Germany\n",
      "1            Berlin  Germany\n",
      "2            Berlin  Germany\n",
      "3       Brandenburg  Germany\n",
      "4         Cunewalde  Germany\n",
      "5          Cuxhaven  Germany\n",
      "6         Frankfurt  Germany\n",
      "7   Frankfurt a.M.   Germany\n",
      "8              Köln  Germany\n",
      "9           Leipzig  Germany\n",
      "10         Mannheim  Germany\n",
      "11          München  Germany\n",
      "12          Münster  Germany\n",
      "13        Stuttgart  Germany\n"
     ]
    }
   ],
   "source": [
    "query = \"\"\"\n",
    "SELECT City, Country FROM Customers\n",
    "WHERE Country='Germany'\n",
    "UNION ALL\n",
    "SELECT City, Country FROM Suppliers\n",
    "WHERE Country='Germany'\n",
    "ORDER BY City;\n",
    "\"\"\"\n",
    "print_query_result(query)"
   ]
  },
  {
   "cell_type": "markdown",
   "id": "0d9eeb94",
   "metadata": {},
   "source": [
    "## Another UNION Example"
   ]
  },
  {
   "cell_type": "code",
   "execution_count": 276,
   "id": "62fb99e8",
   "metadata": {},
   "outputs": [
    {
     "name": "stdout",
     "output_type": "stream",
     "text": [
      "            0                  1            2          3\n",
      "0    Customer   Alejandra Camino       Madrid      Spain\n",
      "1    Customer    Alexander Feuer      Leipzig    Germany\n",
      "2    Customer       Ana Trujillo  México D.F.     Mexico\n",
      "3    Customer  Anabela Domingues    São Paulo     Brazil\n",
      "4    Customer      André Fonseca     Campinas     Brazil\n",
      "..        ...                ...          ...        ...\n",
      "115  Supplier      Robb Merchant       Boston        USA\n",
      "116  Supplier      Shelley Burke  New Orleans        USA\n",
      "117  Supplier      Sven Petersen     Cuxhaven    Germany\n",
      "118  Supplier    Wendy Mackenzie       Sydney  Australia\n",
      "119  Supplier       Yoshi Nagase        Tokyo      Japan\n",
      "\n",
      "[120 rows x 4 columns]\n"
     ]
    }
   ],
   "source": [
    "query = \"\"\"\n",
    "SELECT 'Customer' AS Type, ContactName, City, Country\n",
    "FROM Customers\n",
    "UNION\n",
    "SELECT 'Supplier', ContactName, City, Country\n",
    "FROM Suppliers;\n",
    "\"\"\"\n",
    "print_query_result(query)"
   ]
  },
  {
   "cell_type": "markdown",
   "id": "569fbfbf",
   "metadata": {},
   "source": [
    "## GROUP BY Statement"
   ]
  },
  {
   "cell_type": "code",
   "execution_count": 277,
   "id": "b2ab4a21",
   "metadata": {},
   "outputs": [
    {
     "name": "stdout",
     "output_type": "stream",
     "text": [
      "     0            1\n",
      "0    1         None\n",
      "1    3    Argentina\n",
      "2    2      Austria\n",
      "3    2      Belgium\n",
      "4    9       Brazil\n",
      "5    3       Canada\n",
      "6    2      Denmark\n",
      "7    2      Finland\n",
      "8   11       France\n",
      "9   11      Germany\n",
      "10   1      Ireland\n",
      "11   3        Italy\n",
      "12   5       Mexico\n",
      "13   1       Norway\n",
      "14   2     Portugal\n",
      "15   5        Spain\n",
      "16   2       Sweden\n",
      "17   2  Switzerland\n",
      "18   7           UK\n",
      "19  13          USA\n",
      "20   4    Venezuela\n"
     ]
    }
   ],
   "source": [
    "query = \"\"\"\n",
    "SELECT COUNT(CustomerID), Country\n",
    "FROM Customers\n",
    "GROUP BY Country;\n",
    "\"\"\"\n",
    "print_query_result(query)"
   ]
  },
  {
   "cell_type": "code",
   "execution_count": 278,
   "id": "a4b2327e",
   "metadata": {},
   "outputs": [
    {
     "name": "stdout",
     "output_type": "stream",
     "text": [
      "     0            1\n",
      "0   13          USA\n",
      "1   11      Germany\n",
      "2   11       France\n",
      "3    9       Brazil\n",
      "4    7           UK\n",
      "5    5        Spain\n",
      "6    5       Mexico\n",
      "7    4    Venezuela\n",
      "8    3        Italy\n",
      "9    3       Canada\n",
      "10   3    Argentina\n",
      "11   2  Switzerland\n",
      "12   2       Sweden\n",
      "13   2     Portugal\n",
      "14   2      Finland\n",
      "15   2      Denmark\n",
      "16   2      Belgium\n",
      "17   2      Austria\n",
      "18   1       Norway\n",
      "19   1      Ireland\n",
      "20   1         None\n"
     ]
    }
   ],
   "source": [
    "query = \"\"\"\n",
    "SELECT COUNT(CustomerID), Country\n",
    "FROM Customers\n",
    "GROUP BY Country\n",
    "ORDER BY COUNT(CustomerID) DESC;\n",
    "\"\"\"\n",
    "print_query_result(query)"
   ]
  },
  {
   "cell_type": "markdown",
   "id": "81615566",
   "metadata": {},
   "source": [
    "## GROUP BY With JOIN"
   ]
  },
  {
   "cell_type": "code",
   "execution_count": 279,
   "id": "44f4697e",
   "metadata": {},
   "outputs": [
    {
     "name": "stdout",
     "output_type": "stream",
     "text": [
      "                  0   1\n",
      "0  Federal Shipping  68\n",
      "1    Speedy Express  54\n",
      "2    United Package  74\n"
     ]
    }
   ],
   "source": [
    "query = \"\"\"\n",
    "SELECT Shippers.ShipperName, COUNT(Orders.OrderID) AS NumberOfOrders FROM Orders\n",
    "LEFT JOIN Shippers ON Orders.ShipperID = Shippers.ShipperID\n",
    "GROUP BY ShipperName;\n",
    "\"\"\"\n",
    "print_query_result(query)"
   ]
  },
  {
   "cell_type": "markdown",
   "id": "5733f48f",
   "metadata": {},
   "source": [
    "## HAVING"
   ]
  },
  {
   "cell_type": "code",
   "execution_count": 280,
   "id": "9181457e",
   "metadata": {},
   "outputs": [
    {
     "name": "stdout",
     "output_type": "stream",
     "text": [
      "    0        1\n",
      "0   9   Brazil\n",
      "1  11   France\n",
      "2  11  Germany\n",
      "3   7       UK\n",
      "4  13      USA\n"
     ]
    }
   ],
   "source": [
    "query = \"\"\"\n",
    "SELECT COUNT(CustomerID), Country\n",
    "FROM Customers\n",
    "GROUP BY Country\n",
    "HAVING COUNT(CustomerID) > 5;\n",
    "\"\"\"\n",
    "print_query_result(query)"
   ]
  },
  {
   "cell_type": "code",
   "execution_count": 281,
   "id": "b42847b5",
   "metadata": {},
   "outputs": [
    {
     "name": "stdout",
     "output_type": "stream",
     "text": [
      "    0        1\n",
      "0  13      USA\n",
      "1  11  Germany\n",
      "2  11   France\n",
      "3   9   Brazil\n",
      "4   7       UK\n"
     ]
    }
   ],
   "source": [
    "query = \"\"\"\n",
    "SELECT COUNT(CustomerID), Country\n",
    "FROM Customers\n",
    "GROUP BY Country\n",
    "HAVING COUNT(CustomerID) > 5\n",
    "ORDER BY COUNT(CustomerID) DESC;\n",
    "\"\"\"\n",
    "print_query_result(query)"
   ]
  },
  {
   "cell_type": "markdown",
   "id": "2406414b",
   "metadata": {},
   "source": [
    "## More HAVING Examples\n"
   ]
  },
  {
   "cell_type": "code",
   "execution_count": 282,
   "id": "86a1278e",
   "metadata": {},
   "outputs": [
    {
     "name": "stdout",
     "output_type": "stream",
     "text": [
      "           0   1\n",
      "0   Buchanan  11\n",
      "1   Callahan  27\n",
      "2    Davolio  29\n",
      "3     Fuller  20\n",
      "4       King  14\n",
      "5  Leverling  31\n",
      "6    Peacock  40\n",
      "7     Suyama  18\n"
     ]
    }
   ],
   "source": [
    "query = \"\"\"\n",
    "SELECT Employees.LastName, COUNT(Orders.OrderID) AS NumberOfOrders\n",
    "FROM (Orders\n",
    "INNER JOIN Employees ON Orders.EmployeeID = Employees.EmployeeID)\n",
    "GROUP BY LastName\n",
    "HAVING COUNT(Orders.OrderID) > 10;\n",
    "\"\"\"\n",
    "print_query_result(query)"
   ]
  },
  {
   "cell_type": "code",
   "execution_count": 283,
   "id": "19e09965",
   "metadata": {},
   "outputs": [
    {
     "name": "stdout",
     "output_type": "stream",
     "text": [
      "         0   1\n",
      "0  Davolio  29\n"
     ]
    }
   ],
   "source": [
    "query = \"\"\"\n",
    "SELECT Employees.LastName, COUNT(Orders.OrderID) AS NumberOfOrders\n",
    "FROM Orders\n",
    "INNER JOIN Employees ON Orders.EmployeeID = Employees.EmployeeID\n",
    "WHERE LastName = 'Davolio' OR LastName = 'Fuller'\n",
    "GROUP BY LastName\n",
    "HAVING COUNT(Orders.OrderID) > 25;\n",
    "\"\"\"\n",
    "print_query_result(query)"
   ]
  },
  {
   "cell_type": "markdown",
   "id": "1c9f1d28",
   "metadata": {},
   "source": [
    "## EXISTS "
   ]
  },
  {
   "cell_type": "code",
   "execution_count": 284,
   "id": "377594de",
   "metadata": {},
   "outputs": [
    {
     "name": "stdout",
     "output_type": "stream",
     "text": [
      "                                    0\n",
      "0                       Exotic Liquid\n",
      "1          New Orleans Cajun Delights\n",
      "2                       Tokyo Traders\n",
      "3                            Mayumi's\n",
      "4                       Pavlova, Ltd.\n",
      "5            Specialty Biscuits, Ltd.\n",
      "6                    PB Knäckebröd AB\n",
      "7           Refrescos Americanas LTDA\n",
      "8         Heli Süßwaren GmbH & Co. KG\n",
      "9   Plutzer Lebensmittelgroßmärkte AG\n",
      "10            Formaggi Fortini s.r.l.\n",
      "11                    Norske Meierier\n",
      "12                  Bigfoot Breweries\n",
      "13                  Svensk Sjöföda AB\n",
      "14         Aux joyeux ecclésiastiques\n",
      "15        New England Seafood Cannery\n",
      "16                       Leka Trading\n",
      "17                         Lyngbysild\n",
      "18                Zaanse Snoepfabriek\n",
      "19                          Karkki Oy\n",
      "20                        G'day, Mate\n",
      "21                          Ma Maison\n",
      "22               Pasta Buttini s.r.l.\n",
      "23                 Escargots Nouveaux\n"
     ]
    }
   ],
   "source": [
    "query = \"\"\"\n",
    "SELECT SupplierName\n",
    "FROM Suppliers\n",
    "WHERE EXISTS (SELECT ProductName FROM Products WHERE Products.SupplierID = Suppliers.supplierID AND Price < 20);\n",
    "\"\"\"\n",
    "print_query_result(query)"
   ]
  },
  {
   "cell_type": "code",
   "execution_count": 285,
   "id": "cee537aa",
   "metadata": {},
   "outputs": [
    {
     "name": "stdout",
     "output_type": "stream",
     "text": [
      "                            0\n",
      "0  New Orleans Cajun Delights\n"
     ]
    }
   ],
   "source": [
    "query = \"\"\"\n",
    "SELECT SupplierName\n",
    "FROM Suppliers\n",
    "WHERE EXISTS (SELECT ProductName FROM Products WHERE Products.SupplierID = Suppliers.supplierID AND Price = 22);\n",
    "\"\"\"\n",
    "print_query_result(query)"
   ]
  },
  {
   "cell_type": "markdown",
   "id": "d1bb8a86",
   "metadata": {},
   "source": [
    "## ANY"
   ]
  },
  {
   "cell_type": "code",
   "execution_count": 286,
   "id": "1009fe25",
   "metadata": {},
   "outputs": [
    {
     "name": "stdout",
     "output_type": "stream",
     "text": [
      "                                   0\n",
      "0                              Chais\n",
      "1                              Chang\n",
      "2       Chef Anton's Cajun Seasoning\n",
      "3    Uncle Bob's Organic Dried Pears\n",
      "4                              Konbu\n",
      "5                               Tofu\n",
      "6                            Pavlova\n",
      "7         Teatime Chocolate Biscuits\n",
      "8                Sir Rodney's Scones\n",
      "9                 Guaraná Fantástica\n",
      "10           NuNuCa Nuß-Nougat-Creme\n",
      "11               Gumbär Gummibärchen\n",
      "12           Thüringer Rostbratwurst\n",
      "13             Nord-Ost Matjeshering\n",
      "14                     Sasquatch Ale\n",
      "15                    Steeleye Stout\n",
      "16                        Gravad lax\n",
      "17                     Côte de Blaye\n",
      "18                  Boston Crab Meat\n",
      "19   Jack's New England Clam Chowder\n",
      "20     Singaporean Hokkien Fried Mee\n",
      "21                     Perth Pasties\n",
      "22                         Tourtière\n",
      "23                      Pâté chinois\n",
      "24              Raclette Courdavault\n",
      "25                    Tarte au sucre\n",
      "26  Louisiana Fiery Hot Pepper Sauce\n",
      "27               Scottish Longbreads\n",
      "28            Mozzarella di Giovanni\n",
      "29              Rhönbräu Klosterbier\n",
      "30   Original Frankfurter grüne Soße\n"
     ]
    }
   ],
   "source": [
    "query = \"\"\"\n",
    "SELECT ProductName\n",
    "FROM Products\n",
    "WHERE ProductID = ANY(\n",
    "SELECT ProductID\n",
    "FROM OrderDetails\n",
    "WHERE Quantity = 10);\n",
    "\"\"\"\n",
    "\n",
    "# sqlite에선 위와 같은 ANY는 지원하지 않음 !\n",
    "# IN을 이용한 쿼리로 변경\n",
    "\n",
    "query = \"\"\"\n",
    "SELECT ProductName\n",
    "FROM Products\n",
    "WHERE ProductID IN (\n",
    "SELECT ProductID\n",
    "FROM OrderDetails\n",
    "WHERE Quantity = 10\n",
    ");\n",
    "\"\"\"\n",
    "print_query_result(query)"
   ]
  },
  {
   "cell_type": "code",
   "execution_count": 287,
   "id": "a4a5ae87",
   "metadata": {},
   "outputs": [
    {
     "name": "stdout",
     "output_type": "stream",
     "text": [
      "                0\n",
      "0  Steeleye Stout\n",
      "1    Pâté chinois\n"
     ]
    }
   ],
   "source": [
    "query = \"\"\"\n",
    "SELECT ProductName\n",
    "FROM Products\n",
    "WHERE ProductID = ANY\n",
    "(SELECT ProductID\n",
    "FROM OrderDetails\n",
    "WHERE Quantity > 99);\n",
    "\"\"\"\n",
    "# 마찬가지 !\n",
    "query = \"\"\"\n",
    "SELECT ProductName\n",
    "FROM Products\n",
    "WHERE ProductID IN\n",
    "(SELECT ProductID\n",
    "FROM OrderDetails\n",
    "WHERE Quantity > 99);\n",
    "\"\"\"\n",
    "print_query_result(query)"
   ]
  },
  {
   "cell_type": "code",
   "execution_count": 288,
   "id": "2ad5b6c6",
   "metadata": {},
   "outputs": [
    {
     "name": "stdout",
     "output_type": "stream",
     "text": [
      "Empty DataFrame\n",
      "Columns: []\n",
      "Index: []\n"
     ]
    }
   ],
   "source": [
    "query = \"\"\"\n",
    "SELECT ProductName\n",
    "FROM Products\n",
    "WHERE ProductID = ANY\n",
    "(SELECT ProductID\n",
    "FROM OrderDetails\n",
    "WHERE Quantity > 1000);\n",
    "\"\"\"\n",
    "# 마찬가지\n",
    "query = \"\"\"\n",
    "SELECT ProductName\n",
    "FROM Products\n",
    "WHERE ProductID IN\n",
    "(SELECT ProductID\n",
    "FROM OrderDetails\n",
    "WHERE Quantity > 1000);\n",
    "\"\"\"\n",
    "\n",
    "print_query_result(query)"
   ]
  },
  {
   "cell_type": "markdown",
   "id": "cbacbdb9",
   "metadata": {},
   "source": [
    "## ALL"
   ]
  },
  {
   "cell_type": "code",
   "execution_count": 289,
   "id": "3ae97b4e",
   "metadata": {},
   "outputs": [
    {
     "name": "stdout",
     "output_type": "stream",
     "text": [
      "                                  0\n",
      "0                             Chais\n",
      "1                             Chang\n",
      "2                     Aniseed Syrup\n",
      "3      Chef Anton's Cajun Seasoning\n",
      "4            Chef Anton's Gumbo Mix\n",
      "..                              ...\n",
      "72                       Röd Kaviar\n",
      "73                    Longlife Tofu\n",
      "74             Rhönbräu Klosterbier\n",
      "75                     Lakkalikööri\n",
      "76  Original Frankfurter grüne Soße\n",
      "\n",
      "[77 rows x 1 columns]\n"
     ]
    }
   ],
   "source": [
    "query = \"\"\"\n",
    "SELECT ALL ProductName\n",
    "FROM Products\n",
    "WHERE TRUE;\n",
    "\"\"\"\n",
    "# 이건 됨\n",
    "print_query_result(query)"
   ]
  },
  {
   "cell_type": "code",
   "execution_count": 290,
   "id": "ded971a6",
   "metadata": {},
   "outputs": [
    {
     "name": "stdout",
     "output_type": "stream",
     "text": [
      "Empty DataFrame\n",
      "Columns: []\n",
      "Index: []\n"
     ]
    }
   ],
   "source": [
    "query = \"\"\"\n",
    "SELECT ProductName\n",
    "FROM Products\n",
    "WHERE ProductID = ALL\n",
    "(SELECT ProductID\n",
    "FROM OrderDetails\n",
    "WHERE Quantity = 10);\n",
    "\"\"\"\n",
    "# 이건 안됨\n",
    "query = \"\"\"\n",
    "SELECT ProductName\n",
    "FROM Products\n",
    "WHERE ProductID NOT IN (\n",
    "SELECT ProductID\n",
    "FROM OrderDetails\n",
    "WHERE Quantity <> 10\n",
    ");\n",
    "\"\"\"\n",
    "print_query_result(query)"
   ]
  },
  {
   "cell_type": "markdown",
   "id": "bdef2354",
   "metadata": {},
   "source": [
    "## SELECT INTO"
   ]
  },
  {
   "cell_type": "code",
   "execution_count": 291,
   "id": "8d39786b",
   "metadata": {},
   "outputs": [
    {
     "name": "stdout",
     "output_type": "stream",
     "text": [
      "이미 있음\n"
     ]
    }
   ],
   "source": [
    "query = \"\"\"\n",
    "SELECT * INTO CustomersBackup2017\n",
    "FROM Customers;\n",
    "\"\"\"\n",
    "\n",
    "# sqlite는 SELECT INTO 지원 안 함 !\n",
    "# 백업을 할거다 ? => 테이블을 하나 더 만들자\n",
    "\n",
    "query = \"\"\"\n",
    "CREATE TABLE CustomersBackup2017 AS SELECT * FROM Customers;\n",
    "\"\"\"\n",
    "cursor = conn.cursor()\n",
    "\n",
    "try:\n",
    "    print_query_result(query)\n",
    "except sqlite3.Error as e:\n",
    "    print('이미 있음')"
   ]
  },
  {
   "cell_type": "markdown",
   "id": "b152d33f",
   "metadata": {},
   "source": [
    "## INSERT INTO "
   ]
  },
  {
   "cell_type": "code",
   "execution_count": 292,
   "id": "b0c12df1",
   "metadata": {},
   "outputs": [
    {
     "name": "stdout",
     "output_type": "stream",
     "text": [
      "Empty DataFrame\n",
      "Columns: []\n",
      "Index: []\n"
     ]
    }
   ],
   "source": [
    "query = \"\"\"\n",
    "INSERT INTO Customers (CustomerName, City, Country)\n",
    "SELECT SupplierName, City, Country FROM Suppliers;\n",
    "\"\"\"\n",
    "print_query_result(query)"
   ]
  },
  {
   "cell_type": "code",
   "execution_count": 293,
   "id": "c77bdd6f",
   "metadata": {},
   "outputs": [
    {
     "name": "stdout",
     "output_type": "stream",
     "text": [
      "Empty DataFrame\n",
      "Columns: []\n",
      "Index: []\n"
     ]
    }
   ],
   "source": [
    "query = \"\"\"\n",
    "INSERT INTO Customers (CustomerName, ContactName, Address, City, PostalCode, Country)\n",
    "SELECT SupplierName, ContactName, Address, City, PostalCode, Country FROM Suppliers;\n",
    "\"\"\"\n",
    "print_query_result(query)"
   ]
  },
  {
   "cell_type": "code",
   "execution_count": 294,
   "id": "8175341e",
   "metadata": {},
   "outputs": [
    {
     "name": "stdout",
     "output_type": "stream",
     "text": [
      "Empty DataFrame\n",
      "Columns: []\n",
      "Index: []\n"
     ]
    }
   ],
   "source": [
    "query = \"\"\"\n",
    "INSERT INTO Customers (CustomerName, City, Country)\n",
    "SELECT SupplierName, City, Country FROM Suppliers\n",
    "WHERE Country='Germany';\n",
    "\"\"\"\n",
    "print_query_result(query)"
   ]
  },
  {
   "cell_type": "markdown",
   "id": "6636759b",
   "metadata": {},
   "source": [
    "## CASE "
   ]
  },
  {
   "cell_type": "code",
   "execution_count": 295,
   "id": "51dc0ab3",
   "metadata": {},
   "outputs": [
    {
     "name": "stdout",
     "output_type": "stream",
     "text": [
      "                                0             1          2\n",
      "0       Drachenblut Delikatessend        Aachen    Germany\n",
      "1      Rattlesnake Canyon Grocery   Albuquerque        USA\n",
      "2          Old World Delicatessen     Anchorage        USA\n",
      "3          Galería del gastrónomo     Barcelona      Spain\n",
      "4               LILA-Supermercado  Barquisimeto  Venezuela\n",
      "..                            ...           ...        ...\n",
      "86  Laughing Bacchus Wine Cellars     Vancouver     Canada\n",
      "87           La corne d'abondance    Versailles     France\n",
      "88                         Wolski         Walla       None\n",
      "89           Lazy K Kountry Store   Walla Walla        USA\n",
      "90                   Vaffeljernet         Århus    Denmark\n",
      "\n",
      "[91 rows x 3 columns]\n"
     ]
    }
   ],
   "source": [
    "query = \"\"\"\n",
    "SELECT CustomerName, City, Country\n",
    "FROM Customers\n",
    "ORDER BY\n",
    "(CASE\n",
    "    WHEN City IS NULL THEN Country\n",
    "    ELSE City\n",
    "END);\n",
    "\"\"\"\n",
    "print_query_result(query)"
   ]
  },
  {
   "cell_type": "markdown",
   "id": "e0e10415",
   "metadata": {},
   "source": [
    "## IFNULL(), ISNULL(), COALESCE(), and NVL()"
   ]
  },
  {
   "cell_type": "code",
   "execution_count": 296,
   "id": "1132332c",
   "metadata": {},
   "outputs": [
    {
     "name": "stdout",
     "output_type": "stream",
     "text": [
      "no such column: UnitsPrice\n",
      "이미 함ㅋㅋ, 닫는다?\n",
      "                                  0     1\n",
      "0                             Chais  None\n",
      "1                             Chang  None\n",
      "2                     Aniseed Syrup  None\n",
      "3      Chef Anton's Cajun Seasoning  None\n",
      "4            Chef Anton's Gumbo Mix  None\n",
      "..                              ...   ...\n",
      "72                       Röd Kaviar  None\n",
      "73                    Longlife Tofu  None\n",
      "74             Rhönbräu Klosterbier  None\n",
      "75                     Lakkalikööri  None\n",
      "76  Original Frankfurter grüne Soße  None\n",
      "\n",
      "[77 rows x 2 columns]\n"
     ]
    }
   ],
   "source": [
    "# Products 테이블에는 UnitsInStock,UnitsInStock 컬럼이 없다 !\n",
    "# 만들어주자 !\n",
    "## 완전 썡처음부터\n",
    "import sqlite3\n",
    "try: \n",
    "    conn = sqlite3.connect('database.db')\n",
    "    cursor = conn.cursor()\n",
    "    cursor.execute(\"ALTER TABLE Products ADD COLUMN UnitPrice INTEGER;\")\n",
    "    cursor.execute(\"ALTER TABLE Products ADD COLUMN UnitsInStock INTEGER;\")\n",
    "    cursor.execute(\"ALTER TABLE Products ADD COLUMN UnitsOnOrder INTEGER;\")\n",
    "\n",
    "    cursor.execute(\n",
    "        \"UPDATE Products SET UnitsPrice = 10\")\n",
    "    cursor.execute(\n",
    "        \"UPDATE Products SET UnitsInStock = NULL WHERE ProductID % 2 = 0;\")\n",
    "    cursor.execute(\n",
    "        \"UPDATE Products SET UnitsOnOrder = NULL WHERE ProductID % 3 = 0;\")\n",
    "\n",
    "    cursor.execute(\n",
    "        \"UPDATE Products SET UnitsInStock = 10 WHERE UnitsInStock IS NULL;\")\n",
    "    cursor.execute(\n",
    "        \"UPDATE Products SET UnitsOnOrder = 20 WHERE UnitsOnOrder IS NULL;\")\n",
    "    conn.close()\n",
    "except sqlite3.OperationalError as e:\n",
    "    print(e)\n",
    "    print('이미 함ㅋㅋ, 닫는다?')\n",
    "    conn.close()\n",
    "\n",
    "conn = sqlite3.connect('database.db')\n",
    "cursor = conn.cursor()\n",
    "\n",
    "query = \"\"\"\n",
    "SELECT ProductName, UnitPrice * (UnitsInStock + UnitsOnOrder)\n",
    "FROM Products;\n",
    "\"\"\"\n",
    "cursor.execute(query)\n",
    "print(pd.DataFrame(cursor.fetchall()))\n",
    "conn.close()"
   ]
  },
  {
   "cell_type": "markdown",
   "id": "69f544a7",
   "metadata": {},
   "source": [
    "## IFNULL"
   ]
  },
  {
   "cell_type": "code",
   "execution_count": 297,
   "id": "578f44cb",
   "metadata": {},
   "outputs": [
    {
     "name": "stdout",
     "output_type": "stream",
     "text": [
      "                                  0     1\n",
      "0                             Chais  None\n",
      "1                             Chang  None\n",
      "2                     Aniseed Syrup  None\n",
      "3      Chef Anton's Cajun Seasoning  None\n",
      "4            Chef Anton's Gumbo Mix  None\n",
      "..                              ...   ...\n",
      "72                       Röd Kaviar  None\n",
      "73                    Longlife Tofu  None\n",
      "74             Rhönbräu Klosterbier  None\n",
      "75                     Lakkalikööri  None\n",
      "76  Original Frankfurter grüne Soße  None\n",
      "\n",
      "[77 rows x 2 columns]\n"
     ]
    }
   ],
   "source": [
    "query = \"\"\"\n",
    "SELECT ProductName, UnitPrice * (UnitsInStock + IFNULL(UnitsOnOrder, 0))\n",
    "FROM Products;\n",
    "\"\"\"\n",
    "print_query_result(query)"
   ]
  },
  {
   "cell_type": "markdown",
   "id": "34db2fac",
   "metadata": {},
   "source": [
    "## COALESCE"
   ]
  },
  {
   "cell_type": "code",
   "execution_count": 298,
   "id": "3aff3346",
   "metadata": {},
   "outputs": [
    {
     "name": "stdout",
     "output_type": "stream",
     "text": [
      "                                  0     1\n",
      "0                             Chais  None\n",
      "1                             Chang  None\n",
      "2                     Aniseed Syrup  None\n",
      "3      Chef Anton's Cajun Seasoning  None\n",
      "4            Chef Anton's Gumbo Mix  None\n",
      "..                              ...   ...\n",
      "72                       Röd Kaviar  None\n",
      "73                    Longlife Tofu  None\n",
      "74             Rhönbräu Klosterbier  None\n",
      "75                     Lakkalikööri  None\n",
      "76  Original Frankfurter grüne Soße  None\n",
      "\n",
      "[77 rows x 2 columns]\n"
     ]
    }
   ],
   "source": [
    "query = \"\"\"\n",
    "SELECT ProductName, UnitPrice * (UnitsInStock + COALESCE(UnitsOnOrder, 0))\n",
    "FROM Products;\n",
    "\"\"\"\n",
    "print_query_result(query)"
   ]
  },
  {
   "cell_type": "markdown",
   "id": "5ec0c197",
   "metadata": {},
   "source": [
    "## Stored Procedure"
   ]
  },
  {
   "cell_type": "code",
   "execution_count": 299,
   "id": "4ba8c876",
   "metadata": {},
   "outputs": [
    {
     "name": "stdout",
     "output_type": "stream",
     "text": [
      "Empty DataFrame\n",
      "Columns: []\n",
      "Index: []\n"
     ]
    }
   ],
   "source": [
    "query = \"\"\"\n",
    "CREATE PROCEDURE SelectAllCustomers\n",
    "AS\n",
    "SELECT * FROM Customers\n",
    "GO;\n",
    "\"\"\"\n",
    "# sqlite는 저장 프로시저는 지원 안 함 !\n",
    "query = \"\"\"\"\"\"\n",
    "print_query_result(query)"
   ]
  }
 ],
 "metadata": {
  "kernelspec": {
   "display_name": "Python 3 (ipykernel)",
   "language": "python",
   "name": "python3"
  },
  "language_info": {
   "codemirror_mode": {
    "name": "ipython",
    "version": 3
   },
   "file_extension": ".py",
   "mimetype": "text/x-python",
   "name": "python",
   "nbconvert_exporter": "python",
   "pygments_lexer": "ipython3",
   "version": "3.12.4"
  }
 },
 "nbformat": 4,
 "nbformat_minor": 5
}
