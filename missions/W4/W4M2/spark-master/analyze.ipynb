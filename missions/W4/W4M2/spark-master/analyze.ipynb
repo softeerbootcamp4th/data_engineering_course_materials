{
 "cells": [
  {
   "cell_type": "markdown",
   "metadata": {},
   "source": [
    "# TLC DataSet Analyze"
   ]
  },
  {
   "cell_type": "code",
   "execution_count": 2,
   "metadata": {},
   "outputs": [],
   "source": [
    "from pyspark.sql import SparkSession\n",
    "from pyspark.sql.functions import col, udf, unix_timestamp, avg, unix_timestamp, hour, to_timestamp, lag, when, mean, count, expr, date_format\n",
    "from pyspark.sql.window import Window\n",
    "from pyspark.sql.types import DoubleType\n",
    "from pyspark.sql.utils import AnalysisException\n",
    "from geopy.distance import great_circle\n",
    "import pandas as pd\n",
    "import numpy as np\n",
    "import matplotlib.pyplot as plt"
   ]
  },
  {
   "cell_type": "code",
   "execution_count": null,
   "metadata": {},
   "outputs": [],
   "source": [
    "# Spark session 초기화\n",
    "# Spark session 초기화\n",
    "spark = SparkSession.builder \\\n",
    "    .appName(\"TLC DataSet Analyze\") \\\n",
    "    .config(\"spark.driver.memory\", \"15g\") \\\n",
    "    .config(\"spark.executor.memory\", \"15g\") \\\n",
    "    .config(\"spark.memory.fraction\", \"0.8\") \\\n",
    "    .config(\"spark.memory.storageFraction\", \"0.2\") \\\n",
    "    .config(\"spark.network.timeout\", \"800s\") \\\n",
    "    .config(\"spark.executor.heartbeatInterval\", \"60s\") \\\n",
    "    .getOrCreate()"
   ]
  },
  {
   "cell_type": "code",
   "execution_count": null,
   "metadata": {},
   "outputs": [],
   "source": [
    "# SparkConf 가져오기\n",
    "conf = spark.sparkContext.getConf()\n",
    "\n",
    "# spark.driver.memory 설정 가져오기\n",
    "driver_memory = conf.get(\"spark.driver.memory\")\n",
    "\n",
    "print(f\"Spark Driver Memory: {driver_memory}\")"
   ]
  },
  {
   "cell_type": "markdown",
   "metadata": {},
   "source": [
    "### taxi zone data"
   ]
  },
  {
   "cell_type": "code",
   "execution_count": null,
   "metadata": {},
   "outputs": [],
   "source": [
    "# HDFS에서 CSV 파일 읽기\n",
    "locations_df = spark.read.csv(\n",
    "    \"hdfs://hadoop-single:9000/opt/hadoop/taxi/taxi_zone.csv\",  # hdfs\n",
    "    header=True,\n",
    "    inferSchema=True,\n",
    ")\n",
    "locations_df = locations_df.select(col(\"LocationID\"), col(\"Latitude\"), col(\"Longitude\"))\n",
    "locations_df = locations_df.withColumnRenamed(\"LocationID\", \"PULocationID\")\n",
    "\n",
    "# 위치 데이터를 딕셔너리로 변환하여 브로드캐스트\n",
    "locations_dict = {\n",
    "    row.PULocationID: (row.Latitude, row.Longitude) for row in locations_df.collect()\n",
    "}\n",
    "broadcast_locations = spark.sparkContext.broadcast(locations_dict)\n"
   ]
  },
  {
   "cell_type": "code",
   "execution_count": null,
   "metadata": {},
   "outputs": [],
   "source": [
    "# DataFrame 만들기 정의\n",
    "def make_df(file_name, date):\n",
    "    # parquet file 읽기\n",
    "    file_path = f\"hdfs://hadoop-single:9000/opt/hadoop/pi/{file_name}_tripdata_{date}.parquet\"  # hdfs\n",
    "    print(f\"Attempting to read from: {file_path}\")\n",
    "    try:\n",
    "        # 파일 읽기\n",
    "        df = spark.read.parquet(file_path)\n",
    "    except AnalysisException:\n",
    "        print(f\"File not found: {file_path}\")\n",
    "        return None  # 파일이 없으면 None 반환\n",
    "\n",
    "    # 열 제거 및 이름 변경\n",
    "    if file_name == \"green\":\n",
    "        df = df.drop(\"ehail_fee\")\n",
    "    elif file_name == \"fhv\":\n",
    "        df = df.drop(\"SR_Flag\")\n",
    "\n",
    "    # 결측치 있는 행 제거\n",
    "    df = df.dropna()\n",
    "\n",
    "    if file_name == \"yellow\":\n",
    "        df = (\n",
    "            df.withColumnRenamed(\"tpep_pickup_datetime\", \"pickup_datetime\")\n",
    "            .withColumnRenamed(\"tpep_dropoff_datetime\", \"dropoff_datetime\")\n",
    "            .filter(col(\"Airport_fee\") >= 0)\n",
    "        )\n",
    "    elif file_name == \"green\":\n",
    "        df = df.withColumnRenamed(\n",
    "            \"lpep_pickup_datetime\", \"pickup_datetime\"\n",
    "        ).withColumnRenamed(\"lpep_dropoff_datetime\", \"dropoff_datetime\")\n",
    "    elif file_name == \"fhvhv\":\n",
    "        df = (\n",
    "            df.withColumnRenamed(\"pickup_datetime\", \"pickup_datetime\")\n",
    "            .withColumnRenamed(\"dropoff_datetime\", \"dropoff_datetime\")\n",
    "            .withColumnRenamed(\"trip_miles\", \"trip_distance\")\n",
    "            .filter(col(\"sales_tax\") >= 0)\n",
    "            .filter(col(\"congestion_surcharge\") >= 0)\n",
    "            .filter(col(\"airport_fee\") >= 0)\n",
    "            .filter(col(\"tips\") >= 0)\n",
    "            .filter(col(\"driver_pay\") >= 0)\n",
    "        )\n",
    "    elif file_name == \"fhv\":\n",
    "        df = (\n",
    "            df.withColumnRenamed(\"dropOff_datetime\", \"dropoff_datetime\")\n",
    "            .withColumnRenamed(\"PUlocationID\", \"PULocationID\")\n",
    "            .withColumnRenamed(\"DOlocationID\", \"DOLocationID\")\n",
    "        )\n",
    "\n",
    "    if file_name in [\"yellow\", \"green\"]:\n",
    "        df = (\n",
    "            df.filter(col(\"passenger_count\") >= 0)\n",
    "            .filter(col(\"fare_amount\") >= 0)\n",
    "            .filter(col(\"extra\") >= 0)\n",
    "            .filter(col(\"mta_tax\") >= 0)\n",
    "            .filter(col(\"tip_amount\") >= 0)\n",
    "            .filter(col(\"tolls_amount\") >= 0)\n",
    "            .filter(col(\"improvement_surcharge\") >= 0)\n",
    "            .filter(col(\"total_amount\") >= 0)\n",
    "            .filter(col(\"congestion_surcharge\") >= 0)\n",
    "        )\n",
    "\n",
    "    if file_name in [\"green\", \"fhv\"]:\n",
    "\n",
    "        def calculate_distance(pu_lat, pu_lon, do_lat, do_lon):\n",
    "            try:\n",
    "                pu_lat, pu_lon, do_lat, do_lon = map(\n",
    "                    float, [pu_lat, pu_lon, do_lat, do_lon]\n",
    "                )\n",
    "            except (ValueError, TypeError):\n",
    "                return np.nan\n",
    "            if pd.isna(pu_lat) or pd.isna(pu_lon) or pd.isna(do_lat) or pd.isna(do_lon):\n",
    "                return np.nan\n",
    "            pu_coords = (pu_lat, pu_lon)\n",
    "            do_coords = (do_lat, do_lon)\n",
    "            return (\n",
    "                great_circle(pu_coords, do_coords).kilometers / 1.60934\n",
    "            )  # 마일로 변환\n",
    "\n",
    "        def get_distance(pu_id, do_id):\n",
    "            locations = broadcast_locations.value\n",
    "            pu_location = locations.get(pu_id)\n",
    "            do_location = locations.get(do_id)\n",
    "            if pu_location and do_location:\n",
    "                pu_lat, pu_lon = pu_location\n",
    "                do_lat, do_lon = do_location\n",
    "                if (\n",
    "                    pu_lat is not None\n",
    "                    and pu_lon is not None\n",
    "                    and do_lat is not None\n",
    "                    and do_lon is not None\n",
    "                ):\n",
    "                    return calculate_distance(pu_lat, pu_lon, do_lat, do_lon)\n",
    "            return None\n",
    "\n",
    "        # UDF로 등록\n",
    "        distance_udf = udf(get_distance, DoubleType())\n",
    "\n",
    "        # 기존 DataFrame df에 새로운 컬럼 추가\n",
    "        df = df.withColumn(\n",
    "            \"trip_distance\", distance_udf(\"PULocationID\", \"DOLocationID\")\n",
    "        )\n",
    "\n",
    "    # date를 이용해 해당 월의 첫 날과 마지막 날을 계산\n",
    "    start_date = f\"{date}-01\"\n",
    "    end_date = f\"{date}-{(pd.Timestamp(start_date) + pd.offsets.MonthEnd(1)).day}\"\n",
    "\n",
    "    # pickup_datetime과 dropoff_datetime이 해당 월의 범위 내에 있는지 필터링\n",
    "    df = df.filter(\n",
    "        (col(\"pickup_datetime\") >= start_date) &\n",
    "        (col(\"pickup_datetime\") <= end_date) &\n",
    "        (col(\"dropoff_datetime\") >= start_date) &\n",
    "        (col(\"dropoff_datetime\") <= end_date)\n",
    "    )\n",
    "\n",
    "    df = df.filter(col(\"trip_distance\") > 0)\n",
    "    df = df.dropna()\n",
    "\n",
    "    df = df.filter(col(\"dropoff_datetime\") > col(\"pickup_datetime\"))\n",
    "\n",
    "    # trip_duration과 trip_distance 계산 및 필터링\n",
    "    df = df.withColumn(\n",
    "        \"trip_duration\",\n",
    "        (unix_timestamp(\"dropoff_datetime\") - unix_timestamp(\"pickup_datetime\")) / 60,\n",
    "    )\n",
    "\n",
    "    df = df.select(\"pickup_datetime\", \"trip_distance\", \"trip_duration\")\n",
    "    return df"
   ]
  },
  {
   "cell_type": "markdown",
   "metadata": {},
   "source": [
    "### TLC data"
   ]
  },
  {
   "cell_type": "code",
   "execution_count": null,
   "metadata": {},
   "outputs": [],
   "source": [
    "# Data 타입, 범위\n",
    "categories = [\"yellow\", \"green\", \"fhv\"]#, \"fhvhv\"]\n",
    "months = (\n",
    "    pd.date_range(start=\"2022-07-01\", end=\"2022-07-01\", freq=\"MS\")\n",
    "    .strftime(\"%Y-%m\")\n",
    "    .tolist()\n",
    ")\n",
    "\n",
    "# DataFrames 합치기\n",
    "combined_df = None\n",
    "for category in categories:\n",
    "    for month in months:\n",
    "        print(\">>>>>\", category, month)\n",
    "        df = make_df(category, month)\n",
    "        if df is not None:  # df가 None이 아닐 때만 결합\n",
    "            if combined_df is None:\n",
    "                combined_df = df\n",
    "            else:\n",
    "                combined_df = combined_df.union(df)\n",
    "# combined_df.repartition(1).write.mode(\"append\").csv(\n",
    "#     \"hdfs://hadoop-single:9000/opt/hadoop/pi/\", header=True\n",
    "# )  # hdfs"
   ]
  },
  {
   "cell_type": "code",
   "execution_count": null,
   "metadata": {},
   "outputs": [],
   "source": [
    "print(\"<<<<<<<<<<\")\n",
    "combined_df.show()\n",
    "print(combined_df.count())"
   ]
  },
  {
   "cell_type": "markdown",
   "metadata": {},
   "source": [
    "## 평균 택시 여행 시간과 거리 계산"
   ]
  },
  {
   "cell_type": "code",
   "execution_count": null,
   "metadata": {},
   "outputs": [],
   "source": [
    "# 평균 trip_distance와 trip_duration 계산\n",
    "avg_values = combined_df.agg(\n",
    "    avg(\"trip_distance\").alias(\"average_trip_miles\"),\n",
    "    avg(\"trip_duration\").alias(\"average_trip_duration\"),\n",
    ").collect()[0]\n",
    "\n",
    "# 결과를 개별 변수로 추출\n",
    "average_trip_miles = avg_values[\"average_trip_miles\"]\n",
    "average_trip_duration = avg_values[\"average_trip_duration\"]\n",
    "\n",
    "print(f\"Average trip duration: {average_trip_duration:.2f} minutes\")\n",
    "print(f\"Average trip distance: {average_trip_miles:.2f} miles\")"
   ]
  },
  {
   "cell_type": "markdown",
   "metadata": {},
   "source": [
    "# 피크타임 분석"
   ]
  },
  {
   "cell_type": "code",
   "execution_count": null,
   "metadata": {},
   "outputs": [],
   "source": [
    "df = combined_df.withColumn('pickup_datetime', to_timestamp('pickup_datetime'))\n",
    "\n",
    "# 각 시간대의 출발 여행 수 계산\n",
    "df = df.withColumn('hour', hour(col('pickup_datetime')))\n",
    "hourly_counts = df.groupBy('hour').count().orderBy('hour')\n",
    "\n",
    "# 피크 시간 계산\n",
    "peak_hour_row = hourly_counts.orderBy(col('count').desc()).first()\n",
    "peak_hour = peak_hour_row['hour']\n",
    "peak_hour_count = peak_hour_row['count']\n",
    "\n",
    "# 시간대별 여행 수 데이터 수집 및 시각화\n",
    "hourly_counts = hourly_counts.toPandas()  # hdfs"
   ]
  },
  {
   "cell_type": "code",
   "execution_count": null,
   "metadata": {},
   "outputs": [],
   "source": [
    "plt.figure(figsize=(12, 6))\n",
    "plt.plot(\n",
    "    hourly_counts[\"hour\"],\n",
    "    hourly_counts[\"count\"],\n",
    "    marker=\"o\",\n",
    "    linestyle=\"-\",\n",
    "    color=\"blue\",\n",
    ")\n",
    "plt.title(\"Number of trips per day\")\n",
    "plt.xlabel(\"Time zone (time)\")\n",
    "plt.ylabel(\"the number of trips\")\n",
    "plt.xticks(range(24))  # 0부터 23까지 시간대 표시\n",
    "plt.grid(True)\n",
    "\n",
    "# 피크 시간 강조\n",
    "plt.axvline(\n",
    "    x=peak_hour,\n",
    "    color=\"red\",\n",
    "    linestyle=\"--\",\n",
    "    label=f\"peak time: at {peak_hour} ({peak_hour_count} counts)\",\n",
    ")\n",
    "plt.legend()\n",
    "\n",
    "# 그래프 표시\n",
    "plt.tight_layout()\n",
    "plt.show()"
   ]
  },
  {
   "cell_type": "markdown",
   "metadata": {},
   "source": [
    "### weather data"
   ]
  },
  {
   "cell_type": "code",
   "execution_count": null,
   "metadata": {},
   "outputs": [],
   "source": [
    "weather_file_path = \"hdfs://hadoop-single:9000/opt/hadoop/weather/weather.csv\"\n",
    "weather_df = spark.read.csv(\n",
    "    weather_file_path,\n",
    "    header=True,\n",
    "    inferSchema=True,\n",
    ")"
   ]
  },
  {
   "cell_type": "code",
   "execution_count": null,
   "metadata": {},
   "outputs": [],
   "source": [
    "combined_df = combined_df.withColumn(\n",
    "    \"pickup_datetime\", date_format(col(\"pickup_datetime\"), \"yyyy-MM-dd HH:mm:ss\")\n",
    ")\n",
    "combined_df = combined_df.repartition(10)\n",
    "tlc_df = combined_df.toPandas()"
   ]
  },
  {
   "cell_type": "code",
   "execution_count": null,
   "metadata": {},
   "outputs": [],
   "source": [
    "weather_df = weather_df.withColumn(\"time\", date_format(col(\"time\"), \"yyyy-MM-dd HH:mm:ss\"))\n",
    "weather_df = weather_df.toPandas()"
   ]
  },
  {
   "cell_type": "markdown",
   "metadata": {},
   "source": [
    "# 강수량에 따른 평균 택시 여행 시간과 거리 계산"
   ]
  },
  {
   "cell_type": "code",
   "execution_count": null,
   "metadata": {},
   "outputs": [],
   "source": [
    "# 시간 형식 맞추기\n",
    "weather_df[\"time\"] = pd.to_datetime(weather_df[\"time\"], format=\"%Y-%m-%d %H:%M:%S\")\n",
    "tlc_df[\"pickup_datetime\"] = pd.to_datetime(tlc_df[\"pickup_datetime\"], format=\"%Y-%m-%d %H:%M:%S\")\n",
    "\n",
    "# 시간에 맞게 정렬 (merge_asof 사용을 위해 필수)\n",
    "weather_df = weather_df.sort_values(\"time\")\n",
    "tlc_df = tlc_df.sort_values(\"pickup_datetime\")\n",
    "\n",
    "# 가장 가까운 시간의 날씨 데이터 추가\n",
    "tlc_df = pd.merge_asof(\n",
    "    tlc_df,\n",
    "    weather_df[[\"time\", \"temperature_2m (°C)\", \"rain (mm)\"]],\n",
    "    left_on=\"pickup_datetime\",\n",
    "    right_on=\"time\",\n",
    "    direction=\"backward\",\n",
    ")\n",
    "\n",
    "# 불필요한 열 제거\n",
    "tlc_df = tlc_df.drop(columns=[\"time\"])\n",
    "tlc_df"
   ]
  },
  {
   "cell_type": "code",
   "execution_count": null,
   "metadata": {},
   "outputs": [],
   "source": [
    "# 비의 양에 따라 구분하기 위한 새로운 컬럼 생성\n",
    "def rain_category(rain):\n",
    "    if rain == 0:\n",
    "        return \"No Rain\"\n",
    "    elif rain <= 2:\n",
    "        return \"Light Rain\"\n",
    "    else:\n",
    "        return \"Heavy Rain\"\n",
    "\n",
    "\n",
    "tlc_df[\"rain_category\"] = tlc_df[\"rain (mm)\"].apply(rain_category)\n",
    "\n",
    "# rain_category 컬럼을 기준으로 그룹화\n",
    "rain_groups = tlc_df.groupby(\"rain_category\")\n",
    "\n",
    "# 각 그룹별로 요약 통계를 계산\n",
    "rain_stats = rain_groups.agg(\n",
    "    {\n",
    "        \"trip_distance\": \"mean\",\n",
    "        \"trip_duration\": [\"mean\", \"count\"],\n",
    "        \"temperature_2m (°C)\": \"mean\",\n",
    "    }\n",
    ")\n",
    "\n",
    "rain_stats"
   ]
  },
  {
   "cell_type": "code",
   "execution_count": null,
   "metadata": {},
   "outputs": [],
   "source": [
    "rdf = rain_stats.reset_index()\n",
    "rdf.columns = [\"rain_category\", \"trip_distance\", \"trip_duration\", \"count\", \"temperature\"]\n",
    "rdf\n",
    "\n",
    "\n",
    "# 원하는 순서를 정의\n",
    "order = [\"No Rain\", \"Light Rain\", \"Heavy Rain\"]\n",
    "\n",
    "# 'temperature_category' 열을 Categorical 타입으로 변환하고, 순서를 정의\n",
    "rdf['rain_category'] = pd.Categorical(rdf['rain_category'], categories=order, ordered=True)\n",
    "\n",
    "# 데이터프레임을 지정된 순서로 정렬\n",
    "rdf = rdf.sort_values('rain_category').reset_index(drop=True)\n",
    "\n",
    "rdf"
   ]
  },
  {
   "cell_type": "code",
   "execution_count": null,
   "metadata": {},
   "outputs": [],
   "source": [
    "# 그래프 그리기\n",
    "fig, ax1 = plt.subplots(figsize=(12, 6))\n",
    "\n",
    "# 첫 번째 y축을 사용하여 trip_distance를 그립니다.\n",
    "ax1.plot(rdf['rain_category'], rdf['trip_distance'], marker='o', color='b', label='Trip Distance')\n",
    "ax1.set_xlabel('Rain Category')\n",
    "ax1.set_ylabel('Trip Distance', color='b')\n",
    "ax1.tick_params(axis='y', labelcolor='b')\n",
    "\n",
    "# 두 번째 y축을 사용하여 trip_duration을 그립니다.\n",
    "ax2 = ax1.twinx()\n",
    "ax2.plot(rdf['rain_category'], rdf['trip_duration'], marker='o', color='g', label='Trip Duration')\n",
    "ax2.set_ylabel('Trip Duration', color='g')\n",
    "ax2.tick_params(axis='y', labelcolor='g')\n",
    "\n",
    "# 타이틀과 레전드를 추가합니다.\n",
    "fig.suptitle('Trip Distance and Duration by Rain Category with Temperature')\n",
    "fig.tight_layout()\n",
    "\n",
    "# 레전드와 범례\n",
    "lines, labels = ax1.get_legend_handles_labels()\n",
    "lines2, labels2 = ax2.get_legend_handles_labels()\n",
    "ax1.legend(lines + lines2, labels + labels2, loc='upper left')\n",
    "\n",
    "plt.xticks(rotation=45)\n",
    "plt.show()"
   ]
  },
  {
   "cell_type": "markdown",
   "metadata": {},
   "source": [
    "# 기온에 따른 평균 택시 여행 시간과 거리 계산"
   ]
  },
  {
   "cell_type": "code",
   "execution_count": null,
   "metadata": {},
   "outputs": [],
   "source": [
    "weather_df['temperature_2m (°C)'].describe()"
   ]
  },
  {
   "cell_type": "code",
   "execution_count": null,
   "metadata": {},
   "outputs": [],
   "source": [
    "# 온도에 따라 구분하기 위한 새로운 컬럼 생성\n",
    "def temperature_category(temp):\n",
    "    if temp <= 24.1:\n",
    "        return \"Not Hot\"\n",
    "    elif temp <= 26.2:\n",
    "        return \"Slightly Hot\"\n",
    "    elif temp <= 28.4:\n",
    "        return \"fairly Hot\"\n",
    "    else:\n",
    "        return \"Very Hot\"\n",
    "\n",
    "\n",
    "tlc_df[\"temperature_category\"] = tlc_df[\"temperature_2m (°C)\"].apply(\n",
    "    temperature_category\n",
    ")\n",
    "\n",
    "# temperature_category 컬럼을 기준으로 그룹화\n",
    "temperature_groups = tlc_df.groupby(\"temperature_category\")\n",
    "\n",
    "# 각 그룹별로 요약 통계를 계산\n",
    "temperature_stats = temperature_groups.agg(\n",
    "    {\n",
    "        \"trip_distance\": \"mean\",\n",
    "        \"trip_duration\": [\"mean\", \"count\"],\n",
    "        \"rain (mm)\": \"mean\",\n",
    "    }\n",
    ")\n",
    "\n",
    "temperature_stats"
   ]
  },
  {
   "cell_type": "code",
   "execution_count": null,
   "metadata": {},
   "outputs": [],
   "source": [
    "tdf = temperature_stats.reset_index()\n",
    "tdf"
   ]
  },
  {
   "cell_type": "code",
   "execution_count": null,
   "metadata": {},
   "outputs": [],
   "source": [
    "new_header = tdf.iloc[0]  # 첫 번째 행을 헤더로 저장\n",
    "tdf.columns = [\"temperature_category\", \"trip_distance\", \"trip_duration\", \"count\", \"rain\"]\n",
    "\n",
    "# 원하는 순서를 정의\n",
    "order = [\"Not Hot\", \"Slightly Hot\", \"fairly Hot\", \"Very Hot\"]\n",
    "\n",
    "# 'temperature_category' 열을 Categorical 타입으로 변환하고, 순서를 정의\n",
    "tdf['temperature_category'] = pd.Categorical(tdf['temperature_category'], categories=order, ordered=True)\n",
    "\n",
    "# 데이터프레임을 지정된 순서로 정렬\n",
    "tdf = tdf.sort_values('temperature_category').reset_index(drop=True)\n",
    "\n",
    "tdf\n"
   ]
  },
  {
   "cell_type": "code",
   "execution_count": null,
   "metadata": {},
   "outputs": [],
   "source": [
    "# 그래프 그리기\n",
    "fig, ax1 = plt.subplots(figsize=(10, 6))\n",
    "\n",
    "# 첫 번째 y축을 사용하여 trip_distance_mean을 그립니다.\n",
    "ax1.plot(tdf['temperature_category'], tdf['trip_distance'], marker='o', color='b', label='Trip Distance Mean')\n",
    "ax1.set_xlabel('Temperature Category')\n",
    "ax1.set_ylabel('Trip Distance Mean', color='b')\n",
    "ax1.tick_params(axis='y', labelcolor='b')\n",
    "\n",
    "# 두 번째 y축을 사용하여 trip_duration_mean을 그립니다.\n",
    "ax2 = ax1.twinx()\n",
    "ax2.plot(tdf['temperature_category'], tdf['trip_duration'], marker='o', color='g', label='Trip Duration Mean')\n",
    "ax2.set_ylabel('Trip Duration Mean', color='g')\n",
    "ax2.tick_params(axis='y', labelcolor='g')\n",
    "\n",
    "# 타이틀과 레전드를 추가합니다.\n",
    "fig.suptitle('Trip Distance and Duration by Temperature Category')\n",
    "fig.tight_layout()\n",
    "fig.legend(loc='upper left', bbox_to_anchor=(0.1,0.9))\n",
    "plt.xticks(rotation=45)\n",
    "plt.show()"
   ]
  }
 ],
 "metadata": {
  "kernelspec": {
   "display_name": "Python 3",
   "language": "python",
   "name": "python3"
  },
  "language_info": {
   "codemirror_mode": {
    "name": "ipython",
    "version": 3
   },
   "file_extension": ".py",
   "mimetype": "text/x-python",
   "name": "python",
   "nbconvert_exporter": "python",
   "pygments_lexer": "ipython3",
   "version": "3.9.6"
  }
 },
 "nbformat": 4,
 "nbformat_minor": 2
}
