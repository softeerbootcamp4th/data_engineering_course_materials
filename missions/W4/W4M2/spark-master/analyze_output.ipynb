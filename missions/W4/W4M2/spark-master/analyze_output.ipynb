{
 "cells": [
  {
   "cell_type": "markdown",
   "metadata": {},
   "source": [
    "# TLC DataSet Analyze"
   ]
  },
  {
   "cell_type": "code",
   "execution_count": 1,
   "metadata": {
    "execution": {
     "iopub.execute_input": "2024-08-02T12:48:01.002762Z",
     "iopub.status.busy": "2024-08-02T12:48:01.002455Z",
     "iopub.status.idle": "2024-08-02T12:48:01.669714Z",
     "shell.execute_reply": "2024-08-02T12:48:01.669185Z"
    }
   },
   "outputs": [],
   "source": [
    "from pyspark.sql import SparkSession\n",
    "from pyspark.sql.functions import col, udf, unix_timestamp, avg, unix_timestamp, hour, to_timestamp, lag, when, mean, count, expr, date_format\n",
    "from pyspark.sql.window import Window\n",
    "from pyspark.sql.types import DoubleType\n",
    "from pyspark.sql.utils import AnalysisException\n",
    "from geopy.distance import great_circle\n",
    "import pandas as pd\n",
    "import numpy as np\n",
    "import matplotlib.pyplot as plt"
   ]
  },
  {
   "cell_type": "code",
   "execution_count": 2,
   "metadata": {
    "execution": {
     "iopub.execute_input": "2024-08-02T12:48:01.671745Z",
     "iopub.status.busy": "2024-08-02T12:48:01.671306Z",
     "iopub.status.idle": "2024-08-02T12:48:03.598520Z",
     "shell.execute_reply": "2024-08-02T12:48:03.598076Z"
    }
   },
   "outputs": [
    {
     "name": "stderr",
     "output_type": "stream",
     "text": [
      "Setting default log level to \"WARN\".\n",
      "To adjust logging level use sc.setLogLevel(newLevel). For SparkR, use setLogLevel(newLevel).\n",
      "24/08/02 12:48:02 WARN NativeCodeLoader: Unable to load native-hadoop library for your platform... using builtin-java classes where applicable\n"
     ]
    }
   ],
   "source": [
    "# Spark session 초기화\n",
    "# Spark session 초기화\n",
    "spark = SparkSession.builder \\\n",
    "    .appName(\"TLC DataSet Analyze\") \\\n",
    "    .config(\"spark.driver.memory\", \"15g\") \\\n",
    "    .config(\"spark.executor.memory\", \"15g\") \\\n",
    "    .config(\"spark.memory.fraction\", \"0.8\") \\\n",
    "    .config(\"spark.memory.storageFraction\", \"0.2\") \\\n",
    "    .config(\"spark.network.timeout\", \"800s\") \\\n",
    "    .config(\"spark.executor.heartbeatInterval\", \"60s\") \\\n",
    "    .getOrCreate()"
   ]
  },
  {
   "cell_type": "code",
   "execution_count": 3,
   "metadata": {
    "execution": {
     "iopub.execute_input": "2024-08-02T12:48:03.600211Z",
     "iopub.status.busy": "2024-08-02T12:48:03.600097Z",
     "iopub.status.idle": "2024-08-02T12:48:03.613380Z",
     "shell.execute_reply": "2024-08-02T12:48:03.613020Z"
    }
   },
   "outputs": [
    {
     "name": "stdout",
     "output_type": "stream",
     "text": [
      "Spark Driver Memory: 15g\n"
     ]
    }
   ],
   "source": [
    "# SparkConf 가져오기\n",
    "conf = spark.sparkContext.getConf()\n",
    "\n",
    "# spark.driver.memory 설정 가져오기\n",
    "driver_memory = conf.get(\"spark.driver.memory\")\n",
    "\n",
    "print(f\"Spark Driver Memory: {driver_memory}\")"
   ]
  },
  {
   "cell_type": "markdown",
   "metadata": {},
   "source": [
    "### taxi zone data"
   ]
  },
  {
   "cell_type": "code",
   "execution_count": 4,
   "metadata": {
    "execution": {
     "iopub.execute_input": "2024-08-02T12:48:03.614745Z",
     "iopub.status.busy": "2024-08-02T12:48:03.614635Z",
     "iopub.status.idle": "2024-08-02T12:48:06.570840Z",
     "shell.execute_reply": "2024-08-02T12:48:06.570220Z"
    }
   },
   "outputs": [],
   "source": [
    "# HDFS에서 CSV 파일 읽기\n",
    "locations_df = spark.read.csv(\n",
    "    \"hdfs://hadoop-single:9000/opt/hadoop/taxi/taxi_zone.csv\",  # hdfs\n",
    "    header=True,\n",
    "    inferSchema=True,\n",
    ")\n",
    "locations_df = locations_df.select(col(\"LocationID\"), col(\"Latitude\"), col(\"Longitude\"))\n",
    "locations_df = locations_df.withColumnRenamed(\"LocationID\", \"PULocationID\")\n",
    "\n",
    "# 위치 데이터를 딕셔너리로 변환하여 브로드캐스트\n",
    "locations_dict = {\n",
    "    row.PULocationID: (row.Latitude, row.Longitude) for row in locations_df.collect()\n",
    "}\n",
    "broadcast_locations = spark.sparkContext.broadcast(locations_dict)\n"
   ]
  },
  {
   "cell_type": "code",
   "execution_count": 5,
   "metadata": {
    "execution": {
     "iopub.execute_input": "2024-08-02T12:48:06.572694Z",
     "iopub.status.busy": "2024-08-02T12:48:06.572557Z",
     "iopub.status.idle": "2024-08-02T12:48:06.580476Z",
     "shell.execute_reply": "2024-08-02T12:48:06.580061Z"
    }
   },
   "outputs": [],
   "source": [
    "# DataFrame 만들기 정의\n",
    "def make_df(file_name, date):\n",
    "    # parquet file 읽기\n",
    "    file_path = f\"hdfs://hadoop-single:9000/opt/hadoop/pi/{file_name}_tripdata_{date}.parquet\"  # hdfs\n",
    "    print(f\"Attempting to read from: {file_path}\")\n",
    "    try:\n",
    "        # 파일 읽기\n",
    "        df = spark.read.parquet(file_path)\n",
    "    except AnalysisException:\n",
    "        print(f\"File not found: {file_path}\")\n",
    "        return None  # 파일이 없으면 None 반환\n",
    "\n",
    "    # 열 제거 및 이름 변경\n",
    "    if file_name == \"green\":\n",
    "        df = df.drop(\"ehail_fee\")\n",
    "    elif file_name == \"fhv\":\n",
    "        df = df.drop(\"SR_Flag\")\n",
    "\n",
    "    # 결측치 있는 행 제거\n",
    "    df = df.dropna()\n",
    "\n",
    "    if file_name == \"yellow\":\n",
    "        df = (\n",
    "            df.withColumnRenamed(\"tpep_pickup_datetime\", \"pickup_datetime\")\n",
    "            .withColumnRenamed(\"tpep_dropoff_datetime\", \"dropoff_datetime\")\n",
    "            .filter(col(\"Airport_fee\") >= 0)\n",
    "        )\n",
    "    elif file_name == \"green\":\n",
    "        df = df.withColumnRenamed(\n",
    "            \"lpep_pickup_datetime\", \"pickup_datetime\"\n",
    "        ).withColumnRenamed(\"lpep_dropoff_datetime\", \"dropoff_datetime\")\n",
    "    elif file_name == \"fhvhv\":\n",
    "        df = (\n",
    "            df.withColumnRenamed(\"pickup_datetime\", \"pickup_datetime\")\n",
    "            .withColumnRenamed(\"dropoff_datetime\", \"dropoff_datetime\")\n",
    "            .withColumnRenamed(\"trip_miles\", \"trip_distance\")\n",
    "            .filter(col(\"sales_tax\") >= 0)\n",
    "            .filter(col(\"congestion_surcharge\") >= 0)\n",
    "            .filter(col(\"airport_fee\") >= 0)\n",
    "            .filter(col(\"tips\") >= 0)\n",
    "            .filter(col(\"driver_pay\") >= 0)\n",
    "        )\n",
    "    elif file_name == \"fhv\":\n",
    "        df = (\n",
    "            df.withColumnRenamed(\"dropOff_datetime\", \"dropoff_datetime\")\n",
    "            .withColumnRenamed(\"PUlocationID\", \"PULocationID\")\n",
    "            .withColumnRenamed(\"DOlocationID\", \"DOLocationID\")\n",
    "        )\n",
    "\n",
    "    if file_name in [\"yellow\", \"green\"]:\n",
    "        df = (\n",
    "            df.filter(col(\"passenger_count\") >= 0)\n",
    "            .filter(col(\"fare_amount\") >= 0)\n",
    "            .filter(col(\"extra\") >= 0)\n",
    "            .filter(col(\"mta_tax\") >= 0)\n",
    "            .filter(col(\"tip_amount\") >= 0)\n",
    "            .filter(col(\"tolls_amount\") >= 0)\n",
    "            .filter(col(\"improvement_surcharge\") >= 0)\n",
    "            .filter(col(\"total_amount\") >= 0)\n",
    "            .filter(col(\"congestion_surcharge\") >= 0)\n",
    "        )\n",
    "\n",
    "    if file_name in [\"green\", \"fhv\"]:\n",
    "\n",
    "        def calculate_distance(pu_lat, pu_lon, do_lat, do_lon):\n",
    "            try:\n",
    "                pu_lat, pu_lon, do_lat, do_lon = map(\n",
    "                    float, [pu_lat, pu_lon, do_lat, do_lon]\n",
    "                )\n",
    "            except (ValueError, TypeError):\n",
    "                return np.nan\n",
    "            if pd.isna(pu_lat) or pd.isna(pu_lon) or pd.isna(do_lat) or pd.isna(do_lon):\n",
    "                return np.nan\n",
    "            pu_coords = (pu_lat, pu_lon)\n",
    "            do_coords = (do_lat, do_lon)\n",
    "            return (\n",
    "                great_circle(pu_coords, do_coords).kilometers / 1.60934\n",
    "            )  # 마일로 변환\n",
    "\n",
    "        def get_distance(pu_id, do_id):\n",
    "            locations = broadcast_locations.value\n",
    "            pu_location = locations.get(pu_id)\n",
    "            do_location = locations.get(do_id)\n",
    "            if pu_location and do_location:\n",
    "                pu_lat, pu_lon = pu_location\n",
    "                do_lat, do_lon = do_location\n",
    "                if (\n",
    "                    pu_lat is not None\n",
    "                    and pu_lon is not None\n",
    "                    and do_lat is not None\n",
    "                    and do_lon is not None\n",
    "                ):\n",
    "                    return calculate_distance(pu_lat, pu_lon, do_lat, do_lon)\n",
    "            return None\n",
    "\n",
    "        # UDF로 등록\n",
    "        distance_udf = udf(get_distance, DoubleType())\n",
    "\n",
    "        # 기존 DataFrame df에 새로운 컬럼 추가\n",
    "        df = df.withColumn(\n",
    "            \"trip_distance\", distance_udf(\"PULocationID\", \"DOLocationID\")\n",
    "        )\n",
    "\n",
    "    # date를 이용해 해당 월의 첫 날과 마지막 날을 계산\n",
    "    start_date = f\"{date}-01\"\n",
    "    end_date = f\"{date}-{(pd.Timestamp(start_date) + pd.offsets.MonthEnd(1)).day}\"\n",
    "\n",
    "    # pickup_datetime과 dropoff_datetime이 해당 월의 범위 내에 있는지 필터링\n",
    "    df = df.filter(\n",
    "        (col(\"pickup_datetime\") >= start_date) &\n",
    "        (col(\"pickup_datetime\") <= end_date) &\n",
    "        (col(\"dropoff_datetime\") >= start_date) &\n",
    "        (col(\"dropoff_datetime\") <= end_date)\n",
    "    )\n",
    "\n",
    "    df = df.filter(col(\"trip_distance\") > 0)\n",
    "    df = df.dropna()\n",
    "\n",
    "    df = df.filter(col(\"dropoff_datetime\") > col(\"pickup_datetime\"))\n",
    "\n",
    "    # trip_duration과 trip_distance 계산 및 필터링\n",
    "    df = df.withColumn(\n",
    "        \"trip_duration\",\n",
    "        (unix_timestamp(\"dropoff_datetime\") - unix_timestamp(\"pickup_datetime\")) / 60,\n",
    "    )\n",
    "\n",
    "    df = df.select(\"pickup_datetime\", \"trip_distance\", \"trip_duration\")\n",
    "    return df"
   ]
  },
  {
   "cell_type": "markdown",
   "metadata": {},
   "source": [
    "### TLC data"
   ]
  },
  {
   "cell_type": "code",
   "execution_count": 6,
   "metadata": {
    "execution": {
     "iopub.execute_input": "2024-08-02T12:48:06.581828Z",
     "iopub.status.busy": "2024-08-02T12:48:06.581730Z",
     "iopub.status.idle": "2024-08-02T12:48:07.264649Z",
     "shell.execute_reply": "2024-08-02T12:48:07.264244Z"
    }
   },
   "outputs": [
    {
     "name": "stdout",
     "output_type": "stream",
     "text": [
      ">>>>> yellow 2022-07\n",
      "Attempting to read from: hdfs://hadoop-single:9000/opt/hadoop/pi/yellow_tripdata_2022-07.parquet\n"
     ]
    },
    {
     "name": "stdout",
     "output_type": "stream",
     "text": [
      ">>>>> green 2022-07\n",
      "Attempting to read from: hdfs://hadoop-single:9000/opt/hadoop/pi/green_tripdata_2022-07.parquet\n",
      ">>>>> fhv 2022-07\n",
      "Attempting to read from: hdfs://hadoop-single:9000/opt/hadoop/pi/fhv_tripdata_2022-07.parquet\n"
     ]
    }
   ],
   "source": [
    "# Data 타입, 범위\n",
    "categories = [\"yellow\", \"green\", \"fhv\"]#, \"fhvhv\"]\n",
    "months = (\n",
    "    pd.date_range(start=\"2022-07-01\", end=\"2022-07-01\", freq=\"MS\")\n",
    "    .strftime(\"%Y-%m\")\n",
    "    .tolist()\n",
    ")\n",
    "\n",
    "# DataFrames 합치기\n",
    "combined_df = None\n",
    "for category in categories:\n",
    "    for month in months:\n",
    "        print(\">>>>>\", category, month)\n",
    "        df = make_df(category, month)\n",
    "        if df is not None:  # df가 None이 아닐 때만 결합\n",
    "            if combined_df is None:\n",
    "                combined_df = df\n",
    "            else:\n",
    "                combined_df = combined_df.union(df)\n",
    "# combined_df.repartition(1).write.mode(\"append\").csv(\n",
    "#     \"hdfs://hadoop-single:9000/opt/hadoop/pi/\", header=True\n",
    "# )  # hdfs"
   ]
  },
  {
   "cell_type": "code",
   "execution_count": 7,
   "metadata": {
    "execution": {
     "iopub.execute_input": "2024-08-02T12:48:07.266416Z",
     "iopub.status.busy": "2024-08-02T12:48:07.266291Z",
     "iopub.status.idle": "2024-08-02T12:48:11.038657Z",
     "shell.execute_reply": "2024-08-02T12:48:11.038143Z"
    }
   },
   "outputs": [
    {
     "name": "stdout",
     "output_type": "stream",
     "text": [
      "<<<<<<<<<<\n"
     ]
    },
    {
     "name": "stdout",
     "output_type": "stream",
     "text": [
      "+-------------------+-------------+------------------+\n",
      "|    pickup_datetime|trip_distance|     trip_duration|\n",
      "+-------------------+-------------+------------------+\n",
      "|2022-07-01 00:20:06|         10.1|19.116666666666667|\n",
      "|2022-07-01 00:29:11|         1.67| 8.816666666666666|\n",
      "|2022-07-01 00:03:56|          0.9| 7.883333333333334|\n",
      "|2022-07-01 00:18:36|         14.8| 34.13333333333333|\n",
      "|2022-07-01 00:15:50|          1.2| 6.516666666666667|\n",
      "|2022-07-01 00:31:06|          1.0|               4.1|\n",
      "|2022-07-01 00:53:53|          3.0|14.283333333333333|\n",
      "|2022-07-01 00:23:36|         1.37|              9.55|\n",
      "|2022-07-01 00:38:53|         8.49|41.583333333333336|\n",
      "|2022-07-01 00:26:21|         1.08| 4.516666666666667|\n",
      "|2022-07-01 00:06:27|          8.3|              16.7|\n",
      "|2022-07-01 00:39:23|          1.0|2.9166666666666665|\n",
      "|2022-07-01 00:23:23|          1.6|10.016666666666667|\n",
      "|2022-07-01 00:39:10|          2.2|              12.9|\n",
      "|2022-07-01 00:52:45|          1.5| 6.483333333333333|\n",
      "|2022-07-01 00:03:06|         8.03|36.766666666666666|\n",
      "|2022-07-01 00:40:59|         8.28|              21.7|\n",
      "|2022-07-01 00:43:41|          1.3|              9.95|\n",
      "|2022-07-01 00:58:11|          2.9|10.133333333333333|\n",
      "|2022-07-01 00:07:27|         8.83|22.983333333333334|\n",
      "+-------------------+-------------+------------------+\n",
      "only showing top 20 rows\n",
      "\n"
     ]
    },
    {
     "name": "stderr",
     "output_type": "stream",
     "text": [
      "\r\n",
      "[Stage 8:=====================================>                    (9 + 5) / 14]\r\n",
      "\r\n",
      "[Stage 8:============================================>            (11 + 3) / 14]\r"
     ]
    },
    {
     "name": "stderr",
     "output_type": "stream",
     "text": [
      "\r\n",
      "[Stage 8:================================================>        (12 + 2) / 14]\r"
     ]
    },
    {
     "name": "stderr",
     "output_type": "stream",
     "text": [
      "\r\n",
      "[Stage 8:====================================================>    (13 + 1) / 14]\r"
     ]
    },
    {
     "name": "stdout",
     "output_type": "stream",
     "text": [
      "3223314\n"
     ]
    },
    {
     "name": "stderr",
     "output_type": "stream",
     "text": [
      "\r\n",
      "                                                                                \r"
     ]
    }
   ],
   "source": [
    "print(\"<<<<<<<<<<\")\n",
    "combined_df.show()\n",
    "print(combined_df.count())"
   ]
  },
  {
   "cell_type": "markdown",
   "metadata": {},
   "source": [
    "## 평균 택시 여행 시간과 거리 계산"
   ]
  },
  {
   "cell_type": "code",
   "execution_count": 8,
   "metadata": {
    "execution": {
     "iopub.execute_input": "2024-08-02T12:48:11.040438Z",
     "iopub.status.busy": "2024-08-02T12:48:11.040312Z",
     "iopub.status.idle": "2024-08-02T12:48:13.424477Z",
     "shell.execute_reply": "2024-08-02T12:48:13.424039Z"
    }
   },
   "outputs": [
    {
     "name": "stderr",
     "output_type": "stream",
     "text": [
      "\r\n",
      "[Stage 11:============================================>           (11 + 3) / 14]\r"
     ]
    },
    {
     "name": "stderr",
     "output_type": "stream",
     "text": [
      "\r\n",
      "[Stage 11:================================================>       (12 + 2) / 14]\r"
     ]
    },
    {
     "name": "stderr",
     "output_type": "stream",
     "text": [
      "\r\n",
      "[Stage 11:====================================================>   (13 + 1) / 14]\r"
     ]
    },
    {
     "name": "stdout",
     "output_type": "stream",
     "text": [
      "Average trip duration: 17.82 minutes\n",
      "Average trip distance: 3.69 miles\n"
     ]
    },
    {
     "name": "stderr",
     "output_type": "stream",
     "text": [
      "\r\n",
      "                                                                                \r"
     ]
    }
   ],
   "source": [
    "# 평균 trip_distance와 trip_duration 계산\n",
    "avg_values = combined_df.agg(\n",
    "    avg(\"trip_distance\").alias(\"average_trip_miles\"),\n",
    "    avg(\"trip_duration\").alias(\"average_trip_duration\"),\n",
    ").collect()[0]\n",
    "\n",
    "# 결과를 개별 변수로 추출\n",
    "average_trip_miles = avg_values[\"average_trip_miles\"]\n",
    "average_trip_duration = avg_values[\"average_trip_duration\"]\n",
    "\n",
    "print(f\"Average trip duration: {average_trip_duration:.2f} minutes\")\n",
    "print(f\"Average trip distance: {average_trip_miles:.2f} miles\")"
   ]
  },
  {
   "cell_type": "markdown",
   "metadata": {},
   "source": [
    "# 피크타임 분석"
   ]
  },
  {
   "cell_type": "code",
   "execution_count": 9,
   "metadata": {
    "execution": {
     "iopub.execute_input": "2024-08-02T12:48:13.426202Z",
     "iopub.status.busy": "2024-08-02T12:48:13.426068Z",
     "iopub.status.idle": "2024-08-02T12:48:18.155757Z",
     "shell.execute_reply": "2024-08-02T12:48:18.155272Z"
    }
   },
   "outputs": [
    {
     "name": "stderr",
     "output_type": "stream",
     "text": [
      "\r\n",
      "[Stage 14:============================================>           (11 + 3) / 14]\r"
     ]
    },
    {
     "name": "stderr",
     "output_type": "stream",
     "text": [
      "\r\n",
      "[Stage 14:================================================>       (12 + 2) / 14]\r"
     ]
    },
    {
     "name": "stderr",
     "output_type": "stream",
     "text": [
      "\r\n",
      "[Stage 14:====================================================>   (13 + 1) / 14]\r"
     ]
    },
    {
     "name": "stderr",
     "output_type": "stream",
     "text": [
      "\r\n",
      "                                                                                \r"
     ]
    },
    {
     "name": "stderr",
     "output_type": "stream",
     "text": [
      "\r\n",
      "[Stage 17:================================================>       (12 + 2) / 14]\r"
     ]
    },
    {
     "name": "stderr",
     "output_type": "stream",
     "text": [
      "\r\n",
      "[Stage 17:====================================================>   (13 + 1) / 14]\r"
     ]
    },
    {
     "name": "stderr",
     "output_type": "stream",
     "text": [
      "\r\n",
      "                                                                                \r"
     ]
    }
   ],
   "source": [
    "df = combined_df.withColumn('pickup_datetime', to_timestamp('pickup_datetime'))\n",
    "\n",
    "# 각 시간대의 출발 여행 수 계산\n",
    "df = df.withColumn('hour', hour(col('pickup_datetime')))\n",
    "hourly_counts = df.groupBy('hour').count().orderBy('hour')\n",
    "\n",
    "# 피크 시간 계산\n",
    "peak_hour_row = hourly_counts.orderBy(col('count').desc()).first()\n",
    "peak_hour = peak_hour_row['hour']\n",
    "peak_hour_count = peak_hour_row['count']\n",
    "\n",
    "# 시간대별 여행 수 데이터 수집 및 시각화\n",
    "hourly_counts = hourly_counts.toPandas()  # hdfs"
   ]
  },
  {
   "cell_type": "code",
   "execution_count": 10,
   "metadata": {
    "execution": {
     "iopub.execute_input": "2024-08-02T12:48:18.157392Z",
     "iopub.status.busy": "2024-08-02T12:48:18.157278Z",
     "iopub.status.idle": "2024-08-02T12:48:18.392416Z",
     "shell.execute_reply": "2024-08-02T12:48:18.391933Z"
    }
   },
   "outputs": [
    {
     "data": {
      "image/png": "[encoded data removed]",
      "text/plain": [
       "<Figure size 1200x600 with 1 Axes>"
      ]
     },
     "metadata": {},
     "output_type": "display_data"
    }
   ],
   "source": [
    "plt.figure(figsize=(12, 6))\n",
    "plt.plot(\n",
    "    hourly_counts[\"hour\"],\n",
    "    hourly_counts[\"count\"],\n",
    "    marker=\"o\",\n",
    "    linestyle=\"-\",\n",
    "    color=\"blue\",\n",
    ")\n",
    "plt.title(\"Number of trips per day\")\n",
    "plt.xlabel(\"Time zone (time)\")\n",
    "plt.ylabel(\"the number of trips\")\n",
    "plt.xticks(range(24))  # 0부터 23까지 시간대 표시\n",
    "plt.grid(True)\n",
    "\n",
    "# 피크 시간 강조\n",
    "plt.axvline(\n",
    "    x=peak_hour,\n",
    "    color=\"red\",\n",
    "    linestyle=\"--\",\n",
    "    label=f\"peak time: at {peak_hour} ({peak_hour_count} counts)\",\n",
    ")\n",
    "plt.legend()\n",
    "\n",
    "# 그래프 표시\n",
    "plt.tight_layout()\n",
    "plt.show()"
   ]
  },
  {
   "cell_type": "markdown",
   "metadata": {},
   "source": [
    "### weather data"
   ]
  },
  {
   "cell_type": "code",
   "execution_count": 11,
   "metadata": {
    "execution": {
     "iopub.execute_input": "2024-08-02T12:48:18.394124Z",
     "iopub.status.busy": "2024-08-02T12:48:18.393991Z",
     "iopub.status.idle": "2024-08-02T12:48:18.623538Z",
     "shell.execute_reply": "2024-08-02T12:48:18.622939Z"
    }
   },
   "outputs": [],
   "source": [
    "weather_file_path = \"hdfs://hadoop-single:9000/opt/hadoop/weather/weather.csv\"\n",
    "weather_df = spark.read.csv(\n",
    "    weather_file_path,\n",
    "    header=True,\n",
    "    inferSchema=True,\n",
    ")"
   ]
  },
  {
   "cell_type": "code",
   "execution_count": 12,
   "metadata": {
    "execution": {
     "iopub.execute_input": "2024-08-02T12:48:18.625407Z",
     "iopub.status.busy": "2024-08-02T12:48:18.625160Z",
     "iopub.status.idle": "2024-08-02T12:48:30.405399Z",
     "shell.execute_reply": "2024-08-02T12:48:30.404169Z"
    }
   },
   "outputs": [
    {
     "name": "stderr",
     "output_type": "stream",
     "text": [
      "\r\n",
      "[Stage 27:============================================>           (11 + 3) / 14]\r"
     ]
    },
    {
     "name": "stderr",
     "output_type": "stream",
     "text": [
      "\r\n",
      "[Stage 27:================================================>       (12 + 2) / 14]\r"
     ]
    },
    {
     "name": "stderr",
     "output_type": "stream",
     "text": [
      "\r\n",
      "[Stage 27:====================================================>   (13 + 1) / 14]\r"
     ]
    },
    {
     "name": "stderr",
     "output_type": "stream",
     "text": [
      "\r\n",
      "                                                                                \r"
     ]
    }
   ],
   "source": [
    "combined_df = combined_df.withColumn(\n",
    "    \"pickup_datetime\", date_format(col(\"pickup_datetime\"), \"yyyy-MM-dd HH:mm:ss\")\n",
    ")\n",
    "combined_df = combined_df.repartition(10)\n",
    "tlc_df = combined_df.toPandas()"
   ]
  },
  {
   "cell_type": "code",
   "execution_count": 13,
   "metadata": {
    "execution": {
     "iopub.execute_input": "2024-08-02T12:48:30.407951Z",
     "iopub.status.busy": "2024-08-02T12:48:30.407836Z",
     "iopub.status.idle": "2024-08-02T12:48:30.480447Z",
     "shell.execute_reply": "2024-08-02T12:48:30.480042Z"
    }
   },
   "outputs": [],
   "source": [
    "weather_df = weather_df.withColumn(\"time\", date_format(col(\"time\"), \"yyyy-MM-dd HH:mm:ss\"))\n",
    "weather_df = weather_df.toPandas()"
   ]
  },
  {
   "cell_type": "markdown",
   "metadata": {},
   "source": [
    "# 강수량에 따른 평균 택시 여행 시간과 거리 계산"
   ]
  },
  {
   "cell_type": "code",
   "execution_count": 14,
   "metadata": {
    "execution": {
     "iopub.execute_input": "2024-08-02T12:48:30.481991Z",
     "iopub.status.busy": "2024-08-02T12:48:30.481879Z",
     "iopub.status.idle": "2024-08-02T12:48:31.569384Z",
     "shell.execute_reply": "2024-08-02T12:48:31.569017Z"
    }
   },
   "outputs": [
    {
     "data": {
      "text/html": [
       "<div>\n",
       "<style scoped>\n",
       "    .dataframe tbody tr th:only-of-type {\n",
       "        vertical-align: middle;\n",
       "    }\n",
       "\n",
       "    .dataframe tbody tr th {\n",
       "        vertical-align: top;\n",
       "    }\n",
       "\n",
       "    .dataframe thead th {\n",
       "        text-align: right;\n",
       "    }\n",
       "</style>\n",
       "<table border=\"1\" class=\"dataframe\">\n",
       "  <thead>\n",
       "    <tr style=\"text-align: right;\">\n",
       "      <th></th>\n",
       "      <th>pickup_datetime</th>\n",
       "      <th>trip_distance</th>\n",
       "      <th>trip_duration</th>\n",
       "      <th>temperature_2m (°C)</th>\n",
       "      <th>rain (mm)</th>\n",
       "    </tr>\n",
       "  </thead>\n",
       "  <tbody>\n",
       "    <tr>\n",
       "      <th>0</th>\n",
       "      <td>2022-07-01 00:00:01</td>\n",
       "      <td>7.100000</td>\n",
       "      <td>19.366667</td>\n",
       "      <td>27.2</td>\n",
       "      <td>0.0</td>\n",
       "    </tr>\n",
       "    <tr>\n",
       "      <th>1</th>\n",
       "      <td>2022-07-01 00:00:02</td>\n",
       "      <td>2.068183</td>\n",
       "      <td>16.700000</td>\n",
       "      <td>27.2</td>\n",
       "      <td>0.0</td>\n",
       "    </tr>\n",
       "    <tr>\n",
       "      <th>2</th>\n",
       "      <td>2022-07-01 00:00:03</td>\n",
       "      <td>0.500000</td>\n",
       "      <td>3.650000</td>\n",
       "      <td>27.2</td>\n",
       "      <td>0.0</td>\n",
       "    </tr>\n",
       "    <tr>\n",
       "      <th>3</th>\n",
       "      <td>2022-07-01 00:00:03</td>\n",
       "      <td>31.840000</td>\n",
       "      <td>51.716667</td>\n",
       "      <td>27.2</td>\n",
       "      <td>0.0</td>\n",
       "    </tr>\n",
       "    <tr>\n",
       "      <th>4</th>\n",
       "      <td>2022-07-01 00:00:03</td>\n",
       "      <td>17.550000</td>\n",
       "      <td>35.250000</td>\n",
       "      <td>27.2</td>\n",
       "      <td>0.0</td>\n",
       "    </tr>\n",
       "    <tr>\n",
       "      <th>...</th>\n",
       "      <td>...</td>\n",
       "      <td>...</td>\n",
       "      <td>...</td>\n",
       "      <td>...</td>\n",
       "      <td>...</td>\n",
       "    </tr>\n",
       "    <tr>\n",
       "      <th>3223309</th>\n",
       "      <td>2022-07-30 23:56:06</td>\n",
       "      <td>0.600000</td>\n",
       "      <td>3.166667</td>\n",
       "      <td>29.6</td>\n",
       "      <td>0.0</td>\n",
       "    </tr>\n",
       "    <tr>\n",
       "      <th>3223310</th>\n",
       "      <td>2022-07-30 23:56:15</td>\n",
       "      <td>0.590000</td>\n",
       "      <td>3.016667</td>\n",
       "      <td>29.6</td>\n",
       "      <td>0.0</td>\n",
       "    </tr>\n",
       "    <tr>\n",
       "      <th>3223311</th>\n",
       "      <td>2022-07-30 23:56:19</td>\n",
       "      <td>1.070000</td>\n",
       "      <td>3.683333</td>\n",
       "      <td>29.6</td>\n",
       "      <td>0.0</td>\n",
       "    </tr>\n",
       "    <tr>\n",
       "      <th>3223312</th>\n",
       "      <td>2022-07-30 23:56:28</td>\n",
       "      <td>0.800000</td>\n",
       "      <td>3.316667</td>\n",
       "      <td>29.6</td>\n",
       "      <td>0.0</td>\n",
       "    </tr>\n",
       "    <tr>\n",
       "      <th>3223313</th>\n",
       "      <td>2022-07-30 23:57:33</td>\n",
       "      <td>0.400000</td>\n",
       "      <td>1.983333</td>\n",
       "      <td>29.6</td>\n",
       "      <td>0.0</td>\n",
       "    </tr>\n",
       "  </tbody>\n",
       "</table>\n",
       "<p>3223314 rows × 5 columns</p>\n",
       "</div>"
      ],
      "text/plain": [
       "            pickup_datetime  trip_distance  trip_duration  \\\n",
       "0       2022-07-01 00:00:01       7.100000      19.366667   \n",
       "1       2022-07-01 00:00:02       2.068183      16.700000   \n",
       "2       2022-07-01 00:00:03       0.500000       3.650000   \n",
       "3       2022-07-01 00:00:03      31.840000      51.716667   \n",
       "4       2022-07-01 00:00:03      17.550000      35.250000   \n",
       "...                     ...            ...            ...   \n",
       "3223309 2022-07-30 23:56:06       0.600000       3.166667   \n",
       "3223310 2022-07-30 23:56:15       0.590000       3.016667   \n",
       "3223311 2022-07-30 23:56:19       1.070000       3.683333   \n",
       "3223312 2022-07-30 23:56:28       0.800000       3.316667   \n",
       "3223313 2022-07-30 23:57:33       0.400000       1.983333   \n",
       "\n",
       "         temperature_2m (°C)  rain (mm)  \n",
       "0                       27.2        0.0  \n",
       "1                       27.2        0.0  \n",
       "2                       27.2        0.0  \n",
       "3                       27.2        0.0  \n",
       "4                       27.2        0.0  \n",
       "...                      ...        ...  \n",
       "3223309                 29.6        0.0  \n",
       "3223310                 29.6        0.0  \n",
       "3223311                 29.6        0.0  \n",
       "3223312                 29.6        0.0  \n",
       "3223313                 29.6        0.0  \n",
       "\n",
       "[3223314 rows x 5 columns]"
      ]
     },
     "execution_count": 14,
     "metadata": {},
     "output_type": "execute_result"
    }
   ],
   "source": [
    "# 시간 형식 맞추기\n",
    "weather_df[\"time\"] = pd.to_datetime(weather_df[\"time\"], format=\"%Y-%m-%d %H:%M:%S\")\n",
    "tlc_df[\"pickup_datetime\"] = pd.to_datetime(tlc_df[\"pickup_datetime\"], format=\"%Y-%m-%d %H:%M:%S\")\n",
    "\n",
    "# 시간에 맞게 정렬 (merge_asof 사용을 위해 필수)\n",
    "weather_df = weather_df.sort_values(\"time\")\n",
    "tlc_df = tlc_df.sort_values(\"pickup_datetime\")\n",
    "\n",
    "# 가장 가까운 시간의 날씨 데이터 추가\n",
    "tlc_df = pd.merge_asof(\n",
    "    tlc_df,\n",
    "    weather_df[[\"time\", \"temperature_2m (°C)\", \"rain (mm)\"]],\n",
    "    left_on=\"pickup_datetime\",\n",
    "    right_on=\"time\",\n",
    "    direction=\"backward\",\n",
    ")\n",
    "\n",
    "# 불필요한 열 제거\n",
    "tlc_df = tlc_df.drop(columns=[\"time\"])\n",
    "tlc_df"
   ]
  },
  {
   "cell_type": "code",
   "execution_count": 15,
   "metadata": {
    "execution": {
     "iopub.execute_input": "2024-08-02T12:48:31.570756Z",
     "iopub.status.busy": "2024-08-02T12:48:31.570636Z",
     "iopub.status.idle": "2024-08-02T12:48:32.109398Z",
     "shell.execute_reply": "2024-08-02T12:48:32.108928Z"
    }
   },
   "outputs": [
    {
     "data": {
      "text/html": [
       "<div>\n",
       "<style scoped>\n",
       "    .dataframe tbody tr th:only-of-type {\n",
       "        vertical-align: middle;\n",
       "    }\n",
       "\n",
       "    .dataframe tbody tr th {\n",
       "        vertical-align: top;\n",
       "    }\n",
       "\n",
       "    .dataframe thead tr th {\n",
       "        text-align: left;\n",
       "    }\n",
       "\n",
       "    .dataframe thead tr:last-of-type th {\n",
       "        text-align: right;\n",
       "    }\n",
       "</style>\n",
       "<table border=\"1\" class=\"dataframe\">\n",
       "  <thead>\n",
       "    <tr>\n",
       "      <th></th>\n",
       "      <th>trip_distance</th>\n",
       "      <th colspan=\"2\" halign=\"left\">trip_duration</th>\n",
       "      <th>temperature_2m (°C)</th>\n",
       "    </tr>\n",
       "    <tr>\n",
       "      <th></th>\n",
       "      <th>mean</th>\n",
       "      <th>mean</th>\n",
       "      <th>count</th>\n",
       "      <th>mean</th>\n",
       "    </tr>\n",
       "    <tr>\n",
       "      <th>rain_category</th>\n",
       "      <th></th>\n",
       "      <th></th>\n",
       "      <th></th>\n",
       "      <th></th>\n",
       "    </tr>\n",
       "  </thead>\n",
       "  <tbody>\n",
       "    <tr>\n",
       "      <th>Heavy Rain</th>\n",
       "      <td>3.630964</td>\n",
       "      <td>16.163139</td>\n",
       "      <td>41098</td>\n",
       "      <td>29.783401</td>\n",
       "    </tr>\n",
       "    <tr>\n",
       "      <th>Light Rain</th>\n",
       "      <td>3.757407</td>\n",
       "      <td>17.474603</td>\n",
       "      <td>321405</td>\n",
       "      <td>26.955718</td>\n",
       "    </tr>\n",
       "    <tr>\n",
       "      <th>No Rain</th>\n",
       "      <td>3.682079</td>\n",
       "      <td>17.886458</td>\n",
       "      <td>2860811</td>\n",
       "      <td>26.976381</td>\n",
       "    </tr>\n",
       "  </tbody>\n",
       "</table>\n",
       "</div>"
      ],
      "text/plain": [
       "              trip_distance trip_duration          temperature_2m (°C)\n",
       "                       mean          mean    count                mean\n",
       "rain_category                                                         \n",
       "Heavy Rain         3.630964     16.163139    41098           29.783401\n",
       "Light Rain         3.757407     17.474603   321405           26.955718\n",
       "No Rain            3.682079     17.886458  2860811           26.976381"
      ]
     },
     "execution_count": 15,
     "metadata": {},
     "output_type": "execute_result"
    }
   ],
   "source": [
    "# 비의 양에 따라 구분하기 위한 새로운 컬럼 생성\n",
    "def rain_category(rain):\n",
    "    if rain == 0:\n",
    "        return \"No Rain\"\n",
    "    elif rain <= 2:\n",
    "        return \"Light Rain\"\n",
    "    else:\n",
    "        return \"Heavy Rain\"\n",
    "\n",
    "\n",
    "tlc_df[\"rain_category\"] = tlc_df[\"rain (mm)\"].apply(rain_category)\n",
    "\n",
    "# rain_category 컬럼을 기준으로 그룹화\n",
    "rain_groups = tlc_df.groupby(\"rain_category\")\n",
    "\n",
    "# 각 그룹별로 요약 통계를 계산\n",
    "rain_stats = rain_groups.agg(\n",
    "    {\n",
    "        \"trip_distance\": \"mean\",\n",
    "        \"trip_duration\": [\"mean\", \"count\"],\n",
    "        \"temperature_2m (°C)\": \"mean\",\n",
    "    }\n",
    ")\n",
    "\n",
    "rain_stats"
   ]
  },
  {
   "cell_type": "code",
   "execution_count": 16,
   "metadata": {
    "execution": {
     "iopub.execute_input": "2024-08-02T12:48:32.110795Z",
     "iopub.status.busy": "2024-08-02T12:48:32.110688Z",
     "iopub.status.idle": "2024-08-02T12:48:32.117234Z",
     "shell.execute_reply": "2024-08-02T12:48:32.116891Z"
    }
   },
   "outputs": [
    {
     "data": {
      "text/html": [
       "<div>\n",
       "<style scoped>\n",
       "    .dataframe tbody tr th:only-of-type {\n",
       "        vertical-align: middle;\n",
       "    }\n",
       "\n",
       "    .dataframe tbody tr th {\n",
       "        vertical-align: top;\n",
       "    }\n",
       "\n",
       "    .dataframe thead th {\n",
       "        text-align: right;\n",
       "    }\n",
       "</style>\n",
       "<table border=\"1\" class=\"dataframe\">\n",
       "  <thead>\n",
       "    <tr style=\"text-align: right;\">\n",
       "      <th></th>\n",
       "      <th>rain_category</th>\n",
       "      <th>trip_distance</th>\n",
       "      <th>trip_duration</th>\n",
       "      <th>count</th>\n",
       "      <th>temperature</th>\n",
       "    </tr>\n",
       "  </thead>\n",
       "  <tbody>\n",
       "    <tr>\n",
       "      <th>0</th>\n",
       "      <td>No Rain</td>\n",
       "      <td>3.682079</td>\n",
       "      <td>17.886458</td>\n",
       "      <td>2860811</td>\n",
       "      <td>26.976381</td>\n",
       "    </tr>\n",
       "    <tr>\n",
       "      <th>1</th>\n",
       "      <td>Light Rain</td>\n",
       "      <td>3.757407</td>\n",
       "      <td>17.474603</td>\n",
       "      <td>321405</td>\n",
       "      <td>26.955718</td>\n",
       "    </tr>\n",
       "    <tr>\n",
       "      <th>2</th>\n",
       "      <td>Heavy Rain</td>\n",
       "      <td>3.630964</td>\n",
       "      <td>16.163139</td>\n",
       "      <td>41098</td>\n",
       "      <td>29.783401</td>\n",
       "    </tr>\n",
       "  </tbody>\n",
       "</table>\n",
       "</div>"
      ],
      "text/plain": [
       "  rain_category  trip_distance  trip_duration    count  temperature\n",
       "0       No Rain       3.682079      17.886458  2860811    26.976381\n",
       "1    Light Rain       3.757407      17.474603   321405    26.955718\n",
       "2    Heavy Rain       3.630964      16.163139    41098    29.783401"
      ]
     },
     "execution_count": 16,
     "metadata": {},
     "output_type": "execute_result"
    }
   ],
   "source": [
    "rdf = rain_stats.reset_index()\n",
    "rdf.columns = [\"rain_category\", \"trip_distance\", \"trip_duration\", \"count\", \"temperature\"]\n",
    "rdf\n",
    "\n",
    "\n",
    "# 원하는 순서를 정의\n",
    "order = [\"No Rain\", \"Light Rain\", \"Heavy Rain\"]\n",
    "\n",
    "# 'temperature_category' 열을 Categorical 타입으로 변환하고, 순서를 정의\n",
    "rdf['rain_category'] = pd.Categorical(rdf['rain_category'], categories=order, ordered=True)\n",
    "\n",
    "# 데이터프레임을 지정된 순서로 정렬\n",
    "rdf = rdf.sort_values('rain_category').reset_index(drop=True)\n",
    "\n",
    "rdf"
   ]
  },
  {
   "cell_type": "code",
   "execution_count": 17,
   "metadata": {
    "execution": {
     "iopub.execute_input": "2024-08-02T12:48:32.118382Z",
     "iopub.status.busy": "2024-08-02T12:48:32.118289Z",
     "iopub.status.idle": "2024-08-02T12:48:32.229387Z",
     "shell.execute_reply": "2024-08-02T12:48:32.228981Z"
    }
   },
   "outputs": [
    {
     "data": {
      "image/png": "[encoded data removed]",
      "text/plain": [
       "<Figure size 1200x600 with 2 Axes>"
      ]
     },
     "metadata": {},
     "output_type": "display_data"
    }
   ],
   "source": [
    "# 그래프 그리기\n",
    "fig, ax1 = plt.subplots(figsize=(12, 6))\n",
    "\n",
    "# 첫 번째 y축을 사용하여 trip_distance를 그립니다.\n",
    "ax1.plot(rdf['rain_category'], rdf['trip_distance'], marker='o', color='b', label='Trip Distance')\n",
    "ax1.set_xlabel('Rain Category')\n",
    "ax1.set_ylabel('Trip Distance', color='b')\n",
    "ax1.tick_params(axis='y', labelcolor='b')\n",
    "\n",
    "# 두 번째 y축을 사용하여 trip_duration을 그립니다.\n",
    "ax2 = ax1.twinx()\n",
    "ax2.plot(rdf['rain_category'], rdf['trip_duration'], marker='o', color='g', label='Trip Duration')\n",
    "ax2.set_ylabel('Trip Duration', color='g')\n",
    "ax2.tick_params(axis='y', labelcolor='g')\n",
    "\n",
    "# 타이틀과 레전드를 추가합니다.\n",
    "fig.suptitle('Trip Distance and Duration by Rain Category with Temperature')\n",
    "fig.tight_layout()\n",
    "\n",
    "# 레전드와 범례\n",
    "lines, labels = ax1.get_legend_handles_labels()\n",
    "lines2, labels2 = ax2.get_legend_handles_labels()\n",
    "ax1.legend(lines + lines2, labels + labels2, loc='upper left')\n",
    "\n",
    "plt.xticks(rotation=45)\n",
    "plt.show()"
   ]
  },
  {
   "cell_type": "markdown",
   "metadata": {},
   "source": [
    "# 기온에 따른 평균 택시 여행 시간과 거리 계산"
   ]
  },
  {
   "cell_type": "code",
   "execution_count": 18,
   "metadata": {
    "execution": {
     "iopub.execute_input": "2024-08-02T12:48:32.230890Z",
     "iopub.status.busy": "2024-08-02T12:48:32.230773Z",
     "iopub.status.idle": "2024-08-02T12:48:32.236390Z",
     "shell.execute_reply": "2024-08-02T12:48:32.235999Z"
    }
   },
   "outputs": [
    {
     "data": {
      "text/plain": [
       "count    744.000000\n",
       "mean      26.449194\n",
       "std        3.093178\n",
       "min       19.100000\n",
       "25%       24.100000\n",
       "50%       26.200000\n",
       "75%       28.400000\n",
       "max       34.600000\n",
       "Name: temperature_2m (°C), dtype: float64"
      ]
     },
     "execution_count": 18,
     "metadata": {},
     "output_type": "execute_result"
    }
   ],
   "source": [
    "weather_df['temperature_2m (°C)'].describe()"
   ]
  },
  {
   "cell_type": "code",
   "execution_count": 19,
   "metadata": {
    "execution": {
     "iopub.execute_input": "2024-08-02T12:48:32.237616Z",
     "iopub.status.busy": "2024-08-02T12:48:32.237514Z",
     "iopub.status.idle": "2024-08-02T12:48:32.806356Z",
     "shell.execute_reply": "2024-08-02T12:48:32.805890Z"
    }
   },
   "outputs": [
    {
     "data": {
      "text/html": [
       "<div>\n",
       "<style scoped>\n",
       "    .dataframe tbody tr th:only-of-type {\n",
       "        vertical-align: middle;\n",
       "    }\n",
       "\n",
       "    .dataframe tbody tr th {\n",
       "        vertical-align: top;\n",
       "    }\n",
       "\n",
       "    .dataframe thead tr th {\n",
       "        text-align: left;\n",
       "    }\n",
       "\n",
       "    .dataframe thead tr:last-of-type th {\n",
       "        text-align: right;\n",
       "    }\n",
       "</style>\n",
       "<table border=\"1\" class=\"dataframe\">\n",
       "  <thead>\n",
       "    <tr>\n",
       "      <th></th>\n",
       "      <th>trip_distance</th>\n",
       "      <th colspan=\"2\" halign=\"left\">trip_duration</th>\n",
       "      <th>rain (mm)</th>\n",
       "    </tr>\n",
       "    <tr>\n",
       "      <th></th>\n",
       "      <th>mean</th>\n",
       "      <th>mean</th>\n",
       "      <th>count</th>\n",
       "      <th>mean</th>\n",
       "    </tr>\n",
       "    <tr>\n",
       "      <th>temperature_category</th>\n",
       "      <th></th>\n",
       "      <th></th>\n",
       "      <th></th>\n",
       "      <th></th>\n",
       "    </tr>\n",
       "  </thead>\n",
       "  <tbody>\n",
       "    <tr>\n",
       "      <th>Not Hot</th>\n",
       "      <td>3.676232</td>\n",
       "      <td>18.088650</td>\n",
       "      <td>708982</td>\n",
       "      <td>0.044949</td>\n",
       "    </tr>\n",
       "    <tr>\n",
       "      <th>Slightly Hot</th>\n",
       "      <td>3.732005</td>\n",
       "      <td>18.186081</td>\n",
       "      <td>662233</td>\n",
       "      <td>0.028426</td>\n",
       "    </tr>\n",
       "    <tr>\n",
       "      <th>Very Hot</th>\n",
       "      <td>3.608159</td>\n",
       "      <td>17.408184</td>\n",
       "      <td>1025450</td>\n",
       "      <td>0.107562</td>\n",
       "    </tr>\n",
       "    <tr>\n",
       "      <th>fairly Hot</th>\n",
       "      <td>3.765540</td>\n",
       "      <td>17.820503</td>\n",
       "      <td>826649</td>\n",
       "      <td>0.074988</td>\n",
       "    </tr>\n",
       "  </tbody>\n",
       "</table>\n",
       "</div>"
      ],
      "text/plain": [
       "                     trip_distance trip_duration          rain (mm)\n",
       "                              mean          mean    count      mean\n",
       "temperature_category                                               \n",
       "Not Hot                   3.676232     18.088650   708982  0.044949\n",
       "Slightly Hot              3.732005     18.186081   662233  0.028426\n",
       "Very Hot                  3.608159     17.408184  1025450  0.107562\n",
       "fairly Hot                3.765540     17.820503   826649  0.074988"
      ]
     },
     "execution_count": 19,
     "metadata": {},
     "output_type": "execute_result"
    }
   ],
   "source": [
    "# 온도에 따라 구분하기 위한 새로운 컬럼 생성\n",
    "def temperature_category(temp):\n",
    "    if temp <= 24.1:\n",
    "        return \"Not Hot\"\n",
    "    elif temp <= 26.2:\n",
    "        return \"Slightly Hot\"\n",
    "    elif temp <= 28.4:\n",
    "        return \"fairly Hot\"\n",
    "    else:\n",
    "        return \"Very Hot\"\n",
    "\n",
    "\n",
    "tlc_df[\"temperature_category\"] = tlc_df[\"temperature_2m (°C)\"].apply(\n",
    "    temperature_category\n",
    ")\n",
    "\n",
    "# temperature_category 컬럼을 기준으로 그룹화\n",
    "temperature_groups = tlc_df.groupby(\"temperature_category\")\n",
    "\n",
    "# 각 그룹별로 요약 통계를 계산\n",
    "temperature_stats = temperature_groups.agg(\n",
    "    {\n",
    "        \"trip_distance\": \"mean\",\n",
    "        \"trip_duration\": [\"mean\", \"count\"],\n",
    "        \"rain (mm)\": \"mean\",\n",
    "    }\n",
    ")\n",
    "\n",
    "temperature_stats"
   ]
  },
  {
   "cell_type": "code",
   "execution_count": 20,
   "metadata": {
    "execution": {
     "iopub.execute_input": "2024-08-02T12:48:32.807706Z",
     "iopub.status.busy": "2024-08-02T12:48:32.807587Z",
     "iopub.status.idle": "2024-08-02T12:48:32.813220Z",
     "shell.execute_reply": "2024-08-02T12:48:32.812852Z"
    }
   },
   "outputs": [
    {
     "data": {
      "text/html": [
       "<div>\n",
       "<style scoped>\n",
       "    .dataframe tbody tr th:only-of-type {\n",
       "        vertical-align: middle;\n",
       "    }\n",
       "\n",
       "    .dataframe tbody tr th {\n",
       "        vertical-align: top;\n",
       "    }\n",
       "\n",
       "    .dataframe thead tr th {\n",
       "        text-align: left;\n",
       "    }\n",
       "</style>\n",
       "<table border=\"1\" class=\"dataframe\">\n",
       "  <thead>\n",
       "    <tr>\n",
       "      <th></th>\n",
       "      <th>temperature_category</th>\n",
       "      <th>trip_distance</th>\n",
       "      <th colspan=\"2\" halign=\"left\">trip_duration</th>\n",
       "      <th>rain (mm)</th>\n",
       "    </tr>\n",
       "    <tr>\n",
       "      <th></th>\n",
       "      <th></th>\n",
       "      <th>mean</th>\n",
       "      <th>mean</th>\n",
       "      <th>count</th>\n",
       "      <th>mean</th>\n",
       "    </tr>\n",
       "  </thead>\n",
       "  <tbody>\n",
       "    <tr>\n",
       "      <th>0</th>\n",
       "      <td>Not Hot</td>\n",
       "      <td>3.676232</td>\n",
       "      <td>18.088650</td>\n",
       "      <td>708982</td>\n",
       "      <td>0.044949</td>\n",
       "    </tr>\n",
       "    <tr>\n",
       "      <th>1</th>\n",
       "      <td>Slightly Hot</td>\n",
       "      <td>3.732005</td>\n",
       "      <td>18.186081</td>\n",
       "      <td>662233</td>\n",
       "      <td>0.028426</td>\n",
       "    </tr>\n",
       "    <tr>\n",
       "      <th>2</th>\n",
       "      <td>Very Hot</td>\n",
       "      <td>3.608159</td>\n",
       "      <td>17.408184</td>\n",
       "      <td>1025450</td>\n",
       "      <td>0.107562</td>\n",
       "    </tr>\n",
       "    <tr>\n",
       "      <th>3</th>\n",
       "      <td>fairly Hot</td>\n",
       "      <td>3.765540</td>\n",
       "      <td>17.820503</td>\n",
       "      <td>826649</td>\n",
       "      <td>0.074988</td>\n",
       "    </tr>\n",
       "  </tbody>\n",
       "</table>\n",
       "</div>"
      ],
      "text/plain": [
       "  temperature_category trip_distance trip_duration          rain (mm)\n",
       "                                mean          mean    count      mean\n",
       "0              Not Hot      3.676232     18.088650   708982  0.044949\n",
       "1         Slightly Hot      3.732005     18.186081   662233  0.028426\n",
       "2             Very Hot      3.608159     17.408184  1025450  0.107562\n",
       "3           fairly Hot      3.765540     17.820503   826649  0.074988"
      ]
     },
     "execution_count": 20,
     "metadata": {},
     "output_type": "execute_result"
    }
   ],
   "source": [
    "tdf = temperature_stats.reset_index()\n",
    "tdf"
   ]
  },
  {
   "cell_type": "code",
   "execution_count": 21,
   "metadata": {
    "execution": {
     "iopub.execute_input": "2024-08-02T12:48:32.814770Z",
     "iopub.status.busy": "2024-08-02T12:48:32.814648Z",
     "iopub.status.idle": "2024-08-02T12:48:32.821332Z",
     "shell.execute_reply": "2024-08-02T12:48:32.820990Z"
    }
   },
   "outputs": [
    {
     "data": {
      "text/html": [
       "<div>\n",
       "<style scoped>\n",
       "    .dataframe tbody tr th:only-of-type {\n",
       "        vertical-align: middle;\n",
       "    }\n",
       "\n",
       "    .dataframe tbody tr th {\n",
       "        vertical-align: top;\n",
       "    }\n",
       "\n",
       "    .dataframe thead th {\n",
       "        text-align: right;\n",
       "    }\n",
       "</style>\n",
       "<table border=\"1\" class=\"dataframe\">\n",
       "  <thead>\n",
       "    <tr style=\"text-align: right;\">\n",
       "      <th></th>\n",
       "      <th>temperature_category</th>\n",
       "      <th>trip_distance</th>\n",
       "      <th>trip_duration</th>\n",
       "      <th>count</th>\n",
       "      <th>rain</th>\n",
       "    </tr>\n",
       "  </thead>\n",
       "  <tbody>\n",
       "    <tr>\n",
       "      <th>0</th>\n",
       "      <td>Not Hot</td>\n",
       "      <td>3.676232</td>\n",
       "      <td>18.088650</td>\n",
       "      <td>708982</td>\n",
       "      <td>0.044949</td>\n",
       "    </tr>\n",
       "    <tr>\n",
       "      <th>1</th>\n",
       "      <td>Slightly Hot</td>\n",
       "      <td>3.732005</td>\n",
       "      <td>18.186081</td>\n",
       "      <td>662233</td>\n",
       "      <td>0.028426</td>\n",
       "    </tr>\n",
       "    <tr>\n",
       "      <th>2</th>\n",
       "      <td>fairly Hot</td>\n",
       "      <td>3.765540</td>\n",
       "      <td>17.820503</td>\n",
       "      <td>826649</td>\n",
       "      <td>0.074988</td>\n",
       "    </tr>\n",
       "    <tr>\n",
       "      <th>3</th>\n",
       "      <td>Very Hot</td>\n",
       "      <td>3.608159</td>\n",
       "      <td>17.408184</td>\n",
       "      <td>1025450</td>\n",
       "      <td>0.107562</td>\n",
       "    </tr>\n",
       "  </tbody>\n",
       "</table>\n",
       "</div>"
      ],
      "text/plain": [
       "  temperature_category  trip_distance  trip_duration    count      rain\n",
       "0              Not Hot       3.676232      18.088650   708982  0.044949\n",
       "1         Slightly Hot       3.732005      18.186081   662233  0.028426\n",
       "2           fairly Hot       3.765540      17.820503   826649  0.074988\n",
       "3             Very Hot       3.608159      17.408184  1025450  0.107562"
      ]
     },
     "execution_count": 21,
     "metadata": {},
     "output_type": "execute_result"
    }
   ],
   "source": [
    "new_header = tdf.iloc[0]  # 첫 번째 행을 헤더로 저장\n",
    "tdf.columns = [\"temperature_category\", \"trip_distance\", \"trip_duration\", \"count\", \"rain\"]\n",
    "\n",
    "# 원하는 순서를 정의\n",
    "order = [\"Not Hot\", \"Slightly Hot\", \"fairly Hot\", \"Very Hot\"]\n",
    "\n",
    "# 'temperature_category' 열을 Categorical 타입으로 변환하고, 순서를 정의\n",
    "tdf['temperature_category'] = pd.Categorical(tdf['temperature_category'], categories=order, ordered=True)\n",
    "\n",
    "# 데이터프레임을 지정된 순서로 정렬\n",
    "tdf = tdf.sort_values('temperature_category').reset_index(drop=True)\n",
    "\n",
    "tdf\n"
   ]
  },
  {
   "cell_type": "code",
   "execution_count": 22,
   "metadata": {
    "execution": {
     "iopub.execute_input": "2024-08-02T12:48:32.822633Z",
     "iopub.status.busy": "2024-08-02T12:48:32.822536Z",
     "iopub.status.idle": "2024-08-02T12:48:32.932438Z",
     "shell.execute_reply": "2024-08-02T12:48:32.932064Z"
    }
   },
   "outputs": [
    {
     "data": {
      "image/png": "[encoded data removed]",
      "text/plain": [
       "<Figure size 1000x600 with 2 Axes>"
      ]
     },
     "metadata": {},
     "output_type": "display_data"
    }
   ],
   "source": [
    "# 그래프 그리기\n",
    "fig, ax1 = plt.subplots(figsize=(10, 6))\n",
    "\n",
    "# 첫 번째 y축을 사용하여 trip_distance_mean을 그립니다.\n",
    "ax1.plot(tdf['temperature_category'], tdf['trip_distance'], marker='o', color='b', label='Trip Distance Mean')\n",
    "ax1.set_xlabel('Temperature Category')\n",
    "ax1.set_ylabel('Trip Distance Mean', color='b')\n",
    "ax1.tick_params(axis='y', labelcolor='b')\n",
    "\n",
    "# 두 번째 y축을 사용하여 trip_duration_mean을 그립니다.\n",
    "ax2 = ax1.twinx()\n",
    "ax2.plot(tdf['temperature_category'], tdf['trip_duration'], marker='o', color='g', label='Trip Duration Mean')\n",
    "ax2.set_ylabel('Trip Duration Mean', color='g')\n",
    "ax2.tick_params(axis='y', labelcolor='g')\n",
    "\n",
    "# 타이틀과 레전드를 추가합니다.\n",
    "fig.suptitle('Trip Distance and Duration by Temperature Category')\n",
    "fig.tight_layout()\n",
    "fig.legend(loc='upper left', bbox_to_anchor=(0.1,0.9))\n",
    "plt.xticks(rotation=45)\n",
    "plt.show()"
   ]
  }
 ],
 "metadata": {
  "kernelspec": {
   "display_name": "Python 3",
   "language": "python",
   "name": "python3"
  },
  "language_info": {
   "codemirror_mode": {
    "name": "ipython",
    "version": 3
   },
   "file_extension": ".py",
   "mimetype": "text/x-python",
   "name": "python",
   "nbconvert_exporter": "python",
   "pygments_lexer": "ipython3",
   "version": "3.8.10"
  }
 },
 "nbformat": 4,
 "nbformat_minor": 2
}
