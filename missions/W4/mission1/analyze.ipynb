{
 "cells": [
  {
   "cell_type": "code",
   "execution_count": null,
   "metadata": {},
   "outputs": [
    {
     "name": "stdout",
     "output_type": "stream",
     "text": [
      "root\n",
      " |-- dispatching_base_num: string (nullable = true)\n",
      " |-- pickup_datetime: timestamp (nullable = true)\n",
      " |-- dropOff_datetime: timestamp (nullable = true)\n",
      " |-- PUlocationID: double (nullable = true)\n",
      " |-- DOlocationID: double (nullable = true)\n",
      " |-- SR_Flag: integer (nullable = true)\n",
      " |-- Affiliated_base_number: string (nullable = true)\n",
      "\n"
     ]
    }
   ],
   "source": [
    "# Import necessary libraries\n",
    "from pyspark.sql import SparkSession\n",
    "from pyspark.sql.functions import col, unix_timestamp, hour, avg\n",
    "import matplotlib.pyplot as plt\n",
    "\n",
    "# 1. 환경 설정 및 데이터 로딩\n",
    "spark = SparkSession.builder \\\n",
    "    .appName(\"NYC TLC Trip Record Analysis\") \\\n",
    "    .getOrCreate()\n",
    "\n",
    "# Parquet 또는 CSV 파일 로딩\n",
    "# 아래에서 \"parquet\" 또는 \"csv\" 파일 형식에 맞게 파일 경로를 조정합니다.\n",
    "df = spark.read.parquet(\"/mnt/data/fhv_tripdata_2022-07.parquet\")\n",
    "# 또는 CSV 파일인 경우\n",
    "# df = spark.read.csv(\"/mnt/data/fhv_tripdata_2022-07.csv\", header=True, inferSchema=True)\n",
    "\n",
    "# 데이터 구조 확인\n",
    "df.printSchema()\n",
    "df.show(5)"
   ]
  },
  {
   "cell_type": "code",
   "execution_count": null,
   "metadata": {},
   "outputs": [
    {
     "name": "stdout",
     "output_type": "stream",
     "text": [
      "+--------------------+-------------------+-------------------+------------+------------+-------+----------------------+\n",
      "|dispatching_base_num|    pickup_datetime|   dropOff_datetime|PUlocationID|DOlocationID|SR_Flag|Affiliated_base_number|\n",
      "+--------------------+-------------------+-------------------+------------+------------+-------+----------------------+\n",
      "|              B00037|2022-07-01 00:11:50|2022-07-01 00:24:04|        null|        39.0|   null|                B00037|\n",
      "|              B00037|2022-07-01 00:49:45|2022-07-01 00:57:04|        null|        89.0|   null|                B00037|\n",
      "|              B00111|2022-07-01 00:06:22|2022-07-01 01:26:00|        null|        null|   null|                B00111|\n",
      "|              B00112|2022-07-01 00:05:40|2022-07-01 00:18:33|        null|        22.0|   null|                B00112|\n",
      "|              B00112|2022-07-01 00:49:48|2022-07-01 01:01:53|        null|        67.0|   null|                B00112|\n",
      "+--------------------+-------------------+-------------------+------------+------------+-------+----------------------+\n",
      "only showing top 5 rows\n",
      "\n",
      "+--------------------+-------------------+-------------------+------------+------------+-------+----------------------+---------------------+\n",
      "|dispatching_base_num|    pickup_datetime|   dropoff_datetime|PUlocationID|DOlocationID|SR_Flag|Affiliated_base_number|trip_duration_seconds|\n",
      "+--------------------+-------------------+-------------------+------------+------------+-------+----------------------+---------------------+\n",
      "|              B00037|2022-07-01 00:11:50|2022-07-01 00:24:04|        null|        39.0|   null|                B00037|                  734|\n",
      "|              B00037|2022-07-01 00:49:45|2022-07-01 00:57:04|        null|        89.0|   null|                B00037|                  439|\n",
      "|              B00111|2022-07-01 00:06:22|2022-07-01 01:26:00|        null|        null|   null|                B00111|                 4778|\n",
      "|              B00112|2022-07-01 00:05:40|2022-07-01 00:18:33|        null|        22.0|   null|                B00112|                  773|\n",
      "|              B00112|2022-07-01 00:49:48|2022-07-01 01:01:53|        null|        67.0|   null|                B00112|                  725|\n",
      "+--------------------+-------------------+-------------------+------------+------------+-------+----------------------+---------------------+\n",
      "only showing top 5 rows\n",
      "\n"
     ]
    }
   ],
   "source": [
    "# 2. 데이터 정리 및 변환\n",
    "# 날짜와 시간을 표준 타임스탬프로 변환\n",
    "df = df.withColumn(\"pickup_datetime\", col(\"pickup_datetime\").cast(\"timestamp\"))\n",
    "df = df.withColumn(\"dropoff_datetime\", col(\"dropoff_datetime\").cast(\"timestamp\"))\n",
    "\n",
    "# 여행 시간(초) 계산\n",
    "df = df.withColumn(\"trip_duration_seconds\", unix_timestamp(\"dropoff_datetime\") - unix_timestamp(\"pickup_datetime\"))\n",
    "\n",
    "# 음수 거리 또는 시간이 있는 레코드 필터링\n",
    "df = df.filter(col(\"trip_duration_seconds\") > 0)\n",
    "\n",
    "# 정리된 데이터 확인\n",
    "df.show(5)\n"
   ]
  },
  {
   "cell_type": "code",
   "execution_count": null,
   "metadata": {},
   "outputs": [
    {
     "name": "stderr",
     "output_type": "stream",
     "text": [
      "                                                                                \r"
     ]
    },
    {
     "data": {
      "image/png": "[encoded data removed]",
      "text/plain": [
       "<Figure size 1000x600 with 1 Axes>"
      ]
     },
     "metadata": {},
     "output_type": "display_data"
    },
    {
     "ename": "AnalysisException",
     "evalue": "path file:/mnt/data/cleaned_fhv_tripdata_2022-07.parquet already exists.",
     "output_type": "error",
     "traceback": [
      "\u001b[0;31m---------------------------------------------------------------------------\u001b[0m",
      "\u001b[0;31mAnalysisException\u001b[0m                         Traceback (most recent call last)",
      "Cell \u001b[0;32mIn[6], line 18\u001b[0m\n\u001b[1;32m     15\u001b[0m plt\u001b[38;5;241m.\u001b[39mshow()\n\u001b[1;32m     17\u001b[0m \u001b[38;5;66;03m# Save the cleaned data back to Parquet (optional)\u001b[39;00m\n\u001b[0;32m---> 18\u001b[0m \u001b[43mdf\u001b[49m\u001b[38;5;241;43m.\u001b[39;49m\u001b[43mwrite\u001b[49m\u001b[38;5;241;43m.\u001b[39;49m\u001b[43mparquet\u001b[49m\u001b[43m(\u001b[49m\u001b[38;5;124;43m\"\u001b[39;49m\u001b[38;5;124;43m/mnt/data/cleaned_fhv_tripdata_2022-07.parquet\u001b[39;49m\u001b[38;5;124;43m\"\u001b[39;49m\u001b[43m)\u001b[49m\n\u001b[1;32m     20\u001b[0m \u001b[38;5;66;03m# Stop the Spark session\u001b[39;00m\n\u001b[1;32m     21\u001b[0m spark\u001b[38;5;241m.\u001b[39mstop()\n",
      "File \u001b[0;32m~opt/bitnami/spark/python/pyspark/sql/readwriter.py:885\u001b[0m, in \u001b[0;36mDataFrameWriter.parquet\u001b[0;34m(self, path, mode, partitionBy, compression)\u001b[0m\n\u001b[1;32m    883\u001b[0m     \u001b[38;5;28mself\u001b[39m\u001b[38;5;241m.\u001b[39mpartitionBy(partitionBy)\n\u001b[1;32m    884\u001b[0m \u001b[38;5;28mself\u001b[39m\u001b[38;5;241m.\u001b[39m_set_opts(compression\u001b[38;5;241m=\u001b[39mcompression)\n\u001b[0;32m--> 885\u001b[0m \u001b[38;5;28;43mself\u001b[39;49m\u001b[38;5;241;43m.\u001b[39;49m\u001b[43m_jwrite\u001b[49m\u001b[38;5;241;43m.\u001b[39;49m\u001b[43mparquet\u001b[49m\u001b[43m(\u001b[49m\u001b[43mpath\u001b[49m\u001b[43m)\u001b[49m\n",
      "File \u001b[0;32m~opt/bitnami/python/lib/python3.8/site-packages/py4j/java_gateway.py:1322\u001b[0m, in \u001b[0;36mJavaMember.__call__\u001b[0;34m(self, *args)\u001b[0m\n\u001b[1;32m   1316\u001b[0m command \u001b[38;5;241m=\u001b[39m proto\u001b[38;5;241m.\u001b[39mCALL_COMMAND_NAME \u001b[38;5;241m+\u001b[39m\\\n\u001b[1;32m   1317\u001b[0m     \u001b[38;5;28mself\u001b[39m\u001b[38;5;241m.\u001b[39mcommand_header \u001b[38;5;241m+\u001b[39m\\\n\u001b[1;32m   1318\u001b[0m     args_command \u001b[38;5;241m+\u001b[39m\\\n\u001b[1;32m   1319\u001b[0m     proto\u001b[38;5;241m.\u001b[39mEND_COMMAND_PART\n\u001b[1;32m   1321\u001b[0m answer \u001b[38;5;241m=\u001b[39m \u001b[38;5;28mself\u001b[39m\u001b[38;5;241m.\u001b[39mgateway_client\u001b[38;5;241m.\u001b[39msend_command(command)\n\u001b[0;32m-> 1322\u001b[0m return_value \u001b[38;5;241m=\u001b[39m \u001b[43mget_return_value\u001b[49m\u001b[43m(\u001b[49m\n\u001b[1;32m   1323\u001b[0m \u001b[43m    \u001b[49m\u001b[43manswer\u001b[49m\u001b[43m,\u001b[49m\u001b[43m \u001b[49m\u001b[38;5;28;43mself\u001b[39;49m\u001b[38;5;241;43m.\u001b[39;49m\u001b[43mgateway_client\u001b[49m\u001b[43m,\u001b[49m\u001b[43m \u001b[49m\u001b[38;5;28;43mself\u001b[39;49m\u001b[38;5;241;43m.\u001b[39;49m\u001b[43mtarget_id\u001b[49m\u001b[43m,\u001b[49m\u001b[43m \u001b[49m\u001b[38;5;28;43mself\u001b[39;49m\u001b[38;5;241;43m.\u001b[39;49m\u001b[43mname\u001b[49m\u001b[43m)\u001b[49m\n\u001b[1;32m   1325\u001b[0m \u001b[38;5;28;01mfor\u001b[39;00m temp_arg \u001b[38;5;129;01min\u001b[39;00m temp_args:\n\u001b[1;32m   1326\u001b[0m     \u001b[38;5;28;01mif\u001b[39;00m \u001b[38;5;28mhasattr\u001b[39m(temp_arg, \u001b[38;5;124m\"\u001b[39m\u001b[38;5;124m_detach\u001b[39m\u001b[38;5;124m\"\u001b[39m):\n",
      "File \u001b[0;32m~opt/bitnami/spark/python/pyspark/sql/utils.py:117\u001b[0m, in \u001b[0;36mcapture_sql_exception.<locals>.deco\u001b[0;34m(*a, **kw)\u001b[0m\n\u001b[1;32m    113\u001b[0m converted \u001b[38;5;241m=\u001b[39m convert_exception(e\u001b[38;5;241m.\u001b[39mjava_exception)\n\u001b[1;32m    114\u001b[0m \u001b[38;5;28;01mif\u001b[39;00m \u001b[38;5;129;01mnot\u001b[39;00m \u001b[38;5;28misinstance\u001b[39m(converted, UnknownException):\n\u001b[1;32m    115\u001b[0m     \u001b[38;5;66;03m# Hide where the exception came from that shows a non-Pythonic\u001b[39;00m\n\u001b[1;32m    116\u001b[0m     \u001b[38;5;66;03m# JVM exception message.\u001b[39;00m\n\u001b[0;32m--> 117\u001b[0m     \u001b[38;5;28;01mraise\u001b[39;00m converted \u001b[38;5;28;01mfrom\u001b[39;00m \u001b[38;5;28;01mNone\u001b[39;00m\n\u001b[1;32m    118\u001b[0m \u001b[38;5;28;01melse\u001b[39;00m:\n\u001b[1;32m    119\u001b[0m     \u001b[38;5;28;01mraise\u001b[39;00m\n",
      "\u001b[0;31mAnalysisException\u001b[0m: path file:/mnt/data/cleaned_fhv_tripdata_2022-07.parquet already exists."
     ]
    }
   ],
   "source": [
    "\n",
    "# 3. 메트릭 계산\n",
    "# 평균 여행 시간 계산\n",
    "average_trip_duration = df.select(avg(\"trip_duration_seconds\")).first()[0]\n",
    "print(f\"Average Trip Duration: {average_trip_duration} seconds\")\n",
    "\n",
    "# 평균 여행 거리 계산 (예: trip_distance 컬럼이 있다고 가정)\n",
    "# average_trip_distance = df.select(avg(\"trip_distance\")).first()[0]\n",
    "# print(f\"Average Trip Distance: {average_trip_distance} miles\")"
   ]
  },
  {
   "cell_type": "code",
   "execution_count": null,
   "metadata": {},
   "outputs": [],
   "source": [
    "\n",
    "# 4. 피크 시간 분석\n",
    "df = df.withColumn(\"pickup_hour\", hour(col(\"pickup_datetime\")))\n",
    "hourly_trips = df.groupBy(\"pickup_hour\").count().orderBy(\"pickup_hour\")\n",
    "\n",
    "# 시간대별 여행 수 시각화\n",
    "hourly_trips_pd = hourly_trips.toPandas()\n",
    "plt.figure(figsize=(10, 6))\n",
    "plt.bar(hourly_trips_pd[\"pickup_hour\"], hourly_trips_pd[\"count\"], color='blue')\n",
    "plt.xlabel(\"Hour of the Day\")\n",
    "plt.ylabel(\"Number of Trips\")\n",
    "plt.title(\"Hourly Distribution of Trips\")\n",
    "plt.grid(True)\n",
    "plt.show()\n"
   ]
  },
  {
   "cell_type": "code",
   "execution_count": null,
   "metadata": {},
   "outputs": [],
   "source": [
    "\n",
    "# 5. 날씨 상태 분석 (필요한 경우 외부 날씨 데이터를 로드하고 분석)\n",
    "# 날씨 데이터와 결합하여 분석할 수 있습니다.\n",
    "# weather_df = spark.read.csv(\"/path_to_weather_data.csv\", header=True, inferSchema=True)\n",
    "# weather_analysis_df = df.join(weather_df, \"date_column\")\n",
    "\n",
    "# 6. 결과 저장 및 추가 시각화\n",
    "# 데이터 저장\n",
    "df.write.parquet(\"/mnt/data/cleaned_fhv_tripdata_2022-07.parquet\")\n",
    "\n",
    "# 추가 분석 결과를 저장하거나 시각화할 수 있습니다."
   ]
  }
 ],
 "metadata": {
  "kernelspec": {
   "display_name": "Python 3 (ipykernel)",
   "language": "python",
   "name": "python3"
  },
  "language_info": {
   "codemirror_mode": {
    "name": "ipython",
    "version": 3
   },
   "file_extension": ".py",
   "mimetype": "text/x-python",
   "name": "python",
   "nbconvert_exporter": "python",
   "pygments_lexer": "ipython3",
   "version": "3.8.12"
  }
 },
 "nbformat": 4,
 "nbformat_minor": 4
}
