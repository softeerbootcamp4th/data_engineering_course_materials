{
 "cells": [
  {
   "cell_type": "code",
   "execution_count": 1,
   "id": "8fd254c7-fb28-4ed2-b3cc-13c1b02aa3b1",
   "metadata": {},
   "outputs": [
    {
     "name": "stderr",
     "output_type": "stream",
     "text": [
      "/home/spark_user/spark/python/pyspark/pandas/__init__.py:49: UserWarning: 'PYARROW_IGNORE_TIMEZONE' environment variable was not set. It is required to set this environment variable to '1' in both driver and executor sides if you use pyarrow>=2.0.0. pandas-on-Spark will set it for you but it does not work if there is a Spark context already launched.\n",
      "  warnings.warn(\n"
     ]
    }
   ],
   "source": [
    "from pyspark import SparkConf\n",
    "from pyspark.sql import SparkSession\n",
    "from pyspark.sql.functions import isnan, when, count, col, isnull, avg, date_format, min\n",
    "import pyspark.sql.functions as F\n",
    "from pyspark.sql.types import IntegerType\n",
    "from pyspark.ml.stat import Summarizer\n",
    "from pyspark import pandas as ps\n",
    "from pyspark.sql.window import Window\n",
    "import matplotlib.pyplot as plt\n",
    "import numpy as np"
   ]
  },
  {
   "cell_type": "code",
   "execution_count": 2,
   "id": "8981a179-53e3-4a8a-8b9e-0e6513855456",
   "metadata": {},
   "outputs": [
    {
     "name": "stderr",
     "output_type": "stream",
     "text": [
      "Setting default log level to \"WARN\".\n",
      "To adjust logging level use sc.setLogLevel(newLevel). For SparkR, use setLogLevel(newLevel).\n"
     ]
    },
    {
     "name": "stdout",
     "output_type": "stream",
     "text": [
      "24/08/03 14:06:35 WARN NativeCodeLoader: Unable to load native-hadoop library for your platform... using builtin-java classes where applicable\n"
     ]
    }
   ],
   "source": [
    "spark = SparkSession.builder \\\n",
    "    .master('spark://spark-master:7077') \\\n",
    "    .appName('W4M2') \\\n",
    "    .config('spark.executor.memory', '12gb') \\\n",
    "    .config(\"spark.executor.cores\", \"5\") \\\n",
    "    .getOrCreate()"
   ]
  },
  {
   "cell_type": "markdown",
   "id": "7d604d3b-a073-405d-980a-3b7491bec2bc",
   "metadata": {},
   "source": [
    "# 1. Data Loading\n",
    "- Load the TLC Trip Record Data into a Spark DataFrame"
   ]
  },
  {
   "cell_type": "code",
   "execution_count": 3,
   "id": "9222ef9a-e5f2-46de-a7b2-c171627d7742",
   "metadata": {},
   "outputs": [
    {
     "name": "stderr",
     "output_type": "stream",
     "text": [
      "[Stage 2:============================================>              (3 + 1) / 4]\r"
     ]
    },
    {
     "name": "stdout",
     "output_type": "stream",
     "text": [
      "-RECORD 0-----------------------------------\n",
      " hvfhs_license_num    | HV0003              \n",
      " dispatching_base_num | B03404              \n",
      " originating_base_num | B03404              \n",
      " request_datetime     | 2023-01-01 00:18:06 \n",
      " on_scene_datetime    | 2023-01-01 00:19:24 \n",
      " pickup_datetime      | 2023-01-01 00:19:38 \n",
      " dropoff_datetime     | 2023-01-01 00:48:07 \n",
      " PULocationID         | 48                  \n",
      " DOLocationID         | 68                  \n",
      " trip_miles           | 0.94                \n",
      " trip_time            | 1709                \n",
      " base_passenger_fare  | 25.95               \n",
      " tolls                | 0.0                 \n",
      " bcf                  | 0.78                \n",
      " sales_tax            | 2.3                 \n",
      " congestion_surcharge | 2.75                \n",
      " airport_fee          | 0.0                 \n",
      " tips                 | 5.22                \n",
      " driver_pay           | 27.83               \n",
      " shared_request_flag  | N                   \n",
      " shared_match_flag    | N                   \n",
      " access_a_ride_flag   |                     \n",
      " wav_request_flag     | N                   \n",
      " wav_match_flag       | N                   \n",
      "only showing top 1 row\n",
      "\n"
     ]
    },
    {
     "name": "stderr",
     "output_type": "stream",
     "text": [
      "                                                                                \r"
     ]
    }
   ],
   "source": [
    "df = spark.read.parquet('hdfs://spark-master:9000/user/hduser/hdfs_data/fhvhv_tripdata_2023-01.parquet')\n",
    "df.show(1, vertical=True)"
   ]
  },
  {
   "cell_type": "markdown",
   "id": "a4a3fc22-abc3-4e41-8b0c-a0015ebebe42",
   "metadata": {},
   "source": [
    "# 2. Data Cleaning\n",
    "## 2.1. Handle missing values by either removing or imputing them."
   ]
  },
  {
   "cell_type": "markdown",
   "id": "a93c4787-1dbd-4794-92bc-3efe7d539c7d",
   "metadata": {},
   "source": [
    "Before data cleaning"
   ]
  },
  {
   "cell_type": "code",
   "execution_count": 4,
   "id": "64c870f8-8efc-44e8-b5cd-ea756bcdbba8",
   "metadata": {},
   "outputs": [
    {
     "name": "stderr",
     "output_type": "stream",
     "text": [
      "[Stage 3:====================================================>     (9 + 1) / 10]\r"
     ]
    },
    {
     "name": "stdout",
     "output_type": "stream",
     "text": [
      "-RECORD 0-----------------------\n",
      " hvfhs_license_num    | 0       \n",
      " dispatching_base_num | 0       \n",
      " originating_base_num | 4891992 \n",
      " request_datetime     | 0       \n",
      " on_scene_datetime    | 4891992 \n",
      " pickup_datetime      | 0       \n",
      " dropoff_datetime     | 0       \n",
      " PULocationID         | 0       \n",
      " DOLocationID         | 0       \n",
      " trip_miles           | 0       \n",
      " trip_time            | 0       \n",
      " base_passenger_fare  | 0       \n",
      " tolls                | 0       \n",
      " bcf                  | 0       \n",
      " sales_tax            | 0       \n",
      " congestion_surcharge | 0       \n",
      " airport_fee          | 0       \n",
      " tips                 | 0       \n",
      " driver_pay           | 0       \n",
      " shared_request_flag  | 0       \n",
      " shared_match_flag    | 0       \n",
      " access_a_ride_flag   | 0       \n",
      " wav_request_flag     | 0       \n",
      " wav_match_flag       | 0       \n",
      "\n"
     ]
    },
    {
     "name": "stderr",
     "output_type": "stream",
     "text": [
      "                                                                                \r"
     ]
    }
   ],
   "source": [
    "df.select([count(when(isnull(c), c)).alias(c) for c in df.columns]).show(vertical=True)"
   ]
  },
  {
   "cell_type": "markdown",
   "id": "25cde39d-ecd3-4482-9a64-15fc61661443",
   "metadata": {},
   "source": [
    "remove null value"
   ]
  },
  {
   "cell_type": "code",
   "execution_count": 5,
   "id": "e5381606-0496-4838-8f3c-8d79573cd7aa",
   "metadata": {},
   "outputs": [],
   "source": [
    "df = df.na.drop('any')"
   ]
  },
  {
   "cell_type": "markdown",
   "id": "0fd0a035-73cb-427e-bf77-5ac016b2d8d6",
   "metadata": {},
   "source": [
    "After data cleaning"
   ]
  },
  {
   "cell_type": "code",
   "execution_count": 6,
   "id": "8ca3c971-ac84-4feb-9963-c252399415ef",
   "metadata": {},
   "outputs": [
    {
     "name": "stderr",
     "output_type": "stream",
     "text": [
      "[Stage 6:====================================================>     (9 + 1) / 10]\r"
     ]
    },
    {
     "name": "stdout",
     "output_type": "stream",
     "text": [
      "-RECORD 0-------------------\n",
      " hvfhs_license_num    | 0   \n",
      " dispatching_base_num | 0   \n",
      " originating_base_num | 0   \n",
      " request_datetime     | 0   \n",
      " on_scene_datetime    | 0   \n",
      " pickup_datetime      | 0   \n",
      " dropoff_datetime     | 0   \n",
      " PULocationID         | 0   \n",
      " DOLocationID         | 0   \n",
      " trip_miles           | 0   \n",
      " trip_time            | 0   \n",
      " base_passenger_fare  | 0   \n",
      " tolls                | 0   \n",
      " bcf                  | 0   \n",
      " sales_tax            | 0   \n",
      " congestion_surcharge | 0   \n",
      " airport_fee          | 0   \n",
      " tips                 | 0   \n",
      " driver_pay           | 0   \n",
      " shared_request_flag  | 0   \n",
      " shared_match_flag    | 0   \n",
      " access_a_ride_flag   | 0   \n",
      " wav_request_flag     | 0   \n",
      " wav_match_flag       | 0   \n",
      "\n"
     ]
    },
    {
     "name": "stderr",
     "output_type": "stream",
     "text": [
      "                                                                                \r"
     ]
    }
   ],
   "source": [
    "df.select([count(when(isnull(c), c)).alias(c) for c in df.columns]).show(vertical=True)"
   ]
  },
  {
   "cell_type": "markdown",
   "id": "298311ee-59e3-41a0-bd96-b9bd67ddeacd",
   "metadata": {},
   "source": [
    "## 2.2 Convert all relevant time fields to a standard timestamp format."
   ]
  },
  {
   "cell_type": "code",
   "execution_count": 7,
   "id": "a0106eb7-d502-4c7e-8621-2c1935c69cab",
   "metadata": {},
   "outputs": [],
   "source": [
    "df = df.withColumn(\"request_datetime\", date_format(df.request_datetime,'yyyy-MM-dd HH:mm:ss'))\n",
    "df = df.withColumn(\"on_scene_datetime\", date_format(df.on_scene_datetime,'yyyy-MM-dd HH:mm:ss'))\n",
    "df = df.withColumn(\"pickup_datetime\", date_format(df.pickup_datetime,'yyyy-MM-dd HH:mm:ss'))\n",
    "df = df.withColumn(\"dropoff_datetime\", date_format(df.dropoff_datetime,'yyyy-MM-dd HH:mm:ss'))"
   ]
  },
  {
   "cell_type": "markdown",
   "id": "fa2b8cf9-7267-469a-b828-ee7ec6143b16",
   "metadata": {},
   "source": [
    "## 2.3. Filter out records with non-sensical values (e.g., negative trip duration or distance).\n",
    "- df.describe method를 이용하여 min, max 값 확인 결과, base_passenger_fare와 driver_pay에 음수 값이 있다는 것 확인\n",
    "- 비용이 음수인 경우는 일반적인 상황이 아니라고 가정하고, 해당 주행 정보(row) 전체를 drop 함."
   ]
  },
  {
   "cell_type": "code",
   "execution_count": 8,
   "id": "11cfa585-0252-4f7d-8417-0415f0a70a62",
   "metadata": {},
   "outputs": [
    {
     "name": "stderr",
     "output_type": "stream",
     "text": [
      "[Stage 9:====================================================>     (9 + 1) / 10]\r"
     ]
    },
    {
     "name": "stdout",
     "output_type": "stream",
     "text": [
      "-RECORD 0-----------------------------------\n",
      " summary              | count               \n",
      " hvfhs_license_num    | 13587039            \n",
      " dispatching_base_num | 13587039            \n",
      " originating_base_num | 13587039            \n",
      " request_datetime     | 13587039            \n",
      " on_scene_datetime    | 13587039            \n",
      " pickup_datetime      | 13587039            \n",
      " dropoff_datetime     | 13587039            \n",
      " PULocationID         | 13587039            \n",
      " DOLocationID         | 13587039            \n",
      " trip_miles           | 13587039            \n",
      " trip_time            | 13587039            \n",
      " base_passenger_fare  | 13587039            \n",
      " tolls                | 13587039            \n",
      " bcf                  | 13587039            \n",
      " sales_tax            | 13587039            \n",
      " congestion_surcharge | 13587039            \n",
      " airport_fee          | 13587039            \n",
      " tips                 | 13587039            \n",
      " driver_pay           | 13587039            \n",
      " shared_request_flag  | 13587039            \n",
      " shared_match_flag    | 13587039            \n",
      " access_a_ride_flag   | 13587039            \n",
      " wav_request_flag     | 13587039            \n",
      " wav_match_flag       | 13587039            \n",
      "-RECORD 1-----------------------------------\n",
      " summary              | mean                \n",
      " hvfhs_license_num    | null                \n",
      " dispatching_base_num | null                \n",
      " originating_base_num | null                \n",
      " request_datetime     | null                \n",
      " on_scene_datetime    | null                \n",
      " pickup_datetime      | null                \n",
      " dropoff_datetime     | null                \n",
      " PULocationID         | 140.5213508991915   \n",
      " DOLocationID         | 143.860014827366    \n",
      " trip_miles           | 4.922134947798194   \n",
      " trip_time            | 1100.877128048282   \n",
      " base_passenger_fare  | 21.940923230489858  \n",
      " tolls                | 1.0880419714888145  \n",
      " bcf                  | 0.6979676911271453  \n",
      " sales_tax            | 1.8624967139593473  \n",
      " congestion_surcharge | 1.1847325049998016  \n",
      " airport_fee          | 0.19876595261116126 \n",
      " tips                 | 0.9804808060084625  \n",
      " driver_pay           | 17.456842482049577  \n",
      " shared_request_flag  | null                \n",
      " shared_match_flag    | null                \n",
      " access_a_ride_flag   | null                \n",
      " wav_request_flag     | null                \n",
      " wav_match_flag       | null                \n",
      "-RECORD 2-----------------------------------\n",
      " summary              | stddev              \n",
      " hvfhs_license_num    | null                \n",
      " dispatching_base_num | null                \n",
      " originating_base_num | null                \n",
      " request_datetime     | null                \n",
      " on_scene_datetime    | null                \n",
      " pickup_datetime      | null                \n",
      " dropoff_datetime     | null                \n",
      " PULocationID         | 74.82620494387902   \n",
      " DOLocationID         | 77.85963743219504   \n",
      " trip_miles           | 5.756414807390143   \n",
      " trip_time            | 754.5695562840599   \n",
      " base_passenger_fare  | 18.543144482019887  \n",
      " tolls                | 3.881644929257984   \n",
      " bcf                  | 0.6278121918281796  \n",
      " sales_tax            | 1.5244681351675604  \n",
      " congestion_surcharge | 1.358656118988699   \n",
      " airport_fee          | 0.6790303994929644  \n",
      " tips                 | 2.7945489919853097  \n",
      " driver_pay           | 14.514038413277717  \n",
      " shared_request_flag  | null                \n",
      " shared_match_flag    | null                \n",
      " access_a_ride_flag   | null                \n",
      " wav_request_flag     | null                \n",
      " wav_match_flag       | null                \n",
      "-RECORD 3-----------------------------------\n",
      " summary              | min                 \n",
      " hvfhs_license_num    | HV0003              \n",
      " dispatching_base_num | B02764              \n",
      " originating_base_num | B02026              \n",
      " request_datetime     | 2022-12-31 20:30:00 \n",
      " on_scene_datetime    | 2022-12-31 21:23:03 \n",
      " pickup_datetime      | 2023-01-01 00:00:00 \n",
      " dropoff_datetime     | 2023-01-01 00:02:27 \n",
      " PULocationID         | 1                   \n",
      " DOLocationID         | 1                   \n",
      " trip_miles           | 0.0                 \n",
      " trip_time            | 0                   \n",
      " base_passenger_fare  | -146.34             \n",
      " tolls                | 0.0                 \n",
      " bcf                  | 0.0                 \n",
      " sales_tax            | 0.0                 \n",
      " congestion_surcharge | 0.0                 \n",
      " airport_fee          | 0.0                 \n",
      " tips                 | 0.0                 \n",
      " driver_pay           | -102.15             \n",
      " shared_request_flag  | N                   \n",
      " shared_match_flag    | N                   \n",
      " access_a_ride_flag   |                     \n",
      " wav_request_flag     | N                   \n",
      " wav_match_flag       | N                   \n",
      "-RECORD 4-----------------------------------\n",
      " summary              | max                 \n",
      " hvfhs_license_num    | HV0005              \n",
      " dispatching_base_num | B03406              \n",
      " originating_base_num | B03406              \n",
      " request_datetime     | 2023-02-01 00:10:00 \n",
      " on_scene_datetime    | 2023-01-31 23:59:53 \n",
      " pickup_datetime      | 2023-01-31 23:59:59 \n",
      " dropoff_datetime     | 2023-02-01 01:35:44 \n",
      " PULocationID         | 265                 \n",
      " DOLocationID         | 265                 \n",
      " trip_miles           | 351.17              \n",
      " trip_time            | 34895               \n",
      " base_passenger_fare  | 1455.12             \n",
      " tolls                | 184.37              \n",
      " bcf                  | 64.71               \n",
      " sales_tax            | 120.91              \n",
      " congestion_surcharge | 5.5                 \n",
      " airport_fee          | 5.0                 \n",
      " tips                 | 180.53              \n",
      " driver_pay           | 1285.04             \n",
      " shared_request_flag  | Y                   \n",
      " shared_match_flag    | Y                   \n",
      " access_a_ride_flag   | N                   \n",
      " wav_request_flag     | Y                   \n",
      " wav_match_flag       | Y                   \n",
      "\n"
     ]
    },
    {
     "name": "stderr",
     "output_type": "stream",
     "text": [
      "                                                                                \r"
     ]
    }
   ],
   "source": [
    "df.describe(df.columns).show(vertical=True)"
   ]
  },
  {
   "cell_type": "code",
   "execution_count": 9,
   "id": "3f5e2ad0-d0e5-4cda-b9b0-23ae5d991d1b",
   "metadata": {},
   "outputs": [],
   "source": [
    "df = df.filter(df.driver_pay > 0)\n",
    "df = df.filter(df.base_passenger_fare > 0)"
   ]
  },
  {
   "cell_type": "code",
   "execution_count": 10,
   "id": "6d18786e-4be7-44df-be8a-0dcb8938d1b2",
   "metadata": {},
   "outputs": [
    {
     "name": "stderr",
     "output_type": "stream",
     "text": [
      "[Stage 12:===================================================>     (9 + 1) / 10]\r"
     ]
    },
    {
     "name": "stdout",
     "output_type": "stream",
     "text": [
      "-RECORD 0-----------------------------------\n",
      " summary              | count               \n",
      " hvfhs_license_num    | 13547940            \n",
      " dispatching_base_num | 13547940            \n",
      " originating_base_num | 13547940            \n",
      " request_datetime     | 13547940            \n",
      " on_scene_datetime    | 13547940            \n",
      " pickup_datetime      | 13547940            \n",
      " dropoff_datetime     | 13547940            \n",
      " PULocationID         | 13547940            \n",
      " DOLocationID         | 13547940            \n",
      " trip_miles           | 13547940            \n",
      " trip_time            | 13547940            \n",
      " base_passenger_fare  | 13547940            \n",
      " tolls                | 13547940            \n",
      " bcf                  | 13547940            \n",
      " sales_tax            | 13547940            \n",
      " congestion_surcharge | 13547940            \n",
      " airport_fee          | 13547940            \n",
      " tips                 | 13547940            \n",
      " driver_pay           | 13547940            \n",
      " shared_request_flag  | 13547940            \n",
      " shared_match_flag    | 13547940            \n",
      " access_a_ride_flag   | 13547940            \n",
      " wav_request_flag     | 13547940            \n",
      " wav_match_flag       | 13547940            \n",
      "-RECORD 1-----------------------------------\n",
      " summary              | mean                \n",
      " hvfhs_license_num    | null                \n",
      " dispatching_base_num | null                \n",
      " originating_base_num | null                \n",
      " request_datetime     | null                \n",
      " on_scene_datetime    | null                \n",
      " pickup_datetime      | null                \n",
      " dropoff_datetime     | null                \n",
      " PULocationID         | 140.52394998796865  \n",
      " DOLocationID         | 143.86496456287819  \n",
      " trip_miles           | 4.924506504235864   \n",
      " trip_time            | 1101.164382038893   \n",
      " base_passenger_fare  | 21.97872044079535   \n",
      " tolls                | 1.0881544803308356  \n",
      " bcf                  | 0.6982480635494791  \n",
      " sales_tax            | 1.8630617643668856  \n",
      " congestion_surcharge | 1.1851368547543022  \n",
      " airport_fee          | 0.1990555944298543  \n",
      " tips                 | 0.98191754318284    \n",
      " driver_pay           | 17.490511728754758  \n",
      " shared_request_flag  | null                \n",
      " shared_match_flag    | null                \n",
      " access_a_ride_flag   | null                \n",
      " wav_request_flag     | null                \n",
      " wav_match_flag       | null                \n",
      "-RECORD 2-----------------------------------\n",
      " summary              | stddev              \n",
      " hvfhs_license_num    | null                \n",
      " dispatching_base_num | null                \n",
      " originating_base_num | null                \n",
      " request_datetime     | null                \n",
      " on_scene_datetime    | null                \n",
      " pickup_datetime      | null                \n",
      " dropoff_datetime     | null                \n",
      " PULocationID         | 74.82733703231602   \n",
      " DOLocationID         | 77.86792089853348   \n",
      " trip_miles           | 5.75492291083689    \n",
      " trip_time            | 753.7749695948343   \n",
      " base_passenger_fare  | 18.52937656600825   \n",
      " tolls                | 3.8780522976848326  \n",
      " bcf                  | 0.6273142891278377  \n",
      " sales_tax            | 1.5229330441902198  \n",
      " congestion_surcharge | 1.3587126849195854  \n",
      " airport_fee          | 0.6794880983003837  \n",
      " tips                 | 2.7971002329890773  \n",
      " driver_pay           | 14.497156297180258  \n",
      " shared_request_flag  | null                \n",
      " shared_match_flag    | null                \n",
      " access_a_ride_flag   | null                \n",
      " wav_request_flag     | null                \n",
      " wav_match_flag       | null                \n",
      "-RECORD 3-----------------------------------\n",
      " summary              | min                 \n",
      " hvfhs_license_num    | HV0003              \n",
      " dispatching_base_num | B02764              \n",
      " originating_base_num | B02026              \n",
      " request_datetime     | 2022-12-31 20:30:00 \n",
      " on_scene_datetime    | 2022-12-31 21:23:03 \n",
      " pickup_datetime      | 2023-01-01 00:00:00 \n",
      " dropoff_datetime     | 2023-01-01 00:02:27 \n",
      " PULocationID         | 1                   \n",
      " DOLocationID         | 1                   \n",
      " trip_miles           | 0.0                 \n",
      " trip_time            | 0                   \n",
      " base_passenger_fare  | 0.01                \n",
      " tolls                | 0.0                 \n",
      " bcf                  | 0.0                 \n",
      " sales_tax            | 0.0                 \n",
      " congestion_surcharge | 0.0                 \n",
      " airport_fee          | 0.0                 \n",
      " tips                 | 0.0                 \n",
      " driver_pay           | 0.03                \n",
      " shared_request_flag  | N                   \n",
      " shared_match_flag    | N                   \n",
      " access_a_ride_flag   |                     \n",
      " wav_request_flag     | N                   \n",
      " wav_match_flag       | N                   \n",
      "-RECORD 4-----------------------------------\n",
      " summary              | max                 \n",
      " hvfhs_license_num    | HV0005              \n",
      " dispatching_base_num | B03406              \n",
      " originating_base_num | B03406              \n",
      " request_datetime     | 2023-02-01 00:10:00 \n",
      " on_scene_datetime    | 2023-01-31 23:59:53 \n",
      " pickup_datetime      | 2023-01-31 23:59:59 \n",
      " dropoff_datetime     | 2023-02-01 01:35:44 \n",
      " PULocationID         | 265                 \n",
      " DOLocationID         | 265                 \n",
      " trip_miles           | 351.17              \n",
      " trip_time            | 34895               \n",
      " base_passenger_fare  | 1076.87             \n",
      " tolls                | 184.37              \n",
      " bcf                  | 64.71               \n",
      " sales_tax            | 97.79               \n",
      " congestion_surcharge | 5.5                 \n",
      " airport_fee          | 5.0                 \n",
      " tips                 | 180.53              \n",
      " driver_pay           | 1285.04             \n",
      " shared_request_flag  | Y                   \n",
      " shared_match_flag    | Y                   \n",
      " access_a_ride_flag   | N                   \n",
      " wav_request_flag     | Y                   \n",
      " wav_match_flag       | Y                   \n",
      "\n"
     ]
    },
    {
     "name": "stderr",
     "output_type": "stream",
     "text": [
      "                                                                                \r"
     ]
    }
   ],
   "source": [
    "df.describe(df.columns).show(vertical=True)"
   ]
  },
  {
   "cell_type": "markdown",
   "id": "2a85aadb-11e3-48a2-8666-8ff293ef806a",
   "metadata": {},
   "source": [
    "# Calculation of Metrics\n",
    "- Compute the average duration of trips."
   ]
  },
  {
   "cell_type": "code",
   "execution_count": 11,
   "id": "2796200c-2146-4389-a857-531ce4fdd8d0",
   "metadata": {},
   "outputs": [
    {
     "name": "stderr",
     "output_type": "stream",
     "text": [
      "[Stage 18:===================================================>     (9 + 1) / 10]\r"
     ]
    },
    {
     "name": "stdout",
     "output_type": "stream",
     "text": [
      "+---------------------+\n",
      "|average trip time (s)|\n",
      "+---------------------+\n",
      "|    1101.164382038893|\n",
      "+---------------------+\n",
      "\n"
     ]
    },
    {
     "name": "stderr",
     "output_type": "stream",
     "text": [
      "                                                                                \r"
     ]
    }
   ],
   "source": [
    "avg_duration = df.select(avg(df.trip_time).alias(\"average trip time (s)\"))\n",
    "avg_duration.coalesce(1).write.csv(\"hdfs://spark-master:9000/user/spark_user/W4M2_output/avg_duration.csv\")\n",
    "avg_duration.show()"
   ]
  },
  {
   "cell_type": "markdown",
   "id": "3416580e-22ea-4b28-88f7-ca2ebec73c50",
   "metadata": {},
   "source": [
    "- Compute the average distance of trips."
   ]
  },
  {
   "cell_type": "code",
   "execution_count": 12,
   "id": "18cbfe63-af3f-4d95-996d-66b9c6c314c4",
   "metadata": {},
   "outputs": [
    {
     "name": "stderr",
     "output_type": "stream",
     "text": [
      "[Stage 24:===================================================>     (9 + 1) / 10]\r"
     ]
    },
    {
     "name": "stdout",
     "output_type": "stream",
     "text": [
      "+-----------------------------+\n",
      "|average trip distance (miles)|\n",
      "+-----------------------------+\n",
      "|            4.924506504235864|\n",
      "+-----------------------------+\n",
      "\n"
     ]
    },
    {
     "name": "stderr",
     "output_type": "stream",
     "text": [
      "                                                                                \r"
     ]
    }
   ],
   "source": [
    "avg_distance = df.select(avg(df.trip_miles).alias(\"average trip distance (miles)\"))\n",
    "avg_distance.coalesce(1).write.csv(\"hdfs://spark-master:9000/user/spark_user/W4M2_output/avg_distance.csv\")\n",
    "avg_distance.show()"
   ]
  },
  {
   "cell_type": "markdown",
   "id": "39ddcad3-77c7-41e3-8fac-26eb12d1c990",
   "metadata": {},
   "source": [
    "# Peak Hours Identification\n",
    "Identify the peak hours for taxi usage."
   ]
  },
  {
   "cell_type": "markdown",
   "id": "15a2bc30-385f-42d5-98a4-619ac3009e56",
   "metadata": {},
   "source": [
    "1. Add column for 'hour' info."
   ]
  },
  {
   "cell_type": "code",
   "execution_count": 13,
   "id": "7e2bd4d8-7e1b-469e-8634-2fe60eb87e60",
   "metadata": {},
   "outputs": [],
   "source": [
    "df = df.withColumn(\"hour\", date_format(df.request_datetime,'H'))\n",
    "df = df.withColumn(\"hour\", df['hour'].cast(IntegerType()))"
   ]
  },
  {
   "cell_type": "markdown",
   "id": "525b36ba-78f6-4e81-92bb-4a857c809dbb",
   "metadata": {},
   "source": [
    "2. Casting hour column(str to int)"
   ]
  },
  {
   "cell_type": "code",
   "execution_count": 14,
   "id": "2099e446-f5f5-4184-b826-b009d38a77f3",
   "metadata": {},
   "outputs": [
    {
     "name": "stderr",
     "output_type": "stream",
     "text": [
      "[Stage 30:===================================================>     (9 + 1) / 10]\r"
     ]
    },
    {
     "name": "stdout",
     "output_type": "stream",
     "text": [
      "+----+------+\n",
      "|hour| count|\n",
      "+----+------+\n",
      "|   0|473350|\n",
      "|   1|342571|\n",
      "|   2|255896|\n",
      "|   3|206243|\n",
      "|   4|185852|\n",
      "|   5|217027|\n",
      "|   6|351828|\n",
      "|   7|546642|\n",
      "|   8|654781|\n",
      "|   9|594321|\n",
      "|  10|556871|\n",
      "|  11|563399|\n",
      "|  12|584507|\n",
      "|  13|618021|\n",
      "|  14|681338|\n",
      "|  15|696678|\n",
      "|  16|723156|\n",
      "|  17|822859|\n",
      "|  18|868174|\n",
      "|  19|835663|\n",
      "|  20|748916|\n",
      "|  21|721523|\n",
      "|  22|695329|\n",
      "|  23|602995|\n",
      "+----+------+\n",
      "\n"
     ]
    },
    {
     "name": "stderr",
     "output_type": "stream",
     "text": [
      "                                                                                \r"
     ]
    }
   ],
   "source": [
    "df_hour = df.groupBy(\"hour\").count()\n",
    "df_hour.orderBy(\"hour\").show(df.count())"
   ]
  },
  {
   "cell_type": "code",
   "execution_count": 15,
   "id": "929eb45a-9950-4c7f-96ba-d06a7932b856",
   "metadata": {},
   "outputs": [
    {
     "name": "stderr",
     "output_type": "stream",
     "text": [
      "/home/spark_user/spark/python/pyspark/pandas/utils.py:975: PandasAPIOnSparkAdviceWarning: `to_numpy` loads all data into the driver's memory. It should only be used if the resulting NumPy ndarray is expected to be small.\n",
      "  warnings.warn(message, PandasAPIOnSparkAdviceWarning)\n",
      "                                                                                \r"
     ]
    }
   ],
   "source": [
    "ps_df_hour = ps.DataFrame(df_hour)\n",
    "np_hour_cnt = ps_df_hour.to_numpy()\n",
    "hour_cnt = list(map(list, np_hour_cnt))\n",
    "hour_cnt = sorted(hour_cnt, key=lambda x:x[0]) \n",
    "hour_cnt = np.array(hour_cnt)"
   ]
  },
  {
   "cell_type": "code",
   "execution_count": 16,
   "id": "207107f3-ff2a-4e2e-8e9c-cbcd296c04f7",
   "metadata": {},
   "outputs": [
    {
     "name": "stderr",
     "output_type": "stream",
     "text": [
      "/tmp/ipykernel_46367/1753285871.py:5: DeprecationWarning: Conversion of an array with ndim > 0 to a scalar is deprecated, and will error in future. Ensure you extract a single element from your array before performing this operation. (Deprecated NumPy 1.25.)\n",
      "  colors[int(max_idx[0])] = 'skyblue'\n"
     ]
    },
    {
     "data": {
      "text/plain": [
       "Text(0.5, 1.0, 'Peak Hours Identification')"
      ]
     },
     "execution_count": 16,
     "metadata": {},
     "output_type": "execute_result"
    },
    {
     "data": {
      "image/png": "[encoded data removed]",
      "text/plain": [
       "<Figure size 640x480 with 1 Axes>"
      ]
     },
     "metadata": {},
     "output_type": "display_data"
    }
   ],
   "source": [
    "max_cnt = np_hour_cnt[:,1].max()\n",
    "max_idx = np.where(hour_cnt==max_cnt)\n",
    "\n",
    "colors = ['orange' for _ in range(24)]\n",
    "colors[int(max_idx[0])] = 'skyblue'\n",
    "plt.bar(hour_cnt[:,0], hour_cnt[:,1], color=colors)\n",
    "plt.xlabel(\"hour\")\n",
    "plt.ylabel(\"# of usage\")\n",
    "plt.xticks([x for x in range(0, 24, 2)])\n",
    "y_interval = 100000\n",
    "y_ticks_str = [str(round(x/1000))+' K' for x in range(0, max_cnt, y_interval)]\n",
    "plt.yticks([y for y in range(0, max_cnt, y_interval)], y_ticks_str)\n",
    "\n",
    "plt.title(\"Peak Hours Identification\")"
   ]
  },
  {
   "cell_type": "markdown",
   "id": "610562cf-cc5c-4259-9994-86008734874f",
   "metadata": {},
   "source": [
    "# Weather Condition Analysis\n",
    "- Load weather dataset"
   ]
  },
  {
   "cell_type": "code",
   "execution_count": 17,
   "id": "499d5260-0c43-41b4-906a-d75e7f88e59e",
   "metadata": {},
   "outputs": [],
   "source": [
    "weather_df = spark.read.csv('hdfs://spark-master:9000/user/hduser/hdfs_data/72505394728.csv')"
   ]
  },
  {
   "cell_type": "code",
   "execution_count": 18,
   "id": "4772b4ee-d22a-492d-81e8-215f51edaae4",
   "metadata": {},
   "outputs": [
    {
     "name": "stdout",
     "output_type": "stream",
     "text": [
      "24/08/03 14:51:41 WARN package: Truncated the string representation of a plan since it was too large. This behavior can be adjusted by setting 'spark.sql.debug.maxToStringFields'.\n"
     ]
    }
   ],
   "source": [
    "first_row = weather_df.first()\n",
    "columns = [str(cell) for cell in first_row]\n",
    "\n",
    "weather_df = weather_df.filter(weather_df['_c0'] != first_row[0])\n",
    "weather_df = weather_df.toDF(*columns)"
   ]
  },
  {
   "cell_type": "code",
   "execution_count": 19,
   "id": "c11fc4c1-879d-4254-8770-d6b83059c8e4",
   "metadata": {},
   "outputs": [],
   "source": [
    "not_use_cols = ['NAME', 'REPORT_TYPE', 'CALL_SIGN', 'QUALITY_CONTROL', 'CIG', 'VIS', 'DEW', 'SLP', 'AA2', 'AA3', 'AB1', 'AD1', 'AE1', 'AH1', 'AH2', 'AH3', \n",
    "                'AH4', 'AH5', 'AH6', 'AI1', 'AI2', 'AI3', 'AI4', 'AI5', 'AI6', 'AJ1', 'AK1', 'AL1', 'AM1', 'AN1', 'AT1', 'AT2', 'AT3', 'AT4', 'AT5', 'AU1',\n",
    "                'AU2', 'AW1', 'AW2', 'AW3', 'AX1', 'AX2', 'AX3', 'AX4', 'GA1', 'GA2', 'GA3', 'GD1', 'GD2', 'GD3', 'GE1', 'GF1', 'KA1', 'KA2', 'KB1', 'KB2',\n",
    "                'KB3', 'KC1', 'KC2', 'KD1', 'KD2', 'KE1', 'KG1', 'KG2', 'MA1', 'MD1', 'MF1', 'MG1', 'MH1', 'MK1', 'MW1', 'OC1', 'OD1', 'OE1', 'OE2', 'OE3',\n",
    "                'RH1', 'RH2', 'RH3', 'WA1', 'REM', 'EQD', 'SOURCE', 'LATITUDE', 'LONGITUDE', 'ELEVATION']"
   ]
  },
  {
   "cell_type": "code",
   "execution_count": 20,
   "id": "4b515d07-d9b4-428f-bb95-5bfb2a5905e3",
   "metadata": {},
   "outputs": [],
   "source": [
    "for col_name in not_use_cols:\n",
    "    weather_df = weather_df.drop(col_name)"
   ]
  },
  {
   "cell_type": "code",
   "execution_count": 21,
   "id": "d4e84627-6c08-4e97-ad07-26f8c90a0db1",
   "metadata": {},
   "outputs": [],
   "source": [
    "weather_df = weather_df.withColumn('Temperature(C)', F.regexp_extract('TMP', r'(\\+|-)?\\d{4}', 0).cast('int') / 10) # 섭씨 온도\n",
    "weather_df = weather_df.withColumn('Wind_Power(m/s)', F.regexp_extract('WND', r'\\d{3},\\d,[A-Z],(\\d{4})', 1).cast('int') / 10) # 풍속"
   ]
  },
  {
   "cell_type": "code",
   "execution_count": 22,
   "id": "062b752f-55c6-4d82-b239-10bb6038f583",
   "metadata": {},
   "outputs": [],
   "source": [
    "# UTC => 실제 뉴욕 시간으로 변경\n",
    "weather_df = weather_df.withColumn('DATE', F.col('DATE').cast('timestamp'))\n",
    "weather_df = weather_df.withColumn('DATE', F.col('DATE') - F.expr('INTERVAL 4 HOURS'))"
   ]
  },
  {
   "cell_type": "code",
   "execution_count": 23,
   "id": "8ff980c7-9ddc-49fb-9f57-c235451c7693",
   "metadata": {},
   "outputs": [],
   "source": [
    "# 강수량 전처리\n",
    "weather_df = weather_df.withColumn('RAIN_PER_HOUR', F.regexp_extract('AA1', r'\\d{2},(\\d{4})', 1).cast('int') / 10) # 강수량"
   ]
  },
  {
   "cell_type": "code",
   "execution_count": 24,
   "id": "810927fd-89e8-489b-af3a-271059ec5ac2",
   "metadata": {},
   "outputs": [],
   "source": [
    "# 일별 시간대 컬럼 추가\n",
    "weather_df = weather_df.withColumn('DAY', F.dayofmonth(F.col('DATE')))\n",
    "weather_df = weather_df.withColumn('HOUR', F.hour(F.col('DATE')))\n",
    "weather_df = weather_df.withColumn('MONTH', F.month(F.col('DATE'))) \n",
    "weather_df = weather_df.withColumn('Year', F.year(F.col('DATE')))"
   ]
  },
  {
   "cell_type": "code",
   "execution_count": 25,
   "id": "f1a8a0d9-e560-49b8-8d5b-943ea116a718",
   "metadata": {},
   "outputs": [
    {
     "name": "stdout",
     "output_type": "stream",
     "text": [
      "Before count: 11842\n",
      "After count: 11824\n"
     ]
    }
   ],
   "source": [
    "# DATE가 동일한 컬럼 제거\n",
    "print(\"Before count:\", weather_df.count())\n",
    "weather_df = weather_df.dropDuplicates(['DATE'])\n",
    "print(\"After count:\", weather_df.count())"
   ]
  },
  {
   "cell_type": "code",
   "execution_count": 26,
   "id": "d2479a50-8c61-42e2-a751-08bac35ea69e",
   "metadata": {},
   "outputs": [],
   "source": [
    "# temperature 결측치 처리\n",
    "weather_df = weather_df.withColumn('Temperature(C)', F.when(F.col('Temperature(C)') == 999.9, None).otherwise(F.col('Temperature(C)')))\n",
    "window_spec = Window.partitionBy('STATION').orderBy('DATE').rowsBetween(-3, 3)\n",
    "weather_df = weather_df.withColumn('Temperature(C)', F.when(F.col('Temperature(C)').isNull(), F.avg('Temperature(C)').over(window_spec)).otherwise(F.col('Temperature(C)')))"
   ]
  },
  {
   "cell_type": "code",
   "execution_count": 27,
   "id": "89b35c09-ff83-46cc-a8f2-6e0e5811bf72",
   "metadata": {},
   "outputs": [],
   "source": [
    "# wind_power 결측치 처리\n",
    "ndf = weather_df.withColumn('Wind_Power(m/s)', F.when(F.col('Wind_Power(m/s)') == 999.9, None).otherwise(F.col('Wind_Power(m/s)')))\n",
    "window_spec = Window.partitionBy('STATION').orderBy('DATE').rowsBetween(-3, 3)\n",
    "ndf = weather_df.withColumn('Wind_Power(m/s)', F.when(F.col('Wind_Power(m/s)').isNull(), F.avg('Wind_Power(m/s)').over(window_spec)).otherwise(F.col('Wind_Power(m/s)')))"
   ]
  },
  {
   "cell_type": "code",
   "execution_count": 28,
   "id": "1f3448a1-0077-4d91-b30f-47fb9a48faa8",
   "metadata": {},
   "outputs": [],
   "source": [
    "# RAIN_PER_HOUR\n",
    "weather_df = weather_df.withColumn('RAIN_PER_HOUR', F.when(F.col('RAIN_PER_HOUR') == 999.9, None).otherwise(F.col('RAIN_PER_HOUR')))\n",
    "window_spec = Window.partitionBy('STATION').orderBy('DATE').rowsBetween(-3, 3)\n",
    "weather_df = weather_df.withColumn('RAIN_PER_HOUR', F.when(F.col('RAIN_PER_HOUR').isNull(), F.avg('RAIN_PER_HOUR').over(window_spec)).otherwise(F.col('RAIN_PER_HOUR')))"
   ]
  },
  {
   "cell_type": "code",
   "execution_count": 29,
   "id": "ae26d626-1d0b-4a2d-a0ff-9b2e53716777",
   "metadata": {},
   "outputs": [
    {
     "name": "stdout",
     "output_type": "stream",
     "text": [
      "-RECORD 0------------------------------\n",
      " STATION         | 72505394728         \n",
      " DATE            | 2022-12-31 20:06:00 \n",
      " WND             | 999,9,C,0000,5      \n",
      " TMP             | +0100,5             \n",
      " AA1             | 01,0000,2,1         \n",
      " Temperature(C)  | 10.0                \n",
      " Wind_Power(m/s) | 0.0                 \n",
      " RAIN_PER_HOUR   | 0.0                 \n",
      " DAY             | 31                  \n",
      " HOUR            | 20                  \n",
      " MONTH           | 12                  \n",
      " Year            | 2022                \n",
      "only showing top 1 row\n",
      "\n"
     ]
    }
   ],
   "source": [
    "weather_df.show(1, vertical=True)"
   ]
  },
  {
   "cell_type": "code",
   "execution_count": 30,
   "id": "604f6426-74fe-428d-8635-eef9455361c2",
   "metadata": {},
   "outputs": [
    {
     "name": "stdout",
     "output_type": "stream",
     "text": [
      "-RECORD 0-------------------------------\n",
      " summary         | count                \n",
      " STATION         | 11824                \n",
      " WND             | 11824                \n",
      " TMP             | 11824                \n",
      " AA1             | 10361                \n",
      " Temperature(C)  | 11824                \n",
      " Wind_Power(m/s) | 11433                \n",
      " RAIN_PER_HOUR   | 11769                \n",
      " DAY             | 11824                \n",
      " HOUR            | 11824                \n",
      " MONTH           | 11824                \n",
      " Year            | 11824                \n",
      "-RECORD 1-------------------------------\n",
      " summary         | mean                 \n",
      " STATION         | 7.2505394728E10      \n",
      " WND             | null                 \n",
      " TMP             | null                 \n",
      " AA1             | null                 \n",
      " Temperature(C)  | 14.384788001804344   \n",
      " Wind_Power(m/s) | 48.774626082387876   \n",
      " RAIN_PER_HOUR   | 0.506257116152604    \n",
      " DAY             | 16.073663734776726   \n",
      " HOUR            | 11.00862652232747    \n",
      " MONTH           | 6.575355209742896    \n",
      " Year            | 2022.9988159675236   \n",
      "-RECORD 2-------------------------------\n",
      " summary         | stddev               \n",
      " STATION         | 0.0                  \n",
      " WND             | null                 \n",
      " TMP             | null                 \n",
      " AA1             | null                 \n",
      " Temperature(C)  | 8.029504201875973    \n",
      " Wind_Power(m/s) | 210.7523931831382    \n",
      " RAIN_PER_HOUR   | 2.635454770118521    \n",
      " DAY             | 8.808587110049425    \n",
      " HOUR            | 7.056825929037531    \n",
      " MONTH           | 3.416886417386299    \n",
      " Year            | 0.034390850111035896 \n",
      "-RECORD 3-------------------------------\n",
      " summary         | min                  \n",
      " STATION         | 72505394728          \n",
      " WND             | 010,1,N,0021,1       \n",
      " TMP             | +0000,5              \n",
      " AA1             | 01,0000,2,1          \n",
      " Temperature(C)  | -15.6                \n",
      " Wind_Power(m/s) | 0.0                  \n",
      " RAIN_PER_HOUR   | 0.0                  \n",
      " DAY             | 1                    \n",
      " HOUR            | 0                    \n",
      " MONTH           | 1                    \n",
      " Year            | 2022                 \n",
      "-RECORD 4-------------------------------\n",
      " summary         | max                  \n",
      " STATION         | 72505394728          \n",
      " WND             | 999,9,V,0031,5       \n",
      " TMP             | -0156,5              \n",
      " AA1             | 24,1392,9,5          \n",
      " Temperature(C)  | 33.9                 \n",
      " Wind_Power(m/s) | 999.9                \n",
      " RAIN_PER_HOUR   | 139.2                \n",
      " DAY             | 31                   \n",
      " HOUR            | 23                   \n",
      " MONTH           | 12                   \n",
      " Year            | 2023                 \n",
      "\n"
     ]
    }
   ],
   "source": [
    "weather_df.describe(weather_df.columns).show(vertical=True)"
   ]
  },
  {
   "cell_type": "code",
   "execution_count": 31,
   "id": "d0c70142-fca3-447c-8544-662288611b19",
   "metadata": {},
   "outputs": [],
   "source": [
    "weather_df = weather_df.withColumn(\"TARGET\", date_format(weather_df.DATE,'yyyy-MM-dd H'))\n",
    "weather_df = weather_df.select('DATE', 'TMP', 'WND', 'TARGET', 'AA1', 'Temperature(C)', 'Wind_Power(m/s)', 'RAIN_PER_HOUR')\n",
    "weather_df = weather_df.groupBy('DATE',\"TARGET\").avg()\n",
    "weather_df = weather_df.orderBy('DATE')"
   ]
  },
  {
   "cell_type": "code",
   "execution_count": 32,
   "id": "fff47513-3d5c-4f5f-a004-31206161b293",
   "metadata": {},
   "outputs": [
    {
     "name": "stdout",
     "output_type": "stream",
     "text": [
      "+-------------------+-------------+-------------------+--------------------+------------------+\n",
      "|               DATE|       TARGET|avg(Temperature(C))|avg(Wind_Power(m/s))|avg(RAIN_PER_HOUR)|\n",
      "+-------------------+-------------+-------------------+--------------------+------------------+\n",
      "|2022-12-31 20:06:00|2022-12-31 20|               10.0|                 0.0|               0.0|\n",
      "|2022-12-31 20:18:00|2022-12-31 20|               10.0|                 1.5|               0.0|\n",
      "|2022-12-31 20:31:00|2022-12-31 20|               10.0|                 0.0|               0.2|\n",
      "|2022-12-31 20:44:00|2022-12-31 20|               10.0|                 0.0|               0.5|\n",
      "|2022-12-31 20:49:00|2022-12-31 20|               10.0|                 0.0|0.4166666666666667|\n",
      "|2022-12-31 20:51:00|2022-12-31 20|               10.0|                 0.0|               0.8|\n",
      "|2022-12-31 21:19:00|2022-12-31 21|               10.6|                 0.0|               0.5|\n",
      "|2022-12-31 21:27:00|2022-12-31 21|               11.7|                 1.5|               0.5|\n",
      "|2022-12-31 21:51:00|2022-12-31 21|               12.8|                 3.1|               1.0|\n",
      "|2022-12-31 22:49:00|2022-12-31 22|               12.0|                 2.6|              1.05|\n",
      "|2022-12-31 22:51:00|2022-12-31 22|               12.2|                 0.0|               2.8|\n",
      "|2022-12-31 23:01:00|2022-12-31 23|               12.2|                 2.6|               0.5|\n",
      "|2022-12-31 23:35:00|2022-12-31 23|               12.8|                 2.6|               1.0|\n",
      "|2022-12-31 23:51:00|2022-12-31 23|               12.8|                 2.6|               0.8|\n",
      "|2023-01-01 00:05:00| 2023-01-01 0|               12.2|                 0.0|               0.0|\n",
      "|2023-01-01 00:34:00| 2023-01-01 0|               12.2|                 3.6|               0.0|\n",
      "|2023-01-01 00:51:00| 2023-01-01 0|               12.2|                 0.0|               0.3|\n",
      "|2023-01-01 00:59:00| 2023-01-01 0| 12.166666666666666|                null|               7.1|\n",
      "|2023-01-01 01:20:00| 2023-01-01 1|               12.2|                 0.0|               0.0|\n",
      "|2023-01-01 01:36:00| 2023-01-01 1|               12.2|                 3.1|               0.0|\n",
      "+-------------------+-------------+-------------------+--------------------+------------------+\n",
      "only showing top 20 rows\n",
      "\n"
     ]
    }
   ],
   "source": [
    "weather_df.show(20)"
   ]
  },
  {
   "cell_type": "code",
   "execution_count": 33,
   "id": "2d067c36-9c0e-423b-a037-c4eff5648460",
   "metadata": {},
   "outputs": [
    {
     "name": "stdout",
     "output_type": "stream",
     "text": [
      "-RECORD 0-----------------------------------\n",
      " hvfhs_license_num    | HV0003              \n",
      " dispatching_base_num | B03404              \n",
      " originating_base_num | B03404              \n",
      " request_datetime     | 2023-01-01 00:18:06 \n",
      " on_scene_datetime    | 2023-01-01 00:19:24 \n",
      " pickup_datetime      | 2023-01-01 00:19:38 \n",
      " dropoff_datetime     | 2023-01-01 00:48:07 \n",
      " PULocationID         | 48                  \n",
      " DOLocationID         | 68                  \n",
      " trip_miles           | 0.94                \n",
      " trip_time            | 1709                \n",
      " base_passenger_fare  | 25.95               \n",
      " tolls                | 0.0                 \n",
      " bcf                  | 0.78                \n",
      " sales_tax            | 2.3                 \n",
      " congestion_surcharge | 2.75                \n",
      " airport_fee          | 0.0                 \n",
      " tips                 | 5.22                \n",
      " driver_pay           | 27.83               \n",
      " shared_request_flag  | N                   \n",
      " shared_match_flag    | N                   \n",
      " access_a_ride_flag   |                     \n",
      " wav_request_flag     | N                   \n",
      " wav_match_flag       | N                   \n",
      " hour                 | 0                   \n",
      " TARGET               | 2023-01-01 0        \n",
      "only showing top 1 row\n",
      "\n"
     ]
    }
   ],
   "source": [
    "df = df.withColumn(\"TARGET\", date_format(df.request_datetime,'yyyy-MM-dd H'))\n",
    "df.show(1, vertical=True)"
   ]
  },
  {
   "cell_type": "markdown",
   "id": "3adb9d20-8205-4b52-9b7f-edc20669a130",
   "metadata": {},
   "source": [
    "### The average number of calls depending on whether it rains\n",
    "- To represent the presence of rain as a binary variable, it is considered to have rained if the average hourly precipitation is 1mm or more."
   ]
  },
  {
   "cell_type": "code",
   "execution_count": 34,
   "id": "6aa86160-dece-475e-b5b0-3e91d094a1bd",
   "metadata": {},
   "outputs": [
    {
     "name": "stdout",
     "output_type": "stream",
     "text": [
      "-RECORD 0-----------------------------------\n",
      " hvfhs_license_num    | HV0003              \n",
      " dispatching_base_num | B03404              \n",
      " originating_base_num | B03404              \n",
      " request_datetime     | 2023-01-01 00:18:06 \n",
      " on_scene_datetime    | 2023-01-01 00:19:24 \n",
      " pickup_datetime      | 2023-01-01 00:19:38 \n",
      " dropoff_datetime     | 2023-01-01 00:48:07 \n",
      " PULocationID         | 48                  \n",
      " DOLocationID         | 68                  \n",
      " trip_miles           | 0.94                \n",
      " trip_time            | 1709                \n",
      " base_passenger_fare  | 25.95               \n",
      " tolls                | 0.0                 \n",
      " bcf                  | 0.78                \n",
      " sales_tax            | 2.3                 \n",
      " congestion_surcharge | 2.75                \n",
      " airport_fee          | 0.0                 \n",
      " tips                 | 5.22                \n",
      " driver_pay           | 27.83               \n",
      " shared_request_flag  | N                   \n",
      " shared_match_flag    | N                   \n",
      " access_a_ride_flag   |                     \n",
      " wav_request_flag     | N                   \n",
      " wav_match_flag       | N                   \n",
      " hour                 | 0                   \n",
      " DATE                 | 2023-01-01 00:05:00 \n",
      " TARGET               | 2023-01-01 0        \n",
      " avg(Temperature(C))  | 12.2                \n",
      " avg(Wind_Power(m/s)) | 0.0                 \n",
      " avg(RAIN_PER_HOUR)   | 0.0                 \n",
      "only showing top 1 row\n",
      "\n"
     ]
    }
   ],
   "source": [
    "# Join weather info with TLC dataset\n",
    "df_w_weather = df.join(weather_df, df.TARGET==weather_df.TARGET, 'inner')\n",
    "df_w_weather = df_w_weather.drop(df.TARGET)\n",
    "df_w_weather.show(1, vertical=True)"
   ]
  },
  {
   "cell_type": "code",
   "execution_count": 35,
   "id": "972bc44d-2f91-4386-9240-1bc8c401e756",
   "metadata": {},
   "outputs": [
    {
     "name": "stdout",
     "output_type": "stream",
     "text": [
      "-RECORD 0-----------------------------------\n",
      " hvfhs_license_num    | HV0003              \n",
      " dispatching_base_num | B03404              \n",
      " originating_base_num | B03404              \n",
      " request_datetime     | 2023-01-01 00:18:06 \n",
      " on_scene_datetime    | 2023-01-01 00:19:24 \n",
      " pickup_datetime      | 2023-01-01 00:19:38 \n",
      " dropoff_datetime     | 2023-01-01 00:48:07 \n",
      " PULocationID         | 48                  \n",
      " DOLocationID         | 68                  \n",
      " trip_miles           | 0.94                \n",
      " trip_time            | 1709                \n",
      " base_passenger_fare  | 25.95               \n",
      " tolls                | 0.0                 \n",
      " bcf                  | 0.78                \n",
      " sales_tax            | 2.3                 \n",
      " congestion_surcharge | 2.75                \n",
      " airport_fee          | 0.0                 \n",
      " tips                 | 5.22                \n",
      " driver_pay           | 27.83               \n",
      " shared_request_flag  | N                   \n",
      " shared_match_flag    | N                   \n",
      " access_a_ride_flag   |                     \n",
      " wav_request_flag     | N                   \n",
      " wav_match_flag       | N                   \n",
      " hour                 | 0                   \n",
      " TARGET               | 2023-01-01 0        \n",
      "only showing top 1 row\n",
      "\n"
     ]
    }
   ],
   "source": [
    "df.show(1, vertical=True)"
   ]
  },
  {
   "cell_type": "code",
   "execution_count": 36,
   "id": "89ae8348-8cdf-4d2c-b66c-ec07294efdfb",
   "metadata": {},
   "outputs": [
    {
     "name": "stdout",
     "output_type": "stream",
     "text": [
      "-RECORD 0-----------------------------------\n",
      " hvfhs_license_num    | HV0003              \n",
      " dispatching_base_num | B03404              \n",
      " originating_base_num | B03404              \n",
      " request_datetime     | 2023-01-01 00:18:06 \n",
      " on_scene_datetime    | 2023-01-01 00:19:24 \n",
      " pickup_datetime      | 2023-01-01 00:19:38 \n",
      " dropoff_datetime     | 2023-01-01 00:48:07 \n",
      " PULocationID         | 48                  \n",
      " DOLocationID         | 68                  \n",
      " trip_miles           | 0.94                \n",
      " trip_time            | 1709                \n",
      " base_passenger_fare  | 25.95               \n",
      " tolls                | 0.0                 \n",
      " bcf                  | 0.78                \n",
      " sales_tax            | 2.3                 \n",
      " congestion_surcharge | 2.75                \n",
      " airport_fee          | 0.0                 \n",
      " tips                 | 5.22                \n",
      " driver_pay           | 27.83               \n",
      " shared_request_flag  | N                   \n",
      " shared_match_flag    | N                   \n",
      " access_a_ride_flag   |                     \n",
      " wav_request_flag     | N                   \n",
      " wav_match_flag       | N                   \n",
      " hour                 | 0                   \n",
      " DATE                 | 2023-01-01 00:05:00 \n",
      " TARGET               | 2023-01-01 0        \n",
      " avg(Temperature(C))  | 12.2                \n",
      " avg(Wind_Power(m/s)) | 0.0                 \n",
      " avg(RAIN_PER_HOUR)   | 0.0                 \n",
      " is_rainy             | false               \n",
      " is_weekend           | 1                   \n",
      " DAY                  | 01                  \n",
      "only showing top 1 row\n",
      "\n"
     ]
    }
   ],
   "source": [
    "df = df_w_weather\n",
    "df = df.na.drop('any')\n",
    "df = df.withColumn(\"is_rainy\", df['avg(RAIN_PER_HOUR)'] > 1)\n",
    "df = df.withColumn(\"is_weekend\", date_format(\"request_datetime\", 'EEE').isin([\"Sat\", \"Sun\"]).cast(\"int\"))\n",
    "df = df.withColumn(\"DAY\", date_format(df.request_datetime,'dd'))\n",
    "df.show(1, vertical=True)"
   ]
  },
  {
   "cell_type": "code",
   "execution_count": 37,
   "id": "201ff695-e837-4071-9d64-e8e3b0c2dea8",
   "metadata": {},
   "outputs": [
    {
     "name": "stderr",
     "output_type": "stream",
     "text": [
      "                                                                                \r"
     ]
    }
   ],
   "source": [
    "total_call_rainy = df.filter(df.is_rainy=='true').count()\n",
    "rainy_time_slot = df.filter(df.is_rainy=='true').select('request_datetime', 'hour').distinct().count()\n",
    "avg_call_rainy = total_call_rainy / rainy_time_slot\n",
    "\n",
    "total_call_sunny = df.filter(df.is_rainy=='false').count()\n",
    "sunny_time_slot = df.filter(df.is_rainy=='false').select('request_datetime', 'hour').distinct().count()\n",
    "avg_call_sunny = total_call_sunny / sunny_time_slot"
   ]
  },
  {
   "cell_type": "code",
   "execution_count": 38,
   "id": "493783a2-a181-4423-a18a-8aa92bb8b916",
   "metadata": {},
   "outputs": [
    {
     "data": {
      "text/plain": [
       "Text(0.5, 1.0, 'Average call per hour')"
      ]
     },
     "execution_count": 38,
     "metadata": {},
     "output_type": "execute_result"
    },
    {
     "data": {
      "image/png": "[encoded data removed]",
      "text/plain": [
       "<Figure size 640x480 with 1 Axes>"
      ]
     },
     "metadata": {},
     "output_type": "display_data"
    }
   ],
   "source": [
    "plt.bar(['rainy', 'sunny'], [avg_call_rainy, avg_call_sunny], color=['skyblue','orange'])\n",
    "plt.title('Average call per hour')"
   ]
  },
  {
   "cell_type": "markdown",
   "id": "55e114ab-0807-4d2e-8688-711b35624c96",
   "metadata": {},
   "source": [
    "# Save DataFrame"
   ]
  },
  {
   "cell_type": "code",
   "execution_count": 39,
   "id": "cc351276-becf-4609-b29d-5e171e6cb09f",
   "metadata": {},
   "outputs": [
    {
     "name": "stderr",
     "output_type": "stream",
     "text": [
      "                                                                                \r"
     ]
    }
   ],
   "source": [
    "df.write.coalesce(1).csv(\"hdfs://spark-master:9000/user/spark_user/W4M2_output/TLC_dataframe.csv\")"
   ]
  },
  {
   "cell_type": "markdown",
   "id": "6e9ff294-040e-4bda-a096-4443449615f1",
   "metadata": {},
   "source": [
    "# Side Project: WAV TARGET"
   ]
  },
  {
   "cell_type": "code",
   "execution_count": 40,
   "id": "7c739a3c-56d6-47f6-9ecc-57664501c6aa",
   "metadata": {},
   "outputs": [],
   "source": [
    "wav_df = df.filter(df.wav_request_flag=='Y')"
   ]
  },
  {
   "cell_type": "markdown",
   "id": "843f480f-8bb9-4ea2-b39f-a8b7fda6bdc8",
   "metadata": {},
   "source": [
    "## 1. Weekend/weekdays Identification"
   ]
  },
  {
   "cell_type": "code",
   "execution_count": 41,
   "id": "4cd3799a-e226-4ea8-a31c-2623b4bb6476",
   "metadata": {},
   "outputs": [],
   "source": [
    "per_day_df = df.select('DAY','is_weekend').groupBy('DAY', 'is_weekend').count().orderBy('DAY')\n",
    "wav_per_day_df = wav_df.select('DAY','is_weekend').groupBy('DAY', 'is_weekend').count().orderBy('DAY')"
   ]
  },
  {
   "cell_type": "code",
   "execution_count": 45,
   "id": "28502774-deac-40b9-a2e6-dd4198947d9d",
   "metadata": {},
   "outputs": [
    {
     "name": "stderr",
     "output_type": "stream",
     "text": [
      "/home/spark_user/spark/python/pyspark/pandas/utils.py:975: PandasAPIOnSparkAdviceWarning: `to_numpy` loads all data into the driver's memory. It should only be used if the resulting NumPy ndarray is expected to be small.\n",
      "  warnings.warn(message, PandasAPIOnSparkAdviceWarning)\n",
      "/home/spark_user/spark/python/pyspark/pandas/utils.py:975: PandasAPIOnSparkAdviceWarning: `to_numpy` loads all data into the driver's memory. It should only be used if the resulting NumPy ndarray is expected to be small.\n",
      "  warnings.warn(message, PandasAPIOnSparkAdviceWarning)\n",
      "                                                                                \r"
     ]
    },
    {
     "data": {
      "image/png": "[encoded data removed]",
      "text/plain": [
       "<Figure size 640x480 with 2 Axes>"
      ]
     },
     "metadata": {},
     "output_type": "display_data"
    }
   ],
   "source": [
    "datas = [per_day_df, wav_per_day_df]\n",
    "titles = [\"Total Trip Count by Day in January (2023.01)\", \"WAV Trip Count by Day in January (2023.01)\"]\n",
    "intervals = [200000, 500]\n",
    "\n",
    "for i in range(2):\n",
    "    data_df = ps.DataFrame(datas[i])\n",
    "    np_data = data_df.to_numpy()\n",
    "    days = list(np_data[:,0])\n",
    "    is_weekend = list(np_data[:,1])\n",
    "    cnt = list(np_data[:,2])\n",
    "    max_cnt = int(max(cnt))\n",
    "    colors = ['orange' for _ in range(len(days))]\n",
    "    for j in range(len(days)):\n",
    "        if is_weekend[j] == 1:\n",
    "            colors[j] = 'skyblue'\n",
    "    plt.subplot(2, 1, i+1) \n",
    "    plt.bar(days, cnt, color=colors)\n",
    "    plt.xlabel(\"days\")\n",
    "    plt.ylabel(\"# of usage\")\n",
    "    plt.xticks([x for x in range(0, 31, 2)])\n",
    "    y_interval = intervals[i]\n",
    "    if y_interval > 1000:\n",
    "        y_ticks_str = [str(x//1000)+ \"K\" for x in range(0, max_cnt, y_interval)]\n",
    "    else:\n",
    "        y_ticks_str = [str(x) for x in range(0, max_cnt, y_interval)]\n",
    "    plt.yticks([y for y in range(0, max_cnt, y_interval)], y_ticks_str)\n",
    "    plt.title(titles[i])\n",
    "\n",
    "plt.subplots_adjust(hspace=0.7)\n",
    "plt.show()"
   ]
  },
  {
   "cell_type": "code",
   "execution_count": 43,
   "id": "d471b9af-ce73-4af8-abd0-a8fd359c10d1",
   "metadata": {},
   "outputs": [
    {
     "name": "stderr",
     "output_type": "stream",
     "text": [
      "                                                                                \r"
     ]
    }
   ],
   "source": [
    "df_weekend = df.filter(df.is_weekend==1)\n",
    "df_weekend_gb = df_weekend.groupBy('hour').count().orderBy('hour')\n",
    "df_weekend_gb = df_weekend_gb.withColumn(\"avg_cnt\", df_weekend_gb['count'] / df_weekend.select('DAY').distinct().count())\n",
    "\n",
    "df_weekdays = df.filter(wav_df.is_weekend==0)\n",
    "df_weekdays_gb = df_weekdays.groupBy('hour').count().orderBy('hour')\n",
    "df_weekdays_gb = df_weekdays_gb.withColumn(\"avg_cnt\", df_weekdays_gb['count'] / df_weekdays.select('DAY').distinct().count())\n",
    "\n",
    "wav_df_weekend = wav_df.filter(wav_df.is_weekend==1)\n",
    "wav_df_weekend_gb = wav_df_weekend.groupBy('hour').count().orderBy('hour')\n",
    "wav_df_weekend_gb = wav_df_weekend_gb.withColumn(\"avg_cnt\", wav_df_weekend_gb['count'] / wav_df_weekend.select('DAY').distinct().count())\n",
    "\n",
    "wav_df_weekdays = wav_df.filter(wav_df.is_weekend==0)\n",
    "wav_df_weekdays_gb = wav_df_weekdays.groupBy('hour').count().orderBy('hour')\n",
    "wav_df_weekdays_gb = wav_df_weekdays_gb.withColumn(\"avg_cnt\", wav_df_weekdays_gb['count'] / wav_df_weekdays.select('DAY').distinct().count())"
   ]
  },
  {
   "cell_type": "code",
   "execution_count": 44,
   "id": "c5e871a6-c5b8-4c72-8434-263fe44ecf98",
   "metadata": {},
   "outputs": [
    {
     "name": "stderr",
     "output_type": "stream",
     "text": [
      "/home/spark_user/spark/python/pyspark/pandas/utils.py:975: PandasAPIOnSparkAdviceWarning: `to_numpy` loads all data into the driver's memory. It should only be used if the resulting NumPy ndarray is expected to be small.\n",
      "  warnings.warn(message, PandasAPIOnSparkAdviceWarning)\n",
      "/home/spark_user/spark/python/pyspark/pandas/utils.py:975: PandasAPIOnSparkAdviceWarning: `to_numpy` loads all data into the driver's memory. It should only be used if the resulting NumPy ndarray is expected to be small.\n",
      "  warnings.warn(message, PandasAPIOnSparkAdviceWarning)\n",
      "/home/spark_user/spark/python/pyspark/pandas/utils.py:975: PandasAPIOnSparkAdviceWarning: `to_numpy` loads all data into the driver's memory. It should only be used if the resulting NumPy ndarray is expected to be small.\n",
      "  warnings.warn(message, PandasAPIOnSparkAdviceWarning)\n",
      "/home/spark_user/spark/python/pyspark/pandas/utils.py:975: PandasAPIOnSparkAdviceWarning: `to_numpy` loads all data into the driver's memory. It should only be used if the resulting NumPy ndarray is expected to be small.\n",
      "  warnings.warn(message, PandasAPIOnSparkAdviceWarning)\n",
      "                                                                                \r"
     ]
    },
    {
     "data": {
      "image/png": "[encoded data removed]",
      "text/plain": [
       "<Figure size 640x480 with 4 Axes>"
      ]
     },
     "metadata": {},
     "output_type": "display_data"
    }
   ],
   "source": [
    "datas = [df_weekdays_gb, df_weekend_gb, wav_df_weekdays_gb, wav_df_weekend_gb]\n",
    "titles = [\"Total Average Trip Count (Weekdays)\", \"Total Average Trip Count (Weekend)\",\n",
    "          \"WAV Average Trip Count (Weekdays)\", \"WAV Average Trip Count (Weekend)\",]\n",
    "intervals = [15000, 15000, 50, 25]\n",
    "colors = ['skyblue', 'skyblue', 'orange', 'orange']\n",
    "\n",
    "for i in range(len(datas)):\n",
    "    data_df = ps.DataFrame(datas[i])\n",
    "    np_data = data_df.to_numpy()\n",
    "    hours = list(np_data[:,0])\n",
    "    cnt = list(np_data[:,2])\n",
    "    max_cnt = int(max(cnt))\n",
    "    \n",
    "    plt.subplot(4,1,i+1)    \n",
    "    plt.bar(hours, cnt, color=colors[i])\n",
    "    plt.xlabel(\"hours\")\n",
    "    plt.ylabel(\"# of usage\")\n",
    "    plt.xticks([x for x in range(0, 24, 2)])\n",
    "    y_interval = intervals[i]\n",
    "    if y_interval > 1000:\n",
    "        y_ticks_str = [str(x//1000)+ \"K\" for x in range(0, max_cnt, y_interval)]\n",
    "    else:\n",
    "        y_ticks_str = [str(x) for x in range(0, max_cnt, y_interval)]\n",
    "    plt.yticks([y for y in range(0, max_cnt, y_interval)], y_ticks_str)\n",
    "    plt.title(titles[i])\n",
    "\n",
    "plt.subplots_adjust(hspace=2, wspace=0.7)\n",
    "plt.show()"
   ]
  },
  {
   "cell_type": "markdown",
   "id": "dd5e91c6-dcb9-4c08-b918-240c2c568dc4",
   "metadata": {},
   "source": [
    "# Insights from TLC Dataset\n",
    "1. 평일/주말 여부에 따른 차량 호출수를 비교해 보았을 때, 전체 호출에 대한 수요를 확인했을 때는 평균적으로 평일보다 주말에 높은 수요가 존재하지만, WAV 차량을 요구한 요청만을 확인했을 때는 평균적으로 주말보다 평일에 더욱 높은 호출량을 확인할 수 있다. \n",
    "2. 시간에 따른 차량 호출수를 비교해 보았을 때, 전체 차량 호출수와 WAV 차량 호출수 모두 평일보다 주말에 늦은 시간대(21~2)의 호출량이 월등히 높다."
   ]
  }
 ],
 "metadata": {
  "kernelspec": {
   "display_name": "Python 3 (ipykernel)",
   "language": "python",
   "name": "python3"
  },
  "language_info": {
   "codemirror_mode": {
    "name": "ipython",
    "version": 3
   },
   "file_extension": ".py",
   "mimetype": "text/x-python",
   "name": "python",
   "nbconvert_exporter": "python",
   "pygments_lexer": "ipython3",
   "version": "3.10.12"
  }
 },
 "nbformat": 4,
 "nbformat_minor": 5
}
