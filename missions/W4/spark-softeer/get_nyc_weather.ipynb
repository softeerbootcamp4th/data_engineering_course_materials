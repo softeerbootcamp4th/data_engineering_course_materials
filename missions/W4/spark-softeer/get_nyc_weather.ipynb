{
 "cells": [
  {
   "cell_type": "code",
   "execution_count": 5,
   "metadata": {},
   "outputs": [],
   "source": [
    "from datetime import datetime, timedelta\n",
    "from io import StringIO\n",
    "\n",
    "import pandas as pd\n",
    "from selenium import webdriver\n",
    "\n",
    "\n",
    "def range_datetime(from_datetime, to_datetime):\n",
    "    while from_datetime < to_datetime:\n",
    "        yield from_datetime\n",
    "        from_datetime += timedelta(days=1)\n",
    "\n",
    "\n",
    "\n",
    "driver = webdriver.Chrome()\n",
    "driver.implicitly_wait(30)"
   ]
  },
  {
   "cell_type": "code",
   "execution_count": 7,
   "metadata": {},
   "outputs": [],
   "source": [
    "from_datetime = datetime.strptime('2024-01-01', '%Y-%m-%d')\n",
    "to_datetime = datetime.strptime('2024-02-01', '%Y-%m-%d')\n",
    "\n",
    "for date_time in range_datetime(from_datetime, to_datetime):\n",
    "    datetime_str = date_time.strftime('%Y-%m-%d')\n",
    "    driver.get(\"https://www.wunderground.com/history/daily/KLGA/date/\" + datetime_str)\n",
    "\n",
    "    table = driver.find_element('css selector', '.mat-table.cdk-table.mat-sort.ng-star-inserted')\n",
    "    weather_df = pd.read_html(StringIO(table.get_attribute(\"outerHTML\")))[0].dropna(subset=['Time'])\n",
    "\n",
    "    weather_df['Time'] = weather_df['Time'].map(lambda r: datetime.strptime(datetime_str + ' ' + r, '%Y-%m-%d %I:%M %p'))\n",
    "    weather_df.columns = weather_df.columns[1:].insert(0, 'Datetime')\n",
    "\n",
    "    if from_datetime == date_time:\n",
    "        weather_df.to_csv('userdata/NYC-weather-' + from_datetime.strftime('%Y-%m-%d') + '_' + to_datetime.strftime('%Y-%m-%d') + '.csv', header=True, index=False)\n",
    "    else:\n",
    "        weather_df.to_csv('userdata/NYC-weather-' + from_datetime.strftime('%Y-%m-%d') + '_' + to_datetime.strftime('%Y-%m-%d') + '.csv', header=False, index=False, mode='a')\n",
    "    "
   ]
  },
  {
   "cell_type": "code",
   "execution_count": 8,
   "metadata": {},
   "outputs": [],
   "source": [
    "driver.close()"
   ]
  },
  {
   "cell_type": "code",
   "execution_count": null,
   "metadata": {},
   "outputs": [],
   "source": []
  }
 ],
 "metadata": {
  "kernelspec": {
   "display_name": ".venv",
   "language": "python",
   "name": "python3"
  },
  "language_info": {
   "codemirror_mode": {
    "name": "ipython",
    "version": 3
   },
   "file_extension": ".py",
   "mimetype": "text/x-python",
   "name": "python",
   "nbconvert_exporter": "python",
   "pygments_lexer": "ipython3",
   "version": "3.11.9"
  }
 },
 "nbformat": 4,
 "nbformat_minor": 2
}
