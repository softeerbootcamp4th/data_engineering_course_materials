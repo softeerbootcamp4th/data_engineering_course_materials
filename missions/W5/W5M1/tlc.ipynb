{
 "cells": [
  {
   "cell_type": "code",
   "execution_count": 2,
   "metadata": {},
   "outputs": [],
   "source": [
    "from pyspark.sql import SparkSession\n",
    "from datetime import datetime\n",
    "import pandas as pd"
   ]
  },
  {
   "cell_type": "code",
   "execution_count": 3,
   "metadata": {},
   "outputs": [
    {
     "name": "stderr",
     "output_type": "stream",
     "text": [
      "Setting default log level to \"WARN\".\n",
      "To adjust logging level use sc.setLogLevel(newLevel). For SparkR, use setLogLevel(newLevel).\n",
      "24/08/04 16:05:14 WARN NativeCodeLoader: Unable to load native-hadoop library for your platform... using builtin-java classes where applicable\n"
     ]
    }
   ],
   "source": [
    "spark = (\n",
    "    SparkSession.builder.appName(\"TLC DataSet Analyze\")\n",
    "    .master(\"local[*]\")\n",
    "    .config(\"spark.driver.host\", \"localhost\")\n",
    "    .config(\"spark.driver.port\", \"7077\")\n",
    "    .config(\"spark.ui.port\", \"4050\")\n",
    "    .config(\"spark.driver.memory\", \"15g\")\n",
    "    .config(\"spark.executor.memory\", \"15g\")\n",
    "    .getOrCreate()\n",
    ")"
   ]
  },
  {
   "cell_type": "code",
   "execution_count": 6,
   "metadata": {},
   "outputs": [],
   "source": [
    "def read_data(file_name, date):\n",
    "    file_path = f\"/Users/admin/Desktop/docker/W5M1/parquet_files/{file_name}_tripdata_{date}.parquet\"  # 로컬\n",
    "    print(f\"Attempting to read from: {file_path}\")\n",
    "\n",
    "    try:\n",
    "        read_df = spark.read.parquet(file_path)\n",
    "        return read_df\n",
    "    except Exception:\n",
    "        print(f\"File not found: {file_path}\")\n",
    "        return None\n",
    "\n",
    "\n",
    "start_date = \"2022-05-01\"\n",
    "start_date = datetime.strptime(start_date, \"%Y-%m-%d\")\n",
    "\n",
    "end_date = pd.Timestamp(start_date) + pd.offsets.MonthEnd(1)\n",
    "end_date_str = end_date.strftime(\"%Y-%m-%d\")\n",
    "end_date = datetime.strptime(end_date_str, \"%Y-%m-%d\")\n",
    "\n",
    "\n",
    "def clean_data(row):\n",
    "    try:\n",
    "        (\n",
    "            tpep_pickup_datetime,\n",
    "            tpep_dropoff_datetime,\n",
    "            trip_distance,\n",
    "            total_amount,\n",
    "            congestion_surcharge,\n",
    "            airport_fee,\n",
    "        ) = row\n",
    "\n",
    "        if any(\n",
    "            [\n",
    "                tpep_pickup_datetime is None,\n",
    "                tpep_dropoff_datetime is None,\n",
    "                trip_distance is None,\n",
    "                total_amount is None,\n",
    "                congestion_surcharge is None,\n",
    "                airport_fee is None,\n",
    "            ]\n",
    "        ):\n",
    "            return False\n",
    "\n",
    "        if isinstance(tpep_pickup_datetime, str):\n",
    "            pickup_datetime = datetime.strptime(\n",
    "                tpep_pickup_datetime, \"%Y-%m-%d %H:%M:%S\"\n",
    "            )\n",
    "        else:\n",
    "            pickup_datetime = tpep_pickup_datetime\n",
    "\n",
    "        if isinstance(tpep_dropoff_datetime, str):\n",
    "            dropoff_datetime = datetime.strptime(\n",
    "                tpep_dropoff_datetime, \"%Y-%m-%d %H:%M:%S\"\n",
    "            )\n",
    "        else:\n",
    "            dropoff_datetime = tpep_dropoff_datetime\n",
    "\n",
    "        if (\n",
    "            pickup_datetime < start_date\n",
    "            or pickup_datetime > end_date\n",
    "            or dropoff_datetime < start_date\n",
    "            or dropoff_datetime > end_date\n",
    "        ):\n",
    "            return False\n",
    "\n",
    "        if (\n",
    "            trip_distance < 0\n",
    "            or total_amount < 0\n",
    "            or congestion_surcharge < 0\n",
    "            or airport_fee < 0\n",
    "        ):\n",
    "            return False\n",
    "\n",
    "        return True\n",
    "\n",
    "    except Exception as e:\n",
    "        print(f\"Error processing row {row}: {e}\")\n",
    "        return False"
   ]
  },
  {
   "cell_type": "code",
   "execution_count": 7,
   "metadata": {},
   "outputs": [
    {
     "name": "stdout",
     "output_type": "stream",
     "text": [
      ">>>>> yellow 2022-05\n",
      "Attempting to read from: /Users/admin/Desktop/docker/W5M1/parquet_files/yellow_tripdata_2022-05.parquet\n",
      ">>>>> yellow 2022-06\n",
      "Attempting to read from: /Users/admin/Desktop/docker/W5M1/parquet_files/yellow_tripdata_2022-06.parquet\n"
     ]
    }
   ],
   "source": [
    "categories = [\"yellow\"]\n",
    "\n",
    "months = (\n",
    "    pd.date_range(start=\"2022-05-01\", end=\"2022-06-01\", freq=\"MS\")\n",
    "    .strftime(\"%Y-%m\")\n",
    "    .tolist()\n",
    ")\n",
    "\n",
    "df = None\n",
    "for category in categories:\n",
    "    for month in months:\n",
    "        print(\">>>>>\", category, month)\n",
    "        read_df = read_data(category, month)\n",
    "        if read_df is not None:\n",
    "            if df is None:\n",
    "                df = read_df\n",
    "            else:\n",
    "                df = df.union(read_df)"
   ]
  },
  {
   "cell_type": "code",
   "execution_count": 8,
   "metadata": {},
   "outputs": [],
   "source": [
    "rdd = df.rdd.map(\n",
    "    lambda row: (\n",
    "        row.tpep_pickup_datetime,\n",
    "        row.tpep_dropoff_datetime,\n",
    "        row.trip_distance,\n",
    "        row.total_amount,\n",
    "        row.congestion_surcharge,\n",
    "        row.airport_fee,\n",
    "    )\n",
    ")"
   ]
  },
  {
   "cell_type": "code",
   "execution_count": 9,
   "metadata": {},
   "outputs": [],
   "source": [
    "filtered_rdd = rdd.filter(clean_data)"
   ]
  },
  {
   "cell_type": "code",
   "execution_count": 10,
   "metadata": {},
   "outputs": [
    {
     "data": {
      "text/plain": [
       "PythonRDD[13] at RDD at PythonRDD.scala:53"
      ]
     },
     "execution_count": 10,
     "metadata": {},
     "output_type": "execute_result"
    }
   ],
   "source": [
    "filtered_rdd.cache()"
   ]
  },
  {
   "cell_type": "markdown",
   "metadata": {},
   "source": [
    "# 총 여행 수 계산"
   ]
  },
  {
   "cell_type": "code",
   "execution_count": 11,
   "metadata": {},
   "outputs": [
    {
     "name": "stderr",
     "output_type": "stream",
     "text": [
      "[Stage 2:======================================================>  (19 + 1) / 20]\r"
     ]
    },
    {
     "name": "stdout",
     "output_type": "stream",
     "text": [
      "Total trip count sum: 3327695\n"
     ]
    },
    {
     "name": "stderr",
     "output_type": "stream",
     "text": [
      "                                                                                \r"
     ]
    }
   ],
   "source": [
    "print(f\"Total trip count sum: {filtered_rdd.count()}\")"
   ]
  },
  {
   "cell_type": "markdown",
   "metadata": {},
   "source": [
    "# 총 수익(요금의 합계) 계산"
   ]
  },
  {
   "cell_type": "code",
   "execution_count": 12,
   "metadata": {},
   "outputs": [
    {
     "name": "stderr",
     "output_type": "stream",
     "text": [
      "[Stage 3:======================================================>  (19 + 1) / 20]\r"
     ]
    },
    {
     "name": "stdout",
     "output_type": "stream",
     "text": [
      "Total fee sum: 81259348.9878806\n"
     ]
    },
    {
     "name": "stderr",
     "output_type": "stream",
     "text": [
      "                                                                                \r"
     ]
    }
   ],
   "source": [
    "def calculate_totals(row):\n",
    "    _, _, _, total_amount, congestion_surcharge, airport_fee = row\n",
    "    return total_amount + congestion_surcharge + airport_fee\n",
    "\n",
    "\n",
    "total_fee_sum = filtered_rdd.map(calculate_totals).reduce(lambda x, y: x + y)\n",
    "print(f\"Total fee sum: {total_fee_sum}\")"
   ]
  },
  {
   "cell_type": "markdown",
   "metadata": {},
   "source": [
    "# 평균 여행 거리 계산"
   ]
  },
  {
   "cell_type": "code",
   "execution_count": 13,
   "metadata": {},
   "outputs": [
    {
     "name": "stderr",
     "output_type": "stream",
     "text": [
      "[Stage 5:======================================================>  (19 + 1) / 20]\r"
     ]
    },
    {
     "name": "stdout",
     "output_type": "stream",
     "text": [
      "Average Trip Distance: 3.6133158026799284\n"
     ]
    },
    {
     "name": "stderr",
     "output_type": "stream",
     "text": [
      "                                                                                \r"
     ]
    }
   ],
   "source": [
    "trip_distances = filtered_rdd.map(lambda row: row[2])\n",
    "\n",
    "total_distance = trip_distances.sum()\n",
    "count = trip_distances.count()\n",
    "\n",
    "average_trip_distance = total_distance / count if count > 0 else 0\n",
    "\n",
    "print(f\"Average Trip Distance: {average_trip_distance}\")"
   ]
  },
  {
   "cell_type": "markdown",
   "metadata": {},
   "source": [
    "# 하루의 여행 수, 하루의 총 수익 계산"
   ]
  },
  {
   "cell_type": "code",
   "execution_count": 14,
   "metadata": {},
   "outputs": [
    {
     "name": "stderr",
     "output_type": "stream",
     "text": [
      "[Stage 6:======================================================>  (19 + 1) / 20]\r"
     ]
    },
    {
     "name": "stdout",
     "output_type": "stream",
     "text": [
      "Date: 2022-05-01, Total Trips: 94569, Total Cost: 2178003.570001049\n",
      "Date: 2022-05-02, Total Trips: 90764, Total Cost: 1992913.0900013102\n",
      "Date: 2022-05-03, Total Trips: 115554, Total Cost: 2457363.950000222\n",
      "Date: 2022-05-04, Total Trips: 120469, Total Cost: 2530621.289999993\n",
      "Date: 2022-05-05, Total Trips: 126359, Total Cost: 2721021.469999344\n",
      "Date: 2022-05-06, Total Trips: 120289, Total Cost: 2579383.0299997\n",
      "Date: 2022-05-07, Total Trips: 111684, Total Cost: 2218870.5300010415\n",
      "Date: 2022-05-08, Total Trips: 98581, Total Cost: 2160394.910001212\n",
      "Date: 2022-05-09, Total Trips: 103954, Total Cost: 2282400.10000089\n",
      "Date: 2022-05-10, Total Trips: 116799, Total Cost: 2487436.930000178\n",
      "Date: 2022-05-11, Total Trips: 122745, Total Cost: 2610444.0899997544\n",
      "Date: 2022-05-12, Total Trips: 127715, Total Cost: 2775632.239999156\n",
      "Date: 2022-05-13, Total Trips: 124026, Total Cost: 2733966.319999157\n",
      "Date: 2022-05-14, Total Trips: 119582, Total Cost: 2528301.309999959\n",
      "Date: 2022-05-15, Total Trips: 101297, Total Cost: 2337166.2100006365\n",
      "Date: 2022-05-16, Total Trips: 109843, Total Cost: 2441741.0400003837\n",
      "Date: 2022-05-17, Total Trips: 118653, Total Cost: 2725980.5499993633\n",
      "Date: 2022-05-18, Total Trips: 120939, Total Cost: 2751520.559999282\n",
      "Date: 2022-05-19, Total Trips: 123724, Total Cost: 2829553.309998947\n",
      "Date: 2022-05-20, Total Trips: 118876, Total Cost: 2696432.809999305\n",
      "Date: 2022-05-21, Total Trips: 118138, Total Cost: 2599235.609999582\n",
      "Date: 2022-05-22, Total Trips: 96488, Total Cost: 2263740.870000816\n",
      "Date: 2022-05-23, Total Trips: 106666, Total Cost: 2427687.33000033\n",
      "Date: 2022-05-24, Total Trips: 116841, Total Cost: 2553906.629999935\n",
      "Date: 2022-05-25, Total Trips: 117693, Total Cost: 2612754.88999969\n",
      "Date: 2022-05-26, Total Trips: 117049, Total Cost: 2603236.9699997404\n",
      "Date: 2022-05-27, Total Trips: 106220, Total Cost: 2335115.1900006495\n",
      "Date: 2022-05-28, Total Trips: 95001, Total Cost: 2014289.4900014307\n",
      "Date: 2022-05-29, Total Trips: 87786, Total Cost: 1947249.6900012656\n",
      "Date: 2022-05-30, Total Trips: 79391, Total Cost: 1840153.010001108\n"
     ]
    },
    {
     "name": "stderr",
     "output_type": "stream",
     "text": [
      "                                                                                \r"
     ]
    }
   ],
   "source": [
    "date_trip_cost_pairs = filtered_rdd.map(\n",
    "    lambda row: (\n",
    "        row[0].strftime(\"%Y-%m-%d\"),\n",
    "        (1, row[3]),\n",
    "    )\n",
    ")\n",
    "\n",
    "date_grouped = date_trip_cost_pairs.reduceByKey(\n",
    "    lambda a, b: (a[0] + b[0], a[1] + b[1])\n",
    ")\n",
    "\n",
    "date_sorted = date_grouped.map(\n",
    "    lambda x: (datetime.strptime(x[0], \"%Y-%m-%d\"), x[1])\n",
    ").sortByKey()\n",
    "\n",
    "grouped_rdd = date_sorted.map(lambda x: (x[0].strftime(\"%Y-%m-%d\"), x[1]))\n",
    "\n",
    "for date, (total_trips, total_cost) in grouped_rdd.collect():\n",
    "    print(f\"Date: {date}, Total Trips: {total_trips}, Total Cost: {total_cost}\")"
   ]
  },
  {
   "cell_type": "code",
   "execution_count": null,
   "metadata": {},
   "outputs": [],
   "source": [
    "spark.stop()"
   ]
  },
  {
   "cell_type": "code",
   "execution_count": null,
   "metadata": {},
   "outputs": [],
   "source": []
  }
 ],
 "metadata": {
  "kernelspec": {
   "display_name": "Python 3",
   "language": "python",
   "name": "python3"
  },
  "language_info": {
   "codemirror_mode": {
    "name": "ipython",
    "version": 3
   },
   "file_extension": ".py",
   "mimetype": "text/x-python",
   "name": "python",
   "nbconvert_exporter": "python",
   "pygments_lexer": "ipython3",
   "version": "3.9.6"
  }
 },
 "nbformat": 4,
 "nbformat_minor": 2
}
