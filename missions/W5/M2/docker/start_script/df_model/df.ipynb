{
 "cells": [
  {
   "cell_type": "code",
   "execution_count": null,
   "metadata": {},
   "outputs": [],
   "source": [
    "from pyspark.sql import SparkSession\n",
    "import os\n",
    "from datetime import datetime\n",
    "from datetime import timedelta\n",
    "\n",
    "spark = SparkSession.builder \\\n",
    "    .appName(\"LocalPySparkExample\") \\\n",
    "    .master(\"local[*]\") \\\n",
    "    .config(\"spark.driver.host\", \"127.0.0.1\") \\\n",
    "    .config(\"spark.driver.port\", \"4040\") \\\n",
    "    .getOrCreate()\n",
    "\n",
    "# 나머지 코드\n",
    "sc = spark.sparkContext\n"
   ]
  },
  {
   "cell_type": "code",
   "execution_count": null,
   "metadata": {},
   "outputs": [],
   "source": [
    "# spark configuration 확인\n",
    "print(spark.sparkContext.getConf().getAll())"
   ]
  },
  {
   "cell_type": "code",
   "execution_count": null,
   "metadata": {},
   "outputs": [],
   "source": [
    "# PATH\n",
    "POST_PATH = \"/Users/wh/Desktop/spark/HMG_W2/missions/W5/M2/docker/start_script/df_model/resources/naver_cafe_posts.csv\"\n",
    "COMMENT_PATH = \"/Users/wh/Desktop/spark/HMG_W2/missions/W5/M2/docker/start_script/df_model/resources/naver_cafe_comments.csv\"\n",
    "MODEL_PATH = \"/Users/wh/Desktop/spark/HMG_W2/missions/W5/M2/docker/start_script/df_model/resources/model_result.csv\"\n",
    "OUTPUT_PATH = \"output\"\n",
    "\n",
    "# 현재 시각, 초 단위까지 저장\n",
    "COLLECTED_AT = datetime.now().strftime(\"%Y-%m-%d %H:%M:%S\")\n"
   ]
  },
  {
   "cell_type": "code",
   "execution_count": null,
   "metadata": {},
   "outputs": [],
   "source": [
    "# POST 데이터를 rdd로 읽어오기\n",
    "post_rdd = spark.read.csv(POST_PATH, header=True, inferSchema=True).rdd"
   ]
  },
  {
   "cell_type": "code",
   "execution_count": null,
   "metadata": {},
   "outputs": [],
   "source": [
    "comment_rdd = spark.read.csv(COMMENT_PATH, header=True, inferSchema=True).rdd"
   ]
  },
  {
   "cell_type": "code",
   "execution_count": null,
   "metadata": {},
   "outputs": [],
   "source": [
    "model_rdd = sc.textFile(MODEL_PATH)\n",
    "model_df = spark.read.csv(MODEL_PATH, header=True, inferSchema=True)\n",
    "\n",
    "\n",
    "# 첫 번째 줄(헤더) 제거\n",
    "header = model_rdd.first()\n",
    "model_rdd = model_rdd.filter(lambda line: line != header)\n",
    "\n",
    "# 각 줄을 쉼표로 분할하여 열로 변환\n",
    "model_rdd = model_rdd.map(lambda line: line.split(\",\"))\n",
    "\n",
    "# 'post_type'이 1인 데이터만 필터링\n",
    "# 주어진 데이터 구조에서 'post_type'은 인덱스 4에 위치해 있습니다.\n",
    "model_rdd_t = model_rdd.filter(lambda x: int(x[4]) == 1)\n",
    "model_rdd_f = model_rdd.filter(lambda x: int(x[4]) == 0)\n",
    "\n",
    "model_df_t = model_df.filter(model_df['post_type'] == 1)\n",
    "model_df_f = model_df.filter(model_df['post_type'] == 0)\n"
   ]
  },
  {
   "cell_type": "code",
   "execution_count": null,
   "metadata": {},
   "outputs": [],
   "source": [
    "model_df_t_broadcast = sc.broadcast(model_df_t.collect())\n",
    "model_df_f_broadcast = sc.broadcast(model_df_f.collect())\n",
    "model_rdd_t_broadcast = sc.broadcast(model_rdd_t.collect())\n",
    "model_rdd_f_broadcast = sc.broadcast(model_rdd_f.collect())"
   ]
  },
  {
   "cell_type": "code",
   "execution_count": null,
   "metadata": {},
   "outputs": [],
   "source": [
    "# post_rdd# RDD로부터 (post_id, post_data)와 (post_id, comment_data)의 키-값 쌍 생성\n",
    "post_pair_rdd = post_rdd.map(lambda row: (row['post_id'], row))\n",
    "comment_pair_rdd = comment_rdd.map(lambda row: (row['post_id'], row))\n",
    "\n",
    "# Left Join 수행\n",
    "joined_rdd = post_pair_rdd.leftOuterJoin(comment_pair_rdd)\n",
    "\n",
    "# 댓글 개수를 세기 위해 post_id를 기준으로 그룹화\n",
    "comment_count_rdd = joined_rdd.mapValues(lambda x: 1 if x[1] else 0) \\\n",
    "                              .reduceByKey(lambda x, y: x + y)\n"
   ]
  },
  {
   "cell_type": "code",
   "execution_count": null,
   "metadata": {},
   "outputs": [],
   "source": [
    "# 댓글 개수를 세고, 각 post 데이터에 comments 속성을 추가\n",
    "result_rdd = joined_rdd.mapValues(lambda x: (x[0], 1 if x[1] else 0)) \\\n",
    "                       .reduceByKey(lambda x, y: (x[0], x[1] + y[1])) \\\n",
    "                       .map(lambda x: (x[1][0].post_id, x[1][0].title, x[1][0].content, x[1][0].likes, x[1][0].url, x[1][0].author, x[1][0].views, x[1][0].created_at, x[1][0].updated_at, x[1][1]))\n"
   ]
  },
  {
   "cell_type": "code",
   "execution_count": null,
   "metadata": {},
   "outputs": [],
   "source": [
    "def add_time(x):\n",
    "    created_at = x[7]\n",
    "\n",
    "    # 문자열 형태의 created_at 을 시간으로 변환\n",
    "    try:\n",
    "        created_at = datetime.strptime(created_at, \"%Y-%m-%d %H:%M:%S\")\n",
    "    except:\n",
    "        return (x[0], x[1], x[2], x[3], x[4], x[5], x[6], x[7], x[8], x[9], None)\n",
    "\n",
    "    # 2시간을 더하기\n",
    "    created_at = created_at + timedelta(hours=2)\n",
    "    created_at = created_at.strftime(\"%Y-%m-%d %H:%M:%S\")\n",
    "\n",
    "    return (x[0], x[1], x[2], x[3], x[4], x[5], x[6], x[7], x[8], x[9], created_at)\n",
    "\n",
    "# result_rdd에서 created_at에 2시간 더한 컬럼을 추가, rdd 사용\n",
    "result_rdd = result_rdd.map(lambda x: add_time(x))"
   ]
  },
  {
   "cell_type": "code",
   "execution_count": null,
   "metadata": {},
   "outputs": [],
   "source": [
    "# result_rdd에서 x[10] nan인 행을 제거\n",
    "result_rdd = result_rdd.filter(lambda x: x[10] is not None)"
   ]
  },
  {
   "cell_type": "code",
   "execution_count": null,
   "metadata": {},
   "outputs": [],
   "source": [
    "def find_impact_rdd(relative_time, cumulative_num):\n",
    "    # 브로드캐스트 변수에서 값 가져오기\n",
    "    model_rdd_t = model_rdd_t_broadcast.value\n",
    "    model_rdd_f = model_rdd_f_broadcast.value\n",
    "\n",
    "    # ['416', '16', '0.007359045763059523', '16', '1', '5']\n",
    "    # model_rdd_t에서 특정 조건으로 필터링 (cumulative_num과 relative_time 조건으로)\n",
    "    filtered_t = [row for row in model_rdd_t if float(row[3]) == cumulative_num and int(row[5]) == relative_time]\n",
    "\n",
    "    # model_rdd_f에서 특정 조건으로 필터링 (cumulative_num과 relative_time 조건으로)\n",
    "    filtered_f = [row for row in model_rdd_f if float(row[3]) == cumulative_num and int(row[5]) == relative_time]\n",
    "\n",
    "    value_t = float(filtered_t[0][2])\n",
    "    value_f = float(filtered_f[0][2])\n",
    "\n",
    "    if value_t == None or value_f == None:\n",
    "        impact = 0\n",
    "    else:\n",
    "        if value_t != 0:\n",
    "            impact = value_t / value_f\n",
    "        else:\n",
    "            impact = value_t / 7.832224256932018e-62\n",
    "\n",
    "    # 결과 출력\n",
    "    return impact\n",
    "\n",
    "\n",
    "def find_impact(relative_time, cumulative_num): \n",
    "    # 브로드캐스트 변수에서 값 가져오기\n",
    "    model_df_t = model_df_t_broadcast.value\n",
    "    model_df_f = model_df_f_broadcast.value\n",
    "\n",
    "\n",
    "    # 필요한 데이터만 추출 (필터링은 리스트 컴프리헨션을 사용하여 수행)\n",
    "    value_t = [row['pdf'] for row in model_df_t if row['cumulative_num'] == cumulative_num and row['relative_time'] == relative_time]\n",
    "    value_f = [row['pdf'] for row in model_df_f if row['cumulative_num'] == cumulative_num and row['relative_time'] == relative_time]\n",
    "\n",
    "    # 위 결과는 유이한 행이 하나만 나오므로 첫 번째 행만 추출\n",
    "    if value_f[0] != 0:\n",
    "        impact = value_t[0] / value_f[0]\n",
    "    else:\n",
    "        impact = value_t[0] / 7.832224256932018e-62\n",
    "    \n",
    "    return impact\n",
    "\n",
    "\n",
    "def apply_model_a(x):\n",
    "    post_id = x[0]\n",
    "    title = x[1]\n",
    "    content = x[2]\n",
    "    likes = x[3]\n",
    "    url = x[4]\n",
    "    author = x[5]\n",
    "    views = x[6]\n",
    "    created_at = x[7]\n",
    "    updated_at = x[8]\n",
    "    comment_count = x[9]\n",
    "    collected_at = x[10]\n",
    "\n",
    "    collected_at = datetime.strptime(collected_at, \"%Y-%m-%d %H:%M:%S\")\n",
    "    created_at = datetime.strptime(created_at, \"%Y-%m-%d %H:%M:%S\")\n",
    "\n",
    "    # 두 시간 차이 분단위로 계산\n",
    "    time_diff = (collected_at - created_at).seconds // 60\n",
    "    time_diff = time_diff - (time_diff % 5)\n",
    "\n",
    "    value = find_impact(time_diff, comment_count)\n",
    "    # value = find_pdf_rdd(time_diff, comment_count)\n",
    "\n",
    "    # 모델 적용\n",
    "    # 여기서는 간단히 created_at_plus_2h 컬럼을 추가\n",
    "    return (post_id, title, content, likes, url, author, views, created_at, updated_at, comment_count, collected_at, value)\n",
    "\n",
    "def apply_model_b(x):\n",
    "    post_id = x[0]\n",
    "    title = x[1]\n",
    "    content = x[2]\n",
    "    likes = x[3]\n",
    "    url = x[4]\n",
    "    author = x[5]\n",
    "    views = x[6]\n",
    "    created_at = x[7]\n",
    "    updated_at = x[8]\n",
    "    comment_count = x[9]\n",
    "    collected_at = x[10]\n",
    "\n",
    "    collected_at = datetime.strptime(collected_at, \"%Y-%m-%d %H:%M:%S\")\n",
    "    created_at = datetime.strptime(created_at, \"%Y-%m-%d %H:%M:%S\")\n",
    "\n",
    "    # 두 시간 차이 분단위로 계산\n",
    "    time_diff = (collected_at - created_at).seconds // 60\n",
    "    time_diff = time_diff - (time_diff % 5)\n",
    "\n",
    "    # value = find_impact(time_diff, comment_count)\n",
    "    value = find_impact_rdd(time_diff, comment_count)\n",
    "\n",
    "    # 모델 적용\n",
    "    # 여기서는 간단히 created_at_plus_2h 컬럼을 추가\n",
    "    return (post_id, title, content, likes, url, author, views, created_at, updated_at, comment_count, collected_at, value)"
   ]
  },
  {
   "cell_type": "code",
   "execution_count": null,
   "metadata": {},
   "outputs": [],
   "source": [
    "model_applied_rdd_a = result_rdd.map(lambda x: apply_model_a(x))    "
   ]
  },
  {
   "cell_type": "code",
   "execution_count": null,
   "metadata": {},
   "outputs": [],
   "source": [
    "model_applied_rdd_b = result_rdd.map(lambda x: apply_model_b(x))    "
   ]
  },
  {
   "cell_type": "code",
   "execution_count": null,
   "metadata": {},
   "outputs": [],
   "source": [
    "# 3.3s\n",
    "# rdd 형태의 broadcast 변수를 사용하여 모델 적용\n",
    "model_applied_rdd_b.collect()"
   ]
  },
  {
   "cell_type": "code",
   "execution_count": null,
   "metadata": {},
   "outputs": [],
   "source": [
    "# 12.5s\n",
    "# dataframe 형태의 broadcast 변수를 사용하여 모델 적용\n",
    "model_applied_rdd_a.collect()\n"
   ]
  },
  {
   "cell_type": "code",
   "execution_count": null,
   "metadata": {},
   "outputs": [],
   "source": [
    "# SparkSession 종료\n",
    "spark.stop()"
   ]
  }
 ],
 "metadata": {
  "kernelspec": {
   "display_name": ".venv",
   "language": "python",
   "name": "python3"
  },
  "language_info": {
   "codemirror_mode": {
    "name": "ipython",
    "version": 3
   },
   "file_extension": ".py",
   "mimetype": "text/x-python",
   "name": "python",
   "nbconvert_exporter": "python",
   "pygments_lexer": "ipython3",
   "version": "3.12.5"
  }
 },
 "nbformat": 4,
 "nbformat_minor": 2
}
