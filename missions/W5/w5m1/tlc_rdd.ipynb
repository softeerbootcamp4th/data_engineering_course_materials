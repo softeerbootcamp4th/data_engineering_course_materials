{
 "cells": [
  {
   "cell_type": "code",
   "execution_count": 41,
   "metadata": {},
   "outputs": [],
   "source": [
    "from pyspark.sql import SparkSession\n",
    "from datetime import datetime\n",
    "import pandas as pd"
   ]
  },
  {
   "cell_type": "code",
   "execution_count": 42,
   "metadata": {},
   "outputs": [],
   "source": [
    "spark = (\n",
    "    SparkSession.builder.appName(\"TLC-Analyze\")\n",
    "    .master(\"local[*]\")\n",
    "    .config(\"spark.driver.host\", \"localhost\")\n",
    "    .config(\"spark.driver.port\", \"7077\")\n",
    "    .config(\"spark.ui.port\", \"4050\")\n",
    "    .config(\"spark.driver.memory\", \"15g\")\n",
    "    .config(\"spark.executor.memory\", \"15g\")\n",
    "    .getOrCreate()\n",
    ")"
   ]
  },
  {
   "cell_type": "code",
   "execution_count": 43,
   "metadata": {},
   "outputs": [],
   "source": [
    "def read_data(file_name, date):\n",
    "    file_path = f\"your path\"\n",
    "    print(f\"Attempting to read from: {file_path}\")\n",
    "\n",
    "    try:\n",
    "        read_df = spark.read.parquet(file_path)\n",
    "        return read_df\n",
    "    except Exception:\n",
    "        print(f\"File not found: {file_path}\")\n",
    "        return None\n",
    "\n",
    "\n",
    "start_date = \"2024-01-01\"\n",
    "start_date = datetime.strptime(start_date, \"%Y-%m-%d\")\n",
    "\n",
    "end_date = pd.Timestamp(start_date) + pd.offsets.MonthEnd(1)\n",
    "end_date_str = end_date.strftime(\"%Y-%m-%d\")\n",
    "end_date = datetime.strptime(end_date_str, \"%Y-%m-%d\")"
   ]
  },
  {
   "cell_type": "code",
   "execution_count": 44,
   "metadata": {},
   "outputs": [],
   "source": [
    "def clean_data(row):\n",
    "    try:\n",
    "        (\n",
    "            tpep_pickup_datetime,\n",
    "            tpep_dropoff_datetime,\n",
    "            trip_distance,\n",
    "            total_amount,\n",
    "            congestion_surcharge,\n",
    "            airport_fee,\n",
    "        ) = row\n",
    "\n",
    "        if any(\n",
    "            [\n",
    "                tpep_pickup_datetime is None,\n",
    "                tpep_dropoff_datetime is None,\n",
    "                trip_distance is None,\n",
    "                total_amount is None,\n",
    "                congestion_surcharge is None,\n",
    "                airport_fee is None,\n",
    "            ]\n",
    "        ):\n",
    "            return False\n",
    "\n",
    "        if isinstance(tpep_pickup_datetime, str):\n",
    "            pickup_datetime = datetime.strptime(\n",
    "                tpep_pickup_datetime, \"%Y-%m-%d %H:%M:%S\"\n",
    "            )\n",
    "        else:\n",
    "            pickup_datetime = tpep_pickup_datetime\n",
    "\n",
    "        if isinstance(tpep_dropoff_datetime, str):\n",
    "            dropoff_datetime = datetime.strptime(\n",
    "                tpep_dropoff_datetime, \"%Y-%m-%d %H:%M:%S\"\n",
    "            )\n",
    "        else:\n",
    "            dropoff_datetime = tpep_dropoff_datetime\n",
    "\n",
    "        if (\n",
    "            pickup_datetime < start_date\n",
    "            or pickup_datetime > end_date\n",
    "            or dropoff_datetime < start_date\n",
    "            or dropoff_datetime > end_date\n",
    "        ):\n",
    "            return False\n",
    "\n",
    "        if (\n",
    "            trip_distance < 0\n",
    "            or total_amount < 0\n",
    "            or congestion_surcharge < 0\n",
    "            or airport_fee < 0\n",
    "        ):\n",
    "            return False\n",
    "\n",
    "        return True\n",
    "\n",
    "    except Exception as e:\n",
    "        print(f\"Error processing row {row}: {e}\")\n",
    "        return False"
   ]
  },
  {
   "cell_type": "code",
   "execution_count": 45,
   "metadata": {},
   "outputs": [
    {
     "name": "stdout",
     "output_type": "stream",
     "text": [
      ">>>>> yellow 2024-01\n",
      "Attempting to read from: /Users/munsoyun/Desktop/Docker/W5M1/yellow_tripdata_2024-01.parquet\n",
      ">>>>> yellow 2024-02\n",
      "Attempting to read from: /Users/munsoyun/Desktop/Docker/W5M1/yellow_tripdata_2024-01.parquet\n"
     ]
    }
   ],
   "source": [
    "categories = [\"yellow\"]\n",
    "\n",
    "months = (\n",
    "    pd.date_range(start=\"2024-01-01\", end=\"2024-02-01\", freq=\"MS\")\n",
    "    .strftime(\"%Y-%m\")\n",
    "    .tolist()\n",
    ")\n",
    "\n",
    "df = None\n",
    "for category in categories:\n",
    "    for month in months:\n",
    "        print(\">>>>>\", category, month)\n",
    "        read_df = read_data(category, month)\n",
    "        if read_df is not None:\n",
    "            if df is None:\n",
    "                df = read_df\n",
    "            else:\n",
    "                df = df.union(read_df)"
   ]
  },
  {
   "cell_type": "code",
   "execution_count": 46,
   "metadata": {},
   "outputs": [
    {
     "name": "stdout",
     "output_type": "stream",
     "text": [
      "root\n",
      " |-- VendorID: integer (nullable = true)\n",
      " |-- tpep_pickup_datetime: timestamp_ntz (nullable = true)\n",
      " |-- tpep_dropoff_datetime: timestamp_ntz (nullable = true)\n",
      " |-- passenger_count: long (nullable = true)\n",
      " |-- trip_distance: double (nullable = true)\n",
      " |-- RatecodeID: long (nullable = true)\n",
      " |-- store_and_fwd_flag: string (nullable = true)\n",
      " |-- PULocationID: integer (nullable = true)\n",
      " |-- DOLocationID: integer (nullable = true)\n",
      " |-- payment_type: long (nullable = true)\n",
      " |-- fare_amount: double (nullable = true)\n",
      " |-- extra: double (nullable = true)\n",
      " |-- mta_tax: double (nullable = true)\n",
      " |-- tip_amount: double (nullable = true)\n",
      " |-- tolls_amount: double (nullable = true)\n",
      " |-- improvement_surcharge: double (nullable = true)\n",
      " |-- total_amount: double (nullable = true)\n",
      " |-- congestion_surcharge: double (nullable = true)\n",
      " |-- Airport_fee: double (nullable = true)\n",
      "\n"
     ]
    }
   ],
   "source": [
    "df.printSchema()"
   ]
  },
  {
   "cell_type": "code",
   "execution_count": 47,
   "metadata": {},
   "outputs": [],
   "source": [
    "rdd = df.rdd.map(\n",
    "    lambda row: (\n",
    "        row.tpep_pickup_datetime,\n",
    "        row.tpep_dropoff_datetime,\n",
    "        row.trip_distance,\n",
    "        row.total_amount,\n",
    "        row.congestion_surcharge,\n",
    "        row.Airport_fee,\n",
    "    )\n",
    ")"
   ]
  },
  {
   "cell_type": "code",
   "execution_count": 48,
   "metadata": {},
   "outputs": [],
   "source": [
    "filtered_rdd = rdd.filter(clean_data)"
   ]
  },
  {
   "cell_type": "code",
   "execution_count": 49,
   "metadata": {},
   "outputs": [
    {
     "data": {
      "text/plain": [
       "PythonRDD[13] at RDD at PythonRDD.scala:53"
      ]
     },
     "execution_count": 49,
     "metadata": {},
     "output_type": "execute_result"
    }
   ],
   "source": [
    "filtered_rdd.cache()"
   ]
  },
  {
   "cell_type": "markdown",
   "metadata": {},
   "source": [
    "### 총 여행 횟수"
   ]
  },
  {
   "cell_type": "code",
   "execution_count": 50,
   "metadata": {},
   "outputs": [
    {
     "name": "stderr",
     "output_type": "stream",
     "text": [
      "[Stage 2:=====================================================>   (15 + 1) / 16]\r"
     ]
    },
    {
     "name": "stdout",
     "output_type": "stream",
     "text": [
      "Total trip count sum: 5381996\n"
     ]
    },
    {
     "name": "stderr",
     "output_type": "stream",
     "text": [
      "                                                                                \r"
     ]
    }
   ],
   "source": [
    "print(f\"Total trip count sum: {filtered_rdd.count()}\")"
   ]
  },
  {
   "cell_type": "markdown",
   "metadata": {},
   "source": [
    "### 총 요금 합계 "
   ]
  },
  {
   "cell_type": "code",
   "execution_count": 51,
   "metadata": {},
   "outputs": [
    {
     "name": "stderr",
     "output_type": "stream",
     "text": [
      "[Stage 3:==========================================>              (12 + 4) / 16]\r"
     ]
    },
    {
     "name": "stdout",
     "output_type": "stream",
     "text": [
      "Total fee sum: 161401645.26020595\n"
     ]
    },
    {
     "name": "stderr",
     "output_type": "stream",
     "text": [
      "                                                                                \r"
     ]
    }
   ],
   "source": [
    "def calculate_totals(row):\n",
    "    _, _, _, total_amount, congestion_surcharge, airport_fee = row\n",
    "    return total_amount + congestion_surcharge + airport_fee\n",
    "\n",
    "\n",
    "total_fee_sum = filtered_rdd.map(calculate_totals).reduce(lambda x, y: x + y)\n",
    "print(f\"Total fee sum: {total_fee_sum}\")"
   ]
  },
  {
   "cell_type": "markdown",
   "metadata": {},
   "source": [
    "### 평균 여행 거리"
   ]
  },
  {
   "cell_type": "code",
   "execution_count": 52,
   "metadata": {},
   "outputs": [
    {
     "name": "stderr",
     "output_type": "stream",
     "text": [
      "[Stage 5:=======================================>                 (11 + 5) / 16]\r"
     ]
    },
    {
     "name": "stdout",
     "output_type": "stream",
     "text": [
      "Average Trip Distance: 3.2671553750690645\n"
     ]
    },
    {
     "name": "stderr",
     "output_type": "stream",
     "text": [
      "                                                                                \r"
     ]
    }
   ],
   "source": [
    "trip_distances = filtered_rdd.map(lambda row: row[2])\n",
    "\n",
    "total_distance = trip_distances.sum()\n",
    "count = trip_distances.count()\n",
    "\n",
    "average_trip_distance = total_distance / count if count > 0 else 0\n",
    "\n",
    "print(f\"Average Trip Distance: {average_trip_distance}\")"
   ]
  },
  {
   "cell_type": "markdown",
   "metadata": {},
   "source": [
    "### 일별 여행 횟수 및 수익"
   ]
  },
  {
   "cell_type": "code",
   "execution_count": 53,
   "metadata": {},
   "outputs": [
    {
     "name": "stderr",
     "output_type": "stream",
     "text": [
      "/Library/Frameworks/Python.framework/Versions/3.11/lib/python3.11/site-packages/pyspark/python/lib/pyspark.zip/pyspark/shuffle.py:65: UserWarning: Please install psutil to have better support with spilling\n",
      "/Library/Frameworks/Python.framework/Versions/3.11/lib/python3.11/site-packages/pyspark/python/lib/pyspark.zip/pyspark/shuffle.py:65: UserWarning: Please install psutil to have better support with spilling\n",
      "/Library/Frameworks/Python.framework/Versions/3.11/lib/python3.11/site-packages/pyspark/python/lib/pyspark.zip/pyspark/shuffle.py:65: UserWarning: Please install psutil to have better support with spilling\n",
      "/Library/Frameworks/Python.framework/Versions/3.11/lib/python3.11/site-packages/pyspark/python/lib/pyspark.zip/pyspark/shuffle.py:65: UserWarning: Please install psutil to have better support with spilling\n",
      "/Library/Frameworks/Python.framework/Versions/3.11/lib/python3.11/site-packages/pyspark/python/lib/pyspark.zip/pyspark/shuffle.py:65: UserWarning: Please install psutil to have better support with spilling\n",
      "/Library/Frameworks/Python.framework/Versions/3.11/lib/python3.11/site-packages/pyspark/python/lib/pyspark.zip/pyspark/shuffle.py:65: UserWarning: Please install psutil to have better support with spilling\n",
      "/Library/Frameworks/Python.framework/Versions/3.11/lib/python3.11/site-packages/pyspark/python/lib/pyspark.zip/pyspark/shuffle.py:65: UserWarning: Please install psutil to have better support with spilling\n",
      "/Library/Frameworks/Python.framework/Versions/3.11/lib/python3.11/site-packages/pyspark/python/lib/pyspark.zip/pyspark/shuffle.py:65: UserWarning: Please install psutil to have better support with spilling\n",
      "/Library/Frameworks/Python.framework/Versions/3.11/lib/python3.11/site-packages/pyspark/python/lib/pyspark.zip/pyspark/shuffle.py:65: UserWarning: Please install psutil to have better support with spilling\n",
      "/Library/Frameworks/Python.framework/Versions/3.11/lib/python3.11/site-packages/pyspark/python/lib/pyspark.zip/pyspark/shuffle.py:65: UserWarning: Please install psutil to have better support with spilling\n",
      "[Stage 11:===================================>                    (10 + 6) / 16]\r"
     ]
    },
    {
     "name": "stdout",
     "output_type": "stream",
     "text": [
      "Date: 2024-01-01, Total Trips: 138580, Total Cost: 4351241.419999732\n",
      "Date: 2024-01-02, Total Trips: 144550, Total Cost: 4496662.559999745\n",
      "Date: 2024-01-03, Total Trips: 158684, Total Cost: 4660465.999999845\n",
      "Date: 2024-01-04, Total Trips: 198036, Total Cost: 5520606.139999841\n",
      "Date: 2024-01-05, Total Trips: 197592, Total Cost: 5352975.639999876\n",
      "Date: 2024-01-06, Total Trips: 181404, Total Cost: 4686288.339999873\n",
      "Date: 2024-01-07, Total Trips: 128000, Total Cost: 3723312.079999747\n",
      "Date: 2024-01-08, Total Trips: 153778, Total Cost: 4369534.879999866\n",
      "Date: 2024-01-09, Total Trips: 171184, Total Cost: 4436348.71999997\n",
      "Date: 2024-01-10, Total Trips: 182018, Total Cost: 4987834.799999964\n",
      "Date: 2024-01-11, Total Trips: 201012, Total Cost: 5680665.499999807\n",
      "Date: 2024-01-12, Total Trips: 196144, Total Cost: 5545994.519999802\n",
      "Date: 2024-01-13, Total Trips: 197626, Total Cost: 5118524.299999842\n",
      "Date: 2024-01-14, Total Trips: 175590, Total Cost: 4721627.499999809\n",
      "Date: 2024-01-15, Total Trips: 146560, Total Cost: 4223370.919999779\n",
      "Date: 2024-01-16, Total Trips: 173280, Total Cost: 5030344.599999898\n",
      "Date: 2024-01-17, Total Trips: 202324, Total Cost: 5595954.37999981\n",
      "Date: 2024-01-18, Total Trips: 206602, Total Cost: 5640740.8599998215\n",
      "Date: 2024-01-19, Total Trips: 181428, Total Cost: 4802110.279999933\n",
      "Date: 2024-01-20, Total Trips: 198100, Total Cost: 4897245.519999844\n",
      "Date: 2024-01-21, Total Trips: 156212, Total Cost: 4331932.659999815\n",
      "Date: 2024-01-22, Total Trips: 163222, Total Cost: 4617835.919999835\n",
      "Date: 2024-01-23, Total Trips: 189148, Total Cost: 5117812.239999901\n",
      "Date: 2024-01-24, Total Trips: 200680, Total Cost: 5449890.399999883\n",
      "Date: 2024-01-25, Total Trips: 207844, Total Cost: 5796410.639999777\n",
      "Date: 2024-01-26, Total Trips: 200038, Total Cost: 5460041.559999923\n",
      "Date: 2024-01-27, Total Trips: 209150, Total Cost: 5264232.099999984\n",
      "Date: 2024-01-28, Total Trips: 168468, Total Cost: 4576170.0399998315\n",
      "Date: 2024-01-29, Total Trips: 161896, Total Cost: 4592206.859999845\n",
      "Date: 2024-01-30, Total Trips: 192846, Total Cost: 5129676.379999947\n"
     ]
    },
    {
     "name": "stderr",
     "output_type": "stream",
     "text": [
      "                                                                                \r"
     ]
    }
   ],
   "source": [
    "date_trip_cost_pairs = filtered_rdd.map(\n",
    "    lambda row: (\n",
    "        row[0].strftime(\"%Y-%m-%d\"),\n",
    "        (1, row[3]),\n",
    "    )\n",
    ")\n",
    "\n",
    "date_grouped = date_trip_cost_pairs.reduceByKey(\n",
    "    lambda a, b: (a[0] + b[0], a[1] + b[1])\n",
    ")\n",
    "\n",
    "date_sorted = date_grouped.map(\n",
    "    lambda x: (datetime.strptime(x[0], \"%Y-%m-%d\"), x[1])\n",
    ").sortByKey()\n",
    "\n",
    "grouped_rdd = date_sorted.map(lambda x: (x[0].strftime(\"%Y-%m-%d\"), x[1]))\n",
    "\n",
    "for date, (total_trips, total_cost) in grouped_rdd.collect():\n",
    "    print(f\"Date: {date}, Total Trips: {total_trips}, Total Cost: {total_cost}\")"
   ]
  },
  {
   "cell_type": "code",
   "execution_count": 54,
   "metadata": {},
   "outputs": [],
   "source": [
    "spark.stop()"
   ]
  }
 ],
 "metadata": {
  "kernelspec": {
   "display_name": "Python 3.11.2 64-bit",
   "language": "python",
   "name": "python3"
  },
  "language_info": {
   "codemirror_mode": {
    "name": "ipython",
    "version": 3
   },
   "file_extension": ".py",
   "mimetype": "text/x-python",
   "name": "python",
   "nbconvert_exporter": "python",
   "pygments_lexer": "ipython3",
   "version": "3.11.2"
  },
  "orig_nbformat": 4,
  "vscode": {
   "interpreter": {
    "hash": "aee8b7b246df8f9039afb4144a1f6fd8d2ca17a180786b69acc140d282b71a49"
   }
  }
 },
 "nbformat": 4,
 "nbformat_minor": 2
}
