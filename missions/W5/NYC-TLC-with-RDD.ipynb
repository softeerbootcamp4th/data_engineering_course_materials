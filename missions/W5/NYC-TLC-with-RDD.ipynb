{
 "cells": [
  {
   "cell_type": "code",
   "execution_count": 30,
   "metadata": {},
   "outputs": [],
   "source": [
    "from pyspark.sql import SparkSession\n",
    "from pyspark.sql.functions import col, min, max, sum, to_date"
   ]
  },
  {
   "cell_type": "markdown",
   "metadata": {},
   "source": [
    "# Spark Session 시작하기"
   ]
  },
  {
   "cell_type": "code",
   "execution_count": 31,
   "metadata": {},
   "outputs": [],
   "source": [
    "spark = SparkSession.builder.remote(\"sc://localhost\").appName(\"W5M1\").getOrCreate()"
   ]
  },
  {
   "cell_type": "markdown",
   "metadata": {},
   "source": [
    "# NYC 택시 데이터 가져오기"
   ]
  },
  {
   "cell_type": "code",
   "execution_count": 32,
   "metadata": {},
   "outputs": [
    {
     "name": "stdout",
     "output_type": "stream",
     "text": [
      "+--------+--------------------+---------------------+---------------+-------------+----------+------------------+------------+------------+------------+-----------+-----+-------+----------+------------+---------------------+------------+--------------------+-----------+\n",
      "|VendorID|tpep_pickup_datetime|tpep_dropoff_datetime|passenger_count|trip_distance|RatecodeID|store_and_fwd_flag|PULocationID|DOLocationID|payment_type|fare_amount|extra|mta_tax|tip_amount|tolls_amount|improvement_surcharge|total_amount|congestion_surcharge|Airport_fee|\n",
      "+--------+--------------------+---------------------+---------------+-------------+----------+------------------+------------+------------+------------+-----------+-----+-------+----------+------------+---------------------+------------+--------------------+-----------+\n",
      "|       1| 2024-05-01 00:59:15|  2024-05-01 01:23:50|              1|          6.1|         1|                 N|         138|         145|           1|       28.2| 7.75|    0.5|       5.0|         0.0|                  1.0|       42.45|                 0.0|       1.75|\n",
      "|       2| 2024-04-30 23:58:26|  2024-05-01 00:29:42|              1|        11.23|         1|                 N|         138|         249|           1|       46.4|  6.0|    0.5|      8.72|         0.0|                  1.0|       66.87|                 2.5|       1.75|\n",
      "|       2| 2024-05-01 00:57:17|  2024-05-01 01:14:15|              1|         9.02|         1|                 N|         138|         170|           1|       35.9|  6.0|    0.5|     10.57|        6.94|                  1.0|       65.16|                 2.5|       1.75|\n",
      "|       2| 2024-05-01 00:24:47|  2024-05-01 00:48:51|              1|         6.53|         1|                 N|          87|         133|           1|       30.3|  1.0|    0.5|      7.06|         0.0|                  1.0|       42.36|                 2.5|        0.0|\n",
      "|       2| 2024-05-01 00:11:20|  2024-05-01 00:52:10|              1|        14.38|         1|                 N|         161|         165|           1|       61.8|  1.0|    0.5|       0.0|         0.0|                  1.0|        66.8|                 2.5|        0.0|\n",
      "+--------+--------------------+---------------------+---------------+-------------+----------+------------------+------------+------------+------------+-----------+-----+-------+----------+------------+---------------------+------------+--------------------+-----------+\n",
      "only showing top 5 rows\n",
      "\n"
     ]
    }
   ],
   "source": [
    "taxi_trip_df = spark.read.parquet('/Users/admin/Projects/HMG_Softeer_DE/missions/W5/spark-softeer/userdata/NYC-TLC/yellow_tripdata_2024-05.parquet')\n",
    "taxi_trip_df.show(5)"
   ]
  },
  {
   "cell_type": "code",
   "execution_count": 33,
   "metadata": {},
   "outputs": [
    {
     "name": "stdout",
     "output_type": "stream",
     "text": [
      "root\n",
      " |-- VendorID: integer (nullable = true)\n",
      " |-- tpep_pickup_datetime: timestamp_ntz (nullable = true)\n",
      " |-- tpep_dropoff_datetime: timestamp_ntz (nullable = true)\n",
      " |-- passenger_count: long (nullable = true)\n",
      " |-- trip_distance: double (nullable = true)\n",
      " |-- RatecodeID: long (nullable = true)\n",
      " |-- store_and_fwd_flag: string (nullable = true)\n",
      " |-- PULocationID: integer (nullable = true)\n",
      " |-- DOLocationID: integer (nullable = true)\n",
      " |-- payment_type: long (nullable = true)\n",
      " |-- fare_amount: double (nullable = true)\n",
      " |-- extra: double (nullable = true)\n",
      " |-- mta_tax: double (nullable = true)\n",
      " |-- tip_amount: double (nullable = true)\n",
      " |-- tolls_amount: double (nullable = true)\n",
      " |-- improvement_surcharge: double (nullable = true)\n",
      " |-- total_amount: double (nullable = true)\n",
      " |-- congestion_surcharge: double (nullable = true)\n",
      " |-- Airport_fee: double (nullable = true)\n",
      "\n"
     ]
    }
   ],
   "source": [
    "taxi_trip_df.printSchema()"
   ]
  },
  {
   "cell_type": "markdown",
   "metadata": {},
   "source": [
    "# 데이터 전처리\n",
    "## 결측치 제거"
   ]
  },
  {
   "cell_type": "code",
   "execution_count": 34,
   "metadata": {},
   "outputs": [],
   "source": [
    "numerical_columns = ['passenger_count', 'trip_distance', 'fare_amount', \n",
    "                     'extra', 'mta_tax', 'tip_amount', 'tolls_amount', \n",
    "                     'improvement_surcharge', 'total_amount', 'congestion_surcharge', \n",
    "                     'Airport_fee']\n",
    "minmax_columns = []\n",
    "\n",
    "for column_name in numerical_columns:\n",
    "    minmax_columns.append(min(column_name))\n",
    "    minmax_columns.append(max(column_name))"
   ]
  },
  {
   "cell_type": "code",
   "execution_count": 35,
   "metadata": {},
   "outputs": [
    {
     "name": "stdout",
     "output_type": "stream",
     "text": [
      "+--------------------+--------------------+------------------+------------------+----------------+----------------+----------+----------+------------+------------+---------------+---------------+-----------------+-----------------+--------------------------+--------------------------+-----------------+-----------------+-------------------------+-------------------------+----------------+----------------+\n",
      "|min(passenger_count)|max(passenger_count)|min(trip_distance)|max(trip_distance)|min(fare_amount)|max(fare_amount)|min(extra)|max(extra)|min(mta_tax)|max(mta_tax)|min(tip_amount)|max(tip_amount)|min(tolls_amount)|max(tolls_amount)|min(improvement_surcharge)|max(improvement_surcharge)|min(total_amount)|max(total_amount)|min(congestion_surcharge)|max(congestion_surcharge)|min(Airport_fee)|max(Airport_fee)|\n",
      "+--------------------+--------------------+------------------+------------------+----------------+----------------+----------+----------+------------+------------+---------------+---------------+-----------------+-----------------+--------------------------+--------------------------+-----------------+-----------------+-------------------------+-------------------------+----------------+----------------+\n",
      "|                   0|                   9|               0.0|         249151.44|         -866.69|       334076.32|      -7.5|     65.99|        -0.5|         4.0|         -92.35|         437.84|           -46.14|           528.56|                      -1.0|                       1.0|          -867.69|         334145.3|                     -2.5|                      2.5|           -1.75|            1.75|\n",
      "+--------------------+--------------------+------------------+------------------+----------------+----------------+----------+----------+------------+------------+---------------+---------------+-----------------+-----------------+--------------------------+--------------------------+-----------------+-----------------+-------------------------+-------------------------+----------------+----------------+\n",
      "\n"
     ]
    }
   ],
   "source": [
    "taxi_trip_df.select(*minmax_columns).show()"
   ]
  },
  {
   "cell_type": "code",
   "execution_count": 36,
   "metadata": {},
   "outputs": [],
   "source": [
    "taxi_trip_df = (taxi_trip_df.filter(col('fare_amount') > 0)\n",
    "                            .filter(col('extra') > 0)\n",
    "                            .filter(col('mta_tax') > 0)\n",
    "                            .filter(col('tip_amount') > 0)\n",
    "                            .filter(col('tolls_amount') > 0)\n",
    "                            .filter(col('improvement_surcharge') > 0)\n",
    "                            .filter(col('total_amount') > 0)\n",
    "                            .filter(col('congestion_surcharge') > 0)\n",
    "                            .filter(col('Airport_fee') > 0)\n",
    "                            .filter(col('trip_distance') > 0)\n",
    "                )"
   ]
  },
  {
   "cell_type": "code",
   "execution_count": 37,
   "metadata": {},
   "outputs": [
    {
     "name": "stdout",
     "output_type": "stream",
     "text": [
      "+--------------------+--------------------+------------------+------------------+----------------+----------------+----------+----------+------------+------------+---------------+---------------+-----------------+-----------------+--------------------------+--------------------------+-----------------+-----------------+-------------------------+-------------------------+----------------+----------------+\n",
      "|min(passenger_count)|max(passenger_count)|min(trip_distance)|max(trip_distance)|min(fare_amount)|max(fare_amount)|min(extra)|max(extra)|min(mta_tax)|max(mta_tax)|min(tip_amount)|max(tip_amount)|min(tolls_amount)|max(tolls_amount)|min(improvement_surcharge)|max(improvement_surcharge)|min(total_amount)|max(total_amount)|min(congestion_surcharge)|max(congestion_surcharge)|min(Airport_fee)|max(Airport_fee)|\n",
      "+--------------------+--------------------+------------------+------------------+----------------+----------------+----------+----------+------------+------------+---------------+---------------+-----------------+-----------------+--------------------------+--------------------------+-----------------+-----------------+-------------------------+-------------------------+----------------+----------------+\n",
      "|                   0|                   6|              0.02|             39.66|            17.0|           244.5|      0.02|     11.75|         0.5|         0.5|           0.01|          110.0|              1.0|            63.94|                       1.0|                       1.0|            43.36|           314.28|                      2.5|                      2.5|            1.75|            1.75|\n",
      "+--------------------+--------------------+------------------+------------------+----------------+----------------+----------+----------+------------+------------+---------------+---------------+-----------------+-----------------+--------------------------+--------------------------+-----------------+-----------------+-------------------------+-------------------------+----------------+----------------+\n",
      "\n"
     ]
    }
   ],
   "source": [
    "taxi_trip_df.select(*minmax_columns).show()"
   ]
  },
  {
   "cell_type": "markdown",
   "metadata": {},
   "source": [
    "## 필요한 columns만 고르기"
   ]
  },
  {
   "cell_type": "code",
   "execution_count": 38,
   "metadata": {},
   "outputs": [
    {
     "name": "stdout",
     "output_type": "stream",
     "text": [
      "+--------------------+-------------+------------+\n",
      "|tpep_pickup_datetime|trip_distance|total_amount|\n",
      "+--------------------+-------------+------------+\n",
      "| 2024-05-01 00:57:17|         9.02|       65.16|\n",
      "| 2024-05-01 00:14:05|         8.53|       59.31|\n",
      "| 2024-05-01 00:03:08|         27.5|      107.49|\n",
      "| 2024-05-01 00:44:01|         11.0|       74.74|\n",
      "| 2024-05-01 00:14:19|         8.32|       59.79|\n",
      "+--------------------+-------------+------------+\n",
      "only showing top 5 rows\n",
      "\n"
     ]
    }
   ],
   "source": [
    "taxi_trip_df = taxi_trip_df.select('tpep_pickup_datetime', 'trip_distance', 'total_amount')\n",
    "taxi_trip_df.show(5)"
   ]
  },
  {
   "cell_type": "markdown",
   "metadata": {},
   "source": [
    "## 날짜 기준으로 그룹화"
   ]
  },
  {
   "cell_type": "code",
   "execution_count": 39,
   "metadata": {},
   "outputs": [],
   "source": [
    "taxi_trip_group_by_date_df = taxi_trip_df.withColumn('tpep_pickup_date', to_date(col('tpep_pickup_datetime'))).groupBy('tpep_pickup_date')"
   ]
  },
  {
   "cell_type": "markdown",
   "metadata": {},
   "source": [
    "# Aggregation"
   ]
  },
  {
   "cell_type": "code",
   "execution_count": 41,
   "metadata": {},
   "outputs": [
    {
     "data": {
      "text/plain": [
       "84378"
      ]
     },
     "execution_count": 41,
     "metadata": {},
     "output_type": "execute_result"
    }
   ],
   "source": [
    "taxi_trip_df.count()"
   ]
  },
  {
   "cell_type": "code",
   "execution_count": 44,
   "metadata": {},
   "outputs": [
    {
     "name": "stdout",
     "output_type": "stream",
     "text": [
      "+-----------------+\n",
      "|sum(total_amount)|\n",
      "+-----------------+\n",
      "| 6862441.78999949|\n",
      "+-----------------+\n",
      "\n"
     ]
    }
   ],
   "source": [
    "taxi_trip_df.select(sum(col('total_amount'))).show()"
   ]
  },
  {
   "cell_type": "code",
   "execution_count": 45,
   "metadata": {},
   "outputs": [
    {
     "name": "stdout",
     "output_type": "stream",
     "text": [
      "average of trip distance:  11.696007727132685 miles\n"
     ]
    }
   ],
   "source": [
    "num_of_trips = taxi_trip_df.count()\n",
    "total_trip_distance = taxi_trip_df.select(sum(col('trip_distance'))).collect()[0]['sum(trip_distance)']\n",
    "\n",
    "print('average of trip distance: ', total_trip_distance / num_of_trips, 'miles')"
   ]
  },
  {
   "cell_type": "code",
   "execution_count": 48,
   "metadata": {},
   "outputs": [
    {
     "name": "stdout",
     "output_type": "stream",
     "text": [
      "+----------------+-----+\n",
      "|tpep_pickup_date|count|\n",
      "+----------------+-----+\n",
      "|      2024-05-01| 2874|\n",
      "|      2024-05-02| 3058|\n",
      "|      2024-05-03| 3015|\n",
      "|      2024-05-04| 1431|\n",
      "|      2024-05-05| 2632|\n",
      "|      2024-05-06| 3575|\n",
      "|      2024-05-07| 3043|\n",
      "|      2024-05-08| 3203|\n",
      "|      2024-05-09| 3242|\n",
      "|      2024-05-10| 2898|\n",
      "|      2024-05-11| 1297|\n",
      "|      2024-05-12| 2587|\n",
      "|      2024-05-13| 3963|\n",
      "|      2024-05-14| 3465|\n",
      "|      2024-05-15| 3303|\n",
      "|      2024-05-16| 3496|\n",
      "|      2024-05-17| 2844|\n",
      "|      2024-05-18| 1368|\n",
      "|      2024-05-19| 2760|\n",
      "|      2024-05-20| 3423|\n",
      "|      2024-05-21| 2947|\n",
      "|      2024-05-22| 2845|\n",
      "|      2024-05-23| 2615|\n",
      "|      2024-05-24| 2576|\n",
      "|      2024-05-25| 1060|\n",
      "|      2024-05-26| 1232|\n",
      "|      2024-05-27| 1873|\n",
      "|      2024-05-28| 3492|\n",
      "|      2024-05-29| 2801|\n",
      "|      2024-05-30| 2947|\n",
      "|      2024-05-31| 2513|\n",
      "+----------------+-----+\n",
      "\n"
     ]
    }
   ],
   "source": [
    "count_by_date_df = taxi_trip_group_by_date_df.count().orderBy('tpep_pickup_date')\n",
    "count_by_date_df.show(31)"
   ]
  },
  {
   "cell_type": "code",
   "execution_count": 53,
   "metadata": {},
   "outputs": [
    {
     "name": "stdout",
     "output_type": "stream",
     "text": [
      "+----------------+--------------------+\n",
      "|tpep_pickup_date|total_amount_by_date|\n",
      "+----------------+--------------------+\n",
      "|      2024-05-01|   234102.3800000013|\n",
      "|      2024-05-02|  253174.17000000217|\n",
      "|      2024-05-03|  245122.76000000146|\n",
      "|      2024-05-04|  108908.40000000017|\n",
      "|      2024-05-05|  201508.48000000062|\n",
      "|      2024-05-06|  292839.31000000227|\n",
      "|      2024-05-07|  251233.74000000185|\n",
      "|      2024-05-08|   265208.1300000018|\n",
      "|      2024-05-09|  266810.56000000174|\n",
      "|      2024-05-10|  242295.62000000122|\n",
      "|      2024-05-11|   100074.6800000003|\n",
      "|      2024-05-12|   191414.2600000006|\n",
      "|      2024-05-13|  321041.43000000203|\n",
      "|      2024-05-14|  290568.03000000113|\n",
      "|      2024-05-15|   276198.3200000021|\n",
      "|      2024-05-16|   293009.5300000017|\n",
      "|      2024-05-17|  239929.89000000103|\n",
      "|      2024-05-18|  108224.19000000009|\n",
      "|      2024-05-19|  208423.63999999972|\n",
      "|      2024-05-20|    281833.060000002|\n",
      "|      2024-05-21|  246523.13000000146|\n",
      "|      2024-05-22|  233623.27000000144|\n",
      "|      2024-05-23|   218459.9300000015|\n",
      "|      2024-05-24|   212158.6700000009|\n",
      "|      2024-05-25|   80535.12000000005|\n",
      "|      2024-05-26|   90027.91000000008|\n",
      "|      2024-05-27|   138572.9199999999|\n",
      "|      2024-05-28|   281179.2100000025|\n",
      "|      2024-05-29|  231462.55000000205|\n",
      "|      2024-05-30|  248300.18000000023|\n",
      "|      2024-05-31|   209678.3200000011|\n",
      "+----------------+--------------------+\n",
      "\n"
     ]
    }
   ],
   "source": [
    "total_amount_by_date_df = (taxi_trip_group_by_date_df.sum()\n",
    "                                                     .select('tpep_pickup_date', 'sum(total_amount)')\n",
    "                                                     .withColumnRenamed('sum(total_amount)', 'total_amount_by_date')\n",
    "                                                     .orderBy('tpep_pickup_date'))\n",
    "total_amount_by_date_df.show(31)"
   ]
  },
  {
   "cell_type": "markdown",
   "metadata": {},
   "source": [
    "# 결과 저장하기"
   ]
  },
  {
   "cell_type": "code",
   "execution_count": 55,
   "metadata": {},
   "outputs": [],
   "source": [
    "count_by_date_df.write.csv('/Users/admin/Projects/HMG_Softeer_DE/missions/W5/NYC-taxi-count_by_date', header=True)\n",
    "total_amount_by_date_df.write.csv('/Users/admin/Projects/HMG_Softeer_DE/missions/W5/NYC-taxi-total_amount_by_date', header=True)"
   ]
  },
  {
   "cell_type": "code",
   "execution_count": 56,
   "metadata": {},
   "outputs": [],
   "source": [
    "spark.stop()"
   ]
  },
  {
   "cell_type": "code",
   "execution_count": null,
   "metadata": {},
   "outputs": [],
   "source": []
  }
 ],
 "metadata": {
  "kernelspec": {
   "display_name": ".venv-310",
   "language": "python",
   "name": "python3"
  },
  "language_info": {
   "codemirror_mode": {
    "name": "ipython",
    "version": 3
   },
   "file_extension": ".py",
   "mimetype": "text/x-python",
   "name": "python",
   "nbconvert_exporter": "python",
   "pygments_lexer": "ipython3",
   "version": "3.10.14"
  }
 },
 "nbformat": 4,
 "nbformat_minor": 2
}
