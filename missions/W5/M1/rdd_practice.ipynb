{
 "cells": [
  {
   "metadata": {},
   "cell_type": "markdown",
   "source": "## Read File",
   "id": "a9686575a578e1cf"
  },
  {
   "metadata": {
    "ExecuteTime": {
     "end_time": "2024-08-01T14:17:56.646750Z",
     "start_time": "2024-08-01T14:17:53.499946Z"
    }
   },
   "cell_type": "code",
   "source": [
    "from pyspark.sql import SparkSession\n",
    "import os\n",
    "from operator import add\n",
    "\n",
    "\n",
    "def read_file_as_rdd(file_path):\n",
    "    file_extension = os.path.splitext(file_path)[1]\n",
    "    if file_extension == \".csv\":\n",
    "        df = spark.read.csv(file_path, header=True, inferSchema=True)\n",
    "    elif file_extension == \".parquet\":\n",
    "        df = spark.read.parquet(file_path)\n",
    "    else:\n",
    "        raise ValueError(f\"Unsupported file format: {file_extension}\")\n",
    "    return df.rdd\n",
    "\n",
    "\n",
    "spark = SparkSession.builder.master(\"local[*]\").getOrCreate()\n",
    "file_path = \"./yellow_tripdata.parquet\"\n",
    "rdd = read_file_as_rdd(file_path)\n",
    "\n",
    "rdd.take(1)"
   ],
   "id": "initial_id",
   "outputs": [
    {
     "data": {
      "text/plain": [
       "[Row(VendorID=1, tpep_pickup_datetime=datetime.datetime(2024, 5, 1, 0, 59, 15), tpep_dropoff_datetime=datetime.datetime(2024, 5, 1, 1, 23, 50), passenger_count=1, trip_distance=6.1, RatecodeID=1, store_and_fwd_flag='N', PULocationID=138, DOLocationID=145, payment_type=1, fare_amount=28.2, extra=7.75, mta_tax=0.5, tip_amount=5.0, tolls_amount=0.0, improvement_surcharge=1.0, total_amount=42.45, congestion_surcharge=0.0, Airport_fee=1.75)]"
      ]
     },
     "execution_count": 43,
     "metadata": {},
     "output_type": "execute_result"
    }
   ],
   "execution_count": 43
  },
  {
   "metadata": {},
   "cell_type": "markdown",
   "source": "## Data Cleaning",
   "id": "1349a4a1abab5097"
  },
  {
   "metadata": {
    "ExecuteTime": {
     "end_time": "2024-08-01T14:18:09.037766Z",
     "start_time": "2024-08-01T14:17:56.647752Z"
    }
   },
   "cell_type": "code",
   "source": [
    "# # Apply the cleaning function\n",
    "rdd.filter(lambda row: row.passenger_count is not None).filter(lambda row: row.passenger_count > 0).filter(\n",
    "    lambda row: row.tpep_pickup_datetime > row.tpep_dropoff_datetime).filter(lambda row: row.trip_distance >= 0)\n",
    "\n",
    "trip_num = rdd.count()"
   ],
   "id": "afc38477db007487",
   "outputs": [],
   "execution_count": 44
  },
  {
   "metadata": {},
   "cell_type": "markdown",
   "source": "## Calculate and display the total revenue generated from the trips.",
   "id": "30fdf900c245ee5f"
  },
  {
   "metadata": {
    "ExecuteTime": {
     "end_time": "2024-08-01T14:18:20.933935Z",
     "start_time": "2024-08-01T14:18:09.038876Z"
    }
   },
   "cell_type": "code",
   "source": [
    "total_revenue = rdd.map(lambda row: row.total_amount).reduce(add)\n",
    "total_revenue"
   ],
   "id": "6facfce243808adf",
   "outputs": [
    {
     "data": {
      "text/plain": [
       "105662803.20010114"
      ]
     },
     "execution_count": 45,
     "metadata": {},
     "output_type": "execute_result"
    }
   ],
   "execution_count": 45
  },
  {
   "metadata": {},
   "cell_type": "markdown",
   "source": "## Calculate and display the average trip distance.",
   "id": "5da1bddc908a880d"
  },
  {
   "metadata": {
    "ExecuteTime": {
     "end_time": "2024-08-01T14:18:46.585278Z",
     "start_time": "2024-08-01T14:18:20.935954Z"
    }
   },
   "cell_type": "code",
   "source": [
    "trip_distance_rdd = rdd.map(lambda row: row.trip_distance)\n",
    "\n",
    "count = trip_distance_rdd.count()\n",
    "total = trip_distance_rdd.sum()\n",
    "average_trip_distance = total / count"
   ],
   "id": "8cd346e31038ed7c",
   "outputs": [],
   "execution_count": 46
  },
  {
   "metadata": {},
   "cell_type": "markdown",
   "source": "## Calculate and display the number of trips per day.",
   "id": "d6a2e27523d819cc"
  },
  {
   "metadata": {
    "ExecuteTime": {
     "end_time": "2024-08-01T14:19:26.225357Z",
     "start_time": "2024-08-01T14:18:46.586277Z"
    }
   },
   "cell_type": "code",
   "source": [
    "trips_per_day = rdd.map(lambda row: (row.tpep_pickup_datetime.date(), 1)).reduceByKey(\n",
    "    lambda a, b: a + b).sortByKey().collect()\n",
    "for date, count in trips_per_day:\n",
    "    print(f\"{date} : {count}\")"
   ],
   "id": "d372ff52db63ee7e",
   "outputs": [
    {
     "name": "stdout",
     "output_type": "stream",
     "text": [
      "2002-12-31 : 3\n",
      "2008-12-31 : 1\n",
      "2009-01-01 : 3\n",
      "2024-04-30 : 13\n",
      "2024-05-01 : 121928\n",
      "2024-05-02 : 133110\n",
      "2024-05-03 : 128046\n",
      "2024-05-04 : 133764\n",
      "2024-05-05 : 120116\n",
      "2024-05-06 : 102937\n",
      "2024-05-07 : 119368\n",
      "2024-05-08 : 127738\n",
      "2024-05-09 : 136618\n",
      "2024-05-10 : 138324\n",
      "2024-05-11 : 131001\n",
      "2024-05-12 : 112607\n",
      "2024-05-13 : 111384\n",
      "2024-05-14 : 131795\n",
      "2024-05-15 : 138562\n",
      "2024-05-16 : 143801\n",
      "2024-05-17 : 133268\n",
      "2024-05-18 : 138069\n",
      "2024-05-19 : 114559\n",
      "2024-05-20 : 106889\n",
      "2024-05-21 : 121481\n",
      "2024-05-22 : 130889\n",
      "2024-05-23 : 122594\n",
      "2024-05-24 : 109756\n",
      "2024-05-25 : 90098\n",
      "2024-05-26 : 85651\n",
      "2024-05-27 : 72579\n",
      "2024-05-28 : 104696\n",
      "2024-05-29 : 121234\n",
      "2024-05-30 : 123711\n",
      "2024-05-31 : 117227\n",
      "2024-06-01 : 13\n"
     ]
    }
   ],
   "execution_count": 47
  },
  {
   "metadata": {},
   "cell_type": "markdown",
   "source": "## Calculate and display the total revenue per day.",
   "id": "1f6dc63e316af88a"
  },
  {
   "metadata": {
    "ExecuteTime": {
     "end_time": "2024-08-01T14:20:05.790013Z",
     "start_time": "2024-08-01T14:19:26.226347Z"
    }
   },
   "cell_type": "code",
   "source": [
    "total_revenue_per_day = rdd.map(lambda row: (row.tpep_pickup_datetime.date(), row.total_amount)).reduceByKey(\n",
    "    lambda a, b: a + b).sortByKey().collect()\n",
    "for date, total_revenue in total_revenue_per_day:\n",
    "    print(f\"{date} : {total_revenue}\")"
   ],
   "id": "a1f9141cb6dc4c0c",
   "outputs": [
    {
     "name": "stdout",
     "output_type": "stream",
     "text": [
      "2002-12-31 : 202.95\n",
      "2008-12-31 : 83.0\n",
      "2009-01-01 : 155.22\n",
      "2024-04-30 : 428.68\n",
      "2024-05-01 : 3481907.0999998385\n",
      "2024-05-02 : 3805209.8999997946\n",
      "2024-05-03 : 3573393.26999984\n",
      "2024-05-04 : 3412692.2799998536\n",
      "2024-05-05 : 3365959.059999837\n",
      "2024-05-06 : 3105151.3999997997\n",
      "2024-05-07 : 3391454.839999858\n",
      "2024-05-08 : 3661203.939999871\n",
      "2024-05-09 : 3945094.7999998135\n",
      "2024-05-10 : 3866097.7699999185\n",
      "2024-05-11 : 3394738.189999857\n",
      "2024-05-12 : 3136695.029999801\n",
      "2024-05-13 : 3307487.6999997674\n",
      "2024-05-14 : 3835249.379999875\n",
      "2024-05-15 : 4067753.279999866\n",
      "2024-05-16 : 4184016.1399997533\n",
      "2024-05-17 : 3767827.5599998073\n",
      "2024-05-18 : 3654415.0899998425\n",
      "2024-05-19 : 3640467.9599998943\n",
      "2024-05-20 : 3110160.2999998177\n",
      "2024-05-21 : 3425682.749999858\n",
      "2024-05-22 : 3724549.1799998228\n",
      "2024-05-23 : 3521902.939999827\n",
      "2024-05-24 : 3133515.0099998526\n",
      "2024-05-25 : 2359094.25999991\n",
      "2024-05-26 : 2317680.139999904\n",
      "2024-05-27 : 2116519.459999892\n",
      "2024-05-28 : 3097452.5099998014\n",
      "2024-05-29 : 3425639.439999823\n",
      "2024-05-30 : 3546012.2699999316\n",
      "2024-05-31 : 3286538.3299998757\n",
      "2024-06-01 : 372.07000000000005\n"
     ]
    }
   ],
   "execution_count": 48
  },
  {
   "metadata": {},
   "cell_type": "markdown",
   "source": "## Save as File",
   "id": "88afa2ceec9408f7"
  },
  {
   "metadata": {
    "ExecuteTime": {
     "end_time": "2024-08-01T14:20:13.068636Z",
     "start_time": "2024-08-01T14:20:05.791013Z"
    }
   },
   "cell_type": "code",
   "source": [
    "result_rdd = spark.sparkContext.parallelize([\n",
    "    f\"trip_num= {trip_num}\",\n",
    "    f\"total_revenue= {total_revenue})\",\n",
    "    f\"trip_distance_rdd= {trip_distance_rdd}\",\n",
    "    f\"trips_per_day= {trips_per_day}\",\n",
    "    f\"total_revenue_per_day= {total_revenue_per_day}\"\n",
    "])\n",
    "\n",
    "# 텍스트 파일로 저장\n",
    "result_rdd.repartition(1).saveAsTextFile(\"./result.txt\")\n",
    "\n",
    "#TODO :Use appropriate Spark configurations to optimize the job performance.\n",
    "#TODO :Utilize Spark's built-in functions and capabilities to reduce the job execution time."
   ],
   "id": "e5347e000d248a07",
   "outputs": [],
   "execution_count": 49
  },
  {
   "metadata": {},
   "cell_type": "markdown",
   "source": "",
   "id": "487162f0384b019f"
  }
 ],
 "metadata": {
  "kernelspec": {
   "display_name": "Python 3",
   "language": "python",
   "name": "python3"
  },
  "language_info": {
   "codemirror_mode": {
    "name": "ipython",
    "version": 2
   },
   "file_extension": ".py",
   "mimetype": "text/x-python",
   "name": "python",
   "nbconvert_exporter": "python",
   "pygments_lexer": "ipython2",
   "version": "2.7.6"
  }
 },
 "nbformat": 4,
 "nbformat_minor": 5
}
