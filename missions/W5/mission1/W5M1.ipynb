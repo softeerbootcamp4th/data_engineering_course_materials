{
 "cells": [
  {
   "cell_type": "code",
   "execution_count": 1,
   "id": "e92b2a25-9914-4b71-a00f-6733f7dfb6db",
   "metadata": {},
   "outputs": [],
   "source": [
    "from pyspark import SparkConf\n",
    "from pyspark.sql import SparkSession, Row\n",
    "from pyspark.sql.functions import isnan, when, count, col, isnull, avg, min\n",
    "import pyspark.sql.functions as F\n",
    "from operator import add"
   ]
  },
  {
   "cell_type": "code",
   "execution_count": 2,
   "id": "30921065-893f-48cd-a19e-d71e3ae124d6",
   "metadata": {},
   "outputs": [
    {
     "name": "stderr",
     "output_type": "stream",
     "text": [
      "Setting default log level to \"WARN\".\n",
      "To adjust logging level use sc.setLogLevel(newLevel). For SparkR, use setLogLevel(newLevel).\n"
     ]
    },
    {
     "name": "stdout",
     "output_type": "stream",
     "text": [
      "24/08/04 07:58:51 WARN NativeCodeLoader: Unable to load native-hadoop library for your platform... using builtin-java classes where applicable\n"
     ]
    }
   ],
   "source": [
    "spark = SparkSession.builder \\\n",
    "    .master('spark://spark-master:7077') \\\n",
    "    .appName('W5M1') \\\n",
    "    .config('spark.executor.memory', '8gb') \\\n",
    "    .config(\"spark.executor.cores\", \"5\") \\\n",
    "    .getOrCreate()"
   ]
  },
  {
   "cell_type": "code",
   "execution_count": 3,
   "id": "8d9feb46-51a7-4b4b-a510-c8cd9e0418bb",
   "metadata": {},
   "outputs": [],
   "source": [
    "input_file_path = 'hdfs://spark-master:9000/user/hduser/hdfs_data/fhvhv_tripdata_2023-01.parquet'\n",
    "output_dir_path = 'hdfs://spark-master:9000/user/spark_user/W5M1_output/'\n",
    "ext='parquet'\n",
    "name=\"TLC-2023-01\""
   ]
  },
  {
   "cell_type": "markdown",
   "id": "49fc1a29-727c-4379-be5e-384792f5bcd4",
   "metadata": {},
   "source": [
    "# Data Loading\n",
    "- Your application should be able to read the dataset from a specified path.\n",
    "- It should handle different formats (e.g., CSV, Parquet) as specified by the user."
   ]
  },
  {
   "cell_type": "code",
   "execution_count": 4,
   "id": "3d5d0490-d452-4244-b1ce-d088ba7c839e",
   "metadata": {},
   "outputs": [],
   "source": [
    "def load_data_rdd(spark_session, file_path, extension, name):\n",
    "    if extension==\"csv\":\n",
    "        data_rdd = spark_session.read.csv(file_path).rdd\n",
    "    elif extension==\"parquet\":\n",
    "        data_rdd = spark_session.read.parquet(file_path).rdd\n",
    "    else:\n",
    "        raise NotImpelentedError\n",
    "    data_rdd.setName(name)\n",
    "    return data_rdd"
   ]
  },
  {
   "cell_type": "code",
   "execution_count": 5,
   "id": "15360ae4-8d8c-42da-ac84-5ee0cb2c654c",
   "metadata": {},
   "outputs": [
    {
     "name": "stderr",
     "output_type": "stream",
     "text": [
      "                                                                                \r"
     ]
    },
    {
     "data": {
      "text/plain": [
       "[Row(hvfhs_license_num='HV0003', dispatching_base_num='B03404', originating_base_num='B03404', request_datetime=datetime.datetime(2023, 1, 1, 0, 18, 6), on_scene_datetime=datetime.datetime(2023, 1, 1, 0, 19, 24), pickup_datetime=datetime.datetime(2023, 1, 1, 0, 19, 38), dropoff_datetime=datetime.datetime(2023, 1, 1, 0, 48, 7), PULocationID=48, DOLocationID=68, trip_miles=0.94, trip_time=1709, base_passenger_fare=25.95, tolls=0.0, bcf=0.78, sales_tax=2.3, congestion_surcharge=2.75, airport_fee=0.0, tips=5.22, driver_pay=27.83, shared_request_flag='N', shared_match_flag='N', access_a_ride_flag=' ', wav_request_flag='N', wav_match_flag='N')]"
      ]
     },
     "execution_count": 5,
     "metadata": {},
     "output_type": "execute_result"
    }
   ],
   "source": [
    "data_rdd = load_data_rdd(spark, input_file_path, ext, name)\n",
    "data_rdd.take(1)"
   ]
  },
  {
   "cell_type": "markdown",
   "id": "27829a4f-027d-4811-91a6-f213c81cae6f",
   "metadata": {},
   "source": [
    "# Data Cleaning\n",
    "- The application should identify and remove any rows with missing or invalid data."
   ]
  },
  {
   "cell_type": "code",
   "execution_count": 6,
   "id": "362ad093-e54f-4e07-91eb-07947015f46e",
   "metadata": {},
   "outputs": [],
   "source": [
    "def remove_row_w_none_val(row):\n",
    "    for val in row:\n",
    "        if val is None:\n",
    "            return\n",
    "    return row"
   ]
  },
  {
   "cell_type": "code",
   "execution_count": 7,
   "id": "fc69c4c9-7e0e-4ef4-9307-731494c73786",
   "metadata": {},
   "outputs": [
    {
     "name": "stderr",
     "output_type": "stream",
     "text": [
      "                                                                                \r"
     ]
    },
    {
     "name": "stdout",
     "output_type": "stream",
     "text": [
      "Before data cleaning:  18479031\n"
     ]
    },
    {
     "name": "stderr",
     "output_type": "stream",
     "text": [
      "[Stage 4:====================================================>     (9 + 1) / 10]\r"
     ]
    },
    {
     "name": "stdout",
     "output_type": "stream",
     "text": [
      "After data cleaning:  13587039\n"
     ]
    },
    {
     "name": "stderr",
     "output_type": "stream",
     "text": [
      "                                                                                \r"
     ]
    }
   ],
   "source": [
    "print(\"Before data cleaning: \", data_rdd.count())\n",
    "data_rdd = data_rdd.filter(lambda row: remove_row_w_none_val(row))\n",
    "print(\"After data cleaning: \", data_rdd.count())"
   ]
  },
  {
   "cell_type": "markdown",
   "id": "4c198d17-ee8c-45cc-9567-bb8643f47131",
   "metadata": {},
   "source": [
    "# Transformation Logic\n",
    "- Implement filtering to exclude trips with zero or negative fare amounts."
   ]
  },
  {
   "cell_type": "code",
   "execution_count": 8,
   "id": "68965bed-04ba-4526-9bdc-34afcf561174",
   "metadata": {},
   "outputs": [
    {
     "name": "stderr",
     "output_type": "stream",
     "text": [
      "                                                                                \r"
     ]
    },
    {
     "data": {
      "text/plain": [
       "[Row(hvfhs_license_num='HV0003', dispatching_base_num='B03404', originating_base_num='B03404', request_datetime=datetime.datetime(2023, 1, 1, 0, 18, 6), on_scene_datetime=datetime.datetime(2023, 1, 1, 0, 19, 24), pickup_datetime=datetime.datetime(2023, 1, 1, 0, 19, 38), dropoff_datetime=datetime.datetime(2023, 1, 1, 0, 48, 7), PULocationID=48, DOLocationID=68, trip_miles=0.94, trip_time=1709, base_passenger_fare=25.95, tolls=0.0, bcf=0.78, sales_tax=2.3, congestion_surcharge=2.75, airport_fee=0.0, tips=5.22, driver_pay=27.83, shared_request_flag='N', shared_match_flag='N', access_a_ride_flag=' ', wav_request_flag='N', wav_match_flag='N')]"
      ]
     },
     "execution_count": 8,
     "metadata": {},
     "output_type": "execute_result"
    }
   ],
   "source": [
    "data_rdd.take(1)"
   ]
  },
  {
   "cell_type": "code",
   "execution_count": 9,
   "id": "f15e22e5-acd6-4efe-b6c0-727b85455cca",
   "metadata": {},
   "outputs": [],
   "source": [
    "def remove_non_positive_fare(row):\n",
    "    if row.base_passenger_fare > 0:\n",
    "        return row\n",
    "    else:\n",
    "        return"
   ]
  },
  {
   "cell_type": "code",
   "execution_count": 10,
   "id": "e87adeda-5440-40d0-a3e5-cc98a64d2505",
   "metadata": {},
   "outputs": [
    {
     "name": "stderr",
     "output_type": "stream",
     "text": [
      "                                                                                \r"
     ]
    },
    {
     "name": "stdout",
     "output_type": "stream",
     "text": [
      "Before removing zero or negative fare:  13587039\n"
     ]
    },
    {
     "name": "stderr",
     "output_type": "stream",
     "text": [
      "[Stage 8:====================================================>     (9 + 1) / 10]\r"
     ]
    },
    {
     "name": "stdout",
     "output_type": "stream",
     "text": [
      "After removing zero or negative fare:  13573585\n"
     ]
    },
    {
     "name": "stderr",
     "output_type": "stream",
     "text": [
      "                                                                                \r"
     ]
    }
   ],
   "source": [
    "print(\"Before removing zero or negative fare: \", data_rdd.count())\n",
    "data_rdd = data_rdd.filter(lambda row: remove_non_positive_fare(row))\n",
    "print(\"After removing zero or negative fare: \", data_rdd.count())"
   ]
  },
  {
   "cell_type": "markdown",
   "id": "0cc08191-80e7-46d1-ae14-38c8970ba711",
   "metadata": {},
   "source": [
    "- Map the data to extract relevant columns and convert them to appropriate data types."
   ]
  },
  {
   "cell_type": "code",
   "execution_count": 11,
   "id": "25c1c1c2-d902-4097-97c3-11606825e317",
   "metadata": {},
   "outputs": [
    {
     "name": "stderr",
     "output_type": "stream",
     "text": [
      "                                                                                \r"
     ]
    },
    {
     "data": {
      "text/plain": [
       "[Row(hvfhs_license_num='HV0003', dispatching_base_num='B03404', originating_base_num='B03404', request_datetime=datetime.datetime(2023, 1, 1, 0, 18, 6), on_scene_datetime=datetime.datetime(2023, 1, 1, 0, 19, 24), pickup_datetime=datetime.datetime(2023, 1, 1, 0, 19, 38), dropoff_datetime=datetime.datetime(2023, 1, 1, 0, 48, 7), PULocationID=48, DOLocationID=68, trip_miles=0.94, trip_time=1709, base_passenger_fare=25.95, tolls=0.0, bcf=0.78, sales_tax=2.3, congestion_surcharge=2.75, airport_fee=0.0, tips=5.22, driver_pay=27.83, shared_request_flag='N', shared_match_flag='N', access_a_ride_flag=' ', wav_request_flag='N', wav_match_flag='N')]"
      ]
     },
     "execution_count": 11,
     "metadata": {},
     "output_type": "execute_result"
    }
   ],
   "source": [
    "data_rdd.take(1)"
   ]
  },
  {
   "cell_type": "code",
   "execution_count": 12,
   "id": "6d21fbda-3303-41db-848c-560d89d780a2",
   "metadata": {},
   "outputs": [],
   "source": [
    "def extract_and_convert_relevant_columns(row):\n",
    "    return Row(pickup_datetime = row.pickup_datetime.date(), trip_miles = row.trip_miles, base_passenger_fare = row.base_passenger_fare)"
   ]
  },
  {
   "cell_type": "code",
   "execution_count": 13,
   "id": "d0cdb9c5-d921-42b6-98d2-8ab29d9fc838",
   "metadata": {},
   "outputs": [],
   "source": [
    "data_rdd = data_rdd.map(lambda row: extract_and_convert_relevant_columns(row))"
   ]
  },
  {
   "cell_type": "code",
   "execution_count": 14,
   "id": "99e9ecd8-f011-451e-b648-d904111c16d5",
   "metadata": {},
   "outputs": [
    {
     "data": {
      "text/plain": [
       "[Row(pickup_datetime=datetime.date(2023, 1, 1), trip_miles=0.94, base_passenger_fare=25.95)]"
      ]
     },
     "execution_count": 14,
     "metadata": {},
     "output_type": "execute_result"
    }
   ],
   "source": [
    "data_rdd.take(1)"
   ]
  },
  {
   "cell_type": "markdown",
   "id": "f1110cde-b4da-416d-b703-1f05ed318312",
   "metadata": {},
   "source": [
    "# Aggregation Logic\n",
    "- Calculate and display the total number of trips."
   ]
  },
  {
   "cell_type": "code",
   "execution_count": 15,
   "id": "10f0bebd-7893-4edb-bdee-6f4b39efb3b8",
   "metadata": {},
   "outputs": [
    {
     "name": "stderr",
     "output_type": "stream",
     "text": [
      "                                                                                \r"
     ]
    }
   ],
   "source": [
    "total_number_of_trips = data_rdd.count()"
   ]
  },
  {
   "cell_type": "code",
   "execution_count": 16,
   "id": "411202d1-e08e-4a79-8445-35e48b6098df",
   "metadata": {},
   "outputs": [
    {
     "name": "stdout",
     "output_type": "stream",
     "text": [
      "total_number_of_trips: 13573585 miles\n"
     ]
    }
   ],
   "source": [
    "print(f\"total_number_of_trips: {total_number_of_trips} miles\")"
   ]
  },
  {
   "cell_type": "markdown",
   "id": "bc4fca5d-24ea-4daf-a1e3-a7f60bab2aaf",
   "metadata": {},
   "source": [
    "- Calculate and display the total revenue generated from the trips."
   ]
  },
  {
   "cell_type": "code",
   "execution_count": 17,
   "id": "73b0e186-f665-4777-adee-8ff6aae26158",
   "metadata": {},
   "outputs": [
    {
     "name": "stderr",
     "output_type": "stream",
     "text": [
      "                                                                                \r"
     ]
    }
   ],
   "source": [
    "total_revenue = data_rdd.map(lambda row: row.base_passenger_fare).reduce(add) "
   ]
  },
  {
   "cell_type": "code",
   "execution_count": 18,
   "id": "d8fd7b4d-b34e-42b5-9c41-70f2f0050ec5",
   "metadata": {},
   "outputs": [
    {
     "name": "stdout",
     "output_type": "stream",
     "text": [
      "total_revenue: 298184911.98$\n"
     ]
    }
   ],
   "source": [
    "print(f\"total_revenue: {round(total_revenue, 2)}$\")"
   ]
  },
  {
   "cell_type": "markdown",
   "id": "b30ca331-8077-4186-a13c-21b8e4332197",
   "metadata": {},
   "source": [
    "- Calculate and display the average trip distance."
   ]
  },
  {
   "cell_type": "code",
   "execution_count": 19,
   "id": "57ff1805-c12d-4358-9364-a4a7a95f21ff",
   "metadata": {},
   "outputs": [
    {
     "name": "stderr",
     "output_type": "stream",
     "text": [
      "                                                                                \r"
     ]
    }
   ],
   "source": [
    "average_trip_distance = data_rdd.map(lambda row: row.trip_miles).mean()"
   ]
  },
  {
   "cell_type": "code",
   "execution_count": 20,
   "id": "77b84774-b6bd-415f-aaf4-24859f03d4fb",
   "metadata": {},
   "outputs": [
    {
     "name": "stdout",
     "output_type": "stream",
     "text": [
      "average_trip_distance: round(average_trip_distance, 2) miles\n"
     ]
    }
   ],
   "source": [
    "print(f\"average_trip_distance: round(average_trip_distance, 2) miles\")"
   ]
  },
  {
   "cell_type": "markdown",
   "id": "fa079296-b9ae-4a54-8fc7-cb0b8aabd1e5",
   "metadata": {},
   "source": [
    "- Calculate and display the number of trips per day."
   ]
  },
  {
   "cell_type": "code",
   "execution_count": 21,
   "id": "2536863a-6dcf-4b19-9d3b-3e52199e975b",
   "metadata": {},
   "outputs": [
    {
     "name": "stderr",
     "output_type": "stream",
     "text": [
      "                                                                                \r"
     ]
    }
   ],
   "source": [
    "number_of_trips_per_day = data_rdd.map(lambda row: (row.pickup_datetime, 1)).reduceByKey(add).sortByKey(lambda row: row.pickup_datetime)"
   ]
  },
  {
   "cell_type": "code",
   "execution_count": 22,
   "id": "7571b45e-e8d4-42e7-ba80-9b6325dcf3dd",
   "metadata": {},
   "outputs": [
    {
     "data": {
      "text/plain": [
       "[(datetime.date(2023, 1, 1), 452841),\n",
       " (datetime.date(2023, 1, 2), 288847),\n",
       " (datetime.date(2023, 1, 3), 340913),\n",
       " (datetime.date(2023, 1, 4), 351779),\n",
       " (datetime.date(2023, 1, 5), 368936),\n",
       " (datetime.date(2023, 1, 6), 436676),\n",
       " (datetime.date(2023, 1, 7), 474931),\n",
       " (datetime.date(2023, 1, 8), 399608),\n",
       " (datetime.date(2023, 1, 9), 344836),\n",
       " (datetime.date(2023, 1, 10), 367237),\n",
       " (datetime.date(2023, 1, 11), 394843),\n",
       " (datetime.date(2023, 1, 12), 444287),\n",
       " (datetime.date(2023, 1, 13), 478722),\n",
       " (datetime.date(2023, 1, 14), 545906),\n",
       " (datetime.date(2023, 1, 15), 487679),\n",
       " (datetime.date(2023, 1, 16), 379179),\n",
       " (datetime.date(2023, 1, 17), 398678),\n",
       " (datetime.date(2023, 1, 18), 414715),\n",
       " (datetime.date(2023, 1, 19), 502311),\n",
       " (datetime.date(2023, 1, 20), 506785)]"
      ]
     },
     "execution_count": 22,
     "metadata": {},
     "output_type": "execute_result"
    }
   ],
   "source": [
    "number_of_trips_per_day.take(20)"
   ]
  },
  {
   "cell_type": "markdown",
   "id": "82f0cf3d-964b-438d-a3ee-d1ce312ea63d",
   "metadata": {},
   "source": [
    "- Calculate and display the total revenue per day."
   ]
  },
  {
   "cell_type": "code",
   "execution_count": 23,
   "id": "b442e75d-7570-4a82-a926-4f861d167ed3",
   "metadata": {},
   "outputs": [
    {
     "name": "stderr",
     "output_type": "stream",
     "text": [
      "                                                                                \r"
     ]
    }
   ],
   "source": [
    "total_revenue_per_day = data_rdd.map(lambda row: (row.pickup_datetime, row.base_passenger_fare)).reduceByKey(add).sortByKey(lambda row: row.pickup_datetime)"
   ]
  },
  {
   "cell_type": "code",
   "execution_count": 24,
   "id": "7b764b43-5063-41ad-9f93-baad252f129d",
   "metadata": {},
   "outputs": [
    {
     "data": {
      "text/plain": [
       "[(datetime.date(2023, 1, 1), 13180869.880001789),\n",
       " (datetime.date(2023, 1, 2), 6566691.43000102),\n",
       " (datetime.date(2023, 1, 3), 7637673.190001559),\n",
       " (datetime.date(2023, 1, 4), 7892231.450001481),\n",
       " (datetime.date(2023, 1, 5), 8216885.190001347),\n",
       " (datetime.date(2023, 1, 6), 9354316.220002314),\n",
       " (datetime.date(2023, 1, 7), 9932890.770002726),\n",
       " (datetime.date(2023, 1, 8), 8647900.30000238),\n",
       " (datetime.date(2023, 1, 9), 7649913.430001789),\n",
       " (datetime.date(2023, 1, 10), 8134791.630001667),\n",
       " (datetime.date(2023, 1, 11), 8822176.180002036),\n",
       " (datetime.date(2023, 1, 12), 10586005.440002393),\n",
       " (datetime.date(2023, 1, 13), 10793353.590002596),\n",
       " (datetime.date(2023, 1, 14), 11416505.760003677),\n",
       " (datetime.date(2023, 1, 15), 10324326.790002713),\n",
       " (datetime.date(2023, 1, 16), 7964399.760000432),\n",
       " (datetime.date(2023, 1, 17), 8907297.920000806),\n",
       " (datetime.date(2023, 1, 18), 9323672.600000776),\n",
       " (datetime.date(2023, 1, 19), 11575510.32000106),\n",
       " (datetime.date(2023, 1, 20), 10750285.800000424)]"
      ]
     },
     "execution_count": 24,
     "metadata": {},
     "output_type": "execute_result"
    }
   ],
   "source": [
    "total_revenue_per_day.take(20)"
   ]
  },
  {
   "cell_type": "markdown",
   "id": "a087ff20-c122-4ef7-a7ad-817036461c92",
   "metadata": {},
   "source": [
    "# Data Output\n",
    "- Save the result to a persistent storage (e.g., HDFS, S3, or local file system)."
   ]
  },
  {
   "cell_type": "code",
   "execution_count": 26,
   "id": "0c2c2c2b-323d-4a7d-8416-53182056e468",
   "metadata": {},
   "outputs": [],
   "source": [
    "# Save the output as text\n",
    "result = spark.sparkContext.parallelize([\n",
    "    f\"total_number_of_trips, {total_number_of_trips}\",\n",
    "    f\"total_revenue, {total_revenue}\",\n",
    "    f\"average_trip_distance, {average_trip_distance}\",\n",
    "])\n",
    "result.coalesce(1).saveAsTextFile(output_dir_path + \"result.txt\")"
   ]
  },
  {
   "cell_type": "code",
   "execution_count": 27,
   "id": "6ed07649-c552-43df-9e55-a035ee60c013",
   "metadata": {},
   "outputs": [
    {
     "name": "stderr",
     "output_type": "stream",
     "text": [
      "                                                                                \r"
     ]
    }
   ],
   "source": [
    "# Save the output as pickle object\n",
    "number_of_trips_per_day.coalesce(1).saveAsPickleFile(output_dir_path + \"number_of_trips_per_day\")\n",
    "total_revenue_per_day.coalesce(1).saveAsPickleFile(output_dir_path + \"total_revenue_per_day\")"
   ]
  }
 ],
 "metadata": {
  "kernelspec": {
   "display_name": "Python 3 (ipykernel)",
   "language": "python",
   "name": "python3"
  },
  "language_info": {
   "codemirror_mode": {
    "name": "ipython",
    "version": 3
   },
   "file_extension": ".py",
   "mimetype": "text/x-python",
   "name": "python",
   "nbconvert_exporter": "python",
   "pygments_lexer": "ipython3",
   "version": "3.10.12"
  }
 },
 "nbformat": 4,
 "nbformat_minor": 5
}
