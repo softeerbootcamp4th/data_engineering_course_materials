{
 "cells": [
  {
   "cell_type": "code",
   "execution_count": 34,
   "metadata": {},
   "outputs": [],
   "source": [
    "from pyspark.sql import SparkSession\n",
    "from pyspark.sql.functions import col, sum, mean, round, unix_timestamp, date_format, to_timestamp, hour, when, avg\n",
    "from datetime import datetime\n",
    "import pandas as pd\n",
    "import numpy as np"
   ]
  },
  {
   "cell_type": "code",
   "execution_count": 36,
   "metadata": {},
   "outputs": [],
   "source": [
    "spark = (\n",
    "    SparkSession.builder.appName(\"TLC DataSet Analyze\")\n",
    "    .master(\"local[*]\")\n",
    "    .config(\"spark.driver.host\", \"localhost\")\n",
    "    .config(\"spark.driver.port\", \"7077\")\n",
    "    .config(\"spark.ui.port\", \"4050\")\n",
    "    .config(\"spark.driver.memory\", \"15g\")\n",
    "    .config(\"spark.executor.memory\", \"15g\")\n",
    "    .getOrCreate()\n",
    ")"
   ]
  },
  {
   "cell_type": "code",
   "execution_count": 37,
   "metadata": {},
   "outputs": [],
   "source": [
    "def read_data(file_name, date):\n",
    "    file_path = f\"/Users/admin/Desktop/docker/W5M2/parquet_files/{file_name}_tripdata_{date}.parquet\"  # 로컬\n",
    "    print(f\"Attempting to read from: {file_path}\")\n",
    "\n",
    "    try:\n",
    "        read_df = spark.read.parquet(file_path)\n",
    "        return read_df\n",
    "    except Exception:\n",
    "        print(f\"File not found: {file_path}\")\n",
    "        return None"
   ]
  },
  {
   "cell_type": "code",
   "execution_count": 38,
   "metadata": {},
   "outputs": [
    {
     "name": "stdout",
     "output_type": "stream",
     "text": [
      ">>>>> yellow 2022-05\n",
      "Attempting to read from: /Users/admin/Desktop/docker/W5M2/parquet_files/yellow_tripdata_2022-05.parquet\n",
      ">>>>> yellow 2022-06\n",
      "Attempting to read from: /Users/admin/Desktop/docker/W5M2/parquet_files/yellow_tripdata_2022-06.parquet\n",
      ">>>>> yellow 2022-07\n",
      "Attempting to read from: /Users/admin/Desktop/docker/W5M2/parquet_files/yellow_tripdata_2022-07.parquet\n",
      ">>>>> yellow 2022-08\n",
      "Attempting to read from: /Users/admin/Desktop/docker/W5M2/parquet_files/yellow_tripdata_2022-08.parquet\n"
     ]
    }
   ],
   "source": [
    "categories = [\"yellow\"]\n",
    "\n",
    "months = (\n",
    "    pd.date_range(start=\"2022-05-01\", end=\"2022-08-01\", freq=\"MS\")\n",
    "    .strftime(\"%Y-%m\")\n",
    "    .tolist()\n",
    ")\n",
    "\n",
    "df = None\n",
    "for category in categories:\n",
    "    for month in months:\n",
    "        print(\">>>>>\", category, month)\n",
    "        read_df = read_data(category, month)\n",
    "        if read_df is not None:\n",
    "            if df is None:\n",
    "                df = read_df\n",
    "            else:\n",
    "                df = df.union(read_df)\n",
    "df = df.select(\n",
    "    \"tpep_pickup_datetime\",\n",
    "    \"tpep_dropoff_datetime\",\n",
    "    \"passenger_count\",\n",
    "    \"trip_distance\",\n",
    "    \"total_amount\",\n",
    "    \"congestion_surcharge\",\n",
    "    \"airport_fee\",\n",
    ")"
   ]
  },
  {
   "cell_type": "code",
   "execution_count": 39,
   "metadata": {},
   "outputs": [],
   "source": [
    "weather = spark.read.csv(\"/Users/admin/Desktop/docker/W5M2/weather.csv\", header=True)\n",
    "weather = weather.select(\"time\", \"temperature_2m (°C)\", \"rain (mm)\")\n",
    "weather = weather.withColumn(\"weather_hour\", date_format(to_timestamp(\"time\"), \"yyyy-MM-dd HH:00:00\"))"
   ]
  },
  {
   "cell_type": "markdown",
   "metadata": {},
   "source": [
    "# 데이터 정제 및 전처리"
   ]
  },
  {
   "cell_type": "code",
   "execution_count": 40,
   "metadata": {},
   "outputs": [],
   "source": [
    "df = df.dropna()\n",
    "\n",
    "start_date = \"2022-05-01\"\n",
    "end_date = \"2022-08-31\"\n",
    "\n",
    "filterd_df = df.filter(\n",
    "    (col(\"passenger_count\") >= 0)\n",
    "    & (col(\"total_amount\") >= 0)\n",
    "    & (col(\"congestion_surcharge\") >= 0)\n",
    "    & (col(\"airport_fee\") >= 0)\n",
    "    & (col(\"tpep_pickup_datetime\") >= start_date)\n",
    "    & (col(\"tpep_pickup_datetime\") <= end_date)\n",
    "    & (col(\"tpep_dropoff_datetime\") >= start_date)\n",
    "    & (col(\"tpep_dropoff_datetime\") <= end_date)\n",
    ")\n",
    "\n",
    "filterd_df = filterd_df.withColumn(\n",
    "    \"total_fee\",\n",
    "    (col(\"total_amount\") + col(\"congestion_surcharge\") + col(\"airport_fee\")),\n",
    ")\n",
    "\n",
    "filterd_df = filterd_df.withColumn(\n",
    "        \"trip_duration\",\n",
    "        (unix_timestamp(\"tpep_dropoff_datetime\") - unix_timestamp(\"tpep_pickup_datetime\")) / 60,\n",
    "    )\n",
    "\n",
    "# total_fee를 double 타입으로 변환하고 변환 실패 시 null로 설정\n",
    "filterd_df = filterd_df.withColumn(\"total_fee\", col(\"total_fee\").cast(\"double\"))\n",
    "\n",
    "# 유효한 숫자만 남기기 (null 값은 제거)\n",
    "filterd_df = filterd_df.filter(col(\"total_fee\").isNotNull())\n",
    "\n",
    "\n",
    "filterd_df = filterd_df.select(\n",
    "    \"tpep_pickup_datetime\", \"trip_duration\", \"passenger_count\", \"total_fee\"\n",
    ")"
   ]
  },
  {
   "cell_type": "markdown",
   "metadata": {},
   "source": [
    "### data schema"
   ]
  },
  {
   "cell_type": "code",
   "execution_count": 41,
   "metadata": {},
   "outputs": [
    {
     "name": "stdout",
     "output_type": "stream",
     "text": [
      "root\n",
      " |-- tpep_pickup_datetime: timestamp_ntz (nullable = true)\n",
      " |-- trip_duration: double (nullable = true)\n",
      " |-- passenger_count: double (nullable = true)\n",
      " |-- total_fee: double (nullable = true)\n",
      "\n"
     ]
    }
   ],
   "source": [
    "filterd_df.printSchema()"
   ]
  },
  {
   "cell_type": "code",
   "execution_count": 42,
   "metadata": {},
   "outputs": [
    {
     "name": "stderr",
     "output_type": "stream",
     "text": [
      "24/08/11 22:33:57 WARN CacheManager: Asked to cache already cached data.\n"
     ]
    },
    {
     "data": {
      "text/plain": [
       "DataFrame[tpep_pickup_datetime: timestamp_ntz, trip_duration: double, passenger_count: double, total_fee: double]"
      ]
     },
     "execution_count": 42,
     "metadata": {},
     "output_type": "execute_result"
    }
   ],
   "source": [
    "filterd_df.cache()"
   ]
  },
  {
   "cell_type": "markdown",
   "metadata": {},
   "source": [
    "# 전체 여행 수, 승객이 2명 이상인 여행 수"
   ]
  },
  {
   "cell_type": "code",
   "execution_count": 43,
   "metadata": {},
   "outputs": [
    {
     "name": "stdout",
     "output_type": "stream",
     "text": [
      "All passenger count: 12821748\n",
      "Over two passenger count: 3169436\n"
     ]
    }
   ],
   "source": [
    "all_passenger_count = filterd_df.count()\n",
    "over_two_passenger_count = filterd_df.filter(col(\"passenger_count\") >= 2).count()\n",
    "\n",
    "print(f\"All passenger count: {all_passenger_count}\")\n",
    "print(f\"Over two passenger count: {over_two_passenger_count}\")"
   ]
  },
  {
   "cell_type": "markdown",
   "metadata": {},
   "source": [
    "# 전체 기간 총 수익"
   ]
  },
  {
   "cell_type": "code",
   "execution_count": 44,
   "metadata": {},
   "outputs": [
    {
     "name": "stdout",
     "output_type": "stream",
     "text": [
      "Total Revenue: 310560499.022171\n"
     ]
    }
   ],
   "source": [
    "total_revenue = filterd_df.agg(sum(\"total_fee\")).collect()[0][0]\n",
    "print(f\"Total Revenue: {total_revenue}\")"
   ]
  },
  {
   "cell_type": "markdown",
   "metadata": {},
   "source": [
    "# 전체 기간 평균 여행 시간"
   ]
  },
  {
   "cell_type": "code",
   "execution_count": 45,
   "metadata": {},
   "outputs": [
    {
     "name": "stdout",
     "output_type": "stream",
     "text": [
      "Mean Trip Duration: 17.487566865558218\n"
     ]
    }
   ],
   "source": [
    "mean_trip_duration = filterd_df.agg(mean(\"trip_duration\")).collect()[0][0]\n",
    "print(f\"Mean Trip Duration: {mean_trip_duration}\")"
   ]
  },
  {
   "cell_type": "markdown",
   "metadata": {},
   "source": [
    "### 일별 평균 여행시간, 여행요금, 승객수와 날씨 데이터 결합"
   ]
  },
  {
   "cell_type": "code",
   "execution_count": 46,
   "metadata": {},
   "outputs": [
    {
     "name": "stderr",
     "output_type": "stream",
     "text": [
      "24/08/11 22:33:59 WARN CacheManager: Asked to cache already cached data.\n"
     ]
    },
    {
     "data": {
      "text/plain": [
       "DataFrame[pickup_hour: string, mean_hourly_fee: double, mean_trip_duration: double, mean_passenger_count: double, temperature_2m (°C): string, rain (mm): string]"
      ]
     },
     "execution_count": 46,
     "metadata": {},
     "output_type": "execute_result"
    }
   ],
   "source": [
    "taxi_df = filterd_df.withColumn(\"pickup_hour\", date_format(to_timestamp(\"tpep_pickup_datetime\"), \"yyyy-MM-dd HH:00:00\"))\n",
    "\n",
    "hourly_taxi_df = taxi_df.groupBy(\"pickup_hour\").agg(\n",
    "    round(mean(\"total_fee\"), 3).alias(\"mean_hourly_fee\"),\n",
    "    round(mean(\"trip_duration\"), 2).alias(\"mean_trip_duration\"),\n",
    "    round(mean(\"passenger_count\"), 2).alias(\"mean_passenger_count\")\n",
    ")\n",
    "final_df = hourly_taxi_df.join(weather, hourly_taxi_df.pickup_hour == weather.weather_hour).drop(\"time\", \"weather_hour\")\n",
    "final_df = final_df.orderBy(\"pickup_hour\")\n",
    "final_df.cache()"
   ]
  },
  {
   "cell_type": "code",
   "execution_count": 47,
   "metadata": {},
   "outputs": [
    {
     "name": "stdout",
     "output_type": "stream",
     "text": [
      "+-------------------+---------------+------------------+--------------------+-------------------+---------+\n",
      "|        pickup_hour|mean_hourly_fee|mean_trip_duration|mean_passenger_count|temperature_2m (°C)|rain (mm)|\n",
      "+-------------------+---------------+------------------+--------------------+-------------------+---------+\n",
      "|2022-05-01 00:00:00|         23.076|             17.44|                1.46|               15.3|     0.00|\n",
      "|2022-05-01 01:00:00|         21.549|              14.9|                1.48|               13.9|     0.00|\n",
      "|2022-05-01 02:00:00|         21.174|             16.09|                1.47|               12.7|     0.00|\n",
      "|2022-05-01 03:00:00|         22.811|             12.75|                1.44|               11.3|     0.00|\n",
      "|2022-05-01 04:00:00|         26.346|             15.52|                1.44|               10.8|     0.00|\n",
      "|2022-05-01 05:00:00|         34.028|             23.64|                1.42|               10.1|     0.00|\n",
      "|2022-05-01 06:00:00|         34.125|             17.53|                 1.4|                9.6|     0.00|\n",
      "|2022-05-01 07:00:00|         30.991|             17.99|                1.36|                9.7|     0.00|\n",
      "|2022-05-01 08:00:00|         28.098|             18.98|                1.39|                9.1|     0.00|\n",
      "|2022-05-01 09:00:00|         25.634|             17.07|                1.42|                8.3|     0.00|\n",
      "|2022-05-01 10:00:00|         25.409|             17.62|                1.39|                8.2|     0.00|\n",
      "|2022-05-01 11:00:00|         26.039|             19.86|                1.41|                8.1|     0.00|\n",
      "|2022-05-01 12:00:00|         27.076|             22.29|                1.45|               10.5|     0.00|\n",
      "|2022-05-01 13:00:00|         26.739|             19.62|                1.46|               12.1|     0.00|\n",
      "|2022-05-01 14:00:00|          27.12|             20.59|                1.47|               13.6|     0.00|\n",
      "|2022-05-01 15:00:00|         27.097|             19.85|                1.45|               15.7|     0.00|\n",
      "|2022-05-01 16:00:00|         26.075|             19.29|                1.42|               16.0|     0.00|\n",
      "|2022-05-01 17:00:00|         24.935|              16.1|                1.44|               16.5|     0.00|\n",
      "|2022-05-01 18:00:00|         23.434|             14.83|                1.42|               16.9|     0.00|\n",
      "|2022-05-01 19:00:00|          23.92|             16.38|                1.44|               17.7|     0.00|\n",
      "+-------------------+---------------+------------------+--------------------+-------------------+---------+\n",
      "only showing top 20 rows\n",
      "\n"
     ]
    }
   ],
   "source": [
    "final_df.show()"
   ]
  },
  {
   "cell_type": "code",
   "execution_count": 50,
   "metadata": {},
   "outputs": [
    {
     "name": "stdout",
     "output_type": "stream",
     "text": [
      "+-------------+----------------------+-------------------+\n",
      "|rain_category|avg_mean_trip_duration|avg_mean_hourly_fee|\n",
      "+-------------+----------------------+-------------------+\n",
      "|      No Rain|     17.11070719110051|  25.19904886769963|\n",
      "|  Little Rain|     17.09536585365854|  24.99237804878049|\n",
      "|   Heavy Rain|                 19.25|             24.379|\n",
      "+-------------+----------------------+-------------------+\n",
      "\n"
     ]
    }
   ],
   "source": [
    "final_df = final_df.withColumn(\n",
    "    \"rain_category\",\n",
    "    when(col(\"rain (mm)\") == 0.00, \"No Rain\")\n",
    "    .when((col(\"rain (mm)\") > 0.00) & (col(\"rain (mm)\") <= 5.00), \"Little Rain\")\n",
    "    .otherwise(\"Heavy Rain\"),\n",
    ")\n",
    "\n",
    "result1_df = final_df.groupBy(\"rain_category\").agg(\n",
    "    avg(\"mean_trip_duration\").alias(\"avg_mean_trip_duration\"),\n",
    "    avg(\"mean_hourly_fee\").alias(\"avg_mean_hourly_fee\"),\n",
    ")\n",
    "\n",
    "result1_df.show()"
   ]
  },
  {
   "cell_type": "code",
   "execution_count": 57,
   "metadata": {},
   "outputs": [
    {
     "name": "stdout",
     "output_type": "stream",
     "text": [
      "+--------------------+----------------------+-------------------+\n",
      "|temperature_category|avg_mean_trip_duration|avg_mean_hourly_fee|\n",
      "+--------------------+----------------------+-------------------+\n",
      "|             Not Hot|    17.321037394451153|  25.42251387213509|\n",
      "|            Moderate|    16.930277136258663|   25.1263533487298|\n",
      "|                 Hot|    16.624009900990103| 24.226014851485143|\n",
      "+--------------------+----------------------+-------------------+\n",
      "\n"
     ]
    }
   ],
   "source": [
    "final_df = final_df.withColumn(\n",
    "    \"temperature_category\",\n",
    "    when(col(\"temperature_2m (°C)\") <= 24.1, \"Not Hot\")\n",
    "    .when(\n",
    "        (col(\"temperature_2m (°C)\") > 24.1) & (col(\"temperature_2m (°C)\") <= 28.4),\n",
    "        \"Moderate\",\n",
    "    )\n",
    "    .otherwise(\"Hot\"),\n",
    ")\n",
    "\n",
    "result2_df = final_df.groupBy(\"temperature_category\").agg(\n",
    "    avg(\"mean_trip_duration\").alias(\"avg_mean_trip_duration\"),\n",
    "    avg(\"mean_hourly_fee\").alias(\"avg_mean_hourly_fee\"),\n",
    ")\n",
    "\n",
    "result2_df.show()"
   ]
  },
  {
   "cell_type": "code",
   "execution_count": 58,
   "metadata": {},
   "outputs": [],
   "source": [
    "result2_df.write.csv(\n",
    "    path=\"/Users/admin/Desktop/docker/W5M2/csv_files\", mode=\"overwrite\", header=True\n",
    ")"
   ]
  },
  {
   "cell_type": "code",
   "execution_count": null,
   "metadata": {},
   "outputs": [],
   "source": [
    "spark.stop()"
   ]
  }
 ],
 "metadata": {
  "kernelspec": {
   "display_name": "Python 3",
   "language": "python",
   "name": "python3"
  },
  "language_info": {
   "codemirror_mode": {
    "name": "ipython",
    "version": 3
   },
   "file_extension": ".py",
   "mimetype": "text/x-python",
   "name": "python",
   "nbconvert_exporter": "python",
   "pygments_lexer": "ipython3",
   "version": "3.9.6"
  }
 },
 "nbformat": 4,
 "nbformat_minor": 2
}
