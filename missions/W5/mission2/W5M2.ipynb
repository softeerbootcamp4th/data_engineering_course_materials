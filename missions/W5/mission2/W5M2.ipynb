{
 "cells": [
  {
   "cell_type": "code",
   "execution_count": 1,
   "id": "fefdf141-65de-4f31-8084-7139e1a9da5a",
   "metadata": {},
   "outputs": [],
   "source": [
    "from pyspark import SparkConf\n",
    "from pyspark.sql import SparkSession, Row\n",
    "from pyspark.sql.functions import isnull, avg, min, date_format\n",
    "from operator import add"
   ]
  },
  {
   "cell_type": "code",
   "execution_count": 2,
   "id": "7259b91b-9ba2-47d6-b31c-a0be92aeb4c3",
   "metadata": {},
   "outputs": [
    {
     "name": "stderr",
     "output_type": "stream",
     "text": [
      "Setting default log level to \"WARN\".\n",
      "To adjust logging level use sc.setLogLevel(newLevel). For SparkR, use setLogLevel(newLevel).\n"
     ]
    },
    {
     "name": "stdout",
     "output_type": "stream",
     "text": [
      "24/08/04 12:49:11 WARN NativeCodeLoader: Unable to load native-hadoop library for your platform... using builtin-java classes where applicable\n"
     ]
    }
   ],
   "source": [
    "spark = SparkSession.builder \\\n",
    "    .master('spark://spark-master:7077') \\\n",
    "    .appName('W5M2') \\\n",
    "    .config('spark.executor.memory', '8gb') \\\n",
    "    .config(\"spark.executor.cores\", \"5\") \\\n",
    "    .getOrCreate()"
   ]
  },
  {
   "cell_type": "code",
   "execution_count": 3,
   "id": "01ab5f84-ab69-4f1f-97f7-a02b0a102e2f",
   "metadata": {},
   "outputs": [],
   "source": [
    "TLC_data_path = 'hdfs://spark-master:9000/user/hduser/hdfs_data/fhvhv_tripdata_2023-01.parquet'\n",
    "weather_data_path = 'hdfs://spark-master:9000/user/hduser/hdfs_data/72505394728.csv'\n",
    "output_dir_path = 'hdfs://spark-master:9000/user/spark_user/W5M2_output/'\n",
    "tlc_ext='parquet'\n",
    "weather_ext='csv'"
   ]
  },
  {
   "cell_type": "markdown",
   "id": "cc74a6ba-6a43-474f-99f7-664ca2ba101b",
   "metadata": {},
   "source": [
    "# Data Loading\n",
    "- The application should load the TLC Trip Record Data into a Spark DataFrame.\n",
    "- The schema of the DataFrame should be inferred or explicitly defined."
   ]
  },
  {
   "cell_type": "code",
   "execution_count": 4,
   "id": "63c05bcd-4998-4fc1-9208-bd360433f235",
   "metadata": {},
   "outputs": [],
   "source": [
    "def load_dataframe(spark_session, file_path, extension):\n",
    "    if extension==\"csv\":\n",
    "        df = spark_session.read.csv(file_path)\n",
    "    elif extension==\"parquet\":\n",
    "        df = spark_session.read.parquet(file_path)\n",
    "    else:\n",
    "        raise NotImplementedError\n",
    "    return df"
   ]
  },
  {
   "cell_type": "code",
   "execution_count": 5,
   "id": "e5909e5c-0858-4eba-9ab2-7aa3a4be3c5a",
   "metadata": {},
   "outputs": [
    {
     "name": "stderr",
     "output_type": "stream",
     "text": [
      "                                                                                \r"
     ]
    },
    {
     "name": "stdout",
     "output_type": "stream",
     "text": [
      "- The schema of the TLC DataFrame - \n",
      " StructType([StructField('hvfhs_license_num', StringType(), True), StructField('dispatching_base_num', StringType(), True), StructField('originating_base_num', StringType(), True), StructField('request_datetime', TimestampType(), True), StructField('on_scene_datetime', TimestampType(), True), StructField('pickup_datetime', TimestampType(), True), StructField('dropoff_datetime', TimestampType(), True), StructField('PULocationID', LongType(), True), StructField('DOLocationID', LongType(), True), StructField('trip_miles', DoubleType(), True), StructField('trip_time', LongType(), True), StructField('base_passenger_fare', DoubleType(), True), StructField('tolls', DoubleType(), True), StructField('bcf', DoubleType(), True), StructField('sales_tax', DoubleType(), True), StructField('congestion_surcharge', DoubleType(), True), StructField('airport_fee', DoubleType(), True), StructField('tips', DoubleType(), True), StructField('driver_pay', DoubleType(), True), StructField('shared_request_flag', StringType(), True), StructField('shared_match_flag', StringType(), True), StructField('access_a_ride_flag', StringType(), True), StructField('wav_request_flag', StringType(), True), StructField('wav_match_flag', StringType(), True)])\n"
     ]
    },
    {
     "name": "stderr",
     "output_type": "stream",
     "text": [
      "[Stage 2:============================================>              (3 + 1) / 4]\r"
     ]
    },
    {
     "name": "stdout",
     "output_type": "stream",
     "text": [
      "-RECORD 0-----------------------------------\n",
      " hvfhs_license_num    | HV0003              \n",
      " dispatching_base_num | B03404              \n",
      " originating_base_num | B03404              \n",
      " request_datetime     | 2023-01-01 00:18:06 \n",
      " on_scene_datetime    | 2023-01-01 00:19:24 \n",
      " pickup_datetime      | 2023-01-01 00:19:38 \n",
      " dropoff_datetime     | 2023-01-01 00:48:07 \n",
      " PULocationID         | 48                  \n",
      " DOLocationID         | 68                  \n",
      " trip_miles           | 0.94                \n",
      " trip_time            | 1709                \n",
      " base_passenger_fare  | 25.95               \n",
      " tolls                | 0.0                 \n",
      " bcf                  | 0.78                \n",
      " sales_tax            | 2.3                 \n",
      " congestion_surcharge | 2.75                \n",
      " airport_fee          | 0.0                 \n",
      " tips                 | 5.22                \n",
      " driver_pay           | 27.83               \n",
      " shared_request_flag  | N                   \n",
      " shared_match_flag    | N                   \n",
      " access_a_ride_flag   |                     \n",
      " wav_request_flag     | N                   \n",
      " wav_match_flag       | N                   \n",
      "only showing top 1 row\n",
      "\n"
     ]
    },
    {
     "name": "stderr",
     "output_type": "stream",
     "text": [
      "                                                                                \r"
     ]
    }
   ],
   "source": [
    "df = load_dataframe(spark, TLC_data_path, tlc_ext)\n",
    "print(\"- The schema of the TLC DataFrame - \\n\", df.schema)\n",
    "df.show(1, vertical=True)"
   ]
  },
  {
   "cell_type": "markdown",
   "id": "fc2b2f27-a968-4dc3-b4dc-e887dd8a75b9",
   "metadata": {},
   "source": [
    "# Data Cleaning\n",
    "- The application should remove invalid or null entries.\n",
    "- Filter out unrealistic values from the DataFrame."
   ]
  },
  {
   "cell_type": "code",
   "execution_count": 6,
   "id": "015f153f-835f-4c2d-94f4-cd4221615749",
   "metadata": {},
   "outputs": [],
   "source": [
    "df = df.na.drop('any').filter(df.driver_pay > 0).filter(df.base_passenger_fare > 0)"
   ]
  },
  {
   "cell_type": "markdown",
   "id": "702373f7-2d5d-449e-b76d-74e26910b335",
   "metadata": {},
   "source": [
    "# Data Transformations\n",
    "- Apply various transformations (filtering, aggregations, joins) to derive meaningful insights from the data.\n",
    "- Ensure the transformations are designed to create a clear and optimized DAG."
   ]
  },
  {
   "cell_type": "code",
   "execution_count": 7,
   "id": "7a8820c6-20a2-4928-852a-4136f9b8e198",
   "metadata": {},
   "outputs": [
    {
     "data": {
      "text/plain": [
       "DataFrame[pickup_date: string, base_passenger_fare: double, trip_miles: double]"
      ]
     },
     "execution_count": 7,
     "metadata": {},
     "output_type": "execute_result"
    }
   ],
   "source": [
    "df = df.withColumn(\"pickup_date\", date_format(df.pickup_datetime,'yyyy-MM-dd'))\n",
    "df = df.select(df.pickup_date, df.base_passenger_fare, df.trip_miles)\n",
    "df.cache()"
   ]
  },
  {
   "cell_type": "markdown",
   "id": "cd81de57-f8b4-4c67-8a90-f0813a8c4877",
   "metadata": {},
   "source": [
    "- Perform at least three different types of transformations on the DataFrame. Examples include:\n",
    "\n",
    "    - Filtering: Filter the trips based on certain criteria (e.g., trips with more than one passenger).\n",
    "\n",
    "    - Aggregations: Calculate the total number of trips, average trip distance, and total revenue generated for a specific time period.\n",
    "\n",
    "    - Joins: If using multiple datasets, join the trip data with another relevant dataset (e.g., weather data to analyze the impact of weather on trip durations)."
   ]
  },
  {
   "cell_type": "code",
   "execution_count": 8,
   "id": "18e44f1f-a33d-4a9d-9d7e-7617de286c29",
   "metadata": {},
   "outputs": [],
   "source": [
    "short_trip_df = df.filter(df.trip_miles < 10)"
   ]
  },
  {
   "cell_type": "code",
   "execution_count": 9,
   "id": "02e77fac-ef47-4997-9ac9-3b52af4f5ed3",
   "metadata": {},
   "outputs": [],
   "source": [
    "per_day_total_revenue_df = df.select(df.pickup_date, df.base_passenger_fare).groupBy(df.pickup_date).sum().orderBy(df.pickup_date)"
   ]
  },
  {
   "cell_type": "code",
   "execution_count": 10,
   "id": "5e4ab08f-801f-48a3-bb03-b97459796754",
   "metadata": {},
   "outputs": [],
   "source": [
    "per_day_avg_trip_miles_df = df.select(df.pickup_date, df.trip_miles).groupBy(df.pickup_date).mean().orderBy(df.pickup_date)"
   ]
  },
  {
   "cell_type": "markdown",
   "id": "9d2396e0-8fcc-47b4-8070-18f0c4dac5ae",
   "metadata": {},
   "source": [
    "# Data Actions\n",
    "- Execute actions to trigger the transformations and obtain results.\n",
    "- Save the results to a specified storage format."
   ]
  },
  {
   "cell_type": "code",
   "execution_count": null,
   "id": "48b7f433-230e-4438-bef2-e2ac4bf60443",
   "metadata": {},
   "outputs": [
    {
     "name": "stderr",
     "output_type": "stream",
     "text": [
      "[Stage 4:============================================>              (3 + 1) / 4]\r"
     ]
    }
   ],
   "source": [
    "# Execute actions\n",
    "print(short_trip_df.take(1))\n",
    "print(per_day_total_revenue_df.take(1))\n",
    "print(per_day_avg_trip_miles_df.take(1))"
   ]
  },
  {
   "cell_type": "code",
   "execution_count": null,
   "id": "c325726d-9f00-44bf-89f0-1be62c8167dd",
   "metadata": {},
   "outputs": [],
   "source": [
    "# Save results\n",
    "df.coalesce(1).write.csv(output_dir_path+\"df\")\n",
    "short_trip_df.coalesce(1).write.csv(output_dir_path+\"short_trip_df\")\n",
    "per_day_total_revenue_df.coalesce(1).write.csv(output_dir_path+\"per_day_total_revenue_df\")\n",
    "per_day_avg_trip_miles_df.coalesce(1).write.csv(output_dir_path+\"per_day_avg_trip_miles_df\")"
   ]
  }
 ],
 "metadata": {
  "kernelspec": {
   "display_name": "Python 3 (ipykernel)",
   "language": "python",
   "name": "python3"
  },
  "language_info": {
   "codemirror_mode": {
    "name": "ipython",
    "version": 3
   },
   "file_extension": ".py",
   "mimetype": "text/x-python",
   "name": "python",
   "nbconvert_exporter": "python",
   "pygments_lexer": "ipython3",
   "version": "3.10.12"
  }
 },
 "nbformat": 4,
 "nbformat_minor": 5
}
