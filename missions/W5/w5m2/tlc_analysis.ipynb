{
 "cells": [
  {
   "cell_type": "code",
   "execution_count": 21,
   "metadata": {},
   "outputs": [],
   "source": [
    "from pyspark.sql.functions import col, sum, mean, round, unix_timestamp, date_format, to_timestamp, hour, when, avg\n",
    "from pyspark.sql import SparkSession\n",
    "from datetime import datetime\n",
    "import pandas as pd\n",
    "import numpy as np"
   ]
  },
  {
   "cell_type": "code",
   "execution_count": 22,
   "metadata": {},
   "outputs": [],
   "source": [
    "spark = (\n",
    "    SparkSession.builder.appName(\"TLC_Analysis\")\n",
    "    .master(\"local[*]\")\n",
    "    .config(\"spark.driver.host\", \"localhost\")\n",
    "    .config(\"spark.driver.port\", \"7077\")\n",
    "    .config(\"spark.ui.port\", \"4050\")\n",
    "    .config(\"spark.driver.memory\", \"4g\")\n",
    "    .config(\"spark.executor.memory\", \"4g\")\n",
    "    .getOrCreate()\n",
    ")"
   ]
  },
  {
   "cell_type": "code",
   "execution_count": 23,
   "metadata": {},
   "outputs": [],
   "source": [
    "def read_data(file_name, date):\n",
    "    file_path = f\"your file path\"  \n",
    "    print(f\"Attempting to read from: {file_path}\")\n",
    "\n",
    "    try:\n",
    "        read_df = spark.read.parquet(file_path)\n",
    "        return read_df\n",
    "    except Exception:\n",
    "        print(f\"File not found: {file_path}\")\n",
    "        return None"
   ]
  },
  {
   "cell_type": "code",
   "execution_count": 24,
   "metadata": {},
   "outputs": [
    {
     "name": "stdout",
     "output_type": "stream",
     "text": [
      ">>>>> yellow 2021-01\n",
      "Attempting to read from: /Users/munsoyun/Desktop/Docker/W5M2/parquet_files/yellow_tripdata_2021-01.parquet\n",
      ">>>>> yellow 2021-02\n",
      "Attempting to read from: /Users/munsoyun/Desktop/Docker/W5M2/parquet_files/yellow_tripdata_2021-02.parquet\n",
      ">>>>> yellow 2021-03\n",
      "Attempting to read from: /Users/munsoyun/Desktop/Docker/W5M2/parquet_files/yellow_tripdata_2021-03.parquet\n"
     ]
    }
   ],
   "source": [
    "categories = [\"yellow\"]\n",
    "\n",
    "months = (\n",
    "    pd.date_range(start=\"2021-01-01\", end=\"2021-03-01\", freq=\"MS\")\n",
    "    .strftime(\"%Y-%m\")\n",
    "    .tolist()\n",
    ")\n",
    "\n",
    "df = None\n",
    "for category in categories:\n",
    "    for month in months:\n",
    "        print(\">>>>>\", category, month)\n",
    "        read_df = read_data(category, month)\n",
    "        if read_df is not None:\n",
    "            if df is None:\n",
    "                df = read_df\n",
    "            else:\n",
    "                df = df.union(read_df)\n",
    "df = df.select(\n",
    "    \"tpep_pickup_datetime\",\n",
    "    \"tpep_dropoff_datetime\",\n",
    "    \"passenger_count\",\n",
    "    \"trip_distance\",\n",
    "    \"total_amount\",\n",
    "    \"congestion_surcharge\",\n",
    "    \"airport_fee\",\n",
    ")"
   ]
  },
  {
   "cell_type": "code",
   "execution_count": 25,
   "metadata": {},
   "outputs": [
    {
     "name": "stdout",
     "output_type": "stream",
     "text": [
      "root\n",
      " |-- tpep_pickup_datetime: timestamp_ntz (nullable = true)\n",
      " |-- tpep_dropoff_datetime: timestamp_ntz (nullable = true)\n",
      " |-- passenger_count: double (nullable = true)\n",
      " |-- trip_distance: double (nullable = true)\n",
      " |-- total_amount: double (nullable = true)\n",
      " |-- congestion_surcharge: double (nullable = true)\n",
      " |-- airport_fee: double (nullable = true)\n",
      "\n"
     ]
    }
   ],
   "source": [
    "df.printSchema()"
   ]
  },
  {
   "cell_type": "code",
   "execution_count": 26,
   "metadata": {},
   "outputs": [],
   "source": [
    "weather = spark.read.csv(\"your file path\", header=True)\n",
    "weather = weather.select(\"time\", \"temperature_2m (°C)\", \"rain (mm)\")\n",
    "weather = weather.withColumn(\"weather_hour\", date_format(to_timestamp(\"time\"), \"yyyy-MM-dd HH:00:00\"))"
   ]
  },
  {
   "cell_type": "code",
   "execution_count": 27,
   "metadata": {},
   "outputs": [],
   "source": [
    "df = df.dropna()\n",
    "\n",
    "start_date = \"2021-01-01\"\n",
    "end_date = \"2021-03-31\"\n",
    "\n",
    "filterd_df = df.filter(\n",
    "    (col(\"passenger_count\") >= 0)\n",
    "    & (col(\"total_amount\") >= 0)\n",
    "    & (col(\"congestion_surcharge\") >= 0)\n",
    "    & (col(\"airport_fee\") >= 0)\n",
    "    & (col(\"tpep_pickup_datetime\") >= start_date)\n",
    "    & (col(\"tpep_pickup_datetime\") <= end_date)\n",
    "    & (col(\"tpep_dropoff_datetime\") >= start_date)\n",
    "    & (col(\"tpep_dropoff_datetime\") <= end_date)\n",
    ")\n",
    "\n",
    "filterd_df = filterd_df.withColumn(\n",
    "    \"total_fee\",\n",
    "    (col(\"total_amount\") + col(\"congestion_surcharge\") + col(\"airport_fee\")),\n",
    ")\n",
    "\n",
    "filterd_df = filterd_df.withColumn(\n",
    "        \"trip_duration\",\n",
    "        (unix_timestamp(\"tpep_dropoff_datetime\") - unix_timestamp(\"tpep_pickup_datetime\")) / 60,\n",
    "    )\n",
    "filterd_df = filterd_df.withColumn(\"total_fee\", col(\"total_fee\").cast(\"double\"))\n",
    "filterd_df = filterd_df.filter(col(\"total_fee\").isNotNull())\n",
    "filterd_df = filterd_df.select(\n",
    "    \"tpep_pickup_datetime\", \"trip_duration\", \"passenger_count\", \"total_fee\"\n",
    ")"
   ]
  },
  {
   "cell_type": "code",
   "execution_count": 28,
   "metadata": {},
   "outputs": [
    {
     "name": "stdout",
     "output_type": "stream",
     "text": [
      "root\n",
      " |-- tpep_pickup_datetime: timestamp_ntz (nullable = true)\n",
      " |-- trip_duration: double (nullable = true)\n",
      " |-- passenger_count: double (nullable = true)\n",
      " |-- total_fee: double (nullable = true)\n",
      "\n"
     ]
    },
    {
     "data": {
      "text/plain": [
       "DataFrame[tpep_pickup_datetime: timestamp_ntz, trip_duration: double, passenger_count: double, total_fee: double]"
      ]
     },
     "execution_count": 28,
     "metadata": {},
     "output_type": "execute_result"
    }
   ],
   "source": [
    "filterd_df.printSchema()\n",
    "filterd_df.cache()"
   ]
  },
  {
   "cell_type": "code",
   "execution_count": 29,
   "metadata": {},
   "outputs": [
    {
     "name": "stderr",
     "output_type": "stream",
     "text": [
      "                                                                                \r"
     ]
    },
    {
     "name": "stdout",
     "output_type": "stream",
     "text": [
      "+--------------------+-------------------+---------------+---------+\n",
      "|tpep_pickup_datetime|      trip_duration|passenger_count|total_fee|\n",
      "+--------------------+-------------------+---------------+---------+\n",
      "| 2021-01-05 18:55:22|  9.583333333333334|            2.0|    25.65|\n",
      "| 2021-01-05 19:58:59|  5.983333333333333|            1.0|     13.8|\n",
      "| 2021-01-05 20:12:38|              10.25|            1.0|    17.85|\n",
      "| 2021-01-05 20:26:52| 24.583333333333332|            1.0|    42.35|\n",
      "| 2021-01-12 18:34:41| 2.6166666666666667|            1.0|      6.3|\n",
      "| 2021-02-21 05:36:21|  57.93333333333333|            3.0|     60.8|\n",
      "| 2021-03-09 16:30:06|                0.1|            1.0|      3.3|\n",
      "| 2021-03-13 15:16:15| 10.533333333333333|            1.0|      9.3|\n",
      "| 2021-03-20 13:47:19| 12.466666666666667|            1.0|     14.8|\n",
      "| 2021-03-20 14:14:30| 16.766666666666666|            2.0|     22.3|\n",
      "| 2021-03-20 15:01:29|              13.45|            2.0|     21.6|\n",
      "| 2021-03-20 15:32:42|              17.95|            1.0|     18.3|\n",
      "| 2021-03-20 16:16:08|  4.666666666666667|            1.0|     11.8|\n",
      "| 2021-03-20 16:51:23|               13.4|            1.0|    19.75|\n",
      "| 2021-03-20 17:07:44|              12.35|            1.0|    19.75|\n",
      "| 2021-03-22 22:26:25|              22.25|            0.0|     18.3|\n",
      "| 2021-03-22 23:58:45|               4.25|            1.0|      5.8|\n",
      "| 2021-03-23 00:35:42| 21.466666666666665|            1.0|    45.57|\n",
      "| 2021-03-23 03:47:15| 21.616666666666667|            1.0|     21.3|\n",
      "| 2021-03-26 14:56:13|0.23333333333333334|            1.0|      3.3|\n",
      "+--------------------+-------------------+---------------+---------+\n",
      "only showing top 20 rows\n",
      "\n"
     ]
    }
   ],
   "source": [
    "filterd_df.show()"
   ]
  },
  {
   "cell_type": "code",
   "execution_count": 30,
   "metadata": {},
   "outputs": [
    {
     "name": "stdout",
     "output_type": "stream",
     "text": [
      "All passenger count: 115571\n",
      "Over two passenger count: 25135\n"
     ]
    }
   ],
   "source": [
    "all_passenger_count = filterd_df.count()\n",
    "over_two_passenger_count = filterd_df.filter(col(\"passenger_count\") >= 2).count()\n",
    "\n",
    "print(f\"All passenger count: {all_passenger_count}\")\n",
    "print(f\"Over two passenger count: {over_two_passenger_count}\")"
   ]
  },
  {
   "cell_type": "code",
   "execution_count": 31,
   "metadata": {},
   "outputs": [
    {
     "name": "stdout",
     "output_type": "stream",
     "text": [
      "Total Revenue: 2247081.3100010254\n"
     ]
    }
   ],
   "source": [
    "total_revenue = filterd_df.agg(sum(\"total_fee\")).collect()[0][0]\n",
    "print(f\"Total Revenue: {total_revenue}\")"
   ]
  },
  {
   "cell_type": "code",
   "execution_count": 32,
   "metadata": {},
   "outputs": [
    {
     "name": "stdout",
     "output_type": "stream",
     "text": [
      "Mean Trip Duration: 12.663630726277693\n"
     ]
    }
   ],
   "source": [
    "mean_trip_duration = filterd_df.agg(mean(\"trip_duration\")).collect()[0][0]\n",
    "print(f\"Mean Trip Duration: {mean_trip_duration}\")"
   ]
  },
  {
   "cell_type": "code",
   "execution_count": 33,
   "metadata": {},
   "outputs": [
    {
     "data": {
      "text/plain": [
       "DataFrame[pickup_hour: string, mean_hourly_fee: double, mean_trip_duration: double, mean_passenger_count: double, temperature_2m (°C): string, rain (mm): string]"
      ]
     },
     "execution_count": 33,
     "metadata": {},
     "output_type": "execute_result"
    }
   ],
   "source": [
    "taxi_df = filterd_df.withColumn(\"pickup_hour\", date_format(to_timestamp(\"tpep_pickup_datetime\"), \"yyyy-MM-dd HH:00:00\"))\n",
    "\n",
    "hourly_taxi_df = taxi_df.groupBy(\"pickup_hour\").agg(\n",
    "    round(mean(\"total_fee\"), 3).alias(\"mean_hourly_fee\"),\n",
    "    round(mean(\"trip_duration\"), 2).alias(\"mean_trip_duration\"),\n",
    "    round(mean(\"passenger_count\"), 2).alias(\"mean_passenger_count\")\n",
    ")\n",
    "final_df = hourly_taxi_df.join(weather, hourly_taxi_df.pickup_hour == weather.weather_hour).drop(\"time\", \"weather_hour\")\n",
    "final_df = final_df.orderBy(\"pickup_hour\")\n",
    "final_df.cache()"
   ]
  },
  {
   "cell_type": "code",
   "execution_count": 34,
   "metadata": {},
   "outputs": [
    {
     "name": "stderr",
     "output_type": "stream",
     "text": [
      "                                                                                \r"
     ]
    },
    {
     "name": "stdout",
     "output_type": "stream",
     "text": [
      "+-------------------+---------------+------------------+--------------------+-------------------+---------+\n",
      "|        pickup_hour|mean_hourly_fee|mean_trip_duration|mean_passenger_count|temperature_2m (°C)|rain (mm)|\n",
      "+-------------------+---------------+------------------+--------------------+-------------------+---------+\n",
      "|2021-01-05 18:00:00|          25.65|              9.58|                 2.0|                4.3|     0.00|\n",
      "|2021-01-05 19:00:00|           13.8|              5.98|                 1.0|                4.2|     0.00|\n",
      "|2021-01-05 20:00:00|           30.1|             17.42|                 1.0|                4.4|     0.00|\n",
      "|2021-01-12 18:00:00|            6.3|              2.62|                 1.0|                4.6|     0.00|\n",
      "|2021-02-21 05:00:00|           60.8|             57.93|                 3.0|               -3.7|     0.00|\n",
      "|2021-03-09 16:00:00|            3.3|               0.1|                 1.0|               14.3|     0.00|\n",
      "|2021-03-13 15:00:00|            9.3|             10.53|                 1.0|                4.0|     0.00|\n",
      "|2021-03-20 13:00:00|           14.8|             12.47|                 1.0|                1.3|     0.00|\n",
      "|2021-03-20 14:00:00|           22.3|             16.77|                 2.0|                3.0|     0.00|\n",
      "|2021-03-20 15:00:00|          19.95|              15.7|                 1.5|                5.7|     0.00|\n",
      "|2021-03-20 16:00:00|         15.775|              9.03|                 1.0|                6.9|     0.00|\n",
      "|2021-03-20 17:00:00|          19.75|             12.35|                 1.0|                8.1|     0.00|\n",
      "|2021-03-22 22:00:00|           18.3|             22.25|                 0.0|               10.7|     0.00|\n",
      "|2021-03-22 23:00:00|            5.8|              4.25|                 1.0|               10.2|     0.00|\n",
      "|2021-03-23 00:00:00|          45.57|             21.47|                 1.0|                9.3|     0.00|\n",
      "|2021-03-23 03:00:00|           21.3|             21.62|                 1.0|                7.3|     0.00|\n",
      "|2021-03-26 14:00:00|           13.0|              6.08|                 1.0|               16.8|     0.00|\n",
      "|2021-03-26 15:00:00|          22.62|             14.97|                0.83|               17.9|     0.00|\n",
      "|2021-03-26 16:00:00|          14.86|              7.07|                 1.2|               18.5|     0.00|\n",
      "|2021-03-26 17:00:00|          20.48|             15.59|                 1.4|               20.6|     0.00|\n",
      "+-------------------+---------------+------------------+--------------------+-------------------+---------+\n",
      "only showing top 20 rows\n",
      "\n"
     ]
    }
   ],
   "source": [
    "final_df.show()"
   ]
  },
  {
   "cell_type": "code",
   "execution_count": 35,
   "metadata": {},
   "outputs": [
    {
     "name": "stderr",
     "output_type": "stream",
     "text": [
      "[Stage 40:===================================================>  (109 + 6) / 115]\r"
     ]
    },
    {
     "name": "stdout",
     "output_type": "stream",
     "text": [
      "+-------------+----------------------+-------------------+\n",
      "|rain_category|avg_mean_trip_duration|avg_mean_hourly_fee|\n",
      "+-------------+----------------------+-------------------+\n",
      "|      No Rain|    13.624059405940598|  21.89006930693069|\n",
      "|  Little Rain|    11.825714285714286| 21.384642857142858|\n",
      "+-------------+----------------------+-------------------+\n",
      "\n"
     ]
    },
    {
     "name": "stderr",
     "output_type": "stream",
     "text": [
      "                                                                                \r"
     ]
    }
   ],
   "source": [
    "final_df = final_df.withColumn(\n",
    "    \"rain_category\",\n",
    "    when(col(\"rain (mm)\") == 0.00, \"No Rain\")\n",
    "    .when((col(\"rain (mm)\") > 0.00) & (col(\"rain (mm)\") <= 5.00), \"Little Rain\")\n",
    "    .otherwise(\"Heavy Rain\"),\n",
    ")\n",
    "\n",
    "result1_df = final_df.groupBy(\"rain_category\").agg(\n",
    "    avg(\"mean_trip_duration\").alias(\"avg_mean_trip_duration\"),\n",
    "    avg(\"mean_hourly_fee\").alias(\"avg_mean_hourly_fee\"),\n",
    ")\n",
    "\n",
    "result1_df.show()"
   ]
  },
  {
   "cell_type": "code",
   "execution_count": 36,
   "metadata": {},
   "outputs": [
    {
     "name": "stderr",
     "output_type": "stream",
     "text": [
      "[Stage 47:===============================================>     (102 + 10) / 115]\r"
     ]
    },
    {
     "name": "stdout",
     "output_type": "stream",
     "text": [
      "+--------------------+----------------------+-------------------+\n",
      "|temperature_category|avg_mean_trip_duration|avg_mean_hourly_fee|\n",
      "+--------------------+----------------------+-------------------+\n",
      "|             Not Hot|    13.394385964912283|  21.84852631578948|\n",
      "|            Moderate|                 14.63|              19.55|\n",
      "+--------------------+----------------------+-------------------+\n",
      "\n"
     ]
    },
    {
     "name": "stderr",
     "output_type": "stream",
     "text": [
      "                                                                                \r"
     ]
    }
   ],
   "source": [
    "final_df = final_df.withColumn(\n",
    "    \"temperature_category\",\n",
    "    when(col(\"temperature_2m (°C)\") <= 24.1, \"Not Hot\")\n",
    "    .when(\n",
    "        (col(\"temperature_2m (°C)\") > 24.1) & (col(\"temperature_2m (°C)\") <= 28.4),\n",
    "        \"Moderate\",\n",
    "    )\n",
    "    .otherwise(\"Hot\"),\n",
    ")\n",
    "\n",
    "result2_df = final_df.groupBy(\"temperature_category\").agg(\n",
    "    avg(\"mean_trip_duration\").alias(\"avg_mean_trip_duration\"),\n",
    "    avg(\"mean_hourly_fee\").alias(\"avg_mean_hourly_fee\"),\n",
    ")\n",
    "\n",
    "result2_df.show()"
   ]
  },
  {
   "cell_type": "code",
   "execution_count": 37,
   "metadata": {},
   "outputs": [],
   "source": [
    "spark.stop()"
   ]
  }
 ],
 "metadata": {
  "kernelspec": {
   "display_name": "Python 3.11.2 64-bit",
   "language": "python",
   "name": "python3"
  },
  "language_info": {
   "codemirror_mode": {
    "name": "ipython",
    "version": 3
   },
   "file_extension": ".py",
   "mimetype": "text/x-python",
   "name": "python",
   "nbconvert_exporter": "python",
   "pygments_lexer": "ipython3",
   "version": "3.11.2"
  },
  "orig_nbformat": 4,
  "vscode": {
   "interpreter": {
    "hash": "aee8b7b246df8f9039afb4144a1f6fd8d2ca17a180786b69acc140d282b71a49"
   }
  }
 },
 "nbformat": 4,
 "nbformat_minor": 2
}
