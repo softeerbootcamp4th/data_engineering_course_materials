{
 "cells": [
  {
   "cell_type": "code",
   "execution_count": 1,
   "id": "a53d959c-1243-4cf1-8fb0-5b4fb846e6e4",
   "metadata": {},
   "outputs": [],
   "source": [
    "import numpy as np\n",
    "import pyarrow\n",
    "import pyarrow.parquet as pq\n",
    "import pandas as pd\n",
    "import matplotlib.pyplot as plt\n",
    "import seaborn as sns\n",
    "import os\n",
    "\n",
    "from pyspark.sql import SparkSession"
   ]
  },
  {
   "cell_type": "code",
   "execution_count": 2,
   "id": "7aa41804-8aa5-47e3-b307-d65e532da932",
   "metadata": {},
   "outputs": [
    {
     "name": "stderr",
     "output_type": "stream",
     "text": [
      "Setting default log level to \"WARN\".\n",
      "To adjust logging level use sc.setLogLevel(newLevel). For SparkR, use setLogLevel(newLevel).\n",
      "24/09/11 14:00:04 WARN NativeCodeLoader: Unable to load native-hadoop library for your platform... using builtin-java classes where applicable\n",
      "                                                                                \r"
     ]
    }
   ],
   "source": [
    "# Spark 세션 생성\n",
    "spark = SparkSession.builder \\\n",
    "    .appName(\"HDFS Parquet Data Analysis\") \\\n",
    "    .getOrCreate()\n",
    "\n",
    "# HDFS에 있는 Parquet 파일의 경로\n",
    "hdfs_path = \"hdfs://hadoop-master:9000/user/root/data/yellow_tripdata_2024-01.parquet\"\n",
    "\n",
    "# HDFS에서 Parquet 파일을 읽어 Spark DataFrame으로 로드\n",
    "df = spark.read.parquet(hdfs_path)\n",
    "\n",
    "# DataFrame을 RDD로 변환\n",
    "rdd = df.rdd"
   ]
  },
  {
   "cell_type": "code",
   "execution_count": 3,
   "id": "e9e546ba-376a-4c77-95bf-400328d5e5b7",
   "metadata": {},
   "outputs": [
    {
     "name": "stderr",
     "output_type": "stream",
     "text": [
      "                                                                                \r"
     ]
    },
    {
     "data": {
      "text/plain": [
       "[Row(VendorID=2, tpep_pickup_datetime=datetime.datetime(2024, 1, 1, 0, 57, 55), tpep_dropoff_datetime=datetime.datetime(2024, 1, 1, 1, 17, 43), passenger_count=1, trip_distance=1.72, RatecodeID=1, store_and_fwd_flag='N', PULocationID=186, DOLocationID=79, payment_type=2, fare_amount=17.7, extra=1.0, mta_tax=0.5, tip_amount=0.0, tolls_amount=0.0, improvement_surcharge=1.0, total_amount=22.7, congestion_surcharge=2.5, Airport_fee=0.0)]"
      ]
     },
     "execution_count": 3,
     "metadata": {},
     "output_type": "execute_result"
    }
   ],
   "source": [
    "rdd.take(1)"
   ]
  },
  {
   "cell_type": "code",
   "execution_count": 4,
   "id": "744b75cc-0f4a-47ca-9604-219ba4f6c4ef",
   "metadata": {},
   "outputs": [],
   "source": [
    "vendors = [1, 2]\n",
    "ratecodes = [1,2,3,4,5,6]\n",
    "payments = [1, 2, 3, 4, 5, 6]\n",
    "\n",
    "# 잘못된 데이터(행) 제거\n",
    "def cleaning(row):\n",
    "    # 각 필드에 대해 결측값을 처리\n",
    "    if row['VendorID'] not in vendors: return False\n",
    "    if row['passenger_count'] < 1: return False\n",
    "    if row['trip_distance'] <= 0: return False\n",
    "    if row['RatecodeID'] not in ratecodes: return False\n",
    "    if row['payment_type'] not in payments: return False\n",
    "    if row['fare_amount'] <= 0: return False\n",
    "    if row['extra'] < 0: return False\n",
    "    if row['mta_tax'] < 0: return False\n",
    "    if row['tip_amount'] < 0: return False\n",
    "    if row['tolls_amount'] < 0: return False\n",
    "    if row['improvement_surcharge'] < 0: return False\n",
    "    if row['total_amount'] <= 0: return False\n",
    "    if row['congestion_surcharge'] <= 0: return False\n",
    "    if row['Airport_fee'] < 0: return False\n",
    "    return True"
   ]
  },
  {
   "cell_type": "code",
   "execution_count": 5,
   "id": "cfcc6b62-bfce-4afd-9b15-5dd6e1a3c659",
   "metadata": {},
   "outputs": [],
   "source": [
    "def remove_none_value(row):\n",
    "    for val in row:\n",
    "        if val is None:\n",
    "            return\n",
    "    return row"
   ]
  },
  {
   "cell_type": "code",
   "execution_count": 6,
   "id": "ec9f6a12-064e-4c79-9db5-cd418deab6e7",
   "metadata": {},
   "outputs": [
    {
     "name": "stderr",
     "output_type": "stream",
     "text": [
      "                                                                                \r"
     ]
    },
    {
     "name": "stdout",
     "output_type": "stream",
     "text": [
      "2964624\n"
     ]
    },
    {
     "name": "stderr",
     "output_type": "stream",
     "text": [
      "[Stage 4:============================================>              (6 + 2) / 8]\r"
     ]
    },
    {
     "name": "stdout",
     "output_type": "stream",
     "text": [
      "2824462\n"
     ]
    },
    {
     "name": "stderr",
     "output_type": "stream",
     "text": [
      "                                                                                \r"
     ]
    }
   ],
   "source": [
    "# None 거르기, 각 컬럼별 특이값 필터링\n",
    "print(rdd.count())\n",
    "filtered_1 = rdd.filter(lambda x: remove_none_value(x))\n",
    "print(filtered_1.count())"
   ]
  },
  {
   "cell_type": "code",
   "execution_count": 7,
   "id": "211d248a-7154-4486-a3eb-8f73e4425158",
   "metadata": {},
   "outputs": [],
   "source": [
    "filtered_2 = filtered_1.filter(cleaning)"
   ]
  },
  {
   "cell_type": "code",
   "execution_count": 8,
   "id": "15549334-eb5f-4e2e-87a9-78764a132b84",
   "metadata": {},
   "outputs": [
    {
     "data": {
      "text/plain": [
       "[Row(VendorID=2, tpep_pickup_datetime=datetime.datetime(2024, 1, 1, 0, 57, 55), tpep_dropoff_datetime=datetime.datetime(2024, 1, 1, 1, 17, 43), passenger_count=1, trip_distance=1.72, RatecodeID=1, store_and_fwd_flag='N', PULocationID=186, DOLocationID=79, payment_type=2, fare_amount=17.7, extra=1.0, mta_tax=0.5, tip_amount=0.0, tolls_amount=0.0, improvement_surcharge=1.0, total_amount=22.7, congestion_surcharge=2.5, Airport_fee=0.0),\n",
       " Row(VendorID=1, tpep_pickup_datetime=datetime.datetime(2024, 1, 1, 0, 3), tpep_dropoff_datetime=datetime.datetime(2024, 1, 1, 0, 9, 36), passenger_count=1, trip_distance=1.8, RatecodeID=1, store_and_fwd_flag='N', PULocationID=140, DOLocationID=236, payment_type=1, fare_amount=10.0, extra=3.5, mta_tax=0.5, tip_amount=3.75, tolls_amount=0.0, improvement_surcharge=1.0, total_amount=18.75, congestion_surcharge=2.5, Airport_fee=0.0),\n",
       " Row(VendorID=1, tpep_pickup_datetime=datetime.datetime(2024, 1, 1, 0, 17, 6), tpep_dropoff_datetime=datetime.datetime(2024, 1, 1, 0, 35, 1), passenger_count=1, trip_distance=4.7, RatecodeID=1, store_and_fwd_flag='N', PULocationID=236, DOLocationID=79, payment_type=1, fare_amount=23.3, extra=3.5, mta_tax=0.5, tip_amount=3.0, tolls_amount=0.0, improvement_surcharge=1.0, total_amount=31.3, congestion_surcharge=2.5, Airport_fee=0.0),\n",
       " Row(VendorID=1, tpep_pickup_datetime=datetime.datetime(2024, 1, 1, 0, 36, 38), tpep_dropoff_datetime=datetime.datetime(2024, 1, 1, 0, 44, 56), passenger_count=1, trip_distance=1.4, RatecodeID=1, store_and_fwd_flag='N', PULocationID=79, DOLocationID=211, payment_type=1, fare_amount=10.0, extra=3.5, mta_tax=0.5, tip_amount=2.0, tolls_amount=0.0, improvement_surcharge=1.0, total_amount=17.0, congestion_surcharge=2.5, Airport_fee=0.0),\n",
       " Row(VendorID=1, tpep_pickup_datetime=datetime.datetime(2024, 1, 1, 0, 46, 51), tpep_dropoff_datetime=datetime.datetime(2024, 1, 1, 0, 52, 57), passenger_count=1, trip_distance=0.8, RatecodeID=1, store_and_fwd_flag='N', PULocationID=211, DOLocationID=148, payment_type=1, fare_amount=7.9, extra=3.5, mta_tax=0.5, tip_amount=3.2, tolls_amount=0.0, improvement_surcharge=1.0, total_amount=16.1, congestion_surcharge=2.5, Airport_fee=0.0)]"
      ]
     },
     "execution_count": 8,
     "metadata": {},
     "output_type": "execute_result"
    }
   ],
   "source": [
    "filtered_2.take(5)"
   ]
  },
  {
   "cell_type": "code",
   "execution_count": 9,
   "id": "43f9b9c4-a378-4cdc-beaa-167fafca8279",
   "metadata": {},
   "outputs": [
    {
     "name": "stderr",
     "output_type": "stream",
     "text": [
      "[Stage 8:============================================>              (6 + 2) / 8]\r"
     ]
    },
    {
     "name": "stdout",
     "output_type": "stream",
     "text": [
      "1.3573798238471222\n",
      "2.8602963300102937\n"
     ]
    },
    {
     "name": "stderr",
     "output_type": "stream",
     "text": [
      "                                                                                \r"
     ]
    }
   ],
   "source": [
    "# 평균값 계산 (미리 계산해둠)\n",
    "avg_passenger_count = filtered_2.map(lambda row: row['passenger_count']).filter(lambda x: x is not None).mean()\n",
    "avg_trip_distance = filtered_2.map(lambda row: row['trip_distance']).filter(lambda x: x is not None).mean()\n",
    "\n",
    "print(avg_passenger_count)\n",
    "print(avg_trip_distance)"
   ]
  },
  {
   "cell_type": "code",
   "execution_count": 10,
   "id": "2ed40ab6-dfae-40cb-8c04-f18c5420c138",
   "metadata": {},
   "outputs": [],
   "source": [
    "# 날짜 유효성 검사 (픽업 시간이 드롭오프 시간보다 이전인지 확인)\n",
    "rdd = filtered_2.filter(lambda row: row[2] > row[1])"
   ]
  },
  {
   "cell_type": "code",
   "execution_count": 11,
   "id": "f5c1a938-4333-4922-ade4-e88b0da0d2df",
   "metadata": {},
   "outputs": [],
   "source": [
    "# 평균 여행 시간 계산\n",
    "rdd = rdd.map(lambda row: row + (row[2].timestamp() - row[1].timestamp(),))"
   ]
  },
  {
   "cell_type": "code",
   "execution_count": 12,
   "id": "d85002a2-10c2-4ba3-8745-11255cdd6e0a",
   "metadata": {},
   "outputs": [
    {
     "data": {
      "text/plain": [
       "[(2,\n",
       "  datetime.datetime(2024, 1, 1, 0, 57, 55),\n",
       "  datetime.datetime(2024, 1, 1, 1, 17, 43),\n",
       "  1,\n",
       "  1.72,\n",
       "  1,\n",
       "  'N',\n",
       "  186,\n",
       "  79,\n",
       "  2,\n",
       "  17.7,\n",
       "  1.0,\n",
       "  0.5,\n",
       "  0.0,\n",
       "  0.0,\n",
       "  1.0,\n",
       "  22.7,\n",
       "  2.5,\n",
       "  0.0,\n",
       "  1188.0)]"
      ]
     },
     "execution_count": 12,
     "metadata": {},
     "output_type": "execute_result"
    }
   ],
   "source": [
    "rdd.take(1)"
   ]
  },
  {
   "cell_type": "code",
   "execution_count": 13,
   "id": "33ad73fb-424d-471a-a2a9-a2f51229de25",
   "metadata": {},
   "outputs": [
    {
     "name": "stderr",
     "output_type": "stream",
     "text": [
      "[Stage 11:===========================================>              (6 + 2) / 8]\r"
     ]
    },
    {
     "name": "stdout",
     "output_type": "stream",
     "text": [
      "Mean Travel Time: 893.8940713239328 seconds\n"
     ]
    },
    {
     "name": "stderr",
     "output_type": "stream",
     "text": [
      "                                                                                \r"
     ]
    }
   ],
   "source": [
    "\n",
    "# 평균 계산\n",
    "mean_travel_time = rdd.map(lambda row: row[19]).mean()\n",
    "print(f\"Mean Travel Time: {mean_travel_time} seconds\")"
   ]
  },
  {
   "cell_type": "code",
   "execution_count": 14,
   "id": "26520f4e-8d1c-4ae2-8b4a-892172df5fe7",
   "metadata": {},
   "outputs": [
    {
     "name": "stderr",
     "output_type": "stream",
     "text": [
      "[Stage 12:==================================================>       (7 + 1) / 8]\r"
     ]
    },
    {
     "name": "stdout",
     "output_type": "stream",
     "text": [
      "Mean Trip Distance: 2.860290679321089 miles\n"
     ]
    },
    {
     "name": "stderr",
     "output_type": "stream",
     "text": [
      "                                                                                \r"
     ]
    }
   ],
   "source": [
    "\n",
    "# 평균 여행 거리 계산\n",
    "mean_trip_distance = rdd.map(lambda row: row[4]).mean()\n",
    "print(f\"Mean Trip Distance: {mean_trip_distance} miles\")"
   ]
  },
  {
   "cell_type": "code",
   "execution_count": 15,
   "id": "2c91ad6e-e461-4db2-836d-4d872be52c9b",
   "metadata": {},
   "outputs": [],
   "source": [
    "\n",
    "# 시간별 여행 수 계산\n",
    "def extract_hour(row):\n",
    "    hour = row[1].hour\n",
    "    return (hour, 1)\n",
    "\n",
    "hourly_trips_rdd = rdd.map(extract_hour).reduceByKey(lambda a, b: a + b)\n"
   ]
  },
  {
   "cell_type": "code",
   "execution_count": 16,
   "id": "4feac8e2-c0cc-44be-ac46-d2a3f0970f40",
   "metadata": {},
   "outputs": [
    {
     "name": "stderr",
     "output_type": "stream",
     "text": [
      "                                                                                \r"
     ]
    },
    {
     "data": {
      "text/plain": [
       "[(0, 62979), (8, 96749), (16, 165842), (17, 180149)]"
      ]
     },
     "execution_count": 16,
     "metadata": {},
     "output_type": "execute_result"
    }
   ],
   "source": [
    "hourly_trips_rdd.take(4)"
   ]
  },
  {
   "cell_type": "code",
   "execution_count": 17,
   "id": "a4bd7f94-89b6-45c2-8424-ea0d005f686c",
   "metadata": {},
   "outputs": [],
   "source": [
    "\n",
    "# 특정 일에 대한 시간 단위 여행 수\n",
    "specific_day = '2024-01-30'\n",
    "\n",
    "def filter_day(row):\n",
    "    return row[1].date() == pd.to_datetime(specific_day).date()\n",
    "\n",
    "filtered_rdd = rdd.filter(filter_day)\n",
    "hourly_trips_specific_day_rdd = filtered_rdd.map(extract_hour).reduceByKey(lambda a, b: a + b)\n"
   ]
  },
  {
   "cell_type": "code",
   "execution_count": 18,
   "id": "cd3cba01-9c94-4b3c-b1bb-1c57c57095b4",
   "metadata": {},
   "outputs": [
    {
     "name": "stderr",
     "output_type": "stream",
     "text": [
      "                                                                                \r"
     ]
    },
    {
     "data": {
      "text/plain": [
       "[(0, 1313)]"
      ]
     },
     "execution_count": 18,
     "metadata": {},
     "output_type": "execute_result"
    }
   ],
   "source": [
    "hourly_trips_specific_day_rdd.take(1)"
   ]
  },
  {
   "cell_type": "code",
   "execution_count": 19,
   "id": "9e4f11a5-bd70-40a1-b3e5-294e60ba0362",
   "metadata": {},
   "outputs": [
    {
     "data": {
      "image/png": "[encoded data removed]",
      "text/plain": [
       "<Figure size 1000x600 with 1 Axes>"
      ]
     },
     "metadata": {},
     "output_type": "display_data"
    }
   ],
   "source": [
    "\n",
    "# RDD 데이터를 Pandas DataFrame으로 변환하여 시각화\n",
    "hourly_trips_pandas = pd.DataFrame(hourly_trips_specific_day_rdd.collect(), columns=['hour', 'count'])\n",
    "\n",
    "plt.figure(figsize=(10, 6))\n",
    "plt.bar(hourly_trips_pandas['hour'], hourly_trips_pandas['count'])\n",
    "plt.title('Peak Time analysis')\n",
    "plt.xlabel('Hour')\n",
    "plt.ylabel('Frequency')\n",
    "plt.grid(True)\n",
    "plt.show()\n"
   ]
  },
  {
   "cell_type": "code",
   "execution_count": 20,
   "id": "b4934473-6a19-4c19-81bd-718089a04903",
   "metadata": {},
   "outputs": [
    {
     "ename": "AnalysisException",
     "evalue": "[PATH_ALREADY_EXISTS] Path hdfs://hadoop-master:9000/user/root/output/result_rdd.parquet already exists. Set mode as \"overwrite\" to overwrite the existing path.",
     "output_type": "error",
     "traceback": [
      "\u001b[0;31m---------------------------------------------------------------------------\u001b[0m",
      "\u001b[0;31mAnalysisException\u001b[0m                         Traceback (most recent call last)",
      "Cell \u001b[0;32mIn[20], line 3\u001b[0m\n\u001b[1;32m      1\u001b[0m \u001b[38;5;66;03m# Parquet 형식으로 HDFS에 저장\u001b[39;00m\n\u001b[1;32m      2\u001b[0m output_path \u001b[38;5;241m=\u001b[39m \u001b[38;5;124m'\u001b[39m\u001b[38;5;124mhdfs://hadoop-master:9000/user/root/output/result_rdd.parquet\u001b[39m\u001b[38;5;124m'\u001b[39m\n\u001b[0;32m----> 3\u001b[0m \u001b[43mrdd\u001b[49m\u001b[38;5;241;43m.\u001b[39;49m\u001b[43mtoDF\u001b[49m\u001b[43m(\u001b[49m\u001b[43m)\u001b[49m\u001b[38;5;241;43m.\u001b[39;49m\u001b[43mwrite\u001b[49m\u001b[38;5;241;43m.\u001b[39;49m\u001b[43mparquet\u001b[49m\u001b[43m(\u001b[49m\u001b[43moutput_path\u001b[49m\u001b[43m)\u001b[49m\n\u001b[1;32m      5\u001b[0m \u001b[38;5;28mprint\u001b[39m(\u001b[38;5;124mf\u001b[39m\u001b[38;5;124m'\u001b[39m\u001b[38;5;124mRDD-based Spark DataFrame successfully saved to HDFS at \u001b[39m\u001b[38;5;132;01m{\u001b[39;00moutput_path\u001b[38;5;132;01m}\u001b[39;00m\u001b[38;5;124m'\u001b[39m)\n",
      "File \u001b[0;32m/usr/local/lib/python3.10/dist-packages/pyspark/sql/readwriter.py:1721\u001b[0m, in \u001b[0;36mDataFrameWriter.parquet\u001b[0;34m(self, path, mode, partitionBy, compression)\u001b[0m\n\u001b[1;32m   1719\u001b[0m     \u001b[38;5;28mself\u001b[39m\u001b[38;5;241m.\u001b[39mpartitionBy(partitionBy)\n\u001b[1;32m   1720\u001b[0m \u001b[38;5;28mself\u001b[39m\u001b[38;5;241m.\u001b[39m_set_opts(compression\u001b[38;5;241m=\u001b[39mcompression)\n\u001b[0;32m-> 1721\u001b[0m \u001b[38;5;28;43mself\u001b[39;49m\u001b[38;5;241;43m.\u001b[39;49m\u001b[43m_jwrite\u001b[49m\u001b[38;5;241;43m.\u001b[39;49m\u001b[43mparquet\u001b[49m\u001b[43m(\u001b[49m\u001b[43mpath\u001b[49m\u001b[43m)\u001b[49m\n",
      "File \u001b[0;32m/usr/local/lib/python3.10/dist-packages/py4j/java_gateway.py:1322\u001b[0m, in \u001b[0;36mJavaMember.__call__\u001b[0;34m(self, *args)\u001b[0m\n\u001b[1;32m   1316\u001b[0m command \u001b[38;5;241m=\u001b[39m proto\u001b[38;5;241m.\u001b[39mCALL_COMMAND_NAME \u001b[38;5;241m+\u001b[39m\\\n\u001b[1;32m   1317\u001b[0m     \u001b[38;5;28mself\u001b[39m\u001b[38;5;241m.\u001b[39mcommand_header \u001b[38;5;241m+\u001b[39m\\\n\u001b[1;32m   1318\u001b[0m     args_command \u001b[38;5;241m+\u001b[39m\\\n\u001b[1;32m   1319\u001b[0m     proto\u001b[38;5;241m.\u001b[39mEND_COMMAND_PART\n\u001b[1;32m   1321\u001b[0m answer \u001b[38;5;241m=\u001b[39m \u001b[38;5;28mself\u001b[39m\u001b[38;5;241m.\u001b[39mgateway_client\u001b[38;5;241m.\u001b[39msend_command(command)\n\u001b[0;32m-> 1322\u001b[0m return_value \u001b[38;5;241m=\u001b[39m \u001b[43mget_return_value\u001b[49m\u001b[43m(\u001b[49m\n\u001b[1;32m   1323\u001b[0m \u001b[43m    \u001b[49m\u001b[43manswer\u001b[49m\u001b[43m,\u001b[49m\u001b[43m \u001b[49m\u001b[38;5;28;43mself\u001b[39;49m\u001b[38;5;241;43m.\u001b[39;49m\u001b[43mgateway_client\u001b[49m\u001b[43m,\u001b[49m\u001b[43m \u001b[49m\u001b[38;5;28;43mself\u001b[39;49m\u001b[38;5;241;43m.\u001b[39;49m\u001b[43mtarget_id\u001b[49m\u001b[43m,\u001b[49m\u001b[43m \u001b[49m\u001b[38;5;28;43mself\u001b[39;49m\u001b[38;5;241;43m.\u001b[39;49m\u001b[43mname\u001b[49m\u001b[43m)\u001b[49m\n\u001b[1;32m   1325\u001b[0m \u001b[38;5;28;01mfor\u001b[39;00m temp_arg \u001b[38;5;129;01min\u001b[39;00m temp_args:\n\u001b[1;32m   1326\u001b[0m     \u001b[38;5;28;01mif\u001b[39;00m \u001b[38;5;28mhasattr\u001b[39m(temp_arg, \u001b[38;5;124m\"\u001b[39m\u001b[38;5;124m_detach\u001b[39m\u001b[38;5;124m\"\u001b[39m):\n",
      "File \u001b[0;32m/usr/local/lib/python3.10/dist-packages/pyspark/errors/exceptions/captured.py:185\u001b[0m, in \u001b[0;36mcapture_sql_exception.<locals>.deco\u001b[0;34m(*a, **kw)\u001b[0m\n\u001b[1;32m    181\u001b[0m converted \u001b[38;5;241m=\u001b[39m convert_exception(e\u001b[38;5;241m.\u001b[39mjava_exception)\n\u001b[1;32m    182\u001b[0m \u001b[38;5;28;01mif\u001b[39;00m \u001b[38;5;129;01mnot\u001b[39;00m \u001b[38;5;28misinstance\u001b[39m(converted, UnknownException):\n\u001b[1;32m    183\u001b[0m     \u001b[38;5;66;03m# Hide where the exception came from that shows a non-Pythonic\u001b[39;00m\n\u001b[1;32m    184\u001b[0m     \u001b[38;5;66;03m# JVM exception message.\u001b[39;00m\n\u001b[0;32m--> 185\u001b[0m     \u001b[38;5;28;01mraise\u001b[39;00m converted \u001b[38;5;28;01mfrom\u001b[39;00m \u001b[38;5;28;01mNone\u001b[39;00m\n\u001b[1;32m    186\u001b[0m \u001b[38;5;28;01melse\u001b[39;00m:\n\u001b[1;32m    187\u001b[0m     \u001b[38;5;28;01mraise\u001b[39;00m\n",
      "\u001b[0;31mAnalysisException\u001b[0m: [PATH_ALREADY_EXISTS] Path hdfs://hadoop-master:9000/user/root/output/result_rdd.parquet already exists. Set mode as \"overwrite\" to overwrite the existing path."
     ]
    }
   ],
   "source": [
    "\n",
    "# Parquet 형식으로 HDFS에 저장\n",
    "output_path = 'hdfs://hadoop-master:9000/user/root/output/result_rdd.parquet'\n",
    "rdd.toDF().write.parquet(output_path)\n",
    "\n",
    "print(f'RDD-based Spark DataFrame successfully saved to HDFS at {output_path}')\n"
   ]
  },
  {
   "cell_type": "code",
   "execution_count": null,
   "id": "724da95d-7b4b-4506-9fea-af571fb44afc",
   "metadata": {},
   "outputs": [],
   "source": []
  },
  {
   "cell_type": "code",
   "execution_count": null,
   "id": "3f750879-f6cc-47cb-b8ca-632c028de280",
   "metadata": {},
   "outputs": [],
   "source": []
  },
  {
   "cell_type": "code",
   "execution_count": null,
   "id": "4ced09d9-da02-4871-a7bd-a27a79078be6",
   "metadata": {},
   "outputs": [],
   "source": []
  }
 ],
 "metadata": {
  "kernelspec": {
   "display_name": "Python 3 (ipykernel)",
   "language": "python",
   "name": "python3"
  },
  "language_info": {
   "codemirror_mode": {
    "name": "ipython",
    "version": 3
   },
   "file_extension": ".py",
   "mimetype": "text/x-python",
   "name": "python",
   "nbconvert_exporter": "python",
   "pygments_lexer": "ipython3",
   "version": "3.10.12"
  }
 },
 "nbformat": 4,
 "nbformat_minor": 5
}
