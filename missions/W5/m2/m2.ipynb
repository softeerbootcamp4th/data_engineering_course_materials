{
 "cells": [
  {
   "cell_type": "markdown",
   "metadata": {},
   "source": [
    "1. 필요한 라이브러리 및 SparkSession 초기화"
   ]
  },
  {
   "cell_type": "code",
   "execution_count": 1,
   "metadata": {},
   "outputs": [
    {
     "name": "stderr",
     "output_type": "stream",
     "text": [
      "24/08/26 07:35:48 WARN Utils: Your hostname, admins-MacBook-Pro-5.local resolves to a loopback address: 127.0.0.1; using 192.168.219.100 instead (on interface en0)\n",
      "24/08/26 07:35:48 WARN Utils: Set SPARK_LOCAL_IP if you need to bind to another address\n",
      "Setting default log level to \"WARN\".\n",
      "To adjust logging level use sc.setLogLevel(newLevel). For SparkR, use setLogLevel(newLevel).\n",
      "24/08/26 07:35:49 WARN NativeCodeLoader: Unable to load native-hadoop library for your platform... using builtin-java classes where applicable\n",
      "24/08/26 07:35:49 WARN Utils: Service 'SparkUI' could not bind on port 4040. Attempting port 4041.\n"
     ]
    }
   ],
   "source": [
    "from pyspark.sql import SparkSession\n",
    "from pyspark.sql.functions import col, avg, sum as _sum, count, to_date\n",
    "\n",
    "# Spark Session을 로컬 모드에서 초기화합니다.\n",
    "spark = SparkSession.builder \\\n",
    "    .appName(\"NYC_TLC_Data_Analysis\") \\\n",
    "    .master(\"local[*]\") \\\n",
    "    .getOrCreate()"
   ]
  },
  {
   "cell_type": "markdown",
   "metadata": {},
   "source": [
    "2. 데이터 로딩"
   ]
  },
  {
   "cell_type": "code",
   "execution_count": 2,
   "metadata": {},
   "outputs": [
    {
     "name": "stderr",
     "output_type": "stream",
     "text": [
      "                                                                                \r"
     ]
    },
    {
     "name": "stdout",
     "output_type": "stream",
     "text": [
      "root\n",
      " |-- VendorID: integer (nullable = true)\n",
      " |-- tpep_pickup_datetime: timestamp_ntz (nullable = true)\n",
      " |-- tpep_dropoff_datetime: timestamp_ntz (nullable = true)\n",
      " |-- passenger_count: long (nullable = true)\n",
      " |-- trip_distance: double (nullable = true)\n",
      " |-- RatecodeID: long (nullable = true)\n",
      " |-- store_and_fwd_flag: string (nullable = true)\n",
      " |-- PULocationID: integer (nullable = true)\n",
      " |-- DOLocationID: integer (nullable = true)\n",
      " |-- payment_type: long (nullable = true)\n",
      " |-- fare_amount: double (nullable = true)\n",
      " |-- extra: double (nullable = true)\n",
      " |-- mta_tax: double (nullable = true)\n",
      " |-- tip_amount: double (nullable = true)\n",
      " |-- tolls_amount: double (nullable = true)\n",
      " |-- improvement_surcharge: double (nullable = true)\n",
      " |-- total_amount: double (nullable = true)\n",
      " |-- congestion_surcharge: double (nullable = true)\n",
      " |-- Airport_fee: double (nullable = true)\n",
      "\n",
      "+--------+--------------------+---------------------+---------------+-------------+----------+------------------+------------+------------+------------+-----------+-----+-------+----------+------------+---------------------+------------+--------------------+-----------+\n",
      "|VendorID|tpep_pickup_datetime|tpep_dropoff_datetime|passenger_count|trip_distance|RatecodeID|store_and_fwd_flag|PULocationID|DOLocationID|payment_type|fare_amount|extra|mta_tax|tip_amount|tolls_amount|improvement_surcharge|total_amount|congestion_surcharge|Airport_fee|\n",
      "+--------+--------------------+---------------------+---------------+-------------+----------+------------------+------------+------------+------------+-----------+-----+-------+----------+------------+---------------------+------------+--------------------+-----------+\n",
      "|       1| 2024-05-01 00:59:15|  2024-05-01 01:23:50|              1|          6.1|         1|                 N|         138|         145|           1|       28.2| 7.75|    0.5|       5.0|         0.0|                  1.0|       42.45|                 0.0|       1.75|\n",
      "|       2| 2024-04-30 23:58:26|  2024-05-01 00:29:42|              1|        11.23|         1|                 N|         138|         249|           1|       46.4|  6.0|    0.5|      8.72|         0.0|                  1.0|       66.87|                 2.5|       1.75|\n",
      "|       2| 2024-05-01 00:57:17|  2024-05-01 01:14:15|              1|         9.02|         1|                 N|         138|         170|           1|       35.9|  6.0|    0.5|     10.57|        6.94|                  1.0|       65.16|                 2.5|       1.75|\n",
      "|       2| 2024-05-01 00:24:47|  2024-05-01 00:48:51|              1|         6.53|         1|                 N|          87|         133|           1|       30.3|  1.0|    0.5|      7.06|         0.0|                  1.0|       42.36|                 2.5|        0.0|\n",
      "|       2| 2024-05-01 00:11:20|  2024-05-01 00:52:10|              1|        14.38|         1|                 N|         161|         165|           1|       61.8|  1.0|    0.5|       0.0|         0.0|                  1.0|        66.8|                 2.5|        0.0|\n",
      "+--------+--------------------+---------------------+---------------+-------------+----------+------------------+------------+------------+------------+-----------+-----+-------+----------+------------+---------------------+------------+--------------------+-----------+\n",
      "only showing top 5 rows\n",
      "\n"
     ]
    }
   ],
   "source": [
    "# TLC 여행 기록 데이터를 DataFrame에 로드합니다.\n",
    "file_path = '/Users/admin/softeer/week5/yellow_tripdata_2024-05.parquet'\n",
    "df = spark.read.parquet(file_path)\n",
    "\n",
    "# 스키마를 확인하여 데이터가 올바르게 로드되었는지 확인합니다.\n",
    "df.printSchema()\n",
    "df.show(5)\n"
   ]
  },
  {
   "cell_type": "markdown",
   "metadata": {},
   "source": [
    "3. 데이터 클리닝"
   ]
  },
  {
   "cell_type": "code",
   "execution_count": 4,
   "metadata": {},
   "outputs": [],
   "source": [
    "numerical_columns = ['passenger_count', 'trip_distance', 'fare_amount', \n",
    "                     'extra', 'mta_tax', 'tip_amount', 'tolls_amount', \n",
    "                     'improvement_surcharge', 'total_amount', 'congestion_surcharge', \n",
    "                     'Airport_fee']\n",
    "minmax_columns = []\n",
    "\n",
    "for column_name in numerical_columns:\n",
    "    minmax_columns.append(min(column_name))\n",
    "    minmax_columns.append(max(column_name))\n"
   ]
  },
  {
   "cell_type": "code",
   "execution_count": 11,
   "metadata": {},
   "outputs": [
    {
     "name": "stderr",
     "output_type": "stream",
     "text": [
      "[Stage 3:========================================>                 (7 + 3) / 10]\r"
     ]
    },
    {
     "name": "stdout",
     "output_type": "stream",
     "text": [
      "+--------+--------------------+---------------------+---------------+-------------+----------+------------------+------------+------------+------------+-----------+-----+-------+----------+------------+---------------------+------------+--------------------+-----------+\n",
      "|VendorID|tpep_pickup_datetime|tpep_dropoff_datetime|passenger_count|trip_distance|RatecodeID|store_and_fwd_flag|PULocationID|DOLocationID|payment_type|fare_amount|extra|mta_tax|tip_amount|tolls_amount|improvement_surcharge|total_amount|congestion_surcharge|Airport_fee|\n",
      "+--------+--------------------+---------------------+---------------+-------------+----------+------------------+------------+------------+------------+-----------+-----+-------+----------+------------+---------------------+------------+--------------------+-----------+\n",
      "|       1| 2024-05-01 00:08:30|  2024-05-01 00:21:42|              2|          2.7|         1|                 N|         231|          68|           1|       15.6|  3.5|    0.5|       4.1|         0.0|                  1.0|        24.7|                 2.5|        0.0|\n",
      "|       2| 2024-05-01 00:10:15|  2024-05-01 00:51:21|              2|        19.36|         1|                 N|         132|          89|           1|       76.5|  1.0|    0.5|       6.0|         0.0|                  1.0|       86.75|                 0.0|       1.75|\n",
      "|       2| 2024-05-01 00:15:35|  2024-05-01 00:24:39|              2|         1.72|         1|                 N|         151|          42|           1|       11.4|  1.0|    0.5|      2.78|         0.0|                  1.0|       16.68|                 0.0|        0.0|\n",
      "|       2| 2024-05-01 00:07:12|  2024-05-01 00:40:16|              2|        14.11|         1|                 N|         132|           7|           1|       56.9|  1.0|    0.5|       6.0|         0.0|                  1.0|       67.15|                 0.0|       1.75|\n",
      "|       2| 2024-05-01 00:45:41|  2024-05-01 00:56:59|              2|         2.49|         1|                 N|         229|         263|           1|       14.2|  1.0|    0.5|      3.84|         0.0|                  1.0|       23.04|                 2.5|        0.0|\n",
      "+--------+--------------------+---------------------+---------------+-------------+----------+------------------+------------+------------+------------+-----------+-----+-------+----------+------------+---------------------+------------+--------------------+-----------+\n",
      "only showing top 5 rows\n",
      "\n"
     ]
    },
    {
     "name": "stderr",
     "output_type": "stream",
     "text": [
      "                                                                                \r"
     ]
    }
   ],
   "source": [
    "# 필수 열에서 null 값이나 잘못된 값이 있는 행을 제거합니다.\n",
    "df_filtered = df.filter(\n",
    "    (col('tpep_pickup_datetime').isNotNull()) &\n",
    "    (col('tpep_dropoff_datetime').isNotNull()) &\n",
    "    (col('passenger_count') > 0) &\n",
    "    (col('trip_distance') > 0) &\n",
    "    (col('fare_amount') > 0)\n",
    ").filter(\n",
    "    (col('trip_distance') < 100) &\n",
    "    (col('fare_amount') < 500) &\n",
    "    (col('passenger_count') >= 2)\n",
    ").cache()\n",
    "df_filtered.show(5)\n"
   ]
  },
  {
   "cell_type": "code",
   "execution_count": 12,
   "metadata": {},
   "outputs": [
    {
     "data": {
      "text/plain": [
       "688796"
      ]
     },
     "execution_count": 12,
     "metadata": {},
     "output_type": "execute_result"
    }
   ],
   "source": [
    "df_filtered.count()"
   ]
  },
  {
   "cell_type": "markdown",
   "metadata": {},
   "source": [
    "4. 데이터 변환"
   ]
  },
  {
   "cell_type": "code",
   "execution_count": 13,
   "metadata": {},
   "outputs": [
    {
     "name": "stdout",
     "output_type": "stream",
     "text": [
      "+----------+-----------+-----------------+------------------+\n",
      "|      date|total_trips|avg_trip_distance|     total_revenue|\n",
      "+----------+-----------+-----------------+------------------+\n",
      "|2024-05-05|      24881|4.081323499859337| 542075.4700000007|\n",
      "|2024-05-08|      19933|3.983657753474103|456786.17000000156|\n",
      "|2024-05-09|      22364|4.025778036129481|  515127.359999999|\n",
      "+----------+-----------+-----------------+------------------+\n",
      "only showing top 3 rows\n",
      "\n"
     ]
    }
   ],
   "source": [
    "# 1) 필터링: 승객이 두 명 이상인 여행을 필터링합니다.\n",
    "df_filtered = df_filtered.filter(col('passenger_count') >= 2)\n",
    "\n",
    "# 2) 집계: 총 여행 횟수, 평균 여행 거리, 총 수익을 계산합니다.\n",
    "df_aggregated = df_filtered.groupBy(to_date(col(\"tpep_pickup_datetime\")).alias(\"date\")) \\\n",
    "    .agg(\n",
    "        count(\"*\").alias(\"total_trips\"),\n",
    "        avg(\"trip_distance\").alias(\"avg_trip_distance\"),\n",
    "        _sum(\"fare_amount\").alias(\"total_revenue\")\n",
    "    )\n",
    "\n",
    "# 3) 조인 (선택적): 다른 데이터 세트가 있다면 여기에 조인 작업을 추가할 수 있습니다.\n",
    "# 예를 들어, 날씨 데이터와의 조인 작업.\n",
    "\n",
    "df_aggregated.show(3)"
   ]
  },
  {
   "cell_type": "markdown",
   "metadata": {},
   "source": [
    "5. 액션"
   ]
  },
  {
   "cell_type": "code",
   "execution_count": 14,
   "metadata": {},
   "outputs": [
    {
     "name": "stdout",
     "output_type": "stream",
     "text": [
      "[Row(date=datetime.date(2024, 5, 5), total_trips=24881, avg_trip_distance=4.081323499859337, total_revenue=542075.4700000007), Row(date=datetime.date(2024, 5, 8), total_trips=19933, avg_trip_distance=3.983657753474103, total_revenue=456786.17000000156), Row(date=datetime.date(2024, 5, 9), total_trips=22364, avg_trip_distance=4.025778036129481, total_revenue=515127.359999999), Row(date=datetime.date(2024, 5, 10), total_trips=24976, avg_trip_distance=3.7462780269058205, total_revenue=544226.6399999999), Row(date=datetime.date(2024, 5, 1), total_trips=19755, avg_trip_distance=4.100026828650983, total_revenue=454812.7599999967)]\n"
     ]
    }
   ],
   "source": [
    "# 1) 수집: 집계된 데이터의 샘플을 수집합니다.\n",
    "sample_data = df_aggregated.take(5)\n",
    "print(sample_data)\n",
    "\n",
    "# 2) 쓰기: 최종 변환된 DataFrame을 원하는 저장 형식으로 저장합니다.\n",
    "output_path = \"/Users/admin/softeer/week5/output\"\n",
    "df_aggregated.write.mode(\"overwrite\").csv(f\"{output_path}/daily_metrics_df\", header=True)\n",
    "\n"
   ]
  },
  {
   "cell_type": "markdown",
   "metadata": {},
   "source": [
    "6. DAG 최적화"
   ]
  },
  {
   "cell_type": "code",
   "execution_count": 15,
   "metadata": {},
   "outputs": [
    {
     "name": "stdout",
     "output_type": "stream",
     "text": [
      "== Parsed Logical Plan ==\n",
      "'Filter ('passenger_count >= 2)\n",
      "+- Filter (((trip_distance#4 < cast(100 as double)) AND (fare_amount#10 < cast(500 as double))) AND (passenger_count#3L >= cast(2 as bigint)))\n",
      "   +- Filter ((((isnotnull(tpep_pickup_datetime#1) AND isnotnull(tpep_dropoff_datetime#2)) AND (passenger_count#3L > cast(0 as bigint))) AND (trip_distance#4 > cast(0 as double))) AND (fare_amount#10 > cast(0 as double)))\n",
      "      +- Relation [VendorID#0,tpep_pickup_datetime#1,tpep_dropoff_datetime#2,passenger_count#3L,trip_distance#4,RatecodeID#5L,store_and_fwd_flag#6,PULocationID#7,DOLocationID#8,payment_type#9L,fare_amount#10,extra#11,mta_tax#12,tip_amount#13,tolls_amount#14,improvement_surcharge#15,total_amount#16,congestion_surcharge#17,Airport_fee#18] parquet\n",
      "\n",
      "== Analyzed Logical Plan ==\n",
      "VendorID: int, tpep_pickup_datetime: timestamp_ntz, tpep_dropoff_datetime: timestamp_ntz, passenger_count: bigint, trip_distance: double, RatecodeID: bigint, store_and_fwd_flag: string, PULocationID: int, DOLocationID: int, payment_type: bigint, fare_amount: double, extra: double, mta_tax: double, tip_amount: double, tolls_amount: double, improvement_surcharge: double, total_amount: double, congestion_surcharge: double, Airport_fee: double\n",
      "Filter (passenger_count#3L >= cast(2 as bigint))\n",
      "+- Filter (((trip_distance#4 < cast(100 as double)) AND (fare_amount#10 < cast(500 as double))) AND (passenger_count#3L >= cast(2 as bigint)))\n",
      "   +- Filter ((((isnotnull(tpep_pickup_datetime#1) AND isnotnull(tpep_dropoff_datetime#2)) AND (passenger_count#3L > cast(0 as bigint))) AND (trip_distance#4 > cast(0 as double))) AND (fare_amount#10 > cast(0 as double)))\n",
      "      +- Relation [VendorID#0,tpep_pickup_datetime#1,tpep_dropoff_datetime#2,passenger_count#3L,trip_distance#4,RatecodeID#5L,store_and_fwd_flag#6,PULocationID#7,DOLocationID#8,payment_type#9L,fare_amount#10,extra#11,mta_tax#12,tip_amount#13,tolls_amount#14,improvement_surcharge#15,total_amount#16,congestion_surcharge#17,Airport_fee#18] parquet\n",
      "\n",
      "== Optimized Logical Plan ==\n",
      "Filter (isnotnull(passenger_count#3L) AND (passenger_count#3L >= 2))\n",
      "+- InMemoryRelation [VendorID#0, tpep_pickup_datetime#1, tpep_dropoff_datetime#2, passenger_count#3L, trip_distance#4, RatecodeID#5L, store_and_fwd_flag#6, PULocationID#7, DOLocationID#8, payment_type#9L, fare_amount#10, extra#11, mta_tax#12, tip_amount#13, tolls_amount#14, improvement_surcharge#15, total_amount#16, congestion_surcharge#17, Airport_fee#18], StorageLevel(disk, memory, deserialized, 1 replicas)\n",
      "      +- *(1) Filter ((((((((((isnotnull(passenger_count#3L) AND isnotnull(trip_distance#4)) AND isnotnull(fare_amount#10)) AND isnotnull(tpep_pickup_datetime#1)) AND isnotnull(tpep_dropoff_datetime#2)) AND (passenger_count#3L > 0)) AND (trip_distance#4 > 0.0)) AND (fare_amount#10 > 0.0)) AND (trip_distance#4 < 100.0)) AND (fare_amount#10 < 500.0)) AND (passenger_count#3L >= 2))\n",
      "         +- *(1) ColumnarToRow\n",
      "            +- FileScan parquet [VendorID#0,tpep_pickup_datetime#1,tpep_dropoff_datetime#2,passenger_count#3L,trip_distance#4,RatecodeID#5L,store_and_fwd_flag#6,PULocationID#7,DOLocationID#8,payment_type#9L,fare_amount#10,extra#11,mta_tax#12,tip_amount#13,tolls_amount#14,improvement_surcharge#15,total_amount#16,congestion_surcharge#17,Airport_fee#18] Batched: true, DataFilters: [isnotnull(passenger_count#3L), isnotnull(trip_distance#4), isnotnull(fare_amount#10), isnotnull(..., Format: Parquet, Location: InMemoryFileIndex(1 paths)[file:/Users/admin/softeer/week5/yellow_tripdata_2024-05.parquet], PartitionFilters: [], PushedFilters: [IsNotNull(passenger_count), IsNotNull(trip_distance), IsNotNull(fare_amount), IsNotNull(tpep_pic..., ReadSchema: struct<VendorID:int,tpep_pickup_datetime:timestamp_ntz,tpep_dropoff_datetime:timestamp_ntz,passen...\n",
      "\n",
      "== Physical Plan ==\n",
      "AdaptiveSparkPlan isFinalPlan=true\n",
      "+- == Final Plan ==\n",
      "   *(1) Filter (isnotnull(passenger_count#3L) AND (passenger_count#3L >= 2))\n",
      "   +- TableCacheQueryStage 0\n",
      "      +- InMemoryTableScan [VendorID#0, tpep_pickup_datetime#1, tpep_dropoff_datetime#2, passenger_count#3L, trip_distance#4, RatecodeID#5L, store_and_fwd_flag#6, PULocationID#7, DOLocationID#8, payment_type#9L, fare_amount#10, extra#11, mta_tax#12, tip_amount#13, tolls_amount#14, improvement_surcharge#15, total_amount#16, congestion_surcharge#17, Airport_fee#18], [isnotnull(passenger_count#3L), (passenger_count#3L >= 2)]\n",
      "            +- InMemoryRelation [VendorID#0, tpep_pickup_datetime#1, tpep_dropoff_datetime#2, passenger_count#3L, trip_distance#4, RatecodeID#5L, store_and_fwd_flag#6, PULocationID#7, DOLocationID#8, payment_type#9L, fare_amount#10, extra#11, mta_tax#12, tip_amount#13, tolls_amount#14, improvement_surcharge#15, total_amount#16, congestion_surcharge#17, Airport_fee#18], StorageLevel(disk, memory, deserialized, 1 replicas)\n",
      "                  +- *(1) Filter ((((((((((isnotnull(passenger_count#3L) AND isnotnull(trip_distance#4)) AND isnotnull(fare_amount#10)) AND isnotnull(tpep_pickup_datetime#1)) AND isnotnull(tpep_dropoff_datetime#2)) AND (passenger_count#3L > 0)) AND (trip_distance#4 > 0.0)) AND (fare_amount#10 > 0.0)) AND (trip_distance#4 < 100.0)) AND (fare_amount#10 < 500.0)) AND (passenger_count#3L >= 2))\n",
      "                     +- *(1) ColumnarToRow\n",
      "                        +- FileScan parquet [VendorID#0,tpep_pickup_datetime#1,tpep_dropoff_datetime#2,passenger_count#3L,trip_distance#4,RatecodeID#5L,store_and_fwd_flag#6,PULocationID#7,DOLocationID#8,payment_type#9L,fare_amount#10,extra#11,mta_tax#12,tip_amount#13,tolls_amount#14,improvement_surcharge#15,total_amount#16,congestion_surcharge#17,Airport_fee#18] Batched: true, DataFilters: [isnotnull(passenger_count#3L), isnotnull(trip_distance#4), isnotnull(fare_amount#10), isnotnull(..., Format: Parquet, Location: InMemoryFileIndex(1 paths)[file:/Users/admin/softeer/week5/yellow_tripdata_2024-05.parquet], PartitionFilters: [], PushedFilters: [IsNotNull(passenger_count), IsNotNull(trip_distance), IsNotNull(fare_amount), IsNotNull(tpep_pic..., ReadSchema: struct<VendorID:int,tpep_pickup_datetime:timestamp_ntz,tpep_dropoff_datetime:timestamp_ntz,passen...\n",
      "+- == Initial Plan ==\n",
      "   Filter (isnotnull(passenger_count#3L) AND (passenger_count#3L >= 2))\n",
      "   +- InMemoryTableScan [VendorID#0, tpep_pickup_datetime#1, tpep_dropoff_datetime#2, passenger_count#3L, trip_distance#4, RatecodeID#5L, store_and_fwd_flag#6, PULocationID#7, DOLocationID#8, payment_type#9L, fare_amount#10, extra#11, mta_tax#12, tip_amount#13, tolls_amount#14, improvement_surcharge#15, total_amount#16, congestion_surcharge#17, Airport_fee#18], [isnotnull(passenger_count#3L), (passenger_count#3L >= 2)]\n",
      "         +- InMemoryRelation [VendorID#0, tpep_pickup_datetime#1, tpep_dropoff_datetime#2, passenger_count#3L, trip_distance#4, RatecodeID#5L, store_and_fwd_flag#6, PULocationID#7, DOLocationID#8, payment_type#9L, fare_amount#10, extra#11, mta_tax#12, tip_amount#13, tolls_amount#14, improvement_surcharge#15, total_amount#16, congestion_surcharge#17, Airport_fee#18], StorageLevel(disk, memory, deserialized, 1 replicas)\n",
      "               +- *(1) Filter ((((((((((isnotnull(passenger_count#3L) AND isnotnull(trip_distance#4)) AND isnotnull(fare_amount#10)) AND isnotnull(tpep_pickup_datetime#1)) AND isnotnull(tpep_dropoff_datetime#2)) AND (passenger_count#3L > 0)) AND (trip_distance#4 > 0.0)) AND (fare_amount#10 > 0.0)) AND (trip_distance#4 < 100.0)) AND (fare_amount#10 < 500.0)) AND (passenger_count#3L >= 2))\n",
      "                  +- *(1) ColumnarToRow\n",
      "                     +- FileScan parquet [VendorID#0,tpep_pickup_datetime#1,tpep_dropoff_datetime#2,passenger_count#3L,trip_distance#4,RatecodeID#5L,store_and_fwd_flag#6,PULocationID#7,DOLocationID#8,payment_type#9L,fare_amount#10,extra#11,mta_tax#12,tip_amount#13,tolls_amount#14,improvement_surcharge#15,total_amount#16,congestion_surcharge#17,Airport_fee#18] Batched: true, DataFilters: [isnotnull(passenger_count#3L), isnotnull(trip_distance#4), isnotnull(fare_amount#10), isnotnull(..., Format: Parquet, Location: InMemoryFileIndex(1 paths)[file:/Users/admin/softeer/week5/yellow_tripdata_2024-05.parquet], PartitionFilters: [], PushedFilters: [IsNotNull(passenger_count), IsNotNull(trip_distance), IsNotNull(fare_amount), IsNotNull(tpep_pic..., ReadSchema: struct<VendorID:int,tpep_pickup_datetime:timestamp_ntz,tpep_dropoff_datetime:timestamp_ntz,passen...\n",
      "\n",
      "+--------+--------------------+---------------------+---------------+-------------+----------+------------------+------------+------------+------------+-----------+-----+-------+----------+------------+---------------------+------------+--------------------+-----------+\n",
      "|VendorID|tpep_pickup_datetime|tpep_dropoff_datetime|passenger_count|trip_distance|RatecodeID|store_and_fwd_flag|PULocationID|DOLocationID|payment_type|fare_amount|extra|mta_tax|tip_amount|tolls_amount|improvement_surcharge|total_amount|congestion_surcharge|Airport_fee|\n",
      "+--------+--------------------+---------------------+---------------+-------------+----------+------------------+------------+------------+------------+-----------+-----+-------+----------+------------+---------------------+------------+--------------------+-----------+\n",
      "|       1| 2024-05-01 00:08:30|  2024-05-01 00:21:42|              2|          2.7|         1|                 N|         231|          68|           1|       15.6|  3.5|    0.5|       4.1|         0.0|                  1.0|        24.7|                 2.5|        0.0|\n",
      "|       2| 2024-05-01 00:10:15|  2024-05-01 00:51:21|              2|        19.36|         1|                 N|         132|          89|           1|       76.5|  1.0|    0.5|       6.0|         0.0|                  1.0|       86.75|                 0.0|       1.75|\n",
      "+--------+--------------------+---------------------+---------------+-------------+----------+------------------+------------+------------+------------+-----------+-----+-------+----------+------------+---------------------+------------+--------------------+-----------+\n",
      "only showing top 2 rows\n",
      "\n"
     ]
    }
   ],
   "source": [
    "# 동일한 DataFrame에서 반복되는 작업을 최적화하기 위해 cache()를 사용합니다.\n",
    "df_filtered = df_filtered\n",
    "df_filtered.collect()\n",
    "\n",
    "# 변환 후 최적화된 실행 계획을 확인하려면, 다음과 같은 코드를 사용할 수 있습니다.\n",
    "df_filtered.explain(True)\n",
    "df_filtered.show(2)"
   ]
  },
  {
   "cell_type": "markdown",
   "metadata": {},
   "source": [
    "7. 지연 평가"
   ]
  },
  {
   "cell_type": "code",
   "execution_count": 16,
   "metadata": {},
   "outputs": [
    {
     "name": "stdout",
     "output_type": "stream",
     "text": [
      "+--------+--------------------+---------------------+---------------+-------------+----------+------------------+------------+------------+------------+-----------+-----+-------+----------+------------+---------------------+------------+--------------------+-----------+----------+\n",
      "|VendorID|tpep_pickup_datetime|tpep_dropoff_datetime|passenger_count|trip_distance|RatecodeID|store_and_fwd_flag|PULocationID|DOLocationID|payment_type|fare_amount|extra|mta_tax|tip_amount|tolls_amount|improvement_surcharge|total_amount|congestion_surcharge|Airport_fee|new_column|\n",
      "+--------+--------------------+---------------------+---------------+-------------+----------+------------------+------------+------------+------------+-----------+-----+-------+----------+------------+---------------------+------------+--------------------+-----------+----------+\n",
      "|       1| 2024-05-01 00:08:30|  2024-05-01 00:21:42|              2|          2.7|         1|                 N|         231|          68|           1|       15.6|  3.5|    0.5|       4.1|         0.0|                  1.0|        24.7|                 2.5|        0.0|       5.4|\n",
      "|       2| 2024-05-01 00:10:15|  2024-05-01 00:51:21|              2|        19.36|         1|                 N|         132|          89|           1|       76.5|  1.0|    0.5|       6.0|         0.0|                  1.0|       86.75|                 0.0|       1.75|     38.72|\n",
      "|       2| 2024-05-01 00:15:35|  2024-05-01 00:24:39|              2|         1.72|         1|                 N|         151|          42|           1|       11.4|  1.0|    0.5|      2.78|         0.0|                  1.0|       16.68|                 0.0|        0.0|      3.44|\n",
      "|       2| 2024-05-01 00:07:12|  2024-05-01 00:40:16|              2|        14.11|         1|                 N|         132|           7|           1|       56.9|  1.0|    0.5|       6.0|         0.0|                  1.0|       67.15|                 0.0|       1.75|     28.22|\n",
      "|       2| 2024-05-01 00:45:41|  2024-05-01 00:56:59|              2|         2.49|         1|                 N|         229|         263|           1|       14.2|  1.0|    0.5|      3.84|         0.0|                  1.0|       23.04|                 2.5|        0.0|      4.98|\n",
      "+--------+--------------------+---------------------+---------------+-------------+----------+------------------+------------+------------+------------+-----------+-----+-------+----------+------------+---------------------+------------+--------------------+-----------+----------+\n",
      "only showing top 5 rows\n",
      "\n"
     ]
    }
   ],
   "source": [
    "# 지연 평가를 설명하기 위한 예시:\n",
    "# 이 코드는 실제로 변환을 실행하지 않으며, 동작이 호출될 때까지 계산되지 않습니다.\n",
    "df_lazy = df_filtered.withColumn(\"new_column\", col(\"trip_distance\") * 2)\n",
    "\n",
    "# 동작이 호출될 때 변환이 실행됩니다.\n",
    "df_lazy.show(5)\n"
   ]
  },
  {
   "cell_type": "markdown",
   "metadata": {},
   "source": [
    "8. 결과 저장"
   ]
  },
  {
   "cell_type": "code",
   "execution_count": 17,
   "metadata": {},
   "outputs": [],
   "source": [
    "output_path = \"/Users/admin/softeer/week5/output\"\n",
    "df_aggregated.write.mode(\"overwrite\").csv(f\"{output_path}/daily_metrics_df\", header=True)\n"
   ]
  },
  {
   "cell_type": "code",
   "execution_count": null,
   "metadata": {},
   "outputs": [],
   "source": []
  }
 ],
 "metadata": {
  "kernelspec": {
   "display_name": "Python 3 (ipykernel)",
   "language": "python",
   "name": "python3"
  },
  "language_info": {
   "codemirror_mode": {
    "name": "ipython",
    "version": 3
   },
   "file_extension": ".py",
   "mimetype": "text/x-python",
   "name": "python",
   "nbconvert_exporter": "python",
   "pygments_lexer": "ipython3",
   "version": "3.12.4"
  }
 },
 "nbformat": 4,
 "nbformat_minor": 2
}
